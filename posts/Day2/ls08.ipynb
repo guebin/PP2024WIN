{
 "cells": [
  {
   "cell_type": "raw",
   "id": "74b2cc2c-05d9-47f4-8dcb-ab38dc86549e",
   "metadata": {},
   "source": [
    "---\n",
    "title: \"Lesson 08: pandas II\"\n",
    "author: \"최규빈\"\n",
    "date: \"07/24/2023\"\n",
    "---"
   ]
  },
  {
   "cell_type": "markdown",
   "id": "01d18c89-88d5-411b-b01c-5e792e61e0db",
   "metadata": {},
   "source": [
    "<a href=\"https://colab.research.google.com/github/guebin/PP2024WIN/blob/main/posts/Day2/ls08.ipynb\"><img src=\"https://colab.research.google.com/assets/colab-badge.svg\" style=\"text-align: left\"></a>"
   ]
  },
  {
   "cell_type": "markdown",
   "id": "ddb02b04-8596-4fab-abcc-2875ae9a3e0c",
   "metadata": {},
   "source": [
    "# imports "
   ]
  },
  {
   "cell_type": "code",
   "execution_count": 1,
   "id": "619b89e5-207c-4773-854e-cb14fd20ff01",
   "metadata": {
    "tags": []
   },
   "outputs": [],
   "source": [
    "import pandas as pd"
   ]
  },
  {
   "cell_type": "markdown",
   "id": "3a3702ac-93fc-4273-811a-4c5d6867edad",
   "metadata": {
    "tags": []
   },
   "source": [
    "# 예비학습 "
   ]
  },
  {
   "cell_type": "markdown",
   "id": "29709a1d-21df-4764-814c-678e65a6e1d5",
   "metadata": {
    "tags": []
   },
   "source": [
    "## lambda"
   ]
  },
  {
   "cell_type": "markdown",
   "id": "a226d022-f360-4f3d-9ef5-95c0ae6dca08",
   "metadata": {},
   "source": [
    "`-` 예제1: 람다표현식(lambda expression)자체가 하나의 오브젝트임 "
   ]
  },
  {
   "cell_type": "code",
   "execution_count": 9,
   "id": "e291578c-85f1-41ad-a8ac-70d07649fcd0",
   "metadata": {
    "tags": [],
    "vscode": {
     "languageId": "python"
    }
   },
   "outputs": [
    {
     "data": {
      "text/plain": [
       "<function __main__.<lambda>(x)>"
      ]
     },
     "execution_count": 9,
     "metadata": {},
     "output_type": "execute_result"
    }
   ],
   "source": [
    "lambda x: (x-2)**2 ### lambda x: (x-2)**2 가 실행되는 순간 메모리상에 함수 오브젝트가 저장됨 "
   ]
  },
  {
   "cell_type": "markdown",
   "id": "22cbf4ea-1ad3-43c5-bdeb-f9ad88e1fa7c",
   "metadata": {},
   "source": [
    "**(사용방법)**"
   ]
  },
  {
   "cell_type": "code",
   "execution_count": 128,
   "id": "b15274da-e06f-4434-902e-ee4c00341331",
   "metadata": {
    "vscode": {
     "languageId": "python"
    }
   },
   "outputs": [
    {
     "data": {
      "text/plain": [
       "0"
      ]
     },
     "execution_count": 128,
     "metadata": {},
     "output_type": "execute_result"
    }
   ],
   "source": [
    "(lambda x: (x-2)**2)(2) # 입력2 -> 출력 (2-2)^2 =0 "
   ]
  },
  {
   "cell_type": "code",
   "execution_count": 129,
   "id": "947ebec2-1d04-4871-9e40-d777f1275f09",
   "metadata": {
    "vscode": {
     "languageId": "python"
    }
   },
   "outputs": [
    {
     "data": {
      "text/plain": [
       "9"
      ]
     },
     "execution_count": 129,
     "metadata": {},
     "output_type": "execute_result"
    }
   ],
   "source": [
    "(lambda x: (x-2)**2)(5) # 입력5 -> 출력 (5-2)^2 =9"
   ]
  },
  {
   "cell_type": "code",
   "execution_count": 130,
   "id": "eedc743d-93b3-4268-acf4-b1cb1f2ec2f2",
   "metadata": {
    "vscode": {
     "languageId": "python"
    }
   },
   "outputs": [
    {
     "data": {
      "text/plain": [
       "16"
      ]
     },
     "execution_count": 130,
     "metadata": {},
     "output_type": "execute_result"
    }
   ],
   "source": [
    "(lambda x: (x-2)**2)(6) # 입력6 -> 출력 (6-2)^2 =16"
   ]
  },
  {
   "cell_type": "code",
   "execution_count": 131,
   "id": "8d9b32e5-5bc3-4536-816d-cb1b5596c16f",
   "metadata": {
    "vscode": {
     "languageId": "python"
    }
   },
   "outputs": [
    {
     "data": {
      "text/plain": [
       "16"
      ]
     },
     "execution_count": 131,
     "metadata": {},
     "output_type": "execute_result"
    }
   ],
   "source": [
    "(lambda x: (x-2)**2)(-2) # 입력-2 -> 출력 (-2-2)^2 =16"
   ]
  },
  {
   "cell_type": "markdown",
   "id": "e4164cd4-3c8b-4f6b-ba00-7a7ca1ef7ced",
   "metadata": {},
   "source": [
    "**quiz**"
   ]
  },
  {
   "cell_type": "markdown",
   "id": "035b2a6c-9a95-4880-ab23-b449b90a7dd0",
   "metadata": {},
   "source": [
    "$f(x)=\\sqrt{x}$ 를 수행하는 함수를 lambda를 이용하여 구성하라. "
   ]
  },
  {
   "cell_type": "code",
   "execution_count": 136,
   "id": "0efb0bc4-254c-4b32-9b5d-a855b60b0df5",
   "metadata": {},
   "outputs": [
    {
     "data": {
      "text/plain": [
       "1.4142135623730951"
      ]
     },
     "execution_count": 136,
     "metadata": {},
     "output_type": "execute_result"
    }
   ],
   "source": [
    "(lambda x: np.sqrt(x))(2)"
   ]
  },
  {
   "cell_type": "markdown",
   "id": "1e1ecf42-02ae-48ad-955a-8ac55c10eece",
   "metadata": {},
   "source": [
    "`-` 예제2: 람다표현식에 이름을 줄 수 있음. "
   ]
  },
  {
   "cell_type": "code",
   "execution_count": 137,
   "id": "2bd9ff0f-ff16-4e42-aab1-7196f68819e4",
   "metadata": {
    "vscode": {
     "languageId": "python"
    }
   },
   "outputs": [],
   "source": [
    "f = lambda x: (x-2)**2"
   ]
  },
  {
   "cell_type": "code",
   "execution_count": 138,
   "id": "9b263db6-2835-43ad-be85-d99f8b3eefa8",
   "metadata": {
    "vscode": {
     "languageId": "python"
    }
   },
   "outputs": [
    {
     "data": {
      "text/plain": [
       "(0, 4, 16, 16)"
      ]
     },
     "execution_count": 138,
     "metadata": {},
     "output_type": "execute_result"
    }
   ],
   "source": [
    "f(2),f(4),f(6),f(-2)"
   ]
  },
  {
   "cell_type": "markdown",
   "id": "9745ffc9-85ca-4d82-a0de-7fa5a3380b4b",
   "metadata": {},
   "source": [
    "위의 코드는 아래와 같다. "
   ]
  },
  {
   "cell_type": "code",
   "execution_count": 139,
   "id": "72508091-6876-4f15-8dab-48cd389c1253",
   "metadata": {
    "vscode": {
     "languageId": "python"
    }
   },
   "outputs": [
    {
     "data": {
      "text/plain": [
       "(0, 4, 16, 16)"
      ]
     },
     "execution_count": 139,
     "metadata": {},
     "output_type": "execute_result"
    }
   ],
   "source": [
    "def f(x):\n",
    "    return (x-2)**2\n",
    "f(2),f(4),f(6),f(-2)"
   ]
  },
  {
   "cell_type": "markdown",
   "id": "eaa5cafa-d754-45fe-ac3d-60d58283e15f",
   "metadata": {},
   "source": [
    "`-` 예제3: 조건부 출력"
   ]
  },
  {
   "cell_type": "code",
   "execution_count": 21,
   "id": "da82b05a-215a-46df-9ac8-1ff2ddfd0049",
   "metadata": {
    "tags": [],
    "vscode": {
     "languageId": "python"
    }
   },
   "outputs": [],
   "source": [
    "f = lambda x,y: x if x>y else y # x,y가 입력 -> x>y 일때만 x를 리턴하고 그렇지않으면 y를 리턴 = 큰값을 리턴하라는 소리임 "
   ]
  },
  {
   "cell_type": "code",
   "execution_count": 22,
   "id": "317448da-ca69-4bd8-a163-787979ed9720",
   "metadata": {
    "tags": [],
    "vscode": {
     "languageId": "python"
    }
   },
   "outputs": [
    {
     "data": {
      "text/plain": [
       "20"
      ]
     },
     "execution_count": 22,
     "metadata": {},
     "output_type": "execute_result"
    }
   ],
   "source": [
    "f(1,20)"
   ]
  },
  {
   "cell_type": "markdown",
   "id": "315b02bc-b234-4537-a7f9-4d168f8cab80",
   "metadata": {},
   "source": [
    "**quiz**"
   ]
  },
  {
   "cell_type": "markdown",
   "id": "bc3d04d4-e0c1-475a-8616-233938981fa0",
   "metadata": {},
   "source": [
    "임의의 알파벳 문자열을 입력으로 하고, 알파벳이 대문자이면 \"대문자 입니다\"를 리턴하고 소문자이면 \"소문자 입니다\"를 리턴하는 함수를 구성하라. "
   ]
  },
  {
   "cell_type": "markdown",
   "id": "3e2a3390-93c2-4839-943c-81ab45a3a851",
   "metadata": {},
   "source": [
    "(힌트) 아래코드 이용 "
   ]
  },
  {
   "cell_type": "code",
   "execution_count": 25,
   "id": "c60a1e4b-47f1-43df-a44c-79a766f861a5",
   "metadata": {
    "tags": []
   },
   "outputs": [
    {
     "data": {
      "text/plain": [
       "'대문자'"
      ]
     },
     "execution_count": 25,
     "metadata": {},
     "output_type": "execute_result"
    }
   ],
   "source": [
    "(lambda x: \"대문자\" if x.isupper() else \"소문자\")('A')"
   ]
  },
  {
   "cell_type": "markdown",
   "id": "3f145c84-cc8b-440e-b931-25f9900befae",
   "metadata": {},
   "source": [
    "`-` 예제4: 람다표현식들의 리스트 "
   ]
  },
  {
   "cell_type": "code",
   "execution_count": 33,
   "id": "3e531dda-c7dd-4efb-a0bd-6b05de2273bc",
   "metadata": {
    "tags": [],
    "vscode": {
     "languageId": "python"
    }
   },
   "outputs": [],
   "source": [
    "fl = [lambda x: x, lambda x: x**2, lambda x: x**3]"
   ]
  },
  {
   "cell_type": "code",
   "execution_count": 34,
   "id": "af682b82-2663-4d8b-a1b9-0057c8b641e3",
   "metadata": {
    "tags": [],
    "vscode": {
     "languageId": "python"
    }
   },
   "outputs": [
    {
     "name": "stdout",
     "output_type": "stream",
     "text": [
      "2\n",
      "4\n",
      "8\n"
     ]
    }
   ],
   "source": [
    "for f in fl: \n",
    "    print(f(2))"
   ]
  },
  {
   "cell_type": "code",
   "execution_count": 43,
   "id": "ea914917-0953-43b3-996c-bca0946f4119",
   "metadata": {
    "tags": [],
    "vscode": {
     "languageId": "python"
    }
   },
   "outputs": [
    {
     "data": {
      "image/png": "[encoded data removed]",
      "text/plain": [
       "<Figure size 640x480 with 1 Axes>"
      ]
     },
     "metadata": {},
     "output_type": "display_data"
    }
   ],
   "source": [
    "x = np.linspace(-1,1,100)\n",
    "for f in fl:\n",
    "    plt.plot(x,f(x),'--') "
   ]
  },
  {
   "cell_type": "markdown",
   "id": "5306a08a-ad6d-4909-9f0e-8abedc91ac75",
   "metadata": {},
   "source": [
    "`-` 예제5: 람다표현식들의 딕셔너리 "
   ]
  },
  {
   "cell_type": "code",
   "execution_count": 50,
   "id": "0c0e39e5-8715-4eea-a881-f00a852f87d8",
   "metadata": {
    "tags": [],
    "vscode": {
     "languageId": "python"
    }
   },
   "outputs": [
    {
     "data": {
      "text/plain": [
       "{'f1': <function __main__.<lambda>(x)>,\n",
       " 'f2': <function __main__.<lambda>(x)>,\n",
       " 'f3': <function __main__.<lambda>(x)>}"
      ]
     },
     "execution_count": 50,
     "metadata": {},
     "output_type": "execute_result"
    }
   ],
   "source": [
    "fd = {'f1':lambda x: x, 'f2':lambda x: x**2, 'f3':lambda x: x**3}\n",
    "fd"
   ]
  },
  {
   "cell_type": "code",
   "execution_count": 51,
   "id": "9a4c2180-d2fe-4772-95ba-b24e0e3879b2",
   "metadata": {
    "tags": [],
    "vscode": {
     "languageId": "python"
    }
   },
   "outputs": [
    {
     "data": {
      "image/png": "[encoded data removed]",
      "text/plain": [
       "<Figure size 640x480 with 1 Axes>"
      ]
     },
     "metadata": {},
     "output_type": "display_data"
    }
   ],
   "source": [
    "for k in fd:\n",
    "    plt.plot(x,fd[k](x),'--')"
   ]
  },
  {
   "cell_type": "markdown",
   "id": "3b1f4fd3-7361-42b6-9274-5591fdf519bb",
   "metadata": {},
   "source": [
    "`-` 예제6: 람다표현식을 리턴하는 함수 (함수를 리턴하는 함수) "
   ]
  },
  {
   "cell_type": "markdown",
   "id": "1ac3ab38-5cfb-4636-87ed-300c5d5d75c6",
   "metadata": {},
   "source": [
    "(예비학습) 함수 $g(x)$가 정의되어 있을때 $\\frac{d}{dx}g(x)$의 값을 계산해보기 "
   ]
  },
  {
   "cell_type": "code",
   "execution_count": 52,
   "id": "5ddd9d6f-a78c-4f39-8cd5-d7958be59373",
   "metadata": {
    "tags": [],
    "vscode": {
     "languageId": "python"
    }
   },
   "outputs": [],
   "source": [
    "g = lambda x: x**2 "
   ]
  },
  {
   "cell_type": "markdown",
   "id": "d9e158ad-d67e-4c1a-8641-ea4dce2c3a51",
   "metadata": {},
   "source": [
    "$g(x)=x^2$"
   ]
  },
  {
   "cell_type": "markdown",
   "id": "4076df60-280f-4feb-9b98-0828931bdd6b",
   "metadata": {},
   "source": [
    "$$g'(x)=gg(x)=2x\\approx \\frac{g(x+0.001)-g(x)}{0.001}$$"
   ]
  },
  {
   "cell_type": "code",
   "execution_count": 209,
   "id": "b9588681-1ec1-4ca4-bc48-5e14c1e1d68b",
   "metadata": {
    "vscode": {
     "languageId": "python"
    }
   },
   "outputs": [],
   "source": [
    "gg = lambda x : (g(x+0.001)-g(x))/0.001"
   ]
  },
  {
   "cell_type": "code",
   "execution_count": 210,
   "id": "a722fcbe-bb0c-4681-b465-3fbc4ee26a0a",
   "metadata": {
    "vscode": {
     "languageId": "python"
    }
   },
   "outputs": [
    {
     "data": {
      "text/plain": [
       "8.0010000000037"
      ]
     },
     "execution_count": 210,
     "metadata": {},
     "output_type": "execute_result"
    }
   ],
   "source": [
    "gg(4)"
   ]
  },
  {
   "cell_type": "markdown",
   "id": "7fd45a20-fe8d-4c4c-9fd4-25cf61ba77e8",
   "metadata": {},
   "source": [
    "(목표) 도함수를 구해주는 `derivate` 함수를 정의하자. 이 함수는 임의의 함수 g를 입력으로 받으면, g의 도함수(gg)가 리턴되는 기능을 가진다. "
   ]
  },
  {
   "cell_type": "code",
   "execution_count": 71,
   "id": "aa0db716-b85e-491d-8523-d10e5fc5eab8",
   "metadata": {
    "tags": []
   },
   "outputs": [],
   "source": [
    "derivate = lambda g: (lambda x : (g(x+0.001)-g(x))/0.001)"
   ]
  },
  {
   "cell_type": "markdown",
   "id": "4daedd50-0f83-43e0-a0e3-ebf8cb535301",
   "metadata": {},
   "source": [
    "(사용1)"
   ]
  },
  {
   "cell_type": "code",
   "execution_count": 86,
   "id": "48551498-e8a4-4ee7-8efc-5c34a3d7af0e",
   "metadata": {
    "tags": [],
    "vscode": {
     "languageId": "python"
    }
   },
   "outputs": [],
   "source": [
    "x = np.linspace(0,6.28,1000) "
   ]
  },
  {
   "cell_type": "code",
   "execution_count": 87,
   "id": "1102b67f-9435-4059-b9c2-0fedbe402e63",
   "metadata": {
    "tags": []
   },
   "outputs": [],
   "source": [
    "g = lambda x: np.sin(x)"
   ]
  },
  {
   "cell_type": "code",
   "execution_count": 88,
   "id": "e3a7ec07-3179-495d-bcb7-3f5e0aa4a0ee",
   "metadata": {
    "tags": [],
    "vscode": {
     "languageId": "python"
    }
   },
   "outputs": [],
   "source": [
    "gg = derivate(g) "
   ]
  },
  {
   "cell_type": "code",
   "execution_count": 89,
   "id": "3318f5d8-8ef9-487c-a2a9-4c60a76eaf07",
   "metadata": {
    "tags": [],
    "vscode": {
     "languageId": "python"
    }
   },
   "outputs": [
    {
     "data": {
      "text/plain": [
       "<matplotlib.legend.Legend at 0x7f95c2726cb0>"
      ]
     },
     "execution_count": 89,
     "metadata": {},
     "output_type": "execute_result"
    },
    {
     "data": {
      "image/png": "[encoded data removed]",
      "text/plain": [
       "<Figure size 640x480 with 1 Axes>"
      ]
     },
     "metadata": {},
     "output_type": "display_data"
    }
   ],
   "source": [
    "plt.plot(x,g(x),label=r'$g(x)=sin(x)$')\n",
    "plt.plot(x,gg(x),label=r'$\\frac{d}{dx}g(x)=cos(x)$')\n",
    "plt.legend(fontsize=15)"
   ]
  },
  {
   "cell_type": "markdown",
   "id": "49d93f3f-ebc4-4268-932f-48c6602bf255",
   "metadata": {},
   "source": [
    "(사용2)"
   ]
  },
  {
   "cell_type": "code",
   "execution_count": 90,
   "id": "0f364b59-9d1e-4e9c-8692-5e03abc73bcc",
   "metadata": {
    "tags": [],
    "vscode": {
     "languageId": "python"
    }
   },
   "outputs": [],
   "source": [
    "g0 = lambda x: (1/6)*x**3\n",
    "g1 = derivate(g0) # (1/2)x^2 \n",
    "g2 = derivate(g1) # x "
   ]
  },
  {
   "cell_type": "code",
   "execution_count": 91,
   "id": "038052fb-42fe-4ce2-a3ca-f71bb8d4b523",
   "metadata": {
    "tags": [],
    "vscode": {
     "languageId": "python"
    }
   },
   "outputs": [
    {
     "data": {
      "text/plain": [
       "<matplotlib.legend.Legend at 0x7f95c2f5cf10>"
      ]
     },
     "execution_count": 91,
     "metadata": {},
     "output_type": "execute_result"
    },
    {
     "data": {
      "image/png": "[encoded data removed]",
      "text/plain": [
       "<Figure size 640x480 with 1 Axes>"
      ]
     },
     "metadata": {},
     "output_type": "display_data"
    }
   ],
   "source": [
    "x = np.linspace(-1,1,100)\n",
    "plt.plot(x,g0(x),'--',label=r'$g_0(x)=\\frac{1}{6}x^3$')\n",
    "plt.plot(x,g1(x),'--',label=r'$g_1(x)=\\frac{1}{2}x^2$')\n",
    "plt.plot(x,g2(x),'--',label=r'$g_2(x)=x$')\n",
    "plt.legend(fontsize=15)"
   ]
  },
  {
   "cell_type": "markdown",
   "id": "c8ad77e7-d831-4108-9793-dde2d0df4a73",
   "metadata": {},
   "source": [
    "`-` 예제7: 예제6의 다른표현 "
   ]
  },
  {
   "cell_type": "code",
   "execution_count": 237,
   "id": "9985d3b8-9fea-4bc3-9325-174959afab37",
   "metadata": {
    "vscode": {
     "languageId": "python"
    }
   },
   "outputs": [],
   "source": [
    "derivate = lambda g: lambda x : (g(x+0.001)-g(x))/0.001"
   ]
  },
  {
   "cell_type": "markdown",
   "id": "149239ee-f3ea-4e44-ae8c-4d4bedde36ec",
   "metadata": {},
   "source": [
    "(사용1)"
   ]
  },
  {
   "cell_type": "code",
   "execution_count": 238,
   "id": "c2d075c0-6fda-43c0-b55e-668907f96a19",
   "metadata": {
    "vscode": {
     "languageId": "python"
    }
   },
   "outputs": [],
   "source": [
    "g = lambda x: np.sin(x) "
   ]
  },
  {
   "cell_type": "code",
   "execution_count": 239,
   "id": "04bc1228-17b4-4a25-bf98-c9ef4a2ab919",
   "metadata": {
    "vscode": {
     "languageId": "python"
    }
   },
   "outputs": [],
   "source": [
    "gg = derivate(g) "
   ]
  },
  {
   "cell_type": "code",
   "execution_count": 240,
   "id": "96bf7065-3f5d-4739-85ec-0c1d93ef0884",
   "metadata": {
    "vscode": {
     "languageId": "python"
    }
   },
   "outputs": [],
   "source": [
    "x = np.linspace(0,6.28,1000) "
   ]
  },
  {
   "cell_type": "code",
   "execution_count": 241,
   "id": "5476fb38-22be-41b1-8107-88bb3978b021",
   "metadata": {
    "vscode": {
     "languageId": "python"
    }
   },
   "outputs": [
    {
     "data": {
      "text/plain": [
       "<matplotlib.legend.Legend at 0x7f43af4b67d0>"
      ]
     },
     "execution_count": 241,
     "metadata": {},
     "output_type": "execute_result"
    },
    {
     "data": {
      "image/png": "[encoded data removed]",
      "text/plain": [
       "<Figure size 640x480 with 1 Axes>"
      ]
     },
     "metadata": {},
     "output_type": "display_data"
    }
   ],
   "source": [
    "plt.plot(x,g(x),label=r'$f(x)=sin(x)$')\n",
    "plt.plot(x,gg(x),label=r'$\\frac{d}{dx}f(x)=cos(x)$')\n",
    "plt.legend(fontsize=15)"
   ]
  },
  {
   "cell_type": "markdown",
   "id": "980bc4ef-4983-443f-bb19-b16f3303aa2b",
   "metadata": {},
   "source": [
    "(사용2)"
   ]
  },
  {
   "cell_type": "code",
   "execution_count": 235,
   "id": "cf57b61f-0571-4ad3-981a-134f9ccfcba6",
   "metadata": {
    "vscode": {
     "languageId": "python"
    }
   },
   "outputs": [],
   "source": [
    "g0 = lambda x: (1/6)*x**3\n",
    "g1 = derivate(g0) # (1/2)x^2 \n",
    "g2 = derivate(g1) # x "
   ]
  },
  {
   "cell_type": "code",
   "execution_count": 236,
   "id": "c97edf89-22f2-4c26-be4a-e488d07e77ed",
   "metadata": {
    "vscode": {
     "languageId": "python"
    }
   },
   "outputs": [
    {
     "data": {
      "text/plain": [
       "<matplotlib.legend.Legend at 0x7f43af404fa0>"
      ]
     },
     "execution_count": 236,
     "metadata": {},
     "output_type": "execute_result"
    },
    {
     "data": {
      "image/png": "[encoded data removed]",
      "text/plain": [
       "<Figure size 640x480 with 1 Axes>"
      ]
     },
     "metadata": {},
     "output_type": "display_data"
    }
   ],
   "source": [
    "x = np.linspace(-1,1,100)\n",
    "plt.plot(x,g0(x),'--',label=r'$g_0(x)=\\frac{1}{6}x^3$')\n",
    "plt.plot(x,g1(x),'--',label=r'$g_1(x)=\\frac{1}{2}x^2$')\n",
    "plt.plot(x,g2(x),'--',label=r'$g_2(x)=x$')\n",
    "plt.legend(fontsize=15)"
   ]
  },
  {
   "cell_type": "markdown",
   "id": "c38fab00-c277-4325-8a6d-e96330b831f3",
   "metadata": {
    "tags": []
   },
   "source": [
    "## map"
   ]
  },
  {
   "cell_type": "markdown",
   "id": "2bf8e3e4-2b79-4d2c-adfe-1ee9ba0eb5ad",
   "metadata": {},
   "source": [
    "`-` 개념: $\\text{map}\\left(f,[x_1,x_2,\\dots,x_n] \\right)=\\left[f(x_1),f(x_2),\\dots,f(x_n) \\right] $"
   ]
  },
  {
   "cell_type": "markdown",
   "id": "1476ccc7-f005-42db-87b1-de51f7ab5d16",
   "metadata": {},
   "source": [
    "`-` 예제1: "
   ]
  },
  {
   "cell_type": "code",
   "execution_count": 98,
   "id": "ca211071-629a-485c-b0fd-297bd0304921",
   "metadata": {
    "tags": [],
    "vscode": {
     "languageId": "python"
    }
   },
   "outputs": [
    {
     "data": {
      "text/plain": [
       "([1, 2, 3], [2, 3, 4])"
      ]
     },
     "execution_count": 98,
     "metadata": {},
     "output_type": "execute_result"
    }
   ],
   "source": [
    "x = [1,2,3] \n",
    "f = lambda x: x+1\n",
    "y = list(map(f,x))\n",
    "x,y"
   ]
  },
  {
   "cell_type": "markdown",
   "id": "40944bed-2269-477f-b8c6-1227ab25f9ae",
   "metadata": {},
   "source": [
    "**quiz**"
   ]
  },
  {
   "cell_type": "markdown",
   "id": "d1bc6279-5b94-4895-8a25-a45ff541ed12",
   "metadata": {},
   "source": [
    "$x=[1,2,3,4,5]$에 대하여 $x^2$을 수행하는 함수를 구현하라. "
   ]
  },
  {
   "cell_type": "code",
   "execution_count": 100,
   "id": "c42a7fe4-347c-456e-bf68-778365300fa9",
   "metadata": {
    "tags": []
   },
   "outputs": [
    {
     "data": {
      "text/plain": [
       "[1, 4, 9, 16, 25]"
      ]
     },
     "execution_count": 100,
     "metadata": {},
     "output_type": "execute_result"
    }
   ],
   "source": [
    "list(map(lambda x: x**2 ,[1,2,3,4,5]))"
   ]
  },
  {
   "cell_type": "markdown",
   "id": "3f8f8a09-5973-46c7-9702-a948816164e5",
   "metadata": {},
   "source": [
    "`-` 예제2: 문자열을 입력으로 받고 대문자이면 True, 소문자이면 False \n",
    "```\n",
    "입력: A,B,C,a,b,c\n",
    "출력: T,T,T,F,F,F\n",
    "```"
   ]
  },
  {
   "cell_type": "code",
   "execution_count": 102,
   "id": "b417d968-8d69-4664-8d50-69ae91a8d9bf",
   "metadata": {
    "tags": []
   },
   "outputs": [
    {
     "data": {
      "text/plain": [
       "[True, True, True, False, False, False]"
      ]
     },
     "execution_count": 102,
     "metadata": {},
     "output_type": "execute_result"
    }
   ],
   "source": [
    "list(map(lambda x: x.isupper(), ['A','B','C','a','b','c']))"
   ]
  },
  {
   "cell_type": "markdown",
   "id": "c92b501b-be15-46d5-b734-ef16f8d7873f",
   "metadata": {},
   "source": [
    "`-` 예제3: 두개의 입력을 받는 함수 (map을 이용하는 것이 리스트 컴프리헨션보다 조금 편한것 같다) "
   ]
  },
  {
   "cell_type": "code",
   "execution_count": 105,
   "id": "de8b4973-54d5-4280-9f6c-ae552177d9c8",
   "metadata": {
    "tags": []
   },
   "outputs": [],
   "source": [
    "f= lambda x,y: x+y \n",
    "x=[1,2,3]\n",
    "y=[-1,-2,-3]"
   ]
  },
  {
   "cell_type": "code",
   "execution_count": 106,
   "id": "ab1c4241-f5f0-43ff-be52-1af0423301c4",
   "metadata": {
    "tags": []
   },
   "outputs": [
    {
     "data": {
      "text/plain": [
       "[0, 0, 0]"
      ]
     },
     "execution_count": 106,
     "metadata": {},
     "output_type": "execute_result"
    }
   ],
   "source": [
    "list(map(f,x,y))"
   ]
  },
  {
   "cell_type": "markdown",
   "id": "65e02b5d-f109-4da0-8183-403ad73d65e8",
   "metadata": {},
   "source": [
    "**quiz**"
   ]
  },
  {
   "cell_type": "code",
   "execution_count": 107,
   "id": "422c0f91-ca32-4bc5-9f05-b1269d0cdca5",
   "metadata": {
    "tags": [],
    "vscode": {
     "languageId": "python"
    }
   },
   "outputs": [],
   "source": [
    "t=np.linspace(-3.14,3.14,100)\n",
    "x=np.sin(t)\n",
    "y=np.cos(t)"
   ]
  },
  {
   "cell_type": "code",
   "execution_count": 108,
   "id": "4e7f7193-7342-4ffc-8d41-6cfa23d4a927",
   "metadata": {
    "tags": [],
    "vscode": {
     "languageId": "python"
    }
   },
   "outputs": [
    {
     "data": {
      "text/plain": [
       "[<matplotlib.lines.Line2D at 0x7f95c30d6530>]"
      ]
     },
     "execution_count": 108,
     "metadata": {},
     "output_type": "execute_result"
    },
    {
     "data": {
      "image/png": "[encoded data removed]",
      "text/plain": [
       "<Figure size 640x480 with 1 Axes>"
      ]
     },
     "metadata": {},
     "output_type": "display_data"
    }
   ],
   "source": [
    "plt.plot(t,x)\n",
    "plt.plot(t,y)"
   ]
  },
  {
   "cell_type": "markdown",
   "id": "e4bac5e7-676b-468f-a64a-de3399911ed6",
   "metadata": {},
   "source": [
    "$f(x,y) = \\max(x,y)$ 를 구현하여 ${\\bf x}$,${\\bf y}$ 각 원소에 적용하고 결과를 시각화 하라. "
   ]
  },
  {
   "cell_type": "code",
   "execution_count": 117,
   "id": "135651bf-5c5e-4fa9-b222-f9571a1672b4",
   "metadata": {
    "tags": []
   },
   "outputs": [
    {
     "data": {
      "text/plain": [
       "[<matplotlib.lines.Line2D at 0x7f95c21927a0>]"
      ]
     },
     "execution_count": 117,
     "metadata": {},
     "output_type": "execute_result"
    },
    {
     "data": {
      "image/png": "[encoded data removed]",
      "text/plain": [
       "<Figure size 640x480 with 1 Axes>"
      ]
     },
     "metadata": {},
     "output_type": "display_data"
    }
   ],
   "source": [
    "plt.plot(list(map(lambda x,y: max(x,y), x,y)))"
   ]
  },
  {
   "cell_type": "markdown",
   "id": "320dec77-1938-48d6-9b9c-103cee2e93ed",
   "metadata": {},
   "source": [
    "`-` 종합: map과 리스트컴프리헨션과 비교\n",
    "\n",
    "- map은 for문을 위한 $i$등의 인덱스를 쓰지 않지만 리스트컴프리헨션은 필요함 \n",
    "- map은 좀 더 리스트컴프리헨션보다 제약적으로 사용할 수 밖에 없음. "
   ]
  },
  {
   "cell_type": "markdown",
   "id": "fb7ab3c2-8120-4c33-b7b9-b99e525af86a",
   "metadata": {},
   "source": [
    "# Pandas: transform column"
   ]
  },
  {
   "cell_type": "markdown",
   "id": "8cb03266-ba03-43bf-b248-eac1c570294f",
   "metadata": {},
   "source": [
    "## `lambda`"
   ]
  },
  {
   "cell_type": "markdown",
   "id": "07599cbe-2028-46ef-bd11-b270336583de",
   "metadata": {},
   "source": [
    "`-` 예시1: $x \\to x+2$ "
   ]
  },
  {
   "cell_type": "code",
   "execution_count": 118,
   "id": "3ae7fd07-e4c4-46c5-9d40-8948dd6338a9",
   "metadata": {
    "tags": []
   },
   "outputs": [
    {
     "data": {
      "text/plain": [
       "3"
      ]
     },
     "execution_count": 118,
     "metadata": {},
     "output_type": "execute_result"
    }
   ],
   "source": [
    "f = lambda x: x+2\n",
    "f(1)"
   ]
  },
  {
   "cell_type": "markdown",
   "id": "13e1b0d3-3ea6-4f08-9512-4d75add52f59",
   "metadata": {},
   "source": [
    "`-` 예시2: $x,y \\to x+y$"
   ]
  },
  {
   "cell_type": "code",
   "execution_count": 119,
   "id": "6a4339df-c952-478c-bffb-3ff2064f675b",
   "metadata": {
    "tags": []
   },
   "outputs": [
    {
     "data": {
      "text/plain": [
       "3"
      ]
     },
     "execution_count": 119,
     "metadata": {},
     "output_type": "execute_result"
    }
   ],
   "source": [
    "f = lambda x,y: x+y\n",
    "f(1,2)"
   ]
  },
  {
   "cell_type": "markdown",
   "id": "7aea9755-2428-4f6f-9381-5e3e06e7eef0",
   "metadata": {},
   "source": [
    "`-` 예시3: '2023-09' $\\to$ 9  "
   ]
  },
  {
   "cell_type": "code",
   "execution_count": 76,
   "id": "826c1698-2a04-4ac5-87bb-139cdc86d860",
   "metadata": {},
   "outputs": [
    {
     "data": {
      "text/plain": [
       "9"
      ]
     },
     "execution_count": 76,
     "metadata": {},
     "output_type": "execute_result"
    }
   ],
   "source": [
    "f = lambda x: int(x[-2:])\n",
    "f('2023-09')"
   ]
  },
  {
   "cell_type": "markdown",
   "id": "e50e8a41-8918-48d1-8b66-f60859d756bf",
   "metadata": {},
   "source": [
    "`-` 예시4: '2023-09' $\\to$ (2023,9)"
   ]
  },
  {
   "cell_type": "code",
   "execution_count": 130,
   "id": "d26d805f-ffe5-4624-9fa1-c0d29b7cf64a",
   "metadata": {
    "tags": []
   },
   "outputs": [
    {
     "data": {
      "text/plain": [
       "(2023, 9)"
      ]
     },
     "execution_count": 130,
     "metadata": {},
     "output_type": "execute_result"
    }
   ],
   "source": [
    "f = lambda x: (int(x[:4]),int(x[-2:]))\n",
    "f('2023-09')"
   ]
  },
  {
   "cell_type": "markdown",
   "id": "deabf52a-bb46-4fa0-b73d-6bd4048b2aec",
   "metadata": {},
   "source": [
    "`-` 예시5: 문자열이 'cat'이면 1 'dog' 이면 0 // 'cat이면 1 'cat'이 아니면 0 "
   ]
  },
  {
   "cell_type": "code",
   "execution_count": 131,
   "id": "86154472-58eb-4c37-ae40-38f1f2b5527b",
   "metadata": {
    "tags": []
   },
   "outputs": [],
   "source": [
    "f = lambda x: 1 if x=='cat' else 0"
   ]
  },
  {
   "cell_type": "code",
   "execution_count": 132,
   "id": "7d0e9e43-6322-4f6e-9857-f96d9465eeb0",
   "metadata": {
    "tags": []
   },
   "outputs": [
    {
     "data": {
      "text/plain": [
       "(1, 0)"
      ]
     },
     "execution_count": 132,
     "metadata": {},
     "output_type": "execute_result"
    }
   ],
   "source": [
    "f('cat'), f('dog')"
   ]
  },
  {
   "cell_type": "markdown",
   "id": "736d2f98-4117-46aa-a424-a2b8afbe7d87",
   "metadata": {},
   "source": [
    "`-` Note: `f`로 이름을 정하지 않고 직접 사용 가능"
   ]
  },
  {
   "cell_type": "code",
   "execution_count": 133,
   "id": "6a732ddc-c994-4bfd-92f0-9c996962259b",
   "metadata": {
    "tags": []
   },
   "outputs": [
    {
     "data": {
      "text/plain": [
       "3"
      ]
     },
     "execution_count": 133,
     "metadata": {},
     "output_type": "execute_result"
    }
   ],
   "source": [
    "(lambda x: x+1)(2)"
   ]
  },
  {
   "cell_type": "markdown",
   "id": "a01a1934-25c0-49ae-bff4-edf89f75e779",
   "metadata": {},
   "source": [
    "## `map`"
   ]
  },
  {
   "cell_type": "markdown",
   "id": "2d361af0-f914-4695-9eb0-59cf17db56ce",
   "metadata": {},
   "source": [
    "`-` 개념: `map(f,[x1,x2,...xn])=[f(x1),f(x2),...,f(xn)]`"
   ]
  },
  {
   "cell_type": "markdown",
   "id": "9904e282-1e7f-4d15-9043-e802f788ca6e",
   "metadata": {},
   "source": [
    "`-` 예시1: `x->x+1`을 `[1,2,3]`에 적용 "
   ]
  },
  {
   "cell_type": "code",
   "execution_count": 134,
   "id": "feb8afa4-fbcb-48c5-814c-afd6f989efc9",
   "metadata": {
    "tags": []
   },
   "outputs": [
    {
     "data": {
      "text/plain": [
       "[2, -4, 4]"
      ]
     },
     "execution_count": 134,
     "metadata": {},
     "output_type": "execute_result"
    }
   ],
   "source": [
    "list(map(lambda x: x+1, [1,-5,3]))"
   ]
  },
  {
   "cell_type": "markdown",
   "id": "e1d81913-9f18-4890-a73e-8ac1580b13a7",
   "metadata": {},
   "source": [
    "`-` 예시2 `df.Height`열 변환하기 "
   ]
  },
  {
   "cell_type": "code",
   "execution_count": 185,
   "id": "32c20b1e-8050-49b1-be29-0b1bd5ea3f2b",
   "metadata": {
    "tags": []
   },
   "outputs": [
    {
     "data": {
      "text/plain": [
       "0    189cm\n",
       "1    179cm\n",
       "2    172cm\n",
       "3    181cm\n",
       "4    172cm\n",
       "Name: Height, dtype: object"
      ]
     },
     "execution_count": 185,
     "metadata": {},
     "output_type": "execute_result"
    }
   ],
   "source": [
    "df = pd.read_csv('https://raw.githubusercontent.com/guebin/DV2022/master/posts/FIFA23_official_data.csv').drop(['Loaned From','Best Overall Rating'],axis=1).dropna()\n",
    "s = df.Height[:5]\n",
    "s"
   ]
  },
  {
   "cell_type": "code",
   "execution_count": 83,
   "id": "94e4fea5-e526-4bb3-8a20-08eb5736be20",
   "metadata": {},
   "outputs": [
    {
     "data": {
      "text/plain": [
       "'189cm'"
      ]
     },
     "execution_count": 83,
     "metadata": {},
     "output_type": "execute_result"
    }
   ],
   "source": [
    "x = s[0]\n",
    "x"
   ]
  },
  {
   "cell_type": "code",
   "execution_count": 84,
   "id": "acd6755d-5928-461b-b3ea-9163893f5d14",
   "metadata": {},
   "outputs": [
    {
     "data": {
      "text/plain": [
       "[189, 179, 172, 181, 172]"
      ]
     },
     "execution_count": 84,
     "metadata": {},
     "output_type": "execute_result"
    }
   ],
   "source": [
    "list(map(lambda x: int(x.replace('cm','')), s))"
   ]
  },
  {
   "cell_type": "markdown",
   "id": "3f6480fa-9ceb-4d99-977f-aa07a2266f6f",
   "metadata": {},
   "source": [
    "`# 예시3` `df.Height`열 변환하기 + 변환된 열 할당하기"
   ]
  },
  {
   "cell_type": "code",
   "execution_count": 167,
   "id": "38b421b5-69d4-4a6b-89ee-2b7c9060bc2b",
   "metadata": {
    "tags": []
   },
   "outputs": [
    {
     "data": {
      "text/html": [
       "<div>\n",
       "<style scoped>\n",
       "    .dataframe tbody tr th:only-of-type {\n",
       "        vertical-align: middle;\n",
       "    }\n",
       "\n",
       "    .dataframe tbody tr th {\n",
       "        vertical-align: top;\n",
       "    }\n",
       "\n",
       "    .dataframe thead th {\n",
       "        text-align: right;\n",
       "    }\n",
       "</style>\n",
       "<table border=\"1\" class=\"dataframe\">\n",
       "  <thead>\n",
       "    <tr style=\"text-align: right;\">\n",
       "      <th></th>\n",
       "      <th>ID</th>\n",
       "      <th>Name</th>\n",
       "      <th>Age</th>\n",
       "      <th>Photo</th>\n",
       "      <th>Nationality</th>\n",
       "      <th>Flag</th>\n",
       "      <th>Overall</th>\n",
       "      <th>Potential</th>\n",
       "      <th>Club</th>\n",
       "      <th>Club Logo</th>\n",
       "      <th>...</th>\n",
       "      <th>Real Face</th>\n",
       "      <th>Position</th>\n",
       "      <th>Joined</th>\n",
       "      <th>Loaned From</th>\n",
       "      <th>Contract Valid Until</th>\n",
       "      <th>Height</th>\n",
       "      <th>Weight</th>\n",
       "      <th>Release Clause</th>\n",
       "      <th>Kit Number</th>\n",
       "      <th>Best Overall Rating</th>\n",
       "    </tr>\n",
       "  </thead>\n",
       "  <tbody>\n",
       "    <tr>\n",
       "      <th>0</th>\n",
       "      <td>209658</td>\n",
       "      <td>L. Goretzka</td>\n",
       "      <td>27</td>\n",
       "      <td>https://cdn.sofifa.net/players/209/658/23_60.png</td>\n",
       "      <td>Germany</td>\n",
       "      <td>https://cdn.sofifa.net/flags/de.png</td>\n",
       "      <td>87</td>\n",
       "      <td>88</td>\n",
       "      <td>FC Bayern München</td>\n",
       "      <td>https://cdn.sofifa.net/teams/21/30.png</td>\n",
       "      <td>...</td>\n",
       "      <td>Yes</td>\n",
       "      <td>&lt;span class=\"pos pos28\"&gt;SUB</td>\n",
       "      <td>Jul 1, 2018</td>\n",
       "      <td>NaN</td>\n",
       "      <td>2026</td>\n",
       "      <td>189</td>\n",
       "      <td>82</td>\n",
       "      <td>€157M</td>\n",
       "      <td>8.0</td>\n",
       "      <td>NaN</td>\n",
       "    </tr>\n",
       "    <tr>\n",
       "      <th>1</th>\n",
       "      <td>212198</td>\n",
       "      <td>Bruno Fernandes</td>\n",
       "      <td>27</td>\n",
       "      <td>https://cdn.sofifa.net/players/212/198/23_60.png</td>\n",
       "      <td>Portugal</td>\n",
       "      <td>https://cdn.sofifa.net/flags/pt.png</td>\n",
       "      <td>86</td>\n",
       "      <td>87</td>\n",
       "      <td>Manchester United</td>\n",
       "      <td>https://cdn.sofifa.net/teams/11/30.png</td>\n",
       "      <td>...</td>\n",
       "      <td>Yes</td>\n",
       "      <td>&lt;span class=\"pos pos15\"&gt;LCM</td>\n",
       "      <td>Jan 30, 2020</td>\n",
       "      <td>NaN</td>\n",
       "      <td>2026</td>\n",
       "      <td>179</td>\n",
       "      <td>69</td>\n",
       "      <td>€155M</td>\n",
       "      <td>8.0</td>\n",
       "      <td>NaN</td>\n",
       "    </tr>\n",
       "    <tr>\n",
       "      <th>2</th>\n",
       "      <td>224334</td>\n",
       "      <td>M. Acuña</td>\n",
       "      <td>30</td>\n",
       "      <td>https://cdn.sofifa.net/players/224/334/23_60.png</td>\n",
       "      <td>Argentina</td>\n",
       "      <td>https://cdn.sofifa.net/flags/ar.png</td>\n",
       "      <td>85</td>\n",
       "      <td>85</td>\n",
       "      <td>Sevilla FC</td>\n",
       "      <td>https://cdn.sofifa.net/teams/481/30.png</td>\n",
       "      <td>...</td>\n",
       "      <td>No</td>\n",
       "      <td>&lt;span class=\"pos pos7\"&gt;LB</td>\n",
       "      <td>Sep 14, 2020</td>\n",
       "      <td>NaN</td>\n",
       "      <td>2024</td>\n",
       "      <td>172</td>\n",
       "      <td>69</td>\n",
       "      <td>€97.7M</td>\n",
       "      <td>19.0</td>\n",
       "      <td>NaN</td>\n",
       "    </tr>\n",
       "    <tr>\n",
       "      <th>3</th>\n",
       "      <td>192985</td>\n",
       "      <td>K. De Bruyne</td>\n",
       "      <td>31</td>\n",
       "      <td>https://cdn.sofifa.net/players/192/985/23_60.png</td>\n",
       "      <td>Belgium</td>\n",
       "      <td>https://cdn.sofifa.net/flags/be.png</td>\n",
       "      <td>91</td>\n",
       "      <td>91</td>\n",
       "      <td>Manchester City</td>\n",
       "      <td>https://cdn.sofifa.net/teams/10/30.png</td>\n",
       "      <td>...</td>\n",
       "      <td>Yes</td>\n",
       "      <td>&lt;span class=\"pos pos13\"&gt;RCM</td>\n",
       "      <td>Aug 30, 2015</td>\n",
       "      <td>NaN</td>\n",
       "      <td>2025</td>\n",
       "      <td>181</td>\n",
       "      <td>70</td>\n",
       "      <td>€198.9M</td>\n",
       "      <td>17.0</td>\n",
       "      <td>NaN</td>\n",
       "    </tr>\n",
       "    <tr>\n",
       "      <th>4</th>\n",
       "      <td>224232</td>\n",
       "      <td>N. Barella</td>\n",
       "      <td>25</td>\n",
       "      <td>https://cdn.sofifa.net/players/224/232/23_60.png</td>\n",
       "      <td>Italy</td>\n",
       "      <td>https://cdn.sofifa.net/flags/it.png</td>\n",
       "      <td>86</td>\n",
       "      <td>89</td>\n",
       "      <td>Inter</td>\n",
       "      <td>https://cdn.sofifa.net/teams/44/30.png</td>\n",
       "      <td>...</td>\n",
       "      <td>Yes</td>\n",
       "      <td>&lt;span class=\"pos pos13\"&gt;RCM</td>\n",
       "      <td>Sep 1, 2020</td>\n",
       "      <td>NaN</td>\n",
       "      <td>2026</td>\n",
       "      <td>172</td>\n",
       "      <td>68</td>\n",
       "      <td>€154.4M</td>\n",
       "      <td>23.0</td>\n",
       "      <td>NaN</td>\n",
       "    </tr>\n",
       "    <tr>\n",
       "      <th>...</th>\n",
       "      <td>...</td>\n",
       "      <td>...</td>\n",
       "      <td>...</td>\n",
       "      <td>...</td>\n",
       "      <td>...</td>\n",
       "      <td>...</td>\n",
       "      <td>...</td>\n",
       "      <td>...</td>\n",
       "      <td>...</td>\n",
       "      <td>...</td>\n",
       "      <td>...</td>\n",
       "      <td>...</td>\n",
       "      <td>...</td>\n",
       "      <td>...</td>\n",
       "      <td>...</td>\n",
       "      <td>...</td>\n",
       "      <td>...</td>\n",
       "      <td>...</td>\n",
       "      <td>...</td>\n",
       "      <td>...</td>\n",
       "      <td>...</td>\n",
       "    </tr>\n",
       "    <tr>\n",
       "      <th>17655</th>\n",
       "      <td>269526</td>\n",
       "      <td>Deng Xiongtao</td>\n",
       "      <td>19</td>\n",
       "      <td>https://cdn.sofifa.net/players/269/526/23_60.png</td>\n",
       "      <td>China PR</td>\n",
       "      <td>https://cdn.sofifa.net/flags/cn.png</td>\n",
       "      <td>48</td>\n",
       "      <td>61</td>\n",
       "      <td>Meizhou Hakka</td>\n",
       "      <td>https://cdn.sofifa.net/teams/114628/30.png</td>\n",
       "      <td>...</td>\n",
       "      <td>No</td>\n",
       "      <td>&lt;span class=\"pos pos29\"&gt;RES</td>\n",
       "      <td>Apr 11, 2022</td>\n",
       "      <td>NaN</td>\n",
       "      <td>2027</td>\n",
       "      <td>190</td>\n",
       "      <td>78</td>\n",
       "      <td>€218K</td>\n",
       "      <td>35.0</td>\n",
       "      <td>NaN</td>\n",
       "    </tr>\n",
       "    <tr>\n",
       "      <th>17656</th>\n",
       "      <td>267946</td>\n",
       "      <td>22 Lim Jun Sub</td>\n",
       "      <td>17</td>\n",
       "      <td>https://cdn.sofifa.net/players/267/946/22_60.png</td>\n",
       "      <td>Korea Republic</td>\n",
       "      <td>https://cdn.sofifa.net/flags/kr.png</td>\n",
       "      <td>48</td>\n",
       "      <td>64</td>\n",
       "      <td>Jeju United FC</td>\n",
       "      <td>https://cdn.sofifa.net/teams/1478/30.png</td>\n",
       "      <td>...</td>\n",
       "      <td>No</td>\n",
       "      <td>&lt;span class=\"pos pos29\"&gt;RES</td>\n",
       "      <td>Jan 1, 2022</td>\n",
       "      <td>NaN</td>\n",
       "      <td>2026</td>\n",
       "      <td>195</td>\n",
       "      <td>84</td>\n",
       "      <td>€188K</td>\n",
       "      <td>21.0</td>\n",
       "      <td>NaN</td>\n",
       "    </tr>\n",
       "    <tr>\n",
       "      <th>17657</th>\n",
       "      <td>270567</td>\n",
       "      <td>A. Demir</td>\n",
       "      <td>25</td>\n",
       "      <td>https://cdn.sofifa.net/players/270/567/23_60.png</td>\n",
       "      <td>Turkey</td>\n",
       "      <td>https://cdn.sofifa.net/flags/tr.png</td>\n",
       "      <td>51</td>\n",
       "      <td>56</td>\n",
       "      <td>Ümraniyespor</td>\n",
       "      <td>https://cdn.sofifa.net/teams/113796/30.png</td>\n",
       "      <td>...</td>\n",
       "      <td>No</td>\n",
       "      <td>&lt;span class=\"pos pos29\"&gt;RES</td>\n",
       "      <td>Jun 6, 2021</td>\n",
       "      <td>NaN</td>\n",
       "      <td>2023</td>\n",
       "      <td>190</td>\n",
       "      <td>82</td>\n",
       "      <td>€142K</td>\n",
       "      <td>12.0</td>\n",
       "      <td>NaN</td>\n",
       "    </tr>\n",
       "    <tr>\n",
       "      <th>17658</th>\n",
       "      <td>256624</td>\n",
       "      <td>21 S. Czajor</td>\n",
       "      <td>18</td>\n",
       "      <td>https://cdn.sofifa.net/players/256/624/21_60.png</td>\n",
       "      <td>Poland</td>\n",
       "      <td>https://cdn.sofifa.net/flags/pl.png</td>\n",
       "      <td>50</td>\n",
       "      <td>65</td>\n",
       "      <td>Fleetwood Town</td>\n",
       "      <td>https://cdn.sofifa.net/teams/112260/30.png</td>\n",
       "      <td>...</td>\n",
       "      <td>No</td>\n",
       "      <td>&lt;span class=\"pos pos29\"&gt;RES</td>\n",
       "      <td>Jan 1, 2020</td>\n",
       "      <td>NaN</td>\n",
       "      <td>2021</td>\n",
       "      <td>187</td>\n",
       "      <td>79</td>\n",
       "      <td>€214K</td>\n",
       "      <td>40.0</td>\n",
       "      <td>NaN</td>\n",
       "    </tr>\n",
       "    <tr>\n",
       "      <th>17659</th>\n",
       "      <td>256376</td>\n",
       "      <td>21 F. Jakobsson</td>\n",
       "      <td>20</td>\n",
       "      <td>https://cdn.sofifa.net/players/256/376/21_60.png</td>\n",
       "      <td>Sweden</td>\n",
       "      <td>https://cdn.sofifa.net/flags/se.png</td>\n",
       "      <td>50</td>\n",
       "      <td>61</td>\n",
       "      <td>IFK Norrköping</td>\n",
       "      <td>https://cdn.sofifa.net/teams/702/30.png</td>\n",
       "      <td>...</td>\n",
       "      <td>No</td>\n",
       "      <td>&lt;span class=\"pos pos29\"&gt;RES</td>\n",
       "      <td>Jan 8, 2020</td>\n",
       "      <td>NaN</td>\n",
       "      <td>2021</td>\n",
       "      <td>186</td>\n",
       "      <td>78</td>\n",
       "      <td>€131K</td>\n",
       "      <td>30.0</td>\n",
       "      <td>NaN</td>\n",
       "    </tr>\n",
       "  </tbody>\n",
       "</table>\n",
       "<p>17660 rows × 29 columns</p>\n",
       "</div>"
      ],
      "text/plain": [
       "           ID             Name  Age  \\\n",
       "0      209658      L. Goretzka   27   \n",
       "1      212198  Bruno Fernandes   27   \n",
       "2      224334         M. Acuña   30   \n",
       "3      192985     K. De Bruyne   31   \n",
       "4      224232       N. Barella   25   \n",
       "...       ...              ...  ...   \n",
       "17655  269526    Deng Xiongtao   19   \n",
       "17656  267946   22 Lim Jun Sub   17   \n",
       "17657  270567         A. Demir   25   \n",
       "17658  256624     21 S. Czajor   18   \n",
       "17659  256376  21 F. Jakobsson   20   \n",
       "\n",
       "                                                  Photo     Nationality  \\\n",
       "0      https://cdn.sofifa.net/players/209/658/23_60.png         Germany   \n",
       "1      https://cdn.sofifa.net/players/212/198/23_60.png        Portugal   \n",
       "2      https://cdn.sofifa.net/players/224/334/23_60.png       Argentina   \n",
       "3      https://cdn.sofifa.net/players/192/985/23_60.png         Belgium   \n",
       "4      https://cdn.sofifa.net/players/224/232/23_60.png           Italy   \n",
       "...                                                 ...             ...   \n",
       "17655  https://cdn.sofifa.net/players/269/526/23_60.png        China PR   \n",
       "17656  https://cdn.sofifa.net/players/267/946/22_60.png  Korea Republic   \n",
       "17657  https://cdn.sofifa.net/players/270/567/23_60.png          Turkey   \n",
       "17658  https://cdn.sofifa.net/players/256/624/21_60.png          Poland   \n",
       "17659  https://cdn.sofifa.net/players/256/376/21_60.png          Sweden   \n",
       "\n",
       "                                      Flag  Overall  Potential  \\\n",
       "0      https://cdn.sofifa.net/flags/de.png       87         88   \n",
       "1      https://cdn.sofifa.net/flags/pt.png       86         87   \n",
       "2      https://cdn.sofifa.net/flags/ar.png       85         85   \n",
       "3      https://cdn.sofifa.net/flags/be.png       91         91   \n",
       "4      https://cdn.sofifa.net/flags/it.png       86         89   \n",
       "...                                    ...      ...        ...   \n",
       "17655  https://cdn.sofifa.net/flags/cn.png       48         61   \n",
       "17656  https://cdn.sofifa.net/flags/kr.png       48         64   \n",
       "17657  https://cdn.sofifa.net/flags/tr.png       51         56   \n",
       "17658  https://cdn.sofifa.net/flags/pl.png       50         65   \n",
       "17659  https://cdn.sofifa.net/flags/se.png       50         61   \n",
       "\n",
       "                    Club                                   Club Logo  ...  \\\n",
       "0      FC Bayern München      https://cdn.sofifa.net/teams/21/30.png  ...   \n",
       "1      Manchester United      https://cdn.sofifa.net/teams/11/30.png  ...   \n",
       "2             Sevilla FC     https://cdn.sofifa.net/teams/481/30.png  ...   \n",
       "3        Manchester City      https://cdn.sofifa.net/teams/10/30.png  ...   \n",
       "4                  Inter      https://cdn.sofifa.net/teams/44/30.png  ...   \n",
       "...                  ...                                         ...  ...   \n",
       "17655      Meizhou Hakka  https://cdn.sofifa.net/teams/114628/30.png  ...   \n",
       "17656     Jeju United FC    https://cdn.sofifa.net/teams/1478/30.png  ...   \n",
       "17657       Ümraniyespor  https://cdn.sofifa.net/teams/113796/30.png  ...   \n",
       "17658     Fleetwood Town  https://cdn.sofifa.net/teams/112260/30.png  ...   \n",
       "17659     IFK Norrköping     https://cdn.sofifa.net/teams/702/30.png  ...   \n",
       "\n",
       "      Real Face                     Position        Joined Loaned From  \\\n",
       "0           Yes  <span class=\"pos pos28\">SUB   Jul 1, 2018         NaN   \n",
       "1           Yes  <span class=\"pos pos15\">LCM  Jan 30, 2020         NaN   \n",
       "2            No    <span class=\"pos pos7\">LB  Sep 14, 2020         NaN   \n",
       "3           Yes  <span class=\"pos pos13\">RCM  Aug 30, 2015         NaN   \n",
       "4           Yes  <span class=\"pos pos13\">RCM   Sep 1, 2020         NaN   \n",
       "...         ...                          ...           ...         ...   \n",
       "17655        No  <span class=\"pos pos29\">RES  Apr 11, 2022         NaN   \n",
       "17656        No  <span class=\"pos pos29\">RES   Jan 1, 2022         NaN   \n",
       "17657        No  <span class=\"pos pos29\">RES   Jun 6, 2021         NaN   \n",
       "17658        No  <span class=\"pos pos29\">RES   Jan 1, 2020         NaN   \n",
       "17659        No  <span class=\"pos pos29\">RES   Jan 8, 2020         NaN   \n",
       "\n",
       "       Contract Valid Until  Height  Weight Release Clause Kit Number  \\\n",
       "0                      2026     189      82          €157M        8.0   \n",
       "1                      2026     179      69          €155M        8.0   \n",
       "2                      2024     172      69         €97.7M       19.0   \n",
       "3                      2025     181      70        €198.9M       17.0   \n",
       "4                      2026     172      68        €154.4M       23.0   \n",
       "...                     ...     ...     ...            ...        ...   \n",
       "17655                  2027     190      78          €218K       35.0   \n",
       "17656                  2026     195      84          €188K       21.0   \n",
       "17657                  2023     190      82          €142K       12.0   \n",
       "17658                  2021     187      79          €214K       40.0   \n",
       "17659                  2021     186      78          €131K       30.0   \n",
       "\n",
       "      Best Overall Rating  \n",
       "0                     NaN  \n",
       "1                     NaN  \n",
       "2                     NaN  \n",
       "3                     NaN  \n",
       "4                     NaN  \n",
       "...                   ...  \n",
       "17655                 NaN  \n",
       "17656                 NaN  \n",
       "17657                 NaN  \n",
       "17658                 NaN  \n",
       "17659                 NaN  \n",
       "\n",
       "[17660 rows x 29 columns]"
      ]
     },
     "execution_count": 167,
     "metadata": {},
     "output_type": "execute_result"
    }
   ],
   "source": [
    "df.assign(\n",
    "    Height = list(map(lambda x: int(x.replace('cm','')), df.Height)),\n",
    "    Weight = list(map(lambda x: int(x.replace('kg','')), df.Weight)),\n",
    ")"
   ]
  },
  {
   "cell_type": "markdown",
   "id": "264a0e3a-0a59-4efd-9fc5-7915ab448c41",
   "metadata": {},
   "source": [
    "`#`"
   ]
  },
  {
   "cell_type": "markdown",
   "id": "4c4ca806-0936-4c75-b453-cfaa1094473e",
   "metadata": {},
   "source": [
    "`# 예시4` -- `df.Position` 열에 아래와 같은 변환을 수행하고, 변환된 열을 할당하라. "
   ]
  },
  {
   "cell_type": "markdown",
   "id": "b44afac3-65c6-4e2b-ae04-98f008c7e9bc",
   "metadata": {},
   "source": [
    "|before|after|\n",
    "|:-:|:-:|\n",
    "|`<span class=\"pos pos28\">SUB`|`SUB`|\n",
    "|`<span class=\"pos pos15\">LCM`|`LCM`|\n",
    "|`<span class=\"pos pos7\">LB`|`LB`|\n",
    "|`<span class=\"pos pos13\">RCM`|`RCM`|\n",
    "|`<span class=\"pos pos13\">RCM`|`RCM`|"
   ]
  },
  {
   "cell_type": "code",
   "execution_count": 183,
   "id": "0b6dd867-6db2-449f-bf8c-148b1e83ed4a",
   "metadata": {
    "tags": []
   },
   "outputs": [],
   "source": [
    "df = pd.read_csv('https://raw.githubusercontent.com/guebin/DV2022/master/posts/FIFA23_official_data.csv').drop(['Loaned From','Best Overall Rating'],axis=1).dropna()"
   ]
  },
  {
   "cell_type": "code",
   "execution_count": 184,
   "id": "3d23892f-81ea-48e0-8665-0eb527f68364",
   "metadata": {
    "tags": []
   },
   "outputs": [
    {
     "data": {
      "text/html": [
       "<div>\n",
       "<style scoped>\n",
       "    .dataframe tbody tr th:only-of-type {\n",
       "        vertical-align: middle;\n",
       "    }\n",
       "\n",
       "    .dataframe tbody tr th {\n",
       "        vertical-align: top;\n",
       "    }\n",
       "\n",
       "    .dataframe thead th {\n",
       "        text-align: right;\n",
       "    }\n",
       "</style>\n",
       "<table border=\"1\" class=\"dataframe\">\n",
       "  <thead>\n",
       "    <tr style=\"text-align: right;\">\n",
       "      <th></th>\n",
       "      <th>ID</th>\n",
       "      <th>Name</th>\n",
       "      <th>Age</th>\n",
       "      <th>Photo</th>\n",
       "      <th>Nationality</th>\n",
       "      <th>Flag</th>\n",
       "      <th>Overall</th>\n",
       "      <th>Potential</th>\n",
       "      <th>Club</th>\n",
       "      <th>Club Logo</th>\n",
       "      <th>...</th>\n",
       "      <th>Work Rate</th>\n",
       "      <th>Body Type</th>\n",
       "      <th>Real Face</th>\n",
       "      <th>Position</th>\n",
       "      <th>Joined</th>\n",
       "      <th>Contract Valid Until</th>\n",
       "      <th>Height</th>\n",
       "      <th>Weight</th>\n",
       "      <th>Release Clause</th>\n",
       "      <th>Kit Number</th>\n",
       "    </tr>\n",
       "  </thead>\n",
       "  <tbody>\n",
       "    <tr>\n",
       "      <th>0</th>\n",
       "      <td>209658</td>\n",
       "      <td>L. Goretzka</td>\n",
       "      <td>27</td>\n",
       "      <td>https://cdn.sofifa.net/players/209/658/23_60.png</td>\n",
       "      <td>Germany</td>\n",
       "      <td>https://cdn.sofifa.net/flags/de.png</td>\n",
       "      <td>87</td>\n",
       "      <td>88</td>\n",
       "      <td>FC Bayern München</td>\n",
       "      <td>https://cdn.sofifa.net/teams/21/30.png</td>\n",
       "      <td>...</td>\n",
       "      <td>High/ Medium</td>\n",
       "      <td>Unique</td>\n",
       "      <td>Yes</td>\n",
       "      <td>&lt;span class=\"pos pos28\"&gt;SUB</td>\n",
       "      <td>Jul 1, 2018</td>\n",
       "      <td>2026</td>\n",
       "      <td>189cm</td>\n",
       "      <td>82kg</td>\n",
       "      <td>€157M</td>\n",
       "      <td>8.0</td>\n",
       "    </tr>\n",
       "    <tr>\n",
       "      <th>1</th>\n",
       "      <td>212198</td>\n",
       "      <td>Bruno Fernandes</td>\n",
       "      <td>27</td>\n",
       "      <td>https://cdn.sofifa.net/players/212/198/23_60.png</td>\n",
       "      <td>Portugal</td>\n",
       "      <td>https://cdn.sofifa.net/flags/pt.png</td>\n",
       "      <td>86</td>\n",
       "      <td>87</td>\n",
       "      <td>Manchester United</td>\n",
       "      <td>https://cdn.sofifa.net/teams/11/30.png</td>\n",
       "      <td>...</td>\n",
       "      <td>High/ High</td>\n",
       "      <td>Unique</td>\n",
       "      <td>Yes</td>\n",
       "      <td>&lt;span class=\"pos pos15\"&gt;LCM</td>\n",
       "      <td>Jan 30, 2020</td>\n",
       "      <td>2026</td>\n",
       "      <td>179cm</td>\n",
       "      <td>69kg</td>\n",
       "      <td>€155M</td>\n",
       "      <td>8.0</td>\n",
       "    </tr>\n",
       "    <tr>\n",
       "      <th>2</th>\n",
       "      <td>224334</td>\n",
       "      <td>M. Acuña</td>\n",
       "      <td>30</td>\n",
       "      <td>https://cdn.sofifa.net/players/224/334/23_60.png</td>\n",
       "      <td>Argentina</td>\n",
       "      <td>https://cdn.sofifa.net/flags/ar.png</td>\n",
       "      <td>85</td>\n",
       "      <td>85</td>\n",
       "      <td>Sevilla FC</td>\n",
       "      <td>https://cdn.sofifa.net/teams/481/30.png</td>\n",
       "      <td>...</td>\n",
       "      <td>High/ High</td>\n",
       "      <td>Stocky (170-185)</td>\n",
       "      <td>No</td>\n",
       "      <td>&lt;span class=\"pos pos7\"&gt;LB</td>\n",
       "      <td>Sep 14, 2020</td>\n",
       "      <td>2024</td>\n",
       "      <td>172cm</td>\n",
       "      <td>69kg</td>\n",
       "      <td>€97.7M</td>\n",
       "      <td>19.0</td>\n",
       "    </tr>\n",
       "    <tr>\n",
       "      <th>3</th>\n",
       "      <td>192985</td>\n",
       "      <td>K. De Bruyne</td>\n",
       "      <td>31</td>\n",
       "      <td>https://cdn.sofifa.net/players/192/985/23_60.png</td>\n",
       "      <td>Belgium</td>\n",
       "      <td>https://cdn.sofifa.net/flags/be.png</td>\n",
       "      <td>91</td>\n",
       "      <td>91</td>\n",
       "      <td>Manchester City</td>\n",
       "      <td>https://cdn.sofifa.net/teams/10/30.png</td>\n",
       "      <td>...</td>\n",
       "      <td>High/ High</td>\n",
       "      <td>Unique</td>\n",
       "      <td>Yes</td>\n",
       "      <td>&lt;span class=\"pos pos13\"&gt;RCM</td>\n",
       "      <td>Aug 30, 2015</td>\n",
       "      <td>2025</td>\n",
       "      <td>181cm</td>\n",
       "      <td>70kg</td>\n",
       "      <td>€198.9M</td>\n",
       "      <td>17.0</td>\n",
       "    </tr>\n",
       "    <tr>\n",
       "      <th>4</th>\n",
       "      <td>224232</td>\n",
       "      <td>N. Barella</td>\n",
       "      <td>25</td>\n",
       "      <td>https://cdn.sofifa.net/players/224/232/23_60.png</td>\n",
       "      <td>Italy</td>\n",
       "      <td>https://cdn.sofifa.net/flags/it.png</td>\n",
       "      <td>86</td>\n",
       "      <td>89</td>\n",
       "      <td>Inter</td>\n",
       "      <td>https://cdn.sofifa.net/teams/44/30.png</td>\n",
       "      <td>...</td>\n",
       "      <td>High/ High</td>\n",
       "      <td>Normal (170-)</td>\n",
       "      <td>Yes</td>\n",
       "      <td>&lt;span class=\"pos pos13\"&gt;RCM</td>\n",
       "      <td>Sep 1, 2020</td>\n",
       "      <td>2026</td>\n",
       "      <td>172cm</td>\n",
       "      <td>68kg</td>\n",
       "      <td>€154.4M</td>\n",
       "      <td>23.0</td>\n",
       "    </tr>\n",
       "    <tr>\n",
       "      <th>...</th>\n",
       "      <td>...</td>\n",
       "      <td>...</td>\n",
       "      <td>...</td>\n",
       "      <td>...</td>\n",
       "      <td>...</td>\n",
       "      <td>...</td>\n",
       "      <td>...</td>\n",
       "      <td>...</td>\n",
       "      <td>...</td>\n",
       "      <td>...</td>\n",
       "      <td>...</td>\n",
       "      <td>...</td>\n",
       "      <td>...</td>\n",
       "      <td>...</td>\n",
       "      <td>...</td>\n",
       "      <td>...</td>\n",
       "      <td>...</td>\n",
       "      <td>...</td>\n",
       "      <td>...</td>\n",
       "      <td>...</td>\n",
       "      <td>...</td>\n",
       "    </tr>\n",
       "    <tr>\n",
       "      <th>17655</th>\n",
       "      <td>269526</td>\n",
       "      <td>Deng Xiongtao</td>\n",
       "      <td>19</td>\n",
       "      <td>https://cdn.sofifa.net/players/269/526/23_60.png</td>\n",
       "      <td>China PR</td>\n",
       "      <td>https://cdn.sofifa.net/flags/cn.png</td>\n",
       "      <td>48</td>\n",
       "      <td>61</td>\n",
       "      <td>Meizhou Hakka</td>\n",
       "      <td>https://cdn.sofifa.net/teams/114628/30.png</td>\n",
       "      <td>...</td>\n",
       "      <td>Medium/ Medium</td>\n",
       "      <td>Normal (185+)</td>\n",
       "      <td>No</td>\n",
       "      <td>&lt;span class=\"pos pos29\"&gt;RES</td>\n",
       "      <td>Apr 11, 2022</td>\n",
       "      <td>2027</td>\n",
       "      <td>190cm</td>\n",
       "      <td>78kg</td>\n",
       "      <td>€218K</td>\n",
       "      <td>35.0</td>\n",
       "    </tr>\n",
       "    <tr>\n",
       "      <th>17656</th>\n",
       "      <td>267946</td>\n",
       "      <td>22 Lim Jun Sub</td>\n",
       "      <td>17</td>\n",
       "      <td>https://cdn.sofifa.net/players/267/946/22_60.png</td>\n",
       "      <td>Korea Republic</td>\n",
       "      <td>https://cdn.sofifa.net/flags/kr.png</td>\n",
       "      <td>48</td>\n",
       "      <td>64</td>\n",
       "      <td>Jeju United FC</td>\n",
       "      <td>https://cdn.sofifa.net/teams/1478/30.png</td>\n",
       "      <td>...</td>\n",
       "      <td>Medium/ Medium</td>\n",
       "      <td>Lean (185+)</td>\n",
       "      <td>No</td>\n",
       "      <td>&lt;span class=\"pos pos29\"&gt;RES</td>\n",
       "      <td>Jan 1, 2022</td>\n",
       "      <td>2026</td>\n",
       "      <td>195cm</td>\n",
       "      <td>84kg</td>\n",
       "      <td>€188K</td>\n",
       "      <td>21.0</td>\n",
       "    </tr>\n",
       "    <tr>\n",
       "      <th>17657</th>\n",
       "      <td>270567</td>\n",
       "      <td>A. Demir</td>\n",
       "      <td>25</td>\n",
       "      <td>https://cdn.sofifa.net/players/270/567/23_60.png</td>\n",
       "      <td>Turkey</td>\n",
       "      <td>https://cdn.sofifa.net/flags/tr.png</td>\n",
       "      <td>51</td>\n",
       "      <td>56</td>\n",
       "      <td>Ümraniyespor</td>\n",
       "      <td>https://cdn.sofifa.net/teams/113796/30.png</td>\n",
       "      <td>...</td>\n",
       "      <td>Medium/ Medium</td>\n",
       "      <td>Lean (185+)</td>\n",
       "      <td>No</td>\n",
       "      <td>&lt;span class=\"pos pos29\"&gt;RES</td>\n",
       "      <td>Jun 6, 2021</td>\n",
       "      <td>2023</td>\n",
       "      <td>190cm</td>\n",
       "      <td>82kg</td>\n",
       "      <td>€142K</td>\n",
       "      <td>12.0</td>\n",
       "    </tr>\n",
       "    <tr>\n",
       "      <th>17658</th>\n",
       "      <td>256624</td>\n",
       "      <td>21 S. Czajor</td>\n",
       "      <td>18</td>\n",
       "      <td>https://cdn.sofifa.net/players/256/624/21_60.png</td>\n",
       "      <td>Poland</td>\n",
       "      <td>https://cdn.sofifa.net/flags/pl.png</td>\n",
       "      <td>50</td>\n",
       "      <td>65</td>\n",
       "      <td>Fleetwood Town</td>\n",
       "      <td>https://cdn.sofifa.net/teams/112260/30.png</td>\n",
       "      <td>...</td>\n",
       "      <td>Medium/ Medium</td>\n",
       "      <td>Normal (185+)</td>\n",
       "      <td>No</td>\n",
       "      <td>&lt;span class=\"pos pos29\"&gt;RES</td>\n",
       "      <td>Jan 1, 2020</td>\n",
       "      <td>2021</td>\n",
       "      <td>187cm</td>\n",
       "      <td>79kg</td>\n",
       "      <td>€214K</td>\n",
       "      <td>40.0</td>\n",
       "    </tr>\n",
       "    <tr>\n",
       "      <th>17659</th>\n",
       "      <td>256376</td>\n",
       "      <td>21 F. Jakobsson</td>\n",
       "      <td>20</td>\n",
       "      <td>https://cdn.sofifa.net/players/256/376/21_60.png</td>\n",
       "      <td>Sweden</td>\n",
       "      <td>https://cdn.sofifa.net/flags/se.png</td>\n",
       "      <td>50</td>\n",
       "      <td>61</td>\n",
       "      <td>IFK Norrköping</td>\n",
       "      <td>https://cdn.sofifa.net/teams/702/30.png</td>\n",
       "      <td>...</td>\n",
       "      <td>Medium/ Medium</td>\n",
       "      <td>Normal (185+)</td>\n",
       "      <td>No</td>\n",
       "      <td>&lt;span class=\"pos pos29\"&gt;RES</td>\n",
       "      <td>Jan 8, 2020</td>\n",
       "      <td>2021</td>\n",
       "      <td>186cm</td>\n",
       "      <td>78kg</td>\n",
       "      <td>€131K</td>\n",
       "      <td>30.0</td>\n",
       "    </tr>\n",
       "  </tbody>\n",
       "</table>\n",
       "<p>16364 rows × 27 columns</p>\n",
       "</div>"
      ],
      "text/plain": [
       "           ID             Name  Age  \\\n",
       "0      209658      L. Goretzka   27   \n",
       "1      212198  Bruno Fernandes   27   \n",
       "2      224334         M. Acuña   30   \n",
       "3      192985     K. De Bruyne   31   \n",
       "4      224232       N. Barella   25   \n",
       "...       ...              ...  ...   \n",
       "17655  269526    Deng Xiongtao   19   \n",
       "17656  267946   22 Lim Jun Sub   17   \n",
       "17657  270567         A. Demir   25   \n",
       "17658  256624     21 S. Czajor   18   \n",
       "17659  256376  21 F. Jakobsson   20   \n",
       "\n",
       "                                                  Photo     Nationality  \\\n",
       "0      https://cdn.sofifa.net/players/209/658/23_60.png         Germany   \n",
       "1      https://cdn.sofifa.net/players/212/198/23_60.png        Portugal   \n",
       "2      https://cdn.sofifa.net/players/224/334/23_60.png       Argentina   \n",
       "3      https://cdn.sofifa.net/players/192/985/23_60.png         Belgium   \n",
       "4      https://cdn.sofifa.net/players/224/232/23_60.png           Italy   \n",
       "...                                                 ...             ...   \n",
       "17655  https://cdn.sofifa.net/players/269/526/23_60.png        China PR   \n",
       "17656  https://cdn.sofifa.net/players/267/946/22_60.png  Korea Republic   \n",
       "17657  https://cdn.sofifa.net/players/270/567/23_60.png          Turkey   \n",
       "17658  https://cdn.sofifa.net/players/256/624/21_60.png          Poland   \n",
       "17659  https://cdn.sofifa.net/players/256/376/21_60.png          Sweden   \n",
       "\n",
       "                                      Flag  Overall  Potential  \\\n",
       "0      https://cdn.sofifa.net/flags/de.png       87         88   \n",
       "1      https://cdn.sofifa.net/flags/pt.png       86         87   \n",
       "2      https://cdn.sofifa.net/flags/ar.png       85         85   \n",
       "3      https://cdn.sofifa.net/flags/be.png       91         91   \n",
       "4      https://cdn.sofifa.net/flags/it.png       86         89   \n",
       "...                                    ...      ...        ...   \n",
       "17655  https://cdn.sofifa.net/flags/cn.png       48         61   \n",
       "17656  https://cdn.sofifa.net/flags/kr.png       48         64   \n",
       "17657  https://cdn.sofifa.net/flags/tr.png       51         56   \n",
       "17658  https://cdn.sofifa.net/flags/pl.png       50         65   \n",
       "17659  https://cdn.sofifa.net/flags/se.png       50         61   \n",
       "\n",
       "                    Club                                   Club Logo  ...  \\\n",
       "0      FC Bayern München      https://cdn.sofifa.net/teams/21/30.png  ...   \n",
       "1      Manchester United      https://cdn.sofifa.net/teams/11/30.png  ...   \n",
       "2             Sevilla FC     https://cdn.sofifa.net/teams/481/30.png  ...   \n",
       "3        Manchester City      https://cdn.sofifa.net/teams/10/30.png  ...   \n",
       "4                  Inter      https://cdn.sofifa.net/teams/44/30.png  ...   \n",
       "...                  ...                                         ...  ...   \n",
       "17655      Meizhou Hakka  https://cdn.sofifa.net/teams/114628/30.png  ...   \n",
       "17656     Jeju United FC    https://cdn.sofifa.net/teams/1478/30.png  ...   \n",
       "17657       Ümraniyespor  https://cdn.sofifa.net/teams/113796/30.png  ...   \n",
       "17658     Fleetwood Town  https://cdn.sofifa.net/teams/112260/30.png  ...   \n",
       "17659     IFK Norrköping     https://cdn.sofifa.net/teams/702/30.png  ...   \n",
       "\n",
       "            Work Rate         Body Type  Real Face  \\\n",
       "0        High/ Medium            Unique        Yes   \n",
       "1          High/ High            Unique        Yes   \n",
       "2          High/ High  Stocky (170-185)         No   \n",
       "3          High/ High            Unique        Yes   \n",
       "4          High/ High     Normal (170-)        Yes   \n",
       "...               ...               ...        ...   \n",
       "17655  Medium/ Medium     Normal (185+)         No   \n",
       "17656  Medium/ Medium       Lean (185+)         No   \n",
       "17657  Medium/ Medium       Lean (185+)         No   \n",
       "17658  Medium/ Medium     Normal (185+)         No   \n",
       "17659  Medium/ Medium     Normal (185+)         No   \n",
       "\n",
       "                          Position        Joined  Contract Valid Until  \\\n",
       "0      <span class=\"pos pos28\">SUB   Jul 1, 2018                  2026   \n",
       "1      <span class=\"pos pos15\">LCM  Jan 30, 2020                  2026   \n",
       "2        <span class=\"pos pos7\">LB  Sep 14, 2020                  2024   \n",
       "3      <span class=\"pos pos13\">RCM  Aug 30, 2015                  2025   \n",
       "4      <span class=\"pos pos13\">RCM   Sep 1, 2020                  2026   \n",
       "...                            ...           ...                   ...   \n",
       "17655  <span class=\"pos pos29\">RES  Apr 11, 2022                  2027   \n",
       "17656  <span class=\"pos pos29\">RES   Jan 1, 2022                  2026   \n",
       "17657  <span class=\"pos pos29\">RES   Jun 6, 2021                  2023   \n",
       "17658  <span class=\"pos pos29\">RES   Jan 1, 2020                  2021   \n",
       "17659  <span class=\"pos pos29\">RES   Jan 8, 2020                  2021   \n",
       "\n",
       "       Height Weight Release Clause Kit Number  \n",
       "0       189cm   82kg          €157M        8.0  \n",
       "1       179cm   69kg          €155M        8.0  \n",
       "2       172cm   69kg         €97.7M       19.0  \n",
       "3       181cm   70kg        €198.9M       17.0  \n",
       "4       172cm   68kg        €154.4M       23.0  \n",
       "...       ...    ...            ...        ...  \n",
       "17655   190cm   78kg          €218K       35.0  \n",
       "17656   195cm   84kg          €188K       21.0  \n",
       "17657   190cm   82kg          €142K       12.0  \n",
       "17658   187cm   79kg          €214K       40.0  \n",
       "17659   186cm   78kg          €131K       30.0  \n",
       "\n",
       "[16364 rows x 27 columns]"
      ]
     },
     "execution_count": 184,
     "metadata": {},
     "output_type": "execute_result"
    }
   ],
   "source": [
    "df"
   ]
  },
  {
   "cell_type": "code",
   "execution_count": 182,
   "id": "0a3f73c0-8669-455f-919f-3b429b43d718",
   "metadata": {
    "tags": []
   },
   "outputs": [
    {
     "data": {
      "text/html": [
       "<div>\n",
       "<style scoped>\n",
       "    .dataframe tbody tr th:only-of-type {\n",
       "        vertical-align: middle;\n",
       "    }\n",
       "\n",
       "    .dataframe tbody tr th {\n",
       "        vertical-align: top;\n",
       "    }\n",
       "\n",
       "    .dataframe thead th {\n",
       "        text-align: right;\n",
       "    }\n",
       "</style>\n",
       "<table border=\"1\" class=\"dataframe\">\n",
       "  <thead>\n",
       "    <tr style=\"text-align: right;\">\n",
       "      <th></th>\n",
       "      <th>ID</th>\n",
       "      <th>Name</th>\n",
       "      <th>Age</th>\n",
       "      <th>Photo</th>\n",
       "      <th>Nationality</th>\n",
       "      <th>Flag</th>\n",
       "      <th>Overall</th>\n",
       "      <th>Potential</th>\n",
       "      <th>Club</th>\n",
       "      <th>Club Logo</th>\n",
       "      <th>...</th>\n",
       "      <th>Work Rate</th>\n",
       "      <th>Body Type</th>\n",
       "      <th>Real Face</th>\n",
       "      <th>Position</th>\n",
       "      <th>Joined</th>\n",
       "      <th>Contract Valid Until</th>\n",
       "      <th>Height</th>\n",
       "      <th>Weight</th>\n",
       "      <th>Release Clause</th>\n",
       "      <th>Kit Number</th>\n",
       "    </tr>\n",
       "  </thead>\n",
       "  <tbody>\n",
       "    <tr>\n",
       "      <th>0</th>\n",
       "      <td>209658</td>\n",
       "      <td>L. Goretzka</td>\n",
       "      <td>27</td>\n",
       "      <td>https://cdn.sofifa.net/players/209/658/23_60.png</td>\n",
       "      <td>Germany</td>\n",
       "      <td>https://cdn.sofifa.net/flags/de.png</td>\n",
       "      <td>87</td>\n",
       "      <td>88</td>\n",
       "      <td>FC Bayern München</td>\n",
       "      <td>https://cdn.sofifa.net/teams/21/30.png</td>\n",
       "      <td>...</td>\n",
       "      <td>High/ Medium</td>\n",
       "      <td>Unique</td>\n",
       "      <td>Yes</td>\n",
       "      <td>&lt;span class=\"pos pos28\"&gt;SUB</td>\n",
       "      <td>Jul 1, 2018</td>\n",
       "      <td>2026</td>\n",
       "      <td>189cm</td>\n",
       "      <td>82kg</td>\n",
       "      <td>€157M</td>\n",
       "      <td>8.0</td>\n",
       "    </tr>\n",
       "    <tr>\n",
       "      <th>1</th>\n",
       "      <td>212198</td>\n",
       "      <td>Bruno Fernandes</td>\n",
       "      <td>27</td>\n",
       "      <td>https://cdn.sofifa.net/players/212/198/23_60.png</td>\n",
       "      <td>Portugal</td>\n",
       "      <td>https://cdn.sofifa.net/flags/pt.png</td>\n",
       "      <td>86</td>\n",
       "      <td>87</td>\n",
       "      <td>Manchester United</td>\n",
       "      <td>https://cdn.sofifa.net/teams/11/30.png</td>\n",
       "      <td>...</td>\n",
       "      <td>High/ High</td>\n",
       "      <td>Unique</td>\n",
       "      <td>Yes</td>\n",
       "      <td>&lt;span class=\"pos pos15\"&gt;LCM</td>\n",
       "      <td>Jan 30, 2020</td>\n",
       "      <td>2026</td>\n",
       "      <td>179cm</td>\n",
       "      <td>69kg</td>\n",
       "      <td>€155M</td>\n",
       "      <td>8.0</td>\n",
       "    </tr>\n",
       "    <tr>\n",
       "      <th>2</th>\n",
       "      <td>224334</td>\n",
       "      <td>M. Acuña</td>\n",
       "      <td>30</td>\n",
       "      <td>https://cdn.sofifa.net/players/224/334/23_60.png</td>\n",
       "      <td>Argentina</td>\n",
       "      <td>https://cdn.sofifa.net/flags/ar.png</td>\n",
       "      <td>85</td>\n",
       "      <td>85</td>\n",
       "      <td>Sevilla FC</td>\n",
       "      <td>https://cdn.sofifa.net/teams/481/30.png</td>\n",
       "      <td>...</td>\n",
       "      <td>High/ High</td>\n",
       "      <td>Stocky (170-185)</td>\n",
       "      <td>No</td>\n",
       "      <td>&lt;span class=\"pos pos7\"&gt;LB</td>\n",
       "      <td>Sep 14, 2020</td>\n",
       "      <td>2024</td>\n",
       "      <td>172cm</td>\n",
       "      <td>69kg</td>\n",
       "      <td>€97.7M</td>\n",
       "      <td>19.0</td>\n",
       "    </tr>\n",
       "    <tr>\n",
       "      <th>3</th>\n",
       "      <td>192985</td>\n",
       "      <td>K. De Bruyne</td>\n",
       "      <td>31</td>\n",
       "      <td>https://cdn.sofifa.net/players/192/985/23_60.png</td>\n",
       "      <td>Belgium</td>\n",
       "      <td>https://cdn.sofifa.net/flags/be.png</td>\n",
       "      <td>91</td>\n",
       "      <td>91</td>\n",
       "      <td>Manchester City</td>\n",
       "      <td>https://cdn.sofifa.net/teams/10/30.png</td>\n",
       "      <td>...</td>\n",
       "      <td>High/ High</td>\n",
       "      <td>Unique</td>\n",
       "      <td>Yes</td>\n",
       "      <td>&lt;span class=\"pos pos13\"&gt;RCM</td>\n",
       "      <td>Aug 30, 2015</td>\n",
       "      <td>2025</td>\n",
       "      <td>181cm</td>\n",
       "      <td>70kg</td>\n",
       "      <td>€198.9M</td>\n",
       "      <td>17.0</td>\n",
       "    </tr>\n",
       "    <tr>\n",
       "      <th>4</th>\n",
       "      <td>224232</td>\n",
       "      <td>N. Barella</td>\n",
       "      <td>25</td>\n",
       "      <td>https://cdn.sofifa.net/players/224/232/23_60.png</td>\n",
       "      <td>Italy</td>\n",
       "      <td>https://cdn.sofifa.net/flags/it.png</td>\n",
       "      <td>86</td>\n",
       "      <td>89</td>\n",
       "      <td>Inter</td>\n",
       "      <td>https://cdn.sofifa.net/teams/44/30.png</td>\n",
       "      <td>...</td>\n",
       "      <td>High/ High</td>\n",
       "      <td>Normal (170-)</td>\n",
       "      <td>Yes</td>\n",
       "      <td>&lt;span class=\"pos pos13\"&gt;RCM</td>\n",
       "      <td>Sep 1, 2020</td>\n",
       "      <td>2026</td>\n",
       "      <td>172cm</td>\n",
       "      <td>68kg</td>\n",
       "      <td>€154.4M</td>\n",
       "      <td>23.0</td>\n",
       "    </tr>\n",
       "    <tr>\n",
       "      <th>...</th>\n",
       "      <td>...</td>\n",
       "      <td>...</td>\n",
       "      <td>...</td>\n",
       "      <td>...</td>\n",
       "      <td>...</td>\n",
       "      <td>...</td>\n",
       "      <td>...</td>\n",
       "      <td>...</td>\n",
       "      <td>...</td>\n",
       "      <td>...</td>\n",
       "      <td>...</td>\n",
       "      <td>...</td>\n",
       "      <td>...</td>\n",
       "      <td>...</td>\n",
       "      <td>...</td>\n",
       "      <td>...</td>\n",
       "      <td>...</td>\n",
       "      <td>...</td>\n",
       "      <td>...</td>\n",
       "      <td>...</td>\n",
       "      <td>...</td>\n",
       "    </tr>\n",
       "    <tr>\n",
       "      <th>17655</th>\n",
       "      <td>269526</td>\n",
       "      <td>Deng Xiongtao</td>\n",
       "      <td>19</td>\n",
       "      <td>https://cdn.sofifa.net/players/269/526/23_60.png</td>\n",
       "      <td>China PR</td>\n",
       "      <td>https://cdn.sofifa.net/flags/cn.png</td>\n",
       "      <td>48</td>\n",
       "      <td>61</td>\n",
       "      <td>Meizhou Hakka</td>\n",
       "      <td>https://cdn.sofifa.net/teams/114628/30.png</td>\n",
       "      <td>...</td>\n",
       "      <td>Medium/ Medium</td>\n",
       "      <td>Normal (185+)</td>\n",
       "      <td>No</td>\n",
       "      <td>&lt;span class=\"pos pos29\"&gt;RES</td>\n",
       "      <td>Apr 11, 2022</td>\n",
       "      <td>2027</td>\n",
       "      <td>190cm</td>\n",
       "      <td>78kg</td>\n",
       "      <td>€218K</td>\n",
       "      <td>35.0</td>\n",
       "    </tr>\n",
       "    <tr>\n",
       "      <th>17656</th>\n",
       "      <td>267946</td>\n",
       "      <td>22 Lim Jun Sub</td>\n",
       "      <td>17</td>\n",
       "      <td>https://cdn.sofifa.net/players/267/946/22_60.png</td>\n",
       "      <td>Korea Republic</td>\n",
       "      <td>https://cdn.sofifa.net/flags/kr.png</td>\n",
       "      <td>48</td>\n",
       "      <td>64</td>\n",
       "      <td>Jeju United FC</td>\n",
       "      <td>https://cdn.sofifa.net/teams/1478/30.png</td>\n",
       "      <td>...</td>\n",
       "      <td>Medium/ Medium</td>\n",
       "      <td>Lean (185+)</td>\n",
       "      <td>No</td>\n",
       "      <td>&lt;span class=\"pos pos29\"&gt;RES</td>\n",
       "      <td>Jan 1, 2022</td>\n",
       "      <td>2026</td>\n",
       "      <td>195cm</td>\n",
       "      <td>84kg</td>\n",
       "      <td>€188K</td>\n",
       "      <td>21.0</td>\n",
       "    </tr>\n",
       "    <tr>\n",
       "      <th>17657</th>\n",
       "      <td>270567</td>\n",
       "      <td>A. Demir</td>\n",
       "      <td>25</td>\n",
       "      <td>https://cdn.sofifa.net/players/270/567/23_60.png</td>\n",
       "      <td>Turkey</td>\n",
       "      <td>https://cdn.sofifa.net/flags/tr.png</td>\n",
       "      <td>51</td>\n",
       "      <td>56</td>\n",
       "      <td>Ümraniyespor</td>\n",
       "      <td>https://cdn.sofifa.net/teams/113796/30.png</td>\n",
       "      <td>...</td>\n",
       "      <td>Medium/ Medium</td>\n",
       "      <td>Lean (185+)</td>\n",
       "      <td>No</td>\n",
       "      <td>&lt;span class=\"pos pos29\"&gt;RES</td>\n",
       "      <td>Jun 6, 2021</td>\n",
       "      <td>2023</td>\n",
       "      <td>190cm</td>\n",
       "      <td>82kg</td>\n",
       "      <td>€142K</td>\n",
       "      <td>12.0</td>\n",
       "    </tr>\n",
       "    <tr>\n",
       "      <th>17658</th>\n",
       "      <td>256624</td>\n",
       "      <td>21 S. Czajor</td>\n",
       "      <td>18</td>\n",
       "      <td>https://cdn.sofifa.net/players/256/624/21_60.png</td>\n",
       "      <td>Poland</td>\n",
       "      <td>https://cdn.sofifa.net/flags/pl.png</td>\n",
       "      <td>50</td>\n",
       "      <td>65</td>\n",
       "      <td>Fleetwood Town</td>\n",
       "      <td>https://cdn.sofifa.net/teams/112260/30.png</td>\n",
       "      <td>...</td>\n",
       "      <td>Medium/ Medium</td>\n",
       "      <td>Normal (185+)</td>\n",
       "      <td>No</td>\n",
       "      <td>&lt;span class=\"pos pos29\"&gt;RES</td>\n",
       "      <td>Jan 1, 2020</td>\n",
       "      <td>2021</td>\n",
       "      <td>187cm</td>\n",
       "      <td>79kg</td>\n",
       "      <td>€214K</td>\n",
       "      <td>40.0</td>\n",
       "    </tr>\n",
       "    <tr>\n",
       "      <th>17659</th>\n",
       "      <td>256376</td>\n",
       "      <td>21 F. Jakobsson</td>\n",
       "      <td>20</td>\n",
       "      <td>https://cdn.sofifa.net/players/256/376/21_60.png</td>\n",
       "      <td>Sweden</td>\n",
       "      <td>https://cdn.sofifa.net/flags/se.png</td>\n",
       "      <td>50</td>\n",
       "      <td>61</td>\n",
       "      <td>IFK Norrköping</td>\n",
       "      <td>https://cdn.sofifa.net/teams/702/30.png</td>\n",
       "      <td>...</td>\n",
       "      <td>Medium/ Medium</td>\n",
       "      <td>Normal (185+)</td>\n",
       "      <td>No</td>\n",
       "      <td>&lt;span class=\"pos pos29\"&gt;RES</td>\n",
       "      <td>Jan 8, 2020</td>\n",
       "      <td>2021</td>\n",
       "      <td>186cm</td>\n",
       "      <td>78kg</td>\n",
       "      <td>€131K</td>\n",
       "      <td>30.0</td>\n",
       "    </tr>\n",
       "  </tbody>\n",
       "</table>\n",
       "<p>16364 rows × 27 columns</p>\n",
       "</div>"
      ],
      "text/plain": [
       "           ID             Name  Age  \\\n",
       "0      209658      L. Goretzka   27   \n",
       "1      212198  Bruno Fernandes   27   \n",
       "2      224334         M. Acuña   30   \n",
       "3      192985     K. De Bruyne   31   \n",
       "4      224232       N. Barella   25   \n",
       "...       ...              ...  ...   \n",
       "17655  269526    Deng Xiongtao   19   \n",
       "17656  267946   22 Lim Jun Sub   17   \n",
       "17657  270567         A. Demir   25   \n",
       "17658  256624     21 S. Czajor   18   \n",
       "17659  256376  21 F. Jakobsson   20   \n",
       "\n",
       "                                                  Photo     Nationality  \\\n",
       "0      https://cdn.sofifa.net/players/209/658/23_60.png         Germany   \n",
       "1      https://cdn.sofifa.net/players/212/198/23_60.png        Portugal   \n",
       "2      https://cdn.sofifa.net/players/224/334/23_60.png       Argentina   \n",
       "3      https://cdn.sofifa.net/players/192/985/23_60.png         Belgium   \n",
       "4      https://cdn.sofifa.net/players/224/232/23_60.png           Italy   \n",
       "...                                                 ...             ...   \n",
       "17655  https://cdn.sofifa.net/players/269/526/23_60.png        China PR   \n",
       "17656  https://cdn.sofifa.net/players/267/946/22_60.png  Korea Republic   \n",
       "17657  https://cdn.sofifa.net/players/270/567/23_60.png          Turkey   \n",
       "17658  https://cdn.sofifa.net/players/256/624/21_60.png          Poland   \n",
       "17659  https://cdn.sofifa.net/players/256/376/21_60.png          Sweden   \n",
       "\n",
       "                                      Flag  Overall  Potential  \\\n",
       "0      https://cdn.sofifa.net/flags/de.png       87         88   \n",
       "1      https://cdn.sofifa.net/flags/pt.png       86         87   \n",
       "2      https://cdn.sofifa.net/flags/ar.png       85         85   \n",
       "3      https://cdn.sofifa.net/flags/be.png       91         91   \n",
       "4      https://cdn.sofifa.net/flags/it.png       86         89   \n",
       "...                                    ...      ...        ...   \n",
       "17655  https://cdn.sofifa.net/flags/cn.png       48         61   \n",
       "17656  https://cdn.sofifa.net/flags/kr.png       48         64   \n",
       "17657  https://cdn.sofifa.net/flags/tr.png       51         56   \n",
       "17658  https://cdn.sofifa.net/flags/pl.png       50         65   \n",
       "17659  https://cdn.sofifa.net/flags/se.png       50         61   \n",
       "\n",
       "                    Club                                   Club Logo  ...  \\\n",
       "0      FC Bayern München      https://cdn.sofifa.net/teams/21/30.png  ...   \n",
       "1      Manchester United      https://cdn.sofifa.net/teams/11/30.png  ...   \n",
       "2             Sevilla FC     https://cdn.sofifa.net/teams/481/30.png  ...   \n",
       "3        Manchester City      https://cdn.sofifa.net/teams/10/30.png  ...   \n",
       "4                  Inter      https://cdn.sofifa.net/teams/44/30.png  ...   \n",
       "...                  ...                                         ...  ...   \n",
       "17655      Meizhou Hakka  https://cdn.sofifa.net/teams/114628/30.png  ...   \n",
       "17656     Jeju United FC    https://cdn.sofifa.net/teams/1478/30.png  ...   \n",
       "17657       Ümraniyespor  https://cdn.sofifa.net/teams/113796/30.png  ...   \n",
       "17658     Fleetwood Town  https://cdn.sofifa.net/teams/112260/30.png  ...   \n",
       "17659     IFK Norrköping     https://cdn.sofifa.net/teams/702/30.png  ...   \n",
       "\n",
       "            Work Rate         Body Type  Real Face  \\\n",
       "0        High/ Medium            Unique        Yes   \n",
       "1          High/ High            Unique        Yes   \n",
       "2          High/ High  Stocky (170-185)         No   \n",
       "3          High/ High            Unique        Yes   \n",
       "4          High/ High     Normal (170-)        Yes   \n",
       "...               ...               ...        ...   \n",
       "17655  Medium/ Medium     Normal (185+)         No   \n",
       "17656  Medium/ Medium       Lean (185+)         No   \n",
       "17657  Medium/ Medium       Lean (185+)         No   \n",
       "17658  Medium/ Medium     Normal (185+)         No   \n",
       "17659  Medium/ Medium     Normal (185+)         No   \n",
       "\n",
       "                          Position        Joined  Contract Valid Until  \\\n",
       "0      <span class=\"pos pos28\">SUB   Jul 1, 2018                  2026   \n",
       "1      <span class=\"pos pos15\">LCM  Jan 30, 2020                  2026   \n",
       "2        <span class=\"pos pos7\">LB  Sep 14, 2020                  2024   \n",
       "3      <span class=\"pos pos13\">RCM  Aug 30, 2015                  2025   \n",
       "4      <span class=\"pos pos13\">RCM   Sep 1, 2020                  2026   \n",
       "...                            ...           ...                   ...   \n",
       "17655  <span class=\"pos pos29\">RES  Apr 11, 2022                  2027   \n",
       "17656  <span class=\"pos pos29\">RES   Jan 1, 2022                  2026   \n",
       "17657  <span class=\"pos pos29\">RES   Jun 6, 2021                  2023   \n",
       "17658  <span class=\"pos pos29\">RES   Jan 1, 2020                  2021   \n",
       "17659  <span class=\"pos pos29\">RES   Jan 8, 2020                  2021   \n",
       "\n",
       "       Height Weight Release Clause Kit Number  \n",
       "0       189cm   82kg          €157M        8.0  \n",
       "1       179cm   69kg          €155M        8.0  \n",
       "2       172cm   69kg         €97.7M       19.0  \n",
       "3       181cm   70kg        €198.9M       17.0  \n",
       "4       172cm   68kg        €154.4M       23.0  \n",
       "...       ...    ...            ...        ...  \n",
       "17655   190cm   78kg          €218K       35.0  \n",
       "17656   195cm   84kg          €188K       21.0  \n",
       "17657   190cm   82kg          €142K       12.0  \n",
       "17658   187cm   79kg          €214K       40.0  \n",
       "17659   186cm   78kg          €131K       30.0  \n",
       "\n",
       "[16364 rows x 27 columns]"
      ]
     },
     "execution_count": 182,
     "metadata": {},
     "output_type": "execute_result"
    }
   ],
   "source": [
    "df.drop(['Loaned From','Best Overall Rating'],axis=1).dropna()"
   ]
  },
  {
   "cell_type": "markdown",
   "id": "7b49f817-0dd9-4f22-98d4-efc9ffb944db",
   "metadata": {},
   "source": [
    "`-` (풀이1)"
   ]
  },
  {
   "cell_type": "code",
   "execution_count": 89,
   "id": "9c39d967-13c3-4360-a882-596f69189399",
   "metadata": {},
   "outputs": [
    {
     "data": {
      "text/plain": [
       "'<span class=\"pos pos28\">SUB'"
      ]
     },
     "execution_count": 89,
     "metadata": {},
     "output_type": "execute_result"
    }
   ],
   "source": [
    "x = df.Position[0]\n",
    "x"
   ]
  },
  {
   "cell_type": "code",
   "execution_count": 90,
   "id": "f3631878-4bbe-49d4-85bd-a821e96816db",
   "metadata": {},
   "outputs": [
    {
     "data": {
      "text/html": [
       "<div>\n",
       "<style scoped>\n",
       "    .dataframe tbody tr th:only-of-type {\n",
       "        vertical-align: middle;\n",
       "    }\n",
       "\n",
       "    .dataframe tbody tr th {\n",
       "        vertical-align: top;\n",
       "    }\n",
       "\n",
       "    .dataframe thead th {\n",
       "        text-align: right;\n",
       "    }\n",
       "</style>\n",
       "<table border=\"1\" class=\"dataframe\">\n",
       "  <thead>\n",
       "    <tr style=\"text-align: right;\">\n",
       "      <th></th>\n",
       "      <th>ID</th>\n",
       "      <th>Name</th>\n",
       "      <th>Age</th>\n",
       "      <th>Photo</th>\n",
       "      <th>Nationality</th>\n",
       "      <th>Flag</th>\n",
       "      <th>Overall</th>\n",
       "      <th>Potential</th>\n",
       "      <th>Club</th>\n",
       "      <th>Club Logo</th>\n",
       "      <th>...</th>\n",
       "      <th>Real Face</th>\n",
       "      <th>Position</th>\n",
       "      <th>Joined</th>\n",
       "      <th>Loaned From</th>\n",
       "      <th>Contract Valid Until</th>\n",
       "      <th>Height</th>\n",
       "      <th>Weight</th>\n",
       "      <th>Release Clause</th>\n",
       "      <th>Kit Number</th>\n",
       "      <th>Best Overall Rating</th>\n",
       "    </tr>\n",
       "  </thead>\n",
       "  <tbody>\n",
       "    <tr>\n",
       "      <th>0</th>\n",
       "      <td>209658</td>\n",
       "      <td>L. Goretzka</td>\n",
       "      <td>27</td>\n",
       "      <td>https://cdn.sofifa.net/players/209/658/23_60.png</td>\n",
       "      <td>Germany</td>\n",
       "      <td>https://cdn.sofifa.net/flags/de.png</td>\n",
       "      <td>87</td>\n",
       "      <td>88</td>\n",
       "      <td>FC Bayern München</td>\n",
       "      <td>https://cdn.sofifa.net/teams/21/30.png</td>\n",
       "      <td>...</td>\n",
       "      <td>Yes</td>\n",
       "      <td>SUB</td>\n",
       "      <td>Jul 1, 2018</td>\n",
       "      <td>NaN</td>\n",
       "      <td>2026</td>\n",
       "      <td>189cm</td>\n",
       "      <td>82kg</td>\n",
       "      <td>€157M</td>\n",
       "      <td>8.0</td>\n",
       "      <td>NaN</td>\n",
       "    </tr>\n",
       "    <tr>\n",
       "      <th>1</th>\n",
       "      <td>212198</td>\n",
       "      <td>Bruno Fernandes</td>\n",
       "      <td>27</td>\n",
       "      <td>https://cdn.sofifa.net/players/212/198/23_60.png</td>\n",
       "      <td>Portugal</td>\n",
       "      <td>https://cdn.sofifa.net/flags/pt.png</td>\n",
       "      <td>86</td>\n",
       "      <td>87</td>\n",
       "      <td>Manchester United</td>\n",
       "      <td>https://cdn.sofifa.net/teams/11/30.png</td>\n",
       "      <td>...</td>\n",
       "      <td>Yes</td>\n",
       "      <td>LCM</td>\n",
       "      <td>Jan 30, 2020</td>\n",
       "      <td>NaN</td>\n",
       "      <td>2026</td>\n",
       "      <td>179cm</td>\n",
       "      <td>69kg</td>\n",
       "      <td>€155M</td>\n",
       "      <td>8.0</td>\n",
       "      <td>NaN</td>\n",
       "    </tr>\n",
       "    <tr>\n",
       "      <th>2</th>\n",
       "      <td>224334</td>\n",
       "      <td>M. Acuña</td>\n",
       "      <td>30</td>\n",
       "      <td>https://cdn.sofifa.net/players/224/334/23_60.png</td>\n",
       "      <td>Argentina</td>\n",
       "      <td>https://cdn.sofifa.net/flags/ar.png</td>\n",
       "      <td>85</td>\n",
       "      <td>85</td>\n",
       "      <td>Sevilla FC</td>\n",
       "      <td>https://cdn.sofifa.net/teams/481/30.png</td>\n",
       "      <td>...</td>\n",
       "      <td>No</td>\n",
       "      <td>LB</td>\n",
       "      <td>Sep 14, 2020</td>\n",
       "      <td>NaN</td>\n",
       "      <td>2024</td>\n",
       "      <td>172cm</td>\n",
       "      <td>69kg</td>\n",
       "      <td>€97.7M</td>\n",
       "      <td>19.0</td>\n",
       "      <td>NaN</td>\n",
       "    </tr>\n",
       "    <tr>\n",
       "      <th>3</th>\n",
       "      <td>192985</td>\n",
       "      <td>K. De Bruyne</td>\n",
       "      <td>31</td>\n",
       "      <td>https://cdn.sofifa.net/players/192/985/23_60.png</td>\n",
       "      <td>Belgium</td>\n",
       "      <td>https://cdn.sofifa.net/flags/be.png</td>\n",
       "      <td>91</td>\n",
       "      <td>91</td>\n",
       "      <td>Manchester City</td>\n",
       "      <td>https://cdn.sofifa.net/teams/10/30.png</td>\n",
       "      <td>...</td>\n",
       "      <td>Yes</td>\n",
       "      <td>RCM</td>\n",
       "      <td>Aug 30, 2015</td>\n",
       "      <td>NaN</td>\n",
       "      <td>2025</td>\n",
       "      <td>181cm</td>\n",
       "      <td>70kg</td>\n",
       "      <td>€198.9M</td>\n",
       "      <td>17.0</td>\n",
       "      <td>NaN</td>\n",
       "    </tr>\n",
       "    <tr>\n",
       "      <th>4</th>\n",
       "      <td>224232</td>\n",
       "      <td>N. Barella</td>\n",
       "      <td>25</td>\n",
       "      <td>https://cdn.sofifa.net/players/224/232/23_60.png</td>\n",
       "      <td>Italy</td>\n",
       "      <td>https://cdn.sofifa.net/flags/it.png</td>\n",
       "      <td>86</td>\n",
       "      <td>89</td>\n",
       "      <td>Inter</td>\n",
       "      <td>https://cdn.sofifa.net/teams/44/30.png</td>\n",
       "      <td>...</td>\n",
       "      <td>Yes</td>\n",
       "      <td>RCM</td>\n",
       "      <td>Sep 1, 2020</td>\n",
       "      <td>NaN</td>\n",
       "      <td>2026</td>\n",
       "      <td>172cm</td>\n",
       "      <td>68kg</td>\n",
       "      <td>€154.4M</td>\n",
       "      <td>23.0</td>\n",
       "      <td>NaN</td>\n",
       "    </tr>\n",
       "    <tr>\n",
       "      <th>...</th>\n",
       "      <td>...</td>\n",
       "      <td>...</td>\n",
       "      <td>...</td>\n",
       "      <td>...</td>\n",
       "      <td>...</td>\n",
       "      <td>...</td>\n",
       "      <td>...</td>\n",
       "      <td>...</td>\n",
       "      <td>...</td>\n",
       "      <td>...</td>\n",
       "      <td>...</td>\n",
       "      <td>...</td>\n",
       "      <td>...</td>\n",
       "      <td>...</td>\n",
       "      <td>...</td>\n",
       "      <td>...</td>\n",
       "      <td>...</td>\n",
       "      <td>...</td>\n",
       "      <td>...</td>\n",
       "      <td>...</td>\n",
       "      <td>...</td>\n",
       "    </tr>\n",
       "    <tr>\n",
       "      <th>17655</th>\n",
       "      <td>269526</td>\n",
       "      <td>Deng Xiongtao</td>\n",
       "      <td>19</td>\n",
       "      <td>https://cdn.sofifa.net/players/269/526/23_60.png</td>\n",
       "      <td>China PR</td>\n",
       "      <td>https://cdn.sofifa.net/flags/cn.png</td>\n",
       "      <td>48</td>\n",
       "      <td>61</td>\n",
       "      <td>Meizhou Hakka</td>\n",
       "      <td>https://cdn.sofifa.net/teams/114628/30.png</td>\n",
       "      <td>...</td>\n",
       "      <td>No</td>\n",
       "      <td>RES</td>\n",
       "      <td>Apr 11, 2022</td>\n",
       "      <td>NaN</td>\n",
       "      <td>2027</td>\n",
       "      <td>190cm</td>\n",
       "      <td>78kg</td>\n",
       "      <td>€218K</td>\n",
       "      <td>35.0</td>\n",
       "      <td>NaN</td>\n",
       "    </tr>\n",
       "    <tr>\n",
       "      <th>17656</th>\n",
       "      <td>267946</td>\n",
       "      <td>22 Lim Jun Sub</td>\n",
       "      <td>17</td>\n",
       "      <td>https://cdn.sofifa.net/players/267/946/22_60.png</td>\n",
       "      <td>Korea Republic</td>\n",
       "      <td>https://cdn.sofifa.net/flags/kr.png</td>\n",
       "      <td>48</td>\n",
       "      <td>64</td>\n",
       "      <td>Jeju United FC</td>\n",
       "      <td>https://cdn.sofifa.net/teams/1478/30.png</td>\n",
       "      <td>...</td>\n",
       "      <td>No</td>\n",
       "      <td>RES</td>\n",
       "      <td>Jan 1, 2022</td>\n",
       "      <td>NaN</td>\n",
       "      <td>2026</td>\n",
       "      <td>195cm</td>\n",
       "      <td>84kg</td>\n",
       "      <td>€188K</td>\n",
       "      <td>21.0</td>\n",
       "      <td>NaN</td>\n",
       "    </tr>\n",
       "    <tr>\n",
       "      <th>17657</th>\n",
       "      <td>270567</td>\n",
       "      <td>A. Demir</td>\n",
       "      <td>25</td>\n",
       "      <td>https://cdn.sofifa.net/players/270/567/23_60.png</td>\n",
       "      <td>Turkey</td>\n",
       "      <td>https://cdn.sofifa.net/flags/tr.png</td>\n",
       "      <td>51</td>\n",
       "      <td>56</td>\n",
       "      <td>Ümraniyespor</td>\n",
       "      <td>https://cdn.sofifa.net/teams/113796/30.png</td>\n",
       "      <td>...</td>\n",
       "      <td>No</td>\n",
       "      <td>RES</td>\n",
       "      <td>Jun 6, 2021</td>\n",
       "      <td>NaN</td>\n",
       "      <td>2023</td>\n",
       "      <td>190cm</td>\n",
       "      <td>82kg</td>\n",
       "      <td>€142K</td>\n",
       "      <td>12.0</td>\n",
       "      <td>NaN</td>\n",
       "    </tr>\n",
       "    <tr>\n",
       "      <th>17658</th>\n",
       "      <td>256624</td>\n",
       "      <td>21 S. Czajor</td>\n",
       "      <td>18</td>\n",
       "      <td>https://cdn.sofifa.net/players/256/624/21_60.png</td>\n",
       "      <td>Poland</td>\n",
       "      <td>https://cdn.sofifa.net/flags/pl.png</td>\n",
       "      <td>50</td>\n",
       "      <td>65</td>\n",
       "      <td>Fleetwood Town</td>\n",
       "      <td>https://cdn.sofifa.net/teams/112260/30.png</td>\n",
       "      <td>...</td>\n",
       "      <td>No</td>\n",
       "      <td>RES</td>\n",
       "      <td>Jan 1, 2020</td>\n",
       "      <td>NaN</td>\n",
       "      <td>2021</td>\n",
       "      <td>187cm</td>\n",
       "      <td>79kg</td>\n",
       "      <td>€214K</td>\n",
       "      <td>40.0</td>\n",
       "      <td>NaN</td>\n",
       "    </tr>\n",
       "    <tr>\n",
       "      <th>17659</th>\n",
       "      <td>256376</td>\n",
       "      <td>21 F. Jakobsson</td>\n",
       "      <td>20</td>\n",
       "      <td>https://cdn.sofifa.net/players/256/376/21_60.png</td>\n",
       "      <td>Sweden</td>\n",
       "      <td>https://cdn.sofifa.net/flags/se.png</td>\n",
       "      <td>50</td>\n",
       "      <td>61</td>\n",
       "      <td>IFK Norrköping</td>\n",
       "      <td>https://cdn.sofifa.net/teams/702/30.png</td>\n",
       "      <td>...</td>\n",
       "      <td>No</td>\n",
       "      <td>RES</td>\n",
       "      <td>Jan 8, 2020</td>\n",
       "      <td>NaN</td>\n",
       "      <td>2021</td>\n",
       "      <td>186cm</td>\n",
       "      <td>78kg</td>\n",
       "      <td>€131K</td>\n",
       "      <td>30.0</td>\n",
       "      <td>NaN</td>\n",
       "    </tr>\n",
       "  </tbody>\n",
       "</table>\n",
       "<p>17660 rows × 29 columns</p>\n",
       "</div>"
      ],
      "text/plain": [
       "           ID             Name  Age  \\\n",
       "0      209658      L. Goretzka   27   \n",
       "1      212198  Bruno Fernandes   27   \n",
       "2      224334         M. Acuña   30   \n",
       "3      192985     K. De Bruyne   31   \n",
       "4      224232       N. Barella   25   \n",
       "...       ...              ...  ...   \n",
       "17655  269526    Deng Xiongtao   19   \n",
       "17656  267946   22 Lim Jun Sub   17   \n",
       "17657  270567         A. Demir   25   \n",
       "17658  256624     21 S. Czajor   18   \n",
       "17659  256376  21 F. Jakobsson   20   \n",
       "\n",
       "                                                  Photo     Nationality  \\\n",
       "0      https://cdn.sofifa.net/players/209/658/23_60.png         Germany   \n",
       "1      https://cdn.sofifa.net/players/212/198/23_60.png        Portugal   \n",
       "2      https://cdn.sofifa.net/players/224/334/23_60.png       Argentina   \n",
       "3      https://cdn.sofifa.net/players/192/985/23_60.png         Belgium   \n",
       "4      https://cdn.sofifa.net/players/224/232/23_60.png           Italy   \n",
       "...                                                 ...             ...   \n",
       "17655  https://cdn.sofifa.net/players/269/526/23_60.png        China PR   \n",
       "17656  https://cdn.sofifa.net/players/267/946/22_60.png  Korea Republic   \n",
       "17657  https://cdn.sofifa.net/players/270/567/23_60.png          Turkey   \n",
       "17658  https://cdn.sofifa.net/players/256/624/21_60.png          Poland   \n",
       "17659  https://cdn.sofifa.net/players/256/376/21_60.png          Sweden   \n",
       "\n",
       "                                      Flag  Overall  Potential  \\\n",
       "0      https://cdn.sofifa.net/flags/de.png       87         88   \n",
       "1      https://cdn.sofifa.net/flags/pt.png       86         87   \n",
       "2      https://cdn.sofifa.net/flags/ar.png       85         85   \n",
       "3      https://cdn.sofifa.net/flags/be.png       91         91   \n",
       "4      https://cdn.sofifa.net/flags/it.png       86         89   \n",
       "...                                    ...      ...        ...   \n",
       "17655  https://cdn.sofifa.net/flags/cn.png       48         61   \n",
       "17656  https://cdn.sofifa.net/flags/kr.png       48         64   \n",
       "17657  https://cdn.sofifa.net/flags/tr.png       51         56   \n",
       "17658  https://cdn.sofifa.net/flags/pl.png       50         65   \n",
       "17659  https://cdn.sofifa.net/flags/se.png       50         61   \n",
       "\n",
       "                    Club                                   Club Logo  ...  \\\n",
       "0      FC Bayern München      https://cdn.sofifa.net/teams/21/30.png  ...   \n",
       "1      Manchester United      https://cdn.sofifa.net/teams/11/30.png  ...   \n",
       "2             Sevilla FC     https://cdn.sofifa.net/teams/481/30.png  ...   \n",
       "3        Manchester City      https://cdn.sofifa.net/teams/10/30.png  ...   \n",
       "4                  Inter      https://cdn.sofifa.net/teams/44/30.png  ...   \n",
       "...                  ...                                         ...  ...   \n",
       "17655      Meizhou Hakka  https://cdn.sofifa.net/teams/114628/30.png  ...   \n",
       "17656     Jeju United FC    https://cdn.sofifa.net/teams/1478/30.png  ...   \n",
       "17657       Ümraniyespor  https://cdn.sofifa.net/teams/113796/30.png  ...   \n",
       "17658     Fleetwood Town  https://cdn.sofifa.net/teams/112260/30.png  ...   \n",
       "17659     IFK Norrköping     https://cdn.sofifa.net/teams/702/30.png  ...   \n",
       "\n",
       "      Real Face Position        Joined Loaned From  Contract Valid Until  \\\n",
       "0           Yes      SUB   Jul 1, 2018         NaN                  2026   \n",
       "1           Yes      LCM  Jan 30, 2020         NaN                  2026   \n",
       "2            No       LB  Sep 14, 2020         NaN                  2024   \n",
       "3           Yes      RCM  Aug 30, 2015         NaN                  2025   \n",
       "4           Yes      RCM   Sep 1, 2020         NaN                  2026   \n",
       "...         ...      ...           ...         ...                   ...   \n",
       "17655        No      RES  Apr 11, 2022         NaN                  2027   \n",
       "17656        No      RES   Jan 1, 2022         NaN                  2026   \n",
       "17657        No      RES   Jun 6, 2021         NaN                  2023   \n",
       "17658        No      RES   Jan 1, 2020         NaN                  2021   \n",
       "17659        No      RES   Jan 8, 2020         NaN                  2021   \n",
       "\n",
       "       Height  Weight Release Clause Kit Number Best Overall Rating  \n",
       "0       189cm    82kg          €157M        8.0                 NaN  \n",
       "1       179cm    69kg          €155M        8.0                 NaN  \n",
       "2       172cm    69kg         €97.7M       19.0                 NaN  \n",
       "3       181cm    70kg        €198.9M       17.0                 NaN  \n",
       "4       172cm    68kg        €154.4M       23.0                 NaN  \n",
       "...       ...     ...            ...        ...                 ...  \n",
       "17655   190cm    78kg          €218K       35.0                 NaN  \n",
       "17656   195cm    84kg          €188K       21.0                 NaN  \n",
       "17657   190cm    82kg          €142K       12.0                 NaN  \n",
       "17658   187cm    79kg          €214K       40.0                 NaN  \n",
       "17659   186cm    78kg          €131K       30.0                 NaN  \n",
       "\n",
       "[17660 rows x 29 columns]"
      ]
     },
     "execution_count": 90,
     "metadata": {},
     "output_type": "execute_result"
    }
   ],
   "source": [
    "df.assign(Position = list(map(lambda x: x.split('>')[-1] if not pd.isna(x) else 'NA', df.Position)))"
   ]
  },
  {
   "cell_type": "markdown",
   "id": "44a49138-7017-4aa9-bd3c-b29f93cdb573",
   "metadata": {},
   "source": [
    "`-` (풀이2) -- 리스트컴프리헨션"
   ]
  },
  {
   "cell_type": "code",
   "execution_count": 91,
   "id": "23f3fd66-162a-40f4-9e4b-41a718871d13",
   "metadata": {},
   "outputs": [],
   "source": [
    "f = lambda x: x.split('>')[-1] if not pd.isna(x) else 'NA'"
   ]
  },
  {
   "cell_type": "code",
   "execution_count": 92,
   "id": "ba296278-4212-45a6-9907-a93a5a1cffcc",
   "metadata": {},
   "outputs": [
    {
     "data": {
      "text/html": [
       "<div>\n",
       "<style scoped>\n",
       "    .dataframe tbody tr th:only-of-type {\n",
       "        vertical-align: middle;\n",
       "    }\n",
       "\n",
       "    .dataframe tbody tr th {\n",
       "        vertical-align: top;\n",
       "    }\n",
       "\n",
       "    .dataframe thead th {\n",
       "        text-align: right;\n",
       "    }\n",
       "</style>\n",
       "<table border=\"1\" class=\"dataframe\">\n",
       "  <thead>\n",
       "    <tr style=\"text-align: right;\">\n",
       "      <th></th>\n",
       "      <th>ID</th>\n",
       "      <th>Name</th>\n",
       "      <th>Age</th>\n",
       "      <th>Photo</th>\n",
       "      <th>Nationality</th>\n",
       "      <th>Flag</th>\n",
       "      <th>Overall</th>\n",
       "      <th>Potential</th>\n",
       "      <th>Club</th>\n",
       "      <th>Club Logo</th>\n",
       "      <th>...</th>\n",
       "      <th>Real Face</th>\n",
       "      <th>Position</th>\n",
       "      <th>Joined</th>\n",
       "      <th>Loaned From</th>\n",
       "      <th>Contract Valid Until</th>\n",
       "      <th>Height</th>\n",
       "      <th>Weight</th>\n",
       "      <th>Release Clause</th>\n",
       "      <th>Kit Number</th>\n",
       "      <th>Best Overall Rating</th>\n",
       "    </tr>\n",
       "  </thead>\n",
       "  <tbody>\n",
       "    <tr>\n",
       "      <th>0</th>\n",
       "      <td>209658</td>\n",
       "      <td>L. Goretzka</td>\n",
       "      <td>27</td>\n",
       "      <td>https://cdn.sofifa.net/players/209/658/23_60.png</td>\n",
       "      <td>Germany</td>\n",
       "      <td>https://cdn.sofifa.net/flags/de.png</td>\n",
       "      <td>87</td>\n",
       "      <td>88</td>\n",
       "      <td>FC Bayern München</td>\n",
       "      <td>https://cdn.sofifa.net/teams/21/30.png</td>\n",
       "      <td>...</td>\n",
       "      <td>Yes</td>\n",
       "      <td>SUB</td>\n",
       "      <td>Jul 1, 2018</td>\n",
       "      <td>NaN</td>\n",
       "      <td>2026</td>\n",
       "      <td>189cm</td>\n",
       "      <td>82kg</td>\n",
       "      <td>€157M</td>\n",
       "      <td>8.0</td>\n",
       "      <td>NaN</td>\n",
       "    </tr>\n",
       "    <tr>\n",
       "      <th>1</th>\n",
       "      <td>212198</td>\n",
       "      <td>Bruno Fernandes</td>\n",
       "      <td>27</td>\n",
       "      <td>https://cdn.sofifa.net/players/212/198/23_60.png</td>\n",
       "      <td>Portugal</td>\n",
       "      <td>https://cdn.sofifa.net/flags/pt.png</td>\n",
       "      <td>86</td>\n",
       "      <td>87</td>\n",
       "      <td>Manchester United</td>\n",
       "      <td>https://cdn.sofifa.net/teams/11/30.png</td>\n",
       "      <td>...</td>\n",
       "      <td>Yes</td>\n",
       "      <td>LCM</td>\n",
       "      <td>Jan 30, 2020</td>\n",
       "      <td>NaN</td>\n",
       "      <td>2026</td>\n",
       "      <td>179cm</td>\n",
       "      <td>69kg</td>\n",
       "      <td>€155M</td>\n",
       "      <td>8.0</td>\n",
       "      <td>NaN</td>\n",
       "    </tr>\n",
       "    <tr>\n",
       "      <th>2</th>\n",
       "      <td>224334</td>\n",
       "      <td>M. Acuña</td>\n",
       "      <td>30</td>\n",
       "      <td>https://cdn.sofifa.net/players/224/334/23_60.png</td>\n",
       "      <td>Argentina</td>\n",
       "      <td>https://cdn.sofifa.net/flags/ar.png</td>\n",
       "      <td>85</td>\n",
       "      <td>85</td>\n",
       "      <td>Sevilla FC</td>\n",
       "      <td>https://cdn.sofifa.net/teams/481/30.png</td>\n",
       "      <td>...</td>\n",
       "      <td>No</td>\n",
       "      <td>LB</td>\n",
       "      <td>Sep 14, 2020</td>\n",
       "      <td>NaN</td>\n",
       "      <td>2024</td>\n",
       "      <td>172cm</td>\n",
       "      <td>69kg</td>\n",
       "      <td>€97.7M</td>\n",
       "      <td>19.0</td>\n",
       "      <td>NaN</td>\n",
       "    </tr>\n",
       "    <tr>\n",
       "      <th>3</th>\n",
       "      <td>192985</td>\n",
       "      <td>K. De Bruyne</td>\n",
       "      <td>31</td>\n",
       "      <td>https://cdn.sofifa.net/players/192/985/23_60.png</td>\n",
       "      <td>Belgium</td>\n",
       "      <td>https://cdn.sofifa.net/flags/be.png</td>\n",
       "      <td>91</td>\n",
       "      <td>91</td>\n",
       "      <td>Manchester City</td>\n",
       "      <td>https://cdn.sofifa.net/teams/10/30.png</td>\n",
       "      <td>...</td>\n",
       "      <td>Yes</td>\n",
       "      <td>RCM</td>\n",
       "      <td>Aug 30, 2015</td>\n",
       "      <td>NaN</td>\n",
       "      <td>2025</td>\n",
       "      <td>181cm</td>\n",
       "      <td>70kg</td>\n",
       "      <td>€198.9M</td>\n",
       "      <td>17.0</td>\n",
       "      <td>NaN</td>\n",
       "    </tr>\n",
       "    <tr>\n",
       "      <th>4</th>\n",
       "      <td>224232</td>\n",
       "      <td>N. Barella</td>\n",
       "      <td>25</td>\n",
       "      <td>https://cdn.sofifa.net/players/224/232/23_60.png</td>\n",
       "      <td>Italy</td>\n",
       "      <td>https://cdn.sofifa.net/flags/it.png</td>\n",
       "      <td>86</td>\n",
       "      <td>89</td>\n",
       "      <td>Inter</td>\n",
       "      <td>https://cdn.sofifa.net/teams/44/30.png</td>\n",
       "      <td>...</td>\n",
       "      <td>Yes</td>\n",
       "      <td>RCM</td>\n",
       "      <td>Sep 1, 2020</td>\n",
       "      <td>NaN</td>\n",
       "      <td>2026</td>\n",
       "      <td>172cm</td>\n",
       "      <td>68kg</td>\n",
       "      <td>€154.4M</td>\n",
       "      <td>23.0</td>\n",
       "      <td>NaN</td>\n",
       "    </tr>\n",
       "    <tr>\n",
       "      <th>...</th>\n",
       "      <td>...</td>\n",
       "      <td>...</td>\n",
       "      <td>...</td>\n",
       "      <td>...</td>\n",
       "      <td>...</td>\n",
       "      <td>...</td>\n",
       "      <td>...</td>\n",
       "      <td>...</td>\n",
       "      <td>...</td>\n",
       "      <td>...</td>\n",
       "      <td>...</td>\n",
       "      <td>...</td>\n",
       "      <td>...</td>\n",
       "      <td>...</td>\n",
       "      <td>...</td>\n",
       "      <td>...</td>\n",
       "      <td>...</td>\n",
       "      <td>...</td>\n",
       "      <td>...</td>\n",
       "      <td>...</td>\n",
       "      <td>...</td>\n",
       "    </tr>\n",
       "    <tr>\n",
       "      <th>17655</th>\n",
       "      <td>269526</td>\n",
       "      <td>Deng Xiongtao</td>\n",
       "      <td>19</td>\n",
       "      <td>https://cdn.sofifa.net/players/269/526/23_60.png</td>\n",
       "      <td>China PR</td>\n",
       "      <td>https://cdn.sofifa.net/flags/cn.png</td>\n",
       "      <td>48</td>\n",
       "      <td>61</td>\n",
       "      <td>Meizhou Hakka</td>\n",
       "      <td>https://cdn.sofifa.net/teams/114628/30.png</td>\n",
       "      <td>...</td>\n",
       "      <td>No</td>\n",
       "      <td>RES</td>\n",
       "      <td>Apr 11, 2022</td>\n",
       "      <td>NaN</td>\n",
       "      <td>2027</td>\n",
       "      <td>190cm</td>\n",
       "      <td>78kg</td>\n",
       "      <td>€218K</td>\n",
       "      <td>35.0</td>\n",
       "      <td>NaN</td>\n",
       "    </tr>\n",
       "    <tr>\n",
       "      <th>17656</th>\n",
       "      <td>267946</td>\n",
       "      <td>22 Lim Jun Sub</td>\n",
       "      <td>17</td>\n",
       "      <td>https://cdn.sofifa.net/players/267/946/22_60.png</td>\n",
       "      <td>Korea Republic</td>\n",
       "      <td>https://cdn.sofifa.net/flags/kr.png</td>\n",
       "      <td>48</td>\n",
       "      <td>64</td>\n",
       "      <td>Jeju United FC</td>\n",
       "      <td>https://cdn.sofifa.net/teams/1478/30.png</td>\n",
       "      <td>...</td>\n",
       "      <td>No</td>\n",
       "      <td>RES</td>\n",
       "      <td>Jan 1, 2022</td>\n",
       "      <td>NaN</td>\n",
       "      <td>2026</td>\n",
       "      <td>195cm</td>\n",
       "      <td>84kg</td>\n",
       "      <td>€188K</td>\n",
       "      <td>21.0</td>\n",
       "      <td>NaN</td>\n",
       "    </tr>\n",
       "    <tr>\n",
       "      <th>17657</th>\n",
       "      <td>270567</td>\n",
       "      <td>A. Demir</td>\n",
       "      <td>25</td>\n",
       "      <td>https://cdn.sofifa.net/players/270/567/23_60.png</td>\n",
       "      <td>Turkey</td>\n",
       "      <td>https://cdn.sofifa.net/flags/tr.png</td>\n",
       "      <td>51</td>\n",
       "      <td>56</td>\n",
       "      <td>Ümraniyespor</td>\n",
       "      <td>https://cdn.sofifa.net/teams/113796/30.png</td>\n",
       "      <td>...</td>\n",
       "      <td>No</td>\n",
       "      <td>RES</td>\n",
       "      <td>Jun 6, 2021</td>\n",
       "      <td>NaN</td>\n",
       "      <td>2023</td>\n",
       "      <td>190cm</td>\n",
       "      <td>82kg</td>\n",
       "      <td>€142K</td>\n",
       "      <td>12.0</td>\n",
       "      <td>NaN</td>\n",
       "    </tr>\n",
       "    <tr>\n",
       "      <th>17658</th>\n",
       "      <td>256624</td>\n",
       "      <td>21 S. Czajor</td>\n",
       "      <td>18</td>\n",
       "      <td>https://cdn.sofifa.net/players/256/624/21_60.png</td>\n",
       "      <td>Poland</td>\n",
       "      <td>https://cdn.sofifa.net/flags/pl.png</td>\n",
       "      <td>50</td>\n",
       "      <td>65</td>\n",
       "      <td>Fleetwood Town</td>\n",
       "      <td>https://cdn.sofifa.net/teams/112260/30.png</td>\n",
       "      <td>...</td>\n",
       "      <td>No</td>\n",
       "      <td>RES</td>\n",
       "      <td>Jan 1, 2020</td>\n",
       "      <td>NaN</td>\n",
       "      <td>2021</td>\n",
       "      <td>187cm</td>\n",
       "      <td>79kg</td>\n",
       "      <td>€214K</td>\n",
       "      <td>40.0</td>\n",
       "      <td>NaN</td>\n",
       "    </tr>\n",
       "    <tr>\n",
       "      <th>17659</th>\n",
       "      <td>256376</td>\n",
       "      <td>21 F. Jakobsson</td>\n",
       "      <td>20</td>\n",
       "      <td>https://cdn.sofifa.net/players/256/376/21_60.png</td>\n",
       "      <td>Sweden</td>\n",
       "      <td>https://cdn.sofifa.net/flags/se.png</td>\n",
       "      <td>50</td>\n",
       "      <td>61</td>\n",
       "      <td>IFK Norrköping</td>\n",
       "      <td>https://cdn.sofifa.net/teams/702/30.png</td>\n",
       "      <td>...</td>\n",
       "      <td>No</td>\n",
       "      <td>RES</td>\n",
       "      <td>Jan 8, 2020</td>\n",
       "      <td>NaN</td>\n",
       "      <td>2021</td>\n",
       "      <td>186cm</td>\n",
       "      <td>78kg</td>\n",
       "      <td>€131K</td>\n",
       "      <td>30.0</td>\n",
       "      <td>NaN</td>\n",
       "    </tr>\n",
       "  </tbody>\n",
       "</table>\n",
       "<p>17660 rows × 29 columns</p>\n",
       "</div>"
      ],
      "text/plain": [
       "           ID             Name  Age  \\\n",
       "0      209658      L. Goretzka   27   \n",
       "1      212198  Bruno Fernandes   27   \n",
       "2      224334         M. Acuña   30   \n",
       "3      192985     K. De Bruyne   31   \n",
       "4      224232       N. Barella   25   \n",
       "...       ...              ...  ...   \n",
       "17655  269526    Deng Xiongtao   19   \n",
       "17656  267946   22 Lim Jun Sub   17   \n",
       "17657  270567         A. Demir   25   \n",
       "17658  256624     21 S. Czajor   18   \n",
       "17659  256376  21 F. Jakobsson   20   \n",
       "\n",
       "                                                  Photo     Nationality  \\\n",
       "0      https://cdn.sofifa.net/players/209/658/23_60.png         Germany   \n",
       "1      https://cdn.sofifa.net/players/212/198/23_60.png        Portugal   \n",
       "2      https://cdn.sofifa.net/players/224/334/23_60.png       Argentina   \n",
       "3      https://cdn.sofifa.net/players/192/985/23_60.png         Belgium   \n",
       "4      https://cdn.sofifa.net/players/224/232/23_60.png           Italy   \n",
       "...                                                 ...             ...   \n",
       "17655  https://cdn.sofifa.net/players/269/526/23_60.png        China PR   \n",
       "17656  https://cdn.sofifa.net/players/267/946/22_60.png  Korea Republic   \n",
       "17657  https://cdn.sofifa.net/players/270/567/23_60.png          Turkey   \n",
       "17658  https://cdn.sofifa.net/players/256/624/21_60.png          Poland   \n",
       "17659  https://cdn.sofifa.net/players/256/376/21_60.png          Sweden   \n",
       "\n",
       "                                      Flag  Overall  Potential  \\\n",
       "0      https://cdn.sofifa.net/flags/de.png       87         88   \n",
       "1      https://cdn.sofifa.net/flags/pt.png       86         87   \n",
       "2      https://cdn.sofifa.net/flags/ar.png       85         85   \n",
       "3      https://cdn.sofifa.net/flags/be.png       91         91   \n",
       "4      https://cdn.sofifa.net/flags/it.png       86         89   \n",
       "...                                    ...      ...        ...   \n",
       "17655  https://cdn.sofifa.net/flags/cn.png       48         61   \n",
       "17656  https://cdn.sofifa.net/flags/kr.png       48         64   \n",
       "17657  https://cdn.sofifa.net/flags/tr.png       51         56   \n",
       "17658  https://cdn.sofifa.net/flags/pl.png       50         65   \n",
       "17659  https://cdn.sofifa.net/flags/se.png       50         61   \n",
       "\n",
       "                    Club                                   Club Logo  ...  \\\n",
       "0      FC Bayern München      https://cdn.sofifa.net/teams/21/30.png  ...   \n",
       "1      Manchester United      https://cdn.sofifa.net/teams/11/30.png  ...   \n",
       "2             Sevilla FC     https://cdn.sofifa.net/teams/481/30.png  ...   \n",
       "3        Manchester City      https://cdn.sofifa.net/teams/10/30.png  ...   \n",
       "4                  Inter      https://cdn.sofifa.net/teams/44/30.png  ...   \n",
       "...                  ...                                         ...  ...   \n",
       "17655      Meizhou Hakka  https://cdn.sofifa.net/teams/114628/30.png  ...   \n",
       "17656     Jeju United FC    https://cdn.sofifa.net/teams/1478/30.png  ...   \n",
       "17657       Ümraniyespor  https://cdn.sofifa.net/teams/113796/30.png  ...   \n",
       "17658     Fleetwood Town  https://cdn.sofifa.net/teams/112260/30.png  ...   \n",
       "17659     IFK Norrköping     https://cdn.sofifa.net/teams/702/30.png  ...   \n",
       "\n",
       "      Real Face Position        Joined Loaned From  Contract Valid Until  \\\n",
       "0           Yes      SUB   Jul 1, 2018         NaN                  2026   \n",
       "1           Yes      LCM  Jan 30, 2020         NaN                  2026   \n",
       "2            No       LB  Sep 14, 2020         NaN                  2024   \n",
       "3           Yes      RCM  Aug 30, 2015         NaN                  2025   \n",
       "4           Yes      RCM   Sep 1, 2020         NaN                  2026   \n",
       "...         ...      ...           ...         ...                   ...   \n",
       "17655        No      RES  Apr 11, 2022         NaN                  2027   \n",
       "17656        No      RES   Jan 1, 2022         NaN                  2026   \n",
       "17657        No      RES   Jun 6, 2021         NaN                  2023   \n",
       "17658        No      RES   Jan 1, 2020         NaN                  2021   \n",
       "17659        No      RES   Jan 8, 2020         NaN                  2021   \n",
       "\n",
       "       Height  Weight Release Clause Kit Number Best Overall Rating  \n",
       "0       189cm    82kg          €157M        8.0                 NaN  \n",
       "1       179cm    69kg          €155M        8.0                 NaN  \n",
       "2       172cm    69kg         €97.7M       19.0                 NaN  \n",
       "3       181cm    70kg        €198.9M       17.0                 NaN  \n",
       "4       172cm    68kg        €154.4M       23.0                 NaN  \n",
       "...       ...     ...            ...        ...                 ...  \n",
       "17655   190cm    78kg          €218K       35.0                 NaN  \n",
       "17656   195cm    84kg          €188K       21.0                 NaN  \n",
       "17657   190cm    82kg          €142K       12.0                 NaN  \n",
       "17658   187cm    79kg          €214K       40.0                 NaN  \n",
       "17659   186cm    78kg          €131K       30.0                 NaN  \n",
       "\n",
       "[17660 rows x 29 columns]"
      ]
     },
     "execution_count": 92,
     "metadata": {},
     "output_type": "execute_result"
    }
   ],
   "source": [
    "df.assign(Position = [f(x) for x in df.Position])"
   ]
  },
  {
   "cell_type": "markdown",
   "id": "257c18a9-bb26-43d0-ac29-117b33bf0c48",
   "metadata": {},
   "source": [
    "- 개인의견: 이미 람다로 함수를 만들어야 해서 그냥 map을 쓰는게 자연스러움"
   ]
  },
  {
   "cell_type": "markdown",
   "id": "0a903c47-dc5e-4dfa-8dbb-cd7e75fc47d0",
   "metadata": {},
   "source": [
    "## `s.apply(변환함수)`"
   ]
  },
  {
   "cell_type": "markdown",
   "id": "f5c1ef95-9517-4cde-887f-a183a3b7ffd5",
   "metadata": {},
   "source": [
    "`-` 예시1: 원소별로 처음3개의 숫자만 출력 "
   ]
  },
  {
   "cell_type": "code",
   "execution_count": 102,
   "id": "3e7fd8db-a1e6-48c5-ad54-25c56b6a85be",
   "metadata": {
    "tags": []
   },
   "outputs": [],
   "source": [
    "df = pd.read_csv('https://raw.githubusercontent.com/guebin/DV2022/master/posts/FIFA23_official_data.csv')\n",
    "s = df.Height"
   ]
  },
  {
   "cell_type": "code",
   "execution_count": 103,
   "id": "2609205f-1e65-46f0-b00e-1c4ea397cdc7",
   "metadata": {
    "tags": []
   },
   "outputs": [
    {
     "data": {
      "text/plain": [
       "0        189\n",
       "1        179\n",
       "2        172\n",
       "3        181\n",
       "4        172\n",
       "        ... \n",
       "17655    190\n",
       "17656    195\n",
       "17657    190\n",
       "17658    187\n",
       "17659    186\n",
       "Name: Height, Length: 17660, dtype: object"
      ]
     },
     "execution_count": 103,
     "metadata": {},
     "output_type": "execute_result"
    }
   ],
   "source": [
    "s.apply(lambda x: x[:3])"
   ]
  },
  {
   "cell_type": "markdown",
   "id": "38c3e724-c9bf-4c03-8966-1b8f193d8a15",
   "metadata": {},
   "source": [
    "`-` 예시2: 원소별로 처음3개의 문자만 출력 $\\to$ `str`자료형을 `int`자료형으로 변환 "
   ]
  },
  {
   "cell_type": "code",
   "execution_count": 104,
   "id": "0754cb70-061e-43aa-8465-7caa0b0e4c46",
   "metadata": {
    "tags": []
   },
   "outputs": [],
   "source": [
    "df = pd.read_csv('https://raw.githubusercontent.com/guebin/DV2022/master/posts/FIFA23_official_data.csv')\n",
    "s = df.Height"
   ]
  },
  {
   "cell_type": "markdown",
   "id": "54119764-0cfb-45bc-a3e1-1eee7dccf092",
   "metadata": {},
   "source": [
    "(방법1) -- 한번에"
   ]
  },
  {
   "cell_type": "code",
   "execution_count": 105,
   "id": "21e7ce0f-6d80-4466-8e9d-192be5e496bc",
   "metadata": {
    "tags": []
   },
   "outputs": [
    {
     "data": {
      "text/plain": [
       "0        189\n",
       "1        179\n",
       "2        172\n",
       "3        181\n",
       "4        172\n",
       "        ... \n",
       "17655    190\n",
       "17656    195\n",
       "17657    190\n",
       "17658    187\n",
       "17659    186\n",
       "Name: Height, Length: 17660, dtype: int64"
      ]
     },
     "execution_count": 105,
     "metadata": {},
     "output_type": "execute_result"
    }
   ],
   "source": [
    "s.apply(lambda x: int(x[:3]))"
   ]
  },
  {
   "cell_type": "markdown",
   "id": "02f829ca-f568-49ef-b31e-50fab59bbff6",
   "metadata": {},
   "source": [
    "(방법2) -- 연쇄적으로.."
   ]
  },
  {
   "cell_type": "code",
   "execution_count": 106,
   "id": "5a202a77-74dc-4d77-8e68-044a0f9ab94b",
   "metadata": {
    "tags": []
   },
   "outputs": [
    {
     "data": {
      "text/plain": [
       "0        189\n",
       "1        179\n",
       "2        172\n",
       "3        181\n",
       "4        172\n",
       "        ... \n",
       "17655    190\n",
       "17656    195\n",
       "17657    190\n",
       "17658    187\n",
       "17659    186\n",
       "Name: Height, Length: 17660, dtype: int64"
      ]
     },
     "execution_count": 106,
     "metadata": {},
     "output_type": "execute_result"
    }
   ],
   "source": [
    "s.apply(lambda x: x[:3]).apply(int)"
   ]
  }
 ],
 "metadata": {
  "kernelspec": {
   "display_name": "Python 3 (ipykernel)",
   "language": "python",
   "name": "python3"
  },
  "language_info": {
   "codemirror_mode": {
    "name": "ipython",
    "version": 3
   },
   "file_extension": ".py",
   "mimetype": "text/x-python",
   "name": "python",
   "nbconvert_exporter": "python",
   "pygments_lexer": "ipython3",
   "version": "3.10.13"
  }
 },
 "nbformat": 4,
 "nbformat_minor": 5
}
