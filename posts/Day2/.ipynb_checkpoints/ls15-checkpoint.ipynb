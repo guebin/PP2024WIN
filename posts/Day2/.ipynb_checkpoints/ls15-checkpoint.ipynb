{
 "cells": [
  {
   "cell_type": "raw",
   "id": "7304862d-80c6-42ca-959e-6cd3acfb905b",
   "metadata": {},
   "source": [
    "---\n",
    "title: \"Lesson 15: 심슨의 역설\"\n",
    "author: \"최규빈\"\n",
    "date: \"07/26/2023\"\n",
    "---"
   ]
  },
  {
   "cell_type": "markdown",
   "id": "795f46eb-c12d-48f6-bcd5-b77f708f2b88",
   "metadata": {},
   "source": [
    "<a href=\"https://colab.research.google.com/github/guebin/PP2023SUM/blob/main/posts/Day3/07_ggplot2/ls15.ipynb\"><img src=\"https://colab.research.google.com/assets/colab-badge.svg\" style=\"text-align: left\"></a>"
   ]
  },
  {
   "cell_type": "markdown",
   "id": "26b4d407-8b0a-4ae8-b153-dbc1646079d0",
   "metadata": {},
   "source": [
    "# 강의영상 "
   ]
  },
  {
   "cell_type": "markdown",
   "id": "60d5199a-ff1c-4ed4-b4ad-8f34e2286032",
   "metadata": {},
   "source": [
    "{{<video https://youtu.be/XlwSIZPcBpM?list=PLQqh36zP38-xZATz1NBj-5czur3IJj19D  >}}"
   ]
  },
  {
   "cell_type": "markdown",
   "id": "da683773-b71a-45f8-9d09-39114d6ca41c",
   "metadata": {},
   "source": [
    "# imports"
   ]
  },
  {
   "cell_type": "code",
   "execution_count": 1,
   "id": "15901c5b-e9c8-492a-8516-538c83a62f37",
   "metadata": {
    "vscode": {
     "languageId": "python"
    }
   },
   "outputs": [],
   "source": [
    "import pandas as pd\n",
    "import numpy as np\n",
    "from plotnine import *"
   ]
  },
  {
   "cell_type": "markdown",
   "id": "58119d8d-2201-4d1a-9a37-f3304e1a414e",
   "metadata": {},
   "source": [
    "# 판다스: melt, stack"
   ]
  },
  {
   "cell_type": "markdown",
   "id": "d53a4d19-1301-4dc3-b179-5361033be2a3",
   "metadata": {},
   "source": [
    "### melt"
   ]
  },
  {
   "cell_type": "markdown",
   "id": "aefd3d4b-7f76-4a94-baf9-e8390b920ee0",
   "metadata": {},
   "source": [
    "`-` 설명: "
   ]
  },
  {
   "cell_type": "markdown",
   "id": "373de0bf-4cdb-42ae-8edd-fe131e76fe26",
   "metadata": {},
   "source": [
    "`-` 데이터"
   ]
  },
  {
   "cell_type": "code",
   "execution_count": 3,
   "id": "0c27f5f2-f1b6-4610-b614-0a0ffc339e37",
   "metadata": {
    "vscode": {
     "languageId": "python"
    }
   },
   "outputs": [
    {
     "data": {
      "text/html": [
       "<div>\n",
       "<style scoped>\n",
       "    .dataframe tbody tr th:only-of-type {\n",
       "        vertical-align: middle;\n",
       "    }\n",
       "\n",
       "    .dataframe tbody tr th {\n",
       "        vertical-align: top;\n",
       "    }\n",
       "\n",
       "    .dataframe thead th {\n",
       "        text-align: right;\n",
       "    }\n",
       "</style>\n",
       "<table border=\"1\" class=\"dataframe\">\n",
       "  <thead>\n",
       "    <tr style=\"text-align: right;\">\n",
       "      <th></th>\n",
       "      <th>Date</th>\n",
       "      <th>Samsung</th>\n",
       "      <th>Apple</th>\n",
       "      <th>Huawei</th>\n",
       "      <th>Xiaomi</th>\n",
       "      <th>Oppo</th>\n",
       "      <th>Mobicel</th>\n",
       "      <th>Motorola</th>\n",
       "      <th>LG</th>\n",
       "      <th>Others</th>\n",
       "      <th>Realme</th>\n",
       "      <th>Google</th>\n",
       "      <th>Nokia</th>\n",
       "      <th>Lenovo</th>\n",
       "      <th>OnePlus</th>\n",
       "      <th>Sony</th>\n",
       "      <th>Asus</th>\n",
       "    </tr>\n",
       "  </thead>\n",
       "  <tbody>\n",
       "    <tr>\n",
       "      <th>0</th>\n",
       "      <td>2019-10</td>\n",
       "      <td>461</td>\n",
       "      <td>324</td>\n",
       "      <td>136</td>\n",
       "      <td>109</td>\n",
       "      <td>76</td>\n",
       "      <td>81</td>\n",
       "      <td>43</td>\n",
       "      <td>37</td>\n",
       "      <td>135</td>\n",
       "      <td>28</td>\n",
       "      <td>39</td>\n",
       "      <td>14</td>\n",
       "      <td>22</td>\n",
       "      <td>17</td>\n",
       "      <td>20</td>\n",
       "      <td>17</td>\n",
       "    </tr>\n",
       "    <tr>\n",
       "      <th>1</th>\n",
       "      <td>2019-11</td>\n",
       "      <td>461</td>\n",
       "      <td>358</td>\n",
       "      <td>167</td>\n",
       "      <td>141</td>\n",
       "      <td>86</td>\n",
       "      <td>61</td>\n",
       "      <td>29</td>\n",
       "      <td>36</td>\n",
       "      <td>141</td>\n",
       "      <td>27</td>\n",
       "      <td>29</td>\n",
       "      <td>20</td>\n",
       "      <td>23</td>\n",
       "      <td>10</td>\n",
       "      <td>19</td>\n",
       "      <td>27</td>\n",
       "    </tr>\n",
       "    <tr>\n",
       "      <th>2</th>\n",
       "      <td>2019-12</td>\n",
       "      <td>426</td>\n",
       "      <td>383</td>\n",
       "      <td>143</td>\n",
       "      <td>105</td>\n",
       "      <td>53</td>\n",
       "      <td>45</td>\n",
       "      <td>51</td>\n",
       "      <td>48</td>\n",
       "      <td>129</td>\n",
       "      <td>30</td>\n",
       "      <td>20</td>\n",
       "      <td>26</td>\n",
       "      <td>28</td>\n",
       "      <td>18</td>\n",
       "      <td>18</td>\n",
       "      <td>19</td>\n",
       "    </tr>\n",
       "    <tr>\n",
       "      <th>3</th>\n",
       "      <td>2020-01</td>\n",
       "      <td>677</td>\n",
       "      <td>494</td>\n",
       "      <td>212</td>\n",
       "      <td>187</td>\n",
       "      <td>110</td>\n",
       "      <td>79</td>\n",
       "      <td>65</td>\n",
       "      <td>49</td>\n",
       "      <td>158</td>\n",
       "      <td>23</td>\n",
       "      <td>13</td>\n",
       "      <td>19</td>\n",
       "      <td>19</td>\n",
       "      <td>22</td>\n",
       "      <td>27</td>\n",
       "      <td>22</td>\n",
       "    </tr>\n",
       "    <tr>\n",
       "      <th>4</th>\n",
       "      <td>2020-02</td>\n",
       "      <td>593</td>\n",
       "      <td>520</td>\n",
       "      <td>217</td>\n",
       "      <td>195</td>\n",
       "      <td>112</td>\n",
       "      <td>67</td>\n",
       "      <td>62</td>\n",
       "      <td>71</td>\n",
       "      <td>157</td>\n",
       "      <td>25</td>\n",
       "      <td>18</td>\n",
       "      <td>16</td>\n",
       "      <td>24</td>\n",
       "      <td>18</td>\n",
       "      <td>23</td>\n",
       "      <td>20</td>\n",
       "    </tr>\n",
       "    <tr>\n",
       "      <th>5</th>\n",
       "      <td>2020-03</td>\n",
       "      <td>637</td>\n",
       "      <td>537</td>\n",
       "      <td>246</td>\n",
       "      <td>187</td>\n",
       "      <td>92</td>\n",
       "      <td>66</td>\n",
       "      <td>59</td>\n",
       "      <td>67</td>\n",
       "      <td>145</td>\n",
       "      <td>21</td>\n",
       "      <td>16</td>\n",
       "      <td>24</td>\n",
       "      <td>18</td>\n",
       "      <td>31</td>\n",
       "      <td>22</td>\n",
       "      <td>14</td>\n",
       "    </tr>\n",
       "    <tr>\n",
       "      <th>6</th>\n",
       "      <td>2020-04</td>\n",
       "      <td>647</td>\n",
       "      <td>583</td>\n",
       "      <td>222</td>\n",
       "      <td>154</td>\n",
       "      <td>98</td>\n",
       "      <td>59</td>\n",
       "      <td>48</td>\n",
       "      <td>64</td>\n",
       "      <td>113</td>\n",
       "      <td>20</td>\n",
       "      <td>23</td>\n",
       "      <td>25</td>\n",
       "      <td>19</td>\n",
       "      <td>19</td>\n",
       "      <td>23</td>\n",
       "      <td>21</td>\n",
       "    </tr>\n",
       "    <tr>\n",
       "      <th>7</th>\n",
       "      <td>2020-05</td>\n",
       "      <td>629</td>\n",
       "      <td>518</td>\n",
       "      <td>192</td>\n",
       "      <td>176</td>\n",
       "      <td>91</td>\n",
       "      <td>87</td>\n",
       "      <td>50</td>\n",
       "      <td>66</td>\n",
       "      <td>150</td>\n",
       "      <td>43</td>\n",
       "      <td>27</td>\n",
       "      <td>15</td>\n",
       "      <td>18</td>\n",
       "      <td>19</td>\n",
       "      <td>19</td>\n",
       "      <td>13</td>\n",
       "    </tr>\n",
       "    <tr>\n",
       "      <th>8</th>\n",
       "      <td>2020-06</td>\n",
       "      <td>663</td>\n",
       "      <td>552</td>\n",
       "      <td>209</td>\n",
       "      <td>185</td>\n",
       "      <td>93</td>\n",
       "      <td>69</td>\n",
       "      <td>54</td>\n",
       "      <td>60</td>\n",
       "      <td>140</td>\n",
       "      <td>39</td>\n",
       "      <td>16</td>\n",
       "      <td>16</td>\n",
       "      <td>17</td>\n",
       "      <td>29</td>\n",
       "      <td>25</td>\n",
       "      <td>16</td>\n",
       "    </tr>\n",
       "    <tr>\n",
       "      <th>9</th>\n",
       "      <td>2020-07</td>\n",
       "      <td>599</td>\n",
       "      <td>471</td>\n",
       "      <td>214</td>\n",
       "      <td>193</td>\n",
       "      <td>89</td>\n",
       "      <td>78</td>\n",
       "      <td>65</td>\n",
       "      <td>59</td>\n",
       "      <td>130</td>\n",
       "      <td>40</td>\n",
       "      <td>27</td>\n",
       "      <td>25</td>\n",
       "      <td>21</td>\n",
       "      <td>18</td>\n",
       "      <td>18</td>\n",
       "      <td>12</td>\n",
       "    </tr>\n",
       "    <tr>\n",
       "      <th>10</th>\n",
       "      <td>2020-08</td>\n",
       "      <td>615</td>\n",
       "      <td>567</td>\n",
       "      <td>204</td>\n",
       "      <td>182</td>\n",
       "      <td>105</td>\n",
       "      <td>82</td>\n",
       "      <td>62</td>\n",
       "      <td>42</td>\n",
       "      <td>129</td>\n",
       "      <td>47</td>\n",
       "      <td>16</td>\n",
       "      <td>23</td>\n",
       "      <td>21</td>\n",
       "      <td>27</td>\n",
       "      <td>23</td>\n",
       "      <td>20</td>\n",
       "    </tr>\n",
       "    <tr>\n",
       "      <th>11</th>\n",
       "      <td>2020-09</td>\n",
       "      <td>621</td>\n",
       "      <td>481</td>\n",
       "      <td>230</td>\n",
       "      <td>220</td>\n",
       "      <td>102</td>\n",
       "      <td>88</td>\n",
       "      <td>56</td>\n",
       "      <td>49</td>\n",
       "      <td>143</td>\n",
       "      <td>54</td>\n",
       "      <td>14</td>\n",
       "      <td>15</td>\n",
       "      <td>17</td>\n",
       "      <td>15</td>\n",
       "      <td>19</td>\n",
       "      <td>15</td>\n",
       "    </tr>\n",
       "    <tr>\n",
       "      <th>12</th>\n",
       "      <td>2020-10</td>\n",
       "      <td>637</td>\n",
       "      <td>555</td>\n",
       "      <td>232</td>\n",
       "      <td>203</td>\n",
       "      <td>90</td>\n",
       "      <td>52</td>\n",
       "      <td>63</td>\n",
       "      <td>49</td>\n",
       "      <td>140</td>\n",
       "      <td>33</td>\n",
       "      <td>17</td>\n",
       "      <td>20</td>\n",
       "      <td>22</td>\n",
       "      <td>9</td>\n",
       "      <td>22</td>\n",
       "      <td>21</td>\n",
       "    </tr>\n",
       "  </tbody>\n",
       "</table>\n",
       "</div>"
      ],
      "text/plain": [
       "       Date  Samsung  Apple  Huawei  Xiaomi  Oppo  Mobicel  Motorola  LG  \\\n",
       "0   2019-10      461    324     136     109    76       81        43  37   \n",
       "1   2019-11      461    358     167     141    86       61        29  36   \n",
       "2   2019-12      426    383     143     105    53       45        51  48   \n",
       "3   2020-01      677    494     212     187   110       79        65  49   \n",
       "4   2020-02      593    520     217     195   112       67        62  71   \n",
       "5   2020-03      637    537     246     187    92       66        59  67   \n",
       "6   2020-04      647    583     222     154    98       59        48  64   \n",
       "7   2020-05      629    518     192     176    91       87        50  66   \n",
       "8   2020-06      663    552     209     185    93       69        54  60   \n",
       "9   2020-07      599    471     214     193    89       78        65  59   \n",
       "10  2020-08      615    567     204     182   105       82        62  42   \n",
       "11  2020-09      621    481     230     220   102       88        56  49   \n",
       "12  2020-10      637    555     232     203    90       52        63  49   \n",
       "\n",
       "    Others  Realme  Google  Nokia  Lenovo  OnePlus  Sony  Asus  \n",
       "0      135      28      39     14      22       17    20    17  \n",
       "1      141      27      29     20      23       10    19    27  \n",
       "2      129      30      20     26      28       18    18    19  \n",
       "3      158      23      13     19      19       22    27    22  \n",
       "4      157      25      18     16      24       18    23    20  \n",
       "5      145      21      16     24      18       31    22    14  \n",
       "6      113      20      23     25      19       19    23    21  \n",
       "7      150      43      27     15      18       19    19    13  \n",
       "8      140      39      16     16      17       29    25    16  \n",
       "9      130      40      27     25      21       18    18    12  \n",
       "10     129      47      16     23      21       27    23    20  \n",
       "11     143      54      14     15      17       15    19    15  \n",
       "12     140      33      17     20      22        9    22    21  "
      ]
     },
     "execution_count": 3,
     "metadata": {},
     "output_type": "execute_result"
    }
   ],
   "source": [
    "df=pd.read_csv('https://raw.githubusercontent.com/guebin/2021DV/master/_notebooks/phone.csv')\n",
    "df"
   ]
  },
  {
   "cell_type": "markdown",
   "id": "a2ace1de-9760-4b04-bb52-2c29a988df97",
   "metadata": {},
   "source": [
    "`-` 사용예시1: 기본사용"
   ]
  },
  {
   "cell_type": "markdown",
   "id": "6e746cde-a1a5-459f-94fe-2be101a04ac4",
   "metadata": {},
   "source": [
    "- variable: column name들이 들어간다.\n",
    "- value: column name에 대응하는 값들이 들어간다."
   ]
  },
  {
   "cell_type": "markdown",
   "id": "45d704f2-ed54-4110-991a-36f6daf2846b",
   "metadata": {},
   "source": [
    "`-` 사용예시2: id_vars --> tidy data "
   ]
  },
  {
   "cell_type": "code",
   "execution_count": 13,
   "id": "8c341b18-4d89-47c2-903c-60c86fb88fb6",
   "metadata": {
    "vscode": {
     "languageId": "python"
    }
   },
   "outputs": [
    {
     "data": {
      "text/html": [
       "<div>\n",
       "<style scoped>\n",
       "    .dataframe tbody tr th:only-of-type {\n",
       "        vertical-align: middle;\n",
       "    }\n",
       "\n",
       "    .dataframe tbody tr th {\n",
       "        vertical-align: top;\n",
       "    }\n",
       "\n",
       "    .dataframe thead th {\n",
       "        text-align: right;\n",
       "    }\n",
       "</style>\n",
       "<table border=\"1\" class=\"dataframe\">\n",
       "  <thead>\n",
       "    <tr style=\"text-align: right;\">\n",
       "      <th></th>\n",
       "      <th>Date</th>\n",
       "      <th>variable</th>\n",
       "      <th>value</th>\n",
       "    </tr>\n",
       "  </thead>\n",
       "  <tbody>\n",
       "    <tr>\n",
       "      <th>0</th>\n",
       "      <td>2019-10</td>\n",
       "      <td>Samsung</td>\n",
       "      <td>461</td>\n",
       "    </tr>\n",
       "    <tr>\n",
       "      <th>1</th>\n",
       "      <td>2019-11</td>\n",
       "      <td>Samsung</td>\n",
       "      <td>461</td>\n",
       "    </tr>\n",
       "    <tr>\n",
       "      <th>2</th>\n",
       "      <td>2019-12</td>\n",
       "      <td>Samsung</td>\n",
       "      <td>426</td>\n",
       "    </tr>\n",
       "    <tr>\n",
       "      <th>3</th>\n",
       "      <td>2020-01</td>\n",
       "      <td>Samsung</td>\n",
       "      <td>677</td>\n",
       "    </tr>\n",
       "    <tr>\n",
       "      <th>4</th>\n",
       "      <td>2020-02</td>\n",
       "      <td>Samsung</td>\n",
       "      <td>593</td>\n",
       "    </tr>\n",
       "    <tr>\n",
       "      <th>...</th>\n",
       "      <td>...</td>\n",
       "      <td>...</td>\n",
       "      <td>...</td>\n",
       "    </tr>\n",
       "    <tr>\n",
       "      <th>203</th>\n",
       "      <td>2020-06</td>\n",
       "      <td>Asus</td>\n",
       "      <td>16</td>\n",
       "    </tr>\n",
       "    <tr>\n",
       "      <th>204</th>\n",
       "      <td>2020-07</td>\n",
       "      <td>Asus</td>\n",
       "      <td>12</td>\n",
       "    </tr>\n",
       "    <tr>\n",
       "      <th>205</th>\n",
       "      <td>2020-08</td>\n",
       "      <td>Asus</td>\n",
       "      <td>20</td>\n",
       "    </tr>\n",
       "    <tr>\n",
       "      <th>206</th>\n",
       "      <td>2020-09</td>\n",
       "      <td>Asus</td>\n",
       "      <td>15</td>\n",
       "    </tr>\n",
       "    <tr>\n",
       "      <th>207</th>\n",
       "      <td>2020-10</td>\n",
       "      <td>Asus</td>\n",
       "      <td>21</td>\n",
       "    </tr>\n",
       "  </tbody>\n",
       "</table>\n",
       "<p>208 rows × 3 columns</p>\n",
       "</div>"
      ],
      "text/plain": [
       "        Date variable  value\n",
       "0    2019-10  Samsung    461\n",
       "1    2019-11  Samsung    461\n",
       "2    2019-12  Samsung    426\n",
       "3    2020-01  Samsung    677\n",
       "4    2020-02  Samsung    593\n",
       "..       ...      ...    ...\n",
       "203  2020-06     Asus     16\n",
       "204  2020-07     Asus     12\n",
       "205  2020-08     Asus     20\n",
       "206  2020-09     Asus     15\n",
       "207  2020-10     Asus     21\n",
       "\n",
       "[208 rows x 3 columns]"
      ]
     },
     "execution_count": 13,
     "metadata": {},
     "output_type": "execute_result"
    }
   ],
   "source": [
    "df.melt(id_vars='Date')"
   ]
  },
  {
   "cell_type": "markdown",
   "id": "a8e1006b-a9bb-4186-a30c-5bc3a8973487",
   "metadata": {},
   "source": [
    "`-` 사용예시3: "
   ]
  },
  {
   "cell_type": "code",
   "execution_count": 14,
   "id": "e75a6211-1bb9-4d6d-944e-598192034ca5",
   "metadata": {
    "vscode": {
     "languageId": "python"
    }
   },
   "outputs": [
    {
     "data": {
      "text/html": [
       "<div>\n",
       "<style scoped>\n",
       "    .dataframe tbody tr th:only-of-type {\n",
       "        vertical-align: middle;\n",
       "    }\n",
       "\n",
       "    .dataframe tbody tr th {\n",
       "        vertical-align: top;\n",
       "    }\n",
       "\n",
       "    .dataframe thead th {\n",
       "        text-align: right;\n",
       "    }\n",
       "</style>\n",
       "<table border=\"1\" class=\"dataframe\">\n",
       "  <thead>\n",
       "    <tr style=\"text-align: right;\">\n",
       "      <th></th>\n",
       "      <th>variable</th>\n",
       "      <th>value</th>\n",
       "    </tr>\n",
       "  </thead>\n",
       "  <tbody>\n",
       "    <tr>\n",
       "      <th>0</th>\n",
       "      <td>Samsung</td>\n",
       "      <td>461</td>\n",
       "    </tr>\n",
       "    <tr>\n",
       "      <th>1</th>\n",
       "      <td>Samsung</td>\n",
       "      <td>461</td>\n",
       "    </tr>\n",
       "    <tr>\n",
       "      <th>2</th>\n",
       "      <td>Samsung</td>\n",
       "      <td>426</td>\n",
       "    </tr>\n",
       "    <tr>\n",
       "      <th>3</th>\n",
       "      <td>Samsung</td>\n",
       "      <td>677</td>\n",
       "    </tr>\n",
       "    <tr>\n",
       "      <th>4</th>\n",
       "      <td>Samsung</td>\n",
       "      <td>593</td>\n",
       "    </tr>\n",
       "    <tr>\n",
       "      <th>...</th>\n",
       "      <td>...</td>\n",
       "      <td>...</td>\n",
       "    </tr>\n",
       "    <tr>\n",
       "      <th>203</th>\n",
       "      <td>Asus</td>\n",
       "      <td>16</td>\n",
       "    </tr>\n",
       "    <tr>\n",
       "      <th>204</th>\n",
       "      <td>Asus</td>\n",
       "      <td>12</td>\n",
       "    </tr>\n",
       "    <tr>\n",
       "      <th>205</th>\n",
       "      <td>Asus</td>\n",
       "      <td>20</td>\n",
       "    </tr>\n",
       "    <tr>\n",
       "      <th>206</th>\n",
       "      <td>Asus</td>\n",
       "      <td>15</td>\n",
       "    </tr>\n",
       "    <tr>\n",
       "      <th>207</th>\n",
       "      <td>Asus</td>\n",
       "      <td>21</td>\n",
       "    </tr>\n",
       "  </tbody>\n",
       "</table>\n",
       "<p>208 rows × 2 columns</p>\n",
       "</div>"
      ],
      "text/plain": [
       "    variable  value\n",
       "0    Samsung    461\n",
       "1    Samsung    461\n",
       "2    Samsung    426\n",
       "3    Samsung    677\n",
       "4    Samsung    593\n",
       "..       ...    ...\n",
       "203     Asus     16\n",
       "204     Asus     12\n",
       "205     Asus     20\n",
       "206     Asus     15\n",
       "207     Asus     21\n",
       "\n",
       "[208 rows x 2 columns]"
      ]
     },
     "execution_count": 14,
     "metadata": {},
     "output_type": "execute_result"
    }
   ],
   "source": [
    "df.set_index('Date').melt()"
   ]
  },
  {
   "cell_type": "markdown",
   "id": "558c15a4-4380-448d-bcd6-97c623a097d3",
   "metadata": {},
   "source": [
    "`-` 사용예시4: ignore_index=False"
   ]
  },
  {
   "cell_type": "code",
   "execution_count": 15,
   "id": "fafffa85-e4f7-409b-a7bb-ec75850dd555",
   "metadata": {
    "vscode": {
     "languageId": "python"
    }
   },
   "outputs": [
    {
     "data": {
      "text/html": [
       "<div>\n",
       "<style scoped>\n",
       "    .dataframe tbody tr th:only-of-type {\n",
       "        vertical-align: middle;\n",
       "    }\n",
       "\n",
       "    .dataframe tbody tr th {\n",
       "        vertical-align: top;\n",
       "    }\n",
       "\n",
       "    .dataframe thead th {\n",
       "        text-align: right;\n",
       "    }\n",
       "</style>\n",
       "<table border=\"1\" class=\"dataframe\">\n",
       "  <thead>\n",
       "    <tr style=\"text-align: right;\">\n",
       "      <th></th>\n",
       "      <th>Date</th>\n",
       "      <th>variable</th>\n",
       "      <th>value</th>\n",
       "    </tr>\n",
       "  </thead>\n",
       "  <tbody>\n",
       "    <tr>\n",
       "      <th>0</th>\n",
       "      <td>2019-10</td>\n",
       "      <td>Samsung</td>\n",
       "      <td>461</td>\n",
       "    </tr>\n",
       "    <tr>\n",
       "      <th>1</th>\n",
       "      <td>2019-11</td>\n",
       "      <td>Samsung</td>\n",
       "      <td>461</td>\n",
       "    </tr>\n",
       "    <tr>\n",
       "      <th>2</th>\n",
       "      <td>2019-12</td>\n",
       "      <td>Samsung</td>\n",
       "      <td>426</td>\n",
       "    </tr>\n",
       "    <tr>\n",
       "      <th>3</th>\n",
       "      <td>2020-01</td>\n",
       "      <td>Samsung</td>\n",
       "      <td>677</td>\n",
       "    </tr>\n",
       "    <tr>\n",
       "      <th>4</th>\n",
       "      <td>2020-02</td>\n",
       "      <td>Samsung</td>\n",
       "      <td>593</td>\n",
       "    </tr>\n",
       "    <tr>\n",
       "      <th>...</th>\n",
       "      <td>...</td>\n",
       "      <td>...</td>\n",
       "      <td>...</td>\n",
       "    </tr>\n",
       "    <tr>\n",
       "      <th>203</th>\n",
       "      <td>2020-06</td>\n",
       "      <td>Asus</td>\n",
       "      <td>16</td>\n",
       "    </tr>\n",
       "    <tr>\n",
       "      <th>204</th>\n",
       "      <td>2020-07</td>\n",
       "      <td>Asus</td>\n",
       "      <td>12</td>\n",
       "    </tr>\n",
       "    <tr>\n",
       "      <th>205</th>\n",
       "      <td>2020-08</td>\n",
       "      <td>Asus</td>\n",
       "      <td>20</td>\n",
       "    </tr>\n",
       "    <tr>\n",
       "      <th>206</th>\n",
       "      <td>2020-09</td>\n",
       "      <td>Asus</td>\n",
       "      <td>15</td>\n",
       "    </tr>\n",
       "    <tr>\n",
       "      <th>207</th>\n",
       "      <td>2020-10</td>\n",
       "      <td>Asus</td>\n",
       "      <td>21</td>\n",
       "    </tr>\n",
       "  </tbody>\n",
       "</table>\n",
       "<p>208 rows × 3 columns</p>\n",
       "</div>"
      ],
      "text/plain": [
       "        Date variable  value\n",
       "0    2019-10  Samsung    461\n",
       "1    2019-11  Samsung    461\n",
       "2    2019-12  Samsung    426\n",
       "3    2020-01  Samsung    677\n",
       "4    2020-02  Samsung    593\n",
       "..       ...      ...    ...\n",
       "203  2020-06     Asus     16\n",
       "204  2020-07     Asus     12\n",
       "205  2020-08     Asus     20\n",
       "206  2020-09     Asus     15\n",
       "207  2020-10     Asus     21\n",
       "\n",
       "[208 rows x 3 columns]"
      ]
     },
     "execution_count": 15,
     "metadata": {},
     "output_type": "execute_result"
    }
   ],
   "source": [
    "df.melt(id_vars='Date')"
   ]
  },
  {
   "cell_type": "code",
   "execution_count": 20,
   "id": "e47ef933-9b40-461c-9f1e-fc9c214c64c2",
   "metadata": {
    "vscode": {
     "languageId": "python"
    }
   },
   "outputs": [
    {
     "data": {
      "text/html": [
       "<div>\n",
       "<style scoped>\n",
       "    .dataframe tbody tr th:only-of-type {\n",
       "        vertical-align: middle;\n",
       "    }\n",
       "\n",
       "    .dataframe tbody tr th {\n",
       "        vertical-align: top;\n",
       "    }\n",
       "\n",
       "    .dataframe thead th {\n",
       "        text-align: right;\n",
       "    }\n",
       "</style>\n",
       "<table border=\"1\" class=\"dataframe\">\n",
       "  <thead>\n",
       "    <tr style=\"text-align: right;\">\n",
       "      <th></th>\n",
       "      <th>Date</th>\n",
       "      <th>variable</th>\n",
       "      <th>value</th>\n",
       "    </tr>\n",
       "  </thead>\n",
       "  <tbody>\n",
       "    <tr>\n",
       "      <th>0</th>\n",
       "      <td>2019-10</td>\n",
       "      <td>Samsung</td>\n",
       "      <td>461</td>\n",
       "    </tr>\n",
       "    <tr>\n",
       "      <th>1</th>\n",
       "      <td>2019-11</td>\n",
       "      <td>Samsung</td>\n",
       "      <td>461</td>\n",
       "    </tr>\n",
       "    <tr>\n",
       "      <th>2</th>\n",
       "      <td>2019-12</td>\n",
       "      <td>Samsung</td>\n",
       "      <td>426</td>\n",
       "    </tr>\n",
       "    <tr>\n",
       "      <th>3</th>\n",
       "      <td>2020-01</td>\n",
       "      <td>Samsung</td>\n",
       "      <td>677</td>\n",
       "    </tr>\n",
       "    <tr>\n",
       "      <th>4</th>\n",
       "      <td>2020-02</td>\n",
       "      <td>Samsung</td>\n",
       "      <td>593</td>\n",
       "    </tr>\n",
       "    <tr>\n",
       "      <th>...</th>\n",
       "      <td>...</td>\n",
       "      <td>...</td>\n",
       "      <td>...</td>\n",
       "    </tr>\n",
       "    <tr>\n",
       "      <th>203</th>\n",
       "      <td>2020-06</td>\n",
       "      <td>Asus</td>\n",
       "      <td>16</td>\n",
       "    </tr>\n",
       "    <tr>\n",
       "      <th>204</th>\n",
       "      <td>2020-07</td>\n",
       "      <td>Asus</td>\n",
       "      <td>12</td>\n",
       "    </tr>\n",
       "    <tr>\n",
       "      <th>205</th>\n",
       "      <td>2020-08</td>\n",
       "      <td>Asus</td>\n",
       "      <td>20</td>\n",
       "    </tr>\n",
       "    <tr>\n",
       "      <th>206</th>\n",
       "      <td>2020-09</td>\n",
       "      <td>Asus</td>\n",
       "      <td>15</td>\n",
       "    </tr>\n",
       "    <tr>\n",
       "      <th>207</th>\n",
       "      <td>2020-10</td>\n",
       "      <td>Asus</td>\n",
       "      <td>21</td>\n",
       "    </tr>\n",
       "  </tbody>\n",
       "</table>\n",
       "<p>208 rows × 3 columns</p>\n",
       "</div>"
      ],
      "text/plain": [
       "        Date variable  value\n",
       "0    2019-10  Samsung    461\n",
       "1    2019-11  Samsung    461\n",
       "2    2019-12  Samsung    426\n",
       "3    2020-01  Samsung    677\n",
       "4    2020-02  Samsung    593\n",
       "..       ...      ...    ...\n",
       "203  2020-06     Asus     16\n",
       "204  2020-07     Asus     12\n",
       "205  2020-08     Asus     20\n",
       "206  2020-09     Asus     15\n",
       "207  2020-10     Asus     21\n",
       "\n",
       "[208 rows x 3 columns]"
      ]
     },
     "execution_count": 20,
     "metadata": {},
     "output_type": "execute_result"
    }
   ],
   "source": [
    "df.set_index('Date').melt(ignore_index=False).reset_index()"
   ]
  },
  {
   "cell_type": "markdown",
   "id": "a24cc5eb-be4c-47b2-b386-d8333d141c97",
   "metadata": {},
   "source": [
    "## stack"
   ]
  },
  {
   "cell_type": "markdown",
   "id": "2c1aec23-01eb-4c17-9278-1ed1f4953b22",
   "metadata": {},
   "source": [
    "`-` 설명: "
   ]
  },
  {
   "cell_type": "code",
   "execution_count": 27,
   "id": "099dd3c4-cec3-4c48-88b4-ba15f07dba9a",
   "metadata": {
    "vscode": {
     "languageId": "python"
    }
   },
   "outputs": [
    {
     "data": {
      "text/html": [
       "<div>\n",
       "<style scoped>\n",
       "    .dataframe tbody tr th:only-of-type {\n",
       "        vertical-align: middle;\n",
       "    }\n",
       "\n",
       "    .dataframe tbody tr th {\n",
       "        vertical-align: top;\n",
       "    }\n",
       "\n",
       "    .dataframe thead tr th {\n",
       "        text-align: left;\n",
       "    }\n",
       "\n",
       "    .dataframe thead tr:last-of-type th {\n",
       "        text-align: right;\n",
       "    }\n",
       "</style>\n",
       "<table border=\"1\" class=\"dataframe\">\n",
       "  <thead>\n",
       "    <tr>\n",
       "      <th></th>\n",
       "      <th></th>\n",
       "      <th colspan=\"2\" halign=\"left\">CANCELLED</th>\n",
       "      <th colspan=\"2\" halign=\"left\">DIVERTED</th>\n",
       "    </tr>\n",
       "    <tr>\n",
       "      <th></th>\n",
       "      <th></th>\n",
       "      <th>mean</th>\n",
       "      <th>count</th>\n",
       "      <th>mean</th>\n",
       "      <th>count</th>\n",
       "    </tr>\n",
       "    <tr>\n",
       "      <th>AIRLINE</th>\n",
       "      <th>WEEKDAY</th>\n",
       "      <th></th>\n",
       "      <th></th>\n",
       "      <th></th>\n",
       "      <th></th>\n",
       "    </tr>\n",
       "  </thead>\n",
       "  <tbody>\n",
       "    <tr>\n",
       "      <th rowspan=\"5\" valign=\"top\">AA</th>\n",
       "      <th>1</th>\n",
       "      <td>0.032106</td>\n",
       "      <td>1277</td>\n",
       "      <td>0.004699</td>\n",
       "      <td>1277</td>\n",
       "    </tr>\n",
       "    <tr>\n",
       "      <th>2</th>\n",
       "      <td>0.007341</td>\n",
       "      <td>1226</td>\n",
       "      <td>0.001631</td>\n",
       "      <td>1226</td>\n",
       "    </tr>\n",
       "    <tr>\n",
       "      <th>3</th>\n",
       "      <td>0.011949</td>\n",
       "      <td>1339</td>\n",
       "      <td>0.001494</td>\n",
       "      <td>1339</td>\n",
       "    </tr>\n",
       "    <tr>\n",
       "      <th>4</th>\n",
       "      <td>0.015004</td>\n",
       "      <td>1333</td>\n",
       "      <td>0.003751</td>\n",
       "      <td>1333</td>\n",
       "    </tr>\n",
       "    <tr>\n",
       "      <th>5</th>\n",
       "      <td>0.014151</td>\n",
       "      <td>1272</td>\n",
       "      <td>0.000786</td>\n",
       "      <td>1272</td>\n",
       "    </tr>\n",
       "    <tr>\n",
       "      <th>...</th>\n",
       "      <th>...</th>\n",
       "      <td>...</td>\n",
       "      <td>...</td>\n",
       "      <td>...</td>\n",
       "      <td>...</td>\n",
       "    </tr>\n",
       "    <tr>\n",
       "      <th rowspan=\"5\" valign=\"top\">WN</th>\n",
       "      <th>3</th>\n",
       "      <td>0.014118</td>\n",
       "      <td>1275</td>\n",
       "      <td>0.001569</td>\n",
       "      <td>1275</td>\n",
       "    </tr>\n",
       "    <tr>\n",
       "      <th>4</th>\n",
       "      <td>0.007911</td>\n",
       "      <td>1264</td>\n",
       "      <td>0.003165</td>\n",
       "      <td>1264</td>\n",
       "    </tr>\n",
       "    <tr>\n",
       "      <th>5</th>\n",
       "      <td>0.005828</td>\n",
       "      <td>1201</td>\n",
       "      <td>0.000000</td>\n",
       "      <td>1201</td>\n",
       "    </tr>\n",
       "    <tr>\n",
       "      <th>6</th>\n",
       "      <td>0.010132</td>\n",
       "      <td>987</td>\n",
       "      <td>0.003040</td>\n",
       "      <td>987</td>\n",
       "    </tr>\n",
       "    <tr>\n",
       "      <th>7</th>\n",
       "      <td>0.006066</td>\n",
       "      <td>1154</td>\n",
       "      <td>0.002600</td>\n",
       "      <td>1154</td>\n",
       "    </tr>\n",
       "  </tbody>\n",
       "</table>\n",
       "<p>98 rows × 4 columns</p>\n",
       "</div>"
      ],
      "text/plain": [
       "                CANCELLED        DIVERTED      \n",
       "                     mean count      mean count\n",
       "AIRLINE WEEKDAY                                \n",
       "AA      1        0.032106  1277  0.004699  1277\n",
       "        2        0.007341  1226  0.001631  1226\n",
       "        3        0.011949  1339  0.001494  1339\n",
       "        4        0.015004  1333  0.003751  1333\n",
       "        5        0.014151  1272  0.000786  1272\n",
       "...                   ...   ...       ...   ...\n",
       "WN      3        0.014118  1275  0.001569  1275\n",
       "        4        0.007911  1264  0.003165  1264\n",
       "        5        0.005828  1201  0.000000  1201\n",
       "        6        0.010132   987  0.003040   987\n",
       "        7        0.006066  1154  0.002600  1154\n",
       "\n",
       "[98 rows x 4 columns]"
      ]
     },
     "execution_count": 27,
     "metadata": {},
     "output_type": "execute_result"
    }
   ],
   "source": [
    "df=pd.read_csv('https://raw.githubusercontent.com/PacktPublishing/Pandas-Cookbook/master/data/flights.csv')\\\n",
    ".groupby([\"AIRLINE\",\"WEEKDAY\"]).agg({\"CANCELLED\":[np.mean,\"count\"],\"DIVERTED\":[np.mean,\"count\"]})\n",
    "df"
   ]
  },
  {
   "cell_type": "markdown",
   "id": "fbe28b4c-de61-4ee4-913d-04c6f5c403c6",
   "metadata": {},
   "source": [
    "`-` 사용예시1"
   ]
  },
  {
   "cell_type": "markdown",
   "id": "a55ef7a7-889a-47d1-a97c-a71270b80433",
   "metadata": {},
   "source": [
    "`-` 사용예시2"
   ]
  },
  {
   "cell_type": "code",
   "execution_count": 36,
   "id": "29719790-8474-4310-82f3-8bf1cd795cfa",
   "metadata": {
    "vscode": {
     "languageId": "python"
    }
   },
   "outputs": [
    {
     "data": {
      "text/html": [
       "<div>\n",
       "<style scoped>\n",
       "    .dataframe tbody tr th:only-of-type {\n",
       "        vertical-align: middle;\n",
       "    }\n",
       "\n",
       "    .dataframe tbody tr th {\n",
       "        vertical-align: top;\n",
       "    }\n",
       "\n",
       "    .dataframe thead th {\n",
       "        text-align: right;\n",
       "    }\n",
       "</style>\n",
       "<table border=\"1\" class=\"dataframe\">\n",
       "  <thead>\n",
       "    <tr style=\"text-align: right;\">\n",
       "      <th></th>\n",
       "      <th>AIRLINE</th>\n",
       "      <th>WEEKDAY</th>\n",
       "      <th>level_2</th>\n",
       "      <th>level_3</th>\n",
       "      <th>value</th>\n",
       "    </tr>\n",
       "  </thead>\n",
       "  <tbody>\n",
       "    <tr>\n",
       "      <th>0</th>\n",
       "      <td>AA</td>\n",
       "      <td>1</td>\n",
       "      <td>mean</td>\n",
       "      <td>CANCELLED</td>\n",
       "      <td>0.032106</td>\n",
       "    </tr>\n",
       "    <tr>\n",
       "      <th>1</th>\n",
       "      <td>AA</td>\n",
       "      <td>1</td>\n",
       "      <td>mean</td>\n",
       "      <td>DIVERTED</td>\n",
       "      <td>0.004699</td>\n",
       "    </tr>\n",
       "    <tr>\n",
       "      <th>2</th>\n",
       "      <td>AA</td>\n",
       "      <td>1</td>\n",
       "      <td>count</td>\n",
       "      <td>CANCELLED</td>\n",
       "      <td>1277.000000</td>\n",
       "    </tr>\n",
       "    <tr>\n",
       "      <th>3</th>\n",
       "      <td>AA</td>\n",
       "      <td>1</td>\n",
       "      <td>count</td>\n",
       "      <td>DIVERTED</td>\n",
       "      <td>1277.000000</td>\n",
       "    </tr>\n",
       "    <tr>\n",
       "      <th>4</th>\n",
       "      <td>AA</td>\n",
       "      <td>2</td>\n",
       "      <td>mean</td>\n",
       "      <td>CANCELLED</td>\n",
       "      <td>0.007341</td>\n",
       "    </tr>\n",
       "    <tr>\n",
       "      <th>...</th>\n",
       "      <td>...</td>\n",
       "      <td>...</td>\n",
       "      <td>...</td>\n",
       "      <td>...</td>\n",
       "      <td>...</td>\n",
       "    </tr>\n",
       "    <tr>\n",
       "      <th>387</th>\n",
       "      <td>WN</td>\n",
       "      <td>6</td>\n",
       "      <td>count</td>\n",
       "      <td>DIVERTED</td>\n",
       "      <td>987.000000</td>\n",
       "    </tr>\n",
       "    <tr>\n",
       "      <th>388</th>\n",
       "      <td>WN</td>\n",
       "      <td>7</td>\n",
       "      <td>mean</td>\n",
       "      <td>CANCELLED</td>\n",
       "      <td>0.006066</td>\n",
       "    </tr>\n",
       "    <tr>\n",
       "      <th>389</th>\n",
       "      <td>WN</td>\n",
       "      <td>7</td>\n",
       "      <td>mean</td>\n",
       "      <td>DIVERTED</td>\n",
       "      <td>0.002600</td>\n",
       "    </tr>\n",
       "    <tr>\n",
       "      <th>390</th>\n",
       "      <td>WN</td>\n",
       "      <td>7</td>\n",
       "      <td>count</td>\n",
       "      <td>CANCELLED</td>\n",
       "      <td>1154.000000</td>\n",
       "    </tr>\n",
       "    <tr>\n",
       "      <th>391</th>\n",
       "      <td>WN</td>\n",
       "      <td>7</td>\n",
       "      <td>count</td>\n",
       "      <td>DIVERTED</td>\n",
       "      <td>1154.000000</td>\n",
       "    </tr>\n",
       "  </tbody>\n",
       "</table>\n",
       "<p>392 rows × 5 columns</p>\n",
       "</div>"
      ],
      "text/plain": [
       "    AIRLINE  WEEKDAY level_2    level_3        value\n",
       "0        AA        1    mean  CANCELLED     0.032106\n",
       "1        AA        1    mean   DIVERTED     0.004699\n",
       "2        AA        1   count  CANCELLED  1277.000000\n",
       "3        AA        1   count   DIVERTED  1277.000000\n",
       "4        AA        2    mean  CANCELLED     0.007341\n",
       "..      ...      ...     ...        ...          ...\n",
       "387      WN        6   count   DIVERTED   987.000000\n",
       "388      WN        7    mean  CANCELLED     0.006066\n",
       "389      WN        7    mean   DIVERTED     0.002600\n",
       "390      WN        7   count  CANCELLED  1154.000000\n",
       "391      WN        7   count   DIVERTED  1154.000000\n",
       "\n",
       "[392 rows x 5 columns]"
      ]
     },
     "execution_count": 36,
     "metadata": {},
     "output_type": "execute_result"
    }
   ],
   "source": [
    "df.stack().stack().reset_index().rename({0:'value'},axis=1)\n",
    "#df.stack().stack().reset_index().rename(columns={'level_2':'aggtype'})"
   ]
  },
  {
   "cell_type": "markdown",
   "id": "6f1bfa43-bb53-4e62-93a5-62591079dca3",
   "metadata": {},
   "source": [
    "`-` 사용예시3 (unstack)"
   ]
  },
  {
   "cell_type": "code",
   "execution_count": 37,
   "id": "dd71febb-5dc0-4bcd-9d35-06f461abbff6",
   "metadata": {
    "vscode": {
     "languageId": "python"
    }
   },
   "outputs": [
    {
     "data": {
      "text/html": [
       "<div>\n",
       "<style scoped>\n",
       "    .dataframe tbody tr th:only-of-type {\n",
       "        vertical-align: middle;\n",
       "    }\n",
       "\n",
       "    .dataframe tbody tr th {\n",
       "        vertical-align: top;\n",
       "    }\n",
       "\n",
       "    .dataframe thead tr th {\n",
       "        text-align: left;\n",
       "    }\n",
       "\n",
       "    .dataframe thead tr:last-of-type th {\n",
       "        text-align: right;\n",
       "    }\n",
       "</style>\n",
       "<table border=\"1\" class=\"dataframe\">\n",
       "  <thead>\n",
       "    <tr>\n",
       "      <th></th>\n",
       "      <th></th>\n",
       "      <th colspan=\"2\" halign=\"left\">CANCELLED</th>\n",
       "      <th colspan=\"2\" halign=\"left\">DIVERTED</th>\n",
       "    </tr>\n",
       "    <tr>\n",
       "      <th></th>\n",
       "      <th></th>\n",
       "      <th>mean</th>\n",
       "      <th>count</th>\n",
       "      <th>mean</th>\n",
       "      <th>count</th>\n",
       "    </tr>\n",
       "    <tr>\n",
       "      <th>AIRLINE</th>\n",
       "      <th>WEEKDAY</th>\n",
       "      <th></th>\n",
       "      <th></th>\n",
       "      <th></th>\n",
       "      <th></th>\n",
       "    </tr>\n",
       "  </thead>\n",
       "  <tbody>\n",
       "    <tr>\n",
       "      <th rowspan=\"5\" valign=\"top\">AA</th>\n",
       "      <th>1</th>\n",
       "      <td>0.032106</td>\n",
       "      <td>1277.0</td>\n",
       "      <td>0.004699</td>\n",
       "      <td>1277.0</td>\n",
       "    </tr>\n",
       "    <tr>\n",
       "      <th>2</th>\n",
       "      <td>0.007341</td>\n",
       "      <td>1226.0</td>\n",
       "      <td>0.001631</td>\n",
       "      <td>1226.0</td>\n",
       "    </tr>\n",
       "    <tr>\n",
       "      <th>3</th>\n",
       "      <td>0.011949</td>\n",
       "      <td>1339.0</td>\n",
       "      <td>0.001494</td>\n",
       "      <td>1339.0</td>\n",
       "    </tr>\n",
       "    <tr>\n",
       "      <th>4</th>\n",
       "      <td>0.015004</td>\n",
       "      <td>1333.0</td>\n",
       "      <td>0.003751</td>\n",
       "      <td>1333.0</td>\n",
       "    </tr>\n",
       "    <tr>\n",
       "      <th>5</th>\n",
       "      <td>0.014151</td>\n",
       "      <td>1272.0</td>\n",
       "      <td>0.000786</td>\n",
       "      <td>1272.0</td>\n",
       "    </tr>\n",
       "    <tr>\n",
       "      <th>...</th>\n",
       "      <th>...</th>\n",
       "      <td>...</td>\n",
       "      <td>...</td>\n",
       "      <td>...</td>\n",
       "      <td>...</td>\n",
       "    </tr>\n",
       "    <tr>\n",
       "      <th rowspan=\"5\" valign=\"top\">WN</th>\n",
       "      <th>3</th>\n",
       "      <td>0.014118</td>\n",
       "      <td>1275.0</td>\n",
       "      <td>0.001569</td>\n",
       "      <td>1275.0</td>\n",
       "    </tr>\n",
       "    <tr>\n",
       "      <th>4</th>\n",
       "      <td>0.007911</td>\n",
       "      <td>1264.0</td>\n",
       "      <td>0.003165</td>\n",
       "      <td>1264.0</td>\n",
       "    </tr>\n",
       "    <tr>\n",
       "      <th>5</th>\n",
       "      <td>0.005828</td>\n",
       "      <td>1201.0</td>\n",
       "      <td>0.000000</td>\n",
       "      <td>1201.0</td>\n",
       "    </tr>\n",
       "    <tr>\n",
       "      <th>6</th>\n",
       "      <td>0.010132</td>\n",
       "      <td>987.0</td>\n",
       "      <td>0.003040</td>\n",
       "      <td>987.0</td>\n",
       "    </tr>\n",
       "    <tr>\n",
       "      <th>7</th>\n",
       "      <td>0.006066</td>\n",
       "      <td>1154.0</td>\n",
       "      <td>0.002600</td>\n",
       "      <td>1154.0</td>\n",
       "    </tr>\n",
       "  </tbody>\n",
       "</table>\n",
       "<p>98 rows × 4 columns</p>\n",
       "</div>"
      ],
      "text/plain": [
       "                CANCELLED          DIVERTED        \n",
       "                     mean   count      mean   count\n",
       "AIRLINE WEEKDAY                                    \n",
       "AA      1        0.032106  1277.0  0.004699  1277.0\n",
       "        2        0.007341  1226.0  0.001631  1226.0\n",
       "        3        0.011949  1339.0  0.001494  1339.0\n",
       "        4        0.015004  1333.0  0.003751  1333.0\n",
       "        5        0.014151  1272.0  0.000786  1272.0\n",
       "...                   ...     ...       ...     ...\n",
       "WN      3        0.014118  1275.0  0.001569  1275.0\n",
       "        4        0.007911  1264.0  0.003165  1264.0\n",
       "        5        0.005828  1201.0  0.000000  1201.0\n",
       "        6        0.010132   987.0  0.003040   987.0\n",
       "        7        0.006066  1154.0  0.002600  1154.0\n",
       "\n",
       "[98 rows x 4 columns]"
      ]
     },
     "execution_count": 37,
     "metadata": {},
     "output_type": "execute_result"
    }
   ],
   "source": [
    "df.stack().unstack()"
   ]
  },
  {
   "cell_type": "markdown",
   "id": "f35e372d-1959-4cb1-adff-29d183736278",
   "metadata": {},
   "source": [
    "> melt, stack 을 set_index와 reset_index와 함께 사용하면 tidydata를 만들기 용이하다. "
   ]
  },
  {
   "cell_type": "markdown",
   "id": "522d28ca-3fbe-407b-9e35-14af61622e81",
   "metadata": {},
   "source": [
    "# tidydata"
   ]
  },
  {
   "cell_type": "markdown",
   "id": "e9c160f5-3599-4477-a027-e8a3066f3213",
   "metadata": {},
   "source": [
    "## tidydata의 정의 "
   ]
  },
  {
   "cell_type": "markdown",
   "id": "727b969a-595a-4cf9-802c-49e36c2f30b7",
   "metadata": {},
   "source": [
    "`-` 느낌: ggplot으로 그림 그리기 좋은 데이터 + pandas로 query, group by 등을 쓰기 좋은 자료 "
   ]
  },
  {
   "cell_type": "markdown",
   "id": "a42c7319-3f78-4413-9e4d-027e0255b1ed",
   "metadata": {},
   "source": [
    "`-` 정의: https://r4ds.had.co.nz/tidy-data.html\n",
    "\n",
    "- Each variable must have its own column.\n",
    "- Each observation must have its own row.\n",
    "- Each value must have its own cell."
   ]
  },
  {
   "cell_type": "markdown",
   "id": "716ab311-734e-4123-b1be-ce3647d0e1d6",
   "metadata": {},
   "source": [
    "예시1 (tidy data) "
   ]
  },
  {
   "cell_type": "markdown",
   "id": "ff1921fd-b802-4441-857a-0a3b06257e69",
   "metadata": {},
   "source": [
    "|obs|x|y|shape|color|\n",
    "|:-:|:-:|:-:|:-:|:-:|\n",
    "|0|0|0 |'star'|'F'|\n",
    "|1|0|1 |'circ'|'F'|\n",
    "|2|1|0 |'star'|'M'|\n",
    "|3|1|1 |'circ'|'M'|"
   ]
  },
  {
   "cell_type": "markdown",
   "id": "9ad482c1-2f88-42b1-8aa2-cb18b4cbb56a",
   "metadata": {},
   "source": [
    "예시2 (tidy data x)"
   ]
  },
  {
   "cell_type": "markdown",
   "id": "4cffac34-e6f7-43c1-9565-67725de8dd3b",
   "metadata": {},
   "source": [
    "| |shape=star|shape=circ|\n",
    "|:-:|:-:|:-:|\n",
    "|color=F|(0,0)|(0,1)|\n",
    "|color=M|(1,0)|(1,1)|\n",
    "\n"
   ]
  },
  {
   "cell_type": "markdown",
   "id": "721f4099-8b66-44d4-9a1e-d84b7380a47d",
   "metadata": {},
   "source": [
    "## 예제1: wide df"
   ]
  },
  {
   "cell_type": "markdown",
   "id": "9222b168-3bc7-4fc0-b46c-b0cae170602a",
   "metadata": {},
   "source": [
    "`-` data"
   ]
  },
  {
   "cell_type": "code",
   "execution_count": 12,
   "id": "87e2d710-9942-4c7d-876e-24b35f4fe0d3",
   "metadata": {
    "vscode": {
     "languageId": "python"
    }
   },
   "outputs": [
    {
     "data": {
      "text/html": [
       "<div>\n",
       "<style scoped>\n",
       "    .dataframe tbody tr th:only-of-type {\n",
       "        vertical-align: middle;\n",
       "    }\n",
       "\n",
       "    .dataframe tbody tr th {\n",
       "        vertical-align: top;\n",
       "    }\n",
       "\n",
       "    .dataframe thead th {\n",
       "        text-align: right;\n",
       "    }\n",
       "</style>\n",
       "<table border=\"1\" class=\"dataframe\">\n",
       "  <thead>\n",
       "    <tr style=\"text-align: right;\">\n",
       "      <th></th>\n",
       "      <th>Date</th>\n",
       "      <th>Samsung</th>\n",
       "      <th>Apple</th>\n",
       "      <th>Huawei</th>\n",
       "      <th>Xiaomi</th>\n",
       "      <th>Oppo</th>\n",
       "      <th>Mobicel</th>\n",
       "      <th>Motorola</th>\n",
       "      <th>LG</th>\n",
       "      <th>Others</th>\n",
       "      <th>Realme</th>\n",
       "      <th>Google</th>\n",
       "      <th>Nokia</th>\n",
       "      <th>Lenovo</th>\n",
       "      <th>OnePlus</th>\n",
       "      <th>Sony</th>\n",
       "      <th>Asus</th>\n",
       "    </tr>\n",
       "  </thead>\n",
       "  <tbody>\n",
       "    <tr>\n",
       "      <th>0</th>\n",
       "      <td>2019-10</td>\n",
       "      <td>461</td>\n",
       "      <td>324</td>\n",
       "      <td>136</td>\n",
       "      <td>109</td>\n",
       "      <td>76</td>\n",
       "      <td>81</td>\n",
       "      <td>43</td>\n",
       "      <td>37</td>\n",
       "      <td>135</td>\n",
       "      <td>28</td>\n",
       "      <td>39</td>\n",
       "      <td>14</td>\n",
       "      <td>22</td>\n",
       "      <td>17</td>\n",
       "      <td>20</td>\n",
       "      <td>17</td>\n",
       "    </tr>\n",
       "    <tr>\n",
       "      <th>1</th>\n",
       "      <td>2019-11</td>\n",
       "      <td>461</td>\n",
       "      <td>358</td>\n",
       "      <td>167</td>\n",
       "      <td>141</td>\n",
       "      <td>86</td>\n",
       "      <td>61</td>\n",
       "      <td>29</td>\n",
       "      <td>36</td>\n",
       "      <td>141</td>\n",
       "      <td>27</td>\n",
       "      <td>29</td>\n",
       "      <td>20</td>\n",
       "      <td>23</td>\n",
       "      <td>10</td>\n",
       "      <td>19</td>\n",
       "      <td>27</td>\n",
       "    </tr>\n",
       "    <tr>\n",
       "      <th>2</th>\n",
       "      <td>2019-12</td>\n",
       "      <td>426</td>\n",
       "      <td>383</td>\n",
       "      <td>143</td>\n",
       "      <td>105</td>\n",
       "      <td>53</td>\n",
       "      <td>45</td>\n",
       "      <td>51</td>\n",
       "      <td>48</td>\n",
       "      <td>129</td>\n",
       "      <td>30</td>\n",
       "      <td>20</td>\n",
       "      <td>26</td>\n",
       "      <td>28</td>\n",
       "      <td>18</td>\n",
       "      <td>18</td>\n",
       "      <td>19</td>\n",
       "    </tr>\n",
       "    <tr>\n",
       "      <th>3</th>\n",
       "      <td>2020-01</td>\n",
       "      <td>677</td>\n",
       "      <td>494</td>\n",
       "      <td>212</td>\n",
       "      <td>187</td>\n",
       "      <td>110</td>\n",
       "      <td>79</td>\n",
       "      <td>65</td>\n",
       "      <td>49</td>\n",
       "      <td>158</td>\n",
       "      <td>23</td>\n",
       "      <td>13</td>\n",
       "      <td>19</td>\n",
       "      <td>19</td>\n",
       "      <td>22</td>\n",
       "      <td>27</td>\n",
       "      <td>22</td>\n",
       "    </tr>\n",
       "    <tr>\n",
       "      <th>4</th>\n",
       "      <td>2020-02</td>\n",
       "      <td>593</td>\n",
       "      <td>520</td>\n",
       "      <td>217</td>\n",
       "      <td>195</td>\n",
       "      <td>112</td>\n",
       "      <td>67</td>\n",
       "      <td>62</td>\n",
       "      <td>71</td>\n",
       "      <td>157</td>\n",
       "      <td>25</td>\n",
       "      <td>18</td>\n",
       "      <td>16</td>\n",
       "      <td>24</td>\n",
       "      <td>18</td>\n",
       "      <td>23</td>\n",
       "      <td>20</td>\n",
       "    </tr>\n",
       "    <tr>\n",
       "      <th>5</th>\n",
       "      <td>2020-03</td>\n",
       "      <td>637</td>\n",
       "      <td>537</td>\n",
       "      <td>246</td>\n",
       "      <td>187</td>\n",
       "      <td>92</td>\n",
       "      <td>66</td>\n",
       "      <td>59</td>\n",
       "      <td>67</td>\n",
       "      <td>145</td>\n",
       "      <td>21</td>\n",
       "      <td>16</td>\n",
       "      <td>24</td>\n",
       "      <td>18</td>\n",
       "      <td>31</td>\n",
       "      <td>22</td>\n",
       "      <td>14</td>\n",
       "    </tr>\n",
       "    <tr>\n",
       "      <th>6</th>\n",
       "      <td>2020-04</td>\n",
       "      <td>647</td>\n",
       "      <td>583</td>\n",
       "      <td>222</td>\n",
       "      <td>154</td>\n",
       "      <td>98</td>\n",
       "      <td>59</td>\n",
       "      <td>48</td>\n",
       "      <td>64</td>\n",
       "      <td>113</td>\n",
       "      <td>20</td>\n",
       "      <td>23</td>\n",
       "      <td>25</td>\n",
       "      <td>19</td>\n",
       "      <td>19</td>\n",
       "      <td>23</td>\n",
       "      <td>21</td>\n",
       "    </tr>\n",
       "    <tr>\n",
       "      <th>7</th>\n",
       "      <td>2020-05</td>\n",
       "      <td>629</td>\n",
       "      <td>518</td>\n",
       "      <td>192</td>\n",
       "      <td>176</td>\n",
       "      <td>91</td>\n",
       "      <td>87</td>\n",
       "      <td>50</td>\n",
       "      <td>66</td>\n",
       "      <td>150</td>\n",
       "      <td>43</td>\n",
       "      <td>27</td>\n",
       "      <td>15</td>\n",
       "      <td>18</td>\n",
       "      <td>19</td>\n",
       "      <td>19</td>\n",
       "      <td>13</td>\n",
       "    </tr>\n",
       "    <tr>\n",
       "      <th>8</th>\n",
       "      <td>2020-06</td>\n",
       "      <td>663</td>\n",
       "      <td>552</td>\n",
       "      <td>209</td>\n",
       "      <td>185</td>\n",
       "      <td>93</td>\n",
       "      <td>69</td>\n",
       "      <td>54</td>\n",
       "      <td>60</td>\n",
       "      <td>140</td>\n",
       "      <td>39</td>\n",
       "      <td>16</td>\n",
       "      <td>16</td>\n",
       "      <td>17</td>\n",
       "      <td>29</td>\n",
       "      <td>25</td>\n",
       "      <td>16</td>\n",
       "    </tr>\n",
       "    <tr>\n",
       "      <th>9</th>\n",
       "      <td>2020-07</td>\n",
       "      <td>599</td>\n",
       "      <td>471</td>\n",
       "      <td>214</td>\n",
       "      <td>193</td>\n",
       "      <td>89</td>\n",
       "      <td>78</td>\n",
       "      <td>65</td>\n",
       "      <td>59</td>\n",
       "      <td>130</td>\n",
       "      <td>40</td>\n",
       "      <td>27</td>\n",
       "      <td>25</td>\n",
       "      <td>21</td>\n",
       "      <td>18</td>\n",
       "      <td>18</td>\n",
       "      <td>12</td>\n",
       "    </tr>\n",
       "    <tr>\n",
       "      <th>10</th>\n",
       "      <td>2020-08</td>\n",
       "      <td>615</td>\n",
       "      <td>567</td>\n",
       "      <td>204</td>\n",
       "      <td>182</td>\n",
       "      <td>105</td>\n",
       "      <td>82</td>\n",
       "      <td>62</td>\n",
       "      <td>42</td>\n",
       "      <td>129</td>\n",
       "      <td>47</td>\n",
       "      <td>16</td>\n",
       "      <td>23</td>\n",
       "      <td>21</td>\n",
       "      <td>27</td>\n",
       "      <td>23</td>\n",
       "      <td>20</td>\n",
       "    </tr>\n",
       "    <tr>\n",
       "      <th>11</th>\n",
       "      <td>2020-09</td>\n",
       "      <td>621</td>\n",
       "      <td>481</td>\n",
       "      <td>230</td>\n",
       "      <td>220</td>\n",
       "      <td>102</td>\n",
       "      <td>88</td>\n",
       "      <td>56</td>\n",
       "      <td>49</td>\n",
       "      <td>143</td>\n",
       "      <td>54</td>\n",
       "      <td>14</td>\n",
       "      <td>15</td>\n",
       "      <td>17</td>\n",
       "      <td>15</td>\n",
       "      <td>19</td>\n",
       "      <td>15</td>\n",
       "    </tr>\n",
       "    <tr>\n",
       "      <th>12</th>\n",
       "      <td>2020-10</td>\n",
       "      <td>637</td>\n",
       "      <td>555</td>\n",
       "      <td>232</td>\n",
       "      <td>203</td>\n",
       "      <td>90</td>\n",
       "      <td>52</td>\n",
       "      <td>63</td>\n",
       "      <td>49</td>\n",
       "      <td>140</td>\n",
       "      <td>33</td>\n",
       "      <td>17</td>\n",
       "      <td>20</td>\n",
       "      <td>22</td>\n",
       "      <td>9</td>\n",
       "      <td>22</td>\n",
       "      <td>21</td>\n",
       "    </tr>\n",
       "  </tbody>\n",
       "</table>\n",
       "</div>"
      ],
      "text/plain": [
       "       Date  Samsung  Apple  Huawei  Xiaomi  Oppo  Mobicel  Motorola  LG  \\\n",
       "0   2019-10      461    324     136     109    76       81        43  37   \n",
       "1   2019-11      461    358     167     141    86       61        29  36   \n",
       "2   2019-12      426    383     143     105    53       45        51  48   \n",
       "3   2020-01      677    494     212     187   110       79        65  49   \n",
       "4   2020-02      593    520     217     195   112       67        62  71   \n",
       "5   2020-03      637    537     246     187    92       66        59  67   \n",
       "6   2020-04      647    583     222     154    98       59        48  64   \n",
       "7   2020-05      629    518     192     176    91       87        50  66   \n",
       "8   2020-06      663    552     209     185    93       69        54  60   \n",
       "9   2020-07      599    471     214     193    89       78        65  59   \n",
       "10  2020-08      615    567     204     182   105       82        62  42   \n",
       "11  2020-09      621    481     230     220   102       88        56  49   \n",
       "12  2020-10      637    555     232     203    90       52        63  49   \n",
       "\n",
       "    Others  Realme  Google  Nokia  Lenovo  OnePlus  Sony  Asus  \n",
       "0      135      28      39     14      22       17    20    17  \n",
       "1      141      27      29     20      23       10    19    27  \n",
       "2      129      30      20     26      28       18    18    19  \n",
       "3      158      23      13     19      19       22    27    22  \n",
       "4      157      25      18     16      24       18    23    20  \n",
       "5      145      21      16     24      18       31    22    14  \n",
       "6      113      20      23     25      19       19    23    21  \n",
       "7      150      43      27     15      18       19    19    13  \n",
       "8      140      39      16     16      17       29    25    16  \n",
       "9      130      40      27     25      21       18    18    12  \n",
       "10     129      47      16     23      21       27    23    20  \n",
       "11     143      54      14     15      17       15    19    15  \n",
       "12     140      33      17     20      22        9    22    21  "
      ]
     },
     "execution_count": 12,
     "metadata": {},
     "output_type": "execute_result"
    }
   ],
   "source": [
    "df=pd.read_csv('https://raw.githubusercontent.com/guebin/2021DV/master/_notebooks/phone.csv')\n",
    "df"
   ]
  },
  {
   "cell_type": "markdown",
   "id": "0e68b5b4-c6b5-4518-85b5-89b41f8c5e75",
   "metadata": {},
   "source": [
    "- tidy data 아님\n",
    "- 정의에 의한 판단: 하나의 observation이 하나의 행을 차지하고 있지 않음. \n",
    "- 직관적인 판단: 회사별로 색을 다르게 하여 x:'Date', y:'판매량'을 하고 싶다면? "
   ]
  },
  {
   "cell_type": "markdown",
   "id": "ca3fb110-a9e8-499b-8dc7-81f8bca22bb5",
   "metadata": {},
   "source": [
    "`-` tidydata로 변환 (melt는 너무 쉬우니까 stack으로 해보자)"
   ]
  },
  {
   "cell_type": "code",
   "execution_count": 13,
   "id": "1d362030-e764-4fb9-abcf-e59d4e28e10e",
   "metadata": {
    "vscode": {
     "languageId": "python"
    }
   },
   "outputs": [
    {
     "data": {
      "text/html": [
       "<div>\n",
       "<style scoped>\n",
       "    .dataframe tbody tr th:only-of-type {\n",
       "        vertical-align: middle;\n",
       "    }\n",
       "\n",
       "    .dataframe tbody tr th {\n",
       "        vertical-align: top;\n",
       "    }\n",
       "\n",
       "    .dataframe thead th {\n",
       "        text-align: right;\n",
       "    }\n",
       "</style>\n",
       "<table border=\"1\" class=\"dataframe\">\n",
       "  <thead>\n",
       "    <tr style=\"text-align: right;\">\n",
       "      <th></th>\n",
       "      <th>Date</th>\n",
       "      <th>Company</th>\n",
       "      <th>Sales</th>\n",
       "    </tr>\n",
       "  </thead>\n",
       "  <tbody>\n",
       "    <tr>\n",
       "      <th>0</th>\n",
       "      <td>2019-10</td>\n",
       "      <td>Samsung</td>\n",
       "      <td>461</td>\n",
       "    </tr>\n",
       "    <tr>\n",
       "      <th>1</th>\n",
       "      <td>2019-10</td>\n",
       "      <td>Apple</td>\n",
       "      <td>324</td>\n",
       "    </tr>\n",
       "    <tr>\n",
       "      <th>2</th>\n",
       "      <td>2019-10</td>\n",
       "      <td>Huawei</td>\n",
       "      <td>136</td>\n",
       "    </tr>\n",
       "    <tr>\n",
       "      <th>3</th>\n",
       "      <td>2019-10</td>\n",
       "      <td>Xiaomi</td>\n",
       "      <td>109</td>\n",
       "    </tr>\n",
       "    <tr>\n",
       "      <th>4</th>\n",
       "      <td>2019-10</td>\n",
       "      <td>Oppo</td>\n",
       "      <td>76</td>\n",
       "    </tr>\n",
       "    <tr>\n",
       "      <th>...</th>\n",
       "      <td>...</td>\n",
       "      <td>...</td>\n",
       "      <td>...</td>\n",
       "    </tr>\n",
       "    <tr>\n",
       "      <th>203</th>\n",
       "      <td>2020-10</td>\n",
       "      <td>Nokia</td>\n",
       "      <td>20</td>\n",
       "    </tr>\n",
       "    <tr>\n",
       "      <th>204</th>\n",
       "      <td>2020-10</td>\n",
       "      <td>Lenovo</td>\n",
       "      <td>22</td>\n",
       "    </tr>\n",
       "    <tr>\n",
       "      <th>205</th>\n",
       "      <td>2020-10</td>\n",
       "      <td>OnePlus</td>\n",
       "      <td>9</td>\n",
       "    </tr>\n",
       "    <tr>\n",
       "      <th>206</th>\n",
       "      <td>2020-10</td>\n",
       "      <td>Sony</td>\n",
       "      <td>22</td>\n",
       "    </tr>\n",
       "    <tr>\n",
       "      <th>207</th>\n",
       "      <td>2020-10</td>\n",
       "      <td>Asus</td>\n",
       "      <td>21</td>\n",
       "    </tr>\n",
       "  </tbody>\n",
       "</table>\n",
       "<p>208 rows × 3 columns</p>\n",
       "</div>"
      ],
      "text/plain": [
       "        Date  Company  Sales\n",
       "0    2019-10  Samsung    461\n",
       "1    2019-10    Apple    324\n",
       "2    2019-10   Huawei    136\n",
       "3    2019-10   Xiaomi    109\n",
       "4    2019-10     Oppo     76\n",
       "..       ...      ...    ...\n",
       "203  2020-10    Nokia     20\n",
       "204  2020-10   Lenovo     22\n",
       "205  2020-10  OnePlus      9\n",
       "206  2020-10     Sony     22\n",
       "207  2020-10     Asus     21\n",
       "\n",
       "[208 rows x 3 columns]"
      ]
     },
     "execution_count": 13,
     "metadata": {},
     "output_type": "execute_result"
    }
   ],
   "source": [
    "df.set_index('Date').stack().reset_index().rename({'level_1':'Company',0:'Sales'},axis=1)"
   ]
  },
  {
   "cell_type": "markdown",
   "id": "5b9cf62b-8564-43a7-a2a3-3cec16ad8da7",
   "metadata": {},
   "source": [
    "## 예제2: multi-indexed data"
   ]
  },
  {
   "cell_type": "markdown",
   "id": "02b9b09e-d16c-48da-9040-897c62cbd851",
   "metadata": {},
   "source": [
    "`-` 데이터"
   ]
  },
  {
   "cell_type": "code",
   "execution_count": 14,
   "id": "804424bf-34a6-4d98-828b-60eb2999ee8e",
   "metadata": {
    "vscode": {
     "languageId": "python"
    }
   },
   "outputs": [
    {
     "data": {
      "text/html": [
       "<div>\n",
       "<style scoped>\n",
       "    .dataframe tbody tr th:only-of-type {\n",
       "        vertical-align: middle;\n",
       "    }\n",
       "\n",
       "    .dataframe tbody tr th {\n",
       "        vertical-align: top;\n",
       "    }\n",
       "\n",
       "    .dataframe thead tr th {\n",
       "        text-align: left;\n",
       "    }\n",
       "\n",
       "    .dataframe thead tr:last-of-type th {\n",
       "        text-align: right;\n",
       "    }\n",
       "</style>\n",
       "<table border=\"1\" class=\"dataframe\">\n",
       "  <thead>\n",
       "    <tr>\n",
       "      <th></th>\n",
       "      <th></th>\n",
       "      <th colspan=\"2\" halign=\"left\">CANCELLED</th>\n",
       "      <th colspan=\"2\" halign=\"left\">DIVERTED</th>\n",
       "    </tr>\n",
       "    <tr>\n",
       "      <th></th>\n",
       "      <th></th>\n",
       "      <th>mean</th>\n",
       "      <th>count</th>\n",
       "      <th>mean</th>\n",
       "      <th>count</th>\n",
       "    </tr>\n",
       "    <tr>\n",
       "      <th>AIRLINE</th>\n",
       "      <th>WEEKDAY</th>\n",
       "      <th></th>\n",
       "      <th></th>\n",
       "      <th></th>\n",
       "      <th></th>\n",
       "    </tr>\n",
       "  </thead>\n",
       "  <tbody>\n",
       "    <tr>\n",
       "      <th rowspan=\"5\" valign=\"top\">AA</th>\n",
       "      <th>1</th>\n",
       "      <td>0.032106</td>\n",
       "      <td>1277</td>\n",
       "      <td>0.004699</td>\n",
       "      <td>1277</td>\n",
       "    </tr>\n",
       "    <tr>\n",
       "      <th>2</th>\n",
       "      <td>0.007341</td>\n",
       "      <td>1226</td>\n",
       "      <td>0.001631</td>\n",
       "      <td>1226</td>\n",
       "    </tr>\n",
       "    <tr>\n",
       "      <th>3</th>\n",
       "      <td>0.011949</td>\n",
       "      <td>1339</td>\n",
       "      <td>0.001494</td>\n",
       "      <td>1339</td>\n",
       "    </tr>\n",
       "    <tr>\n",
       "      <th>4</th>\n",
       "      <td>0.015004</td>\n",
       "      <td>1333</td>\n",
       "      <td>0.003751</td>\n",
       "      <td>1333</td>\n",
       "    </tr>\n",
       "    <tr>\n",
       "      <th>5</th>\n",
       "      <td>0.014151</td>\n",
       "      <td>1272</td>\n",
       "      <td>0.000786</td>\n",
       "      <td>1272</td>\n",
       "    </tr>\n",
       "    <tr>\n",
       "      <th>...</th>\n",
       "      <th>...</th>\n",
       "      <td>...</td>\n",
       "      <td>...</td>\n",
       "      <td>...</td>\n",
       "      <td>...</td>\n",
       "    </tr>\n",
       "    <tr>\n",
       "      <th rowspan=\"5\" valign=\"top\">WN</th>\n",
       "      <th>3</th>\n",
       "      <td>0.014118</td>\n",
       "      <td>1275</td>\n",
       "      <td>0.001569</td>\n",
       "      <td>1275</td>\n",
       "    </tr>\n",
       "    <tr>\n",
       "      <th>4</th>\n",
       "      <td>0.007911</td>\n",
       "      <td>1264</td>\n",
       "      <td>0.003165</td>\n",
       "      <td>1264</td>\n",
       "    </tr>\n",
       "    <tr>\n",
       "      <th>5</th>\n",
       "      <td>0.005828</td>\n",
       "      <td>1201</td>\n",
       "      <td>0.000000</td>\n",
       "      <td>1201</td>\n",
       "    </tr>\n",
       "    <tr>\n",
       "      <th>6</th>\n",
       "      <td>0.010132</td>\n",
       "      <td>987</td>\n",
       "      <td>0.003040</td>\n",
       "      <td>987</td>\n",
       "    </tr>\n",
       "    <tr>\n",
       "      <th>7</th>\n",
       "      <td>0.006066</td>\n",
       "      <td>1154</td>\n",
       "      <td>0.002600</td>\n",
       "      <td>1154</td>\n",
       "    </tr>\n",
       "  </tbody>\n",
       "</table>\n",
       "<p>98 rows × 4 columns</p>\n",
       "</div>"
      ],
      "text/plain": [
       "                CANCELLED        DIVERTED      \n",
       "                     mean count      mean count\n",
       "AIRLINE WEEKDAY                                \n",
       "AA      1        0.032106  1277  0.004699  1277\n",
       "        2        0.007341  1226  0.001631  1226\n",
       "        3        0.011949  1339  0.001494  1339\n",
       "        4        0.015004  1333  0.003751  1333\n",
       "        5        0.014151  1272  0.000786  1272\n",
       "...                   ...   ...       ...   ...\n",
       "WN      3        0.014118  1275  0.001569  1275\n",
       "        4        0.007911  1264  0.003165  1264\n",
       "        5        0.005828  1201  0.000000  1201\n",
       "        6        0.010132   987  0.003040   987\n",
       "        7        0.006066  1154  0.002600  1154\n",
       "\n",
       "[98 rows x 4 columns]"
      ]
     },
     "execution_count": 14,
     "metadata": {},
     "output_type": "execute_result"
    }
   ],
   "source": [
    "df=pd.read_csv('https://raw.githubusercontent.com/PacktPublishing/Pandas-Cookbook/master/data/flights.csv')\\\n",
    ".groupby([\"AIRLINE\",\"WEEKDAY\"]).agg({\"CANCELLED\":[np.mean,\"count\"],\"DIVERTED\":[np.mean,\"count\"]})\n",
    "df"
   ]
  },
  {
   "cell_type": "markdown",
   "id": "55f65b03-7944-4eee-8dad-f365f17f2e81",
   "metadata": {},
   "source": [
    "- tidy data 아님\n",
    "- 정의에 의한 판단: 하나의 셀에 여러 관측치가 있음 (표안의 표 느낌)\n",
    "- 직관적인 판단: WEEKDAY == 4 and mean(CANCELLED) > 0.001 인 자료를 뽑고 싶다면? "
   ]
  },
  {
   "cell_type": "markdown",
   "id": "5d3466a6-14e6-4d91-912e-618e12bf86bf",
   "metadata": {},
   "source": [
    "`-` tidydata로 변환 (stack으로 풀면 너무 쉬우니까 melt로 해보자)"
   ]
  },
  {
   "cell_type": "code",
   "execution_count": 15,
   "id": "ece3d247-20c6-4257-937c-f4a58f160b20",
   "metadata": {
    "vscode": {
     "languageId": "python"
    }
   },
   "outputs": [
    {
     "data": {
      "text/html": [
       "<div>\n",
       "<style scoped>\n",
       "    .dataframe tbody tr th:only-of-type {\n",
       "        vertical-align: middle;\n",
       "    }\n",
       "\n",
       "    .dataframe tbody tr th {\n",
       "        vertical-align: top;\n",
       "    }\n",
       "\n",
       "    .dataframe thead th {\n",
       "        text-align: right;\n",
       "    }\n",
       "</style>\n",
       "<table border=\"1\" class=\"dataframe\">\n",
       "  <thead>\n",
       "    <tr style=\"text-align: right;\">\n",
       "      <th></th>\n",
       "      <th>AIRLINE</th>\n",
       "      <th>WEEKDAY</th>\n",
       "      <th>variable_0</th>\n",
       "      <th>variable_1</th>\n",
       "      <th>value</th>\n",
       "    </tr>\n",
       "  </thead>\n",
       "  <tbody>\n",
       "    <tr>\n",
       "      <th>0</th>\n",
       "      <td>AA</td>\n",
       "      <td>1</td>\n",
       "      <td>CANCELLED</td>\n",
       "      <td>mean</td>\n",
       "      <td>0.032106</td>\n",
       "    </tr>\n",
       "    <tr>\n",
       "      <th>1</th>\n",
       "      <td>AA</td>\n",
       "      <td>2</td>\n",
       "      <td>CANCELLED</td>\n",
       "      <td>mean</td>\n",
       "      <td>0.007341</td>\n",
       "    </tr>\n",
       "    <tr>\n",
       "      <th>2</th>\n",
       "      <td>AA</td>\n",
       "      <td>3</td>\n",
       "      <td>CANCELLED</td>\n",
       "      <td>mean</td>\n",
       "      <td>0.011949</td>\n",
       "    </tr>\n",
       "    <tr>\n",
       "      <th>3</th>\n",
       "      <td>AA</td>\n",
       "      <td>4</td>\n",
       "      <td>CANCELLED</td>\n",
       "      <td>mean</td>\n",
       "      <td>0.015004</td>\n",
       "    </tr>\n",
       "    <tr>\n",
       "      <th>4</th>\n",
       "      <td>AA</td>\n",
       "      <td>5</td>\n",
       "      <td>CANCELLED</td>\n",
       "      <td>mean</td>\n",
       "      <td>0.014151</td>\n",
       "    </tr>\n",
       "    <tr>\n",
       "      <th>...</th>\n",
       "      <td>...</td>\n",
       "      <td>...</td>\n",
       "      <td>...</td>\n",
       "      <td>...</td>\n",
       "      <td>...</td>\n",
       "    </tr>\n",
       "    <tr>\n",
       "      <th>387</th>\n",
       "      <td>WN</td>\n",
       "      <td>3</td>\n",
       "      <td>DIVERTED</td>\n",
       "      <td>count</td>\n",
       "      <td>1275.000000</td>\n",
       "    </tr>\n",
       "    <tr>\n",
       "      <th>388</th>\n",
       "      <td>WN</td>\n",
       "      <td>4</td>\n",
       "      <td>DIVERTED</td>\n",
       "      <td>count</td>\n",
       "      <td>1264.000000</td>\n",
       "    </tr>\n",
       "    <tr>\n",
       "      <th>389</th>\n",
       "      <td>WN</td>\n",
       "      <td>5</td>\n",
       "      <td>DIVERTED</td>\n",
       "      <td>count</td>\n",
       "      <td>1201.000000</td>\n",
       "    </tr>\n",
       "    <tr>\n",
       "      <th>390</th>\n",
       "      <td>WN</td>\n",
       "      <td>6</td>\n",
       "      <td>DIVERTED</td>\n",
       "      <td>count</td>\n",
       "      <td>987.000000</td>\n",
       "    </tr>\n",
       "    <tr>\n",
       "      <th>391</th>\n",
       "      <td>WN</td>\n",
       "      <td>7</td>\n",
       "      <td>DIVERTED</td>\n",
       "      <td>count</td>\n",
       "      <td>1154.000000</td>\n",
       "    </tr>\n",
       "  </tbody>\n",
       "</table>\n",
       "<p>392 rows × 5 columns</p>\n",
       "</div>"
      ],
      "text/plain": [
       "    AIRLINE  WEEKDAY variable_0 variable_1        value\n",
       "0        AA        1  CANCELLED       mean     0.032106\n",
       "1        AA        2  CANCELLED       mean     0.007341\n",
       "2        AA        3  CANCELLED       mean     0.011949\n",
       "3        AA        4  CANCELLED       mean     0.015004\n",
       "4        AA        5  CANCELLED       mean     0.014151\n",
       "..      ...      ...        ...        ...          ...\n",
       "387      WN        3   DIVERTED      count  1275.000000\n",
       "388      WN        4   DIVERTED      count  1264.000000\n",
       "389      WN        5   DIVERTED      count  1201.000000\n",
       "390      WN        6   DIVERTED      count   987.000000\n",
       "391      WN        7   DIVERTED      count  1154.000000\n",
       "\n",
       "[392 rows x 5 columns]"
      ]
     },
     "execution_count": 15,
     "metadata": {},
     "output_type": "execute_result"
    }
   ],
   "source": [
    "df.melt(ignore_index=False).reset_index()"
   ]
  },
  {
   "cell_type": "markdown",
   "id": "f9f7ce94-2f0e-4ba0-8624-07bb95b58c8b",
   "metadata": {},
   "source": [
    "# barplot "
   ]
  },
  {
   "cell_type": "code",
   "execution_count": 44,
   "id": "a1aef197-fcec-4b06-831c-317ee5dc0640",
   "metadata": {
    "vscode": {
     "languageId": "python"
    }
   },
   "outputs": [
    {
     "data": {
      "text/html": [
       "<div>\n",
       "<style scoped>\n",
       "    .dataframe tbody tr th:only-of-type {\n",
       "        vertical-align: middle;\n",
       "    }\n",
       "\n",
       "    .dataframe tbody tr th {\n",
       "        vertical-align: top;\n",
       "    }\n",
       "\n",
       "    .dataframe thead th {\n",
       "        text-align: right;\n",
       "    }\n",
       "</style>\n",
       "<table border=\"1\" class=\"dataframe\">\n",
       "  <thead>\n",
       "    <tr style=\"text-align: right;\">\n",
       "      <th></th>\n",
       "      <th>Nationality</th>\n",
       "      <th>Overall</th>\n",
       "      <th>Age</th>\n",
       "    </tr>\n",
       "  </thead>\n",
       "  <tbody>\n",
       "    <tr>\n",
       "      <th>0</th>\n",
       "      <td>Korea Republic</td>\n",
       "      <td>89</td>\n",
       "      <td>28</td>\n",
       "    </tr>\n",
       "    <tr>\n",
       "      <th>1</th>\n",
       "      <td>Japan</td>\n",
       "      <td>77</td>\n",
       "      <td>28</td>\n",
       "    </tr>\n",
       "    <tr>\n",
       "      <th>2</th>\n",
       "      <td>Japan</td>\n",
       "      <td>73</td>\n",
       "      <td>28</td>\n",
       "    </tr>\n",
       "    <tr>\n",
       "      <th>3</th>\n",
       "      <td>Korea Republic</td>\n",
       "      <td>72</td>\n",
       "      <td>31</td>\n",
       "    </tr>\n",
       "    <tr>\n",
       "      <th>4</th>\n",
       "      <td>Japan</td>\n",
       "      <td>71</td>\n",
       "      <td>28</td>\n",
       "    </tr>\n",
       "    <tr>\n",
       "      <th>...</th>\n",
       "      <td>...</td>\n",
       "      <td>...</td>\n",
       "      <td>...</td>\n",
       "    </tr>\n",
       "    <tr>\n",
       "      <th>456</th>\n",
       "      <td>Japan</td>\n",
       "      <td>59</td>\n",
       "      <td>21</td>\n",
       "    </tr>\n",
       "    <tr>\n",
       "      <th>457</th>\n",
       "      <td>Korea Republic</td>\n",
       "      <td>60</td>\n",
       "      <td>21</td>\n",
       "    </tr>\n",
       "    <tr>\n",
       "      <th>458</th>\n",
       "      <td>Japan</td>\n",
       "      <td>54</td>\n",
       "      <td>17</td>\n",
       "    </tr>\n",
       "    <tr>\n",
       "      <th>459</th>\n",
       "      <td>Korea Republic</td>\n",
       "      <td>51</td>\n",
       "      <td>20</td>\n",
       "    </tr>\n",
       "    <tr>\n",
       "      <th>460</th>\n",
       "      <td>Korea Republic</td>\n",
       "      <td>58</td>\n",
       "      <td>25</td>\n",
       "    </tr>\n",
       "  </tbody>\n",
       "</table>\n",
       "<p>461 rows × 3 columns</p>\n",
       "</div>"
      ],
      "text/plain": [
       "        Nationality  Overall  Age\n",
       "0    Korea Republic       89   28\n",
       "1             Japan       77   28\n",
       "2             Japan       73   28\n",
       "3    Korea Republic       72   31\n",
       "4             Japan       71   28\n",
       "..              ...      ...  ...\n",
       "456           Japan       59   21\n",
       "457  Korea Republic       60   21\n",
       "458           Japan       54   17\n",
       "459  Korea Republic       51   20\n",
       "460  Korea Republic       58   25\n",
       "\n",
       "[461 rows x 3 columns]"
      ]
     },
     "execution_count": 44,
     "metadata": {},
     "output_type": "execute_result"
    }
   ],
   "source": [
    "df = pd.read_csv('https://raw.githubusercontent.com/guebin/DV2021/master/_notebooks/2021-10-25-FIFA22_official_data.csv')\\\n",
    ".query('Nationality==\"Korea Republic\" or Nationality==\"Japan\"')\\\n",
    "[['Nationality','Overall','Age']].reset_index(drop=True)\n",
    "df"
   ]
  },
  {
   "cell_type": "markdown",
   "id": "ad92fa59-eabf-4ac6-a73c-2c223feca34d",
   "metadata": {},
   "source": [
    "## geom_col"
   ]
  },
  {
   "cell_type": "markdown",
   "id": "ef8bdf15-e575-4177-b382-d43af3fbdc8c",
   "metadata": {},
   "source": [
    "`-` 예시1: 한국과 일본의 평균능력치 비교"
   ]
  },
  {
   "cell_type": "code",
   "execution_count": 46,
   "id": "cdc35d4f-c409-4614-be02-7174720e4aab",
   "metadata": {
    "vscode": {
     "languageId": "python"
    }
   },
   "outputs": [
    {
     "data": {
      "text/html": [
       "<div>\n",
       "<style scoped>\n",
       "    .dataframe tbody tr th:only-of-type {\n",
       "        vertical-align: middle;\n",
       "    }\n",
       "\n",
       "    .dataframe tbody tr th {\n",
       "        vertical-align: top;\n",
       "    }\n",
       "\n",
       "    .dataframe thead th {\n",
       "        text-align: right;\n",
       "    }\n",
       "</style>\n",
       "<table border=\"1\" class=\"dataframe\">\n",
       "  <thead>\n",
       "    <tr style=\"text-align: right;\">\n",
       "      <th></th>\n",
       "      <th>Nationality</th>\n",
       "      <th>Overall</th>\n",
       "    </tr>\n",
       "  </thead>\n",
       "  <tbody>\n",
       "    <tr>\n",
       "      <th>0</th>\n",
       "      <td>Japan</td>\n",
       "      <td>66.478873</td>\n",
       "    </tr>\n",
       "    <tr>\n",
       "      <th>1</th>\n",
       "      <td>Korea Republic</td>\n",
       "      <td>65.457627</td>\n",
       "    </tr>\n",
       "  </tbody>\n",
       "</table>\n",
       "</div>"
      ],
      "text/plain": [
       "      Nationality    Overall\n",
       "0           Japan  66.478873\n",
       "1  Korea Republic  65.457627"
      ]
     },
     "execution_count": 46,
     "metadata": {},
     "output_type": "execute_result"
    }
   ],
   "source": [
    "data=df.groupby('Nationality').agg({'Overall':np.mean}).reset_index()\n",
    "data"
   ]
  },
  {
   "cell_type": "code",
   "execution_count": 55,
   "id": "4e377707-33fc-4d0d-a3ea-b9abaa41b9dc",
   "metadata": {
    "vscode": {
     "languageId": "python"
    }
   },
   "outputs": [
    {
     "data": {
      "image/png": "[encoded data removed]",
      "text/plain": [
       "<Figure size 640x480 with 1 Axes>"
      ]
     },
     "metadata": {
      "image/png": {
       "height": 480,
       "width": 640
      }
     },
     "output_type": "display_data"
    },
    {
     "data": {
      "text/plain": [
       "<Figure Size: (640 x 480)>"
      ]
     },
     "execution_count": 55,
     "metadata": {},
     "output_type": "execute_result"
    }
   ],
   "source": [
    "ggplot(data)+geom_col(aes(x='Nationality',y='Overall'))"
   ]
  },
  {
   "cell_type": "markdown",
   "id": "5e8f1555-bc44-40ca-a011-9a6b335d0537",
   "metadata": {},
   "source": [
    "`-` 예시2: 한국과 일본의 평균능력치 비교 (색상변경) "
   ]
  },
  {
   "cell_type": "code",
   "execution_count": 56,
   "id": "dd82f18e-73ea-479b-ad3c-f87b4c2bdc20",
   "metadata": {
    "vscode": {
     "languageId": "python"
    }
   },
   "outputs": [
    {
     "data": {
      "text/html": [
       "<div>\n",
       "<style scoped>\n",
       "    .dataframe tbody tr th:only-of-type {\n",
       "        vertical-align: middle;\n",
       "    }\n",
       "\n",
       "    .dataframe tbody tr th {\n",
       "        vertical-align: top;\n",
       "    }\n",
       "\n",
       "    .dataframe thead th {\n",
       "        text-align: right;\n",
       "    }\n",
       "</style>\n",
       "<table border=\"1\" class=\"dataframe\">\n",
       "  <thead>\n",
       "    <tr style=\"text-align: right;\">\n",
       "      <th></th>\n",
       "      <th>Nationality</th>\n",
       "      <th>Overall</th>\n",
       "    </tr>\n",
       "  </thead>\n",
       "  <tbody>\n",
       "    <tr>\n",
       "      <th>0</th>\n",
       "      <td>Japan</td>\n",
       "      <td>66.478873</td>\n",
       "    </tr>\n",
       "    <tr>\n",
       "      <th>1</th>\n",
       "      <td>Korea Republic</td>\n",
       "      <td>65.457627</td>\n",
       "    </tr>\n",
       "  </tbody>\n",
       "</table>\n",
       "</div>"
      ],
      "text/plain": [
       "      Nationality    Overall\n",
       "0           Japan  66.478873\n",
       "1  Korea Republic  65.457627"
      ]
     },
     "execution_count": 56,
     "metadata": {},
     "output_type": "execute_result"
    }
   ],
   "source": [
    "data=df.groupby('Nationality').agg({'Overall':np.mean}).reset_index()\n",
    "data"
   ]
  },
  {
   "cell_type": "code",
   "execution_count": 57,
   "id": "bd742ef5-de50-4e8a-a6fe-4b796871bd23",
   "metadata": {
    "vscode": {
     "languageId": "python"
    }
   },
   "outputs": [
    {
     "data": {
      "image/png": "[encoded data removed]",
      "text/plain": [
       "<Figure size 640x480 with 1 Axes>"
      ]
     },
     "metadata": {
      "image/png": {
       "height": 480,
       "width": 640
      }
     },
     "output_type": "display_data"
    },
    {
     "data": {
      "text/plain": [
       "<Figure Size: (640 x 480)>"
      ]
     },
     "execution_count": 57,
     "metadata": {},
     "output_type": "execute_result"
    }
   ],
   "source": [
    "ggplot(data)+geom_col(aes(x='Nationality',y='Overall',fill='Nationality'))\n",
    "#ggplot(data)+geom_col(aes(x='Nationality',y='Overall',color='Nationality'))"
   ]
  },
  {
   "cell_type": "markdown",
   "id": "1d6ddfff-acd0-4162-8dd0-8983042bcf73",
   "metadata": {},
   "source": [
    "`-` 예시3: 한국과 일본의 평균연령 비교"
   ]
  },
  {
   "cell_type": "code",
   "execution_count": 59,
   "id": "68e87796-12aa-4006-8578-bba8bcd560b0",
   "metadata": {
    "vscode": {
     "languageId": "python"
    }
   },
   "outputs": [
    {
     "data": {
      "text/html": [
       "<div>\n",
       "<style scoped>\n",
       "    .dataframe tbody tr th:only-of-type {\n",
       "        vertical-align: middle;\n",
       "    }\n",
       "\n",
       "    .dataframe tbody tr th {\n",
       "        vertical-align: top;\n",
       "    }\n",
       "\n",
       "    .dataframe thead th {\n",
       "        text-align: right;\n",
       "    }\n",
       "</style>\n",
       "<table border=\"1\" class=\"dataframe\">\n",
       "  <thead>\n",
       "    <tr style=\"text-align: right;\">\n",
       "      <th></th>\n",
       "      <th>Nationality</th>\n",
       "      <th>Age</th>\n",
       "    </tr>\n",
       "  </thead>\n",
       "  <tbody>\n",
       "    <tr>\n",
       "      <th>0</th>\n",
       "      <td>Japan</td>\n",
       "      <td>26.084507</td>\n",
       "    </tr>\n",
       "    <tr>\n",
       "      <th>1</th>\n",
       "      <td>Korea Republic</td>\n",
       "      <td>27.158192</td>\n",
       "    </tr>\n",
       "  </tbody>\n",
       "</table>\n",
       "</div>"
      ],
      "text/plain": [
       "      Nationality        Age\n",
       "0           Japan  26.084507\n",
       "1  Korea Republic  27.158192"
      ]
     },
     "execution_count": 59,
     "metadata": {},
     "output_type": "execute_result"
    }
   ],
   "source": [
    "data=df.groupby('Nationality').agg({'Age':np.mean}).reset_index()\n",
    "data"
   ]
  },
  {
   "cell_type": "code",
   "execution_count": 60,
   "id": "b886b25b-03e1-4855-b349-09e368a4909f",
   "metadata": {
    "vscode": {
     "languageId": "python"
    }
   },
   "outputs": [
    {
     "data": {
      "image/png": "[encoded data removed]",
      "text/plain": [
       "<Figure size 640x480 with 1 Axes>"
      ]
     },
     "metadata": {
      "image/png": {
       "height": 480,
       "width": 640
      }
     },
     "output_type": "display_data"
    },
    {
     "data": {
      "text/plain": [
       "<Figure Size: (640 x 480)>"
      ]
     },
     "execution_count": 60,
     "metadata": {},
     "output_type": "execute_result"
    }
   ],
   "source": [
    "ggplot(data)+geom_col(aes(x='Nationality',y='Age',fill='Nationality'))"
   ]
  },
  {
   "cell_type": "markdown",
   "id": "2be4dce4-81f9-426f-bc8f-1000f4136765",
   "metadata": {},
   "source": [
    "## geom_col + position='dodge'"
   ]
  },
  {
   "cell_type": "markdown",
   "id": "b6085c16-7f6a-4f13-b6e6-d4b3448c60d0",
   "metadata": {},
   "source": [
    "`-` 예시1: 한국과 일본의 평균연령+평균능력치 비교"
   ]
  },
  {
   "cell_type": "code",
   "execution_count": 65,
   "id": "1d58af4f-5455-4799-ade3-643be780d3fb",
   "metadata": {
    "vscode": {
     "languageId": "python"
    }
   },
   "outputs": [
    {
     "data": {
      "text/html": [
       "<div>\n",
       "<style scoped>\n",
       "    .dataframe tbody tr th:only-of-type {\n",
       "        vertical-align: middle;\n",
       "    }\n",
       "\n",
       "    .dataframe tbody tr th {\n",
       "        vertical-align: top;\n",
       "    }\n",
       "\n",
       "    .dataframe thead th {\n",
       "        text-align: right;\n",
       "    }\n",
       "</style>\n",
       "<table border=\"1\" class=\"dataframe\">\n",
       "  <thead>\n",
       "    <tr style=\"text-align: right;\">\n",
       "      <th></th>\n",
       "      <th>Nationality</th>\n",
       "      <th>level_1</th>\n",
       "      <th>value</th>\n",
       "    </tr>\n",
       "  </thead>\n",
       "  <tbody>\n",
       "    <tr>\n",
       "      <th>0</th>\n",
       "      <td>Japan</td>\n",
       "      <td>Overall</td>\n",
       "      <td>66.478873</td>\n",
       "    </tr>\n",
       "    <tr>\n",
       "      <th>1</th>\n",
       "      <td>Japan</td>\n",
       "      <td>Age</td>\n",
       "      <td>26.084507</td>\n",
       "    </tr>\n",
       "    <tr>\n",
       "      <th>2</th>\n",
       "      <td>Korea Republic</td>\n",
       "      <td>Overall</td>\n",
       "      <td>65.457627</td>\n",
       "    </tr>\n",
       "    <tr>\n",
       "      <th>3</th>\n",
       "      <td>Korea Republic</td>\n",
       "      <td>Age</td>\n",
       "      <td>27.158192</td>\n",
       "    </tr>\n",
       "  </tbody>\n",
       "</table>\n",
       "</div>"
      ],
      "text/plain": [
       "      Nationality  level_1      value\n",
       "0           Japan  Overall  66.478873\n",
       "1           Japan      Age  26.084507\n",
       "2  Korea Republic  Overall  65.457627\n",
       "3  Korea Republic      Age  27.158192"
      ]
     },
     "execution_count": 65,
     "metadata": {},
     "output_type": "execute_result"
    }
   ],
   "source": [
    "data=df.groupby('Nationality').agg({'Overall':np.mean,'Age':np.mean})\\\n",
    ".stack().reset_index().rename({0:'value'},axis=1)\n",
    "data"
   ]
  },
  {
   "cell_type": "code",
   "execution_count": 67,
   "id": "515b600d-045e-4047-afda-aa3326aff2ef",
   "metadata": {
    "vscode": {
     "languageId": "python"
    }
   },
   "outputs": [
    {
     "data": {
      "image/png": "[encoded data removed]",
      "text/plain": [
       "<Figure size 640x480 with 1 Axes>"
      ]
     },
     "metadata": {
      "image/png": {
       "height": 480,
       "width": 640
      }
     },
     "output_type": "display_data"
    },
    {
     "data": {
      "text/plain": [
       "<Figure Size: (640 x 480)>"
      ]
     },
     "execution_count": 67,
     "metadata": {},
     "output_type": "execute_result"
    }
   ],
   "source": [
    "ggplot(data)+geom_col(\n",
    "    aes(x='level_1',fill='Nationality',y='value'),position='dodge')"
   ]
  },
  {
   "cell_type": "markdown",
   "id": "b3e421f5-6d46-4d0a-8b1e-19d4ff289175",
   "metadata": {},
   "source": [
    "## geom_col + coord_flip()"
   ]
  },
  {
   "cell_type": "markdown",
   "id": "745182db-42ed-41a8-a804-00a3a47bf865",
   "metadata": {},
   "source": [
    "`-` 예시1: 한국과 일본의 평균연령+평균능력치 비교 (90도회전)"
   ]
  },
  {
   "cell_type": "code",
   "execution_count": 70,
   "id": "85047c21-a17e-4570-88aa-8bb4e011dfdf",
   "metadata": {
    "vscode": {
     "languageId": "python"
    }
   },
   "outputs": [
    {
     "data": {
      "text/html": [
       "<div>\n",
       "<style scoped>\n",
       "    .dataframe tbody tr th:only-of-type {\n",
       "        vertical-align: middle;\n",
       "    }\n",
       "\n",
       "    .dataframe tbody tr th {\n",
       "        vertical-align: top;\n",
       "    }\n",
       "\n",
       "    .dataframe thead th {\n",
       "        text-align: right;\n",
       "    }\n",
       "</style>\n",
       "<table border=\"1\" class=\"dataframe\">\n",
       "  <thead>\n",
       "    <tr style=\"text-align: right;\">\n",
       "      <th></th>\n",
       "      <th>Nationality</th>\n",
       "      <th>level_1</th>\n",
       "      <th>value</th>\n",
       "    </tr>\n",
       "  </thead>\n",
       "  <tbody>\n",
       "    <tr>\n",
       "      <th>0</th>\n",
       "      <td>Japan</td>\n",
       "      <td>Overall</td>\n",
       "      <td>66.478873</td>\n",
       "    </tr>\n",
       "    <tr>\n",
       "      <th>1</th>\n",
       "      <td>Japan</td>\n",
       "      <td>Age</td>\n",
       "      <td>26.084507</td>\n",
       "    </tr>\n",
       "    <tr>\n",
       "      <th>2</th>\n",
       "      <td>Korea Republic</td>\n",
       "      <td>Overall</td>\n",
       "      <td>65.457627</td>\n",
       "    </tr>\n",
       "    <tr>\n",
       "      <th>3</th>\n",
       "      <td>Korea Republic</td>\n",
       "      <td>Age</td>\n",
       "      <td>27.158192</td>\n",
       "    </tr>\n",
       "  </tbody>\n",
       "</table>\n",
       "</div>"
      ],
      "text/plain": [
       "      Nationality  level_1      value\n",
       "0           Japan  Overall  66.478873\n",
       "1           Japan      Age  26.084507\n",
       "2  Korea Republic  Overall  65.457627\n",
       "3  Korea Republic      Age  27.158192"
      ]
     },
     "execution_count": 70,
     "metadata": {},
     "output_type": "execute_result"
    }
   ],
   "source": [
    "data=df.groupby('Nationality').agg({'Overall':np.mean,'Age':np.mean})\\\n",
    ".stack().reset_index().rename({0:'value'},axis=1)\n",
    "data"
   ]
  },
  {
   "cell_type": "code",
   "execution_count": 71,
   "id": "401aaa7a-63d8-4a2a-9516-e7ee5b7824a3",
   "metadata": {
    "vscode": {
     "languageId": "python"
    }
   },
   "outputs": [
    {
     "data": {
      "image/png": "[encoded data removed]",
      "text/plain": [
       "<Figure size 640x480 with 1 Axes>"
      ]
     },
     "metadata": {
      "image/png": {
       "height": 480,
       "width": 640
      }
     },
     "output_type": "display_data"
    },
    {
     "data": {
      "text/plain": [
       "<Figure Size: (640 x 480)>"
      ]
     },
     "execution_count": 71,
     "metadata": {},
     "output_type": "execute_result"
    }
   ],
   "source": [
    "ggplot(data)+geom_col(aes(x='level_1',fill='Nationality',y='value'),position='dodge')\\\n",
    "+coord_flip()"
   ]
  },
  {
   "cell_type": "markdown",
   "id": "0c82cda0-48ee-4217-b8b4-4d13889e203d",
   "metadata": {},
   "source": [
    "## geom_col + facet_wrap(var)"
   ]
  },
  {
   "cell_type": "markdown",
   "id": "2c9d6185-5b37-44a9-a849-0a4f2bb0809a",
   "metadata": {},
   "source": [
    "`-` 예시1: 한국과 일본의 평균연령+평균능력치 비교 (면분할)"
   ]
  },
  {
   "cell_type": "code",
   "execution_count": 28,
   "id": "8efc20bb-3bd2-41ec-94e7-c698267dcb2d",
   "metadata": {
    "vscode": {
     "languageId": "python"
    }
   },
   "outputs": [
    {
     "data": {
      "text/html": [
       "<div>\n",
       "<style scoped>\n",
       "    .dataframe tbody tr th:only-of-type {\n",
       "        vertical-align: middle;\n",
       "    }\n",
       "\n",
       "    .dataframe tbody tr th {\n",
       "        vertical-align: top;\n",
       "    }\n",
       "\n",
       "    .dataframe thead th {\n",
       "        text-align: right;\n",
       "    }\n",
       "</style>\n",
       "<table border=\"1\" class=\"dataframe\">\n",
       "  <thead>\n",
       "    <tr style=\"text-align: right;\">\n",
       "      <th></th>\n",
       "      <th>Nationality</th>\n",
       "      <th>level_1</th>\n",
       "      <th>value</th>\n",
       "    </tr>\n",
       "  </thead>\n",
       "  <tbody>\n",
       "    <tr>\n",
       "      <th>0</th>\n",
       "      <td>Japan</td>\n",
       "      <td>Overall</td>\n",
       "      <td>66.478873</td>\n",
       "    </tr>\n",
       "    <tr>\n",
       "      <th>1</th>\n",
       "      <td>Japan</td>\n",
       "      <td>Age</td>\n",
       "      <td>26.084507</td>\n",
       "    </tr>\n",
       "    <tr>\n",
       "      <th>2</th>\n",
       "      <td>Korea Republic</td>\n",
       "      <td>Overall</td>\n",
       "      <td>65.457627</td>\n",
       "    </tr>\n",
       "    <tr>\n",
       "      <th>3</th>\n",
       "      <td>Korea Republic</td>\n",
       "      <td>Age</td>\n",
       "      <td>27.158192</td>\n",
       "    </tr>\n",
       "  </tbody>\n",
       "</table>\n",
       "</div>"
      ],
      "text/plain": [
       "      Nationality  level_1      value\n",
       "0           Japan  Overall  66.478873\n",
       "1           Japan      Age  26.084507\n",
       "2  Korea Republic  Overall  65.457627\n",
       "3  Korea Republic      Age  27.158192"
      ]
     },
     "execution_count": 28,
     "metadata": {},
     "output_type": "execute_result"
    }
   ],
   "source": [
    "data=df.groupby('Nationality').agg({'Overall':np.mean,'Age':np.mean})\\\n",
    ".stack().reset_index().rename({0:'value'},axis=1)\n",
    "data"
   ]
  },
  {
   "cell_type": "code",
   "execution_count": 73,
   "id": "0491c361-bb5f-4804-bf8f-ef1d89259418",
   "metadata": {
    "vscode": {
     "languageId": "python"
    }
   },
   "outputs": [
    {
     "data": {
      "image/png": "[encoded data removed]",
      "text/plain": [
       "<Figure size 640x480 with 2 Axes>"
      ]
     },
     "metadata": {
      "image/png": {
       "height": 480,
       "width": 640
      }
     },
     "output_type": "display_data"
    },
    {
     "data": {
      "text/plain": [
       "<Figure Size: (640 x 480)>"
      ]
     },
     "execution_count": 73,
     "metadata": {},
     "output_type": "execute_result"
    }
   ],
   "source": [
    "ggplot(data)+geom_col(aes(\n",
    "    x='Nationality',\n",
    "    fill='Nationality',\n",
    "    y='value'\n",
    "),position='dodge')\\\n",
    "+facet_wrap('level_1')"
   ]
  },
  {
   "cell_type": "markdown",
   "id": "191324b3-cfb1-4ad6-b8ee-f5599ea96414",
   "metadata": {},
   "source": [
    "`-` 예시2: 한국과 일본의 평균연령+평균능력치 비교 (면분할)"
   ]
  },
  {
   "cell_type": "code",
   "execution_count": 32,
   "id": "33ff9053-6326-4b05-9357-f25424692c87",
   "metadata": {
    "vscode": {
     "languageId": "python"
    }
   },
   "outputs": [
    {
     "data": {
      "text/html": [
       "<div>\n",
       "<style scoped>\n",
       "    .dataframe tbody tr th:only-of-type {\n",
       "        vertical-align: middle;\n",
       "    }\n",
       "\n",
       "    .dataframe tbody tr th {\n",
       "        vertical-align: top;\n",
       "    }\n",
       "\n",
       "    .dataframe thead th {\n",
       "        text-align: right;\n",
       "    }\n",
       "</style>\n",
       "<table border=\"1\" class=\"dataframe\">\n",
       "  <thead>\n",
       "    <tr style=\"text-align: right;\">\n",
       "      <th></th>\n",
       "      <th>Nationality</th>\n",
       "      <th>level_1</th>\n",
       "      <th>value</th>\n",
       "    </tr>\n",
       "  </thead>\n",
       "  <tbody>\n",
       "    <tr>\n",
       "      <th>0</th>\n",
       "      <td>Japan</td>\n",
       "      <td>Overall</td>\n",
       "      <td>66.478873</td>\n",
       "    </tr>\n",
       "    <tr>\n",
       "      <th>1</th>\n",
       "      <td>Japan</td>\n",
       "      <td>Age</td>\n",
       "      <td>26.084507</td>\n",
       "    </tr>\n",
       "    <tr>\n",
       "      <th>2</th>\n",
       "      <td>Korea Republic</td>\n",
       "      <td>Overall</td>\n",
       "      <td>65.457627</td>\n",
       "    </tr>\n",
       "    <tr>\n",
       "      <th>3</th>\n",
       "      <td>Korea Republic</td>\n",
       "      <td>Age</td>\n",
       "      <td>27.158192</td>\n",
       "    </tr>\n",
       "  </tbody>\n",
       "</table>\n",
       "</div>"
      ],
      "text/plain": [
       "      Nationality  level_1      value\n",
       "0           Japan  Overall  66.478873\n",
       "1           Japan      Age  26.084507\n",
       "2  Korea Republic  Overall  65.457627\n",
       "3  Korea Republic      Age  27.158192"
      ]
     },
     "execution_count": 32,
     "metadata": {},
     "output_type": "execute_result"
    }
   ],
   "source": [
    "data=df.groupby('Nationality').agg({'Overall':np.mean,'Age':np.mean})\\\n",
    ".stack().reset_index().rename({0:'value'},axis=1)\n",
    "data"
   ]
  },
  {
   "cell_type": "code",
   "execution_count": 74,
   "id": "2b268e64-00ca-4561-bf3e-5f6d725078ec",
   "metadata": {
    "vscode": {
     "languageId": "python"
    }
   },
   "outputs": [
    {
     "data": {
      "image/png": "[encoded data removed]",
      "text/plain": [
       "<Figure size 640x480 with 2 Axes>"
      ]
     },
     "metadata": {
      "image/png": {
       "height": 480,
       "width": 640
      }
     },
     "output_type": "display_data"
    },
    {
     "data": {
      "text/plain": [
       "<Figure Size: (640 x 480)>"
      ]
     },
     "execution_count": 74,
     "metadata": {},
     "output_type": "execute_result"
    }
   ],
   "source": [
    "ggplot(data)+geom_col(aes(x='level_1',fill='Nationality',y='value'),position='dodge')\\\n",
    "+facet_wrap('Nationality')"
   ]
  },
  {
   "cell_type": "markdown",
   "id": "ed817848-5cf2-45ca-848d-aa6f5119fd88",
   "metadata": {},
   "source": [
    "## geom_col + facet_grid('var_y ~ var_x')"
   ]
  },
  {
   "cell_type": "markdown",
   "id": "a4dcc373-fbf3-4d63-8bf3-9093f424c9f6",
   "metadata": {},
   "source": [
    "`-` 예시1: 한국과 일본의 평균연령+평균능력치+최대능력치 비교 (면분할)"
   ]
  },
  {
   "cell_type": "code",
   "execution_count": 105,
   "id": "b4a0e90b-0919-4bb3-ae2e-c334bfdf4ebb",
   "metadata": {
    "vscode": {
     "languageId": "python"
    }
   },
   "outputs": [
    {
     "data": {
      "text/html": [
       "<div>\n",
       "<style scoped>\n",
       "    .dataframe tbody tr th:only-of-type {\n",
       "        vertical-align: middle;\n",
       "    }\n",
       "\n",
       "    .dataframe tbody tr th {\n",
       "        vertical-align: top;\n",
       "    }\n",
       "\n",
       "    .dataframe thead th {\n",
       "        text-align: right;\n",
       "    }\n",
       "</style>\n",
       "<table border=\"1\" class=\"dataframe\">\n",
       "  <thead>\n",
       "    <tr style=\"text-align: right;\">\n",
       "      <th></th>\n",
       "      <th>Nationality</th>\n",
       "      <th>level_1</th>\n",
       "      <th>level_2</th>\n",
       "      <th>value</th>\n",
       "    </tr>\n",
       "  </thead>\n",
       "  <tbody>\n",
       "    <tr>\n",
       "      <th>0</th>\n",
       "      <td>Japan</td>\n",
       "      <td>max</td>\n",
       "      <td>Overall</td>\n",
       "      <td>79.000000</td>\n",
       "    </tr>\n",
       "    <tr>\n",
       "      <th>1</th>\n",
       "      <td>Japan</td>\n",
       "      <td>mean</td>\n",
       "      <td>Age</td>\n",
       "      <td>26.084507</td>\n",
       "    </tr>\n",
       "    <tr>\n",
       "      <th>2</th>\n",
       "      <td>Japan</td>\n",
       "      <td>mean</td>\n",
       "      <td>Overall</td>\n",
       "      <td>66.478873</td>\n",
       "    </tr>\n",
       "    <tr>\n",
       "      <th>3</th>\n",
       "      <td>Korea Republic</td>\n",
       "      <td>max</td>\n",
       "      <td>Overall</td>\n",
       "      <td>89.000000</td>\n",
       "    </tr>\n",
       "    <tr>\n",
       "      <th>4</th>\n",
       "      <td>Korea Republic</td>\n",
       "      <td>mean</td>\n",
       "      <td>Age</td>\n",
       "      <td>27.158192</td>\n",
       "    </tr>\n",
       "    <tr>\n",
       "      <th>5</th>\n",
       "      <td>Korea Republic</td>\n",
       "      <td>mean</td>\n",
       "      <td>Overall</td>\n",
       "      <td>65.457627</td>\n",
       "    </tr>\n",
       "  </tbody>\n",
       "</table>\n",
       "</div>"
      ],
      "text/plain": [
       "      Nationality level_1  level_2      value\n",
       "0           Japan     max  Overall  79.000000\n",
       "1           Japan    mean      Age  26.084507\n",
       "2           Japan    mean  Overall  66.478873\n",
       "3  Korea Republic     max  Overall  89.000000\n",
       "4  Korea Republic    mean      Age  27.158192\n",
       "5  Korea Republic    mean  Overall  65.457627"
      ]
     },
     "execution_count": 105,
     "metadata": {},
     "output_type": "execute_result"
    }
   ],
   "source": [
    "data = df.groupby('Nationality')\\\n",
    ".agg({'Overall':[np.mean,np.max],'Age':np.mean})\\\n",
    ".stack().stack().reset_index().rename({0:'value'},axis=1)\n",
    "data"
   ]
  },
  {
   "cell_type": "code",
   "execution_count": 106,
   "id": "d897e32e-1396-4494-a1f3-14782da4aa08",
   "metadata": {
    "vscode": {
     "languageId": "python"
    }
   },
   "outputs": [
    {
     "data": {
      "image/png": "[encoded data removed]",
      "text/plain": [
       "<Figure size 640x480 with 4 Axes>"
      ]
     },
     "metadata": {
      "image/png": {
       "height": 480,
       "width": 640
      }
     },
     "output_type": "display_data"
    },
    {
     "data": {
      "text/plain": [
       "<Figure Size: (640 x 480)>"
      ]
     },
     "execution_count": 106,
     "metadata": {},
     "output_type": "execute_result"
    }
   ],
   "source": [
    "ggplot(data)\\\n",
    "+geom_col(aes(\n",
    "    fill='Nationality',\n",
    "    x='Nationality',\n",
    "    y='value'),position='dodge')\\\n",
    "+facet_grid('level_1~level_2')"
   ]
  },
  {
   "cell_type": "markdown",
   "id": "9b118511-8825-4485-a9f9-96600206ae98",
   "metadata": {},
   "source": [
    "# 심슨의 역설"
   ]
  },
  {
   "cell_type": "markdown",
   "id": "200284ac-88e0-4c19-b7b8-a55e1b9ea898",
   "metadata": {},
   "source": [
    "`-` ref- [데이터 과학자의 사고법: 더 나은 선택을 위한 통계학적 통찰의 힘](https://github.com/guebin/DV2022/blob/master/posts/ds.pdf)\n",
    "\n",
    "- 구매할만한 책입니다"
   ]
  },
  {
   "cell_type": "markdown",
   "id": "9c498d77-d71a-4f2a-be86-e8d12f323d20",
   "metadata": {},
   "source": [
    "`-` 버클리대학교의 입학데이터\n",
    "\n",
    "- <https://github.com/guebin/DV2022/blob/master/_notebooks/ds.pdf>"
   ]
  },
  {
   "cell_type": "markdown",
   "id": "99e2410c-d9b2-4801-ab3a-825a4b2e5316",
   "metadata": {},
   "source": [
    "`-` 주장: 버클리대학에 gender bias가 존재한다. \n",
    "\n",
    "- 1973년 가을학기의 입학통계에 따르면 지원하는 남성이 여성보다 훨씬 많이 합격했고, 그 차이가 너무 커서 우연의 일치라 보기 어렵다. "
   ]
  },
  {
   "cell_type": "code",
   "execution_count": 107,
   "id": "fe2654b3-0bad-479e-ad65-f441f87c3bd4",
   "metadata": {
    "vscode": {
     "languageId": "python"
    }
   },
   "outputs": [
    {
     "data": {
      "text/html": [
       "<div>\n",
       "<style scoped>\n",
       "    .dataframe tbody tr th:only-of-type {\n",
       "        vertical-align: middle;\n",
       "    }\n",
       "\n",
       "    .dataframe tbody tr th {\n",
       "        vertical-align: top;\n",
       "    }\n",
       "\n",
       "    .dataframe thead th {\n",
       "        text-align: right;\n",
       "    }\n",
       "</style>\n",
       "<table border=\"1\" class=\"dataframe\">\n",
       "  <thead>\n",
       "    <tr style=\"text-align: right;\">\n",
       "      <th></th>\n",
       "      <th>department</th>\n",
       "      <th>result</th>\n",
       "      <th>gender</th>\n",
       "      <th>count</th>\n",
       "    </tr>\n",
       "  </thead>\n",
       "  <tbody>\n",
       "    <tr>\n",
       "      <th>0</th>\n",
       "      <td>A</td>\n",
       "      <td>fail</td>\n",
       "      <td>female</td>\n",
       "      <td>19</td>\n",
       "    </tr>\n",
       "    <tr>\n",
       "      <th>1</th>\n",
       "      <td>A</td>\n",
       "      <td>fail</td>\n",
       "      <td>male</td>\n",
       "      <td>314</td>\n",
       "    </tr>\n",
       "    <tr>\n",
       "      <th>2</th>\n",
       "      <td>A</td>\n",
       "      <td>pass</td>\n",
       "      <td>female</td>\n",
       "      <td>89</td>\n",
       "    </tr>\n",
       "    <tr>\n",
       "      <th>3</th>\n",
       "      <td>A</td>\n",
       "      <td>pass</td>\n",
       "      <td>male</td>\n",
       "      <td>511</td>\n",
       "    </tr>\n",
       "    <tr>\n",
       "      <th>4</th>\n",
       "      <td>B</td>\n",
       "      <td>fail</td>\n",
       "      <td>female</td>\n",
       "      <td>7</td>\n",
       "    </tr>\n",
       "    <tr>\n",
       "      <th>5</th>\n",
       "      <td>B</td>\n",
       "      <td>fail</td>\n",
       "      <td>male</td>\n",
       "      <td>208</td>\n",
       "    </tr>\n",
       "    <tr>\n",
       "      <th>6</th>\n",
       "      <td>B</td>\n",
       "      <td>pass</td>\n",
       "      <td>female</td>\n",
       "      <td>18</td>\n",
       "    </tr>\n",
       "    <tr>\n",
       "      <th>7</th>\n",
       "      <td>B</td>\n",
       "      <td>pass</td>\n",
       "      <td>male</td>\n",
       "      <td>352</td>\n",
       "    </tr>\n",
       "    <tr>\n",
       "      <th>8</th>\n",
       "      <td>C</td>\n",
       "      <td>fail</td>\n",
       "      <td>female</td>\n",
       "      <td>391</td>\n",
       "    </tr>\n",
       "    <tr>\n",
       "      <th>9</th>\n",
       "      <td>C</td>\n",
       "      <td>fail</td>\n",
       "      <td>male</td>\n",
       "      <td>204</td>\n",
       "    </tr>\n",
       "    <tr>\n",
       "      <th>10</th>\n",
       "      <td>C</td>\n",
       "      <td>pass</td>\n",
       "      <td>female</td>\n",
       "      <td>202</td>\n",
       "    </tr>\n",
       "    <tr>\n",
       "      <th>11</th>\n",
       "      <td>C</td>\n",
       "      <td>pass</td>\n",
       "      <td>male</td>\n",
       "      <td>121</td>\n",
       "    </tr>\n",
       "    <tr>\n",
       "      <th>12</th>\n",
       "      <td>D</td>\n",
       "      <td>fail</td>\n",
       "      <td>female</td>\n",
       "      <td>244</td>\n",
       "    </tr>\n",
       "    <tr>\n",
       "      <th>13</th>\n",
       "      <td>D</td>\n",
       "      <td>fail</td>\n",
       "      <td>male</td>\n",
       "      <td>279</td>\n",
       "    </tr>\n",
       "    <tr>\n",
       "      <th>14</th>\n",
       "      <td>D</td>\n",
       "      <td>pass</td>\n",
       "      <td>female</td>\n",
       "      <td>131</td>\n",
       "    </tr>\n",
       "    <tr>\n",
       "      <th>15</th>\n",
       "      <td>D</td>\n",
       "      <td>pass</td>\n",
       "      <td>male</td>\n",
       "      <td>138</td>\n",
       "    </tr>\n",
       "    <tr>\n",
       "      <th>16</th>\n",
       "      <td>E</td>\n",
       "      <td>fail</td>\n",
       "      <td>female</td>\n",
       "      <td>299</td>\n",
       "    </tr>\n",
       "    <tr>\n",
       "      <th>17</th>\n",
       "      <td>E</td>\n",
       "      <td>fail</td>\n",
       "      <td>male</td>\n",
       "      <td>137</td>\n",
       "    </tr>\n",
       "    <tr>\n",
       "      <th>18</th>\n",
       "      <td>E</td>\n",
       "      <td>pass</td>\n",
       "      <td>female</td>\n",
       "      <td>94</td>\n",
       "    </tr>\n",
       "    <tr>\n",
       "      <th>19</th>\n",
       "      <td>E</td>\n",
       "      <td>pass</td>\n",
       "      <td>male</td>\n",
       "      <td>54</td>\n",
       "    </tr>\n",
       "    <tr>\n",
       "      <th>20</th>\n",
       "      <td>F</td>\n",
       "      <td>fail</td>\n",
       "      <td>female</td>\n",
       "      <td>103</td>\n",
       "    </tr>\n",
       "    <tr>\n",
       "      <th>21</th>\n",
       "      <td>F</td>\n",
       "      <td>fail</td>\n",
       "      <td>male</td>\n",
       "      <td>149</td>\n",
       "    </tr>\n",
       "    <tr>\n",
       "      <th>22</th>\n",
       "      <td>F</td>\n",
       "      <td>pass</td>\n",
       "      <td>female</td>\n",
       "      <td>238</td>\n",
       "    </tr>\n",
       "    <tr>\n",
       "      <th>23</th>\n",
       "      <td>F</td>\n",
       "      <td>pass</td>\n",
       "      <td>male</td>\n",
       "      <td>224</td>\n",
       "    </tr>\n",
       "  </tbody>\n",
       "</table>\n",
       "</div>"
      ],
      "text/plain": [
       "   department result  gender  count\n",
       "0           A   fail  female     19\n",
       "1           A   fail    male    314\n",
       "2           A   pass  female     89\n",
       "3           A   pass    male    511\n",
       "4           B   fail  female      7\n",
       "5           B   fail    male    208\n",
       "6           B   pass  female     18\n",
       "7           B   pass    male    352\n",
       "8           C   fail  female    391\n",
       "9           C   fail    male    204\n",
       "10          C   pass  female    202\n",
       "11          C   pass    male    121\n",
       "12          D   fail  female    244\n",
       "13          D   fail    male    279\n",
       "14          D   pass  female    131\n",
       "15          D   pass    male    138\n",
       "16          E   fail  female    299\n",
       "17          E   fail    male    137\n",
       "18          E   pass  female     94\n",
       "19          E   pass    male     54\n",
       "20          F   fail  female    103\n",
       "21          F   fail    male    149\n",
       "22          F   pass  female    238\n",
       "23          F   pass    male    224"
      ]
     },
     "execution_count": 107,
     "metadata": {},
     "output_type": "execute_result"
    }
   ],
   "source": [
    "df=pd.read_csv(\"https://raw.githubusercontent.com/guebin/DV2022/master/posts/Simpson.csv\",index_col=0,header=[0,1])\\\n",
    ".stack().stack().reset_index()\\\n",
    ".rename({'level_0':'department','level_1':'result','level_2':'gender',0:'count'},axis=1)\n",
    "df"
   ]
  },
  {
   "cell_type": "markdown",
   "id": "0631663b-73bb-4f6e-97cb-926ea50f1323",
   "metadata": {},
   "source": [
    "## 시각화1: 전체합격률"
   ]
  },
  {
   "cell_type": "code",
   "execution_count": 133,
   "id": "e9d4bf79-2081-45b4-893e-ea0b2512f9de",
   "metadata": {},
   "outputs": [
    {
     "data": {
      "text/html": [
       "<div>\n",
       "<style scoped>\n",
       "    .dataframe tbody tr th:only-of-type {\n",
       "        vertical-align: middle;\n",
       "    }\n",
       "\n",
       "    .dataframe tbody tr th {\n",
       "        vertical-align: top;\n",
       "    }\n",
       "\n",
       "    .dataframe thead th {\n",
       "        text-align: right;\n",
       "    }\n",
       "</style>\n",
       "<table border=\"1\" class=\"dataframe\">\n",
       "  <thead>\n",
       "    <tr style=\"text-align: right;\">\n",
       "      <th></th>\n",
       "      <th>gender</th>\n",
       "      <th>result</th>\n",
       "      <th>count2</th>\n",
       "    </tr>\n",
       "  </thead>\n",
       "  <tbody>\n",
       "    <tr>\n",
       "      <th>0</th>\n",
       "      <td>female</td>\n",
       "      <td>fail</td>\n",
       "      <td>1063</td>\n",
       "    </tr>\n",
       "    <tr>\n",
       "      <th>1</th>\n",
       "      <td>female</td>\n",
       "      <td>pass</td>\n",
       "      <td>772</td>\n",
       "    </tr>\n",
       "    <tr>\n",
       "      <th>2</th>\n",
       "      <td>male</td>\n",
       "      <td>fail</td>\n",
       "      <td>1291</td>\n",
       "    </tr>\n",
       "    <tr>\n",
       "      <th>3</th>\n",
       "      <td>male</td>\n",
       "      <td>pass</td>\n",
       "      <td>1400</td>\n",
       "    </tr>\n",
       "  </tbody>\n",
       "</table>\n",
       "</div>"
      ],
      "text/plain": [
       "   gender result  count2\n",
       "0  female   fail    1063\n",
       "1  female   pass     772\n",
       "2    male   fail    1291\n",
       "3    male   pass    1400"
      ]
     },
     "execution_count": 133,
     "metadata": {},
     "output_type": "execute_result"
    }
   ],
   "source": [
    "_df1 = df.groupby(['gender','result'])\\\n",
    ".aggregate({'count':'sum'})\\\n",
    ".stack().reset_index().drop('level_2',axis=1)\\\n",
    ".rename({0:'count2'},axis=1)\n",
    "_df1"
   ]
  },
  {
   "cell_type": "code",
   "execution_count": 136,
   "id": "24f0e0da-aa73-4c3e-84ec-a6d1456c108e",
   "metadata": {},
   "outputs": [
    {
     "data": {
      "text/html": [
       "<div>\n",
       "<style scoped>\n",
       "    .dataframe tbody tr th:only-of-type {\n",
       "        vertical-align: middle;\n",
       "    }\n",
       "\n",
       "    .dataframe tbody tr th {\n",
       "        vertical-align: top;\n",
       "    }\n",
       "\n",
       "    .dataframe thead th {\n",
       "        text-align: right;\n",
       "    }\n",
       "</style>\n",
       "<table border=\"1\" class=\"dataframe\">\n",
       "  <thead>\n",
       "    <tr style=\"text-align: right;\">\n",
       "      <th></th>\n",
       "      <th>gender</th>\n",
       "      <th>total</th>\n",
       "    </tr>\n",
       "  </thead>\n",
       "  <tbody>\n",
       "    <tr>\n",
       "      <th>0</th>\n",
       "      <td>female</td>\n",
       "      <td>1835</td>\n",
       "    </tr>\n",
       "    <tr>\n",
       "      <th>1</th>\n",
       "      <td>male</td>\n",
       "      <td>2691</td>\n",
       "    </tr>\n",
       "  </tbody>\n",
       "</table>\n",
       "</div>"
      ],
      "text/plain": [
       "   gender  total\n",
       "0  female   1835\n",
       "1    male   2691"
      ]
     },
     "execution_count": 136,
     "metadata": {},
     "output_type": "execute_result"
    }
   ],
   "source": [
    "_df2=df.groupby('gender').aggregate({'count':'sum'}).reset_index().rename({'count':'total'},axis=1)\n",
    "_df2"
   ]
  },
  {
   "cell_type": "code",
   "execution_count": 141,
   "id": "005123ed-610d-43a8-acda-f7799811f880",
   "metadata": {},
   "outputs": [
    {
     "data": {
      "text/html": [
       "<div>\n",
       "<style scoped>\n",
       "    .dataframe tbody tr th:only-of-type {\n",
       "        vertical-align: middle;\n",
       "    }\n",
       "\n",
       "    .dataframe tbody tr th {\n",
       "        vertical-align: top;\n",
       "    }\n",
       "\n",
       "    .dataframe thead th {\n",
       "        text-align: right;\n",
       "    }\n",
       "</style>\n",
       "<table border=\"1\" class=\"dataframe\">\n",
       "  <thead>\n",
       "    <tr style=\"text-align: right;\">\n",
       "      <th></th>\n",
       "      <th>gender</th>\n",
       "      <th>result</th>\n",
       "      <th>count2</th>\n",
       "      <th>total</th>\n",
       "      <th>rate</th>\n",
       "    </tr>\n",
       "  </thead>\n",
       "  <tbody>\n",
       "    <tr>\n",
       "      <th>1</th>\n",
       "      <td>female</td>\n",
       "      <td>pass</td>\n",
       "      <td>772</td>\n",
       "      <td>1835</td>\n",
       "      <td>0.420708</td>\n",
       "    </tr>\n",
       "    <tr>\n",
       "      <th>3</th>\n",
       "      <td>male</td>\n",
       "      <td>pass</td>\n",
       "      <td>1400</td>\n",
       "      <td>2691</td>\n",
       "      <td>0.520253</td>\n",
       "    </tr>\n",
       "  </tbody>\n",
       "</table>\n",
       "</div>"
      ],
      "text/plain": [
       "   gender result  count2  total      rate\n",
       "1  female   pass     772   1835  0.420708\n",
       "3    male   pass    1400   2691  0.520253"
      ]
     },
     "execution_count": 141,
     "metadata": {},
     "output_type": "execute_result"
    }
   ],
   "source": [
    "data = _df1.merge(_df2).eval('rate = count2 / total').query('result == \"pass\"')\n",
    "data"
   ]
  },
  {
   "cell_type": "code",
   "execution_count": 142,
   "id": "b3b0b993-cbeb-44d2-9460-a8f26074be76",
   "metadata": {},
   "outputs": [
    {
     "data": {
      "image/png": "[encoded data removed]",
      "text/plain": [
       "<Figure size 640x480 with 1 Axes>"
      ]
     },
     "metadata": {
      "image/png": {
       "height": 480,
       "width": 640
      }
     },
     "output_type": "display_data"
    },
    {
     "data": {
      "text/plain": [
       "<Figure Size: (640 x 480)>"
      ]
     },
     "execution_count": 142,
     "metadata": {},
     "output_type": "execute_result"
    }
   ],
   "source": [
    "ggplot(data)+geom_col(\n",
    "    aes(x='gender',\n",
    "        fill='gender',\n",
    "        y='rate')\n",
    ")"
   ]
  },
  {
   "cell_type": "markdown",
   "id": "f4acf235-caae-459e-aa99-acba0d3ed753",
   "metadata": {},
   "source": [
    "`-` 결론: 남자의 합격률이 더 높다. $\\to$ 성차별이 있어보인다(?)"
   ]
  },
  {
   "cell_type": "markdown",
   "id": "c1d4d826-9541-4216-aa6a-50ee3fb39de7",
   "metadata": {},
   "source": [
    "## 시각화2: 학과별 합격률"
   ]
  },
  {
   "cell_type": "code",
   "execution_count": 164,
   "id": "32ec9a85-f849-4bdc-ba0a-d91063304eb4",
   "metadata": {},
   "outputs": [],
   "source": [
    "_df = df.groupby(['department','gender'])\\\n",
    ".aggregate({'count':'sum'})\\\n",
    ".stack().reset_index()\\\n",
    ".rename({0:'total'},axis=1)\n",
    "data = _df.merge(df)\\\n",
    ".query('result == \"pass\"')\\\n",
    ".eval('rate = count/total')"
   ]
  },
  {
   "cell_type": "code",
   "execution_count": 165,
   "id": "59d0851a-967a-4daf-b52c-c952b5d53667",
   "metadata": {},
   "outputs": [
    {
     "data": {
      "text/html": [
       "<div>\n",
       "<style scoped>\n",
       "    .dataframe tbody tr th:only-of-type {\n",
       "        vertical-align: middle;\n",
       "    }\n",
       "\n",
       "    .dataframe tbody tr th {\n",
       "        vertical-align: top;\n",
       "    }\n",
       "\n",
       "    .dataframe thead th {\n",
       "        text-align: right;\n",
       "    }\n",
       "</style>\n",
       "<table border=\"1\" class=\"dataframe\">\n",
       "  <thead>\n",
       "    <tr style=\"text-align: right;\">\n",
       "      <th></th>\n",
       "      <th>department</th>\n",
       "      <th>gender</th>\n",
       "      <th>level_2</th>\n",
       "      <th>total</th>\n",
       "      <th>result</th>\n",
       "      <th>count</th>\n",
       "      <th>rate</th>\n",
       "    </tr>\n",
       "  </thead>\n",
       "  <tbody>\n",
       "    <tr>\n",
       "      <th>1</th>\n",
       "      <td>A</td>\n",
       "      <td>female</td>\n",
       "      <td>count</td>\n",
       "      <td>108</td>\n",
       "      <td>pass</td>\n",
       "      <td>89</td>\n",
       "      <td>0.824074</td>\n",
       "    </tr>\n",
       "    <tr>\n",
       "      <th>3</th>\n",
       "      <td>A</td>\n",
       "      <td>male</td>\n",
       "      <td>count</td>\n",
       "      <td>825</td>\n",
       "      <td>pass</td>\n",
       "      <td>511</td>\n",
       "      <td>0.619394</td>\n",
       "    </tr>\n",
       "    <tr>\n",
       "      <th>5</th>\n",
       "      <td>B</td>\n",
       "      <td>female</td>\n",
       "      <td>count</td>\n",
       "      <td>25</td>\n",
       "      <td>pass</td>\n",
       "      <td>18</td>\n",
       "      <td>0.720000</td>\n",
       "    </tr>\n",
       "    <tr>\n",
       "      <th>7</th>\n",
       "      <td>B</td>\n",
       "      <td>male</td>\n",
       "      <td>count</td>\n",
       "      <td>560</td>\n",
       "      <td>pass</td>\n",
       "      <td>352</td>\n",
       "      <td>0.628571</td>\n",
       "    </tr>\n",
       "    <tr>\n",
       "      <th>9</th>\n",
       "      <td>C</td>\n",
       "      <td>female</td>\n",
       "      <td>count</td>\n",
       "      <td>593</td>\n",
       "      <td>pass</td>\n",
       "      <td>202</td>\n",
       "      <td>0.340641</td>\n",
       "    </tr>\n",
       "    <tr>\n",
       "      <th>11</th>\n",
       "      <td>C</td>\n",
       "      <td>male</td>\n",
       "      <td>count</td>\n",
       "      <td>325</td>\n",
       "      <td>pass</td>\n",
       "      <td>121</td>\n",
       "      <td>0.372308</td>\n",
       "    </tr>\n",
       "    <tr>\n",
       "      <th>13</th>\n",
       "      <td>D</td>\n",
       "      <td>female</td>\n",
       "      <td>count</td>\n",
       "      <td>375</td>\n",
       "      <td>pass</td>\n",
       "      <td>131</td>\n",
       "      <td>0.349333</td>\n",
       "    </tr>\n",
       "    <tr>\n",
       "      <th>15</th>\n",
       "      <td>D</td>\n",
       "      <td>male</td>\n",
       "      <td>count</td>\n",
       "      <td>417</td>\n",
       "      <td>pass</td>\n",
       "      <td>138</td>\n",
       "      <td>0.330935</td>\n",
       "    </tr>\n",
       "    <tr>\n",
       "      <th>17</th>\n",
       "      <td>E</td>\n",
       "      <td>female</td>\n",
       "      <td>count</td>\n",
       "      <td>393</td>\n",
       "      <td>pass</td>\n",
       "      <td>94</td>\n",
       "      <td>0.239186</td>\n",
       "    </tr>\n",
       "    <tr>\n",
       "      <th>19</th>\n",
       "      <td>E</td>\n",
       "      <td>male</td>\n",
       "      <td>count</td>\n",
       "      <td>191</td>\n",
       "      <td>pass</td>\n",
       "      <td>54</td>\n",
       "      <td>0.282723</td>\n",
       "    </tr>\n",
       "    <tr>\n",
       "      <th>21</th>\n",
       "      <td>F</td>\n",
       "      <td>female</td>\n",
       "      <td>count</td>\n",
       "      <td>341</td>\n",
       "      <td>pass</td>\n",
       "      <td>238</td>\n",
       "      <td>0.697947</td>\n",
       "    </tr>\n",
       "    <tr>\n",
       "      <th>23</th>\n",
       "      <td>F</td>\n",
       "      <td>male</td>\n",
       "      <td>count</td>\n",
       "      <td>373</td>\n",
       "      <td>pass</td>\n",
       "      <td>224</td>\n",
       "      <td>0.600536</td>\n",
       "    </tr>\n",
       "  </tbody>\n",
       "</table>\n",
       "</div>"
      ],
      "text/plain": [
       "   department  gender level_2  total result  count      rate\n",
       "1           A  female   count    108   pass     89  0.824074\n",
       "3           A    male   count    825   pass    511  0.619394\n",
       "5           B  female   count     25   pass     18  0.720000\n",
       "7           B    male   count    560   pass    352  0.628571\n",
       "9           C  female   count    593   pass    202  0.340641\n",
       "11          C    male   count    325   pass    121  0.372308\n",
       "13          D  female   count    375   pass    131  0.349333\n",
       "15          D    male   count    417   pass    138  0.330935\n",
       "17          E  female   count    393   pass     94  0.239186\n",
       "19          E    male   count    191   pass     54  0.282723\n",
       "21          F  female   count    341   pass    238  0.697947\n",
       "23          F    male   count    373   pass    224  0.600536"
      ]
     },
     "execution_count": 165,
     "metadata": {},
     "output_type": "execute_result"
    }
   ],
   "source": [
    "data"
   ]
  },
  {
   "cell_type": "code",
   "execution_count": 166,
   "id": "2afb855c-2430-4ecc-9c9e-08c0435d307e",
   "metadata": {
    "vscode": {
     "languageId": "python"
    }
   },
   "outputs": [
    {
     "data": {
      "image/png": "[encoded data removed]",
      "text/plain": [
       "<Figure size 640x480 with 6 Axes>"
      ]
     },
     "metadata": {
      "image/png": {
       "height": 480,
       "width": 640
      }
     },
     "output_type": "display_data"
    },
    {
     "data": {
      "text/plain": [
       "<Figure Size: (640 x 480)>"
      ]
     },
     "execution_count": 166,
     "metadata": {},
     "output_type": "execute_result"
    }
   ],
   "source": [
    "ggplot(data)\\\n",
    "+geom_col(aes(x='gender',fill='gender',y='rate'))\\\n",
    "+facet_wrap('department')"
   ]
  },
  {
   "cell_type": "markdown",
   "id": "30d45546-3e39-43db-88ad-ee3f93af4f63",
   "metadata": {},
   "source": [
    "- 학과별로 살펴보니 오히려 A,B,F,D의 경우 여성의 합격률이 높다. "
   ]
  },
  {
   "cell_type": "markdown",
   "id": "549ffe96-1db5-4f12-8da0-9d6a54e91232",
   "metadata": {},
   "source": [
    "`-` 교재에서 설명한 이유: 여성이 합격률이 낮은 학과에만 많이 지원하였기 때문 "
   ]
  },
  {
   "cell_type": "code",
   "execution_count": 169,
   "id": "c1eec845-0d17-4061-a1d3-eb696edd5e2c",
   "metadata": {
    "vscode": {
     "languageId": "python"
    }
   },
   "outputs": [
    {
     "data": {
      "image/png": "[encoded data removed]",
      "text/plain": [
       "<Figure size 640x480 with 1 Axes>"
      ]
     },
     "metadata": {
      "image/png": {
       "height": 480,
       "width": 640
      }
     },
     "output_type": "display_data"
    },
    {
     "data": {
      "text/plain": [
       "<Figure Size: (640 x 480)>"
      ]
     },
     "execution_count": 169,
     "metadata": {},
     "output_type": "execute_result"
    }
   ],
   "source": [
    "ggplot(data)+geom_col(aes(x='department',y='total',fill='gender'),position='dodge')"
   ]
  },
  {
   "cell_type": "markdown",
   "id": "867b8419-2643-48f4-9fa3-15f4c88e9a28",
   "metadata": {},
   "source": [
    "- 살펴보니 합격률이 높은 A,B학과의 경우 상대적으로 남성이 많이 지원하였음. 합격률이 낮은 C,D학과는 상대적으로 여성이 많이 지원함. D,F의 지원수는 비슷"
   ]
  }
 ],
 "metadata": {
  "kernelspec": {
   "display_name": "Python 3 (ipykernel)",
   "language": "python",
   "name": "python3"
  },
  "language_info": {
   "codemirror_mode": {
    "name": "ipython",
    "version": 3
   },
   "file_extension": ".py",
   "mimetype": "text/x-python",
   "name": "python",
   "nbconvert_exporter": "python",
   "pygments_lexer": "ipython3",
   "version": "3.10.12"
  }
 },
 "nbformat": 4,
 "nbformat_minor": 5
}
