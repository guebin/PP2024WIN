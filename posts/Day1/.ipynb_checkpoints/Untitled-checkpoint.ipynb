{
 "cells": [
  {
   "cell_type": "markdown",
   "id": "18f371a7-a1c9-46d6-b21f-47bb3043aacd",
   "metadata": {},
   "source": [
    "# HW 0327 (1)"
   ]
  },
  {
   "cell_type": "markdown",
   "id": "299b7a30-8255-43d3-a38d-36159ea4c9c1",
   "metadata": {},
   "source": [
    "`ssh코드`: 1-2"
   ]
  },
  {
   "cell_type": "markdown",
   "id": "e142148e-8636-4b9a-8adc-b24062f780ce",
   "metadata": {},
   "source": [
    "아래의 문자열을 고려하자. "
   ]
  },
  {
   "cell_type": "code",
   "execution_count": 1,
   "id": "5bcb1741-753f-46ae-8a86-3ab197e6704e",
   "metadata": {},
   "outputs": [],
   "source": [
    "test_arr = 'ssh-rsa AAAAB3NzaC1yc2EAAAABIwAAAQEAklOUpkDHrfHY17SbrmTIpNLTGK9Tjom/BWDSUGPl+nafzlHDTYW7hdI4yZ5ew18JH4JW9jbhUFrviQzM7xlELEVf4h9lFX5QVkbPppSwg0cda3Pbv7kOdJ/MTyBlWXFCR+HAo3FXRitBqxiX1nKhXpHAZsMciLq8V6RjsNAQwdsdMFvSlVK/7XAt3FaoJoAsncM1Q9x5+3V0Ww68/eIFmb1zuUFljQJKprrX88XypNDvjYNby6vw/Pb0rwert/EnmZ+AW4OZPnTPI89ZPmVMLuayrD2cE86Z/il8b+gw3r3+1nKatmIkjn2so1d01QraTlMqVSsbxNrRFi9wrf+M7Q== schacon@mylaptop.local'"
   ]
  },
  {
   "cell_type": "markdown",
   "id": "76138644-f8c1-415d-8667-a8adfe9a422c",
   "metadata": {},
   "source": [
    "`1`. 이 문자열에서 `index = 0,2,4,6,8,...` 에 해당하는 원소를 출력하는 코드를 작성하라. (2022-파이썬입문 중간고사 1-(2) 참고)"
   ]
  },
  {
   "cell_type": "code",
   "execution_count": 140,
   "id": "3c290afa-d2bb-4990-8242-7a18536f4bb5",
   "metadata": {},
   "outputs": [
    {
     "data": {
      "text/plain": [
       "'shraAABNa1cEAAIAAEkOpDrH1SrTpLG9jmBDUP+azHTWhIy5w8HJ9bUriz7lLV49F5VbpSgcaPvkd/TBWFRHoFRtqi1KXHZMiqVRsAwsMvlK7A3aJAnMQx+VW6/Im1uFjJpr8XpDjNyv/bretEm+WOPTI9PVLar2E6/lbg331KtIj2od1rTMVsxrF9r+7= cao@yatplcl'"
      ]
     },
     "execution_count": 140,
     "metadata": {},
     "output_type": "execute_result"
    }
   ],
   "source": [
    "# 출력결과는 아래와 같아야 한다. "
   ]
  },
  {
   "cell_type": "markdown",
   "id": "154e047a-4359-4597-ae07-8eb668eb194c",
   "metadata": {},
   "source": [
    "(풀이)"
   ]
  },
  {
   "cell_type": "code",
   "execution_count": 3,
   "id": "2edc8c84-80b0-42e4-9dff-461a5fe8d83e",
   "metadata": {},
   "outputs": [
    {
     "data": {
      "text/plain": [
       "'shraAABNa1cEAAIAAEkOpDrH1SrTpLG9jmBDUP+azHTWhIy5w8HJ9bUriz7lLV49F5VbpSgcaPvkd/TBWFRHoFRtqi1KXHZMiqVRsAwsMvlK7A3aJAnMQx+VW6/Im1uFjJpr8XpDjNyv/bretEm+WOPTI9PVLar2E6/lbg331KtIj2od1rTMVsxrF9r+7= cao@yatplcl'"
      ]
     },
     "execution_count": 3,
     "metadata": {},
     "output_type": "execute_result"
    }
   ],
   "source": [
    "test_arr[::2]"
   ]
  },
  {
   "cell_type": "markdown",
   "id": "d684a21d-f2c4-4dc7-ae3a-903c56bce6fd",
   "metadata": {},
   "source": [
    "`2`. 위 문자열을 뒤집은 문자열을 구하는 코드를 구현하라. (2022-파이썬입문 중간고사 1-(4) 참고)"
   ]
  },
  {
   "cell_type": "code",
   "execution_count": 141,
   "id": "de790e5e-ae88-4e30-a163-eb969ea91497",
   "metadata": {},
   "outputs": [
    {
     "data": {
      "text/plain": [
       "'lacol.potpalym@nocahcs ==Q7M+frw9iFRrNxbsSVqMlTarQ10d1os2njkImtaKn1+3r3wg+b8li/Z68Ec2DryauLMVmPZ98IPTnPZO4WA+ZmnE/trewr0bP/wv6ybNYjvDNpyX88XrrpKJQjlFUuz1bmFIe/86wW0V3+5x9Q1McnsAoJoaF3tAX7/KVlSvFMdsdwQANsjR6V8qLicMsZAHpXhKn1XixqBtiRXF3oAH+RCFXWlByTM/JdOk7vbP3adc0gwSppPbkVQ5XFl9h4fVELElx7MzQivrFUhbj9WJ4HJ81we5Zy4Idh7WYTDHlzfan+lPGUSDWB/mojT9KGTLNpITmrbS71YHfrHDkpUOlkAEQAAAwIBAAAAE2cy1CazN3BAAAA asr-hss'"
      ]
     },
     "execution_count": 141,
     "metadata": {},
     "output_type": "execute_result"
    }
   ],
   "source": [
    "# 출력결과는 아래와 같아야 한다. "
   ]
  },
  {
   "cell_type": "markdown",
   "id": "7b0f3269-217f-4a21-834e-d65cd7e51bdc",
   "metadata": {},
   "source": [
    "(풀이)"
   ]
  },
  {
   "cell_type": "code",
   "execution_count": 4,
   "id": "0c8b7369-3222-4186-8db7-b598dc421a1b",
   "metadata": {},
   "outputs": [
    {
     "data": {
      "text/plain": [
       "'lacol.potpalym@nocahcs ==Q7M+frw9iFRrNxbsSVqMlTarQ10d1os2njkImtaKn1+3r3wg+b8li/Z68Ec2DryauLMVmPZ98IPTnPZO4WA+ZmnE/trewr0bP/wv6ybNYjvDNpyX88XrrpKJQjlFUuz1bmFIe/86wW0V3+5x9Q1McnsAoJoaF3tAX7/KVlSvFMdsdwQANsjR6V8qLicMsZAHpXhKn1XixqBtiRXF3oAH+RCFXWlByTM/JdOk7vbP3adc0gwSppPbkVQ5XFl9h4fVELElx7MzQivrFUhbj9WJ4HJ81we5Zy4Idh7WYTDHlzfan+lPGUSDWB/mojT9KGTLNpITmrbS71YHfrHDkpUOlkAEQAAAwIBAAAAE2cy1CazN3BAAAA asr-hss'"
      ]
     },
     "execution_count": 4,
     "metadata": {},
     "output_type": "execute_result"
    }
   ],
   "source": [
    "test_arr[::-1]"
   ]
  },
  {
   "cell_type": "markdown",
   "id": "c147d688-28f8-48ec-a45e-518e2f5c63a0",
   "metadata": {},
   "source": [
    "---"
   ]
  },
  {
   "cell_type": "markdown",
   "id": "b0c927ab-0cf2-49f2-9053-fdca19f235dd",
   "metadata": {},
   "source": [
    "`파이썬 프로그래밍 시험성적`: 3-4"
   ]
  },
  {
   "cell_type": "markdown",
   "id": "59dd1677-1af6-489c-a632-da5cd1e3d0fc",
   "metadata": {},
   "source": [
    "아래와 같은 dictionary가 있다고 가정하자. "
   ]
  },
  {
   "cell_type": "code",
   "execution_count": 5,
   "id": "cab8c03b-8101-4722-a84f-893b7004a59f",
   "metadata": {},
   "outputs": [],
   "source": [
    "dct={'202212377': {'att': 65, 'rep': 45, 'mid': 0, 'fin': 10},\n",
    "     '202212473': {'att': 95, 'rep': 30, 'mid': 60, 'fin': 10},\n",
    "     '202212310': {'att': 65, 'rep': 85, 'mid': 15, 'fin': 20},\n",
    "     '202212460': {'att': 55, 'rep': 35, 'mid': 35, 'fin': 5},\n",
    "     '202212320': {'att': 80, 'rep': 60, 'mid': 55, 'fin': 70},\n",
    "     '202212329': {'att': 75, 'rep': 40, 'mid': 75, 'fin': 85},\n",
    "     '202212408': {'att': 65, 'rep': 70, 'mid': 60, 'fin': 75},\n",
    "     '202212319': {'att': 60, 'rep': 25, 'mid': 20, 'fin': 35},\n",
    "     '202212348': {'att': 95, 'rep': 55, 'mid': 65, 'fin': 90},\n",
    "     '202212306': {'att': 90, 'rep': 25, 'mid': 95, 'fin': 50},\n",
    "     '202212308': {'att': 55, 'rep': 45, 'mid': 75, 'fin': 30},\n",
    "     '202212366': {'att': 95, 'rep': 60, 'mid': 25, 'fin': 55},\n",
    "     '202212367': {'att': 95, 'rep': 35, 'mid': 0, 'fin': 25},\n",
    "     '202212461': {'att': 50, 'rep': 55, 'mid': 90, 'fin': 45}}"
   ]
  },
  {
   "cell_type": "markdown",
   "id": "77281eb8-a8d6-4eea-bee8-ae13a6ee1608",
   "metadata": {},
   "source": [
    "여기에서 '202212377' 등은 학번을, att는 출석점수, rep는 레포트점수, mid는 중간고사 점수, fin은 기말고사 점수를 의미한다. "
   ]
  },
  {
   "cell_type": "markdown",
   "id": "bd427092-7a0b-484a-baf7-3c9027326b33",
   "metadata": {},
   "source": [
    "`3`. 학생들의 학번을 아래와 같은 방식으로 출력하는 코드를 작성하라. "
   ]
  },
  {
   "cell_type": "code",
   "execution_count": 165,
   "id": "f88c86b3-fcea-4e68-8785-8d8f8e49d339",
   "metadata": {},
   "outputs": [
    {
     "data": {
      "text/plain": [
       "['2022-12377',\n",
       " '2022-12473',\n",
       " '2022-12310',\n",
       " '2022-12460',\n",
       " '2022-12320',\n",
       " '2022-12329',\n",
       " '2022-12408',\n",
       " '2022-12319',\n",
       " '2022-12348',\n",
       " '2022-12306',\n",
       " '2022-12308',\n",
       " '2022-12366',\n",
       " '2022-12367',\n",
       " '2022-12461']"
      ]
     },
     "execution_count": 165,
     "metadata": {},
     "output_type": "execute_result"
    }
   ],
   "source": [
    "# 출력예시"
   ]
  },
  {
   "cell_type": "markdown",
   "id": "6ccc5068-7051-4bab-bdc9-142681d34678",
   "metadata": {},
   "source": [
    "(풀이)"
   ]
  },
  {
   "cell_type": "code",
   "execution_count": 8,
   "id": "4547362f-92b7-4bb0-a7da-dab4168e5252",
   "metadata": {},
   "outputs": [
    {
     "data": {
      "text/plain": [
       "['2022-12377',\n",
       " '2022-12473',\n",
       " '2022-12310',\n",
       " '2022-12460',\n",
       " '2022-12320',\n",
       " '2022-12329',\n",
       " '2022-12408',\n",
       " '2022-12319',\n",
       " '2022-12348',\n",
       " '2022-12306',\n",
       " '2022-12308',\n",
       " '2022-12366',\n",
       " '2022-12367',\n",
       " '2022-12461']"
      ]
     },
     "execution_count": 8,
     "metadata": {},
     "output_type": "execute_result"
    }
   ],
   "source": [
    "[k[:4]+'-'+k[4:] for k in dct]"
   ]
  },
  {
   "cell_type": "markdown",
   "id": "38c755bb-657d-491f-9010-b7501a4233f2",
   "metadata": {},
   "source": [
    "`4`. 출석점수가 70점 이상인(`>=70`) 학생들의 학번을 출력하는 코드를 작성하라. (2022-파이썬입문 중간고사 2-(3) 참고) "
   ]
  },
  {
   "cell_type": "code",
   "execution_count": 166,
   "id": "88ae526b-937c-41d1-a819-f05079c0b615",
   "metadata": {},
   "outputs": [
    {
     "data": {
      "text/plain": [
       "['2022-12473',\n",
       " '2022-12320',\n",
       " '2022-12329',\n",
       " '2022-12348',\n",
       " '2022-12306',\n",
       " '2022-12366',\n",
       " '2022-12367']"
      ]
     },
     "execution_count": 166,
     "metadata": {},
     "output_type": "execute_result"
    }
   ],
   "source": [
    "# 출력예시 "
   ]
  },
  {
   "cell_type": "markdown",
   "id": "82d01254-0621-4bee-bb06-b428f8095660",
   "metadata": {},
   "source": [
    "(풀이)"
   ]
  },
  {
   "cell_type": "code",
   "execution_count": 10,
   "id": "ebba079d-7ef6-4210-8249-00718d62a3d1",
   "metadata": {},
   "outputs": [
    {
     "data": {
      "text/plain": [
       "['2022-12473',\n",
       " '2022-12320',\n",
       " '2022-12329',\n",
       " '2022-12348',\n",
       " '2022-12306',\n",
       " '2022-12366',\n",
       " '2022-12367']"
      ]
     },
     "execution_count": 10,
     "metadata": {},
     "output_type": "execute_result"
    }
   ],
   "source": [
    "[k[:4]+'-'+k[4:] for k,v in dct.items() if v['att']>70]"
   ]
  },
  {
   "cell_type": "markdown",
   "id": "21bb98f9-55d1-43c4-9857-c6ad35f7f9fd",
   "metadata": {},
   "source": [
    "---"
   ]
  },
  {
   "cell_type": "markdown",
   "id": "a0626414-52e1-4a87-9cd4-901d5791f0c3",
   "metadata": {},
   "source": [
    "`Oxford-III`: 5--10 // [reference](https://www.robots.ox.ac.uk/~vgg/data/pets/)\n",
    "\n",
    "아래는 이미지 파일명들이 저장된 string을 불러오는 코드이다. "
   ]
  },
  {
   "cell_type": "code",
   "execution_count": 11,
   "id": "ac83a946-f178-436a-b4ae-d12adfd868e8",
   "metadata": {},
   "outputs": [],
   "source": [
    "import requests\n",
    "url = 'https://raw.githubusercontent.com/guebin/PP2023/main/posts/01_PythonBasic/Oxford-IIIT.txt'\n",
    "txt = requests.get(url).content.decode()"
   ]
  },
  {
   "cell_type": "markdown",
   "id": "95f88baf-26bb-4d92-8f8b-d238658662d2",
   "metadata": {},
   "source": [
    "txt의 출력 일부를 나타내면 아래와 같다. \n",
    "\n",
    "```default\n",
    "'Abyssinian_1.jpg\\nAbyssinian_10.jpg\\nAbyssinian_100.jpg\\nAbyssinian_100.mat\\nAbyssinian_101.jpg\\nAbyssinian_101.mat\\nAbyssinian_102.jpg\\nAbyssinian_102.mat\\nAbyssinian_103.jpg\\nAbyssinian_104.jpg\\nAbyssinian_105.jpg\\nAbyssinian_106.jpg\\nAbyssinian_107.jpg\\nAbyssinian_108.jpg\\nAbyssinian_109.jpg\\nAbyssinian_11.jpg\\nAbyssinian_110.jpg\\nAbyssinian_111.jpg\\nAbyssinian_112.jpg\\nAbyssinian_113.jpg\\nAbyssinian_114.jpg\\nAbyssinian_115.jpg\\nAbyssinian_116.jpg\\nAbyssinian_117.jpg\\nAbyssinian_118.jpg\\nAbyssinian_119.jpg\\nAbyssinian_12.jpg\\nAbyssinian_120.jpg\\nAbyssinian_121.jpg\\nAbyssinian_122.jpg\\nAbyssinian_123.jpg\\nAbyssinian_124.jpg\\nAbyssinian_125.jpg\\nAbyssinian_126.jpg\\nAbyssinian_127.jpg\\nAbyssinian_128.jpg\\nAbyssinian_129.jpg\\nAbyssinian_13.jpg\\nAbyssinian_130.jpg\\nAbyssinian_131.jpg\\nAbyssinian_132.jpg\\n ....... \n",
    "```"
   ]
  },
  {
   "cell_type": "markdown",
   "id": "909e5414-c203-4b4c-9327-77a9f2b381e8",
   "metadata": {},
   "source": [
    "`5`. 각 파일명은 `\\n`으로 구분되어있다. 위의 스트링을 분해하여 아래와 같은 리스트를 생성하고 `fname_list`에 저장하라. "
   ]
  },
  {
   "cell_type": "markdown",
   "id": "b512b2cb-3cd3-432c-967f-773fc5cbba7f",
   "metadata": {},
   "source": [
    "```Python\n",
    "# fname_list 의 출력결과는 아래와 같아야 한다. \n",
    "['Abyssinian_1.jpg','Abyssinian_10.jpg', ... ,'yorkshire_terrier_98.jpg', 'yorkshire_terrier_99.jpg']\n",
    "```"
   ]
  },
  {
   "cell_type": "markdown",
   "id": "e7f842b1-2477-4565-875a-ca8ca8797db6",
   "metadata": {},
   "source": [
    "(풀이)"
   ]
  },
  {
   "cell_type": "code",
   "execution_count": 19,
   "id": "92afd38f-448d-41c8-ab5f-aab1f38c2f10",
   "metadata": {},
   "outputs": [
    {
     "data": {
      "text/plain": [
       "['Abyssinian_1.jpg',\n",
       " 'Abyssinian_10.jpg',\n",
       " 'Abyssinian_100.jpg',\n",
       " 'Abyssinian_100.mat',\n",
       " 'Abyssinian_101.jpg',\n",
       " 'Abyssinian_101.mat',\n",
       " 'Abyssinian_102.jpg',\n",
       " 'Abyssinian_102.mat',\n",
       " 'Abyssinian_103.jpg',\n",
       " 'Abyssinian_104.jpg']"
      ]
     },
     "execution_count": 19,
     "metadata": {},
     "output_type": "execute_result"
    }
   ],
   "source": [
    "fname_list = txt.split('\\n')\n",
    "fname_list[:10]"
   ]
  },
  {
   "cell_type": "markdown",
   "id": "db5c6bb8-6cd5-4be5-8af9-410f37cfa7ad",
   "metadata": {},
   "source": [
    "`6`. 각 이미지파일명은 아래와 같은 규칙으로 저장되어 있다. \n",
    "\n",
    "- 파일명의 첫글자가 대문자이면 고양이를 의미하고 첫글자가 소문자이면 강아지를 의미한다. \n",
    "- `_` 이전의 영문명은 고양이 혹은 강아지의 종(breed)을 의미한다. "
   ]
  },
  {
   "cell_type": "markdown",
   "id": "3f973413-148f-43d1-a337-6f9f8c19d1cb",
   "metadata": {},
   "source": [
    "이미지 파일명이 입력으로 오면 강아지인지 고양이인지 판단하여 'cat' or 'dog'를 리턴하는 함수 `f`를 구현하라. "
   ]
  },
  {
   "cell_type": "markdown",
   "id": "800c58a1-86ca-4370-a4ef-5f2b0871289d",
   "metadata": {},
   "source": [
    "(함수사용예시)"
   ]
  },
  {
   "cell_type": "code",
   "execution_count": 56,
   "id": "30ca9291-e36c-4522-a92e-e75c12b56a14",
   "metadata": {},
   "outputs": [
    {
     "data": {
      "text/plain": [
       "'dog'"
      ]
     },
     "execution_count": 56,
     "metadata": {},
     "output_type": "execute_result"
    }
   ],
   "source": [
    "f('yorkshire_terrier_99.jpg')"
   ]
  },
  {
   "cell_type": "code",
   "execution_count": 58,
   "id": "e7593f0f-8b49-4404-9a0d-4c7d2f80ffae",
   "metadata": {},
   "outputs": [
    {
     "data": {
      "text/plain": [
       "'cat'"
      ]
     },
     "execution_count": 58,
     "metadata": {},
     "output_type": "execute_result"
    }
   ],
   "source": [
    "f('Abyssinian_1.jpg')"
   ]
  },
  {
   "cell_type": "markdown",
   "id": "3b41b6d0-9e3d-4dad-ac92-852c8b95da94",
   "metadata": {},
   "source": [
    "(풀이)"
   ]
  },
  {
   "cell_type": "code",
   "execution_count": 21,
   "id": "d2afc412-700f-47f8-92fa-7d923d44dcc9",
   "metadata": {},
   "outputs": [],
   "source": [
    "def f(fname): \n",
    "    return 'cat' if fname[0].isupper() else 'dog' "
   ]
  },
  {
   "cell_type": "code",
   "execution_count": 23,
   "id": "efe7cdbe-5f11-4c0b-a66e-115929652dd6",
   "metadata": {},
   "outputs": [
    {
     "data": {
      "text/plain": [
       "('dog', 'cat')"
      ]
     },
     "execution_count": 23,
     "metadata": {},
     "output_type": "execute_result"
    }
   ],
   "source": [
    "f('yorkshire_terrier_99.jpg'), f('Abyssinian_1.jpg')"
   ]
  },
  {
   "cell_type": "markdown",
   "id": "1984077e-85ed-49ec-b946-b8c6065344f6",
   "metadata": {},
   "source": [
    "`7`. 5의 결과로 나온 `fname_list`를 입력으로 하고 리스트의 각 원소가 고양이를 의미하는 그림인지 강아지를 의미하는 그림인지 나타내는 리스트를 만들어라. "
   ]
  },
  {
   "cell_type": "markdown",
   "id": "c84b42c5-94b6-440b-a458-d099d1b0e019",
   "metadata": {},
   "source": [
    "```Python\n",
    "## 입력예시 \n",
    "['Abyssinian_1.jpg','Abyssinian_10.jpg',...,'yorkshire_terrier_98.jpg', 'yorkshire_terrier_99.jpg']\n",
    "\n",
    "## 출력예시\n",
    "['cat', 'cat', ... , 'dog', 'dog']\n",
    "```"
   ]
  },
  {
   "cell_type": "markdown",
   "id": "30935294-7217-45c1-8984-4c90e238843d",
   "metadata": {},
   "source": [
    "(풀이) "
   ]
  },
  {
   "cell_type": "code",
   "execution_count": 25,
   "id": "179fe94e-ce31-4d81-a378-e7aa57d09e07",
   "metadata": {},
   "outputs": [
    {
     "data": {
      "text/plain": [
       "['cat', 'cat', 'cat', 'cat', 'cat', 'cat', 'cat', 'cat', 'cat', 'cat']"
      ]
     },
     "execution_count": 25,
     "metadata": {},
     "output_type": "execute_result"
    }
   ],
   "source": [
    "result = [f(l) for l in fname_list]\n",
    "result[:10]"
   ]
  },
  {
   "cell_type": "markdown",
   "id": "4ad287e9-e9e5-4b07-bb7b-116db91c1a13",
   "metadata": {},
   "source": [
    "`8`. 강아지 그림과 고양이 그림이 각각 몇 장씩 포함되어 있는지 파악하는 코드를 구현하라. "
   ]
  },
  {
   "cell_type": "markdown",
   "id": "55e00808-c1ce-401a-9e6f-b6c040606280",
   "metadata": {},
   "source": [
    "(풀이)"
   ]
  },
  {
   "cell_type": "code",
   "execution_count": 29,
   "id": "253b3a4c-0812-4c02-9ea6-4ca2e530106f",
   "metadata": {},
   "outputs": [
    {
     "data": {
      "text/plain": [
       "2403"
      ]
     },
     "execution_count": 29,
     "metadata": {},
     "output_type": "execute_result"
    }
   ],
   "source": [
    "sum([s=='cat' for s in result]) # 고양이"
   ]
  },
  {
   "cell_type": "code",
   "execution_count": 30,
   "id": "5122cb04-87c9-4bf8-b5ff-356262ab3206",
   "metadata": {},
   "outputs": [
    {
     "data": {
      "text/plain": [
       "4990"
      ]
     },
     "execution_count": 30,
     "metadata": {},
     "output_type": "execute_result"
    }
   ],
   "source": [
    "sum([s=='dog' for s in result]) # 강아지"
   ]
  },
  {
   "cell_type": "markdown",
   "id": "d9b73769-b227-4846-bc00-5f8b1ff464da",
   "metadata": {},
   "source": [
    "`9`. 포메라니안 종의 그림이 몇장있는지 파악하는 코드를 구현하라. "
   ]
  },
  {
   "cell_type": "markdown",
   "id": "b77195d9-771c-42c1-8145-18cbfbb27bd4",
   "metadata": {},
   "source": [
    "**hint:** 포메라니안 그림은 파일명에 'pomeranian' 을 포함한다. "
   ]
  },
  {
   "cell_type": "markdown",
   "id": "22a095dd-b0ba-4c69-874f-2c7662812504",
   "metadata": {},
   "source": [
    "(풀이)"
   ]
  },
  {
   "cell_type": "code",
   "execution_count": 33,
   "id": "275fc1e7-53bb-4b4e-beaa-629adf3de206",
   "metadata": {},
   "outputs": [
    {
     "data": {
      "text/plain": [
       "200"
      ]
     },
     "execution_count": 33,
     "metadata": {},
     "output_type": "execute_result"
    }
   ],
   "source": [
    "sum(['pomeranian'  in s for s in fname_list])"
   ]
  },
  {
   "cell_type": "markdown",
   "id": "d13c0060-3635-40c6-8dc3-61b9f830dc87",
   "metadata": {},
   "source": [
    "`10`. 아래의 `dct`는 포메라니안과 사모예드가 각각 몇장씩 포함되어있는지 정리하기 위해 임시로 정리한 dictionary이다. 각 종이 몇 장씩 포함되어있는지 구하여 `dct`를 수정하라. "
   ]
  },
  {
   "cell_type": "code",
   "execution_count": 34,
   "id": "1764b5a2-c353-453a-a442-74d093b30dbd",
   "metadata": {},
   "outputs": [
    {
     "data": {
      "text/plain": [
       "{'pomeranian': 0, 'samoyed': 0}"
      ]
     },
     "execution_count": 34,
     "metadata": {},
     "output_type": "execute_result"
    }
   ],
   "source": [
    "dct = {'pomeranian':0, 'samoyed':0} \n",
    "dct"
   ]
  },
  {
   "cell_type": "markdown",
   "id": "9fa888b8-f3b8-4a73-b03b-3c3921f9133b",
   "metadata": {},
   "source": [
    "예를들어 포메라니안과 사모에예드의 그림이 각각 200장씩 있다면 아래와 같이 딕셔너리를 수정해야한다. "
   ]
  },
  {
   "cell_type": "code",
   "execution_count": 92,
   "id": "767e5722-d801-4f3e-8773-52745bd81455",
   "metadata": {},
   "outputs": [
    {
     "data": {
      "text/plain": [
       "{'pomeranian': 200, 'samoyed': 200}"
      ]
     },
     "execution_count": 92,
     "metadata": {},
     "output_type": "execute_result"
    }
   ],
   "source": [
    "{'pomeranian':200, 'samoyed':200} "
   ]
  },
  {
   "cell_type": "markdown",
   "id": "cff0a287-665c-4ef6-a3a7-b35ce3864ecd",
   "metadata": {},
   "source": [
    "(풀이)"
   ]
  },
  {
   "cell_type": "code",
   "execution_count": 35,
   "id": "7c64c165-d7c3-4657-a2de-8fd14ba95637",
   "metadata": {},
   "outputs": [
    {
     "data": {
      "text/plain": [
       "{'pomeranian': 200, 'samoyed': 200}"
      ]
     },
     "execution_count": 35,
     "metadata": {},
     "output_type": "execute_result"
    }
   ],
   "source": [
    "dct['pomeranian'] = sum(['pomeranian'  in s for s in fname_list])\n",
    "dct['samoyed'] = sum(['samoyed'  in s for s in fname_list])\n",
    "dct"
   ]
  },
  {
   "cell_type": "markdown",
   "id": "d7265cbb-0fcd-4aec-9ca4-4ed23aa23555",
   "metadata": {},
   "source": [
    "# HW 0327 (2)"
   ]
  },
  {
   "cell_type": "markdown",
   "id": "0a0e2ce6-bcf2-4ad4-adb4-10bc6891a14e",
   "metadata": {},
   "source": [
    "`1`. 아래와 같은 맵핑을 고려하자. "
   ]
  },
  {
   "cell_type": "markdown",
   "id": "04c97fde-5ed7-4bcb-8360-fe4910f4b082",
   "metadata": {},
   "source": [
    "|문자|숫자|\n",
    "|:-:|:-:|\n",
    "|a|1|\n",
    "|b|0|"
   ]
  },
  {
   "cell_type": "markdown",
   "id": "e4ba9e89-b3ff-49a3-b9a6-e7f4fde7983c",
   "metadata": {},
   "source": [
    "이를 딕셔너리로 표현하면 아래와 같다. "
   ]
  },
  {
   "cell_type": "code",
   "execution_count": 36,
   "id": "5b4aa8dc-97fc-4fe2-96c7-bc4ee115bd1c",
   "metadata": {},
   "outputs": [],
   "source": [
    "dct = {'a':0, 'b':1} "
   ]
  },
  {
   "cell_type": "markdown",
   "id": "09ab567f-619c-40ce-8fd0-376896003413",
   "metadata": {},
   "source": [
    "위 규칙에 따라서 아래의 리스트의 원소를 문자로 각각 변환하라."
   ]
  },
  {
   "cell_type": "code",
   "execution_count": 37,
   "id": "7e78890e-ba05-49c7-af8b-0105a2b2d703",
   "metadata": {},
   "outputs": [],
   "source": [
    "lst = [1, 0, 1, 0, 1, 0, 1, 1, 1, 1, 0, 0, 1, 0, 1]"
   ]
  },
  {
   "cell_type": "markdown",
   "id": "3da4f56d-bac2-4c0b-9b4c-2babdd9119a8",
   "metadata": {},
   "source": [
    "```Python\n",
    "# 출력은 아래와 같아야 한다. \n",
    "['b', 'a', 'b', 'a', 'b', 'a', 'b', 'b', 'b', 'b', 'a', 'a', 'b', 'a', 'b']\n",
    "```"
   ]
  },
  {
   "cell_type": "markdown",
   "id": "eb6e35d0-cad3-4bf2-82e2-2efc04a5824b",
   "metadata": {},
   "source": [
    "(풀이)"
   ]
  },
  {
   "cell_type": "code",
   "execution_count": 39,
   "id": "644366e3-0d16-4813-aba9-2df9f744ed49",
   "metadata": {},
   "outputs": [
    {
     "data": {
      "text/plain": [
       "['b', 'a', 'b', 'a', 'b', 'a', 'b', 'b', 'b', 'b', 'a', 'a', 'b', 'a', 'b']"
      ]
     },
     "execution_count": 39,
     "metadata": {},
     "output_type": "execute_result"
    }
   ],
   "source": [
    "[k for l in lst for k,v in dct.items() if v==l]"
   ]
  },
  {
   "cell_type": "markdown",
   "id": "f7559af5-80f0-4b99-a317-6cfbe7cea571",
   "metadata": {},
   "source": [
    "`2`. 아래와 같은 맵핑을 고려하자. "
   ]
  },
  {
   "cell_type": "markdown",
   "id": "6d805356-412d-4cd0-8f34-ed6c20d6cb19",
   "metadata": {},
   "source": [
    "|월|의미|\n",
    "|:-:|:-:|\n",
    "|1,2|겨울방학|\n",
    "|3,4,5,6|1학기|\n",
    "|7,8|여름방학|\n",
    "|9,10,11,12|2학기|"
   ]
  },
  {
   "cell_type": "markdown",
   "id": "6a4df32f-a2d2-4ebc-a88f-5295d4d791d7",
   "metadata": {},
   "source": [
    "이러한 규칙에 맞게 아래의 리스트를 적절한 문자열로 변환하라. "
   ]
  },
  {
   "cell_type": "code",
   "execution_count": 41,
   "id": "7d7077cd-e664-4c6f-8e0e-e4322a189772",
   "metadata": {},
   "outputs": [],
   "source": [
    "month = [1,2,2,3,4,5,6,7,8,9,9,10,11,12] "
   ]
  },
  {
   "cell_type": "markdown",
   "id": "51af925b-61b3-45df-ad8c-09f28498d31c",
   "metadata": {},
   "source": [
    "```Python\n",
    "## 출력은 아래와 같아야 한다. \n",
    "['겨울방학', '겨울방학', '겨울방학', '1학기', '1학기', '1학기', '1학기', '여름방학', '여름방학', '2학기', '2학기', '2학기', '2학기', '2학기']\n",
    "```"
   ]
  },
  {
   "cell_type": "markdown",
   "id": "629c0e6b-af0b-4954-964b-842b056a10b6",
   "metadata": {},
   "source": [
    "(풀이)"
   ]
  },
  {
   "cell_type": "code",
   "execution_count": 42,
   "id": "23354161-187e-49a6-ac05-9cef8de341ed",
   "metadata": {},
   "outputs": [
    {
     "data": {
      "text/plain": [
       "['겨울방학',\n",
       " '겨울방학',\n",
       " '겨울방학',\n",
       " '1학기',\n",
       " '1학기',\n",
       " '1학기',\n",
       " '1학기',\n",
       " '여름방학',\n",
       " '여름방학',\n",
       " '2학기',\n",
       " '2학기',\n",
       " '2학기',\n",
       " '2학기',\n",
       " '2학기']"
      ]
     },
     "execution_count": 42,
     "metadata": {},
     "output_type": "execute_result"
    }
   ],
   "source": [
    "dct = {'겨울방학':[1,2], '1학기':[3,4,5,6], '여름방학':[7,8], '2학기':[9,10,11,12]} \n",
    "[k for m in month for k,v in dct.items() if m in v] "
   ]
  },
  {
   "cell_type": "markdown",
   "id": "ee7fa34a-879e-4910-a828-8902c9b421e3",
   "metadata": {},
   "source": [
    "`합성변환` 3-5. "
   ]
  },
  {
   "cell_type": "markdown",
   "id": "f9121881-937f-4dec-a2d0-473b824bf355",
   "metadata": {},
   "source": [
    "아래와 같은 맵핑을 고려하자. "
   ]
  },
  {
   "cell_type": "markdown",
   "id": "e199e2b6-9a5e-4730-a434-483fe1167040",
   "metadata": {},
   "source": [
    "(규칙1)"
   ]
  },
  {
   "cell_type": "markdown",
   "id": "41ff4ae9-f338-43d6-9ed2-2589c4031463",
   "metadata": {},
   "source": [
    "|문자|숫자|\n",
    "|:-:|:-:|\n",
    "|바나나|0|\n",
    "|사과|1|\n",
    "|오토바이|2|\n",
    "|자동차|3|\n",
    "|자전거|4|"
   ]
  },
  {
   "cell_type": "markdown",
   "id": "054aa28d-97e4-4c02-bd29-fecc9f1bf40e",
   "metadata": {},
   "source": [
    "(규칙2)"
   ]
  },
  {
   "cell_type": "markdown",
   "id": "6c3b5be3-b28c-4e19-89c3-ccfccbdcb1ba",
   "metadata": {},
   "source": [
    "|아이템|카테고리|\n",
    "|:-:|:-:|\n",
    "|바나나|과일|\n",
    "|사과|과일|\n",
    "|오토바이|탈것|\n",
    "|자동차|탈것|\n",
    "|자전거|탈것|"
   ]
  },
  {
   "cell_type": "markdown",
   "id": "f4e5a131-1bf5-4e69-b45c-b4b44040aa82",
   "metadata": {},
   "source": [
    "각각의 규칙을 나타내는 딕셔너리는 아래와 같이 선언되어있다고 하자. "
   ]
  },
  {
   "cell_type": "code",
   "execution_count": 44,
   "id": "bccdcaed-044f-49f8-ba83-5d95ae4f3168",
   "metadata": {},
   "outputs": [],
   "source": [
    "dct1 = {'바나나':0, '사과':1, '오토바이':2, '자동차':3, '자전거':4} \n",
    "dct2 = {'과일':['바나나','사과'], '탈것':['오토바이','자동차','자전거']} "
   ]
  },
  {
   "cell_type": "markdown",
   "id": "2a2e1a0c-dba6-42b7-9f17-8f4472de5e9d",
   "metadata": {},
   "source": [
    "`3`. 규칙1를 이용하여 아래와 같은 리스트를 변환하는 함수를 구현하고 그 함수를 `f`라 선언하라."
   ]
  },
  {
   "cell_type": "markdown",
   "id": "bd2f6ce3-9483-405a-a237-3600a15ab101",
   "metadata": {},
   "source": [
    "```Python\n",
    "# 입력 \n",
    "[0,1,0,1,4]\n",
    "\n",
    "# 출력 \n",
    "['바나나', '사과', '바나나', '사과', '자전거']\n",
    "```"
   ]
  },
  {
   "cell_type": "markdown",
   "id": "9ef4f51a-5ac9-4e31-9b03-86187297402d",
   "metadata": {},
   "source": [
    "(사용예시)"
   ]
  },
  {
   "cell_type": "code",
   "execution_count": 202,
   "id": "a42d5e12-3d2c-4445-919d-f7723129e1c1",
   "metadata": {},
   "outputs": [
    {
     "data": {
      "text/plain": [
       "['바나나', '사과', '바나나', '사과', '자전거']"
      ]
     },
     "execution_count": 202,
     "metadata": {},
     "output_type": "execute_result"
    }
   ],
   "source": [
    "f([0,1,0,1,4])"
   ]
  },
  {
   "cell_type": "markdown",
   "id": "22dca75f-cbe8-4716-86c9-18bb4ec1ac5f",
   "metadata": {},
   "source": [
    "(풀이)"
   ]
  },
  {
   "cell_type": "code",
   "execution_count": 47,
   "id": "9a8d8391-7387-4690-a895-43d88d5af5c7",
   "metadata": {},
   "outputs": [],
   "source": [
    "def f(lst):\n",
    "    return [k for l in lst for k,v in dct1.items() if v == l]    "
   ]
  },
  {
   "cell_type": "code",
   "execution_count": 48,
   "id": "9ce72a45-58a1-4137-a0af-9f8e122a2169",
   "metadata": {},
   "outputs": [
    {
     "data": {
      "text/plain": [
       "['바나나', '사과', '바나나', '사과', '자전거']"
      ]
     },
     "execution_count": 48,
     "metadata": {},
     "output_type": "execute_result"
    }
   ],
   "source": [
    "f([0,1,0,1,4])"
   ]
  },
  {
   "cell_type": "markdown",
   "id": "7adf80c0-1862-4978-a3d8-ea895eb5edf4",
   "metadata": {},
   "source": [
    "`4`. 규칙2를 이용하여 아래와 같이 리스트를 변환하는 함수를 구현하고 그 함수를 `g`라고 선언하라. "
   ]
  },
  {
   "cell_type": "markdown",
   "id": "542bee77-bb96-41d6-bf6b-6f1b5d6720c1",
   "metadata": {},
   "source": [
    "```Python\n",
    "# 입력 \n",
    "['바나나','바나나','바나나','자동차']\n",
    "\n",
    "# 출력 \n",
    "['과일','과일','과일','탈것']\n",
    "```"
   ]
  },
  {
   "cell_type": "markdown",
   "id": "d4e2e090-20b4-4de1-97d5-8bc145ed4678",
   "metadata": {},
   "source": [
    "(사용예시)"
   ]
  },
  {
   "cell_type": "code",
   "execution_count": 201,
   "id": "7436bc5f-ed56-4556-8307-1569b2be8938",
   "metadata": {},
   "outputs": [
    {
     "data": {
      "text/plain": [
       "['과일', '과일', '과일', '탈것']"
      ]
     },
     "execution_count": 201,
     "metadata": {},
     "output_type": "execute_result"
    }
   ],
   "source": [
    "g(['바나나','바나나','바나나','자동차'])"
   ]
  },
  {
   "cell_type": "markdown",
   "id": "3fa560b8-1af7-4383-918a-569c154e7e59",
   "metadata": {},
   "source": [
    "(풀이)"
   ]
  },
  {
   "cell_type": "code",
   "execution_count": 52,
   "id": "fb8f7006-c7e7-4ec5-bd56-31f7c8a32e57",
   "metadata": {},
   "outputs": [
    {
     "data": {
      "text/plain": [
       "{'과일': ['바나나', '사과'], '탈것': ['오토바이', '자동차', '자전거']}"
      ]
     },
     "execution_count": 52,
     "metadata": {},
     "output_type": "execute_result"
    }
   ],
   "source": [
    "dct2"
   ]
  },
  {
   "cell_type": "code",
   "execution_count": 53,
   "id": "0b6cc0e6-58bb-451a-8607-ec1eda656190",
   "metadata": {},
   "outputs": [],
   "source": [
    "def g(lst):\n",
    "    return [k for l in lst for k,v in dct2.items() if l in v] "
   ]
  },
  {
   "cell_type": "code",
   "execution_count": 54,
   "id": "e771b524-82c6-4421-aaea-5871664c0fdf",
   "metadata": {},
   "outputs": [
    {
     "data": {
      "text/plain": [
       "['과일', '과일', '과일', '탈것']"
      ]
     },
     "execution_count": 54,
     "metadata": {},
     "output_type": "execute_result"
    }
   ],
   "source": [
    "g(['바나나','바나나','바나나','자동차'])"
   ]
  },
  {
   "cell_type": "markdown",
   "id": "34aea908-9f15-42a0-864f-8c19b196c172",
   "metadata": {},
   "source": [
    "`5`. 규칙1-2를 이용하여 아래와 같은 숫자로 이루어진 입력을 '과일', '탈것' 중 하나로 바꾸는 코드를 구현하라. "
   ]
  },
  {
   "cell_type": "markdown",
   "id": "18ed3c8f-44d4-4afe-a31f-2c5c26cb2f36",
   "metadata": {},
   "source": [
    "```Python\n",
    "# 입력 \n",
    "[0,1,0,1,3,4,2,2,3,4,1,0]\n",
    "\n",
    "# 출력 \n",
    "['과일', '과일', '과일', '과일', '탈것', '탈것', '탈것', '탈것', '탈것', '탈것', '과일', '과일']\n",
    "```"
   ]
  },
  {
   "cell_type": "markdown",
   "id": "785d2bb6-a29c-4c3e-b52d-32f0599f49fa",
   "metadata": {},
   "source": [
    "**hint** $g(f(x))$ 를 이용하라. "
   ]
  },
  {
   "cell_type": "markdown",
   "id": "4d56e390-c5b3-4f1b-a0da-328beba025dd",
   "metadata": {},
   "source": [
    "(풀이)"
   ]
  },
  {
   "cell_type": "code",
   "execution_count": 55,
   "id": "f19bbfe6-a57b-4ed7-a6b7-877622ed4b43",
   "metadata": {},
   "outputs": [
    {
     "data": {
      "text/plain": [
       "['과일', '과일', '과일', '과일', '탈것', '탈것', '탈것', '탈것', '탈것', '탈것', '과일', '과일']"
      ]
     },
     "execution_count": 55,
     "metadata": {},
     "output_type": "execute_result"
    }
   ],
   "source": [
    "g(f([0,1,0,1,3,4,2,2,3,4,1,0]))"
   ]
  },
  {
   "cell_type": "markdown",
   "id": "2c0c4b0b-0b52-4549-ae16-3e8f6481e470",
   "metadata": {},
   "source": [
    "# HW"
   ]
  },
  {
   "cell_type": "markdown",
   "id": "ae2bb9f3-e632-4add-a6fc-33a735cf4a98",
   "metadata": {},
   "source": [
    "`Oxford-III`: 1--5 // [reference](https://www.robots.ox.ac.uk/~vgg/data/pets/)\n",
    "\n",
    "아래는 이미지 파일명들이 저장된 string을 불러오는 코드이다. "
   ]
  },
  {
   "cell_type": "code",
   "execution_count": 1,
   "id": "7c508097-16ea-46d7-851c-78f92e536161",
   "metadata": {},
   "outputs": [],
   "source": [
    "import requests\n",
    "url = 'https://raw.githubusercontent.com/guebin/PP2023/main/posts/01_PythonBasic/Oxford-IIIT.txt'\n",
    "txt = requests.get(url).content.decode()"
   ]
  },
  {
   "cell_type": "markdown",
   "id": "de8b5aec-7eb7-49c8-ab7a-a9f5fce83118",
   "metadata": {},
   "source": [
    "이미지파일이 저장된 형식은 아래와 같다. \n",
    "\n",
    "```\n",
    "Abyssinian_1.jpg\n",
    "British_Shorthair_129.jpg\n",
    "```"
   ]
  },
  {
   "cell_type": "markdown",
   "id": "ff49744d-94b7-44fa-be05-9aacf1d56c3d",
   "metadata": {},
   "source": [
    "**note**: `British_Shorthair`와 같이 종 이름 사이에 `_`가 들어있는 경우도 있음. "
   ]
  },
  {
   "cell_type": "markdown",
   "id": "54062c96-ff59-4901-96c2-b1611416b98e",
   "metadata": {},
   "source": [
    "`1`. txt를 적당히 변환하여 아래와 같은 list를 만들어라. "
   ]
  },
  {
   "cell_type": "code",
   "execution_count": 50,
   "id": "ff2a8723-34c6-4b2f-8ac6-aac2531f1488",
   "metadata": {},
   "outputs": [
    {
     "data": {
      "text/plain": [
       "(['Abyssinian',\n",
       "  'Abyssinian',\n",
       "  'Abyssinian',\n",
       "  'Abyssinian',\n",
       "  'Abyssinian',\n",
       "  'Abyssinian',\n",
       "  'Abyssinian',\n",
       "  'Abyssinian',\n",
       "  'Abyssinian',\n",
       "  'Abyssinian'],\n",
       " ['BritishShorthair',\n",
       "  'BritishShorthair',\n",
       "  'BritishShorthair',\n",
       "  'BritishShorthair',\n",
       "  'BritishShorthair',\n",
       "  'BritishShorthair',\n",
       "  'BritishShorthair',\n",
       "  'BritishShorthair',\n",
       "  'BritishShorthair',\n",
       "  'BritishShorthair'])"
      ]
     },
     "execution_count": 50,
     "metadata": {},
     "output_type": "execute_result"
    }
   ],
   "source": [
    "lst[:10],lst[810:820]"
   ]
  },
  {
   "cell_type": "markdown",
   "id": "6a0b1822-0760-4573-a6c4-01c8dad61e5f",
   "metadata": {},
   "source": [
    "**hint1**"
   ]
  },
  {
   "cell_type": "code",
   "execution_count": 89,
   "id": "07f6d6a0-d414-49bf-84d5-2e595af442ed",
   "metadata": {},
   "outputs": [
    {
     "data": {
      "text/plain": [
       "['Abyssinian_1.jpg', 'Abyssinian_10.jpg']"
      ]
     },
     "execution_count": 89,
     "metadata": {},
     "output_type": "execute_result"
    }
   ],
   "source": [
    "'Abyssinian_1.jpg\\nAbyssinian_10.jpg'.split('\\n')"
   ]
  },
  {
   "cell_type": "markdown",
   "id": "b8781e31-1dd6-4ce7-90b3-e8957c16c757",
   "metadata": {},
   "source": [
    "**hint2**"
   ]
  },
  {
   "cell_type": "code",
   "execution_count": 90,
   "id": "b61ec5c8-29ae-445f-b920-67da9589af1d",
   "metadata": {},
   "outputs": [
    {
     "data": {
      "text/plain": [
       "'BritishShorthair'"
      ]
     },
     "execution_count": 90,
     "metadata": {},
     "output_type": "execute_result"
    }
   ],
   "source": [
    "''.join(['British', 'Shorthair'])"
   ]
  },
  {
   "cell_type": "code",
   "execution_count": 91,
   "id": "2122b23c-f16b-44ee-8cbf-0cbdf259767d",
   "metadata": {},
   "outputs": [
    {
     "data": {
      "text/plain": [
       "'Abyssinian'"
      ]
     },
     "execution_count": 91,
     "metadata": {},
     "output_type": "execute_result"
    }
   ],
   "source": [
    "''.join(['Abyssinian'])"
   ]
  },
  {
   "cell_type": "markdown",
   "id": "5a05634a-d06b-4f24-adf9-9873e5f3cf5d",
   "metadata": {},
   "source": [
    "(풀이1) "
   ]
  },
  {
   "cell_type": "code",
   "execution_count": 65,
   "id": "98f6bd67-6c6e-4ddd-a88a-808f406a02d2",
   "metadata": {},
   "outputs": [],
   "source": [
    "lst = [''.join(filename.split('_')[:-1]) for filename in txt.split('\\n')]"
   ]
  },
  {
   "cell_type": "markdown",
   "id": "d4da6d46-6ed2-454d-adae-0deaac420a79",
   "metadata": {},
   "source": [
    "(풀이2)"
   ]
  },
  {
   "cell_type": "code",
   "execution_count": 63,
   "id": "41d53dc2-d5bd-43c1-8deb-183afdc6fe55",
   "metadata": {},
   "outputs": [],
   "source": [
    "def f(filename): \n",
    "    *name, _ = filename.split('_')\n",
    "    return ''.join(name)\n",
    "lst = [f(filename) for filename in txt.split('\\n')]"
   ]
  },
  {
   "cell_type": "markdown",
   "id": "2312e540-adc5-4e40-9b6a-9ff989c03943",
   "metadata": {},
   "source": [
    "(확인) "
   ]
  },
  {
   "cell_type": "code",
   "execution_count": 67,
   "id": "3348bced-eddb-466f-817d-deb0707d6ae0",
   "metadata": {},
   "outputs": [
    {
     "data": {
      "text/plain": [
       "(['Abyssinian',\n",
       "  'Abyssinian',\n",
       "  'Abyssinian',\n",
       "  'Abyssinian',\n",
       "  'Abyssinian',\n",
       "  'Abyssinian',\n",
       "  'Abyssinian',\n",
       "  'Abyssinian',\n",
       "  'Abyssinian',\n",
       "  'Abyssinian'],\n",
       " ['BritishShorthair',\n",
       "  'BritishShorthair',\n",
       "  'BritishShorthair',\n",
       "  'BritishShorthair',\n",
       "  'BritishShorthair',\n",
       "  'BritishShorthair',\n",
       "  'BritishShorthair',\n",
       "  'BritishShorthair',\n",
       "  'BritishShorthair',\n",
       "  'BritishShorthair'])"
      ]
     },
     "execution_count": 67,
     "metadata": {},
     "output_type": "execute_result"
    }
   ],
   "source": [
    "lst[:10],lst[810:820]"
   ]
  },
  {
   "cell_type": "markdown",
   "id": "91fbee0b-58cd-4df5-a114-a91696097219",
   "metadata": {},
   "source": [
    "`2`. 그림파일에는 총 몇가지 종류의 고양이와, 몇가지 종류의 강아지가 있는가? "
   ]
  },
  {
   "cell_type": "markdown",
   "id": "c5b9fc43-628e-416e-b36e-4f69e6518c7c",
   "metadata": {},
   "source": [
    "**note:** 고양이사진은 대문자로 시작하고, 강아지 사진은 소문자로 시작한다. "
   ]
  },
  {
   "cell_type": "markdown",
   "id": "b95bb4b7-9eab-4b6b-91db-23732b60ab69",
   "metadata": {},
   "source": [
    "**note**: 12종의 고양이, 25종의 강아지가 있음 "
   ]
  },
  {
   "cell_type": "markdown",
   "id": "6daf9cce-c274-4981-a577-31273f883105",
   "metadata": {},
   "source": [
    "(풀이)"
   ]
  },
  {
   "cell_type": "code",
   "execution_count": 90,
   "id": "169c61f6-e2e0-40c0-b8a6-5ca64d1418fc",
   "metadata": {},
   "outputs": [
    {
     "data": {
      "text/plain": [
       "12"
      ]
     },
     "execution_count": 90,
     "metadata": {},
     "output_type": "execute_result"
    }
   ],
   "source": [
    "[s[0].isupper() for s in set(lst)].count(True) # 고양이 12"
   ]
  },
  {
   "cell_type": "code",
   "execution_count": 91,
   "id": "78dcdfed-2de6-4fd5-aaaa-bff1a6dae852",
   "metadata": {},
   "outputs": [
    {
     "data": {
      "text/plain": [
       "25"
      ]
     },
     "execution_count": 91,
     "metadata": {},
     "output_type": "execute_result"
    }
   ],
   "source": [
    "[s[0].isupper() for s in set(lst)].count(False) # 강아지 25 "
   ]
  },
  {
   "cell_type": "markdown",
   "id": "d6acd17d-0715-470c-a8a7-d236753a1c05",
   "metadata": {},
   "source": [
    "`3`. 아래는 1번의 결과로 얻어진 lst의 첫 10개의 원소와 마지막 10개의 원소이다. "
   ]
  },
  {
   "cell_type": "code",
   "execution_count": 141,
   "id": "032dbc8b-184d-45a7-9706-005ab51894e3",
   "metadata": {},
   "outputs": [
    {
     "data": {
      "text/plain": [
       "(['Abyssinian',\n",
       "  'Abyssinian',\n",
       "  'Abyssinian',\n",
       "  'Abyssinian',\n",
       "  'Abyssinian',\n",
       "  'Abyssinian',\n",
       "  'Abyssinian',\n",
       "  'Abyssinian',\n",
       "  'Abyssinian',\n",
       "  'Abyssinian'],\n",
       " ['yorkshireterrier',\n",
       "  'yorkshireterrier',\n",
       "  'yorkshireterrier',\n",
       "  'yorkshireterrier',\n",
       "  'yorkshireterrier',\n",
       "  'yorkshireterrier',\n",
       "  'yorkshireterrier',\n",
       "  'yorkshireterrier',\n",
       "  'yorkshireterrier',\n",
       "  'yorkshireterrier'])"
      ]
     },
     "execution_count": 141,
     "metadata": {},
     "output_type": "execute_result"
    }
   ],
   "source": [
    "lst[:10], lst[-10:]"
   ]
  },
  {
   "cell_type": "markdown",
   "id": "b91399ee-91fb-4997-8e05-33182920dde9",
   "metadata": {},
   "source": [
    "적당한 변환을 정의하여 lst를 아래와 같이 바꾸어라. "
   ]
  },
  {
   "cell_type": "code",
   "execution_count": 142,
   "id": "42461165-f847-4f1f-b7e7-d1f3e8dbebc8",
   "metadata": {},
   "outputs": [
    {
     "data": {
      "text/plain": [
       "(['cat', 'cat', 'cat', 'cat', 'cat', 'cat', 'cat', 'cat', 'cat', 'cat'],\n",
       " ['dog', 'dog', 'dog', 'dog', 'dog', 'dog', 'dog', 'dog', 'dog', 'dog'])"
      ]
     },
     "execution_count": 142,
     "metadata": {},
     "output_type": "execute_result"
    }
   ],
   "source": [
    "lst2[:10], lst2[-10:] # 바뀐 lst"
   ]
  },
  {
   "cell_type": "markdown",
   "id": "750919f7-235c-4aa3-a0dc-d56f2a87e709",
   "metadata": {},
   "source": [
    "(풀이1)"
   ]
  },
  {
   "cell_type": "code",
   "execution_count": 111,
   "id": "915b938f-c7a1-41b3-9040-86765656f455",
   "metadata": {},
   "outputs": [],
   "source": [
    "dct = {'cat':[s for s in set(lst) if s[0].isupper()], 'dog': [s for s in set(lst) if not s[0].isupper()]}\n",
    "lst2 = [k for l in lst for k,v in dct.items() if l in v]"
   ]
  },
  {
   "cell_type": "markdown",
   "id": "d904e1db-692b-418e-9b9c-25acffd4bcb5",
   "metadata": {},
   "source": [
    "(풀이2)"
   ]
  },
  {
   "cell_type": "code",
   "execution_count": 112,
   "id": "489d55e7-4e64-457e-9785-8a79784a327b",
   "metadata": {},
   "outputs": [],
   "source": [
    "def f(fname): \n",
    "    return 'cat' if fname[0].isupper() else 'dog'\n",
    "lst2= [f(fname) for fname in lst]"
   ]
  },
  {
   "cell_type": "markdown",
   "id": "55252506-a1b2-4ea4-8c75-a3ba939f8810",
   "metadata": {},
   "source": [
    "`4`. txt에는 강아지사진과 고양이사진이 모두 몇장씩 들어있는가? "
   ]
  },
  {
   "cell_type": "code",
   "execution_count": 145,
   "id": "9996a8a2-c5c8-49a0-9274-616ede24a547",
   "metadata": {},
   "outputs": [
    {
     "data": {
      "text/plain": [
       "{'dog': 4990, 'cat': 2403}"
      ]
     },
     "execution_count": 145,
     "metadata": {},
     "output_type": "execute_result"
    }
   ],
   "source": [
    "## 출력예시 "
   ]
  },
  {
   "cell_type": "markdown",
   "id": "175b810d-2536-4546-8613-aa78e479fa8b",
   "metadata": {},
   "source": [
    "(풀이) "
   ]
  },
  {
   "cell_type": "code",
   "execution_count": 114,
   "id": "1304dd80-a24f-404c-abd5-678e70f41280",
   "metadata": {},
   "outputs": [
    {
     "data": {
      "text/plain": [
       "{'dog': 4990, 'cat': 2403}"
      ]
     },
     "execution_count": 114,
     "metadata": {},
     "output_type": "execute_result"
    }
   ],
   "source": [
    "{k:lst2.count(k) for k in ['dog','cat']}"
   ]
  },
  {
   "cell_type": "markdown",
   "id": "7a6769f1-373d-4fc5-8295-55e98368597b",
   "metadata": {},
   "source": [
    "`5`. txt에 각 종별로 몇장의 사진이 있는지 조사하라."
   ]
  },
  {
   "cell_type": "code",
   "execution_count": 150,
   "id": "f5267271-179f-41ef-9682-b9e19b1fc222",
   "metadata": {},
   "outputs": [
    {
     "data": {
      "text/plain": [
       "{'beagle': 200,\n",
       " 'scottishterrier': 199,\n",
       " 'newfoundland': 200,\n",
       " 'Birman': 200,\n",
       " 'Bombay': 200,\n",
       " 'pug': 200,\n",
       " 'germanshorthaired': 200,\n",
       " 'samoyed': 200,\n",
       " 'Sphynx': 200,\n",
       " 'englishsetter': 200,\n",
       " 'Bengal': 200,\n",
       " 'MaineCoon': 200,\n",
       " 'Persian': 200,\n",
       " 'boxer': 200,\n",
       " 'staffordshirebullterrier': 191,\n",
       " 'Siamese': 200,\n",
       " 'bassethound': 200,\n",
       " 'wheatenterrier': 200,\n",
       " 'englishcockerspaniel': 200,\n",
       " 'Ragdoll': 200,\n",
       " 'yorkshireterrier': 200,\n",
       " 'EgyptianMau': 200,\n",
       " 'BritishShorthair': 200,\n",
       " 'keeshond': 200,\n",
       " 'RussianBlue': 200,\n",
       " 'saintbernard': 200,\n",
       " 'americanbulldog': 200,\n",
       " 'Abyssinian': 203,\n",
       " 'leonberger': 200,\n",
       " 'greatpyrenees': 200,\n",
       " 'japanesechin': 200,\n",
       " 'pomeranian': 200,\n",
       " 'chihuahua': 200,\n",
       " 'shibainu': 200,\n",
       " 'americanpitbullterrier': 200,\n",
       " 'miniaturepinscher': 200,\n",
       " 'havanese': 200}"
      ]
     },
     "execution_count": 150,
     "metadata": {},
     "output_type": "execute_result"
    }
   ],
   "source": [
    "## 출력예시"
   ]
  },
  {
   "cell_type": "markdown",
   "id": "2b952a98-b4f7-49cc-9404-e33e068d774e",
   "metadata": {},
   "source": [
    "(풀이)"
   ]
  },
  {
   "cell_type": "code",
   "execution_count": 117,
   "id": "88fd9c2e-c0f8-4840-a8c1-593a447f2e37",
   "metadata": {},
   "outputs": [
    {
     "data": {
      "text/plain": [
       "{'scottishterrier': 199,\n",
       " 'RussianBlue': 200,\n",
       " 'newfoundland': 200,\n",
       " 'samoyed': 200,\n",
       " 'Birman': 200,\n",
       " 'germanshorthaired': 200,\n",
       " 'japanesechin': 200,\n",
       " 'yorkshireterrier': 200,\n",
       " 'miniaturepinscher': 200,\n",
       " 'leonberger': 200,\n",
       " 'pomeranian': 200,\n",
       " 'pug': 200,\n",
       " 'Siamese': 200,\n",
       " 'beagle': 200,\n",
       " 'shibainu': 200,\n",
       " 'Sphynx': 200,\n",
       " 'staffordshirebullterrier': 191,\n",
       " 'MaineCoon': 200,\n",
       " 'americanbulldog': 200,\n",
       " 'chihuahua': 200,\n",
       " 'keeshond': 200,\n",
       " 'Bengal': 200,\n",
       " 'saintbernard': 200,\n",
       " 'greatpyrenees': 200,\n",
       " 'boxer': 200,\n",
       " 'englishcockerspaniel': 200,\n",
       " 'Ragdoll': 200,\n",
       " 'EgyptianMau': 200,\n",
       " 'BritishShorthair': 200,\n",
       " 'Persian': 200,\n",
       " 'Abyssinian': 203,\n",
       " 'englishsetter': 200,\n",
       " 'bassethound': 200,\n",
       " 'Bombay': 200,\n",
       " 'americanpitbullterrier': 200,\n",
       " 'havanese': 200,\n",
       " 'wheatenterrier': 200}"
      ]
     },
     "execution_count": 117,
     "metadata": {},
     "output_type": "execute_result"
    }
   ],
   "source": [
    "{k:lst.count(k) for k in set(lst)}"
   ]
  }
 ],
 "metadata": {
  "kernelspec": {
   "display_name": "Python 3 (ipykernel)",
   "language": "python",
   "name": "python3"
  },
  "language_info": {
   "codemirror_mode": {
    "name": "ipython",
    "version": 3
   },
   "file_extension": ".py",
   "mimetype": "text/x-python",
   "name": "python",
   "nbconvert_exporter": "python",
   "pygments_lexer": "ipython3",
   "version": "3.10.12"
  }
 },
 "nbformat": 4,
 "nbformat_minor": 5
}
