{
 "cells": [
  {
   "cell_type": "raw",
   "id": "40e1e0d5-4d54-4add-9150-0b5f42bb5b10",
   "metadata": {},
   "source": [
    "---\n",
    "title: \"Lesson 03: 파이썬 자료형 심화개념\"\n",
    "author: \"최규빈\"\n",
    "date: \"06/24/2023\"\n",
    "---"
   ]
  },
  {
   "cell_type": "markdown",
   "id": "3bc8755f-9b07-49a4-a6c5-0b17e333d2f5",
   "metadata": {},
   "source": [
    "# 컴프리헨션($\\star\\star\\star$)"
   ]
  },
  {
   "cell_type": "markdown",
   "id": "42180086-4b29-471e-a32d-79c3a9dee83d",
   "metadata": {},
   "source": [
    "## 컴프리헨션이 이해"
   ]
  },
  {
   "cell_type": "markdown",
   "id": "342bcca3-01f7-4f30-b760-9c2fe02fbd63",
   "metadata": {},
   "source": [
    "`-` 리스트 컴프리헨션을 이해하기 전에 for문에 대하여 알아보자. "
   ]
  },
  {
   "cell_type": "markdown",
   "id": "371a3516-0879-4226-aded-1c208f7d6494",
   "metadata": {},
   "source": [
    "[예비학습] `for`문 벼락치기"
   ]
  },
  {
   "cell_type": "markdown",
   "id": "c1deed1b-833b-4a28-a0d7-bd6fe4425e1d",
   "metadata": {},
   "source": [
    "프로그램안에서 반복해서 무엇인가를 하고싶다 $\\to$ for "
   ]
  },
  {
   "cell_type": "code",
   "execution_count": 371,
   "id": "1e40026d-0119-487f-9e2b-1e66d14467b7",
   "metadata": {
    "vscode": {
     "languageId": "python"
    }
   },
   "outputs": [
    {
     "name": "stdout",
     "output_type": "stream",
     "text": [
      "0\n",
      "1\n",
      "2\n",
      "3\n"
     ]
    }
   ],
   "source": [
    "for i in [0,1,2,3]: ## 반복실행계획\n",
    "    print(i) ## 반복실행할내용, 탭을이용하여 들여쓰기해야한다. "
   ]
  },
  {
   "cell_type": "markdown",
   "id": "7a52fef2-60b1-46c6-8f3e-bded7f7b03b7",
   "metadata": {},
   "source": [
    "(예제) 1,2,3,4의 합을 for문을 이용하여 구해보자. "
   ]
  },
  {
   "cell_type": "code",
   "execution_count": 115,
   "id": "72c0b9c9-66e9-4968-b0ec-02c76108ccd5",
   "metadata": {
    "vscode": {
     "languageId": "python"
    }
   },
   "outputs": [],
   "source": [
    "_sum = 0 \n",
    "for i in [1,2,3,4]:\n",
    "    _sum = _sum + i"
   ]
  },
  {
   "cell_type": "code",
   "execution_count": 364,
   "id": "180acb26-22df-4d65-87a0-ff469d6c692e",
   "metadata": {
    "vscode": {
     "languageId": "python"
    }
   },
   "outputs": [],
   "source": [
    "_sum = 0\n",
    "i=1 \n",
    "_sum = _sum + i ## 1 <= 0+1\n",
    "i=2\n",
    "_sum = _sum + i ## 3 <= 1+2 \n",
    "i=3 \n",
    "_sum = _sum + i ## 6 <= 3+3\n",
    "i=4\n",
    "_sum = _sum + i ## 10 <= 6+4 "
   ]
  },
  {
   "cell_type": "code",
   "execution_count": 365,
   "id": "c000fdb1-4cc0-449a-94a2-22a2e9ba09d8",
   "metadata": {
    "vscode": {
     "languageId": "python"
    }
   },
   "outputs": [
    {
     "data": {
      "text/plain": [
       "10"
      ]
     },
     "execution_count": 365,
     "metadata": {},
     "output_type": "execute_result"
    }
   ],
   "source": [
    "_sum"
   ]
  },
  {
   "cell_type": "markdown",
   "id": "a4c195ca-9c81-4941-b51b-e38ba0a477b0",
   "metadata": {},
   "source": [
    "예비학습끝"
   ]
  },
  {
   "cell_type": "markdown",
   "id": "cf436289-e0f5-4d1c-b71b-e621922f9142",
   "metadata": {},
   "source": [
    "`-` 예제: $2^0, 2^1, 2^2, 2^3$를 원소로 가지는 리스트를 생성하라. "
   ]
  },
  {
   "cell_type": "markdown",
   "id": "fe196f34-1fe2-4bf6-bdf6-0833d8041e33",
   "metadata": {},
   "source": [
    "(풀이1) 직접입력"
   ]
  },
  {
   "cell_type": "code",
   "execution_count": 119,
   "id": "8c0db9d4-c759-43dc-9363-bb577dfae8b5",
   "metadata": {
    "vscode": {
     "languageId": "python"
    }
   },
   "outputs": [
    {
     "data": {
      "text/plain": [
       "[1, 2, 4, 8]"
      ]
     },
     "execution_count": 119,
     "metadata": {},
     "output_type": "execute_result"
    }
   ],
   "source": [
    "x= [2**0, 2**1, 2**2, 2**3] \n",
    "x"
   ]
  },
  {
   "cell_type": "markdown",
   "id": "26848493-e099-4b67-a35d-5978bc6173eb",
   "metadata": {},
   "source": [
    "(풀이2) for문을 이용함 "
   ]
  },
  {
   "cell_type": "code",
   "execution_count": 129,
   "id": "f40cfb11-0193-49cb-8e18-72b70d51d2db",
   "metadata": {
    "vscode": {
     "languageId": "python"
    }
   },
   "outputs": [],
   "source": [
    "x=[] \n",
    "for i in [0,1,2,3]:\n",
    "    x.append(2**i) "
   ]
  },
  {
   "cell_type": "code",
   "execution_count": 130,
   "id": "a508f39c-c121-4da0-9a65-7d13a6ce0706",
   "metadata": {
    "vscode": {
     "languageId": "python"
    }
   },
   "outputs": [
    {
     "data": {
      "text/plain": [
       "[1, 2, 4, 8]"
      ]
     },
     "execution_count": 130,
     "metadata": {},
     "output_type": "execute_result"
    }
   ],
   "source": [
    "x"
   ]
  },
  {
   "cell_type": "markdown",
   "id": "08c67038-27c4-4a7d-a31f-9ff06846ef3e",
   "metadata": {},
   "source": [
    "(풀이3) for문을 이용함 "
   ]
  },
  {
   "cell_type": "code",
   "execution_count": 131,
   "id": "01c2ecde-0ce7-406a-87d3-d0c88f3f3866",
   "metadata": {
    "vscode": {
     "languageId": "python"
    }
   },
   "outputs": [],
   "source": [
    "x=[] \n",
    "for i in [0,1,2,3]:\n",
    "    x = x+[2**i]"
   ]
  },
  {
   "cell_type": "code",
   "execution_count": 132,
   "id": "391e0e0b-b292-42af-8079-20a564579497",
   "metadata": {
    "vscode": {
     "languageId": "python"
    }
   },
   "outputs": [
    {
     "data": {
      "text/plain": [
       "[1, 2, 4, 8]"
      ]
     },
     "execution_count": 132,
     "metadata": {},
     "output_type": "execute_result"
    }
   ],
   "source": [
    "x"
   ]
  },
  {
   "cell_type": "markdown",
   "id": "8e2e3202-6a71-4132-ae86-2c79413cce9f",
   "metadata": {},
   "source": [
    "(풀이4) for문을 이용함 "
   ]
  },
  {
   "cell_type": "code",
   "execution_count": 133,
   "id": "6ecdfba3-4928-4d57-86fb-25170c0d6778",
   "metadata": {
    "vscode": {
     "languageId": "python"
    }
   },
   "outputs": [],
   "source": [
    "x=[] \n",
    "for i in [0,1,2,3]:\n",
    "    x += [2**i]"
   ]
  },
  {
   "cell_type": "code",
   "execution_count": 134,
   "id": "43597a56-4c3e-475a-84bc-e065e0d7af5d",
   "metadata": {
    "vscode": {
     "languageId": "python"
    }
   },
   "outputs": [
    {
     "data": {
      "text/plain": [
       "[1, 2, 4, 8]"
      ]
     },
     "execution_count": 134,
     "metadata": {},
     "output_type": "execute_result"
    }
   ],
   "source": [
    "x"
   ]
  },
  {
   "cell_type": "markdown",
   "id": "dde031ef-31e7-4218-ae8c-b9d1acfa4f79",
   "metadata": {},
   "source": [
    "(풀이5) 리스트컴프리헨션을 이용한 풀이 "
   ]
  },
  {
   "cell_type": "code",
   "execution_count": 139,
   "id": "d92bc72b-74a2-4ef2-b1f1-cc9f1ff729a3",
   "metadata": {
    "vscode": {
     "languageId": "python"
    }
   },
   "outputs": [
    {
     "data": {
      "text/plain": [
       "[1, 2, 4, 8]"
      ]
     },
     "execution_count": 139,
     "metadata": {},
     "output_type": "execute_result"
    }
   ],
   "source": [
    "x= [2**i for i in [0,1,2,3]] \n",
    "x"
   ]
  },
  {
   "cell_type": "markdown",
   "id": "99fc2e96-f786-4f87-bbd0-da2a7b4073bc",
   "metadata": {},
   "source": [
    "`-` 리스트컴프리헨션의 문법 암기방법 \n",
    "\n",
    "- 집합에서 조건제시법을 연상 \n",
    "- $\\{2^0,2^1,2^2,2^3\\}=\\{2^i: \\text{ for } i = 0,1,2,3 \\}$"
   ]
  },
  {
   "cell_type": "markdown",
   "id": "72fd714f-b502-41c2-8adb-a7c618c8e377",
   "metadata": {},
   "source": [
    "`-` 리스트컴프리헨션이란? \n",
    "\n",
    "- 리스트를 매우 효율적으로 만드는 테크닉 \n",
    "- for문에 비하여 가지고 있는 장점: (1) 코드가 간결하다 (2) 빠르다 "
   ]
  },
  {
   "cell_type": "markdown",
   "id": "43a3918e-f029-47ea-8551-cf5d57c37c53",
   "metadata": {},
   "source": [
    "`-` 예제: 리스트 컴프리헨션을 이용하여 아래와 같은 리스트를 만들어라. "
   ]
  },
  {
   "cell_type": "code",
   "execution_count": 396,
   "id": "c19a888d-f265-49ed-871e-563ba40c2aef",
   "metadata": {
    "vscode": {
     "languageId": "python"
    }
   },
   "outputs": [
    {
     "data": {
      "text/plain": [
       "['SSSS', 'PPPP', 'AAAA', 'MMMM']"
      ]
     },
     "execution_count": 396,
     "metadata": {},
     "output_type": "execute_result"
    }
   ],
   "source": [
    "['SSSS','PPPP','AAAA','MMMM']"
   ]
  },
  {
   "cell_type": "markdown",
   "id": "2c7833ce-039f-49cb-8d31-ae9616126a08",
   "metadata": {},
   "source": [
    "(풀이)"
   ]
  },
  {
   "cell_type": "code",
   "execution_count": 397,
   "id": "a41bed13-7213-4127-90fa-3aae156a473e",
   "metadata": {
    "vscode": {
     "languageId": "python"
    }
   },
   "outputs": [
    {
     "data": {
      "text/plain": [
       "['SSSS', 'PPPP', 'AAAA', 'MMMM']"
      ]
     },
     "execution_count": 397,
     "metadata": {},
     "output_type": "execute_result"
    }
   ],
   "source": [
    "[i*4 for i in 'SPAM']"
   ]
  },
  {
   "cell_type": "markdown",
   "id": "eb93c126-6a72-4acb-81cf-7bb2e9d72fe0",
   "metadata": {},
   "source": [
    "`-` 예제: 리스트컴프리헨션을 이용하여 아래와 같은 리스트를 만들어라. "
   ]
  },
  {
   "cell_type": "code",
   "execution_count": 401,
   "id": "36646e84-d161-4669-9568-c9c3dd7874c1",
   "metadata": {
    "vscode": {
     "languageId": "python"
    }
   },
   "outputs": [
    {
     "data": {
      "text/plain": [
       "['X1', 'X2', 'X3', 'Y1', 'Y2', 'Y3']"
      ]
     },
     "execution_count": 401,
     "metadata": {},
     "output_type": "execute_result"
    }
   ],
   "source": [
    "['X1','X2','X3','Y1','Y2','Y3']"
   ]
  },
  {
   "cell_type": "markdown",
   "id": "2cd76f44-879b-4477-b19d-1c6c5bf1d8bd",
   "metadata": {},
   "source": [
    "(풀이) "
   ]
  },
  {
   "cell_type": "code",
   "execution_count": 405,
   "id": "82e9a8b9-42d2-4a51-afa0-5b2562c7bbca",
   "metadata": {
    "vscode": {
     "languageId": "python"
    }
   },
   "outputs": [
    {
     "data": {
      "text/plain": [
       "['X1', 'X2', 'X3', 'Y1', 'Y2', 'Y3']"
      ]
     },
     "execution_count": 405,
     "metadata": {},
     "output_type": "execute_result"
    }
   ],
   "source": [
    "[i+j for i in 'XY' for j in '123']"
   ]
  },
  {
   "cell_type": "markdown",
   "id": "0a71d6c7-73fb-49c6-8f68-c85c17410f16",
   "metadata": {},
   "source": [
    "`-` 예제: 리스트컴프리헨션을 이용하여 통계1,...,통계5,수학1,...,수학5를 만들어라. "
   ]
  },
  {
   "cell_type": "markdown",
   "id": "9e6fa5cb-279d-40b4-8f23-b0ecf221bfd6",
   "metadata": {},
   "source": [
    "(풀이) "
   ]
  },
  {
   "cell_type": "code",
   "execution_count": 407,
   "id": "02b8af1e-ddea-4894-821a-4cbfe2206c91",
   "metadata": {
    "vscode": {
     "languageId": "python"
    }
   },
   "outputs": [
    {
     "data": {
      "text/plain": [
       "['stat1',\n",
       " 'stat2',\n",
       " 'stat3',\n",
       " 'stat4',\n",
       " 'stat5',\n",
       " 'math1',\n",
       " 'math2',\n",
       " 'math3',\n",
       " 'math4',\n",
       " 'math5']"
      ]
     },
     "execution_count": 407,
     "metadata": {},
     "output_type": "execute_result"
    }
   ],
   "source": [
    "[x+y for x in ['stat','math'] for y in '12345'] "
   ]
  },
  {
   "cell_type": "markdown",
   "id": "a6f7a499-ef0b-4e7b-a3a9-c9655ab7bdfb",
   "metadata": {},
   "source": [
    "- $\\{xy : x \\in \\{{\\tt stat},{\\tt math}\\}, y \\in \\{1,2,3,4,5\\} \\}$ "
   ]
  },
  {
   "cell_type": "markdown",
   "id": "43b7dcb4-d875-41f4-b96a-6380585bf91f",
   "metadata": {},
   "source": [
    "(다른풀이) 참고로 for문을 쓰면 좀 복잡해진다. "
   ]
  },
  {
   "cell_type": "code",
   "execution_count": 409,
   "id": "d7858e41-23d7-4be9-b676-dabef15eaad4",
   "metadata": {
    "vscode": {
     "languageId": "python"
    }
   },
   "outputs": [],
   "source": [
    "_lst = [] \n",
    "for x in ['stat','math']: \n",
    "    for y in '12345': \n",
    "        _lst = _lst + [x+y] "
   ]
  },
  {
   "cell_type": "code",
   "execution_count": 410,
   "id": "be016bd1-2064-4768-bc5f-e734443dc200",
   "metadata": {
    "vscode": {
     "languageId": "python"
    }
   },
   "outputs": [
    {
     "data": {
      "text/plain": [
       "['stat1',\n",
       " 'stat2',\n",
       " 'stat3',\n",
       " 'stat4',\n",
       " 'stat5',\n",
       " 'math1',\n",
       " 'math2',\n",
       " 'math3',\n",
       " 'math4',\n",
       " 'math5']"
      ]
     },
     "execution_count": 410,
     "metadata": {},
     "output_type": "execute_result"
    }
   ],
   "source": [
    "_lst "
   ]
  },
  {
   "cell_type": "markdown",
   "id": "8e032a83-709f-4d31-a0fc-28e553f64e0a",
   "metadata": {},
   "source": [
    "`-` 예제: 'jbnu'를 이용하여 아래와 같은 리스트를 만들어라. (리스트컴프리헨션을 이용할것) "
   ]
  },
  {
   "cell_type": "code",
   "execution_count": 152,
   "id": "e148b0cd-6bc3-46cb-90f2-cee2d77a2b1f",
   "metadata": {
    "vscode": {
     "languageId": "python"
    }
   },
   "outputs": [
    {
     "data": {
      "text/plain": [
       "['j', 'b', 'n', 'u']"
      ]
     },
     "execution_count": 152,
     "metadata": {},
     "output_type": "execute_result"
    }
   ],
   "source": [
    "['j','b','n','u']"
   ]
  },
  {
   "cell_type": "markdown",
   "id": "8b7490cc-e8cd-492c-be21-a39d6356ab45",
   "metadata": {},
   "source": [
    "(다른풀이) 아래와 같이 풀면 된다는것은 알고 있음  "
   ]
  },
  {
   "cell_type": "code",
   "execution_count": 415,
   "id": "dcbb0096-8052-4880-92f0-3952419458f4",
   "metadata": {
    "vscode": {
     "languageId": "python"
    }
   },
   "outputs": [
    {
     "data": {
      "text/plain": [
       "['j', 'b', 'n', 'u']"
      ]
     },
     "execution_count": 415,
     "metadata": {},
     "output_type": "execute_result"
    }
   ],
   "source": [
    "list('jbnu')"
   ]
  },
  {
   "cell_type": "markdown",
   "id": "0d5f0926-b94f-4800-a7c7-0c1415975555",
   "metadata": {},
   "source": [
    "(풀이) "
   ]
  },
  {
   "cell_type": "code",
   "execution_count": 418,
   "id": "9b5465b4-f827-42fd-a37f-759956fda290",
   "metadata": {
    "vscode": {
     "languageId": "python"
    }
   },
   "outputs": [
    {
     "data": {
      "text/plain": [
       "['j', 'b', 'n', 'u']"
      ]
     },
     "execution_count": 418,
     "metadata": {},
     "output_type": "execute_result"
    }
   ],
   "source": [
    "[x for x in 'jbnu']"
   ]
  },
  {
   "cell_type": "markdown",
   "id": "1d9ccd82-76b8-4131-91c4-ff091a1af1d8",
   "metadata": {},
   "source": [
    "`-` 예제: x에는 무엇이 있을까? "
   ]
  },
  {
   "cell_type": "markdown",
   "id": "8ab61365-d071-4be3-a1da-98751833009a",
   "metadata": {},
   "source": [
    "(경우1)"
   ]
  },
  {
   "cell_type": "code",
   "execution_count": 423,
   "id": "67ad1501-9476-42a9-ae4c-96d793067ff9",
   "metadata": {
    "vscode": {
     "languageId": "python"
    }
   },
   "outputs": [
    {
     "data": {
      "text/plain": [
       "['j', 'b', 'n', 'u']"
      ]
     },
     "execution_count": 423,
     "metadata": {},
     "output_type": "execute_result"
    }
   ],
   "source": [
    "x=1 \n",
    "lst = [] \n",
    "for x in 'jbnu': \n",
    "    lst = lst + [x]\n",
    "lst    "
   ]
  },
  {
   "cell_type": "code",
   "execution_count": 424,
   "id": "73cc6150-d782-4b21-90fd-518e087d187b",
   "metadata": {
    "vscode": {
     "languageId": "python"
    }
   },
   "outputs": [
    {
     "data": {
      "text/plain": [
       "'u'"
      ]
     },
     "execution_count": 424,
     "metadata": {},
     "output_type": "execute_result"
    }
   ],
   "source": [
    "x "
   ]
  },
  {
   "cell_type": "markdown",
   "id": "05ff4ff3-074f-45fd-94d7-d88ae3720bd3",
   "metadata": {},
   "source": [
    "(경우2)"
   ]
  },
  {
   "cell_type": "code",
   "execution_count": 425,
   "id": "105ba2d0-8f8d-4ef1-9d16-6f7ca08ab649",
   "metadata": {
    "vscode": {
     "languageId": "python"
    }
   },
   "outputs": [
    {
     "data": {
      "text/plain": [
       "['j', 'b', 'n', 'u']"
      ]
     },
     "execution_count": 425,
     "metadata": {},
     "output_type": "execute_result"
    }
   ],
   "source": [
    "x=1 \n",
    "lst = [x for x in 'jbnu'] \n",
    "lst "
   ]
  },
  {
   "cell_type": "code",
   "execution_count": 426,
   "id": "234ca9b3-c917-4869-b3a4-4ba96916393c",
   "metadata": {
    "vscode": {
     "languageId": "python"
    }
   },
   "outputs": [
    {
     "data": {
      "text/plain": [
       "1"
      ]
     },
     "execution_count": 426,
     "metadata": {},
     "output_type": "execute_result"
    }
   ],
   "source": [
    "x"
   ]
  },
  {
   "cell_type": "markdown",
   "id": "407dac03-8bcc-41e0-af2b-b86d0c20e9d0",
   "metadata": {},
   "source": [
    "- 진짜 미묘하게 다르죠? "
   ]
  },
  {
   "cell_type": "markdown",
   "id": "7746c018-f85a-4c30-b7a9-86f764f006e7",
   "metadata": {},
   "source": [
    "`-` 예제: [X1,X2,X3,...,X100]와 같은 리스트를 만들어보라. "
   ]
  },
  {
   "cell_type": "markdown",
   "id": "eb9aa877-fad2-4758-9555-01ea573cd03d",
   "metadata": {},
   "source": [
    "(풀이) "
   ]
  },
  {
   "cell_type": "code",
   "execution_count": 431,
   "id": "6cbbc674-b4db-4b84-a83f-fb0422617505",
   "metadata": {
    "vscode": {
     "languageId": "python"
    }
   },
   "outputs": [
    {
     "data": {
      "text/plain": [
       "['X1', 'X2', 'X3', 'X4']"
      ]
     },
     "execution_count": 431,
     "metadata": {},
     "output_type": "execute_result"
    }
   ],
   "source": [
    "['X'+str(i) for i in [1,2,3,4]] ## 이걸 4까지가 아니라 100까지 써야함"
   ]
  },
  {
   "cell_type": "code",
   "execution_count": 432,
   "id": "81ec46a1-290a-4c9e-88e5-8796192c6afe",
   "metadata": {
    "vscode": {
     "languageId": "python"
    }
   },
   "outputs": [
    {
     "ename": "SyntaxError",
     "evalue": "invalid syntax (<ipython-input-432-4555f37f5468>, line 1)",
     "output_type": "error",
     "traceback": [
      "\u001b[0;36m  Input \u001b[0;32mIn [432]\u001b[0;36m\u001b[0m\n\u001b[0;31m    ['X'+str(i) for i in 1:100]\u001b[0m\n\u001b[0m                          ^\u001b[0m\n\u001b[0;31mSyntaxError\u001b[0m\u001b[0;31m:\u001b[0m invalid syntax\n"
     ]
    }
   ],
   "source": [
    "['X'+str(i) for i in 1:100]"
   ]
  },
  {
   "cell_type": "markdown",
   "id": "78760596-b81b-46aa-8052-72e1322ffe87",
   "metadata": {},
   "source": [
    "[예비학습]"
   ]
  },
  {
   "cell_type": "code",
   "execution_count": 434,
   "id": "23b7b5b7-dff8-416f-af92-66b52617c6dc",
   "metadata": {
    "vscode": {
     "languageId": "python"
    }
   },
   "outputs": [
    {
     "data": {
      "text/plain": [
       "range(0, 10)"
      ]
     },
     "execution_count": 434,
     "metadata": {},
     "output_type": "execute_result"
    }
   ],
   "source": [
    "range(0,10)"
   ]
  },
  {
   "cell_type": "markdown",
   "id": "27f21073-8bac-430c-95f6-ae5c7d61b62d",
   "metadata": {},
   "source": [
    "- 이게뭐야? "
   ]
  },
  {
   "cell_type": "code",
   "execution_count": 438,
   "id": "1865c296-cacf-4325-aac2-c01e8d8a6810",
   "metadata": {
    "vscode": {
     "languageId": "python"
    }
   },
   "outputs": [
    {
     "data": {
      "text/plain": [
       "\u001b[0;31mType:\u001b[0m        range\n",
       "\u001b[0;31mString form:\u001b[0m range(0, 10)\n",
       "\u001b[0;31mLength:\u001b[0m      10\n",
       "\u001b[0;31mDocstring:\u001b[0m  \n",
       "range(stop) -> range object\n",
       "range(start, stop[, step]) -> range object\n",
       "\n",
       "Return an object that produces a sequence of integers from start (inclusive)\n",
       "to stop (exclusive) by step.  range(i, j) produces i, i+1, i+2, ..., j-1.\n",
       "start defaults to 0, and stop is omitted!  range(4) produces 0, 1, 2, 3.\n",
       "These are exactly the valid indices for a list of 4 elements.\n",
       "When step is given, it specifies the increment (or decrement).\n"
      ]
     },
     "metadata": {},
     "output_type": "display_data"
    }
   ],
   "source": [
    "_tmp = range(0,10)\n",
    "_tmp?"
   ]
  },
  {
   "cell_type": "markdown",
   "id": "46a49d8f-0cec-484d-a04d-e88a1483dfa6",
   "metadata": {},
   "source": [
    "- 우리가 아는 범위에서는 모르겠음.. 이런게 있나보다 하고 넘어가야 하겠음 "
   ]
  },
  {
   "cell_type": "code",
   "execution_count": 448,
   "id": "f2bc2ac9-f00b-4e17-87ce-9a4e56b9d8e6",
   "metadata": {
    "vscode": {
     "languageId": "python"
    }
   },
   "outputs": [
    {
     "data": {
      "text/plain": [
       "[0, 1, 2, 3, 4, 5, 6, 7, 8, 9]"
      ]
     },
     "execution_count": 448,
     "metadata": {},
     "output_type": "execute_result"
    }
   ],
   "source": [
    "list(range(0,10)) # 0을 포함, 10을 미포함 "
   ]
  },
  {
   "cell_type": "markdown",
   "id": "531a1eaa-5344-4e01-a595-012a5ddedb65",
   "metadata": {},
   "source": [
    "- 이게 중요한것임. range(0,10)를 리스트화시키면 [0,1,2,...,9] 와 같은 리스트를 얻을 수 있음.  "
   ]
  },
  {
   "cell_type": "code",
   "execution_count": 453,
   "id": "b776b64d-7451-4c31-bccf-6927157123c5",
   "metadata": {
    "vscode": {
     "languageId": "python"
    }
   },
   "outputs": [
    {
     "data": {
      "text/plain": [
       "[0, 1, 2, 3, 4, 5, 6, 7, 8, 9]"
      ]
     },
     "execution_count": 453,
     "metadata": {},
     "output_type": "execute_result"
    }
   ],
   "source": [
    "list(range(10)) # 0은 생략가능"
   ]
  },
  {
   "cell_type": "code",
   "execution_count": 452,
   "id": "a5dcf524-54c1-4340-aa32-b42fe9c3d53a",
   "metadata": {
    "vscode": {
     "languageId": "python"
    }
   },
   "outputs": [
    {
     "data": {
      "text/plain": [
       "[2, 3, 4, 5, 6, 7, 8, 9]"
      ]
     },
     "execution_count": 452,
     "metadata": {},
     "output_type": "execute_result"
    }
   ],
   "source": [
    "list(range(2,10)) # 2는 포함, 10은 미포함 "
   ]
  },
  {
   "cell_type": "code",
   "execution_count": 455,
   "id": "c6cb3b6d-e795-475c-8430-79b50f1e602f",
   "metadata": {
    "vscode": {
     "languageId": "python"
    }
   },
   "outputs": [
    {
     "data": {
      "text/plain": [
       "[1, 3, 5, 7, 9]"
      ]
     },
     "execution_count": 455,
     "metadata": {},
     "output_type": "execute_result"
    }
   ],
   "source": [
    "list(range(1,10,2)) # 2는 포함, 10은 미포함 "
   ]
  },
  {
   "cell_type": "markdown",
   "id": "af3ce9d8-d9b3-45d3-839a-be3f7017b4de",
   "metadata": {},
   "source": [
    "예비학습 끝 "
   ]
  },
  {
   "cell_type": "code",
   "execution_count": 460,
   "id": "fdd1bf50-bce9-4bd1-a3fd-bab4ab9d7744",
   "metadata": {
    "vscode": {
     "languageId": "python"
    }
   },
   "outputs": [
    {
     "data": {
      "text/plain": [
       "['X1', 'X2', 'X3', 'X4', 'X5', 'X6', 'X7', 'X8', 'X9', 'X10', 'X11', 'X12']"
      ]
     },
     "execution_count": 460,
     "metadata": {},
     "output_type": "execute_result"
    }
   ],
   "source": [
    "['X'+str(i) for i in list(range(1,13))] ## 출력결과가 너무 기니까 101대신에 13으로 변경 "
   ]
  },
  {
   "cell_type": "markdown",
   "id": "a7afaf81-9105-44eb-83de-c6c49fa282e7",
   "metadata": {},
   "source": [
    "(아래와 같은 풀이도 가능) "
   ]
  },
  {
   "cell_type": "code",
   "execution_count": 466,
   "id": "219a3752-8625-48a7-9fad-1d6c6d7074b7",
   "metadata": {
    "vscode": {
     "languageId": "python"
    }
   },
   "outputs": [
    {
     "data": {
      "text/plain": [
       "['X1', 'X2', 'X3', 'X4', 'X5', 'X6', 'X7', 'X8', 'X9', 'X10', 'X11', 'X12']"
      ]
     },
     "execution_count": 466,
     "metadata": {},
     "output_type": "execute_result"
    }
   ],
   "source": [
    "['X'+str(i) for i in range(1,13)] ## 출력결과가 너무 기니까 101대신에 13으로 변경 "
   ]
  },
  {
   "cell_type": "markdown",
   "id": "64ebdff7-b70c-41f9-8d22-b95ce7d06bbf",
   "metadata": {},
   "source": [
    "(딴생각) 생각해보니까 for문 뒤에 올 수 있는것이 무엇인지 생각하는것도 흥미로울듯 "
   ]
  },
  {
   "cell_type": "code",
   "execution_count": 467,
   "id": "ec43d441-cad2-484c-953a-5a832e53d80e",
   "metadata": {
    "vscode": {
     "languageId": "python"
    }
   },
   "outputs": [
    {
     "name": "stdout",
     "output_type": "stream",
     "text": [
      "1\n",
      "2\n",
      "3\n",
      "4\n"
     ]
    }
   ],
   "source": [
    "for i in '1234':\n",
    "    print(i)"
   ]
  },
  {
   "cell_type": "code",
   "execution_count": 468,
   "id": "b3f5e031-d22a-4713-9531-221f8e0af1c7",
   "metadata": {
    "vscode": {
     "languageId": "python"
    }
   },
   "outputs": [
    {
     "name": "stdout",
     "output_type": "stream",
     "text": [
      "1\n",
      "2\n",
      "3\n",
      "4\n"
     ]
    }
   ],
   "source": [
    "for i in [1,2,3,4]:\n",
    "    print(i)"
   ]
  },
  {
   "cell_type": "code",
   "execution_count": 470,
   "id": "fbd579bc-bc31-483a-bb5c-8f0d3ceea1d1",
   "metadata": {
    "vscode": {
     "languageId": "python"
    }
   },
   "outputs": [
    {
     "name": "stdout",
     "output_type": "stream",
     "text": [
      "1\n",
      "2\n",
      "3\n",
      "4\n"
     ]
    }
   ],
   "source": [
    "for i in (1,2,3,4): # (1,2,3,4)는 튜플\n",
    "    print(i)"
   ]
  },
  {
   "cell_type": "code",
   "execution_count": 474,
   "id": "5b8e0670-f8cf-4111-9ab2-0c8467d2b9d9",
   "metadata": {
    "vscode": {
     "languageId": "python"
    }
   },
   "outputs": [
    {
     "name": "stdout",
     "output_type": "stream",
     "text": [
      "1\n",
      "2\n",
      "3\n",
      "4\n"
     ]
    }
   ],
   "source": [
    "for i in {1,2,3,4}: # {1,2,3,4}는 set \n",
    "    print(i)"
   ]
  },
  {
   "cell_type": "code",
   "execution_count": 476,
   "id": "7f9dfedf-c2bb-455b-933a-07a40086bb88",
   "metadata": {
    "vscode": {
     "languageId": "python"
    }
   },
   "outputs": [
    {
     "name": "stdout",
     "output_type": "stream",
     "text": [
      "name\n",
      "age\n"
     ]
    }
   ],
   "source": [
    "for i in {'name':'iu','age':28}: #{'name':'iu','age':28} 는 딕셔너리\n",
    "    print(i)"
   ]
  },
  {
   "cell_type": "code",
   "execution_count": 479,
   "id": "518943d8-4b99-48a2-96ea-f84eeb89d81d",
   "metadata": {
    "vscode": {
     "languageId": "python"
    }
   },
   "outputs": [
    {
     "name": "stdout",
     "output_type": "stream",
     "text": [
      "1\n",
      "2\n",
      "3\n",
      "4\n"
     ]
    }
   ],
   "source": [
    "for i in range(1,5): \n",
    "    print(i)"
   ]
  },
  {
   "cell_type": "markdown",
   "id": "cba3179a-1d7d-4b51-9407-7c7559443fe9",
   "metadata": {},
   "source": [
    "## if문이 포함된 컴프리헨션"
   ]
  },
  {
   "cell_type": "markdown",
   "id": "403a1cab-5f9f-4413-92bc-edb5ecf934c3",
   "metadata": {},
   "source": [
    "`-` 예제: 제곱수중에서 12로 나누어 떨어지는 수만 원소로 가지는 리스트를 만들고 싶다. \n",
    "\n",
    "- 제곱수: 1,4,9,16,25,36, ... \n",
    "- 12로 나누어 떨어지는 수: 36, ... "
   ]
  },
  {
   "cell_type": "markdown",
   "id": "4dcf755a-76d0-42b8-bbc6-dc132d8296aa",
   "metadata": {},
   "source": [
    "(예비학습)"
   ]
  },
  {
   "cell_type": "code",
   "execution_count": 30,
   "id": "4ae21e93-ff53-488b-8551-1d867810b3d0",
   "metadata": {
    "vscode": {
     "languageId": "python"
    }
   },
   "outputs": [
    {
     "data": {
      "text/plain": [
       "0"
      ]
     },
     "execution_count": 30,
     "metadata": {},
     "output_type": "execute_result"
    }
   ],
   "source": [
    "12 % 4 # %는 나머지를 계산하는 연산자, 12를 4로 나누면 나머지가 0"
   ]
  },
  {
   "cell_type": "code",
   "execution_count": 31,
   "id": "c76cd88d-0ddc-40eb-a210-6a9ed275db4d",
   "metadata": {
    "vscode": {
     "languageId": "python"
    }
   },
   "outputs": [
    {
     "data": {
      "text/plain": [
       "2"
      ]
     },
     "execution_count": 31,
     "metadata": {},
     "output_type": "execute_result"
    }
   ],
   "source": [
    "12 % 5 # %는 나머지를 계산하는 연산자, 12를 5로 나누면 나머지가 2"
   ]
  },
  {
   "cell_type": "markdown",
   "id": "1c6dcd10-564f-43f0-938d-a55ad1cd6844",
   "metadata": {},
   "source": [
    "(풀이1)"
   ]
  },
  {
   "cell_type": "code",
   "execution_count": 32,
   "id": "3bfddd4d-b31d-41c5-b40b-1a57e6fbb8d0",
   "metadata": {
    "vscode": {
     "languageId": "python"
    }
   },
   "outputs": [],
   "source": [
    "lst = [] \n",
    "for i in range(1,101): \n",
    "    if (i**2 % 12 == 0): \n",
    "        lst.append(i**2)"
   ]
  },
  {
   "cell_type": "code",
   "execution_count": 33,
   "id": "6192cc6a-98c5-4c1b-8327-b829e43de47c",
   "metadata": {
    "vscode": {
     "languageId": "python"
    }
   },
   "outputs": [
    {
     "data": {
      "text/plain": [
       "[36,\n",
       " 144,\n",
       " 324,\n",
       " 576,\n",
       " 900,\n",
       " 1296,\n",
       " 1764,\n",
       " 2304,\n",
       " 2916,\n",
       " 3600,\n",
       " 4356,\n",
       " 5184,\n",
       " 6084,\n",
       " 7056,\n",
       " 8100,\n",
       " 9216]"
      ]
     },
     "execution_count": 33,
     "metadata": {},
     "output_type": "execute_result"
    }
   ],
   "source": [
    "lst"
   ]
  },
  {
   "cell_type": "markdown",
   "id": "f9b9287a-8d69-48d3-99c5-d5adda661eff",
   "metadata": {},
   "source": [
    "(풀이2)"
   ]
  },
  {
   "cell_type": "code",
   "execution_count": 34,
   "id": "b6b258d0-ce28-42bf-b69b-2bc42abd7fa3",
   "metadata": {
    "vscode": {
     "languageId": "python"
    }
   },
   "outputs": [
    {
     "data": {
      "text/plain": [
       "[36,\n",
       " 144,\n",
       " 324,\n",
       " 576,\n",
       " 900,\n",
       " 1296,\n",
       " 1764,\n",
       " 2304,\n",
       " 2916,\n",
       " 3600,\n",
       " 4356,\n",
       " 5184,\n",
       " 6084,\n",
       " 7056,\n",
       " 8100,\n",
       " 9216]"
      ]
     },
     "execution_count": 34,
     "metadata": {},
     "output_type": "execute_result"
    }
   ],
   "source": [
    "[i**2 for i in range(1,101) if (i**2 % 12 == 0)]"
   ]
  },
  {
   "cell_type": "markdown",
   "id": "68b46159-8e8d-4675-ad77-b5a14fbbd62a",
   "metadata": {},
   "source": [
    "# 튜플고급 "
   ]
  },
  {
   "cell_type": "markdown",
   "id": "42d77399-5df7-4721-8986-b843dad12a69",
   "metadata": {},
   "source": [
    "## 튜플을 왜 쓰지? (1)\n",
    "\n",
    "***그냥 리스트를 쓰면 되는거 아닌가 하는 생각이 듭니다. 그냥 튜플은 값이 바뀌지 않는 리스트 느낌. 이게 왜 쓸모있지?***\n",
    "\n",
    "- 책의설명: 코딩을 하다보면 값을 바꾸지 말아야 할 것을 실수로 값을 바꾸는 경우가 있음. 이런 실수를 방지할 수 있다. \n",
    "- shallow copy/deep copy 에 대한 개념을 모르면 생기는 여러가지 side effect이 있음. 이러한 side effect을 막을 수 있는 무기임."
   ]
  },
  {
   "cell_type": "markdown",
   "id": "13cd23bb-3628-41f6-8c6b-4a8f303df644",
   "metadata": {},
   "source": [
    "## 상황1: 다중출력(?)"
   ]
  },
  {
   "cell_type": "markdown",
   "id": "418bbd69-01cd-4919-88ad-19d97be7efec",
   "metadata": {},
   "source": [
    "`-` 예제: 여러변수를 동시에 출력하고 싶을 경우 (다중출력?)"
   ]
  },
  {
   "cell_type": "markdown",
   "id": "c950e4d1-6a3a-4bff-a45c-6c26a4275234",
   "metadata": {},
   "source": [
    "변수를 아래와 같이 선언하였다고 하자. "
   ]
  },
  {
   "cell_type": "code",
   "execution_count": 1,
   "id": "06b07675-fb6b-4fdb-b776-873266cb3bfa",
   "metadata": {
    "vscode": {
     "languageId": "python"
    }
   },
   "outputs": [],
   "source": [
    "a=1\n",
    "b=2\n",
    "c=3 "
   ]
  },
  {
   "cell_type": "markdown",
   "id": "91a77178-ff2f-4460-a0da-ad9f11ea0c1e",
   "metadata": {},
   "source": [
    "선언된 값을 확인하려면? "
   ]
  },
  {
   "cell_type": "code",
   "execution_count": 3,
   "id": "1a22ae5d-f779-4312-865b-49ce517af076",
   "metadata": {
    "vscode": {
     "languageId": "python"
    }
   },
   "outputs": [
    {
     "data": {
      "text/plain": [
       "1"
      ]
     },
     "execution_count": 3,
     "metadata": {},
     "output_type": "execute_result"
    }
   ],
   "source": [
    "a"
   ]
  },
  {
   "cell_type": "code",
   "execution_count": 4,
   "id": "dc70571e-9548-4daf-8330-2c0a016946cb",
   "metadata": {
    "vscode": {
     "languageId": "python"
    }
   },
   "outputs": [
    {
     "data": {
      "text/plain": [
       "2"
      ]
     },
     "execution_count": 4,
     "metadata": {},
     "output_type": "execute_result"
    }
   ],
   "source": [
    "b"
   ]
  },
  {
   "cell_type": "code",
   "execution_count": 5,
   "id": "ae1069c3-b5f0-42d3-b22e-b5e48bf1e5ec",
   "metadata": {
    "vscode": {
     "languageId": "python"
    }
   },
   "outputs": [
    {
     "data": {
      "text/plain": [
       "3"
      ]
     },
     "execution_count": 5,
     "metadata": {},
     "output_type": "execute_result"
    }
   ],
   "source": [
    "c"
   ]
  },
  {
   "cell_type": "markdown",
   "id": "50183edd-627f-4ff1-a49a-c34efcc851e2",
   "metadata": {},
   "source": [
    "튜플을 이용하면? "
   ]
  },
  {
   "cell_type": "code",
   "execution_count": 51,
   "id": "2c01c0f1-b1a7-4de1-8ee6-77e6f1b0d88e",
   "metadata": {
    "vscode": {
     "languageId": "python"
    }
   },
   "outputs": [
    {
     "data": {
      "text/plain": [
       "(1, 2, 3)"
      ]
     },
     "execution_count": 51,
     "metadata": {},
     "output_type": "execute_result"
    }
   ],
   "source": [
    "a,b,c # 괄호하나 생략하는것이 이렇게 편하다.."
   ]
  },
  {
   "cell_type": "markdown",
   "id": "f3e2b858-655d-4e4e-85e0-8db16132c6c5",
   "metadata": {},
   "source": [
    "## 상황2: 다중할당 "
   ]
  },
  {
   "cell_type": "markdown",
   "id": "1df92f3b-69c6-471e-8c46-3956c2f9ebe5",
   "metadata": {},
   "source": [
    "`-` 예제: 다중할당1 (여러개의 변수를 동시에 선언하고 싶을 경우) "
   ]
  },
  {
   "cell_type": "code",
   "execution_count": 52,
   "id": "ded4b0c2-d334-49e3-96a8-738a7853a146",
   "metadata": {
    "vscode": {
     "languageId": "python"
    }
   },
   "outputs": [],
   "source": [
    "name, age, sex, height, weight = 'Tom', 20, 'M', 180, 70 "
   ]
  },
  {
   "cell_type": "code",
   "execution_count": 54,
   "id": "c8937e3b-ebba-495f-8be2-daa5d716a567",
   "metadata": {
    "vscode": {
     "languageId": "python"
    }
   },
   "outputs": [
    {
     "data": {
      "text/plain": [
       "('Tom', 20, 'M', 180, 70)"
      ]
     },
     "execution_count": 54,
     "metadata": {},
     "output_type": "execute_result"
    }
   ],
   "source": [
    "name, age, sex, height, weight"
   ]
  },
  {
   "cell_type": "code",
   "execution_count": 56,
   "id": "6ebffec9-945a-490f-b4f3-fbef20b804f4",
   "metadata": {
    "vscode": {
     "languageId": "python"
    }
   },
   "outputs": [
    {
     "data": {
      "text/plain": [
       "180"
      ]
     },
     "execution_count": 56,
     "metadata": {},
     "output_type": "execute_result"
    }
   ],
   "source": [
    "height"
   ]
  },
  {
   "cell_type": "markdown",
   "id": "9424b936-8ec7-40b7-992d-864de00ae96a",
   "metadata": {},
   "source": [
    "`-` 예제: 다중할당2, 위도와 경도"
   ]
  },
  {
   "cell_type": "code",
   "execution_count": 2,
   "id": "efe1cb3c-1ca5-4ece-805e-346722ce59f2",
   "metadata": {
    "vscode": {
     "languageId": "python"
    }
   },
   "outputs": [
    {
     "data": {
      "text/plain": [
       "(37, 127)"
      ]
     },
     "execution_count": 2,
     "metadata": {},
     "output_type": "execute_result"
    }
   ],
   "source": [
    "coor = (37,127) # 서울 \n",
    "coor"
   ]
  },
  {
   "cell_type": "code",
   "execution_count": 3,
   "id": "e2bae1a1-b352-484d-a2c8-a130f792325e",
   "metadata": {
    "vscode": {
     "languageId": "python"
    }
   },
   "outputs": [],
   "source": [
    "lat, lon = coor"
   ]
  },
  {
   "cell_type": "code",
   "execution_count": 4,
   "id": "49572a0d-43b0-4bd7-96af-104ca3575c19",
   "metadata": {
    "vscode": {
     "languageId": "python"
    }
   },
   "outputs": [
    {
     "data": {
      "text/plain": [
       "37"
      ]
     },
     "execution_count": 4,
     "metadata": {},
     "output_type": "execute_result"
    }
   ],
   "source": [
    "lat "
   ]
  },
  {
   "cell_type": "code",
   "execution_count": 5,
   "id": "4d93fd46-72a4-4a56-936a-98712fde2d50",
   "metadata": {
    "vscode": {
     "languageId": "python"
    }
   },
   "outputs": [
    {
     "data": {
      "text/plain": [
       "127"
      ]
     },
     "execution_count": 5,
     "metadata": {},
     "output_type": "execute_result"
    }
   ],
   "source": [
    "lon"
   ]
  },
  {
   "cell_type": "markdown",
   "id": "e2bde6dd-0151-4ba9-bdf0-d8d68fb46ff4",
   "metadata": {},
   "source": [
    "`-` 잠깐만: 다중할당은 꼭 튜플에서만 가능한가? "
   ]
  },
  {
   "cell_type": "markdown",
   "id": "e4fda221-698f-46af-9692-becf63441a6d",
   "metadata": {},
   "source": [
    "그건 아니다... "
   ]
  },
  {
   "cell_type": "code",
   "execution_count": 70,
   "id": "e820ce8c-443d-440f-a29b-633d0597cd45",
   "metadata": {
    "vscode": {
     "languageId": "python"
    }
   },
   "outputs": [
    {
     "data": {
      "text/plain": [
       "(1, 2, 3)"
      ]
     },
     "execution_count": 70,
     "metadata": {},
     "output_type": "execute_result"
    }
   ],
   "source": [
    "[x,y,z] = [1,2,3] \n",
    "x,y,z # 다중출력 "
   ]
  },
  {
   "cell_type": "code",
   "execution_count": 71,
   "id": "aa9d1836-20ed-4220-a733-024f73e60985",
   "metadata": {
    "vscode": {
     "languageId": "python"
    }
   },
   "outputs": [
    {
     "data": {
      "text/plain": [
       "('h', 'i')"
      ]
     },
     "execution_count": 71,
     "metadata": {},
     "output_type": "execute_result"
    }
   ],
   "source": [
    "[x,y] = 'hi'\n",
    "x,y "
   ]
  },
  {
   "cell_type": "markdown",
   "id": "6c21f334-9cbf-4a03-a97f-ba2b5fe75fa8",
   "metadata": {},
   "source": [
    "튜플과 같이 사용하면 가독성이 극대화 (그래서 다중할당은 거의 튜플과 세트로 사용함) "
   ]
  },
  {
   "cell_type": "code",
   "execution_count": 72,
   "id": "08dc00f2-5fda-4500-9f0b-ca6636ee47a6",
   "metadata": {
    "vscode": {
     "languageId": "python"
    }
   },
   "outputs": [
    {
     "data": {
      "text/plain": [
       "(1, 2, 3)"
      ]
     },
     "execution_count": 72,
     "metadata": {},
     "output_type": "execute_result"
    }
   ],
   "source": [
    "x,y,z = 1,2,3\n",
    "x,y,z # 다중출력 "
   ]
  },
  {
   "cell_type": "code",
   "execution_count": 73,
   "id": "665565bf-addc-4cf2-b59c-7cad0b196e7f",
   "metadata": {
    "vscode": {
     "languageId": "python"
    }
   },
   "outputs": [
    {
     "data": {
      "text/plain": [
       "('h', 'i')"
      ]
     },
     "execution_count": 73,
     "metadata": {},
     "output_type": "execute_result"
    }
   ],
   "source": [
    "x,y = 'hi'\n",
    "x,y "
   ]
  },
  {
   "cell_type": "markdown",
   "id": "81849148-3ad2-44cf-bf6c-b9b9c0b966e6",
   "metadata": {},
   "source": [
    "## 상황3: 변수값을 교환 "
   ]
  },
  {
   "cell_type": "markdown",
   "id": "5ddbe09d-7df3-4ebd-843d-72f5310aac2c",
   "metadata": {},
   "source": [
    "`-` 예제: 임시변수 사용없이 두 변수의 값을 교환 "
   ]
  },
  {
   "cell_type": "code",
   "execution_count": 16,
   "id": "841f23b2-5f10-4f0a-8299-c33585986344",
   "metadata": {
    "vscode": {
     "languageId": "python"
    }
   },
   "outputs": [],
   "source": [
    "a=10\n",
    "b=20"
   ]
  },
  {
   "cell_type": "code",
   "execution_count": 17,
   "id": "d290eda3-8735-458f-9d6e-b5126aad3214",
   "metadata": {
    "vscode": {
     "languageId": "python"
    }
   },
   "outputs": [],
   "source": [
    "a,b = b,a "
   ]
  },
  {
   "cell_type": "code",
   "execution_count": 18,
   "id": "ba0050bf-a0f1-4e14-91bd-384577a887e2",
   "metadata": {
    "vscode": {
     "languageId": "python"
    }
   },
   "outputs": [
    {
     "data": {
      "text/plain": [
       "20"
      ]
     },
     "execution_count": 18,
     "metadata": {},
     "output_type": "execute_result"
    }
   ],
   "source": [
    "a"
   ]
  },
  {
   "cell_type": "code",
   "execution_count": 19,
   "id": "16996940-3400-44e1-b020-bf2fc445a42d",
   "metadata": {
    "vscode": {
     "languageId": "python"
    }
   },
   "outputs": [
    {
     "data": {
      "text/plain": [
       "10"
      ]
     },
     "execution_count": 19,
     "metadata": {},
     "output_type": "execute_result"
    }
   ],
   "source": [
    "b"
   ]
  },
  {
   "cell_type": "markdown",
   "id": "b966ec6e-5aea-4a73-b051-0699596870ed",
   "metadata": {},
   "source": [
    "## 상황4: for문과 함께"
   ]
  },
  {
   "cell_type": "markdown",
   "id": "ca8867f7-f2f3-49c2-a148-046db254e9a5",
   "metadata": {},
   "source": [
    "`-` 예제: for문과 튜플"
   ]
  },
  {
   "cell_type": "code",
   "execution_count": 49,
   "id": "aee690ee-a28d-4578-ae6b-92f83c2fa422",
   "metadata": {
    "vscode": {
     "languageId": "python"
    }
   },
   "outputs": [
    {
     "data": {
      "text/plain": [
       "[['guebin', 202112345, 'M'],\n",
       " ['iu', 202254321, 'F'],\n",
       " ['hodong', 202011223, 'M']]"
      ]
     },
     "execution_count": 49,
     "metadata": {},
     "output_type": "execute_result"
    }
   ],
   "source": [
    "lst = [['guebin', 202112345, 'M'],\n",
    "       ['iu',202254321, 'F'],\n",
    "       ['hodong', 202011223, 'M']]\n",
    "lst"
   ]
  },
  {
   "cell_type": "code",
   "execution_count": 50,
   "id": "88119640-3b53-43aa-ba71-09b3502035c7",
   "metadata": {
    "vscode": {
     "languageId": "python"
    }
   },
   "outputs": [
    {
     "name": "stdout",
     "output_type": "stream",
     "text": [
      "['guebin', 202112345, 'M']\n",
      "['iu', 202254321, 'F']\n",
      "['hodong', 202011223, 'M']\n"
     ]
    }
   ],
   "source": [
    "for i in lst: \n",
    "    print(i)"
   ]
  },
  {
   "cell_type": "code",
   "execution_count": 51,
   "id": "2c530e4b-7d41-4f35-8e00-9003b9437104",
   "metadata": {
    "vscode": {
     "languageId": "python"
    }
   },
   "outputs": [
    {
     "name": "stdout",
     "output_type": "stream",
     "text": [
      "guebin\n",
      "iu\n",
      "hodong\n"
     ]
    }
   ],
   "source": [
    "for name,studentid,sex in lst: \n",
    "    print(name)"
   ]
  },
  {
   "cell_type": "code",
   "execution_count": 52,
   "id": "21dbd3df-9a7c-464e-ac1b-09c4c78279b4",
   "metadata": {
    "vscode": {
     "languageId": "python"
    }
   },
   "outputs": [
    {
     "name": "stdout",
     "output_type": "stream",
     "text": [
      "guebin M\n",
      "iu F\n",
      "hodong M\n"
     ]
    }
   ],
   "source": [
    "for name,studentid,sex in lst: \n",
    "    print(name,sex)"
   ]
  },
  {
   "cell_type": "markdown",
   "id": "e910f60f-30f6-428e-ad30-d0b520b6ec25",
   "metadata": {},
   "source": [
    "`-` 예제: for문과 튜플, dummy variable `_` "
   ]
  },
  {
   "cell_type": "code",
   "execution_count": 53,
   "id": "df12174e-3017-4b19-a759-bbbaeedeea61",
   "metadata": {
    "vscode": {
     "languageId": "python"
    }
   },
   "outputs": [
    {
     "name": "stdout",
     "output_type": "stream",
     "text": [
      "202112345\n",
      "202254321\n",
      "202011223\n"
     ]
    }
   ],
   "source": [
    "for name,studentid,sex in lst: \n",
    "    print(studentid)"
   ]
  },
  {
   "cell_type": "code",
   "execution_count": 54,
   "id": "0b305e3b-ef6a-4a1a-b772-5e6a0876be11",
   "metadata": {
    "vscode": {
     "languageId": "python"
    }
   },
   "outputs": [
    {
     "name": "stdout",
     "output_type": "stream",
     "text": [
      "202112345\n",
      "202254321\n",
      "202011223\n"
     ]
    }
   ],
   "source": [
    "for _,studentid,_ in lst: \n",
    "    print(studentid)"
   ]
  },
  {
   "cell_type": "code",
   "execution_count": 55,
   "id": "5575757b-3820-4174-8d13-9feeebacc521",
   "metadata": {
    "vscode": {
     "languageId": "python"
    }
   },
   "outputs": [
    {
     "name": "stdout",
     "output_type": "stream",
     "text": [
      "M\n",
      "F\n",
      "M\n"
     ]
    }
   ],
   "source": [
    "for _,_,sex in lst: \n",
    "    print(sex)"
   ]
  },
  {
   "cell_type": "code",
   "execution_count": 56,
   "id": "f97bbfb5-db61-4c96-b01e-4a78592c5ffb",
   "metadata": {
    "vscode": {
     "languageId": "python"
    }
   },
   "outputs": [
    {
     "name": "stdout",
     "output_type": "stream",
     "text": [
      "guebin M\n",
      "iu F\n",
      "hodong M\n"
     ]
    }
   ],
   "source": [
    "for name,_,sex in lst: \n",
    "    print(name,sex)"
   ]
  },
  {
   "cell_type": "markdown",
   "id": "d14283e3-18dd-4ca8-ae70-4eb6e1213ccc",
   "metadata": {},
   "source": [
    "`-` 예제: for문과 튜플, * 연산자 "
   ]
  },
  {
   "cell_type": "markdown",
   "id": "bba474da-50e5-44a0-8eeb-5a1971ea6c5c",
   "metadata": {},
   "source": [
    "(motive)"
   ]
  },
  {
   "cell_type": "code",
   "execution_count": 58,
   "id": "d6851345-1c15-44ff-b1ae-bcdc6c1ec103",
   "metadata": {
    "vscode": {
     "languageId": "python"
    }
   },
   "outputs": [
    {
     "name": "stdout",
     "output_type": "stream",
     "text": [
      "guebin\n",
      "iu\n",
      "hodong\n"
     ]
    }
   ],
   "source": [
    "for name,_,_  in lst: \n",
    "    print(name)"
   ]
  },
  {
   "cell_type": "markdown",
   "id": "452760ee-74a9-4846-b905-922b7ca4d0a5",
   "metadata": {},
   "source": [
    "- 귀찮냐.. "
   ]
  },
  {
   "cell_type": "markdown",
   "id": "1d2e2fc5-11ed-46ff-9510-66eb0839dc5a",
   "metadata": {},
   "source": [
    "(신기술)"
   ]
  },
  {
   "cell_type": "code",
   "execution_count": 60,
   "id": "993d0243-22da-45d8-9283-99504e93b34c",
   "metadata": {
    "vscode": {
     "languageId": "python"
    }
   },
   "outputs": [
    {
     "name": "stdout",
     "output_type": "stream",
     "text": [
      "guebin\n",
      "iu\n",
      "hodong\n"
     ]
    }
   ],
   "source": [
    "for name,*args  in lst: \n",
    "    print(name)"
   ]
  },
  {
   "cell_type": "markdown",
   "id": "2a0ec1b1-e6f3-4fe2-adaf-01352523c405",
   "metadata": {},
   "source": [
    "## 상황5: 언패킹연산자와 함께"
   ]
  },
  {
   "cell_type": "markdown",
   "id": "689f09a9-fed6-4400-bfa1-da0e0ba80699",
   "metadata": {},
   "source": [
    "`-` 예제: 튜플과 언패킹연산자 `*` "
   ]
  },
  {
   "cell_type": "code",
   "execution_count": 61,
   "id": "2a230b88-d333-4805-a9b0-8f2ca4e5568b",
   "metadata": {
    "vscode": {
     "languageId": "python"
    }
   },
   "outputs": [
    {
     "data": {
      "text/plain": [
       "(1, 2, [3, 4, 5, 6, 7, 8, 9, 10])"
      ]
     },
     "execution_count": 61,
     "metadata": {},
     "output_type": "execute_result"
    }
   ],
   "source": [
    "head, body, *tail = range(1,11) \n",
    "head, body, tail"
   ]
  },
  {
   "cell_type": "code",
   "execution_count": 62,
   "id": "7d30b3b5-7d7f-40f1-a14f-c778d4fea53a",
   "metadata": {
    "vscode": {
     "languageId": "python"
    }
   },
   "outputs": [
    {
     "data": {
      "text/plain": [
       "(1, 2, [3, 4, 5, 6, 7], 8, 9, 10)"
      ]
     },
     "execution_count": 62,
     "metadata": {},
     "output_type": "execute_result"
    }
   ],
   "source": [
    "head1,head2, *body, tail1,tail2,tail3 = range(1,11) \n",
    "head1,head2, body, tail1,tail2,tail3 "
   ]
  },
  {
   "cell_type": "code",
   "execution_count": 63,
   "id": "dafd87a9-10c5-490d-85b6-82ab4feb3bb9",
   "metadata": {
    "vscode": {
     "languageId": "python"
    }
   },
   "outputs": [
    {
     "data": {
      "text/plain": [
       "([1, 2, 3, 4, 5, 6, 7, 8], 9, 10)"
      ]
     },
     "execution_count": 63,
     "metadata": {},
     "output_type": "execute_result"
    }
   ],
   "source": [
    "*head, body, tail = range(1,11) \n",
    "head, body, tail"
   ]
  },
  {
   "cell_type": "markdown",
   "id": "c39d14a9-94a7-43dc-a96d-ca67fe9513ba",
   "metadata": {},
   "source": [
    "---"
   ]
  },
  {
   "cell_type": "markdown",
   "id": "b6649001-edeb-4db4-a1a1-173539194cc9",
   "metadata": {},
   "source": [
    "***Appendix:*** 언패킹연산자 "
   ]
  },
  {
   "cell_type": "markdown",
   "id": "f4dc30c2-b854-46dc-be5d-f0f9b7388c8e",
   "metadata": {},
   "source": [
    "(관찰) "
   ]
  },
  {
   "cell_type": "markdown",
   "id": "5b8496fb-3ad6-4c42-9655-408f1107f16a",
   "metadata": {},
   "source": [
    "그러고 보니까.. \n",
    "```python\n",
    "head1,head2, body, tail1,tail2,tail3  = (1, 2, [3,4,5,6,7], 8, 9, 10)\n",
    "head1,head2, *body, tail1,tail2,tail3   = (1, 2, 3,4,5,6,7, 8, 9, 10)\n",
    "```\n",
    "이렇다는 거잖아? "
   ]
  },
  {
   "cell_type": "markdown",
   "id": "b4e39033-1597-4532-af1d-9683e64f38e0",
   "metadata": {},
   "source": [
    "`*`를 붙이면 1차원 자료구조가 풀린다..? "
   ]
  },
  {
   "cell_type": "code",
   "execution_count": 6,
   "id": "4b615f0f-ee18-4d1c-99fc-be2c0cc1c65b",
   "metadata": {
    "vscode": {
     "languageId": "python"
    }
   },
   "outputs": [
    {
     "ename": "SyntaxError",
     "evalue": "can't use starred expression here (<ipython-input-6-a543979d8d3c>, line 4)",
     "output_type": "error",
     "traceback": [
      "\u001b[0;36m  File \u001b[0;32m\"<ipython-input-6-a543979d8d3c>\"\u001b[0;36m, line \u001b[0;32m4\u001b[0m\n\u001b[0;31mSyntaxError\u001b[0m\u001b[0;31m:\u001b[0m can't use starred expression here\n"
     ]
    }
   ],
   "source": [
    "*[1,2,3] # ?? 뭐하누?"
   ]
  },
  {
   "cell_type": "code",
   "execution_count": 9,
   "id": "98405c53-8c1d-47ea-9e1f-ec22bf41f5ce",
   "metadata": {
    "vscode": {
     "languageId": "python"
    }
   },
   "outputs": [
    {
     "name": "stdout",
     "output_type": "stream",
     "text": [
      "1 2 3\n"
     ]
    }
   ],
   "source": [
    "print(*[1,2,3]) ## 이런 느낌!!"
   ]
  },
  {
   "cell_type": "code",
   "execution_count": 11,
   "id": "64c86dcd-83ad-4c56-b0d3-b09331afcadb",
   "metadata": {
    "vscode": {
     "languageId": "python"
    }
   },
   "outputs": [
    {
     "name": "stdout",
     "output_type": "stream",
     "text": [
      "[1, 2, 3]\n"
     ]
    }
   ],
   "source": [
    "print([1,2,3]) # 비교"
   ]
  },
  {
   "cell_type": "markdown",
   "id": "fbb65a96-f343-49f0-b865-eee50b50462b",
   "metadata": {},
   "source": [
    "# 인덱싱고급 (스트라이딩) "
   ]
  },
  {
   "cell_type": "markdown",
   "id": "7f25a1cf-a11b-4ff6-859b-3534e4517a87",
   "metadata": {},
   "source": [
    "`-` 스트라이딩 [start:stop:step] "
   ]
  },
  {
   "cell_type": "code",
   "execution_count": 5,
   "id": "746c4325-bfb6-40a5-85b0-55264f480277",
   "metadata": {
    "vscode": {
     "languageId": "python"
    }
   },
   "outputs": [
    {
     "data": {
      "text/plain": [
       "['a', 'b', 'c', 'd', 'e', 'f', 'g', 'h']"
      ]
     },
     "execution_count": 5,
     "metadata": {},
     "output_type": "execute_result"
    }
   ],
   "source": [
    "lst = list('abcdefgh')\n",
    "lst"
   ]
  },
  {
   "cell_type": "code",
   "execution_count": 6,
   "id": "3b77afa4-24e5-4167-8f4a-df303c123603",
   "metadata": {
    "vscode": {
     "languageId": "python"
    }
   },
   "outputs": [
    {
     "data": {
      "text/plain": [
       "['a', 'c', 'e', 'g']"
      ]
     },
     "execution_count": 6,
     "metadata": {},
     "output_type": "execute_result"
    }
   ],
   "source": [
    "lst[0:8:2]"
   ]
  },
  {
   "cell_type": "markdown",
   "id": "34af2e6d-496e-43a5-b3a2-ff0d7201de20",
   "metadata": {},
   "source": [
    "`-` 생략"
   ]
  },
  {
   "cell_type": "code",
   "execution_count": 7,
   "id": "7725f84f-4752-4b35-949d-731ae845dbe6",
   "metadata": {
    "vscode": {
     "languageId": "python"
    }
   },
   "outputs": [
    {
     "data": {
      "text/plain": [
       "['a', 'c', 'e', 'g']"
      ]
     },
     "execution_count": 7,
     "metadata": {},
     "output_type": "execute_result"
    }
   ],
   "source": [
    "lst[::2]"
   ]
  },
  {
   "cell_type": "code",
   "execution_count": 8,
   "id": "97f4b707-c8b2-4d5b-b41d-34db62aebc01",
   "metadata": {
    "vscode": {
     "languageId": "python"
    }
   },
   "outputs": [
    {
     "data": {
      "text/plain": [
       "['a', 'c', 'e', 'g']"
      ]
     },
     "execution_count": 8,
     "metadata": {},
     "output_type": "execute_result"
    }
   ],
   "source": [
    "lst[0::2]"
   ]
  },
  {
   "cell_type": "code",
   "execution_count": 9,
   "id": "f16ffa50-91b5-4deb-bf7f-51f0fadaba50",
   "metadata": {
    "vscode": {
     "languageId": "python"
    }
   },
   "outputs": [
    {
     "data": {
      "text/plain": [
       "['a', 'c', 'e', 'g']"
      ]
     },
     "execution_count": 9,
     "metadata": {},
     "output_type": "execute_result"
    }
   ],
   "source": [
    "lst[:8:2]"
   ]
  },
  {
   "cell_type": "markdown",
   "id": "63dcb422-0b4b-4aa5-ac1e-a177de728367",
   "metadata": {},
   "source": [
    "`-` 예제: 짝수/홀수 원소 추출 "
   ]
  },
  {
   "cell_type": "code",
   "execution_count": 10,
   "id": "75392e69-7a81-4dc9-84a8-5100dcd4f7b2",
   "metadata": {
    "vscode": {
     "languageId": "python"
    }
   },
   "outputs": [
    {
     "data": {
      "text/plain": [
       "['a', 'b', 'c', 'd', 'e', 'f', 'g', 'h']"
      ]
     },
     "execution_count": 10,
     "metadata": {},
     "output_type": "execute_result"
    }
   ],
   "source": [
    "lst"
   ]
  },
  {
   "cell_type": "code",
   "execution_count": 11,
   "id": "f88cfef8-356d-44ff-a31d-87ae1b843bec",
   "metadata": {
    "vscode": {
     "languageId": "python"
    }
   },
   "outputs": [
    {
     "data": {
      "text/plain": [
       "['a', 'c', 'e', 'g']"
      ]
     },
     "execution_count": 11,
     "metadata": {},
     "output_type": "execute_result"
    }
   ],
   "source": [
    "lst[::2] # 1,3,5,7, ... "
   ]
  },
  {
   "cell_type": "code",
   "execution_count": 12,
   "id": "855f138a-f512-4aa2-b414-2df441db5694",
   "metadata": {
    "vscode": {
     "languageId": "python"
    }
   },
   "outputs": [
    {
     "data": {
      "text/plain": [
       "['b', 'd', 'f', 'h']"
      ]
     },
     "execution_count": 12,
     "metadata": {},
     "output_type": "execute_result"
    }
   ],
   "source": [
    "lst[1::2] # 2,4,6,8, ... "
   ]
  },
  {
   "cell_type": "markdown",
   "id": "b36ce4f9-663d-437d-97fa-ae8744edaa5d",
   "metadata": {},
   "source": [
    "`-` step = -1 이면? "
   ]
  },
  {
   "cell_type": "code",
   "execution_count": 13,
   "id": "5b80c69c-3675-49e2-844a-9bd57d6b05bc",
   "metadata": {
    "vscode": {
     "languageId": "python"
    }
   },
   "outputs": [
    {
     "data": {
      "text/plain": [
       "['a', 'b', 'c', 'd', 'e', 'f', 'g', 'h']"
      ]
     },
     "execution_count": 13,
     "metadata": {},
     "output_type": "execute_result"
    }
   ],
   "source": [
    "lst"
   ]
  },
  {
   "cell_type": "code",
   "execution_count": 14,
   "id": "50e0b079-cb26-4316-b086-cf42f2f748c9",
   "metadata": {
    "vscode": {
     "languageId": "python"
    }
   },
   "outputs": [
    {
     "data": {
      "text/plain": [
       "['h', 'g', 'f', 'e', 'd', 'c', 'b', 'a']"
      ]
     },
     "execution_count": 14,
     "metadata": {},
     "output_type": "execute_result"
    }
   ],
   "source": [
    "lst[::-1]"
   ]
  },
  {
   "cell_type": "markdown",
   "id": "255c8039-c2e4-4b2c-bfff-90d9e9109dba",
   "metadata": {},
   "source": [
    "- reverse와 같은 기능"
   ]
  },
  {
   "cell_type": "markdown",
   "id": "0f7d0aed-b360-48b1-8f3f-4f762409460f",
   "metadata": {},
   "source": [
    "(reverse)와 비교"
   ]
  },
  {
   "cell_type": "markdown",
   "id": "cf5a873e-2d0e-4449-a556-8bb50f43bbd9",
   "metadata": {},
   "source": [
    "관찰1: reverse 메소드는 리스트 자체를 변화시킴"
   ]
  },
  {
   "cell_type": "code",
   "execution_count": 15,
   "id": "e3ca42c0-b394-4027-a75b-12a6c0002e75",
   "metadata": {
    "vscode": {
     "languageId": "python"
    }
   },
   "outputs": [
    {
     "data": {
      "text/plain": [
       "['a', 'b', 'c', 'd', 'e', 'f', 'g', 'h']"
      ]
     },
     "execution_count": 15,
     "metadata": {},
     "output_type": "execute_result"
    }
   ],
   "source": [
    "lst = list('abcdefgh')\n",
    "lst"
   ]
  },
  {
   "cell_type": "code",
   "execution_count": 16,
   "id": "42caffab-5428-4a62-9fcb-d93e0c284288",
   "metadata": {
    "vscode": {
     "languageId": "python"
    }
   },
   "outputs": [
    {
     "data": {
      "text/plain": [
       "['h', 'g', 'f', 'e', 'd', 'c', 'b', 'a']"
      ]
     },
     "execution_count": 16,
     "metadata": {},
     "output_type": "execute_result"
    }
   ],
   "source": [
    "lst.reverse() #리버스는 \n",
    "lst"
   ]
  },
  {
   "cell_type": "markdown",
   "id": "c602f986-0916-44ee-b683-5e04bfd8aa59",
   "metadata": {},
   "source": [
    "관찰2: [::-1]는 리스트는 변화시키지 않음"
   ]
  },
  {
   "cell_type": "code",
   "execution_count": 17,
   "id": "99b1e4ba-56bf-454e-b048-df767d6293b7",
   "metadata": {
    "vscode": {
     "languageId": "python"
    }
   },
   "outputs": [
    {
     "data": {
      "text/plain": [
       "['a', 'b', 'c', 'd', 'e', 'f', 'g', 'h']"
      ]
     },
     "execution_count": 17,
     "metadata": {},
     "output_type": "execute_result"
    }
   ],
   "source": [
    "lst = list('abcdefgh')\n",
    "lst"
   ]
  },
  {
   "cell_type": "code",
   "execution_count": 18,
   "id": "1e939b0a-718a-429e-8b4e-87f1a91adcb4",
   "metadata": {
    "vscode": {
     "languageId": "python"
    }
   },
   "outputs": [
    {
     "data": {
      "text/plain": [
       "['h', 'g', 'f', 'e', 'd', 'c', 'b', 'a']"
      ]
     },
     "execution_count": 18,
     "metadata": {},
     "output_type": "execute_result"
    }
   ],
   "source": [
    "lst[::-1]"
   ]
  },
  {
   "cell_type": "code",
   "execution_count": 19,
   "id": "07bd6fff-66b5-491b-8405-dccacb325802",
   "metadata": {
    "vscode": {
     "languageId": "python"
    }
   },
   "outputs": [
    {
     "data": {
      "text/plain": [
       "['a', 'b', 'c', 'd', 'e', 'f', 'g', 'h']"
      ]
     },
     "execution_count": 19,
     "metadata": {},
     "output_type": "execute_result"
    }
   ],
   "source": [
    "lst"
   ]
  },
  {
   "cell_type": "markdown",
   "id": "c4b86329-1446-4f66-834b-dc07aceaf418",
   "metadata": {},
   "source": [
    "`-` 사실 -step은 쓰는 것이 조금 까다롭다. "
   ]
  },
  {
   "cell_type": "markdown",
   "id": "79b3cceb-5409-4d8e-9efc-8a44a42f5d1d",
   "metadata": {},
   "source": [
    "(예제) 처음과 끝을 생략하지 않고 아래와 동일한 효과를 주는 코드를 만들어 보자. "
   ]
  },
  {
   "cell_type": "code",
   "execution_count": 20,
   "id": "e4e86ac0-a362-4f00-824e-e231618b836f",
   "metadata": {
    "vscode": {
     "languageId": "python"
    }
   },
   "outputs": [
    {
     "data": {
      "text/plain": [
       "['h', 'g', 'f', 'e', 'd', 'c', 'b', 'a']"
      ]
     },
     "execution_count": 20,
     "metadata": {},
     "output_type": "execute_result"
    }
   ],
   "source": [
    "lst = list('abcdefgh')\n",
    "lst[::-1]"
   ]
  },
  {
   "cell_type": "markdown",
   "id": "fd961fab-28fb-4c9a-81cb-9e586fbdf639",
   "metadata": {},
   "source": [
    "(풀이)"
   ]
  },
  {
   "cell_type": "markdown",
   "id": "fbafdb13-5c96-4472-9ed6-6d9997471024",
   "metadata": {},
   "source": [
    "결국 lst[?:?:-1]의 꼴에서 적당히 ?의 값을 채우면 된다. "
   ]
  },
  {
   "cell_type": "code",
   "execution_count": 21,
   "id": "604d1196-9602-4a06-a908-72a3b68de8c5",
   "metadata": {
    "vscode": {
     "languageId": "python"
    }
   },
   "outputs": [
    {
     "data": {
      "text/plain": [
       "['h', 'g', 'f', 'e', 'd', 'c', 'b', 'a']"
      ]
     },
     "execution_count": 21,
     "metadata": {},
     "output_type": "execute_result"
    }
   ],
   "source": [
    "lst[-1::-1] # 일단 첫 시작은 제일 마지막 원소 "
   ]
  },
  {
   "cell_type": "code",
   "execution_count": 22,
   "id": "6f388866-66a9-469a-89c8-2dd49cfa3b34",
   "metadata": {
    "vscode": {
     "languageId": "python"
    }
   },
   "outputs": [
    {
     "data": {
      "text/plain": [
       "['h', 'g', 'f', 'e', 'd', 'c', 'b']"
      ]
     },
     "execution_count": 22,
     "metadata": {},
     "output_type": "execute_result"
    }
   ],
   "source": [
    "lst[-1:0:-1] # 앗 마지막 인덱스는 포함 안되는거였지? "
   ]
  },
  {
   "cell_type": "code",
   "execution_count": 23,
   "id": "13d4f8b8-a768-4b97-8923-596591750837",
   "metadata": {
    "vscode": {
     "languageId": "python"
    }
   },
   "outputs": [
    {
     "data": {
      "text/plain": [
       "[]"
      ]
     },
     "execution_count": 23,
     "metadata": {},
     "output_type": "execute_result"
    }
   ],
   "source": [
    "lst[-1:-1:-1] # 뭐 어쩌란거임 "
   ]
  },
  {
   "cell_type": "markdown",
   "id": "d233e43b-5213-4261-a4d9-91a1f59f11bb",
   "metadata": {},
   "source": [
    "잠깐 인덱스를 생각해보자. "
   ]
  },
  {
   "cell_type": "markdown",
   "id": "09472290-b1f0-46aa-bff4-22de6e5aaf57",
   "metadata": {},
   "source": [
    "|a|b|c|d|e|f|g|h|\n",
    "|:-:|:-:|:-:|:-:|:-:|:-:|:-:|:-:|\n",
    "|0|1|2|3|4|5|6|7|\n",
    "|-8|-7|-6|-5|-4|-3|-2|-1|"
   ]
  },
  {
   "cell_type": "code",
   "execution_count": 24,
   "id": "6a6ed7b4-eb8d-4aa0-8358-4093473e6494",
   "metadata": {
    "vscode": {
     "languageId": "python"
    }
   },
   "outputs": [
    {
     "data": {
      "text/plain": [
       "['h', 'g', 'f', 'e', 'd', 'c', 'b', 'a']"
      ]
     },
     "execution_count": 24,
     "metadata": {},
     "output_type": "execute_result"
    }
   ],
   "source": [
    "lst[-1:-9:-1] # 아.."
   ]
  },
  {
   "cell_type": "markdown",
   "id": "094371ab-43ad-49c3-bb33-765a27586d2e",
   "metadata": {},
   "source": [
    "(예제)"
   ]
  },
  {
   "cell_type": "code",
   "execution_count": 25,
   "id": "78f4dd5e-1360-4395-8e0b-4084341ee022",
   "metadata": {
    "vscode": {
     "languageId": "python"
    }
   },
   "outputs": [
    {
     "data": {
      "text/plain": [
       "['c', 'e', 'g']"
      ]
     },
     "execution_count": 25,
     "metadata": {},
     "output_type": "execute_result"
    }
   ],
   "source": [
    "lst[2::2]"
   ]
  },
  {
   "cell_type": "code",
   "execution_count": 26,
   "id": "b00f9e0b-34d4-4cb5-a0e7-e00b30f534da",
   "metadata": {
    "vscode": {
     "languageId": "python"
    }
   },
   "outputs": [
    {
     "data": {
      "text/plain": [
       "['g', 'e', 'c', 'a']"
      ]
     },
     "execution_count": 26,
     "metadata": {},
     "output_type": "execute_result"
    }
   ],
   "source": [
    "lst[-2::-2]"
   ]
  },
  {
   "cell_type": "code",
   "execution_count": 27,
   "id": "21e1642c-a18a-41a4-9c5f-9e291a302737",
   "metadata": {
    "vscode": {
     "languageId": "python"
    }
   },
   "outputs": [
    {
     "data": {
      "text/plain": [
       "[]"
      ]
     },
     "execution_count": 27,
     "metadata": {},
     "output_type": "execute_result"
    }
   ],
   "source": [
    "lst[-2:2:2]"
   ]
  },
  {
   "cell_type": "code",
   "execution_count": 28,
   "id": "a1299948-eb42-43d8-979a-54195890ab9d",
   "metadata": {
    "vscode": {
     "languageId": "python"
    }
   },
   "outputs": [
    {
     "data": {
      "text/plain": [
       "[]"
      ]
     },
     "execution_count": 28,
     "metadata": {},
     "output_type": "execute_result"
    }
   ],
   "source": [
    "lst[2:2:2]"
   ]
  },
  {
   "cell_type": "code",
   "execution_count": 29,
   "id": "da5aa263-94ad-4eb6-88dc-fc923ba64e7e",
   "metadata": {
    "vscode": {
     "languageId": "python"
    }
   },
   "outputs": [
    {
     "data": {
      "text/plain": [
       "[]"
      ]
     },
     "execution_count": 29,
     "metadata": {},
     "output_type": "execute_result"
    }
   ],
   "source": [
    "lst[2:2:-2]"
   ]
  },
  {
   "cell_type": "markdown",
   "id": "c1359b17-557c-4c8c-a393-378fa2f11597",
   "metadata": {},
   "source": [
    "결론: -step을 자주 쓰진 말자?"
   ]
  },
  {
   "cell_type": "markdown",
   "id": "7164151d-a57c-472b-927e-70860e5d1442",
   "metadata": {},
   "source": [
    "# 함수고급 (조건부리턴)"
   ]
  },
  {
   "cell_type": "markdown",
   "id": "25d61aaa-95e2-49ff-91d2-4eae15431ff9",
   "metadata": {},
   "source": [
    "`-` 홀수/짝수를 판별하는 함수 만들기 1"
   ]
  },
  {
   "cell_type": "code",
   "execution_count": 35,
   "id": "b5c576fb-147d-4f4f-9ebd-ef61c7031514",
   "metadata": {
    "vscode": {
     "languageId": "python"
    }
   },
   "outputs": [],
   "source": [
    "def test(a):\n",
    "    if a % 2 ==0: \n",
    "        return 'even'\n",
    "    else:\n",
    "        return 'odd'"
   ]
  },
  {
   "cell_type": "code",
   "execution_count": 36,
   "id": "9ece400f-0438-4d13-87cc-f05dc00a384a",
   "metadata": {
    "vscode": {
     "languageId": "python"
    }
   },
   "outputs": [
    {
     "data": {
      "text/plain": [
       "'odd'"
      ]
     },
     "execution_count": 36,
     "metadata": {},
     "output_type": "execute_result"
    }
   ],
   "source": [
    "test(1)"
   ]
  },
  {
   "cell_type": "code",
   "execution_count": 37,
   "id": "bc395957-5a77-4ce4-9d30-e47d580ed7fc",
   "metadata": {
    "vscode": {
     "languageId": "python"
    }
   },
   "outputs": [
    {
     "data": {
      "text/plain": [
       "'even'"
      ]
     },
     "execution_count": 37,
     "metadata": {},
     "output_type": "execute_result"
    }
   ],
   "source": [
    "test(2)"
   ]
  },
  {
   "cell_type": "code",
   "execution_count": 38,
   "id": "e8595358-97e7-4665-a634-b947d37083a3",
   "metadata": {
    "vscode": {
     "languageId": "python"
    }
   },
   "outputs": [
    {
     "data": {
      "text/plain": [
       "'odd'"
      ]
     },
     "execution_count": 38,
     "metadata": {},
     "output_type": "execute_result"
    }
   ],
   "source": [
    "test(3)"
   ]
  },
  {
   "cell_type": "code",
   "execution_count": 39,
   "id": "fb4ce31f-e5b7-46b5-8c16-5bc039b396c3",
   "metadata": {
    "vscode": {
     "languageId": "python"
    }
   },
   "outputs": [
    {
     "data": {
      "text/plain": [
       "'even'"
      ]
     },
     "execution_count": 39,
     "metadata": {},
     "output_type": "execute_result"
    }
   ],
   "source": [
    "test(4)"
   ]
  },
  {
   "cell_type": "code",
   "execution_count": 40,
   "id": "083fd9c1-06f9-4c6c-a437-a8e2c319739c",
   "metadata": {
    "vscode": {
     "languageId": "python"
    }
   },
   "outputs": [
    {
     "data": {
      "text/plain": [
       "['odd', 'even', 'odd', 'even', 'odd', 'even', 'odd', 'even', 'odd', 'even']"
      ]
     },
     "execution_count": 40,
     "metadata": {},
     "output_type": "execute_result"
    }
   ],
   "source": [
    "[test(a) for a in range(1,11)]"
   ]
  },
  {
   "cell_type": "markdown",
   "id": "ab53fbd8-a9b0-41cc-bb17-e22d96454ed8",
   "metadata": {},
   "source": [
    "`-` 홀수/짝수를 판별하는 함수 만들기 2"
   ]
  },
  {
   "cell_type": "code",
   "execution_count": 41,
   "id": "afcfd2d0-2df4-4c23-8dfe-d9d7961ca318",
   "metadata": {
    "vscode": {
     "languageId": "python"
    }
   },
   "outputs": [],
   "source": [
    "def test(a):\n",
    "    return 'even' if a%2 ==0 else 'odd'"
   ]
  },
  {
   "cell_type": "code",
   "execution_count": 42,
   "id": "6f704ec7-2bf7-436c-b4c9-b45b237053ee",
   "metadata": {
    "vscode": {
     "languageId": "python"
    }
   },
   "outputs": [
    {
     "data": {
      "text/plain": [
       "'odd'"
      ]
     },
     "execution_count": 42,
     "metadata": {},
     "output_type": "execute_result"
    }
   ],
   "source": [
    "test(3)"
   ]
  },
  {
   "cell_type": "code",
   "execution_count": 43,
   "id": "9d9f6ebb-28e1-4bf4-93c8-88ba40281c4d",
   "metadata": {
    "vscode": {
     "languageId": "python"
    }
   },
   "outputs": [
    {
     "data": {
      "text/plain": [
       "['odd', 'even', 'odd', 'even', 'odd', 'even', 'odd', 'even', 'odd', 'even']"
      ]
     },
     "execution_count": 43,
     "metadata": {},
     "output_type": "execute_result"
    }
   ],
   "source": [
    "[test(a) for a in range(1,11)]"
   ]
  },
  {
   "cell_type": "markdown",
   "id": "a2ac19e4-e642-4ef9-bb26-48f553101985",
   "metadata": {},
   "source": [
    "# len함수 "
   ]
  },
  {
   "cell_type": "markdown",
   "id": "02fc8b5c-f87c-46b7-99fb-696b35e09708",
   "metadata": {},
   "source": [
    "`-` 0차원 자료형은 len함수가 동작하지 않음 "
   ]
  },
  {
   "cell_type": "code",
   "execution_count": 44,
   "id": "a08d5835-d3c2-4f4d-a280-8b061591881b",
   "metadata": {
    "vscode": {
     "languageId": "python"
    }
   },
   "outputs": [
    {
     "ename": "TypeError",
     "evalue": "object of type 'int' has no len()",
     "output_type": "error",
     "traceback": [
      "\u001b[0;31m---------------------------------------------------------------------------\u001b[0m",
      "\u001b[0;31mTypeError\u001b[0m                                 Traceback (most recent call last)",
      "Input \u001b[0;32mIn [44]\u001b[0m, in \u001b[0;36m<cell line: 2>\u001b[0;34m()\u001b[0m\n\u001b[1;32m      1\u001b[0m a\u001b[38;5;241m=\u001b[39m\u001b[38;5;241m1\u001b[39m \n\u001b[0;32m----> 2\u001b[0m \u001b[38;5;28;43mlen\u001b[39;49m\u001b[43m(\u001b[49m\u001b[43ma\u001b[49m\u001b[43m)\u001b[49m\n",
      "\u001b[0;31mTypeError\u001b[0m: object of type 'int' has no len()"
     ]
    }
   ],
   "source": [
    "a=1 \n",
    "len(a)"
   ]
  },
  {
   "cell_type": "code",
   "execution_count": 45,
   "id": "8c73a184-eb11-4803-99fb-c9b3a8801798",
   "metadata": {
    "vscode": {
     "languageId": "python"
    }
   },
   "outputs": [
    {
     "ename": "TypeError",
     "evalue": "object of type 'bool' has no len()",
     "output_type": "error",
     "traceback": [
      "\u001b[0;31m---------------------------------------------------------------------------\u001b[0m",
      "\u001b[0;31mTypeError\u001b[0m                                 Traceback (most recent call last)",
      "Input \u001b[0;32mIn [45]\u001b[0m, in \u001b[0;36m<cell line: 2>\u001b[0;34m()\u001b[0m\n\u001b[1;32m      1\u001b[0m a\u001b[38;5;241m=\u001b[39m\u001b[38;5;28;01mTrue\u001b[39;00m\n\u001b[0;32m----> 2\u001b[0m \u001b[38;5;28;43mlen\u001b[39;49m\u001b[43m(\u001b[49m\u001b[43ma\u001b[49m\u001b[43m)\u001b[49m\n",
      "\u001b[0;31mTypeError\u001b[0m: object of type 'bool' has no len()"
     ]
    }
   ],
   "source": [
    "a=True\n",
    "len(a)"
   ]
  },
  {
   "cell_type": "code",
   "execution_count": 46,
   "id": "20571e9b-6bb5-40c0-8100-18d39e75a31b",
   "metadata": {
    "vscode": {
     "languageId": "python"
    }
   },
   "outputs": [
    {
     "ename": "TypeError",
     "evalue": "object of type 'float' has no len()",
     "output_type": "error",
     "traceback": [
      "\u001b[0;31m---------------------------------------------------------------------------\u001b[0m",
      "\u001b[0;31mTypeError\u001b[0m                                 Traceback (most recent call last)",
      "Input \u001b[0;32mIn [46]\u001b[0m, in \u001b[0;36m<cell line: 2>\u001b[0;34m()\u001b[0m\n\u001b[1;32m      1\u001b[0m a\u001b[38;5;241m=\u001b[39m\u001b[38;5;241m3.14\u001b[39m\n\u001b[0;32m----> 2\u001b[0m \u001b[38;5;28;43mlen\u001b[39;49m\u001b[43m(\u001b[49m\u001b[43ma\u001b[49m\u001b[43m)\u001b[49m\n",
      "\u001b[0;31mTypeError\u001b[0m: object of type 'float' has no len()"
     ]
    }
   ],
   "source": [
    "a=3.14\n",
    "len(a)"
   ]
  },
  {
   "cell_type": "markdown",
   "id": "be123c28-c791-4f1b-a9b2-00c6c61bbc6a",
   "metadata": {},
   "source": [
    "> note: 이것이 어떠한 수학적인 의미를 가지거나 0차원의 본질적진리를 뜻하는 것은 아님. R에서는 1,3.14,TRUE의 길이가 1로 존재함. "
   ]
  },
  {
   "cell_type": "markdown",
   "id": "d6ca0fae-fafe-4049-bba1-8e4b66cd9090",
   "metadata": {},
   "source": [
    "`-` 1차원 자료형은 len함수가 동작"
   ]
  },
  {
   "cell_type": "code",
   "execution_count": 47,
   "id": "2f10d555-f461-4b15-ab09-5c4b5a9228bd",
   "metadata": {
    "vscode": {
     "languageId": "python"
    }
   },
   "outputs": [
    {
     "data": {
      "text/plain": [
       "6"
      ]
     },
     "execution_count": 47,
     "metadata": {},
     "output_type": "execute_result"
    }
   ],
   "source": [
    "a='guebin'\n",
    "len(a)"
   ]
  },
  {
   "cell_type": "code",
   "execution_count": 48,
   "id": "9582025c-ba32-41be-8189-e0737928f934",
   "metadata": {
    "vscode": {
     "languageId": "python"
    }
   },
   "outputs": [
    {
     "data": {
      "text/plain": [
       "6"
      ]
     },
     "execution_count": 48,
     "metadata": {},
     "output_type": "execute_result"
    }
   ],
   "source": [
    "a=[1,2,3,4,5,6]\n",
    "len(a)"
   ]
  },
  {
   "cell_type": "code",
   "execution_count": 49,
   "id": "635deeca-7c45-414c-8c8e-c241909bd651",
   "metadata": {
    "vscode": {
     "languageId": "python"
    }
   },
   "outputs": [
    {
     "data": {
      "text/plain": [
       "6"
      ]
     },
     "execution_count": 49,
     "metadata": {},
     "output_type": "execute_result"
    }
   ],
   "source": [
    "a=1,2,3,4,5,6 \n",
    "len(a)"
   ]
  },
  {
   "cell_type": "code",
   "execution_count": 50,
   "id": "210c3a9b-1837-4f59-83da-c4bb371195b7",
   "metadata": {
    "vscode": {
     "languageId": "python"
    }
   },
   "outputs": [
    {
     "data": {
      "text/plain": [
       "10"
      ]
     },
     "execution_count": 50,
     "metadata": {},
     "output_type": "execute_result"
    }
   ],
   "source": [
    "a=range(10)\n",
    "len(a)"
   ]
  },
  {
   "cell_type": "markdown",
   "id": "fbef3aa3-5e22-49ec-8199-75a1debb8630",
   "metadata": {},
   "source": [
    "`-` 길이가 1인 1차원 자료형과 0차원 자료형은 다른것임 "
   ]
  },
  {
   "cell_type": "code",
   "execution_count": 51,
   "id": "fd4067fe-1319-4a54-a1a2-65a4f4099beb",
   "metadata": {
    "vscode": {
     "languageId": "python"
    }
   },
   "outputs": [
    {
     "data": {
      "text/plain": [
       "1"
      ]
     },
     "execution_count": 51,
     "metadata": {},
     "output_type": "execute_result"
    }
   ],
   "source": [
    "a='g'\n",
    "len(a)"
   ]
  },
  {
   "cell_type": "code",
   "execution_count": 52,
   "id": "dc7fdc25-b5fb-49dc-82ed-50768f58179c",
   "metadata": {
    "vscode": {
     "languageId": "python"
    }
   },
   "outputs": [
    {
     "data": {
      "text/plain": [
       "1"
      ]
     },
     "execution_count": 52,
     "metadata": {},
     "output_type": "execute_result"
    }
   ],
   "source": [
    "a=[1] \n",
    "len(a)"
   ]
  },
  {
   "cell_type": "code",
   "execution_count": 53,
   "id": "d9d22c90-bf62-4036-9398-c3ed78a21e0d",
   "metadata": {
    "vscode": {
     "languageId": "python"
    }
   },
   "outputs": [
    {
     "data": {
      "text/plain": [
       "1"
      ]
     },
     "execution_count": 53,
     "metadata": {},
     "output_type": "execute_result"
    }
   ],
   "source": [
    "a=(1,)\n",
    "len(a)"
   ]
  },
  {
   "cell_type": "code",
   "execution_count": 54,
   "id": "ce0b2577-d2ae-4a37-8bdb-b7eeb7a976f6",
   "metadata": {
    "vscode": {
     "languageId": "python"
    }
   },
   "outputs": [
    {
     "data": {
      "text/plain": [
       "1"
      ]
     },
     "execution_count": 54,
     "metadata": {},
     "output_type": "execute_result"
    }
   ],
   "source": [
    "a=range(1)\n",
    "len(a)"
   ]
  },
  {
   "cell_type": "markdown",
   "id": "8f3af365-e24d-437b-83c7-4951dbcc36f0",
   "metadata": {},
   "source": [
    "`-` 길이가 0인 1차원 자료형도 존재함 "
   ]
  },
  {
   "cell_type": "code",
   "execution_count": 55,
   "id": "956cdeff-c08a-4465-9e0d-429b9542604c",
   "metadata": {
    "vscode": {
     "languageId": "python"
    }
   },
   "outputs": [
    {
     "data": {
      "text/plain": [
       "0"
      ]
     },
     "execution_count": 55,
     "metadata": {},
     "output_type": "execute_result"
    }
   ],
   "source": [
    "a=''\n",
    "len(a)"
   ]
  },
  {
   "cell_type": "code",
   "execution_count": 56,
   "id": "dfb2f9fd-e886-4f8a-abf4-a5061d2240a9",
   "metadata": {
    "vscode": {
     "languageId": "python"
    }
   },
   "outputs": [
    {
     "data": {
      "text/plain": [
       "0"
      ]
     },
     "execution_count": 56,
     "metadata": {},
     "output_type": "execute_result"
    }
   ],
   "source": [
    "a=[]\n",
    "len(a)"
   ]
  },
  {
   "cell_type": "code",
   "execution_count": 57,
   "id": "aff51d73-91e8-4092-9e2e-44f575e37ba5",
   "metadata": {
    "vscode": {
     "languageId": "python"
    }
   },
   "outputs": [
    {
     "data": {
      "text/plain": [
       "0"
      ]
     },
     "execution_count": 57,
     "metadata": {},
     "output_type": "execute_result"
    }
   ],
   "source": [
    "a=()\n",
    "len(a)"
   ]
  },
  {
   "cell_type": "code",
   "execution_count": 58,
   "id": "e3749f6b-4ea5-41f9-a2d6-d2acbf0ede2a",
   "metadata": {
    "vscode": {
     "languageId": "python"
    }
   },
   "outputs": [
    {
     "data": {
      "text/plain": [
       "0"
      ]
     },
     "execution_count": 58,
     "metadata": {},
     "output_type": "execute_result"
    }
   ],
   "source": [
    "a=range(0)\n",
    "len(a)"
   ]
  },
  {
   "cell_type": "markdown",
   "id": "62282ed3-59dd-4473-a82e-2566c77ebf00",
   "metadata": {},
   "source": [
    "# str, list, tuple 비교"
   ]
  },
  {
   "cell_type": "markdown",
   "id": "7ded424b-2657-4f65-9a0c-5efd4afc11bd",
   "metadata": {},
   "source": [
    "`-` str, list, tuple은 모두 시퀀스형이라는 공통점이 있다. $\\to$ 원소의 위치번호로 인덱싱이 가능 "
   ]
  },
  {
   "cell_type": "code",
   "execution_count": 59,
   "id": "e0832c48-4d06-4058-95cf-6595e19fc312",
   "metadata": {
    "vscode": {
     "languageId": "python"
    }
   },
   "outputs": [],
   "source": [
    "lst = [1,2,3,4]"
   ]
  },
  {
   "cell_type": "code",
   "execution_count": 60,
   "id": "60217608-c2cb-43ad-b37a-7c16cf259a89",
   "metadata": {
    "vscode": {
     "languageId": "python"
    }
   },
   "outputs": [
    {
     "data": {
      "text/plain": [
       "1"
      ]
     },
     "execution_count": 60,
     "metadata": {},
     "output_type": "execute_result"
    }
   ],
   "source": [
    "lst[0] # 위치번호=0"
   ]
  },
  {
   "cell_type": "code",
   "execution_count": 61,
   "id": "602685e6-dde2-4c6a-bbf1-0b0b47fbf9e1",
   "metadata": {
    "vscode": {
     "languageId": "python"
    }
   },
   "outputs": [
    {
     "data": {
      "text/plain": [
       "4"
      ]
     },
     "execution_count": 61,
     "metadata": {},
     "output_type": "execute_result"
    }
   ],
   "source": [
    "lst[-1] # 위치번호=-1"
   ]
  },
  {
   "cell_type": "markdown",
   "id": "a5e82f31-efd3-46f7-a2ba-805421106345",
   "metadata": {},
   "source": [
    "`-` str, list, tuple은 차이점도 존재함. 잠깐 정리해보자. "
   ]
  },
  {
   "cell_type": "markdown",
   "id": "5b9a8aec-405c-4f12-a7f2-1c9da8665de3",
   "metadata": {},
   "source": [
    "***시퀀스형의 카테고리***\n",
    "\n",
    "- 컨테니어형: list, tuple \n",
    "- 균일형: str \n",
    "- 가변형: list \n",
    "- 불변형: tuple, str "
   ]
  },
  {
   "cell_type": "markdown",
   "id": "0e10304e-320b-4d2f-b79c-ea5079c75c94",
   "metadata": {},
   "source": [
    "***표로 정리하면***"
   ]
  },
  {
   "cell_type": "markdown",
   "id": "c958c2ed-b5b3-45bc-969f-262f1a53b586",
   "metadata": {},
   "source": [
    "||컨테니어형|균일형|\n",
    "|:-:|:-:|:-:|\n",
    "|가변형|list|.|\n",
    "|불변형|tuple|str|"
   ]
  },
  {
   "cell_type": "markdown",
   "id": "619b6e77-c92c-470a-8e91-e50a06b928ac",
   "metadata": {},
   "source": [
    "`-` 시퀀스형이 아닌 1차원 자료형도 있을까? (이원소의 위치번호로 인덱싱이 불가능한 자료형 "
   ]
  },
  {
   "cell_type": "markdown",
   "id": "9136e4ae",
   "metadata": {},
   "source": [
    "# Quiz"
   ]
  },
  {
   "cell_type": "markdown",
   "id": "3d302e6a",
   "metadata": {},
   "source": [
    "`ssh코드`: 1-2"
   ]
  },
  {
   "cell_type": "markdown",
   "id": "19b640aa",
   "metadata": {},
   "source": [
    "아래의 문자열을 고려하자. "
   ]
  },
  {
   "cell_type": "code",
   "execution_count": null,
   "id": "ecde855e",
   "metadata": {
    "vscode": {
     "languageId": "python"
    }
   },
   "outputs": [],
   "source": [
    "test_arr = 'ssh-rsa AAAAB3NzaC1yc2EAAAABIwAAAQEAklOUpkDHrfHY17SbrmTIpNLTGK9Tjom/BWDSUGPl+nafzlHDTYW7hdI4yZ5ew18JH4JW9jbhUFrviQzM7xlELEVf4h9lFX5QVkbPppSwg0cda3Pbv7kOdJ/MTyBlWXFCR+HAo3FXRitBqxiX1nKhXpHAZsMciLq8V6RjsNAQwdsdMFvSlVK/7XAt3FaoJoAsncM1Q9x5+3V0Ww68/eIFmb1zuUFljQJKprrX88XypNDvjYNby6vw/Pb0rwert/EnmZ+AW4OZPnTPI89ZPmVMLuayrD2cE86Z/il8b+gw3r3+1nKatmIkjn2so1d01QraTlMqVSsbxNrRFi9wrf+M7Q== schacon@mylaptop.local'"
   ]
  },
  {
   "cell_type": "markdown",
   "id": "92c1c455",
   "metadata": {},
   "source": [
    "`1`. 이 문자열에서 `index = 0,2,4,6,8,...` 에 해당하는 원소를 출력하는 코드를 작성하라."
   ]
  },
  {
   "cell_type": "code",
   "execution_count": null,
   "id": "d56f5646",
   "metadata": {
    "vscode": {
     "languageId": "python"
    }
   },
   "outputs": [
    {
     "data": {
      "text/plain": [
       "'shraAABNa1cEAAIAAEkOpDrH1SrTpLG9jmBDUP+azHTWhIy5w8HJ9bUriz7lLV49F5VbpSgcaPvkd/TBWFRHoFRtqi1KXHZMiqVRsAwsMvlK7A3aJAnMQx+VW6/Im1uFjJpr8XpDjNyv/bretEm+WOPTI9PVLar2E6/lbg331KtIj2od1rTMVsxrF9r+7= cao@yatplcl'"
      ]
     },
     "metadata": {},
     "output_type": "display_data"
    }
   ],
   "source": [
    "# 출력결과는 아래와 같아야 한다. "
   ]
  },
  {
   "cell_type": "markdown",
   "id": "7e9b8fa5",
   "metadata": {},
   "source": [
    "`2`. 위 문자열을 뒤집은 문자열을 구하는 코드를 구현하라."
   ]
  },
  {
   "cell_type": "code",
   "execution_count": null,
   "id": "e590f7f4",
   "metadata": {
    "vscode": {
     "languageId": "python"
    }
   },
   "outputs": [
    {
     "data": {
      "text/plain": [
       "'lacol.potpalym@nocahcs ==Q7M+frw9iFRrNxbsSVqMlTarQ10d1os2njkImtaKn1+3r3wg+b8li/Z68Ec2DryauLMVmPZ98IPTnPZO4WA+ZmnE/trewr0bP/wv6ybNYjvDNpyX88XrrpKJQjlFUuz1bmFIe/86wW0V3+5x9Q1McnsAoJoaF3tAX7/KVlSvFMdsdwQANsjR6V8qLicMsZAHpXhKn1XixqBtiRXF3oAH+RCFXWlByTM/JdOk7vbP3adc0gwSppPbkVQ5XFl9h4fVELElx7MzQivrFUhbj9WJ4HJ81we5Zy4Idh7WYTDHlzfan+lPGUSDWB/mojT9KGTLNpITmrbS71YHfrHDkpUOlkAEQAAAwIBAAAAE2cy1CazN3BAAAA asr-hss'"
      ]
     },
     "metadata": {},
     "output_type": "display_data"
    }
   ],
   "source": [
    "# 출력결과는 아래와 같아야 한다. "
   ]
  },
  {
   "cell_type": "markdown",
   "id": "d627de22",
   "metadata": {},
   "source": [
    "---"
   ]
  },
  {
   "cell_type": "markdown",
   "id": "fd22edb0",
   "metadata": {},
   "source": [
    "`파이썬 프로그래밍 시험성적`: 3-4"
   ]
  },
  {
   "cell_type": "markdown",
   "id": "dbba5200",
   "metadata": {},
   "source": [
    "아래와 같은 dictionary가 있다고 가정하자. "
   ]
  },
  {
   "cell_type": "code",
   "execution_count": 3,
   "id": "5a7a2222",
   "metadata": {
    "vscode": {
     "languageId": "python"
    }
   },
   "outputs": [],
   "source": [
    "dct={'202212377': {'att': 65, 'rep': 45, 'mid': 0, 'fin': 10},\n",
    "     '202212473': {'att': 95, 'rep': 30, 'mid': 60, 'fin': 10},\n",
    "     '202212310': {'att': 65, 'rep': 85, 'mid': 15, 'fin': 20},\n",
    "     '202212460': {'att': 55, 'rep': 35, 'mid': 35, 'fin': 5},\n",
    "     '202212320': {'att': 80, 'rep': 60, 'mid': 55, 'fin': 70},\n",
    "     '202212329': {'att': 75, 'rep': 40, 'mid': 75, 'fin': 85},\n",
    "     '202212408': {'att': 65, 'rep': 70, 'mid': 60, 'fin': 75},\n",
    "     '202212319': {'att': 60, 'rep': 25, 'mid': 20, 'fin': 35},\n",
    "     '202212348': {'att': 95, 'rep': 55, 'mid': 65, 'fin': 90},\n",
    "     '202212306': {'att': 90, 'rep': 25, 'mid': 95, 'fin': 50},\n",
    "     '202212308': {'att': 55, 'rep': 45, 'mid': 75, 'fin': 30},\n",
    "     '202212366': {'att': 95, 'rep': 60, 'mid': 25, 'fin': 55},\n",
    "     '202212367': {'att': 95, 'rep': 35, 'mid': 0, 'fin': 25},\n",
    "     '202212461': {'att': 50, 'rep': 55, 'mid': 90, 'fin': 45}}"
   ]
  },
  {
   "cell_type": "markdown",
   "id": "e9cd77f8",
   "metadata": {},
   "source": [
    "여기에서 '202212377' 등은 학번을, att는 출석점수, rep는 레포트점수, mid는 중간고사 점수, fin은 기말고사 점수를 의미한다. "
   ]
  },
  {
   "cell_type": "markdown",
   "id": "a9cd2e61",
   "metadata": {},
   "source": [
    "`3`. 학생들의 학번을 아래와 같은 방식으로 출력하는 코드를 작성하라. "
   ]
  },
  {
   "cell_type": "code",
   "execution_count": 5,
   "id": "b0bb4190",
   "metadata": {
    "vscode": {
     "languageId": "python"
    }
   },
   "outputs": [
    {
     "data": {
      "text/plain": [
       "['202212377',\n",
       " '202212473',\n",
       " '202212310',\n",
       " '202212460',\n",
       " '202212320',\n",
       " '202212329',\n",
       " '202212408',\n",
       " '202212319',\n",
       " '202212348',\n",
       " '202212306',\n",
       " '202212308',\n",
       " '202212366',\n",
       " '202212367',\n",
       " '202212461']"
      ]
     },
     "execution_count": 5,
     "metadata": {},
     "output_type": "execute_result"
    }
   ],
   "source": [
    "# 출력예시"
   ]
  },
  {
   "cell_type": "markdown",
   "id": "b04c2dcb",
   "metadata": {},
   "source": [
    "`4`. 출석점수가 70점 이상인(`>=70`) 학생들의 학번을 출력하는 코드를 작성하라. "
   ]
  },
  {
   "cell_type": "code",
   "execution_count": null,
   "id": "8b0aa306",
   "metadata": {
    "vscode": {
     "languageId": "python"
    }
   },
   "outputs": [
    {
     "data": {
      "text/plain": [
       "['2022-12473',\n",
       " '2022-12320',\n",
       " '2022-12329',\n",
       " '2022-12348',\n",
       " '2022-12306',\n",
       " '2022-12366',\n",
       " '2022-12367']"
      ]
     },
     "metadata": {},
     "output_type": "display_data"
    }
   ],
   "source": [
    "# 출력예시 "
   ]
  },
  {
   "cell_type": "markdown",
   "id": "85a785fb",
   "metadata": {},
   "source": [
    "---"
   ]
  },
  {
   "cell_type": "markdown",
   "id": "881172d9",
   "metadata": {},
   "source": [
    "`Oxford-III`: 5--10 // [reference](https://www.robots.ox.ac.uk/~vgg/data/pets/)\n",
    "\n",
    "아래는 이미지 파일명들이 저장된 string을 불러오는 코드이다. "
   ]
  },
  {
   "cell_type": "code",
   "execution_count": null,
   "id": "f209d7af",
   "metadata": {
    "vscode": {
     "languageId": "python"
    }
   },
   "outputs": [],
   "source": [
    "import requests\n",
    "url = 'https://raw.githubusercontent.com/guebin/PP2023/main/posts/01_PythonBasic/Oxford-IIIT.txt'\n",
    "txt = requests.get(url).content.decode()"
   ]
  },
  {
   "cell_type": "markdown",
   "id": "ea8df8ae",
   "metadata": {},
   "source": [
    "txt의 출력 일부를 나타내면 아래와 같다. \n",
    "\n",
    "```default\n",
    "'Abyssinian_1.jpg\\nAbyssinian_10.jpg\\nAbyssinian_100.jpg\\nAbyssinian_100.mat\\nAbyssinian_101.jpg\\nAbyssinian_101.mat\\nAbyssinian_102.jpg\\nAbyssinian_102.mat\\nAbyssinian_103.jpg\\nAbyssinian_104.jpg\\nAbyssinian_105.jpg\\nAbyssinian_106.jpg\\nAbyssinian_107.jpg\\nAbyssinian_108.jpg\\nAbyssinian_109.jpg\\nAbyssinian_11.jpg\\nAbyssinian_110.jpg\\nAbyssinian_111.jpg\\nAbyssinian_112.jpg\\nAbyssinian_113.jpg\\nAbyssinian_114.jpg\\nAbyssinian_115.jpg\\nAbyssinian_116.jpg\\nAbyssinian_117.jpg\\nAbyssinian_118.jpg\\nAbyssinian_119.jpg\\nAbyssinian_12.jpg\\nAbyssinian_120.jpg\\nAbyssinian_121.jpg\\nAbyssinian_122.jpg\\nAbyssinian_123.jpg\\nAbyssinian_124.jpg\\nAbyssinian_125.jpg\\nAbyssinian_126.jpg\\nAbyssinian_127.jpg\\nAbyssinian_128.jpg\\nAbyssinian_129.jpg\\nAbyssinian_13.jpg\\nAbyssinian_130.jpg\\nAbyssinian_131.jpg\\nAbyssinian_132.jpg\\n ....... \n",
    "```"
   ]
  },
  {
   "cell_type": "markdown",
   "id": "fea69e3a",
   "metadata": {},
   "source": [
    "`5`. 각 파일명은 `\\n`으로 구분되어있다. 위의 스트링을 분해하여 아래와 같은 리스트를 생성하고 `fname_list`에 저장하라. "
   ]
  },
  {
   "cell_type": "markdown",
   "id": "5825cd13",
   "metadata": {},
   "source": [
    "```Python\n",
    "# fname_list 의 출력결과는 아래와 같아야 한다. \n",
    "['Abyssinian_1.jpg','Abyssinian_10.jpg', ... ,'yorkshire_terrier_98.jpg', 'yorkshire_terrier_99.jpg']\n",
    "```"
   ]
  },
  {
   "cell_type": "markdown",
   "id": "cf12e228",
   "metadata": {},
   "source": [
    "`6`. 각 이미지파일명은 아래와 같은 규칙으로 저장되어 있다. \n",
    "\n",
    "- 파일명의 첫글자가 대문자이면 고양이를 의미하고 첫글자가 소문자이면 강아지를 의미한다. \n",
    "- `_` 이전의 영문명은 고양이 혹은 강아지의 종(breed)을 의미한다. "
   ]
  },
  {
   "cell_type": "markdown",
   "id": "6c87c2db",
   "metadata": {},
   "source": [
    "이미지 파일명이 입력으로 오면 강아지인지 고양이인지 판단하여 'cat' or 'dog'를 리턴하는 함수 `f`를 구현하라. "
   ]
  },
  {
   "cell_type": "markdown",
   "id": "9afd7a4e",
   "metadata": {},
   "source": [
    "(함수사용예시)"
   ]
  },
  {
   "cell_type": "code",
   "execution_count": null,
   "id": "18392ac6",
   "metadata": {
    "vscode": {
     "languageId": "python"
    }
   },
   "outputs": [
    {
     "data": {
      "text/plain": [
       "'dog'"
      ]
     },
     "metadata": {},
     "output_type": "display_data"
    }
   ],
   "source": [
    "f('yorkshire_terrier_99.jpg')"
   ]
  },
  {
   "cell_type": "code",
   "execution_count": null,
   "id": "7dc91635",
   "metadata": {
    "vscode": {
     "languageId": "python"
    }
   },
   "outputs": [
    {
     "data": {
      "text/plain": [
       "'cat'"
      ]
     },
     "metadata": {},
     "output_type": "display_data"
    }
   ],
   "source": [
    "f('Abyssinian_1.jpg')"
   ]
  },
  {
   "cell_type": "markdown",
   "id": "9012de8b",
   "metadata": {},
   "source": [
    "`7`. 5의 결과로 나온 `fname_list`를 입력으로 하고 리스트의 각 원소가 고양이를 의미하는 그림인지 강아지를 의미하는 그림인지 나타내는 리스트를 만들어라. "
   ]
  },
  {
   "cell_type": "markdown",
   "id": "179e540b",
   "metadata": {},
   "source": [
    "```Python\n",
    "## 입력예시 \n",
    "['Abyssinian_1.jpg','Abyssinian_10.jpg',...,'yorkshire_terrier_98.jpg', 'yorkshire_terrier_99.jpg']\n",
    "\n",
    "## 출력예시\n",
    "['cat', 'cat', ... , 'dog', 'dog']\n",
    "```"
   ]
  },
  {
   "cell_type": "markdown",
   "id": "80166abe",
   "metadata": {},
   "source": [
    "`8`. 강아지 그림과 고양이 그림이 각각 몇 장씩 포함되어 있는지 파악하는 코드를 구현하라. "
   ]
  },
  {
   "cell_type": "markdown",
   "id": "61cae3ee",
   "metadata": {},
   "source": [
    "**hint** 고양이 2403, 강아지 4990 "
   ]
  },
  {
   "cell_type": "markdown",
   "id": "bc89bc98",
   "metadata": {},
   "source": [
    "`9`. 포메라니안 종의 그림이 몇장있는지 파악하는 코드를 구현하라. "
   ]
  },
  {
   "cell_type": "markdown",
   "id": "268e5d14",
   "metadata": {},
   "source": [
    "**hint:** 포메라니안 그림은 파일명에 'pomeranian' 을 포함한다. "
   ]
  }
 ],
 "metadata": {
  "kernelspec": {
   "display_name": "Python 3 (ipykernel)",
   "language": "python",
   "name": "python3"
  },
  "language_info": {
   "codemirror_mode": {
    "name": "ipython",
    "version": 3
   },
   "file_extension": ".py",
   "mimetype": "text/x-python",
   "name": "python",
   "nbconvert_exporter": "python",
   "pygments_lexer": "ipython3",
   "version": "3.10.13"
  }
 },
 "nbformat": 4,
 "nbformat_minor": 5
}
