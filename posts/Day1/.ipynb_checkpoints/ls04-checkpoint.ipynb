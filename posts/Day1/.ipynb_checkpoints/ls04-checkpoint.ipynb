{
 "cells": [
  {
   "cell_type": "raw",
   "id": "b8f630de-ce8b-4217-b152-c7afe0de27ef",
   "metadata": {
    "tags": []
   },
   "source": [
    "---\n",
    "title: \"Lesson 04: 파이썬의 자료형 III (dict, set)\"\n",
    "author: \"최규빈\"\n",
    "date: \"06/24/2023\"\n",
    "---"
   ]
  },
  {
   "cell_type": "markdown",
   "id": "a510f1ea-e8f6-47b5-b5b5-3a8c4025e5a4",
   "metadata": {},
   "source": [
    "<a href=\"https://colab.research.google.com/github/guebin/PP2023SUM/blob/main/posts/Day1/01_PythonBasicSyntax/ls04.ipynb\"><img src=\"https://colab.research.google.com/assets/colab-badge.svg\" style=\"text-align: left\"></a>"
   ]
  },
  {
   "cell_type": "markdown",
   "id": "711794b5",
   "metadata": {},
   "source": [
    "# 딕셔너리 기본내용"
   ]
  },
  {
   "cell_type": "markdown",
   "id": "1771edcd",
   "metadata": {},
   "source": [
    "## intro: str, list, tuple 정리"
   ]
  },
  {
   "cell_type": "markdown",
   "id": "4783ec51",
   "metadata": {},
   "source": [
    "`-` str, list, tuple은 모두 시퀀스형이라는 공통점이 있다. $\\to$ 원소의 위치번호로 인덱싱이 가능 "
   ]
  },
  {
   "cell_type": "code",
   "execution_count": null,
   "id": "0a004a5c",
   "metadata": {},
   "outputs": [],
   "source": [
    "lst = [1,2,3,4]"
   ]
  },
  {
   "cell_type": "code",
   "execution_count": null,
   "id": "d573fc0e",
   "metadata": {},
   "outputs": [
    {
     "data": {
      "text/plain": [
       "1"
      ]
     },
     "metadata": {},
     "output_type": "display_data"
    }
   ],
   "source": [
    "lst[0] # 위치번호=0"
   ]
  },
  {
   "cell_type": "code",
   "execution_count": null,
   "id": "fc202bcb",
   "metadata": {},
   "outputs": [
    {
     "data": {
      "text/plain": [
       "4"
      ]
     },
     "metadata": {},
     "output_type": "display_data"
    }
   ],
   "source": [
    "lst[-1] # 위치번호=-1"
   ]
  },
  {
   "cell_type": "markdown",
   "id": "c043ea7a",
   "metadata": {},
   "source": [
    "`-` str, list, tuple은 차이점도 존재함. 잠깐 정리해보자. "
   ]
  },
  {
   "cell_type": "markdown",
   "id": "3140a9f0",
   "metadata": {},
   "source": [
    "***시퀀스형의 카테고리***\n",
    "\n",
    "- 컨테니어형: list, tuple \n",
    "- 균일형: str \n",
    "- 가변형: list \n",
    "- 불변형: tuple, str "
   ]
  },
  {
   "cell_type": "markdown",
   "id": "5b3fea7c",
   "metadata": {},
   "source": [
    "***표로 정리하면***"
   ]
  },
  {
   "cell_type": "markdown",
   "id": "5c6dd104",
   "metadata": {},
   "source": [
    "||컨테니어형|균일형|\n",
    "|:-:|:-:|:-:|\n",
    "|가변형|list|.|\n",
    "|불변형|tuple|str|"
   ]
  },
  {
   "cell_type": "markdown",
   "id": "90e53a82",
   "metadata": {},
   "source": [
    "`-` 시퀀스형이 아닌 1차원 자료형도 있을까? 원소의 위치번호로 인덱싱이 불가능한 자료형 "
   ]
  },
  {
   "cell_type": "markdown",
   "id": "52b4bd9d",
   "metadata": {},
   "source": [
    "`-` 왜 이런게 필요할까? \n",
    "\n",
    "- 벡터에서 원소를 뽑는것은 정보의 모임에서 정보를 검색하는 것과 같다. \n",
    "- 정보를 `순서`대로 나열한뒤에 그 `순서`를 이용하여 검색하는 방법은 유용하다. \n",
    "- 하지만 경우에 따라서는 `키워드`를 기억해서 그 `키워드`를 바탕으로 정보에 접근하는 방법이 유용할 수 있다.  "
   ]
  },
  {
   "cell_type": "markdown",
   "id": "529fd2d2",
   "metadata": {},
   "source": [
    "***카카오톡 대화내용검색*** "
   ]
  },
  {
   "cell_type": "markdown",
   "id": "b27d3fe6",
   "metadata": {},
   "source": [
    "(상황1) `오늘아침`에 와이프가 `뭔가`를 카톡으로 부탁했었음. 그런데 그 `뭔가`가 기억안남. "
   ]
  },
  {
   "cell_type": "markdown",
   "id": "f2092988",
   "metadata": {},
   "source": [
    "(상황2) `개강전에` 동료교수와 함께 `저녁약속`을 카톡으로 잡았었음. 그런데 그게 언제인지 기억안남. "
   ]
  },
  {
   "cell_type": "markdown",
   "id": "a4fb90c3",
   "metadata": {},
   "source": [
    "(상황3) `오늘아침` 동료교수와 함께 `점심약속`을 카톡으로 잡았었음. 그런데 그 장소가 기억나지 않음. "
   ]
  },
  {
   "cell_type": "markdown",
   "id": "c80d6530",
   "metadata": {},
   "source": [
    "`-` 순서대로 정리된 자료를 검색할때는 시퀀스형이 유리하다. 그런데 키워드로 검색하고 싶을 경우는 딕셔너리 타입이 유리하다. "
   ]
  },
  {
   "cell_type": "markdown",
   "id": "ce61094b",
   "metadata": {},
   "source": [
    "## 선언 "
   ]
  },
  {
   "cell_type": "markdown",
   "id": "be7c928a",
   "metadata": {},
   "source": [
    "`-` 방법1: 가장 일반적 "
   ]
  },
  {
   "cell_type": "code",
   "execution_count": null,
   "id": "82b8c4a1",
   "metadata": {},
   "outputs": [
    {
     "data": {
      "text/plain": [
       "{'guebin': 49, 'hanni': 80}"
      ]
     },
     "metadata": {},
     "output_type": "display_data"
    }
   ],
   "source": [
    "dct = {'guebin':49, 'hanni':80}\n",
    "dct"
   ]
  },
  {
   "cell_type": "markdown",
   "id": "ee958112",
   "metadata": {},
   "source": [
    "`-` 방법2: `dict()` 이용 "
   ]
  },
  {
   "cell_type": "code",
   "execution_count": null,
   "id": "33c920f4",
   "metadata": {},
   "outputs": [
    {
     "data": {
      "text/plain": [
       "{'guebin': 49, 'hanni': 80}"
      ]
     },
     "metadata": {},
     "output_type": "display_data"
    }
   ],
   "source": [
    "dct = dict(guebin=49, hanni=80)\n",
    "dct"
   ]
  },
  {
   "cell_type": "markdown",
   "id": "e3b70dda",
   "metadata": {},
   "source": [
    "`-` 방법3: 중첩된 리스트를 만든 뒤에 형태변환 "
   ]
  },
  {
   "cell_type": "code",
   "execution_count": null,
   "id": "2249d116",
   "metadata": {},
   "outputs": [
    {
     "data": {
      "text/plain": [
       "[['guebin', 49], ['hanni', 80]]"
      ]
     },
     "metadata": {},
     "output_type": "display_data"
    }
   ],
   "source": [
    "_lst = [['guebin',49],['hanni',80]]\n",
    "_lst "
   ]
  },
  {
   "cell_type": "code",
   "execution_count": null,
   "id": "e96f955a",
   "metadata": {},
   "outputs": [
    {
     "data": {
      "text/plain": [
       "{'guebin': 49, 'hanni': 80}"
      ]
     },
     "metadata": {},
     "output_type": "display_data"
    }
   ],
   "source": [
    "dict(_lst)"
   ]
  },
  {
   "cell_type": "markdown",
   "id": "f87df070",
   "metadata": {},
   "source": [
    "`-` 방법4: 중첩된 튜플을 만든 뒤에 형태변환 "
   ]
  },
  {
   "cell_type": "code",
   "execution_count": null,
   "id": "efd283bf",
   "metadata": {},
   "outputs": [
    {
     "data": {
      "text/plain": [
       "(('guebin', 49), ('hanni', 80))"
      ]
     },
     "metadata": {},
     "output_type": "display_data"
    }
   ],
   "source": [
    "_tpl = ('guebin',49), ('hanni',80)\n",
    "_tpl"
   ]
  },
  {
   "cell_type": "code",
   "execution_count": null,
   "id": "d0f6ea74",
   "metadata": {},
   "outputs": [
    {
     "data": {
      "text/plain": [
       "{'guebin': 49, 'hanni': 80}"
      ]
     },
     "metadata": {},
     "output_type": "display_data"
    }
   ],
   "source": [
    "dict(_tpl)"
   ]
  },
  {
   "cell_type": "markdown",
   "id": "6406c138",
   "metadata": {},
   "source": [
    "## 원소추출 "
   ]
  },
  {
   "cell_type": "markdown",
   "id": "d746d7a6",
   "metadata": {},
   "source": [
    "`-` 원소의 위치로 추출할 수 없고, key로 추출해야 한다. "
   ]
  },
  {
   "cell_type": "code",
   "execution_count": null,
   "id": "feecfeb1",
   "metadata": {},
   "outputs": [
    {
     "data": {
      "text/plain": [
       "{'guebin': 49, 'hanni': 80}"
      ]
     },
     "metadata": {},
     "output_type": "display_data"
    }
   ],
   "source": [
    "dct = {'guebin':49, 'hanni':80}\n",
    "dct"
   ]
  },
  {
   "cell_type": "markdown",
   "id": "020420ac",
   "metadata": {},
   "source": [
    "guebin의 점수를 추출하고 싶다면? "
   ]
  },
  {
   "cell_type": "code",
   "execution_count": null,
   "id": "1f76b4d8",
   "metadata": {},
   "outputs": [
    {
     "data": {
      "text/plain": [
       "49"
      ]
     },
     "metadata": {},
     "output_type": "display_data"
    }
   ],
   "source": [
    "dct['guebin']"
   ]
  },
  {
   "cell_type": "markdown",
   "id": "f4788069",
   "metadata": {},
   "source": [
    "`-` 만약에 dict가 아니라 list로 정보를 저장했다면? "
   ]
  },
  {
   "cell_type": "markdown",
   "id": "7ee04e75",
   "metadata": {},
   "source": [
    "(예제) 아래와 같은 리스트에서 guebin의 점수를 추출하고 싶다면? "
   ]
  },
  {
   "cell_type": "code",
   "execution_count": null,
   "id": "3f1c71dc",
   "metadata": {},
   "outputs": [
    {
     "data": {
      "text/plain": [
       "[['guebin', 49], ['hanni', 80]]"
      ]
     },
     "metadata": {},
     "output_type": "display_data"
    }
   ],
   "source": [
    "lst=[['guebin',49],['hanni',80]]\n",
    "lst"
   ]
  },
  {
   "cell_type": "markdown",
   "id": "bf31a10e",
   "metadata": {},
   "source": [
    "(풀이1)"
   ]
  },
  {
   "cell_type": "code",
   "execution_count": null,
   "id": "203261fa",
   "metadata": {},
   "outputs": [
    {
     "data": {
      "text/plain": [
       "49"
      ]
     },
     "metadata": {},
     "output_type": "display_data"
    }
   ],
   "source": [
    "lst[0][1] # guebin의 점수를 출력하란 의미"
   ]
  },
  {
   "cell_type": "markdown",
   "id": "c14d1357",
   "metadata": {},
   "source": [
    "(풀이2) -- 진짜 최악"
   ]
  },
  {
   "cell_type": "code",
   "execution_count": null,
   "id": "8c795e13",
   "metadata": {},
   "outputs": [
    {
     "data": {
      "text/plain": [
       "[49]"
      ]
     },
     "metadata": {},
     "output_type": "display_data"
    }
   ],
   "source": [
    "[lst[i][1] for i in range(len(lst)) if lst[i][0] == 'guebin']"
   ]
  },
  {
   "cell_type": "markdown",
   "id": "5d4f06a8",
   "metadata": {},
   "source": [
    "(풀이3) -- 덜 최악"
   ]
  },
  {
   "cell_type": "code",
   "execution_count": null,
   "id": "de98cd04",
   "metadata": {},
   "outputs": [
    {
     "data": {
      "text/plain": [
       "[49]"
      ]
     },
     "metadata": {},
     "output_type": "display_data"
    }
   ],
   "source": [
    "[score for name,score in lst if name == 'guebin']"
   ]
  },
  {
   "cell_type": "markdown",
   "id": "31d9424c",
   "metadata": {},
   "source": [
    "`-` 'guebin'의 점수를 추출하는 코드 비교 "
   ]
  },
  {
   "cell_type": "code",
   "execution_count": null,
   "id": "adf59e59",
   "metadata": {},
   "outputs": [
    {
     "data": {
      "text/plain": [
       "49"
      ]
     },
     "metadata": {},
     "output_type": "display_data"
    }
   ],
   "source": [
    "dct['guebin'] # 코드1: 단순하고, 가독성있음"
   ]
  },
  {
   "cell_type": "code",
   "execution_count": null,
   "id": "d7605808",
   "metadata": {},
   "outputs": [
    {
     "data": {
      "text/plain": [
       "49"
      ]
     },
     "metadata": {},
     "output_type": "display_data"
    }
   ],
   "source": [
    "lst[0][1] # 코드2: 단순하지만, 가독성이 있는건 아님"
   ]
  },
  {
   "cell_type": "code",
   "execution_count": null,
   "id": "8b08f88e",
   "metadata": {},
   "outputs": [
    {
     "data": {
      "text/plain": [
       "[49]"
      ]
     },
     "metadata": {},
     "output_type": "display_data"
    }
   ],
   "source": [
    "[lst[i][1] for i in range(len(lst)) if lst[i][0] =='guebin'] # 코드3: 단순하지도 않고, 가독성도 없음."
   ]
  },
  {
   "cell_type": "code",
   "execution_count": null,
   "id": "8e07a60b",
   "metadata": {},
   "outputs": [
    {
     "data": {
      "text/plain": [
       "[49]"
      ]
     },
     "metadata": {},
     "output_type": "display_data"
    }
   ],
   "source": [
    "[score for name,score in lst if name=='guebin' ] # 코드4: 단순하지 않지만, 가독성은 있음"
   ]
  },
  {
   "cell_type": "markdown",
   "id": "34b479d1",
   "metadata": {},
   "source": [
    "## 원소추가, 변경, 삭제"
   ]
  },
  {
   "cell_type": "code",
   "execution_count": null,
   "id": "171ce1d9",
   "metadata": {},
   "outputs": [
    {
     "data": {
      "text/plain": [
       "{'guebin': 49, 'hanni': 80}"
      ]
     },
     "metadata": {},
     "output_type": "display_data"
    }
   ],
   "source": [
    "dct={'guebin':49, 'hanni':80}\n",
    "dct"
   ]
  },
  {
   "cell_type": "markdown",
   "id": "8068d725",
   "metadata": {},
   "source": [
    "`-` 원소에 접근: guebin의 점수 출력"
   ]
  },
  {
   "cell_type": "code",
   "execution_count": null,
   "id": "abdfe838",
   "metadata": {},
   "outputs": [
    {
     "data": {
      "text/plain": [
       "49"
      ]
     },
     "metadata": {},
     "output_type": "display_data"
    }
   ],
   "source": [
    "dct['guebin']"
   ]
  },
  {
   "cell_type": "markdown",
   "id": "a0e4bb22",
   "metadata": {},
   "source": [
    "`-` 추가: hynn학생의 점수를 추가"
   ]
  },
  {
   "cell_type": "code",
   "execution_count": null,
   "id": "84860ec5",
   "metadata": {},
   "outputs": [],
   "source": [
    "dct['hynn'] = 99"
   ]
  },
  {
   "cell_type": "code",
   "execution_count": null,
   "id": "24aded48",
   "metadata": {},
   "outputs": [
    {
     "data": {
      "text/plain": [
       "{'guebin': 49, 'hanni': 80, 'hynn': 99}"
      ]
     },
     "metadata": {},
     "output_type": "display_data"
    }
   ],
   "source": [
    "dct"
   ]
  },
  {
   "cell_type": "markdown",
   "id": "e4f841e2",
   "metadata": {},
   "source": [
    "`-` 변경: hanni의 점수를 변경 "
   ]
  },
  {
   "cell_type": "code",
   "execution_count": null,
   "id": "41211859",
   "metadata": {},
   "outputs": [],
   "source": [
    "dct['hanni'] = 100 "
   ]
  },
  {
   "cell_type": "code",
   "execution_count": null,
   "id": "2732e570",
   "metadata": {},
   "outputs": [
    {
     "data": {
      "text/plain": [
       "{'guebin': 49, 'hanni': 100, 'hynn': 99}"
      ]
     },
     "metadata": {},
     "output_type": "display_data"
    }
   ],
   "source": [
    "dct"
   ]
  },
  {
   "cell_type": "markdown",
   "id": "a88d7fed",
   "metadata": {},
   "source": [
    "`-` 삭제 "
   ]
  },
  {
   "cell_type": "markdown",
   "id": "56c2a7e7",
   "metadata": {},
   "source": [
    "(방법1)"
   ]
  },
  {
   "cell_type": "code",
   "execution_count": null,
   "id": "e8686af7",
   "metadata": {},
   "outputs": [
    {
     "data": {
      "text/plain": [
       "{'hanni': 80, 'hynn': 99}"
      ]
     },
     "metadata": {},
     "output_type": "display_data"
    }
   ],
   "source": [
    "dct={'guebin':49, 'hanni':80, 'hynn':99}\n",
    "del dct['guebin']  \n",
    "dct"
   ]
  },
  {
   "cell_type": "markdown",
   "id": "9da033be",
   "metadata": {},
   "source": [
    "(방법2)"
   ]
  },
  {
   "cell_type": "code",
   "execution_count": null,
   "id": "b5e9a1c3",
   "metadata": {},
   "outputs": [
    {
     "data": {
      "text/plain": [
       "49"
      ]
     },
     "metadata": {},
     "output_type": "display_data"
    }
   ],
   "source": [
    "dct={'guebin':49, 'hanni':80, 'hynn':99} \n",
    "dct.pop('guebin')"
   ]
  },
  {
   "cell_type": "code",
   "execution_count": null,
   "id": "01ed9212",
   "metadata": {},
   "outputs": [
    {
     "data": {
      "text/plain": [
       "{'hanni': 80, 'hynn': 99}"
      ]
     },
     "metadata": {},
     "output_type": "display_data"
    }
   ],
   "source": [
    "dct"
   ]
  },
  {
   "cell_type": "markdown",
   "id": "5bee4c32",
   "metadata": {},
   "source": [
    "`-` 참고로 리스트였다면 이러한 삭제작업역시 비효율적이었을 것임 "
   ]
  },
  {
   "cell_type": "code",
   "execution_count": null,
   "id": "a64ede40",
   "metadata": {},
   "outputs": [
    {
     "data": {
      "text/plain": [
       "[['guebin', 49], ['hanni', 80], ['hynn', 99]]"
      ]
     },
     "metadata": {},
     "output_type": "display_data"
    }
   ],
   "source": [
    "lst = [['guebin',49],['hanni',80],['hynn',99]] \n",
    "lst"
   ]
  },
  {
   "cell_type": "markdown",
   "id": "3031013d",
   "metadata": {},
   "source": [
    "guebin의 점수를 삭제하려면? "
   ]
  },
  {
   "cell_type": "code",
   "execution_count": null,
   "id": "809e9372",
   "metadata": {},
   "outputs": [
    {
     "data": {
      "text/plain": [
       "[['hanni', 80], ['hynn', 99]]"
      ]
     },
     "metadata": {},
     "output_type": "display_data"
    }
   ],
   "source": [
    "[[name,score] for name,score in lst if name != 'guebin']"
   ]
  },
  {
   "cell_type": "markdown",
   "id": "8376662d",
   "metadata": {},
   "source": [
    "## 연산 "
   ]
  },
  {
   "cell_type": "markdown",
   "id": "b91456b6",
   "metadata": {},
   "source": [
    "`-` 하나있어요.. "
   ]
  },
  {
   "cell_type": "code",
   "execution_count": null,
   "id": "c6f4533c",
   "metadata": {},
   "outputs": [
    {
     "data": {
      "text/plain": [
       "{'guebin': 49, 'hanni': 80}"
      ]
     },
     "metadata": {},
     "output_type": "display_data"
    }
   ],
   "source": [
    "dct = {'guebin':49, 'hanni':80} \n",
    "dct"
   ]
  },
  {
   "cell_type": "code",
   "execution_count": null,
   "id": "31feebc8",
   "metadata": {},
   "outputs": [
    {
     "data": {
      "text/plain": [
       "True"
      ]
     },
     "metadata": {},
     "output_type": "display_data"
    }
   ],
   "source": [
    "'guebin' in dct"
   ]
  },
  {
   "cell_type": "code",
   "execution_count": null,
   "id": "ef7e8653",
   "metadata": {},
   "outputs": [
    {
     "data": {
      "text/plain": [
       "True"
      ]
     },
     "metadata": {},
     "output_type": "display_data"
    }
   ],
   "source": [
    "'hanni' in dct"
   ]
  },
  {
   "cell_type": "code",
   "execution_count": null,
   "id": "9a24c8e5",
   "metadata": {},
   "outputs": [
    {
     "data": {
      "text/plain": [
       "False"
      ]
     },
     "metadata": {},
     "output_type": "display_data"
    }
   ],
   "source": [
    "'hynn' in dct"
   ]
  },
  {
   "cell_type": "markdown",
   "id": "68f9b9ac",
   "metadata": {},
   "source": [
    "`-` in은 사실 다른자료형도 가능했음 "
   ]
  },
  {
   "cell_type": "markdown",
   "id": "a128aad5",
   "metadata": {},
   "source": [
    "(관찰1)"
   ]
  },
  {
   "cell_type": "code",
   "execution_count": null,
   "id": "08545413",
   "metadata": {},
   "outputs": [
    {
     "data": {
      "text/plain": [
       "False"
      ]
     },
     "metadata": {},
     "output_type": "display_data"
    }
   ],
   "source": [
    "'a' in 'guebin' "
   ]
  },
  {
   "cell_type": "code",
   "execution_count": null,
   "id": "d4a0c835",
   "metadata": {},
   "outputs": [
    {
     "data": {
      "text/plain": [
       "True"
      ]
     },
     "metadata": {},
     "output_type": "display_data"
    }
   ],
   "source": [
    "'b' in 'guebin' "
   ]
  },
  {
   "cell_type": "code",
   "execution_count": null,
   "id": "b1d1aed4",
   "metadata": {},
   "outputs": [
    {
     "data": {
      "text/plain": [
       "False"
      ]
     },
     "metadata": {},
     "output_type": "display_data"
    }
   ],
   "source": [
    "'c' in 'guebin' "
   ]
  },
  {
   "cell_type": "markdown",
   "id": "4c163b87",
   "metadata": {},
   "source": [
    "(관찰2)"
   ]
  },
  {
   "cell_type": "code",
   "execution_count": null,
   "id": "411a3af6",
   "metadata": {},
   "outputs": [
    {
     "data": {
      "text/plain": [
       "(1, 2, 3)"
      ]
     },
     "metadata": {},
     "output_type": "display_data"
    }
   ],
   "source": [
    "tpl = 1,2,3 \n",
    "tpl"
   ]
  },
  {
   "cell_type": "code",
   "execution_count": null,
   "id": "7ac29a71",
   "metadata": {},
   "outputs": [
    {
     "data": {
      "text/plain": [
       "True"
      ]
     },
     "metadata": {},
     "output_type": "display_data"
    }
   ],
   "source": [
    "1 in tpl"
   ]
  },
  {
   "cell_type": "code",
   "execution_count": null,
   "id": "0388d08e",
   "metadata": {},
   "outputs": [
    {
     "data": {
      "text/plain": [
       "False"
      ]
     },
     "metadata": {},
     "output_type": "display_data"
    }
   ],
   "source": [
    "4 in tpl"
   ]
  },
  {
   "cell_type": "markdown",
   "id": "9c1a2398",
   "metadata": {},
   "source": [
    "(관찰3)"
   ]
  },
  {
   "cell_type": "code",
   "execution_count": null,
   "id": "577d2248",
   "metadata": {},
   "outputs": [
    {
     "data": {
      "text/plain": [
       "[['guebin', 49], ['hanni', 80], ['hynn', 99]]"
      ]
     },
     "metadata": {},
     "output_type": "display_data"
    }
   ],
   "source": [
    "lst = [['guebin',49],['hanni',80],['hynn',99]] \n",
    "lst"
   ]
  },
  {
   "cell_type": "code",
   "execution_count": null,
   "id": "67be7517",
   "metadata": {},
   "outputs": [
    {
     "data": {
      "text/plain": [
       "True"
      ]
     },
     "metadata": {},
     "output_type": "display_data"
    }
   ],
   "source": [
    "['guebin',49] in lst"
   ]
  },
  {
   "cell_type": "markdown",
   "id": "61e003af",
   "metadata": {},
   "source": [
    "`-` in연산자가 dict형에 사용되면 key를 기준으로 True, False를 판단한다. "
   ]
  },
  {
   "cell_type": "markdown",
   "id": "f506297f",
   "metadata": {},
   "source": [
    "## 딕셔너리 특수기능 "
   ]
  },
  {
   "cell_type": "markdown",
   "id": "9d988c64",
   "metadata": {},
   "source": [
    "**(pop)**"
   ]
  },
  {
   "cell_type": "code",
   "execution_count": null,
   "id": "b0224b8d",
   "metadata": {},
   "outputs": [
    {
     "data": {
      "text/plain": [
       "{'guebin': 49}"
      ]
     },
     "metadata": {},
     "output_type": "display_data"
    }
   ],
   "source": [
    "dct = {'guebin':49, 'hanni':80} \n",
    "dct.pop('hanni')\n",
    "dct"
   ]
  },
  {
   "cell_type": "markdown",
   "id": "7491fc71",
   "metadata": {},
   "source": [
    "**(get)**"
   ]
  },
  {
   "cell_type": "code",
   "execution_count": null,
   "id": "e37bec1e",
   "metadata": {},
   "outputs": [
    {
     "data": {
      "text/plain": [
       "{'guebin': 49, 'hanni': 80}"
      ]
     },
     "metadata": {},
     "output_type": "display_data"
    }
   ],
   "source": [
    "dct = {'guebin':49, 'hanni':80} \n",
    "dct"
   ]
  },
  {
   "cell_type": "code",
   "execution_count": null,
   "id": "29820be9",
   "metadata": {},
   "outputs": [
    {
     "data": {
      "text/plain": [
       "49"
      ]
     },
     "metadata": {},
     "output_type": "display_data"
    }
   ],
   "source": [
    "dct.get('guebin') "
   ]
  },
  {
   "cell_type": "markdown",
   "id": "aa5c5523",
   "metadata": {},
   "source": [
    "아래와 같은 기능 "
   ]
  },
  {
   "cell_type": "code",
   "execution_count": null,
   "id": "d33791fd",
   "metadata": {},
   "outputs": [
    {
     "data": {
      "text/plain": [
       "49"
      ]
     },
     "metadata": {},
     "output_type": "display_data"
    }
   ],
   "source": [
    "dct['guebin']"
   ]
  },
  {
   "cell_type": "markdown",
   "id": "9133ea5d",
   "metadata": {},
   "source": [
    "미묘한 차이점이 존재함 "
   ]
  },
  {
   "cell_type": "code",
   "execution_count": null,
   "id": "f1b3245e",
   "metadata": {},
   "outputs": [
    {
     "ename": "KeyError",
     "evalue": "'hynn'",
     "output_type": "error",
     "traceback": [
      "\u001b[0;31m---------------------------------------------------------------------------\u001b[0m\n",
      "\u001b[0;31mKeyError\u001b[0m                                  Traceback (most recent call last)\n",
      "Cell \u001b[0;32mIn[151], line 1\u001b[0m\n",
      "\u001b[0;32m----> 1\u001b[0m \u001b[43mdct\u001b[49m\u001b[43m[\u001b[49m\u001b[38;5;124;43m'\u001b[39;49m\u001b[38;5;124;43mhynn\u001b[39;49m\u001b[38;5;124;43m'\u001b[39;49m\u001b[43m]\u001b[49m \u001b[38;5;66;03m# hynn이 없어서 키에러 출력, 그런 key는 없다.. \u001b[39;00m\n",
      "\n",
      "\u001b[0;31mKeyError\u001b[0m: 'hynn'"
     ]
    }
   ],
   "source": [
    "dct['hynn'] # hynn이 없어서 키에러 출력, 그런 key는 없다.. "
   ]
  },
  {
   "cell_type": "code",
   "execution_count": null,
   "id": "d3a6c21b",
   "metadata": {},
   "outputs": [],
   "source": [
    "dct.get('hynn') # hynn이 없으면 아무것도 출력안함 "
   ]
  },
  {
   "cell_type": "markdown",
   "id": "9a6e8bd4",
   "metadata": {},
   "source": [
    "**(keys,values,items)**"
   ]
  },
  {
   "cell_type": "markdown",
   "id": "889dfe08",
   "metadata": {},
   "source": [
    "`-` .keys()는 딕셔너리의 키를 리턴한다.  "
   ]
  },
  {
   "cell_type": "code",
   "execution_count": null,
   "id": "8c1704ab",
   "metadata": {},
   "outputs": [
    {
     "data": {
      "text/plain": [
       "{'guebin': 49, 'hanni': 80}"
      ]
     },
     "metadata": {},
     "output_type": "display_data"
    }
   ],
   "source": [
    "dct = {'guebin':49, 'hanni':80} \n",
    "dct"
   ]
  },
  {
   "cell_type": "code",
   "execution_count": null,
   "id": "9486d194",
   "metadata": {},
   "outputs": [
    {
     "data": {
      "text/plain": [
       "dict_keys(['guebin', 'hanni'])"
      ]
     },
     "metadata": {},
     "output_type": "display_data"
    }
   ],
   "source": [
    "_keys=dct.keys()\n",
    "_keys"
   ]
  },
  {
   "cell_type": "code",
   "execution_count": null,
   "id": "f9d4436d",
   "metadata": {},
   "outputs": [
    {
     "data": {
      "text/plain": [
       "dict_keys"
      ]
     },
     "metadata": {},
     "output_type": "display_data"
    }
   ],
   "source": [
    "type(_keys) # 리턴된 자료형은 이상한것임"
   ]
  },
  {
   "cell_type": "code",
   "execution_count": null,
   "id": "99fa6146",
   "metadata": {},
   "outputs": [
    {
     "data": {
      "text/plain": [
       "['guebin', 'hanni']"
      ]
     },
     "metadata": {},
     "output_type": "display_data"
    }
   ],
   "source": [
    "list(_keys) # 아무튼 그 이상한 자료형도 리스트화 가능 "
   ]
  },
  {
   "cell_type": "markdown",
   "id": "4a67828e",
   "metadata": {},
   "source": [
    "`-` .values()는 딕셔너리의 값들을 리턴한다. "
   ]
  },
  {
   "cell_type": "code",
   "execution_count": null,
   "id": "fc9a7692",
   "metadata": {},
   "outputs": [
    {
     "data": {
      "text/plain": [
       "dict_values([49, 80])"
      ]
     },
     "metadata": {},
     "output_type": "display_data"
    }
   ],
   "source": [
    "_values = dct.values()\n",
    "_values "
   ]
  },
  {
   "cell_type": "code",
   "execution_count": null,
   "id": "7c26c3f7",
   "metadata": {},
   "outputs": [
    {
     "data": {
      "text/plain": [
       "dict_values"
      ]
     },
     "metadata": {},
     "output_type": "display_data"
    }
   ],
   "source": [
    "type(_values)"
   ]
  },
  {
   "cell_type": "code",
   "execution_count": null,
   "id": "068516fa",
   "metadata": {},
   "outputs": [
    {
     "data": {
      "text/plain": [
       "[49, 80]"
      ]
     },
     "metadata": {},
     "output_type": "display_data"
    }
   ],
   "source": [
    "list(_values)"
   ]
  },
  {
   "cell_type": "markdown",
   "id": "c8c36709",
   "metadata": {},
   "source": [
    "`-` .items()는 딕셔너리의 (키,값)을 리턴한다. "
   ]
  },
  {
   "cell_type": "code",
   "execution_count": null,
   "id": "10b11b90",
   "metadata": {},
   "outputs": [
    {
     "data": {
      "text/plain": [
       "dict_items([('guebin', 49), ('hanni', 80)])"
      ]
     },
     "metadata": {},
     "output_type": "display_data"
    }
   ],
   "source": [
    "_items = dct.items()\n",
    "_items "
   ]
  },
  {
   "cell_type": "code",
   "execution_count": null,
   "id": "f5827635",
   "metadata": {},
   "outputs": [
    {
     "data": {
      "text/plain": [
       "dict_items"
      ]
     },
     "metadata": {},
     "output_type": "display_data"
    }
   ],
   "source": [
    "type(_items)"
   ]
  },
  {
   "cell_type": "code",
   "execution_count": null,
   "id": "da10cc8c",
   "metadata": {},
   "outputs": [
    {
     "data": {
      "text/plain": [
       "[('guebin', 49), ('hanni', 80)]"
      ]
     },
     "metadata": {},
     "output_type": "display_data"
    }
   ],
   "source": [
    "list(_items)"
   ]
  },
  {
   "cell_type": "markdown",
   "id": "5f42a7db",
   "metadata": {},
   "source": [
    "## for문과 dict ($\\star$)"
   ]
  },
  {
   "cell_type": "code",
   "execution_count": null,
   "id": "b8cd6316",
   "metadata": {},
   "outputs": [
    {
     "data": {
      "text/plain": [
       "{'guebin': 49, 'hanni': 80}"
      ]
     },
     "metadata": {},
     "output_type": "display_data"
    }
   ],
   "source": [
    "dct = {'guebin': 49, 'hanni': 80}\n",
    "dct"
   ]
  },
  {
   "cell_type": "markdown",
   "id": "03d12c58",
   "metadata": {},
   "source": [
    "(예시1) "
   ]
  },
  {
   "cell_type": "code",
   "execution_count": null,
   "id": "a77cdba7",
   "metadata": {},
   "outputs": [
    {
     "name": "stdout",
     "output_type": "stream",
     "text": [
      "guebin\n",
      "hanni\n"
     ]
    }
   ],
   "source": [
    "for k in dct.keys():\n",
    "    print(k)"
   ]
  },
  {
   "cell_type": "code",
   "execution_count": null,
   "id": "ad24d788",
   "metadata": {},
   "outputs": [
    {
     "name": "stdout",
     "output_type": "stream",
     "text": [
      "guebin\n",
      "hanni\n"
     ]
    }
   ],
   "source": [
    "for k in dct:\n",
    "    print(k)"
   ]
  },
  {
   "cell_type": "markdown",
   "id": "d7843c9b",
   "metadata": {},
   "source": [
    "- 딕셔너리 그자체도 for문에 넣을 수 있다. \n",
    "- k에는 value가 삭제되어 들어간다. (즉 key만)\n",
    "- 결과를 보면 dct 대신에 dct.keys()와 list(dct)를 넣었을때와 결과가 같다. "
   ]
  },
  {
   "cell_type": "markdown",
   "id": "e0907189",
   "metadata": {},
   "source": [
    "> Note: list(dct) 하면 key만 리턴된다. "
   ]
  },
  {
   "cell_type": "markdown",
   "id": "3a372930",
   "metadata": {},
   "source": [
    "(예시2)"
   ]
  },
  {
   "cell_type": "code",
   "execution_count": null,
   "id": "975b8241",
   "metadata": {},
   "outputs": [
    {
     "name": "stdout",
     "output_type": "stream",
     "text": [
      "49\n",
      "80\n"
     ]
    }
   ],
   "source": [
    "for v in dct.values():\n",
    "    print(v)"
   ]
  },
  {
   "cell_type": "markdown",
   "id": "a5924261",
   "metadata": {},
   "source": [
    "(예시3)"
   ]
  },
  {
   "cell_type": "code",
   "execution_count": null,
   "id": "94be34c8",
   "metadata": {},
   "outputs": [
    {
     "name": "stdout",
     "output_type": "stream",
     "text": [
      "('guebin', 49)\n",
      "('hanni', 80)\n"
     ]
    }
   ],
   "source": [
    "for i in dct.items():\n",
    "    print(i)"
   ]
  },
  {
   "cell_type": "markdown",
   "id": "1cecfd95",
   "metadata": {},
   "source": [
    "(예시4)"
   ]
  },
  {
   "cell_type": "code",
   "execution_count": null,
   "id": "4372add4",
   "metadata": {},
   "outputs": [
    {
     "name": "stdout",
     "output_type": "stream",
     "text": [
      "guebin 49\n",
      "hanni 80\n"
     ]
    }
   ],
   "source": [
    "for k,v in dct.items():\n",
    "    print(k,v)"
   ]
  },
  {
   "cell_type": "markdown",
   "id": "b522c1b2",
   "metadata": {},
   "source": [
    "(예시5) -- {}의 중간고사 점수는 {}점 입니다."
   ]
  },
  {
   "cell_type": "code",
   "execution_count": null,
   "id": "7f00bc9c",
   "metadata": {},
   "outputs": [
    {
     "name": "stdout",
     "output_type": "stream",
     "text": [
      "guebin의 중간고사 점수는 49점 입니다.\n",
      "hanni의 중간고사 점수는 80점 입니다.\n"
     ]
    }
   ],
   "source": [
    "for name,score in dct.items():\n",
    "    print('{}의 중간고사 점수는 {}점 입니다.'.format(name,score))"
   ]
  },
  {
   "cell_type": "markdown",
   "id": "6258a1bf",
   "metadata": {},
   "source": [
    "# 딕셔너리 고급내용 ($\\star$)"
   ]
  },
  {
   "cell_type": "markdown",
   "id": "bfeb12fb",
   "metadata": {},
   "source": [
    "## dict에서 key혹은 value만 뽑아내기 "
   ]
  },
  {
   "cell_type": "markdown",
   "id": "59e0c34b",
   "metadata": {},
   "source": [
    "`-` 예제: 아래의 dict에서 key만 뽑아내고 싶다. "
   ]
  },
  {
   "cell_type": "code",
   "execution_count": null,
   "id": "56cdcfc3",
   "metadata": {},
   "outputs": [],
   "source": [
    "dct = {'guebin':49, 'hanni':80} "
   ]
  },
  {
   "cell_type": "markdown",
   "id": "49b57ccb",
   "metadata": {},
   "source": [
    "(풀이1)"
   ]
  },
  {
   "cell_type": "code",
   "execution_count": null,
   "id": "af42e466",
   "metadata": {},
   "outputs": [
    {
     "data": {
      "text/plain": [
       "['guebin', 'hanni']"
      ]
     },
     "metadata": {},
     "output_type": "display_data"
    }
   ],
   "source": [
    "list(dct)"
   ]
  },
  {
   "cell_type": "markdown",
   "id": "10bff3a0",
   "metadata": {},
   "source": [
    "(풀이2)"
   ]
  },
  {
   "cell_type": "code",
   "execution_count": null,
   "id": "12ac1fd1",
   "metadata": {},
   "outputs": [
    {
     "data": {
      "text/plain": [
       "['guebin', 'hanni']"
      ]
     },
     "metadata": {},
     "output_type": "display_data"
    }
   ],
   "source": [
    "list(dct.keys())"
   ]
  },
  {
   "cell_type": "markdown",
   "id": "3ebb804f",
   "metadata": {},
   "source": [
    "(풀이3)"
   ]
  },
  {
   "cell_type": "code",
   "execution_count": null,
   "id": "238d9b6e",
   "metadata": {},
   "outputs": [
    {
     "data": {
      "text/plain": [
       "['guebin', 'hanni']"
      ]
     },
     "metadata": {},
     "output_type": "display_data"
    }
   ],
   "source": [
    "[k for k in dct]"
   ]
  },
  {
   "cell_type": "markdown",
   "id": "b159ebe5",
   "metadata": {},
   "source": [
    "(풀이4)"
   ]
  },
  {
   "cell_type": "code",
   "execution_count": null,
   "id": "8cf4dd9f",
   "metadata": {},
   "outputs": [
    {
     "data": {
      "text/plain": [
       "['guebin', 'hanni']"
      ]
     },
     "metadata": {},
     "output_type": "display_data"
    }
   ],
   "source": [
    "[k for k,v in dct.items()]"
   ]
  },
  {
   "cell_type": "markdown",
   "id": "6651f9b1",
   "metadata": {},
   "source": [
    "`-` 예제: 아래의 dict에서 value만 뽑아내고 싶다. "
   ]
  },
  {
   "cell_type": "code",
   "execution_count": null,
   "id": "3a3aa56c",
   "metadata": {},
   "outputs": [],
   "source": [
    "dct = {'guebin':49, 'hanni':80} "
   ]
  },
  {
   "cell_type": "markdown",
   "id": "ec9756bc",
   "metadata": {},
   "source": [
    "(풀이1)"
   ]
  },
  {
   "cell_type": "code",
   "execution_count": null,
   "id": "1a4cb5ac",
   "metadata": {},
   "outputs": [
    {
     "data": {
      "text/plain": [
       "[49, 80]"
      ]
     },
     "metadata": {},
     "output_type": "display_data"
    }
   ],
   "source": [
    "list(dct.values())"
   ]
  },
  {
   "cell_type": "markdown",
   "id": "81c7a5c2",
   "metadata": {},
   "source": [
    "(풀이2)"
   ]
  },
  {
   "cell_type": "code",
   "execution_count": null,
   "id": "75002311",
   "metadata": {},
   "outputs": [
    {
     "data": {
      "text/plain": [
       "[49, 80]"
      ]
     },
     "metadata": {},
     "output_type": "display_data"
    }
   ],
   "source": [
    "[dct[k] for k in dct]"
   ]
  },
  {
   "cell_type": "markdown",
   "id": "75ab5903",
   "metadata": {},
   "source": [
    "(풀이3)"
   ]
  },
  {
   "cell_type": "code",
   "execution_count": null,
   "id": "9ecb534c",
   "metadata": {},
   "outputs": [
    {
     "data": {
      "text/plain": [
       "[49, 80]"
      ]
     },
     "metadata": {},
     "output_type": "display_data"
    }
   ],
   "source": [
    "[v for v in dct.values()]"
   ]
  },
  {
   "cell_type": "markdown",
   "id": "b73739ad",
   "metadata": {},
   "source": [
    "(풀이4)"
   ]
  },
  {
   "cell_type": "code",
   "execution_count": null,
   "id": "ce57ce22",
   "metadata": {},
   "outputs": [
    {
     "data": {
      "text/plain": [
       "[49, 80]"
      ]
     },
     "metadata": {},
     "output_type": "display_data"
    }
   ],
   "source": [
    "[v for k,v in dct.items()]"
   ]
  },
  {
   "cell_type": "markdown",
   "id": "adc1f1db",
   "metadata": {},
   "source": [
    "## key의 조건"
   ]
  },
  {
   "cell_type": "markdown",
   "id": "df4907e9",
   "metadata": {},
   "source": [
    "`-` 조건1: 키로 쓸 수 있는 자료형은 정해져 있다. \n",
    "\n",
    "- int O, float O, bool O, str O, list X, tuple O, dict X, set X "
   ]
  },
  {
   "cell_type": "markdown",
   "id": "add23070",
   "metadata": {},
   "source": [
    "(예시1) dict의 키로 int를 사용"
   ]
  },
  {
   "cell_type": "code",
   "execution_count": null,
   "id": "1a67adfe",
   "metadata": {},
   "outputs": [
    {
     "data": {
      "text/plain": [
       "[1, 2, 3]"
      ]
     },
     "metadata": {},
     "output_type": "display_data"
    }
   ],
   "source": [
    "dct = {0:[1,2,3], 1:[2,3,4]} \n",
    "dct[0] # 인덱싱 하는거 같네?"
   ]
  },
  {
   "cell_type": "code",
   "execution_count": null,
   "id": "fd3ab1d5",
   "metadata": {},
   "outputs": [
    {
     "ename": "KeyError",
     "evalue": "-1",
     "output_type": "error",
     "traceback": [
      "\u001b[0;31m---------------------------------------------------------------------------\u001b[0m\n",
      "\u001b[0;31mKeyError\u001b[0m                                  Traceback (most recent call last)\n",
      "Cell \u001b[0;32mIn[89], line 1\u001b[0m\n",
      "\u001b[0;32m----> 1\u001b[0m \u001b[43mdct\u001b[49m\u001b[43m[\u001b[49m\u001b[38;5;241;43m-\u001b[39;49m\u001b[38;5;241;43m1\u001b[39;49m\u001b[43m]\u001b[49m \u001b[38;5;66;03m# 속았지?\u001b[39;00m\n",
      "\n",
      "\u001b[0;31mKeyError\u001b[0m: -1"
     ]
    }
   ],
   "source": [
    "dct[-1] # 속았지?"
   ]
  },
  {
   "cell_type": "markdown",
   "id": "a0799086",
   "metadata": {},
   "source": [
    "(예시2) dict의 키로 float을 사용 <-- 이렇게 쓰는 사람 본적이 없어요 "
   ]
  },
  {
   "cell_type": "code",
   "execution_count": null,
   "id": "d8be4b1d",
   "metadata": {},
   "outputs": [
    {
     "data": {
      "text/plain": [
       "'π'"
      ]
     },
     "metadata": {},
     "output_type": "display_data"
    }
   ],
   "source": [
    "dct = {3.14:'π', 2.178:'e'}\n",
    "dct[3.14]"
   ]
  },
  {
   "cell_type": "markdown",
   "id": "6e879900",
   "metadata": {},
   "source": [
    "(예시3) dict의 키로 bool을 사용 "
   ]
  },
  {
   "cell_type": "code",
   "execution_count": null,
   "id": "2e3dcb2a",
   "metadata": {},
   "outputs": [
    {
     "data": {
      "text/plain": [
       "{True: '참이다', False: '거짓이다.'}"
      ]
     },
     "metadata": {},
     "output_type": "display_data"
    }
   ],
   "source": [
    "dct = {True: '참이다', False: '거짓이다.'} \n",
    "dct"
   ]
  },
  {
   "cell_type": "code",
   "execution_count": null,
   "id": "2a4c4c3c",
   "metadata": {},
   "outputs": [
    {
     "data": {
      "text/plain": [
       "'참이다'"
      ]
     },
     "metadata": {},
     "output_type": "display_data"
    }
   ],
   "source": [
    "dct[1<2]"
   ]
  },
  {
   "cell_type": "markdown",
   "id": "9e6d6d06",
   "metadata": {},
   "source": [
    "(예시4) dict의 키로 str을 사용 ($\\star$)"
   ]
  },
  {
   "cell_type": "code",
   "execution_count": null,
   "id": "b4c5668d",
   "metadata": {},
   "outputs": [
    {
     "data": {
      "text/plain": [
       "[10, 20, 30, 30]"
      ]
     },
     "metadata": {},
     "output_type": "display_data"
    }
   ],
   "source": [
    "dct = {'guebin':[10,20,30,30], 'hanni':[10,20,25,40]}\n",
    "dct['guebin']"
   ]
  },
  {
   "cell_type": "markdown",
   "id": "45dcec22",
   "metadata": {},
   "source": [
    "(예시5) dict의 키로 list를 사용 $\\Rightarrow$ 불가능 "
   ]
  },
  {
   "cell_type": "code",
   "execution_count": null,
   "id": "c61a7d03",
   "metadata": {},
   "outputs": [
    {
     "ename": "TypeError",
     "evalue": "unhashable type: 'list'",
     "output_type": "error",
     "traceback": [
      "\u001b[0;31m---------------------------------------------------------------------------\u001b[0m\n",
      "\u001b[0;31mTypeError\u001b[0m                                 Traceback (most recent call last)\n",
      "Cell \u001b[0;32mIn[24], line 1\u001b[0m\n",
      "\u001b[0;32m----> 1\u001b[0m dct \u001b[38;5;241m=\u001b[39m {[\u001b[38;5;241m10\u001b[39m,\u001b[38;5;241m20\u001b[39m,\u001b[38;5;241m30\u001b[39m,\u001b[38;5;241m40\u001b[39m]: \u001b[38;5;124m'\u001b[39m\u001b[38;5;124mguebin\u001b[39m\u001b[38;5;124m'\u001b[39m, [\u001b[38;5;241m10\u001b[39m,\u001b[38;5;241m20\u001b[39m,\u001b[38;5;241m25\u001b[39m,\u001b[38;5;241m40\u001b[39m]: \u001b[38;5;124m'\u001b[39m\u001b[38;5;124mhanni\u001b[39m\u001b[38;5;124m'\u001b[39m} \n",
      "\u001b[1;32m      2\u001b[0m dct\n",
      "\n",
      "\u001b[0;31mTypeError\u001b[0m: unhashable type: 'list'"
     ]
    }
   ],
   "source": [
    "dct = {[10,20,30,40]: 'guebin', [10,20,25,40]: 'hanni'} \n",
    "dct"
   ]
  },
  {
   "cell_type": "markdown",
   "id": "6b04be8c",
   "metadata": {},
   "source": [
    "(예시6) dict의 키로 tuple 사용 ($\\star$)"
   ]
  },
  {
   "cell_type": "code",
   "execution_count": null,
   "id": "4b2a6fb7",
   "metadata": {},
   "outputs": [
    {
     "data": {
      "text/plain": [
       "{(10, 20, 30, 40): 'guebin', (10, 20, 25, 40): 'hanni'}"
      ]
     },
     "metadata": {},
     "output_type": "display_data"
    }
   ],
   "source": [
    "dct = {(10,20,30,40): 'guebin', (10,20,25,40): 'hanni'} \n",
    "dct"
   ]
  },
  {
   "cell_type": "code",
   "execution_count": null,
   "id": "377ced44",
   "metadata": {},
   "outputs": [
    {
     "data": {
      "text/plain": [
       "'guebin'"
      ]
     },
     "metadata": {},
     "output_type": "display_data"
    }
   ],
   "source": [
    "dct[(10,20,30,40)]"
   ]
  },
  {
   "cell_type": "code",
   "execution_count": null,
   "id": "16ee3422",
   "metadata": {},
   "outputs": [
    {
     "data": {
      "text/plain": [
       "'guebin'"
      ]
     },
     "metadata": {},
     "output_type": "display_data"
    }
   ],
   "source": [
    "dct[10,20,30,40]"
   ]
  },
  {
   "cell_type": "markdown",
   "id": "6e6574a0",
   "metadata": {},
   "source": [
    "(예시7) dict의 키로 dict사용 $\\Rightarrow$ 불가능"
   ]
  },
  {
   "cell_type": "code",
   "execution_count": null,
   "id": "41bc98b6",
   "metadata": {},
   "outputs": [
    {
     "ename": "TypeError",
     "evalue": "unhashable type: 'dict'",
     "output_type": "error",
     "traceback": [
      "\u001b[0;31m---------------------------------------------------------------------------\u001b[0m\n",
      "\u001b[0;31mTypeError\u001b[0m                                 Traceback (most recent call last)\n",
      "Cell \u001b[0;32mIn[35], line 1\u001b[0m\n",
      "\u001b[0;32m----> 1\u001b[0m dct \u001b[38;5;241m=\u001b[39m {{\u001b[38;5;241m0\u001b[39m:\u001b[38;5;241m1\u001b[39m}: \u001b[38;5;124m'\u001b[39m\u001b[38;5;124mguebin\u001b[39m\u001b[38;5;124m'\u001b[39m, {\u001b[38;5;241m1\u001b[39m:\u001b[38;5;241m2\u001b[39m}: \u001b[38;5;124m'\u001b[39m\u001b[38;5;124mhanni\u001b[39m\u001b[38;5;124m'\u001b[39m} \n",
      "\u001b[1;32m      2\u001b[0m dct\n",
      "\n",
      "\u001b[0;31mTypeError\u001b[0m: unhashable type: 'dict'"
     ]
    }
   ],
   "source": [
    "dct = {{0:1}: 'guebin', {1:2}: 'hanni'} \n",
    "dct"
   ]
  },
  {
   "cell_type": "markdown",
   "id": "3a626afe",
   "metadata": {},
   "source": [
    "(예시8) dict의 키로 set사용 $\\Rightarrow$ 불가능"
   ]
  },
  {
   "cell_type": "code",
   "execution_count": null,
   "id": "b6141cc1",
   "metadata": {},
   "outputs": [
    {
     "ename": "TypeError",
     "evalue": "unhashable type: 'set'",
     "output_type": "error",
     "traceback": [
      "\u001b[0;31m---------------------------------------------------------------------------\u001b[0m\n",
      "\u001b[0;31mTypeError\u001b[0m                                 Traceback (most recent call last)\n",
      "Cell \u001b[0;32mIn[36], line 1\u001b[0m\n",
      "\u001b[0;32m----> 1\u001b[0m dct \u001b[38;5;241m=\u001b[39m {{\u001b[38;5;124m'\u001b[39m\u001b[38;5;124m샌드위치\u001b[39m\u001b[38;5;124m'\u001b[39m,\u001b[38;5;124m'\u001b[39m\u001b[38;5;124m딸기우유\u001b[39m\u001b[38;5;124m'\u001b[39m}:\u001b[38;5;124m'\u001b[39m\u001b[38;5;124m점심\u001b[39m\u001b[38;5;124m'\u001b[39m, {\u001b[38;5;124m'\u001b[39m\u001b[38;5;124m불고기\u001b[39m\u001b[38;5;124m'\u001b[39m,\u001b[38;5;124m'\u001b[39m\u001b[38;5;124m된장찌개\u001b[39m\u001b[38;5;124m'\u001b[39m,\u001b[38;5;124m'\u001b[39m\u001b[38;5;124m김\u001b[39m\u001b[38;5;124m'\u001b[39m,\u001b[38;5;124m'\u001b[39m\u001b[38;5;124m콩자반\u001b[39m\u001b[38;5;124m'\u001b[39m}: \u001b[38;5;124m'\u001b[39m\u001b[38;5;124m저녁\u001b[39m\u001b[38;5;124m'\u001b[39m}\n",
      "\u001b[1;32m      2\u001b[0m dct\n",
      "\n",
      "\u001b[0;31mTypeError\u001b[0m: unhashable type: 'set'"
     ]
    }
   ],
   "source": [
    "dct = {{'샌드위치','딸기우유'}:'점심', {'불고기','된장찌개','김','콩자반'}: '저녁'}\n",
    "dct"
   ]
  },
  {
   "cell_type": "markdown",
   "id": "412a3743",
   "metadata": {},
   "source": [
    "`-` 조건2: 키는 중복해서 쓸 수 없다. "
   ]
  },
  {
   "cell_type": "markdown",
   "id": "fc860a0c",
   "metadata": {},
   "source": [
    "(예시1)"
   ]
  },
  {
   "cell_type": "code",
   "execution_count": null,
   "id": "adb22e72",
   "metadata": {},
   "outputs": [
    {
     "data": {
      "text/plain": [
       "{0: [3, 4, 5], 1: [2, 3, 4]}"
      ]
     },
     "metadata": {},
     "output_type": "display_data"
    }
   ],
   "source": [
    "dct = {0:[1,2,3], 1:[2,3,4], 0:[3,4,5]} # 이렇게 쓰지 마세요\n",
    "dct "
   ]
  },
  {
   "cell_type": "markdown",
   "id": "0c7db9e9",
   "metadata": {},
   "source": [
    "## value의 조건 "
   ]
  },
  {
   "cell_type": "markdown",
   "id": "181eceb4",
   "metadata": {},
   "source": [
    "`-` 없다... $\\Rightarrow$ dict는 컨테이너형!!"
   ]
  },
  {
   "cell_type": "markdown",
   "id": "eacca262",
   "metadata": {},
   "source": [
    "## 바꿔치기 (1)\n",
    "\n"
   ]
  },
  {
   "cell_type": "markdown",
   "id": "7894b708",
   "metadata": {},
   "source": [
    "`-` 예제1: 아래와 같은 리스트가 있다고 하자. "
   ]
  },
  {
   "cell_type": "code",
   "execution_count": null,
   "id": "41ffa621",
   "metadata": {},
   "outputs": [
    {
     "data": {
      "text/plain": [
       "['a', 'b', 'c', 'd', 'a', 'b', 'c', 'd']"
      ]
     },
     "metadata": {},
     "output_type": "display_data"
    }
   ],
   "source": [
    "lst = list('abcd'*2)\n",
    "lst"
   ]
  },
  {
   "cell_type": "markdown",
   "id": "65241bdc",
   "metadata": {},
   "source": [
    "아래의 규칙에 의하여 lst의 각 원소의 값을 바꾸고 싶다고 하자. 이를 구현하는 코드를 작성하라. "
   ]
  },
  {
   "cell_type": "markdown",
   "id": "fe336683",
   "metadata": {},
   "source": [
    "|변환전|변환후|\n",
    "|:-:|:-:|\n",
    "|'a'|[1,0,0,0]|\n",
    "|'b'|[0,1,0,0]|\n",
    "|'c'|[0,0,1,0]|\n",
    "|'d'|[0,0,0,1]|"
   ]
  },
  {
   "cell_type": "markdown",
   "id": "5544c1b7",
   "metadata": {},
   "source": [
    "hint: 아래의 dct를 이용할 것 "
   ]
  },
  {
   "cell_type": "code",
   "execution_count": null,
   "id": "d3567e5f",
   "metadata": {},
   "outputs": [
    {
     "data": {
      "text/plain": [
       "['a', 'b', 'c', 'd', 'a', 'b', 'c', 'd']"
      ]
     },
     "metadata": {},
     "output_type": "display_data"
    }
   ],
   "source": [
    "lst = list('abcd'*2)\n",
    "lst"
   ]
  },
  {
   "cell_type": "code",
   "execution_count": null,
   "id": "adbd715d",
   "metadata": {},
   "outputs": [
    {
     "data": {
      "text/plain": [
       "{'a': [1, 0, 0, 0], 'b': [0, 1, 0, 0], 'c': [0, 0, 1, 0], 'd': [0, 0, 0, 1]}"
      ]
     },
     "metadata": {},
     "output_type": "display_data"
    }
   ],
   "source": [
    "dct = {'a':[1,0,0,0], 'b':[0,1,0,0], 'c':[0,0,1,0], 'd':[0,0,0,1]}\n",
    "dct"
   ]
  },
  {
   "cell_type": "markdown",
   "id": "99178f64",
   "metadata": {},
   "source": [
    "(풀이)"
   ]
  },
  {
   "cell_type": "code",
   "execution_count": null,
   "id": "384b66c9",
   "metadata": {},
   "outputs": [
    {
     "data": {
      "text/plain": [
       "[[1, 0, 0, 0],\n",
       " [0, 1, 0, 0],\n",
       " [0, 0, 1, 0],\n",
       " [0, 0, 0, 1],\n",
       " [1, 0, 0, 0],\n",
       " [0, 1, 0, 0],\n",
       " [0, 0, 1, 0],\n",
       " [0, 0, 0, 1]]"
      ]
     },
     "metadata": {},
     "output_type": "display_data"
    }
   ],
   "source": [
    "[dct[x] for x in lst]"
   ]
  },
  {
   "cell_type": "markdown",
   "id": "bde5fffe",
   "metadata": {},
   "source": [
    "`-` 예제2: 예제1을 역변환하라. "
   ]
  },
  {
   "cell_type": "code",
   "execution_count": null,
   "id": "76d5db87",
   "metadata": {},
   "outputs": [],
   "source": [
    "dct = {'a':[1,0,0,0], 'b':[0,1,0,0], 'c':[0,0,1,0], 'd':[0,0,0,1]}"
   ]
  },
  {
   "cell_type": "code",
   "execution_count": null,
   "id": "a637e6c9",
   "metadata": {},
   "outputs": [
    {
     "data": {
      "text/plain": [
       "[[1, 0, 0, 0],\n",
       " [0, 1, 0, 0],\n",
       " [0, 0, 1, 0],\n",
       " [0, 0, 0, 1],\n",
       " [1, 0, 0, 0],\n",
       " [0, 1, 0, 0],\n",
       " [0, 0, 1, 0],\n",
       " [0, 0, 0, 1]]"
      ]
     },
     "metadata": {},
     "output_type": "display_data"
    }
   ],
   "source": [
    "lst= [[1, 0, 0, 0],\n",
    "      [0, 1, 0, 0],\n",
    "      [0, 0, 1, 0],\n",
    "      [0, 0, 0, 1],\n",
    "      [1, 0, 0, 0],\n",
    "      [0, 1, 0, 0],\n",
    "      [0, 0, 1, 0],\n",
    "      [0, 0, 0, 1]]\n",
    "lst "
   ]
  },
  {
   "cell_type": "markdown",
   "id": "7ad49c63",
   "metadata": {},
   "source": [
    "(풀이)"
   ]
  },
  {
   "cell_type": "code",
   "execution_count": null,
   "id": "36f7966e",
   "metadata": {},
   "outputs": [
    {
     "data": {
      "text/plain": [
       "['a', 'b', 'c', 'd', 'a', 'b', 'c', 'd']"
      ]
     },
     "metadata": {},
     "output_type": "display_data"
    }
   ],
   "source": [
    "[x for l in lst for x,y in dct.items() if y == l]"
   ]
  },
  {
   "cell_type": "markdown",
   "id": "460635ee",
   "metadata": {},
   "source": [
    "## 바꿔치기 (2)"
   ]
  },
  {
   "cell_type": "markdown",
   "id": "bc01ac3f",
   "metadata": {},
   "source": [
    "`-` 예제1: 아래와 같은 리스트를 고려하자. "
   ]
  },
  {
   "cell_type": "code",
   "execution_count": null,
   "id": "018e7986",
   "metadata": {},
   "outputs": [],
   "source": [
    "lst = ['딸기','사과','바나나','딸기','사과','오토바이','자동차','버스','기차','오토바이','자동차']"
   ]
  },
  {
   "cell_type": "markdown",
   "id": "e6db2635",
   "metadata": {},
   "source": [
    "다음의 맵핑규칙에 따라서 위의 리스트의 원소를 바꾸어라. "
   ]
  },
  {
   "cell_type": "markdown",
   "id": "11e9ea90",
   "metadata": {},
   "source": [
    "|변환전|변환후|\n",
    "|:-:|:-:|\n",
    "|딸기|과일|\n",
    "|사과|과일|\n",
    "|바나나|과일|\n",
    "|오토바이|탈것|\n",
    "|자동차|탈것|\n",
    "|버스|탈것|\n",
    "|기차|탈것|"
   ]
  },
  {
   "cell_type": "markdown",
   "id": "ba8f14f7",
   "metadata": {},
   "source": [
    "(풀이)"
   ]
  },
  {
   "cell_type": "code",
   "execution_count": null,
   "id": "3b1443c0",
   "metadata": {},
   "outputs": [
    {
     "data": {
      "text/plain": [
       "{'과일': ['딸기', '사과', '바나나'], '탈것': ['오토바이', '자동차', '버스', '기차']}"
      ]
     },
     "metadata": {},
     "output_type": "display_data"
    }
   ],
   "source": [
    "dct = {'과일':['딸기','사과','바나나'], '탈것':['오토바이','자동차','버스','기차']}\n",
    "dct"
   ]
  },
  {
   "cell_type": "code",
   "execution_count": null,
   "id": "166ef1e0",
   "metadata": {},
   "outputs": [
    {
     "data": {
      "text/plain": [
       "['과일', '과일', '과일', '과일', '과일', '탈것', '탈것', '탈것', '탈것', '탈것', '탈것']"
      ]
     },
     "metadata": {},
     "output_type": "display_data"
    }
   ],
   "source": [
    "[x for l in lst for x,y in dct.items() if l in y]"
   ]
  },
  {
   "cell_type": "markdown",
   "id": "43163874",
   "metadata": {},
   "source": [
    "# 집합 기본내용"
   ]
  },
  {
   "cell_type": "markdown",
   "id": "4103f3c7",
   "metadata": {},
   "source": [
    "## 선언 "
   ]
  },
  {
   "cell_type": "code",
   "execution_count": null,
   "id": "2c0d3111",
   "metadata": {},
   "outputs": [
    {
     "data": {
      "text/plain": [
       "{'desktop', 'notebook'}"
      ]
     },
     "metadata": {},
     "output_type": "display_data"
    }
   ],
   "source": [
    "wishlist={'notebook','desktop'}\n",
    "wishlist"
   ]
  },
  {
   "cell_type": "markdown",
   "id": "96a32206",
   "metadata": {},
   "source": [
    "## 원소추출 "
   ]
  },
  {
   "cell_type": "markdown",
   "id": "452321fd",
   "metadata": {},
   "source": [
    "`-` 일단 인덱스로는 못합니다. "
   ]
  },
  {
   "cell_type": "code",
   "execution_count": null,
   "id": "6c4f7cc0",
   "metadata": {},
   "outputs": [
    {
     "ename": "TypeError",
     "evalue": "'set' object is not subscriptable",
     "output_type": "error",
     "traceback": [
      "\u001b[0;31m---------------------------------------------------------------------------\u001b[0m\n",
      "\u001b[0;31mTypeError\u001b[0m                                 Traceback (most recent call last)\n",
      "Cell \u001b[0;32mIn[251], line 2\u001b[0m\n",
      "\u001b[1;32m      1\u001b[0m wishlist\u001b[38;5;241m=\u001b[39m{\u001b[38;5;124m'\u001b[39m\u001b[38;5;124mnotebook\u001b[39m\u001b[38;5;124m'\u001b[39m,\u001b[38;5;124m'\u001b[39m\u001b[38;5;124mdesktop\u001b[39m\u001b[38;5;124m'\u001b[39m}\n",
      "\u001b[0;32m----> 2\u001b[0m \u001b[43mwishlist\u001b[49m\u001b[43m[\u001b[49m\u001b[38;5;241;43m0\u001b[39;49m\u001b[43m]\u001b[49m\n",
      "\n",
      "\u001b[0;31mTypeError\u001b[0m: 'set' object is not subscriptable"
     ]
    }
   ],
   "source": [
    "wishlist={'notebook','desktop'}\n",
    "wishlist[0]"
   ]
  },
  {
   "cell_type": "markdown",
   "id": "837c99ea",
   "metadata": {},
   "source": [
    "`-` 딱히 하는 방법이 없어요.. 그리고 이걸 하는 의미가 없어요.. (원소에 접근해서 뭐하려고??)"
   ]
  },
  {
   "cell_type": "markdown",
   "id": "02305d46",
   "metadata": {},
   "source": [
    "## 원소추가 "
   ]
  },
  {
   "cell_type": "markdown",
   "id": "34ea1958",
   "metadata": {},
   "source": [
    "`-` 이건 의미가 있음"
   ]
  },
  {
   "cell_type": "code",
   "execution_count": null,
   "id": "152b1f83",
   "metadata": {},
   "outputs": [
    {
     "data": {
      "text/plain": [
       "{'desktop', 'notebook'}"
      ]
     },
     "metadata": {},
     "output_type": "display_data"
    }
   ],
   "source": [
    "wishlist={'notebook','desktop'} \n",
    "wishlist"
   ]
  },
  {
   "cell_type": "code",
   "execution_count": null,
   "id": "7f47b3a2",
   "metadata": {},
   "outputs": [
    {
     "data": {
      "text/plain": [
       "{'desktop', 'ipad', 'notebook'}"
      ]
     },
     "metadata": {},
     "output_type": "display_data"
    }
   ],
   "source": [
    "wishlist.add('ipad')\n",
    "wishlist"
   ]
  },
  {
   "cell_type": "code",
   "execution_count": null,
   "id": "38f8ba25",
   "metadata": {},
   "outputs": [
    {
     "data": {
      "text/plain": [
       "{'desktop', 'ipad', 'notebook'}"
      ]
     },
     "metadata": {},
     "output_type": "display_data"
    }
   ],
   "source": [
    "wishlist.add('notebook') # 이미 원소로 있는건 추가되지 않음. \n",
    "wishlist"
   ]
  },
  {
   "cell_type": "markdown",
   "id": "cec2ac71",
   "metadata": {},
   "source": [
    "## 원소삭제 "
   ]
  },
  {
   "cell_type": "code",
   "execution_count": null,
   "id": "88a4e681",
   "metadata": {},
   "outputs": [
    {
     "data": {
      "text/plain": [
       "{'desktop', 'ipad', 'notebook'}"
      ]
     },
     "metadata": {},
     "output_type": "display_data"
    }
   ],
   "source": [
    "wishlist={'desktop', 'ipad', 'notebook'}\n",
    "wishlist"
   ]
  },
  {
   "cell_type": "code",
   "execution_count": null,
   "id": "ae5e0bbf",
   "metadata": {},
   "outputs": [],
   "source": [
    "wishlist.remove('notebook')"
   ]
  },
  {
   "cell_type": "code",
   "execution_count": null,
   "id": "768aa659",
   "metadata": {},
   "outputs": [
    {
     "data": {
      "text/plain": [
       "{'desktop', 'ipad'}"
      ]
     },
     "metadata": {},
     "output_type": "display_data"
    }
   ],
   "source": [
    "wishlist"
   ]
  },
  {
   "cell_type": "markdown",
   "id": "1a5487f5",
   "metadata": {},
   "source": [
    "## 연산 "
   ]
  },
  {
   "cell_type": "markdown",
   "id": "70da8dde",
   "metadata": {},
   "source": [
    "`-` in 연산자  "
   ]
  },
  {
   "cell_type": "code",
   "execution_count": null,
   "id": "10d1708b",
   "metadata": {},
   "outputs": [
    {
     "data": {
      "text/plain": [
       "{'desktop', 'ipad', 'notebook'}"
      ]
     },
     "metadata": {},
     "output_type": "display_data"
    }
   ],
   "source": [
    "wishlist={'desktop', 'ipad', 'notebook'}\n",
    "wishlist"
   ]
  },
  {
   "cell_type": "code",
   "execution_count": null,
   "id": "43077b1a",
   "metadata": {},
   "outputs": [
    {
     "data": {
      "text/plain": [
       "True"
      ]
     },
     "metadata": {},
     "output_type": "display_data"
    }
   ],
   "source": [
    "'notebook' in wishlist"
   ]
  },
  {
   "cell_type": "markdown",
   "id": "8168c73f",
   "metadata": {},
   "source": [
    "- 참고로 `in`연산자는 집합에서만 쓰는것은 아님 "
   ]
  },
  {
   "cell_type": "markdown",
   "id": "9349e23d",
   "metadata": {},
   "source": [
    "`-` 합집합, 교집합, 차집합"
   ]
  },
  {
   "cell_type": "code",
   "execution_count": null,
   "id": "358ae9e0",
   "metadata": {},
   "outputs": [],
   "source": [
    "day1 = {'notebook','desktop'}\n",
    "day2 = {'notebook','ipad'}"
   ]
  },
  {
   "cell_type": "code",
   "execution_count": null,
   "id": "f23defef",
   "metadata": {},
   "outputs": [
    {
     "data": {
      "text/plain": [
       "{'desktop', 'ipad', 'notebook'}"
      ]
     },
     "metadata": {},
     "output_type": "display_data"
    }
   ],
   "source": [
    "day1 | day2 # 합집합"
   ]
  },
  {
   "cell_type": "code",
   "execution_count": null,
   "id": "788765a5",
   "metadata": {},
   "outputs": [
    {
     "data": {
      "text/plain": [
       "{'notebook'}"
      ]
     },
     "metadata": {},
     "output_type": "display_data"
    }
   ],
   "source": [
    "day1 & day2 # 교집합"
   ]
  },
  {
   "cell_type": "code",
   "execution_count": null,
   "id": "99361a25",
   "metadata": {},
   "outputs": [
    {
     "data": {
      "text/plain": [
       "{'desktop'}"
      ]
     },
     "metadata": {},
     "output_type": "display_data"
    }
   ],
   "source": [
    "day1 - day2 # 차집합 "
   ]
  },
  {
   "cell_type": "code",
   "execution_count": null,
   "id": "5a4e0fa2",
   "metadata": {},
   "outputs": [
    {
     "data": {
      "text/plain": [
       "{'ipad'}"
      ]
     },
     "metadata": {},
     "output_type": "display_data"
    }
   ],
   "source": [
    "day2 - day1 # 차집합"
   ]
  },
  {
   "cell_type": "markdown",
   "id": "20b3f3e0",
   "metadata": {},
   "source": [
    "`-` 부분집합 "
   ]
  },
  {
   "cell_type": "code",
   "execution_count": null,
   "id": "e9baf29b",
   "metadata": {},
   "outputs": [],
   "source": [
    "day1 = {'notebook', 'desktop'}\n",
    "day2 = day1 | {'ipad'} "
   ]
  },
  {
   "cell_type": "code",
   "execution_count": null,
   "id": "ee507933",
   "metadata": {},
   "outputs": [
    {
     "data": {
      "text/plain": [
       "True"
      ]
     },
     "metadata": {},
     "output_type": "display_data"
    }
   ],
   "source": [
    "day1 < day2  # day1는 day2의 부분집합인가? "
   ]
  },
  {
   "cell_type": "code",
   "execution_count": null,
   "id": "c86ab110",
   "metadata": {},
   "outputs": [
    {
     "data": {
      "text/plain": [
       "False"
      ]
     },
     "metadata": {},
     "output_type": "display_data"
    }
   ],
   "source": [
    "day2 < day1"
   ]
  },
  {
   "cell_type": "markdown",
   "id": "1f08066b",
   "metadata": {},
   "source": [
    "## 집합 특수기능"
   ]
  },
  {
   "cell_type": "markdown",
   "id": "c6c36400",
   "metadata": {},
   "source": [
    "`-` 합집합 "
   ]
  },
  {
   "cell_type": "code",
   "execution_count": null,
   "id": "e04edb6f",
   "metadata": {},
   "outputs": [],
   "source": [
    "day1 = {'notebook', 'desktop'}\n",
    "day2 = {'notebook','ipad'}"
   ]
  },
  {
   "cell_type": "code",
   "execution_count": null,
   "id": "71f52e73",
   "metadata": {},
   "outputs": [
    {
     "data": {
      "text/plain": [
       "{'desktop', 'ipad', 'notebook'}"
      ]
     },
     "metadata": {},
     "output_type": "display_data"
    }
   ],
   "source": [
    "day1.union(day2)"
   ]
  },
  {
   "cell_type": "markdown",
   "id": "cc4eafde",
   "metadata": {},
   "source": [
    "`-` 나머지 메소드는 스스로 찾아보세요 "
   ]
  },
  {
   "cell_type": "markdown",
   "id": "1a206e9c",
   "metadata": {},
   "source": [
    "## for문과 set "
   ]
  },
  {
   "cell_type": "code",
   "execution_count": null,
   "id": "1392101f",
   "metadata": {},
   "outputs": [],
   "source": [
    "day1 = {'notebook', 'desktop'}\n",
    "day2 = {'notebook', 'ipad'}"
   ]
  },
  {
   "cell_type": "code",
   "execution_count": null,
   "id": "e7e89236",
   "metadata": {},
   "outputs": [
    {
     "name": "stdout",
     "output_type": "stream",
     "text": [
      "notebook\n",
      "ipad\n",
      "desktop\n"
     ]
    }
   ],
   "source": [
    "for i in day1|day2: \n",
    "    print(i)"
   ]
  },
  {
   "cell_type": "markdown",
   "id": "4d6bdd92",
   "metadata": {},
   "source": [
    "# 집합 고급내용 "
   ]
  },
  {
   "cell_type": "markdown",
   "id": "980684d1",
   "metadata": {},
   "source": [
    "## set 컴프리헨션 "
   ]
  },
  {
   "cell_type": "markdown",
   "id": "728a5b92",
   "metadata": {},
   "source": [
    "`-` 예시1"
   ]
  },
  {
   "cell_type": "code",
   "execution_count": null,
   "id": "06371846",
   "metadata": {},
   "outputs": [
    {
     "data": {
      "text/plain": [
       "{1, 2, 3, 4, 5}"
      ]
     },
     "metadata": {},
     "output_type": "display_data"
    }
   ],
   "source": [
    "lst = [1,2,1,1,3,4,5]\n",
    "{l for l in lst}"
   ]
  },
  {
   "cell_type": "markdown",
   "id": "fac3a1c8",
   "metadata": {},
   "source": [
    "## 유니크한 원소"
   ]
  },
  {
   "cell_type": "markdown",
   "id": "06af022a",
   "metadata": {},
   "source": [
    "`-` 예제1: 아래의 list는 모두 몇 종류의 문자로 이루어져 있는가? "
   ]
  },
  {
   "cell_type": "code",
   "execution_count": null,
   "id": "874db77e",
   "metadata": {},
   "outputs": [],
   "source": [
    "lst=list('asdfasssdfdsasdfasdfasdfasdf')"
   ]
  },
  {
   "cell_type": "markdown",
   "id": "6f9d344c",
   "metadata": {},
   "source": [
    "(풀이)"
   ]
  },
  {
   "cell_type": "code",
   "execution_count": null,
   "id": "6dccff65",
   "metadata": {},
   "outputs": [
    {
     "data": {
      "text/plain": [
       "{'a', 'd', 'f', 's'}"
      ]
     },
     "metadata": {},
     "output_type": "display_data"
    }
   ],
   "source": [
    "set(lst)"
   ]
  },
  {
   "cell_type": "code",
   "execution_count": null,
   "id": "9c8bd1df",
   "metadata": {},
   "outputs": [
    {
     "data": {
      "text/plain": [
       "4"
      ]
     },
     "metadata": {},
     "output_type": "display_data"
    }
   ],
   "source": [
    "len(set(lst))"
   ]
  },
  {
   "cell_type": "markdown",
   "id": "a9f8be2d",
   "metadata": {},
   "source": [
    "`-` 예제2: 아래의 txt에서 어떠한 종류의 문자가 각각 몇번씩 사용되었는지 빈도를 구하는 코드를 작성하라. "
   ]
  },
  {
   "cell_type": "code",
   "execution_count": null,
   "id": "45ab58ec",
   "metadata": {},
   "outputs": [
    {
     "data": {
      "text/plain": [
       "'asdkflkjahsdlkjfhlaksglkjdhflkgjhlskdfjhglkajhsdlkfjhalsdkf'"
      ]
     },
     "metadata": {},
     "output_type": "display_data"
    }
   ],
   "source": [
    "txt = 'asdkflkjahsdlkjfhlaksglkjdhflkgjhlskdfjhglkajhsdlkfjhalsdkf'\n",
    "txt"
   ]
  },
  {
   "cell_type": "markdown",
   "id": "85254ddd",
   "metadata": {},
   "source": [
    "(풀이)"
   ]
  },
  {
   "cell_type": "code",
   "execution_count": null,
   "id": "47493e64",
   "metadata": {},
   "outputs": [
    {
     "data": {
      "text/plain": [
       "{'s': 6, 'a': 5, 'g': 3, 'k': 10, 'j': 7, 'h': 7, 'd': 6, 'l': 9, 'f': 6}"
      ]
     },
     "metadata": {},
     "output_type": "display_data"
    }
   ],
   "source": [
    "{k:list(txt).count(k) for k in set(txt)}"
   ]
  },
  {
   "cell_type": "markdown",
   "id": "34e6f172",
   "metadata": {},
   "source": [
    "# Quiz"
   ]
  },
  {
   "cell_type": "markdown",
   "id": "56a69b92",
   "metadata": {},
   "source": [
    "`1`. 아래와 같은 맵핑을 고려하자. "
   ]
  },
  {
   "cell_type": "markdown",
   "id": "f7c6f37d",
   "metadata": {},
   "source": [
    "|문자|숫자|\n",
    "|:-:|:-:|\n",
    "|a|1|\n",
    "|b|0|"
   ]
  },
  {
   "cell_type": "markdown",
   "id": "6d937454",
   "metadata": {},
   "source": [
    "이를 딕셔너리로 표현하면 아래와 같다. "
   ]
  },
  {
   "cell_type": "code",
   "execution_count": null,
   "id": "1462130a",
   "metadata": {},
   "outputs": [],
   "source": [
    "dct = {'a':0, 'b':1} "
   ]
  },
  {
   "cell_type": "markdown",
   "id": "2646f672",
   "metadata": {},
   "source": [
    "위 규칙에 따라서 아래의 리스트의 원소를 문자로 각각 변환하라."
   ]
  },
  {
   "cell_type": "code",
   "execution_count": null,
   "id": "707619c1",
   "metadata": {},
   "outputs": [],
   "source": [
    "lst = [1, 0, 1, 0, 1, 0, 1, 1, 1, 1, 0, 0, 1, 0, 1]"
   ]
  },
  {
   "cell_type": "markdown",
   "id": "a71127d1",
   "metadata": {},
   "source": [
    "```Python\n",
    "# 출력은 아래와 같아야 한다. \n",
    "['b', 'a', 'b', 'a', 'b', 'a', 'b', 'b', 'b', 'b', 'a', 'a', 'b', 'a', 'b']\n",
    "```"
   ]
  },
  {
   "cell_type": "markdown",
   "id": "9f8d42c7",
   "metadata": {},
   "source": [
    "`2`. 아래와 같은 맵핑을 고려하자. "
   ]
  },
  {
   "cell_type": "markdown",
   "id": "f2cb7963",
   "metadata": {},
   "source": [
    "|월|의미|\n",
    "|:-:|:-:|\n",
    "|1,2|겨울방학|\n",
    "|3,4,5,6|1학기|\n",
    "|7,8|여름방학|\n",
    "|9,10,11,12|2학기|"
   ]
  },
  {
   "cell_type": "markdown",
   "id": "04ec001a",
   "metadata": {},
   "source": [
    "이러한 규칙에 맞게 아래의 리스트를 적절한 문자열로 변환하라. "
   ]
  },
  {
   "cell_type": "code",
   "execution_count": null,
   "id": "91404712",
   "metadata": {},
   "outputs": [],
   "source": [
    "month = [1,2,2,3,4,5,6,7,8,9,9,10,11,12] "
   ]
  },
  {
   "cell_type": "markdown",
   "id": "2290230c",
   "metadata": {},
   "source": [
    "```Python\n",
    "## 출력은 아래와 같아야 한다. \n",
    "['겨울방학', '겨울방학', '겨울방학', '1학기', '1학기', '1학기', '1학기', '여름방학', '여름방학', '2학기', '2학기', '2학기', '2학기', '2학기']\n",
    "```"
   ]
  },
  {
   "cell_type": "markdown",
   "id": "ce0ad39f",
   "metadata": {},
   "source": [
    "`합성변환` 3-5. "
   ]
  },
  {
   "cell_type": "markdown",
   "id": "5bc09d76",
   "metadata": {},
   "source": [
    "아래와 같은 맵핑을 고려하자. "
   ]
  },
  {
   "cell_type": "markdown",
   "id": "85a9ca93",
   "metadata": {},
   "source": [
    "(규칙1)"
   ]
  },
  {
   "cell_type": "markdown",
   "id": "cd8e0262",
   "metadata": {},
   "source": [
    "|문자|숫자|\n",
    "|:-:|:-:|\n",
    "|바나나|0|\n",
    "|사과|1|\n",
    "|오토바이|2|\n",
    "|자동차|3|\n",
    "|자전거|4|"
   ]
  },
  {
   "cell_type": "markdown",
   "id": "53334ccb",
   "metadata": {},
   "source": [
    "(규칙2)"
   ]
  },
  {
   "cell_type": "markdown",
   "id": "41aec9a8",
   "metadata": {},
   "source": [
    "|아이템|카테고리|\n",
    "|:-:|:-:|\n",
    "|바나나|과일|\n",
    "|사과|과일|\n",
    "|오토바이|탈것|\n",
    "|자동차|탈것|\n",
    "|자전거|탈것|"
   ]
  },
  {
   "cell_type": "markdown",
   "id": "506e6f35",
   "metadata": {},
   "source": [
    "각각의 규칙을 나타내는 딕셔너리는 아래와 같이 선언되어있다고 하자. "
   ]
  },
  {
   "cell_type": "code",
   "execution_count": null,
   "id": "5a658452",
   "metadata": {},
   "outputs": [],
   "source": [
    "dct1 = {'바나나':0, '사과':1, '오토바이':2, '자동차':3, '자전거':4} \n",
    "dct2 = {'과일':['바나나','사과'], '탈것':['오토바이','자동차','자전거']} "
   ]
  },
  {
   "cell_type": "markdown",
   "id": "2e17e967",
   "metadata": {},
   "source": [
    "`3`. 규칙1를 이용하여 아래와 같은 리스트를 변환하는 함수를 구현하고 그 함수를 `f`라 선언하라."
   ]
  },
  {
   "cell_type": "markdown",
   "id": "9ca97def",
   "metadata": {},
   "source": [
    "```Python\n",
    "# 입력 \n",
    "[0,1,0,1,4]\n",
    "\n",
    "# 출력 \n",
    "['바나나', '사과', '바나나', '사과', '자전거']\n",
    "```"
   ]
  },
  {
   "cell_type": "markdown",
   "id": "0b1aefd4",
   "metadata": {},
   "source": [
    "(사용예시)"
   ]
  },
  {
   "cell_type": "code",
   "execution_count": null,
   "id": "1728f060",
   "metadata": {},
   "outputs": [
    {
     "data": {
      "text/plain": [
       "['바나나', '사과', '바나나', '사과', '자전거']"
      ]
     },
     "metadata": {},
     "output_type": "display_data"
    }
   ],
   "source": [
    "f([0,1,0,1,4])"
   ]
  },
  {
   "cell_type": "markdown",
   "id": "0c465494",
   "metadata": {},
   "source": [
    "`4`. 규칙2를 이용하여 아래와 같이 리스트를 변환하는 함수를 구현하고 그 함수를 `g`라고 선언하라. "
   ]
  },
  {
   "cell_type": "markdown",
   "id": "41ae4768",
   "metadata": {},
   "source": [
    "```Python\n",
    "# 입력 \n",
    "['바나나','바나나','바나나','자동차']\n",
    "\n",
    "# 출력 \n",
    "['과일','과일','과일','탈것']\n",
    "```"
   ]
  },
  {
   "cell_type": "markdown",
   "id": "79da988d",
   "metadata": {},
   "source": [
    "(사용예시)"
   ]
  },
  {
   "cell_type": "code",
   "execution_count": null,
   "id": "49bb0231",
   "metadata": {},
   "outputs": [
    {
     "data": {
      "text/plain": [
       "['과일', '과일', '과일', '탈것']"
      ]
     },
     "metadata": {},
     "output_type": "display_data"
    }
   ],
   "source": [
    "g(['바나나','바나나','바나나','자동차'])"
   ]
  },
  {
   "cell_type": "markdown",
   "id": "974c31f5",
   "metadata": {},
   "source": [
    "`5`. 규칙1-2를 이용하여 아래와 같은 숫자로 이루어진 입력을 '과일', '탈것' 중 하나로 바꾸는 코드를 구현하라. "
   ]
  },
  {
   "cell_type": "markdown",
   "id": "fa51c3d5",
   "metadata": {},
   "source": [
    "```Python\n",
    "# 입력 \n",
    "[0,1,0,1,3,4,2,2,3,4,1,0]\n",
    "\n",
    "# 출력 \n",
    "['과일', '과일', '과일', '과일', '탈것', '탈것', '탈것', '탈것', '탈것', '탈것', '과일', '과일']\n",
    "```"
   ]
  },
  {
   "cell_type": "markdown",
   "id": "cc8c56ba",
   "metadata": {},
   "source": [
    "**hint** $g(f(x))$ 를 이용하라. "
   ]
  },
  {
   "cell_type": "markdown",
   "id": "6f3621c1",
   "metadata": {},
   "source": [
    "`Oxford-III`: 6--10 // [reference](https://www.robots.ox.ac.uk/~vgg/data/pets/)\n",
    "\n",
    "아래는 이미지 파일명들이 저장된 string을 불러오는 코드이다. "
   ]
  },
  {
   "cell_type": "code",
   "execution_count": null,
   "id": "39624242",
   "metadata": {},
   "outputs": [],
   "source": [
    "import requests\n",
    "url = 'https://raw.githubusercontent.com/guebin/PP2023/main/posts/01_PythonBasic/Oxford-IIIT.txt'\n",
    "txt = requests.get(url).content.decode()"
   ]
  },
  {
   "cell_type": "markdown",
   "id": "0c99c828",
   "metadata": {},
   "source": [
    "이미지파일이 저장된 형식은 아래와 같다. \n",
    "\n",
    "```\n",
    "Abyssinian_1.jpg\n",
    "British_Shorthair_129.jpg\n",
    "```"
   ]
  },
  {
   "cell_type": "markdown",
   "id": "82fd2f7b",
   "metadata": {},
   "source": [
    "**note**: `British_Shorthair`와 같이 종 이름 사이에 `_`가 들어있는 경우도 있음. "
   ]
  },
  {
   "cell_type": "markdown",
   "id": "0a51a8c7",
   "metadata": {},
   "source": [
    "`6`. txt를 적당히 변환하여 아래와 같은 list를 만들어라. "
   ]
  },
  {
   "cell_type": "code",
   "execution_count": null,
   "id": "a937c918",
   "metadata": {},
   "outputs": [
    {
     "data": {
      "text/plain": [
       "(['Abyssinian',\n",
       "  'Abyssinian',\n",
       "  'Abyssinian',\n",
       "  'Abyssinian',\n",
       "  'Abyssinian',\n",
       "  'Abyssinian',\n",
       "  'Abyssinian',\n",
       "  'Abyssinian',\n",
       "  'Abyssinian',\n",
       "  'Abyssinian'],\n",
       " ['BritishShorthair',\n",
       "  'BritishShorthair',\n",
       "  'BritishShorthair',\n",
       "  'BritishShorthair',\n",
       "  'BritishShorthair',\n",
       "  'BritishShorthair',\n",
       "  'BritishShorthair',\n",
       "  'BritishShorthair',\n",
       "  'BritishShorthair',\n",
       "  'BritishShorthair'])"
      ]
     },
     "metadata": {},
     "output_type": "display_data"
    }
   ],
   "source": [
    "lst[:10],lst[810:820]"
   ]
  },
  {
   "cell_type": "markdown",
   "id": "d8a99abc",
   "metadata": {},
   "source": [
    "**hint1**"
   ]
  },
  {
   "cell_type": "code",
   "execution_count": null,
   "id": "5e60fe6d",
   "metadata": {},
   "outputs": [
    {
     "data": {
      "text/plain": [
       "['Abyssinian_1.jpg', 'Abyssinian_10.jpg']"
      ]
     },
     "metadata": {},
     "output_type": "display_data"
    }
   ],
   "source": [
    "'Abyssinian_1.jpg\\nAbyssinian_10.jpg'.split('\\n')"
   ]
  },
  {
   "cell_type": "markdown",
   "id": "8be1362f",
   "metadata": {},
   "source": [
    "**hint2**"
   ]
  },
  {
   "cell_type": "code",
   "execution_count": null,
   "id": "4e232868",
   "metadata": {},
   "outputs": [
    {
     "data": {
      "text/plain": [
       "'BritishShorthair'"
      ]
     },
     "metadata": {},
     "output_type": "display_data"
    }
   ],
   "source": [
    "''.join(['British', 'Shorthair'])"
   ]
  },
  {
   "cell_type": "code",
   "execution_count": null,
   "id": "338df9e9",
   "metadata": {},
   "outputs": [
    {
     "data": {
      "text/plain": [
       "'Abyssinian'"
      ]
     },
     "metadata": {},
     "output_type": "display_data"
    }
   ],
   "source": [
    "''.join(['Abyssinian'])"
   ]
  },
  {
   "cell_type": "markdown",
   "id": "f808babd",
   "metadata": {},
   "source": [
    "`7`. 그림파일에는 총 몇가지 종류의 고양이와, 몇가지 종류의 강아지가 있는가? "
   ]
  },
  {
   "cell_type": "markdown",
   "id": "14d7e10e",
   "metadata": {},
   "source": [
    "**note:** 고양이사진은 대문자로 시작하고, 강아지 사진은 소문자로 시작한다. "
   ]
  },
  {
   "cell_type": "markdown",
   "id": "56b4a8e6",
   "metadata": {},
   "source": [
    "**note**: 12종의 고양이, 25종의 강아지가 있음 "
   ]
  },
  {
   "cell_type": "markdown",
   "id": "d5746fe6",
   "metadata": {},
   "source": [
    "(풀이)"
   ]
  },
  {
   "cell_type": "code",
   "execution_count": null,
   "id": "e5473d68",
   "metadata": {},
   "outputs": [
    {
     "data": {
      "text/plain": [
       "12"
      ]
     },
     "metadata": {},
     "output_type": "display_data"
    }
   ],
   "source": [
    "[s[0].isupper() for s in set(lst)].count(True) # 고양이 12"
   ]
  },
  {
   "cell_type": "code",
   "execution_count": null,
   "id": "12799628",
   "metadata": {},
   "outputs": [
    {
     "data": {
      "text/plain": [
       "25"
      ]
     },
     "metadata": {},
     "output_type": "display_data"
    }
   ],
   "source": [
    "[s[0].isupper() for s in set(lst)].count(False) # 강아지 25 "
   ]
  },
  {
   "cell_type": "markdown",
   "id": "58e3a88e",
   "metadata": {},
   "source": [
    "`8`. 아래는 1번의 결과로 얻어진 lst의 첫 10개의 원소와 마지막 10개의 원소이다. "
   ]
  },
  {
   "cell_type": "code",
   "execution_count": null,
   "id": "c0b60fdb",
   "metadata": {},
   "outputs": [
    {
     "data": {
      "text/plain": [
       "(['Abyssinian',\n",
       "  'Abyssinian',\n",
       "  'Abyssinian',\n",
       "  'Abyssinian',\n",
       "  'Abyssinian',\n",
       "  'Abyssinian',\n",
       "  'Abyssinian',\n",
       "  'Abyssinian',\n",
       "  'Abyssinian',\n",
       "  'Abyssinian'],\n",
       " ['yorkshireterrier',\n",
       "  'yorkshireterrier',\n",
       "  'yorkshireterrier',\n",
       "  'yorkshireterrier',\n",
       "  'yorkshireterrier',\n",
       "  'yorkshireterrier',\n",
       "  'yorkshireterrier',\n",
       "  'yorkshireterrier',\n",
       "  'yorkshireterrier',\n",
       "  'yorkshireterrier'])"
      ]
     },
     "metadata": {},
     "output_type": "display_data"
    }
   ],
   "source": [
    "lst[:10], lst[-10:]"
   ]
  },
  {
   "cell_type": "markdown",
   "id": "af99d607",
   "metadata": {},
   "source": [
    "적당한 변환을 정의하여 lst를 아래와 같이 바꾸어라. "
   ]
  },
  {
   "cell_type": "code",
   "execution_count": null,
   "id": "d4940366",
   "metadata": {},
   "outputs": [
    {
     "data": {
      "text/plain": [
       "(['cat', 'cat', 'cat', 'cat', 'cat', 'cat', 'cat', 'cat', 'cat', 'cat'],\n",
       " ['dog', 'dog', 'dog', 'dog', 'dog', 'dog', 'dog', 'dog', 'dog', 'dog'])"
      ]
     },
     "metadata": {},
     "output_type": "display_data"
    }
   ],
   "source": [
    "lst2[:10], lst2[-10:] # 바뀐 lst"
   ]
  },
  {
   "cell_type": "markdown",
   "id": "29ac4338",
   "metadata": {},
   "source": [
    "`9`. txt에는 강아지사진과 고양이사진이 모두 몇장씩 들어있는가? "
   ]
  },
  {
   "cell_type": "code",
   "execution_count": null,
   "id": "146cdb4e",
   "metadata": {},
   "outputs": [
    {
     "data": {
      "text/plain": [
       "{'dog': 4990, 'cat': 2403}"
      ]
     },
     "metadata": {},
     "output_type": "display_data"
    }
   ],
   "source": [
    "## 출력예시 "
   ]
  },
  {
   "cell_type": "markdown",
   "id": "031466eb",
   "metadata": {},
   "source": [
    "`10`. txt에 각 종별로 몇장의 사진이 있는지 조사하라."
   ]
  },
  {
   "cell_type": "code",
   "execution_count": null,
   "id": "8f34758e",
   "metadata": {},
   "outputs": [
    {
     "data": {
      "text/plain": [
       "{'beagle': 200,\n",
       " 'scottishterrier': 199,\n",
       " 'newfoundland': 200,\n",
       " 'Birman': 200,\n",
       " 'Bombay': 200,\n",
       " 'pug': 200,\n",
       " 'germanshorthaired': 200,\n",
       " 'samoyed': 200,\n",
       " 'Sphynx': 200,\n",
       " 'englishsetter': 200,\n",
       " 'Bengal': 200,\n",
       " 'MaineCoon': 200,\n",
       " 'Persian': 200,\n",
       " 'boxer': 200,\n",
       " 'staffordshirebullterrier': 191,\n",
       " 'Siamese': 200,\n",
       " 'bassethound': 200,\n",
       " 'wheatenterrier': 200,\n",
       " 'englishcockerspaniel': 200,\n",
       " 'Ragdoll': 200,\n",
       " 'yorkshireterrier': 200,\n",
       " 'EgyptianMau': 200,\n",
       " 'BritishShorthair': 200,\n",
       " 'keeshond': 200,\n",
       " 'RussianBlue': 200,\n",
       " 'saintbernard': 200,\n",
       " 'americanbulldog': 200,\n",
       " 'Abyssinian': 203,\n",
       " 'leonberger': 200,\n",
       " 'greatpyrenees': 200,\n",
       " 'japanesechin': 200,\n",
       " 'pomeranian': 200,\n",
       " 'chihuahua': 200,\n",
       " 'shibainu': 200,\n",
       " 'americanpitbullterrier': 200,\n",
       " 'miniaturepinscher': 200,\n",
       " 'havanese': 200}"
      ]
     },
     "metadata": {},
     "output_type": "display_data"
    }
   ],
   "source": [
    "## 출력예시"
   ]
  }
 ],
 "metadata": {
  "kernelspec": {
   "display_name": "Python 3 (ipykernel)",
   "language": "python",
   "name": "python3"
  },
  "language_info": {
   "codemirror_mode": {
    "name": "ipython",
    "version": 3
   },
   "file_extension": ".py",
   "mimetype": "text/x-python",
   "name": "python",
   "nbconvert_exporter": "python",
   "pygments_lexer": "ipython3",
   "version": "3.10.12"
  }
 },
 "nbformat": 4,
 "nbformat_minor": 5
}
