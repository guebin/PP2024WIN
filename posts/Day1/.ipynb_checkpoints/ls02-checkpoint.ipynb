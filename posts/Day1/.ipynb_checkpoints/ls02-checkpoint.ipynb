{
 "cells": [
  {
   "cell_type": "raw",
   "id": "b3584f84-6d27-4f1f-b39e-09c2a7b0c909",
   "metadata": {},
   "source": [
    "---\n",
    "title: \"Lesson 02: 파이썬의 자료형 II (list, tuple)\"\n",
    "author: \"최규빈\"\n",
    "date: \"06/24/2023\"\n",
    "---"
   ]
  },
  {
   "cell_type": "markdown",
   "id": "bae76ddd-1741-4e83-93d6-deaea4abaf24",
   "metadata": {},
   "source": [
    "{{< video https://youtube.com/playlist?list=PLQqh36zP38-ypxlde-A6CVulvzNTU6eiW&si=wkxcazzAAenFBjN2 >}}"
   ]
  },
  {
   "cell_type": "markdown",
   "id": "76fe5d82-bca7-411e-a562-4ed407f0f043",
   "metadata": {},
   "source": [
    "# list "
   ]
  },
  {
   "cell_type": "markdown",
   "id": "9754b921-7a34-4553-beb5-ad2d9fe7caa0",
   "metadata": {},
   "source": [
    "## 선언 "
   ]
  },
  {
   "cell_type": "markdown",
   "id": "55720afe-c8e1-4df5-9ba8-b48fefcb16a0",
   "metadata": {},
   "source": [
    "`-` 리스트의 선언"
   ]
  },
  {
   "cell_type": "code",
   "execution_count": 8,
   "id": "9f3b17b8-4f97-47c0-a2d5-7993409423b8",
   "metadata": {
    "vscode": {
     "languageId": "python"
    }
   },
   "outputs": [
    {
     "data": {
      "text/plain": [
       "[11, 22]"
      ]
     },
     "execution_count": 8,
     "metadata": {},
     "output_type": "execute_result"
    }
   ],
   "source": [
    "a=[11,22]\n",
    "a"
   ]
  },
  {
   "cell_type": "code",
   "execution_count": 9,
   "id": "2ef4c156-aecb-4f0b-a020-7e65113dd0dc",
   "metadata": {
    "vscode": {
     "languageId": "python"
    }
   },
   "outputs": [
    {
     "data": {
      "text/plain": [
       "list"
      ]
     },
     "execution_count": 9,
     "metadata": {},
     "output_type": "execute_result"
    }
   ],
   "source": [
    "type(a)"
   ]
  },
  {
   "cell_type": "markdown",
   "id": "062a19ae-6f6f-425a-b0ba-dffb85ca9ba5",
   "metadata": {},
   "source": [
    "`-` 비어있는 리스트의 선언 "
   ]
  },
  {
   "cell_type": "code",
   "execution_count": 26,
   "id": "a38b1c1a-c9f6-46f6-b8ce-fb48569c72fd",
   "metadata": {
    "tags": [],
    "vscode": {
     "languageId": "python"
    }
   },
   "outputs": [
    {
     "data": {
      "text/plain": [
       "[]"
      ]
     },
     "execution_count": 26,
     "metadata": {},
     "output_type": "execute_result"
    }
   ],
   "source": [
    "a=[] # 방법1\n",
    "a"
   ]
  },
  {
   "cell_type": "code",
   "execution_count": 27,
   "id": "e8f5c680-6947-4537-b2f4-6d518418c130",
   "metadata": {
    "tags": [],
    "vscode": {
     "languageId": "python"
    }
   },
   "outputs": [
    {
     "data": {
      "text/plain": [
       "[]"
      ]
     },
     "execution_count": 27,
     "metadata": {},
     "output_type": "execute_result"
    }
   ],
   "source": [
    "a=list() # 방법2\n",
    "a"
   ]
  },
  {
   "cell_type": "markdown",
   "id": "7be6f3de-3ac0-4a38-b2a9-5f4ece70b0ab",
   "metadata": {},
   "source": [
    "## 연산 "
   ]
  },
  {
   "cell_type": "markdown",
   "id": "1bfdd34c-e669-4a91-82e3-c4b7050ad775",
   "metadata": {},
   "source": [
    "`-` 더하기연산 "
   ]
  },
  {
   "cell_type": "code",
   "execution_count": 5,
   "id": "79d6bd44-21d2-4274-b283-a5df2d39db6b",
   "metadata": {
    "vscode": {
     "languageId": "python"
    }
   },
   "outputs": [],
   "source": [
    "a=[11,12]\n",
    "b=[12,13]"
   ]
  },
  {
   "cell_type": "code",
   "execution_count": 6,
   "id": "80c3f98b-57e3-462b-a93d-62cf260a9e9d",
   "metadata": {
    "vscode": {
     "languageId": "python"
    }
   },
   "outputs": [
    {
     "data": {
      "text/plain": [
       "[11, 12]"
      ]
     },
     "execution_count": 6,
     "metadata": {},
     "output_type": "execute_result"
    }
   ],
   "source": [
    "a"
   ]
  },
  {
   "cell_type": "code",
   "execution_count": 7,
   "id": "fd675de2-6ddc-4a4d-bfc3-4455007ae42c",
   "metadata": {
    "vscode": {
     "languageId": "python"
    }
   },
   "outputs": [
    {
     "data": {
      "text/plain": [
       "[12, 13]"
      ]
     },
     "execution_count": 7,
     "metadata": {},
     "output_type": "execute_result"
    }
   ],
   "source": [
    "b"
   ]
  },
  {
   "cell_type": "code",
   "execution_count": 8,
   "id": "5efc9f01-63d4-46ce-a6be-5c31be1891d9",
   "metadata": {
    "vscode": {
     "languageId": "python"
    }
   },
   "outputs": [
    {
     "data": {
      "text/plain": [
       "[11, 12, 12, 13]"
      ]
     },
     "execution_count": 8,
     "metadata": {},
     "output_type": "execute_result"
    }
   ],
   "source": [
    "a+b"
   ]
  },
  {
   "cell_type": "markdown",
   "id": "73066420-7dba-4d6c-ac57-b19061dc4674",
   "metadata": {},
   "source": [
    "- 우리의 예상과 다른 결과가 나옴 $\\to$ 파이썬은 R처럼 자체적으로 좋은 계산기능을 내장하고 있지 않음. "
   ]
  },
  {
   "cell_type": "markdown",
   "id": "4a521283-c855-40d4-811c-922d4bbd6edf",
   "metadata": {},
   "source": [
    "`-` 브로드캐스팅과 같이 R에서는 당연히 가능했던 기능을 사용할 수 없음. "
   ]
  },
  {
   "cell_type": "code",
   "execution_count": 38,
   "id": "27de908e-8426-4d4a-bead-43702510b0d8",
   "metadata": {
    "tags": [],
    "vscode": {
     "languageId": "python"
    }
   },
   "outputs": [
    {
     "ename": "TypeError",
     "evalue": "can only concatenate list (not \"int\") to list",
     "output_type": "error",
     "traceback": [
      "\u001b[0;31m---------------------------------------------------------------------------\u001b[0m",
      "\u001b[0;31mTypeError\u001b[0m                                 Traceback (most recent call last)",
      "Cell \u001b[0;32mIn[38], line 3\u001b[0m\n\u001b[1;32m      1\u001b[0m a\u001b[38;5;241m=\u001b[39m[\u001b[38;5;241m1\u001b[39m,\u001b[38;5;241m2\u001b[39m,\u001b[38;5;241m3\u001b[39m]\n\u001b[1;32m      2\u001b[0m b\u001b[38;5;241m=\u001b[39m\u001b[38;5;241m1\u001b[39m\n\u001b[0;32m----> 3\u001b[0m \u001b[43ma\u001b[49m\u001b[38;5;241;43m+\u001b[39;49m\u001b[43mb\u001b[49m\n",
      "\u001b[0;31mTypeError\u001b[0m: can only concatenate list (not \"int\") to list"
     ]
    }
   ],
   "source": [
    "a=[1,2,3]\n",
    "b=1\n",
    "a+b"
   ]
  },
  {
   "cell_type": "markdown",
   "id": "e0bac089-3eb4-495b-946f-4e39d8cf2c15",
   "metadata": {},
   "source": [
    "`-` 뺄셈은 정의되지 않음 "
   ]
  },
  {
   "cell_type": "code",
   "execution_count": 39,
   "id": "722b5559-7e5c-4636-8e99-359efddf6bba",
   "metadata": {
    "tags": [],
    "vscode": {
     "languageId": "python"
    }
   },
   "outputs": [
    {
     "ename": "TypeError",
     "evalue": "unsupported operand type(s) for -: 'list' and 'list'",
     "output_type": "error",
     "traceback": [
      "\u001b[0;31m---------------------------------------------------------------------------\u001b[0m",
      "\u001b[0;31mTypeError\u001b[0m                                 Traceback (most recent call last)",
      "Cell \u001b[0;32mIn[39], line 3\u001b[0m\n\u001b[1;32m      1\u001b[0m a\u001b[38;5;241m=\u001b[39m[\u001b[38;5;241m1\u001b[39m,\u001b[38;5;241m2\u001b[39m]\n\u001b[1;32m      2\u001b[0m b\u001b[38;5;241m=\u001b[39m[\u001b[38;5;241m1\u001b[39m,\u001b[38;5;241m2\u001b[39m]\n\u001b[0;32m----> 3\u001b[0m \u001b[43ma\u001b[49m\u001b[38;5;241;43m-\u001b[39;49m\u001b[43mb\u001b[49m\n",
      "\u001b[0;31mTypeError\u001b[0m: unsupported operand type(s) for -: 'list' and 'list'"
     ]
    }
   ],
   "source": [
    "a=[1,2]\n",
    "b=[1,2]\n",
    "a-b"
   ]
  },
  {
   "cell_type": "markdown",
   "id": "9869592a-4580-4a47-9241-ba90b7f129b0",
   "metadata": {},
   "source": [
    "`-` 곱하기는 정의가능 "
   ]
  },
  {
   "cell_type": "code",
   "execution_count": 11,
   "id": "e46da257-9da2-4ecc-ae68-10e14e471ce4",
   "metadata": {
    "vscode": {
     "languageId": "python"
    }
   },
   "outputs": [],
   "source": [
    "a=[1,2]"
   ]
  },
  {
   "cell_type": "code",
   "execution_count": 12,
   "id": "00ef7fe8-0f16-4aff-8d92-1b4c565058f9",
   "metadata": {
    "vscode": {
     "languageId": "python"
    }
   },
   "outputs": [
    {
     "data": {
      "text/plain": [
       "[1, 2, 1, 2]"
      ]
     },
     "execution_count": 12,
     "metadata": {},
     "output_type": "execute_result"
    }
   ],
   "source": [
    "2*a # a+a "
   ]
  },
  {
   "cell_type": "markdown",
   "id": "7e9e7c6c-982e-4bbf-94d2-f0743d7b439f",
   "metadata": {},
   "source": [
    "`-` 나눗셈은 정의되지 않음 "
   ]
  },
  {
   "cell_type": "code",
   "execution_count": 13,
   "id": "f583bdb6-776b-42d5-815e-97a462038547",
   "metadata": {
    "vscode": {
     "languageId": "python"
    }
   },
   "outputs": [
    {
     "ename": "TypeError",
     "evalue": "unsupported operand type(s) for /: 'list' and 'int'",
     "output_type": "error",
     "traceback": [
      "\u001b[0;31m---------------------------------------------------------------------------\u001b[0m",
      "\u001b[0;31mTypeError\u001b[0m                                 Traceback (most recent call last)",
      "Input \u001b[0;32mIn [13]\u001b[0m, in \u001b[0;36m<module>\u001b[0;34m\u001b[0m\n\u001b[1;32m      1\u001b[0m a\u001b[38;5;241m=\u001b[39m[\u001b[38;5;241m1\u001b[39m,\u001b[38;5;241m2\u001b[39m,\u001b[38;5;241m1\u001b[39m,\u001b[38;5;241m2\u001b[39m]\n\u001b[0;32m----> 2\u001b[0m \u001b[43ma\u001b[49m\u001b[38;5;241;43m/\u001b[39;49m\u001b[38;5;241;43m2\u001b[39;49m\n",
      "\u001b[0;31mTypeError\u001b[0m: unsupported operand type(s) for /: 'list' and 'int'"
     ]
    }
   ],
   "source": [
    "a=[1,2,1,2]\n",
    "a/2"
   ]
  },
  {
   "cell_type": "markdown",
   "id": "c14ca13c-520c-4936-87ca-acbd3e77a304",
   "metadata": {},
   "source": [
    "`-` 더하기와 곱하기는 원소의 추가와 반복추가를 의미하지만 그렇다고 해서 뺄셈과 나눗셈이 원소의 삭제를 의미하는것은 아님"
   ]
  },
  {
   "cell_type": "code",
   "execution_count": 49,
   "id": "d640d22f-a528-444c-8825-85e95094ec89",
   "metadata": {
    "tags": [],
    "vscode": {
     "languageId": "python"
    }
   },
   "outputs": [
    {
     "ename": "TypeError",
     "evalue": "unsupported operand type(s) for -: 'list' and 'list'",
     "output_type": "error",
     "traceback": [
      "\u001b[0;31m---------------------------------------------------------------------------\u001b[0m",
      "\u001b[0;31mTypeError\u001b[0m                                 Traceback (most recent call last)",
      "Cell \u001b[0;32mIn[49], line 2\u001b[0m\n\u001b[1;32m      1\u001b[0m a\u001b[38;5;241m=\u001b[39m[\u001b[38;5;241m1\u001b[39m,\u001b[38;5;241m2\u001b[39m,\u001b[38;5;241m3\u001b[39m]\n\u001b[0;32m----> 2\u001b[0m \u001b[43ma\u001b[49m\u001b[38;5;241;43m-\u001b[39;49m\u001b[43m[\u001b[49m\u001b[38;5;241;43m3\u001b[39;49m\u001b[43m]\u001b[49m \u001b[38;5;66;03m# 이런건 없다\u001b[39;00m\n",
      "\u001b[0;31mTypeError\u001b[0m: unsupported operand type(s) for -: 'list' and 'list'"
     ]
    }
   ],
   "source": [
    "a=[1,2,3]\n",
    "a-[3] # 이런건 없다"
   ]
  },
  {
   "cell_type": "code",
   "execution_count": 50,
   "id": "93d3f645-d153-4dbf-92a1-78d192d0dfa6",
   "metadata": {
    "tags": [],
    "vscode": {
     "languageId": "python"
    }
   },
   "outputs": [
    {
     "ename": "TypeError",
     "evalue": "unsupported operand type(s) for /: 'list' and 'int'",
     "output_type": "error",
     "traceback": [
      "\u001b[0;31m---------------------------------------------------------------------------\u001b[0m",
      "\u001b[0;31mTypeError\u001b[0m                                 Traceback (most recent call last)",
      "Cell \u001b[0;32mIn[50], line 2\u001b[0m\n\u001b[1;32m      1\u001b[0m a\u001b[38;5;241m=\u001b[39m[\u001b[38;5;241m1\u001b[39m,\u001b[38;5;241m2\u001b[39m,\u001b[38;5;241m1\u001b[39m,\u001b[38;5;241m2\u001b[39m,\u001b[38;5;241m1\u001b[39m,\u001b[38;5;241m2\u001b[39m]\n\u001b[0;32m----> 2\u001b[0m \u001b[43ma\u001b[49m\u001b[38;5;241;43m/\u001b[39;49m\u001b[38;5;241;43m3\u001b[39;49m \u001b[38;5;66;03m# 이런건 없다\u001b[39;00m\n",
      "\u001b[0;31mTypeError\u001b[0m: unsupported operand type(s) for /: 'list' and 'int'"
     ]
    }
   ],
   "source": [
    "a=[1,2,1,2,1,2]\n",
    "a/3 # 이런건 없다"
   ]
  },
  {
   "cell_type": "markdown",
   "id": "dcdbd772-1102-45a5-a81d-3cdcbb2f012e",
   "metadata": {},
   "source": [
    "`-` 더하기와 곱하기가 원소의 추가와 반복추가를 의미하여 편리할때도 있긴하지만, 우리는 산술적인 `+`, `*` 를 원하는 경우도 있다. 이럴 경우는 어떻게 할 수 있을까?"
   ]
  },
  {
   "cell_type": "markdown",
   "id": "987202be-5a9f-4451-9eb7-9180d103719c",
   "metadata": {},
   "source": [
    "(예제)"
   ]
  },
  {
   "cell_type": "code",
   "execution_count": 52,
   "id": "899102b7-43bd-47e5-a004-adec448d6bc1",
   "metadata": {
    "tags": [],
    "vscode": {
     "languageId": "python"
    }
   },
   "outputs": [],
   "source": [
    "a=[1,2]\n",
    "b=[3,4]"
   ]
  },
  {
   "cell_type": "markdown",
   "id": "8f6314f9-719e-4db3-9c11-ad49c5e33fc7",
   "metadata": {},
   "source": [
    "a+b = [4,6] 이 되도록 하려면? "
   ]
  },
  {
   "cell_type": "markdown",
   "id": "6ba51abf-5293-49a4-b948-bfe9d524a2dd",
   "metadata": {},
   "source": [
    "(풀이1)"
   ]
  },
  {
   "cell_type": "code",
   "execution_count": 67,
   "id": "8c8ca5b6-5b12-4ce9-b8f8-fddb49fc4cb0",
   "metadata": {
    "vscode": {
     "languageId": "python"
    }
   },
   "outputs": [
    {
     "data": {
      "text/plain": [
       "4"
      ]
     },
     "execution_count": 67,
     "metadata": {},
     "output_type": "execute_result"
    }
   ],
   "source": [
    "a[0]+b[0] # a의 첫번째 원소를 추출, b의 첫번째 원소를 추출, 둘을 더함 "
   ]
  },
  {
   "cell_type": "code",
   "execution_count": 18,
   "id": "4fb152aa-6fb8-4ded-8e7a-7bc1322a9fa6",
   "metadata": {
    "vscode": {
     "languageId": "python"
    }
   },
   "outputs": [
    {
     "data": {
      "text/plain": [
       "6"
      ]
     },
     "execution_count": 18,
     "metadata": {},
     "output_type": "execute_result"
    }
   ],
   "source": [
    "a[1]+b[1] # a의 두번째 원소를 추출, b의 두번째 원소를 추출, 둘을 더함 "
   ]
  },
  {
   "cell_type": "code",
   "execution_count": 19,
   "id": "4e4295d8-7c85-402f-ada1-3da02d80dc80",
   "metadata": {
    "vscode": {
     "languageId": "python"
    }
   },
   "outputs": [
    {
     "data": {
      "text/plain": [
       "[4, 6]"
      ]
     },
     "execution_count": 19,
     "metadata": {},
     "output_type": "execute_result"
    }
   ],
   "source": [
    "[a[0]+b[0],a[1]+b[1]]"
   ]
  },
  {
   "cell_type": "markdown",
   "id": "1e5e20ce-0c7a-44be-856e-2183787e5fd3",
   "metadata": {},
   "source": [
    "풀이가 가능한 이유? a,b는 리스트이지만 a[0], a[1], b[0], b[1] 은 각각 인트형임. 인트형은 + 연산이 가능했음. "
   ]
  },
  {
   "cell_type": "markdown",
   "id": "a3aeed12-dced-4b66-bfa5-5bc09be43a66",
   "metadata": {},
   "source": [
    "(풀이2)"
   ]
  },
  {
   "cell_type": "markdown",
   "id": "f153c055-dbc7-4222-9f7a-9ecadebe6f53",
   "metadata": {},
   "source": [
    "- numpy 를 이용 "
   ]
  },
  {
   "cell_type": "markdown",
   "id": "ecd604f8-a8fe-47a5-aef3-c17ab23ad14d",
   "metadata": {},
   "source": [
    "numpy 패키지 (파이썬의 여러 수치연산들을 담당하는 라이브러리)\n",
    "\n",
    "- 이러한 벡터연산은 누구나 필요로 하는 연산임.\n",
    "- 내가 아니더라도 누군가가 프로그램화 해놓았을 것임.\n",
    "- 그 누군가가 자신이 만든 코드를 잘 정리하여 무료로 배포했을 수도 있음. (패키지를 배포한다고 표현) \n",
    "- 그 패키지를 우리는 가져와서 설치한뒤 사용하기만 하면된다. \n",
    "\n",
    "패키지를 설치하는 방법 (코랩은 이미 설치되어 있음)\n",
    "\n",
    "- `!pip install numpy` # 최신버전을 설치함 \n",
    "- `!conda install -c conda-forge numpy -y` # 안전한 버전을 설치함 \n",
    "\n",
    "설치된 패키지를 사용하는 방법\n",
    "\n",
    "- `import numpy` 한뒤에 `numpy.??`로 기능을 사용 \n",
    "- `import numpy as np` 한뒤에 `np.??`로 기능을 사용 "
   ]
  },
  {
   "cell_type": "code",
   "execution_count": 49,
   "id": "ba2ac7bc-9326-4065-9afc-037c5c4b1fc4",
   "metadata": {
    "vscode": {
     "languageId": "python"
    }
   },
   "outputs": [],
   "source": [
    "import numpy as np ## 설치한 numpy라는 패키지를 쓰겠음. 그런데 numpy말고 np라는 이름으로 쓰겠음"
   ]
  },
  {
   "cell_type": "code",
   "execution_count": 51,
   "id": "a6f7c498-1459-4223-9f24-962bfceeede8",
   "metadata": {
    "vscode": {
     "languageId": "python"
    }
   },
   "outputs": [
    {
     "data": {
      "text/plain": [
       "array([1, 2])"
      ]
     },
     "execution_count": 51,
     "metadata": {},
     "output_type": "execute_result"
    }
   ],
   "source": [
    "np.array(a)"
   ]
  },
  {
   "cell_type": "code",
   "execution_count": 52,
   "id": "4d0a6c56-c3db-429f-b004-64324ff55119",
   "metadata": {
    "vscode": {
     "languageId": "python"
    }
   },
   "outputs": [
    {
     "data": {
      "text/plain": [
       "array([4, 6])"
      ]
     },
     "execution_count": 52,
     "metadata": {},
     "output_type": "execute_result"
    }
   ],
   "source": [
    "a=[1,2]\n",
    "b=[3,4]\n",
    "np.array(a)+np.array(b)"
   ]
  },
  {
   "cell_type": "markdown",
   "id": "14076fd2-bf20-4741-9682-8721d8de46db",
   "metadata": {},
   "source": [
    "## 인덱싱 "
   ]
  },
  {
   "cell_type": "markdown",
   "id": "90aed8fc-bee7-4fd7-b75f-401d1373079b",
   "metadata": {},
   "source": [
    "`-` str형과 동일한 방식"
   ]
  },
  {
   "cell_type": "code",
   "execution_count": 75,
   "id": "cf8a0de8-3802-4d63-84d9-6c4bc341d486",
   "metadata": {
    "tags": [],
    "vscode": {
     "languageId": "python"
    }
   },
   "outputs": [],
   "source": [
    "a=[11,22,33,44,55] # 0 -4 -3 -2 -1"
   ]
  },
  {
   "cell_type": "code",
   "execution_count": 76,
   "id": "76d0ba13-6dd5-4950-adc7-6df970d3f832",
   "metadata": {
    "vscode": {
     "languageId": "python"
    }
   },
   "outputs": [
    {
     "data": {
      "text/plain": [
       "[44, 55]"
      ]
     },
     "execution_count": 76,
     "metadata": {},
     "output_type": "execute_result"
    }
   ],
   "source": [
    "a[-2:] # 끝의 2개의 원소를 뽑음 "
   ]
  },
  {
   "cell_type": "markdown",
   "id": "246c2370-d0b3-41cc-8725-cc271f3ef3f8",
   "metadata": {},
   "source": [
    "## 리스트는 컨테이너형 객체이다. "
   ]
  },
  {
   "cell_type": "markdown",
   "id": "2953eaf4-cace-43b2-a965-5460bc3bb731",
   "metadata": {},
   "source": [
    "`-` 리스트의 원소는 int, float 따위만 가능한 것이 아니다. (리스트는 컨테이너형 객체이므로)"
   ]
  },
  {
   "cell_type": "code",
   "execution_count": 53,
   "id": "5232ac18-5f23-481a-b67d-fe7d07260389",
   "metadata": {
    "vscode": {
     "languageId": "python"
    }
   },
   "outputs": [],
   "source": [
    "lst = [1,3.14,True,'a',[1,2], \n",
    "       (1,2),{'name':'iu','age':27},{1,2,3}]"
   ]
  },
  {
   "cell_type": "code",
   "execution_count": 55,
   "id": "8876bcad-c1f2-4196-8301-fba060f29d52",
   "metadata": {
    "vscode": {
     "languageId": "python"
    }
   },
   "outputs": [
    {
     "data": {
      "text/plain": [
       "[1, 3.14, True, 'a', [1, 2], (1, 2), {'name': 'iu', 'age': 27}, {1, 2, 3}]"
      ]
     },
     "execution_count": 55,
     "metadata": {},
     "output_type": "execute_result"
    }
   ],
   "source": [
    "lst"
   ]
  },
  {
   "cell_type": "markdown",
   "id": "d0a9185d-a269-4276-bf5d-8ddc54579e80",
   "metadata": {},
   "source": [
    "각 원소의 타입을 알아보자. "
   ]
  },
  {
   "cell_type": "code",
   "execution_count": 80,
   "id": "195edf90-bdcc-4056-92c1-a6b0f101b791",
   "metadata": {
    "vscode": {
     "languageId": "python"
    }
   },
   "outputs": [
    {
     "data": {
      "text/plain": [
       "int"
      ]
     },
     "execution_count": 80,
     "metadata": {},
     "output_type": "execute_result"
    }
   ],
   "source": [
    "type(lst[0])"
   ]
  },
  {
   "cell_type": "code",
   "execution_count": 81,
   "id": "f0d21aa3-17d8-4d91-8c6e-4c5be0310886",
   "metadata": {
    "vscode": {
     "languageId": "python"
    }
   },
   "outputs": [
    {
     "data": {
      "text/plain": [
       "float"
      ]
     },
     "execution_count": 81,
     "metadata": {},
     "output_type": "execute_result"
    }
   ],
   "source": [
    "type(lst[1])"
   ]
  },
  {
   "cell_type": "code",
   "execution_count": 82,
   "id": "7f15299c-bc44-425f-9fdb-ba2ea88c57ba",
   "metadata": {
    "vscode": {
     "languageId": "python"
    }
   },
   "outputs": [
    {
     "data": {
      "text/plain": [
       "bool"
      ]
     },
     "execution_count": 82,
     "metadata": {},
     "output_type": "execute_result"
    }
   ],
   "source": [
    "type(lst[2])"
   ]
  },
  {
   "cell_type": "code",
   "execution_count": 83,
   "id": "04d1407a-134c-497d-9bff-1f6328463958",
   "metadata": {
    "vscode": {
     "languageId": "python"
    }
   },
   "outputs": [
    {
     "data": {
      "text/plain": [
       "str"
      ]
     },
     "execution_count": 83,
     "metadata": {},
     "output_type": "execute_result"
    }
   ],
   "source": [
    "type(lst[3])"
   ]
  },
  {
   "cell_type": "code",
   "execution_count": 84,
   "id": "251f8901-35e2-49d3-bcc9-8df687c398d6",
   "metadata": {
    "vscode": {
     "languageId": "python"
    }
   },
   "outputs": [
    {
     "data": {
      "text/plain": [
       "list"
      ]
     },
     "execution_count": 84,
     "metadata": {},
     "output_type": "execute_result"
    }
   ],
   "source": [
    "type(lst[4])"
   ]
  },
  {
   "cell_type": "code",
   "execution_count": 85,
   "id": "fc6e51bd-ef7d-4fdf-b83a-b68dbd8e2ca4",
   "metadata": {
    "vscode": {
     "languageId": "python"
    }
   },
   "outputs": [
    {
     "data": {
      "text/plain": [
       "tuple"
      ]
     },
     "execution_count": 85,
     "metadata": {},
     "output_type": "execute_result"
    }
   ],
   "source": [
    "type(lst[5])"
   ]
  },
  {
   "cell_type": "code",
   "execution_count": 86,
   "id": "7bf25447-277b-4ecd-a0c2-11ca62978eb5",
   "metadata": {
    "vscode": {
     "languageId": "python"
    }
   },
   "outputs": [
    {
     "data": {
      "text/plain": [
       "dict"
      ]
     },
     "execution_count": 86,
     "metadata": {},
     "output_type": "execute_result"
    }
   ],
   "source": [
    "type(lst[6])"
   ]
  },
  {
   "cell_type": "code",
   "execution_count": 87,
   "id": "f5de5bed-9f2c-45a3-a999-6c6a6b603751",
   "metadata": {
    "vscode": {
     "languageId": "python"
    }
   },
   "outputs": [
    {
     "data": {
      "text/plain": [
       "set"
      ]
     },
     "execution_count": 87,
     "metadata": {},
     "output_type": "execute_result"
    }
   ],
   "source": [
    "type(lst[7])"
   ]
  },
  {
   "cell_type": "markdown",
   "id": "1c737603-2249-48c7-a7a7-88ef3ea4ab60",
   "metadata": {},
   "source": [
    "`-` str은 컨테이너형이 아니다. "
   ]
  },
  {
   "cell_type": "code",
   "execution_count": 57,
   "id": "e4ae066a-74c4-48f9-908b-41e92ac5cdf4",
   "metadata": {
    "vscode": {
     "languageId": "python"
    }
   },
   "outputs": [
    {
     "data": {
      "text/plain": [
       "'c'"
      ]
     },
     "execution_count": 57,
     "metadata": {},
     "output_type": "execute_result"
    }
   ],
   "source": [
    "'abcd'[2]"
   ]
  },
  {
   "cell_type": "markdown",
   "id": "0545ab41-c41e-4119-ba3e-30e55020cbf0",
   "metadata": {},
   "source": [
    "- str의 모든 원소는 문자임 "
   ]
  },
  {
   "cell_type": "markdown",
   "id": "33e8701e-d649-49a1-844e-24ab7f6be8d2",
   "metadata": {},
   "source": [
    "## 리스트는 가변형 객체이다. "
   ]
  },
  {
   "cell_type": "markdown",
   "id": "74dab46f-8d9f-47ff-be6e-8e941f216335",
   "metadata": {},
   "source": [
    "**리스트의 원소 수정**"
   ]
  },
  {
   "cell_type": "markdown",
   "id": "63610a43-1040-4c30-a5a5-480bc997cd22",
   "metadata": {},
   "source": [
    "`-` 리스트의 원소를 수정할 수 있다. (리스트는 가변객체이므로)"
   ]
  },
  {
   "cell_type": "code",
   "execution_count": 58,
   "id": "fc9f6aa4-3683-4165-b558-89e26d6fcd77",
   "metadata": {
    "vscode": {
     "languageId": "python"
    }
   },
   "outputs": [
    {
     "data": {
      "text/plain": [
       "[11, 22, 33]"
      ]
     },
     "execution_count": 58,
     "metadata": {},
     "output_type": "execute_result"
    }
   ],
   "source": [
    "a=[11,22,33]\n",
    "a"
   ]
  },
  {
   "cell_type": "code",
   "execution_count": 97,
   "id": "a77fcc83-b574-47ca-97e0-60d96c5368ba",
   "metadata": {
    "vscode": {
     "languageId": "python"
    }
   },
   "outputs": [
    {
     "data": {
      "text/plain": [
       "11"
      ]
     },
     "execution_count": 97,
     "metadata": {},
     "output_type": "execute_result"
    }
   ],
   "source": [
    "a[0]"
   ]
  },
  {
   "cell_type": "code",
   "execution_count": 98,
   "id": "c3d183ad-f215-42e7-8135-985c19cebce6",
   "metadata": {
    "vscode": {
     "languageId": "python"
    }
   },
   "outputs": [],
   "source": [
    "a[0]=111"
   ]
  },
  {
   "cell_type": "code",
   "execution_count": 99,
   "id": "a11b4638-e8f2-4672-888c-e17ec6ed4c56",
   "metadata": {
    "vscode": {
     "languageId": "python"
    }
   },
   "outputs": [
    {
     "data": {
      "text/plain": [
       "[111, 22, 33]"
      ]
     },
     "execution_count": 99,
     "metadata": {},
     "output_type": "execute_result"
    }
   ],
   "source": [
    "a"
   ]
  },
  {
   "cell_type": "markdown",
   "id": "770512a1-a404-471e-939e-3a26d15b174e",
   "metadata": {},
   "source": [
    "`-` 원소수정은 당연한 기능같은데 이것이 불가능한 경우도 있다. "
   ]
  },
  {
   "cell_type": "markdown",
   "id": "f5d7847b-3029-460d-a09f-2b28cbb83de6",
   "metadata": {},
   "source": [
    "(가능한경우) "
   ]
  },
  {
   "cell_type": "code",
   "execution_count": 108,
   "id": "4e512f30-0d0e-4521-b7f8-3c3502d8b45d",
   "metadata": {
    "tags": [],
    "vscode": {
     "languageId": "python"
    }
   },
   "outputs": [
    {
     "data": {
      "text/plain": [
       "['g', 'u', 'e', 'b', 'i', 'n']"
      ]
     },
     "execution_count": 108,
     "metadata": {},
     "output_type": "execute_result"
    }
   ],
   "source": [
    "a=['g','u','e','b','i','n']\n",
    "a"
   ]
  },
  {
   "cell_type": "code",
   "execution_count": 109,
   "id": "78913261-4417-4475-a12b-2ecda95a11da",
   "metadata": {
    "tags": [],
    "vscode": {
     "languageId": "python"
    }
   },
   "outputs": [
    {
     "data": {
      "text/plain": [
       "'g'"
      ]
     },
     "execution_count": 109,
     "metadata": {},
     "output_type": "execute_result"
    }
   ],
   "source": [
    "a[0]"
   ]
  },
  {
   "cell_type": "code",
   "execution_count": 110,
   "id": "d521469d-6bd5-44a5-824b-2c734690a0bb",
   "metadata": {
    "tags": [],
    "vscode": {
     "languageId": "python"
    }
   },
   "outputs": [],
   "source": [
    "a[0]='G'"
   ]
  },
  {
   "cell_type": "code",
   "execution_count": 111,
   "id": "f6741217-3566-487b-8389-4b06fb9f7846",
   "metadata": {
    "tags": [],
    "vscode": {
     "languageId": "python"
    }
   },
   "outputs": [
    {
     "data": {
      "text/plain": [
       "['G', 'u', 'e', 'b', 'i', 'n']"
      ]
     },
     "execution_count": 111,
     "metadata": {},
     "output_type": "execute_result"
    }
   ],
   "source": [
    "a"
   ]
  },
  {
   "cell_type": "markdown",
   "id": "39580fde-0955-469b-931e-5a44a2e62545",
   "metadata": {},
   "source": [
    "(불가능한경우) "
   ]
  },
  {
   "cell_type": "code",
   "execution_count": 112,
   "id": "69de5b4b-303f-4fbf-97d2-2ea057efb763",
   "metadata": {
    "tags": [],
    "vscode": {
     "languageId": "python"
    }
   },
   "outputs": [
    {
     "data": {
      "text/plain": [
       "'guebin'"
      ]
     },
     "execution_count": 112,
     "metadata": {},
     "output_type": "execute_result"
    }
   ],
   "source": [
    "a='guebin'\n",
    "a"
   ]
  },
  {
   "cell_type": "code",
   "execution_count": 113,
   "id": "292791ee-bebb-4638-a3d1-91f2534898e7",
   "metadata": {
    "tags": [],
    "vscode": {
     "languageId": "python"
    }
   },
   "outputs": [
    {
     "data": {
      "text/plain": [
       "str"
      ]
     },
     "execution_count": 113,
     "metadata": {},
     "output_type": "execute_result"
    }
   ],
   "source": [
    "type(a)"
   ]
  },
  {
   "cell_type": "code",
   "execution_count": 114,
   "id": "c89fd5c0-09d1-44df-8fdd-5e30cf7737f9",
   "metadata": {
    "tags": [],
    "vscode": {
     "languageId": "python"
    }
   },
   "outputs": [
    {
     "data": {
      "text/plain": [
       "'g'"
      ]
     },
     "execution_count": 114,
     "metadata": {},
     "output_type": "execute_result"
    }
   ],
   "source": [
    "a[0]"
   ]
  },
  {
   "cell_type": "code",
   "execution_count": 115,
   "id": "11047950-3bea-47cd-b4c6-067aea25f90e",
   "metadata": {
    "tags": [],
    "vscode": {
     "languageId": "python"
    }
   },
   "outputs": [
    {
     "ename": "TypeError",
     "evalue": "'str' object does not support item assignment",
     "output_type": "error",
     "traceback": [
      "\u001b[0;31m---------------------------------------------------------------------------\u001b[0m",
      "\u001b[0;31mTypeError\u001b[0m                                 Traceback (most recent call last)",
      "Cell \u001b[0;32mIn[115], line 1\u001b[0m\n\u001b[0;32m----> 1\u001b[0m \u001b[43ma\u001b[49m\u001b[43m[\u001b[49m\u001b[38;5;241;43m0\u001b[39;49m\u001b[43m]\u001b[49m\u001b[38;5;241m=\u001b[39m\u001b[38;5;124m'\u001b[39m\u001b[38;5;124mG\u001b[39m\u001b[38;5;124m'\u001b[39m\n",
      "\u001b[0;31mTypeError\u001b[0m: 'str' object does not support item assignment"
     ]
    }
   ],
   "source": [
    "a[0]='G'"
   ]
  },
  {
   "cell_type": "markdown",
   "id": "e20996be-c5e4-4c93-9f04-054cdebca8be",
   "metadata": {},
   "source": [
    "**리스트의 원소 삭제**"
   ]
  },
  {
   "cell_type": "markdown",
   "id": "d3c90d2f-e513-4ae1-918a-104431c26325",
   "metadata": {},
   "source": [
    "(예제)"
   ]
  },
  {
   "cell_type": "markdown",
   "id": "fa12f06b-9948-4bd9-b156-7043eeb10ad9",
   "metadata": {},
   "source": [
    "아래와 같이 문자로 된 리스트를 선언하자. "
   ]
  },
  {
   "cell_type": "code",
   "execution_count": 118,
   "id": "f9570ff3-37ea-4239-8d19-26da3daf4831",
   "metadata": {
    "vscode": {
     "languageId": "python"
    }
   },
   "outputs": [
    {
     "data": {
      "text/plain": [
       "['g', 'u', 'e', 'b', 'i', 'n']"
      ]
     },
     "execution_count": 118,
     "metadata": {},
     "output_type": "execute_result"
    }
   ],
   "source": [
    "a=['g','u','e','b','i','n']\n",
    "a"
   ]
  },
  {
   "cell_type": "markdown",
   "id": "2bf99be3-820c-4c3e-9ac5-2932e5262eaf",
   "metadata": {},
   "source": [
    "사실 더 쉽게 선언할 수 있음 "
   ]
  },
  {
   "cell_type": "code",
   "execution_count": 120,
   "id": "cccdef08-6317-4a82-9c1f-f87cf59fb8f7",
   "metadata": {
    "vscode": {
     "languageId": "python"
    }
   },
   "outputs": [
    {
     "data": {
      "text/plain": [
       "['g', 'u', 'e', 'b', 'i', 'n']"
      ]
     },
     "execution_count": 120,
     "metadata": {},
     "output_type": "execute_result"
    }
   ],
   "source": [
    "a= 'guebin' # string으로 a를 선언\n",
    "a= list(a) # list(a)를 통하여 str을 ㅣist로 변환 -> 그 결과를 a에 다시 저장\n",
    "a"
   ]
  },
  {
   "cell_type": "markdown",
   "id": "b24be2ef-26be-42bd-8eda-b35ad8770760",
   "metadata": {},
   "source": [
    "**리스트의 원소 추가**"
   ]
  },
  {
   "cell_type": "markdown",
   "id": "a82c07eb-0e06-466f-b9e1-323a2b755aa3",
   "metadata": {},
   "source": [
    "(예제) 비어있는 리스트를 만들고 원소 0,1,2를 차례로 추가하여 보자. "
   ]
  },
  {
   "cell_type": "markdown",
   "id": "059febf6-0802-4c95-8906-35250d86e64a",
   "metadata": {},
   "source": [
    "(풀이1)"
   ]
  },
  {
   "cell_type": "code",
   "execution_count": 130,
   "id": "d61cf09a-0f9f-4f94-8a3c-95b173e13442",
   "metadata": {
    "vscode": {
     "languageId": "python"
    }
   },
   "outputs": [
    {
     "data": {
      "text/plain": [
       "[]"
      ]
     },
     "execution_count": 130,
     "metadata": {},
     "output_type": "execute_result"
    }
   ],
   "source": [
    "a=[]\n",
    "a"
   ]
  },
  {
   "cell_type": "code",
   "execution_count": 131,
   "id": "831767cc-3efc-42e6-a6da-53c81092d6fc",
   "metadata": {
    "vscode": {
     "languageId": "python"
    }
   },
   "outputs": [
    {
     "data": {
      "text/plain": [
       "[0]"
      ]
     },
     "execution_count": 131,
     "metadata": {},
     "output_type": "execute_result"
    }
   ],
   "source": [
    "a= a + [0] \n",
    "a"
   ]
  },
  {
   "cell_type": "code",
   "execution_count": 132,
   "id": "594b7449-3906-4937-a2be-72e5543439c0",
   "metadata": {
    "vscode": {
     "languageId": "python"
    }
   },
   "outputs": [
    {
     "data": {
      "text/plain": [
       "[0, 1]"
      ]
     },
     "execution_count": 132,
     "metadata": {},
     "output_type": "execute_result"
    }
   ],
   "source": [
    "a= a + [1]\n",
    "a"
   ]
  },
  {
   "cell_type": "code",
   "execution_count": 133,
   "id": "85d5cddb-c5cd-40a1-8858-01c38a18f2ff",
   "metadata": {
    "vscode": {
     "languageId": "python"
    }
   },
   "outputs": [
    {
     "data": {
      "text/plain": [
       "[0, 1, 2]"
      ]
     },
     "execution_count": 133,
     "metadata": {},
     "output_type": "execute_result"
    }
   ],
   "source": [
    "a= a + [2]\n",
    "a"
   ]
  },
  {
   "cell_type": "markdown",
   "id": "b0de7b75-94d1-47a5-9f51-6a20c262aff4",
   "metadata": {},
   "source": [
    "(풀이2)"
   ]
  },
  {
   "cell_type": "code",
   "execution_count": 74,
   "id": "f7069317-fe32-4d42-a1b5-4b499d8c6fb8",
   "metadata": {
    "vscode": {
     "languageId": "python"
    }
   },
   "outputs": [
    {
     "data": {
      "text/plain": [
       "[]"
      ]
     },
     "execution_count": 74,
     "metadata": {},
     "output_type": "execute_result"
    }
   ],
   "source": [
    "a=[]\n",
    "a"
   ]
  },
  {
   "cell_type": "code",
   "execution_count": 75,
   "id": "d043530b-1f4c-4b5c-8db6-1b1b16073d25",
   "metadata": {
    "vscode": {
     "languageId": "python"
    }
   },
   "outputs": [
    {
     "data": {
      "text/plain": [
       "[0]"
      ]
     },
     "execution_count": 75,
     "metadata": {},
     "output_type": "execute_result"
    }
   ],
   "source": [
    "a += [0] \n",
    "a"
   ]
  },
  {
   "cell_type": "code",
   "execution_count": 76,
   "id": "66ec8ed6-5319-4bb5-940b-00d728dc5083",
   "metadata": {
    "vscode": {
     "languageId": "python"
    }
   },
   "outputs": [
    {
     "data": {
      "text/plain": [
       "[0, 1]"
      ]
     },
     "execution_count": 76,
     "metadata": {},
     "output_type": "execute_result"
    }
   ],
   "source": [
    "a += [1]\n",
    "a"
   ]
  },
  {
   "cell_type": "code",
   "execution_count": 77,
   "id": "d40e1a11-2e5b-4a28-ac4e-d529e059b461",
   "metadata": {
    "vscode": {
     "languageId": "python"
    }
   },
   "outputs": [
    {
     "data": {
      "text/plain": [
       "[0, 1, 2]"
      ]
     },
     "execution_count": 77,
     "metadata": {},
     "output_type": "execute_result"
    }
   ],
   "source": [
    "a += [2]\n",
    "a"
   ]
  },
  {
   "cell_type": "markdown",
   "id": "7c83b3ec-165f-4323-96aa-8496a777479d",
   "metadata": {},
   "source": [
    "- 암기법: 중복되는 변수를 지우고 연산자의 순서를 바꾼다. "
   ]
  },
  {
   "cell_type": "markdown",
   "id": "8c1fda0d-44e2-46a3-8285-0e40a4c89d30",
   "metadata": {},
   "source": [
    "(풀이3) 리스트 특화기능(=메소드)를 이용 "
   ]
  },
  {
   "cell_type": "code",
   "execution_count": 154,
   "id": "2f126016-75de-4a6c-9e86-d99b129e44e2",
   "metadata": {
    "tags": [],
    "vscode": {
     "languageId": "python"
    }
   },
   "outputs": [
    {
     "data": {
      "text/plain": [
       "[]"
      ]
     },
     "execution_count": 154,
     "metadata": {},
     "output_type": "execute_result"
    }
   ],
   "source": [
    "a=[]\n",
    "a"
   ]
  },
  {
   "cell_type": "code",
   "execution_count": 155,
   "id": "fe3e9657-dd8e-4bba-a3c6-6a584da00f38",
   "metadata": {
    "tags": [],
    "vscode": {
     "languageId": "python"
    }
   },
   "outputs": [
    {
     "data": {
      "text/plain": [
       "[0]"
      ]
     },
     "execution_count": 155,
     "metadata": {},
     "output_type": "execute_result"
    }
   ],
   "source": [
    "a.append(0)\n",
    "a"
   ]
  },
  {
   "cell_type": "code",
   "execution_count": 156,
   "id": "0df5b8c5-69bb-42c8-9625-ef6c6ea40381",
   "metadata": {
    "tags": [],
    "vscode": {
     "languageId": "python"
    }
   },
   "outputs": [
    {
     "data": {
      "text/plain": [
       "[0, 1]"
      ]
     },
     "execution_count": 156,
     "metadata": {},
     "output_type": "execute_result"
    }
   ],
   "source": [
    "a.append(1)\n",
    "a"
   ]
  },
  {
   "cell_type": "code",
   "execution_count": 157,
   "id": "38c29cd4-a278-4f3d-a364-9f75d04e6380",
   "metadata": {
    "tags": [],
    "vscode": {
     "languageId": "python"
    }
   },
   "outputs": [
    {
     "data": {
      "text/plain": [
       "[0, 1, 2]"
      ]
     },
     "execution_count": 157,
     "metadata": {},
     "output_type": "execute_result"
    }
   ],
   "source": [
    "a.append(2)\n",
    "a"
   ]
  },
  {
   "cell_type": "markdown",
   "id": "496d10df-b492-4d7f-a175-96f9297eb459",
   "metadata": {},
   "source": [
    "`-` `a+[4]`와 `a.append(4)`의 차이점은? "
   ]
  },
  {
   "cell_type": "markdown",
   "id": "7f1710e9-b739-477f-9de3-52d1ffa24003",
   "metadata": {},
   "source": [
    "(관찰1)"
   ]
  },
  {
   "cell_type": "code",
   "execution_count": 149,
   "id": "52eb1d51-f837-408d-b37c-cabe0ab90f04",
   "metadata": {
    "vscode": {
     "languageId": "python"
    }
   },
   "outputs": [
    {
     "data": {
      "text/plain": [
       "[1, 2, 3, 4]"
      ]
     },
     "execution_count": 149,
     "metadata": {},
     "output_type": "execute_result"
    }
   ],
   "source": [
    "a=[1,2,3]\n",
    "a+[4] ## 리스트 a와 리스트 [4]의 연산결과를 알려줘 "
   ]
  },
  {
   "cell_type": "code",
   "execution_count": 151,
   "id": "d837aa40-6737-46c9-8770-c76fa3b6db08",
   "metadata": {
    "vscode": {
     "languageId": "python"
    }
   },
   "outputs": [
    {
     "data": {
      "text/plain": [
       "[1, 2, 3]"
      ]
     },
     "execution_count": 151,
     "metadata": {},
     "output_type": "execute_result"
    }
   ],
   "source": [
    "a ## a는 그대로임. 변화없음 "
   ]
  },
  {
   "cell_type": "markdown",
   "id": "fb5d380f-b909-49b9-b1fa-9bc0c81b025a",
   "metadata": {},
   "source": [
    "(관찰2)"
   ]
  },
  {
   "cell_type": "code",
   "execution_count": 152,
   "id": "aa25fb89-7a7d-4471-9b69-c62c2915f6ae",
   "metadata": {
    "vscode": {
     "languageId": "python"
    }
   },
   "outputs": [],
   "source": [
    "a=[1,2,3]\n",
    "a.append(4)"
   ]
  },
  {
   "cell_type": "code",
   "execution_count": 154,
   "id": "5cc35555-2bd8-4f1e-a079-9ce07c621eb6",
   "metadata": {
    "vscode": {
     "languageId": "python"
    }
   },
   "outputs": [
    {
     "data": {
      "text/plain": [
       "[1, 2, 3, 4]"
      ]
     },
     "execution_count": 154,
     "metadata": {},
     "output_type": "execute_result"
    }
   ],
   "source": [
    "a ## a자체가 변화함 "
   ]
  },
  {
   "cell_type": "markdown",
   "id": "96390f87-a6ba-4b53-a2ee-03fad235621a",
   "metadata": {},
   "source": [
    "비슷해보이지만 굉장히 미묘한 차이가 있음 "
   ]
  },
  {
   "cell_type": "markdown",
   "id": "707585e6-165e-437c-b2a9-e6d7e1937280",
   "metadata": {},
   "source": [
    "`a.append(4)`: `a`에 4를 append하라 $\\to$ `a`가 변함\n",
    "\n",
    "`a+[4]`: `a`와 4를 연산하라 "
   ]
  },
  {
   "cell_type": "markdown",
   "id": "e92b0433-e019-4b92-9fc4-8ad2f57e9f1a",
   "metadata": {},
   "source": [
    "## list 특수기능 "
   ]
  },
  {
   "cell_type": "markdown",
   "id": "aacb04bf-3705-443d-8ad1-8f5cc22fc20b",
   "metadata": {},
   "source": [
    "**(append)**"
   ]
  },
  {
   "cell_type": "code",
   "execution_count": 162,
   "id": "3851b578-23dd-4755-9b11-e8dfd8065916",
   "metadata": {
    "vscode": {
     "languageId": "python"
    }
   },
   "outputs": [
    {
     "data": {
      "text/plain": [
       "\u001b[0;31mSignature:\u001b[0m \u001b[0ma\u001b[0m\u001b[0;34m.\u001b[0m\u001b[0mappend\u001b[0m\u001b[0;34m(\u001b[0m\u001b[0mobject\u001b[0m\u001b[0;34m,\u001b[0m \u001b[0;34m/\u001b[0m\u001b[0;34m)\u001b[0m\u001b[0;34m\u001b[0m\u001b[0;34m\u001b[0m\u001b[0m\n",
       "\u001b[0;31mDocstring:\u001b[0m Append object to the end of the list.\n",
       "\u001b[0;31mType:\u001b[0m      builtin_function_or_method\n"
      ]
     },
     "metadata": {},
     "output_type": "display_data"
    }
   ],
   "source": [
    "a=[1,2,3,4]\n",
    "a.append?"
   ]
  },
  {
   "cell_type": "code",
   "execution_count": 163,
   "id": "8980d784-d929-4226-92fa-8d1db6726996",
   "metadata": {
    "vscode": {
     "languageId": "python"
    }
   },
   "outputs": [
    {
     "data": {
      "text/plain": [
       "[1, 2, 3, 4, 5]"
      ]
     },
     "execution_count": 163,
     "metadata": {},
     "output_type": "execute_result"
    }
   ],
   "source": [
    "a.append(5)\n",
    "a"
   ]
  },
  {
   "cell_type": "markdown",
   "id": "0e114e16-ffac-40ee-a93f-4054d95c451b",
   "metadata": {},
   "source": [
    "**(clear)**"
   ]
  },
  {
   "cell_type": "code",
   "execution_count": 166,
   "id": "1bf65ba0-48f8-47bf-b679-4597e656a475",
   "metadata": {
    "vscode": {
     "languageId": "python"
    }
   },
   "outputs": [
    {
     "data": {
      "text/plain": [
       "\u001b[0;31mSignature:\u001b[0m \u001b[0ma\u001b[0m\u001b[0;34m.\u001b[0m\u001b[0mclear\u001b[0m\u001b[0;34m(\u001b[0m\u001b[0;34m)\u001b[0m\u001b[0;34m\u001b[0m\u001b[0;34m\u001b[0m\u001b[0m\n",
       "\u001b[0;31mDocstring:\u001b[0m Remove all items from list.\n",
       "\u001b[0;31mType:\u001b[0m      builtin_function_or_method\n"
      ]
     },
     "metadata": {},
     "output_type": "display_data"
    }
   ],
   "source": [
    "a=[1,2,3,4]\n",
    "a.clear?"
   ]
  },
  {
   "cell_type": "code",
   "execution_count": 168,
   "id": "e1d8f438-e0c3-4b7c-bb5d-7f114caf68d7",
   "metadata": {
    "vscode": {
     "languageId": "python"
    }
   },
   "outputs": [
    {
     "data": {
      "text/plain": [
       "[]"
      ]
     },
     "execution_count": 168,
     "metadata": {},
     "output_type": "execute_result"
    }
   ],
   "source": [
    "a.clear()\n",
    "a"
   ]
  },
  {
   "cell_type": "markdown",
   "id": "a4903cc4-ffa3-422d-b958-191f929a5e13",
   "metadata": {},
   "source": [
    "**(copy)**"
   ]
  },
  {
   "cell_type": "code",
   "execution_count": 170,
   "id": "8128859f-f56b-41fe-989c-90dc371b3291",
   "metadata": {
    "vscode": {
     "languageId": "python"
    }
   },
   "outputs": [
    {
     "data": {
      "text/plain": [
       "\u001b[0;31mSignature:\u001b[0m \u001b[0ma\u001b[0m\u001b[0;34m.\u001b[0m\u001b[0mcopy\u001b[0m\u001b[0;34m(\u001b[0m\u001b[0;34m)\u001b[0m\u001b[0;34m\u001b[0m\u001b[0;34m\u001b[0m\u001b[0m\n",
       "\u001b[0;31mDocstring:\u001b[0m Return a shallow copy of the list.\n",
       "\u001b[0;31mType:\u001b[0m      builtin_function_or_method\n"
      ]
     },
     "metadata": {},
     "output_type": "display_data"
    }
   ],
   "source": [
    "a=[1,2,3,4]\n",
    "a.copy?"
   ]
  },
  {
   "cell_type": "code",
   "execution_count": 171,
   "id": "24453be5-f6fb-46ae-b3f7-a580d211bbea",
   "metadata": {
    "vscode": {
     "languageId": "python"
    }
   },
   "outputs": [
    {
     "data": {
      "text/plain": [
       "[1, 2, 3, 4]"
      ]
     },
     "execution_count": 171,
     "metadata": {},
     "output_type": "execute_result"
    }
   ],
   "source": [
    "b=a.copy()\n",
    "b"
   ]
  },
  {
   "cell_type": "markdown",
   "id": "933139e9-b791-4fd6-bfd9-26f62471d86e",
   "metadata": {},
   "source": [
    "**(count)**"
   ]
  },
  {
   "cell_type": "code",
   "execution_count": 179,
   "id": "aaa9ba0a-b161-4bde-9070-ff6915c58407",
   "metadata": {
    "vscode": {
     "languageId": "python"
    }
   },
   "outputs": [
    {
     "data": {
      "text/plain": [
       "\u001b[0;31mSignature:\u001b[0m \u001b[0ma\u001b[0m\u001b[0;34m.\u001b[0m\u001b[0mcount\u001b[0m\u001b[0;34m(\u001b[0m\u001b[0mvalue\u001b[0m\u001b[0;34m,\u001b[0m \u001b[0;34m/\u001b[0m\u001b[0;34m)\u001b[0m\u001b[0;34m\u001b[0m\u001b[0;34m\u001b[0m\u001b[0m\n",
       "\u001b[0;31mDocstring:\u001b[0m Return number of occurrences of value.\n",
       "\u001b[0;31mType:\u001b[0m      builtin_function_or_method\n"
      ]
     },
     "metadata": {},
     "output_type": "display_data"
    }
   ],
   "source": [
    "a=[1,1,2,3,3,4,4,4]\n",
    "a.count?"
   ]
  },
  {
   "cell_type": "code",
   "execution_count": 181,
   "id": "9029bb3b-d51e-4efe-ae53-b0f08a1b818a",
   "metadata": {
    "vscode": {
     "languageId": "python"
    }
   },
   "outputs": [
    {
     "data": {
      "text/plain": [
       "2"
      ]
     },
     "execution_count": 181,
     "metadata": {},
     "output_type": "execute_result"
    }
   ],
   "source": [
    "a.count(1)"
   ]
  },
  {
   "cell_type": "code",
   "execution_count": 182,
   "id": "67124330-87eb-45d3-aae2-800d8c0616a9",
   "metadata": {
    "vscode": {
     "languageId": "python"
    }
   },
   "outputs": [
    {
     "data": {
      "text/plain": [
       "1"
      ]
     },
     "execution_count": 182,
     "metadata": {},
     "output_type": "execute_result"
    }
   ],
   "source": [
    "a.count(2)"
   ]
  },
  {
   "cell_type": "code",
   "execution_count": 183,
   "id": "3573e548-2bea-4499-8272-30be98c9863f",
   "metadata": {
    "vscode": {
     "languageId": "python"
    }
   },
   "outputs": [
    {
     "data": {
      "text/plain": [
       "2"
      ]
     },
     "execution_count": 183,
     "metadata": {},
     "output_type": "execute_result"
    }
   ],
   "source": [
    "a.count(3)"
   ]
  },
  {
   "cell_type": "code",
   "execution_count": 184,
   "id": "826194d3-6949-4d50-98ee-24441272dca7",
   "metadata": {
    "vscode": {
     "languageId": "python"
    }
   },
   "outputs": [
    {
     "data": {
      "text/plain": [
       "3"
      ]
     },
     "execution_count": 184,
     "metadata": {},
     "output_type": "execute_result"
    }
   ],
   "source": [
    "a.count(4)"
   ]
  },
  {
   "cell_type": "markdown",
   "id": "7b8f8205-a82b-4c8f-bb75-5cde72bc4cba",
   "metadata": {},
   "source": [
    "**(extend)**"
   ]
  },
  {
   "cell_type": "code",
   "execution_count": 198,
   "id": "069f7a74-6913-447d-b8c2-6b51d7951d75",
   "metadata": {
    "vscode": {
     "languageId": "python"
    }
   },
   "outputs": [],
   "source": [
    "a=[1,2,3,4]\n",
    "b=[-1,-2,-3,-4]"
   ]
  },
  {
   "cell_type": "code",
   "execution_count": 199,
   "id": "60708d1e-2097-4f55-a971-56e2438a2190",
   "metadata": {
    "vscode": {
     "languageId": "python"
    }
   },
   "outputs": [
    {
     "data": {
      "text/plain": [
       "[1, 2, 3, 4, -1, -2, -3, -4]"
      ]
     },
     "execution_count": 199,
     "metadata": {},
     "output_type": "execute_result"
    }
   ],
   "source": [
    "a.extend(b)\n",
    "a"
   ]
  },
  {
   "cell_type": "code",
   "execution_count": 200,
   "id": "46015c7c-ef06-4d14-be57-bb480effe1c8",
   "metadata": {
    "vscode": {
     "languageId": "python"
    }
   },
   "outputs": [],
   "source": [
    "a=[1,2,3,4]\n",
    "b=[-1,-2,-3,-4]"
   ]
  },
  {
   "cell_type": "code",
   "execution_count": 201,
   "id": "3868229a-46a5-4259-8ded-c4d568561bb2",
   "metadata": {
    "vscode": {
     "languageId": "python"
    }
   },
   "outputs": [],
   "source": [
    "a.append(b)"
   ]
  },
  {
   "cell_type": "code",
   "execution_count": 202,
   "id": "3d0a4c67-0178-4393-b82a-9b1eb207d990",
   "metadata": {
    "vscode": {
     "languageId": "python"
    }
   },
   "outputs": [
    {
     "data": {
      "text/plain": [
       "[1, 2, 3, 4, [-1, -2, -3, -4]]"
      ]
     },
     "execution_count": 202,
     "metadata": {},
     "output_type": "execute_result"
    }
   ],
   "source": [
    "a"
   ]
  },
  {
   "cell_type": "markdown",
   "id": "709a098a-15c3-481b-968d-266b1fb93556",
   "metadata": {},
   "source": [
    "**(index)**"
   ]
  },
  {
   "cell_type": "code",
   "execution_count": 236,
   "id": "8b890c76-162b-4120-93ac-5966f9a696dc",
   "metadata": {
    "vscode": {
     "languageId": "python"
    }
   },
   "outputs": [
    {
     "data": {
      "text/plain": [
       "\u001b[0;31mSignature:\u001b[0m \u001b[0ma\u001b[0m\u001b[0;34m.\u001b[0m\u001b[0mindex\u001b[0m\u001b[0;34m(\u001b[0m\u001b[0mvalue\u001b[0m\u001b[0;34m,\u001b[0m \u001b[0mstart\u001b[0m\u001b[0;34m=\u001b[0m\u001b[0;36m0\u001b[0m\u001b[0;34m,\u001b[0m \u001b[0mstop\u001b[0m\u001b[0;34m=\u001b[0m\u001b[0;36m9223372036854775807\u001b[0m\u001b[0;34m,\u001b[0m \u001b[0;34m/\u001b[0m\u001b[0;34m)\u001b[0m\u001b[0;34m\u001b[0m\u001b[0;34m\u001b[0m\u001b[0m\n",
       "\u001b[0;31mDocstring:\u001b[0m\n",
       "Return first index of value.\n",
       "\n",
       "Raises ValueError if the value is not present.\n",
       "\u001b[0;31mType:\u001b[0m      builtin_function_or_method\n"
      ]
     },
     "metadata": {},
     "output_type": "display_data"
    }
   ],
   "source": [
    "a=[11,22,'a',True, 22,'a']\n",
    "a.index?"
   ]
  },
  {
   "cell_type": "code",
   "execution_count": 237,
   "id": "87b97700-b21f-45ee-9505-1a67ad5f09a0",
   "metadata": {
    "vscode": {
     "languageId": "python"
    }
   },
   "outputs": [
    {
     "data": {
      "text/plain": [
       "0"
      ]
     },
     "execution_count": 237,
     "metadata": {},
     "output_type": "execute_result"
    }
   ],
   "source": [
    "a.index(11)"
   ]
  },
  {
   "cell_type": "code",
   "execution_count": 238,
   "id": "b35a2757-358d-4b06-847e-3246e6071b25",
   "metadata": {
    "vscode": {
     "languageId": "python"
    }
   },
   "outputs": [
    {
     "data": {
      "text/plain": [
       "1"
      ]
     },
     "execution_count": 238,
     "metadata": {},
     "output_type": "execute_result"
    }
   ],
   "source": [
    "a.index(22)"
   ]
  },
  {
   "cell_type": "code",
   "execution_count": 239,
   "id": "ef6df1f9-8050-49c9-8173-db246c18f038",
   "metadata": {
    "vscode": {
     "languageId": "python"
    }
   },
   "outputs": [
    {
     "data": {
      "text/plain": [
       "2"
      ]
     },
     "execution_count": 239,
     "metadata": {},
     "output_type": "execute_result"
    }
   ],
   "source": [
    "a.index('a')"
   ]
  },
  {
   "cell_type": "code",
   "execution_count": 240,
   "id": "88688402-8cd2-4860-8b7a-7b76e85e3f76",
   "metadata": {
    "vscode": {
     "languageId": "python"
    }
   },
   "outputs": [
    {
     "data": {
      "text/plain": [
       "3"
      ]
     },
     "execution_count": 240,
     "metadata": {},
     "output_type": "execute_result"
    }
   ],
   "source": [
    "a.index(True)"
   ]
  },
  {
   "cell_type": "markdown",
   "id": "e2860207-f15c-417b-88ae-329364439de3",
   "metadata": {},
   "source": [
    "**(insert)**"
   ]
  },
  {
   "cell_type": "code",
   "execution_count": 242,
   "id": "e10e36f8-072d-4a05-9d88-8e2492b46507",
   "metadata": {
    "vscode": {
     "languageId": "python"
    }
   },
   "outputs": [
    {
     "data": {
      "text/plain": [
       "\u001b[0;31mSignature:\u001b[0m \u001b[0ma\u001b[0m\u001b[0;34m.\u001b[0m\u001b[0minsert\u001b[0m\u001b[0;34m(\u001b[0m\u001b[0mindex\u001b[0m\u001b[0;34m,\u001b[0m \u001b[0mobject\u001b[0m\u001b[0;34m,\u001b[0m \u001b[0;34m/\u001b[0m\u001b[0;34m)\u001b[0m\u001b[0;34m\u001b[0m\u001b[0;34m\u001b[0m\u001b[0m\n",
       "\u001b[0;31mDocstring:\u001b[0m Insert object before index.\n",
       "\u001b[0;31mType:\u001b[0m      builtin_function_or_method\n"
      ]
     },
     "metadata": {},
     "output_type": "display_data"
    }
   ],
   "source": [
    "a=[1,2,3]\n",
    "a.insert?"
   ]
  },
  {
   "cell_type": "code",
   "execution_count": 243,
   "id": "bdfacd70-6de1-4da4-b970-bbe3d7c9c282",
   "metadata": {
    "vscode": {
     "languageId": "python"
    }
   },
   "outputs": [
    {
     "data": {
      "text/plain": [
       "[1, 88, 2, 3]"
      ]
     },
     "execution_count": 243,
     "metadata": {},
     "output_type": "execute_result"
    }
   ],
   "source": [
    "a.insert(1,88) \n",
    "a"
   ]
  },
  {
   "cell_type": "markdown",
   "id": "ce1e431d-dd04-45a1-8ac8-49813ca76f70",
   "metadata": {},
   "source": [
    "**(pop)**"
   ]
  },
  {
   "cell_type": "code",
   "execution_count": 250,
   "id": "3528b269-7de0-4b9c-b2da-876df6b48447",
   "metadata": {
    "vscode": {
     "languageId": "python"
    }
   },
   "outputs": [
    {
     "data": {
      "text/plain": [
       "\u001b[0;31mSignature:\u001b[0m \u001b[0ma\u001b[0m\u001b[0;34m.\u001b[0m\u001b[0mpop\u001b[0m\u001b[0;34m(\u001b[0m\u001b[0mindex\u001b[0m\u001b[0;34m=\u001b[0m\u001b[0;34m-\u001b[0m\u001b[0;36m1\u001b[0m\u001b[0;34m,\u001b[0m \u001b[0;34m/\u001b[0m\u001b[0;34m)\u001b[0m\u001b[0;34m\u001b[0m\u001b[0;34m\u001b[0m\u001b[0m\n",
       "\u001b[0;31mDocstring:\u001b[0m\n",
       "Remove and return item at index (default last).\n",
       "\n",
       "Raises IndexError if list is empty or index is out of range.\n",
       "\u001b[0;31mType:\u001b[0m      builtin_function_or_method\n"
      ]
     },
     "metadata": {},
     "output_type": "display_data"
    }
   ],
   "source": [
    "a=['a',1,2,'d']\n",
    "a.pop?"
   ]
  },
  {
   "cell_type": "code",
   "execution_count": 251,
   "id": "0121e8ea-a7a2-47b5-ad64-4cbf471b0cbe",
   "metadata": {
    "vscode": {
     "languageId": "python"
    }
   },
   "outputs": [
    {
     "data": {
      "text/plain": [
       "'d'"
      ]
     },
     "execution_count": 251,
     "metadata": {},
     "output_type": "execute_result"
    }
   ],
   "source": [
    "a.pop() # index=-1 이므로 마지막원소가 나타남"
   ]
  },
  {
   "cell_type": "code",
   "execution_count": 252,
   "id": "d9d7be83-5f74-450b-be5c-851849d7f343",
   "metadata": {
    "vscode": {
     "languageId": "python"
    }
   },
   "outputs": [
    {
     "data": {
      "text/plain": [
       "['a', 1, 2]"
      ]
     },
     "execution_count": 252,
     "metadata": {},
     "output_type": "execute_result"
    }
   ],
   "source": [
    "a # a는 마지막 원소가 사라진 상태"
   ]
  },
  {
   "cell_type": "code",
   "execution_count": 253,
   "id": "25aa58d3-1b46-45fe-a6a5-ae60035b0368",
   "metadata": {
    "vscode": {
     "languageId": "python"
    }
   },
   "outputs": [
    {
     "data": {
      "text/plain": [
       "'a'"
      ]
     },
     "execution_count": 253,
     "metadata": {},
     "output_type": "execute_result"
    }
   ],
   "source": [
    "a.pop(0) # index=0 이므로 첫번쨰 원소가 나타남"
   ]
  },
  {
   "cell_type": "code",
   "execution_count": 254,
   "id": "f2e489cd-856d-4f31-a44b-648729fde9fa",
   "metadata": {
    "vscode": {
     "languageId": "python"
    }
   },
   "outputs": [
    {
     "data": {
      "text/plain": [
       "[1, 2]"
      ]
     },
     "execution_count": 254,
     "metadata": {},
     "output_type": "execute_result"
    }
   ],
   "source": [
    "a # a에는 첫번째 원소가 사라진 상태"
   ]
  },
  {
   "cell_type": "markdown",
   "id": "704a2fa6-3d58-4bb6-a375-e34f055a491b",
   "metadata": {},
   "source": [
    "**(remove)**"
   ]
  },
  {
   "cell_type": "code",
   "execution_count": 255,
   "id": "96103ab2-113f-4b17-afb6-eda220b8e3e8",
   "metadata": {
    "vscode": {
     "languageId": "python"
    }
   },
   "outputs": [
    {
     "data": {
      "text/plain": [
       "\u001b[0;31mSignature:\u001b[0m \u001b[0ma\u001b[0m\u001b[0;34m.\u001b[0m\u001b[0mremove\u001b[0m\u001b[0;34m(\u001b[0m\u001b[0mvalue\u001b[0m\u001b[0;34m,\u001b[0m \u001b[0;34m/\u001b[0m\u001b[0;34m)\u001b[0m\u001b[0;34m\u001b[0m\u001b[0;34m\u001b[0m\u001b[0m\n",
       "\u001b[0;31mDocstring:\u001b[0m\n",
       "Remove first occurrence of value.\n",
       "\n",
       "Raises ValueError if the value is not present.\n",
       "\u001b[0;31mType:\u001b[0m      builtin_function_or_method\n"
      ]
     },
     "metadata": {},
     "output_type": "display_data"
    }
   ],
   "source": [
    "a=['a',2,3,'d']\n",
    "a.remove?"
   ]
  },
  {
   "cell_type": "code",
   "execution_count": 256,
   "id": "0f5bbdbc-7538-4f77-af89-5e0566d64c0c",
   "metadata": {
    "vscode": {
     "languageId": "python"
    }
   },
   "outputs": [],
   "source": [
    "a.remove('d')"
   ]
  },
  {
   "cell_type": "code",
   "execution_count": 257,
   "id": "aa6de459-bb5c-4ac9-b950-133a2ab6914f",
   "metadata": {
    "vscode": {
     "languageId": "python"
    }
   },
   "outputs": [
    {
     "data": {
      "text/plain": [
       "['a', 2, 3]"
      ]
     },
     "execution_count": 257,
     "metadata": {},
     "output_type": "execute_result"
    }
   ],
   "source": [
    "a"
   ]
  },
  {
   "cell_type": "code",
   "execution_count": 259,
   "id": "5a878a34-e3f4-4cc5-b2ec-56b3fa5b8b9d",
   "metadata": {
    "vscode": {
     "languageId": "python"
    }
   },
   "outputs": [],
   "source": [
    "a.remove('a')"
   ]
  },
  {
   "cell_type": "code",
   "execution_count": 260,
   "id": "1db057c1-8567-427e-8cd0-0a5569cafc52",
   "metadata": {
    "vscode": {
     "languageId": "python"
    }
   },
   "outputs": [
    {
     "data": {
      "text/plain": [
       "[2, 3]"
      ]
     },
     "execution_count": 260,
     "metadata": {},
     "output_type": "execute_result"
    }
   ],
   "source": [
    "a"
   ]
  },
  {
   "cell_type": "markdown",
   "id": "0e44773f-8792-4a96-b18d-5736f4a891e1",
   "metadata": {},
   "source": [
    "**(reverse)**"
   ]
  },
  {
   "cell_type": "code",
   "execution_count": 262,
   "id": "d2845a7d-0ed6-40ef-b377-abd20ec460b2",
   "metadata": {
    "vscode": {
     "languageId": "python"
    }
   },
   "outputs": [
    {
     "data": {
      "text/plain": [
       "\u001b[0;31mSignature:\u001b[0m \u001b[0ma\u001b[0m\u001b[0;34m.\u001b[0m\u001b[0mreverse\u001b[0m\u001b[0;34m(\u001b[0m\u001b[0;34m)\u001b[0m\u001b[0;34m\u001b[0m\u001b[0;34m\u001b[0m\u001b[0m\n",
       "\u001b[0;31mDocstring:\u001b[0m Reverse *IN PLACE*.\n",
       "\u001b[0;31mType:\u001b[0m      builtin_function_or_method\n"
      ]
     },
     "metadata": {},
     "output_type": "display_data"
    }
   ],
   "source": [
    "a=[1,2,3,4]\n",
    "a.reverse?"
   ]
  },
  {
   "cell_type": "code",
   "execution_count": 263,
   "id": "6c51b8d5-9dc8-435c-a263-a551daaff75e",
   "metadata": {
    "vscode": {
     "languageId": "python"
    }
   },
   "outputs": [
    {
     "data": {
      "text/plain": [
       "[4, 3, 2, 1]"
      ]
     },
     "execution_count": 263,
     "metadata": {},
     "output_type": "execute_result"
    }
   ],
   "source": [
    "a.reverse()\n",
    "a"
   ]
  },
  {
   "cell_type": "markdown",
   "id": "2afb83d8-0c48-446f-8669-d26a95957216",
   "metadata": {},
   "source": [
    "**(sort)**"
   ]
  },
  {
   "cell_type": "code",
   "execution_count": 265,
   "id": "c30c02bb-d39b-4da0-8ab7-17044a15acb8",
   "metadata": {
    "vscode": {
     "languageId": "python"
    }
   },
   "outputs": [
    {
     "data": {
      "text/plain": [
       "\u001b[0;31mSignature:\u001b[0m \u001b[0ma\u001b[0m\u001b[0;34m.\u001b[0m\u001b[0msort\u001b[0m\u001b[0;34m(\u001b[0m\u001b[0;34m*\u001b[0m\u001b[0;34m,\u001b[0m \u001b[0mkey\u001b[0m\u001b[0;34m=\u001b[0m\u001b[0;32mNone\u001b[0m\u001b[0;34m,\u001b[0m \u001b[0mreverse\u001b[0m\u001b[0;34m=\u001b[0m\u001b[0;32mFalse\u001b[0m\u001b[0;34m)\u001b[0m\u001b[0;34m\u001b[0m\u001b[0;34m\u001b[0m\u001b[0m\n",
       "\u001b[0;31mDocstring:\u001b[0m\n",
       "Sort the list in ascending order and return None.\n",
       "\n",
       "The sort is in-place (i.e. the list itself is modified) and stable (i.e. the\n",
       "order of two equal elements is maintained).\n",
       "\n",
       "If a key function is given, apply it once to each list item and sort them,\n",
       "ascending or descending, according to their function values.\n",
       "\n",
       "The reverse flag can be set to sort in descending order.\n",
       "\u001b[0;31mType:\u001b[0m      builtin_function_or_method\n"
      ]
     },
     "metadata": {},
     "output_type": "display_data"
    }
   ],
   "source": [
    "a=[1,3,2,4]\n",
    "a.sort?"
   ]
  },
  {
   "cell_type": "code",
   "execution_count": 266,
   "id": "753e6d97-7235-4005-9289-4e15cfc428f6",
   "metadata": {
    "vscode": {
     "languageId": "python"
    }
   },
   "outputs": [
    {
     "data": {
      "text/plain": [
       "[1, 2, 3, 4]"
      ]
     },
     "execution_count": 266,
     "metadata": {},
     "output_type": "execute_result"
    }
   ],
   "source": [
    "a.sort()\n",
    "a"
   ]
  },
  {
   "cell_type": "markdown",
   "id": "5e95806e-816a-422e-90e8-9c75a3688356",
   "metadata": {},
   "source": [
    "(다른예제들)"
   ]
  },
  {
   "cell_type": "code",
   "execution_count": 271,
   "id": "1924cbc9-1831-41b3-9f44-70fa19e5ac8f",
   "metadata": {
    "vscode": {
     "languageId": "python"
    }
   },
   "outputs": [
    {
     "data": {
      "text/plain": [
       "['g', 'u', 'e', 'b', 'i', 'n']"
      ]
     },
     "execution_count": 271,
     "metadata": {},
     "output_type": "execute_result"
    }
   ],
   "source": [
    "a=list('guebin')\n",
    "a"
   ]
  },
  {
   "cell_type": "code",
   "execution_count": 272,
   "id": "a295fc81-5af0-4b14-8a39-1b59267fce95",
   "metadata": {
    "vscode": {
     "languageId": "python"
    }
   },
   "outputs": [
    {
     "data": {
      "text/plain": [
       "['b', 'e', 'g', 'i', 'n', 'u']"
      ]
     },
     "execution_count": 272,
     "metadata": {},
     "output_type": "execute_result"
    }
   ],
   "source": [
    "a.sort()\n",
    "a"
   ]
  },
  {
   "cell_type": "code",
   "execution_count": 274,
   "id": "391d1e90-8b24-4f3d-9730-2fef01fd48c2",
   "metadata": {
    "vscode": {
     "languageId": "python"
    }
   },
   "outputs": [
    {
     "data": {
      "text/plain": [
       "['u', 'n', 'i', 'g', 'e', 'b']"
      ]
     },
     "execution_count": 274,
     "metadata": {},
     "output_type": "execute_result"
    }
   ],
   "source": [
    "a.sort(reverse=True)\n",
    "a"
   ]
  },
  {
   "cell_type": "markdown",
   "id": "bf0e6535-7353-49fe-8970-d77ff3b21e7b",
   "metadata": {},
   "source": [
    "## 중첩 리스트 "
   ]
  },
  {
   "cell_type": "code",
   "execution_count": 79,
   "id": "936ecd8b-e124-4e88-9225-18b860b1dfce",
   "metadata": {
    "vscode": {
     "languageId": "python"
    }
   },
   "outputs": [
    {
     "data": {
      "text/plain": [
       "[[1, 2, 3], [4, 5, 6], [7, 8, 9]]"
      ]
     },
     "execution_count": 79,
     "metadata": {},
     "output_type": "execute_result"
    }
   ],
   "source": [
    "A=[[1,2,3],[4,5,6],[7,8,9]]\n",
    "A"
   ]
  },
  {
   "cell_type": "code",
   "execution_count": 86,
   "id": "28fbe186-b866-49c5-bae7-dff285fd184e",
   "metadata": {
    "vscode": {
     "languageId": "python"
    }
   },
   "outputs": [
    {
     "data": {
      "text/plain": [
       "8"
      ]
     },
     "execution_count": 87,
     "metadata": {},
     "output_type": "execute_result"
    }
   ],
   "source": [
    "A[0][1]"
   ]
  },
  {
   "cell_type": "markdown",
   "id": "517f9e35-9b2f-4f2c-a504-86180753a4a5",
   "metadata": {},
   "source": [
    "`-` A는 아래와 같은 매트릭스로 이해할 수 있다"
   ]
  },
  {
   "cell_type": "markdown",
   "id": "0c648b4c-94c6-463e-8b2e-d495348b6ede",
   "metadata": {},
   "source": [
    "$\n",
    "\\bf{A}=\\begin{bmatrix}\n",
    "1 & 2 & 3 \\\\ \n",
    "4 & 5 & 6 \\\\ \n",
    "7 & 8 & 9 \n",
    "\\end{bmatrix}\n",
    "$"
   ]
  },
  {
   "cell_type": "markdown",
   "id": "1e3ab439-97c9-4679-a6a3-094d6f36afa5",
   "metadata": {},
   "source": [
    "`-` A에서 (2,1)의 원소를 뽑고싶다 = 4를 뽑고싶다 "
   ]
  },
  {
   "cell_type": "code",
   "execution_count": 93,
   "id": "f62f9541-d4ba-458b-ad53-41afbe2fd51f",
   "metadata": {
    "vscode": {
     "languageId": "python"
    }
   },
   "outputs": [
    {
     "ename": "TypeError",
     "evalue": "list indices must be integers or slices, not tuple",
     "output_type": "error",
     "traceback": [
      "\u001b[0;31m---------------------------------------------------------------------------\u001b[0m",
      "\u001b[0;31mTypeError\u001b[0m                                 Traceback (most recent call last)",
      "\u001b[0;32m<ipython-input-93-47a191d8cd3a>\u001b[0m in \u001b[0;36m<module>\u001b[0;34m\u001b[0m\n\u001b[0;32m----> 1\u001b[0;31m \u001b[0mA\u001b[0m\u001b[0;34m[\u001b[0m\u001b[0;36m1\u001b[0m\u001b[0;34m,\u001b[0m\u001b[0;36m0\u001b[0m\u001b[0;34m]\u001b[0m\u001b[0;34m\u001b[0m\u001b[0;34m\u001b[0m\u001b[0m\n\u001b[0m",
      "\u001b[0;31mTypeError\u001b[0m: list indices must be integers or slices, not tuple"
     ]
    }
   ],
   "source": [
    "A[1,0]"
   ]
  },
  {
   "cell_type": "markdown",
   "id": "deb960f5-d634-48a7-b3b6-79a002b0967c",
   "metadata": {},
   "source": [
    "- 실패"
   ]
  },
  {
   "cell_type": "code",
   "execution_count": 278,
   "id": "105a9512-bab8-41cc-b458-0e855c9cdfd6",
   "metadata": {
    "vscode": {
     "languageId": "python"
    }
   },
   "outputs": [
    {
     "data": {
      "text/plain": [
       "4"
      ]
     },
     "execution_count": 278,
     "metadata": {},
     "output_type": "execute_result"
    }
   ],
   "source": [
    "A[1][0]"
   ]
  },
  {
   "cell_type": "markdown",
   "id": "586546f6-8a0a-4510-961f-d54b6cdb838c",
   "metadata": {},
   "source": [
    "- 성공 "
   ]
  },
  {
   "cell_type": "markdown",
   "id": "46e3ca99-7c27-4617-817c-abf761b5e43a",
   "metadata": {},
   "source": [
    "`-` 성공의 이유를 분석해보자. "
   ]
  },
  {
   "cell_type": "code",
   "execution_count": 285,
   "id": "bc638816-5389-4573-9663-c781d320500f",
   "metadata": {
    "vscode": {
     "languageId": "python"
    }
   },
   "outputs": [
    {
     "data": {
      "text/plain": [
       "[[1, 2, 3], [4, 5, 6], [7, 8, 9]]"
      ]
     },
     "execution_count": 285,
     "metadata": {},
     "output_type": "execute_result"
    }
   ],
   "source": [
    "A"
   ]
  },
  {
   "cell_type": "code",
   "execution_count": 286,
   "id": "099eb138-870a-45d3-8c3d-0511ceaa6242",
   "metadata": {
    "vscode": {
     "languageId": "python"
    }
   },
   "outputs": [
    {
     "data": {
      "text/plain": [
       "[4, 5, 6]"
      ]
     },
     "execution_count": 286,
     "metadata": {},
     "output_type": "execute_result"
    }
   ],
   "source": [
    "A[1]"
   ]
  },
  {
   "cell_type": "code",
   "execution_count": 287,
   "id": "48c5563e-9ff8-4cb2-b2e9-839b4fcd7fdb",
   "metadata": {
    "vscode": {
     "languageId": "python"
    }
   },
   "outputs": [
    {
     "data": {
      "text/plain": [
       "4"
      ]
     },
     "execution_count": 287,
     "metadata": {},
     "output_type": "execute_result"
    }
   ],
   "source": [
    "A[1][0]"
   ]
  },
  {
   "cell_type": "markdown",
   "id": "3df34ab1-e975-41a2-ac39-9047921dd484",
   "metadata": {},
   "source": [
    "`-` 매트릭스는 아니지만 매트릭스 같음!\n",
    "- 1차원 배열을 다차원 배열로 확장할 수 있는 기본 아이디어를 제공함 "
   ]
  },
  {
   "cell_type": "markdown",
   "id": "a28a3141-167e-45a9-89a1-312d099aeb84",
   "metadata": {},
   "source": [
    "# tuple"
   ]
  },
  {
   "cell_type": "markdown",
   "id": "d988bc45-d43e-42c5-b930-f524811e1058",
   "metadata": {},
   "source": [
    "## 리스트 vs 튜플 "
   ]
  },
  {
   "cell_type": "markdown",
   "id": "23648f11-7b81-49ba-9efc-74e38004ed00",
   "metadata": {},
   "source": [
    "`-` 컨테이너형타입이라는 점, 그리고 연산 및 인덱싱을 하는 방법은 리스트와 같음 \n",
    "\n",
    "- 차이점1: [] 대신에 ()를 사용한다. \n",
    "- 차이점2: 불변형이다. (원소의 값을 바꿀 수 없음) \n",
    "- 차이점3: 하나의 원소를 선언할 때는 (1,)와 같이 해야 한다.\n",
    "- 차이점4: 의미가 명확할때는 튜플의 ()를 생략가능하다. "
   ]
  },
  {
   "cell_type": "markdown",
   "id": "78a952e6-06da-409b-9ed3-19484b3da7a3",
   "metadata": {},
   "source": [
    "`-` 컨테이너형이라는 것이 무슨의미? "
   ]
  },
  {
   "cell_type": "code",
   "execution_count": 183,
   "id": "be653adc-efdb-4688-ac73-d7aeb4dc9341",
   "metadata": {
    "vscode": {
     "languageId": "python"
    }
   },
   "outputs": [],
   "source": [
    "a=(4,6,'pencil', 3.2+4.6j, [3,4]) "
   ]
  },
  {
   "cell_type": "code",
   "execution_count": 184,
   "id": "8791af85-4a26-4c99-b62c-b94b36ae856e",
   "metadata": {
    "vscode": {
     "languageId": "python"
    }
   },
   "outputs": [
    {
     "data": {
      "text/plain": [
       "str"
      ]
     },
     "execution_count": 184,
     "metadata": {},
     "output_type": "execute_result"
    }
   ],
   "source": [
    "type(a[2])"
   ]
  },
  {
   "cell_type": "code",
   "execution_count": 185,
   "id": "229495fc-6a95-4609-af61-c6357810890e",
   "metadata": {
    "vscode": {
     "languageId": "python"
    }
   },
   "outputs": [
    {
     "data": {
      "text/plain": [
       "complex"
      ]
     },
     "execution_count": 185,
     "metadata": {},
     "output_type": "execute_result"
    }
   ],
   "source": [
    "type(a[3])"
   ]
  },
  {
   "cell_type": "markdown",
   "id": "6c590aaf-a1cb-42b1-a443-1585117780d6",
   "metadata": {},
   "source": [
    "`-` 불변형이라는 것은 무슨의미? "
   ]
  },
  {
   "cell_type": "code",
   "execution_count": 189,
   "id": "32765cd4-20af-4181-a688-49aa1467c046",
   "metadata": {
    "vscode": {
     "languageId": "python"
    }
   },
   "outputs": [
    {
     "ename": "TypeError",
     "evalue": "'tuple' object does not support item assignment",
     "output_type": "error",
     "traceback": [
      "\u001b[0;31m---------------------------------------------------------------------------\u001b[0m",
      "\u001b[0;31mTypeError\u001b[0m                                 Traceback (most recent call last)",
      "\u001b[0;32m<ipython-input-189-228b9b5f00fd>\u001b[0m in \u001b[0;36m<module>\u001b[0;34m\u001b[0m\n\u001b[0;32m----> 1\u001b[0;31m \u001b[0ma\u001b[0m\u001b[0;34m[\u001b[0m\u001b[0;36m2\u001b[0m\u001b[0;34m]\u001b[0m \u001b[0;34m=\u001b[0m \u001b[0;34m'Pencil'\u001b[0m\u001b[0;34m\u001b[0m\u001b[0;34m\u001b[0m\u001b[0m\n\u001b[0m",
      "\u001b[0;31mTypeError\u001b[0m: 'tuple' object does not support item assignment"
     ]
    }
   ],
   "source": [
    "a[2] = 'Pencil'"
   ]
  },
  {
   "cell_type": "markdown",
   "id": "ed69992d-6181-4f92-8c32-ee299bd457fd",
   "metadata": {},
   "source": [
    "참고로 a를 튜플이 아니라 리스트로 선언하면 값이 잘 바뀐다. "
   ]
  },
  {
   "cell_type": "code",
   "execution_count": 14,
   "id": "05e6dca5-0814-462a-923c-879efa9f5491",
   "metadata": {
    "vscode": {
     "languageId": "python"
    }
   },
   "outputs": [],
   "source": [
    "a=[4,6,'pencil', 3.2+4.6j, [3,4]]"
   ]
  },
  {
   "cell_type": "code",
   "execution_count": 15,
   "id": "5c12b691-564a-45de-8ac8-0392930fac2b",
   "metadata": {
    "vscode": {
     "languageId": "python"
    }
   },
   "outputs": [
    {
     "data": {
      "text/plain": [
       "'pencil'"
      ]
     },
     "execution_count": 15,
     "metadata": {},
     "output_type": "execute_result"
    }
   ],
   "source": [
    "a[2]"
   ]
  },
  {
   "cell_type": "code",
   "execution_count": 16,
   "id": "e2238787-bebc-4724-938f-6d0ae403d261",
   "metadata": {
    "vscode": {
     "languageId": "python"
    }
   },
   "outputs": [],
   "source": [
    "a[2]='Pencil'"
   ]
  },
  {
   "cell_type": "code",
   "execution_count": 17,
   "id": "98e63720-6bf2-43e6-b3a7-c248a5b3319f",
   "metadata": {
    "vscode": {
     "languageId": "python"
    }
   },
   "outputs": [
    {
     "data": {
      "text/plain": [
       "[4, 6, 'Pencil', (3.2+4.6j), [3, 4]]"
      ]
     },
     "execution_count": 17,
     "metadata": {},
     "output_type": "execute_result"
    }
   ],
   "source": [
    "a"
   ]
  },
  {
   "cell_type": "markdown",
   "id": "5dfaae0c-a5b3-4caa-8ca1-844c6380bfc0",
   "metadata": {},
   "source": [
    "`-` 하나의 원소로 이루어진 튜플을 만들때는 쉼표를 붙여야 함. "
   ]
  },
  {
   "cell_type": "code",
   "execution_count": 20,
   "id": "358692de-8c86-492e-baee-eee02251a3f3",
   "metadata": {
    "vscode": {
     "languageId": "python"
    }
   },
   "outputs": [
    {
     "data": {
      "text/plain": [
       "[1, 2, 3, 4]"
      ]
     },
     "execution_count": 20,
     "metadata": {},
     "output_type": "execute_result"
    }
   ],
   "source": [
    "[1]+[2,3,4]"
   ]
  },
  {
   "cell_type": "code",
   "execution_count": 193,
   "id": "549648b8-1645-4d60-9d49-a38d3adf6d3e",
   "metadata": {
    "vscode": {
     "languageId": "python"
    }
   },
   "outputs": [
    {
     "data": {
      "text/plain": [
       "(1, 2, 3, 4)"
      ]
     },
     "execution_count": 193,
     "metadata": {},
     "output_type": "execute_result"
    }
   ],
   "source": [
    "(1,)+(2,3,4)"
   ]
  },
  {
   "cell_type": "markdown",
   "id": "23e16ea9-98a9-4020-ae61-1f4a32059b30",
   "metadata": {},
   "source": [
    "`-` 리스트와 중요한 차이점! 의미가 명확할때 튜플의 괄호는 생략가능하다. (이게 중요합니다) "
   ]
  },
  {
   "cell_type": "code",
   "execution_count": 194,
   "id": "60ac57f1-a1a8-4ea2-b3f1-9ac30324e7b3",
   "metadata": {
    "vscode": {
     "languageId": "python"
    }
   },
   "outputs": [
    {
     "data": {
      "text/plain": [
       "(1, 2)"
      ]
     },
     "execution_count": 194,
     "metadata": {},
     "output_type": "execute_result"
    }
   ],
   "source": [
    "a=1,2\n",
    "a"
   ]
  },
  {
   "cell_type": "markdown",
   "id": "88d10a39-9862-499b-848d-7377b309125b",
   "metadata": {},
   "source": [
    "의미가 명확할때 생략해야함 "
   ]
  },
  {
   "cell_type": "code",
   "execution_count": 196,
   "id": "ddae135f-5406-4a4c-804a-463ce1116693",
   "metadata": {
    "vscode": {
     "languageId": "python"
    }
   },
   "outputs": [
    {
     "data": {
      "text/plain": [
       "(1, 5, 4, 5)"
      ]
     },
     "execution_count": 196,
     "metadata": {},
     "output_type": "execute_result"
    }
   ],
   "source": [
    "1,2 + 3,4,5 "
   ]
  },
  {
   "cell_type": "code",
   "execution_count": 34,
   "id": "0c8736c7-20c5-47ab-86a9-7f5e019762ae",
   "metadata": {
    "vscode": {
     "languageId": "python"
    }
   },
   "outputs": [
    {
     "data": {
      "text/plain": [
       "(1, 2, 3, 4, 5)"
      ]
     },
     "execution_count": 34,
     "metadata": {},
     "output_type": "execute_result"
    }
   ],
   "source": [
    "(1,2) + (3,4,5) "
   ]
  },
  {
   "cell_type": "markdown",
   "id": "bee1dadc-8472-4da6-9899-fce98886a56b",
   "metadata": {},
   "source": [
    "## 선언 "
   ]
  },
  {
   "cell_type": "markdown",
   "id": "51467d27-0224-489e-b747-f514767ab906",
   "metadata": {},
   "source": [
    "`-` 소괄호를 이용 "
   ]
  },
  {
   "cell_type": "code",
   "execution_count": 35,
   "id": "6abf839f-6508-4cdd-b206-81d60a9b7e51",
   "metadata": {
    "vscode": {
     "languageId": "python"
    }
   },
   "outputs": [
    {
     "data": {
      "text/plain": [
       "(1, 2, 3)"
      ]
     },
     "execution_count": 35,
     "metadata": {},
     "output_type": "execute_result"
    }
   ],
   "source": [
    "a=(1,2,3)\n",
    "a"
   ]
  },
  {
   "cell_type": "code",
   "execution_count": 36,
   "id": "f1e3ef43-ff9b-4d48-9abd-9a32a3282436",
   "metadata": {
    "vscode": {
     "languageId": "python"
    }
   },
   "outputs": [
    {
     "data": {
      "text/plain": [
       "tuple"
      ]
     },
     "execution_count": 36,
     "metadata": {},
     "output_type": "execute_result"
    }
   ],
   "source": [
    "type(a)"
   ]
  },
  {
   "cell_type": "markdown",
   "id": "cdcd82c2-74bd-4e83-9aad-37c564625769",
   "metadata": {},
   "source": [
    "`-` 생략가능하다는 점이 포인트 "
   ]
  },
  {
   "cell_type": "code",
   "execution_count": 37,
   "id": "0d75df34-45a1-4e7a-aa47-d54140399fb5",
   "metadata": {
    "vscode": {
     "languageId": "python"
    }
   },
   "outputs": [
    {
     "data": {
      "text/plain": [
       "(1, 2, 3)"
      ]
     },
     "execution_count": 37,
     "metadata": {},
     "output_type": "execute_result"
    }
   ],
   "source": [
    "a=1,2,3\n",
    "a"
   ]
  },
  {
   "cell_type": "code",
   "execution_count": 38,
   "id": "7c19b5ab-583b-4bbc-83bb-7fb42ea8f7b3",
   "metadata": {
    "vscode": {
     "languageId": "python"
    }
   },
   "outputs": [
    {
     "data": {
      "text/plain": [
       "tuple"
      ]
     },
     "execution_count": 38,
     "metadata": {},
     "output_type": "execute_result"
    }
   ],
   "source": [
    "type(a)"
   ]
  },
  {
   "cell_type": "markdown",
   "id": "8a1c37b7-0c7d-478e-8c65-c776bfcef29e",
   "metadata": {},
   "source": [
    "`-` 원소가 하나인 튜플을 만들고 싶다면? "
   ]
  },
  {
   "cell_type": "code",
   "execution_count": 39,
   "id": "c03564b6-0bbe-4025-91c2-a04ba8b57677",
   "metadata": {
    "vscode": {
     "languageId": "python"
    }
   },
   "outputs": [
    {
     "data": {
      "text/plain": [
       "(1,)"
      ]
     },
     "execution_count": 39,
     "metadata": {},
     "output_type": "execute_result"
    }
   ],
   "source": [
    "a=(1,)\n",
    "a"
   ]
  },
  {
   "cell_type": "markdown",
   "id": "ce369bdc-299f-449f-acde-ea0c4d5bd172",
   "metadata": {},
   "source": [
    "## 연산 "
   ]
  },
  {
   "cell_type": "markdown",
   "id": "51b21df1-e84f-4f6e-8588-ad38ed0bb696",
   "metadata": {},
   "source": [
    "`-` 리스트와 동일 "
   ]
  },
  {
   "cell_type": "code",
   "execution_count": 40,
   "id": "737f61f9-65e8-4565-a9f9-8c461df799e5",
   "metadata": {
    "vscode": {
     "languageId": "python"
    }
   },
   "outputs": [
    {
     "data": {
      "text/plain": [
       "(1, 2, 3, 4, 5)"
      ]
     },
     "execution_count": 40,
     "metadata": {},
     "output_type": "execute_result"
    }
   ],
   "source": [
    "(1,2)+(3,4,5)"
   ]
  },
  {
   "cell_type": "code",
   "execution_count": 41,
   "id": "3de368a7-ef39-4236-8fff-cf4b7cc7cc98",
   "metadata": {
    "vscode": {
     "languageId": "python"
    }
   },
   "outputs": [
    {
     "data": {
      "text/plain": [
       "(1, 2, 1, 2)"
      ]
     },
     "execution_count": 41,
     "metadata": {},
     "output_type": "execute_result"
    }
   ],
   "source": [
    "(1,2)*2"
   ]
  },
  {
   "cell_type": "markdown",
   "id": "8d534dc5-93f4-4cca-9ab9-d870fa637e3b",
   "metadata": {},
   "source": [
    "## 인덱싱 "
   ]
  },
  {
   "cell_type": "markdown",
   "id": "7091476d-864e-4264-9606-f3483401336c",
   "metadata": {},
   "source": [
    "`-` 리스트와 동일 "
   ]
  },
  {
   "cell_type": "code",
   "execution_count": 42,
   "id": "63725038-b81e-4cb3-b134-f12d8852bd5c",
   "metadata": {
    "vscode": {
     "languageId": "python"
    }
   },
   "outputs": [
    {
     "data": {
      "text/plain": [
       "(1, 2, 3, -4, -5)"
      ]
     },
     "execution_count": 42,
     "metadata": {},
     "output_type": "execute_result"
    }
   ],
   "source": [
    "a=(1,2,3,-4,-5)\n",
    "a"
   ]
  },
  {
   "cell_type": "code",
   "execution_count": 43,
   "id": "74feb684-4d23-4703-9ced-64aa66735c76",
   "metadata": {
    "vscode": {
     "languageId": "python"
    }
   },
   "outputs": [
    {
     "data": {
      "text/plain": [
       "-5"
      ]
     },
     "execution_count": 43,
     "metadata": {},
     "output_type": "execute_result"
    }
   ],
   "source": [
    "a[-1]"
   ]
  },
  {
   "cell_type": "code",
   "execution_count": 44,
   "id": "828f829f-d441-488a-bf1d-3b0c4224b0a2",
   "metadata": {
    "vscode": {
     "languageId": "python"
    }
   },
   "outputs": [
    {
     "data": {
      "text/plain": [
       "(3, -4, -5)"
      ]
     },
     "execution_count": 44,
     "metadata": {},
     "output_type": "execute_result"
    }
   ],
   "source": [
    "a[-3:]"
   ]
  }
 ],
 "metadata": {
  "kernelspec": {
   "display_name": "Python 3 (ipykernel)",
   "language": "python",
   "name": "python3"
  },
  "language_info": {
   "codemirror_mode": {
    "name": "ipython",
    "version": 3
   },
   "file_extension": ".py",
   "mimetype": "text/x-python",
   "name": "python",
   "nbconvert_exporter": "python",
   "pygments_lexer": "ipython3",
   "version": "3.10.13"
  }
 },
 "nbformat": 4,
 "nbformat_minor": 5
}
