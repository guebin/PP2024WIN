{
 "cells": [
  {
   "cell_type": "raw",
   "id": "7f440bd0-c736-4202-b0dc-2db1a2b63f52",
   "metadata": {},
   "source": [
    "---\n",
    "title: \"Lesson 10: lambda, map, apply, applymap\"\n",
    "author: \"최규빈\"\n",
    "date: \"07/25/2023\"\n",
    "---"
   ]
  },
  {
   "cell_type": "markdown",
   "id": "e2c404c1-0373-4911-9ad3-83ba764d8f4d",
   "metadata": {},
   "source": [
    "<a href=\"https://colab.research.google.com/github/guebin/PP2023SUM/blob/main/posts/Day2/04_Function, Iteration/ls10.ipynb\"><img src=\"https://colab.research.google.com/assets/colab-badge.svg\" style=\"text-align: left\"></a>"
   ]
  },
  {
   "cell_type": "markdown",
   "id": "2c63a13a-7147-411f-b536-4243d1d3cd15",
   "metadata": {},
   "source": [
    "# 강의영상 "
   ]
  },
  {
   "cell_type": "markdown",
   "id": "68a9e2e1-90b9-4ebc-8018-c3c8254c16dc",
   "metadata": {},
   "source": [
    "{{<video https://youtu.be/XlwSIZPcBpM?list=PLQqh36zP38-wGTLMtxeVJrjwevmK1L6Ag  >}}"
   ]
  },
  {
   "cell_type": "markdown",
   "id": "f47a5ade-2ecd-47fe-b266-94f4dae165c6",
   "metadata": {},
   "source": [
    "# imports "
   ]
  },
  {
   "cell_type": "code",
   "execution_count": 111,
   "id": "53384e68-a2e4-42d2-9b33-03b9f0b98919",
   "metadata": {},
   "outputs": [],
   "source": [
    "import pandas as pd\n",
    "import numpy as np\n",
    "import matplotlib.pyplot as plt"
   ]
  },
  {
   "cell_type": "markdown",
   "id": "7fa01f72-2352-4011-86ea-335f0a4d4b9b",
   "metadata": {
    "tags": []
   },
   "source": [
    "# lambda"
   ]
  },
  {
   "cell_type": "markdown",
   "id": "66bd4924-0001-4d0e-814a-7941b4bb6861",
   "metadata": {},
   "source": [
    "`-` 예제1: 람다표현식(lambda expression)자체가 하나의 오브젝트임 "
   ]
  },
  {
   "cell_type": "code",
   "execution_count": 127,
   "id": "6e447590-252a-4a83-950c-128991cdc854",
   "metadata": {
    "vscode": {
     "languageId": "python"
    }
   },
   "outputs": [
    {
     "data": {
      "text/plain": [
       "<function __main__.<lambda>(x)>"
      ]
     },
     "execution_count": 127,
     "metadata": {},
     "output_type": "execute_result"
    }
   ],
   "source": [
    "lambda x: (x-2)**2 ### lambda x: (x-2)**2 가 실행되는 순간 메모리상에 함수 오브젝트가 저장됨 "
   ]
  },
  {
   "cell_type": "markdown",
   "id": "2589f01f-0613-4b64-b873-ef9ec58ea212",
   "metadata": {},
   "source": [
    "**(사용방법)**"
   ]
  },
  {
   "cell_type": "code",
   "execution_count": 128,
   "id": "5a157c3b-4df6-4744-898d-2101d8261ea4",
   "metadata": {
    "vscode": {
     "languageId": "python"
    }
   },
   "outputs": [
    {
     "data": {
      "text/plain": [
       "0"
      ]
     },
     "execution_count": 128,
     "metadata": {},
     "output_type": "execute_result"
    }
   ],
   "source": [
    "(lambda x: (x-2)**2)(2) # 입력2 -> 출력 (2-2)^2 =0 "
   ]
  },
  {
   "cell_type": "code",
   "execution_count": 129,
   "id": "48e29f60-baeb-49b3-a75d-49d968715cfe",
   "metadata": {
    "vscode": {
     "languageId": "python"
    }
   },
   "outputs": [
    {
     "data": {
      "text/plain": [
       "9"
      ]
     },
     "execution_count": 129,
     "metadata": {},
     "output_type": "execute_result"
    }
   ],
   "source": [
    "(lambda x: (x-2)**2)(5) # 입력5 -> 출력 (5-2)^2 =9"
   ]
  },
  {
   "cell_type": "code",
   "execution_count": 130,
   "id": "cab5f80d-7469-4658-9cf5-85718887d02a",
   "metadata": {
    "vscode": {
     "languageId": "python"
    }
   },
   "outputs": [
    {
     "data": {
      "text/plain": [
       "16"
      ]
     },
     "execution_count": 130,
     "metadata": {},
     "output_type": "execute_result"
    }
   ],
   "source": [
    "(lambda x: (x-2)**2)(6) # 입력6 -> 출력 (6-2)^2 =16"
   ]
  },
  {
   "cell_type": "code",
   "execution_count": 131,
   "id": "f70ae45b-8be4-4b1a-88a0-47668d26b6e2",
   "metadata": {
    "vscode": {
     "languageId": "python"
    }
   },
   "outputs": [
    {
     "data": {
      "text/plain": [
       "16"
      ]
     },
     "execution_count": 131,
     "metadata": {},
     "output_type": "execute_result"
    }
   ],
   "source": [
    "(lambda x: (x-2)**2)(-2) # 입력-2 -> 출력 (-2-2)^2 =16"
   ]
  },
  {
   "cell_type": "markdown",
   "id": "10d81b89-7ba4-451f-97ea-d1706ab68b3b",
   "metadata": {},
   "source": [
    "**quiz**"
   ]
  },
  {
   "cell_type": "markdown",
   "id": "c90b1183-6e63-47f4-840c-745ff64c6aa5",
   "metadata": {},
   "source": [
    "$f(x)=\\sqrt{x}$ 를 수행하는 함수를 lambda를 이용하여 구성하라. "
   ]
  },
  {
   "cell_type": "code",
   "execution_count": 136,
   "id": "13eeab6a-2ab3-4f70-9459-884d73fce763",
   "metadata": {},
   "outputs": [
    {
     "data": {
      "text/plain": [
       "1.4142135623730951"
      ]
     },
     "execution_count": 136,
     "metadata": {},
     "output_type": "execute_result"
    }
   ],
   "source": [
    "(lambda x: np.sqrt(x))(2)"
   ]
  },
  {
   "cell_type": "markdown",
   "id": "8852acf8-a40b-4736-9007-63e736e503dc",
   "metadata": {},
   "source": [
    "`-` 예제2: 람다표현식에 이름을 줄 수 있음. "
   ]
  },
  {
   "cell_type": "code",
   "execution_count": 137,
   "id": "aba0cbaa-68d7-4992-9af5-d0a141564d37",
   "metadata": {
    "vscode": {
     "languageId": "python"
    }
   },
   "outputs": [],
   "source": [
    "f = lambda x: (x-2)**2"
   ]
  },
  {
   "cell_type": "code",
   "execution_count": 138,
   "id": "9433c9a1-0852-459d-978f-2ce4ac6507cb",
   "metadata": {
    "vscode": {
     "languageId": "python"
    }
   },
   "outputs": [
    {
     "data": {
      "text/plain": [
       "(0, 4, 16, 16)"
      ]
     },
     "execution_count": 138,
     "metadata": {},
     "output_type": "execute_result"
    }
   ],
   "source": [
    "f(2),f(4),f(6),f(-2)"
   ]
  },
  {
   "cell_type": "markdown",
   "id": "24e4b15e-dff2-4442-9817-864457598408",
   "metadata": {},
   "source": [
    "위의 코드는 아래와 같다. "
   ]
  },
  {
   "cell_type": "code",
   "execution_count": 139,
   "id": "661bafbb-9490-48f4-9d17-c466e259c1f5",
   "metadata": {
    "vscode": {
     "languageId": "python"
    }
   },
   "outputs": [
    {
     "data": {
      "text/plain": [
       "(0, 4, 16, 16)"
      ]
     },
     "execution_count": 139,
     "metadata": {},
     "output_type": "execute_result"
    }
   ],
   "source": [
    "def f(x):\n",
    "    return (x-2)**2\n",
    "f(2),f(4),f(6),f(-2)"
   ]
  },
  {
   "cell_type": "markdown",
   "id": "6b055b12-5c45-4f6d-b904-c6ae8f282aae",
   "metadata": {},
   "source": [
    "`-` 예제3: 조건부 출력"
   ]
  },
  {
   "cell_type": "code",
   "execution_count": 147,
   "id": "09eaa929-5cf4-4a71-aa45-89e4793c91dd",
   "metadata": {
    "vscode": {
     "languageId": "python"
    }
   },
   "outputs": [],
   "source": [
    "f = lambda x,y: x if x>y else y # x,y가 입력 -> x>y 일때만 x를 리턴하고 그렇지않으면 y를 리턴 = 큰값을 리턴하라는 소리임 "
   ]
  },
  {
   "cell_type": "code",
   "execution_count": 148,
   "id": "386143ec-8ab7-45f4-b2cf-eed41815c973",
   "metadata": {
    "vscode": {
     "languageId": "python"
    }
   },
   "outputs": [
    {
     "data": {
      "text/plain": [
       "20"
      ]
     },
     "execution_count": 148,
     "metadata": {},
     "output_type": "execute_result"
    }
   ],
   "source": [
    "f(1,20)"
   ]
  },
  {
   "cell_type": "markdown",
   "id": "66146dc0-2432-4d54-93d5-bb6e135ed07d",
   "metadata": {},
   "source": [
    "**quiz**"
   ]
  },
  {
   "cell_type": "markdown",
   "id": "afaf9a4b-af0c-4068-b376-e0fade1dcb8e",
   "metadata": {},
   "source": [
    "임의의 알파벳 문자열을 입력으로 하고, 알파벳이 대문자이면 \"대문자 입니다\"를 리턴하고 소문자이면 \"소문자 입니다\"를 리턴하는 함수를 구성하라. "
   ]
  },
  {
   "cell_type": "markdown",
   "id": "f0c2710c-d102-44d7-abce-370ceef69def",
   "metadata": {},
   "source": [
    "(힌트) 아래코드 이용 "
   ]
  },
  {
   "cell_type": "code",
   "execution_count": 153,
   "id": "83328d6e-6b4b-4ad9-a479-122c4bb72a40",
   "metadata": {},
   "outputs": [
    {
     "data": {
      "text/plain": [
       "'대문자입니다'"
      ]
     },
     "execution_count": 153,
     "metadata": {},
     "output_type": "execute_result"
    }
   ],
   "source": [
    "(lambda x: '대문자입니다' if x.isupper() else '소문자입니다')('A')"
   ]
  },
  {
   "cell_type": "markdown",
   "id": "dd5415fb-12c5-42a7-ad7f-53db47f68b42",
   "metadata": {},
   "source": [
    "`-` 예제4: 람다표현식들의 리스트 "
   ]
  },
  {
   "cell_type": "code",
   "execution_count": 169,
   "id": "0a7d5549-3b75-44ad-9977-235d88cd3a88",
   "metadata": {
    "vscode": {
     "languageId": "python"
    }
   },
   "outputs": [],
   "source": [
    "fl = [lambda x: x, lambda x: x**2, lambda x: x**3]"
   ]
  },
  {
   "cell_type": "code",
   "execution_count": 45,
   "id": "57d70fb1-9e85-4576-af4b-58d31ef5b35d",
   "metadata": {
    "vscode": {
     "languageId": "python"
    }
   },
   "outputs": [
    {
     "name": "stdout",
     "output_type": "stream",
     "text": [
      "2\n",
      "4\n",
      "8\n"
     ]
    }
   ],
   "source": [
    "for f in fl: \n",
    "    print(f(2))"
   ]
  },
  {
   "cell_type": "code",
   "execution_count": 188,
   "id": "b30f6478-713a-40e2-a3ac-f6a1a75d7a2c",
   "metadata": {
    "vscode": {
     "languageId": "python"
    }
   },
   "outputs": [
    {
     "data": {
      "image/png": "[encoded data removed]",
      "text/plain": [
       "<Figure size 640x480 with 1 Axes>"
      ]
     },
     "metadata": {},
     "output_type": "display_data"
    }
   ],
   "source": [
    "x = np.linspace(-1,1,100)\n",
    "for f in fl:\n",
    "    plt.plot(x,f(x),'--') "
   ]
  },
  {
   "cell_type": "markdown",
   "id": "1983b0ec-2018-4cbe-a506-f078362e4da4",
   "metadata": {},
   "source": [
    "`-` 예제5: 람다표현식들의 딕셔너리 "
   ]
  },
  {
   "cell_type": "code",
   "execution_count": 189,
   "id": "b3f6156f-9e86-475c-b55a-4b3c02d9c2d3",
   "metadata": {
    "vscode": {
     "languageId": "python"
    }
   },
   "outputs": [
    {
     "data": {
      "text/plain": [
       "{'f1': <function __main__.<lambda>(x)>,\n",
       " 'f2': <function __main__.<lambda>(x)>,\n",
       " 'f3': <function __main__.<lambda>(x)>}"
      ]
     },
     "execution_count": 189,
     "metadata": {},
     "output_type": "execute_result"
    }
   ],
   "source": [
    "fd = {'f1':lambda x: x, 'f2':lambda x: x**2, 'f3':lambda x: x**3}\n",
    "fd"
   ]
  },
  {
   "cell_type": "code",
   "execution_count": 195,
   "id": "e18ab47e-9c32-4b4f-87fd-b9332abc1ca1",
   "metadata": {
    "vscode": {
     "languageId": "python"
    }
   },
   "outputs": [
    {
     "data": {
      "image/png": "[encoded data removed]",
      "text/plain": [
       "<Figure size 640x480 with 1 Axes>"
      ]
     },
     "metadata": {},
     "output_type": "display_data"
    }
   ],
   "source": [
    "for k in fd:\n",
    "    plt.plot(x,fd[k](x),'--')"
   ]
  },
  {
   "cell_type": "markdown",
   "id": "6d3feb3b-6280-42c6-910c-927e69003285",
   "metadata": {},
   "source": [
    "`-` 예제6: 람다표현식을 리턴하는 함수 (함수를 리턴하는 함수) "
   ]
  },
  {
   "cell_type": "markdown",
   "id": "8beffd1d-d114-4518-ba02-675bd4f30f16",
   "metadata": {},
   "source": [
    "(예비학습) 함수 $g(x)$가 정의되어 있을때 $\\frac{d}{dx}g(x)$의 값을 계산해보기 "
   ]
  },
  {
   "cell_type": "code",
   "execution_count": 208,
   "id": "3725ecc5-4a9b-42f5-b8b5-48753bec0fb6",
   "metadata": {
    "vscode": {
     "languageId": "python"
    }
   },
   "outputs": [],
   "source": [
    "g = lambda x: x**2 "
   ]
  },
  {
   "cell_type": "markdown",
   "id": "9c433537-0434-4665-943d-d62019131d38",
   "metadata": {},
   "source": [
    "$g(x)=x^2$"
   ]
  },
  {
   "cell_type": "markdown",
   "id": "8cc9eb75-cbd0-458e-b8d8-6eacd43e748d",
   "metadata": {},
   "source": [
    "$$g'(x)=gg(x)=2x\\approx \\frac{g(x+0.001)-g(x)}{0.001}$$"
   ]
  },
  {
   "cell_type": "code",
   "execution_count": 209,
   "id": "0c146d8c-a502-4e47-917f-806a61b8444e",
   "metadata": {
    "vscode": {
     "languageId": "python"
    }
   },
   "outputs": [],
   "source": [
    "gg = lambda x : (g(x+0.001)-g(x))/0.001"
   ]
  },
  {
   "cell_type": "code",
   "execution_count": 210,
   "id": "5e25abf2-cd16-42a9-b2d8-44af9a09ae8a",
   "metadata": {
    "vscode": {
     "languageId": "python"
    }
   },
   "outputs": [
    {
     "data": {
      "text/plain": [
       "8.0010000000037"
      ]
     },
     "execution_count": 210,
     "metadata": {},
     "output_type": "execute_result"
    }
   ],
   "source": [
    "gg(4)"
   ]
  },
  {
   "cell_type": "markdown",
   "id": "7c4e2019-3201-4082-bf22-73e0d30ab871",
   "metadata": {},
   "source": [
    "(목표) 도함수를 구해주는 `derivate` 함수를 정의하자. 이 함수는 임의의 함수 g를 입력으로 받으면, g의 도함수(gg)가 리턴되는 기능을 가진다. "
   ]
  },
  {
   "cell_type": "code",
   "execution_count": 228,
   "id": "712f8f62-6833-420c-9f73-6ed577970300",
   "metadata": {},
   "outputs": [],
   "source": [
    "def derivate(g):\n",
    "    return lambda x : (g(x+0.001)-g(x))/0.001"
   ]
  },
  {
   "cell_type": "markdown",
   "id": "645905e2-3ade-4900-95fc-3b0b11d3bcad",
   "metadata": {},
   "source": [
    "(사용1)"
   ]
  },
  {
   "cell_type": "code",
   "execution_count": 220,
   "id": "ead162ab-31ae-49c3-8170-f190a52b33d8",
   "metadata": {
    "vscode": {
     "languageId": "python"
    }
   },
   "outputs": [],
   "source": [
    "x = np.linspace(0,6.28,1000) "
   ]
  },
  {
   "cell_type": "code",
   "execution_count": 223,
   "id": "e66a474e-03e6-4472-8d01-c35432e105d7",
   "metadata": {},
   "outputs": [],
   "source": [
    "g = lambda x: np.sin(x)"
   ]
  },
  {
   "cell_type": "code",
   "execution_count": 224,
   "id": "b91d8f40-27ab-400d-9f52-fd986d7aad41",
   "metadata": {
    "vscode": {
     "languageId": "python"
    }
   },
   "outputs": [],
   "source": [
    "gg = derivate(g) "
   ]
  },
  {
   "cell_type": "code",
   "execution_count": 225,
   "id": "2ea2629f-f82f-4142-bf76-54de569c211b",
   "metadata": {
    "vscode": {
     "languageId": "python"
    }
   },
   "outputs": [
    {
     "data": {
      "text/plain": [
       "<matplotlib.legend.Legend at 0x7f43b01c3220>"
      ]
     },
     "execution_count": 225,
     "metadata": {},
     "output_type": "execute_result"
    },
    {
     "data": {
      "image/png": "[encoded data removed]",
      "text/plain": [
       "<Figure size 640x480 with 1 Axes>"
      ]
     },
     "metadata": {},
     "output_type": "display_data"
    }
   ],
   "source": [
    "plt.plot(x,g(x),label=r'$g(x)=sin(x)$')\n",
    "plt.plot(x,gg(x),label=r'$\\frac{d}{dx}g(x)=cos(x)$')\n",
    "plt.legend(fontsize=15)"
   ]
  },
  {
   "cell_type": "markdown",
   "id": "d97cf53f-a18f-402c-8c80-de5aade21500",
   "metadata": {},
   "source": [
    "(사용2)"
   ]
  },
  {
   "cell_type": "code",
   "execution_count": 226,
   "id": "1a77c458-2f7f-4deb-b71f-2cacbff42d57",
   "metadata": {
    "vscode": {
     "languageId": "python"
    }
   },
   "outputs": [],
   "source": [
    "g0 = lambda x: (1/6)*x**3\n",
    "g1 = derivate(g0) # (1/2)x^2 \n",
    "g2 = derivate(g1) # x "
   ]
  },
  {
   "cell_type": "code",
   "execution_count": 227,
   "id": "2e4a91cd-544e-4ea6-80f5-d28002c4726f",
   "metadata": {
    "vscode": {
     "languageId": "python"
    }
   },
   "outputs": [
    {
     "data": {
      "text/plain": [
       "<matplotlib.legend.Legend at 0x7f43b034d4b0>"
      ]
     },
     "execution_count": 227,
     "metadata": {},
     "output_type": "execute_result"
    },
    {
     "data": {
      "image/png": "[encoded data removed]",
      "text/plain": [
       "<Figure size 640x480 with 1 Axes>"
      ]
     },
     "metadata": {},
     "output_type": "display_data"
    }
   ],
   "source": [
    "x = np.linspace(-1,1,100)\n",
    "plt.plot(x,g0(x),'--',label=r'$g_0(x)=\\frac{1}{6}x^3$')\n",
    "plt.plot(x,g1(x),'--',label=r'$g_1(x)=\\frac{1}{2}x^2$')\n",
    "plt.plot(x,g2(x),'--',label=r'$g_2(x)=x$')\n",
    "plt.legend(fontsize=15)"
   ]
  },
  {
   "cell_type": "markdown",
   "id": "4b7141f4-cb35-415f-8da5-6937ca066f02",
   "metadata": {},
   "source": [
    "`-` 예제7: 예제6의 다른표현 "
   ]
  },
  {
   "cell_type": "code",
   "execution_count": 237,
   "id": "a82a07ef-4ac7-4d0a-9901-67e46602cb27",
   "metadata": {
    "vscode": {
     "languageId": "python"
    }
   },
   "outputs": [],
   "source": [
    "derivate = lambda g: lambda x : (g(x+0.001)-g(x))/0.001"
   ]
  },
  {
   "cell_type": "markdown",
   "id": "71478bdd-51f8-40ac-ad62-d069c4c1ea02",
   "metadata": {},
   "source": [
    "(사용1)"
   ]
  },
  {
   "cell_type": "code",
   "execution_count": 238,
   "id": "880d825d-b215-4cc7-b105-304bdc9b9a92",
   "metadata": {
    "vscode": {
     "languageId": "python"
    }
   },
   "outputs": [],
   "source": [
    "g = lambda x: np.sin(x) "
   ]
  },
  {
   "cell_type": "code",
   "execution_count": 239,
   "id": "4f78e6a7-6359-4bfd-b0ed-0642abd0e6a2",
   "metadata": {
    "vscode": {
     "languageId": "python"
    }
   },
   "outputs": [],
   "source": [
    "gg = derivate(g) "
   ]
  },
  {
   "cell_type": "code",
   "execution_count": 240,
   "id": "d22534c7-fddc-4053-beec-a2ce5edd4f2a",
   "metadata": {
    "vscode": {
     "languageId": "python"
    }
   },
   "outputs": [],
   "source": [
    "x = np.linspace(0,6.28,1000) "
   ]
  },
  {
   "cell_type": "code",
   "execution_count": 241,
   "id": "be1ccbe9-2530-40a0-920a-a64a23f49a5c",
   "metadata": {
    "vscode": {
     "languageId": "python"
    }
   },
   "outputs": [
    {
     "data": {
      "text/plain": [
       "<matplotlib.legend.Legend at 0x7f43af4b67d0>"
      ]
     },
     "execution_count": 241,
     "metadata": {},
     "output_type": "execute_result"
    },
    {
     "data": {
      "image/png": "[encoded data removed]",
      "text/plain": [
       "<Figure size 640x480 with 1 Axes>"
      ]
     },
     "metadata": {},
     "output_type": "display_data"
    }
   ],
   "source": [
    "plt.plot(x,g(x),label=r'$f(x)=sin(x)$')\n",
    "plt.plot(x,gg(x),label=r'$\\frac{d}{dx}f(x)=cos(x)$')\n",
    "plt.legend(fontsize=15)"
   ]
  },
  {
   "cell_type": "markdown",
   "id": "5201ce40-9ccd-40c5-9ae1-d1865fa6958f",
   "metadata": {},
   "source": [
    "(사용2)"
   ]
  },
  {
   "cell_type": "code",
   "execution_count": 235,
   "id": "fc2f6c43-3c41-4ab6-aa5a-91235998a33f",
   "metadata": {
    "vscode": {
     "languageId": "python"
    }
   },
   "outputs": [],
   "source": [
    "g0 = lambda x: (1/6)*x**3\n",
    "g1 = derivate(g0) # (1/2)x^2 \n",
    "g2 = derivate(g1) # x "
   ]
  },
  {
   "cell_type": "code",
   "execution_count": 236,
   "id": "c94284a8-4d1e-4484-8d76-3b619e46df64",
   "metadata": {
    "vscode": {
     "languageId": "python"
    }
   },
   "outputs": [
    {
     "data": {
      "text/plain": [
       "<matplotlib.legend.Legend at 0x7f43af404fa0>"
      ]
     },
     "execution_count": 236,
     "metadata": {},
     "output_type": "execute_result"
    },
    {
     "data": {
      "image/png": "[encoded data removed]",
      "text/plain": [
       "<Figure size 640x480 with 1 Axes>"
      ]
     },
     "metadata": {},
     "output_type": "display_data"
    }
   ],
   "source": [
    "x = np.linspace(-1,1,100)\n",
    "plt.plot(x,g0(x),'--',label=r'$g_0(x)=\\frac{1}{6}x^3$')\n",
    "plt.plot(x,g1(x),'--',label=r'$g_1(x)=\\frac{1}{2}x^2$')\n",
    "plt.plot(x,g2(x),'--',label=r'$g_2(x)=x$')\n",
    "plt.legend(fontsize=15)"
   ]
  },
  {
   "cell_type": "markdown",
   "id": "b9af2cd8-80e8-4962-8601-28721897e8a1",
   "metadata": {
    "tags": []
   },
   "source": [
    "# map"
   ]
  },
  {
   "cell_type": "markdown",
   "id": "6819f8cc-b4a6-478a-9971-72d686abbf71",
   "metadata": {},
   "source": [
    "`-` 개념: $\\text{map}\\left(f,[x_1,x_2,\\dots,x_n] \\right)=\\left[f(x_1),f(x_2),\\dots,f(x_n) \\right] $"
   ]
  },
  {
   "cell_type": "markdown",
   "id": "39ec363a-a68d-4074-bf06-ab2fcf74e31f",
   "metadata": {},
   "source": [
    "`-` 예제1: "
   ]
  },
  {
   "cell_type": "code",
   "execution_count": 256,
   "id": "7762312f-bb8d-478e-9794-253deb439dad",
   "metadata": {
    "vscode": {
     "languageId": "python"
    }
   },
   "outputs": [],
   "source": [
    "x = [1,2,3] \n",
    "y = list(map(lambda x: x+1 ,x))"
   ]
  },
  {
   "cell_type": "markdown",
   "id": "16b02ea8-71c6-4906-ad60-2415e4b7a03a",
   "metadata": {},
   "source": [
    "(다른구현1)"
   ]
  },
  {
   "cell_type": "code",
   "execution_count": 258,
   "id": "75f88de7-fcf3-406a-b437-7ac482580d46",
   "metadata": {
    "vscode": {
     "languageId": "python"
    }
   },
   "outputs": [
    {
     "data": {
      "text/plain": [
       "[2, 3, 4]"
      ]
     },
     "execution_count": 258,
     "metadata": {},
     "output_type": "execute_result"
    }
   ],
   "source": [
    "list(map(lambda x: x+1,[1,2,3]))"
   ]
  },
  {
   "cell_type": "markdown",
   "id": "199c2191-8e99-4680-9d18-c4179dca7255",
   "metadata": {},
   "source": [
    "(다른구현2)"
   ]
  },
  {
   "cell_type": "code",
   "execution_count": 259,
   "id": "a180206e-4b0a-4b12-80cb-ce28d58039b3",
   "metadata": {
    "vscode": {
     "languageId": "python"
    }
   },
   "outputs": [
    {
     "data": {
      "text/plain": [
       "[2, 3, 4]"
      ]
     },
     "execution_count": 259,
     "metadata": {},
     "output_type": "execute_result"
    }
   ],
   "source": [
    "[f(xi) for xi in [1,2,3]]"
   ]
  },
  {
   "cell_type": "markdown",
   "id": "c44076b4-8810-465f-ba8b-feb55859e618",
   "metadata": {},
   "source": [
    "**quiz**"
   ]
  },
  {
   "cell_type": "markdown",
   "id": "7ba0af4d-dac4-4a6f-89f8-ebe6c7e1926c",
   "metadata": {},
   "source": [
    "$x=[1,2,3,4,5]$에 대하여 $x^2$을 수행하는 함수를 구현하라. "
   ]
  },
  {
   "cell_type": "code",
   "execution_count": 262,
   "id": "d38b3a8f-c14c-4acb-96d4-6441142371b5",
   "metadata": {},
   "outputs": [
    {
     "data": {
      "text/plain": [
       "[1, 4, 9, 16, 25]"
      ]
     },
     "execution_count": 262,
     "metadata": {},
     "output_type": "execute_result"
    }
   ],
   "source": [
    "list(map(lambda x: x**2,[1,2,3,4,5]))"
   ]
  },
  {
   "cell_type": "markdown",
   "id": "1f128775-c555-42b1-aa0e-2e3f551709d8",
   "metadata": {},
   "source": [
    "`-` 예제2: 문자열을 입력으로 받고 대문자이면 True, 소문자이면 False \n",
    "```\n",
    "입력: A,B,C,a,b,c\n",
    "출력: T,T,T,F,F,F\n",
    "```"
   ]
  },
  {
   "cell_type": "code",
   "execution_count": 266,
   "id": "6ad780bd-20ec-4eea-985c-ffb6006735a2",
   "metadata": {},
   "outputs": [
    {
     "data": {
      "text/plain": [
       "[True, True, True, False, False, False]"
      ]
     },
     "execution_count": 266,
     "metadata": {},
     "output_type": "execute_result"
    }
   ],
   "source": [
    "list(map(lambda x: x.isupper(), list('ABCabc')))"
   ]
  },
  {
   "cell_type": "code",
   "execution_count": 73,
   "id": "e217fc65-f908-4749-b479-ee9fc4556683",
   "metadata": {
    "vscode": {
     "languageId": "python"
    }
   },
   "outputs": [],
   "source": [
    "x= list('ABCabc')\n",
    "# x = ['A','B','C','a','b','c']\n",
    "f = lambda s: s.isupper()\n",
    "y = list(map(f,x))"
   ]
  },
  {
   "cell_type": "code",
   "execution_count": 74,
   "id": "46db6bc8-7637-4089-8c82-14701f6097d2",
   "metadata": {
    "vscode": {
     "languageId": "python"
    }
   },
   "outputs": [
    {
     "data": {
      "text/plain": [
       "(['A', 'B', 'C', 'a', 'b', 'c'], [True, True, True, False, False, False])"
      ]
     },
     "execution_count": 74,
     "metadata": {},
     "output_type": "execute_result"
    }
   ],
   "source": [
    "x,y"
   ]
  },
  {
   "cell_type": "markdown",
   "id": "786caa5b-6766-4f75-abb1-61f8caec8eb5",
   "metadata": {},
   "source": [
    "`-` 예제3: 두개의 입력을 받는 함수 (map을 이용하는 것이 리스트 컴프리헨션보다 조금 편한것 같다) "
   ]
  },
  {
   "cell_type": "code",
   "execution_count": 268,
   "id": "aa96140f-0077-459b-9599-2ac9fb9a1017",
   "metadata": {},
   "outputs": [],
   "source": [
    "f= lambda x,y: x+y \n",
    "x=[1,2,3]\n",
    "y=[-1,-2,-3]"
   ]
  },
  {
   "cell_type": "code",
   "execution_count": 269,
   "id": "d38df35a-eadf-4c42-8c11-a6dfebecbe8b",
   "metadata": {},
   "outputs": [
    {
     "data": {
      "text/plain": [
       "[0, 0, 0]"
      ]
     },
     "execution_count": 269,
     "metadata": {},
     "output_type": "execute_result"
    }
   ],
   "source": [
    "list(map(f,x,y))"
   ]
  },
  {
   "cell_type": "markdown",
   "id": "1b5a2b83-52e5-44ed-a3ba-426e421a2c2f",
   "metadata": {},
   "source": [
    "(다른구현)-- 리스트컴프리헨션 "
   ]
  },
  {
   "cell_type": "code",
   "execution_count": 282,
   "id": "9e3909d0-f204-4b05-b559-43544e15fee1",
   "metadata": {
    "vscode": {
     "languageId": "python"
    }
   },
   "outputs": [
    {
     "data": {
      "text/plain": [
       "[0, 0, 0]"
      ]
     },
     "execution_count": 282,
     "metadata": {},
     "output_type": "execute_result"
    }
   ],
   "source": [
    "f = lambda x,y: x+y \n",
    "[f(xi,yi) for xi,yi in zip(x,y)] "
   ]
  },
  {
   "cell_type": "markdown",
   "id": "b6e54672-ee04-4534-bb06-bd0dcef936c0",
   "metadata": {},
   "source": [
    "**quiz**"
   ]
  },
  {
   "cell_type": "code",
   "execution_count": 283,
   "id": "80443261-01cd-4428-af63-89f6abed1ef3",
   "metadata": {
    "vscode": {
     "languageId": "python"
    }
   },
   "outputs": [],
   "source": [
    "t=np.linspace(-3.14,3.14,100)\n",
    "x=np.sin(t)\n",
    "y=np.cos(t)"
   ]
  },
  {
   "cell_type": "code",
   "execution_count": 287,
   "id": "a4227b0e-e0af-427e-a3ff-33a1c1216fd5",
   "metadata": {
    "vscode": {
     "languageId": "python"
    }
   },
   "outputs": [
    {
     "data": {
      "text/plain": [
       "[<matplotlib.lines.Line2D at 0x7f43afe82d40>]"
      ]
     },
     "execution_count": 287,
     "metadata": {},
     "output_type": "execute_result"
    },
    {
     "data": {
      "image/png": "[encoded data removed]",
      "text/plain": [
       "<Figure size 640x480 with 1 Axes>"
      ]
     },
     "metadata": {},
     "output_type": "display_data"
    }
   ],
   "source": [
    "plt.plot(t,x)\n",
    "plt.plot(t,y)"
   ]
  },
  {
   "cell_type": "markdown",
   "id": "1eee2de6-aefc-4194-a6c2-e9e07dd466ba",
   "metadata": {},
   "source": [
    "$f(x,y) = \\max(x,y)$ 를 구현하여 ${\\bf x}$,${\\bf y}$ 각 원소에 적용하고 결과를 시각화 하라. "
   ]
  },
  {
   "cell_type": "code",
   "execution_count": 79,
   "id": "852070ce-2fcc-4e34-890e-a62a8a3d913d",
   "metadata": {
    "vscode": {
     "languageId": "python"
    }
   },
   "outputs": [
    {
     "data": {
      "text/plain": [
       "4"
      ]
     },
     "execution_count": 79,
     "metadata": {},
     "output_type": "execute_result"
    }
   ],
   "source": [
    "f = (lambda x,y: max(x,y))\n",
    "f(3,4)"
   ]
  },
  {
   "cell_type": "code",
   "execution_count": 80,
   "id": "4df4d552-4d4e-4601-8fca-f8805cfcc2ad",
   "metadata": {
    "vscode": {
     "languageId": "python"
    }
   },
   "outputs": [],
   "source": [
    "z= list(map(f,x,y))"
   ]
  },
  {
   "cell_type": "code",
   "execution_count": 81,
   "id": "16339bf4-cc65-4b6e-8ee5-4b64bd2fce07",
   "metadata": {
    "vscode": {
     "languageId": "python"
    }
   },
   "outputs": [
    {
     "data": {
      "text/plain": [
       "[<matplotlib.lines.Line2D at 0x7f43b29b3fa0>]"
      ]
     },
     "execution_count": 81,
     "metadata": {},
     "output_type": "execute_result"
    },
    {
     "data": {
      "image/png": "[encoded data removed]",
      "text/plain": [
       "<Figure size 640x480 with 1 Axes>"
      ]
     },
     "metadata": {},
     "output_type": "display_data"
    }
   ],
   "source": [
    "plt.plot(t,z)"
   ]
  },
  {
   "cell_type": "markdown",
   "id": "510a56ba-92ba-4b91-aa42-a2bffad89b10",
   "metadata": {},
   "source": [
    "`-` 예제4: map은 \"하나의 함수에 다양한 입력\"을 적용하는 경우에만 사용가능, 리스트컴프리헨션은 \"다양한 함수에 다양한 입력\" 지원 "
   ]
  },
  {
   "cell_type": "code",
   "execution_count": 291,
   "id": "df1e691c-a144-4e32-98a3-258d6a516afa",
   "metadata": {
    "vscode": {
     "languageId": "python"
    }
   },
   "outputs": [],
   "source": [
    "flst = [lambda x: x+1, lambda x: x+2, lambda x: x+3] "
   ]
  },
  {
   "cell_type": "markdown",
   "id": "2c183647-dc12-456a-ae57-362151b130e4",
   "metadata": {},
   "source": [
    "map으로 구현시도 $\\to$ 실패 "
   ]
  },
  {
   "cell_type": "code",
   "execution_count": 303,
   "id": "e7a79265-96a3-46b5-b84c-05f22cddb704",
   "metadata": {},
   "outputs": [],
   "source": [
    "x=[-1,-2,-3]"
   ]
  },
  {
   "cell_type": "code",
   "execution_count": 296,
   "id": "a378dd60-e9d9-41cd-88e6-d0a126c3346f",
   "metadata": {
    "vscode": {
     "languageId": "python"
    }
   },
   "outputs": [
    {
     "ename": "TypeError",
     "evalue": "'list' object is not callable",
     "output_type": "error",
     "traceback": [
      "\u001b[0;31m---------------------------------------------------------------------------\u001b[0m",
      "\u001b[0;31mTypeError\u001b[0m                                 Traceback (most recent call last)",
      "Cell \u001b[0;32mIn[296], line 1\u001b[0m\n\u001b[0;32m----> 1\u001b[0m \u001b[38;5;28;43mlist\u001b[39;49m\u001b[43m(\u001b[49m\u001b[38;5;28;43mmap\u001b[39;49m\u001b[43m(\u001b[49m\u001b[43mflst\u001b[49m\u001b[43m,\u001b[49m\u001b[43mx\u001b[49m\u001b[43m)\u001b[49m\u001b[43m)\u001b[49m \u001b[38;5;66;03m# 결과가 0,0,0\u001b[39;00m\n",
      "\u001b[0;31mTypeError\u001b[0m: 'list' object is not callable"
     ]
    }
   ],
   "source": [
    "list(map(flst,x)) # 결과가 0,0,0"
   ]
  },
  {
   "cell_type": "markdown",
   "id": "914d54c7-70fa-46c8-914c-356ea9c0001a",
   "metadata": {},
   "source": [
    "리스트컴프리헨션으로 구현시도 $\\to$ 성공 "
   ]
  },
  {
   "cell_type": "code",
   "execution_count": 316,
   "id": "603071c5-e838-4128-aa33-b35508649b66",
   "metadata": {
    "vscode": {
     "languageId": "python"
    }
   },
   "outputs": [
    {
     "data": {
      "text/plain": [
       "[0, 0, 0]"
      ]
     },
     "execution_count": 316,
     "metadata": {},
     "output_type": "execute_result"
    }
   ],
   "source": [
    "[f(x) for f,x in zip(flst,[-1,-2,-3])]"
   ]
  },
  {
   "cell_type": "markdown",
   "id": "4e70241d-a24b-4fbb-8f1f-bd8d902aeb07",
   "metadata": {},
   "source": [
    "`-` 종합: map과 리스트컴프리헨션과 비교\n",
    "\n",
    "- map은 for문을 위한 $i$등의 인덱스를 쓰지 않지만 리스트컴프리헨션은 필요함 \n",
    "- map은 좀 더 리스트컴프리헨션보다 제약적으로 사용할 수 밖에 없음. "
   ]
  },
  {
   "cell_type": "markdown",
   "id": "3cc09e15-b4b0-4e89-a608-89679da433f1",
   "metadata": {},
   "source": [
    "# `df.apply(집계함수,axis=?)`"
   ]
  },
  {
   "cell_type": "markdown",
   "id": "235360df-ab7f-4249-a545-17d4c161193b",
   "metadata": {},
   "source": [
    "**예비학습: 함수의 종류**"
   ]
  },
  {
   "cell_type": "markdown",
   "id": "cd363dec-1d8d-416c-9b05-3cfd7a62163d",
   "metadata": {},
   "source": [
    "`-` 집계함수: 벡터입력 -> 스칼라출력 "
   ]
  },
  {
   "cell_type": "code",
   "execution_count": 318,
   "id": "ff2c9409-8410-4e51-91f7-3f5c2f420e0b",
   "metadata": {},
   "outputs": [],
   "source": [
    "input = [1,2,3] \n",
    "output = sum(input)"
   ]
  },
  {
   "cell_type": "code",
   "execution_count": 319,
   "id": "a82bb3e5-ff22-4430-9a99-7b8ca03dfe79",
   "metadata": {},
   "outputs": [
    {
     "data": {
      "text/plain": [
       "([1, 2, 3], 6)"
      ]
     },
     "execution_count": 319,
     "metadata": {},
     "output_type": "execute_result"
    }
   ],
   "source": [
    "input,output"
   ]
  },
  {
   "cell_type": "markdown",
   "id": "8bb93628-2e8b-496f-94e0-5a278eb0d9db",
   "metadata": {},
   "source": [
    "`-` 변환함수: 벡터입력 -> 벡터출력 "
   ]
  },
  {
   "cell_type": "code",
   "execution_count": 321,
   "id": "d8ce023b-46af-4eb2-bd85-b7d907c62799",
   "metadata": {},
   "outputs": [],
   "source": [
    "input = [1,2,3] \n",
    "output = list(map(lambda x: x**2, input))"
   ]
  },
  {
   "cell_type": "code",
   "execution_count": 322,
   "id": "b4f189d7-7d68-4f6c-90cb-ab991edcf73b",
   "metadata": {},
   "outputs": [
    {
     "data": {
      "text/plain": [
       "([1, 2, 3], [1, 4, 9])"
      ]
     },
     "execution_count": 322,
     "metadata": {},
     "output_type": "execute_result"
    }
   ],
   "source": [
    "input,output"
   ]
  },
  {
   "cell_type": "markdown",
   "id": "8a212e2b-9b22-45eb-adb9-e5ae1053a477",
   "metadata": {},
   "source": [
    "---"
   ]
  },
  {
   "cell_type": "code",
   "execution_count": 323,
   "id": "a1d1b5db-5ff8-4b17-b68e-b6be3f7ab680",
   "metadata": {},
   "outputs": [
    {
     "data": {
      "text/html": [
       "<div>\n",
       "<style scoped>\n",
       "    .dataframe tbody tr th:only-of-type {\n",
       "        vertical-align: middle;\n",
       "    }\n",
       "\n",
       "    .dataframe tbody tr th {\n",
       "        vertical-align: top;\n",
       "    }\n",
       "\n",
       "    .dataframe thead th {\n",
       "        text-align: right;\n",
       "    }\n",
       "</style>\n",
       "<table border=\"1\" class=\"dataframe\">\n",
       "  <thead>\n",
       "    <tr style=\"text-align: right;\">\n",
       "      <th></th>\n",
       "      <th>A</th>\n",
       "      <th>B</th>\n",
       "      <th>C</th>\n",
       "    </tr>\n",
       "  </thead>\n",
       "  <tbody>\n",
       "    <tr>\n",
       "      <th>0</th>\n",
       "      <td>1</td>\n",
       "      <td>4</td>\n",
       "      <td>7</td>\n",
       "    </tr>\n",
       "    <tr>\n",
       "      <th>1</th>\n",
       "      <td>2</td>\n",
       "      <td>5</td>\n",
       "      <td>8</td>\n",
       "    </tr>\n",
       "    <tr>\n",
       "      <th>2</th>\n",
       "      <td>3</td>\n",
       "      <td>6</td>\n",
       "      <td>9</td>\n",
       "    </tr>\n",
       "    <tr>\n",
       "      <th>3</th>\n",
       "      <td>4</td>\n",
       "      <td>7</td>\n",
       "      <td>10</td>\n",
       "    </tr>\n",
       "  </tbody>\n",
       "</table>\n",
       "</div>"
      ],
      "text/plain": [
       "   A  B   C\n",
       "0  1  4   7\n",
       "1  2  5   8\n",
       "2  3  6   9\n",
       "3  4  7  10"
      ]
     },
     "execution_count": 323,
     "metadata": {},
     "output_type": "execute_result"
    }
   ],
   "source": [
    "df = pd.DataFrame({\n",
    "    'A': [1, 2, 3, 4],\n",
    "    'B': [4, 5, 6, 7],\n",
    "    'C': [7, 8, 9, 10]\n",
    "})\n",
    "df"
   ]
  },
  {
   "cell_type": "markdown",
   "id": "ad501810-93d8-4712-8bb4-1a8c057d4f8c",
   "metadata": {},
   "source": [
    "`-` 예제1: column-wise sum을 구하라. "
   ]
  },
  {
   "cell_type": "code",
   "execution_count": 333,
   "id": "98cc164b-55d5-4e95-86e6-504648daaccf",
   "metadata": {},
   "outputs": [
    {
     "data": {
      "text/plain": [
       "A    10\n",
       "B    22\n",
       "C    34\n",
       "dtype: int64"
      ]
     },
     "execution_count": 333,
     "metadata": {},
     "output_type": "execute_result"
    }
   ],
   "source": [
    "df.sum()"
   ]
  },
  {
   "cell_type": "code",
   "execution_count": 348,
   "id": "54625ee3-fef8-4ec7-b759-8812959830dc",
   "metadata": {},
   "outputs": [
    {
     "data": {
      "text/plain": [
       "A    10\n",
       "B    22\n",
       "C    34\n",
       "dtype: int64"
      ]
     },
     "execution_count": 348,
     "metadata": {},
     "output_type": "execute_result"
    }
   ],
   "source": [
    "df.sum(axis=0)"
   ]
  },
  {
   "cell_type": "code",
   "execution_count": 351,
   "id": "4645c4ed-b089-462a-b020-1c004c11fc31",
   "metadata": {},
   "outputs": [
    {
     "data": {
      "text/plain": [
       "A    10\n",
       "B    22\n",
       "C    34\n",
       "dtype: int64"
      ]
     },
     "execution_count": 351,
     "metadata": {},
     "output_type": "execute_result"
    }
   ],
   "source": [
    "df.apply(sum,axis=0)"
   ]
  },
  {
   "cell_type": "markdown",
   "id": "e4ea24c5-9848-4fef-8f30-e83b160025b4",
   "metadata": {},
   "source": [
    "`-` 예제2: row-wise sum을 구하라. "
   ]
  },
  {
   "cell_type": "code",
   "execution_count": 352,
   "id": "ab255dab-fa7a-4010-a9be-1c6c328ef918",
   "metadata": {},
   "outputs": [
    {
     "data": {
      "text/plain": [
       "0    12\n",
       "1    15\n",
       "2    18\n",
       "3    21\n",
       "dtype: int64"
      ]
     },
     "execution_count": 352,
     "metadata": {},
     "output_type": "execute_result"
    }
   ],
   "source": [
    "df.sum(axis=1)"
   ]
  },
  {
   "cell_type": "code",
   "execution_count": 353,
   "id": "e32be9d8-e82a-4525-a1ec-1edd769d0571",
   "metadata": {},
   "outputs": [
    {
     "data": {
      "text/plain": [
       "0    12\n",
       "1    15\n",
       "2    18\n",
       "3    21\n",
       "dtype: int64"
      ]
     },
     "execution_count": 353,
     "metadata": {},
     "output_type": "execute_result"
    }
   ],
   "source": [
    "df.apply(sum,axis=1)"
   ]
  },
  {
   "cell_type": "markdown",
   "id": "ca106980-352a-4fd5-b1c9-a0ce7fd7b446",
   "metadata": {},
   "source": [
    "`-` 예제3: 모든 col에서 $\\frac{1}{2}\\big(\\min({\\bf x}) + \\max({\\bf x})\\big)$를 적용하여 구하라. "
   ]
  },
  {
   "cell_type": "code",
   "execution_count": 357,
   "id": "1cfd08ca-dbb7-484e-b316-dda3bd97512b",
   "metadata": {},
   "outputs": [
    {
     "data": {
      "text/html": [
       "<div>\n",
       "<style scoped>\n",
       "    .dataframe tbody tr th:only-of-type {\n",
       "        vertical-align: middle;\n",
       "    }\n",
       "\n",
       "    .dataframe tbody tr th {\n",
       "        vertical-align: top;\n",
       "    }\n",
       "\n",
       "    .dataframe thead th {\n",
       "        text-align: right;\n",
       "    }\n",
       "</style>\n",
       "<table border=\"1\" class=\"dataframe\">\n",
       "  <thead>\n",
       "    <tr style=\"text-align: right;\">\n",
       "      <th></th>\n",
       "      <th>A</th>\n",
       "      <th>B</th>\n",
       "      <th>C</th>\n",
       "    </tr>\n",
       "  </thead>\n",
       "  <tbody>\n",
       "    <tr>\n",
       "      <th>0</th>\n",
       "      <td>1</td>\n",
       "      <td>4</td>\n",
       "      <td>7</td>\n",
       "    </tr>\n",
       "    <tr>\n",
       "      <th>1</th>\n",
       "      <td>2</td>\n",
       "      <td>5</td>\n",
       "      <td>8</td>\n",
       "    </tr>\n",
       "    <tr>\n",
       "      <th>2</th>\n",
       "      <td>3</td>\n",
       "      <td>6</td>\n",
       "      <td>9</td>\n",
       "    </tr>\n",
       "    <tr>\n",
       "      <th>3</th>\n",
       "      <td>4</td>\n",
       "      <td>7</td>\n",
       "      <td>10</td>\n",
       "    </tr>\n",
       "  </tbody>\n",
       "</table>\n",
       "</div>"
      ],
      "text/plain": [
       "   A  B   C\n",
       "0  1  4   7\n",
       "1  2  5   8\n",
       "2  3  6   9\n",
       "3  4  7  10"
      ]
     },
     "execution_count": 357,
     "metadata": {},
     "output_type": "execute_result"
    }
   ],
   "source": [
    "df"
   ]
  },
  {
   "cell_type": "code",
   "execution_count": 371,
   "id": "6596a4a2-0bcd-4e4f-b87f-e6f3ccee8a5f",
   "metadata": {},
   "outputs": [
    {
     "data": {
      "text/plain": [
       "A    2.5\n",
       "B    5.5\n",
       "C    8.5\n",
       "dtype: float64"
      ]
     },
     "execution_count": 371,
     "metadata": {},
     "output_type": "execute_result"
    }
   ],
   "source": [
    "df.apply(lambda x: (np.min(x)+np.max(x))/2,axis=0)"
   ]
  },
  {
   "cell_type": "markdown",
   "id": "4e0abf15-7598-4364-bd23-04b64ab8e22f",
   "metadata": {},
   "source": [
    "`-` 예제4: 모든 row에서 $\\frac{1}{2}\\big(\\min({\\bf x}) + \\max({\\bf x})\\big)$를 적용하여 구하라. "
   ]
  },
  {
   "cell_type": "code",
   "execution_count": 373,
   "id": "2801ece4-e82f-4594-8500-8951c804bce1",
   "metadata": {},
   "outputs": [
    {
     "data": {
      "text/html": [
       "<div>\n",
       "<style scoped>\n",
       "    .dataframe tbody tr th:only-of-type {\n",
       "        vertical-align: middle;\n",
       "    }\n",
       "\n",
       "    .dataframe tbody tr th {\n",
       "        vertical-align: top;\n",
       "    }\n",
       "\n",
       "    .dataframe thead th {\n",
       "        text-align: right;\n",
       "    }\n",
       "</style>\n",
       "<table border=\"1\" class=\"dataframe\">\n",
       "  <thead>\n",
       "    <tr style=\"text-align: right;\">\n",
       "      <th></th>\n",
       "      <th>A</th>\n",
       "      <th>B</th>\n",
       "      <th>C</th>\n",
       "    </tr>\n",
       "  </thead>\n",
       "  <tbody>\n",
       "    <tr>\n",
       "      <th>0</th>\n",
       "      <td>1</td>\n",
       "      <td>4</td>\n",
       "      <td>7</td>\n",
       "    </tr>\n",
       "    <tr>\n",
       "      <th>1</th>\n",
       "      <td>2</td>\n",
       "      <td>5</td>\n",
       "      <td>8</td>\n",
       "    </tr>\n",
       "    <tr>\n",
       "      <th>2</th>\n",
       "      <td>3</td>\n",
       "      <td>6</td>\n",
       "      <td>9</td>\n",
       "    </tr>\n",
       "    <tr>\n",
       "      <th>3</th>\n",
       "      <td>4</td>\n",
       "      <td>7</td>\n",
       "      <td>10</td>\n",
       "    </tr>\n",
       "  </tbody>\n",
       "</table>\n",
       "</div>"
      ],
      "text/plain": [
       "   A  B   C\n",
       "0  1  4   7\n",
       "1  2  5   8\n",
       "2  3  6   9\n",
       "3  4  7  10"
      ]
     },
     "execution_count": 373,
     "metadata": {},
     "output_type": "execute_result"
    }
   ],
   "source": [
    "df"
   ]
  },
  {
   "cell_type": "code",
   "execution_count": 372,
   "id": "27101e98-5b96-42f2-8d4f-8ee1be116b9f",
   "metadata": {},
   "outputs": [
    {
     "data": {
      "text/plain": [
       "0    4.0\n",
       "1    5.0\n",
       "2    6.0\n",
       "3    7.0\n",
       "dtype: float64"
      ]
     },
     "execution_count": 372,
     "metadata": {},
     "output_type": "execute_result"
    }
   ],
   "source": [
    "df.apply(lambda x: (np.min(x)+np.max(x))/2,axis=1)"
   ]
  },
  {
   "cell_type": "markdown",
   "id": "f5e726e9-1559-4eb3-b942-fd07a7c2db96",
   "metadata": {},
   "source": [
    "# `s.apply(변환함수)`"
   ]
  },
  {
   "cell_type": "code",
   "execution_count": 374,
   "id": "79749268-da1e-42f2-b78d-be8bbc60d3ee",
   "metadata": {},
   "outputs": [
    {
     "data": {
      "text/html": [
       "<div>\n",
       "<style scoped>\n",
       "    .dataframe tbody tr th:only-of-type {\n",
       "        vertical-align: middle;\n",
       "    }\n",
       "\n",
       "    .dataframe tbody tr th {\n",
       "        vertical-align: top;\n",
       "    }\n",
       "\n",
       "    .dataframe thead th {\n",
       "        text-align: right;\n",
       "    }\n",
       "</style>\n",
       "<table border=\"1\" class=\"dataframe\">\n",
       "  <thead>\n",
       "    <tr style=\"text-align: right;\">\n",
       "      <th></th>\n",
       "      <th>A</th>\n",
       "      <th>B</th>\n",
       "      <th>C</th>\n",
       "    </tr>\n",
       "  </thead>\n",
       "  <tbody>\n",
       "    <tr>\n",
       "      <th>0</th>\n",
       "      <td>1</td>\n",
       "      <td>4</td>\n",
       "      <td>7</td>\n",
       "    </tr>\n",
       "    <tr>\n",
       "      <th>1</th>\n",
       "      <td>2</td>\n",
       "      <td>5</td>\n",
       "      <td>8</td>\n",
       "    </tr>\n",
       "    <tr>\n",
       "      <th>2</th>\n",
       "      <td>3</td>\n",
       "      <td>6</td>\n",
       "      <td>9</td>\n",
       "    </tr>\n",
       "    <tr>\n",
       "      <th>3</th>\n",
       "      <td>4</td>\n",
       "      <td>7</td>\n",
       "      <td>10</td>\n",
       "    </tr>\n",
       "  </tbody>\n",
       "</table>\n",
       "</div>"
      ],
      "text/plain": [
       "   A  B   C\n",
       "0  1  4   7\n",
       "1  2  5   8\n",
       "2  3  6   9\n",
       "3  4  7  10"
      ]
     },
     "execution_count": 374,
     "metadata": {},
     "output_type": "execute_result"
    }
   ],
   "source": [
    "df = pd.DataFrame({\n",
    "    'A': [1, 2, 3, 4],\n",
    "    'B': [4, 5, 6, 7],\n",
    "    'C': [7, 8, 9, 10]\n",
    "})\n",
    "df"
   ]
  },
  {
   "cell_type": "markdown",
   "id": "381e5125-8e5f-487e-b5af-affb6d5a74ed",
   "metadata": {},
   "source": [
    "`-` 예제1: df.A 열에서 2보다 크면 True, 그렇지 않으면 False를 리턴하는 변환함수를 적용하라."
   ]
  },
  {
   "cell_type": "code",
   "execution_count": 390,
   "id": "4bcb9d18-a88a-425d-9bcb-ec84a35628e9",
   "metadata": {},
   "outputs": [],
   "source": [
    "# 방법1: 컴프리헨션을 이용"
   ]
  },
  {
   "cell_type": "code",
   "execution_count": 395,
   "id": "cb9d8df9-3ec7-4d8f-b6c6-11a188a7623e",
   "metadata": {},
   "outputs": [
    {
     "data": {
      "text/plain": [
       "[False, False, True, True]"
      ]
     },
     "execution_count": 395,
     "metadata": {},
     "output_type": "execute_result"
    }
   ],
   "source": [
    "[i>2 for i in df.A]"
   ]
  },
  {
   "cell_type": "code",
   "execution_count": 97,
   "id": "a68ebaaf-b207-430a-a921-340f617809ca",
   "metadata": {},
   "outputs": [],
   "source": [
    "# 방법2: lambda + map 을 이용"
   ]
  },
  {
   "cell_type": "code",
   "execution_count": 397,
   "id": "c14bdcdb-6ed9-4aac-b048-a86921396325",
   "metadata": {},
   "outputs": [
    {
     "data": {
      "text/plain": [
       "[False, False, True, True]"
      ]
     },
     "execution_count": 397,
     "metadata": {},
     "output_type": "execute_result"
    }
   ],
   "source": [
    "list(map(lambda x: x>2,df.A))"
   ]
  },
  {
   "cell_type": "code",
   "execution_count": 98,
   "id": "981b2e07-0b7a-4016-a962-90832e3ac028",
   "metadata": {},
   "outputs": [],
   "source": [
    "# 방법3: s.apply 를 이용"
   ]
  },
  {
   "cell_type": "code",
   "execution_count": 399,
   "id": "b874232d-39ef-48e2-82e2-5123443eb5ad",
   "metadata": {},
   "outputs": [
    {
     "data": {
      "text/plain": [
       "0    False\n",
       "1    False\n",
       "2     True\n",
       "3     True\n",
       "Name: A, dtype: bool"
      ]
     },
     "execution_count": 399,
     "metadata": {},
     "output_type": "execute_result"
    }
   ],
   "source": [
    "df.A.apply(lambda x: x>2)"
   ]
  },
  {
   "cell_type": "markdown",
   "id": "1f692ad3-0f1a-4114-8735-58eaed247a44",
   "metadata": {},
   "source": [
    "`-` 예제2: df.A 열에서 2보다 크면 'H', 그렇지 않으면 'L'을 리턴하는 변환함수를 적용하라."
   ]
  },
  {
   "cell_type": "code",
   "execution_count": 99,
   "id": "74531801-28c0-49fa-823b-b55a22f1d98e",
   "metadata": {},
   "outputs": [],
   "source": [
    "# 방법1: 컴프리헨션을 이용"
   ]
  },
  {
   "cell_type": "code",
   "execution_count": 418,
   "id": "7e7871b0-8995-44fd-a3ab-5ae6825a7ca2",
   "metadata": {},
   "outputs": [
    {
     "data": {
      "text/plain": [
       "['L', 'L', 'H', 'H']"
      ]
     },
     "execution_count": 418,
     "metadata": {},
     "output_type": "execute_result"
    }
   ],
   "source": [
    "f = lambda x: 'H' if x>2 else 'L'\n",
    "[f(i) for i in df.A]"
   ]
  },
  {
   "cell_type": "code",
   "execution_count": 419,
   "id": "67bfc635-5cf7-4b08-84a3-ab86a5523aea",
   "metadata": {},
   "outputs": [],
   "source": [
    "# 방법2: lambda + map 을 이용"
   ]
  },
  {
   "cell_type": "code",
   "execution_count": 420,
   "id": "81b7dc40-132c-413e-9113-1890a2de26f6",
   "metadata": {},
   "outputs": [
    {
     "data": {
      "text/plain": [
       "['L', 'L', 'H', 'H']"
      ]
     },
     "execution_count": 420,
     "metadata": {},
     "output_type": "execute_result"
    }
   ],
   "source": [
    "list(map(lambda x: 'H' if x>2 else 'L',df.A))"
   ]
  },
  {
   "cell_type": "code",
   "execution_count": 101,
   "id": "cc75e239-6254-4f88-a77a-3065505f36d9",
   "metadata": {},
   "outputs": [],
   "source": [
    "# 방법3: s.apply 를 이용"
   ]
  },
  {
   "cell_type": "code",
   "execution_count": 423,
   "id": "1cf74ad3-aab6-4be4-80e2-657a1a458415",
   "metadata": {},
   "outputs": [
    {
     "data": {
      "text/plain": [
       "0    L\n",
       "1    L\n",
       "2    H\n",
       "3    H\n",
       "Name: A, dtype: object"
      ]
     },
     "execution_count": 423,
     "metadata": {},
     "output_type": "execute_result"
    }
   ],
   "source": [
    "df.A.apply(lambda x: 'H' if x>2 else 'L')"
   ]
  },
  {
   "cell_type": "markdown",
   "id": "fd21cd34-caae-4d63-b738-44250fe1f778",
   "metadata": {},
   "source": [
    "`-` 예제3: 아래와 같은 pd.Series 를 고려하자. "
   ]
  },
  {
   "cell_type": "code",
   "execution_count": 447,
   "id": "07d48473-c872-447e-a279-f66395c1edba",
   "metadata": {},
   "outputs": [
    {
     "data": {
      "text/plain": [
       "0        189cm\n",
       "1        179cm\n",
       "2        172cm\n",
       "3        181cm\n",
       "4        172cm\n",
       "         ...  \n",
       "17655    190cm\n",
       "17656    195cm\n",
       "17657    190cm\n",
       "17658    187cm\n",
       "17659    186cm\n",
       "Name: Height, Length: 17660, dtype: object"
      ]
     },
     "execution_count": 447,
     "metadata": {},
     "output_type": "execute_result"
    }
   ],
   "source": [
    "df = pd.read_csv('https://raw.githubusercontent.com/guebin/DV2022/master/posts/FIFA23_official_data.csv')\n",
    "s = df.Height\n",
    "s"
   ]
  },
  {
   "cell_type": "markdown",
   "id": "3e792a46-2428-483e-9d32-eabbeb09c005",
   "metadata": {},
   "source": [
    "각각 원소를 int형으로 바꾸는 변환함수를 적용하라. "
   ]
  },
  {
   "cell_type": "code",
   "execution_count": 103,
   "id": "aa4a2501-d254-4ce2-a6b4-19e292296068",
   "metadata": {},
   "outputs": [],
   "source": [
    "# 방법1: s.str.replace().astype() 을 이용"
   ]
  },
  {
   "cell_type": "code",
   "execution_count": 452,
   "id": "4763360b-3dd9-4689-9f25-021c0ccee9a6",
   "metadata": {},
   "outputs": [
    {
     "data": {
      "text/plain": [
       "0        189\n",
       "1        179\n",
       "2        172\n",
       "3        181\n",
       "4        172\n",
       "        ... \n",
       "17655    190\n",
       "17656    195\n",
       "17657    190\n",
       "17658    187\n",
       "17659    186\n",
       "Name: Height, Length: 17660, dtype: int64"
      ]
     },
     "execution_count": 452,
     "metadata": {},
     "output_type": "execute_result"
    }
   ],
   "source": [
    "s.str.replace('cm','').astype('int')"
   ]
  },
  {
   "cell_type": "code",
   "execution_count": 104,
   "id": "b6b151c0-d174-4bf9-96d6-66522546bf79",
   "metadata": {},
   "outputs": [],
   "source": [
    "# 방법2: 컴프리헨션을 이용 "
   ]
  },
  {
   "cell_type": "code",
   "execution_count": 458,
   "id": "00241f3a-df01-47c5-b06b-0a313cdd93c6",
   "metadata": {},
   "outputs": [],
   "source": [
    "# [int(si[:-2]) for si in s]"
   ]
  },
  {
   "cell_type": "code",
   "execution_count": 105,
   "id": "fed42aab-2d5c-4f47-8c7e-3b4c629d6e16",
   "metadata": {},
   "outputs": [],
   "source": [
    "# 방법3: lambda + map 을 이용"
   ]
  },
  {
   "cell_type": "code",
   "execution_count": 464,
   "id": "50086147-66fd-47c2-9930-df5b4b0e5421",
   "metadata": {},
   "outputs": [],
   "source": [
    "# list(map(lambda x: int(x[:-2]),s))"
   ]
  },
  {
   "cell_type": "code",
   "execution_count": 106,
   "id": "6ed1ae4b-eefa-4106-88a6-5fd8e571db47",
   "metadata": {},
   "outputs": [],
   "source": [
    "# 방법4: s.apply(변환함수)를 이용"
   ]
  },
  {
   "cell_type": "code",
   "execution_count": 472,
   "id": "c27d638e-5b19-482a-b2e2-456a223fc873",
   "metadata": {},
   "outputs": [
    {
     "data": {
      "text/plain": [
       "0        189\n",
       "1        179\n",
       "2        172\n",
       "3        181\n",
       "4        172\n",
       "        ... \n",
       "17655    190\n",
       "17656    195\n",
       "17657    190\n",
       "17658    187\n",
       "17659    186\n",
       "Name: Height, Length: 17660, dtype: int64"
      ]
     },
     "execution_count": 472,
     "metadata": {},
     "output_type": "execute_result"
    }
   ],
   "source": [
    "s.apply(lambda x: int(x[:-2]))"
   ]
  },
  {
   "cell_type": "markdown",
   "id": "1129d860-55ad-4944-bd09-5a1de1cd13c8",
   "metadata": {},
   "source": [
    "# `df.applymap(변환함수)`"
   ]
  },
  {
   "cell_type": "markdown",
   "id": "c59c023f-66cb-4444-a3d9-04a845deb8ca",
   "metadata": {},
   "source": [
    "`-` 예제1: 아래의 데이터 프레임을 고려하자. "
   ]
  },
  {
   "cell_type": "code",
   "execution_count": 473,
   "id": "11781db8-b1f2-49f2-a4a4-ff9b2f5c9af7",
   "metadata": {},
   "outputs": [
    {
     "data": {
      "text/html": [
       "<div>\n",
       "<style scoped>\n",
       "    .dataframe tbody tr th:only-of-type {\n",
       "        vertical-align: middle;\n",
       "    }\n",
       "\n",
       "    .dataframe tbody tr th {\n",
       "        vertical-align: top;\n",
       "    }\n",
       "\n",
       "    .dataframe thead th {\n",
       "        text-align: right;\n",
       "    }\n",
       "</style>\n",
       "<table border=\"1\" class=\"dataframe\">\n",
       "  <thead>\n",
       "    <tr style=\"text-align: right;\">\n",
       "      <th></th>\n",
       "      <th>A</th>\n",
       "      <th>B</th>\n",
       "      <th>C</th>\n",
       "    </tr>\n",
       "  </thead>\n",
       "  <tbody>\n",
       "    <tr>\n",
       "      <th>0</th>\n",
       "      <td>1</td>\n",
       "      <td>4</td>\n",
       "      <td>7</td>\n",
       "    </tr>\n",
       "    <tr>\n",
       "      <th>1</th>\n",
       "      <td>2</td>\n",
       "      <td>5</td>\n",
       "      <td>8</td>\n",
       "    </tr>\n",
       "    <tr>\n",
       "      <th>2</th>\n",
       "      <td>3</td>\n",
       "      <td>6</td>\n",
       "      <td>9</td>\n",
       "    </tr>\n",
       "    <tr>\n",
       "      <th>3</th>\n",
       "      <td>4</td>\n",
       "      <td>7</td>\n",
       "      <td>10</td>\n",
       "    </tr>\n",
       "  </tbody>\n",
       "</table>\n",
       "</div>"
      ],
      "text/plain": [
       "   A  B   C\n",
       "0  1  4   7\n",
       "1  2  5   8\n",
       "2  3  6   9\n",
       "3  4  7  10"
      ]
     },
     "execution_count": 473,
     "metadata": {},
     "output_type": "execute_result"
    }
   ],
   "source": [
    "df = pd.DataFrame({\n",
    "    'A': [1, 2, 3, 4],\n",
    "    'B': [4, 5, 6, 7],\n",
    "    'C': [7, 8, 9, 10]\n",
    "})\n",
    "df"
   ]
  },
  {
   "cell_type": "code",
   "execution_count": 476,
   "id": "65e5b6a1-561f-4542-a03e-4bbba94257d7",
   "metadata": {},
   "outputs": [
    {
     "data": {
      "text/html": [
       "<div>\n",
       "<style scoped>\n",
       "    .dataframe tbody tr th:only-of-type {\n",
       "        vertical-align: middle;\n",
       "    }\n",
       "\n",
       "    .dataframe tbody tr th {\n",
       "        vertical-align: top;\n",
       "    }\n",
       "\n",
       "    .dataframe thead th {\n",
       "        text-align: right;\n",
       "    }\n",
       "</style>\n",
       "<table border=\"1\" class=\"dataframe\">\n",
       "  <thead>\n",
       "    <tr style=\"text-align: right;\">\n",
       "      <th></th>\n",
       "      <th>A</th>\n",
       "      <th>B</th>\n",
       "      <th>C</th>\n",
       "    </tr>\n",
       "  </thead>\n",
       "  <tbody>\n",
       "    <tr>\n",
       "      <th>0</th>\n",
       "      <td>2.000000</td>\n",
       "      <td>3.000000</td>\n",
       "      <td>3.645751</td>\n",
       "    </tr>\n",
       "    <tr>\n",
       "      <th>1</th>\n",
       "      <td>2.414214</td>\n",
       "      <td>3.236068</td>\n",
       "      <td>3.828427</td>\n",
       "    </tr>\n",
       "    <tr>\n",
       "      <th>2</th>\n",
       "      <td>2.732051</td>\n",
       "      <td>3.449490</td>\n",
       "      <td>4.000000</td>\n",
       "    </tr>\n",
       "    <tr>\n",
       "      <th>3</th>\n",
       "      <td>3.000000</td>\n",
       "      <td>3.645751</td>\n",
       "      <td>4.162278</td>\n",
       "    </tr>\n",
       "  </tbody>\n",
       "</table>\n",
       "</div>"
      ],
      "text/plain": [
       "          A         B         C\n",
       "0  2.000000  3.000000  3.645751\n",
       "1  2.414214  3.236068  3.828427\n",
       "2  2.732051  3.449490  4.000000\n",
       "3  3.000000  3.645751  4.162278"
      ]
     },
     "execution_count": 476,
     "metadata": {},
     "output_type": "execute_result"
    }
   ],
   "source": [
    "df.applymap(lambda x: np.sqrt(x)+1)"
   ]
  },
  {
   "cell_type": "markdown",
   "id": "164531f2-41ec-4009-a04c-5b1bf145e55a",
   "metadata": {},
   "source": [
    "각 원소의 값을 판단하여 5보다 크면 'H', 그렇지 않으면 'L'를 리턴하는 함수를 구현하라. "
   ]
  },
  {
   "cell_type": "code",
   "execution_count": 478,
   "id": "5f59a78b-0507-4621-acce-8032133677d2",
   "metadata": {},
   "outputs": [
    {
     "data": {
      "text/html": [
       "<div>\n",
       "<style scoped>\n",
       "    .dataframe tbody tr th:only-of-type {\n",
       "        vertical-align: middle;\n",
       "    }\n",
       "\n",
       "    .dataframe tbody tr th {\n",
       "        vertical-align: top;\n",
       "    }\n",
       "\n",
       "    .dataframe thead th {\n",
       "        text-align: right;\n",
       "    }\n",
       "</style>\n",
       "<table border=\"1\" class=\"dataframe\">\n",
       "  <thead>\n",
       "    <tr style=\"text-align: right;\">\n",
       "      <th></th>\n",
       "      <th>A</th>\n",
       "      <th>B</th>\n",
       "      <th>C</th>\n",
       "    </tr>\n",
       "  </thead>\n",
       "  <tbody>\n",
       "    <tr>\n",
       "      <th>0</th>\n",
       "      <td>L</td>\n",
       "      <td>L</td>\n",
       "      <td>H</td>\n",
       "    </tr>\n",
       "    <tr>\n",
       "      <th>1</th>\n",
       "      <td>L</td>\n",
       "      <td>L</td>\n",
       "      <td>H</td>\n",
       "    </tr>\n",
       "    <tr>\n",
       "      <th>2</th>\n",
       "      <td>L</td>\n",
       "      <td>H</td>\n",
       "      <td>H</td>\n",
       "    </tr>\n",
       "    <tr>\n",
       "      <th>3</th>\n",
       "      <td>L</td>\n",
       "      <td>H</td>\n",
       "      <td>H</td>\n",
       "    </tr>\n",
       "  </tbody>\n",
       "</table>\n",
       "</div>"
      ],
      "text/plain": [
       "   A  B  C\n",
       "0  L  L  H\n",
       "1  L  L  H\n",
       "2  L  H  H\n",
       "3  L  H  H"
      ]
     },
     "execution_count": 478,
     "metadata": {},
     "output_type": "execute_result"
    }
   ],
   "source": [
    "df.applymap(lambda x: 'H' if x>5 else 'L')"
   ]
  },
  {
   "cell_type": "markdown",
   "id": "e94b82c9-02f8-4536-bb50-07d9a5b3a6d8",
   "metadata": {},
   "source": [
    "`-` 예제2: 아래의 데이터프레임을 고려하자. "
   ]
  },
  {
   "cell_type": "code",
   "execution_count": 479,
   "id": "1013b609-66d7-46b4-b98d-1a636709fa61",
   "metadata": {},
   "outputs": [
    {
     "data": {
      "text/html": [
       "<div>\n",
       "<style scoped>\n",
       "    .dataframe tbody tr th:only-of-type {\n",
       "        vertical-align: middle;\n",
       "    }\n",
       "\n",
       "    .dataframe tbody tr th {\n",
       "        vertical-align: top;\n",
       "    }\n",
       "\n",
       "    .dataframe thead th {\n",
       "        text-align: right;\n",
       "    }\n",
       "</style>\n",
       "<table border=\"1\" class=\"dataframe\">\n",
       "  <thead>\n",
       "    <tr style=\"text-align: right;\">\n",
       "      <th></th>\n",
       "      <th>ID</th>\n",
       "      <th>Name</th>\n",
       "      <th>Age</th>\n",
       "      <th>Photo</th>\n",
       "      <th>Nationality</th>\n",
       "      <th>Flag</th>\n",
       "      <th>Overall</th>\n",
       "      <th>Potential</th>\n",
       "      <th>Club</th>\n",
       "      <th>Club Logo</th>\n",
       "      <th>...</th>\n",
       "      <th>Real Face</th>\n",
       "      <th>Position</th>\n",
       "      <th>Joined</th>\n",
       "      <th>Loaned From</th>\n",
       "      <th>Contract Valid Until</th>\n",
       "      <th>Height</th>\n",
       "      <th>Weight</th>\n",
       "      <th>Release Clause</th>\n",
       "      <th>Kit Number</th>\n",
       "      <th>Best Overall Rating</th>\n",
       "    </tr>\n",
       "  </thead>\n",
       "  <tbody>\n",
       "    <tr>\n",
       "      <th>0</th>\n",
       "      <td>209658</td>\n",
       "      <td>L. Goretzka</td>\n",
       "      <td>27</td>\n",
       "      <td>https://cdn.sofifa.net/players/209/658/23_60.png</td>\n",
       "      <td>Germany</td>\n",
       "      <td>https://cdn.sofifa.net/flags/de.png</td>\n",
       "      <td>87</td>\n",
       "      <td>88</td>\n",
       "      <td>FC Bayern München</td>\n",
       "      <td>https://cdn.sofifa.net/teams/21/30.png</td>\n",
       "      <td>...</td>\n",
       "      <td>Yes</td>\n",
       "      <td>&lt;span class=\"pos pos28\"&gt;SUB</td>\n",
       "      <td>Jul 1, 2018</td>\n",
       "      <td>NaN</td>\n",
       "      <td>2026</td>\n",
       "      <td>189cm</td>\n",
       "      <td>82kg</td>\n",
       "      <td>€157M</td>\n",
       "      <td>8.0</td>\n",
       "      <td>NaN</td>\n",
       "    </tr>\n",
       "    <tr>\n",
       "      <th>1</th>\n",
       "      <td>212198</td>\n",
       "      <td>Bruno Fernandes</td>\n",
       "      <td>27</td>\n",
       "      <td>https://cdn.sofifa.net/players/212/198/23_60.png</td>\n",
       "      <td>Portugal</td>\n",
       "      <td>https://cdn.sofifa.net/flags/pt.png</td>\n",
       "      <td>86</td>\n",
       "      <td>87</td>\n",
       "      <td>Manchester United</td>\n",
       "      <td>https://cdn.sofifa.net/teams/11/30.png</td>\n",
       "      <td>...</td>\n",
       "      <td>Yes</td>\n",
       "      <td>&lt;span class=\"pos pos15\"&gt;LCM</td>\n",
       "      <td>Jan 30, 2020</td>\n",
       "      <td>NaN</td>\n",
       "      <td>2026</td>\n",
       "      <td>179cm</td>\n",
       "      <td>69kg</td>\n",
       "      <td>€155M</td>\n",
       "      <td>8.0</td>\n",
       "      <td>NaN</td>\n",
       "    </tr>\n",
       "    <tr>\n",
       "      <th>2</th>\n",
       "      <td>224334</td>\n",
       "      <td>M. Acuña</td>\n",
       "      <td>30</td>\n",
       "      <td>https://cdn.sofifa.net/players/224/334/23_60.png</td>\n",
       "      <td>Argentina</td>\n",
       "      <td>https://cdn.sofifa.net/flags/ar.png</td>\n",
       "      <td>85</td>\n",
       "      <td>85</td>\n",
       "      <td>Sevilla FC</td>\n",
       "      <td>https://cdn.sofifa.net/teams/481/30.png</td>\n",
       "      <td>...</td>\n",
       "      <td>No</td>\n",
       "      <td>&lt;span class=\"pos pos7\"&gt;LB</td>\n",
       "      <td>Sep 14, 2020</td>\n",
       "      <td>NaN</td>\n",
       "      <td>2024</td>\n",
       "      <td>172cm</td>\n",
       "      <td>69kg</td>\n",
       "      <td>€97.7M</td>\n",
       "      <td>19.0</td>\n",
       "      <td>NaN</td>\n",
       "    </tr>\n",
       "  </tbody>\n",
       "</table>\n",
       "<p>3 rows × 29 columns</p>\n",
       "</div>"
      ],
      "text/plain": [
       "       ID             Name  Age  \\\n",
       "0  209658      L. Goretzka   27   \n",
       "1  212198  Bruno Fernandes   27   \n",
       "2  224334         M. Acuña   30   \n",
       "\n",
       "                                              Photo Nationality  \\\n",
       "0  https://cdn.sofifa.net/players/209/658/23_60.png     Germany   \n",
       "1  https://cdn.sofifa.net/players/212/198/23_60.png    Portugal   \n",
       "2  https://cdn.sofifa.net/players/224/334/23_60.png   Argentina   \n",
       "\n",
       "                                  Flag  Overall  Potential               Club  \\\n",
       "0  https://cdn.sofifa.net/flags/de.png       87         88  FC Bayern München   \n",
       "1  https://cdn.sofifa.net/flags/pt.png       86         87  Manchester United   \n",
       "2  https://cdn.sofifa.net/flags/ar.png       85         85         Sevilla FC   \n",
       "\n",
       "                                 Club Logo  ... Real Face  \\\n",
       "0   https://cdn.sofifa.net/teams/21/30.png  ...       Yes   \n",
       "1   https://cdn.sofifa.net/teams/11/30.png  ...       Yes   \n",
       "2  https://cdn.sofifa.net/teams/481/30.png  ...        No   \n",
       "\n",
       "                      Position        Joined Loaned From  \\\n",
       "0  <span class=\"pos pos28\">SUB   Jul 1, 2018         NaN   \n",
       "1  <span class=\"pos pos15\">LCM  Jan 30, 2020         NaN   \n",
       "2    <span class=\"pos pos7\">LB  Sep 14, 2020         NaN   \n",
       "\n",
       "   Contract Valid Until  Height  Weight Release Clause Kit Number  \\\n",
       "0                  2026   189cm    82kg          €157M        8.0   \n",
       "1                  2026   179cm    69kg          €155M        8.0   \n",
       "2                  2024   172cm    69kg         €97.7M       19.0   \n",
       "\n",
       "  Best Overall Rating  \n",
       "0                 NaN  \n",
       "1                 NaN  \n",
       "2                 NaN  \n",
       "\n",
       "[3 rows x 29 columns]"
      ]
     },
     "execution_count": 479,
     "metadata": {},
     "output_type": "execute_result"
    }
   ],
   "source": [
    "df = pd.read_csv('https://raw.githubusercontent.com/guebin/DV2022/master/posts/FIFA23_official_data.csv')\n",
    "df.head(n=3)"
   ]
  },
  {
   "cell_type": "markdown",
   "id": "54cabcf3-548b-41b2-bdc2-609106827595",
   "metadata": {},
   "source": [
    "`['Height','Weight']` 칼럼을 선택하고 모든 값을 int로 바꾸는 변환을 수행하라. "
   ]
  },
  {
   "cell_type": "code",
   "execution_count": 483,
   "id": "5bc97965-fa46-42ac-b7ef-9a72293b369c",
   "metadata": {},
   "outputs": [
    {
     "data": {
      "text/html": [
       "<div>\n",
       "<style scoped>\n",
       "    .dataframe tbody tr th:only-of-type {\n",
       "        vertical-align: middle;\n",
       "    }\n",
       "\n",
       "    .dataframe tbody tr th {\n",
       "        vertical-align: top;\n",
       "    }\n",
       "\n",
       "    .dataframe thead th {\n",
       "        text-align: right;\n",
       "    }\n",
       "</style>\n",
       "<table border=\"1\" class=\"dataframe\">\n",
       "  <thead>\n",
       "    <tr style=\"text-align: right;\">\n",
       "      <th></th>\n",
       "      <th>Height</th>\n",
       "      <th>Weight</th>\n",
       "    </tr>\n",
       "  </thead>\n",
       "  <tbody>\n",
       "    <tr>\n",
       "      <th>0</th>\n",
       "      <td>189</td>\n",
       "      <td>82</td>\n",
       "    </tr>\n",
       "    <tr>\n",
       "      <th>1</th>\n",
       "      <td>179</td>\n",
       "      <td>69</td>\n",
       "    </tr>\n",
       "    <tr>\n",
       "      <th>2</th>\n",
       "      <td>172</td>\n",
       "      <td>69</td>\n",
       "    </tr>\n",
       "    <tr>\n",
       "      <th>3</th>\n",
       "      <td>181</td>\n",
       "      <td>70</td>\n",
       "    </tr>\n",
       "    <tr>\n",
       "      <th>4</th>\n",
       "      <td>172</td>\n",
       "      <td>68</td>\n",
       "    </tr>\n",
       "    <tr>\n",
       "      <th>...</th>\n",
       "      <td>...</td>\n",
       "      <td>...</td>\n",
       "    </tr>\n",
       "    <tr>\n",
       "      <th>17655</th>\n",
       "      <td>190</td>\n",
       "      <td>78</td>\n",
       "    </tr>\n",
       "    <tr>\n",
       "      <th>17656</th>\n",
       "      <td>195</td>\n",
       "      <td>84</td>\n",
       "    </tr>\n",
       "    <tr>\n",
       "      <th>17657</th>\n",
       "      <td>190</td>\n",
       "      <td>82</td>\n",
       "    </tr>\n",
       "    <tr>\n",
       "      <th>17658</th>\n",
       "      <td>187</td>\n",
       "      <td>79</td>\n",
       "    </tr>\n",
       "    <tr>\n",
       "      <th>17659</th>\n",
       "      <td>186</td>\n",
       "      <td>78</td>\n",
       "    </tr>\n",
       "  </tbody>\n",
       "</table>\n",
       "<p>17660 rows × 2 columns</p>\n",
       "</div>"
      ],
      "text/plain": [
       "       Height  Weight\n",
       "0         189      82\n",
       "1         179      69\n",
       "2         172      69\n",
       "3         181      70\n",
       "4         172      68\n",
       "...       ...     ...\n",
       "17655     190      78\n",
       "17656     195      84\n",
       "17657     190      82\n",
       "17658     187      79\n",
       "17659     186      78\n",
       "\n",
       "[17660 rows x 2 columns]"
      ]
     },
     "execution_count": 483,
     "metadata": {},
     "output_type": "execute_result"
    }
   ],
   "source": [
    "df.loc[:,'Height':'Weight'].applymap(lambda x : int(x[:-2]))"
   ]
  },
  {
   "cell_type": "markdown",
   "id": "beaefd35-f94b-46f2-ba3a-8b66b8974f2c",
   "metadata": {},
   "source": [
    "# Quiz"
   ]
  },
  {
   "cell_type": "code",
   "execution_count": 485,
   "id": "b5ba24bf-4737-48cc-86ce-94e8be788ca9",
   "metadata": {},
   "outputs": [
    {
     "data": {
      "text/html": [
       "<div>\n",
       "<style scoped>\n",
       "    .dataframe tbody tr th:only-of-type {\n",
       "        vertical-align: middle;\n",
       "    }\n",
       "\n",
       "    .dataframe tbody tr th {\n",
       "        vertical-align: top;\n",
       "    }\n",
       "\n",
       "    .dataframe thead th {\n",
       "        text-align: right;\n",
       "    }\n",
       "</style>\n",
       "<table border=\"1\" class=\"dataframe\">\n",
       "  <thead>\n",
       "    <tr style=\"text-align: right;\">\n",
       "      <th></th>\n",
       "      <th>ID</th>\n",
       "      <th>Name</th>\n",
       "      <th>Age</th>\n",
       "      <th>Photo</th>\n",
       "      <th>Nationality</th>\n",
       "      <th>Flag</th>\n",
       "      <th>Overall</th>\n",
       "      <th>Potential</th>\n",
       "      <th>Club</th>\n",
       "      <th>Club Logo</th>\n",
       "      <th>...</th>\n",
       "      <th>Real Face</th>\n",
       "      <th>Position</th>\n",
       "      <th>Joined</th>\n",
       "      <th>Loaned From</th>\n",
       "      <th>Contract Valid Until</th>\n",
       "      <th>Height</th>\n",
       "      <th>Weight</th>\n",
       "      <th>Release Clause</th>\n",
       "      <th>Kit Number</th>\n",
       "      <th>Best Overall Rating</th>\n",
       "    </tr>\n",
       "  </thead>\n",
       "  <tbody>\n",
       "    <tr>\n",
       "      <th>0</th>\n",
       "      <td>209658</td>\n",
       "      <td>L. Goretzka</td>\n",
       "      <td>27</td>\n",
       "      <td>https://cdn.sofifa.net/players/209/658/23_60.png</td>\n",
       "      <td>Germany</td>\n",
       "      <td>https://cdn.sofifa.net/flags/de.png</td>\n",
       "      <td>87</td>\n",
       "      <td>88</td>\n",
       "      <td>FC Bayern München</td>\n",
       "      <td>https://cdn.sofifa.net/teams/21/30.png</td>\n",
       "      <td>...</td>\n",
       "      <td>Yes</td>\n",
       "      <td>&lt;span class=\"pos pos28\"&gt;SUB</td>\n",
       "      <td>Jul 1, 2018</td>\n",
       "      <td>NaN</td>\n",
       "      <td>2026</td>\n",
       "      <td>189cm</td>\n",
       "      <td>82kg</td>\n",
       "      <td>€157M</td>\n",
       "      <td>8.0</td>\n",
       "      <td>NaN</td>\n",
       "    </tr>\n",
       "    <tr>\n",
       "      <th>1</th>\n",
       "      <td>212198</td>\n",
       "      <td>Bruno Fernandes</td>\n",
       "      <td>27</td>\n",
       "      <td>https://cdn.sofifa.net/players/212/198/23_60.png</td>\n",
       "      <td>Portugal</td>\n",
       "      <td>https://cdn.sofifa.net/flags/pt.png</td>\n",
       "      <td>86</td>\n",
       "      <td>87</td>\n",
       "      <td>Manchester United</td>\n",
       "      <td>https://cdn.sofifa.net/teams/11/30.png</td>\n",
       "      <td>...</td>\n",
       "      <td>Yes</td>\n",
       "      <td>&lt;span class=\"pos pos15\"&gt;LCM</td>\n",
       "      <td>Jan 30, 2020</td>\n",
       "      <td>NaN</td>\n",
       "      <td>2026</td>\n",
       "      <td>179cm</td>\n",
       "      <td>69kg</td>\n",
       "      <td>€155M</td>\n",
       "      <td>8.0</td>\n",
       "      <td>NaN</td>\n",
       "    </tr>\n",
       "    <tr>\n",
       "      <th>2</th>\n",
       "      <td>224334</td>\n",
       "      <td>M. Acuña</td>\n",
       "      <td>30</td>\n",
       "      <td>https://cdn.sofifa.net/players/224/334/23_60.png</td>\n",
       "      <td>Argentina</td>\n",
       "      <td>https://cdn.sofifa.net/flags/ar.png</td>\n",
       "      <td>85</td>\n",
       "      <td>85</td>\n",
       "      <td>Sevilla FC</td>\n",
       "      <td>https://cdn.sofifa.net/teams/481/30.png</td>\n",
       "      <td>...</td>\n",
       "      <td>No</td>\n",
       "      <td>&lt;span class=\"pos pos7\"&gt;LB</td>\n",
       "      <td>Sep 14, 2020</td>\n",
       "      <td>NaN</td>\n",
       "      <td>2024</td>\n",
       "      <td>172cm</td>\n",
       "      <td>69kg</td>\n",
       "      <td>€97.7M</td>\n",
       "      <td>19.0</td>\n",
       "      <td>NaN</td>\n",
       "    </tr>\n",
       "  </tbody>\n",
       "</table>\n",
       "<p>3 rows × 29 columns</p>\n",
       "</div>"
      ],
      "text/plain": [
       "       ID             Name  Age  \\\n",
       "0  209658      L. Goretzka   27   \n",
       "1  212198  Bruno Fernandes   27   \n",
       "2  224334         M. Acuña   30   \n",
       "\n",
       "                                              Photo Nationality  \\\n",
       "0  https://cdn.sofifa.net/players/209/658/23_60.png     Germany   \n",
       "1  https://cdn.sofifa.net/players/212/198/23_60.png    Portugal   \n",
       "2  https://cdn.sofifa.net/players/224/334/23_60.png   Argentina   \n",
       "\n",
       "                                  Flag  Overall  Potential               Club  \\\n",
       "0  https://cdn.sofifa.net/flags/de.png       87         88  FC Bayern München   \n",
       "1  https://cdn.sofifa.net/flags/pt.png       86         87  Manchester United   \n",
       "2  https://cdn.sofifa.net/flags/ar.png       85         85         Sevilla FC   \n",
       "\n",
       "                                 Club Logo  ... Real Face  \\\n",
       "0   https://cdn.sofifa.net/teams/21/30.png  ...       Yes   \n",
       "1   https://cdn.sofifa.net/teams/11/30.png  ...       Yes   \n",
       "2  https://cdn.sofifa.net/teams/481/30.png  ...        No   \n",
       "\n",
       "                      Position        Joined Loaned From  \\\n",
       "0  <span class=\"pos pos28\">SUB   Jul 1, 2018         NaN   \n",
       "1  <span class=\"pos pos15\">LCM  Jan 30, 2020         NaN   \n",
       "2    <span class=\"pos pos7\">LB  Sep 14, 2020         NaN   \n",
       "\n",
       "   Contract Valid Until  Height  Weight Release Clause Kit Number  \\\n",
       "0                  2026   189cm    82kg          €157M        8.0   \n",
       "1                  2026   179cm    69kg          €155M        8.0   \n",
       "2                  2024   172cm    69kg         €97.7M       19.0   \n",
       "\n",
       "  Best Overall Rating  \n",
       "0                 NaN  \n",
       "1                 NaN  \n",
       "2                 NaN  \n",
       "\n",
       "[3 rows x 29 columns]"
      ]
     },
     "execution_count": 485,
     "metadata": {},
     "output_type": "execute_result"
    }
   ],
   "source": [
    "df = pd.read_csv('https://raw.githubusercontent.com/guebin/DV2022/master/posts/FIFA23_official_data.csv')\n",
    "df.head(n=3)"
   ]
  },
  {
   "cell_type": "markdown",
   "id": "26b21861-c94c-4b65-93c7-a0a183270c4b",
   "metadata": {},
   "source": [
    "`1`. Position Column을 출력하고 결과를 s로 저장하라."
   ]
  },
  {
   "cell_type": "code",
   "execution_count": 490,
   "id": "ed38fda2-ebd2-457b-bb8b-a1045f3a6286",
   "metadata": {},
   "outputs": [],
   "source": [
    "s= df.Position"
   ]
  },
  {
   "cell_type": "markdown",
   "id": "0eedec8c-d7b9-4a11-97f6-e6319146beb0",
   "metadata": {},
   "source": [
    "`2`. Position Column의 결측치를 제거하라. "
   ]
  },
  {
   "cell_type": "code",
   "execution_count": 495,
   "id": "33d51a82-6a74-4b85-a515-7d731c36616e",
   "metadata": {},
   "outputs": [],
   "source": [
    "s = s.dropna()"
   ]
  },
  {
   "cell_type": "markdown",
   "id": "54b911e9-7523-450b-aac7-34b4683b7a3d",
   "metadata": {},
   "source": [
    "`3`. 아래의 dict를 이용하여 포지션을 좀 더 알기쉽게 정리하는 변환을 수행하라. "
   ]
  },
  {
   "cell_type": "code",
   "execution_count": 510,
   "id": "c1329b2d-0004-4009-ab03-624da98d4ec4",
   "metadata": {},
   "outputs": [],
   "source": [
    "position_dict = {\n",
    "    'GOALKEEPER':['GK'],\n",
    "    'DEFENDER':['CB','RCB','LCB','RB','LB','RWB','LWB'],\n",
    "    'MIDFIELDER':['CM','RCM','LCM','CDM','RDM','LDM','CAM','RAM','LAM','RM','LM'],\n",
    "    'FORWARD':['ST','CF','RF','LF','RW','LW','RS','LS'],\n",
    "    'SUB':['SUB'],\n",
    "    'RES':['RES']\n",
    "}"
   ]
  },
  {
   "cell_type": "code",
   "execution_count": 518,
   "id": "b0b50ba1-f5dc-4ae6-bd1d-830bb0095b3e",
   "metadata": {},
   "outputs": [
    {
     "data": {
      "text/plain": [
       "[('GOALKEEPER', ['GK']),\n",
       " ('DEFENDER', ['CB', 'RCB', 'LCB', 'RB', 'LB', 'RWB', 'LWB']),\n",
       " ('MIDFIELDER',\n",
       "  ['CM', 'RCM', 'LCM', 'CDM', 'RDM', 'LDM', 'CAM', 'RAM', 'LAM', 'RM', 'LM']),\n",
       " ('FORWARD', ['ST', 'CF', 'RF', 'LF', 'RW', 'LW', 'RS', 'LS']),\n",
       " ('SUB', ['SUB']),\n",
       " ('RES', ['RES'])]"
      ]
     },
     "execution_count": 518,
     "metadata": {},
     "output_type": "execute_result"
    }
   ],
   "source": [
    "[(k,v) for k,v in position_dict.items()]"
   ]
  },
  {
   "cell_type": "markdown",
   "id": "b21ce404-e2b0-414b-b9e5-08db4248da60",
   "metadata": {},
   "source": [
    "예를들면 아래와 같이 변환이 수행되어야 한다. \n",
    "\n",
    "```\n",
    "변환전: '<span class=\"pos pos15\">LCM' \n",
    "변환후: 'MIDFIELDER'\n",
    "```"
   ]
  },
  {
   "cell_type": "code",
   "execution_count": 521,
   "id": "94ee6989-0453-4225-81f0-ee3e45a5890f",
   "metadata": {},
   "outputs": [],
   "source": [
    "# [k for l in s.apply(lambda x: x.split('>')[-1]) for k,v in position_dict.items() if l in v]"
   ]
  },
  {
   "cell_type": "markdown",
   "id": "bb74e3cf-8c49-4343-957f-d496c38f1284",
   "metadata": {},
   "source": [
    "`4`. Age Column을 선택하고 선수들의 평균나이보다 높은사람은 'OB', 그렇지 않은 사람은 'YB' 로 치환하는 변환함수를 수행하라. "
   ]
  },
  {
   "cell_type": "code",
   "execution_count": 526,
   "id": "f7b5cb1a-03a6-4be3-97d2-f6d7328548f7",
   "metadata": {},
   "outputs": [
    {
     "data": {
      "text/plain": [
       "0        OB\n",
       "1        OB\n",
       "2        OB\n",
       "3        OB\n",
       "4        OB\n",
       "         ..\n",
       "17655    YB\n",
       "17656    YB\n",
       "17657    OB\n",
       "17658    YB\n",
       "17659    YB\n",
       "Name: Age, Length: 17660, dtype: object"
      ]
     },
     "execution_count": 526,
     "metadata": {},
     "output_type": "execute_result"
    }
   ],
   "source": [
    "df.Age.apply(lambda x: 'OB' if x>df.Age.mean() else 'YB')"
   ]
  },
  {
   "cell_type": "markdown",
   "id": "95cd10e1-6190-4d0a-bc16-7b51a991ab67",
   "metadata": {},
   "source": [
    "`5`. Height와 Weight 칼럼을 이용하여 BMI를 계산하라. (BMI를 계산하는 수식은 검색을 통하여 확인할 것)"
   ]
  },
  {
   "cell_type": "code",
   "execution_count": 537,
   "id": "94d1faf4-cc72-4695-9d95-c25f31871c6c",
   "metadata": {},
   "outputs": [
    {
     "data": {
      "text/html": [
       "<div>\n",
       "<style scoped>\n",
       "    .dataframe tbody tr th:only-of-type {\n",
       "        vertical-align: middle;\n",
       "    }\n",
       "\n",
       "    .dataframe tbody tr th {\n",
       "        vertical-align: top;\n",
       "    }\n",
       "\n",
       "    .dataframe thead th {\n",
       "        text-align: right;\n",
       "    }\n",
       "</style>\n",
       "<table border=\"1\" class=\"dataframe\">\n",
       "  <thead>\n",
       "    <tr style=\"text-align: right;\">\n",
       "      <th></th>\n",
       "      <th>Height</th>\n",
       "      <th>Weight</th>\n",
       "      <th>BMI</th>\n",
       "    </tr>\n",
       "  </thead>\n",
       "  <tbody>\n",
       "    <tr>\n",
       "      <th>0</th>\n",
       "      <td>189</td>\n",
       "      <td>82</td>\n",
       "      <td>0.002296</td>\n",
       "    </tr>\n",
       "    <tr>\n",
       "      <th>1</th>\n",
       "      <td>179</td>\n",
       "      <td>69</td>\n",
       "      <td>0.002153</td>\n",
       "    </tr>\n",
       "    <tr>\n",
       "      <th>2</th>\n",
       "      <td>172</td>\n",
       "      <td>69</td>\n",
       "      <td>0.002332</td>\n",
       "    </tr>\n",
       "    <tr>\n",
       "      <th>3</th>\n",
       "      <td>181</td>\n",
       "      <td>70</td>\n",
       "      <td>0.002137</td>\n",
       "    </tr>\n",
       "    <tr>\n",
       "      <th>4</th>\n",
       "      <td>172</td>\n",
       "      <td>68</td>\n",
       "      <td>0.002299</td>\n",
       "    </tr>\n",
       "    <tr>\n",
       "      <th>...</th>\n",
       "      <td>...</td>\n",
       "      <td>...</td>\n",
       "      <td>...</td>\n",
       "    </tr>\n",
       "    <tr>\n",
       "      <th>17655</th>\n",
       "      <td>190</td>\n",
       "      <td>78</td>\n",
       "      <td>0.002161</td>\n",
       "    </tr>\n",
       "    <tr>\n",
       "      <th>17656</th>\n",
       "      <td>195</td>\n",
       "      <td>84</td>\n",
       "      <td>0.002209</td>\n",
       "    </tr>\n",
       "    <tr>\n",
       "      <th>17657</th>\n",
       "      <td>190</td>\n",
       "      <td>82</td>\n",
       "      <td>0.002271</td>\n",
       "    </tr>\n",
       "    <tr>\n",
       "      <th>17658</th>\n",
       "      <td>187</td>\n",
       "      <td>79</td>\n",
       "      <td>0.002259</td>\n",
       "    </tr>\n",
       "    <tr>\n",
       "      <th>17659</th>\n",
       "      <td>186</td>\n",
       "      <td>78</td>\n",
       "      <td>0.002255</td>\n",
       "    </tr>\n",
       "  </tbody>\n",
       "</table>\n",
       "<p>17660 rows × 3 columns</p>\n",
       "</div>"
      ],
      "text/plain": [
       "       Height  Weight       BMI\n",
       "0         189      82  0.002296\n",
       "1         179      69  0.002153\n",
       "2         172      69  0.002332\n",
       "3         181      70  0.002137\n",
       "4         172      68  0.002299\n",
       "...       ...     ...       ...\n",
       "17655     190      78  0.002161\n",
       "17656     195      84  0.002209\n",
       "17657     190      82  0.002271\n",
       "17658     187      79  0.002259\n",
       "17659     186      78  0.002255\n",
       "\n",
       "[17660 rows x 3 columns]"
      ]
     },
     "execution_count": 537,
     "metadata": {},
     "output_type": "execute_result"
    }
   ],
   "source": [
    "_df = df.loc[:,'Height':'Weight'].applymap(lambda x: int(x[:-2])).eval('BMI= Weight/Height**2')\n",
    "_df"
   ]
  },
  {
   "cell_type": "markdown",
   "id": "d0028e3c-6188-4893-9ae9-b332dfb6aa8c",
   "metadata": {},
   "source": [
    "`6`. `5`의 결과로 계산된 BMI의 평균값을 구하고, 평균값보다 높은사람은 'H' 그렇지 않은 사람은 'L'로 치환하는 변환함수를 수행하라. "
   ]
  },
  {
   "cell_type": "code",
   "execution_count": 542,
   "id": "785e05f6-0e94-4cd2-a037-6eaae2f18da2",
   "metadata": {},
   "outputs": [
    {
     "data": {
      "text/plain": [
       "0        H\n",
       "1        L\n",
       "2        H\n",
       "3        L\n",
       "4        H\n",
       "        ..\n",
       "17655    L\n",
       "17656    L\n",
       "17657    H\n",
       "17658    L\n",
       "17659    L\n",
       "Name: BMI, Length: 17660, dtype: object"
      ]
     },
     "execution_count": 542,
     "metadata": {},
     "output_type": "execute_result"
    }
   ],
   "source": [
    "_df.BMI.apply(lambda x : 'H' if x>_df.BMI.mean() else 'L')"
   ]
  }
 ],
 "metadata": {
  "kernelspec": {
   "display_name": "Python 3 (ipykernel)",
   "language": "python",
   "name": "python3"
  },
  "language_info": {
   "codemirror_mode": {
    "name": "ipython",
    "version": 3
   },
   "file_extension": ".py",
   "mimetype": "text/x-python",
   "name": "python",
   "nbconvert_exporter": "python",
   "pygments_lexer": "ipython3",
   "version": "3.10.12"
  }
 },
 "nbformat": 4,
 "nbformat_minor": 5
}
