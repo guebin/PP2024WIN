{
 "cells": [
  {
   "cell_type": "raw",
   "id": "8e5537c3-e821-4ae3-9140-0ae6a33ec158",
   "metadata": {
    "tags": []
   },
   "source": [
    "---\n",
    "title: \"Lesson 05: numpy 공부 1단계 ~ 2단계\"\n",
    "author: \"최규빈\"\n",
    "date: \"07/24/2023\"\n",
    "---"
   ]
  },
  {
   "cell_type": "markdown",
   "id": "966da71a-4a48-46c2-b19b-fe39ff32f52a",
   "metadata": {},
   "source": [
    "<a href=\"https://colab.research.google.com/github/guebin/PP2023SUM/blob/main/posts/Day1/02_Numpy/ls06.ipynb\"><img src=\"https://colab.research.google.com/assets/colab-badge.svg\" style=\"text-align: left\"></a>"
   ]
  },
  {
   "cell_type": "markdown",
   "id": "224e9010-e0df-48f6-8bce-e451c5ae4c89",
   "metadata": {
    "tags": []
   },
   "source": [
    "# import "
   ]
  },
  {
   "cell_type": "code",
   "execution_count": 1,
   "id": "8adbbe65-da8c-4f20-ab65-6301e6e1bfc1",
   "metadata": {},
   "outputs": [],
   "source": [
    "import numpy as np"
   ]
  },
  {
   "cell_type": "markdown",
   "id": "586666a5-af38-46d9-8555-22625fe9eddc",
   "metadata": {},
   "source": [
    "# 넘파이 공부 1단계 "
   ]
  },
  {
   "cell_type": "markdown",
   "id": "04e85d58-4228-4d71-9fb4-523440ffe485",
   "metadata": {},
   "source": [
    "## 선언 "
   ]
  },
  {
   "cell_type": "code",
   "execution_count": 12,
   "id": "2fab2a6e-e024-41b7-96e2-4ab023fa312a",
   "metadata": {},
   "outputs": [],
   "source": [
    "a=np.array([1,2,3]) # list를 만들고 ndarray화 시킴 \n",
    "l=[1,2,3]"
   ]
  },
  {
   "cell_type": "markdown",
   "id": "1629cd9d-6f2a-4c94-b293-04a4d407fc78",
   "metadata": {},
   "source": [
    "#### 기본연산 브로드캐스팅 "
   ]
  },
  {
   "cell_type": "code",
   "execution_count": 15,
   "id": "8c94ee51-e9b5-4838-9ee8-df1eaa8bff56",
   "metadata": {},
   "outputs": [
    {
     "data": {
      "text/plain": [
       "array([2, 3, 4])"
      ]
     },
     "execution_count": 15,
     "metadata": {},
     "output_type": "execute_result"
    }
   ],
   "source": [
    "a+1 ## [1,2,3] + 1 = [2,3,4]"
   ]
  },
  {
   "cell_type": "code",
   "execution_count": 16,
   "id": "4185b316-27a9-4ab7-9399-1dc8f87f3d6b",
   "metadata": {},
   "outputs": [
    {
     "ename": "TypeError",
     "evalue": "can only concatenate list (not \"int\") to list",
     "output_type": "error",
     "traceback": [
      "\u001b[0;31m---------------------------------------------------------------------------\u001b[0m",
      "\u001b[0;31mTypeError\u001b[0m                                 Traceback (most recent call last)",
      "Input \u001b[0;32mIn [16]\u001b[0m, in \u001b[0;36m<cell line: 1>\u001b[0;34m()\u001b[0m\n\u001b[0;32m----> 1\u001b[0m \u001b[43ml\u001b[49m\u001b[38;5;241;43m+\u001b[39;49m\u001b[38;5;241;43m1\u001b[39;49m\n",
      "\u001b[0;31mTypeError\u001b[0m: can only concatenate list (not \"int\") to list"
     ]
    }
   ],
   "source": [
    "l+1"
   ]
  },
  {
   "cell_type": "code",
   "execution_count": 21,
   "id": "26aa79d2-8959-4c95-bbd6-5106b14b8b27",
   "metadata": {},
   "outputs": [
    {
     "data": {
      "text/plain": [
       "array([2, 4, 6])"
      ]
     },
     "execution_count": 21,
     "metadata": {},
     "output_type": "execute_result"
    }
   ],
   "source": [
    "a*2"
   ]
  },
  {
   "cell_type": "code",
   "execution_count": 22,
   "id": "d760dcfa-c674-44fc-b4ea-3774ebcf34c7",
   "metadata": {},
   "outputs": [
    {
     "data": {
      "text/plain": [
       "[1, 2, 3, 1, 2, 3]"
      ]
     },
     "execution_count": 22,
     "metadata": {},
     "output_type": "execute_result"
    }
   ],
   "source": [
    "l*2"
   ]
  },
  {
   "cell_type": "code",
   "execution_count": 23,
   "id": "b2cc457b-b667-4d7f-8bd1-e5959f6396c6",
   "metadata": {},
   "outputs": [
    {
     "data": {
      "text/plain": [
       "array([0.5, 1. , 1.5])"
      ]
     },
     "execution_count": 23,
     "metadata": {},
     "output_type": "execute_result"
    }
   ],
   "source": [
    "a/2"
   ]
  },
  {
   "cell_type": "code",
   "execution_count": 24,
   "id": "f3a14c42-5c51-435d-b48d-36c07bcf62b6",
   "metadata": {},
   "outputs": [
    {
     "ename": "TypeError",
     "evalue": "unsupported operand type(s) for /: 'list' and 'int'",
     "output_type": "error",
     "traceback": [
      "\u001b[0;31m---------------------------------------------------------------------------\u001b[0m",
      "\u001b[0;31mTypeError\u001b[0m                                 Traceback (most recent call last)",
      "Input \u001b[0;32mIn [24]\u001b[0m, in \u001b[0;36m<cell line: 1>\u001b[0;34m()\u001b[0m\n\u001b[0;32m----> 1\u001b[0m \u001b[43ml\u001b[49m\u001b[38;5;241;43m/\u001b[39;49m\u001b[38;5;241;43m2\u001b[39;49m\n",
      "\u001b[0;31mTypeError\u001b[0m: unsupported operand type(s) for /: 'list' and 'int'"
     ]
    }
   ],
   "source": [
    "l/2"
   ]
  },
  {
   "cell_type": "code",
   "execution_count": 25,
   "id": "76ca10c8-e5d4-4f3d-b997-eee258b00a65",
   "metadata": {},
   "outputs": [
    {
     "data": {
      "text/plain": [
       "array([1, 4, 9])"
      ]
     },
     "execution_count": 25,
     "metadata": {},
     "output_type": "execute_result"
    }
   ],
   "source": [
    "a**2"
   ]
  },
  {
   "cell_type": "code",
   "execution_count": 26,
   "id": "01eb01cc-fa6e-43cd-ba1f-a8fe806ebe9f",
   "metadata": {},
   "outputs": [
    {
     "ename": "TypeError",
     "evalue": "unsupported operand type(s) for ** or pow(): 'list' and 'int'",
     "output_type": "error",
     "traceback": [
      "\u001b[0;31m---------------------------------------------------------------------------\u001b[0m",
      "\u001b[0;31mTypeError\u001b[0m                                 Traceback (most recent call last)",
      "Input \u001b[0;32mIn [26]\u001b[0m, in \u001b[0;36m<cell line: 1>\u001b[0;34m()\u001b[0m\n\u001b[0;32m----> 1\u001b[0m \u001b[43ml\u001b[49m\u001b[38;5;241;43m*\u001b[39;49m\u001b[38;5;241;43m*\u001b[39;49m\u001b[38;5;241;43m2\u001b[39;49m\n",
      "\u001b[0;31mTypeError\u001b[0m: unsupported operand type(s) for ** or pow(): 'list' and 'int'"
     ]
    }
   ],
   "source": [
    "l**2"
   ]
  },
  {
   "cell_type": "code",
   "execution_count": 34,
   "id": "d6e2a52b-92e0-4ee8-95b2-afb4b24bf4cf",
   "metadata": {},
   "outputs": [
    {
     "data": {
      "text/plain": [
       "array([1, 0, 1])"
      ]
     },
     "execution_count": 34,
     "metadata": {},
     "output_type": "execute_result"
    }
   ],
   "source": [
    "a%2 # %2 = 2로 나눈 나머지를 리턴 a=[1,2,3] "
   ]
  },
  {
   "cell_type": "code",
   "execution_count": 35,
   "id": "a6f885f4-10f7-412b-8b4a-29781a0f0ddf",
   "metadata": {},
   "outputs": [
    {
     "ename": "TypeError",
     "evalue": "unsupported operand type(s) for %: 'list' and 'int'",
     "output_type": "error",
     "traceback": [
      "\u001b[0;31m---------------------------------------------------------------------------\u001b[0m",
      "\u001b[0;31mTypeError\u001b[0m                                 Traceback (most recent call last)",
      "Input \u001b[0;32mIn [35]\u001b[0m, in \u001b[0;36m<cell line: 1>\u001b[0;34m()\u001b[0m\n\u001b[0;32m----> 1\u001b[0m \u001b[43ml\u001b[49m\u001b[38;5;241;43m%\u001b[39;49m\u001b[38;5;241;43m2\u001b[39;49m\n",
      "\u001b[0;31mTypeError\u001b[0m: unsupported operand type(s) for %: 'list' and 'int'"
     ]
    }
   ],
   "source": [
    "l%2"
   ]
  },
  {
   "cell_type": "markdown",
   "id": "da7720a7-6b6a-49f0-8450-b00640944421",
   "metadata": {},
   "source": [
    "## 기타수학연산지원 "
   ]
  },
  {
   "cell_type": "code",
   "execution_count": 38,
   "id": "5cfd3ab5-d6fa-4fd0-9489-2d40d4e08a1f",
   "metadata": {},
   "outputs": [
    {
     "data": {
      "text/plain": [
       "(array([1.        , 1.41421356, 1.73205081]),\n",
       " array([1.        , 1.41421356, 1.73205081]))"
      ]
     },
     "execution_count": 38,
     "metadata": {},
     "output_type": "execute_result"
    }
   ],
   "source": [
    "np.sqrt(a), np.sqrt(l)"
   ]
  },
  {
   "cell_type": "code",
   "execution_count": 39,
   "id": "a89b7818-4db4-487d-9af9-6035295ab9ac",
   "metadata": {},
   "outputs": [
    {
     "data": {
      "text/plain": [
       "(array([0.        , 0.69314718, 1.09861229]),\n",
       " array([0.        , 0.69314718, 1.09861229]))"
      ]
     },
     "execution_count": 39,
     "metadata": {},
     "output_type": "execute_result"
    }
   ],
   "source": [
    "np.log(a), np.log(l)"
   ]
  },
  {
   "cell_type": "code",
   "execution_count": 41,
   "id": "cd1a21de-eac3-4b34-98a6-5c7541788a13",
   "metadata": {},
   "outputs": [
    {
     "data": {
      "text/plain": [
       "(array([ 2.71828183,  7.3890561 , 20.08553692]),\n",
       " array([ 2.71828183,  7.3890561 , 20.08553692]))"
      ]
     },
     "execution_count": 41,
     "metadata": {},
     "output_type": "execute_result"
    }
   ],
   "source": [
    "np.exp(a), np.exp(l)"
   ]
  },
  {
   "cell_type": "code",
   "execution_count": 42,
   "id": "d01340e5-c6c7-409a-a379-1d5f51915379",
   "metadata": {},
   "outputs": [
    {
     "data": {
      "text/plain": [
       "(array([0.84147098, 0.90929743, 0.14112001]),\n",
       " array([0.84147098, 0.90929743, 0.14112001]))"
      ]
     },
     "execution_count": 42,
     "metadata": {},
     "output_type": "execute_result"
    }
   ],
   "source": [
    "np.sin(a), np.sin(l)"
   ]
  },
  {
   "cell_type": "markdown",
   "id": "972d0b48-c34f-4dfa-9bb9-1fb5682568cf",
   "metadata": {},
   "source": [
    "# 넘파이 공부 2단계 "
   ]
  },
  {
   "cell_type": "markdown",
   "id": "90e17fa2-8aae-444c-82e3-3696150c7288",
   "metadata": {},
   "source": [
    "## 인덱싱 1차원 "
   ]
  },
  {
   "cell_type": "markdown",
   "id": "7e6d8368-e063-4e69-9443-6abb3ae0da66",
   "metadata": {},
   "source": [
    "`-` 선언 "
   ]
  },
  {
   "cell_type": "code",
   "execution_count": 43,
   "id": "c861c6e5-d139-4e0e-a455-039979ac9321",
   "metadata": {},
   "outputs": [],
   "source": [
    "l=[11,22,33,44,55,66] \n",
    "a=np.array(l) "
   ]
  },
  {
   "cell_type": "markdown",
   "id": "7c41410b-38fa-45e6-814c-631ac01b1cde",
   "metadata": {},
   "source": [
    "`-` 인덱스로 접근 "
   ]
  },
  {
   "cell_type": "code",
   "execution_count": 50,
   "id": "5938ed7f-c289-41b9-a1df-b2e824f3d654",
   "metadata": {},
   "outputs": [
    {
     "data": {
      "text/plain": [
       "(11, 22, 33, 44, 55, 66)"
      ]
     },
     "execution_count": 50,
     "metadata": {},
     "output_type": "execute_result"
    }
   ],
   "source": [
    "l[0],l[1],l[2],l[3],l[-2],l[-1]"
   ]
  },
  {
   "cell_type": "code",
   "execution_count": 51,
   "id": "1b4c447d-005e-49a1-8a8f-3badc2077bc6",
   "metadata": {},
   "outputs": [
    {
     "data": {
      "text/plain": [
       "(11, 22, 33, 44, 55, 66)"
      ]
     },
     "execution_count": 51,
     "metadata": {},
     "output_type": "execute_result"
    }
   ],
   "source": [
    "a[0],a[1],a[2],a[3],a[-2],a[-1]"
   ]
  },
  {
   "cell_type": "markdown",
   "id": "580dfd13-8b6e-47df-a7f5-62af23a10ce6",
   "metadata": {},
   "source": [
    "`-` `:` 이용 (슬라이싱)"
   ]
  },
  {
   "cell_type": "code",
   "execution_count": 53,
   "id": "cdc3ee19-9257-479e-bf45-f01d5e7ffc8f",
   "metadata": {},
   "outputs": [
    {
     "data": {
      "text/plain": [
       "[33, 44]"
      ]
     },
     "execution_count": 53,
     "metadata": {},
     "output_type": "execute_result"
    }
   ],
   "source": [
    "l[2:4] # index 2에서 시작, index 4는 포함하지 않음 "
   ]
  },
  {
   "cell_type": "code",
   "execution_count": 54,
   "id": "0288a120-cad8-4ce9-8100-417c5811e3d1",
   "metadata": {},
   "outputs": [
    {
     "data": {
      "text/plain": [
       "array([33, 44])"
      ]
     },
     "execution_count": 54,
     "metadata": {},
     "output_type": "execute_result"
    }
   ],
   "source": [
    "a[2:4] "
   ]
  },
  {
   "cell_type": "markdown",
   "id": "68b28b02-2971-48e7-b43d-0b73e6936050",
   "metadata": {},
   "source": [
    "`-` 정수배열에 의한 인덱싱 "
   ]
  },
  {
   "cell_type": "code",
   "execution_count": 65,
   "id": "11e47e31-2fab-46b2-a6cb-122a9cb56a00",
   "metadata": {},
   "outputs": [
    {
     "data": {
      "text/plain": [
       "array([11, 22, 33, 44, 55, 66])"
      ]
     },
     "execution_count": 65,
     "metadata": {},
     "output_type": "execute_result"
    }
   ],
   "source": [
    "a"
   ]
  },
  {
   "cell_type": "code",
   "execution_count": 66,
   "id": "7c91dd7d-2bc8-4561-a67e-a8f9f42636bd",
   "metadata": {},
   "outputs": [
    {
     "data": {
      "text/plain": [
       "array([11, 33, 55])"
      ]
     },
     "execution_count": 66,
     "metadata": {},
     "output_type": "execute_result"
    }
   ],
   "source": [
    "a[[0,2,4]] # index=0, index=2, index=4 에 해당하는 원소를 뽑고 싶다 "
   ]
  },
  {
   "cell_type": "code",
   "execution_count": 67,
   "id": "b8afb3ad-8076-4f05-93a7-7c52aad55a3c",
   "metadata": {},
   "outputs": [
    {
     "ename": "TypeError",
     "evalue": "list indices must be integers or slices, not list",
     "output_type": "error",
     "traceback": [
      "\u001b[0;31m---------------------------------------------------------------------------\u001b[0m",
      "\u001b[0;31mTypeError\u001b[0m                                 Traceback (most recent call last)",
      "Input \u001b[0;32mIn [67]\u001b[0m, in \u001b[0;36m<cell line: 1>\u001b[0;34m()\u001b[0m\n\u001b[0;32m----> 1\u001b[0m \u001b[43ml\u001b[49m\u001b[43m[\u001b[49m\u001b[43m[\u001b[49m\u001b[38;5;241;43m0\u001b[39;49m\u001b[43m,\u001b[49m\u001b[38;5;241;43m2\u001b[39;49m\u001b[43m,\u001b[49m\u001b[38;5;241;43m4\u001b[39;49m\u001b[43m]\u001b[49m\u001b[43m]\u001b[49m\n",
      "\u001b[0;31mTypeError\u001b[0m: list indices must be integers or slices, not list"
     ]
    }
   ],
   "source": [
    "l[[0,2,4]] # 리스트는 불가능 "
   ]
  },
  {
   "cell_type": "markdown",
   "id": "5088a071-63ee-4955-8b46-835731a2e38c",
   "metadata": {},
   "source": [
    "`-` 부울값에 의한 인덱싱 "
   ]
  },
  {
   "cell_type": "code",
   "execution_count": 69,
   "id": "402ca51a-ab66-420f-832d-2816d67b54f0",
   "metadata": {},
   "outputs": [
    {
     "data": {
      "text/plain": [
       "array([11, 22, 33, 44, 55, 66])"
      ]
     },
     "execution_count": 69,
     "metadata": {},
     "output_type": "execute_result"
    }
   ],
   "source": [
    "a"
   ]
  },
  {
   "cell_type": "code",
   "execution_count": 70,
   "id": "727617b3-1310-452e-9fe0-8379aa427845",
   "metadata": {},
   "outputs": [
    {
     "data": {
      "text/plain": [
       "array([11, 33, 55])"
      ]
     },
     "execution_count": 70,
     "metadata": {},
     "output_type": "execute_result"
    }
   ],
   "source": [
    "a[[True,False,True,False,True,False]] "
   ]
  },
  {
   "cell_type": "markdown",
   "id": "b952079b-fcbd-4ca0-baa2-135dd93bac4b",
   "metadata": {},
   "source": [
    "응용하면? "
   ]
  },
  {
   "cell_type": "code",
   "execution_count": 72,
   "id": "b6aaf4ce-c5a1-4cdf-bc80-51696ffd5d79",
   "metadata": {},
   "outputs": [
    {
     "data": {
      "text/plain": [
       "array([ True,  True, False, False, False, False])"
      ]
     },
     "execution_count": 72,
     "metadata": {},
     "output_type": "execute_result"
    }
   ],
   "source": [
    "a < 33 "
   ]
  },
  {
   "cell_type": "code",
   "execution_count": 75,
   "id": "17289e20-3b6d-4350-bf3c-43c6ffdee09e",
   "metadata": {},
   "outputs": [
    {
     "data": {
      "text/plain": [
       "array([11, 22])"
      ]
     },
     "execution_count": 75,
     "metadata": {},
     "output_type": "execute_result"
    }
   ],
   "source": [
    "a[a<33]"
   ]
  },
  {
   "cell_type": "markdown",
   "id": "97a6ca67-09af-4bf9-9290-805cdcdb8247",
   "metadata": {},
   "source": [
    "리스트는 불가능 "
   ]
  },
  {
   "cell_type": "code",
   "execution_count": 79,
   "id": "2c596997-7960-4595-8495-52ff8baff998",
   "metadata": {},
   "outputs": [
    {
     "ename": "TypeError",
     "evalue": "'<' not supported between instances of 'list' and 'int'",
     "output_type": "error",
     "traceback": [
      "\u001b[0;31m---------------------------------------------------------------------------\u001b[0m",
      "\u001b[0;31mTypeError\u001b[0m                                 Traceback (most recent call last)",
      "Input \u001b[0;32mIn [79]\u001b[0m, in \u001b[0;36m<cell line: 1>\u001b[0;34m()\u001b[0m\n\u001b[0;32m----> 1\u001b[0m \u001b[43ml\u001b[49m\u001b[38;5;241;43m<\u001b[39;49m\u001b[38;5;241;43m33\u001b[39;49m\n",
      "\u001b[0;31mTypeError\u001b[0m: '<' not supported between instances of 'list' and 'int'"
     ]
    }
   ],
   "source": [
    "l<33 # 여기에서부터 불가능 "
   ]
  },
  {
   "cell_type": "code",
   "execution_count": 78,
   "id": "a3afa138-ebf2-4155-a4c8-e39b7dcd9ad0",
   "metadata": {},
   "outputs": [
    {
     "ename": "TypeError",
     "evalue": "list indices must be integers or slices, not list",
     "output_type": "error",
     "traceback": [
      "\u001b[0;31m---------------------------------------------------------------------------\u001b[0m",
      "\u001b[0;31mTypeError\u001b[0m                                 Traceback (most recent call last)",
      "Input \u001b[0;32mIn [78]\u001b[0m, in \u001b[0;36m<cell line: 1>\u001b[0;34m()\u001b[0m\n\u001b[0;32m----> 1\u001b[0m \u001b[43ml\u001b[49m\u001b[43m[\u001b[49m\u001b[43m[\u001b[49m\u001b[38;5;28;43;01mTrue\u001b[39;49;00m\u001b[43m,\u001b[49m\u001b[38;5;28;43;01mFalse\u001b[39;49;00m\u001b[43m,\u001b[49m\u001b[38;5;28;43;01mTrue\u001b[39;49;00m\u001b[43m,\u001b[49m\u001b[38;5;28;43;01mFalse\u001b[39;49;00m\u001b[43m,\u001b[49m\u001b[38;5;28;43;01mTrue\u001b[39;49;00m\u001b[43m,\u001b[49m\u001b[38;5;28;43;01mFalse\u001b[39;49;00m\u001b[43m]\u001b[49m\u001b[43m]\u001b[49m\n",
      "\u001b[0;31mTypeError\u001b[0m: list indices must be integers or slices, not list"
     ]
    }
   ],
   "source": [
    "l[[True,False,True,False,True,False]] # 이것도 불가능 "
   ]
  },
  {
   "cell_type": "markdown",
   "id": "77fb69a6-3c7c-4bd8-86cf-4512c49dcbe8",
   "metadata": {},
   "source": [
    "## 인덱싱 2차원 "
   ]
  },
  {
   "cell_type": "markdown",
   "id": "16d53e75-267f-43ee-a9d5-f6e582e43e44",
   "metadata": {},
   "source": [
    "`-` 중첩리스트와 2차원 np.array 선언 "
   ]
  },
  {
   "cell_type": "code",
   "execution_count": 81,
   "id": "7331f59b-c1af-4c99-9e77-dbad1859db53",
   "metadata": {},
   "outputs": [],
   "source": [
    "A = [[1,2,3,4],[-1,-2,-3,-4],[5,6,7,8],[-5,-6,-7,-8]]\n",
    "A2 = np.array(A)"
   ]
  },
  {
   "cell_type": "code",
   "execution_count": 82,
   "id": "85d7f756-b844-44c8-8503-8609a890ebd7",
   "metadata": {},
   "outputs": [
    {
     "data": {
      "text/plain": [
       "array([[ 1,  2,  3,  4],\n",
       "       [-1, -2, -3, -4],\n",
       "       [ 5,  6,  7,  8],\n",
       "       [-5, -6, -7, -8]])"
      ]
     },
     "execution_count": 82,
     "metadata": {},
     "output_type": "execute_result"
    }
   ],
   "source": [
    "A2"
   ]
  },
  {
   "cell_type": "code",
   "execution_count": 83,
   "id": "366e82df-8d76-48e8-8d38-02e36dc3c4fb",
   "metadata": {},
   "outputs": [
    {
     "data": {
      "text/plain": [
       "[[1, 2, 3, 4], [-1, -2, -3, -4], [5, 6, 7, 8], [-5, -6, -7, -8]]"
      ]
     },
     "execution_count": 83,
     "metadata": {},
     "output_type": "execute_result"
    }
   ],
   "source": [
    "A"
   ]
  },
  {
   "cell_type": "markdown",
   "id": "6c6221bd-6831-449d-a0f1-946634c0660a",
   "metadata": {},
   "source": [
    "`-` A의 원소 인덱싱 "
   ]
  },
  {
   "cell_type": "code",
   "execution_count": 88,
   "id": "f0ead1ae-fed3-47d3-b272-127bf2fa24ac",
   "metadata": {},
   "outputs": [
    {
     "data": {
      "text/plain": [
       "1"
      ]
     },
     "execution_count": 88,
     "metadata": {},
     "output_type": "execute_result"
    }
   ],
   "source": [
    "A[0][0] # (1,1)의 원소 "
   ]
  },
  {
   "cell_type": "code",
   "execution_count": 90,
   "id": "d3aeb65c-1899-4f26-b53b-06f16fc211d9",
   "metadata": {},
   "outputs": [
    {
     "data": {
      "text/plain": [
       "-3"
      ]
     },
     "execution_count": 90,
     "metadata": {},
     "output_type": "execute_result"
    }
   ],
   "source": [
    "A[1][2] # (2,3)의 원소 "
   ]
  },
  {
   "cell_type": "code",
   "execution_count": 93,
   "id": "77f60a6c-1e66-4f9b-ad0f-1306242f1920",
   "metadata": {},
   "outputs": [
    {
     "data": {
      "text/plain": [
       "-5"
      ]
     },
     "execution_count": 93,
     "metadata": {},
     "output_type": "execute_result"
    }
   ],
   "source": [
    "A[-1][0] # (4,1)의 원소 "
   ]
  },
  {
   "cell_type": "markdown",
   "id": "aa7be0f8-bebb-4345-ae38-3d9d4269533d",
   "metadata": {},
   "source": [
    "`-` A2의 원소 인덱싱 "
   ]
  },
  {
   "cell_type": "code",
   "execution_count": 94,
   "id": "336c2274-24cf-4876-a74c-831ab2dfd772",
   "metadata": {
    "tags": []
   },
   "outputs": [
    {
     "data": {
      "text/plain": [
       "1"
      ]
     },
     "execution_count": 94,
     "metadata": {},
     "output_type": "execute_result"
    }
   ],
   "source": [
    "A2[0][0] # (1,1)의 원소 "
   ]
  },
  {
   "cell_type": "code",
   "execution_count": 95,
   "id": "369bcfd3-57e0-47b1-873a-0e40f5d0c2f1",
   "metadata": {},
   "outputs": [
    {
     "data": {
      "text/plain": [
       "-3"
      ]
     },
     "execution_count": 95,
     "metadata": {},
     "output_type": "execute_result"
    }
   ],
   "source": [
    "A2[1][2] # (2,3)의 원소 "
   ]
  },
  {
   "cell_type": "code",
   "execution_count": 96,
   "id": "5fd4f7c6-cfcd-42fb-8376-e3f1fe1de9c1",
   "metadata": {},
   "outputs": [
    {
     "data": {
      "text/plain": [
       "-5"
      ]
     },
     "execution_count": 96,
     "metadata": {},
     "output_type": "execute_result"
    }
   ],
   "source": [
    "A2[-1][0] # (4,1)의 원소 "
   ]
  },
  {
   "cell_type": "markdown",
   "id": "8b4c3480-9be2-4cbd-926d-c98c51379b34",
   "metadata": {},
   "source": [
    "`-` A2에서만 되는 기술 (넘파이에서 제시하는 신기술, R에서는 기본적으로 쓰던것, 이중list는 불가능) "
   ]
  },
  {
   "cell_type": "code",
   "execution_count": 97,
   "id": "e02143a9-2d30-44ec-920c-a511c5bc3b1f",
   "metadata": {
    "tags": []
   },
   "outputs": [
    {
     "data": {
      "text/plain": [
       "1"
      ]
     },
     "execution_count": 97,
     "metadata": {},
     "output_type": "execute_result"
    }
   ],
   "source": [
    "A2[0,0] # (1,1)의 원소 "
   ]
  },
  {
   "cell_type": "code",
   "execution_count": 98,
   "id": "45f7e56b-cc06-4d92-b0c3-988d43acdbd5",
   "metadata": {},
   "outputs": [
    {
     "data": {
      "text/plain": [
       "-3"
      ]
     },
     "execution_count": 98,
     "metadata": {},
     "output_type": "execute_result"
    }
   ],
   "source": [
    "A2[1,2] # (2,3)의 원소 "
   ]
  },
  {
   "cell_type": "code",
   "execution_count": 99,
   "id": "909078ec-c2c0-46aa-a229-d986284b2e70",
   "metadata": {},
   "outputs": [
    {
     "data": {
      "text/plain": [
       "-5"
      ]
     },
     "execution_count": 99,
     "metadata": {},
     "output_type": "execute_result"
    }
   ],
   "source": [
    "A2[-1,0] # (4,1)의 원소 "
   ]
  },
  {
   "cell_type": "markdown",
   "id": "0af08f03-1e1a-4121-af47-0349cf9f3334",
   "metadata": {},
   "source": [
    "`-` 정수배열에 의한 인덱싱 & 슬라이싱!"
   ]
  },
  {
   "cell_type": "code",
   "execution_count": 103,
   "id": "59a2221a-4a22-453d-a00a-8df58dad8f7f",
   "metadata": {},
   "outputs": [
    {
     "data": {
      "text/plain": [
       "array([[ 1,  2,  3,  4],\n",
       "       [-1, -2, -3, -4],\n",
       "       [ 5,  6,  7,  8],\n",
       "       [-5, -6, -7, -8]])"
      ]
     },
     "execution_count": 103,
     "metadata": {},
     "output_type": "execute_result"
    }
   ],
   "source": [
    "A2"
   ]
  },
  {
   "cell_type": "code",
   "execution_count": 105,
   "id": "c029d84f-8d2d-4da0-935e-f56bc73c0ed2",
   "metadata": {},
   "outputs": [
    {
     "data": {
      "text/plain": [
       "array([1, 2])"
      ]
     },
     "execution_count": 105,
     "metadata": {},
     "output_type": "execute_result"
    }
   ],
   "source": [
    "A2[0,0:2] # 1행1열, 1행2열 "
   ]
  },
  {
   "cell_type": "code",
   "execution_count": 107,
   "id": "d60a1858-d5cd-4562-b8f7-06067d59801d",
   "metadata": {},
   "outputs": [
    {
     "data": {
      "text/plain": [
       "array([1, 2, 3, 4])"
      ]
     },
     "execution_count": 107,
     "metadata": {},
     "output_type": "execute_result"
    }
   ],
   "source": [
    "A2[0,:] # 1행 "
   ]
  },
  {
   "cell_type": "code",
   "execution_count": 115,
   "id": "abd02229-fee6-4851-bb44-2794d8052dd3",
   "metadata": {},
   "outputs": [
    {
     "data": {
      "text/plain": [
       "array([1, 2, 3, 4])"
      ]
     },
     "execution_count": 115,
     "metadata": {},
     "output_type": "execute_result"
    }
   ],
   "source": [
    "A2[0] # 1행"
   ]
  },
  {
   "cell_type": "code",
   "execution_count": 109,
   "id": "ac91a63f-3a34-4cc3-819c-dd63159011d4",
   "metadata": {},
   "outputs": [
    {
     "data": {
      "text/plain": [
       "array([[1, 2, 3, 4],\n",
       "       [5, 6, 7, 8]])"
      ]
     },
     "execution_count": 109,
     "metadata": {},
     "output_type": "execute_result"
    }
   ],
   "source": [
    "A2[[0,2],:] # 1행, 3행 "
   ]
  },
  {
   "cell_type": "code",
   "execution_count": 118,
   "id": "1c266c0a-ed43-4bd7-8cfe-0a489795b4e6",
   "metadata": {},
   "outputs": [
    {
     "data": {
      "text/plain": [
       "array([[1, 2, 3, 4],\n",
       "       [5, 6, 7, 8]])"
      ]
     },
     "execution_count": 118,
     "metadata": {},
     "output_type": "execute_result"
    }
   ],
   "source": [
    "A2[[0,2]] # 1행, 3행 "
   ]
  },
  {
   "cell_type": "code",
   "execution_count": 120,
   "id": "1bf0ad5d-83af-4cad-9cdf-60a1b72232db",
   "metadata": {},
   "outputs": [
    {
     "data": {
      "text/plain": [
       "array([ 1, -1,  5, -5])"
      ]
     },
     "execution_count": 120,
     "metadata": {},
     "output_type": "execute_result"
    }
   ],
   "source": [
    "A2[:,0] # 1열 "
   ]
  },
  {
   "cell_type": "code",
   "execution_count": 121,
   "id": "69c14f70-49e5-4d13-8f70-345510023961",
   "metadata": {},
   "outputs": [
    {
     "data": {
      "text/plain": [
       "array([[ 1],\n",
       "       [-1],\n",
       "       [ 5],\n",
       "       [-5]])"
      ]
     },
     "execution_count": 121,
     "metadata": {},
     "output_type": "execute_result"
    }
   ],
   "source": [
    "A2[:,[0]] # 1열 "
   ]
  },
  {
   "cell_type": "code",
   "execution_count": 122,
   "id": "52dcf8c6-1a96-4b99-803f-24ed0eaed1e2",
   "metadata": {},
   "outputs": [
    {
     "data": {
      "text/plain": [
       "array([[ 1,  3],\n",
       "       [-1, -3],\n",
       "       [ 5,  7],\n",
       "       [-5, -7]])"
      ]
     },
     "execution_count": 122,
     "metadata": {},
     "output_type": "execute_result"
    }
   ],
   "source": [
    "A2[:,[0,2]] # 1열, 3열"
   ]
  },
  {
   "cell_type": "code",
   "execution_count": 124,
   "id": "81d666b9-196e-4838-964d-107119867df7",
   "metadata": {},
   "outputs": [
    {
     "data": {
      "text/plain": [
       "array([[ 1,  3],\n",
       "       [-1, -3]])"
      ]
     },
     "execution_count": 124,
     "metadata": {},
     "output_type": "execute_result"
    }
   ],
   "source": [
    "A2[0:2,[0,2]] # 1행~2행 //  1열,3열 "
   ]
  },
  {
   "cell_type": "markdown",
   "id": "bc37225a-5778-4f46-8dad-b87fbc32f0cb",
   "metadata": {},
   "source": [
    "## 1차원 배열의 선언 "
   ]
  },
  {
   "cell_type": "markdown",
   "id": "1c3013af-d2f5-436b-b895-ce5c98e1bb36",
   "metadata": {},
   "source": [
    "`-` 리스트나 튜플을 선언하고 형변환 "
   ]
  },
  {
   "cell_type": "code",
   "execution_count": 128,
   "id": "3de506da-1bac-4022-8666-2867fe205aef",
   "metadata": {},
   "outputs": [
    {
     "data": {
      "text/plain": [
       "array([1, 2, 3])"
      ]
     },
     "execution_count": 128,
     "metadata": {},
     "output_type": "execute_result"
    }
   ],
   "source": [
    "np.array((1,2,3)) # 튜플->넘파이어레이 "
   ]
  },
  {
   "cell_type": "code",
   "execution_count": 129,
   "id": "669f3058-244c-4fe4-934f-25342d735c78",
   "metadata": {},
   "outputs": [
    {
     "data": {
      "text/plain": [
       "array([1, 2, 3])"
      ]
     },
     "execution_count": 129,
     "metadata": {},
     "output_type": "execute_result"
    }
   ],
   "source": [
    "np.array([1,2,3]) # 리스트 ->넘파이어레이 "
   ]
  },
  {
   "cell_type": "markdown",
   "id": "9fc06250-e154-4613-b90f-a5beec96f243",
   "metadata": {},
   "source": [
    "`-` range()를 이용해서 선언하고 형변환 "
   ]
  },
  {
   "cell_type": "code",
   "execution_count": 133,
   "id": "616b8bfb-b9d4-4ae5-936c-cfaa6f577ab1",
   "metadata": {},
   "outputs": [
    {
     "data": {
      "text/plain": [
       "array([0, 1, 2, 3, 4, 5, 6, 7, 8, 9])"
      ]
     },
     "execution_count": 133,
     "metadata": {},
     "output_type": "execute_result"
    }
   ],
   "source": [
    "np.array(range(10)) # range(10) -> 넘파이어레이 "
   ]
  },
  {
   "cell_type": "markdown",
   "id": "eeaf6c0c-b949-48be-b3b5-6785ae0b486a",
   "metadata": {},
   "source": [
    "`-` np.zeros, np.ones"
   ]
  },
  {
   "cell_type": "code",
   "execution_count": 135,
   "id": "ac3774ab-6f17-4b94-a68b-ae712290f53d",
   "metadata": {},
   "outputs": [
    {
     "data": {
      "text/plain": [
       "array([0., 0., 0.])"
      ]
     },
     "execution_count": 135,
     "metadata": {},
     "output_type": "execute_result"
    }
   ],
   "source": [
    "np.zeros(3) "
   ]
  },
  {
   "cell_type": "code",
   "execution_count": 137,
   "id": "fe38e90b-920d-4e29-b43e-0d889e3266c1",
   "metadata": {},
   "outputs": [
    {
     "data": {
      "text/plain": [
       "array([1., 1., 1., 1.])"
      ]
     },
     "execution_count": 137,
     "metadata": {},
     "output_type": "execute_result"
    }
   ],
   "source": [
    "np.ones(4)"
   ]
  },
  {
   "cell_type": "markdown",
   "id": "83ac6a1c-84e8-443c-9023-3527796001a8",
   "metadata": {},
   "source": [
    "`-` np.linspace "
   ]
  },
  {
   "cell_type": "code",
   "execution_count": 141,
   "id": "16dfe855-350d-4534-a6d7-ce0179cf6a6f",
   "metadata": {},
   "outputs": [
    {
     "data": {
      "text/plain": [
       "array([0.        , 0.09090909, 0.18181818, 0.27272727, 0.36363636,\n",
       "       0.45454545, 0.54545455, 0.63636364, 0.72727273, 0.81818182,\n",
       "       0.90909091, 1.        ])"
      ]
     },
     "execution_count": 141,
     "metadata": {},
     "output_type": "execute_result"
    }
   ],
   "source": [
    "np.linspace(0,1,12) # 0에서 시작하고 1에서 끝남 (양끝점 모두 포함)"
   ]
  },
  {
   "cell_type": "code",
   "execution_count": 142,
   "id": "718ae69c-69e1-4d76-b48f-2a3d85f3b853",
   "metadata": {},
   "outputs": [
    {
     "data": {
      "text/plain": [
       "12"
      ]
     },
     "execution_count": 142,
     "metadata": {},
     "output_type": "execute_result"
    }
   ],
   "source": [
    "len(np.linspace(0,1,12)) # 길이는 12"
   ]
  },
  {
   "cell_type": "markdown",
   "id": "8f4af769-e342-487c-9fc7-73ee9b7f45f1",
   "metadata": {},
   "source": [
    "`-` np.arange"
   ]
  },
  {
   "cell_type": "code",
   "execution_count": 144,
   "id": "6d2de2ee-ecc8-409a-b958-a2bda810537a",
   "metadata": {},
   "outputs": [
    {
     "data": {
      "text/plain": [
       "array([0, 1, 2, 3, 4])"
      ]
     },
     "execution_count": 144,
     "metadata": {},
     "output_type": "execute_result"
    }
   ],
   "source": [
    "np.arange(5) # np.array(range(5))"
   ]
  },
  {
   "cell_type": "code",
   "execution_count": 148,
   "id": "96a13589-3084-4502-8a15-6ec9c6ecca36",
   "metadata": {},
   "outputs": [
    {
     "data": {
      "text/plain": [
       "array([1, 2, 3, 4, 5])"
      ]
     },
     "execution_count": 148,
     "metadata": {},
     "output_type": "execute_result"
    }
   ],
   "source": [
    "np.arange(1,6) # np.array(range(1,6))"
   ]
  },
  {
   "cell_type": "markdown",
   "id": "ea9f02c6-137e-4d28-b3cb-2f2ea25e927c",
   "metadata": {},
   "source": [
    "## reshape "
   ]
  },
  {
   "cell_type": "markdown",
   "id": "aea21768-a609-41d1-8547-88a19912a9a0",
   "metadata": {},
   "source": [
    "`-` reshape: ndarray의 특수한 기능 "
   ]
  },
  {
   "cell_type": "code",
   "execution_count": 166,
   "id": "4731e325-ab66-4463-a754-e46af4b78345",
   "metadata": {},
   "outputs": [
    {
     "data": {
      "text/plain": [
       "array([11, 22, 33, 44, 55, 66])"
      ]
     },
     "execution_count": 166,
     "metadata": {},
     "output_type": "execute_result"
    }
   ],
   "source": [
    "a=np.array([11,22,33,44,55,66])\n",
    "a ## 길이가 6인 벡터 "
   ]
  },
  {
   "cell_type": "code",
   "execution_count": 167,
   "id": "dc0791b2-2774-45cc-bee8-e66b08a843b6",
   "metadata": {},
   "outputs": [
    {
     "data": {
      "text/plain": [
       "array([[11, 22, 33],\n",
       "       [44, 55, 66]])"
      ]
     },
     "execution_count": 167,
     "metadata": {},
     "output_type": "execute_result"
    }
   ],
   "source": [
    "a.reshape(2,3) ## (2,3) matrix 라고 생각해도 무방 "
   ]
  },
  {
   "cell_type": "markdown",
   "id": "87b30fad-6a4d-40df-9469-f4a00078ca4e",
   "metadata": {},
   "source": [
    "note: reshape은 a자체를 변화시키는것은 아님 "
   ]
  },
  {
   "cell_type": "code",
   "execution_count": 165,
   "id": "3d1b3d98-bed1-49ca-aba0-aa028b9a0a1a",
   "metadata": {},
   "outputs": [
    {
     "data": {
      "text/plain": [
       "array([11, 22, 33, 44, 55, 66])"
      ]
     },
     "execution_count": 165,
     "metadata": {},
     "output_type": "execute_result"
    }
   ],
   "source": [
    "a # a는 그대로 있음 "
   ]
  },
  {
   "cell_type": "code",
   "execution_count": 169,
   "id": "21e92247-3bad-4dbd-b90b-575a4882b77e",
   "metadata": {},
   "outputs": [
    {
     "data": {
      "text/plain": [
       "array([[11, 22, 33],\n",
       "       [44, 55, 66]])"
      ]
     },
     "execution_count": 169,
     "metadata": {},
     "output_type": "execute_result"
    }
   ],
   "source": [
    "b= a.reshape(2,3) # a를 reshape한 결과를 b에 저장 \n",
    "b"
   ]
  },
  {
   "cell_type": "code",
   "execution_count": 170,
   "id": "9d7a19da-c4f9-4780-9c45-8ed12ae468e2",
   "metadata": {},
   "outputs": [
    {
     "data": {
      "text/plain": [
       "array([11, 22, 33, 44, 55, 66])"
      ]
     },
     "execution_count": 170,
     "metadata": {},
     "output_type": "execute_result"
    }
   ],
   "source": [
    "a # a는 여전히 그대로 있음"
   ]
  },
  {
   "cell_type": "markdown",
   "id": "1df07db5-b448-4a61-8ba0-70ac990e49c7",
   "metadata": {},
   "source": [
    "`-` 다시 b를 a처럼 바꾸고 싶다 "
   ]
  },
  {
   "cell_type": "code",
   "execution_count": 171,
   "id": "bcacae02-f02c-4d7d-aeda-bc1b19c8e88b",
   "metadata": {},
   "outputs": [
    {
     "data": {
      "text/plain": [
       "array([[11, 22, 33],\n",
       "       [44, 55, 66]])"
      ]
     },
     "execution_count": 171,
     "metadata": {},
     "output_type": "execute_result"
    }
   ],
   "source": [
    "b"
   ]
  },
  {
   "cell_type": "code",
   "execution_count": 174,
   "id": "5af9b148-56be-471a-939a-c968307f9a61",
   "metadata": {},
   "outputs": [
    {
     "data": {
      "text/plain": [
       "array([11, 22, 33, 44, 55, 66])"
      ]
     },
     "execution_count": 174,
     "metadata": {},
     "output_type": "execute_result"
    }
   ],
   "source": [
    "b.reshape(6) # b는 (2,3) matrix , 그런데 이것을 길이가 6인 벡터로 만들고 싶다. "
   ]
  },
  {
   "cell_type": "markdown",
   "id": "4b0e469b-00ff-40b5-95c6-9d489096fe41",
   "metadata": {},
   "source": [
    "`-` reshape with -1 "
   ]
  },
  {
   "cell_type": "code",
   "execution_count": 180,
   "id": "9403d743-e9ae-4a21-917e-1fcc2ab8fe43",
   "metadata": {},
   "outputs": [
    {
     "data": {
      "text/plain": [
       "array([ 0,  1,  2,  3,  4,  5,  6,  7,  8,  9, 10, 11, 12, 13, 14, 15, 16,\n",
       "       17, 18, 19, 20, 21, 22, 23])"
      ]
     },
     "execution_count": 180,
     "metadata": {},
     "output_type": "execute_result"
    }
   ],
   "source": [
    "a=np.arange(24) # np.array(range(24))\n",
    "a"
   ]
  },
  {
   "cell_type": "code",
   "execution_count": 185,
   "id": "96eaef8b-4785-42b9-b501-3a7c76a0eb6c",
   "metadata": {},
   "outputs": [
    {
     "data": {
      "text/plain": [
       "array([[ 0,  1,  2,  3,  4,  5,  6,  7,  8,  9, 10, 11],\n",
       "       [12, 13, 14, 15, 16, 17, 18, 19, 20, 21, 22, 23]])"
      ]
     },
     "execution_count": 185,
     "metadata": {},
     "output_type": "execute_result"
    }
   ],
   "source": [
    "a.reshape(2,-1)"
   ]
  },
  {
   "cell_type": "code",
   "execution_count": 186,
   "id": "0b2a2e78-87cb-4d72-bfda-d45452fa706c",
   "metadata": {},
   "outputs": [
    {
     "data": {
      "text/plain": [
       "array([[ 0,  1,  2,  3,  4,  5,  6,  7],\n",
       "       [ 8,  9, 10, 11, 12, 13, 14, 15],\n",
       "       [16, 17, 18, 19, 20, 21, 22, 23]])"
      ]
     },
     "execution_count": 186,
     "metadata": {},
     "output_type": "execute_result"
    }
   ],
   "source": [
    "a.reshape(3,-1)"
   ]
  },
  {
   "cell_type": "code",
   "execution_count": 187,
   "id": "0c0e19df-d09e-4134-ae05-fcf4682d7c2c",
   "metadata": {},
   "outputs": [
    {
     "data": {
      "text/plain": [
       "array([[ 0,  1,  2,  3,  4,  5],\n",
       "       [ 6,  7,  8,  9, 10, 11],\n",
       "       [12, 13, 14, 15, 16, 17],\n",
       "       [18, 19, 20, 21, 22, 23]])"
      ]
     },
     "execution_count": 187,
     "metadata": {},
     "output_type": "execute_result"
    }
   ],
   "source": [
    "a.reshape(4,-1)"
   ]
  },
  {
   "cell_type": "code",
   "execution_count": 188,
   "id": "69b2d2d5-74c3-401c-bf52-5ab1a8e55c8d",
   "metadata": {},
   "outputs": [
    {
     "ename": "ValueError",
     "evalue": "cannot reshape array of size 24 into shape (5,newaxis)",
     "output_type": "error",
     "traceback": [
      "\u001b[0;31m---------------------------------------------------------------------------\u001b[0m",
      "\u001b[0;31mValueError\u001b[0m                                Traceback (most recent call last)",
      "Input \u001b[0;32mIn [188]\u001b[0m, in \u001b[0;36m<cell line: 1>\u001b[0;34m()\u001b[0m\n\u001b[0;32m----> 1\u001b[0m \u001b[43ma\u001b[49m\u001b[38;5;241;43m.\u001b[39;49m\u001b[43mreshape\u001b[49m\u001b[43m(\u001b[49m\u001b[38;5;241;43m5\u001b[39;49m\u001b[43m,\u001b[49m\u001b[38;5;241;43m-\u001b[39;49m\u001b[38;5;241;43m1\u001b[39;49m\u001b[43m)\u001b[49m\n",
      "\u001b[0;31mValueError\u001b[0m: cannot reshape array of size 24 into shape (5,newaxis)"
     ]
    }
   ],
   "source": [
    "a.reshape(5,-1)"
   ]
  },
  {
   "cell_type": "code",
   "execution_count": 189,
   "id": "b207ba94-c3b1-4737-97d2-ef0a94f4177b",
   "metadata": {},
   "outputs": [
    {
     "data": {
      "text/plain": [
       "array([[ 0,  1,  2,  3],\n",
       "       [ 4,  5,  6,  7],\n",
       "       [ 8,  9, 10, 11],\n",
       "       [12, 13, 14, 15],\n",
       "       [16, 17, 18, 19],\n",
       "       [20, 21, 22, 23]])"
      ]
     },
     "execution_count": 189,
     "metadata": {},
     "output_type": "execute_result"
    }
   ],
   "source": [
    "a.reshape(6,-1)"
   ]
  },
  {
   "cell_type": "code",
   "execution_count": 190,
   "id": "1ae36f11-6d1c-4db0-8dd5-09de802896ef",
   "metadata": {},
   "outputs": [
    {
     "ename": "ValueError",
     "evalue": "cannot reshape array of size 24 into shape (7,newaxis)",
     "output_type": "error",
     "traceback": [
      "\u001b[0;31m---------------------------------------------------------------------------\u001b[0m",
      "\u001b[0;31mValueError\u001b[0m                                Traceback (most recent call last)",
      "Input \u001b[0;32mIn [190]\u001b[0m, in \u001b[0;36m<cell line: 1>\u001b[0;34m()\u001b[0m\n\u001b[0;32m----> 1\u001b[0m \u001b[43ma\u001b[49m\u001b[38;5;241;43m.\u001b[39;49m\u001b[43mreshape\u001b[49m\u001b[43m(\u001b[49m\u001b[38;5;241;43m7\u001b[39;49m\u001b[43m,\u001b[49m\u001b[38;5;241;43m-\u001b[39;49m\u001b[38;5;241;43m1\u001b[39;49m\u001b[43m)\u001b[49m\n",
      "\u001b[0;31mValueError\u001b[0m: cannot reshape array of size 24 into shape (7,newaxis)"
     ]
    }
   ],
   "source": [
    "a.reshape(7,-1)"
   ]
  },
  {
   "cell_type": "code",
   "execution_count": 191,
   "id": "46efedd9-26f4-4e39-b4d7-ef83e86f9ea6",
   "metadata": {},
   "outputs": [
    {
     "data": {
      "text/plain": [
       "array([[ 0,  1,  2],\n",
       "       [ 3,  4,  5],\n",
       "       [ 6,  7,  8],\n",
       "       [ 9, 10, 11],\n",
       "       [12, 13, 14],\n",
       "       [15, 16, 17],\n",
       "       [18, 19, 20],\n",
       "       [21, 22, 23]])"
      ]
     },
     "execution_count": 191,
     "metadata": {},
     "output_type": "execute_result"
    }
   ],
   "source": [
    "a.reshape(8,-1)"
   ]
  },
  {
   "cell_type": "code",
   "execution_count": 192,
   "id": "90c353ed-911d-4be1-a63e-38f3f30d72dc",
   "metadata": {},
   "outputs": [
    {
     "data": {
      "text/plain": [
       "array([[ 0,  1],\n",
       "       [ 2,  3],\n",
       "       [ 4,  5],\n",
       "       [ 6,  7],\n",
       "       [ 8,  9],\n",
       "       [10, 11],\n",
       "       [12, 13],\n",
       "       [14, 15],\n",
       "       [16, 17],\n",
       "       [18, 19],\n",
       "       [20, 21],\n",
       "       [22, 23]])"
      ]
     },
     "execution_count": 192,
     "metadata": {},
     "output_type": "execute_result"
    }
   ],
   "source": [
    "a.reshape(12,-1)"
   ]
  },
  {
   "cell_type": "code",
   "execution_count": 193,
   "id": "d4ea5808-dbc6-4f35-89fd-05863c87d1f3",
   "metadata": {},
   "outputs": [
    {
     "data": {
      "text/plain": [
       "array([[ 0,  1],\n",
       "       [ 2,  3],\n",
       "       [ 4,  5],\n",
       "       [ 6,  7],\n",
       "       [ 8,  9],\n",
       "       [10, 11],\n",
       "       [12, 13],\n",
       "       [14, 15],\n",
       "       [16, 17],\n",
       "       [18, 19],\n",
       "       [20, 21],\n",
       "       [22, 23]])"
      ]
     },
     "execution_count": 193,
     "metadata": {},
     "output_type": "execute_result"
    }
   ],
   "source": [
    "b= a.reshape(12,-1)\n",
    "b"
   ]
  },
  {
   "cell_type": "code",
   "execution_count": 197,
   "id": "004a3421-e410-4341-b41d-86362ff76959",
   "metadata": {},
   "outputs": [
    {
     "data": {
      "text/plain": [
       "array([ 0,  1,  2,  3,  4,  5,  6,  7,  8,  9, 10, 11, 12, 13, 14, 15, 16,\n",
       "       17, 18, 19, 20, 21, 22, 23])"
      ]
     },
     "execution_count": 197,
     "metadata": {},
     "output_type": "execute_result"
    }
   ],
   "source": [
    "b.reshape(-1) # b를 다시 길이가 24인 벡터로!"
   ]
  },
  {
   "cell_type": "markdown",
   "id": "1e383d7a-3c00-47ff-86b8-2102b68eae0f",
   "metadata": {},
   "source": [
    "## 2차원 배열의 선언 "
   ]
  },
  {
   "cell_type": "code",
   "execution_count": 198,
   "id": "3da3c67b-30b7-4cf1-872e-d310ea4055e1",
   "metadata": {},
   "outputs": [
    {
     "data": {
      "text/plain": [
       "array([[0., 0., 0.],\n",
       "       [0., 0., 0.],\n",
       "       [0., 0., 0.]])"
      ]
     },
     "execution_count": 198,
     "metadata": {},
     "output_type": "execute_result"
    }
   ],
   "source": [
    "np.zeros((3,3))"
   ]
  },
  {
   "cell_type": "code",
   "execution_count": 199,
   "id": "73c8e7f2-61f7-4325-b002-d4cbcef6bdf7",
   "metadata": {},
   "outputs": [
    {
     "data": {
      "text/plain": [
       "array([[1., 1., 1.],\n",
       "       [1., 1., 1.],\n",
       "       [1., 1., 1.]])"
      ]
     },
     "execution_count": 199,
     "metadata": {},
     "output_type": "execute_result"
    }
   ],
   "source": [
    "np.ones((3,3))"
   ]
  },
  {
   "cell_type": "code",
   "execution_count": 200,
   "id": "299f35b3-aabc-40e5-b15f-82fd4f2b4575",
   "metadata": {},
   "outputs": [
    {
     "data": {
      "text/plain": [
       "array([[1., 0., 0.],\n",
       "       [0., 1., 0.],\n",
       "       [0., 0., 1.]])"
      ]
     },
     "execution_count": 200,
     "metadata": {},
     "output_type": "execute_result"
    }
   ],
   "source": [
    "np.eye(3)"
   ]
  },
  {
   "cell_type": "code",
   "execution_count": 202,
   "id": "cfef5c30-b3ef-4587-9354-35820bef735f",
   "metadata": {},
   "outputs": [
    {
     "data": {
      "text/plain": [
       "array([[ 1,  0,  0,  0],\n",
       "       [ 0,  2,  0,  0],\n",
       "       [ 0,  0,  3,  0],\n",
       "       [ 0,  0,  0, -1]])"
      ]
     },
     "execution_count": 202,
     "metadata": {},
     "output_type": "execute_result"
    }
   ],
   "source": [
    "np.diag([1,2,3,-1])"
   ]
  },
  {
   "cell_type": "markdown",
   "id": "0c4a053f-6b01-4992-add0-98f2e1dacb0d",
   "metadata": {},
   "source": [
    "## 랜덤으로 배열 생성 "
   ]
  },
  {
   "cell_type": "code",
   "execution_count": 204,
   "id": "9b77680f-93dd-4dbf-81ca-61e0c6a9b389",
   "metadata": {},
   "outputs": [
    {
     "data": {
      "text/plain": [
       "array([ 0.27184979, -0.4540305 ,  0.24538219, -3.11389327,  1.06478234,\n",
       "        0.12051154,  0.01503231, -0.06744028,  2.30710253,  0.78840453])"
      ]
     },
     "execution_count": 204,
     "metadata": {},
     "output_type": "execute_result"
    }
   ],
   "source": [
    "np.random.randn(10) # 표쥰정규분포에서 10개를 뽑음 "
   ]
  },
  {
   "cell_type": "code",
   "execution_count": 205,
   "id": "95492076-4b69-474c-b22b-73a3376af346",
   "metadata": {},
   "outputs": [
    {
     "data": {
      "text/plain": [
       "array([0.67729671, 0.19584606, 0.4564896 , 0.9308976 , 0.49080792,\n",
       "       0.03410752, 0.47480477, 0.44519947, 0.20608611, 0.85576604])"
      ]
     },
     "execution_count": 205,
     "metadata": {},
     "output_type": "execute_result"
    }
   ],
   "source": [
    "np.random.rand(10) # 0~1사이에서 10개를 뽑음"
   ]
  },
  {
   "cell_type": "code",
   "execution_count": 209,
   "id": "f633f72b-1b63-44d2-aef9-91e36fbba440",
   "metadata": {},
   "outputs": [
    {
     "data": {
      "text/plain": [
       "array([[-0.97378852,  0.5250826 ],\n",
       "       [-0.97400213, -0.59600022]])"
      ]
     },
     "execution_count": 209,
     "metadata": {},
     "output_type": "execute_result"
    }
   ],
   "source": [
    "np.random.randn(4).reshape(2,2) # 표준정규분포에서 4개를 뽑고 (2,2) ndarray로 형태변환 "
   ]
  },
  {
   "cell_type": "code",
   "execution_count": 208,
   "id": "ffe8f40d-18bc-4b08-817b-f03413e48cbc",
   "metadata": {},
   "outputs": [
    {
     "data": {
      "text/plain": [
       "array([[0.03708309, 0.56122376],\n",
       "       [0.80934488, 0.65723348]])"
      ]
     },
     "execution_count": 208,
     "metadata": {},
     "output_type": "execute_result"
    }
   ],
   "source": [
    "np.random.rand(4).reshape(2,2) # 0~1 4개를 뽑고 (2,2) ndarray로 형태변환 "
   ]
  },
  {
   "cell_type": "markdown",
   "id": "2a38062a-69bd-407f-a9b6-809ab89e2781",
   "metadata": {},
   "source": [
    "## 행렬관련기능"
   ]
  },
  {
   "cell_type": "code",
   "execution_count": 219,
   "id": "642c8453-3cae-410c-a5db-b87bb5f5a4b7",
   "metadata": {},
   "outputs": [
    {
     "data": {
      "text/plain": [
       "array([[0, 1],\n",
       "       [2, 3]])"
      ]
     },
     "execution_count": 219,
     "metadata": {},
     "output_type": "execute_result"
    }
   ],
   "source": [
    "A=np.arange(4).reshape(2,2) \n",
    "A"
   ]
  },
  {
   "cell_type": "code",
   "execution_count": 220,
   "id": "6f6f4580-bf90-42be-9638-163bb8a761df",
   "metadata": {},
   "outputs": [
    {
     "data": {
      "text/plain": [
       "array([[0, 2],\n",
       "       [1, 3]])"
      ]
     },
     "execution_count": 220,
     "metadata": {},
     "output_type": "execute_result"
    }
   ],
   "source": [
    "A.T # .T는 전치행렬을 구해줌 "
   ]
  },
  {
   "cell_type": "code",
   "execution_count": 221,
   "id": "f1ad1530-4df0-49ee-af18-460fac01f585",
   "metadata": {},
   "outputs": [
    {
     "data": {
      "text/plain": [
       "array([[-1.5,  0.5],\n",
       "       [ 1. ,  0. ]])"
      ]
     },
     "execution_count": 221,
     "metadata": {},
     "output_type": "execute_result"
    }
   ],
   "source": [
    "np.linalg.inv(A) # np.linalg.inv는 역행렬을 구해주는 함수 "
   ]
  },
  {
   "cell_type": "code",
   "execution_count": 222,
   "id": "4e90a130-c711-49c5-9d30-2399bacac8e4",
   "metadata": {},
   "outputs": [
    {
     "data": {
      "text/plain": [
       "array([[1., 0.],\n",
       "       [0., 1.]])"
      ]
     },
     "execution_count": 222,
     "metadata": {},
     "output_type": "execute_result"
    }
   ],
   "source": [
    "A @ np.linalg.inv(A) # @는 행렬곱을 수행 "
   ]
  },
  {
   "cell_type": "markdown",
   "id": "a12ce112",
   "metadata": {},
   "source": [
    "## 차원 "
   ]
  },
  {
   "cell_type": "markdown",
   "id": "4e44f644",
   "metadata": {},
   "source": [
    "`-` 넘파이배열의 차원은 .shape 으로 확인가능 "
   ]
  },
  {
   "cell_type": "markdown",
   "id": "495f633c",
   "metadata": {},
   "source": [
    "`-` 아래는 모두 미묘하게 다르다. "
   ]
  },
  {
   "cell_type": "code",
   "execution_count": null,
   "id": "57d6ca91",
   "metadata": {},
   "outputs": [
    {
     "data": {
      "text/plain": [
       "(array(3.14), ())"
      ]
     },
     "metadata": {},
     "output_type": "display_data"
    }
   ],
   "source": [
    "a=np.array(3.14) # 스칼라, 0d array \n",
    "a, a.shape"
   ]
  },
  {
   "cell_type": "code",
   "execution_count": null,
   "id": "8ccda569",
   "metadata": {},
   "outputs": [
    {
     "data": {
      "text/plain": [
       "(array([3.14]), (1,))"
      ]
     },
     "metadata": {},
     "output_type": "display_data"
    }
   ],
   "source": [
    "a=np.array([3.14]) # 벡터, 1d array \n",
    "a, a.shape"
   ]
  },
  {
   "cell_type": "code",
   "execution_count": null,
   "id": "cd793e3a",
   "metadata": {},
   "outputs": [
    {
     "data": {
      "text/plain": [
       "(array([[3.14]]), (1, 1))"
      ]
     },
     "metadata": {},
     "output_type": "display_data"
    }
   ],
   "source": [
    "a=np.array([[3.14]]) # 매트릭스, 2d array \n",
    "a, a.shape"
   ]
  },
  {
   "cell_type": "code",
   "execution_count": null,
   "id": "573f62ea",
   "metadata": {},
   "outputs": [
    {
     "data": {
      "text/plain": [
       "(array([[[3.14]]]), (1, 1, 1))"
      ]
     },
     "metadata": {},
     "output_type": "display_data"
    }
   ],
   "source": [
    "a=np.array([[[3.14]]]) # 텐서, 3d array \n",
    "a, a.shape"
   ]
  },
  {
   "cell_type": "markdown",
   "id": "727cdf2a",
   "metadata": {},
   "source": [
    "# Quiz"
   ]
  },
  {
   "cell_type": "markdown",
   "id": "f1f6e2f8",
   "metadata": {},
   "source": [
    "`1`. shape이 ()인 numpy array를 만들어라. (즉 차원이 0인 np.array를 만들어라)"
   ]
  },
  {
   "cell_type": "markdown",
   "id": "c3c234ce",
   "metadata": {},
   "source": [
    "`2` a의 모든 원소에 1을 더하는 코드를 작성하라. (numpy를 이용할것)\n",
    "\n",
    "```python\n",
    "a=[1,3,2,5,-3,3,8,2,3,1] \n",
    "```"
   ]
  },
  {
   "cell_type": "markdown",
   "id": "df1467f0",
   "metadata": {},
   "source": [
    "`3` 아래와 같은 수열을 생생성하라. \n",
    "```\n",
    "0,1,2,3,4,5,...,99 \n",
    "```"
   ]
  },
  {
   "cell_type": "markdown",
   "id": "9a28cdae",
   "metadata": {},
   "source": [
    "위의 수열에서 1,4,7,10,13,... 번째의 원소를 뽑아서 아래와 같은 수열을 만들어라. (첫번째 원소는 0이다) "
   ]
  },
  {
   "cell_type": "markdown",
   "id": "329e0558",
   "metadata": {},
   "source": [
    "```\n",
    "0,3,6,9,12,...,93,96,99\n",
    "```"
   ]
  },
  {
   "cell_type": "markdown",
   "id": "412cffba",
   "metadata": {},
   "source": [
    "`4`. shape이 (5,5)인 단위행렬을 만들어라."
   ]
  },
  {
   "cell_type": "markdown",
   "id": "0a0dafc8",
   "metadata": {},
   "source": [
    "`5`. numpy를 이용하여 아래의 역행렬을 구하라. \n",
    "\n",
    "$$\\begin{bmatrix}\n",
    "1&  0 \\\\\n",
    "0&  3\n",
    "\\end{bmatrix}$$"
   ]
  },
  {
   "cell_type": "markdown",
   "id": "470c9e49",
   "metadata": {},
   "source": [
    "`6`. 본인의 생년월일로 랜덤시드를 설정하고 표준정규분포에서 1000개의 난수를 생성하라. \n",
    "\n",
    "```Python\n",
    "# 생년월일이 21년 07월 06일 이라면 아래와 같이 시드설정 \n",
    "np.random.seed(20210706)\n",
    "```"
   ]
  },
  {
   "cell_type": "markdown",
   "id": "147ca628",
   "metadata": {},
   "source": [
    "`7`. `6`의 결과로 나온 1000개의 난수중 1.96보다 크거나 -1.96보다 작은 작은값은 모두 몇개인가? "
   ]
  },
  {
   "cell_type": "markdown",
   "id": "918b2d63",
   "metadata": {},
   "source": [
    "`8`. 아래와 같은 배열을 선언하라. "
   ]
  },
  {
   "cell_type": "code",
   "execution_count": null,
   "id": "5c52e3d3",
   "metadata": {},
   "outputs": [
    {
     "data": {
      "text/plain": [
       "array([[ 0,  1,  2,  3],\n",
       "       [ 4,  5,  6,  7],\n",
       "       [ 8,  9, 10, 11]])"
      ]
     },
     "metadata": {},
     "output_type": "display_data"
    }
   ],
   "source": [
    "a=np.arange(12).reshape(3,4)\n",
    "a"
   ]
  },
  {
   "cell_type": "markdown",
   "id": "a3eca841",
   "metadata": {},
   "source": [
    "차원의 수를 유지하면서 1열을 추출하는 코드를 작성하라. 즉 결과가 아래와 같이 나오도록 하라. \n",
    "\n",
    "```\n",
    "array([[0],\n",
    "       [4],\n",
    "       [8]])\n",
    "```"
   ]
  },
  {
   "cell_type": "markdown",
   "id": "8ce73f43",
   "metadata": {},
   "source": [
    "`9`. 아래의 코드를 관찰하라."
   ]
  },
  {
   "cell_type": "code",
   "execution_count": null,
   "id": "8010f35a",
   "metadata": {},
   "outputs": [],
   "source": [
    "np.random.seed(43052)\n",
    "a=np.random.randint(low=20,high=25,size=(10,10))"
   ]
  },
  {
   "cell_type": "markdown",
   "id": "8881c085",
   "metadata": {},
   "source": [
    "a에서 20,21,22는 각각 몇개씩 있는가?"
   ]
  },
  {
   "cell_type": "markdown",
   "id": "b9131bdb",
   "metadata": {},
   "source": [
    "**note** 공부를 위하여 `np.random.randint()`의 기능을 chatGPT등으로 확인해 볼 것 "
   ]
  },
  {
   "cell_type": "markdown",
   "id": "89887a87",
   "metadata": {},
   "source": [
    "`10`. 아래의 코드를 관찰하라. "
   ]
  },
  {
   "cell_type": "code",
   "execution_count": null,
   "id": "7af40b08",
   "metadata": {},
   "outputs": [
    {
     "data": {
      "text/plain": [
       "[[True, False, False, False, False],\n",
       " [False, True, False, False, False],\n",
       " [False, False, True, False, False],\n",
       " [False, False, False, True, False],\n",
       " [False, False, False, False, True]]"
      ]
     },
     "metadata": {},
     "output_type": "display_data"
    }
   ],
   "source": [
    "lst = [[i==j for i in range(5)] for j in range(5)]\n",
    "lst"
   ]
  },
  {
   "cell_type": "markdown",
   "id": "f8ec083c",
   "metadata": {},
   "source": [
    "lst를 이용하여 shape이 (5,5)인 단위행렬을 만들어라. "
   ]
  },
  {
   "cell_type": "code",
   "execution_count": null,
   "id": "6fffe136",
   "metadata": {},
   "outputs": [
    {
     "data": {
      "text/plain": [
       "array([[1, 0, 0, 0, 0],\n",
       "       [0, 1, 0, 0, 0],\n",
       "       [0, 0, 1, 0, 0],\n",
       "       [0, 0, 0, 1, 0],\n",
       "       [0, 0, 0, 0, 1]])"
      ]
     },
     "metadata": {},
     "output_type": "display_data"
    }
   ],
   "source": [
    "# 출력결과는 아래와 같이 나와야 한다. "
   ]
  },
  {
   "cell_type": "markdown",
   "id": "6cf3526f",
   "metadata": {},
   "source": [
    "`12`. 적당한 코드를 이용하여 아래와 같은 리스트를 생성하라. "
   ]
  },
  {
   "cell_type": "code",
   "execution_count": null,
   "id": "39b1f1c4",
   "metadata": {},
   "outputs": [
    {
     "data": {
      "text/plain": [
       "[[0, 1, 2, 3, 4],\n",
       " [1, 2, 3, 4, 5],\n",
       " [2, 3, 4, 5, 6],\n",
       " [3, 4, 5, 6, 7],\n",
       " [4, 5, 6, 7, 8]]"
      ]
     },
     "metadata": {},
     "output_type": "display_data"
    }
   ],
   "source": [
    "lst"
   ]
  },
  {
   "cell_type": "markdown",
   "id": "d12bee28",
   "metadata": {},
   "source": [
    "이를 이용하여 아래와 같은 행렬을 선언하라. "
   ]
  },
  {
   "cell_type": "code",
   "execution_count": null,
   "id": "ca3fb698",
   "metadata": {},
   "outputs": [
    {
     "data": {
      "text/plain": [
       "array([[0, 1, 2, 3, 4],\n",
       "       [1, 2, 3, 4, 5],\n",
       "       [2, 3, 4, 5, 6],\n",
       "       [3, 4, 5, 6, 7],\n",
       "       [4, 5, 6, 7, 8]])"
      ]
     },
     "metadata": {},
     "output_type": "display_data"
    }
   ],
   "source": [
    "arr "
   ]
  },
  {
   "cell_type": "markdown",
   "id": "044387ca",
   "metadata": {},
   "source": [
    "`13`. 적당한 코드를 이용하여 아래와 같은 행렬을 선언하라. "
   ]
  },
  {
   "cell_type": "code",
   "execution_count": null,
   "id": "5e9d53b4",
   "metadata": {},
   "outputs": [
    {
     "data": {
      "text/plain": [
       "array([[1, 1, 0, 0, 0, 0, 0, 0, 0, 0],\n",
       "       [1, 1, 1, 0, 0, 0, 0, 0, 0, 0],\n",
       "       [0, 1, 1, 1, 0, 0, 0, 0, 0, 0],\n",
       "       [0, 0, 1, 1, 1, 0, 0, 0, 0, 0],\n",
       "       [0, 0, 0, 1, 1, 1, 0, 0, 0, 0],\n",
       "       [0, 0, 0, 0, 1, 1, 1, 0, 0, 0],\n",
       "       [0, 0, 0, 0, 0, 1, 1, 1, 0, 0],\n",
       "       [0, 0, 0, 0, 0, 0, 1, 1, 1, 0],\n",
       "       [0, 0, 0, 0, 0, 0, 0, 1, 1, 1],\n",
       "       [0, 0, 0, 0, 0, 0, 0, 0, 1, 1]])"
      ]
     },
     "metadata": {},
     "output_type": "display_data"
    }
   ],
   "source": [
    "# 출력결과는 아래와 같아야 한다."
   ]
  },
  {
   "cell_type": "markdown",
   "id": "7a7b50d6",
   "metadata": {},
   "source": [
    "`14`. 성공확률이 45%인 시행을 100번 반복하여 성공하면 True, 실패하면 False를 기록하는 난수열을 생성하라. "
   ]
  },
  {
   "cell_type": "markdown",
   "id": "47929207",
   "metadata": {},
   "source": [
    "**hint:** "
   ]
  },
  {
   "cell_type": "code",
   "execution_count": null,
   "id": "cc0063d3",
   "metadata": {},
   "outputs": [
    {
     "data": {
      "text/plain": [
       "0.1721011158345127"
      ]
     },
     "metadata": {},
     "output_type": "display_data"
    }
   ],
   "source": [
    "np.random.rand() # 0~1사이의 값이 임의로 생성"
   ]
  },
  {
   "cell_type": "code",
   "execution_count": null,
   "id": "321e7b9b",
   "metadata": {},
   "outputs": [
    {
     "data": {
      "text/plain": [
       "False"
      ]
     },
     "metadata": {},
     "output_type": "display_data"
    }
   ],
   "source": [
    "np.random.rand() < 0.45 # 0~1사이에 랜덤으로 생성된 값이 0.45보다 작다면 True를 리턴 "
   ]
  }
 ],
 "metadata": {
  "kernelspec": {
   "display_name": "Python 3 (ipykernel)",
   "language": "python",
   "name": "python3"
  },
  "language_info": {
   "codemirror_mode": {
    "name": "ipython",
    "version": 3
   },
   "file_extension": ".py",
   "mimetype": "text/x-python",
   "name": "python",
   "nbconvert_exporter": "python",
   "pygments_lexer": "ipython3",
   "version": "3.10.12"
  }
 },
 "nbformat": 4,
 "nbformat_minor": 5
}
