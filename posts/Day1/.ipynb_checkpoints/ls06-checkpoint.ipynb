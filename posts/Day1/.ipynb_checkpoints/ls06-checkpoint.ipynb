{
 "cells": [
  {
   "cell_type": "raw",
   "id": "db555da5-37b6-42f6-bfbe-fe9b3c0a02f9",
   "metadata": {
    "tags": []
   },
   "source": [
    "---\n",
    "title: \"Lesson 06: numpy 공부 3단계\"\n",
    "author: \"최규빈\"\n",
    "date: \"07/24/2023\"\n",
    "---"
   ]
  },
  {
   "cell_type": "markdown",
   "id": "77e427e3-aadb-4e09-892b-6ec52b8baaf0",
   "metadata": {},
   "source": [
    "<a href=\"https://colab.research.google.com/github/guebin/PP2023SUM/blob/main/posts/Day1/02_Numpy/ls07.ipynb\"><img src=\"https://colab.research.google.com/assets/colab-badge.svg\" style=\"text-align: left\"></a>"
   ]
  },
  {
   "cell_type": "markdown",
   "id": "96547ef3-2a25-420f-9e6a-0a04c82557dd",
   "metadata": {},
   "source": [
    "# imports "
   ]
  },
  {
   "cell_type": "code",
   "execution_count": 2,
   "id": "c4a2c671-67bb-4247-93ee-12eaf3e8d3ae",
   "metadata": {},
   "outputs": [],
   "source": [
    "import numpy as np"
   ]
  },
  {
   "cell_type": "markdown",
   "id": "e4c53e53-a19e-4c8b-985b-e1bdccf10e37",
   "metadata": {},
   "source": [
    "# 넘파이 공부 3단계"
   ]
  },
  {
   "cell_type": "markdown",
   "id": "cf97c370-64a3-4b2e-8da9-b2aeb24ad894",
   "metadata": {},
   "source": [
    "`-` 목표: 넘파이의 axis를 이해하여 보자. "
   ]
  },
  {
   "cell_type": "markdown",
   "id": "3d4058b1-519b-4bd6-9077-7b7b135be586",
   "metadata": {},
   "source": [
    "## np.concatenate"
   ]
  },
  {
   "cell_type": "markdown",
   "id": "ad075910-9c37-429f-92c7-c43cf05d1a45",
   "metadata": {},
   "source": [
    "`-` 기본예제 "
   ]
  },
  {
   "cell_type": "code",
   "execution_count": 53,
   "id": "7f5c3986-9b1d-4ae3-9b72-905d0077d8f0",
   "metadata": {},
   "outputs": [],
   "source": [
    "a=np.array([1,2]) \n",
    "b=-a"
   ]
  },
  {
   "cell_type": "code",
   "execution_count": 56,
   "id": "8780358a-324d-47e8-b965-87b05007116d",
   "metadata": {},
   "outputs": [
    {
     "data": {
      "text/plain": [
       "array([ 1,  2, -1, -2])"
      ]
     },
     "execution_count": 56,
     "metadata": {},
     "output_type": "execute_result"
    }
   ],
   "source": [
    "np.concatenate([a,b]) "
   ]
  },
  {
   "cell_type": "markdown",
   "id": "be4c99f6-4b10-4bb3-aa55-50436e343ebc",
   "metadata": {},
   "source": [
    "`-` 응용 "
   ]
  },
  {
   "cell_type": "code",
   "execution_count": 57,
   "id": "6ed1e58f-c53a-45f7-bef6-dbff8f7bf8ca",
   "metadata": {},
   "outputs": [],
   "source": [
    "a=np.array([1,2])\n",
    "b=-a \n",
    "c=np.array([3,4,5])"
   ]
  },
  {
   "cell_type": "code",
   "execution_count": 58,
   "id": "9c2e6f38-7b5c-4421-867c-56fef1015812",
   "metadata": {},
   "outputs": [
    {
     "data": {
      "text/plain": [
       "array([ 1,  2, -1, -2,  3,  4,  5])"
      ]
     },
     "execution_count": 58,
     "metadata": {},
     "output_type": "execute_result"
    }
   ],
   "source": [
    "np.concatenate([a,b,c])"
   ]
  },
  {
   "cell_type": "markdown",
   "id": "db8b8482-bed3-48a0-af30-fc50151aae78",
   "metadata": {},
   "source": [
    "- 여기까진 딱히 칸캐터네이트의 메리트가 없어보임\n",
    "- 리스트였다면 a+b+c 하면 되는 기능이니까? "
   ]
  },
  {
   "cell_type": "markdown",
   "id": "ca6fc614-e1e9-43f8-80f5-6959fa182ef7",
   "metadata": {},
   "source": [
    "`-` 2d array에 적용해보자. "
   ]
  },
  {
   "cell_type": "code",
   "execution_count": 61,
   "id": "531d1db9-ded8-42cc-aae0-4e024af5bcd4",
   "metadata": {},
   "outputs": [],
   "source": [
    "a=np.arange(4).reshape(2,2) \n",
    "b=-a"
   ]
  },
  {
   "cell_type": "code",
   "execution_count": 62,
   "id": "2d7ec281-20b8-4c48-9665-90ccce842cfe",
   "metadata": {},
   "outputs": [
    {
     "data": {
      "text/plain": [
       "array([[ 0,  1],\n",
       "       [ 2,  3],\n",
       "       [ 0, -1],\n",
       "       [-2, -3]])"
      ]
     },
     "execution_count": 62,
     "metadata": {},
     "output_type": "execute_result"
    }
   ],
   "source": [
    "np.concatenate([a,b]) "
   ]
  },
  {
   "cell_type": "markdown",
   "id": "1be49608-c8ff-47c3-b7a1-0cb425a8db03",
   "metadata": {},
   "source": [
    "`-` 옆으로 붙일려면? "
   ]
  },
  {
   "cell_type": "code",
   "execution_count": 63,
   "id": "8302a372-c5c6-4861-befb-cc0c40420baa",
   "metadata": {},
   "outputs": [
    {
     "data": {
      "text/plain": [
       "array([[ 0,  1,  0, -1],\n",
       "       [ 2,  3, -2, -3]])"
      ]
     },
     "execution_count": 63,
     "metadata": {},
     "output_type": "execute_result"
    }
   ],
   "source": [
    "np.concatenate([a,b],axis=1)"
   ]
  },
  {
   "cell_type": "markdown",
   "id": "83eeb66f-dfdb-439c-89d0-6a52518f1bec",
   "metadata": {},
   "source": [
    "`-` 위의 코드에서 axis=1 이 뭐지? axis=0,2 등을 치면 결과가 어떻게 될까? "
   ]
  },
  {
   "cell_type": "code",
   "execution_count": 64,
   "id": "bc5e516a-dcae-4a27-af2a-9f6a5c25b6fd",
   "metadata": {},
   "outputs": [
    {
     "data": {
      "text/plain": [
       "array([[ 0,  1],\n",
       "       [ 2,  3],\n",
       "       [ 0, -1],\n",
       "       [-2, -3]])"
      ]
     },
     "execution_count": 64,
     "metadata": {},
     "output_type": "execute_result"
    }
   ],
   "source": [
    "np.concatenate([a,b],axis=0)"
   ]
  },
  {
   "cell_type": "markdown",
   "id": "e4e8a097-2375-47ec-8d09-b69655309c19",
   "metadata": {},
   "source": [
    "- 이건 그냥 np.concatenate([a,b])와 같다. \n",
    "- np.concatenate([a,b])는 np.concatenate([a,b],axis=0)의 생략버전이군? "
   ]
  },
  {
   "cell_type": "code",
   "execution_count": 65,
   "id": "37d10b18-f9b8-4fcc-a7d6-99df849fb1c1",
   "metadata": {},
   "outputs": [
    {
     "ename": "AxisError",
     "evalue": "axis 2 is out of bounds for array of dimension 2",
     "output_type": "error",
     "traceback": [
      "\u001b[0;31m---------------------------------------------------------------------------\u001b[0m",
      "\u001b[0;31mAxisError\u001b[0m                                 Traceback (most recent call last)",
      "Input \u001b[0;32mIn [65]\u001b[0m, in \u001b[0;36m<cell line: 1>\u001b[0;34m()\u001b[0m\n\u001b[0;32m----> 1\u001b[0m \u001b[43mnp\u001b[49m\u001b[38;5;241;43m.\u001b[39;49m\u001b[43mconcatenate\u001b[49m\u001b[43m(\u001b[49m\u001b[43m[\u001b[49m\u001b[43ma\u001b[49m\u001b[43m,\u001b[49m\u001b[43mb\u001b[49m\u001b[43m]\u001b[49m\u001b[43m,\u001b[49m\u001b[43maxis\u001b[49m\u001b[38;5;241;43m=\u001b[39;49m\u001b[38;5;241;43m2\u001b[39;49m\u001b[43m)\u001b[49m\n",
      "File \u001b[0;32m<__array_function__ internals>:5\u001b[0m, in \u001b[0;36mconcatenate\u001b[0;34m(*args, **kwargs)\u001b[0m\n",
      "\u001b[0;31mAxisError\u001b[0m: axis 2 is out of bounds for array of dimension 2"
     ]
    }
   ],
   "source": [
    "np.concatenate([a,b],axis=2)"
   ]
  },
  {
   "cell_type": "markdown",
   "id": "c918ff04-8d38-4404-a147-b2b18c26ef64",
   "metadata": {},
   "source": [
    "- 이런건 없다. "
   ]
  },
  {
   "cell_type": "markdown",
   "id": "d7a41c46-f96d-42cc-b6f7-6816e7735f0d",
   "metadata": {},
   "source": [
    "`-` axis의 의미가 뭔지 궁금함. 좀 더 예제를 살펴보자. "
   ]
  },
  {
   "cell_type": "code",
   "execution_count": 68,
   "id": "edaca1f5-1204-4d46-afd2-989390fb8191",
   "metadata": {},
   "outputs": [
    {
     "data": {
      "text/plain": [
       "array([[[ 0,  1,  2,  3],\n",
       "        [ 4,  5,  6,  7],\n",
       "        [ 8,  9, 10, 11]],\n",
       "\n",
       "       [[12, 13, 14, 15],\n",
       "        [16, 17, 18, 19],\n",
       "        [20, 21, 22, 23]]])"
      ]
     },
     "execution_count": 68,
     "metadata": {},
     "output_type": "execute_result"
    }
   ],
   "source": [
    "a=np.array(range(2*3*4)).reshape(2,3,4)\n",
    "a"
   ]
  },
  {
   "cell_type": "code",
   "execution_count": 69,
   "id": "4698e4c5-7767-4a18-b873-cc1f343c0b63",
   "metadata": {},
   "outputs": [
    {
     "data": {
      "text/plain": [
       "array([[[  0,  -1,  -2,  -3],\n",
       "        [ -4,  -5,  -6,  -7],\n",
       "        [ -8,  -9, -10, -11]],\n",
       "\n",
       "       [[-12, -13, -14, -15],\n",
       "        [-16, -17, -18, -19],\n",
       "        [-20, -21, -22, -23]]])"
      ]
     },
     "execution_count": 69,
     "metadata": {},
     "output_type": "execute_result"
    }
   ],
   "source": [
    "b=-a\n",
    "b"
   ]
  },
  {
   "cell_type": "code",
   "execution_count": 70,
   "id": "1d95bf56-f92c-4667-9715-7d757434faa6",
   "metadata": {},
   "outputs": [
    {
     "data": {
      "text/plain": [
       "array([[[  0,   1,   2,   3],\n",
       "        [  4,   5,   6,   7],\n",
       "        [  8,   9,  10,  11]],\n",
       "\n",
       "       [[ 12,  13,  14,  15],\n",
       "        [ 16,  17,  18,  19],\n",
       "        [ 20,  21,  22,  23]],\n",
       "\n",
       "       [[  0,  -1,  -2,  -3],\n",
       "        [ -4,  -5,  -6,  -7],\n",
       "        [ -8,  -9, -10, -11]],\n",
       "\n",
       "       [[-12, -13, -14, -15],\n",
       "        [-16, -17, -18, -19],\n",
       "        [-20, -21, -22, -23]]])"
      ]
     },
     "execution_count": 70,
     "metadata": {},
     "output_type": "execute_result"
    }
   ],
   "source": [
    "np.concatenate([a,b],axis=0) "
   ]
  },
  {
   "cell_type": "code",
   "execution_count": 72,
   "id": "623d87d6-3c0c-44b4-b5f3-ce7567cd396a",
   "metadata": {},
   "outputs": [
    {
     "data": {
      "text/plain": [
       "array([[[  0,   1,   2,   3],\n",
       "        [  4,   5,   6,   7],\n",
       "        [  8,   9,  10,  11],\n",
       "        [  0,  -1,  -2,  -3],\n",
       "        [ -4,  -5,  -6,  -7],\n",
       "        [ -8,  -9, -10, -11]],\n",
       "\n",
       "       [[ 12,  13,  14,  15],\n",
       "        [ 16,  17,  18,  19],\n",
       "        [ 20,  21,  22,  23],\n",
       "        [-12, -13, -14, -15],\n",
       "        [-16, -17, -18, -19],\n",
       "        [-20, -21, -22, -23]]])"
      ]
     },
     "execution_count": 72,
     "metadata": {},
     "output_type": "execute_result"
    }
   ],
   "source": [
    "np.concatenate([a,b],axis=1) "
   ]
  },
  {
   "cell_type": "code",
   "execution_count": 73,
   "id": "7db69480-7d80-4c62-ab4c-908b1e914113",
   "metadata": {},
   "outputs": [
    {
     "data": {
      "text/plain": [
       "array([[[  0,   1,   2,   3,   0,  -1,  -2,  -3],\n",
       "        [  4,   5,   6,   7,  -4,  -5,  -6,  -7],\n",
       "        [  8,   9,  10,  11,  -8,  -9, -10, -11]],\n",
       "\n",
       "       [[ 12,  13,  14,  15, -12, -13, -14, -15],\n",
       "        [ 16,  17,  18,  19, -16, -17, -18, -19],\n",
       "        [ 20,  21,  22,  23, -20, -21, -22, -23]]])"
      ]
     },
     "execution_count": 73,
     "metadata": {},
     "output_type": "execute_result"
    }
   ],
   "source": [
    "np.concatenate([a,b],axis=2) "
   ]
  },
  {
   "cell_type": "markdown",
   "id": "1255b763-1348-4f8a-a624-e0ceb95e3e3e",
   "metadata": {},
   "source": [
    "- 이번에는 axis=2까지 된다? "
   ]
  },
  {
   "cell_type": "code",
   "execution_count": 75,
   "id": "8335898a-ccd3-48ea-b1ac-a9ed1436207f",
   "metadata": {},
   "outputs": [
    {
     "ename": "AxisError",
     "evalue": "axis 3 is out of bounds for array of dimension 3",
     "output_type": "error",
     "traceback": [
      "\u001b[0;31m---------------------------------------------------------------------------\u001b[0m",
      "\u001b[0;31mAxisError\u001b[0m                                 Traceback (most recent call last)",
      "Input \u001b[0;32mIn [75]\u001b[0m, in \u001b[0;36m<cell line: 1>\u001b[0;34m()\u001b[0m\n\u001b[0;32m----> 1\u001b[0m \u001b[43mnp\u001b[49m\u001b[38;5;241;43m.\u001b[39;49m\u001b[43mconcatenate\u001b[49m\u001b[43m(\u001b[49m\u001b[43m[\u001b[49m\u001b[43ma\u001b[49m\u001b[43m,\u001b[49m\u001b[43mb\u001b[49m\u001b[43m]\u001b[49m\u001b[43m,\u001b[49m\u001b[43maxis\u001b[49m\u001b[38;5;241;43m=\u001b[39;49m\u001b[38;5;241;43m3\u001b[39;49m\u001b[43m)\u001b[49m\n",
      "File \u001b[0;32m<__array_function__ internals>:5\u001b[0m, in \u001b[0;36mconcatenate\u001b[0;34m(*args, **kwargs)\u001b[0m\n",
      "\u001b[0;31mAxisError\u001b[0m: axis 3 is out of bounds for array of dimension 3"
     ]
    }
   ],
   "source": [
    "np.concatenate([a,b],axis=3) "
   ]
  },
  {
   "cell_type": "markdown",
   "id": "f21f5d85-cf58-4c7d-8f43-a23397216730",
   "metadata": {},
   "source": [
    "- axis=3까지는 안된다? "
   ]
  },
  {
   "cell_type": "markdown",
   "id": "0957319d-38f6-4776-8b02-425cd5d9f9f5",
   "metadata": {},
   "source": [
    "`-` 뭔가 나름의 방식으로 합쳐지는데 원리가 뭘까? "
   ]
  },
  {
   "cell_type": "markdown",
   "id": "b0b1a34c-f7e0-453c-a06d-a560e1180c2f",
   "metadata": {},
   "source": [
    "(분석1) np.concatenate([a,b],axis=0) "
   ]
  },
  {
   "cell_type": "code",
   "execution_count": 80,
   "id": "5c143f84-ec3b-4baa-a586-7d821127ea41",
   "metadata": {},
   "outputs": [],
   "source": [
    "a=np.array(range(2*3*4)).reshape(2,3,4) \n",
    "b=-a "
   ]
  },
  {
   "cell_type": "code",
   "execution_count": 86,
   "id": "7bea044d-9f8c-4450-a654-aa230e78c45b",
   "metadata": {},
   "outputs": [
    {
     "data": {
      "text/plain": [
       "((2, 3, 4), (2, 3, 4), (4, 3, 4))"
      ]
     },
     "execution_count": 86,
     "metadata": {},
     "output_type": "execute_result"
    }
   ],
   "source": [
    "a.shape, b.shape, np.concatenate([a,b],axis=0).shape"
   ]
  },
  {
   "cell_type": "markdown",
   "id": "3f1edf74-2d3c-436d-acbe-ce8de7397079",
   "metadata": {},
   "source": [
    "- 첫번째차원이 바뀌었다 => 첫번째 축이 바뀌었다 => axis=0 (파이썬은 0부터 시작하니까!) "
   ]
  },
  {
   "cell_type": "markdown",
   "id": "5709e6e0-93bc-4ae8-b4d2-8c45059e9bb8",
   "metadata": {},
   "source": [
    "(분석2) np.concatenate([a,b],axis=1) "
   ]
  },
  {
   "cell_type": "code",
   "execution_count": 88,
   "id": "ebdb2a12-7119-4386-bd8f-4009be840c9e",
   "metadata": {},
   "outputs": [],
   "source": [
    "a=np.array(range(2*3*4)).reshape(2,3,4) \n",
    "b=-a "
   ]
  },
  {
   "cell_type": "code",
   "execution_count": 89,
   "id": "58d41012-d05e-4812-8206-7bde5d01f764",
   "metadata": {},
   "outputs": [
    {
     "data": {
      "text/plain": [
       "((2, 3, 4), (2, 3, 4), (2, 6, 4))"
      ]
     },
     "execution_count": 89,
     "metadata": {},
     "output_type": "execute_result"
    }
   ],
   "source": [
    "a.shape, b.shape, np.concatenate([a,b],axis=1).shape"
   ]
  },
  {
   "cell_type": "markdown",
   "id": "fd141fa0-9d9b-474f-9306-fef75190b9db",
   "metadata": {},
   "source": [
    "- 두번째차원이 바뀌었다 => 두번째 축이 바뀌었다 => axis=1"
   ]
  },
  {
   "cell_type": "markdown",
   "id": "85220403-2a2d-4f80-b9ea-e0f2af4d9c05",
   "metadata": {},
   "source": [
    "(분석3) np.concatenate([a,b],axis=2) "
   ]
  },
  {
   "cell_type": "code",
   "execution_count": 90,
   "id": "225caccb-6140-4943-9c2c-a505b67b0b8b",
   "metadata": {},
   "outputs": [],
   "source": [
    "a=np.array(range(2*3*4)).reshape(2,3,4) \n",
    "b=-a "
   ]
  },
  {
   "cell_type": "code",
   "execution_count": 92,
   "id": "e4d12427-11e2-48b7-a2ba-4b00b274ebcf",
   "metadata": {},
   "outputs": [
    {
     "data": {
      "text/plain": [
       "((2, 3, 4), (2, 3, 4), (2, 3, 8))"
      ]
     },
     "execution_count": 92,
     "metadata": {},
     "output_type": "execute_result"
    }
   ],
   "source": [
    "a.shape, b.shape, np.concatenate([a,b],axis=2).shape"
   ]
  },
  {
   "cell_type": "markdown",
   "id": "00fbf9cb-9f9d-4543-b422-b6409957c3d4",
   "metadata": {},
   "source": [
    "- 세번째차원이 바뀌었다 => 세번째 축이 바뀌었다 => axis=2"
   ]
  },
  {
   "cell_type": "markdown",
   "id": "56889475-b4be-4148-8b3f-362b44340566",
   "metadata": {},
   "source": [
    "(분석4) np.concatenate([a,b],axis=3) "
   ]
  },
  {
   "cell_type": "code",
   "execution_count": 94,
   "id": "35357cff-31aa-4a22-8e76-32dbf6246788",
   "metadata": {},
   "outputs": [],
   "source": [
    "a=np.array(range(2*3*4)).reshape(2,3,4) \n",
    "b=-a "
   ]
  },
  {
   "cell_type": "code",
   "execution_count": 95,
   "id": "b5cecfdb-24ec-4952-928d-7bb4016c747f",
   "metadata": {},
   "outputs": [
    {
     "ename": "AxisError",
     "evalue": "axis 3 is out of bounds for array of dimension 3",
     "output_type": "error",
     "traceback": [
      "\u001b[0;31m---------------------------------------------------------------------------\u001b[0m",
      "\u001b[0;31mAxisError\u001b[0m                                 Traceback (most recent call last)",
      "Input \u001b[0;32mIn [95]\u001b[0m, in \u001b[0;36m<cell line: 1>\u001b[0;34m()\u001b[0m\n\u001b[0;32m----> 1\u001b[0m a\u001b[38;5;241m.\u001b[39mshape, b\u001b[38;5;241m.\u001b[39mshape, \u001b[43mnp\u001b[49m\u001b[38;5;241;43m.\u001b[39;49m\u001b[43mconcatenate\u001b[49m\u001b[43m(\u001b[49m\u001b[43m[\u001b[49m\u001b[43ma\u001b[49m\u001b[43m,\u001b[49m\u001b[43mb\u001b[49m\u001b[43m]\u001b[49m\u001b[43m,\u001b[49m\u001b[43maxis\u001b[49m\u001b[38;5;241;43m=\u001b[39;49m\u001b[38;5;241;43m3\u001b[39;49m\u001b[43m)\u001b[49m\u001b[38;5;241m.\u001b[39mshape\n",
      "File \u001b[0;32m<__array_function__ internals>:5\u001b[0m, in \u001b[0;36mconcatenate\u001b[0;34m(*args, **kwargs)\u001b[0m\n",
      "\u001b[0;31mAxisError\u001b[0m: axis 3 is out of bounds for array of dimension 3"
     ]
    }
   ],
   "source": [
    "a.shape, b.shape, np.concatenate([a,b],axis=3).shape"
   ]
  },
  {
   "cell_type": "markdown",
   "id": "8ea6b7db-e4a0-47f9-a59d-a15a404f1b3e",
   "metadata": {},
   "source": [
    "- 네번째차원이 없다 => 네번째 축이 없다 => axis=3으로 하면 에러가 난다. "
   ]
  },
  {
   "cell_type": "markdown",
   "id": "5c5ae5dd-d9c0-4357-a30f-0e5b611c360b",
   "metadata": {},
   "source": [
    "(보너스1) "
   ]
  },
  {
   "cell_type": "code",
   "execution_count": 99,
   "id": "e1dede62-9671-4980-8d7b-14419d5743b4",
   "metadata": {},
   "outputs": [],
   "source": [
    "a=np.array(range(2*3*4)).reshape(2,3,4) \n",
    "b=-a "
   ]
  },
  {
   "cell_type": "code",
   "execution_count": 101,
   "id": "3bcde92f-4b88-4786-8c71-026dbd7d1fa9",
   "metadata": {},
   "outputs": [
    {
     "data": {
      "text/plain": [
       "array([[[  0,   1,   2,   3,   0,  -1,  -2,  -3],\n",
       "        [  4,   5,   6,   7,  -4,  -5,  -6,  -7],\n",
       "        [  8,   9,  10,  11,  -8,  -9, -10, -11]],\n",
       "\n",
       "       [[ 12,  13,  14,  15, -12, -13, -14, -15],\n",
       "        [ 16,  17,  18,  19, -16, -17, -18, -19],\n",
       "        [ 20,  21,  22,  23, -20, -21, -22, -23]]])"
      ]
     },
     "execution_count": 101,
     "metadata": {},
     "output_type": "execute_result"
    }
   ],
   "source": [
    "np.concatenate([a,b],axis=-1)"
   ]
  },
  {
   "cell_type": "code",
   "execution_count": 100,
   "id": "1bcd4e0f-46e8-47e4-a614-cc5a3eef5890",
   "metadata": {},
   "outputs": [
    {
     "data": {
      "text/plain": [
       "((2, 3, 4), (2, 3, 4), (2, 3, 8))"
      ]
     },
     "execution_count": 100,
     "metadata": {},
     "output_type": "execute_result"
    }
   ],
   "source": [
    "a.shape, b.shape, np.concatenate([a,b],axis=-1).shape"
   ]
  },
  {
   "cell_type": "markdown",
   "id": "1f849708-bb9d-451c-bd19-c7e0c64351ac",
   "metadata": {},
   "source": [
    "- 마지막 차원이 바뀌었다 => 마지막 축이 바뀌었다 => axis = -1 "
   ]
  },
  {
   "cell_type": "markdown",
   "id": "40b5a7e1-ccb7-4eef-84aa-846c831fcc85",
   "metadata": {},
   "source": [
    "(보너스2) "
   ]
  },
  {
   "cell_type": "code",
   "execution_count": 107,
   "id": "bf8315fd-a7d4-4deb-b516-b50995c46a3b",
   "metadata": {},
   "outputs": [],
   "source": [
    "a=np.array(range(2*3*4)).reshape(2,3,4) \n",
    "b=-a "
   ]
  },
  {
   "cell_type": "code",
   "execution_count": 108,
   "id": "7cf8d7e1-33ae-4756-be14-3ec77dd88cf2",
   "metadata": {},
   "outputs": [
    {
     "data": {
      "text/plain": [
       "array([[[  0,   1,   2,   3],\n",
       "        [  4,   5,   6,   7],\n",
       "        [  8,   9,  10,  11],\n",
       "        [  0,  -1,  -2,  -3],\n",
       "        [ -4,  -5,  -6,  -7],\n",
       "        [ -8,  -9, -10, -11]],\n",
       "\n",
       "       [[ 12,  13,  14,  15],\n",
       "        [ 16,  17,  18,  19],\n",
       "        [ 20,  21,  22,  23],\n",
       "        [-12, -13, -14, -15],\n",
       "        [-16, -17, -18, -19],\n",
       "        [-20, -21, -22, -23]]])"
      ]
     },
     "execution_count": 108,
     "metadata": {},
     "output_type": "execute_result"
    }
   ],
   "source": [
    "np.concatenate([a,b],axis=-2)"
   ]
  },
  {
   "cell_type": "code",
   "execution_count": 109,
   "id": "9c696517-a26f-4054-8e3c-b6b7991014e5",
   "metadata": {},
   "outputs": [
    {
     "data": {
      "text/plain": [
       "((2, 3, 4), (2, 3, 4), (2, 6, 4))"
      ]
     },
     "execution_count": 109,
     "metadata": {},
     "output_type": "execute_result"
    }
   ],
   "source": [
    "a.shape, b.shape, np.concatenate([a,b],axis=-2).shape"
   ]
  },
  {
   "cell_type": "markdown",
   "id": "91abe2dc-c4a1-498c-b556-04816a1ecc7f",
   "metadata": {},
   "source": [
    "- 마지막에서 2번째 차원이 바뀌었다 => 마지막에서 2번째 축이 바뀌었다 => axis = -2 "
   ]
  },
  {
   "cell_type": "markdown",
   "id": "e4052348-b0bd-4160-9cbc-50b6e97a126f",
   "metadata": {},
   "source": [
    "(보너스3) "
   ]
  },
  {
   "cell_type": "code",
   "execution_count": 110,
   "id": "ca02d56c-fd44-4da2-b080-fcb616a556b9",
   "metadata": {},
   "outputs": [],
   "source": [
    "a=np.array(range(2*3*4)).reshape(2,3,4) \n",
    "b=-a "
   ]
  },
  {
   "cell_type": "code",
   "execution_count": 111,
   "id": "def662c8-4ddc-4ae2-8a6e-c1ce4fd1238a",
   "metadata": {},
   "outputs": [
    {
     "data": {
      "text/plain": [
       "array([[[  0,   1,   2,   3],\n",
       "        [  4,   5,   6,   7],\n",
       "        [  8,   9,  10,  11]],\n",
       "\n",
       "       [[ 12,  13,  14,  15],\n",
       "        [ 16,  17,  18,  19],\n",
       "        [ 20,  21,  22,  23]],\n",
       "\n",
       "       [[  0,  -1,  -2,  -3],\n",
       "        [ -4,  -5,  -6,  -7],\n",
       "        [ -8,  -9, -10, -11]],\n",
       "\n",
       "       [[-12, -13, -14, -15],\n",
       "        [-16, -17, -18, -19],\n",
       "        [-20, -21, -22, -23]]])"
      ]
     },
     "execution_count": 111,
     "metadata": {},
     "output_type": "execute_result"
    }
   ],
   "source": [
    "np.concatenate([a,b],axis=-3)"
   ]
  },
  {
   "cell_type": "code",
   "execution_count": 112,
   "id": "88593722-3496-4799-bf8a-2a9cbb2e096c",
   "metadata": {},
   "outputs": [
    {
     "data": {
      "text/plain": [
       "((2, 3, 4), (2, 3, 4), (4, 3, 4))"
      ]
     },
     "execution_count": 112,
     "metadata": {},
     "output_type": "execute_result"
    }
   ],
   "source": [
    "a.shape, b.shape, np.concatenate([a,b],axis=-3).shape"
   ]
  },
  {
   "cell_type": "markdown",
   "id": "a6ba35a4-9188-4eaf-aae6-5e573131cfb0",
   "metadata": {},
   "source": [
    "- 마지막에서 3번째 차원이 바뀌었다 => 마지막에서 3번째 축이 바뀌었다 => axis = -3 "
   ]
  },
  {
   "cell_type": "markdown",
   "id": "e7c805cd-3ad6-4acc-87fb-f8c01f120531",
   "metadata": {},
   "source": [
    "(보너스3) "
   ]
  },
  {
   "cell_type": "code",
   "execution_count": 114,
   "id": "f8d9108c-6e3e-418b-a300-3dc59e8aa2a6",
   "metadata": {},
   "outputs": [],
   "source": [
    "a=np.array(range(2*3*4)).reshape(2,3,4) \n",
    "b=-a "
   ]
  },
  {
   "cell_type": "code",
   "execution_count": 115,
   "id": "251abf15-45da-4514-b01a-f2c0b0e17e48",
   "metadata": {},
   "outputs": [
    {
     "ename": "AxisError",
     "evalue": "axis -4 is out of bounds for array of dimension 3",
     "output_type": "error",
     "traceback": [
      "\u001b[0;31m---------------------------------------------------------------------------\u001b[0m",
      "\u001b[0;31mAxisError\u001b[0m                                 Traceback (most recent call last)",
      "Input \u001b[0;32mIn [115]\u001b[0m, in \u001b[0;36m<cell line: 1>\u001b[0;34m()\u001b[0m\n\u001b[0;32m----> 1\u001b[0m \u001b[43mnp\u001b[49m\u001b[38;5;241;43m.\u001b[39;49m\u001b[43mconcatenate\u001b[49m\u001b[43m(\u001b[49m\u001b[43m[\u001b[49m\u001b[43ma\u001b[49m\u001b[43m,\u001b[49m\u001b[43mb\u001b[49m\u001b[43m]\u001b[49m\u001b[43m,\u001b[49m\u001b[43maxis\u001b[49m\u001b[38;5;241;43m=\u001b[39;49m\u001b[38;5;241;43m-\u001b[39;49m\u001b[38;5;241;43m4\u001b[39;49m\u001b[43m)\u001b[49m\n",
      "File \u001b[0;32m<__array_function__ internals>:5\u001b[0m, in \u001b[0;36mconcatenate\u001b[0;34m(*args, **kwargs)\u001b[0m\n",
      "\u001b[0;31mAxisError\u001b[0m: axis -4 is out of bounds for array of dimension 3"
     ]
    }
   ],
   "source": [
    "np.concatenate([a,b],axis=-4)"
   ]
  },
  {
   "cell_type": "markdown",
   "id": "ae1bebfc-5d13-43fc-a519-42fb1b288ba5",
   "metadata": {},
   "source": [
    "- 마지막에서 4번째 차원은 없다 => 마지막에서 4번째 축이 없다 => axis = -4는 에러가 난다. "
   ]
  },
  {
   "cell_type": "markdown",
   "id": "506765fe-4938-41bd-b051-ebcaf36649b8",
   "metadata": {},
   "source": [
    "`-` 0차원은 축이 없으므로 concatenate를 쓸 수 없다. "
   ]
  },
  {
   "cell_type": "code",
   "execution_count": 125,
   "id": "a4f849d2-1898-4028-92a4-d3e7b632d155",
   "metadata": {},
   "outputs": [],
   "source": [
    "a= np.array(1)\n",
    "b= np.array(-1) "
   ]
  },
  {
   "cell_type": "code",
   "execution_count": 126,
   "id": "1a4b96f4-3d0e-4e15-bacc-1a41c93fb4b9",
   "metadata": {},
   "outputs": [
    {
     "data": {
      "text/plain": [
       "((), ())"
      ]
     },
     "execution_count": 126,
     "metadata": {},
     "output_type": "execute_result"
    }
   ],
   "source": [
    "a.shape, b.shape"
   ]
  },
  {
   "cell_type": "code",
   "execution_count": 127,
   "id": "e3b5f961-ca20-4b86-851e-a16fa9aa015e",
   "metadata": {},
   "outputs": [
    {
     "ename": "ValueError",
     "evalue": "zero-dimensional arrays cannot be concatenated",
     "output_type": "error",
     "traceback": [
      "\u001b[0;31m---------------------------------------------------------------------------\u001b[0m",
      "\u001b[0;31mValueError\u001b[0m                                Traceback (most recent call last)",
      "Input \u001b[0;32mIn [127]\u001b[0m, in \u001b[0;36m<cell line: 1>\u001b[0;34m()\u001b[0m\n\u001b[0;32m----> 1\u001b[0m \u001b[43mnp\u001b[49m\u001b[38;5;241;43m.\u001b[39;49m\u001b[43mconcatenate\u001b[49m\u001b[43m(\u001b[49m\u001b[43m[\u001b[49m\u001b[43ma\u001b[49m\u001b[43m,\u001b[49m\u001b[43mb\u001b[49m\u001b[43m]\u001b[49m\u001b[43m)\u001b[49m\n",
      "File \u001b[0;32m<__array_function__ internals>:5\u001b[0m, in \u001b[0;36mconcatenate\u001b[0;34m(*args, **kwargs)\u001b[0m\n",
      "\u001b[0;31mValueError\u001b[0m: zero-dimensional arrays cannot be concatenated"
     ]
    }
   ],
   "source": [
    "np.concatenate([a,b])"
   ]
  },
  {
   "cell_type": "markdown",
   "id": "1fa5d482-abcf-4873-a5ff-584f02d1f07b",
   "metadata": {},
   "source": [
    "`-` 꼭 a,b가 같은 차원일 필요는 없다. "
   ]
  },
  {
   "cell_type": "code",
   "execution_count": 128,
   "id": "3ecea3e0-6599-4b32-9412-9d961025b333",
   "metadata": {},
   "outputs": [],
   "source": [
    "a=np.array(range(4)).reshape(2,2) \n",
    "b=np.array(range(2)).reshape(2,1)  "
   ]
  },
  {
   "cell_type": "code",
   "execution_count": 131,
   "id": "1de31e29-c99d-4e59-91e3-407969ba3b23",
   "metadata": {},
   "outputs": [
    {
     "data": {
      "text/plain": [
       "array([[0, 1, 0],\n",
       "       [2, 3, 1]])"
      ]
     },
     "execution_count": 131,
     "metadata": {},
     "output_type": "execute_result"
    }
   ],
   "source": [
    "np.concatenate([a,b],axis=1)"
   ]
  },
  {
   "cell_type": "code",
   "execution_count": 133,
   "id": "82c96966-caa0-4650-9393-6b73a8b08780",
   "metadata": {},
   "outputs": [
    {
     "data": {
      "text/plain": [
       "((2, 2), (2, 1), (2, 3))"
      ]
     },
     "execution_count": 133,
     "metadata": {},
     "output_type": "execute_result"
    }
   ],
   "source": [
    "a.shape, b.shape, np.concatenate([a,b],axis=1).shape"
   ]
  },
  {
   "cell_type": "markdown",
   "id": "23fb3385-331d-466a-9470-28184d517112",
   "metadata": {},
   "source": [
    "## np.stack "
   ]
  },
  {
   "cell_type": "markdown",
   "id": "70f87203-fb3d-4497-9bcd-43c936d37feb",
   "metadata": {},
   "source": [
    "`-` 혹시 아래가 가능할까? "
   ]
  },
  {
   "cell_type": "markdown",
   "id": "6b32b895-09e4-470a-b5fa-538e098e206c",
   "metadata": {},
   "source": [
    "- (3,) 결합 (3,) => (3,2) "
   ]
  },
  {
   "cell_type": "code",
   "execution_count": 149,
   "id": "1b55334c-43a5-4f21-8a8f-00c1928cd826",
   "metadata": {},
   "outputs": [],
   "source": [
    "a=np.array([1,2,3])\n",
    "b=-a"
   ]
  },
  {
   "cell_type": "code",
   "execution_count": 150,
   "id": "2b3e598b-ba83-481e-ac48-d3a78b3f8b66",
   "metadata": {},
   "outputs": [
    {
     "data": {
      "text/plain": [
       "(array([1, 2, 3]), array([-1, -2, -3]))"
      ]
     },
     "execution_count": 150,
     "metadata": {},
     "output_type": "execute_result"
    }
   ],
   "source": [
    "a,b"
   ]
  },
  {
   "cell_type": "code",
   "execution_count": 151,
   "id": "738b106b-2d64-4f05-9eeb-26a6875d9bd8",
   "metadata": {},
   "outputs": [
    {
     "ename": "AxisError",
     "evalue": "axis 1 is out of bounds for array of dimension 1",
     "output_type": "error",
     "traceback": [
      "\u001b[0;31m---------------------------------------------------------------------------\u001b[0m",
      "\u001b[0;31mAxisError\u001b[0m                                 Traceback (most recent call last)",
      "Input \u001b[0;32mIn [151]\u001b[0m, in \u001b[0;36m<cell line: 1>\u001b[0;34m()\u001b[0m\n\u001b[0;32m----> 1\u001b[0m \u001b[43mnp\u001b[49m\u001b[38;5;241;43m.\u001b[39;49m\u001b[43mconcatenate\u001b[49m\u001b[43m(\u001b[49m\u001b[43m[\u001b[49m\u001b[43ma\u001b[49m\u001b[43m,\u001b[49m\u001b[43mb\u001b[49m\u001b[43m]\u001b[49m\u001b[43m,\u001b[49m\u001b[43maxis\u001b[49m\u001b[38;5;241;43m=\u001b[39;49m\u001b[38;5;241;43m1\u001b[39;49m\u001b[43m)\u001b[49m\n",
      "File \u001b[0;32m<__array_function__ internals>:5\u001b[0m, in \u001b[0;36mconcatenate\u001b[0;34m(*args, **kwargs)\u001b[0m\n",
      "\u001b[0;31mAxisError\u001b[0m: axis 1 is out of bounds for array of dimension 1"
     ]
    }
   ],
   "source": [
    "np.concatenate([a,b],axis=1)"
   ]
  },
  {
   "cell_type": "markdown",
   "id": "dba4b07f-9193-4172-b552-43b6505241ea",
   "metadata": {},
   "source": [
    "- 불가능 "
   ]
  },
  {
   "cell_type": "markdown",
   "id": "4862146a-9e31-4811-9502-17b4aa68b840",
   "metadata": {},
   "source": [
    "`-` 아래와 같이 하면 해결가능 "
   ]
  },
  {
   "cell_type": "code",
   "execution_count": 152,
   "id": "e803f77b-2970-4955-a87d-d5658f8ec364",
   "metadata": {},
   "outputs": [],
   "source": [
    "a=np.array([1,2,3]).reshape(3,1) \n",
    "b=-a"
   ]
  },
  {
   "cell_type": "code",
   "execution_count": 153,
   "id": "afeeb4e3-7660-4d40-ae9b-896f5314b61e",
   "metadata": {},
   "outputs": [
    {
     "data": {
      "text/plain": [
       "(array([[1],\n",
       "        [2],\n",
       "        [3]]),\n",
       " array([[-1],\n",
       "        [-2],\n",
       "        [-3]]))"
      ]
     },
     "execution_count": 153,
     "metadata": {},
     "output_type": "execute_result"
    }
   ],
   "source": [
    "a,b"
   ]
  },
  {
   "cell_type": "code",
   "execution_count": 154,
   "id": "e1dcb7ba-fc9c-4feb-8b75-068b3181eb2e",
   "metadata": {},
   "outputs": [
    {
     "data": {
      "text/plain": [
       "array([[ 1, -1],\n",
       "       [ 2, -2],\n",
       "       [ 3, -3]])"
      ]
     },
     "execution_count": 154,
     "metadata": {},
     "output_type": "execute_result"
    }
   ],
   "source": [
    "np.concatenate([a,b],axis=1)"
   ]
  },
  {
   "cell_type": "markdown",
   "id": "99465b54-fdcd-431a-94b4-1aefd0041800",
   "metadata": {},
   "source": [
    "- 분석: (3) (3) => (3,1) (3,1) => (3,1) concat (3,1) "
   ]
  },
  {
   "cell_type": "markdown",
   "id": "b3d6f6ec-bbdf-4f34-8914-d7bfe874156f",
   "metadata": {},
   "source": [
    "`-` 위의 과정을 줄여서 아래와 같이 할 수 있다. "
   ]
  },
  {
   "cell_type": "code",
   "execution_count": 156,
   "id": "989920f1-1829-4507-ad3a-d5410f5d0e72",
   "metadata": {},
   "outputs": [],
   "source": [
    "a=np.array([1,2,3])\n",
    "b=-a"
   ]
  },
  {
   "cell_type": "code",
   "execution_count": 157,
   "id": "7cc35aeb-2ee4-4b5b-9328-e800f0d17fb9",
   "metadata": {},
   "outputs": [
    {
     "data": {
      "text/plain": [
       "array([[ 1, -1],\n",
       "       [ 2, -2],\n",
       "       [ 3, -3]])"
      ]
     },
     "execution_count": 157,
     "metadata": {},
     "output_type": "execute_result"
    }
   ],
   "source": [
    "np.stack([a,b],axis=1)"
   ]
  },
  {
   "cell_type": "markdown",
   "id": "c87fceef-4668-4791-afb8-a659e64660ec",
   "metadata": {},
   "source": [
    "`-` 아래도 가능 "
   ]
  },
  {
   "cell_type": "code",
   "execution_count": 158,
   "id": "5d1a73cc-2a51-4094-98bc-c36e842e9d29",
   "metadata": {},
   "outputs": [
    {
     "data": {
      "text/plain": [
       "array([[ 1,  2,  3],\n",
       "       [-1, -2, -3]])"
      ]
     },
     "execution_count": 158,
     "metadata": {},
     "output_type": "execute_result"
    }
   ],
   "source": [
    "np.stack([a,b],axis=0)"
   ]
  },
  {
   "cell_type": "markdown",
   "id": "a844de25-da88-457b-af60-d532d59becb5",
   "metadata": {},
   "source": [
    "`-` 분석해보고 외우자"
   ]
  },
  {
   "cell_type": "markdown",
   "id": "3c22449b-ca58-4fe7-8e1a-76e4c2af43ed",
   "metadata": {},
   "source": [
    "(분석1)"
   ]
  },
  {
   "cell_type": "code",
   "execution_count": 159,
   "id": "34e06fb2-431c-43ba-b2d5-77dfab86b6e7",
   "metadata": {},
   "outputs": [],
   "source": [
    "a=np.array([1,2,3])\n",
    "b=-a"
   ]
  },
  {
   "cell_type": "code",
   "execution_count": 162,
   "id": "80821e3e-5bd9-4e09-8a83-972559116297",
   "metadata": {},
   "outputs": [
    {
     "data": {
      "text/plain": [
       "((3,), (3,), (2, 3))"
      ]
     },
     "execution_count": 162,
     "metadata": {},
     "output_type": "execute_result"
    }
   ],
   "source": [
    "a.shape, b.shape, np.stack([a,b],axis=0).shape"
   ]
  },
  {
   "cell_type": "markdown",
   "id": "5c98d932-668b-4952-9474-43a50b81315f",
   "metadata": {},
   "source": [
    "- (3) (3) => 첫 위치에 축을 추가 (axis=0) => (1,3) (1,3) => (2,3) "
   ]
  },
  {
   "cell_type": "markdown",
   "id": "58397bcf-f4c7-4484-84b2-6ca4cebee5c3",
   "metadata": {},
   "source": [
    "(분석2)"
   ]
  },
  {
   "cell_type": "code",
   "execution_count": 163,
   "id": "7723dfa1-10dc-4df7-9eab-b25960cd0509",
   "metadata": {},
   "outputs": [],
   "source": [
    "a=np.array([1,2,3])\n",
    "b=-a"
   ]
  },
  {
   "cell_type": "code",
   "execution_count": 164,
   "id": "96ade04f-a96d-4a91-bd3d-5937703d8315",
   "metadata": {},
   "outputs": [
    {
     "data": {
      "text/plain": [
       "((3,), (3,), (3, 2))"
      ]
     },
     "execution_count": 164,
     "metadata": {},
     "output_type": "execute_result"
    }
   ],
   "source": [
    "a.shape, b.shape, np.stack([a,b],axis=1).shape"
   ]
  },
  {
   "cell_type": "markdown",
   "id": "44905952-3fd1-436c-a595-a4cfb5ae1353",
   "metadata": {},
   "source": [
    "- (3) (3) => 두 위치에 축을 추가 (axis=1) => (3,1) (3,1) => (3,2) "
   ]
  },
  {
   "cell_type": "markdown",
   "id": "0b446203-ea93-43dc-8426-646f99c4d669",
   "metadata": {},
   "source": [
    "`-` 고차원예제 "
   ]
  },
  {
   "cell_type": "code",
   "execution_count": 166,
   "id": "c7c6731b-4b9a-4889-9867-1be7cc9e5af0",
   "metadata": {},
   "outputs": [],
   "source": [
    "a=np.arange(3*4*5).reshape(3,4,5) \n",
    "b=-a"
   ]
  },
  {
   "cell_type": "code",
   "execution_count": 167,
   "id": "159d59df-120f-47da-9fc1-7022bed0b91e",
   "metadata": {},
   "outputs": [
    {
     "data": {
      "text/plain": [
       "((3, 4, 5), (3, 4, 5))"
      ]
     },
     "execution_count": 167,
     "metadata": {},
     "output_type": "execute_result"
    }
   ],
   "source": [
    "a.shape, b.shape"
   ]
  },
  {
   "cell_type": "code",
   "execution_count": 170,
   "id": "f0c1e5af-56eb-4730-a32a-fa0ecfd18e0e",
   "metadata": {},
   "outputs": [
    {
     "data": {
      "text/plain": [
       "(2, 3, 4, 5)"
      ]
     },
     "execution_count": 170,
     "metadata": {},
     "output_type": "execute_result"
    }
   ],
   "source": [
    "np.stack([a,b],axis=0).shape # (3,4,5) => (1,3,4,5) // 첫 위치에 축이 추가되고 스택 "
   ]
  },
  {
   "cell_type": "code",
   "execution_count": 174,
   "id": "33579e71-71ae-4a80-872a-4740767142b9",
   "metadata": {},
   "outputs": [
    {
     "data": {
      "text/plain": [
       "(3, 2, 4, 5)"
      ]
     },
     "execution_count": 174,
     "metadata": {},
     "output_type": "execute_result"
    }
   ],
   "source": [
    "np.stack([a,b],axis=1).shape # (3,4,5) => (3,1,4,5) // 두번째 위치에 축이 추가되고 스택 "
   ]
  },
  {
   "cell_type": "code",
   "execution_count": 175,
   "id": "837cb344-9432-4585-a343-c435c868bd8c",
   "metadata": {},
   "outputs": [
    {
     "data": {
      "text/plain": [
       "(3, 4, 2, 5)"
      ]
     },
     "execution_count": 175,
     "metadata": {},
     "output_type": "execute_result"
    }
   ],
   "source": [
    "np.stack([a,b],axis=2).shape # (3,4,5) => (3,4,1,5) // 세번째 위치에 축이 추가되고 스택 "
   ]
  },
  {
   "cell_type": "code",
   "execution_count": 179,
   "id": "dd3c5d3a-28c5-4b9f-ad75-6753d9dfce9e",
   "metadata": {},
   "outputs": [
    {
     "data": {
      "text/plain": [
       "(3, 4, 5, 2)"
      ]
     },
     "execution_count": 179,
     "metadata": {},
     "output_type": "execute_result"
    }
   ],
   "source": [
    "np.stack([a,b],axis=3).shape # (3,4,5) => (3,4,5,1) // 네번째 위치에 축이 추가되고 스택 "
   ]
  },
  {
   "cell_type": "code",
   "execution_count": 181,
   "id": "338b3cc3-3be8-4895-be29-cc83194f0666",
   "metadata": {},
   "outputs": [
    {
     "data": {
      "text/plain": [
       "(3, 4, 5, 2)"
      ]
     },
     "execution_count": 181,
     "metadata": {},
     "output_type": "execute_result"
    }
   ],
   "source": [
    "np.stack([a,b],axis=-1).shape # axis=-1 <=> axis=3 "
   ]
  },
  {
   "cell_type": "code",
   "execution_count": 182,
   "id": "a2451178-1d8f-4cc3-b449-f71909163bca",
   "metadata": {},
   "outputs": [
    {
     "data": {
      "text/plain": [
       "(3, 4, 2, 5)"
      ]
     },
     "execution_count": 182,
     "metadata": {},
     "output_type": "execute_result"
    }
   ],
   "source": [
    "np.stack([a,b],axis=-2).shape # axis=-2 <=> axis=2"
   ]
  },
  {
   "cell_type": "markdown",
   "id": "653abf3e-5e92-4b35-8013-5e445c6ae775",
   "metadata": {},
   "source": [
    "***np.concatenate*** 는 축의 총 갯수를 유지하면서 결합, ***np.stack***은 축의 갯수를 하나 증가시키면서 결합"
   ]
  },
  {
   "cell_type": "markdown",
   "id": "a052182b-b314-4475-946c-9249f313ee3b",
   "metadata": {},
   "source": [
    "## sum"
   ]
  },
  {
   "cell_type": "markdown",
   "id": "a2ba28bd-6483-4dfd-8be1-272a07993a6a",
   "metadata": {},
   "source": [
    "`-` 1차원 "
   ]
  },
  {
   "cell_type": "code",
   "execution_count": 212,
   "id": "83099798-4678-4fa7-882b-15fd9bf548fc",
   "metadata": {},
   "outputs": [
    {
     "data": {
      "text/plain": [
       "array([1, 2, 3])"
      ]
     },
     "execution_count": 212,
     "metadata": {},
     "output_type": "execute_result"
    }
   ],
   "source": [
    "a = np.array([1,2,3]) \n",
    "a"
   ]
  },
  {
   "cell_type": "code",
   "execution_count": 213,
   "id": "013cc74d-bff8-468c-814c-038db4c4e9a5",
   "metadata": {},
   "outputs": [
    {
     "data": {
      "text/plain": [
       "6"
      ]
     },
     "execution_count": 213,
     "metadata": {},
     "output_type": "execute_result"
    }
   ],
   "source": [
    "a.sum()"
   ]
  },
  {
   "cell_type": "code",
   "execution_count": 214,
   "id": "7e9c6443-4789-45f7-a3c0-e8e2a684a0b5",
   "metadata": {},
   "outputs": [
    {
     "data": {
      "text/plain": [
       "6"
      ]
     },
     "execution_count": 214,
     "metadata": {},
     "output_type": "execute_result"
    }
   ],
   "source": [
    "a.sum(axis=0)"
   ]
  },
  {
   "cell_type": "markdown",
   "id": "ffb9534d-1b72-4287-8fc9-f8aabe34c352",
   "metadata": {},
   "source": [
    "`-` 2차원 "
   ]
  },
  {
   "cell_type": "code",
   "execution_count": 208,
   "id": "bc77d601-5384-41fd-ae3f-f7977eff0b8a",
   "metadata": {},
   "outputs": [
    {
     "data": {
      "text/plain": [
       "array([[0, 1, 2],\n",
       "       [3, 4, 5]])"
      ]
     },
     "execution_count": 208,
     "metadata": {},
     "output_type": "execute_result"
    }
   ],
   "source": [
    "a=np.array(range(6)).reshape(2,3)\n",
    "a"
   ]
  },
  {
   "cell_type": "code",
   "execution_count": 209,
   "id": "ff773f35-a3c9-4a2b-b634-c10677d766aa",
   "metadata": {},
   "outputs": [
    {
     "data": {
      "text/plain": [
       "15"
      ]
     },
     "execution_count": 209,
     "metadata": {},
     "output_type": "execute_result"
    }
   ],
   "source": [
    "a.sum() # 전체합"
   ]
  },
  {
   "cell_type": "code",
   "execution_count": 210,
   "id": "882a94a3-b201-4737-96d6-165fc5b40ef6",
   "metadata": {},
   "outputs": [
    {
     "data": {
      "text/plain": [
       "array([3, 5, 7])"
      ]
     },
     "execution_count": 210,
     "metadata": {},
     "output_type": "execute_result"
    }
   ],
   "source": [
    "a.sum(axis=0) "
   ]
  },
  {
   "cell_type": "code",
   "execution_count": 211,
   "id": "4d12bc83-d5b4-4863-8564-1ea48416ca79",
   "metadata": {},
   "outputs": [
    {
     "data": {
      "text/plain": [
       "array([ 3, 12])"
      ]
     },
     "execution_count": 211,
     "metadata": {},
     "output_type": "execute_result"
    }
   ],
   "source": [
    "a.sum(axis=1) "
   ]
  },
  {
   "cell_type": "markdown",
   "id": "0a657604-3823-4463-8d73-5a77cacd1f1e",
   "metadata": {},
   "source": [
    "`-` 2차원 결과 분석 "
   ]
  },
  {
   "cell_type": "code",
   "execution_count": 193,
   "id": "00d0c4e8-1852-48ac-a1aa-995e5a6f0a60",
   "metadata": {},
   "outputs": [
    {
     "data": {
      "text/plain": [
       "((2, 3), (3,))"
      ]
     },
     "execution_count": 193,
     "metadata": {},
     "output_type": "execute_result"
    }
   ],
   "source": [
    "a.shape, a.sum(axis=0).shape"
   ]
  },
  {
   "cell_type": "markdown",
   "id": "48d34b53-d102-4537-9121-93163662c839",
   "metadata": {},
   "source": [
    "- 첫번째 축이 삭제됨 => axis=0 "
   ]
  },
  {
   "cell_type": "code",
   "execution_count": 195,
   "id": "d88b697e-610f-40a0-88e0-ee6dc78a2af6",
   "metadata": {},
   "outputs": [
    {
     "data": {
      "text/plain": [
       "((2, 3), (2,))"
      ]
     },
     "execution_count": 195,
     "metadata": {},
     "output_type": "execute_result"
    }
   ],
   "source": [
    "a.shape, a.sum(axis=1).shape"
   ]
  },
  {
   "cell_type": "markdown",
   "id": "9dd9cd8c-e6b7-4c70-b10b-90720862ff81",
   "metadata": {},
   "source": [
    "- 두번째 축이 삭제됨 => axis=1 "
   ]
  },
  {
   "cell_type": "markdown",
   "id": "76fdfe3b-c102-4e62-9ddb-a5cde5b71d6d",
   "metadata": {},
   "source": [
    "`-` 연습"
   ]
  },
  {
   "cell_type": "code",
   "execution_count": 197,
   "id": "9557ef8a-a606-41f1-97b7-93f7e1c07ec2",
   "metadata": {},
   "outputs": [
    {
     "data": {
      "text/plain": [
       "array([[0, 1],\n",
       "       [2, 3],\n",
       "       [4, 5],\n",
       "       [6, 7],\n",
       "       [8, 9]])"
      ]
     },
     "execution_count": 197,
     "metadata": {},
     "output_type": "execute_result"
    }
   ],
   "source": [
    "a=np.array(range(10)).reshape(5,2) \n",
    "a"
   ]
  },
  {
   "cell_type": "markdown",
   "id": "27682ef3-5e9a-443d-abfc-fd5082a7afb2",
   "metadata": {},
   "source": [
    "(문제1) 1열의 합, 2열의 합을 계산하고 싶다면? "
   ]
  },
  {
   "cell_type": "markdown",
   "id": "bc74b888-486c-47f9-9e5b-89ed4c0de016",
   "metadata": {},
   "source": [
    "(풀이) 차원이 (5,2) => (2,) 로 나와야 한다. (그럼 첫번째 축이 삭제되어야 하네?) "
   ]
  },
  {
   "cell_type": "code",
   "execution_count": 198,
   "id": "c1104e8d-665d-4765-b1d3-9a882e4aaa34",
   "metadata": {},
   "outputs": [
    {
     "data": {
      "text/plain": [
       "array([20, 25])"
      ]
     },
     "execution_count": 198,
     "metadata": {},
     "output_type": "execute_result"
    }
   ],
   "source": [
    "a.sum(axis=0)"
   ]
  },
  {
   "cell_type": "markdown",
   "id": "3b7b8e5d-2103-4eb0-b348-7c9e1d056460",
   "metadata": {},
   "source": [
    "(문제2) 1행의 합, 2행의 합, ... , 5행의 합을 계산하고 싶다면? "
   ]
  },
  {
   "cell_type": "markdown",
   "id": "9454809b-2a4c-4d20-9f23-c9dd450e5697",
   "metadata": {},
   "source": [
    "(풀이) 차원이 (5,2) => (5,)로 나와야 한다. (그럼 두번째 축이 삭제되어야 하네?) "
   ]
  },
  {
   "cell_type": "code",
   "execution_count": 199,
   "id": "ad5aa245-5892-49e0-8fc7-a97dd2b6fed0",
   "metadata": {},
   "outputs": [
    {
     "data": {
      "text/plain": [
       "array([ 1,  5,  9, 13, 17])"
      ]
     },
     "execution_count": 199,
     "metadata": {},
     "output_type": "execute_result"
    }
   ],
   "source": [
    "a.sum(axis=1)"
   ]
  },
  {
   "cell_type": "markdown",
   "id": "f50c1b58-ee5a-4c4f-b81c-72c7d5bf66ea",
   "metadata": {},
   "source": [
    "(문제3) a의 모든원소의 합을 계산하고 싶다면? "
   ]
  },
  {
   "cell_type": "markdown",
   "id": "8a560156-07ab-4526-af34-795ecad6f03d",
   "metadata": {},
   "source": [
    "(풀이) 차원이 (5,2) => () 로 나와야 한다. (첫번째축, 두번째축이 모두 삭제되어야 하네?) "
   ]
  },
  {
   "cell_type": "code",
   "execution_count": 201,
   "id": "fa77efad-75f3-45dc-88fb-8649abce8520",
   "metadata": {},
   "outputs": [
    {
     "data": {
      "text/plain": [
       "45"
      ]
     },
     "execution_count": 201,
     "metadata": {},
     "output_type": "execute_result"
    }
   ],
   "source": [
    "a.sum(axis=(0,1))"
   ]
  },
  {
   "cell_type": "code",
   "execution_count": 203,
   "id": "be5f8f2c-09b6-45ec-ae2f-c15bc3549b96",
   "metadata": {},
   "outputs": [
    {
     "data": {
      "text/plain": [
       "45"
      ]
     },
     "execution_count": 203,
     "metadata": {},
     "output_type": "execute_result"
    }
   ],
   "source": [
    "a.sum() # 즉 a.sum(axis=(0,1))이 디폴트값임 "
   ]
  },
  {
   "cell_type": "markdown",
   "id": "e19c3cce-e706-4cbe-be98-0aca47e1f10c",
   "metadata": {},
   "source": [
    "## mean, max, min"
   ]
  },
  {
   "cell_type": "markdown",
   "id": "5d25b1da-e29a-4ee0-a834-019e81e398a4",
   "metadata": {},
   "source": [
    "`-` 모두 sum이랑 유사한 논리 "
   ]
  },
  {
   "cell_type": "code",
   "execution_count": 218,
   "id": "e4ae2cb5-85ff-4bf4-9c51-61b0ace3a8b1",
   "metadata": {},
   "outputs": [
    {
     "data": {
      "text/plain": [
       "array([[0, 1],\n",
       "       [2, 3],\n",
       "       [4, 5],\n",
       "       [6, 7],\n",
       "       [8, 9]])"
      ]
     },
     "execution_count": 218,
     "metadata": {},
     "output_type": "execute_result"
    }
   ],
   "source": [
    "a=np.array(range(10)).reshape(5,2)\n",
    "a"
   ]
  },
  {
   "cell_type": "code",
   "execution_count": 225,
   "id": "9bfce9a6-83b8-48c9-b941-8fe20dc04f93",
   "metadata": {},
   "outputs": [
    {
     "data": {
      "text/plain": [
       "(array([4., 5.]),\n",
       " array([2.82842712, 2.82842712]),\n",
       " array([8, 9]),\n",
       " array([0, 1]),\n",
       " array([  0, 945]))"
      ]
     },
     "execution_count": 225,
     "metadata": {},
     "output_type": "execute_result"
    }
   ],
   "source": [
    "a.mean(axis=0), a.std(axis=0), a.max(axis=0), a.min(axis=0), a.prod(axis=0)"
   ]
  },
  {
   "cell_type": "code",
   "execution_count": 227,
   "id": "87ca0c91-e3bb-4dc2-a958-8a5c8a4ebda3",
   "metadata": {},
   "outputs": [
    {
     "data": {
      "text/plain": [
       "(array([0.5, 2.5, 4.5, 6.5, 8.5]),\n",
       " array([0.5, 0.5, 0.5, 0.5, 0.5]),\n",
       " array([1, 3, 5, 7, 9]),\n",
       " array([0, 2, 4, 6, 8]),\n",
       " array([ 0,  6, 20, 42, 72]))"
      ]
     },
     "execution_count": 227,
     "metadata": {},
     "output_type": "execute_result"
    }
   ],
   "source": [
    "a.mean(axis=1), a.std(axis=1), a.max(axis=1), a.min(axis=1), a.prod(axis=1)"
   ]
  },
  {
   "cell_type": "markdown",
   "id": "1a9d86a7-e4c0-4ada-951a-965e9ed58293",
   "metadata": {},
   "source": [
    "# Quiz"
   ]
  },
  {
   "cell_type": "markdown",
   "id": "31809780",
   "metadata": {},
   "source": [
    "`1` -- `6`. a,b가 아래와 같이 주어졌다고 하자. "
   ]
  },
  {
   "cell_type": "code",
   "execution_count": null,
   "id": "46b9ca1f",
   "metadata": {},
   "outputs": [],
   "source": [
    "a=np.array([1]*10)\n",
    "b=np.array([2]*10)"
   ]
  },
  {
   "cell_type": "markdown",
   "id": "05943e7a",
   "metadata": {},
   "source": [
    "`1`. a,b와 np.concatenate를 이용하여 아래와 같은 배열을 만들어라.\n",
    "\n",
    "```\n",
    "array([1, 1, 1, 1, 1, 1, 1, 1, 1, 1, 2, 2, 2, 2, 2, 2, 2, 2, 2, 2])\n",
    "```"
   ]
  },
  {
   "cell_type": "markdown",
   "id": "97e2392b",
   "metadata": {},
   "source": [
    "`2`. a,b와 np.concatenate를 이용하여 아래와 같은 배열을 만들어라."
   ]
  },
  {
   "cell_type": "code",
   "execution_count": null,
   "id": "bc7f8c1a",
   "metadata": {},
   "outputs": [],
   "source": [
    "a=np.array([1]*10)\n",
    "b=np.array([2]*10)"
   ]
  },
  {
   "cell_type": "markdown",
   "id": "423d0c22",
   "metadata": {},
   "source": [
    "```\n",
    "array([[1],\n",
    "       [1],\n",
    "       [1],\n",
    "       [1],\n",
    "       [1],\n",
    "       [1],\n",
    "       [1],\n",
    "       [1],\n",
    "       [1],\n",
    "       [1],\n",
    "       [2],\n",
    "       [2],\n",
    "       [2],\n",
    "       [2],\n",
    "       [2],\n",
    "       [2],\n",
    "       [2],\n",
    "       [2],\n",
    "       [2],\n",
    "       [2]])\n",
    "```"
   ]
  },
  {
   "cell_type": "markdown",
   "id": "4a889fb9",
   "metadata": {},
   "source": [
    "`3`. a,b와 np.concatenate를 이용하여 아래와 같은 배열을 만들어라. \n",
    "\n",
    "```\n",
    "array([[1, 1, 1, 1, 1, 1, 1, 1, 1, 1],\n",
    "       [2, 2, 2, 2, 2, 2, 2, 2, 2, 2]]\n",
    "```"
   ]
  },
  {
   "cell_type": "markdown",
   "id": "026708f7",
   "metadata": {},
   "source": [
    "`4`. a,b와 np.concatenate를 이용하여 아래와 같은 배열을 만들어라.\n",
    "```\n",
    "array([[1, 2],\n",
    "       [1, 2],\n",
    "       [1, 2],\n",
    "       [1, 2],\n",
    "       [1, 2],\n",
    "       [1, 2],\n",
    "       [1, 2],\n",
    "       [1, 2],\n",
    "       [1, 2],\n",
    "       [1, 2]])\n",
    "```"
   ]
  },
  {
   "cell_type": "markdown",
   "id": "81b12de8",
   "metadata": {},
   "source": [
    "`5`. a,b와 np.stack을 이용하여 아래와 같은 배열을 만들어라.\n",
    "\n",
    "```\n",
    "array([[1, 1, 1, 1, 1, 1, 1, 1, 1, 1],\n",
    "       [2, 2, 2, 2, 2, 2, 2, 2, 2, 2]]\n",
    "```"
   ]
  },
  {
   "cell_type": "markdown",
   "id": "f028e3bc",
   "metadata": {},
   "source": [
    "`6`. a,b와 np.stack을 이용하여 아래와 같은 배열을 만들어라.\n",
    "```\n",
    "array([[1, 2],\n",
    "       [1, 2],\n",
    "       [1, 2],\n",
    "       [1, 2],\n",
    "       [1, 2],\n",
    "       [1, 2],\n",
    "       [1, 2],\n",
    "       [1, 2],\n",
    "       [1, 2],\n",
    "       [1, 2]])\n",
    "```"
   ]
  },
  {
   "cell_type": "markdown",
   "id": "3dfcab00",
   "metadata": {},
   "source": [
    "**`7`--`8`** "
   ]
  },
  {
   "cell_type": "markdown",
   "id": "5bcc1457",
   "metadata": {},
   "source": [
    "아래와 같은 매트릭스를 생성하라. "
   ]
  },
  {
   "cell_type": "code",
   "execution_count": null,
   "id": "732d1860",
   "metadata": {},
   "outputs": [
    {
     "data": {
      "text/plain": [
       "array([[ 0.38342049,  1.0841745 ,  1.14277825, ..., -0.18506968,\n",
       "         1.05538764,  1.18701443],\n",
       "       [-0.25027283, -1.58045215,  0.1124153 , ...,  1.0321894 ,\n",
       "         0.40438012, -0.13491595],\n",
       "       [-0.76763724, -0.64294232, -0.24782396, ..., -0.01530161,\n",
       "         0.89125897, -0.82683395],\n",
       "       ...,\n",
       "       [-1.41379028,  0.79611333, -0.71011837, ..., -0.9860352 ,\n",
       "         1.30755244,  2.18677233],\n",
       "       [ 1.33968105, -0.78457449, -0.10405858, ..., -0.71110186,\n",
       "         0.99841286,  2.34371635],\n",
       "       [-0.66422032, -0.07550233,  0.7405869 , ...,  1.03232398,\n",
       "        -0.18988252, -0.03578389]])"
      ]
     },
     "metadata": {},
     "output_type": "display_data"
    }
   ],
   "source": [
    "np.random.seed(43052)\n",
    "a=np.random.randn(10000).reshape(100,100)\n",
    "a"
   ]
  },
  {
   "cell_type": "markdown",
   "id": "c836f4e2",
   "metadata": {},
   "source": [
    "`7`. 각 행의 합을 구하라. 즉 1행의 합, 2행의 합, ... 100행의 합을 계산하라.\n",
    "\n",
    "- 1행의합 =  0.38342049 + 1.0841745 + ... + 1.18701443"
   ]
  },
  {
   "cell_type": "markdown",
   "id": "53941d3c",
   "metadata": {},
   "source": [
    "`8`. 각 열의 평균을 구하라. 즉 1열의 평균, 2열의 평균, ... , 100열의 평균을 계산하라."
   ]
  }
 ],
 "metadata": {
  "kernelspec": {
   "display_name": "Python 3 (ipykernel)",
   "language": "python",
   "name": "python3"
  },
  "language_info": {
   "codemirror_mode": {
    "name": "ipython",
    "version": 3
   },
   "file_extension": ".py",
   "mimetype": "text/x-python",
   "name": "python",
   "nbconvert_exporter": "python",
   "pygments_lexer": "ipython3",
   "version": "3.10.12"
  }
 },
 "nbformat": 4,
 "nbformat_minor": 5
}
