{
  "cells": [
    {
      "cell_type": "markdown",
      "metadata": {},
      "source": [
        "# Lesson 15: 지리정보 시각화\n",
        "\n",
        "최규빈  \n",
        "2023-07-26\n",
        "\n",
        "<a href=\"https://colab.research.google.com/github/guebin/PP2024WIN/blob/main/posts/Day3/ls15.ipynb\"><img src=\"https://colab.research.google.com/assets/colab-badge.svg\" style=\"text-align: left\"></a>"
      ],
      "id": "21f0c745-071a-422f-9506-8e2297fb5782"
    },
    {
      "cell_type": "raw",
      "metadata": {},
      "source": [
        "{{< https://youtu.be/playlist?list=PLQqh36zP38-xxG7nDnT3hEQKy6izEqLPT&si=Xd9rXXUj23s4ALSc >}}"
      ],
      "id": "9b59e8ae-4c5f-4087-b89e-a0b2841c96b2"
    },
    {
      "cell_type": "code",
      "execution_count": 1,
      "metadata": {
        "tags": []
      },
      "outputs": [],
      "source": [
        "import numpy as np\n",
        "import pandas as pd\n",
        "#---#\n",
        "import plotly.express as px\n",
        "import json \n",
        "import requests "
      ],
      "id": "ba12de79-afbb-4a1e-b40d-dae2deb9317e"
    },
    {
      "cell_type": "markdown",
      "metadata": {},
      "source": [
        "# 데이터 불러오기"
      ],
      "id": "a0766319-abc4-4633-a7da-e9aaad327688"
    },
    {
      "cell_type": "code",
      "execution_count": 2,
      "metadata": {
        "tags": []
      },
      "outputs": [],
      "source": [
        "global_dict = json.loads(requests.get('https://raw.githubusercontent.com/southkorea/southkorea-maps/master/kostat/2018/json/skorea-provinces-2018-geo.json').text)\n",
        "local_dict = json.loads(requests.get('https://raw.githubusercontent.com/southkorea/southkorea-maps/master/kostat/2018/json/skorea-municipalities-2018-geo.json').text)\n",
        "#--#\n",
        "df = pd.read_csv('https://raw.githubusercontent.com/guebin/PP2024WIN/main/posts/Day3/choro.csv')\n",
        "df"
      ],
      "id": "bd695f92-79da-401f-9da7-71c6508affeb"
    },
    {
      "cell_type": "markdown",
      "metadata": {},
      "source": [
        "# 시각화1"
      ],
      "id": "459e8f7a-bc91-43b7-b861-8ded31676ca4"
    },
    {
      "cell_type": "code",
      "execution_count": 3,
      "metadata": {
        "tags": []
      },
      "outputs": [],
      "source": [
        "df[df.년도 == 2018]"
      ],
      "id": "2808afed-95b6-45d0-8b7f-d979ae14c080"
    },
    {
      "cell_type": "code",
      "execution_count": 4,
      "metadata": {
        "tags": []
      },
      "outputs": [],
      "source": [
        "fig = px.choropleth_mapbox(\n",
        "    geojson = local_dict, # 폴리곤들이 정의되어 있는 dict를 의미, 깃헙에서 다운로드 해야하는 고정자료\n",
        "    featureidkey = 'properties.code', # 코드 11010따위가 저장되어있는 위치, local_dict상에서의 위치. \n",
        "    data_frame = df[df.년도 == 2018], # 색상을 입힐떄 필요한 정보가 있는 데이터 프레임\n",
        "    locations = 'code_local', # 색상정보데이터프레임에서 local_dict와 연결되는 코드를 정의해주는 column이름 \n",
        "    color = '에너지사용량(TOE)/전기', # 색상정보데이터프레임에서 다각형에 칠해질 색을 정의해주는 column이름 \n",
        "    hover_data = ['시도','지역','건물동수'], # 색상정보데이터프레임에서 마우스를 움직였을 경우 나타나는 추가정보를 출력\n",
        "    #---#\n",
        "    mapbox_style=\"carto-positron\",\n",
        "    center={\"lat\": 36, \"lon\": 127.5}, \n",
        "    zoom=6,\n",
        "    height=800,\n",
        "    width=800    \n",
        ")\n",
        "fig.show(config={'scrollZoom':False})"
      ],
      "id": "d1e37a99-19a9-404c-8326-df37ed288d21"
    },
    {
      "cell_type": "markdown",
      "metadata": {},
      "source": [
        "# 시각화2"
      ],
      "id": "b2b2725b-8cb9-4a38-ad75-5f8d57070951"
    },
    {
      "cell_type": "code",
      "execution_count": 5,
      "metadata": {
        "tags": []
      },
      "outputs": [],
      "source": [
        "_df = pd.DataFrame([[l,df[df.시도 == l]['에너지사용량(TOE)/전기'].sum(),df[df.시도 == l]['code'].iloc[0]] for l in set(df.시도)])\n",
        "_df.columns = ['A','B','C']\n",
        "_df"
      ],
      "id": "239e9acd-565c-4783-b05e-5cd5bbdba66f"
    },
    {
      "cell_type": "code",
      "execution_count": 6,
      "metadata": {
        "tags": []
      },
      "outputs": [],
      "source": [
        "fig = px.choropleth_mapbox(\n",
        "    geojson = global_dict, # 폴리곤들이 정의되어 있는 dict를 의미, 깃헙에서 다운로드 해야하는 고정자료\n",
        "    featureidkey = 'properties.code', # 코드 11따위가 저장되어있는 위치, global_dict상에서의 위치. \n",
        "    data_frame = _df, # 색상을 입힐떄 필요한 정보가 있는 데이터 프레임\n",
        "    locations = 'C', # 색상정보데이터프레임에서 global_dict와 연결되는 코드를 정의해주는 column이름 \n",
        "    color = 'B', # 색상정보데이터프레임에서 다각형에 칠해질 색을 정의해주는 column이름 \n",
        "    hover_data = ['A'], # 색상정보데이터프레임에서 마우스를 움직였을 경우 나타나는 추가정보를 출력\n",
        "    #---#\n",
        "    mapbox_style=\"carto-positron\",\n",
        "    center={\"lat\": 36, \"lon\": 127.5}, \n",
        "    zoom=6,\n",
        "    height=800,\n",
        "    width=800    \n",
        ")\n",
        "fig.show(config={'scrollZoom':False})"
      ],
      "id": "354b6753-fbe1-459b-87a5-1fb15fd7965c"
    }
  ],
  "nbformat": 4,
  "nbformat_minor": 5,
  "metadata": {
    "kernelspec": {
      "name": "python3",
      "display_name": "Python 3 (ipykernel)",
      "language": "python"
    },
    "language_info": {
      "name": "python",
      "codemirror_mode": {
        "name": "ipython",
        "version": "3"
      },
      "file_extension": ".py",
      "mimetype": "text/x-python",
      "nbconvert_exporter": "python",
      "pygments_lexer": "ipython3",
      "version": "3.10.13"
    }
  }
}