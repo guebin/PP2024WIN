{
  "cells": [
    {
      "cell_type": "markdown",
      "metadata": {},
      "source": [
        "# Lesson 15: 버블차트 애니메이션\n",
        "\n",
        "최규빈  \n",
        "2023-07-26\n",
        "\n",
        "<a href=\"https://colab.research.google.com/github/guebin/PP2024WIN/blob/main/posts/Day3/ls15.ipynb\"><img src=\"https://colab.research.google.com/assets/colab-badge.svg\" style=\"text-align: left\"></a>\n",
        "\n",
        "# Import"
      ],
      "id": "75c6826c-2ce4-44d9-a174-b7e764d36e00"
    },
    {
      "cell_type": "code",
      "execution_count": 1,
      "metadata": {
        "vscode": {
          "languageId": "python"
        }
      },
      "outputs": [],
      "source": [
        "import pandas as pd\n",
        "import plotly.express as px"
      ],
      "id": "eb37c92f-72b4-4f38-9713-85b01b4e05b3"
    },
    {
      "cell_type": "markdown",
      "metadata": {},
      "source": [
        "# `px.scatter_geo`\n",
        "\n",
        "## 세계지도 그리기\n",
        "\n",
        "`-` 기본그리기1"
      ],
      "id": "88dc2e70-28e8-430c-b92e-64cd754d378a"
    },
    {
      "cell_type": "code",
      "execution_count": 2,
      "metadata": {
        "vscode": {
          "languageId": "python"
        }
      },
      "outputs": [],
      "source": [
        "px.scatter_geo()"
      ],
      "id": "289d72c6-861a-486f-b69b-a04d24aa1942"
    },
    {
      "cell_type": "markdown",
      "metadata": {},
      "source": [
        "`-` 기본그리기2"
      ],
      "id": "59bfe12d-7aac-414b-bb5c-68c1462ec922"
    },
    {
      "cell_type": "code",
      "execution_count": 3,
      "metadata": {
        "vscode": {
          "languageId": "python"
        }
      },
      "outputs": [],
      "source": [
        "px.scatter_geo(projection='natural earth')"
      ],
      "id": "2edfa50c-5e33-4365-862a-08f7e5e42ee0"
    },
    {
      "cell_type": "markdown",
      "metadata": {},
      "source": [
        "## 세계지도 + 버블\n",
        "\n",
        "`-` 좌표에 점을 찍어보기1"
      ],
      "id": "123fa55b-ee3e-44cc-b6ad-fb2c44e05469"
    },
    {
      "cell_type": "code",
      "execution_count": 4,
      "metadata": {
        "vscode": {
          "languageId": "python"
        }
      },
      "outputs": [],
      "source": [
        "df=pd.DataFrame({'lat':[0,38],'lon':[0,127],'size':[5,20]})\n",
        "df"
      ],
      "id": "5bf06e00-14ed-4184-bda2-83036dc0b28d"
    },
    {
      "cell_type": "code",
      "execution_count": 5,
      "metadata": {
        "vscode": {
          "languageId": "python"
        }
      },
      "outputs": [],
      "source": [
        "px.scatter_geo(df,lat='lat',lon='lon',size='size')"
      ],
      "id": "9734023a-e964-4a1a-912d-ab7297f79d18"
    },
    {
      "cell_type": "markdown",
      "metadata": {},
      "source": [
        "`-` 좌표에 점을 찍어보기2"
      ],
      "id": "06648c6b-8593-4e08-b95d-eddd238cf7e2"
    },
    {
      "cell_type": "code",
      "execution_count": 6,
      "metadata": {
        "vscode": {
          "languageId": "python"
        }
      },
      "outputs": [],
      "source": [
        "df=pd.DataFrame({'iso_alpha':['KOR','JPN'],'size':[10,2]})\n",
        "df"
      ],
      "id": "2ac6f845-918f-4505-afec-8bd4401ff017"
    },
    {
      "cell_type": "code",
      "execution_count": 7,
      "metadata": {
        "vscode": {
          "languageId": "python"
        }
      },
      "outputs": [],
      "source": [
        "px.scatter_geo(df,locations='iso_alpha',size='size')"
      ],
      "id": "105ccf00-7f40-47ec-b4b6-d2dccbd89924"
    },
    {
      "cell_type": "markdown",
      "metadata": {},
      "source": [
        "## Gapminder data 시각화\n",
        "\n",
        "`-` [Gapminder](https://en.wikipedia.org/wiki/Gapminder_Foundation)\n",
        "\n",
        "-   스웨덴 스톡홀름에 등록된 비영리 벤처 기업\n",
        "-   [Trendalyzer](https://en.wikipedia.org/wiki/Trendalyzer)\n",
        "    소프트웨어를 개발하여 애니메이션 거품 그래프를 생성 $\\to$\n",
        "    소프트웨어는 2006년, Gapminder의 개발자는 2007년에 글고..\n",
        "\n",
        "> <https://www.youtube.com/watch?v=N91kkT-vC6w>\n",
        "\n",
        "`-` Gapminder data: 국가별 기대수명, 1인당 GDP, 인구에 대한 데이터 -\n",
        "특징: 연도별로 정리가 되어있다."
      ],
      "id": "1e968e94-e85f-4fcf-9b54-0cc87935a6bc"
    },
    {
      "cell_type": "code",
      "execution_count": 8,
      "metadata": {
        "vscode": {
          "languageId": "python"
        }
      },
      "outputs": [],
      "source": [
        "df = px.data.gapminder()\n",
        "df"
      ],
      "id": "af061ec7-8c34-4141-a89e-339574e12177"
    },
    {
      "cell_type": "markdown",
      "metadata": {},
      "source": [
        "`-` 2007년만 추출"
      ],
      "id": "49019114-76f3-4630-ba9e-31e27f6232e0"
    },
    {
      "cell_type": "code",
      "execution_count": 9,
      "metadata": {
        "vscode": {
          "languageId": "python"
        }
      },
      "outputs": [],
      "source": [
        "df.query('year==2007')"
      ],
      "id": "cae1b0d4-725f-40f7-8bd8-ccf898ec65ba"
    },
    {
      "cell_type": "markdown",
      "metadata": {},
      "source": [
        "`-` 시각화예시1: (x,y) = (lon,lat) = locations"
      ],
      "id": "89ff775a-3ca5-4e8d-8438-363fcf3c3ef6"
    },
    {
      "cell_type": "code",
      "execution_count": 10,
      "metadata": {
        "vscode": {
          "languageId": "python"
        }
      },
      "outputs": [],
      "source": [
        "px.scatter_geo(\n",
        "    data_frame = df.query('year==2007'),\n",
        "    locations= 'iso_alpha'\n",
        ")"
      ],
      "id": "303874de-d5eb-4a29-a8e5-f223013a96e1"
    },
    {
      "cell_type": "markdown",
      "metadata": {},
      "source": [
        "`-` 시각화예시2: (x,y) = (lon,lat) = locations, size= pop"
      ],
      "id": "ef59b58e-9456-4b64-937c-72c473aaf0ef"
    },
    {
      "cell_type": "code",
      "execution_count": 11,
      "metadata": {
        "vscode": {
          "languageId": "python"
        }
      },
      "outputs": [],
      "source": [
        "px.scatter_geo(\n",
        "    data_frame = df.query('year==2007'),\n",
        "    locations= 'iso_alpha',\n",
        "    size='pop'\n",
        ")"
      ],
      "id": "2f82abc9-69e4-4053-abdb-e37c9bb32cf8"
    },
    {
      "cell_type": "markdown",
      "metadata": {},
      "source": [
        "`-` 시각화예시3: (x,y) = (lon,lat) = locations, size= pop, color=\n",
        "continent"
      ],
      "id": "2606f731-db8b-4ff3-b5b6-55d88cd3a7f5"
    },
    {
      "cell_type": "code",
      "execution_count": 12,
      "metadata": {
        "vscode": {
          "languageId": "python"
        }
      },
      "outputs": [],
      "source": [
        "px.scatter_geo(\n",
        "    data_frame = df.query('year==2007'),\n",
        "    locations= 'iso_alpha',\n",
        "    size='pop',\n",
        "    color='continent'\n",
        ")"
      ],
      "id": "649de6f5-065a-4a4a-beb2-d97b28498914"
    },
    {
      "cell_type": "markdown",
      "metadata": {},
      "source": [
        "# `px.scatter_geo` + animation\n",
        "\n",
        "`-` 시각화예시1"
      ],
      "id": "1a5679d4-f641-4ae8-a69e-64519a1e50db"
    },
    {
      "cell_type": "code",
      "execution_count": 13,
      "metadata": {
        "vscode": {
          "languageId": "python"
        }
      },
      "outputs": [],
      "source": [
        "px.scatter_geo(\n",
        "    data_frame = df,\n",
        "    locations= 'iso_alpha',\n",
        "    size='pop',\n",
        "    color='continent',\n",
        "    animation_frame='year'\n",
        ")"
      ],
      "id": "ac7f2c71-d577-402d-acf9-4cf656fdb1ed"
    },
    {
      "cell_type": "code",
      "execution_count": 14,
      "metadata": {
        "vscode": {
          "languageId": "python"
        }
      },
      "outputs": [],
      "source": [
        "px.scatter_geo(\n",
        "    data_frame = df,\n",
        "    projection = 'natural earth',\n",
        "    locations= 'iso_alpha',\n",
        "    size='pop',\n",
        "    color='continent',\n",
        "    animation_frame='year'\n",
        ")"
      ],
      "id": "9a7ea0d9-1c4c-4fb6-b14a-08a0b9807045"
    }
  ],
  "nbformat": 4,
  "nbformat_minor": 5,
  "metadata": {
    "kernelspec": {
      "name": "python3",
      "display_name": "Python 3 (ipykernel)",
      "language": "python"
    },
    "language_info": {
      "name": "python",
      "codemirror_mode": {
        "name": "ipython",
        "version": "3"
      },
      "file_extension": ".py",
      "mimetype": "text/x-python",
      "nbconvert_exporter": "python",
      "pygments_lexer": "ipython3",
      "version": "3.10.13"
    }
  }
}