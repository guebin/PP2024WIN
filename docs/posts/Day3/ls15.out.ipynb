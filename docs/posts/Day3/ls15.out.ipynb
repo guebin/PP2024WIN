{
  "cells": [
    {
      "cell_type": "markdown",
      "metadata": {},
      "source": [
        "# Lesson 15: 지리정보 시각화\n",
        "\n",
        "최규빈  \n",
        "2023-07-26\n",
        "\n",
        "<a href=\"https://colab.research.google.com/github/guebin/PP2024WIN/blob/main/posts/Day3/ls15.ipynb\"><img src=\"https://colab.research.google.com/assets/colab-badge.svg\" style=\"text-align: left\"></a>"
      ],
      "id": "00d82795-f11a-4b93-8254-08bfe7543f3b"
    },
    {
      "cell_type": "code",
      "execution_count": 1,
      "metadata": {
        "tags": []
      },
      "outputs": [],
      "source": [
        "import numpy as np\n",
        "import pandas as pd\n",
        "#---#\n",
        "import plotly.express as px\n",
        "import json \n",
        "import requests "
      ],
      "id": "ba12de79-afbb-4a1e-b40d-dae2deb9317e"
    },
    {
      "cell_type": "markdown",
      "metadata": {},
      "source": [
        "# 데이터 불러오기"
      ],
      "id": "1af87e6c-3b49-4905-b580-34e50757aad1"
    },
    {
      "cell_type": "code",
      "execution_count": 2,
      "metadata": {
        "tags": []
      },
      "outputs": [],
      "source": [
        "global_dict = json.loads(requests.get('https://raw.githubusercontent.com/southkorea/southkorea-maps/master/kostat/2018/json/skorea-provinces-2018-geo.json').text)\n",
        "local_dict = json.loads(requests.get('https://raw.githubusercontent.com/southkorea/southkorea-maps/master/kostat/2018/json/skorea-municipalities-2018-geo.json').text)\n",
        "#--#\n",
        "df = pd.read_csv('https://raw.githubusercontent.com/guebin/PP2024WIN/main/posts/Day3/choro.csv')\n",
        "df"
      ],
      "id": "bd695f92-79da-401f-9da7-71c6508affeb"
    },
    {
      "cell_type": "markdown",
      "metadata": {},
      "source": [
        "# 시각화1"
      ],
      "id": "7cb1597b-f79b-4757-bb83-b9cc3d095b16"
    },
    {
      "cell_type": "code",
      "execution_count": 3,
      "metadata": {
        "tags": []
      },
      "outputs": [],
      "source": [
        "fig = px.choropleth_mapbox(\n",
        "    geojson = global_dict,\n",
        "    featureidkey = 'properties.code',\n",
        "    data_frame = df.query('년도 == 2018'),\n",
        "    locations = 'code',\n",
        "    color = '에너지사용량(TOE)/전기',\n",
        "    hover_data = ['시도','지역'],\n",
        "    #---#\n",
        "    mapbox_style=\"carto-positron\",\n",
        "    center={\"lat\": 36, \"lon\": 127.5}, \n",
        "    zoom=6,\n",
        "    height=800,\n",
        "    width=800    \n",
        ")\n",
        "fig.show(config={'scrollZoom':False})"
      ],
      "id": "a53a84fe-8181-4303-9fd0-67bc1974d366"
    },
    {
      "cell_type": "markdown",
      "metadata": {},
      "source": [
        "# 시각화2"
      ],
      "id": "f8c8181c-16c4-42af-8c91-44096b341ca0"
    },
    {
      "cell_type": "code",
      "execution_count": 4,
      "metadata": {
        "tags": []
      },
      "outputs": [],
      "source": [
        "fig = px.choropleth_mapbox(\n",
        "    geojson = local_dict,\n",
        "    featureidkey = 'properties.code',\n",
        "    data_frame = df.query('년도 == 2018'),\n",
        "    locations = 'code_local',\n",
        "    color = '에너지사용량(TOE)/전기',\n",
        "    hover_data = ['시도','지역'],\n",
        "    #---#\n",
        "    mapbox_style=\"carto-positron\",\n",
        "    center={\"lat\": 36, \"lon\": 127.5}, \n",
        "    zoom=6,\n",
        "    height=800,\n",
        "    width=800    \n",
        ")\n",
        "fig.show(config={'scrollZoom':False})"
      ],
      "id": "d1e37a99-19a9-404c-8326-df37ed288d21"
    }
  ],
  "nbformat": 4,
  "nbformat_minor": 5,
  "metadata": {
    "kernelspec": {
      "name": "python3",
      "display_name": "Python 3 (ipykernel)",
      "language": "python"
    },
    "language_info": {
      "name": "python",
      "codemirror_mode": {
        "name": "ipython",
        "version": "3"
      },
      "file_extension": ".py",
      "mimetype": "text/x-python",
      "nbconvert_exporter": "python",
      "pygments_lexer": "ipython3",
      "version": "3.10.13"
    }
  }
}