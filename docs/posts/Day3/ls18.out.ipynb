{
  "cells": [
    {
      "cell_type": "markdown",
      "metadata": {},
      "source": [
        "# Lesson 18: 저출산 자료 시각화 (지저분한 데이터)\n",
        "\n",
        "최규빈  \n",
        "2023-07-26\n",
        "\n",
        "<a href=\"https://colab.research.google.com/github/guebin/PP2023SUM/blob/main/posts/Day3/08_PandasBackend/ls18.ipynb\"><img src=\"https://colab.research.google.com/assets/colab-badge.svg\" style=\"text-align: left\"></a>\n",
        "\n",
        "# 강의영상\n",
        "\n",
        "<https://youtu.be/F3n1jCM3PEI>\n",
        "\n",
        "# imports"
      ],
      "id": "85ba3a28-ad6c-45c8-9a57-a5b354c21777"
    },
    {
      "cell_type": "code",
      "execution_count": 1,
      "metadata": {
        "vscode": {
          "languageId": "python"
        }
      },
      "outputs": [],
      "source": [
        "import pandas as pd \n",
        "import numpy as np"
      ],
      "id": "21cdca31-aa3a-4e0f-90a2-2f6e74ec1f37"
    },
    {
      "cell_type": "markdown",
      "metadata": {},
      "source": [
        "# 자료분석: 저출산\n",
        "\n",
        "## 데이터읽기 // `pd.read_html()`\n",
        "\n",
        "`-` 대한민국의 저출산문제\n",
        "\n",
        "-   ref: https://ko.wikipedia.org/wiki/대한민국의_저출산\n",
        "\n",
        "`-` 위의 url에서 3,5번째 테이블을 읽고싶다. - 3번째 테이블: 시도별\n",
        "출산율 - 5번째 테이블: 시도별 출생아 수"
      ],
      "id": "1719c534-8607-47bf-a36a-bad23a939c97"
    },
    {
      "cell_type": "code",
      "execution_count": 2,
      "metadata": {
        "vscode": {
          "languageId": "python"
        }
      },
      "outputs": [],
      "source": [
        "_dflst = pd.read_html('https://ko.wikipedia.org/wiki/%EB%8C%80%ED%95%9C%EB%AF%BC%EA%B5%AD%EC%9D%98_%EC%A0%80%EC%B6%9C%EC%82%B0')\n",
        "_df1 = _dflst[2] \n",
        "_df2 = _dflst[4] "
      ],
      "id": "816b54d8-97d1-4276-8572-ac4b40228f85"
    },
    {
      "cell_type": "code",
      "execution_count": 3,
      "metadata": {
        "vscode": {
          "languageId": "python"
        }
      },
      "outputs": [],
      "source": [
        "pd.DataFrame(np.array([[1,2],[3,4]])).applymap(lambda x: x+1)"
      ],
      "id": "5321f245-c6d3-47dc-aa8b-990099429921"
    },
    {
      "cell_type": "code",
      "execution_count": 4,
      "metadata": {
        "vscode": {
          "languageId": "python"
        }
      },
      "outputs": [],
      "source": [
        "_df2"
      ],
      "id": "3c946463-aebd-4684-a1bf-d3f96b7c1a6b"
    },
    {
      "cell_type": "markdown",
      "metadata": {},
      "source": [
        "`-` 데이터정리"
      ],
      "id": "e38d42a1-35c1-496e-ae88-1bdcb2237544"
    },
    {
      "cell_type": "code",
      "execution_count": 5,
      "metadata": {
        "vscode": {
          "languageId": "python"
        }
      },
      "outputs": [],
      "source": [
        "df1 = _df1.drop(17)\\\n",
        ".melt(id_vars='지역/연도[6]')\\\n",
        ".assign(variable = lambda df: list(map(lambda x: x[:4], df.variable)))\\\n",
        ".assign(value = lambda df: list(map(lambda x: None if x=='-' else float(x), df.value)))\\\n",
        ".set_axis(['지역','연도','출산율'],axis=1)\n",
        "df1"
      ],
      "id": "ecad82e8-521b-4331-ae30-207d48848572"
    },
    {
      "cell_type": "code",
      "execution_count": 6,
      "metadata": {
        "vscode": {
          "languageId": "python"
        }
      },
      "outputs": [],
      "source": [
        "df2 = _df2.drop(17)\\\n",
        ".melt(id_vars='지역/연도[6]')\\\n",
        ".assign(value = lambda df: list(map(lambda x: None if x=='-' else float(x), df.value)))\\\n",
        ".set_axis(['지역','연도','출생아수'],axis=1)\n",
        "df2"
      ],
      "id": "d6dee496-8ef4-4933-a60b-e3dd71a4040d"
    },
    {
      "cell_type": "markdown",
      "metadata": {},
      "source": [
        "## 시각화I: 전국 출생아수 시각화"
      ],
      "id": "6c150e6c-233f-45cb-9ba6-141af8dbff74"
    },
    {
      "cell_type": "code",
      "execution_count": 7,
      "metadata": {
        "vscode": {
          "languageId": "python"
        }
      },
      "outputs": [],
      "source": [
        "df2.groupby(['연도'])\\\n",
        ".agg({'출생아수':np.sum})\\\n",
        ".reset_index()\\\n",
        ".plot(x='연도',y='출생아수',backend='plotly')"
      ],
      "id": "3978ab6a-1919-4b21-8090-6ab6c6d22fba"
    },
    {
      "cell_type": "markdown",
      "metadata": {},
      "source": [
        "-   일괄적으로 감소하는 느낌은 없음\n",
        "\n",
        "## 시각화II: 시도별 출생아수 시각화\n",
        "\n",
        "`-` 시각화예시1"
      ],
      "id": "7577dcc5-e188-444f-ac8d-5edd2cd720ec"
    },
    {
      "cell_type": "code",
      "execution_count": 8,
      "metadata": {
        "vscode": {
          "languageId": "python"
        }
      },
      "outputs": [],
      "source": [
        "df2.plot.line(backend='plotly', x='연도',y='출생아수',color='지역')"
      ],
      "id": "6adb393c-3e03-4cae-a948-dd8057ba73e7"
    },
    {
      "cell_type": "markdown",
      "metadata": {},
      "source": [
        "-   서울과 경기가 특이함\n",
        "\n",
        "`-` 시각화예시2"
      ],
      "id": "da5f3d9b-0b45-4acd-85c3-0b0d72d8bd25"
    },
    {
      "cell_type": "code",
      "execution_count": 9,
      "metadata": {
        "vscode": {
          "languageId": "python"
        }
      },
      "outputs": [],
      "source": [
        "df2.plot.area(backend='plotly',x='연도',y='출생아수',color='지역')"
      ],
      "id": "b827c999-550c-4ede-b4e6-d03407966f1a"
    },
    {
      "cell_type": "markdown",
      "metadata": {},
      "source": [
        "-   areaplot의 최상단의 선: 전국출생아수 시각화와 같음 (일괄적으로\n",
        "    감소하는 느낌은 별로 없음, 그 이유를 살펴보니 서울과 경기지역\n",
        "    떄문임)\n",
        "-   areaplot의 장점: 전국출생아수를 년도별로 시각화 하는 느낌 + 각\n",
        "    연도를 도시별로 분해하여 해석하는 느낌\n",
        "\n",
        "## 시각화III: 시도별 출산율 시각화"
      ],
      "id": "4b80871f-a589-422a-bd1d-ff1c58b837d9"
    },
    {
      "cell_type": "code",
      "execution_count": 10,
      "metadata": {
        "vscode": {
          "languageId": "python"
        }
      },
      "outputs": [],
      "source": [
        "df1.plot.line(backend='plotly',x='연도',y='출산율',color='지역')"
      ],
      "id": "2ed99352-bea0-4bbb-bc2a-e444135bd003"
    },
    {
      "cell_type": "markdown",
      "metadata": {},
      "source": [
        "-   상식과 일치하는 정상적인 플랏 (출산율이 2012년 이후로 꺽이는 느낌이\n",
        "    든다)\n",
        "-   여기서는 서울/경기가 정상인듯 보인다.\n",
        "\n",
        "> 출산율의 경우 합계출산율이 크게 의미가 없으므로 areaplot은 생략한다.\n",
        "\n",
        "## 해석\n",
        "\n",
        "`-` 이상한점: 서울/경기지역에서 특정연도의 출생아수가 매우 낮음. 그런데\n",
        "서울/경기지역의 출산율은 모든 년도에서 고른값을 가짐.\n",
        "\n",
        "`-` 해석: 데이터가 이상하다.. // 위키를 살펴보니 오타가 있음!!\n",
        "\n",
        "## 데이터의 수정 (1): df2 상태에서 수정\n",
        "\n",
        "`-` df2의 수정"
      ],
      "id": "30abe3c5-3125-4ac4-ab60-e18a53c1f530"
    },
    {
      "cell_type": "code",
      "execution_count": 15,
      "metadata": {
        "vscode": {
          "languageId": "python"
        }
      },
      "outputs": [],
      "source": [
        "df2.sort_values(\"출생아수\")[:10]"
      ],
      "id": "09aee14b-c258-4a3a-ae61-2ea72ec2d1f9"
    },
    {
      "cell_type": "markdown",
      "metadata": {},
      "source": [
        "`-` 오타로 예상되는 서울/경기/충남 이외의 가장 작은 값은 2012년\n",
        "세종시인데, 이 값이 1054로 1000보다 크다.\n",
        "\n",
        "-   출생아수 \\< 1000 이면 출생아수 \\* 1000 을 수행하는 함수를 구현하자."
      ],
      "id": "940137b8-61ff-4853-bbdd-d7a5bfcaf208"
    },
    {
      "cell_type": "code",
      "execution_count": 17,
      "metadata": {
        "vscode": {
          "languageId": "python"
        }
      },
      "outputs": [],
      "source": [
        "df2.assign(출생아수= df2.출생아수.apply(lambda x: x*1000 if x<1000 else x))"
      ],
      "id": "eb764401-8d26-49f6-bf32-871da171c26e"
    },
    {
      "cell_type": "markdown",
      "metadata": {},
      "source": [
        "`-` 잘 변환되었는지 확인하기 위한 시각화"
      ],
      "id": "1f58387c-67c6-44ea-9c6d-aa533d69ba24"
    },
    {
      "cell_type": "code",
      "execution_count": 18,
      "metadata": {
        "vscode": {
          "languageId": "python"
        }
      },
      "outputs": [],
      "source": [
        "df2.assign(출생아수= df2.출생아수.apply(lambda x: x*1000 if x<1000 else x))\\\n",
        ".plot.area(x='연도',y='출생아수',color='지역',backend='plotly')"
      ],
      "id": "8852ea27-e928-497e-b1ef-dd1ffa3ebf33"
    },
    {
      "cell_type": "markdown",
      "metadata": {},
      "source": [
        "-   상식적인 결과: 전체출산율이 점점 낮아지고 있고 항목별로 살펴보아도\n",
        "    모든 도시의 출생아수가 점차 낮아지고 있음\n",
        "\n",
        "## 데이터의 수정 (2): \\_df2 상태에서 수정\n",
        "\n",
        "`-` applymap"
      ],
      "id": "d74e141a-1d49-41e7-8975-5ad35d05cbe1"
    },
    {
      "cell_type": "code",
      "execution_count": 19,
      "metadata": {
        "vscode": {
          "languageId": "python"
        }
      },
      "outputs": [],
      "source": [
        "_df2.set_index('지역/연도[6]') # applymap을 쓰기 위해서 임시로 지역/연도[6]을 인덱스로만듬 "
      ],
      "id": "a6e2edbb-8363-4e51-bc45-43fedb545397"
    },
    {
      "cell_type": "markdown",
      "metadata": {},
      "source": [
        "`-` 방법1"
      ],
      "id": "abfd39b4-d195-485f-8e62-6bf2ec9f4377"
    },
    {
      "cell_type": "code",
      "execution_count": 51,
      "metadata": {
        "vscode": {
          "languageId": "python"
        }
      },
      "outputs": [],
      "source": [
        "_df2.set_index('지역/연도[6]')\\\n",
        ".applymap(lambda x: None if x == '-' else float(x))\\\n",
        ".applymap(lambda x: x*1000 if x<1000 else x)\\\n",
        ".drop('전국')\\\n",
        ".stack().reset_index()"
      ],
      "id": "d2de76fa-7876-4350-8cc9-dfb9a24c9bde"
    },
    {
      "cell_type": "markdown",
      "metadata": {},
      "source": [
        "`-` 방법2"
      ],
      "id": "316bfb4d-b9f2-472c-91e2-6519cdf6ef19"
    },
    {
      "cell_type": "code",
      "execution_count": 21,
      "metadata": {
        "vscode": {
          "languageId": "python"
        }
      },
      "outputs": [],
      "source": [
        "df2 = _df2.set_index('지역/연도[6]')\\\n",
        ".applymap(lambda x: None if x == '-' else float(x))\\\n",
        ".applymap(lambda x: x*1000 if x<1000 else x)\\\n",
        ".drop('전국')\\\n",
        ".reset_index()\\\n",
        ".melt(id_vars='지역/연도[6]')\\\n",
        ".set_axis(['지역','연도','출생아수'],axis=1)\n",
        "df2"
      ],
      "id": "ba744c41-956e-48ee-ac87-4e90093b5ac7"
    },
    {
      "cell_type": "code",
      "execution_count": 22,
      "metadata": {
        "vscode": {
          "languageId": "python"
        }
      },
      "outputs": [],
      "source": [
        "df2.plot.area(backend='plotly',x='연도',y='출생아수',color='지역')"
      ],
      "id": "7ccfa399-8ae3-47bd-9c04-7c7e494fcfe4"
    }
  ],
  "nbformat": 4,
  "nbformat_minor": 5,
  "metadata": {
    "kernelspec": {
      "name": "python3",
      "display_name": "Python 3 (ipykernel)",
      "language": "python"
    },
    "language_info": {
      "name": "python",
      "codemirror_mode": {
        "name": "ipython",
        "version": "3"
      },
      "file_extension": ".py",
      "mimetype": "text/x-python",
      "nbconvert_exporter": "python",
      "pygments_lexer": "ipython3",
      "version": "3.10.12"
    }
  }
}