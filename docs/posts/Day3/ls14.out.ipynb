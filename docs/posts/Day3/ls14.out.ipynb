{
  "cells": [
    {
      "cell_type": "markdown",
      "metadata": {},
      "source": [
        "# Lesson 14: 빅데이터와 시각화 – 크롤링 + 시각화\n",
        "\n",
        "최규빈  \n",
        "2023-07-26\n",
        "\n",
        "<a href=\"https://colab.research.google.com/github/guebin/PP2024WIN/blob/main/posts/Day3/ls14.ipynb\"><img src=\"https://colab.research.google.com/assets/colab-badge.svg\" style=\"text-align: left\"></a>"
      ],
      "id": "3dc92aa3-37a8-4cfb-9d3a-fe76f59d3c12"
    },
    {
      "cell_type": "code",
      "execution_count": 1,
      "metadata": {
        "tags": []
      },
      "outputs": [],
      "source": [
        "# !pip install yfinance\n",
        "import numpy as np \n",
        "import pandas as pd \n",
        "import yfinance as yf"
      ],
      "id": "40a3cbc8-f0a8-44bb-b6f0-4079e894e5b5"
    },
    {
      "cell_type": "markdown",
      "metadata": {},
      "source": [
        "# `yfinance`를 이용한 주식자료 시각화\n",
        "\n",
        "## A. 크롤링 + 데이터정리\n",
        "\n",
        "`-` yahoo finance: https://finance.yahoo.com/\n",
        "\n",
        "**Apple: `'AAPL'`**"
      ],
      "id": "d321125a-c254-48d6-a7de-a0f0fb767a27"
    },
    {
      "cell_type": "raw",
      "metadata": {
        "raw_mimetype": "text/html"
      },
      "source": [
        "<figure>"
      ],
      "id": "31d2419e-c1a9-4f7b-b69f-e72a1fe76f41"
    },
    {
      "cell_type": "markdown",
      "metadata": {},
      "source": [
        "<img\n",
        "src=\"ls14_files/figure-ipynb/8f6bf0b8-35e6-4324-ae0a-e2628e7bb60b-1-10wk-1_files/figure-ipynb/c2016753-3330-437a-bd4e-d9ef1cd24afb-1-825f3296-8485-439d-8432-e52a19c50910.png\"\n",
        "alt=\"Apple 코드\" />"
      ],
      "id": "f794b22b-2b04-4806-8ddf-abc9f04c0038"
    },
    {
      "cell_type": "raw",
      "metadata": {
        "raw_mimetype": "text/html"
      },
      "source": [
        "<figcaption aria-hidden=\"true\">"
      ],
      "id": "e03b20c7-0115-455a-8339-2e41ab73b6f9"
    },
    {
      "cell_type": "markdown",
      "metadata": {},
      "source": [
        "Apple 코드"
      ],
      "id": "83058525-cfc8-4747-864c-1674a3b39da5"
    },
    {
      "cell_type": "raw",
      "metadata": {
        "raw_mimetype": "text/html"
      },
      "source": [
        "</figcaption>"
      ],
      "id": "3ed9abeb-2ca8-4806-831a-1521ee81570c"
    },
    {
      "cell_type": "raw",
      "metadata": {
        "raw_mimetype": "text/html"
      },
      "source": [
        "</figure>"
      ],
      "id": "9e7f9349-5f21-4b7c-ae0e-3f9083e67127"
    },
    {
      "cell_type": "markdown",
      "metadata": {},
      "source": [
        "**삼성전자: `'005930.KS'`**"
      ],
      "id": "6efd4c52-c1f3-4940-a8ac-825913aea187"
    },
    {
      "cell_type": "raw",
      "metadata": {
        "raw_mimetype": "text/html"
      },
      "source": [
        "<figure>"
      ],
      "id": "a4ce5533-7791-48bc-91ed-d3178615b2f5"
    },
    {
      "cell_type": "markdown",
      "metadata": {},
      "source": [
        "<img\n",
        "src=\"ls14_files/figure-ipynb/8f6bf0b8-35e6-4324-ae0a-e2628e7bb60b-2-10wk-1_files/figure-ipynb/dd41452f-2b17-47e5-8b5d-ea2c46bba973-1-c2ae28ce-13f7-44e7-8c1f-32055d0535f1.png\"\n",
        "alt=\"삼성전자 코드\" />"
      ],
      "id": "b6c998e3-8676-4e0f-929b-1c327e266c48"
    },
    {
      "cell_type": "raw",
      "metadata": {
        "raw_mimetype": "text/html"
      },
      "source": [
        "<figcaption aria-hidden=\"true\">"
      ],
      "id": "0e94bdbf-d38d-4398-b62a-c04255044091"
    },
    {
      "cell_type": "markdown",
      "metadata": {},
      "source": [
        "삼성전자 코드"
      ],
      "id": "dc3f2632-290a-4052-afe4-9ab55f60518b"
    },
    {
      "cell_type": "raw",
      "metadata": {
        "raw_mimetype": "text/html"
      },
      "source": [
        "</figcaption>"
      ],
      "id": "615cfb95-4335-4948-ade8-4fafe2e42837"
    },
    {
      "cell_type": "raw",
      "metadata": {
        "raw_mimetype": "text/html"
      },
      "source": [
        "</figure>"
      ],
      "id": "f79f1b5f-a8a2-47d3-8ebd-a8b69a3e36c6"
    },
    {
      "cell_type": "markdown",
      "metadata": {},
      "source": [
        "`-` 크롤링을 위한 코드"
      ],
      "id": "bad370a4-17f5-418c-9115-db95d81a144f"
    },
    {
      "cell_type": "code",
      "execution_count": 2,
      "metadata": {
        "tags": []
      },
      "outputs": [
        {
          "output_type": "stream",
          "name": "stderr",
          "text": [
            "[                       0%%                      ][**************        29%%                      ]  2 of 7 completed[**************        29%%                      ]  2 of 7 completed[**********************57%%*                     ]  4 of 7 completed[**********************57%%*                     ]  4 of 7 completed[**********************86%%***************       ]  6 of 7 completed[*********************100%%**********************]  7 of 7 completed"
          ]
        }
      ],
      "source": [
        "symbols = ['AMZN','AAPL','GOOG','MSFT','NFLX','NVDA','TSLA']\n",
        "start = '2020-01-01'\n",
        "end = '2023-11-06'\n",
        "df = yf.download(symbols,start,end)\n",
        "df"
      ],
      "id": "8dc4353f-576c-4a67-9ef4-97ec1b869549"
    },
    {
      "cell_type": "markdown",
      "metadata": {},
      "source": [
        "`-` 데이터를 살펴보자."
      ],
      "id": "46266634-8f4c-4f16-bfc2-64d6c85ae36e"
    },
    {
      "cell_type": "code",
      "execution_count": 3,
      "metadata": {
        "tags": []
      },
      "outputs": [],
      "source": [
        "df.stack()"
      ],
      "id": "5edaf8cc-162c-4cae-8245-fa355c18ada3"
    },
    {
      "cell_type": "markdown",
      "metadata": {},
      "source": [
        "## B. 시각화\n",
        "\n",
        "`-` tidydata를 생성"
      ],
      "id": "b41f37af-9d5f-4d27-9ab8-ff64251a5c6d"
    },
    {
      "cell_type": "code",
      "execution_count": 4,
      "metadata": {
        "tags": []
      },
      "outputs": [],
      "source": [
        "df.loc[:,'Adj Close'].stack().reset_index()\\\n",
        ".set_axis(['Date','Company','Price'],axis=1)"
      ],
      "id": "f48b5e84-3620-4aa2-871b-10cb1654dce9"
    },
    {
      "cell_type": "markdown",
      "metadata": {},
      "source": [
        "`-` 바로 이어서 시각화! – `x='Date', y='Price', color='Company'`"
      ],
      "id": "6fdb45b2-1123-4ad8-bee8-0846ad6f9990"
    },
    {
      "cell_type": "code",
      "execution_count": 5,
      "metadata": {
        "tags": []
      },
      "outputs": [
        {
          "output_type": "stream",
          "name": "stderr",
          "text": [
            "/home/cgb2/anaconda3/envs/r/lib/python3.10/site-packages/_plotly_utils/basevalidators.py:105: FutureWarning:\n",
            "\n",
            "The behavior of DatetimeProperties.to_pydatetime is deprecated, in a future version this will return a Series containing python datetime objects instead of an ndarray. To retain the old behavior, call `np.array` on the result\n"
          ]
        }
      ],
      "source": [
        "df.loc[:,'Adj Close'].stack().reset_index()\\\n",
        ".set_axis(['Date','Company','Price'],axis=1)\\\n",
        ".plot.line(x='Date',y='Price',color='Company',backend='plotly')"
      ],
      "id": "7ffd98b3-d6d9-49ad-b19b-8d4ac2d824f2"
    },
    {
      "cell_type": "markdown",
      "metadata": {},
      "source": [
        "# 출산율 시각화\n",
        "\n",
        "## A. 크롤링 + 데이터정리\n",
        "\n",
        "`-` 대한민국의 저출산문제\n",
        "\n",
        "ref: <https://ko.wikipedia.org/wiki/대한민국의_저출산>\n",
        "\n",
        "`-` 위의 url에서 5번째 테이블을 읽고싶다.\n",
        "\n",
        "-   5번째 테이블: 시도별 출생아 수"
      ],
      "id": "202a9760-9c1a-41ef-ab76-4f1e43fe7b01"
    },
    {
      "cell_type": "code",
      "execution_count": 6,
      "metadata": {
        "tags": []
      },
      "outputs": [],
      "source": [
        "df_lst = pd.read_html('https://ko.wikipedia.org/wiki/%EB%8C%80%ED%95%9C%EB%AF%BC%EA%B5%AD%EC%9D%98_%EC%A0%80%EC%B6%9C%EC%82%B0')\n",
        "df = df_lst[4]\n",
        "df"
      ],
      "id": "5dd66002-4b9a-4862-9ac7-3fd1e1f2ad0f"
    },
    {
      "cell_type": "markdown",
      "metadata": {},
      "source": [
        "`-` `'-'`로 표현된 값을 0으로 처리하는게 좋겠음"
      ],
      "id": "6f9e3e9a-be86-4365-a9f7-73b76142d1ee"
    },
    {
      "cell_type": "code",
      "execution_count": 7,
      "metadata": {
        "tags": []
      },
      "outputs": [
        {
          "output_type": "stream",
          "name": "stderr",
          "text": [
            "/tmp/ipykernel_1311829/1737303492.py:3: FutureWarning:\n",
            "\n",
            "DataFrame.applymap has been deprecated. Use DataFrame.map instead.\n"
          ]
        }
      ],
      "source": [
        "df.rename({'지역/연도[6]':'지역'},axis=1)\\\n",
        ".set_index(['지역'])\\\n",
        ".applymap(lambda x: 0 if '-' in str(x) else float(x)).reset_index()"
      ],
      "id": "d8c1ae54-7ed4-4bb6-9da7-5c840040b1cc"
    },
    {
      "cell_type": "markdown",
      "metadata": {},
      "source": [
        "## B. 시각화1: 전국 출생아수 시각화\n",
        "\n",
        "`-` 전국으로 집계가 되어있던 정보를 남겨도 좋지만, `groupy+agg` 조합으로\n",
        "새롭게 계산해보자."
      ],
      "id": "c0303765-d8ce-48e7-85ca-78eabd6d83ee"
    },
    {
      "cell_type": "code",
      "execution_count": 8,
      "metadata": {
        "tags": []
      },
      "outputs": [
        {
          "output_type": "stream",
          "name": "stderr",
          "text": [
            "/tmp/ipykernel_1311829/1805618332.py:3: FutureWarning:\n",
            "\n",
            "DataFrame.applymap has been deprecated. Use DataFrame.map instead.\n"
          ]
        }
      ],
      "source": [
        "df.rename({'지역/연도[6]':'지역'},axis=1)\\\n",
        ".set_index(['지역'])\\\n",
        ".applymap(lambda x: 0 if '-' in str(x) else float(x)).drop('전국')\\\n",
        ".stack().reset_index().rename({'level_1':'년도',0:'출생아수'},axis=1)\\\n",
        ".groupby('년도').agg({'출생아수':'sum'}).reset_index()\\\n",
        ".plot.line(x='년도',y='출생아수',backend='plotly')"
      ],
      "id": "4570b61a-e7a2-4f46-bf56-fcb205a30a83"
    },
    {
      "cell_type": "markdown",
      "metadata": {},
      "source": [
        "## C. 시각화2: 시도별 출생아수 시각화 (line)"
      ],
      "id": "681db301-fcb4-4251-99eb-d929f9fcb904"
    },
    {
      "cell_type": "code",
      "execution_count": 9,
      "metadata": {
        "tags": []
      },
      "outputs": [
        {
          "output_type": "stream",
          "name": "stderr",
          "text": [
            "/tmp/ipykernel_1311829/277281482.py:3: FutureWarning:\n",
            "\n",
            "DataFrame.applymap has been deprecated. Use DataFrame.map instead.\n"
          ]
        }
      ],
      "source": [
        "df.rename({'지역/연도[6]':'지역'},axis=1)\\\n",
        ".set_index(['지역'])\\\n",
        ".applymap(lambda x: 0 if '-' in str(x) else float(x)).drop('전국')\\\n",
        ".stack().reset_index().rename({'level_1':'년도',0:'출생아수'},axis=1)\\\n",
        ".plot.line(x='년도',y='출생아수',color='지역',backend='plotly')"
      ],
      "id": "f8c2f1c4-71a3-4f76-9a46-fdf976d7428e"
    },
    {
      "cell_type": "markdown",
      "metadata": {},
      "source": [
        "## D. 시각화3: 시도별 출생아수 시각화 (area)\n",
        "\n",
        "`-` 시각화1,시각화2의 정보가 적절히 혼합되어있는 시각화는 없을까?"
      ],
      "id": "418e8e68-f2ff-4dbe-8587-198863004667"
    },
    {
      "cell_type": "code",
      "execution_count": 10,
      "metadata": {
        "tags": []
      },
      "outputs": [
        {
          "output_type": "stream",
          "name": "stderr",
          "text": [
            "/tmp/ipykernel_1311829/70633050.py:3: FutureWarning:\n",
            "\n",
            "DataFrame.applymap has been deprecated. Use DataFrame.map instead.\n"
          ]
        }
      ],
      "source": [
        "df.rename({'지역/연도[6]':'지역'},axis=1)\\\n",
        ".set_index(['지역'])\\\n",
        ".applymap(lambda x: 0 if '-' in str(x) else float(x)).drop('전국')\\\n",
        ".stack().reset_index().rename({'level_1':'년도',0:'출생아수'},axis=1)\\\n",
        ".plot.area(x='년도',y='출생아수',color='지역',backend='plotly')"
      ],
      "id": "582cb57a-11cc-4b90-bffb-794a307343c8"
    },
    {
      "cell_type": "markdown",
      "metadata": {},
      "source": [
        "-   기묘하다..\n",
        "\n",
        "`-` 해석: 2014년 경기, 2016년 서울, 2019년 경기에 애를 낳지 않는다.\n",
        "\n",
        "`-` 데이터와 비교"
      ],
      "id": "83efc82a-5626-46dd-b747-dcb128347673"
    },
    {
      "cell_type": "code",
      "execution_count": 11,
      "metadata": {
        "tags": []
      },
      "outputs": [],
      "source": [
        "df"
      ],
      "id": "b013c963-ad63-4bf9-964c-55f2821f422f"
    },
    {
      "cell_type": "markdown",
      "metadata": {},
      "source": [
        "## E. 시각화1,2,3 수정\n",
        "\n",
        "`-` 시각화1의 수정"
      ],
      "id": "8825b49f-2b52-43cc-ba7e-34566ff22f84"
    },
    {
      "cell_type": "code",
      "execution_count": 12,
      "metadata": {
        "tags": []
      },
      "outputs": [
        {
          "output_type": "stream",
          "name": "stderr",
          "text": [
            "/tmp/ipykernel_1311829/1274971694.py:3: FutureWarning:\n",
            "\n",
            "DataFrame.applymap has been deprecated. Use DataFrame.map instead.\n",
            "\n",
            "/tmp/ipykernel_1311829/1274971694.py:4: FutureWarning:\n",
            "\n",
            "DataFrame.applymap has been deprecated. Use DataFrame.map instead.\n"
          ]
        }
      ],
      "source": [
        "df.rename({'지역/연도[6]':'지역'},axis=1)\\\n",
        ".set_index(['지역'])\\\n",
        ".applymap(lambda x: 0 if '-' in str(x) else float(x)).drop('전국')\\\n",
        ".applymap(lambda x: x*1000 if x<1000 else x)\\\n",
        ".stack().reset_index().rename({'level_1':'년도',0:'출생아수'},axis=1)\\\n",
        ".groupby('년도').agg({'출생아수':'sum'}).reset_index()\\\n",
        ".plot.line(x='년도',y='출생아수',backend='plotly')"
      ],
      "id": "eeecdbe4-8888-432c-b271-45bdc098860e"
    },
    {
      "cell_type": "markdown",
      "metadata": {},
      "source": [
        "`-` 시각화2의 수정"
      ],
      "id": "23c161ec-9e10-48f1-923b-037b7eaeaee2"
    },
    {
      "cell_type": "code",
      "execution_count": 13,
      "metadata": {
        "tags": []
      },
      "outputs": [
        {
          "output_type": "stream",
          "name": "stderr",
          "text": [
            "/tmp/ipykernel_1311829/1526382732.py:3: FutureWarning:\n",
            "\n",
            "DataFrame.applymap has been deprecated. Use DataFrame.map instead.\n",
            "\n",
            "/tmp/ipykernel_1311829/1526382732.py:4: FutureWarning:\n",
            "\n",
            "DataFrame.applymap has been deprecated. Use DataFrame.map instead.\n"
          ]
        }
      ],
      "source": [
        "df.rename({'지역/연도[6]':'지역'},axis=1)\\\n",
        ".set_index(['지역'])\\\n",
        ".applymap(lambda x: 0 if '-' in str(x) else float(x)).drop('전국')\\\n",
        ".applymap(lambda x: x*1000 if x<1000 else x)\\\n",
        ".stack().reset_index().rename({'level_1':'년도',0:'출생아수'},axis=1)\\\n",
        ".plot.line(x='년도',y='출생아수',color='지역',backend='plotly')"
      ],
      "id": "f5c88e42-e07d-41af-a349-ab33a791a78c"
    },
    {
      "cell_type": "markdown",
      "metadata": {},
      "source": [
        "`-` 시각화3의 수정"
      ],
      "id": "f43f9bba-53c9-49c2-a211-de9fe7408d2b"
    },
    {
      "cell_type": "code",
      "execution_count": 14,
      "metadata": {
        "tags": []
      },
      "outputs": [
        {
          "output_type": "stream",
          "name": "stderr",
          "text": [
            "/tmp/ipykernel_1311829/3339566067.py:3: FutureWarning:\n",
            "\n",
            "DataFrame.applymap has been deprecated. Use DataFrame.map instead.\n",
            "\n",
            "/tmp/ipykernel_1311829/3339566067.py:4: FutureWarning:\n",
            "\n",
            "DataFrame.applymap has been deprecated. Use DataFrame.map instead.\n"
          ]
        }
      ],
      "source": [
        "df.rename({'지역/연도[6]':'지역'},axis=1)\\\n",
        ".set_index(['지역'])\\\n",
        ".applymap(lambda x: 0 if '-' in str(x) else float(x)).drop('전국')\\\n",
        ".applymap(lambda x: x*1000 if x<1000 else x)\\\n",
        ".stack().reset_index().rename({'level_1':'년도',0:'출생아수'},axis=1)\\\n",
        ".plot.area(x='년도',y='출생아수',color='지역',backend='plotly')"
      ],
      "id": "3e5fc4a7-f121-464e-a662-db6e6b17cd14"
    }
  ],
  "nbformat": 4,
  "nbformat_minor": 5,
  "metadata": {
    "kernelspec": {
      "name": "python3",
      "display_name": "Python 3 (ipykernel)",
      "language": "python"
    },
    "language_info": {
      "name": "python",
      "codemirror_mode": {
        "name": "ipython",
        "version": "3"
      },
      "file_extension": ".py",
      "mimetype": "text/x-python",
      "nbconvert_exporter": "python",
      "pygments_lexer": "ipython3",
      "version": "3.10.13"
    }
  }
}