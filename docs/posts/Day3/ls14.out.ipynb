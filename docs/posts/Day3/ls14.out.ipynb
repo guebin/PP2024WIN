{
  "cells": [
    {
      "cell_type": "markdown",
      "metadata": {},
      "source": [
        "# Lesson 14: 빅데이터와 시각화 – 크롤링 + 시각화\n",
        "\n",
        "최규빈  \n",
        "2024-01-10\n",
        "\n",
        "<a href=\"https://colab.research.google.com/github/guebin/PP2024WIN/blob/main/posts/Day3/ls14.ipynb\"><img src=\"https://colab.research.google.com/assets/colab-badge.svg\" style=\"text-align: left\"></a>"
      ],
      "id": "d2cfa87c-31f2-41b8-b325-7f1f61762598"
    },
    {
      "cell_type": "raw",
      "metadata": {},
      "source": [
        "{{< https://youtu.be/playlist?list=PLQqh36zP38-xHvsBJCEyhWyj1V3U0qtQJ&si=A6MudgUp7ETE0g6z >}}"
      ],
      "id": "9af73d42-bae7-4152-8811-af901431e755"
    },
    {
      "cell_type": "code",
      "execution_count": 1,
      "metadata": {
        "tags": []
      },
      "outputs": [],
      "source": [
        "# !pip install yfinance\n",
        "import numpy as np \n",
        "import pandas as pd\n",
        "import matplotlib.pyplot as plt \n",
        "import yfinance as yf"
      ],
      "id": "40a3cbc8-f0a8-44bb-b6f0-4079e894e5b5"
    },
    {
      "cell_type": "markdown",
      "metadata": {},
      "source": [
        "# `yfinance`를 이용한 주식자료 시각화\n",
        "\n",
        "## A. 크롤링 + 데이터정리\n",
        "\n",
        "`-` yahoo finance: https://finance.yahoo.com/\n",
        "\n",
        "**Apple: `'AAPL'`**"
      ],
      "id": "26429776-983f-481c-a22e-7b36e1e43395"
    },
    {
      "cell_type": "raw",
      "metadata": {
        "raw_mimetype": "text/html"
      },
      "source": [
        "<figure>"
      ],
      "id": "74367f09-2473-4c1e-8f38-b9dfda92b418"
    },
    {
      "cell_type": "markdown",
      "metadata": {},
      "source": [
        "<img\n",
        "src=\"ls14_files/figure-ipynb/8f6bf0b8-35e6-4324-ae0a-e2628e7bb60b-1-10wk-1_files/figure-ipynb/c2016753-3330-437a-bd4e-d9ef1cd24afb-1-825f3296-8485-439d-8432-e52a19c50910.png\"\n",
        "alt=\"Apple 코드\" />"
      ],
      "id": "ecb20bcc-9ddd-4998-a527-2819b9d3820b"
    },
    {
      "cell_type": "raw",
      "metadata": {
        "raw_mimetype": "text/html"
      },
      "source": [
        "<figcaption aria-hidden=\"true\">"
      ],
      "id": "77871f0c-5d4c-45e2-bf7a-9979de1359e7"
    },
    {
      "cell_type": "markdown",
      "metadata": {},
      "source": [
        "Apple 코드"
      ],
      "id": "05592fa5-b163-40fa-b7f4-16dee2a114d0"
    },
    {
      "cell_type": "raw",
      "metadata": {
        "raw_mimetype": "text/html"
      },
      "source": [
        "</figcaption>"
      ],
      "id": "f27b2b0f-7c40-4da9-bd75-5ca211c70e53"
    },
    {
      "cell_type": "raw",
      "metadata": {
        "raw_mimetype": "text/html"
      },
      "source": [
        "</figure>"
      ],
      "id": "fc8235a9-1cd2-464f-b31c-d5165c33162b"
    },
    {
      "cell_type": "markdown",
      "metadata": {},
      "source": [
        "**삼성전자: `'005930.KS'`**"
      ],
      "id": "2dd6d22d-27dc-4e6e-81a4-1e1fa9036ff8"
    },
    {
      "cell_type": "raw",
      "metadata": {
        "raw_mimetype": "text/html"
      },
      "source": [
        "<figure>"
      ],
      "id": "49dc025b-f050-4d4b-9ba1-d0daf2fa6505"
    },
    {
      "cell_type": "markdown",
      "metadata": {},
      "source": [
        "<img\n",
        "src=\"ls14_files/figure-ipynb/8f6bf0b8-35e6-4324-ae0a-e2628e7bb60b-2-10wk-1_files/figure-ipynb/dd41452f-2b17-47e5-8b5d-ea2c46bba973-1-c2ae28ce-13f7-44e7-8c1f-32055d0535f1.png\"\n",
        "alt=\"삼성전자 코드\" />"
      ],
      "id": "dbb86c9a-7270-4f24-982a-afc8988ae87a"
    },
    {
      "cell_type": "raw",
      "metadata": {
        "raw_mimetype": "text/html"
      },
      "source": [
        "<figcaption aria-hidden=\"true\">"
      ],
      "id": "65942273-e464-49e6-9662-2bd2ef620c4b"
    },
    {
      "cell_type": "markdown",
      "metadata": {},
      "source": [
        "삼성전자 코드"
      ],
      "id": "aa675b8a-1a7f-4c0c-8e6a-54b36a6f8d6c"
    },
    {
      "cell_type": "raw",
      "metadata": {
        "raw_mimetype": "text/html"
      },
      "source": [
        "</figcaption>"
      ],
      "id": "f619a55e-efa1-4a1c-bcdf-ff28f54a5d70"
    },
    {
      "cell_type": "raw",
      "metadata": {
        "raw_mimetype": "text/html"
      },
      "source": [
        "</figure>"
      ],
      "id": "bda6ff45-6e48-4359-bc02-2a759da552b3"
    },
    {
      "cell_type": "markdown",
      "metadata": {},
      "source": [
        "`-` 크롤링을 위한 코드"
      ],
      "id": "8b8ad18d-19bc-4835-baa1-d8886cf59eee"
    },
    {
      "cell_type": "code",
      "execution_count": 2,
      "metadata": {
        "tags": []
      },
      "outputs": [
        {
          "output_type": "stream",
          "name": "stderr",
          "text": [
            "[                       0%%                      ][**************        29%%                      ]  2 of 7 completed[********************* 43%%                      ]  3 of 7 completed[**********************57%%*                     ]  4 of 7 completed[**********************71%%********              ]  5 of 7 completed[**********************86%%***************       ]  6 of 7 completed[*********************100%%**********************]  7 of 7 completed"
          ]
        }
      ],
      "source": [
        "symbols = ['AMZN','AAPL','GOOG','MSFT','NFLX','NVDA','TSLA']\n",
        "start = '2020-01-01'\n",
        "end = '2024-01-10'\n",
        "df = yf.download(symbols,start,end)\n",
        "df"
      ],
      "id": "8dc4353f-576c-4a67-9ef4-97ec1b869549"
    },
    {
      "cell_type": "markdown",
      "metadata": {},
      "source": [
        "## B. 시각화"
      ],
      "id": "b4dd8941-043e-4a9f-bc78-f09741f5bd30"
    },
    {
      "cell_type": "code",
      "execution_count": 3,
      "metadata": {
        "tags": []
      },
      "outputs": [
        {
          "output_type": "stream",
          "name": "stderr",
          "text": [
            "/home/cgb2/anaconda3/envs/r/lib/python3.10/site-packages/_plotly_utils/basevalidators.py:105: FutureWarning:\n",
            "\n",
            "The behavior of DatetimeProperties.to_pydatetime is deprecated, in a future version this will return a Series containing python datetime objects instead of an ndarray. To retain the old behavior, call `np.array` on the result\n"
          ]
        }
      ],
      "source": [
        "df.loc[:,'Adj Close'].plot.line(backend='plotly')"
      ],
      "id": "08643640-5f55-45fa-8004-5fac4c2ed0fe"
    },
    {
      "cell_type": "markdown",
      "metadata": {},
      "source": [
        "# 출산율 시각화\n",
        "\n",
        "## A. 크롤링 + 데이터정리\n",
        "\n",
        "`-` 대한민국의 저출산문제\n",
        "\n",
        "ref: <https://ko.wikipedia.org/wiki/대한민국의_저출산>\n",
        "\n",
        "`-` 위의 url에서 5번째 테이블을 읽고싶다.\n",
        "\n",
        "-   5번째 테이블: 시도별 출생아 수"
      ],
      "id": "3aec1715-2048-47b2-9a63-4f61b2d1a471"
    },
    {
      "cell_type": "code",
      "execution_count": 4,
      "metadata": {
        "tags": []
      },
      "outputs": [],
      "source": [
        "df_lst = pd.read_html('https://ko.wikipedia.org/wiki/%EB%8C%80%ED%95%9C%EB%AF%BC%EA%B5%AD%EC%9D%98_%EC%A0%80%EC%B6%9C%EC%82%B0')\n",
        "df = df_lst[4]\n",
        "df"
      ],
      "id": "5dd66002-4b9a-4862-9ac7-3fd1e1f2ad0f"
    },
    {
      "cell_type": "markdown",
      "metadata": {},
      "source": [
        "## B. 시각화1: 전국 출생아수 시각화"
      ],
      "id": "3452b130-9847-4768-920c-be6deda6c275"
    },
    {
      "cell_type": "code",
      "execution_count": 5,
      "metadata": {
        "tags": []
      },
      "outputs": [
        {
          "output_type": "stream",
          "name": "stderr",
          "text": [
            "/tmp/ipykernel_1326558/925425684.py:2: FutureWarning:\n",
            "\n",
            "DataFrame.applymap has been deprecated. Use DataFrame.map instead.\n"
          ]
        }
      ],
      "source": [
        "df.set_index('지역/연도[6]')\\\n",
        ".applymap(lambda x: 0 if x == '-' else float(x))\\\n",
        ".iloc[:-1,:]\\\n",
        ".sum(axis=0)\\\n",
        ".plot.line(backend='plotly')"
      ],
      "id": "50fe60f0-9743-44f0-abbb-95c8ee3671d5"
    },
    {
      "cell_type": "markdown",
      "metadata": {},
      "source": [
        "## C. 시각화2: 시도별 출생아수 시각화 (line)"
      ],
      "id": "0000778e-6076-45cb-9eff-d5eb23702451"
    },
    {
      "cell_type": "code",
      "execution_count": 6,
      "metadata": {
        "tags": []
      },
      "outputs": [
        {
          "output_type": "stream",
          "name": "stderr",
          "text": [
            "/tmp/ipykernel_1326558/2975889792.py:2: FutureWarning:\n",
            "\n",
            "DataFrame.applymap has been deprecated. Use DataFrame.map instead.\n"
          ]
        }
      ],
      "source": [
        "df.set_index('지역/연도[6]')\\\n",
        ".applymap(lambda x: 0 if x == '-' else float(x)).T\\\n",
        ".loc[:,'서울':'제주']\\\n",
        ".plot.line(backend='plotly')"
      ],
      "id": "bbc25bdf-ddbe-49aa-9db0-d8ede5f2d23f"
    },
    {
      "cell_type": "markdown",
      "metadata": {},
      "source": [
        "## D. 시각화3: 시도별 출생아수 시각화 (area)\n",
        "\n",
        "`-` 시각화1,시각화2의 정보가 적절히 혼합되어있는 시각화는 없을까?"
      ],
      "id": "026ba174-4447-407f-8c16-3d9324f69d7c"
    },
    {
      "cell_type": "code",
      "execution_count": 7,
      "metadata": {
        "tags": []
      },
      "outputs": [
        {
          "output_type": "stream",
          "name": "stderr",
          "text": [
            "/tmp/ipykernel_1326558/1346429013.py:2: FutureWarning:\n",
            "\n",
            "DataFrame.applymap has been deprecated. Use DataFrame.map instead.\n"
          ]
        }
      ],
      "source": [
        "df.set_index('지역/연도[6]')\\\n",
        ".applymap(lambda x: 0 if x == '-' else float(x)).T\\\n",
        ".loc[:,'서울':'제주']\\\n",
        ".plot.area(backend='plotly')"
      ],
      "id": "c38f8a12-e5fc-4b55-814f-57b31d972623"
    },
    {
      "cell_type": "markdown",
      "metadata": {},
      "source": [
        "## E. 시각화1,2,3 수정\n",
        "\n",
        "`-` 시각화1의 수정"
      ],
      "id": "9c36daab-8ee6-4d76-9e67-4b83de1ffc7b"
    },
    {
      "cell_type": "code",
      "execution_count": 8,
      "metadata": {
        "tags": []
      },
      "outputs": [
        {
          "output_type": "stream",
          "name": "stderr",
          "text": [
            "/tmp/ipykernel_1326558/1644146122.py:2: FutureWarning:\n",
            "\n",
            "DataFrame.applymap has been deprecated. Use DataFrame.map instead.\n",
            "\n",
            "/tmp/ipykernel_1326558/1644146122.py:3: FutureWarning:\n",
            "\n",
            "DataFrame.applymap has been deprecated. Use DataFrame.map instead.\n"
          ]
        }
      ],
      "source": [
        "df.set_index('지역/연도[6]')\\\n",
        ".applymap(lambda x: 0 if x == '-' else float(x))\\\n",
        ".applymap(lambda x: x*1000 if x<1000 else x)\\\n",
        ".iloc[:-1,:]\\\n",
        ".sum(axis=0)\\\n",
        ".plot.line(backend='plotly')"
      ],
      "id": "90da69e5-2d2f-45b9-8930-4a36307af424"
    },
    {
      "cell_type": "code",
      "execution_count": 9,
      "metadata": {
        "tags": []
      },
      "outputs": [
        {
          "output_type": "stream",
          "name": "stderr",
          "text": [
            "/tmp/ipykernel_1326558/2864061887.py:2: FutureWarning:\n",
            "\n",
            "DataFrame.applymap has been deprecated. Use DataFrame.map instead.\n",
            "\n",
            "/tmp/ipykernel_1326558/2864061887.py:3: FutureWarning:\n",
            "\n",
            "DataFrame.applymap has been deprecated. Use DataFrame.map instead.\n"
          ]
        }
      ],
      "source": [
        "df.set_index('지역/연도[6]')\\\n",
        ".applymap(lambda x: 0 if x == '-' else float(x))\\\n",
        ".applymap(lambda x: x*1000 if x<1000 else x).T\\\n",
        ".loc[:,'서울':'제주']\\\n",
        ".plot.line(backend='plotly')"
      ],
      "id": "0d2a09fc-774a-4bf7-813d-05944863dbfd"
    },
    {
      "cell_type": "code",
      "execution_count": 10,
      "metadata": {
        "tags": []
      },
      "outputs": [
        {
          "output_type": "stream",
          "name": "stderr",
          "text": [
            "/tmp/ipykernel_1326558/869707808.py:2: FutureWarning:\n",
            "\n",
            "DataFrame.applymap has been deprecated. Use DataFrame.map instead.\n",
            "\n",
            "/tmp/ipykernel_1326558/869707808.py:3: FutureWarning:\n",
            "\n",
            "DataFrame.applymap has been deprecated. Use DataFrame.map instead.\n"
          ]
        }
      ],
      "source": [
        "df.set_index('지역/연도[6]')\\\n",
        ".applymap(lambda x: 0 if x == '-' else float(x))\\\n",
        ".applymap(lambda x: x*1000 if x<1000 else x).T\\\n",
        ".loc[:,'서울':'제주']\\\n",
        ".plot.area(backend='plotly')"
      ],
      "id": "fee04345-2a83-4515-879a-0695a217e134"
    }
  ],
  "nbformat": 4,
  "nbformat_minor": 5,
  "metadata": {
    "kernelspec": {
      "name": "python3",
      "display_name": "Python 3 (ipykernel)",
      "language": "python"
    },
    "language_info": {
      "name": "python",
      "codemirror_mode": {
        "name": "ipython",
        "version": "3"
      },
      "file_extension": ".py",
      "mimetype": "text/x-python",
      "nbconvert_exporter": "python",
      "pygments_lexer": "ipython3",
      "version": "3.10.13"
    }
  }
}