{
  "cells": [
    {
      "cell_type": "markdown",
      "metadata": {},
      "source": [
        "# Lesson 14: 크롤링 + 시각화\n",
        "\n",
        "최규빈  \n",
        "2023-07-26\n",
        "\n",
        "<a href=\"https://colab.research.google.com/github/guebin/PP2024WIN/blob/main/posts/Day3/ls14.ipynb\"><img src=\"https://colab.research.google.com/assets/colab-badge.svg\" style=\"text-align: left\"></a>"
      ],
      "id": "06f9e6e8-7fd4-499e-a3b0-b367507eb021"
    },
    {
      "cell_type": "code",
      "execution_count": 1,
      "metadata": {
        "tags": []
      },
      "outputs": [],
      "source": [
        "# !pip install yfinance\n",
        "import numpy as np \n",
        "import pandas as pd \n",
        "import yfinance as yf"
      ],
      "id": "40a3cbc8-f0a8-44bb-b6f0-4079e894e5b5"
    },
    {
      "cell_type": "markdown",
      "metadata": {},
      "source": [
        "# `yfinance`를 이용한 주식자료 시각화\n",
        "\n",
        "## A. 크롤링 + 데이터정리\n",
        "\n",
        "`-` yahoo finance: https://finance.yahoo.com/\n",
        "\n",
        "**Apple: `'AAPL'`**"
      ],
      "id": "cbb3ffa1-8983-4c55-9cf9-423a950ba020"
    },
    {
      "cell_type": "raw",
      "metadata": {
        "raw_mimetype": "text/html"
      },
      "source": [
        "<figure>"
      ],
      "id": "dd195c2a-1f3d-4afe-bb21-1636ca249ac2"
    },
    {
      "cell_type": "markdown",
      "metadata": {},
      "source": [
        "<img\n",
        "src=\"ls14_files/figure-ipynb/8f6bf0b8-35e6-4324-ae0a-e2628e7bb60b-1-10wk-1_files/figure-ipynb/c2016753-3330-437a-bd4e-d9ef1cd24afb-1-825f3296-8485-439d-8432-e52a19c50910.png\"\n",
        "alt=\"Apple 코드\" />"
      ],
      "id": "9c039a62-f5ca-4944-83fb-b55eb8bdbd33"
    },
    {
      "cell_type": "raw",
      "metadata": {
        "raw_mimetype": "text/html"
      },
      "source": [
        "<figcaption aria-hidden=\"true\">"
      ],
      "id": "eca82bcf-bb86-4e48-8620-1289b48d6bdf"
    },
    {
      "cell_type": "markdown",
      "metadata": {},
      "source": [
        "Apple 코드"
      ],
      "id": "e80db63c-c766-49f7-8fb1-18d26fe26ccd"
    },
    {
      "cell_type": "raw",
      "metadata": {
        "raw_mimetype": "text/html"
      },
      "source": [
        "</figcaption>"
      ],
      "id": "4ea20292-192a-4718-9435-184033dd36b8"
    },
    {
      "cell_type": "raw",
      "metadata": {
        "raw_mimetype": "text/html"
      },
      "source": [
        "</figure>"
      ],
      "id": "8e51593b-da4d-4c93-9e37-a07850561870"
    },
    {
      "cell_type": "markdown",
      "metadata": {},
      "source": [
        "**삼성전자: `'005930.KS'`**"
      ],
      "id": "edf6ee76-33be-492a-a0a6-40eab2acb0b7"
    },
    {
      "cell_type": "raw",
      "metadata": {
        "raw_mimetype": "text/html"
      },
      "source": [
        "<figure>"
      ],
      "id": "d5eed4c6-4159-417e-8002-337a34e1b4ca"
    },
    {
      "cell_type": "markdown",
      "metadata": {},
      "source": [
        "<img\n",
        "src=\"ls14_files/figure-ipynb/8f6bf0b8-35e6-4324-ae0a-e2628e7bb60b-2-10wk-1_files/figure-ipynb/dd41452f-2b17-47e5-8b5d-ea2c46bba973-1-c2ae28ce-13f7-44e7-8c1f-32055d0535f1.png\"\n",
        "alt=\"삼성전자 코드\" />"
      ],
      "id": "457bad07-62ed-45fe-bd59-d9ce1b3a3213"
    },
    {
      "cell_type": "raw",
      "metadata": {
        "raw_mimetype": "text/html"
      },
      "source": [
        "<figcaption aria-hidden=\"true\">"
      ],
      "id": "97c729e7-cde5-4b41-937c-b5d3b58c608a"
    },
    {
      "cell_type": "markdown",
      "metadata": {},
      "source": [
        "삼성전자 코드"
      ],
      "id": "17c672b9-de66-4081-b5c4-9226aeed6849"
    },
    {
      "cell_type": "raw",
      "metadata": {
        "raw_mimetype": "text/html"
      },
      "source": [
        "</figcaption>"
      ],
      "id": "fa40f7ea-b26b-4468-865d-a5267bb0dde9"
    },
    {
      "cell_type": "raw",
      "metadata": {
        "raw_mimetype": "text/html"
      },
      "source": [
        "</figure>"
      ],
      "id": "42474a6b-8a1b-4dbe-bd87-3ef5f147fa27"
    },
    {
      "cell_type": "markdown",
      "metadata": {},
      "source": [
        "`-` 크롤링을 위한 코드"
      ],
      "id": "a75fc8c8-33b6-44e9-86dc-2a79c3355d44"
    },
    {
      "cell_type": "code",
      "execution_count": 2,
      "metadata": {
        "tags": []
      },
      "outputs": [
        {
          "output_type": "stream",
          "name": "stderr",
          "text": [
            "[                       0%%                      ][**************        29%%                      ]  2 of 7 completed[**************        29%%                      ]  2 of 7 completed[**********************57%%*                     ]  4 of 7 completed[**********************71%%********              ]  5 of 7 completed[**********************86%%***************       ]  6 of 7 completed[*********************100%%**********************]  7 of 7 completed"
          ]
        }
      ],
      "source": [
        "symbols = ['AMZN','AAPL','GOOG','MSFT','NFLX','NVDA','TSLA']\n",
        "start = '2020-01-01'\n",
        "end = '2023-11-06'\n",
        "df = yf.download(symbols,start,end)\n",
        "df"
      ],
      "id": "8dc4353f-576c-4a67-9ef4-97ec1b869549"
    },
    {
      "cell_type": "markdown",
      "metadata": {},
      "source": [
        "`-` 데이터를 살펴보자."
      ],
      "id": "ae6e2fb1-b984-46c7-ae66-0fe00112828c"
    },
    {
      "cell_type": "code",
      "execution_count": 3,
      "metadata": {
        "tags": []
      },
      "outputs": [],
      "source": [
        "df.stack()"
      ],
      "id": "5edaf8cc-162c-4cae-8245-fa355c18ada3"
    },
    {
      "cell_type": "markdown",
      "metadata": {},
      "source": [
        "## B. 시각화\n",
        "\n",
        "`-` tidydata를 생성"
      ],
      "id": "387e4e16-bc21-4047-bfbe-f1a9691a20f1"
    },
    {
      "cell_type": "code",
      "execution_count": 4,
      "metadata": {
        "tags": []
      },
      "outputs": [],
      "source": [
        "df.loc[:,'Adj Close'].stack().reset_index()\\\n",
        ".set_axis(['Date','Company','Price'],axis=1)"
      ],
      "id": "f48b5e84-3620-4aa2-871b-10cb1654dce9"
    },
    {
      "cell_type": "markdown",
      "metadata": {},
      "source": [
        "`-` 바로 이어서 시각화! – `x='Date', y='Price', color='Company'`"
      ],
      "id": "249c5801-469c-42ef-b90b-cf8dd3e92af5"
    },
    {
      "cell_type": "code",
      "execution_count": 5,
      "metadata": {
        "tags": []
      },
      "outputs": [
        {
          "output_type": "stream",
          "name": "stderr",
          "text": [
            "/home/cgb2/anaconda3/envs/r/lib/python3.10/site-packages/_plotly_utils/basevalidators.py:105: FutureWarning:\n",
            "\n",
            "The behavior of DatetimeProperties.to_pydatetime is deprecated, in a future version this will return a Series containing python datetime objects instead of an ndarray. To retain the old behavior, call `np.array` on the result\n"
          ]
        }
      ],
      "source": [
        "df.loc[:,'Adj Close'].stack().reset_index()\\\n",
        ".set_axis(['Date','Company','Price'],axis=1)\\\n",
        ".plot.line(x='Date',y='Price',color='Company',backend='plotly')"
      ],
      "id": "7ffd98b3-d6d9-49ad-b19b-8d4ac2d824f2"
    },
    {
      "cell_type": "markdown",
      "metadata": {},
      "source": [
        "# 출산율 시각화\n",
        "\n",
        "## A. 크롤링 + 데이터정리\n",
        "\n",
        "`-` 대한민국의 저출산문제\n",
        "\n",
        "ref: <https://ko.wikipedia.org/wiki/대한민국의_저출산>\n",
        "\n",
        "`-` 위의 url에서 5번째 테이블을 읽고싶다.\n",
        "\n",
        "-   5번째 테이블: 시도별 출생아 수"
      ],
      "id": "71c438d8-1291-4157-9b01-b78450584d34"
    },
    {
      "cell_type": "code",
      "execution_count": 6,
      "metadata": {
        "tags": []
      },
      "outputs": [],
      "source": [
        "df_lst = pd.read_html('https://ko.wikipedia.org/wiki/%EB%8C%80%ED%95%9C%EB%AF%BC%EA%B5%AD%EC%9D%98_%EC%A0%80%EC%B6%9C%EC%82%B0')\n",
        "df = df_lst[4]\n",
        "df"
      ],
      "id": "5dd66002-4b9a-4862-9ac7-3fd1e1f2ad0f"
    },
    {
      "cell_type": "markdown",
      "metadata": {},
      "source": [
        "`-` `'-'`로 표현된 값을 0으로 처리하는게 좋겠음"
      ],
      "id": "85add7a7-2a7e-4b81-b5b6-b340ceb24555"
    },
    {
      "cell_type": "code",
      "execution_count": 7,
      "metadata": {
        "tags": []
      },
      "outputs": [
        {
          "output_type": "stream",
          "name": "stderr",
          "text": [
            "/tmp/ipykernel_1310567/1737303492.py:3: FutureWarning:\n",
            "\n",
            "DataFrame.applymap has been deprecated. Use DataFrame.map instead.\n"
          ]
        }
      ],
      "source": [
        "df.rename({'지역/연도[6]':'지역'},axis=1)\\\n",
        ".set_index(['지역'])\\\n",
        ".applymap(lambda x: 0 if '-' in str(x) else float(x)).reset_index()"
      ],
      "id": "d8c1ae54-7ed4-4bb6-9da7-5c840040b1cc"
    },
    {
      "cell_type": "markdown",
      "metadata": {},
      "source": [
        "## B. 시각화1: 전국 출생아수 시각화\n",
        "\n",
        "`-` 전국으로 집계가 되어있던 정보를 남겨도 좋지만, `groupy+agg` 조합으로\n",
        "새롭게 계산해보자."
      ],
      "id": "84e63077-ed0d-4411-92a4-2c8ae929c889"
    },
    {
      "cell_type": "code",
      "execution_count": 8,
      "metadata": {
        "tags": []
      },
      "outputs": [
        {
          "output_type": "stream",
          "name": "stderr",
          "text": [
            "/tmp/ipykernel_1310567/1805618332.py:3: FutureWarning:\n",
            "\n",
            "DataFrame.applymap has been deprecated. Use DataFrame.map instead.\n"
          ]
        }
      ],
      "source": [
        "df.rename({'지역/연도[6]':'지역'},axis=1)\\\n",
        ".set_index(['지역'])\\\n",
        ".applymap(lambda x: 0 if '-' in str(x) else float(x)).drop('전국')\\\n",
        ".stack().reset_index().rename({'level_1':'년도',0:'출생아수'},axis=1)\\\n",
        ".groupby('년도').agg({'출생아수':'sum'}).reset_index()\\\n",
        ".plot.line(x='년도',y='출생아수',backend='plotly')"
      ],
      "id": "4570b61a-e7a2-4f46-bf56-fcb205a30a83"
    },
    {
      "cell_type": "markdown",
      "metadata": {},
      "source": [
        "## C. 시각화2: 시도별 출생아수 시각화 (line)"
      ],
      "id": "05b89e44-2ff2-4fed-af86-5a4279293f87"
    },
    {
      "cell_type": "code",
      "execution_count": 9,
      "metadata": {
        "tags": []
      },
      "outputs": [
        {
          "output_type": "stream",
          "name": "stderr",
          "text": [
            "/tmp/ipykernel_1310567/277281482.py:3: FutureWarning:\n",
            "\n",
            "DataFrame.applymap has been deprecated. Use DataFrame.map instead.\n"
          ]
        }
      ],
      "source": [
        "df.rename({'지역/연도[6]':'지역'},axis=1)\\\n",
        ".set_index(['지역'])\\\n",
        ".applymap(lambda x: 0 if '-' in str(x) else float(x)).drop('전국')\\\n",
        ".stack().reset_index().rename({'level_1':'년도',0:'출생아수'},axis=1)\\\n",
        ".plot.line(x='년도',y='출생아수',color='지역',backend='plotly')"
      ],
      "id": "f8c2f1c4-71a3-4f76-9a46-fdf976d7428e"
    },
    {
      "cell_type": "markdown",
      "metadata": {},
      "source": [
        "## D. 시각화3: 시도별 출생아수 시각화 (area)\n",
        "\n",
        "`-` 시각화1,시각화2의 정보가 적절히 혼합되어있는 시각화는 없을까?"
      ],
      "id": "f9466bda-ab1c-4893-8fb2-e1a5e7b3d3a7"
    },
    {
      "cell_type": "code",
      "execution_count": 10,
      "metadata": {
        "tags": []
      },
      "outputs": [
        {
          "output_type": "stream",
          "name": "stderr",
          "text": [
            "/tmp/ipykernel_1310567/70633050.py:3: FutureWarning:\n",
            "\n",
            "DataFrame.applymap has been deprecated. Use DataFrame.map instead.\n"
          ]
        }
      ],
      "source": [
        "df.rename({'지역/연도[6]':'지역'},axis=1)\\\n",
        ".set_index(['지역'])\\\n",
        ".applymap(lambda x: 0 if '-' in str(x) else float(x)).drop('전국')\\\n",
        ".stack().reset_index().rename({'level_1':'년도',0:'출생아수'},axis=1)\\\n",
        ".plot.area(x='년도',y='출생아수',color='지역',backend='plotly')"
      ],
      "id": "582cb57a-11cc-4b90-bffb-794a307343c8"
    },
    {
      "cell_type": "markdown",
      "metadata": {},
      "source": [
        "-   기묘하다..\n",
        "\n",
        "`-` 해석: 2014년 경기, 2016년 서울, 2019년 경기에 애를 낳지 않는다.\n",
        "\n",
        "`-` 데이터와 비교"
      ],
      "id": "f934f1e8-0e67-4dee-bffb-9ccaacd62c9e"
    },
    {
      "cell_type": "code",
      "execution_count": 11,
      "metadata": {
        "tags": []
      },
      "outputs": [],
      "source": [
        "df"
      ],
      "id": "b013c963-ad63-4bf9-964c-55f2821f422f"
    },
    {
      "cell_type": "markdown",
      "metadata": {},
      "source": [
        "## E. 시각화1,2,3 수정\n",
        "\n",
        "`-` 시각화1의 수정"
      ],
      "id": "30ded902-4386-48e8-bc7c-b7ed6c88a8ad"
    },
    {
      "cell_type": "code",
      "execution_count": 12,
      "metadata": {
        "tags": []
      },
      "outputs": [
        {
          "output_type": "stream",
          "name": "stderr",
          "text": [
            "/tmp/ipykernel_1310567/1274971694.py:3: FutureWarning:\n",
            "\n",
            "DataFrame.applymap has been deprecated. Use DataFrame.map instead.\n",
            "\n",
            "/tmp/ipykernel_1310567/1274971694.py:4: FutureWarning:\n",
            "\n",
            "DataFrame.applymap has been deprecated. Use DataFrame.map instead.\n"
          ]
        }
      ],
      "source": [
        "df.rename({'지역/연도[6]':'지역'},axis=1)\\\n",
        ".set_index(['지역'])\\\n",
        ".applymap(lambda x: 0 if '-' in str(x) else float(x)).drop('전국')\\\n",
        ".applymap(lambda x: x*1000 if x<1000 else x)\\\n",
        ".stack().reset_index().rename({'level_1':'년도',0:'출생아수'},axis=1)\\\n",
        ".groupby('년도').agg({'출생아수':'sum'}).reset_index()\\\n",
        ".plot.line(x='년도',y='출생아수',backend='plotly')"
      ],
      "id": "eeecdbe4-8888-432c-b271-45bdc098860e"
    },
    {
      "cell_type": "markdown",
      "metadata": {},
      "source": [
        "`-` 시각화2의 수정"
      ],
      "id": "a70d45d0-977b-4bd9-8476-fd084ce89742"
    },
    {
      "cell_type": "code",
      "execution_count": 13,
      "metadata": {
        "tags": []
      },
      "outputs": [
        {
          "output_type": "stream",
          "name": "stderr",
          "text": [
            "/tmp/ipykernel_1310567/1526382732.py:3: FutureWarning:\n",
            "\n",
            "DataFrame.applymap has been deprecated. Use DataFrame.map instead.\n",
            "\n",
            "/tmp/ipykernel_1310567/1526382732.py:4: FutureWarning:\n",
            "\n",
            "DataFrame.applymap has been deprecated. Use DataFrame.map instead.\n"
          ]
        }
      ],
      "source": [
        "df.rename({'지역/연도[6]':'지역'},axis=1)\\\n",
        ".set_index(['지역'])\\\n",
        ".applymap(lambda x: 0 if '-' in str(x) else float(x)).drop('전국')\\\n",
        ".applymap(lambda x: x*1000 if x<1000 else x)\\\n",
        ".stack().reset_index().rename({'level_1':'년도',0:'출생아수'},axis=1)\\\n",
        ".plot.line(x='년도',y='출생아수',color='지역',backend='plotly')"
      ],
      "id": "f5c88e42-e07d-41af-a349-ab33a791a78c"
    },
    {
      "cell_type": "markdown",
      "metadata": {},
      "source": [
        "`-` 시각화3의 수정"
      ],
      "id": "e89fa241-35f6-4b12-b1c7-2ee11ecead18"
    },
    {
      "cell_type": "code",
      "execution_count": 14,
      "metadata": {
        "tags": []
      },
      "outputs": [
        {
          "output_type": "stream",
          "name": "stderr",
          "text": [
            "/tmp/ipykernel_1310567/3339566067.py:3: FutureWarning:\n",
            "\n",
            "DataFrame.applymap has been deprecated. Use DataFrame.map instead.\n",
            "\n",
            "/tmp/ipykernel_1310567/3339566067.py:4: FutureWarning:\n",
            "\n",
            "DataFrame.applymap has been deprecated. Use DataFrame.map instead.\n"
          ]
        }
      ],
      "source": [
        "df.rename({'지역/연도[6]':'지역'},axis=1)\\\n",
        ".set_index(['지역'])\\\n",
        ".applymap(lambda x: 0 if '-' in str(x) else float(x)).drop('전국')\\\n",
        ".applymap(lambda x: x*1000 if x<1000 else x)\\\n",
        ".stack().reset_index().rename({'level_1':'년도',0:'출생아수'},axis=1)\\\n",
        ".plot.area(x='년도',y='출생아수',color='지역',backend='plotly')"
      ],
      "id": "3e5fc4a7-f121-464e-a662-db6e6b17cd14"
    }
  ],
  "nbformat": 4,
  "nbformat_minor": 5,
  "metadata": {
    "kernelspec": {
      "name": "python3",
      "display_name": "Python 3 (ipykernel)",
      "language": "python"
    },
    "language_info": {
      "name": "python",
      "codemirror_mode": {
        "name": "ipython",
        "version": "3"
      },
      "file_extension": ".py",
      "mimetype": "text/x-python",
      "nbconvert_exporter": "python",
      "pygments_lexer": "ipython3",
      "version": "3.10.13"
    }
  }
}