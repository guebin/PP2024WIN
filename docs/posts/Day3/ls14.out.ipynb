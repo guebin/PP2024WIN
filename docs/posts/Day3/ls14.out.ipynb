{
  "cells": [
    {
      "cell_type": "markdown",
      "metadata": {},
      "source": [
        "# Lesson 14: 빅데이터와 시각화 – 크롤링 + 시각화\n",
        "\n",
        "최규빈  \n",
        "2024-01-10\n",
        "\n",
        "<a href=\"https://colab.research.google.com/github/guebin/PP2024WIN/blob/main/posts/Day3/ls14.ipynb\"><img src=\"https://colab.research.google.com/assets/colab-badge.svg\" style=\"text-align: left\"></a>"
      ],
      "id": "413b6600-865d-49b1-80aa-fbf0438e1e0b"
    },
    {
      "cell_type": "code",
      "execution_count": 1,
      "metadata": {
        "tags": []
      },
      "outputs": [],
      "source": [
        "# !pip install yfinance\n",
        "import numpy as np \n",
        "import pandas as pd\n",
        "import matplotlib.pyplot as plt \n",
        "import yfinance as yf"
      ],
      "id": "40a3cbc8-f0a8-44bb-b6f0-4079e894e5b5"
    },
    {
      "cell_type": "markdown",
      "metadata": {},
      "source": [
        "# `yfinance`를 이용한 주식자료 시각화\n",
        "\n",
        "## A. 크롤링 + 데이터정리\n",
        "\n",
        "`-` yahoo finance: https://finance.yahoo.com/\n",
        "\n",
        "**Apple: `'AAPL'`**"
      ],
      "id": "8ec2e842-cdcb-4bd0-9b4a-e78366142317"
    },
    {
      "cell_type": "raw",
      "metadata": {
        "raw_mimetype": "text/html"
      },
      "source": [
        "<figure>"
      ],
      "id": "d770e34b-c916-42ce-92a4-3a46a4290840"
    },
    {
      "cell_type": "markdown",
      "metadata": {},
      "source": [
        "<img\n",
        "src=\"ls14_files/figure-ipynb/8f6bf0b8-35e6-4324-ae0a-e2628e7bb60b-1-10wk-1_files/figure-ipynb/c2016753-3330-437a-bd4e-d9ef1cd24afb-1-825f3296-8485-439d-8432-e52a19c50910.png\"\n",
        "alt=\"Apple 코드\" />"
      ],
      "id": "b59c3305-251e-40a2-b294-dcc58d66478c"
    },
    {
      "cell_type": "raw",
      "metadata": {
        "raw_mimetype": "text/html"
      },
      "source": [
        "<figcaption aria-hidden=\"true\">"
      ],
      "id": "ce1e2dfd-78d5-488c-aa75-30beedb8a2c7"
    },
    {
      "cell_type": "markdown",
      "metadata": {},
      "source": [
        "Apple 코드"
      ],
      "id": "d2a9a33e-118e-4a89-b906-3135bf031e23"
    },
    {
      "cell_type": "raw",
      "metadata": {
        "raw_mimetype": "text/html"
      },
      "source": [
        "</figcaption>"
      ],
      "id": "1fb0d23e-d3cc-4a07-8bb9-4b20b4cf9cf7"
    },
    {
      "cell_type": "raw",
      "metadata": {
        "raw_mimetype": "text/html"
      },
      "source": [
        "</figure>"
      ],
      "id": "0949c8fb-8f60-429d-beb0-c13e0e109e16"
    },
    {
      "cell_type": "markdown",
      "metadata": {},
      "source": [
        "**삼성전자: `'005930.KS'`**"
      ],
      "id": "13d3b175-f50e-4e80-bb71-24e262feb21f"
    },
    {
      "cell_type": "raw",
      "metadata": {
        "raw_mimetype": "text/html"
      },
      "source": [
        "<figure>"
      ],
      "id": "612586dc-a0c1-471a-8504-1c941c0bc6ff"
    },
    {
      "cell_type": "markdown",
      "metadata": {},
      "source": [
        "<img\n",
        "src=\"ls14_files/figure-ipynb/8f6bf0b8-35e6-4324-ae0a-e2628e7bb60b-2-10wk-1_files/figure-ipynb/dd41452f-2b17-47e5-8b5d-ea2c46bba973-1-c2ae28ce-13f7-44e7-8c1f-32055d0535f1.png\"\n",
        "alt=\"삼성전자 코드\" />"
      ],
      "id": "5579ea81-618f-4592-afbf-2f1c0c025c78"
    },
    {
      "cell_type": "raw",
      "metadata": {
        "raw_mimetype": "text/html"
      },
      "source": [
        "<figcaption aria-hidden=\"true\">"
      ],
      "id": "c36c90e6-5a0c-4d40-baf5-17c3d280337d"
    },
    {
      "cell_type": "markdown",
      "metadata": {},
      "source": [
        "삼성전자 코드"
      ],
      "id": "e39982e7-4cc0-4bdd-8a77-27d61c280c88"
    },
    {
      "cell_type": "raw",
      "metadata": {
        "raw_mimetype": "text/html"
      },
      "source": [
        "</figcaption>"
      ],
      "id": "3f16b056-01f0-4ed9-9189-bb919ea9bdb0"
    },
    {
      "cell_type": "raw",
      "metadata": {
        "raw_mimetype": "text/html"
      },
      "source": [
        "</figure>"
      ],
      "id": "06d3db62-448a-4a46-ad20-d9ddec014174"
    },
    {
      "cell_type": "markdown",
      "metadata": {},
      "source": [
        "`-` 크롤링을 위한 코드"
      ],
      "id": "35c9e7fe-03c1-4a6b-a831-12f10a425304"
    },
    {
      "cell_type": "code",
      "execution_count": 2,
      "metadata": {
        "tags": []
      },
      "outputs": [
        {
          "output_type": "stream",
          "name": "stderr",
          "text": [
            "[                       0%%                      ][                       0%%                      ][********************* 43%%                      ]  3 of 7 completed[**********************57%%*                     ]  4 of 7 completed[**********************71%%********              ]  5 of 7 completed[**********************86%%***************       ]  6 of 7 completed[*********************100%%**********************]  7 of 7 completed"
          ]
        }
      ],
      "source": [
        "symbols = ['AMZN','AAPL','GOOG','MSFT','NFLX','NVDA','TSLA']\n",
        "start = '2020-01-01'\n",
        "end = '2024-01-10'\n",
        "df = yf.download(symbols,start,end)\n",
        "df"
      ],
      "id": "8dc4353f-576c-4a67-9ef4-97ec1b869549"
    },
    {
      "cell_type": "markdown",
      "metadata": {},
      "source": [
        "## B. 시각화"
      ],
      "id": "3adee073-6457-4774-a6a9-87feab4da1a5"
    },
    {
      "cell_type": "code",
      "execution_count": 3,
      "metadata": {
        "tags": []
      },
      "outputs": [
        {
          "output_type": "stream",
          "name": "stderr",
          "text": [
            "/home/cgb2/anaconda3/envs/r/lib/python3.10/site-packages/_plotly_utils/basevalidators.py:105: FutureWarning:\n",
            "\n",
            "The behavior of DatetimeProperties.to_pydatetime is deprecated, in a future version this will return a Series containing python datetime objects instead of an ndarray. To retain the old behavior, call `np.array` on the result\n"
          ]
        }
      ],
      "source": [
        "df.loc[:,'Adj Close'].plot.line(backend='plotly')"
      ],
      "id": "08643640-5f55-45fa-8004-5fac4c2ed0fe"
    },
    {
      "cell_type": "markdown",
      "metadata": {},
      "source": [
        "# 출산율 시각화\n",
        "\n",
        "## A. 크롤링 + 데이터정리\n",
        "\n",
        "`-` 대한민국의 저출산문제\n",
        "\n",
        "ref: <https://ko.wikipedia.org/wiki/대한민국의_저출산>\n",
        "\n",
        "`-` 위의 url에서 5번째 테이블을 읽고싶다.\n",
        "\n",
        "-   5번째 테이블: 시도별 출생아 수"
      ],
      "id": "d4083809-0abf-49e7-884c-416c6948e53e"
    },
    {
      "cell_type": "code",
      "execution_count": 4,
      "metadata": {
        "tags": []
      },
      "outputs": [],
      "source": [
        "df_lst = pd.read_html('https://ko.wikipedia.org/wiki/%EB%8C%80%ED%95%9C%EB%AF%BC%EA%B5%AD%EC%9D%98_%EC%A0%80%EC%B6%9C%EC%82%B0')\n",
        "df = df_lst[4]\n",
        "df"
      ],
      "id": "5dd66002-4b9a-4862-9ac7-3fd1e1f2ad0f"
    },
    {
      "cell_type": "markdown",
      "metadata": {},
      "source": [
        "## B. 시각화1: 전국 출생아수 시각화"
      ],
      "id": "6084841e-ee54-4d7d-8ceb-40e5aa73c71e"
    },
    {
      "cell_type": "code",
      "execution_count": 5,
      "metadata": {
        "tags": []
      },
      "outputs": [
        {
          "output_type": "stream",
          "name": "stderr",
          "text": [
            "/tmp/ipykernel_1314116/925425684.py:2: FutureWarning:\n",
            "\n",
            "DataFrame.applymap has been deprecated. Use DataFrame.map instead.\n"
          ]
        }
      ],
      "source": [
        "df.set_index('지역/연도[6]')\\\n",
        ".applymap(lambda x: 0 if x == '-' else float(x))\\\n",
        ".iloc[:-1,:]\\\n",
        ".sum(axis=0)\\\n",
        ".plot.line(backend='plotly')"
      ],
      "id": "50fe60f0-9743-44f0-abbb-95c8ee3671d5"
    },
    {
      "cell_type": "markdown",
      "metadata": {},
      "source": [
        "## C. 시각화2: 시도별 출생아수 시각화 (line)"
      ],
      "id": "c5175b8b-f505-446e-9bd0-150cc51bf268"
    },
    {
      "cell_type": "code",
      "execution_count": 6,
      "metadata": {
        "tags": []
      },
      "outputs": [
        {
          "output_type": "stream",
          "name": "stderr",
          "text": [
            "/tmp/ipykernel_1314116/2975889792.py:2: FutureWarning:\n",
            "\n",
            "DataFrame.applymap has been deprecated. Use DataFrame.map instead.\n"
          ]
        }
      ],
      "source": [
        "df.set_index('지역/연도[6]')\\\n",
        ".applymap(lambda x: 0 if x == '-' else float(x)).T\\\n",
        ".loc[:,'서울':'제주']\\\n",
        ".plot.line(backend='plotly')"
      ],
      "id": "bbc25bdf-ddbe-49aa-9db0-d8ede5f2d23f"
    },
    {
      "cell_type": "markdown",
      "metadata": {},
      "source": [
        "## D. 시각화3: 시도별 출생아수 시각화 (area)\n",
        "\n",
        "`-` 시각화1,시각화2의 정보가 적절히 혼합되어있는 시각화는 없을까?"
      ],
      "id": "2f12ff55-0d44-4653-b526-b58c33eb7b35"
    },
    {
      "cell_type": "code",
      "execution_count": 7,
      "metadata": {
        "tags": []
      },
      "outputs": [
        {
          "output_type": "stream",
          "name": "stderr",
          "text": [
            "/tmp/ipykernel_1314116/1346429013.py:2: FutureWarning:\n",
            "\n",
            "DataFrame.applymap has been deprecated. Use DataFrame.map instead.\n"
          ]
        }
      ],
      "source": [
        "df.set_index('지역/연도[6]')\\\n",
        ".applymap(lambda x: 0 if x == '-' else float(x)).T\\\n",
        ".loc[:,'서울':'제주']\\\n",
        ".plot.area(backend='plotly')"
      ],
      "id": "c38f8a12-e5fc-4b55-814f-57b31d972623"
    },
    {
      "cell_type": "markdown",
      "metadata": {},
      "source": [
        "## E. 시각화1,2,3 수정\n",
        "\n",
        "`-` 시각화1의 수정"
      ],
      "id": "aac7ca38-2b08-4a28-b0bb-068c401e8ee4"
    },
    {
      "cell_type": "code",
      "execution_count": 8,
      "metadata": {
        "tags": []
      },
      "outputs": [
        {
          "output_type": "stream",
          "name": "stderr",
          "text": [
            "/tmp/ipykernel_1314116/1644146122.py:2: FutureWarning:\n",
            "\n",
            "DataFrame.applymap has been deprecated. Use DataFrame.map instead.\n",
            "\n",
            "/tmp/ipykernel_1314116/1644146122.py:3: FutureWarning:\n",
            "\n",
            "DataFrame.applymap has been deprecated. Use DataFrame.map instead.\n"
          ]
        }
      ],
      "source": [
        "df.set_index('지역/연도[6]')\\\n",
        ".applymap(lambda x: 0 if x == '-' else float(x))\\\n",
        ".applymap(lambda x: x*1000 if x<1000 else x)\\\n",
        ".iloc[:-1,:]\\\n",
        ".sum(axis=0)\\\n",
        ".plot.line(backend='plotly')"
      ],
      "id": "90da69e5-2d2f-45b9-8930-4a36307af424"
    },
    {
      "cell_type": "code",
      "execution_count": 9,
      "metadata": {
        "tags": []
      },
      "outputs": [
        {
          "output_type": "stream",
          "name": "stderr",
          "text": [
            "/tmp/ipykernel_1314116/2864061887.py:2: FutureWarning:\n",
            "\n",
            "DataFrame.applymap has been deprecated. Use DataFrame.map instead.\n",
            "\n",
            "/tmp/ipykernel_1314116/2864061887.py:3: FutureWarning:\n",
            "\n",
            "DataFrame.applymap has been deprecated. Use DataFrame.map instead.\n"
          ]
        }
      ],
      "source": [
        "df.set_index('지역/연도[6]')\\\n",
        ".applymap(lambda x: 0 if x == '-' else float(x))\\\n",
        ".applymap(lambda x: x*1000 if x<1000 else x).T\\\n",
        ".loc[:,'서울':'제주']\\\n",
        ".plot.line(backend='plotly')"
      ],
      "id": "0d2a09fc-774a-4bf7-813d-05944863dbfd"
    },
    {
      "cell_type": "code",
      "execution_count": 10,
      "metadata": {
        "tags": []
      },
      "outputs": [
        {
          "output_type": "stream",
          "name": "stderr",
          "text": [
            "/tmp/ipykernel_1314116/869707808.py:2: FutureWarning:\n",
            "\n",
            "DataFrame.applymap has been deprecated. Use DataFrame.map instead.\n",
            "\n",
            "/tmp/ipykernel_1314116/869707808.py:3: FutureWarning:\n",
            "\n",
            "DataFrame.applymap has been deprecated. Use DataFrame.map instead.\n"
          ]
        }
      ],
      "source": [
        "df.set_index('지역/연도[6]')\\\n",
        ".applymap(lambda x: 0 if x == '-' else float(x))\\\n",
        ".applymap(lambda x: x*1000 if x<1000 else x).T\\\n",
        ".loc[:,'서울':'제주']\\\n",
        ".plot.area(backend='plotly')"
      ],
      "id": "fee04345-2a83-4515-879a-0695a217e134"
    }
  ],
  "nbformat": 4,
  "nbformat_minor": 5,
  "metadata": {
    "kernelspec": {
      "name": "python3",
      "display_name": "Python 3 (ipykernel)",
      "language": "python"
    },
    "language_info": {
      "name": "python",
      "codemirror_mode": {
        "name": "ipython",
        "version": "3"
      },
      "file_extension": ".py",
      "mimetype": "text/x-python",
      "nbconvert_exporter": "python",
      "pygments_lexer": "ipython3",
      "version": "3.10.13"
    }
  }
}