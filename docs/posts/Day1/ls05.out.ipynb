{
  "cells": [
    {
      "cell_type": "markdown",
      "metadata": {},
      "source": [
        "# Lesson 05: numpy I\n",
        "\n",
        "최규빈  \n",
        "2023-07-24\n",
        "\n",
        "# import"
      ],
      "id": "775c9d6c-8aba-4c18-a06a-9b67b71f890f"
    },
    {
      "cell_type": "code",
      "execution_count": 1,
      "metadata": {},
      "outputs": [],
      "source": [
        "import numpy as np"
      ],
      "id": "8adbbe65-da8c-4f20-ab65-6301e6e1bfc1"
    },
    {
      "cell_type": "markdown",
      "metadata": {},
      "source": [
        "# 넘파이 공부 1단계\n",
        "\n",
        "## 선언"
      ],
      "id": "479c8d07-59e2-48e5-b5c1-32d4fdb68789"
    },
    {
      "cell_type": "code",
      "execution_count": 12,
      "metadata": {},
      "outputs": [],
      "source": [
        "a=np.array([1,2,3]) # list를 만들고 ndarray화 시킴 \n",
        "l=[1,2,3]"
      ],
      "id": "2fab2a6e-e024-41b7-96e2-4ab023fa312a"
    },
    {
      "cell_type": "markdown",
      "metadata": {},
      "source": [
        "**기본연산 브로드캐스팅**"
      ],
      "id": "a2f86266-0e61-474c-90f1-a26f34e418ee"
    },
    {
      "cell_type": "code",
      "execution_count": 15,
      "metadata": {},
      "outputs": [],
      "source": [
        "a+1 ## [1,2,3] + 1 = [2,3,4]"
      ],
      "id": "8c94ee51-e9b5-4838-9ee8-df1eaa8bff56"
    },
    {
      "cell_type": "code",
      "execution_count": 16,
      "metadata": {},
      "outputs": [],
      "source": [
        "l+1"
      ],
      "id": "4185b316-27a9-4ab7-9399-1dc8f87f3d6b"
    },
    {
      "cell_type": "code",
      "execution_count": 21,
      "metadata": {},
      "outputs": [],
      "source": [
        "a*2"
      ],
      "id": "26aa79d2-8959-4c95-bbd6-5106b14b8b27"
    },
    {
      "cell_type": "code",
      "execution_count": 22,
      "metadata": {},
      "outputs": [],
      "source": [
        "l*2"
      ],
      "id": "d760dcfa-c674-44fc-b4ea-3774ebcf34c7"
    },
    {
      "cell_type": "code",
      "execution_count": 23,
      "metadata": {},
      "outputs": [],
      "source": [
        "a/2"
      ],
      "id": "b2cc457b-b667-4d7f-8bd1-e5959f6396c6"
    },
    {
      "cell_type": "code",
      "execution_count": 24,
      "metadata": {},
      "outputs": [],
      "source": [
        "l/2"
      ],
      "id": "f3a14c42-5c51-435d-b48d-36c07bcf62b6"
    },
    {
      "cell_type": "code",
      "execution_count": 25,
      "metadata": {},
      "outputs": [],
      "source": [
        "a**2"
      ],
      "id": "76ca10c8-e5d4-4f3d-b997-eee258b00a65"
    },
    {
      "cell_type": "code",
      "execution_count": 26,
      "metadata": {},
      "outputs": [],
      "source": [
        "l**2"
      ],
      "id": "01eb01cc-fa6e-43cd-ba1f-a8fe806ebe9f"
    },
    {
      "cell_type": "code",
      "execution_count": 34,
      "metadata": {},
      "outputs": [],
      "source": [
        "a%2 # %2 = 2로 나눈 나머지를 리턴 a=[1,2,3] "
      ],
      "id": "d6e2a52b-92e0-4ee8-95b2-afb4b24bf4cf"
    },
    {
      "cell_type": "code",
      "execution_count": 35,
      "metadata": {},
      "outputs": [],
      "source": [
        "l%2"
      ],
      "id": "a6f885f4-10f7-412b-8b4a-29781a0f0ddf"
    },
    {
      "cell_type": "markdown",
      "metadata": {},
      "source": [
        "## 기타수학연산지원"
      ],
      "id": "f03da4e1-d42d-4795-b1af-4243ffe97a2c"
    },
    {
      "cell_type": "code",
      "execution_count": 38,
      "metadata": {},
      "outputs": [],
      "source": [
        "np.sqrt(a), np.sqrt(l)"
      ],
      "id": "5cfd3ab5-d6fa-4fd0-9489-2d40d4e08a1f"
    },
    {
      "cell_type": "code",
      "execution_count": 39,
      "metadata": {},
      "outputs": [],
      "source": [
        "np.log(a), np.log(l)"
      ],
      "id": "a89b7818-4db4-487d-9af9-6035295ab9ac"
    },
    {
      "cell_type": "code",
      "execution_count": 41,
      "metadata": {},
      "outputs": [],
      "source": [
        "np.exp(a), np.exp(l)"
      ],
      "id": "cd1a21de-eac3-4b34-98a6-5c7541788a13"
    },
    {
      "cell_type": "code",
      "execution_count": 42,
      "metadata": {},
      "outputs": [],
      "source": [
        "np.sin(a), np.sin(l)"
      ],
      "id": "d01340e5-c6c7-409a-a379-1d5f51915379"
    },
    {
      "cell_type": "markdown",
      "metadata": {},
      "source": [
        "# 넘파이 공부 2단계\n",
        "\n",
        "## 인덱싱 1차원\n",
        "\n",
        "`-` 선언"
      ],
      "id": "24f09d18-86af-4695-8abc-3aa2e5a48f05"
    },
    {
      "cell_type": "code",
      "execution_count": 43,
      "metadata": {},
      "outputs": [],
      "source": [
        "l=[11,22,33,44,55,66] \n",
        "a=np.array(l) "
      ],
      "id": "c861c6e5-d139-4e0e-a455-039979ac9321"
    },
    {
      "cell_type": "markdown",
      "metadata": {},
      "source": [
        "`-` 인덱스로 접근"
      ],
      "id": "b069d114-106f-4db0-bb86-15fa999e220e"
    },
    {
      "cell_type": "code",
      "execution_count": 50,
      "metadata": {},
      "outputs": [],
      "source": [
        "l[0],l[1],l[2],l[3],l[-2],l[-1]"
      ],
      "id": "5938ed7f-c289-41b9-a1df-b2e824f3d654"
    },
    {
      "cell_type": "code",
      "execution_count": 51,
      "metadata": {},
      "outputs": [],
      "source": [
        "a[0],a[1],a[2],a[3],a[-2],a[-1]"
      ],
      "id": "1b4c447d-005e-49a1-8a8f-3badc2077bc6"
    },
    {
      "cell_type": "markdown",
      "metadata": {},
      "source": [
        "`-` `:` 이용 (슬라이싱)"
      ],
      "id": "0ab45a4d-8819-403d-91de-ccc5ac0b63e9"
    },
    {
      "cell_type": "code",
      "execution_count": 53,
      "metadata": {},
      "outputs": [],
      "source": [
        "l[2:4] # index 2에서 시작, index 4는 포함하지 않음 "
      ],
      "id": "cdc3ee19-9257-479e-bf45-f01d5e7ffc8f"
    },
    {
      "cell_type": "code",
      "execution_count": 54,
      "metadata": {},
      "outputs": [],
      "source": [
        "a[2:4] "
      ],
      "id": "0288a120-cad8-4ce9-8100-417c5811e3d1"
    },
    {
      "cell_type": "markdown",
      "metadata": {},
      "source": [
        "`-` 정수배열에 의한 인덱싱"
      ],
      "id": "107f4ca1-ebda-468a-8895-da3343e5f328"
    },
    {
      "cell_type": "code",
      "execution_count": 65,
      "metadata": {},
      "outputs": [],
      "source": [
        "a"
      ],
      "id": "11e47e31-2fab-46b2-a6cb-122a9cb56a00"
    },
    {
      "cell_type": "code",
      "execution_count": 66,
      "metadata": {},
      "outputs": [],
      "source": [
        "a[[0,2,4]] # index=0, index=2, index=4 에 해당하는 원소를 뽑고 싶다 "
      ],
      "id": "7c91dd7d-2bc8-4561-a67e-a8f9f42636bd"
    },
    {
      "cell_type": "code",
      "execution_count": 67,
      "metadata": {},
      "outputs": [],
      "source": [
        "l[[0,2,4]] # 리스트는 불가능 "
      ],
      "id": "b8afb3ad-8076-4f05-93a7-7c52aad55a3c"
    },
    {
      "cell_type": "markdown",
      "metadata": {},
      "source": [
        "`-` 부울값에 의한 인덱싱"
      ],
      "id": "2ec81b2b-c709-4879-b483-d0b53c18d024"
    },
    {
      "cell_type": "code",
      "execution_count": 69,
      "metadata": {},
      "outputs": [],
      "source": [
        "a"
      ],
      "id": "402ca51a-ab66-420f-832d-2816d67b54f0"
    },
    {
      "cell_type": "code",
      "execution_count": 70,
      "metadata": {},
      "outputs": [],
      "source": [
        "a[[True,False,True,False,True,False]] "
      ],
      "id": "727617b3-1310-452e-9fe0-8379aa427845"
    },
    {
      "cell_type": "markdown",
      "metadata": {},
      "source": [
        "응용하면?"
      ],
      "id": "99140e3d-fd8e-42ef-be6f-11a5376a905e"
    },
    {
      "cell_type": "code",
      "execution_count": 72,
      "metadata": {},
      "outputs": [],
      "source": [
        "a < 33 "
      ],
      "id": "b6aaf4ce-c5a1-4cdf-bc80-51696ffd5d79"
    },
    {
      "cell_type": "code",
      "execution_count": 75,
      "metadata": {},
      "outputs": [],
      "source": [
        "a[a<33]"
      ],
      "id": "17289e20-3b6d-4350-bf3c-43c6ffdee09e"
    },
    {
      "cell_type": "markdown",
      "metadata": {},
      "source": [
        "리스트는 불가능"
      ],
      "id": "23ed0cd5-c015-42ac-a19b-a2b0deda0fda"
    },
    {
      "cell_type": "code",
      "execution_count": 79,
      "metadata": {},
      "outputs": [],
      "source": [
        "l<33 # 여기에서부터 불가능 "
      ],
      "id": "2c596997-7960-4595-8495-52ff8baff998"
    },
    {
      "cell_type": "code",
      "execution_count": 78,
      "metadata": {},
      "outputs": [],
      "source": [
        "l[[True,False,True,False,True,False]] # 이것도 불가능 "
      ],
      "id": "a3afa138-ebf2-4155-a4c8-e39b7dcd9ad0"
    },
    {
      "cell_type": "markdown",
      "metadata": {},
      "source": [
        "## 인덱싱 2차원\n",
        "\n",
        "`-` 중첩리스트와 2차원 np.array 선언"
      ],
      "id": "13a786bb-8cdf-40d0-a91a-39c910898274"
    },
    {
      "cell_type": "code",
      "execution_count": 81,
      "metadata": {},
      "outputs": [],
      "source": [
        "A = [[1,2,3,4],[-1,-2,-3,-4],[5,6,7,8],[-5,-6,-7,-8]]\n",
        "A2 = np.array(A)"
      ],
      "id": "7331f59b-c1af-4c99-9e77-dbad1859db53"
    },
    {
      "cell_type": "code",
      "execution_count": 82,
      "metadata": {},
      "outputs": [],
      "source": [
        "A2"
      ],
      "id": "85d7f756-b844-44c8-8503-8609a890ebd7"
    },
    {
      "cell_type": "code",
      "execution_count": 83,
      "metadata": {},
      "outputs": [],
      "source": [
        "A"
      ],
      "id": "366e82df-8d76-48e8-8d38-02e36dc3c4fb"
    },
    {
      "cell_type": "markdown",
      "metadata": {},
      "source": [
        "`-` A의 원소 인덱싱"
      ],
      "id": "8debc34c-e8c5-4832-a0b9-67c5d3a6a09e"
    },
    {
      "cell_type": "code",
      "execution_count": 88,
      "metadata": {},
      "outputs": [],
      "source": [
        "A[0][0] # (1,1)의 원소 "
      ],
      "id": "f0ead1ae-fed3-47d3-b272-127bf2fa24ac"
    },
    {
      "cell_type": "code",
      "execution_count": 90,
      "metadata": {},
      "outputs": [],
      "source": [
        "A[1][2] # (2,3)의 원소 "
      ],
      "id": "d3aeb65c-1899-4f26-b53b-06f16fc211d9"
    },
    {
      "cell_type": "code",
      "execution_count": 93,
      "metadata": {},
      "outputs": [],
      "source": [
        "A[-1][0] # (4,1)의 원소 "
      ],
      "id": "77f60a6c-1e66-4f9b-ad0f-1306242f1920"
    },
    {
      "cell_type": "markdown",
      "metadata": {},
      "source": [
        "`-` A2의 원소 인덱싱"
      ],
      "id": "7045f9ed-6b3d-4bf4-8416-1a47b1888fa0"
    },
    {
      "cell_type": "code",
      "execution_count": 94,
      "metadata": {
        "tags": []
      },
      "outputs": [],
      "source": [
        "A2[0][0] # (1,1)의 원소 "
      ],
      "id": "336c2274-24cf-4876-a74c-831ab2dfd772"
    },
    {
      "cell_type": "code",
      "execution_count": 95,
      "metadata": {},
      "outputs": [],
      "source": [
        "A2[1][2] # (2,3)의 원소 "
      ],
      "id": "369bcfd3-57e0-47b1-873a-0e40f5d0c2f1"
    },
    {
      "cell_type": "code",
      "execution_count": 96,
      "metadata": {},
      "outputs": [],
      "source": [
        "A2[-1][0] # (4,1)의 원소 "
      ],
      "id": "5fd4f7c6-cfcd-42fb-8376-e3f1fe1de9c1"
    },
    {
      "cell_type": "markdown",
      "metadata": {},
      "source": [
        "`-` A2에서만 되는 기술 (넘파이에서 제시하는 신기술, R에서는 기본적으로\n",
        "쓰던것, 이중list는 불가능)"
      ],
      "id": "15d4187e-d0ee-4443-b7e5-12ecf3f6fe13"
    },
    {
      "cell_type": "code",
      "execution_count": 97,
      "metadata": {
        "tags": []
      },
      "outputs": [],
      "source": [
        "A2[0,0] # (1,1)의 원소 "
      ],
      "id": "e02143a9-2d30-44ec-920c-a511c5bc3b1f"
    },
    {
      "cell_type": "code",
      "execution_count": 98,
      "metadata": {},
      "outputs": [],
      "source": [
        "A2[1,2] # (2,3)의 원소 "
      ],
      "id": "45f7e56b-cc06-4d92-b0c3-988d43acdbd5"
    },
    {
      "cell_type": "code",
      "execution_count": 99,
      "metadata": {},
      "outputs": [],
      "source": [
        "A2[-1,0] # (4,1)의 원소 "
      ],
      "id": "909078ec-c2c0-46aa-a229-d986284b2e70"
    },
    {
      "cell_type": "markdown",
      "metadata": {},
      "source": [
        "`-` 정수배열에 의한 인덱싱 & 슬라이싱!"
      ],
      "id": "fccf2a1a-e6e4-4226-be1b-070dd23eea6d"
    },
    {
      "cell_type": "code",
      "execution_count": 103,
      "metadata": {},
      "outputs": [],
      "source": [
        "A2"
      ],
      "id": "59a2221a-4a22-453d-a00a-8df58dad8f7f"
    },
    {
      "cell_type": "code",
      "execution_count": 105,
      "metadata": {},
      "outputs": [],
      "source": [
        "A2[0,0:2] # 1행1열, 1행2열 "
      ],
      "id": "c029d84f-8d2d-4da0-935e-f56bc73c0ed2"
    },
    {
      "cell_type": "code",
      "execution_count": 107,
      "metadata": {},
      "outputs": [],
      "source": [
        "A2[0,:] # 1행 "
      ],
      "id": "d60a1858-d5cd-4562-b8f7-06067d59801d"
    },
    {
      "cell_type": "code",
      "execution_count": 115,
      "metadata": {},
      "outputs": [],
      "source": [
        "A2[0] # 1행"
      ],
      "id": "abd02229-fee6-4851-bb44-2794d8052dd3"
    },
    {
      "cell_type": "code",
      "execution_count": 109,
      "metadata": {},
      "outputs": [],
      "source": [
        "A2[[0,2],:] # 1행, 3행 "
      ],
      "id": "ac91a63f-3a34-4cc3-819c-dd63159011d4"
    },
    {
      "cell_type": "code",
      "execution_count": 118,
      "metadata": {},
      "outputs": [],
      "source": [
        "A2[[0,2]] # 1행, 3행 "
      ],
      "id": "1c266c0a-ed43-4bd7-8cfe-0a489795b4e6"
    },
    {
      "cell_type": "code",
      "execution_count": 120,
      "metadata": {},
      "outputs": [],
      "source": [
        "A2[:,0] # 1열 "
      ],
      "id": "1bf0ad5d-83af-4cad-9cdf-60a1b72232db"
    },
    {
      "cell_type": "code",
      "execution_count": 121,
      "metadata": {},
      "outputs": [],
      "source": [
        "A2[:,[0]] # 1열 "
      ],
      "id": "69c14f70-49e5-4d13-8f70-345510023961"
    },
    {
      "cell_type": "code",
      "execution_count": 122,
      "metadata": {},
      "outputs": [],
      "source": [
        "A2[:,[0,2]] # 1열, 3열"
      ],
      "id": "52dcf8c6-1a96-4b99-803f-24ed0eaed1e2"
    },
    {
      "cell_type": "code",
      "execution_count": 124,
      "metadata": {},
      "outputs": [],
      "source": [
        "A2[0:2,[0,2]] # 1행~2행 //  1열,3열 "
      ],
      "id": "81d666b9-196e-4838-964d-107119867df7"
    },
    {
      "cell_type": "markdown",
      "metadata": {},
      "source": [
        "## 1차원 배열의 선언\n",
        "\n",
        "`-` 리스트나 튜플을 선언하고 형변환"
      ],
      "id": "b70d8968-43f1-4949-9f9c-a5c45c16ee5a"
    },
    {
      "cell_type": "code",
      "execution_count": 128,
      "metadata": {},
      "outputs": [],
      "source": [
        "np.array((1,2,3)) # 튜플->넘파이어레이 "
      ],
      "id": "3de506da-1bac-4022-8666-2867fe205aef"
    },
    {
      "cell_type": "code",
      "execution_count": 129,
      "metadata": {},
      "outputs": [],
      "source": [
        "np.array([1,2,3]) # 리스트 ->넘파이어레이 "
      ],
      "id": "669f3058-244c-4fe4-934f-25342d735c78"
    },
    {
      "cell_type": "markdown",
      "metadata": {},
      "source": [
        "`-` range()를 이용해서 선언하고 형변환"
      ],
      "id": "6341cbfc-07a5-49fd-8f83-7069b798e1ee"
    },
    {
      "cell_type": "code",
      "execution_count": 133,
      "metadata": {},
      "outputs": [],
      "source": [
        "np.array(range(10)) # range(10) -> 넘파이어레이 "
      ],
      "id": "616b8bfb-b9d4-4ae5-936c-cfaa6f577ab1"
    },
    {
      "cell_type": "markdown",
      "metadata": {},
      "source": [
        "`-` np.zeros, np.ones"
      ],
      "id": "d1bfab74-b3c4-4596-a597-ac9f6e44a4c4"
    },
    {
      "cell_type": "code",
      "execution_count": 135,
      "metadata": {},
      "outputs": [],
      "source": [
        "np.zeros(3) "
      ],
      "id": "ac3774ab-6f17-4b94-a68b-ae712290f53d"
    },
    {
      "cell_type": "code",
      "execution_count": 137,
      "metadata": {},
      "outputs": [],
      "source": [
        "np.ones(4)"
      ],
      "id": "fe38e90b-920d-4e29-b43e-0d889e3266c1"
    },
    {
      "cell_type": "markdown",
      "metadata": {},
      "source": [
        "`-` np.linspace"
      ],
      "id": "0136a8d6-6ce5-4656-b563-380705ac2488"
    },
    {
      "cell_type": "code",
      "execution_count": 141,
      "metadata": {},
      "outputs": [],
      "source": [
        "np.linspace(0,1,12) # 0에서 시작하고 1에서 끝남 (양끝점 모두 포함)"
      ],
      "id": "16dfe855-350d-4534-a6d7-ce0179cf6a6f"
    },
    {
      "cell_type": "code",
      "execution_count": 142,
      "metadata": {},
      "outputs": [],
      "source": [
        "len(np.linspace(0,1,12)) # 길이는 12"
      ],
      "id": "718ae69c-69e1-4d76-b48f-2a3d85f3b853"
    },
    {
      "cell_type": "markdown",
      "metadata": {},
      "source": [
        "`-` np.arange"
      ],
      "id": "dd9cb068-dfa4-431d-a05f-0698038640b7"
    },
    {
      "cell_type": "code",
      "execution_count": 144,
      "metadata": {},
      "outputs": [],
      "source": [
        "np.arange(5) # np.array(range(5))"
      ],
      "id": "6d2de2ee-ecc8-409a-b958-a2bda810537a"
    },
    {
      "cell_type": "code",
      "execution_count": 148,
      "metadata": {},
      "outputs": [],
      "source": [
        "np.arange(1,6) # np.array(range(1,6))"
      ],
      "id": "96a13589-3084-4502-8a15-6ec9c6ecca36"
    },
    {
      "cell_type": "markdown",
      "metadata": {},
      "source": [
        "## reshape\n",
        "\n",
        "`-` reshape: ndarray의 특수한 기능"
      ],
      "id": "811f9558-b54f-4d14-91d7-097ea6f2696e"
    },
    {
      "cell_type": "code",
      "execution_count": 166,
      "metadata": {},
      "outputs": [],
      "source": [
        "a=np.array([11,22,33,44,55,66])\n",
        "a ## 길이가 6인 벡터 "
      ],
      "id": "4731e325-ab66-4463-a754-e46af4b78345"
    },
    {
      "cell_type": "code",
      "execution_count": 167,
      "metadata": {},
      "outputs": [],
      "source": [
        "a.reshape(2,3) ## (2,3) matrix 라고 생각해도 무방 "
      ],
      "id": "dc0791b2-2774-45cc-bee8-e66b08a843b6"
    },
    {
      "cell_type": "markdown",
      "metadata": {},
      "source": [
        "note: reshape은 a자체를 변화시키는것은 아님"
      ],
      "id": "d9637878-6aa6-4cf3-a02f-72748a061a51"
    },
    {
      "cell_type": "code",
      "execution_count": 165,
      "metadata": {},
      "outputs": [],
      "source": [
        "a # a는 그대로 있음 "
      ],
      "id": "3d1b3d98-bed1-49ca-aba0-aa028b9a0a1a"
    },
    {
      "cell_type": "code",
      "execution_count": 169,
      "metadata": {},
      "outputs": [],
      "source": [
        "b= a.reshape(2,3) # a를 reshape한 결과를 b에 저장 \n",
        "b"
      ],
      "id": "21e92247-3bad-4dbd-b90b-575a4882b77e"
    },
    {
      "cell_type": "code",
      "execution_count": 170,
      "metadata": {},
      "outputs": [],
      "source": [
        "a # a는 여전히 그대로 있음"
      ],
      "id": "9d7a19da-c4f9-4780-9c45-8ed12ae468e2"
    },
    {
      "cell_type": "markdown",
      "metadata": {},
      "source": [
        "`-` 다시 b를 a처럼 바꾸고 싶다"
      ],
      "id": "74c193f2-2c73-4fac-b7f8-ddb4e52ab5b3"
    },
    {
      "cell_type": "code",
      "execution_count": 171,
      "metadata": {},
      "outputs": [],
      "source": [
        "b"
      ],
      "id": "bcacae02-f02c-4d7d-aeda-bc1b19c8e88b"
    },
    {
      "cell_type": "code",
      "execution_count": 174,
      "metadata": {},
      "outputs": [],
      "source": [
        "b.reshape(6) # b는 (2,3) matrix , 그런데 이것을 길이가 6인 벡터로 만들고 싶다. "
      ],
      "id": "5af9b148-56be-471a-939a-c968307f9a61"
    },
    {
      "cell_type": "markdown",
      "metadata": {},
      "source": [
        "`-` reshape with -1"
      ],
      "id": "edf85338-cc5e-4a55-80b6-0f9da7057794"
    },
    {
      "cell_type": "code",
      "execution_count": 180,
      "metadata": {},
      "outputs": [],
      "source": [
        "a=np.arange(24) # np.array(range(24))\n",
        "a"
      ],
      "id": "9403d743-e9ae-4a21-917e-1fcc2ab8fe43"
    },
    {
      "cell_type": "code",
      "execution_count": 185,
      "metadata": {},
      "outputs": [],
      "source": [
        "a.reshape(2,-1)"
      ],
      "id": "96eaef8b-4785-42b9-b501-3a7c76a0eb6c"
    },
    {
      "cell_type": "code",
      "execution_count": 186,
      "metadata": {},
      "outputs": [],
      "source": [
        "a.reshape(3,-1)"
      ],
      "id": "0b2a2e78-87cb-4d72-bfda-d45452fa706c"
    },
    {
      "cell_type": "code",
      "execution_count": 187,
      "metadata": {},
      "outputs": [],
      "source": [
        "a.reshape(4,-1)"
      ],
      "id": "0c0e19df-d09e-4134-ae05-fcf4682d7c2c"
    },
    {
      "cell_type": "code",
      "execution_count": 188,
      "metadata": {},
      "outputs": [],
      "source": [
        "a.reshape(5,-1)"
      ],
      "id": "69b2d2d5-74c3-401c-bf52-5ab1a8e55c8d"
    },
    {
      "cell_type": "code",
      "execution_count": 189,
      "metadata": {},
      "outputs": [],
      "source": [
        "a.reshape(6,-1)"
      ],
      "id": "b207ba94-c3b1-4737-97d2-ef0a94f4177b"
    },
    {
      "cell_type": "code",
      "execution_count": 190,
      "metadata": {},
      "outputs": [],
      "source": [
        "a.reshape(7,-1)"
      ],
      "id": "1ae36f11-6d1c-4db0-8dd5-09de802896ef"
    },
    {
      "cell_type": "code",
      "execution_count": 191,
      "metadata": {},
      "outputs": [],
      "source": [
        "a.reshape(8,-1)"
      ],
      "id": "46efedd9-26f4-4e39-b4d7-ef83e86f9ea6"
    },
    {
      "cell_type": "code",
      "execution_count": 192,
      "metadata": {},
      "outputs": [],
      "source": [
        "a.reshape(12,-1)"
      ],
      "id": "90c353ed-911d-4be1-a63e-38f3f30d72dc"
    },
    {
      "cell_type": "code",
      "execution_count": 193,
      "metadata": {},
      "outputs": [],
      "source": [
        "b= a.reshape(12,-1)\n",
        "b"
      ],
      "id": "d4ea5808-dbc6-4f35-89fd-05863c87d1f3"
    },
    {
      "cell_type": "code",
      "execution_count": 197,
      "metadata": {},
      "outputs": [],
      "source": [
        "b.reshape(-1) # b를 다시 길이가 24인 벡터로!"
      ],
      "id": "004a3421-e410-4341-b41d-86362ff76959"
    },
    {
      "cell_type": "markdown",
      "metadata": {},
      "source": [
        "## 2차원 배열의 선언"
      ],
      "id": "d3786436-000e-4d37-b30d-d5292addb2d4"
    },
    {
      "cell_type": "code",
      "execution_count": 198,
      "metadata": {},
      "outputs": [],
      "source": [
        "np.zeros((3,3))"
      ],
      "id": "3da3c67b-30b7-4cf1-872e-d310ea4055e1"
    },
    {
      "cell_type": "code",
      "execution_count": 199,
      "metadata": {},
      "outputs": [],
      "source": [
        "np.ones((3,3))"
      ],
      "id": "73c8e7f2-61f7-4325-b002-d4cbcef6bdf7"
    },
    {
      "cell_type": "code",
      "execution_count": 200,
      "metadata": {},
      "outputs": [],
      "source": [
        "np.eye(3)"
      ],
      "id": "299f35b3-aabc-40e5-b15f-82fd4f2b4575"
    },
    {
      "cell_type": "code",
      "execution_count": 202,
      "metadata": {},
      "outputs": [],
      "source": [
        "np.diag([1,2,3,-1])"
      ],
      "id": "cfef5c30-b3ef-4587-9354-35820bef735f"
    },
    {
      "cell_type": "markdown",
      "metadata": {},
      "source": [
        "## 랜덤으로 배열 생성"
      ],
      "id": "4c7f9ccb-b656-49a1-8a4d-aaaf6c933bb8"
    },
    {
      "cell_type": "code",
      "execution_count": 204,
      "metadata": {},
      "outputs": [],
      "source": [
        "np.random.randn(10) # 표쥰정규분포에서 10개를 뽑음 "
      ],
      "id": "9b77680f-93dd-4dbf-81ca-61e0c6a9b389"
    },
    {
      "cell_type": "code",
      "execution_count": 205,
      "metadata": {},
      "outputs": [],
      "source": [
        "np.random.rand(10) # 0~1사이에서 10개를 뽑음"
      ],
      "id": "95492076-4b69-474c-b22b-73a3376af346"
    },
    {
      "cell_type": "code",
      "execution_count": 209,
      "metadata": {},
      "outputs": [],
      "source": [
        "np.random.randn(4).reshape(2,2) # 표준정규분포에서 4개를 뽑고 (2,2) ndarray로 형태변환 "
      ],
      "id": "f633f72b-1b63-44d2-aef9-91e36fbba440"
    },
    {
      "cell_type": "code",
      "execution_count": 208,
      "metadata": {},
      "outputs": [],
      "source": [
        "np.random.rand(4).reshape(2,2) # 0~1 4개를 뽑고 (2,2) ndarray로 형태변환 "
      ],
      "id": "ffe8f40d-18bc-4b08-817b-f03413e48cbc"
    },
    {
      "cell_type": "markdown",
      "metadata": {},
      "source": [
        "## 행렬관련기능"
      ],
      "id": "9cf4818c-08fb-4047-879c-6cd411a13e77"
    },
    {
      "cell_type": "code",
      "execution_count": 219,
      "metadata": {},
      "outputs": [],
      "source": [
        "A=np.arange(4).reshape(2,2) \n",
        "A"
      ],
      "id": "642c8453-3cae-410c-a5db-b87bb5f5a4b7"
    },
    {
      "cell_type": "code",
      "execution_count": 220,
      "metadata": {},
      "outputs": [],
      "source": [
        "A.T # .T는 전치행렬을 구해줌 "
      ],
      "id": "6f6f4580-bf90-42be-9638-163bb8a761df"
    },
    {
      "cell_type": "code",
      "execution_count": 221,
      "metadata": {},
      "outputs": [],
      "source": [
        "np.linalg.inv(A) # np.linalg.inv는 역행렬을 구해주는 함수 "
      ],
      "id": "f1ad1530-4df0-49ee-af18-460fac01f585"
    },
    {
      "cell_type": "code",
      "execution_count": 222,
      "metadata": {},
      "outputs": [],
      "source": [
        "A @ np.linalg.inv(A) # @는 행렬곱을 수행 "
      ],
      "id": "4e90a130-c711-49c5-9d30-2399bacac8e4"
    },
    {
      "cell_type": "markdown",
      "metadata": {},
      "source": [
        "## 차원\n",
        "\n",
        "`-` 넘파이배열의 차원은 .shape 으로 확인가능\n",
        "\n",
        "`-` 아래는 모두 미묘하게 다르다."
      ],
      "id": "db1699ba-5f0c-4c50-96bc-b7ae155e8555"
    },
    {
      "cell_type": "code",
      "execution_count": null,
      "metadata": {},
      "outputs": [],
      "source": [
        "a=np.array(3.14) # 스칼라, 0d array \n",
        "a, a.shape"
      ],
      "id": "57d6ca91"
    },
    {
      "cell_type": "code",
      "execution_count": null,
      "metadata": {},
      "outputs": [],
      "source": [
        "a=np.array([3.14]) # 벡터, 1d array \n",
        "a, a.shape"
      ],
      "id": "8ccda569"
    },
    {
      "cell_type": "code",
      "execution_count": null,
      "metadata": {},
      "outputs": [],
      "source": [
        "a=np.array([[3.14]]) # 매트릭스, 2d array \n",
        "a, a.shape"
      ],
      "id": "cd793e3a"
    },
    {
      "cell_type": "code",
      "execution_count": null,
      "metadata": {},
      "outputs": [],
      "source": [
        "a=np.array([[[3.14]]]) # 텐서, 3d array \n",
        "a, a.shape"
      ],
      "id": "573f62ea"
    },
    {
      "cell_type": "markdown",
      "metadata": {},
      "source": [
        "# Quiz\n",
        "\n",
        "`1`. shape이 ()인 numpy array를 만들어라. (즉 차원이 0인 np.array를\n",
        "만들어라)\n",
        "\n",
        "`2` a의 모든 원소에 1을 더하는 코드를 작성하라. (numpy를 이용할것)\n",
        "\n",
        "``` python\n",
        "a=[1,3,2,5,-3,3,8,2,3,1] \n",
        "```\n",
        "\n",
        "`3` 아래와 같은 수열을 생생성하라.\n",
        "\n",
        "    0,1,2,3,4,5,...,99 \n",
        "\n",
        "위의 수열에서 1,4,7,10,13,… 번째의 원소를 뽑아서 아래와 같은 수열을\n",
        "만들어라. (첫번째 원소는 0이다)\n",
        "\n",
        "    0,3,6,9,12,...,93,96,99\n",
        "\n",
        "`4`. shape이 (5,5)인 단위행렬을 만들어라.\n",
        "\n",
        "`5`. numpy를 이용하여 아래의 역행렬을 구하라.\n",
        "\n",
        "$$\\begin{bmatrix}\n",
        "1&  0 \\\\\n",
        "0&  3\n",
        "\\end{bmatrix}$$\n",
        "\n",
        "`6`. 본인의 생년월일로 랜덤시드를 설정하고 표준정규분포에서 1000개의\n",
        "난수를 생성하라.\n",
        "\n",
        "``` python\n",
        "# 생년월일이 21년 07월 06일 이라면 아래와 같이 시드설정 \n",
        "np.random.seed(20210706)\n",
        "```\n",
        "\n",
        "`7`. `6`의 결과로 나온 1000개의 난수중 1.96보다 크거나 -1.96보다 작은\n",
        "작은값은 모두 몇개인가?\n",
        "\n",
        "`8`. 아래와 같은 배열을 선언하라."
      ],
      "id": "2c7001f9-ba30-4779-ba92-b12712a8b564"
    },
    {
      "cell_type": "code",
      "execution_count": null,
      "metadata": {},
      "outputs": [],
      "source": [
        "a=np.arange(12).reshape(3,4)\n",
        "a"
      ],
      "id": "5c52e3d3"
    },
    {
      "cell_type": "markdown",
      "metadata": {},
      "source": [
        "차원의 수를 유지하면서 1열을 추출하는 코드를 작성하라. 즉 결과가 아래와\n",
        "같이 나오도록 하라.\n",
        "\n",
        "    array([[0],\n",
        "           [4],\n",
        "           [8]])\n",
        "\n",
        "`9`. 아래의 코드를 관찰하라."
      ],
      "id": "d80f6e86-c0bb-41ed-a2b6-ab55616008f3"
    },
    {
      "cell_type": "code",
      "execution_count": null,
      "metadata": {},
      "outputs": [],
      "source": [
        "np.random.seed(43052)\n",
        "a=np.random.randint(low=20,high=25,size=(10,10))"
      ],
      "id": "8010f35a"
    },
    {
      "cell_type": "markdown",
      "metadata": {},
      "source": [
        "a에서 20,21,22는 각각 몇개씩 있는가?\n",
        "\n",
        "**note** 공부를 위하여 `np.random.randint()`의 기능을 chatGPT등으로\n",
        "확인해 볼 것\n",
        "\n",
        "`10`. 아래의 코드를 관찰하라."
      ],
      "id": "3210bf79-8304-49f4-858f-40ae1eab71c9"
    },
    {
      "cell_type": "code",
      "execution_count": null,
      "metadata": {},
      "outputs": [],
      "source": [
        "lst = [[i==j for i in range(5)] for j in range(5)]\n",
        "lst"
      ],
      "id": "7af40b08"
    },
    {
      "cell_type": "markdown",
      "metadata": {},
      "source": [
        "lst를 이용하여 shape이 (5,5)인 단위행렬을 만들어라."
      ],
      "id": "7e3e72d3-84fc-4546-8a0e-358dd4281f10"
    },
    {
      "cell_type": "code",
      "execution_count": null,
      "metadata": {},
      "outputs": [],
      "source": [
        "# 출력결과는 아래와 같이 나와야 한다. "
      ],
      "id": "6fffe136"
    },
    {
      "cell_type": "markdown",
      "metadata": {},
      "source": [
        "`12`. 적당한 코드를 이용하여 아래와 같은 리스트를 생성하라."
      ],
      "id": "60b1ca0d-1041-4669-9682-b8045acc860a"
    },
    {
      "cell_type": "code",
      "execution_count": null,
      "metadata": {},
      "outputs": [],
      "source": [
        "lst"
      ],
      "id": "39b1f1c4"
    },
    {
      "cell_type": "markdown",
      "metadata": {},
      "source": [
        "이를 이용하여 아래와 같은 행렬을 선언하라."
      ],
      "id": "13d708f1-6ed4-49e1-823b-17939d0ff975"
    },
    {
      "cell_type": "code",
      "execution_count": null,
      "metadata": {},
      "outputs": [],
      "source": [
        "arr "
      ],
      "id": "ca3fb698"
    },
    {
      "cell_type": "markdown",
      "metadata": {},
      "source": [
        "`13`. 적당한 코드를 이용하여 아래와 같은 행렬을 선언하라."
      ],
      "id": "e0adc23e-8ac3-44f1-9279-93a501933546"
    },
    {
      "cell_type": "code",
      "execution_count": null,
      "metadata": {},
      "outputs": [],
      "source": [
        "# 출력결과는 아래와 같아야 한다."
      ],
      "id": "5e9d53b4"
    },
    {
      "cell_type": "markdown",
      "metadata": {},
      "source": [
        "`14`. 성공확률이 45%인 시행을 100번 반복하여 성공하면 True, 실패하면\n",
        "False를 기록하는 난수열을 생성하라.\n",
        "\n",
        "**hint:**"
      ],
      "id": "61b539ee-0d91-4cc4-ad8e-e2d44c2b2ca4"
    },
    {
      "cell_type": "code",
      "execution_count": null,
      "metadata": {},
      "outputs": [],
      "source": [
        "np.random.rand() # 0~1사이의 값이 임의로 생성"
      ],
      "id": "cc0063d3"
    },
    {
      "cell_type": "code",
      "execution_count": null,
      "metadata": {},
      "outputs": [],
      "source": [
        "np.random.rand() < 0.45 # 0~1사이에 랜덤으로 생성된 값이 0.45보다 작다면 True를 리턴 "
      ],
      "id": "321e7b9b"
    }
  ],
  "nbformat": 4,
  "nbformat_minor": 5,
  "metadata": {
    "kernelspec": {
      "name": "python3",
      "display_name": "Python 3 (ipykernel)",
      "language": "python"
    },
    "language_info": {
      "name": "python",
      "codemirror_mode": {
        "name": "ipython",
        "version": "3"
      },
      "file_extension": ".py",
      "mimetype": "text/x-python",
      "nbconvert_exporter": "python",
      "pygments_lexer": "ipython3",
      "version": "3.10.13"
    }
  }
}