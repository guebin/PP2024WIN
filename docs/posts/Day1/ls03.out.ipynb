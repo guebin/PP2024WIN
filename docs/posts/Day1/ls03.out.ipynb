{
  "cells": [
    {
      "cell_type": "markdown",
      "metadata": {},
      "source": [
        "# Lesson 03: 파이썬 자료형 심화개념\n",
        "\n",
        "최규빈  \n",
        "2023-06-24\n",
        "\n",
        "# 컴프리헨션($\\star\\star\\star$)\n",
        "\n",
        "## 컴프리헨션이 이해\n",
        "\n",
        "`-` 리스트 컴프리헨션을 이해하기 전에 for문에 대하여 알아보자.\n",
        "\n",
        "\\[예비학습\\] `for`문 벼락치기\n",
        "\n",
        "프로그램안에서 반복해서 무엇인가를 하고싶다 $\\to$ for"
      ],
      "id": "4e8ae73c-ca75-4b37-8a47-e0d07e120a3b"
    },
    {
      "cell_type": "code",
      "execution_count": 371,
      "metadata": {
        "vscode": {
          "languageId": "python"
        }
      },
      "outputs": [
        {
          "output_type": "stream",
          "name": "stdout",
          "text": [
            "0\n",
            "1\n",
            "2\n",
            "3"
          ]
        }
      ],
      "source": [
        "for i in [0,1,2,3]: ## 반복실행계획\n",
        "    print(i) ## 반복실행할내용, 탭을이용하여 들여쓰기해야한다. "
      ],
      "id": "1e40026d-0119-487f-9e2b-1e66d14467b7"
    },
    {
      "cell_type": "markdown",
      "metadata": {},
      "source": [
        "(예제) 1,2,3,4의 합을 for문을 이용하여 구해보자."
      ],
      "id": "15307420-fea8-4ef9-b428-ef74274abd5c"
    },
    {
      "cell_type": "code",
      "execution_count": 115,
      "metadata": {
        "vscode": {
          "languageId": "python"
        }
      },
      "outputs": [],
      "source": [
        "_sum = 0 \n",
        "for i in [1,2,3,4]:\n",
        "    _sum = _sum + i"
      ],
      "id": "72c0b9c9-66e9-4968-b0ec-02c76108ccd5"
    },
    {
      "cell_type": "code",
      "execution_count": 364,
      "metadata": {
        "vscode": {
          "languageId": "python"
        }
      },
      "outputs": [],
      "source": [
        "_sum = 0\n",
        "i=1 \n",
        "_sum = _sum + i ## 1 <= 0+1\n",
        "i=2\n",
        "_sum = _sum + i ## 3 <= 1+2 \n",
        "i=3 \n",
        "_sum = _sum + i ## 6 <= 3+3\n",
        "i=4\n",
        "_sum = _sum + i ## 10 <= 6+4 "
      ],
      "id": "180acb26-22df-4d65-87a0-ff469d6c692e"
    },
    {
      "cell_type": "code",
      "execution_count": 365,
      "metadata": {
        "vscode": {
          "languageId": "python"
        }
      },
      "outputs": [],
      "source": [
        "_sum"
      ],
      "id": "c000fdb1-4cc0-449a-94a2-22a2e9ba09d8"
    },
    {
      "cell_type": "markdown",
      "metadata": {},
      "source": [
        "예비학습끝\n",
        "\n",
        "`-` 예제: $2^0, 2^1, 2^2, 2^3$를 원소로 가지는 리스트를 생성하라.\n",
        "\n",
        "(풀이1) 직접입력"
      ],
      "id": "8454fbe3-25fe-4fe6-b7ff-77d67976313c"
    },
    {
      "cell_type": "code",
      "execution_count": 119,
      "metadata": {
        "vscode": {
          "languageId": "python"
        }
      },
      "outputs": [],
      "source": [
        "x= [2**0, 2**1, 2**2, 2**3] \n",
        "x"
      ],
      "id": "8c0db9d4-c759-43dc-9363-bb577dfae8b5"
    },
    {
      "cell_type": "markdown",
      "metadata": {},
      "source": [
        "(풀이2) for문을 이용함"
      ],
      "id": "7b45ec02-1a6b-4497-88fe-46dcee20c0fe"
    },
    {
      "cell_type": "code",
      "execution_count": 129,
      "metadata": {
        "vscode": {
          "languageId": "python"
        }
      },
      "outputs": [],
      "source": [
        "x=[] \n",
        "for i in [0,1,2,3]:\n",
        "    x.append(2**i) "
      ],
      "id": "f40cfb11-0193-49cb-8e18-72b70d51d2db"
    },
    {
      "cell_type": "code",
      "execution_count": 130,
      "metadata": {
        "vscode": {
          "languageId": "python"
        }
      },
      "outputs": [],
      "source": [
        "x"
      ],
      "id": "a508f39c-c121-4da0-9a65-7d13a6ce0706"
    },
    {
      "cell_type": "markdown",
      "metadata": {},
      "source": [
        "(풀이3) for문을 이용함"
      ],
      "id": "2697dbb4-d5fe-402d-946a-8e001e351e39"
    },
    {
      "cell_type": "code",
      "execution_count": 131,
      "metadata": {
        "vscode": {
          "languageId": "python"
        }
      },
      "outputs": [],
      "source": [
        "x=[] \n",
        "for i in [0,1,2,3]:\n",
        "    x = x+[2**i]"
      ],
      "id": "01c2ecde-0ce7-406a-87d3-d0c88f3f3866"
    },
    {
      "cell_type": "code",
      "execution_count": 132,
      "metadata": {
        "vscode": {
          "languageId": "python"
        }
      },
      "outputs": [],
      "source": [
        "x"
      ],
      "id": "391e0e0b-b292-42af-8079-20a564579497"
    },
    {
      "cell_type": "markdown",
      "metadata": {},
      "source": [
        "(풀이4) for문을 이용함"
      ],
      "id": "de7c81a8-6ea4-49c5-a419-90dec698a587"
    },
    {
      "cell_type": "code",
      "execution_count": 133,
      "metadata": {
        "vscode": {
          "languageId": "python"
        }
      },
      "outputs": [],
      "source": [
        "x=[] \n",
        "for i in [0,1,2,3]:\n",
        "    x += [2**i]"
      ],
      "id": "6ecdfba3-4928-4d57-86fb-25170c0d6778"
    },
    {
      "cell_type": "code",
      "execution_count": 134,
      "metadata": {
        "vscode": {
          "languageId": "python"
        }
      },
      "outputs": [],
      "source": [
        "x"
      ],
      "id": "43597a56-4c3e-475a-84bc-e065e0d7af5d"
    },
    {
      "cell_type": "markdown",
      "metadata": {},
      "source": [
        "(풀이5) 리스트컴프리헨션을 이용한 풀이"
      ],
      "id": "3f0137d0-0036-4a21-a1e2-124311873950"
    },
    {
      "cell_type": "code",
      "execution_count": 139,
      "metadata": {
        "vscode": {
          "languageId": "python"
        }
      },
      "outputs": [],
      "source": [
        "x= [2**i for i in [0,1,2,3]] \n",
        "x"
      ],
      "id": "d92bc72b-74a2-4ef2-b1f1-cc9f1ff729a3"
    },
    {
      "cell_type": "markdown",
      "metadata": {},
      "source": [
        "`-` 리스트컴프리헨션의 문법 암기방법\n",
        "\n",
        "-   집합에서 조건제시법을 연상\n",
        "-   $\\{2^0,2^1,2^2,2^3\\}=\\{2^i: \\text{ for } i = 0,1,2,3 \\}$\n",
        "\n",
        "`-` 리스트컴프리헨션이란?\n",
        "\n",
        "-   리스트를 매우 효율적으로 만드는 테크닉\n",
        "-   for문에 비하여 가지고 있는 장점: (1) 코드가 간결하다 (2) 빠르다\n",
        "\n",
        "`-` 예제: 리스트 컴프리헨션을 이용하여 아래와 같은 리스트를 만들어라."
      ],
      "id": "39d11047-3105-453d-87c1-d7943de3f4f3"
    },
    {
      "cell_type": "code",
      "execution_count": 396,
      "metadata": {
        "vscode": {
          "languageId": "python"
        }
      },
      "outputs": [],
      "source": [
        "['SSSS','PPPP','AAAA','MMMM']"
      ],
      "id": "c19a888d-f265-49ed-871e-563ba40c2aef"
    },
    {
      "cell_type": "markdown",
      "metadata": {},
      "source": [
        "(풀이)"
      ],
      "id": "130b4ced-5fa9-432a-a3e3-3eb3a4fbf613"
    },
    {
      "cell_type": "code",
      "execution_count": 397,
      "metadata": {
        "vscode": {
          "languageId": "python"
        }
      },
      "outputs": [],
      "source": [
        "[i*4 for i in 'SPAM']"
      ],
      "id": "a41bed13-7213-4127-90fa-3aae156a473e"
    },
    {
      "cell_type": "markdown",
      "metadata": {},
      "source": [
        "`-` 예제: 리스트컴프리헨션을 이용하여 아래와 같은 리스트를 만들어라."
      ],
      "id": "b8953ac2-7f98-47cd-842a-ab83c4e3127f"
    },
    {
      "cell_type": "code",
      "execution_count": 401,
      "metadata": {
        "vscode": {
          "languageId": "python"
        }
      },
      "outputs": [],
      "source": [
        "['X1','X2','X3','Y1','Y2','Y3']"
      ],
      "id": "36646e84-d161-4669-9568-c9c3dd7874c1"
    },
    {
      "cell_type": "markdown",
      "metadata": {},
      "source": [
        "(풀이)"
      ],
      "id": "583d32d5-7fba-4b02-b9ad-b189a88fc396"
    },
    {
      "cell_type": "code",
      "execution_count": 405,
      "metadata": {
        "vscode": {
          "languageId": "python"
        }
      },
      "outputs": [],
      "source": [
        "[i+j for i in 'XY' for j in '123']"
      ],
      "id": "82e9a8b9-42d2-4a51-afa0-5b2562c7bbca"
    },
    {
      "cell_type": "markdown",
      "metadata": {},
      "source": [
        "`-` 예제: 리스트컴프리헨션을 이용하여 통계1,…,통계5,수학1,…,수학5를\n",
        "만들어라.\n",
        "\n",
        "(풀이)"
      ],
      "id": "ef99b9e8-0193-4bb6-a834-f6e5eb04bb8e"
    },
    {
      "cell_type": "code",
      "execution_count": 407,
      "metadata": {
        "vscode": {
          "languageId": "python"
        }
      },
      "outputs": [],
      "source": [
        "[x+y for x in ['stat','math'] for y in '12345'] "
      ],
      "id": "02b8af1e-ddea-4894-821a-4cbfe2206c91"
    },
    {
      "cell_type": "markdown",
      "metadata": {},
      "source": [
        "-   $\\{xy : x \\in \\{{\\tt stat},{\\tt math}\\}, y \\in \\{1,2,3,4,5\\} \\}$\n",
        "\n",
        "(다른풀이) 참고로 for문을 쓰면 좀 복잡해진다."
      ],
      "id": "bc615c05-7a68-42fd-8afc-cc8497299fe8"
    },
    {
      "cell_type": "code",
      "execution_count": 409,
      "metadata": {
        "vscode": {
          "languageId": "python"
        }
      },
      "outputs": [],
      "source": [
        "_lst = [] \n",
        "for x in ['stat','math']: \n",
        "    for y in '12345': \n",
        "        _lst = _lst + [x+y] "
      ],
      "id": "d7858e41-23d7-4be9-b676-dabef15eaad4"
    },
    {
      "cell_type": "code",
      "execution_count": 410,
      "metadata": {
        "vscode": {
          "languageId": "python"
        }
      },
      "outputs": [],
      "source": [
        "_lst "
      ],
      "id": "be016bd1-2064-4768-bc5f-e734443dc200"
    },
    {
      "cell_type": "markdown",
      "metadata": {},
      "source": [
        "`-` 예제: ’jbnu’를 이용하여 아래와 같은 리스트를 만들어라.\n",
        "(리스트컴프리헨션을 이용할것)"
      ],
      "id": "7e828c39-e78f-4d66-b774-933bd4d63214"
    },
    {
      "cell_type": "code",
      "execution_count": 152,
      "metadata": {
        "vscode": {
          "languageId": "python"
        }
      },
      "outputs": [],
      "source": [
        "['j','b','n','u']"
      ],
      "id": "e148b0cd-6bc3-46cb-90f2-cee2d77a2b1f"
    },
    {
      "cell_type": "markdown",
      "metadata": {},
      "source": [
        "(다른풀이) 아래와 같이 풀면 된다는것은 알고 있음"
      ],
      "id": "b4d5b41d-28ce-4632-b4c3-1574a98b6207"
    },
    {
      "cell_type": "code",
      "execution_count": 415,
      "metadata": {
        "vscode": {
          "languageId": "python"
        }
      },
      "outputs": [],
      "source": [
        "list('jbnu')"
      ],
      "id": "dcbb0096-8052-4880-92f0-3952419458f4"
    },
    {
      "cell_type": "markdown",
      "metadata": {},
      "source": [
        "(풀이)"
      ],
      "id": "f6825698-a4ea-4daf-a32c-8b5ae76b7a69"
    },
    {
      "cell_type": "code",
      "execution_count": 418,
      "metadata": {
        "vscode": {
          "languageId": "python"
        }
      },
      "outputs": [],
      "source": [
        "[x for x in 'jbnu']"
      ],
      "id": "9b5465b4-f827-42fd-a37f-759956fda290"
    },
    {
      "cell_type": "markdown",
      "metadata": {},
      "source": [
        "`-` 예제: x에는 무엇이 있을까?\n",
        "\n",
        "(경우1)"
      ],
      "id": "141d9879-4dcb-466d-a987-3621caf49971"
    },
    {
      "cell_type": "code",
      "execution_count": 423,
      "metadata": {
        "vscode": {
          "languageId": "python"
        }
      },
      "outputs": [],
      "source": [
        "x=1 \n",
        "lst = [] \n",
        "for x in 'jbnu': \n",
        "    lst = lst + [x]\n",
        "lst    "
      ],
      "id": "67ad1501-9476-42a9-ae4c-96d793067ff9"
    },
    {
      "cell_type": "code",
      "execution_count": 424,
      "metadata": {
        "vscode": {
          "languageId": "python"
        }
      },
      "outputs": [],
      "source": [
        "x "
      ],
      "id": "73cc6150-d782-4b21-90fd-518e087d187b"
    },
    {
      "cell_type": "markdown",
      "metadata": {},
      "source": [
        "(경우2)"
      ],
      "id": "995a6c14-4dae-4e23-b8cc-816c790b53d8"
    },
    {
      "cell_type": "code",
      "execution_count": 425,
      "metadata": {
        "vscode": {
          "languageId": "python"
        }
      },
      "outputs": [],
      "source": [
        "x=1 \n",
        "lst = [x for x in 'jbnu'] \n",
        "lst "
      ],
      "id": "105ba2d0-8f8d-4ef1-9d16-6f7ca08ab649"
    },
    {
      "cell_type": "code",
      "execution_count": 426,
      "metadata": {
        "vscode": {
          "languageId": "python"
        }
      },
      "outputs": [],
      "source": [
        "x"
      ],
      "id": "234ca9b3-c917-4869-b3a4-4ba96916393c"
    },
    {
      "cell_type": "markdown",
      "metadata": {},
      "source": [
        "-   진짜 미묘하게 다르죠?\n",
        "\n",
        "`-` 예제: \\[X1,X2,X3,…,X100\\]와 같은 리스트를 만들어보라.\n",
        "\n",
        "(풀이)"
      ],
      "id": "e3c3a954-a0c9-4bd6-801c-74f17e08de98"
    },
    {
      "cell_type": "code",
      "execution_count": 431,
      "metadata": {
        "vscode": {
          "languageId": "python"
        }
      },
      "outputs": [],
      "source": [
        "['X'+str(i) for i in [1,2,3,4]] ## 이걸 4까지가 아니라 100까지 써야함"
      ],
      "id": "6cbbc674-b4db-4b84-a83f-fb0422617505"
    },
    {
      "cell_type": "code",
      "execution_count": 432,
      "metadata": {
        "vscode": {
          "languageId": "python"
        }
      },
      "outputs": [],
      "source": [
        "['X'+str(i) for i in 1:100]"
      ],
      "id": "81ec46a1-290a-4c9e-88e5-8796192c6afe"
    },
    {
      "cell_type": "markdown",
      "metadata": {},
      "source": [
        "\\[예비학습\\]"
      ],
      "id": "0f772027-8bb3-4b44-9f1f-37326094aad2"
    },
    {
      "cell_type": "code",
      "execution_count": 434,
      "metadata": {
        "vscode": {
          "languageId": "python"
        }
      },
      "outputs": [],
      "source": [
        "range(0,10)"
      ],
      "id": "23b7b5b7-dff8-416f-af92-66b52617c6dc"
    },
    {
      "cell_type": "markdown",
      "metadata": {},
      "source": [
        "-   이게뭐야?"
      ],
      "id": "3e3ae213-08c1-438b-8a2a-8bb1ac95eb85"
    },
    {
      "cell_type": "code",
      "execution_count": 438,
      "metadata": {
        "vscode": {
          "languageId": "python"
        }
      },
      "outputs": [],
      "source": [
        "_tmp = range(0,10)\n",
        "_tmp?"
      ],
      "id": "1865c296-cacf-4325-aac2-c01e8d8a6810"
    },
    {
      "cell_type": "markdown",
      "metadata": {},
      "source": [
        "-   우리가 아는 범위에서는 모르겠음.. 이런게 있나보다 하고 넘어가야\n",
        "    하겠음"
      ],
      "id": "f01b0005-09e7-4d52-887e-0c0eb9d49004"
    },
    {
      "cell_type": "code",
      "execution_count": 448,
      "metadata": {
        "vscode": {
          "languageId": "python"
        }
      },
      "outputs": [],
      "source": [
        "list(range(0,10)) # 0을 포함, 10을 미포함 "
      ],
      "id": "f2bc2ac9-f00b-4e17-87ce-9a4e56b9d8e6"
    },
    {
      "cell_type": "markdown",
      "metadata": {},
      "source": [
        "-   이게 중요한것임. range(0,10)를 리스트화시키면 \\[0,1,2,…,9\\] 와 같은\n",
        "    리스트를 얻을 수 있음."
      ],
      "id": "9ec5c1c6-47cc-4e9e-a0da-cb53d8e2e1d3"
    },
    {
      "cell_type": "code",
      "execution_count": 453,
      "metadata": {
        "vscode": {
          "languageId": "python"
        }
      },
      "outputs": [],
      "source": [
        "list(range(10)) # 0은 생략가능"
      ],
      "id": "b776b64d-7451-4c31-bccf-6927157123c5"
    },
    {
      "cell_type": "code",
      "execution_count": 452,
      "metadata": {
        "vscode": {
          "languageId": "python"
        }
      },
      "outputs": [],
      "source": [
        "list(range(2,10)) # 2는 포함, 10은 미포함 "
      ],
      "id": "a5dcf524-54c1-4340-aa32-b42fe9c3d53a"
    },
    {
      "cell_type": "code",
      "execution_count": 455,
      "metadata": {
        "vscode": {
          "languageId": "python"
        }
      },
      "outputs": [],
      "source": [
        "list(range(1,10,2)) # 2는 포함, 10은 미포함 "
      ],
      "id": "c6cb3b6d-e795-475c-8430-79b50f1e602f"
    },
    {
      "cell_type": "markdown",
      "metadata": {},
      "source": [
        "예비학습 끝"
      ],
      "id": "f2e2ac13-cbd3-4bc7-9e0b-aaadea49d3f1"
    },
    {
      "cell_type": "code",
      "execution_count": 460,
      "metadata": {
        "vscode": {
          "languageId": "python"
        }
      },
      "outputs": [],
      "source": [
        "['X'+str(i) for i in list(range(1,13))] ## 출력결과가 너무 기니까 101대신에 13으로 변경 "
      ],
      "id": "fdd1bf50-bce9-4bd1-a3fd-bab4ab9d7744"
    },
    {
      "cell_type": "markdown",
      "metadata": {},
      "source": [
        "(아래와 같은 풀이도 가능)"
      ],
      "id": "d5ea2865-7e4a-48e0-8900-bc512ae1c247"
    },
    {
      "cell_type": "code",
      "execution_count": 466,
      "metadata": {
        "vscode": {
          "languageId": "python"
        }
      },
      "outputs": [],
      "source": [
        "['X'+str(i) for i in range(1,13)] ## 출력결과가 너무 기니까 101대신에 13으로 변경 "
      ],
      "id": "219a3752-8625-48a7-9fad-1d6c6d7074b7"
    },
    {
      "cell_type": "markdown",
      "metadata": {},
      "source": [
        "(딴생각) 생각해보니까 for문 뒤에 올 수 있는것이 무엇인지 생각하는것도\n",
        "흥미로울듯"
      ],
      "id": "54c34c2f-068f-4015-8914-08538a4782d8"
    },
    {
      "cell_type": "code",
      "execution_count": 467,
      "metadata": {
        "vscode": {
          "languageId": "python"
        }
      },
      "outputs": [
        {
          "output_type": "stream",
          "name": "stdout",
          "text": [
            "1\n",
            "2\n",
            "3\n",
            "4"
          ]
        }
      ],
      "source": [
        "for i in '1234':\n",
        "    print(i)"
      ],
      "id": "ec43d441-cad2-484c-953a-5a832e53d80e"
    },
    {
      "cell_type": "code",
      "execution_count": 468,
      "metadata": {
        "vscode": {
          "languageId": "python"
        }
      },
      "outputs": [
        {
          "output_type": "stream",
          "name": "stdout",
          "text": [
            "1\n",
            "2\n",
            "3\n",
            "4"
          ]
        }
      ],
      "source": [
        "for i in [1,2,3,4]:\n",
        "    print(i)"
      ],
      "id": "b3f5e031-d22a-4713-9531-221f8e0af1c7"
    },
    {
      "cell_type": "code",
      "execution_count": 470,
      "metadata": {
        "vscode": {
          "languageId": "python"
        }
      },
      "outputs": [
        {
          "output_type": "stream",
          "name": "stdout",
          "text": [
            "1\n",
            "2\n",
            "3\n",
            "4"
          ]
        }
      ],
      "source": [
        "for i in (1,2,3,4): # (1,2,3,4)는 튜플\n",
        "    print(i)"
      ],
      "id": "fbd579bc-bc31-483a-bb5c-8f0d3ceea1d1"
    },
    {
      "cell_type": "code",
      "execution_count": 474,
      "metadata": {
        "vscode": {
          "languageId": "python"
        }
      },
      "outputs": [
        {
          "output_type": "stream",
          "name": "stdout",
          "text": [
            "1\n",
            "2\n",
            "3\n",
            "4"
          ]
        }
      ],
      "source": [
        "for i in {1,2,3,4}: # {1,2,3,4}는 set \n",
        "    print(i)"
      ],
      "id": "5b8e0670-f8cf-4111-9ab2-0c8467d2b9d9"
    },
    {
      "cell_type": "code",
      "execution_count": 476,
      "metadata": {
        "vscode": {
          "languageId": "python"
        }
      },
      "outputs": [
        {
          "output_type": "stream",
          "name": "stdout",
          "text": [
            "name\n",
            "age"
          ]
        }
      ],
      "source": [
        "for i in {'name':'iu','age':28}: #{'name':'iu','age':28} 는 딕셔너리\n",
        "    print(i)"
      ],
      "id": "7f9dfedf-c2bb-455b-933a-07a40086bb88"
    },
    {
      "cell_type": "code",
      "execution_count": 479,
      "metadata": {
        "vscode": {
          "languageId": "python"
        }
      },
      "outputs": [
        {
          "output_type": "stream",
          "name": "stdout",
          "text": [
            "1\n",
            "2\n",
            "3\n",
            "4"
          ]
        }
      ],
      "source": [
        "for i in range(1,5): \n",
        "    print(i)"
      ],
      "id": "518943d8-4b99-48a2-96ea-f84eeb89d81d"
    },
    {
      "cell_type": "markdown",
      "metadata": {},
      "source": [
        "## if문이 포함된 컴프리헨션\n",
        "\n",
        "`-` 예제: 제곱수중에서 12로 나누어 떨어지는 수만 원소로 가지는 리스트를\n",
        "만들고 싶다.\n",
        "\n",
        "-   제곱수: 1,4,9,16,25,36, …\n",
        "-   12로 나누어 떨어지는 수: 36, …\n",
        "\n",
        "(예비학습)"
      ],
      "id": "a69cdbfb-604c-4dc7-941c-3b97c4bc3af5"
    },
    {
      "cell_type": "code",
      "execution_count": 30,
      "metadata": {
        "vscode": {
          "languageId": "python"
        }
      },
      "outputs": [],
      "source": [
        "12 % 4 # %는 나머지를 계산하는 연산자, 12를 4로 나누면 나머지가 0"
      ],
      "id": "4ae21e93-ff53-488b-8551-1d867810b3d0"
    },
    {
      "cell_type": "code",
      "execution_count": 31,
      "metadata": {
        "vscode": {
          "languageId": "python"
        }
      },
      "outputs": [],
      "source": [
        "12 % 5 # %는 나머지를 계산하는 연산자, 12를 5로 나누면 나머지가 2"
      ],
      "id": "c76cd88d-0ddc-40eb-a210-6a9ed275db4d"
    },
    {
      "cell_type": "markdown",
      "metadata": {},
      "source": [
        "(풀이1)"
      ],
      "id": "45250c76-6daf-4d2b-9010-7ce54c4ddb7c"
    },
    {
      "cell_type": "code",
      "execution_count": 32,
      "metadata": {
        "vscode": {
          "languageId": "python"
        }
      },
      "outputs": [],
      "source": [
        "lst = [] \n",
        "for i in range(1,101): \n",
        "    if (i**2 % 12 == 0): \n",
        "        lst.append(i**2)"
      ],
      "id": "3bfddd4d-b31d-41c5-b40b-1a57e6fbb8d0"
    },
    {
      "cell_type": "code",
      "execution_count": 33,
      "metadata": {
        "vscode": {
          "languageId": "python"
        }
      },
      "outputs": [],
      "source": [
        "lst"
      ],
      "id": "6192cc6a-98c5-4c1b-8327-b829e43de47c"
    },
    {
      "cell_type": "markdown",
      "metadata": {},
      "source": [
        "(풀이2)"
      ],
      "id": "80a7a86c-dd4f-47a5-8a08-98840ee7fb91"
    },
    {
      "cell_type": "code",
      "execution_count": 34,
      "metadata": {
        "vscode": {
          "languageId": "python"
        }
      },
      "outputs": [],
      "source": [
        "[i**2 for i in range(1,101) if (i**2 % 12 == 0)]"
      ],
      "id": "b6b258d0-ce28-42bf-b69b-2bc42abd7fa3"
    },
    {
      "cell_type": "markdown",
      "metadata": {},
      "source": [
        "# 튜플고급\n",
        "\n",
        "## 튜플을 왜 쓰지? (1)\n",
        "\n",
        "***그냥 리스트를 쓰면 되는거 아닌가 하는 생각이 듭니다. 그냥 튜플은 값이\n",
        "바뀌지 않는 리스트 느낌. 이게 왜 쓸모있지?***\n",
        "\n",
        "-   책의설명: 코딩을 하다보면 값을 바꾸지 말아야 할 것을 실수로 값을\n",
        "    바꾸는 경우가 있음. 이런 실수를 방지할 수 있다.\n",
        "-   shallow copy/deep copy 에 대한 개념을 모르면 생기는 여러가지 side\n",
        "    effect이 있음. 이러한 side effect을 막을 수 있는 무기임.\n",
        "\n",
        "## 상황1: 다중출력(?)\n",
        "\n",
        "`-` 예제: 여러변수를 동시에 출력하고 싶을 경우 (다중출력?)\n",
        "\n",
        "변수를 아래와 같이 선언하였다고 하자."
      ],
      "id": "41243863-c64f-4ff6-89de-5a00446d929e"
    },
    {
      "cell_type": "code",
      "execution_count": 1,
      "metadata": {
        "vscode": {
          "languageId": "python"
        }
      },
      "outputs": [],
      "source": [
        "a=1\n",
        "b=2\n",
        "c=3 "
      ],
      "id": "06b07675-fb6b-4fdb-b776-873266cb3bfa"
    },
    {
      "cell_type": "markdown",
      "metadata": {},
      "source": [
        "선언된 값을 확인하려면?"
      ],
      "id": "224fb48d-a022-4c69-b7fa-b3c2554fadbd"
    },
    {
      "cell_type": "code",
      "execution_count": 3,
      "metadata": {
        "vscode": {
          "languageId": "python"
        }
      },
      "outputs": [],
      "source": [
        "a"
      ],
      "id": "1a22ae5d-f779-4312-865b-49ce517af076"
    },
    {
      "cell_type": "code",
      "execution_count": 4,
      "metadata": {
        "vscode": {
          "languageId": "python"
        }
      },
      "outputs": [],
      "source": [
        "b"
      ],
      "id": "dc70571e-9548-4daf-8330-2c0a016946cb"
    },
    {
      "cell_type": "code",
      "execution_count": 5,
      "metadata": {
        "vscode": {
          "languageId": "python"
        }
      },
      "outputs": [],
      "source": [
        "c"
      ],
      "id": "ae1069c3-b5f0-42d3-b22e-b5e48bf1e5ec"
    },
    {
      "cell_type": "markdown",
      "metadata": {},
      "source": [
        "튜플을 이용하면?"
      ],
      "id": "b97f610a-9534-4dc4-9513-16a4b5d2becb"
    },
    {
      "cell_type": "code",
      "execution_count": 51,
      "metadata": {
        "vscode": {
          "languageId": "python"
        }
      },
      "outputs": [],
      "source": [
        "a,b,c # 괄호하나 생략하는것이 이렇게 편하다.."
      ],
      "id": "2c01c0f1-b1a7-4de1-8ee6-77e6f1b0d88e"
    },
    {
      "cell_type": "markdown",
      "metadata": {},
      "source": [
        "## 상황2: 다중할당\n",
        "\n",
        "`-` 예제: 다중할당1 (여러개의 변수를 동시에 선언하고 싶을 경우)"
      ],
      "id": "aca10dd1-a607-4982-b03c-5b78c6c3d591"
    },
    {
      "cell_type": "code",
      "execution_count": 52,
      "metadata": {
        "vscode": {
          "languageId": "python"
        }
      },
      "outputs": [],
      "source": [
        "name, age, sex, height, weight = 'Tom', 20, 'M', 180, 70 "
      ],
      "id": "ded4b0c2-d334-49e3-96a8-738a7853a146"
    },
    {
      "cell_type": "code",
      "execution_count": 54,
      "metadata": {
        "vscode": {
          "languageId": "python"
        }
      },
      "outputs": [],
      "source": [
        "name, age, sex, height, weight"
      ],
      "id": "c8937e3b-ebba-495f-8be2-daa5d716a567"
    },
    {
      "cell_type": "code",
      "execution_count": 56,
      "metadata": {
        "vscode": {
          "languageId": "python"
        }
      },
      "outputs": [],
      "source": [
        "height"
      ],
      "id": "6ebffec9-945a-490f-b4f3-fbef20b804f4"
    },
    {
      "cell_type": "markdown",
      "metadata": {},
      "source": [
        "`-` 예제: 다중할당2, 위도와 경도"
      ],
      "id": "8db81b58-a354-4637-a20e-d3b584f186af"
    },
    {
      "cell_type": "code",
      "execution_count": 2,
      "metadata": {
        "vscode": {
          "languageId": "python"
        }
      },
      "outputs": [],
      "source": [
        "coor = (37,127) # 서울 \n",
        "coor"
      ],
      "id": "efe1cb3c-1ca5-4ece-805e-346722ce59f2"
    },
    {
      "cell_type": "code",
      "execution_count": 3,
      "metadata": {
        "vscode": {
          "languageId": "python"
        }
      },
      "outputs": [],
      "source": [
        "lat, lon = coor"
      ],
      "id": "e2bae1a1-b352-484d-a2c8-a130f792325e"
    },
    {
      "cell_type": "code",
      "execution_count": 4,
      "metadata": {
        "vscode": {
          "languageId": "python"
        }
      },
      "outputs": [],
      "source": [
        "lat "
      ],
      "id": "49572a0d-43b0-4bd7-96af-104ca3575c19"
    },
    {
      "cell_type": "code",
      "execution_count": 5,
      "metadata": {
        "vscode": {
          "languageId": "python"
        }
      },
      "outputs": [],
      "source": [
        "lon"
      ],
      "id": "4d93fd46-72a4-4a56-936a-98712fde2d50"
    },
    {
      "cell_type": "markdown",
      "metadata": {},
      "source": [
        "`-` 잠깐만: 다중할당은 꼭 튜플에서만 가능한가?\n",
        "\n",
        "그건 아니다…"
      ],
      "id": "a7316f1a-5b37-4b1b-be3e-538eaac6d082"
    },
    {
      "cell_type": "code",
      "execution_count": 70,
      "metadata": {
        "vscode": {
          "languageId": "python"
        }
      },
      "outputs": [],
      "source": [
        "[x,y,z] = [1,2,3] \n",
        "x,y,z # 다중출력 "
      ],
      "id": "e820ce8c-443d-440f-a29b-633d0597cd45"
    },
    {
      "cell_type": "code",
      "execution_count": 71,
      "metadata": {
        "vscode": {
          "languageId": "python"
        }
      },
      "outputs": [],
      "source": [
        "[x,y] = 'hi'\n",
        "x,y "
      ],
      "id": "aa9d1836-20ed-4220-a733-024f73e60985"
    },
    {
      "cell_type": "markdown",
      "metadata": {},
      "source": [
        "튜플과 같이 사용하면 가독성이 극대화 (그래서 다중할당은 거의 튜플과\n",
        "세트로 사용함)"
      ],
      "id": "3a3affdc-0fa7-4ca2-a232-60649ae763d4"
    },
    {
      "cell_type": "code",
      "execution_count": 72,
      "metadata": {
        "vscode": {
          "languageId": "python"
        }
      },
      "outputs": [],
      "source": [
        "x,y,z = 1,2,3\n",
        "x,y,z # 다중출력 "
      ],
      "id": "08dc00f2-5fda-4500-9f0b-ca6636ee47a6"
    },
    {
      "cell_type": "code",
      "execution_count": 73,
      "metadata": {
        "vscode": {
          "languageId": "python"
        }
      },
      "outputs": [],
      "source": [
        "x,y = 'hi'\n",
        "x,y "
      ],
      "id": "665565bf-addc-4cf2-b59c-7cad0b196e7f"
    },
    {
      "cell_type": "markdown",
      "metadata": {},
      "source": [
        "## 상황3: 변수값을 교환\n",
        "\n",
        "`-` 예제: 임시변수 사용없이 두 변수의 값을 교환"
      ],
      "id": "e014c273-705d-4d97-9355-04d53061c7ba"
    },
    {
      "cell_type": "code",
      "execution_count": 16,
      "metadata": {
        "vscode": {
          "languageId": "python"
        }
      },
      "outputs": [],
      "source": [
        "a=10\n",
        "b=20"
      ],
      "id": "841f23b2-5f10-4f0a-8299-c33585986344"
    },
    {
      "cell_type": "code",
      "execution_count": 17,
      "metadata": {
        "vscode": {
          "languageId": "python"
        }
      },
      "outputs": [],
      "source": [
        "a,b = b,a "
      ],
      "id": "d290eda3-8735-458f-9d6e-b5126aad3214"
    },
    {
      "cell_type": "code",
      "execution_count": 18,
      "metadata": {
        "vscode": {
          "languageId": "python"
        }
      },
      "outputs": [],
      "source": [
        "a"
      ],
      "id": "ba0050bf-a0f1-4e14-91bd-384577a887e2"
    },
    {
      "cell_type": "code",
      "execution_count": 19,
      "metadata": {
        "vscode": {
          "languageId": "python"
        }
      },
      "outputs": [],
      "source": [
        "b"
      ],
      "id": "16996940-3400-44e1-b020-bf2fc445a42d"
    },
    {
      "cell_type": "markdown",
      "metadata": {},
      "source": [
        "## 상황4: for문과 함께\n",
        "\n",
        "`-` 예제: for문과 튜플"
      ],
      "id": "9d05a8f5-3174-41af-ae1a-ef65f57ab664"
    },
    {
      "cell_type": "code",
      "execution_count": 49,
      "metadata": {
        "vscode": {
          "languageId": "python"
        }
      },
      "outputs": [],
      "source": [
        "lst = [['guebin', 202112345, 'M'],\n",
        "       ['iu',202254321, 'F'],\n",
        "       ['hodong', 202011223, 'M']]\n",
        "lst"
      ],
      "id": "aee690ee-a28d-4578-ae6b-92f83c2fa422"
    },
    {
      "cell_type": "code",
      "execution_count": 50,
      "metadata": {
        "vscode": {
          "languageId": "python"
        }
      },
      "outputs": [
        {
          "output_type": "stream",
          "name": "stdout",
          "text": [
            "['guebin', 202112345, 'M']\n",
            "['iu', 202254321, 'F']\n",
            "['hodong', 202011223, 'M']"
          ]
        }
      ],
      "source": [
        "for i in lst: \n",
        "    print(i)"
      ],
      "id": "88119640-3b53-43aa-ba71-09b3502035c7"
    },
    {
      "cell_type": "code",
      "execution_count": 51,
      "metadata": {
        "vscode": {
          "languageId": "python"
        }
      },
      "outputs": [
        {
          "output_type": "stream",
          "name": "stdout",
          "text": [
            "guebin\n",
            "iu\n",
            "hodong"
          ]
        }
      ],
      "source": [
        "for name,studentid,sex in lst: \n",
        "    print(name)"
      ],
      "id": "2c530e4b-7d41-4f35-8e00-9003b9437104"
    },
    {
      "cell_type": "code",
      "execution_count": 52,
      "metadata": {
        "vscode": {
          "languageId": "python"
        }
      },
      "outputs": [
        {
          "output_type": "stream",
          "name": "stdout",
          "text": [
            "guebin M\n",
            "iu F\n",
            "hodong M"
          ]
        }
      ],
      "source": [
        "for name,studentid,sex in lst: \n",
        "    print(name,sex)"
      ],
      "id": "21dbd3df-9a7c-464e-ac1b-09c4c78279b4"
    },
    {
      "cell_type": "markdown",
      "metadata": {},
      "source": [
        "`-` 예제: for문과 튜플, dummy variable `_`"
      ],
      "id": "62f877a0-7871-4697-9e53-b46a198cb162"
    },
    {
      "cell_type": "code",
      "execution_count": 53,
      "metadata": {
        "vscode": {
          "languageId": "python"
        }
      },
      "outputs": [
        {
          "output_type": "stream",
          "name": "stdout",
          "text": [
            "202112345\n",
            "202254321\n",
            "202011223"
          ]
        }
      ],
      "source": [
        "for name,studentid,sex in lst: \n",
        "    print(studentid)"
      ],
      "id": "df12174e-3017-4b19-a759-bbbaeedeea61"
    },
    {
      "cell_type": "code",
      "execution_count": 54,
      "metadata": {
        "vscode": {
          "languageId": "python"
        }
      },
      "outputs": [
        {
          "output_type": "stream",
          "name": "stdout",
          "text": [
            "202112345\n",
            "202254321\n",
            "202011223"
          ]
        }
      ],
      "source": [
        "for _,studentid,_ in lst: \n",
        "    print(studentid)"
      ],
      "id": "0b305e3b-ef6a-4a1a-b772-5e6a0876be11"
    },
    {
      "cell_type": "code",
      "execution_count": 55,
      "metadata": {
        "vscode": {
          "languageId": "python"
        }
      },
      "outputs": [
        {
          "output_type": "stream",
          "name": "stdout",
          "text": [
            "M\n",
            "F\n",
            "M"
          ]
        }
      ],
      "source": [
        "for _,_,sex in lst: \n",
        "    print(sex)"
      ],
      "id": "5575757b-3820-4174-8d13-9feeebacc521"
    },
    {
      "cell_type": "code",
      "execution_count": 56,
      "metadata": {
        "vscode": {
          "languageId": "python"
        }
      },
      "outputs": [
        {
          "output_type": "stream",
          "name": "stdout",
          "text": [
            "guebin M\n",
            "iu F\n",
            "hodong M"
          ]
        }
      ],
      "source": [
        "for name,_,sex in lst: \n",
        "    print(name,sex)"
      ],
      "id": "f97bbfb5-db61-4c96-b01e-4a78592c5ffb"
    },
    {
      "cell_type": "markdown",
      "metadata": {},
      "source": [
        "`-` 예제: for문과 튜플, \\* 연산자\n",
        "\n",
        "(motive)"
      ],
      "id": "655316a2-ed59-4f52-b449-f3cfd4f1c8a8"
    },
    {
      "cell_type": "code",
      "execution_count": 58,
      "metadata": {
        "vscode": {
          "languageId": "python"
        }
      },
      "outputs": [
        {
          "output_type": "stream",
          "name": "stdout",
          "text": [
            "guebin\n",
            "iu\n",
            "hodong"
          ]
        }
      ],
      "source": [
        "for name,_,_  in lst: \n",
        "    print(name)"
      ],
      "id": "d6851345-1c15-44ff-b1ae-bcdc6c1ec103"
    },
    {
      "cell_type": "markdown",
      "metadata": {},
      "source": [
        "-   귀찮냐..\n",
        "\n",
        "(신기술)"
      ],
      "id": "179e71c7-efe0-4f03-b0b5-e273f4537aeb"
    },
    {
      "cell_type": "code",
      "execution_count": 60,
      "metadata": {
        "vscode": {
          "languageId": "python"
        }
      },
      "outputs": [
        {
          "output_type": "stream",
          "name": "stdout",
          "text": [
            "guebin\n",
            "iu\n",
            "hodong"
          ]
        }
      ],
      "source": [
        "for name,*args  in lst: \n",
        "    print(name)"
      ],
      "id": "993d0243-22da-45d8-9283-99504e93b34c"
    },
    {
      "cell_type": "markdown",
      "metadata": {},
      "source": [
        "## 상황5: 언패킹연산자와 함께\n",
        "\n",
        "`-` 예제: 튜플과 언패킹연산자 `*`"
      ],
      "id": "c85eec5d-8f36-449e-ba1f-6ea30dd7da5a"
    },
    {
      "cell_type": "code",
      "execution_count": 61,
      "metadata": {
        "vscode": {
          "languageId": "python"
        }
      },
      "outputs": [],
      "source": [
        "head, body, *tail = range(1,11) \n",
        "head, body, tail"
      ],
      "id": "2a230b88-d333-4805-a9b0-8f2ca4e5568b"
    },
    {
      "cell_type": "code",
      "execution_count": 62,
      "metadata": {
        "vscode": {
          "languageId": "python"
        }
      },
      "outputs": [],
      "source": [
        "head1,head2, *body, tail1,tail2,tail3 = range(1,11) \n",
        "head1,head2, body, tail1,tail2,tail3 "
      ],
      "id": "7d30b3b5-7d7f-40f1-a14f-c778d4fea53a"
    },
    {
      "cell_type": "code",
      "execution_count": 63,
      "metadata": {
        "vscode": {
          "languageId": "python"
        }
      },
      "outputs": [],
      "source": [
        "*head, body, tail = range(1,11) \n",
        "head, body, tail"
      ],
      "id": "dafd87a9-10c5-490d-85b6-82ab4feb3bb9"
    },
    {
      "cell_type": "markdown",
      "metadata": {},
      "source": [
        "------------------------------------------------------------------------\n",
        "\n",
        "***Appendix:*** 언패킹연산자\n",
        "\n",
        "(관찰)\n",
        "\n",
        "그러고 보니까..\n",
        "\n",
        "``` python\n",
        "head1,head2, body, tail1,tail2,tail3  = (1, 2, [3,4,5,6,7], 8, 9, 10)\n",
        "head1,head2, *body, tail1,tail2,tail3   = (1, 2, 3,4,5,6,7, 8, 9, 10)\n",
        "```\n",
        "\n",
        "이렇다는 거잖아?\n",
        "\n",
        "`*`를 붙이면 1차원 자료구조가 풀린다..?"
      ],
      "id": "15ffcea6-ed65-4b4d-adb4-16bb80145a3e"
    },
    {
      "cell_type": "code",
      "execution_count": 6,
      "metadata": {
        "vscode": {
          "languageId": "python"
        }
      },
      "outputs": [],
      "source": [
        "*[1,2,3] # ?? 뭐하누?"
      ],
      "id": "4b615f0f-ee18-4d1c-99fc-be2c0cc1c65b"
    },
    {
      "cell_type": "code",
      "execution_count": 9,
      "metadata": {
        "vscode": {
          "languageId": "python"
        }
      },
      "outputs": [
        {
          "output_type": "stream",
          "name": "stdout",
          "text": [
            "1 2 3"
          ]
        }
      ],
      "source": [
        "print(*[1,2,3]) ## 이런 느낌!!"
      ],
      "id": "98405c53-8c1d-47ea-9e1f-ec22bf41f5ce"
    },
    {
      "cell_type": "code",
      "execution_count": 11,
      "metadata": {
        "vscode": {
          "languageId": "python"
        }
      },
      "outputs": [
        {
          "output_type": "stream",
          "name": "stdout",
          "text": [
            "[1, 2, 3]"
          ]
        }
      ],
      "source": [
        "print([1,2,3]) # 비교"
      ],
      "id": "64c86dcd-83ad-4c56-b0d3-b09331afcadb"
    },
    {
      "cell_type": "markdown",
      "metadata": {},
      "source": [
        "# 인덱싱고급 (스트라이딩)\n",
        "\n",
        "`-` 스트라이딩 \\[start:stop:step\\]"
      ],
      "id": "754a28f4-56cb-435e-9d4f-b62e5a3f5803"
    },
    {
      "cell_type": "code",
      "execution_count": 5,
      "metadata": {
        "vscode": {
          "languageId": "python"
        }
      },
      "outputs": [],
      "source": [
        "lst = list('abcdefgh')\n",
        "lst"
      ],
      "id": "746c4325-bfb6-40a5-85b0-55264f480277"
    },
    {
      "cell_type": "code",
      "execution_count": 6,
      "metadata": {
        "vscode": {
          "languageId": "python"
        }
      },
      "outputs": [],
      "source": [
        "lst[0:8:2]"
      ],
      "id": "3b77afa4-24e5-4167-8f4a-df303c123603"
    },
    {
      "cell_type": "markdown",
      "metadata": {},
      "source": [
        "`-` 생략"
      ],
      "id": "1027e2f7-fd1f-4b84-b277-c8e021bcf600"
    },
    {
      "cell_type": "code",
      "execution_count": 7,
      "metadata": {
        "vscode": {
          "languageId": "python"
        }
      },
      "outputs": [],
      "source": [
        "lst[::2]"
      ],
      "id": "7725f84f-4752-4b35-949d-731ae845dbe6"
    },
    {
      "cell_type": "code",
      "execution_count": 8,
      "metadata": {
        "vscode": {
          "languageId": "python"
        }
      },
      "outputs": [],
      "source": [
        "lst[0::2]"
      ],
      "id": "97f4b707-c8b2-4d5b-b41d-34db62aebc01"
    },
    {
      "cell_type": "code",
      "execution_count": 9,
      "metadata": {
        "vscode": {
          "languageId": "python"
        }
      },
      "outputs": [],
      "source": [
        "lst[:8:2]"
      ],
      "id": "f16ffa50-91b5-4deb-bf7f-51f0fadaba50"
    },
    {
      "cell_type": "markdown",
      "metadata": {},
      "source": [
        "`-` 예제: 짝수/홀수 원소 추출"
      ],
      "id": "229e4599-1230-4be2-be63-bcda705b9bb5"
    },
    {
      "cell_type": "code",
      "execution_count": 10,
      "metadata": {
        "vscode": {
          "languageId": "python"
        }
      },
      "outputs": [],
      "source": [
        "lst"
      ],
      "id": "75392e69-7a81-4dc9-84a8-5100dcd4f7b2"
    },
    {
      "cell_type": "code",
      "execution_count": 11,
      "metadata": {
        "vscode": {
          "languageId": "python"
        }
      },
      "outputs": [],
      "source": [
        "lst[::2] # 1,3,5,7, ... "
      ],
      "id": "f88cfef8-356d-44ff-a31d-87ae1b843bec"
    },
    {
      "cell_type": "code",
      "execution_count": 12,
      "metadata": {
        "vscode": {
          "languageId": "python"
        }
      },
      "outputs": [],
      "source": [
        "lst[1::2] # 2,4,6,8, ... "
      ],
      "id": "855f138a-f512-4aa2-b414-2df441db5694"
    },
    {
      "cell_type": "markdown",
      "metadata": {},
      "source": [
        "`-` step = -1 이면?"
      ],
      "id": "a0a4b9a5-e6f2-4339-a866-8ff864fa644c"
    },
    {
      "cell_type": "code",
      "execution_count": 13,
      "metadata": {
        "vscode": {
          "languageId": "python"
        }
      },
      "outputs": [],
      "source": [
        "lst"
      ],
      "id": "5b80c69c-3675-49e2-844a-9bd57d6b05bc"
    },
    {
      "cell_type": "code",
      "execution_count": 14,
      "metadata": {
        "vscode": {
          "languageId": "python"
        }
      },
      "outputs": [],
      "source": [
        "lst[::-1]"
      ],
      "id": "50e0b079-cb26-4316-b086-cf42f2f748c9"
    },
    {
      "cell_type": "markdown",
      "metadata": {},
      "source": [
        "-   reverse와 같은 기능\n",
        "\n",
        "(reverse)와 비교\n",
        "\n",
        "관찰1: reverse 메소드는 리스트 자체를 변화시킴"
      ],
      "id": "4d4329d6-d5db-49d7-9bc2-5aee1aec04eb"
    },
    {
      "cell_type": "code",
      "execution_count": 15,
      "metadata": {
        "vscode": {
          "languageId": "python"
        }
      },
      "outputs": [],
      "source": [
        "lst = list('abcdefgh')\n",
        "lst"
      ],
      "id": "e3ca42c0-b394-4027-a75b-12a6c0002e75"
    },
    {
      "cell_type": "code",
      "execution_count": 16,
      "metadata": {
        "vscode": {
          "languageId": "python"
        }
      },
      "outputs": [],
      "source": [
        "lst.reverse() #리버스는 \n",
        "lst"
      ],
      "id": "42caffab-5428-4a62-9fcb-d93e0c284288"
    },
    {
      "cell_type": "markdown",
      "metadata": {},
      "source": [
        "관찰2: \\[::-1\\]는 리스트는 변화시키지 않음"
      ],
      "id": "571e9f52-9259-4508-92ed-e8be846f39d2"
    },
    {
      "cell_type": "code",
      "execution_count": 17,
      "metadata": {
        "vscode": {
          "languageId": "python"
        }
      },
      "outputs": [],
      "source": [
        "lst = list('abcdefgh')\n",
        "lst"
      ],
      "id": "99b1e4ba-56bf-454e-b048-df767d6293b7"
    },
    {
      "cell_type": "code",
      "execution_count": 18,
      "metadata": {
        "vscode": {
          "languageId": "python"
        }
      },
      "outputs": [],
      "source": [
        "lst[::-1]"
      ],
      "id": "1e939b0a-718a-429e-8b4e-87f1a91adcb4"
    },
    {
      "cell_type": "code",
      "execution_count": 19,
      "metadata": {
        "vscode": {
          "languageId": "python"
        }
      },
      "outputs": [],
      "source": [
        "lst"
      ],
      "id": "07bd6fff-66b5-491b-8405-dccacb325802"
    },
    {
      "cell_type": "markdown",
      "metadata": {},
      "source": [
        "`-` 사실 -step은 쓰는 것이 조금 까다롭다.\n",
        "\n",
        "(예제) 처음과 끝을 생략하지 않고 아래와 동일한 효과를 주는 코드를 만들어\n",
        "보자."
      ],
      "id": "39d34273-9b79-4bdb-b66f-7f8c8af7409b"
    },
    {
      "cell_type": "code",
      "execution_count": 20,
      "metadata": {
        "vscode": {
          "languageId": "python"
        }
      },
      "outputs": [],
      "source": [
        "lst = list('abcdefgh')\n",
        "lst[::-1]"
      ],
      "id": "e4e86ac0-a362-4f00-824e-e231618b836f"
    },
    {
      "cell_type": "markdown",
      "metadata": {},
      "source": [
        "(풀이)\n",
        "\n",
        "결국 lst\\[?:?:-1\\]의 꼴에서 적당히 ?의 값을 채우면 된다."
      ],
      "id": "881d25f1-5da7-4958-ae58-33df361e31b4"
    },
    {
      "cell_type": "code",
      "execution_count": 21,
      "metadata": {
        "vscode": {
          "languageId": "python"
        }
      },
      "outputs": [],
      "source": [
        "lst[-1::-1] # 일단 첫 시작은 제일 마지막 원소 "
      ],
      "id": "604d1196-9602-4a06-a908-72a3b68de8c5"
    },
    {
      "cell_type": "code",
      "execution_count": 22,
      "metadata": {
        "vscode": {
          "languageId": "python"
        }
      },
      "outputs": [],
      "source": [
        "lst[-1:0:-1] # 앗 마지막 인덱스는 포함 안되는거였지? "
      ],
      "id": "6f388866-66a9-469a-89c8-2dd49cfa3b34"
    },
    {
      "cell_type": "code",
      "execution_count": 23,
      "metadata": {
        "vscode": {
          "languageId": "python"
        }
      },
      "outputs": [],
      "source": [
        "lst[-1:-1:-1] # 뭐 어쩌란거임 "
      ],
      "id": "13d4f8b8-a768-4b97-8923-596591750837"
    },
    {
      "cell_type": "markdown",
      "metadata": {},
      "source": [
        "잠깐 인덱스를 생각해보자.\n",
        "\n",
        "|  a  |  b  |  c  |  d  |  e  |  f  |  g  |  h  |\n",
        "|:---:|:---:|:---:|:---:|:---:|:---:|:---:|:---:|\n",
        "|  0  |  1  |  2  |  3  |  4  |  5  |  6  |  7  |\n",
        "| -8  | -7  | -6  | -5  | -4  | -3  | -2  | -1  |"
      ],
      "id": "6f19b45e-927d-4ae9-834d-ad0b73fda9a4"
    },
    {
      "cell_type": "code",
      "execution_count": 24,
      "metadata": {
        "vscode": {
          "languageId": "python"
        }
      },
      "outputs": [],
      "source": [
        "lst[-1:-9:-1] # 아.."
      ],
      "id": "6a6ed7b4-eb8d-4aa0-8358-4093473e6494"
    },
    {
      "cell_type": "markdown",
      "metadata": {},
      "source": [
        "(예제)"
      ],
      "id": "1d11f214-086f-4393-a22a-f0c5fd9afb62"
    },
    {
      "cell_type": "code",
      "execution_count": 25,
      "metadata": {
        "vscode": {
          "languageId": "python"
        }
      },
      "outputs": [],
      "source": [
        "lst[2::2]"
      ],
      "id": "78f4dd5e-1360-4395-8e0b-4084341ee022"
    },
    {
      "cell_type": "code",
      "execution_count": 26,
      "metadata": {
        "vscode": {
          "languageId": "python"
        }
      },
      "outputs": [],
      "source": [
        "lst[-2::-2]"
      ],
      "id": "b00f9e0b-34d4-4cb5-a0e7-e00b30f534da"
    },
    {
      "cell_type": "code",
      "execution_count": 27,
      "metadata": {
        "vscode": {
          "languageId": "python"
        }
      },
      "outputs": [],
      "source": [
        "lst[-2:2:2]"
      ],
      "id": "21e1642c-a18a-41a4-9c5f-9e291a302737"
    },
    {
      "cell_type": "code",
      "execution_count": 28,
      "metadata": {
        "vscode": {
          "languageId": "python"
        }
      },
      "outputs": [],
      "source": [
        "lst[2:2:2]"
      ],
      "id": "a1299948-eb42-43d8-979a-54195890ab9d"
    },
    {
      "cell_type": "code",
      "execution_count": 29,
      "metadata": {
        "vscode": {
          "languageId": "python"
        }
      },
      "outputs": [],
      "source": [
        "lst[2:2:-2]"
      ],
      "id": "da5aa263-94ad-4eb6-88dc-fc923ba64e7e"
    },
    {
      "cell_type": "markdown",
      "metadata": {},
      "source": [
        "결론: -step을 자주 쓰진 말자?\n",
        "\n",
        "# 함수고급 (조건부리턴)\n",
        "\n",
        "`-` 홀수/짝수를 판별하는 함수 만들기 1"
      ],
      "id": "03f4eaf4-58c1-4e7c-9932-53d64cdfff36"
    },
    {
      "cell_type": "code",
      "execution_count": 35,
      "metadata": {
        "vscode": {
          "languageId": "python"
        }
      },
      "outputs": [],
      "source": [
        "def test(a):\n",
        "    if a % 2 ==0: \n",
        "        return 'even'\n",
        "    else:\n",
        "        return 'odd'"
      ],
      "id": "b5c576fb-147d-4f4f-9ebd-ef61c7031514"
    },
    {
      "cell_type": "code",
      "execution_count": 36,
      "metadata": {
        "vscode": {
          "languageId": "python"
        }
      },
      "outputs": [],
      "source": [
        "test(1)"
      ],
      "id": "9ece400f-0438-4d13-87cc-f05dc00a384a"
    },
    {
      "cell_type": "code",
      "execution_count": 37,
      "metadata": {
        "vscode": {
          "languageId": "python"
        }
      },
      "outputs": [],
      "source": [
        "test(2)"
      ],
      "id": "bc395957-5a77-4ce4-9d30-e47d580ed7fc"
    },
    {
      "cell_type": "code",
      "execution_count": 38,
      "metadata": {
        "vscode": {
          "languageId": "python"
        }
      },
      "outputs": [],
      "source": [
        "test(3)"
      ],
      "id": "e8595358-97e7-4665-a634-b947d37083a3"
    },
    {
      "cell_type": "code",
      "execution_count": 39,
      "metadata": {
        "vscode": {
          "languageId": "python"
        }
      },
      "outputs": [],
      "source": [
        "test(4)"
      ],
      "id": "fb4ce31f-e5b7-46b5-8c16-5bc039b396c3"
    },
    {
      "cell_type": "code",
      "execution_count": 40,
      "metadata": {
        "vscode": {
          "languageId": "python"
        }
      },
      "outputs": [],
      "source": [
        "[test(a) for a in range(1,11)]"
      ],
      "id": "083fd9c1-06f9-4c6c-a437-a8e2c319739c"
    },
    {
      "cell_type": "markdown",
      "metadata": {},
      "source": [
        "`-` 홀수/짝수를 판별하는 함수 만들기 2"
      ],
      "id": "e2a5f5b3-4183-47d3-ad76-09457ce45c74"
    },
    {
      "cell_type": "code",
      "execution_count": 41,
      "metadata": {
        "vscode": {
          "languageId": "python"
        }
      },
      "outputs": [],
      "source": [
        "def test(a):\n",
        "    return 'even' if a%2 ==0 else 'odd'"
      ],
      "id": "afcfd2d0-2df4-4c23-8dfe-d9d7961ca318"
    },
    {
      "cell_type": "code",
      "execution_count": 42,
      "metadata": {
        "vscode": {
          "languageId": "python"
        }
      },
      "outputs": [],
      "source": [
        "test(3)"
      ],
      "id": "6f704ec7-2bf7-436c-b4c9-b45b237053ee"
    },
    {
      "cell_type": "code",
      "execution_count": 43,
      "metadata": {
        "vscode": {
          "languageId": "python"
        }
      },
      "outputs": [],
      "source": [
        "[test(a) for a in range(1,11)]"
      ],
      "id": "9d9f6ebb-28e1-4bf4-93c8-88ba40281c4d"
    },
    {
      "cell_type": "markdown",
      "metadata": {},
      "source": [
        "# len함수\n",
        "\n",
        "`-` 0차원 자료형은 len함수가 동작하지 않음"
      ],
      "id": "2026d789-85b5-4c37-9453-0722000984dc"
    },
    {
      "cell_type": "code",
      "execution_count": 44,
      "metadata": {
        "vscode": {
          "languageId": "python"
        }
      },
      "outputs": [],
      "source": [
        "a=1 \n",
        "len(a)"
      ],
      "id": "a08d5835-d3c2-4f4d-a280-8b061591881b"
    },
    {
      "cell_type": "code",
      "execution_count": 45,
      "metadata": {
        "vscode": {
          "languageId": "python"
        }
      },
      "outputs": [],
      "source": [
        "a=True\n",
        "len(a)"
      ],
      "id": "8c73a184-eb11-4803-99fb-c9b3a8801798"
    },
    {
      "cell_type": "code",
      "execution_count": 46,
      "metadata": {
        "vscode": {
          "languageId": "python"
        }
      },
      "outputs": [],
      "source": [
        "a=3.14\n",
        "len(a)"
      ],
      "id": "20571e9b-6bb5-40c0-8100-18d39e75a31b"
    },
    {
      "cell_type": "markdown",
      "metadata": {},
      "source": [
        "> note: 이것이 어떠한 수학적인 의미를 가지거나 0차원의 본질적진리를\n",
        "> 뜻하는 것은 아님. R에서는 1,3.14,TRUE의 길이가 1로 존재함.\n",
        "\n",
        "`-` 1차원 자료형은 len함수가 동작"
      ],
      "id": "d36c7755-57a0-4685-bda7-6ca7926d6e72"
    },
    {
      "cell_type": "code",
      "execution_count": 47,
      "metadata": {
        "vscode": {
          "languageId": "python"
        }
      },
      "outputs": [],
      "source": [
        "a='guebin'\n",
        "len(a)"
      ],
      "id": "2f10d555-f461-4b15-ab09-5c4b5a9228bd"
    },
    {
      "cell_type": "code",
      "execution_count": 48,
      "metadata": {
        "vscode": {
          "languageId": "python"
        }
      },
      "outputs": [],
      "source": [
        "a=[1,2,3,4,5,6]\n",
        "len(a)"
      ],
      "id": "9582025c-ba32-41be-8189-e0737928f934"
    },
    {
      "cell_type": "code",
      "execution_count": 49,
      "metadata": {
        "vscode": {
          "languageId": "python"
        }
      },
      "outputs": [],
      "source": [
        "a=1,2,3,4,5,6 \n",
        "len(a)"
      ],
      "id": "635deeca-7c45-414c-8c8e-c241909bd651"
    },
    {
      "cell_type": "code",
      "execution_count": 50,
      "metadata": {
        "vscode": {
          "languageId": "python"
        }
      },
      "outputs": [],
      "source": [
        "a=range(10)\n",
        "len(a)"
      ],
      "id": "210c3a9b-1837-4f59-83da-c4bb371195b7"
    },
    {
      "cell_type": "markdown",
      "metadata": {},
      "source": [
        "`-` 길이가 1인 1차원 자료형과 0차원 자료형은 다른것임"
      ],
      "id": "05d9ab52-c298-435d-af82-5bf76a926003"
    },
    {
      "cell_type": "code",
      "execution_count": 51,
      "metadata": {
        "vscode": {
          "languageId": "python"
        }
      },
      "outputs": [],
      "source": [
        "a='g'\n",
        "len(a)"
      ],
      "id": "fd4067fe-1319-4a54-a1a2-65a4f4099beb"
    },
    {
      "cell_type": "code",
      "execution_count": 52,
      "metadata": {
        "vscode": {
          "languageId": "python"
        }
      },
      "outputs": [],
      "source": [
        "a=[1] \n",
        "len(a)"
      ],
      "id": "dc7fdc25-b5fb-49dc-82ed-50768f58179c"
    },
    {
      "cell_type": "code",
      "execution_count": 53,
      "metadata": {
        "vscode": {
          "languageId": "python"
        }
      },
      "outputs": [],
      "source": [
        "a=(1,)\n",
        "len(a)"
      ],
      "id": "d9d22c90-bf62-4036-9398-c3ed78a21e0d"
    },
    {
      "cell_type": "code",
      "execution_count": 54,
      "metadata": {
        "vscode": {
          "languageId": "python"
        }
      },
      "outputs": [],
      "source": [
        "a=range(1)\n",
        "len(a)"
      ],
      "id": "ce0b2577-d2ae-4a37-8bdb-b7eeb7a976f6"
    },
    {
      "cell_type": "markdown",
      "metadata": {},
      "source": [
        "`-` 길이가 0인 1차원 자료형도 존재함"
      ],
      "id": "01732aff-8d45-478b-bc94-89d59ab4f165"
    },
    {
      "cell_type": "code",
      "execution_count": 55,
      "metadata": {
        "vscode": {
          "languageId": "python"
        }
      },
      "outputs": [],
      "source": [
        "a=''\n",
        "len(a)"
      ],
      "id": "956cdeff-c08a-4465-9e0d-429b9542604c"
    },
    {
      "cell_type": "code",
      "execution_count": 56,
      "metadata": {
        "vscode": {
          "languageId": "python"
        }
      },
      "outputs": [],
      "source": [
        "a=[]\n",
        "len(a)"
      ],
      "id": "dfb2f9fd-e886-4f8a-abf4-a5061d2240a9"
    },
    {
      "cell_type": "code",
      "execution_count": 57,
      "metadata": {
        "vscode": {
          "languageId": "python"
        }
      },
      "outputs": [],
      "source": [
        "a=()\n",
        "len(a)"
      ],
      "id": "aff51d73-91e8-4092-9e2e-44f575e37ba5"
    },
    {
      "cell_type": "code",
      "execution_count": 58,
      "metadata": {
        "vscode": {
          "languageId": "python"
        }
      },
      "outputs": [],
      "source": [
        "a=range(0)\n",
        "len(a)"
      ],
      "id": "e3749f6b-4ea5-41f9-a2d6-d2acbf0ede2a"
    },
    {
      "cell_type": "markdown",
      "metadata": {},
      "source": [
        "# str, list, tuple 비교\n",
        "\n",
        "`-` str, list, tuple은 모두 시퀀스형이라는 공통점이 있다. $\\to$ 원소의\n",
        "위치번호로 인덱싱이 가능"
      ],
      "id": "fabdbc9b-b760-4428-ada3-1a2a7475d763"
    },
    {
      "cell_type": "code",
      "execution_count": 59,
      "metadata": {
        "vscode": {
          "languageId": "python"
        }
      },
      "outputs": [],
      "source": [
        "lst = [1,2,3,4]"
      ],
      "id": "e0832c48-4d06-4058-95cf-6595e19fc312"
    },
    {
      "cell_type": "code",
      "execution_count": 60,
      "metadata": {
        "vscode": {
          "languageId": "python"
        }
      },
      "outputs": [],
      "source": [
        "lst[0] # 위치번호=0"
      ],
      "id": "60217608-c2cb-43ad-b37a-7c16cf259a89"
    },
    {
      "cell_type": "code",
      "execution_count": 61,
      "metadata": {
        "vscode": {
          "languageId": "python"
        }
      },
      "outputs": [],
      "source": [
        "lst[-1] # 위치번호=-1"
      ],
      "id": "602685e6-dde2-4c6a-bbf1-0b0b47fbf9e1"
    },
    {
      "cell_type": "markdown",
      "metadata": {},
      "source": [
        "`-` str, list, tuple은 차이점도 존재함. 잠깐 정리해보자.\n",
        "\n",
        "***시퀀스형의 카테고리***\n",
        "\n",
        "-   컨테니어형: list, tuple\n",
        "-   균일형: str\n",
        "-   가변형: list\n",
        "-   불변형: tuple, str\n",
        "\n",
        "***표로 정리하면***\n",
        "\n",
        "|        | 컨테니어형 | 균일형 |\n",
        "|:------:|:----------:|:------:|\n",
        "| 가변형 |    list    |   .    |\n",
        "| 불변형 |   tuple    |  str   |\n",
        "\n",
        "`-` 시퀀스형이 아닌 1차원 자료형도 있을까? (이원소의 위치번호로 인덱싱이\n",
        "불가능한 자료형\n",
        "\n",
        "# Quiz\n",
        "\n",
        "`ssh코드`: 1-2\n",
        "\n",
        "아래의 문자열을 고려하자."
      ],
      "id": "0e77c328-b7a6-4065-80f0-fec812690310"
    },
    {
      "cell_type": "code",
      "execution_count": null,
      "metadata": {
        "vscode": {
          "languageId": "python"
        }
      },
      "outputs": [],
      "source": [
        "test_arr = 'ssh-rsa AAAAB3NzaC1yc2EAAAABIwAAAQEAklOUpkDHrfHY17SbrmTIpNLTGK9Tjom/BWDSUGPl+nafzlHDTYW7hdI4yZ5ew18JH4JW9jbhUFrviQzM7xlELEVf4h9lFX5QVkbPppSwg0cda3Pbv7kOdJ/MTyBlWXFCR+HAo3FXRitBqxiX1nKhXpHAZsMciLq8V6RjsNAQwdsdMFvSlVK/7XAt3FaoJoAsncM1Q9x5+3V0Ww68/eIFmb1zuUFljQJKprrX88XypNDvjYNby6vw/Pb0rwert/EnmZ+AW4OZPnTPI89ZPmVMLuayrD2cE86Z/il8b+gw3r3+1nKatmIkjn2so1d01QraTlMqVSsbxNrRFi9wrf+M7Q== schacon@mylaptop.local'"
      ],
      "id": "ecde855e"
    },
    {
      "cell_type": "markdown",
      "metadata": {},
      "source": [
        "`1`. 이 문자열에서 `index = 0,2,4,6,8,...` 에 해당하는 원소를 출력하는\n",
        "코드를 작성하라."
      ],
      "id": "2936b52e-6605-4d97-901f-e66a99180e27"
    },
    {
      "cell_type": "code",
      "execution_count": null,
      "metadata": {
        "vscode": {
          "languageId": "python"
        }
      },
      "outputs": [],
      "source": [
        "# 출력결과는 아래와 같아야 한다. "
      ],
      "id": "d56f5646"
    },
    {
      "cell_type": "markdown",
      "metadata": {},
      "source": [
        "`2`. 위 문자열을 뒤집은 문자열을 구하는 코드를 구현하라."
      ],
      "id": "3eb3e9f9-a92f-42e7-af6a-a9928b55dcb3"
    },
    {
      "cell_type": "code",
      "execution_count": null,
      "metadata": {
        "vscode": {
          "languageId": "python"
        }
      },
      "outputs": [],
      "source": [
        "# 출력결과는 아래와 같아야 한다. "
      ],
      "id": "e590f7f4"
    },
    {
      "cell_type": "markdown",
      "metadata": {},
      "source": [
        "------------------------------------------------------------------------\n",
        "\n",
        "`파이썬 프로그래밍 시험성적`: 3-4\n",
        "\n",
        "아래와 같은 dictionary가 있다고 가정하자."
      ],
      "id": "be3dcd06-1dc6-4265-89b0-799ccee06fbb"
    },
    {
      "cell_type": "code",
      "execution_count": 3,
      "metadata": {
        "vscode": {
          "languageId": "python"
        }
      },
      "outputs": [],
      "source": [
        "dct={'202212377': {'att': 65, 'rep': 45, 'mid': 0, 'fin': 10},\n",
        "     '202212473': {'att': 95, 'rep': 30, 'mid': 60, 'fin': 10},\n",
        "     '202212310': {'att': 65, 'rep': 85, 'mid': 15, 'fin': 20},\n",
        "     '202212460': {'att': 55, 'rep': 35, 'mid': 35, 'fin': 5},\n",
        "     '202212320': {'att': 80, 'rep': 60, 'mid': 55, 'fin': 70},\n",
        "     '202212329': {'att': 75, 'rep': 40, 'mid': 75, 'fin': 85},\n",
        "     '202212408': {'att': 65, 'rep': 70, 'mid': 60, 'fin': 75},\n",
        "     '202212319': {'att': 60, 'rep': 25, 'mid': 20, 'fin': 35},\n",
        "     '202212348': {'att': 95, 'rep': 55, 'mid': 65, 'fin': 90},\n",
        "     '202212306': {'att': 90, 'rep': 25, 'mid': 95, 'fin': 50},\n",
        "     '202212308': {'att': 55, 'rep': 45, 'mid': 75, 'fin': 30},\n",
        "     '202212366': {'att': 95, 'rep': 60, 'mid': 25, 'fin': 55},\n",
        "     '202212367': {'att': 95, 'rep': 35, 'mid': 0, 'fin': 25},\n",
        "     '202212461': {'att': 50, 'rep': 55, 'mid': 90, 'fin': 45}}"
      ],
      "id": "5a7a2222"
    },
    {
      "cell_type": "markdown",
      "metadata": {},
      "source": [
        "여기에서 ‘202212377’ 등은 학번을, att는 출석점수, rep는 레포트점수,\n",
        "mid는 중간고사 점수, fin은 기말고사 점수를 의미한다.\n",
        "\n",
        "`3`. 학생들의 학번을 아래와 같은 방식으로 출력하는 코드를 작성하라."
      ],
      "id": "d7173c1e-b007-4b93-9e86-69de08750718"
    },
    {
      "cell_type": "code",
      "execution_count": 5,
      "metadata": {
        "vscode": {
          "languageId": "python"
        }
      },
      "outputs": [],
      "source": [
        "# 출력예시"
      ],
      "id": "b0bb4190"
    },
    {
      "cell_type": "markdown",
      "metadata": {},
      "source": [
        "`4`. 출석점수가 70점 이상인(`>=70`) 학생들의 학번을 출력하는 코드를\n",
        "작성하라."
      ],
      "id": "4f309949-0dc4-4758-862e-02aa7908ddf2"
    },
    {
      "cell_type": "code",
      "execution_count": null,
      "metadata": {
        "vscode": {
          "languageId": "python"
        }
      },
      "outputs": [],
      "source": [
        "# 출력예시 "
      ],
      "id": "8b0aa306"
    },
    {
      "cell_type": "markdown",
      "metadata": {},
      "source": [
        "------------------------------------------------------------------------\n",
        "\n",
        "`Oxford-III`: 5–10 //\n",
        "[reference](https://www.robots.ox.ac.uk/~vgg/data/pets/)\n",
        "\n",
        "아래는 이미지 파일명들이 저장된 string을 불러오는 코드이다."
      ],
      "id": "d78a83b6-7388-4af0-a85f-ad595fbc335d"
    },
    {
      "cell_type": "code",
      "execution_count": null,
      "metadata": {
        "vscode": {
          "languageId": "python"
        }
      },
      "outputs": [],
      "source": [
        "import requests\n",
        "url = 'https://raw.githubusercontent.com/guebin/PP2023/main/posts/01_PythonBasic/Oxford-IIIT.txt'\n",
        "txt = requests.get(url).content.decode()"
      ],
      "id": "f209d7af"
    },
    {
      "cell_type": "markdown",
      "metadata": {},
      "source": [
        "txt의 출력 일부를 나타내면 아래와 같다.\n",
        "\n",
        "``` default\n",
        "'Abyssinian_1.jpg\\nAbyssinian_10.jpg\\nAbyssinian_100.jpg\\nAbyssinian_100.mat\\nAbyssinian_101.jpg\\nAbyssinian_101.mat\\nAbyssinian_102.jpg\\nAbyssinian_102.mat\\nAbyssinian_103.jpg\\nAbyssinian_104.jpg\\nAbyssinian_105.jpg\\nAbyssinian_106.jpg\\nAbyssinian_107.jpg\\nAbyssinian_108.jpg\\nAbyssinian_109.jpg\\nAbyssinian_11.jpg\\nAbyssinian_110.jpg\\nAbyssinian_111.jpg\\nAbyssinian_112.jpg\\nAbyssinian_113.jpg\\nAbyssinian_114.jpg\\nAbyssinian_115.jpg\\nAbyssinian_116.jpg\\nAbyssinian_117.jpg\\nAbyssinian_118.jpg\\nAbyssinian_119.jpg\\nAbyssinian_12.jpg\\nAbyssinian_120.jpg\\nAbyssinian_121.jpg\\nAbyssinian_122.jpg\\nAbyssinian_123.jpg\\nAbyssinian_124.jpg\\nAbyssinian_125.jpg\\nAbyssinian_126.jpg\\nAbyssinian_127.jpg\\nAbyssinian_128.jpg\\nAbyssinian_129.jpg\\nAbyssinian_13.jpg\\nAbyssinian_130.jpg\\nAbyssinian_131.jpg\\nAbyssinian_132.jpg\\n ....... \n",
        "```\n",
        "\n",
        "`5`. 각 파일명은 `\\n`으로 구분되어있다. 위의 스트링을 분해하여 아래와\n",
        "같은 리스트를 생성하고 `fname_list`에 저장하라.\n",
        "\n",
        "``` python\n",
        "# fname_list 의 출력결과는 아래와 같아야 한다. \n",
        "['Abyssinian_1.jpg','Abyssinian_10.jpg', ... ,'yorkshire_terrier_98.jpg', 'yorkshire_terrier_99.jpg']\n",
        "```\n",
        "\n",
        "`6`. 각 이미지파일명은 아래와 같은 규칙으로 저장되어 있다.\n",
        "\n",
        "-   파일명의 첫글자가 대문자이면 고양이를 의미하고 첫글자가 소문자이면\n",
        "    강아지를 의미한다.\n",
        "-   `_` 이전의 영문명은 고양이 혹은 강아지의 종(breed)을 의미한다.\n",
        "\n",
        "이미지 파일명이 입력으로 오면 강아지인지 고양이인지 판단하여 ‘cat’ or\n",
        "’dog’를 리턴하는 함수 `f`를 구현하라.\n",
        "\n",
        "(함수사용예시)"
      ],
      "id": "9ea85a61-ca07-4371-ac88-298a1da6910a"
    },
    {
      "cell_type": "code",
      "execution_count": null,
      "metadata": {
        "vscode": {
          "languageId": "python"
        }
      },
      "outputs": [],
      "source": [
        "f('yorkshire_terrier_99.jpg')"
      ],
      "id": "18392ac6"
    },
    {
      "cell_type": "code",
      "execution_count": null,
      "metadata": {
        "vscode": {
          "languageId": "python"
        }
      },
      "outputs": [],
      "source": [
        "f('Abyssinian_1.jpg')"
      ],
      "id": "7dc91635"
    },
    {
      "cell_type": "markdown",
      "metadata": {},
      "source": [
        "`7`. 5의 결과로 나온 `fname_list`를 입력으로 하고 리스트의 각 원소가\n",
        "고양이를 의미하는 그림인지 강아지를 의미하는 그림인지 나타내는 리스트를\n",
        "만들어라.\n",
        "\n",
        "``` python\n",
        "## 입력예시 \n",
        "['Abyssinian_1.jpg','Abyssinian_10.jpg',...,'yorkshire_terrier_98.jpg', 'yorkshire_terrier_99.jpg']\n",
        "\n",
        "## 출력예시\n",
        "['cat', 'cat', ... , 'dog', 'dog']\n",
        "```\n",
        "\n",
        "`8`. 강아지 그림과 고양이 그림이 각각 몇 장씩 포함되어 있는지 파악하는\n",
        "코드를 구현하라.\n",
        "\n",
        "**hint** 고양이 2403, 강아지 4990\n",
        "\n",
        "`9`. 포메라니안 종의 그림이 몇장있는지 파악하는 코드를 구현하라.\n",
        "\n",
        "**hint:** 포메라니안 그림은 파일명에 ‘pomeranian’ 을 포함한다."
      ],
      "id": "3062a923-6447-4002-8842-f56bbac619b9"
    }
  ],
  "nbformat": 4,
  "nbformat_minor": 5,
  "metadata": {
    "kernelspec": {
      "name": "python3",
      "display_name": "Python 3 (ipykernel)",
      "language": "python"
    },
    "language_info": {
      "name": "python",
      "codemirror_mode": {
        "name": "ipython",
        "version": "3"
      },
      "file_extension": ".py",
      "mimetype": "text/x-python",
      "nbconvert_exporter": "python",
      "pygments_lexer": "ipython3",
      "version": "3.10.13"
    }
  }
}