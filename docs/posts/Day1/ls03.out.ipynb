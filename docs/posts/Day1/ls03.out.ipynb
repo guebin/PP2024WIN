{
  "cells": [
    {
      "cell_type": "markdown",
      "metadata": {},
      "source": [
        "# Lesson 03: 파이썬 자료형 심화개념\n",
        "\n",
        "최규빈  \n",
        "2023-06-24\n",
        "\n",
        "# 컴프리헨션($\\star\\star\\star$)\n",
        "\n",
        "## 컴프리헨션의 이해\n",
        "\n",
        "`-` 리스트 컴프리헨션을 이해하기 전에 for문에 대하여 알아보자.\n",
        "\n",
        "\\[예비학습\\] `for`문 벼락치기\n",
        "\n",
        "프로그램안에서 반복해서 무엇인가를 하고싶다 $\\to$ for"
      ],
      "id": "8673fb37-ccd2-4370-8f63-eba60818e905"
    },
    {
      "cell_type": "code",
      "execution_count": 371,
      "metadata": {
        "vscode": {
          "languageId": "python"
        }
      },
      "outputs": [
        {
          "output_type": "stream",
          "name": "stdout",
          "text": [
            "0\n",
            "1\n",
            "2\n",
            "3"
          ]
        }
      ],
      "source": [
        "for i in [0,1,2,3]: ## 반복실행계획\n",
        "    print(i) ## 반복실행할내용, 탭을이용하여 들여쓰기해야한다. "
      ],
      "id": "1e40026d-0119-487f-9e2b-1e66d14467b7"
    },
    {
      "cell_type": "markdown",
      "metadata": {},
      "source": [
        "(예제) 1,2,3,4의 합을 for문을 이용하여 구해보자."
      ],
      "id": "c61c9493-0d86-4fc8-a8c1-426e6b0d22b0"
    },
    {
      "cell_type": "code",
      "execution_count": 115,
      "metadata": {
        "vscode": {
          "languageId": "python"
        }
      },
      "outputs": [],
      "source": [
        "_sum = 0 \n",
        "for i in [1,2,3,4]:\n",
        "    _sum = _sum + i"
      ],
      "id": "72c0b9c9-66e9-4968-b0ec-02c76108ccd5"
    },
    {
      "cell_type": "code",
      "execution_count": 364,
      "metadata": {
        "vscode": {
          "languageId": "python"
        }
      },
      "outputs": [],
      "source": [
        "_sum = 0\n",
        "i=1 \n",
        "_sum = _sum + i ## 1 <= 0+1\n",
        "i=2\n",
        "_sum = _sum + i ## 3 <= 1+2 \n",
        "i=3 \n",
        "_sum = _sum + i ## 6 <= 3+3\n",
        "i=4\n",
        "_sum = _sum + i ## 10 <= 6+4 "
      ],
      "id": "180acb26-22df-4d65-87a0-ff469d6c692e"
    },
    {
      "cell_type": "code",
      "execution_count": 365,
      "metadata": {
        "vscode": {
          "languageId": "python"
        }
      },
      "outputs": [],
      "source": [
        "_sum"
      ],
      "id": "c000fdb1-4cc0-449a-94a2-22a2e9ba09d8"
    },
    {
      "cell_type": "markdown",
      "metadata": {},
      "source": [
        "예비학습끝\n",
        "\n",
        "`-` 예제: $2^0, 2^1, 2^2, 2^3$를 원소로 가지는 리스트를 생성하라.\n",
        "\n",
        "(풀이1) 직접입력"
      ],
      "id": "25f75186-8e42-41f5-8330-a4f3b3653252"
    },
    {
      "cell_type": "code",
      "execution_count": 119,
      "metadata": {
        "vscode": {
          "languageId": "python"
        }
      },
      "outputs": [],
      "source": [
        "x= [2**0, 2**1, 2**2, 2**3] \n",
        "x"
      ],
      "id": "8c0db9d4-c759-43dc-9363-bb577dfae8b5"
    },
    {
      "cell_type": "markdown",
      "metadata": {},
      "source": [
        "(풀이2) for문을 이용함"
      ],
      "id": "3a6ced8a-05e3-4d39-b84f-2c32eb3240b4"
    },
    {
      "cell_type": "code",
      "execution_count": 129,
      "metadata": {
        "vscode": {
          "languageId": "python"
        }
      },
      "outputs": [],
      "source": [
        "x=[] \n",
        "for i in [0,1,2,3]:\n",
        "    x.append(2**i) "
      ],
      "id": "f40cfb11-0193-49cb-8e18-72b70d51d2db"
    },
    {
      "cell_type": "code",
      "execution_count": 130,
      "metadata": {
        "vscode": {
          "languageId": "python"
        }
      },
      "outputs": [],
      "source": [
        "x"
      ],
      "id": "a508f39c-c121-4da0-9a65-7d13a6ce0706"
    },
    {
      "cell_type": "markdown",
      "metadata": {},
      "source": [
        "(풀이3) for문을 이용함"
      ],
      "id": "7065e2a1-7e20-4bd3-a87c-34c1efc699bb"
    },
    {
      "cell_type": "code",
      "execution_count": 131,
      "metadata": {
        "vscode": {
          "languageId": "python"
        }
      },
      "outputs": [],
      "source": [
        "x=[] \n",
        "for i in [0,1,2,3]:\n",
        "    x = x+[2**i]"
      ],
      "id": "01c2ecde-0ce7-406a-87d3-d0c88f3f3866"
    },
    {
      "cell_type": "code",
      "execution_count": 132,
      "metadata": {
        "vscode": {
          "languageId": "python"
        }
      },
      "outputs": [],
      "source": [
        "x"
      ],
      "id": "391e0e0b-b292-42af-8079-20a564579497"
    },
    {
      "cell_type": "markdown",
      "metadata": {},
      "source": [
        "(풀이4) for문을 이용함"
      ],
      "id": "d855e414-2d8b-407d-9a78-0440b30c00ec"
    },
    {
      "cell_type": "code",
      "execution_count": 133,
      "metadata": {
        "vscode": {
          "languageId": "python"
        }
      },
      "outputs": [],
      "source": [
        "x=[] \n",
        "for i in [0,1,2,3]:\n",
        "    x += [2**i]"
      ],
      "id": "6ecdfba3-4928-4d57-86fb-25170c0d6778"
    },
    {
      "cell_type": "code",
      "execution_count": 134,
      "metadata": {
        "vscode": {
          "languageId": "python"
        }
      },
      "outputs": [],
      "source": [
        "x"
      ],
      "id": "43597a56-4c3e-475a-84bc-e065e0d7af5d"
    },
    {
      "cell_type": "markdown",
      "metadata": {},
      "source": [
        "(풀이5) 리스트컴프리헨션을 이용한 풀이"
      ],
      "id": "cb4949a8-0d2c-464b-851e-a3b4d96160c1"
    },
    {
      "cell_type": "code",
      "execution_count": 139,
      "metadata": {
        "vscode": {
          "languageId": "python"
        }
      },
      "outputs": [],
      "source": [
        "x= [2**i for i in [0,1,2,3]] \n",
        "x"
      ],
      "id": "d92bc72b-74a2-4ef2-b1f1-cc9f1ff729a3"
    },
    {
      "cell_type": "markdown",
      "metadata": {},
      "source": [
        "`-` 리스트컴프리헨션의 문법 암기방법\n",
        "\n",
        "-   집합에서 조건제시법을 연상\n",
        "-   $\\{2^0,2^1,2^2,2^3\\}=\\{2^i: \\text{ for } i = 0,1,2,3 \\}$\n",
        "\n",
        "`-` 리스트컴프리헨션이란?\n",
        "\n",
        "-   리스트를 매우 효율적으로 만드는 테크닉\n",
        "-   for문에 비하여 가지고 있는 장점: (1) 코드가 간결하다 (2) 빠르다\n",
        "\n",
        "`-` 예제: 리스트 컴프리헨션을 이용하여 아래와 같은 리스트를 만들어라."
      ],
      "id": "6d1acc10-357f-4cdb-87bf-5ce41e349248"
    },
    {
      "cell_type": "code",
      "execution_count": 396,
      "metadata": {
        "vscode": {
          "languageId": "python"
        }
      },
      "outputs": [],
      "source": [
        "['SSSS','PPPP','AAAA','MMMM']"
      ],
      "id": "c19a888d-f265-49ed-871e-563ba40c2aef"
    },
    {
      "cell_type": "markdown",
      "metadata": {},
      "source": [
        "(풀이)"
      ],
      "id": "fc1c9532-97cb-4771-92f7-16f234259a9c"
    },
    {
      "cell_type": "code",
      "execution_count": 397,
      "metadata": {
        "vscode": {
          "languageId": "python"
        }
      },
      "outputs": [],
      "source": [
        "[i*4 for i in 'SPAM']"
      ],
      "id": "a41bed13-7213-4127-90fa-3aae156a473e"
    },
    {
      "cell_type": "markdown",
      "metadata": {},
      "source": [
        "`-` 예제: 리스트컴프리헨션을 이용하여 아래와 같은 리스트를 만들어라."
      ],
      "id": "39f2c842-e836-45f6-8f87-6fa95252416a"
    },
    {
      "cell_type": "code",
      "execution_count": 401,
      "metadata": {
        "vscode": {
          "languageId": "python"
        }
      },
      "outputs": [],
      "source": [
        "['X1','X2','X3','Y1','Y2','Y3']"
      ],
      "id": "36646e84-d161-4669-9568-c9c3dd7874c1"
    },
    {
      "cell_type": "markdown",
      "metadata": {},
      "source": [
        "(풀이)"
      ],
      "id": "11ae2289-24a1-4c0a-b37d-7ff5aed47e02"
    },
    {
      "cell_type": "code",
      "execution_count": 405,
      "metadata": {
        "vscode": {
          "languageId": "python"
        }
      },
      "outputs": [],
      "source": [
        "[i+j for i in 'XY' for j in '123']"
      ],
      "id": "82e9a8b9-42d2-4a51-afa0-5b2562c7bbca"
    },
    {
      "cell_type": "markdown",
      "metadata": {},
      "source": [
        "`-` 예제: 리스트컴프리헨션을 이용하여 통계1,…,통계5,수학1,…,수학5를\n",
        "만들어라.\n",
        "\n",
        "(풀이)"
      ],
      "id": "4bb8bac7-2ea0-406a-bf88-3faad776f37e"
    },
    {
      "cell_type": "code",
      "execution_count": 407,
      "metadata": {
        "vscode": {
          "languageId": "python"
        }
      },
      "outputs": [],
      "source": [
        "[x+y for x in ['stat','math'] for y in '12345'] "
      ],
      "id": "02b8af1e-ddea-4894-821a-4cbfe2206c91"
    },
    {
      "cell_type": "markdown",
      "metadata": {},
      "source": [
        "-   $\\{xy : x \\in \\{{\\tt stat},{\\tt math}\\}, y \\in \\{1,2,3,4,5\\} \\}$\n",
        "\n",
        "(다른풀이) 참고로 for문을 쓰면 좀 복잡해진다."
      ],
      "id": "bcad841b-2858-4b34-bb7f-f723c9dff30f"
    },
    {
      "cell_type": "code",
      "execution_count": 409,
      "metadata": {
        "vscode": {
          "languageId": "python"
        }
      },
      "outputs": [],
      "source": [
        "_lst = [] \n",
        "for x in ['stat','math']: \n",
        "    for y in '12345': \n",
        "        _lst = _lst + [x+y] "
      ],
      "id": "d7858e41-23d7-4be9-b676-dabef15eaad4"
    },
    {
      "cell_type": "code",
      "execution_count": 410,
      "metadata": {
        "vscode": {
          "languageId": "python"
        }
      },
      "outputs": [],
      "source": [
        "_lst "
      ],
      "id": "be016bd1-2064-4768-bc5f-e734443dc200"
    },
    {
      "cell_type": "markdown",
      "metadata": {},
      "source": [
        "`-` 예제: ’jbnu’를 이용하여 아래와 같은 리스트를 만들어라.\n",
        "(리스트컴프리헨션을 이용할것)"
      ],
      "id": "4c3b9f8f-e418-4a7e-8e35-666d066030c4"
    },
    {
      "cell_type": "code",
      "execution_count": 152,
      "metadata": {
        "vscode": {
          "languageId": "python"
        }
      },
      "outputs": [],
      "source": [
        "['j','b','n','u']"
      ],
      "id": "e148b0cd-6bc3-46cb-90f2-cee2d77a2b1f"
    },
    {
      "cell_type": "markdown",
      "metadata": {},
      "source": [
        "(다른풀이) 아래와 같이 풀면 된다는것은 알고 있음"
      ],
      "id": "e8eaf1b7-ec82-47f9-a923-9ec4600ff99b"
    },
    {
      "cell_type": "code",
      "execution_count": 415,
      "metadata": {
        "vscode": {
          "languageId": "python"
        }
      },
      "outputs": [],
      "source": [
        "list('jbnu')"
      ],
      "id": "dcbb0096-8052-4880-92f0-3952419458f4"
    },
    {
      "cell_type": "markdown",
      "metadata": {},
      "source": [
        "(풀이)"
      ],
      "id": "de95a4ee-a2be-4290-8c0c-42ba01ff7e86"
    },
    {
      "cell_type": "code",
      "execution_count": 418,
      "metadata": {
        "vscode": {
          "languageId": "python"
        }
      },
      "outputs": [],
      "source": [
        "[x for x in 'jbnu']"
      ],
      "id": "9b5465b4-f827-42fd-a37f-759956fda290"
    },
    {
      "cell_type": "markdown",
      "metadata": {},
      "source": [
        "`-` 예제: x에는 무엇이 있을까?\n",
        "\n",
        "(경우1)"
      ],
      "id": "662c96a0-b9fd-4a7a-a742-99be4b5e30e3"
    },
    {
      "cell_type": "code",
      "execution_count": 423,
      "metadata": {
        "vscode": {
          "languageId": "python"
        }
      },
      "outputs": [],
      "source": [
        "x=1 \n",
        "lst = [] \n",
        "for x in 'jbnu': \n",
        "    lst = lst + [x]\n",
        "lst    "
      ],
      "id": "67ad1501-9476-42a9-ae4c-96d793067ff9"
    },
    {
      "cell_type": "code",
      "execution_count": 424,
      "metadata": {
        "vscode": {
          "languageId": "python"
        }
      },
      "outputs": [],
      "source": [
        "x "
      ],
      "id": "73cc6150-d782-4b21-90fd-518e087d187b"
    },
    {
      "cell_type": "markdown",
      "metadata": {},
      "source": [
        "(경우2)"
      ],
      "id": "82c7efa8-1170-4c90-9a1d-5b998a0bbafa"
    },
    {
      "cell_type": "code",
      "execution_count": 425,
      "metadata": {
        "vscode": {
          "languageId": "python"
        }
      },
      "outputs": [],
      "source": [
        "x=1 \n",
        "lst = [x for x in 'jbnu'] \n",
        "lst "
      ],
      "id": "105ba2d0-8f8d-4ef1-9d16-6f7ca08ab649"
    },
    {
      "cell_type": "code",
      "execution_count": 426,
      "metadata": {
        "vscode": {
          "languageId": "python"
        }
      },
      "outputs": [],
      "source": [
        "x"
      ],
      "id": "234ca9b3-c917-4869-b3a4-4ba96916393c"
    },
    {
      "cell_type": "markdown",
      "metadata": {},
      "source": [
        "-   진짜 미묘하게 다르죠?\n",
        "\n",
        "`-` 예제: \\[X1,X2,X3,…,X100\\]와 같은 리스트를 만들어보라.\n",
        "\n",
        "(풀이)"
      ],
      "id": "9c96a57b-984d-4bf7-8323-ec1dceca186e"
    },
    {
      "cell_type": "code",
      "execution_count": 431,
      "metadata": {
        "vscode": {
          "languageId": "python"
        }
      },
      "outputs": [],
      "source": [
        "['X'+str(i) for i in [1,2,3,4]] ## 이걸 4까지가 아니라 100까지 써야함"
      ],
      "id": "6cbbc674-b4db-4b84-a83f-fb0422617505"
    },
    {
      "cell_type": "code",
      "execution_count": 432,
      "metadata": {
        "vscode": {
          "languageId": "python"
        }
      },
      "outputs": [],
      "source": [
        "['X'+str(i) for i in 1:100]"
      ],
      "id": "81ec46a1-290a-4c9e-88e5-8796192c6afe"
    },
    {
      "cell_type": "markdown",
      "metadata": {},
      "source": [
        "\\[예비학습\\]"
      ],
      "id": "664fe954-ab89-4237-9791-e620daf6bbce"
    },
    {
      "cell_type": "code",
      "execution_count": 434,
      "metadata": {
        "vscode": {
          "languageId": "python"
        }
      },
      "outputs": [],
      "source": [
        "range(0,10)"
      ],
      "id": "23b7b5b7-dff8-416f-af92-66b52617c6dc"
    },
    {
      "cell_type": "markdown",
      "metadata": {},
      "source": [
        "-   이게뭐야?"
      ],
      "id": "2fed0f48-c899-49a3-80d5-71373245fc52"
    },
    {
      "cell_type": "code",
      "execution_count": 438,
      "metadata": {
        "vscode": {
          "languageId": "python"
        }
      },
      "outputs": [],
      "source": [
        "_tmp = range(0,10)\n",
        "_tmp?"
      ],
      "id": "1865c296-cacf-4325-aac2-c01e8d8a6810"
    },
    {
      "cell_type": "markdown",
      "metadata": {},
      "source": [
        "-   우리가 아는 범위에서는 모르겠음.. 이런게 있나보다 하고 넘어가야\n",
        "    하겠음"
      ],
      "id": "5964901b-2c2c-4994-9d43-fa35e1bbaf63"
    },
    {
      "cell_type": "code",
      "execution_count": 448,
      "metadata": {
        "vscode": {
          "languageId": "python"
        }
      },
      "outputs": [],
      "source": [
        "list(range(0,10)) # 0을 포함, 10을 미포함 "
      ],
      "id": "f2bc2ac9-f00b-4e17-87ce-9a4e56b9d8e6"
    },
    {
      "cell_type": "markdown",
      "metadata": {},
      "source": [
        "-   이게 중요한것임. range(0,10)를 리스트화시키면 \\[0,1,2,…,9\\] 와 같은\n",
        "    리스트를 얻을 수 있음."
      ],
      "id": "bb745dad-5084-4b80-8ab9-6d95883e1bbc"
    },
    {
      "cell_type": "code",
      "execution_count": 453,
      "metadata": {
        "vscode": {
          "languageId": "python"
        }
      },
      "outputs": [],
      "source": [
        "list(range(10)) # 0은 생략가능"
      ],
      "id": "b776b64d-7451-4c31-bccf-6927157123c5"
    },
    {
      "cell_type": "code",
      "execution_count": 452,
      "metadata": {
        "vscode": {
          "languageId": "python"
        }
      },
      "outputs": [],
      "source": [
        "list(range(2,10)) # 2는 포함, 10은 미포함 "
      ],
      "id": "a5dcf524-54c1-4340-aa32-b42fe9c3d53a"
    },
    {
      "cell_type": "code",
      "execution_count": 455,
      "metadata": {
        "vscode": {
          "languageId": "python"
        }
      },
      "outputs": [],
      "source": [
        "list(range(1,10,2)) # 2는 포함, 10은 미포함 "
      ],
      "id": "c6cb3b6d-e795-475c-8430-79b50f1e602f"
    },
    {
      "cell_type": "markdown",
      "metadata": {},
      "source": [
        "예비학습 끝"
      ],
      "id": "4e263bc8-8dd1-4c67-8a1f-36c3264afe32"
    },
    {
      "cell_type": "code",
      "execution_count": 460,
      "metadata": {
        "vscode": {
          "languageId": "python"
        }
      },
      "outputs": [],
      "source": [
        "['X'+str(i) for i in list(range(1,13))] ## 출력결과가 너무 기니까 101대신에 13으로 변경 "
      ],
      "id": "fdd1bf50-bce9-4bd1-a3fd-bab4ab9d7744"
    },
    {
      "cell_type": "markdown",
      "metadata": {},
      "source": [
        "(아래와 같은 풀이도 가능)"
      ],
      "id": "6cfd93e9-b94c-4766-aa86-1efecbaa2d6d"
    },
    {
      "cell_type": "code",
      "execution_count": 466,
      "metadata": {
        "vscode": {
          "languageId": "python"
        }
      },
      "outputs": [],
      "source": [
        "['X'+str(i) for i in range(1,13)] ## 출력결과가 너무 기니까 101대신에 13으로 변경 "
      ],
      "id": "219a3752-8625-48a7-9fad-1d6c6d7074b7"
    },
    {
      "cell_type": "markdown",
      "metadata": {},
      "source": [
        "(딴생각) 생각해보니까 for문 뒤에 올 수 있는것이 무엇인지 생각하는것도\n",
        "흥미로울듯"
      ],
      "id": "8ac8b3c3-f9b4-421d-9659-43e2e3820506"
    },
    {
      "cell_type": "code",
      "execution_count": 467,
      "metadata": {
        "vscode": {
          "languageId": "python"
        }
      },
      "outputs": [
        {
          "output_type": "stream",
          "name": "stdout",
          "text": [
            "1\n",
            "2\n",
            "3\n",
            "4"
          ]
        }
      ],
      "source": [
        "for i in '1234':\n",
        "    print(i)"
      ],
      "id": "ec43d441-cad2-484c-953a-5a832e53d80e"
    },
    {
      "cell_type": "code",
      "execution_count": 468,
      "metadata": {
        "vscode": {
          "languageId": "python"
        }
      },
      "outputs": [
        {
          "output_type": "stream",
          "name": "stdout",
          "text": [
            "1\n",
            "2\n",
            "3\n",
            "4"
          ]
        }
      ],
      "source": [
        "for i in [1,2,3,4]:\n",
        "    print(i)"
      ],
      "id": "b3f5e031-d22a-4713-9531-221f8e0af1c7"
    },
    {
      "cell_type": "code",
      "execution_count": 470,
      "metadata": {
        "vscode": {
          "languageId": "python"
        }
      },
      "outputs": [
        {
          "output_type": "stream",
          "name": "stdout",
          "text": [
            "1\n",
            "2\n",
            "3\n",
            "4"
          ]
        }
      ],
      "source": [
        "for i in (1,2,3,4): # (1,2,3,4)는 튜플\n",
        "    print(i)"
      ],
      "id": "fbd579bc-bc31-483a-bb5c-8f0d3ceea1d1"
    },
    {
      "cell_type": "code",
      "execution_count": 474,
      "metadata": {
        "vscode": {
          "languageId": "python"
        }
      },
      "outputs": [
        {
          "output_type": "stream",
          "name": "stdout",
          "text": [
            "1\n",
            "2\n",
            "3\n",
            "4"
          ]
        }
      ],
      "source": [
        "for i in {1,2,3,4}: # {1,2,3,4}는 set \n",
        "    print(i)"
      ],
      "id": "5b8e0670-f8cf-4111-9ab2-0c8467d2b9d9"
    },
    {
      "cell_type": "code",
      "execution_count": 476,
      "metadata": {
        "vscode": {
          "languageId": "python"
        }
      },
      "outputs": [
        {
          "output_type": "stream",
          "name": "stdout",
          "text": [
            "name\n",
            "age"
          ]
        }
      ],
      "source": [
        "for i in {'name':'iu','age':28}: #{'name':'iu','age':28} 는 딕셔너리\n",
        "    print(i)"
      ],
      "id": "7f9dfedf-c2bb-455b-933a-07a40086bb88"
    },
    {
      "cell_type": "code",
      "execution_count": 479,
      "metadata": {
        "vscode": {
          "languageId": "python"
        }
      },
      "outputs": [
        {
          "output_type": "stream",
          "name": "stdout",
          "text": [
            "1\n",
            "2\n",
            "3\n",
            "4"
          ]
        }
      ],
      "source": [
        "for i in range(1,5): \n",
        "    print(i)"
      ],
      "id": "518943d8-4b99-48a2-96ea-f84eeb89d81d"
    },
    {
      "cell_type": "markdown",
      "metadata": {},
      "source": [
        "## if문이 포함된 컴프리헨션\n",
        "\n",
        "`-` 예제: 제곱수중에서 12로 나누어 떨어지는 수만 원소로 가지는 리스트를\n",
        "만들고 싶다.\n",
        "\n",
        "-   제곱수: 1,4,9,16,25,36, …\n",
        "-   12로 나누어 떨어지는 수: 36, …\n",
        "\n",
        "(예비학습)"
      ],
      "id": "6cb1574d-c0b3-4ead-a2f7-183e25992e05"
    },
    {
      "cell_type": "code",
      "execution_count": 30,
      "metadata": {
        "vscode": {
          "languageId": "python"
        }
      },
      "outputs": [],
      "source": [
        "12 % 4 # %는 나머지를 계산하는 연산자, 12를 4로 나누면 나머지가 0"
      ],
      "id": "4ae21e93-ff53-488b-8551-1d867810b3d0"
    },
    {
      "cell_type": "code",
      "execution_count": 31,
      "metadata": {
        "vscode": {
          "languageId": "python"
        }
      },
      "outputs": [],
      "source": [
        "12 % 5 # %는 나머지를 계산하는 연산자, 12를 5로 나누면 나머지가 2"
      ],
      "id": "c76cd88d-0ddc-40eb-a210-6a9ed275db4d"
    },
    {
      "cell_type": "markdown",
      "metadata": {},
      "source": [
        "(풀이1)"
      ],
      "id": "b6c1922b-dbce-4f0a-b505-7deae0949648"
    },
    {
      "cell_type": "code",
      "execution_count": 32,
      "metadata": {
        "vscode": {
          "languageId": "python"
        }
      },
      "outputs": [],
      "source": [
        "lst = [] \n",
        "for i in range(1,101): \n",
        "    if (i**2 % 12 == 0): \n",
        "        lst.append(i**2)"
      ],
      "id": "3bfddd4d-b31d-41c5-b40b-1a57e6fbb8d0"
    },
    {
      "cell_type": "code",
      "execution_count": 33,
      "metadata": {
        "vscode": {
          "languageId": "python"
        }
      },
      "outputs": [],
      "source": [
        "lst"
      ],
      "id": "6192cc6a-98c5-4c1b-8327-b829e43de47c"
    },
    {
      "cell_type": "markdown",
      "metadata": {},
      "source": [
        "(풀이2)"
      ],
      "id": "0bbbc257-aeb1-4637-b050-661f2b2ab8c7"
    },
    {
      "cell_type": "code",
      "execution_count": 34,
      "metadata": {
        "vscode": {
          "languageId": "python"
        }
      },
      "outputs": [],
      "source": [
        "[i**2 for i in range(1,101) if (i**2 % 12 == 0)]"
      ],
      "id": "b6b258d0-ce28-42bf-b69b-2bc42abd7fa3"
    },
    {
      "cell_type": "markdown",
      "metadata": {},
      "source": [
        "# 튜플고급\n",
        "\n",
        "## 튜플을 왜 쓰지? (1)\n",
        "\n",
        "***그냥 리스트를 쓰면 되는거 아닌가 하는 생각이 듭니다. 그냥 튜플은 값이\n",
        "바뀌지 않는 리스트 느낌. 이게 왜 쓸모있지?***\n",
        "\n",
        "-   책의설명: 코딩을 하다보면 값을 바꾸지 말아야 할 것을 실수로 값을\n",
        "    바꾸는 경우가 있음. 이런 실수를 방지할 수 있다.\n",
        "-   shallow copy/deep copy 에 대한 개념을 모르면 생기는 여러가지 side\n",
        "    effect이 있음. 이러한 side effect을 막을 수 있는 무기임.\n",
        "\n",
        "## 상황1: 다중출력(?)\n",
        "\n",
        "`-` 예제: 여러변수를 동시에 출력하고 싶을 경우 (다중출력?)\n",
        "\n",
        "변수를 아래와 같이 선언하였다고 하자."
      ],
      "id": "66d32289-955b-4b0e-a270-841cf628696d"
    },
    {
      "cell_type": "code",
      "execution_count": 1,
      "metadata": {
        "vscode": {
          "languageId": "python"
        }
      },
      "outputs": [],
      "source": [
        "a=1\n",
        "b=2\n",
        "c=3 "
      ],
      "id": "06b07675-fb6b-4fdb-b776-873266cb3bfa"
    },
    {
      "cell_type": "markdown",
      "metadata": {},
      "source": [
        "선언된 값을 확인하려면?"
      ],
      "id": "78f5f195-8cca-4ff3-8d30-3dd2373f4af2"
    },
    {
      "cell_type": "code",
      "execution_count": 3,
      "metadata": {
        "vscode": {
          "languageId": "python"
        }
      },
      "outputs": [],
      "source": [
        "a"
      ],
      "id": "1a22ae5d-f779-4312-865b-49ce517af076"
    },
    {
      "cell_type": "code",
      "execution_count": 4,
      "metadata": {
        "vscode": {
          "languageId": "python"
        }
      },
      "outputs": [],
      "source": [
        "b"
      ],
      "id": "dc70571e-9548-4daf-8330-2c0a016946cb"
    },
    {
      "cell_type": "code",
      "execution_count": 5,
      "metadata": {
        "vscode": {
          "languageId": "python"
        }
      },
      "outputs": [],
      "source": [
        "c"
      ],
      "id": "ae1069c3-b5f0-42d3-b22e-b5e48bf1e5ec"
    },
    {
      "cell_type": "markdown",
      "metadata": {},
      "source": [
        "튜플을 이용하면?"
      ],
      "id": "c8185013-d73f-426d-8d74-3de94cad04ff"
    },
    {
      "cell_type": "code",
      "execution_count": 51,
      "metadata": {
        "vscode": {
          "languageId": "python"
        }
      },
      "outputs": [],
      "source": [
        "a,b,c # 괄호하나 생략하는것이 이렇게 편하다.."
      ],
      "id": "2c01c0f1-b1a7-4de1-8ee6-77e6f1b0d88e"
    },
    {
      "cell_type": "markdown",
      "metadata": {},
      "source": [
        "## 상황2: 다중할당\n",
        "\n",
        "`-` 예제: 다중할당1 (여러개의 변수를 동시에 선언하고 싶을 경우)"
      ],
      "id": "fd47b0fd-91ea-49ae-82bc-6ed59c605ebe"
    },
    {
      "cell_type": "code",
      "execution_count": 52,
      "metadata": {
        "vscode": {
          "languageId": "python"
        }
      },
      "outputs": [],
      "source": [
        "name, age, sex, height, weight = 'Tom', 20, 'M', 180, 70 "
      ],
      "id": "ded4b0c2-d334-49e3-96a8-738a7853a146"
    },
    {
      "cell_type": "code",
      "execution_count": 54,
      "metadata": {
        "vscode": {
          "languageId": "python"
        }
      },
      "outputs": [],
      "source": [
        "name, age, sex, height, weight"
      ],
      "id": "c8937e3b-ebba-495f-8be2-daa5d716a567"
    },
    {
      "cell_type": "code",
      "execution_count": 56,
      "metadata": {
        "vscode": {
          "languageId": "python"
        }
      },
      "outputs": [],
      "source": [
        "height"
      ],
      "id": "6ebffec9-945a-490f-b4f3-fbef20b804f4"
    },
    {
      "cell_type": "markdown",
      "metadata": {},
      "source": [
        "`-` 예제: 다중할당2, 위도와 경도"
      ],
      "id": "86bf1ecb-162d-4c88-b138-d5abf12cf1c8"
    },
    {
      "cell_type": "code",
      "execution_count": 2,
      "metadata": {
        "vscode": {
          "languageId": "python"
        }
      },
      "outputs": [],
      "source": [
        "coor = (37,127) # 서울 \n",
        "coor"
      ],
      "id": "efe1cb3c-1ca5-4ece-805e-346722ce59f2"
    },
    {
      "cell_type": "code",
      "execution_count": 3,
      "metadata": {
        "vscode": {
          "languageId": "python"
        }
      },
      "outputs": [],
      "source": [
        "lat, lon = coor"
      ],
      "id": "e2bae1a1-b352-484d-a2c8-a130f792325e"
    },
    {
      "cell_type": "code",
      "execution_count": 4,
      "metadata": {
        "vscode": {
          "languageId": "python"
        }
      },
      "outputs": [],
      "source": [
        "lat "
      ],
      "id": "49572a0d-43b0-4bd7-96af-104ca3575c19"
    },
    {
      "cell_type": "code",
      "execution_count": 5,
      "metadata": {
        "vscode": {
          "languageId": "python"
        }
      },
      "outputs": [],
      "source": [
        "lon"
      ],
      "id": "4d93fd46-72a4-4a56-936a-98712fde2d50"
    },
    {
      "cell_type": "markdown",
      "metadata": {},
      "source": [
        "`-` 잠깐만: 다중할당은 꼭 튜플에서만 가능한가?\n",
        "\n",
        "그건 아니다…"
      ],
      "id": "c9b13d9f-b372-4a0b-8d0e-0682e9f86b86"
    },
    {
      "cell_type": "code",
      "execution_count": 70,
      "metadata": {
        "vscode": {
          "languageId": "python"
        }
      },
      "outputs": [],
      "source": [
        "[x,y,z] = [1,2,3] \n",
        "x,y,z # 다중출력 "
      ],
      "id": "e820ce8c-443d-440f-a29b-633d0597cd45"
    },
    {
      "cell_type": "code",
      "execution_count": 71,
      "metadata": {
        "vscode": {
          "languageId": "python"
        }
      },
      "outputs": [],
      "source": [
        "[x,y] = 'hi'\n",
        "x,y "
      ],
      "id": "aa9d1836-20ed-4220-a733-024f73e60985"
    },
    {
      "cell_type": "markdown",
      "metadata": {},
      "source": [
        "튜플과 같이 사용하면 가독성이 극대화 (그래서 다중할당은 거의 튜플과\n",
        "세트로 사용함)"
      ],
      "id": "46664491-38da-434d-bc6e-00d3e4d64c0e"
    },
    {
      "cell_type": "code",
      "execution_count": 72,
      "metadata": {
        "vscode": {
          "languageId": "python"
        }
      },
      "outputs": [],
      "source": [
        "x,y,z = 1,2,3\n",
        "x,y,z # 다중출력 "
      ],
      "id": "08dc00f2-5fda-4500-9f0b-ca6636ee47a6"
    },
    {
      "cell_type": "code",
      "execution_count": 73,
      "metadata": {
        "vscode": {
          "languageId": "python"
        }
      },
      "outputs": [],
      "source": [
        "x,y = 'hi'\n",
        "x,y "
      ],
      "id": "665565bf-addc-4cf2-b59c-7cad0b196e7f"
    },
    {
      "cell_type": "markdown",
      "metadata": {},
      "source": [
        "## 상황3: 변수값을 교환\n",
        "\n",
        "`-` 예제: 임시변수 사용없이 두 변수의 값을 교환"
      ],
      "id": "03a1fcd5-172c-4ae6-9c35-178d579e354d"
    },
    {
      "cell_type": "code",
      "execution_count": 16,
      "metadata": {
        "vscode": {
          "languageId": "python"
        }
      },
      "outputs": [],
      "source": [
        "a=10\n",
        "b=20"
      ],
      "id": "841f23b2-5f10-4f0a-8299-c33585986344"
    },
    {
      "cell_type": "code",
      "execution_count": 17,
      "metadata": {
        "vscode": {
          "languageId": "python"
        }
      },
      "outputs": [],
      "source": [
        "a,b = b,a "
      ],
      "id": "d290eda3-8735-458f-9d6e-b5126aad3214"
    },
    {
      "cell_type": "code",
      "execution_count": 18,
      "metadata": {
        "vscode": {
          "languageId": "python"
        }
      },
      "outputs": [],
      "source": [
        "a"
      ],
      "id": "ba0050bf-a0f1-4e14-91bd-384577a887e2"
    },
    {
      "cell_type": "code",
      "execution_count": 19,
      "metadata": {
        "vscode": {
          "languageId": "python"
        }
      },
      "outputs": [],
      "source": [
        "b"
      ],
      "id": "16996940-3400-44e1-b020-bf2fc445a42d"
    },
    {
      "cell_type": "markdown",
      "metadata": {},
      "source": [
        "## 상황4: for문과 함께\n",
        "\n",
        "`-` 예제: for문과 튜플"
      ],
      "id": "28096b7d-c5b0-4c5d-a5ea-fca4ad9d347b"
    },
    {
      "cell_type": "code",
      "execution_count": 49,
      "metadata": {
        "vscode": {
          "languageId": "python"
        }
      },
      "outputs": [],
      "source": [
        "lst = [['guebin', 202112345, 'M'],\n",
        "       ['iu',202254321, 'F'],\n",
        "       ['hodong', 202011223, 'M']]\n",
        "lst"
      ],
      "id": "aee690ee-a28d-4578-ae6b-92f83c2fa422"
    },
    {
      "cell_type": "code",
      "execution_count": 50,
      "metadata": {
        "vscode": {
          "languageId": "python"
        }
      },
      "outputs": [
        {
          "output_type": "stream",
          "name": "stdout",
          "text": [
            "['guebin', 202112345, 'M']\n",
            "['iu', 202254321, 'F']\n",
            "['hodong', 202011223, 'M']"
          ]
        }
      ],
      "source": [
        "for i in lst: \n",
        "    print(i)"
      ],
      "id": "88119640-3b53-43aa-ba71-09b3502035c7"
    },
    {
      "cell_type": "code",
      "execution_count": 51,
      "metadata": {
        "vscode": {
          "languageId": "python"
        }
      },
      "outputs": [
        {
          "output_type": "stream",
          "name": "stdout",
          "text": [
            "guebin\n",
            "iu\n",
            "hodong"
          ]
        }
      ],
      "source": [
        "for name,studentid,sex in lst: \n",
        "    print(name)"
      ],
      "id": "2c530e4b-7d41-4f35-8e00-9003b9437104"
    },
    {
      "cell_type": "code",
      "execution_count": 52,
      "metadata": {
        "vscode": {
          "languageId": "python"
        }
      },
      "outputs": [
        {
          "output_type": "stream",
          "name": "stdout",
          "text": [
            "guebin M\n",
            "iu F\n",
            "hodong M"
          ]
        }
      ],
      "source": [
        "for name,studentid,sex in lst: \n",
        "    print(name,sex)"
      ],
      "id": "21dbd3df-9a7c-464e-ac1b-09c4c78279b4"
    },
    {
      "cell_type": "markdown",
      "metadata": {},
      "source": [
        "`-` 예제: for문과 튜플, dummy variable `_`"
      ],
      "id": "d72066e3-64a2-458e-97e4-e9b15dcb2e69"
    },
    {
      "cell_type": "code",
      "execution_count": 53,
      "metadata": {
        "vscode": {
          "languageId": "python"
        }
      },
      "outputs": [
        {
          "output_type": "stream",
          "name": "stdout",
          "text": [
            "202112345\n",
            "202254321\n",
            "202011223"
          ]
        }
      ],
      "source": [
        "for name,studentid,sex in lst: \n",
        "    print(studentid)"
      ],
      "id": "df12174e-3017-4b19-a759-bbbaeedeea61"
    },
    {
      "cell_type": "code",
      "execution_count": 54,
      "metadata": {
        "vscode": {
          "languageId": "python"
        }
      },
      "outputs": [
        {
          "output_type": "stream",
          "name": "stdout",
          "text": [
            "202112345\n",
            "202254321\n",
            "202011223"
          ]
        }
      ],
      "source": [
        "for _,studentid,_ in lst: \n",
        "    print(studentid)"
      ],
      "id": "0b305e3b-ef6a-4a1a-b772-5e6a0876be11"
    },
    {
      "cell_type": "code",
      "execution_count": 55,
      "metadata": {
        "vscode": {
          "languageId": "python"
        }
      },
      "outputs": [
        {
          "output_type": "stream",
          "name": "stdout",
          "text": [
            "M\n",
            "F\n",
            "M"
          ]
        }
      ],
      "source": [
        "for _,_,sex in lst: \n",
        "    print(sex)"
      ],
      "id": "5575757b-3820-4174-8d13-9feeebacc521"
    },
    {
      "cell_type": "code",
      "execution_count": 56,
      "metadata": {
        "vscode": {
          "languageId": "python"
        }
      },
      "outputs": [
        {
          "output_type": "stream",
          "name": "stdout",
          "text": [
            "guebin M\n",
            "iu F\n",
            "hodong M"
          ]
        }
      ],
      "source": [
        "for name,_,sex in lst: \n",
        "    print(name,sex)"
      ],
      "id": "f97bbfb5-db61-4c96-b01e-4a78592c5ffb"
    },
    {
      "cell_type": "markdown",
      "metadata": {},
      "source": [
        "`-` 예제: for문과 튜플, \\* 연산자\n",
        "\n",
        "(motive)"
      ],
      "id": "8ceaa1ba-a2d3-4c06-81d8-251367cb7ced"
    },
    {
      "cell_type": "code",
      "execution_count": 58,
      "metadata": {
        "vscode": {
          "languageId": "python"
        }
      },
      "outputs": [
        {
          "output_type": "stream",
          "name": "stdout",
          "text": [
            "guebin\n",
            "iu\n",
            "hodong"
          ]
        }
      ],
      "source": [
        "for name,_,_  in lst: \n",
        "    print(name)"
      ],
      "id": "d6851345-1c15-44ff-b1ae-bcdc6c1ec103"
    },
    {
      "cell_type": "markdown",
      "metadata": {},
      "source": [
        "-   귀찮냐..\n",
        "\n",
        "(신기술)"
      ],
      "id": "25056769-93a6-474f-8443-d68e387475fb"
    },
    {
      "cell_type": "code",
      "execution_count": 60,
      "metadata": {
        "vscode": {
          "languageId": "python"
        }
      },
      "outputs": [
        {
          "output_type": "stream",
          "name": "stdout",
          "text": [
            "guebin\n",
            "iu\n",
            "hodong"
          ]
        }
      ],
      "source": [
        "for name,*args  in lst: \n",
        "    print(name)"
      ],
      "id": "993d0243-22da-45d8-9283-99504e93b34c"
    },
    {
      "cell_type": "markdown",
      "metadata": {},
      "source": [
        "## 상황5: 언패킹연산자와 함께\n",
        "\n",
        "`-` 예제: 튜플과 언패킹연산자 `*`"
      ],
      "id": "fb1ecc68-f396-4c25-8b5f-3647bb869d2e"
    },
    {
      "cell_type": "code",
      "execution_count": 61,
      "metadata": {
        "vscode": {
          "languageId": "python"
        }
      },
      "outputs": [],
      "source": [
        "head, body, *tail = range(1,11) \n",
        "head, body, tail"
      ],
      "id": "2a230b88-d333-4805-a9b0-8f2ca4e5568b"
    },
    {
      "cell_type": "code",
      "execution_count": 62,
      "metadata": {
        "vscode": {
          "languageId": "python"
        }
      },
      "outputs": [],
      "source": [
        "head1,head2, *body, tail1,tail2,tail3 = range(1,11) \n",
        "head1,head2, body, tail1,tail2,tail3 "
      ],
      "id": "7d30b3b5-7d7f-40f1-a14f-c778d4fea53a"
    },
    {
      "cell_type": "code",
      "execution_count": 63,
      "metadata": {
        "vscode": {
          "languageId": "python"
        }
      },
      "outputs": [],
      "source": [
        "*head, body, tail = range(1,11) \n",
        "head, body, tail"
      ],
      "id": "dafd87a9-10c5-490d-85b6-82ab4feb3bb9"
    },
    {
      "cell_type": "markdown",
      "metadata": {},
      "source": [
        "------------------------------------------------------------------------\n",
        "\n",
        "***Appendix:*** 언패킹연산자\n",
        "\n",
        "(관찰)\n",
        "\n",
        "그러고 보니까..\n",
        "\n",
        "``` python\n",
        "head1,head2, body, tail1,tail2,tail3  = (1, 2, [3,4,5,6,7], 8, 9, 10)\n",
        "head1,head2, *body, tail1,tail2,tail3   = (1, 2, 3,4,5,6,7, 8, 9, 10)\n",
        "```\n",
        "\n",
        "이렇다는 거잖아?\n",
        "\n",
        "`*`를 붙이면 1차원 자료구조가 풀린다..?"
      ],
      "id": "c2572513-65ab-41d2-bfe2-2fb19b8ffbb4"
    },
    {
      "cell_type": "code",
      "execution_count": 6,
      "metadata": {
        "vscode": {
          "languageId": "python"
        }
      },
      "outputs": [],
      "source": [
        "*[1,2,3] # ?? 뭐하누?"
      ],
      "id": "4b615f0f-ee18-4d1c-99fc-be2c0cc1c65b"
    },
    {
      "cell_type": "code",
      "execution_count": 9,
      "metadata": {
        "vscode": {
          "languageId": "python"
        }
      },
      "outputs": [
        {
          "output_type": "stream",
          "name": "stdout",
          "text": [
            "1 2 3"
          ]
        }
      ],
      "source": [
        "print(*[1,2,3]) ## 이런 느낌!!"
      ],
      "id": "98405c53-8c1d-47ea-9e1f-ec22bf41f5ce"
    },
    {
      "cell_type": "code",
      "execution_count": 11,
      "metadata": {
        "vscode": {
          "languageId": "python"
        }
      },
      "outputs": [
        {
          "output_type": "stream",
          "name": "stdout",
          "text": [
            "[1, 2, 3]"
          ]
        }
      ],
      "source": [
        "print([1,2,3]) # 비교"
      ],
      "id": "64c86dcd-83ad-4c56-b0d3-b09331afcadb"
    },
    {
      "cell_type": "markdown",
      "metadata": {},
      "source": [
        "# 인덱싱고급 (스트라이딩)\n",
        "\n",
        "`-` 스트라이딩 \\[start:stop:step\\]"
      ],
      "id": "67684686-9013-48fb-810f-43437d457abd"
    },
    {
      "cell_type": "code",
      "execution_count": 5,
      "metadata": {
        "vscode": {
          "languageId": "python"
        }
      },
      "outputs": [],
      "source": [
        "lst = list('abcdefgh')\n",
        "lst"
      ],
      "id": "746c4325-bfb6-40a5-85b0-55264f480277"
    },
    {
      "cell_type": "code",
      "execution_count": 6,
      "metadata": {
        "vscode": {
          "languageId": "python"
        }
      },
      "outputs": [],
      "source": [
        "lst[0:8:2]"
      ],
      "id": "3b77afa4-24e5-4167-8f4a-df303c123603"
    },
    {
      "cell_type": "markdown",
      "metadata": {},
      "source": [
        "`-` 생략"
      ],
      "id": "1025b869-8565-4e81-a463-793dce64954a"
    },
    {
      "cell_type": "code",
      "execution_count": 7,
      "metadata": {
        "vscode": {
          "languageId": "python"
        }
      },
      "outputs": [],
      "source": [
        "lst[::2]"
      ],
      "id": "7725f84f-4752-4b35-949d-731ae845dbe6"
    },
    {
      "cell_type": "code",
      "execution_count": 8,
      "metadata": {
        "vscode": {
          "languageId": "python"
        }
      },
      "outputs": [],
      "source": [
        "lst[0::2]"
      ],
      "id": "97f4b707-c8b2-4d5b-b41d-34db62aebc01"
    },
    {
      "cell_type": "code",
      "execution_count": 9,
      "metadata": {
        "vscode": {
          "languageId": "python"
        }
      },
      "outputs": [],
      "source": [
        "lst[:8:2]"
      ],
      "id": "f16ffa50-91b5-4deb-bf7f-51f0fadaba50"
    },
    {
      "cell_type": "markdown",
      "metadata": {},
      "source": [
        "`-` 예제: 짝수/홀수 원소 추출"
      ],
      "id": "338c048e-377d-4fa8-adc7-0b511d8428fa"
    },
    {
      "cell_type": "code",
      "execution_count": 10,
      "metadata": {
        "vscode": {
          "languageId": "python"
        }
      },
      "outputs": [],
      "source": [
        "lst"
      ],
      "id": "75392e69-7a81-4dc9-84a8-5100dcd4f7b2"
    },
    {
      "cell_type": "code",
      "execution_count": 11,
      "metadata": {
        "vscode": {
          "languageId": "python"
        }
      },
      "outputs": [],
      "source": [
        "lst[::2] # 1,3,5,7, ... "
      ],
      "id": "f88cfef8-356d-44ff-a31d-87ae1b843bec"
    },
    {
      "cell_type": "code",
      "execution_count": 12,
      "metadata": {
        "vscode": {
          "languageId": "python"
        }
      },
      "outputs": [],
      "source": [
        "lst[1::2] # 2,4,6,8, ... "
      ],
      "id": "855f138a-f512-4aa2-b414-2df441db5694"
    },
    {
      "cell_type": "markdown",
      "metadata": {},
      "source": [
        "`-` step = -1 이면?"
      ],
      "id": "7ef1e8df-e8d9-464c-852f-e9de698cde6a"
    },
    {
      "cell_type": "code",
      "execution_count": 13,
      "metadata": {
        "vscode": {
          "languageId": "python"
        }
      },
      "outputs": [],
      "source": [
        "lst"
      ],
      "id": "5b80c69c-3675-49e2-844a-9bd57d6b05bc"
    },
    {
      "cell_type": "code",
      "execution_count": 14,
      "metadata": {
        "vscode": {
          "languageId": "python"
        }
      },
      "outputs": [],
      "source": [
        "lst[::-1]"
      ],
      "id": "50e0b079-cb26-4316-b086-cf42f2f748c9"
    },
    {
      "cell_type": "markdown",
      "metadata": {},
      "source": [
        "-   reverse와 같은 기능\n",
        "\n",
        "(reverse)와 비교\n",
        "\n",
        "관찰1: reverse 메소드는 리스트 자체를 변화시킴"
      ],
      "id": "24e9df41-fbef-4937-b6ac-0c8565c7414d"
    },
    {
      "cell_type": "code",
      "execution_count": 15,
      "metadata": {
        "vscode": {
          "languageId": "python"
        }
      },
      "outputs": [],
      "source": [
        "lst = list('abcdefgh')\n",
        "lst"
      ],
      "id": "e3ca42c0-b394-4027-a75b-12a6c0002e75"
    },
    {
      "cell_type": "code",
      "execution_count": 16,
      "metadata": {
        "vscode": {
          "languageId": "python"
        }
      },
      "outputs": [],
      "source": [
        "lst.reverse() #리버스는 \n",
        "lst"
      ],
      "id": "42caffab-5428-4a62-9fcb-d93e0c284288"
    },
    {
      "cell_type": "markdown",
      "metadata": {},
      "source": [
        "관찰2: \\[::-1\\]는 리스트는 변화시키지 않음"
      ],
      "id": "42c27939-90d9-4d40-bd0f-5c7d418bacc2"
    },
    {
      "cell_type": "code",
      "execution_count": 17,
      "metadata": {
        "vscode": {
          "languageId": "python"
        }
      },
      "outputs": [],
      "source": [
        "lst = list('abcdefgh')\n",
        "lst"
      ],
      "id": "99b1e4ba-56bf-454e-b048-df767d6293b7"
    },
    {
      "cell_type": "code",
      "execution_count": 18,
      "metadata": {
        "vscode": {
          "languageId": "python"
        }
      },
      "outputs": [],
      "source": [
        "lst[::-1]"
      ],
      "id": "1e939b0a-718a-429e-8b4e-87f1a91adcb4"
    },
    {
      "cell_type": "code",
      "execution_count": 19,
      "metadata": {
        "vscode": {
          "languageId": "python"
        }
      },
      "outputs": [],
      "source": [
        "lst"
      ],
      "id": "07bd6fff-66b5-491b-8405-dccacb325802"
    },
    {
      "cell_type": "markdown",
      "metadata": {},
      "source": [
        "`-` 사실 -step은 쓰는 것이 조금 까다롭다.\n",
        "\n",
        "(예제) 처음과 끝을 생략하지 않고 아래와 동일한 효과를 주는 코드를 만들어\n",
        "보자."
      ],
      "id": "321f49a3-0b5a-4a28-882e-14dee6b87123"
    },
    {
      "cell_type": "code",
      "execution_count": 20,
      "metadata": {
        "vscode": {
          "languageId": "python"
        }
      },
      "outputs": [],
      "source": [
        "lst = list('abcdefgh')\n",
        "lst[::-1]"
      ],
      "id": "e4e86ac0-a362-4f00-824e-e231618b836f"
    },
    {
      "cell_type": "markdown",
      "metadata": {},
      "source": [
        "(풀이)\n",
        "\n",
        "결국 lst\\[?:?:-1\\]의 꼴에서 적당히 ?의 값을 채우면 된다."
      ],
      "id": "9fb0bbc6-7b37-4703-9c8e-704b911e6071"
    },
    {
      "cell_type": "code",
      "execution_count": 21,
      "metadata": {
        "vscode": {
          "languageId": "python"
        }
      },
      "outputs": [],
      "source": [
        "lst[-1::-1] # 일단 첫 시작은 제일 마지막 원소 "
      ],
      "id": "604d1196-9602-4a06-a908-72a3b68de8c5"
    },
    {
      "cell_type": "code",
      "execution_count": 22,
      "metadata": {
        "vscode": {
          "languageId": "python"
        }
      },
      "outputs": [],
      "source": [
        "lst[-1:0:-1] # 앗 마지막 인덱스는 포함 안되는거였지? "
      ],
      "id": "6f388866-66a9-469a-89c8-2dd49cfa3b34"
    },
    {
      "cell_type": "code",
      "execution_count": 23,
      "metadata": {
        "vscode": {
          "languageId": "python"
        }
      },
      "outputs": [],
      "source": [
        "lst[-1:-1:-1] # 뭐 어쩌란거임 "
      ],
      "id": "13d4f8b8-a768-4b97-8923-596591750837"
    },
    {
      "cell_type": "markdown",
      "metadata": {},
      "source": [
        "잠깐 인덱스를 생각해보자.\n",
        "\n",
        "|  a  |  b  |  c  |  d  |  e  |  f  |  g  |  h  |\n",
        "|:---:|:---:|:---:|:---:|:---:|:---:|:---:|:---:|\n",
        "|  0  |  1  |  2  |  3  |  4  |  5  |  6  |  7  |\n",
        "| -8  | -7  | -6  | -5  | -4  | -3  | -2  | -1  |"
      ],
      "id": "8d27c8c1-316e-470c-8d11-0ba8a98f14a6"
    },
    {
      "cell_type": "code",
      "execution_count": 24,
      "metadata": {
        "vscode": {
          "languageId": "python"
        }
      },
      "outputs": [],
      "source": [
        "lst[-1:-9:-1] # 아.."
      ],
      "id": "6a6ed7b4-eb8d-4aa0-8358-4093473e6494"
    },
    {
      "cell_type": "markdown",
      "metadata": {},
      "source": [
        "(예제)"
      ],
      "id": "b5762fe8-c1ef-4204-9d89-0701b365dda0"
    },
    {
      "cell_type": "code",
      "execution_count": 25,
      "metadata": {
        "vscode": {
          "languageId": "python"
        }
      },
      "outputs": [],
      "source": [
        "lst[2::2]"
      ],
      "id": "78f4dd5e-1360-4395-8e0b-4084341ee022"
    },
    {
      "cell_type": "code",
      "execution_count": 26,
      "metadata": {
        "vscode": {
          "languageId": "python"
        }
      },
      "outputs": [],
      "source": [
        "lst[-2::-2]"
      ],
      "id": "b00f9e0b-34d4-4cb5-a0e7-e00b30f534da"
    },
    {
      "cell_type": "code",
      "execution_count": 27,
      "metadata": {
        "vscode": {
          "languageId": "python"
        }
      },
      "outputs": [],
      "source": [
        "lst[-2:2:2]"
      ],
      "id": "21e1642c-a18a-41a4-9c5f-9e291a302737"
    },
    {
      "cell_type": "code",
      "execution_count": 28,
      "metadata": {
        "vscode": {
          "languageId": "python"
        }
      },
      "outputs": [],
      "source": [
        "lst[2:2:2]"
      ],
      "id": "a1299948-eb42-43d8-979a-54195890ab9d"
    },
    {
      "cell_type": "code",
      "execution_count": 29,
      "metadata": {
        "vscode": {
          "languageId": "python"
        }
      },
      "outputs": [],
      "source": [
        "lst[2:2:-2]"
      ],
      "id": "da5aa263-94ad-4eb6-88dc-fc923ba64e7e"
    },
    {
      "cell_type": "markdown",
      "metadata": {},
      "source": [
        "결론: -step을 자주 쓰진 말자?\n",
        "\n",
        "# 함수고급 (조건부리턴)\n",
        "\n",
        "`-` 홀수/짝수를 판별하는 함수 만들기 1"
      ],
      "id": "34a1431c-158c-4e6b-80da-427957bce1c7"
    },
    {
      "cell_type": "code",
      "execution_count": 35,
      "metadata": {
        "vscode": {
          "languageId": "python"
        }
      },
      "outputs": [],
      "source": [
        "def test(a):\n",
        "    if a % 2 ==0: \n",
        "        return 'even'\n",
        "    else:\n",
        "        return 'odd'"
      ],
      "id": "b5c576fb-147d-4f4f-9ebd-ef61c7031514"
    },
    {
      "cell_type": "code",
      "execution_count": 36,
      "metadata": {
        "vscode": {
          "languageId": "python"
        }
      },
      "outputs": [],
      "source": [
        "test(1)"
      ],
      "id": "9ece400f-0438-4d13-87cc-f05dc00a384a"
    },
    {
      "cell_type": "code",
      "execution_count": 37,
      "metadata": {
        "vscode": {
          "languageId": "python"
        }
      },
      "outputs": [],
      "source": [
        "test(2)"
      ],
      "id": "bc395957-5a77-4ce4-9d30-e47d580ed7fc"
    },
    {
      "cell_type": "code",
      "execution_count": 38,
      "metadata": {
        "vscode": {
          "languageId": "python"
        }
      },
      "outputs": [],
      "source": [
        "test(3)"
      ],
      "id": "e8595358-97e7-4665-a634-b947d37083a3"
    },
    {
      "cell_type": "code",
      "execution_count": 39,
      "metadata": {
        "vscode": {
          "languageId": "python"
        }
      },
      "outputs": [],
      "source": [
        "test(4)"
      ],
      "id": "fb4ce31f-e5b7-46b5-8c16-5bc039b396c3"
    },
    {
      "cell_type": "code",
      "execution_count": 40,
      "metadata": {
        "vscode": {
          "languageId": "python"
        }
      },
      "outputs": [],
      "source": [
        "[test(a) for a in range(1,11)]"
      ],
      "id": "083fd9c1-06f9-4c6c-a437-a8e2c319739c"
    },
    {
      "cell_type": "markdown",
      "metadata": {},
      "source": [
        "`-` 홀수/짝수를 판별하는 함수 만들기 2"
      ],
      "id": "85782239-151d-4099-aa7b-5694749d162a"
    },
    {
      "cell_type": "code",
      "execution_count": 41,
      "metadata": {
        "vscode": {
          "languageId": "python"
        }
      },
      "outputs": [],
      "source": [
        "def test(a):\n",
        "    return 'even' if a%2 ==0 else 'odd'"
      ],
      "id": "afcfd2d0-2df4-4c23-8dfe-d9d7961ca318"
    },
    {
      "cell_type": "code",
      "execution_count": 42,
      "metadata": {
        "vscode": {
          "languageId": "python"
        }
      },
      "outputs": [],
      "source": [
        "test(3)"
      ],
      "id": "6f704ec7-2bf7-436c-b4c9-b45b237053ee"
    },
    {
      "cell_type": "code",
      "execution_count": 43,
      "metadata": {
        "vscode": {
          "languageId": "python"
        }
      },
      "outputs": [],
      "source": [
        "[test(a) for a in range(1,11)]"
      ],
      "id": "9d9f6ebb-28e1-4bf4-93c8-88ba40281c4d"
    },
    {
      "cell_type": "markdown",
      "metadata": {},
      "source": [
        "# len함수\n",
        "\n",
        "`-` 0차원 자료형은 len함수가 동작하지 않음"
      ],
      "id": "7e034dd4-ec83-4818-83ae-f5047b3e5859"
    },
    {
      "cell_type": "code",
      "execution_count": 44,
      "metadata": {
        "vscode": {
          "languageId": "python"
        }
      },
      "outputs": [],
      "source": [
        "a=1 \n",
        "len(a)"
      ],
      "id": "a08d5835-d3c2-4f4d-a280-8b061591881b"
    },
    {
      "cell_type": "code",
      "execution_count": 45,
      "metadata": {
        "vscode": {
          "languageId": "python"
        }
      },
      "outputs": [],
      "source": [
        "a=True\n",
        "len(a)"
      ],
      "id": "8c73a184-eb11-4803-99fb-c9b3a8801798"
    },
    {
      "cell_type": "code",
      "execution_count": 46,
      "metadata": {
        "vscode": {
          "languageId": "python"
        }
      },
      "outputs": [],
      "source": [
        "a=3.14\n",
        "len(a)"
      ],
      "id": "20571e9b-6bb5-40c0-8100-18d39e75a31b"
    },
    {
      "cell_type": "markdown",
      "metadata": {},
      "source": [
        "> note: 이것이 어떠한 수학적인 의미를 가지거나 0차원의 본질적진리를\n",
        "> 뜻하는 것은 아님. R에서는 1,3.14,TRUE의 길이가 1로 존재함.\n",
        "\n",
        "`-` 1차원 자료형은 len함수가 동작"
      ],
      "id": "a34a69de-12c1-4923-8763-849fce4f6c8d"
    },
    {
      "cell_type": "code",
      "execution_count": 47,
      "metadata": {
        "vscode": {
          "languageId": "python"
        }
      },
      "outputs": [],
      "source": [
        "a='guebin'\n",
        "len(a)"
      ],
      "id": "2f10d555-f461-4b15-ab09-5c4b5a9228bd"
    },
    {
      "cell_type": "code",
      "execution_count": 48,
      "metadata": {
        "vscode": {
          "languageId": "python"
        }
      },
      "outputs": [],
      "source": [
        "a=[1,2,3,4,5,6]\n",
        "len(a)"
      ],
      "id": "9582025c-ba32-41be-8189-e0737928f934"
    },
    {
      "cell_type": "code",
      "execution_count": 49,
      "metadata": {
        "vscode": {
          "languageId": "python"
        }
      },
      "outputs": [],
      "source": [
        "a=1,2,3,4,5,6 \n",
        "len(a)"
      ],
      "id": "635deeca-7c45-414c-8c8e-c241909bd651"
    },
    {
      "cell_type": "code",
      "execution_count": 50,
      "metadata": {
        "vscode": {
          "languageId": "python"
        }
      },
      "outputs": [],
      "source": [
        "a=range(10)\n",
        "len(a)"
      ],
      "id": "210c3a9b-1837-4f59-83da-c4bb371195b7"
    },
    {
      "cell_type": "markdown",
      "metadata": {},
      "source": [
        "`-` 길이가 1인 1차원 자료형과 0차원 자료형은 다른것임"
      ],
      "id": "f333a407-d78d-492f-bd81-07b9a4b8cb24"
    },
    {
      "cell_type": "code",
      "execution_count": 51,
      "metadata": {
        "vscode": {
          "languageId": "python"
        }
      },
      "outputs": [],
      "source": [
        "a='g'\n",
        "len(a)"
      ],
      "id": "fd4067fe-1319-4a54-a1a2-65a4f4099beb"
    },
    {
      "cell_type": "code",
      "execution_count": 52,
      "metadata": {
        "vscode": {
          "languageId": "python"
        }
      },
      "outputs": [],
      "source": [
        "a=[1] \n",
        "len(a)"
      ],
      "id": "dc7fdc25-b5fb-49dc-82ed-50768f58179c"
    },
    {
      "cell_type": "code",
      "execution_count": 53,
      "metadata": {
        "vscode": {
          "languageId": "python"
        }
      },
      "outputs": [],
      "source": [
        "a=(1,)\n",
        "len(a)"
      ],
      "id": "d9d22c90-bf62-4036-9398-c3ed78a21e0d"
    },
    {
      "cell_type": "code",
      "execution_count": 54,
      "metadata": {
        "vscode": {
          "languageId": "python"
        }
      },
      "outputs": [],
      "source": [
        "a=range(1)\n",
        "len(a)"
      ],
      "id": "ce0b2577-d2ae-4a37-8bdb-b7eeb7a976f6"
    },
    {
      "cell_type": "markdown",
      "metadata": {},
      "source": [
        "`-` 길이가 0인 1차원 자료형도 존재함"
      ],
      "id": "832c7e9f-f2ab-4704-b00b-be1f7404b559"
    },
    {
      "cell_type": "code",
      "execution_count": 55,
      "metadata": {
        "vscode": {
          "languageId": "python"
        }
      },
      "outputs": [],
      "source": [
        "a=''\n",
        "len(a)"
      ],
      "id": "956cdeff-c08a-4465-9e0d-429b9542604c"
    },
    {
      "cell_type": "code",
      "execution_count": 56,
      "metadata": {
        "vscode": {
          "languageId": "python"
        }
      },
      "outputs": [],
      "source": [
        "a=[]\n",
        "len(a)"
      ],
      "id": "dfb2f9fd-e886-4f8a-abf4-a5061d2240a9"
    },
    {
      "cell_type": "code",
      "execution_count": 57,
      "metadata": {
        "vscode": {
          "languageId": "python"
        }
      },
      "outputs": [],
      "source": [
        "a=()\n",
        "len(a)"
      ],
      "id": "aff51d73-91e8-4092-9e2e-44f575e37ba5"
    },
    {
      "cell_type": "code",
      "execution_count": 58,
      "metadata": {
        "vscode": {
          "languageId": "python"
        }
      },
      "outputs": [],
      "source": [
        "a=range(0)\n",
        "len(a)"
      ],
      "id": "e3749f6b-4ea5-41f9-a2d6-d2acbf0ede2a"
    },
    {
      "cell_type": "markdown",
      "metadata": {},
      "source": [
        "# str, list, tuple 비교\n",
        "\n",
        "`-` str, list, tuple은 모두 시퀀스형이라는 공통점이 있다. $\\to$ 원소의\n",
        "위치번호로 인덱싱이 가능"
      ],
      "id": "62789030-a299-4918-a160-ab8601841af6"
    },
    {
      "cell_type": "code",
      "execution_count": 59,
      "metadata": {
        "vscode": {
          "languageId": "python"
        }
      },
      "outputs": [],
      "source": [
        "lst = [1,2,3,4]"
      ],
      "id": "e0832c48-4d06-4058-95cf-6595e19fc312"
    },
    {
      "cell_type": "code",
      "execution_count": 60,
      "metadata": {
        "vscode": {
          "languageId": "python"
        }
      },
      "outputs": [],
      "source": [
        "lst[0] # 위치번호=0"
      ],
      "id": "60217608-c2cb-43ad-b37a-7c16cf259a89"
    },
    {
      "cell_type": "code",
      "execution_count": 61,
      "metadata": {
        "vscode": {
          "languageId": "python"
        }
      },
      "outputs": [],
      "source": [
        "lst[-1] # 위치번호=-1"
      ],
      "id": "602685e6-dde2-4c6a-bbf1-0b0b47fbf9e1"
    },
    {
      "cell_type": "markdown",
      "metadata": {},
      "source": [
        "`-` str, list, tuple은 차이점도 존재함. 잠깐 정리해보자.\n",
        "\n",
        "***시퀀스형의 카테고리***\n",
        "\n",
        "-   컨테니어형: list, tuple\n",
        "-   균일형: str\n",
        "-   가변형: list\n",
        "-   불변형: tuple, str\n",
        "\n",
        "***표로 정리하면***\n",
        "\n",
        "|        | 컨테니어형 | 균일형 |\n",
        "|:------:|:----------:|:------:|\n",
        "| 가변형 |    list    |   .    |\n",
        "| 불변형 |   tuple    |  str   |\n",
        "\n",
        "`-` 시퀀스형이 아닌 1차원 자료형도 있을까? (이원소의 위치번호로 인덱싱이\n",
        "불가능한 자료형\n",
        "\n",
        "# Quiz1\n",
        "\n",
        "`1`. 길이가 0인 리스트를 만들어라. (비어있는 리스트를 만들어라)\n",
        "\n",
        "`2`. 다음의 실행값 중 가장 큰 숫자가 나오는 보기를 골라라. (에러가 나는\n",
        "코드는 정답에서 제외함)\n",
        "\n",
        "``` python\n",
        "(a) len(3.14) \n",
        "(b) len([3.14]) \n",
        "(c) len('3.14') \n",
        "```\n",
        "\n",
        "`3`. 리스트자료형의 `+`와 `*` 연산을 이용하여 아래와 같은 list를\n",
        "생성하라."
      ],
      "id": "d3b294c3-f58d-4d71-b4de-077124b3bfae"
    },
    {
      "cell_type": "code",
      "execution_count": 30,
      "metadata": {},
      "outputs": [],
      "source": [
        "[1, 2, 2, 3, 3, 3, 4, 4, 4, 4, 5, 5, 5, 5, 5]"
      ],
      "id": "3305fd2d-40da-4460-a78d-056516fe7a18"
    },
    {
      "cell_type": "markdown",
      "metadata": {},
      "source": [
        "**hint:** 아래의 코드를 관찰해보세요"
      ],
      "id": "ffd828ea-7065-4bf7-880e-649f414c197a"
    },
    {
      "cell_type": "code",
      "execution_count": 10,
      "metadata": {},
      "outputs": [],
      "source": [
        "[1]*1+[2]*2 "
      ],
      "id": "91ffebea-c2ac-4a39-80df-7267b72b9c24"
    },
    {
      "cell_type": "markdown",
      "metadata": {},
      "source": [
        "------------------------------------------------------------------------\n",
        "\n",
        "`4`. 아래의 코드를 관찰하고, `sum()`의 기능을 유추하라."
      ],
      "id": "7da1e510-6c44-461e-a6d1-41334f3436a5"
    },
    {
      "cell_type": "code",
      "execution_count": 252,
      "metadata": {},
      "outputs": [],
      "source": [
        "sum([1,0,1,0])"
      ],
      "id": "f91d0d97-676c-4902-a265-073a3137dfe1"
    },
    {
      "cell_type": "code",
      "execution_count": 253,
      "metadata": {},
      "outputs": [],
      "source": [
        "sum([True,False,True,False])"
      ],
      "id": "ea61ad11-8ce8-48c0-8ac1-baaf0f0c6e71"
    },
    {
      "cell_type": "markdown",
      "metadata": {},
      "source": [
        "`5`. 다음과 같은 리스트를 고려하자."
      ],
      "id": "a2870e0e-1a04-4846-9a7c-eeb816a9acd9"
    },
    {
      "cell_type": "code",
      "execution_count": 77,
      "metadata": {},
      "outputs": [],
      "source": [
        "x = [80,60,80,90,55,85,95,100,35,70,75,65,95]\n",
        "x"
      ],
      "id": "92b21593-6a9c-4cb2-a04e-ffc9c58496e0"
    },
    {
      "cell_type": "markdown",
      "metadata": {},
      "source": [
        "이를 수식으로 표현하면 아래와 같다.\n",
        "\n",
        "${\\bf x} = [x_1,\\dots,x_{13}]=[80,60,80,90,55,85,95,100,35,70,75,65,95]$\n",
        "\n",
        "리스트의 원소중 “$x_i>80$” 의 조건을 만족하는 원소는 모두 몇개인가?\n",
        "\n",
        "**hint:** 리스트컴프리헨션과 `sum()`함수를 이용할 것\n",
        "\n",
        "------------------------------------------------------------------------\n",
        "\n",
        "`6`. 다음과 같은 리스트를 고려하자."
      ],
      "id": "322f6cd1-07e8-4255-99df-fcfc46ab1806"
    },
    {
      "cell_type": "code",
      "execution_count": 72,
      "metadata": {},
      "outputs": [],
      "source": [
        "['A','B','C','D','A','A','B','A','F','C','C','C','A']"
      ],
      "id": "3a4dcc48-c34f-4772-85af-c2c9685b3c03"
    },
    {
      "cell_type": "markdown",
      "metadata": {},
      "source": [
        "이 리스트에서 ‘A’ 혹은 ’B’의 숫자는 모두 몇개인가?\n",
        "\n",
        "**hint:** 아래를 관찰"
      ],
      "id": "b4aedca4-6829-418c-b4fc-940b431e7167"
    },
    {
      "cell_type": "code",
      "execution_count": 259,
      "metadata": {},
      "outputs": [],
      "source": [
        "'A' < 'C'"
      ],
      "id": "2721ecf1-d7e6-40c6-b3e5-2900a6d872db"
    },
    {
      "cell_type": "code",
      "execution_count": 10,
      "metadata": {},
      "outputs": [],
      "source": [
        "'B' < 'C'"
      ],
      "id": "b7e72a16-18f3-4528-a18d-8471dbb8a3ca"
    },
    {
      "cell_type": "markdown",
      "metadata": {},
      "source": [
        "`7`. 아래와 같은 리스트가 있다고 하자.\n",
        "\n",
        "${\\bf x} = [1,2,1,5,6,2,4,7]$\n",
        "\n",
        "${\\bf y} = [3,2,4,1,2,5,6,7]$\n",
        "\n",
        "이러한 벡터를 파이썬에서 표현하기 위해서 아래와 같은 리스트를 만들었다고\n",
        "하자."
      ],
      "id": "eb2e3261-df8c-4943-ac27-c06e37c4d6f5"
    },
    {
      "cell_type": "code",
      "execution_count": 69,
      "metadata": {},
      "outputs": [],
      "source": [
        "x=[1,2,1,5,6,2,4,7]\n",
        "y=[3,2,4,1,2,5,6,7] "
      ],
      "id": "abaa463a-a2fe-4430-8e44-5e6376903088"
    },
    {
      "cell_type": "markdown",
      "metadata": {},
      "source": [
        "리스트컴프리헨션을 이용하여\n",
        "\n",
        "$${\\bf z}=[x_1^2+y_1^2, \\dots, x_{8}^2+y_{8}^2]=[x_i^2+y_i^2: \\text{for $i = 1,2,3,\\dots,8$}]$$\n",
        "\n",
        "와 같은 리스트를 생성하라.\n",
        "\n",
        "`8`. 아래와 같은 문자열이 있다고 하자."
      ],
      "id": "22893a69-a444-4d52-b47d-683b2ed9cae5"
    },
    {
      "cell_type": "code",
      "execution_count": 64,
      "metadata": {},
      "outputs": [],
      "source": [
        "test_arr = 'ssh-rsa AAAAB3NzaC1yc2EAAAABIwAAAQEAklOUpkDHrfHY17SbrmTIpNLTGK9Tjom/BWDSUGPl+nafzlHDTYW7hdI4yZ5ew18JH4JW9jbhUFrviQzM7xlELEVf4h9lFX5QVkbPppSwg0cda3Pbv7kOdJ/MTyBlWXFCR+HAo3FXRitBqxiX1nKhXpHAZsMciLq8V6RjsNAQwdsdMFvSlVK/7XAt3FaoJoAsncM1Q9x5+3V0Ww68/eIFmb1zuUFljQJKprrX88XypNDvjYNby6vw/Pb0rwert/EnmZ+AW4OZPnTPI89ZPmVMLuayrD2cE86Z/il8b+gw3r3+1nKatmIkjn2so1d01QraTlMqVSsbxNrRFi9wrf+M7Q== schacon@mylaptop.local'"
      ],
      "id": "20f640a7-2a14-4704-aef2-53afc1f62666"
    },
    {
      "cell_type": "markdown",
      "metadata": {},
      "source": [
        "이 문자열에서 대문자의 수를 count하라.\n",
        "\n",
        "`9`. 리스트컴프리헨션을 이용하여 아래와 같은 리스트를 생성하라.\n",
        "\n",
        "    ['a',\n",
        "     'aa',\n",
        "     'aaa',\n",
        "     'aaaa',\n",
        "     'aaaaa',\n",
        "     'aaaaaa',\n",
        "     'aaaaaaa',\n",
        "     'aaaaaaaa',\n",
        "     'aaaaaaaaa',\n",
        "     'aaaaaaaaaa'] <- a가 10개있음\n",
        "\n",
        "`10`. 아래와 같은 list가 있다고 하자."
      ],
      "id": "f6e52d8f-8b63-4b23-b227-8fc68b018635"
    },
    {
      "cell_type": "code",
      "execution_count": 60,
      "metadata": {},
      "outputs": [],
      "source": [
        "test_lst = [['g',1],['u',5],['e',2],['b',8],['i',2],['n',9]]"
      ],
      "id": "30bc54ca-3edb-4af7-ab57-51875663c8cb"
    },
    {
      "cell_type": "markdown",
      "metadata": {},
      "source": [
        "`test_lst`와 리스트컴프리헨션을 이용하여 아래를 출력하는 코드를\n",
        "구현하라. (2022년 파이썬입문 중간고사 1-(9) 참고)"
      ],
      "id": "57ffd343-0488-4602-8461-d6399ce1f94d"
    },
    {
      "cell_type": "code",
      "execution_count": 7,
      "metadata": {},
      "outputs": [],
      "source": [
        "['g', 'uuuuu', 'ee', 'bbbbbbbb', 'ii', 'nnnnnnnnn']"
      ],
      "id": "84819bf0-8e60-40bd-b53b-4239da377090"
    },
    {
      "cell_type": "markdown",
      "metadata": {},
      "source": [
        "`11`. 아래와 같은 list를 생성하라.\n",
        "\n",
        "``` python\n",
        "[1,2,2,3,3,3]\n",
        "```\n",
        "\n",
        "`12`. 아래와 같은 리스트를 관찰하라."
      ],
      "id": "e7027444-b251-4d2a-9afc-15981f6367f3"
    },
    {
      "cell_type": "code",
      "execution_count": 8,
      "metadata": {},
      "outputs": [],
      "source": [
        "lst = ['2022/09/21','2022/10/30','2022/12/25','2023/01/01','2023/01/31','2023/03/20']"
      ],
      "id": "c9fe85fb-ff02-46ed-abce-b906bce091a9"
    },
    {
      "cell_type": "markdown",
      "metadata": {},
      "source": [
        "이러한 리스트를 아래와 같은 리스트로 변환하는 코드를 작성하라."
      ],
      "id": "cd1b2154-ec69-4cba-8094-70b22c1bdf68"
    },
    {
      "cell_type": "code",
      "execution_count": 9,
      "metadata": {},
      "outputs": [],
      "source": [
        "['2022-09-21', '2022-10-30', '2022-12-25', '2023-01-01', '2023-01-31', '2023-03-20']"
      ],
      "id": "818a4815-8e46-450d-ac44-ffa79ad9ffe3"
    },
    {
      "cell_type": "markdown",
      "metadata": {},
      "source": [
        "**hint: string의 `.replace()`기능과 리스트 컴프리헨션의 응용**\n",
        "\n",
        "`13`. 아래와 같은 문자열을 고려하라."
      ],
      "id": "95dc563b-c135-487e-a2be-0ba7c48bbe97"
    },
    {
      "cell_type": "code",
      "execution_count": 165,
      "metadata": {},
      "outputs": [],
      "source": [
        "'2021. 01. 05.'"
      ],
      "id": "f9ae25b4-7d90-49d6-b311-417bbb806054"
    },
    {
      "cell_type": "markdown",
      "metadata": {},
      "source": [
        "띄어쓰기를 제거하는 코드를 구현하라. 즉 출력결과가 아래와 같도록 만드는\n",
        "코드를 구현하라."
      ],
      "id": "b815f5c9-a61d-48c6-8656-c00b168d79e0"
    },
    {
      "cell_type": "code",
      "execution_count": 166,
      "metadata": {},
      "outputs": [],
      "source": [
        "'2021.01.05'"
      ],
      "id": "9f0ea99f-1e34-4d5f-8803-65b258108dd4"
    },
    {
      "cell_type": "markdown",
      "metadata": {},
      "source": [
        "**hint**: 아래코드 관찰"
      ],
      "id": "baca9609-636f-48ca-a423-3454e7c16b2e"
    },
    {
      "cell_type": "code",
      "execution_count": 167,
      "metadata": {},
      "outputs": [],
      "source": [
        "'asdf'.replace('a','')"
      ],
      "id": "75cc08d3-6a4f-4af1-8db3-2e1f08bb2921"
    },
    {
      "cell_type": "markdown",
      "metadata": {},
      "source": [
        "------------------------------------------------------------------------\n",
        "\n",
        "`14`. 아래의 코드를 관찰하라."
      ],
      "id": "d296fd9d-4baa-40e9-835e-e9ffdc46a251"
    },
    {
      "cell_type": "code",
      "execution_count": 168,
      "metadata": {},
      "outputs": [],
      "source": [
        "'-'.join(['2022','01','05'])"
      ],
      "id": "81f10cb9-6734-44d7-a952-abb02842688d"
    },
    {
      "cell_type": "code",
      "execution_count": 169,
      "metadata": {},
      "outputs": [],
      "source": [
        "'.'.join(['2022','01','05'])"
      ],
      "id": "cf428647-5d45-44e8-a8fb-3b81ac412b6d"
    },
    {
      "cell_type": "markdown",
      "metadata": {},
      "source": [
        "ChatGPT를 이용하여 이 코드가 의미하는 내용을 유추하라.\n",
        "\n",
        "`15`. 아래와 같이 하나의 특수문자로 이루어진 리스트를 고려하자."
      ],
      "id": "3c668c8b-83a6-4e0e-8fb0-ecc3f62e7145"
    },
    {
      "cell_type": "code",
      "execution_count": 54,
      "metadata": {},
      "outputs": [],
      "source": [
        "block = ['■'] "
      ],
      "id": "37b0f100-0b2c-415d-901d-2597843afc7f"
    },
    {
      "cell_type": "markdown",
      "metadata": {},
      "source": [
        "이를 이용하여 아래와 같은 결과를 출력하라."
      ],
      "id": "e060f2e3-4129-4a8a-9c88-0cb3a3067923"
    },
    {
      "cell_type": "code",
      "execution_count": 55,
      "metadata": {},
      "outputs": [],
      "source": [
        "'■-■-■-■-■-■-■-■-■-■' # 여기에서 '■'는 모두 10개 있음"
      ],
      "id": "41bde628-7ab3-414c-81fa-6eb4131b924c"
    },
    {
      "cell_type": "markdown",
      "metadata": {},
      "source": [
        "**hint:** join을 이용할 것\n",
        "\n",
        "`16`. 아래의 실행결과를 되돌리는 코드를 작성하라."
      ],
      "id": "05876e7d-52c0-44fd-a596-8f437b676bc9"
    },
    {
      "cell_type": "code",
      "execution_count": 15,
      "metadata": {},
      "outputs": [],
      "source": [
        "'2023-03-22'.split('-')"
      ],
      "id": "63b7971d-2f7a-4faa-bd9a-909c6f65cb59"
    },
    {
      "cell_type": "markdown",
      "metadata": {},
      "source": [
        "즉 아래와 같은 리스트를"
      ],
      "id": "d52227fe-4d67-4a7c-a58b-e26620b45cf9"
    },
    {
      "cell_type": "code",
      "execution_count": 12,
      "metadata": {},
      "outputs": [],
      "source": [
        "['2023', '03', '22']"
      ],
      "id": "572c3450-13e5-4bd0-95e6-24e8d1818dc1"
    },
    {
      "cell_type": "markdown",
      "metadata": {},
      "source": [
        "아래의 string으로 바꾸는 코드를 작성하라."
      ],
      "id": "9290b0c4-89b6-47e7-9ebb-de950092eb90"
    },
    {
      "cell_type": "code",
      "execution_count": 14,
      "metadata": {},
      "outputs": [],
      "source": [
        "'2023-03-22'"
      ],
      "id": "0d16159a-d6ae-463a-a002-20d063a09896"
    },
    {
      "cell_type": "markdown",
      "metadata": {},
      "source": [
        "**hint:** join을 이용할 것\n",
        "\n",
        "------------------------------------------------------------------------\n",
        "\n",
        "`17`. 길이가 1인 튜플을 만들어 자신의 학번을 저장하라. 길이가 1인 튜플을\n",
        "만들어 자신의 영문이름을 저장하라. 두 튜플을 + 연산자로 합쳐아래와 같은\n",
        "출력결과를 얻어라. 최종 결과는 예를들면 아래와 같아야 한다."
      ],
      "id": "e3380fb0-2170-4601-a266-669ed6a76c01"
    },
    {
      "cell_type": "code",
      "execution_count": 77,
      "metadata": {},
      "outputs": [],
      "source": [
        "('2021-43052', 'GuebinChoi')"
      ],
      "id": "dce16cc8-1155-4c66-bd15-e8014489f0c7"
    },
    {
      "cell_type": "markdown",
      "metadata": {},
      "source": [
        "------------------------------------------------------------------------\n",
        "\n",
        "아래는 파이썬프로그래밍 수강생들의 학번, 이름, 출석점수, 과제점수,\n",
        "중간고사점수, 기말고사점수를 저장한 중첩리스트이다."
      ],
      "id": "e7d8b05b-3905-485b-804e-5ce2c7844cdf"
    },
    {
      "cell_type": "code",
      "execution_count": 3,
      "metadata": {},
      "outputs": [],
      "source": [
        "lst = [['2021-43052', 'GuebinChoi', 5, 10, 20, 25],\n",
        "       ['2019-12342', 'Heung-min Son', 10, 15, 30, 15],\n",
        "       ['2018-32234', 'hynn', 7, 20, 30, 15],\n",
        "       ['2022-42323', 'Minji', 8, 20, 20, 35],\n",
        "       ['2023-55342', 'Hanni', 7, 20, 30, 35],\n",
        "       ['2022-46624', 'Danielle', 3, 15, 30, 40],\n",
        "       ['2022-11239', 'Haerin', 10, 20, 30, 40],\n",
        "       ['2022-32114', 'Hyein', 10, 20, 20, 35]]\n",
        "lst "
      ],
      "id": "b97e3e6a-b848-463a-8733-33b22cbdb995"
    },
    {
      "cell_type": "markdown",
      "metadata": {},
      "source": [
        "`18`. 파이썬프로그래밍 수강생의 수는 모두 몇명인가?\n",
        "\n",
        "`19`. 전북대학교 지침에 따라 출석점수가 7보다 작은 학생은 (즉\n",
        "`출석점수 < 7` 일 경우) F학점을 부여하게 되어있다. 이 기준에 따르면 F를\n",
        "받는 학생은 모두 몇명인가?\n",
        "\n",
        "`20`. 파이썬프로그래밍 수업의 경우 `출석+레포트 < 21` 일 경우 F학점을\n",
        "부여한다고 한다. 이 기준에 따르면 F를 받는 학생은 모두 몇명인가?\n",
        "\n",
        "`21`. 리스트의 정렬순서를 \\[학번, 이름, …, 기말고사점수\\] 가 아니라\n",
        "\\[이름, 학번, … , 기말고사점수\\] 와 같이 되도록 변경하는 코드를\n",
        "작성하라.\n",
        "\n",
        "(출력예시)"
      ],
      "id": "d0c33967-4e48-4107-9601-a4f1bebe8d8f"
    },
    {
      "cell_type": "code",
      "execution_count": 22,
      "metadata": {},
      "outputs": [],
      "source": [
        "[[name,studentid,*rest] for studentid, name, *rest in lst]"
      ],
      "id": "f70de76f-162f-4352-bb23-53a97754f4ea"
    },
    {
      "cell_type": "markdown",
      "metadata": {},
      "source": [
        "------------------------------------------------------------------------\n",
        "\n",
        "다음은 인터넷에서 긁어온 어떠한 텍스트이다."
      ],
      "id": "57a7e65c-95d5-4d21-a3cf-602ec6487858"
    },
    {
      "cell_type": "code",
      "execution_count": 24,
      "metadata": {},
      "outputs": [],
      "source": [
        "text = \"국내뿐 아니라 해외 인기도 심상치 않다. 2023년 1월 18일 'Ditto'가 빌보드 핫 100에 96위로 진입했다. 이는 K-pop 역사상 데뷔후 최단 빌보드 Hot 100 차트 입성 기록이다. 다른 뮤지션들이 보통 데뷔 후 수년간 쌓아온 팬덤을 기반으로 빌보드에 입성한데 비해, 뉴진스의 기록은 이례적인 것으로 평가받고 있다. 또한 'OMG'가 빌보드 핫 100에 91위로 진입한 동시에 'Ditto'는 85위로 순위가 상승, 핫 100 주간차트에 두 곡을 올려놓았다. K-Pop 역사상 이 차트에 두 곡 이상을 진입시킨 아티스트는 방탄소년단과 블랙핑크가 유일하다. 'Ditto'는 1월 셋째주 기준, 빌보드뿐만 아니라 영국 오피셜 싱글 차트 '톱 100'에 2주 연속 진입하기도 했다.\""
      ],
      "id": "1b29c7b2-230c-476d-898b-f02d6586b195"
    },
    {
      "cell_type": "markdown",
      "metadata": {},
      "source": [
        "`22`. text는 총 몇개의 문장으로 이루어져 있는가?\n",
        "\n",
        "**hint:** 이 텍스트의 문장은 모두 `.`로 끝난다.\n",
        "\n",
        "`23`. 각 문장은 몇개의 단어로 이루어져 있는가?\n",
        "\n",
        "**hint:** 각 단어는 공백으로 구분된다.\n",
        "\n",
        "`24`. `100`이라는 단어가 포함된 문장은 모두 몇 개 인가?\n",
        "\n",
        "**hint:** 아래의 코드를 관찰"
      ],
      "id": "f7b143e8-623f-4414-9378-bf9dca8fdb05"
    },
    {
      "cell_type": "code",
      "execution_count": 61,
      "metadata": {},
      "outputs": [],
      "source": [
        "'a' in 'abcd'"
      ],
      "id": "a56a4b50-c331-4e0c-971b-49d061a05c39"
    },
    {
      "cell_type": "markdown",
      "metadata": {},
      "source": [
        "# Quiz2\n",
        "\n",
        "`ssh코드`: 1-2\n",
        "\n",
        "아래의 문자열을 고려하자."
      ],
      "id": "8b340976-3729-4bb3-a442-e53cd4db2f28"
    },
    {
      "cell_type": "code",
      "execution_count": null,
      "metadata": {
        "vscode": {
          "languageId": "python"
        }
      },
      "outputs": [],
      "source": [
        "test_arr = 'ssh-rsa AAAAB3NzaC1yc2EAAAABIwAAAQEAklOUpkDHrfHY17SbrmTIpNLTGK9Tjom/BWDSUGPl+nafzlHDTYW7hdI4yZ5ew18JH4JW9jbhUFrviQzM7xlELEVf4h9lFX5QVkbPppSwg0cda3Pbv7kOdJ/MTyBlWXFCR+HAo3FXRitBqxiX1nKhXpHAZsMciLq8V6RjsNAQwdsdMFvSlVK/7XAt3FaoJoAsncM1Q9x5+3V0Ww68/eIFmb1zuUFljQJKprrX88XypNDvjYNby6vw/Pb0rwert/EnmZ+AW4OZPnTPI89ZPmVMLuayrD2cE86Z/il8b+gw3r3+1nKatmIkjn2so1d01QraTlMqVSsbxNrRFi9wrf+M7Q== schacon@mylaptop.local'"
      ],
      "id": "ecde855e"
    },
    {
      "cell_type": "markdown",
      "metadata": {},
      "source": [
        "`1`. 이 문자열에서 `index = 0,2,4,6,8,...` 에 해당하는 원소를 출력하는\n",
        "코드를 작성하라."
      ],
      "id": "8ad1dda6-71db-4b66-92ad-db79526e0bd8"
    },
    {
      "cell_type": "code",
      "execution_count": null,
      "metadata": {
        "vscode": {
          "languageId": "python"
        }
      },
      "outputs": [],
      "source": [
        "# 출력결과는 아래와 같아야 한다. "
      ],
      "id": "d56f5646"
    },
    {
      "cell_type": "markdown",
      "metadata": {},
      "source": [
        "`2`. 위 문자열을 뒤집은 문자열을 구하는 코드를 구현하라."
      ],
      "id": "a8a20bb7-0910-4229-8d82-4cd8789be8f2"
    },
    {
      "cell_type": "code",
      "execution_count": null,
      "metadata": {
        "vscode": {
          "languageId": "python"
        }
      },
      "outputs": [],
      "source": [
        "# 출력결과는 아래와 같아야 한다. "
      ],
      "id": "e590f7f4"
    },
    {
      "cell_type": "markdown",
      "metadata": {},
      "source": [
        "------------------------------------------------------------------------\n",
        "\n",
        "`파이썬 프로그래밍 시험성적`: 3-4\n",
        "\n",
        "아래와 같은 dictionary가 있다고 가정하자."
      ],
      "id": "c44e5bf3-9f0b-4883-97d9-5657870c21fb"
    },
    {
      "cell_type": "code",
      "execution_count": 3,
      "metadata": {
        "vscode": {
          "languageId": "python"
        }
      },
      "outputs": [],
      "source": [
        "dct={'202212377': {'att': 65, 'rep': 45, 'mid': 0, 'fin': 10},\n",
        "     '202212473': {'att': 95, 'rep': 30, 'mid': 60, 'fin': 10},\n",
        "     '202212310': {'att': 65, 'rep': 85, 'mid': 15, 'fin': 20},\n",
        "     '202212460': {'att': 55, 'rep': 35, 'mid': 35, 'fin': 5},\n",
        "     '202212320': {'att': 80, 'rep': 60, 'mid': 55, 'fin': 70},\n",
        "     '202212329': {'att': 75, 'rep': 40, 'mid': 75, 'fin': 85},\n",
        "     '202212408': {'att': 65, 'rep': 70, 'mid': 60, 'fin': 75},\n",
        "     '202212319': {'att': 60, 'rep': 25, 'mid': 20, 'fin': 35},\n",
        "     '202212348': {'att': 95, 'rep': 55, 'mid': 65, 'fin': 90},\n",
        "     '202212306': {'att': 90, 'rep': 25, 'mid': 95, 'fin': 50},\n",
        "     '202212308': {'att': 55, 'rep': 45, 'mid': 75, 'fin': 30},\n",
        "     '202212366': {'att': 95, 'rep': 60, 'mid': 25, 'fin': 55},\n",
        "     '202212367': {'att': 95, 'rep': 35, 'mid': 0, 'fin': 25},\n",
        "     '202212461': {'att': 50, 'rep': 55, 'mid': 90, 'fin': 45}}"
      ],
      "id": "5a7a2222"
    },
    {
      "cell_type": "markdown",
      "metadata": {},
      "source": [
        "여기에서 ‘202212377’ 등은 학번을, att는 출석점수, rep는 레포트점수,\n",
        "mid는 중간고사 점수, fin은 기말고사 점수를 의미한다.\n",
        "\n",
        "`3`. 학생들의 학번을 아래와 같은 방식으로 출력하는 코드를 작성하라."
      ],
      "id": "6dc49c03-6cba-4356-b7cb-1c12ad7647a9"
    },
    {
      "cell_type": "code",
      "execution_count": 5,
      "metadata": {
        "vscode": {
          "languageId": "python"
        }
      },
      "outputs": [],
      "source": [
        "# 출력예시"
      ],
      "id": "b0bb4190"
    },
    {
      "cell_type": "markdown",
      "metadata": {},
      "source": [
        "`4`. 출석점수가 70점 이상인(`>=70`) 학생들의 학번을 출력하는 코드를\n",
        "작성하라."
      ],
      "id": "3d4727a8-0e7e-4ad7-a933-499bf8611a75"
    },
    {
      "cell_type": "code",
      "execution_count": null,
      "metadata": {
        "vscode": {
          "languageId": "python"
        }
      },
      "outputs": [],
      "source": [
        "# 출력예시 "
      ],
      "id": "8b0aa306"
    },
    {
      "cell_type": "markdown",
      "metadata": {},
      "source": [
        "------------------------------------------------------------------------\n",
        "\n",
        "`Oxford-III`: 5–10 //\n",
        "[reference](https://www.robots.ox.ac.uk/~vgg/data/pets/)\n",
        "\n",
        "아래는 이미지 파일명들이 저장된 string을 불러오는 코드이다."
      ],
      "id": "9a4fc569-41a3-4f59-b80e-f9d37a71602e"
    },
    {
      "cell_type": "code",
      "execution_count": null,
      "metadata": {
        "vscode": {
          "languageId": "python"
        }
      },
      "outputs": [],
      "source": [
        "import requests\n",
        "url = 'https://raw.githubusercontent.com/guebin/PP2023/main/posts/01_PythonBasic/Oxford-IIIT.txt'\n",
        "txt = requests.get(url).content.decode()"
      ],
      "id": "f209d7af"
    },
    {
      "cell_type": "markdown",
      "metadata": {},
      "source": [
        "txt의 출력 일부를 나타내면 아래와 같다.\n",
        "\n",
        "``` default\n",
        "'Abyssinian_1.jpg\\nAbyssinian_10.jpg\\nAbyssinian_100.jpg\\nAbyssinian_100.mat\\nAbyssinian_101.jpg\\nAbyssinian_101.mat\\nAbyssinian_102.jpg\\nAbyssinian_102.mat\\nAbyssinian_103.jpg\\nAbyssinian_104.jpg\\nAbyssinian_105.jpg\\nAbyssinian_106.jpg\\nAbyssinian_107.jpg\\nAbyssinian_108.jpg\\nAbyssinian_109.jpg\\nAbyssinian_11.jpg\\nAbyssinian_110.jpg\\nAbyssinian_111.jpg\\nAbyssinian_112.jpg\\nAbyssinian_113.jpg\\nAbyssinian_114.jpg\\nAbyssinian_115.jpg\\nAbyssinian_116.jpg\\nAbyssinian_117.jpg\\nAbyssinian_118.jpg\\nAbyssinian_119.jpg\\nAbyssinian_12.jpg\\nAbyssinian_120.jpg\\nAbyssinian_121.jpg\\nAbyssinian_122.jpg\\nAbyssinian_123.jpg\\nAbyssinian_124.jpg\\nAbyssinian_125.jpg\\nAbyssinian_126.jpg\\nAbyssinian_127.jpg\\nAbyssinian_128.jpg\\nAbyssinian_129.jpg\\nAbyssinian_13.jpg\\nAbyssinian_130.jpg\\nAbyssinian_131.jpg\\nAbyssinian_132.jpg\\n ....... \n",
        "```\n",
        "\n",
        "`5`. 각 파일명은 `\\n`으로 구분되어있다. 위의 스트링을 분해하여 아래와\n",
        "같은 리스트를 생성하고 `fname_list`에 저장하라.\n",
        "\n",
        "``` python\n",
        "# fname_list 의 출력결과는 아래와 같아야 한다. \n",
        "['Abyssinian_1.jpg','Abyssinian_10.jpg', ... ,'yorkshire_terrier_98.jpg', 'yorkshire_terrier_99.jpg']\n",
        "```\n",
        "\n",
        "`6`. 각 이미지파일명은 아래와 같은 규칙으로 저장되어 있다.\n",
        "\n",
        "-   파일명의 첫글자가 대문자이면 고양이를 의미하고 첫글자가 소문자이면\n",
        "    강아지를 의미한다.\n",
        "-   `_` 이전의 영문명은 고양이 혹은 강아지의 종(breed)을 의미한다.\n",
        "\n",
        "이미지 파일명이 입력으로 오면 강아지인지 고양이인지 판단하여 ‘cat’ or\n",
        "’dog’를 리턴하는 함수 `f`를 구현하라.\n",
        "\n",
        "(함수사용예시)"
      ],
      "id": "d785e5cb-95d1-4a63-b1b0-1ed3c26b9750"
    },
    {
      "cell_type": "code",
      "execution_count": null,
      "metadata": {
        "vscode": {
          "languageId": "python"
        }
      },
      "outputs": [],
      "source": [
        "f('yorkshire_terrier_99.jpg')"
      ],
      "id": "18392ac6"
    },
    {
      "cell_type": "code",
      "execution_count": null,
      "metadata": {
        "vscode": {
          "languageId": "python"
        }
      },
      "outputs": [],
      "source": [
        "f('Abyssinian_1.jpg')"
      ],
      "id": "7dc91635"
    },
    {
      "cell_type": "markdown",
      "metadata": {},
      "source": [
        "`7`. 5의 결과로 나온 `fname_list`를 입력으로 하고 리스트의 각 원소가\n",
        "고양이를 의미하는 그림인지 강아지를 의미하는 그림인지 나타내는 리스트를\n",
        "만들어라.\n",
        "\n",
        "``` python\n",
        "## 입력예시 \n",
        "['Abyssinian_1.jpg','Abyssinian_10.jpg',...,'yorkshire_terrier_98.jpg', 'yorkshire_terrier_99.jpg']\n",
        "\n",
        "## 출력예시\n",
        "['cat', 'cat', ... , 'dog', 'dog']\n",
        "```\n",
        "\n",
        "`8`. 강아지 그림과 고양이 그림이 각각 몇 장씩 포함되어 있는지 파악하는\n",
        "코드를 구현하라.\n",
        "\n",
        "**hint** 고양이 2403, 강아지 4990\n",
        "\n",
        "`9`. 포메라니안 종의 그림이 몇장있는지 파악하는 코드를 구현하라.\n",
        "\n",
        "**hint:** 포메라니안 그림은 파일명에 ‘pomeranian’ 을 포함한다."
      ],
      "id": "241bcdb4-f73f-494c-8d4c-6919b3d077b2"
    }
  ],
  "nbformat": 4,
  "nbformat_minor": 5,
  "metadata": {
    "kernelspec": {
      "name": "python3",
      "display_name": "Python 3 (ipykernel)",
      "language": "python"
    },
    "language_info": {
      "name": "python",
      "codemirror_mode": {
        "name": "ipython",
        "version": "3"
      },
      "file_extension": ".py",
      "mimetype": "text/x-python",
      "nbconvert_exporter": "python",
      "pygments_lexer": "ipython3",
      "version": "3.10.13"
    }
  }
}