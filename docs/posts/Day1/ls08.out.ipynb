{
  "cells": [
    {
      "cell_type": "markdown",
      "metadata": {},
      "source": [
        "# Lesson 08: pandas II\n",
        "\n",
        "최규빈  \n",
        "2023-07-24\n",
        "\n",
        "# Pandas: 기본기능\n",
        "\n",
        "## A. 열의 이름 변경\n",
        "\n",
        "`-` 방법1: `df.columns`에 대입"
      ],
      "id": "b9fd3a09-340b-490a-8660-0b34865f75a1"
    },
    {
      "cell_type": "code",
      "execution_count": 2,
      "metadata": {},
      "outputs": [],
      "source": [
        "df = pd.DataFrame(np.random.randn(3,2))\n",
        "df.columns = ['A','B']\n",
        "df"
      ],
      "id": "5acc1683-a473-4981-b871-8bf2f048daa5"
    },
    {
      "cell_type": "markdown",
      "metadata": {},
      "source": [
        "`-` 방법2: `df.set_axis()`"
      ],
      "id": "9f5672cc-5fbf-42e2-b729-fecda0cd1557"
    },
    {
      "cell_type": "code",
      "execution_count": 3,
      "metadata": {},
      "outputs": [],
      "source": [
        "df = pd.DataFrame(np.random.randn(3,2))\n",
        "df.set_axis(['A','B'],axis=1)"
      ],
      "id": "10c7aa6b-3cba-4e99-b1f3-bb0de2c8eb71"
    },
    {
      "cell_type": "markdown",
      "metadata": {},
      "source": [
        "`-` 방법3: `df.rename()`"
      ],
      "id": "b9007e84-d1df-4e4e-ae86-6e9ac1cb2b54"
    },
    {
      "cell_type": "code",
      "execution_count": 4,
      "metadata": {},
      "outputs": [],
      "source": [
        "df = pd.DataFrame(np.random.randn(3,2))\n",
        "#df.rename(columns={0:'AA',1:'BB'})\n",
        "df.rename({0:'AA',1:'BB'},axis=1)"
      ],
      "id": "a240febb-16ab-47ec-8e0a-a6dc4dbe0b2e"
    },
    {
      "cell_type": "markdown",
      "metadata": {},
      "source": [
        "## B. 행의 이름 변경\n",
        "\n",
        "`-` 방법1: `df.index`에 대입"
      ],
      "id": "1cce4f03-a29f-4dbf-b9bf-b4f36b0af2ee"
    },
    {
      "cell_type": "code",
      "execution_count": 5,
      "metadata": {},
      "outputs": [],
      "source": [
        "df = pd.DataFrame(np.random.randn(3,2))\n",
        "df"
      ],
      "id": "72cdfe7c-33d3-4a80-b513-5fea15ccaa7d"
    },
    {
      "cell_type": "code",
      "execution_count": 6,
      "metadata": {},
      "outputs": [],
      "source": [
        "df.index = ['guebin','jiyoon','boram']\n",
        "df"
      ],
      "id": "9c559d4a-ecb4-4c6e-91b6-194444170f00"
    },
    {
      "cell_type": "markdown",
      "metadata": {},
      "source": [
        "`-` 방법2: `df.set_axis()`"
      ],
      "id": "06a4c3ab-8718-43df-9222-17877544c013"
    },
    {
      "cell_type": "code",
      "execution_count": 7,
      "metadata": {},
      "outputs": [],
      "source": [
        "df = pd.DataFrame(np.random.randn(3,2))\n",
        "df.set_axis([11,22,33],axis=0)"
      ],
      "id": "207ff6e8-3c0a-4d24-9b4d-8c36c9bfb143"
    },
    {
      "cell_type": "markdown",
      "metadata": {},
      "source": [
        "`-` 방법3: `df.rename()`"
      ],
      "id": "8122cd94-01ed-4b91-8493-ad8d4cd2a68f"
    },
    {
      "cell_type": "code",
      "execution_count": 8,
      "metadata": {},
      "outputs": [],
      "source": [
        "df = pd.DataFrame(np.random.randn(3,2))\n",
        "df.rename({1:'guebin'},axis=0)"
      ],
      "id": "e432cfb9-b7a2-418c-abd7-fe8ed8f542e8"
    },
    {
      "cell_type": "markdown",
      "metadata": {},
      "source": [
        "`-` 방법4: 임의의 열을 행이름 으로 지정!"
      ],
      "id": "5f0e3e36-1e7b-4db3-bb0b-661833a44363"
    },
    {
      "cell_type": "code",
      "execution_count": 9,
      "metadata": {},
      "outputs": [],
      "source": [
        "df = pd.DataFrame({'id':['2021-43052','2021-43052'], 'hour':[3,2], 'height':[176,172]})\n",
        "df.set_index('id')"
      ],
      "id": "f79052b8-c773-4a09-9516-1d1aab091086"
    },
    {
      "cell_type": "markdown",
      "metadata": {},
      "source": [
        "## `#` A~B에 대한 연습문제\n",
        "\n",
        "`-` 데이터 load"
      ],
      "id": "d84e6248-7d60-4a78-93ba-92429c5f73dc"
    },
    {
      "cell_type": "code",
      "execution_count": 10,
      "metadata": {},
      "outputs": [],
      "source": [
        "df = pd.read_csv('https://raw.githubusercontent.com/guebin/DV2022/master/posts/FIFA23_official_data.csv')\n",
        "df.head()"
      ],
      "id": "d395fe6f-776d-4818-b2b3-98a64fc73e83"
    },
    {
      "cell_type": "markdown",
      "metadata": {},
      "source": [
        "`# 예제1`: 열의 이름 출력하고, 열의 이름중 공백(``)이 있을 경우\n",
        "언더바(`_`) 로 바꾸자.\n",
        "\n",
        "컬럼출력"
      ],
      "id": "0aefeb74-a513-4e1d-9ffb-59e2b52039e2"
    },
    {
      "cell_type": "code",
      "execution_count": 11,
      "metadata": {},
      "outputs": [],
      "source": [
        "df.columns"
      ],
      "id": "75403d3e-00f5-4f08-b553-8e400c758e42"
    },
    {
      "cell_type": "markdown",
      "metadata": {},
      "source": [
        "1.  `df.columns`에 직접대입"
      ],
      "id": "b329ea20-3843-40c9-a608-465ca4566994"
    },
    {
      "cell_type": "code",
      "execution_count": 12,
      "metadata": {},
      "outputs": [],
      "source": [
        "new_colnames = [l.replace(' ','_') for l in df.columns]"
      ],
      "id": "b3e82928-6098-4fda-9eb9-49104035289e"
    },
    {
      "cell_type": "code",
      "execution_count": 13,
      "metadata": {},
      "outputs": [],
      "source": [
        "# df.columns = new_colnames\n",
        "# df"
      ],
      "id": "076d55a3-f9a0-47d1-aa92-de134ee7a83d"
    },
    {
      "cell_type": "markdown",
      "metadata": {},
      "source": [
        "1.  `set_axis()` 이용"
      ],
      "id": "3da9c440-504b-4f6f-b877-3120dbf1ff82"
    },
    {
      "cell_type": "code",
      "execution_count": 14,
      "metadata": {},
      "outputs": [],
      "source": [
        "df.set_axis(new_colnames,axis=1)"
      ],
      "id": "bf513003-ab9c-4dc9-9f71-deb39a47cb99"
    },
    {
      "cell_type": "markdown",
      "metadata": {},
      "source": [
        "1.  `rename()` 이용 – 안중요함"
      ],
      "id": "5016f08d-e9ca-468a-ab45-293f4262cbb6"
    },
    {
      "cell_type": "code",
      "execution_count": 15,
      "metadata": {},
      "outputs": [],
      "source": [
        "dct = {l:l.replace(' ','_') for l in df.columns}\n",
        "df.rename(dct,axis=1)"
      ],
      "id": "dbf55c58-b88d-4a48-b857-7d834d276b60"
    },
    {
      "cell_type": "markdown",
      "metadata": {},
      "source": [
        "`#`\n",
        "\n",
        "`예제2`: ID를 row-index로 지정하라.\n",
        "\n",
        "1.  직접지정"
      ],
      "id": "633fe180-bdf1-4f7e-af24-93134501c5b3"
    },
    {
      "cell_type": "code",
      "execution_count": 16,
      "metadata": {},
      "outputs": [],
      "source": [
        "# df.index = df.ID\n",
        "# df"
      ],
      "id": "f2722fff-3700-4141-af45-ff50a7c994ef"
    },
    {
      "cell_type": "markdown",
      "metadata": {},
      "source": [
        "1.  `set_axis()`"
      ],
      "id": "6be13479-886b-4429-af7d-0f3a1399f6f4"
    },
    {
      "cell_type": "code",
      "execution_count": 17,
      "metadata": {},
      "outputs": [],
      "source": [
        "df.set_axis(df.ID,axis=0)"
      ],
      "id": "1e336428-dc4a-446d-a6f6-49f583d1968d"
    },
    {
      "cell_type": "markdown",
      "metadata": {},
      "source": [
        "1.  `rename()` – 안중요함"
      ],
      "id": "1a7fb220-62b2-4381-9f45-b0241db11218"
    },
    {
      "cell_type": "code",
      "execution_count": 18,
      "metadata": {},
      "outputs": [],
      "source": [
        "dct = {idx:ID for idx, ID in zip(df.index,df.ID)}"
      ],
      "id": "0799b97a-cc3e-479c-abca-c5afbb280997"
    },
    {
      "cell_type": "code",
      "execution_count": 19,
      "metadata": {},
      "outputs": [],
      "source": [
        "df.rename(dct,axis=0)"
      ],
      "id": "424eea37-9c9d-44f4-87c9-f03cec6a13b5"
    },
    {
      "cell_type": "markdown",
      "metadata": {},
      "source": [
        "1.  `set_index()`"
      ],
      "id": "8727ec28-8276-4721-b51f-7ae8f3c521fa"
    },
    {
      "cell_type": "code",
      "execution_count": 20,
      "metadata": {},
      "outputs": [],
      "source": [
        "df.set_index('ID')"
      ],
      "id": "a0cca89d-02cd-4e97-8a98-5816961b2efd"
    },
    {
      "cell_type": "markdown",
      "metadata": {},
      "source": [
        "`#`\n",
        "\n",
        "## C. `df.T`\n",
        "\n",
        "`-` 데이터 load"
      ],
      "id": "0f7c2f2e-b95d-4c93-875c-0e3dfc5f506e"
    },
    {
      "cell_type": "code",
      "execution_count": 21,
      "metadata": {},
      "outputs": [],
      "source": [
        "df = pd.read_csv('https://raw.githubusercontent.com/guebin/DV2022/master/posts/FIFA23_official_data.csv')\n",
        "df.head()"
      ],
      "id": "63526ded-94db-45de-ad84-7a899f2e5f1c"
    },
    {
      "cell_type": "markdown",
      "metadata": {},
      "source": [
        "`-` `df.T`를 이용하여 데이터를 살피면 편리함"
      ],
      "id": "75b09880-3cab-4f4c-bb1c-938cd4c8ede8"
    },
    {
      "cell_type": "code",
      "execution_count": 22,
      "metadata": {},
      "outputs": [],
      "source": [
        "df.T.iloc[:,0:2]"
      ],
      "id": "7c1552c7-7dab-4b9d-8509-cc01023afc28"
    },
    {
      "cell_type": "markdown",
      "metadata": {},
      "source": [
        "`-` 출력옵션 조정"
      ],
      "id": "83f7b800-25cf-44c6-95b7-8c10c18de5bf"
    },
    {
      "cell_type": "code",
      "execution_count": 23,
      "metadata": {},
      "outputs": [],
      "source": [
        "pd.options.display.max_rows = 12\n",
        "display(df.T.iloc[:,:3])\n",
        "pd.reset_option(\"display.max_rows\")"
      ],
      "id": "1b864ed0-3c19-4011-b051-05e25ceb78d8"
    },
    {
      "cell_type": "markdown",
      "metadata": {},
      "source": [
        "-   이 예제에서는 줄이는 옵션을 사용했지만 보통은 늘려서 사용함\n",
        "\n",
        "## D. `df.dtypes`, `s.dtype`\n",
        "\n",
        "`-` `df.dtypes`"
      ],
      "id": "70ef9ab3-a477-4f6d-8f8c-429fb240b813"
    },
    {
      "cell_type": "code",
      "execution_count": 24,
      "metadata": {},
      "outputs": [],
      "source": [
        "df.dtypes"
      ],
      "id": "56190ef9-a3d1-4136-ac3a-8b5897a9af0f"
    },
    {
      "cell_type": "markdown",
      "metadata": {},
      "source": [
        "`-` `s.dtype`"
      ],
      "id": "2c007e1f-b753-4dd4-a3a5-dcba51edd239"
    },
    {
      "cell_type": "code",
      "execution_count": 25,
      "metadata": {},
      "outputs": [],
      "source": [
        "df.Name.dtype"
      ],
      "id": "1c0ef7ed-d5d3-4433-90da-552b2c19f1f9"
    },
    {
      "cell_type": "markdown",
      "metadata": {},
      "source": [
        "`-` `==`를 이용한 자료형 체크"
      ],
      "id": "d839d4e9-1651-4a20-a63e-a3ada48bd136"
    },
    {
      "cell_type": "code",
      "execution_count": 26,
      "metadata": {},
      "outputs": [],
      "source": [
        "df.Name.dtype == np.object_"
      ],
      "id": "8b47718c-f3c2-4d74-bba6-f945b7234083"
    },
    {
      "cell_type": "code",
      "execution_count": 27,
      "metadata": {},
      "outputs": [],
      "source": [
        "df.Age.dtype == np.int64"
      ],
      "id": "37bca921-5f65-415d-a614-7fe022e7714c"
    },
    {
      "cell_type": "markdown",
      "metadata": {},
      "source": [
        "`# 예제`: `df`에서 `int64` 자료형만 출력\n",
        "\n",
        "`-` (풀이1)"
      ],
      "id": "d48c60b0-ec23-451f-bbcf-6d40ec9622cc"
    },
    {
      "cell_type": "code",
      "execution_count": 28,
      "metadata": {},
      "outputs": [],
      "source": [
        "pd.Series(list(df.dtypes))"
      ],
      "id": "cf8e692e-a32d-4c30-9c92-33e67646b0ff"
    },
    {
      "cell_type": "code",
      "execution_count": 29,
      "metadata": {},
      "outputs": [],
      "source": [
        "df.iloc[:,[0,2,6,7,12]]"
      ],
      "id": "4cc3a419-2dd2-4d42-8c40-2118b8158b16"
    },
    {
      "cell_type": "markdown",
      "metadata": {},
      "source": [
        "`-` (풀이2)"
      ],
      "id": "070aa8bc-d05d-48cc-8f44-34529b2dadfd"
    },
    {
      "cell_type": "code",
      "execution_count": 30,
      "metadata": {},
      "outputs": [],
      "source": [
        "df.loc[:,[o == np.int64 for o in df.dtypes]]"
      ],
      "id": "ee1a9b90-e924-40d7-87dd-23242c6f0497"
    },
    {
      "cell_type": "markdown",
      "metadata": {},
      "source": [
        "`#`\n",
        "\n",
        "## E. `df.sort_values()`\n",
        "\n",
        "`-` 예시1: 나이가 어린 순서대로 정렬"
      ],
      "id": "7097a36c-b07e-498e-a47b-0be41d4331a6"
    },
    {
      "cell_type": "code",
      "execution_count": 31,
      "metadata": {},
      "outputs": [],
      "source": [
        "df.sort_values(by='Age')"
      ],
      "id": "2a511576-4f98-4cae-9ad1-d3e9859a9401"
    },
    {
      "cell_type": "markdown",
      "metadata": {},
      "source": [
        "`-` 예시2: 나이가 많은 순서대로 정렬"
      ],
      "id": "09c22ff0-cd25-4450-b016-0147e61b239d"
    },
    {
      "cell_type": "code",
      "execution_count": 32,
      "metadata": {},
      "outputs": [],
      "source": [
        "df.sort_values(by='Age',ascending=False)"
      ],
      "id": "a2bf3ce4-4bf3-419a-9926-e093396ce1b4"
    },
    {
      "cell_type": "markdown",
      "metadata": {},
      "source": [
        "`-` 예시3: 능력치가 좋은 순서대로 정렬"
      ],
      "id": "4e5d23b8-31b1-443e-bebb-7b0c707a6889"
    },
    {
      "cell_type": "code",
      "execution_count": 33,
      "metadata": {},
      "outputs": [],
      "source": [
        "df.sort_values(by = 'Overall',ascending=False)"
      ],
      "id": "72772578-e887-4531-acce-2914d9b23fd7"
    },
    {
      "cell_type": "markdown",
      "metadata": {},
      "source": [
        "## F. `df.info()`"
      ],
      "id": "ea197090-d699-462b-bace-6a79a82e6ee5"
    },
    {
      "cell_type": "code",
      "execution_count": 34,
      "metadata": {},
      "outputs": [
        {
          "output_type": "stream",
          "name": "stdout",
          "text": [
            "<class 'pandas.core.frame.DataFrame'>\n",
            "RangeIndex: 17660 entries, 0 to 17659\n",
            "Data columns (total 29 columns):\n",
            " #   Column                    Non-Null Count  Dtype  \n",
            "---  ------                    --------------  -----  \n",
            " 0   ID                        17660 non-null  int64  \n",
            " 1   Name                      17660 non-null  object \n",
            " 2   Age                       17660 non-null  int64  \n",
            " 3   Photo                     17660 non-null  object \n",
            " 4   Nationality               17660 non-null  object \n",
            " 5   Flag                      17660 non-null  object \n",
            " 6   Overall                   17660 non-null  int64  \n",
            " 7   Potential                 17660 non-null  int64  \n",
            " 8   Club                      17449 non-null  object \n",
            " 9   Club Logo                 17660 non-null  object \n",
            " 10  Value                     17660 non-null  object \n",
            " 11  Wage                      17660 non-null  object \n",
            " 12  Special                   17660 non-null  int64  \n",
            " 13  Preferred Foot            17660 non-null  object \n",
            " 14  International Reputation  17660 non-null  float64\n",
            " 15  Weak Foot                 17660 non-null  float64\n",
            " 16  Skill Moves               17660 non-null  float64\n",
            " 17  Work Rate                 17660 non-null  object \n",
            " 18  Body Type                 17622 non-null  object \n",
            " 19  Real Face                 17622 non-null  object \n",
            " 20  Position                  17625 non-null  object \n",
            " 21  Joined                    16562 non-null  object \n",
            " 22  Loaned From               694 non-null    object \n",
            " 23  Contract Valid Until      17299 non-null  object \n",
            " 24  Height                    17660 non-null  object \n",
            " 25  Weight                    17660 non-null  object \n",
            " 26  Release Clause            16509 non-null  object \n",
            " 27  Kit Number                17625 non-null  float64\n",
            " 28  Best Overall Rating       21 non-null     object \n",
            "dtypes: float64(4), int64(5), object(20)\n",
            "memory usage: 3.9+ MB"
          ]
        }
      ],
      "source": [
        "df.info()"
      ],
      "id": "cb9ebffa-d410-4204-9df6-9d516b5cfb01"
    },
    {
      "cell_type": "markdown",
      "metadata": {},
      "source": [
        "## G. `df.isna()`\n",
        "\n",
        "`-` 예시1: 열별로 결측치 count"
      ],
      "id": "4ff6a21d-de92-4ab5-951d-4b9ed80e176b"
    },
    {
      "cell_type": "code",
      "execution_count": 35,
      "metadata": {},
      "outputs": [],
      "source": [
        "df.isna().sum(axis=0)"
      ],
      "id": "43783361-d5f8-4b23-9512-2ff347cd4350"
    },
    {
      "cell_type": "markdown",
      "metadata": {},
      "source": [
        "`-` 예시2: 결측치가 50% 이상인 열 출력"
      ],
      "id": "13a679af-02bf-43d6-9bb9-e3ede1cd4f8c"
    },
    {
      "cell_type": "code",
      "execution_count": 36,
      "metadata": {},
      "outputs": [],
      "source": [
        "df.loc[:,df.isna().sum(axis=0) / len(df) > 0.5] "
      ],
      "id": "9155e37b-0799-4eff-9de5-47c4da193dbe"
    },
    {
      "cell_type": "markdown",
      "metadata": {},
      "source": [
        "> axis 사용하기 어렵다면\n",
        "> <https://guebin.github.io/PP2023/posts/02_DataScience/2023-04-12-6wk-2.html>\n",
        "> 를 복습할 것!\n",
        "\n",
        "## H. `df.drop()`\n",
        "\n",
        "`-` 예시1: \\[0,1,2,3\\] 행을 drop"
      ],
      "id": "4fefa928-cc24-4e7c-be97-7b615fa2a7e9"
    },
    {
      "cell_type": "code",
      "execution_count": 37,
      "metadata": {},
      "outputs": [],
      "source": [
        "df.drop([0,1,2,3],axis=0)"
      ],
      "id": "2c2a81de-0ac1-4d07-9085-028e66226cbb"
    },
    {
      "cell_type": "markdown",
      "metadata": {},
      "source": [
        "`-` 예시2: \\[‘Name’, ‘Age’\\] 열을 drop"
      ],
      "id": "657fe54d-9418-4a67-ab15-329215c0aea4"
    },
    {
      "cell_type": "code",
      "execution_count": 38,
      "metadata": {},
      "outputs": [],
      "source": [
        "df.drop(['Name','Age'],axis=1)"
      ],
      "id": "1df25135-edb5-4e07-8435-e99839500c97"
    },
    {
      "cell_type": "markdown",
      "metadata": {},
      "source": [
        "## `#` G~H 에 대한 연습문제\n",
        "\n",
        "`# 예제`: 결측치가 50퍼 이상인 열을 제외하라.\n",
        "\n",
        "`-` (풀이1)"
      ],
      "id": "ea723650-0588-4afb-82bf-f7de0ce03ecf"
    },
    {
      "cell_type": "code",
      "execution_count": 39,
      "metadata": {},
      "outputs": [],
      "source": [
        "df.isna().mean(axis=0) > 0.5"
      ],
      "id": "0b577ac4-b362-40c4-a630-4fa553a825b7"
    },
    {
      "cell_type": "code",
      "execution_count": 40,
      "metadata": {},
      "outputs": [],
      "source": [
        "df.drop(['Loaned From','Best Overall Rating'],axis=1)"
      ],
      "id": "e6619020-8acc-4ba2-99c6-b27923bfe832"
    },
    {
      "cell_type": "markdown",
      "metadata": {},
      "source": [
        "`-` (풀이2)"
      ],
      "id": "d39a47e2-35c9-47eb-badf-d38ed6f4dccc"
    },
    {
      "cell_type": "code",
      "execution_count": 41,
      "metadata": {},
      "outputs": [],
      "source": [
        "df.loc[:,df.isna().mean() < 0.5]"
      ],
      "id": "9caef679-d0b2-4f88-bd6f-dc3ea50a38d8"
    },
    {
      "cell_type": "markdown",
      "metadata": {},
      "source": [
        "`#`\n",
        "\n",
        "# Pandas: missing\n",
        "\n",
        "## A. Numpy\n",
        "\n",
        "`-` 발생: `np.nan`"
      ],
      "id": "69d6eb1e-5088-4953-9c74-983020895394"
    },
    {
      "cell_type": "code",
      "execution_count": 42,
      "metadata": {},
      "outputs": [],
      "source": [
        "np.nan"
      ],
      "id": "f97faee1-d977-4264-a37b-35ca00e66953"
    },
    {
      "cell_type": "code",
      "execution_count": 43,
      "metadata": {},
      "outputs": [],
      "source": [
        "[1,2,3,np.nan]"
      ],
      "id": "81f9dba2-d285-4c7d-9a9b-725be52643fb"
    },
    {
      "cell_type": "code",
      "execution_count": 44,
      "metadata": {},
      "outputs": [],
      "source": [
        "arr = np.array([1,2,3,np.nan])\n",
        "arr"
      ],
      "id": "9d240ff3-79fc-4104-ab1f-728f6f8eaaf7"
    },
    {
      "cell_type": "markdown",
      "metadata": {},
      "source": [
        "`-` np.array에 nan이 있으면 연산결과도 nan"
      ],
      "id": "9bf27802-8772-48fb-86d7-819509c164e9"
    },
    {
      "cell_type": "code",
      "execution_count": 45,
      "metadata": {},
      "outputs": [],
      "source": [
        "arr.mean()"
      ],
      "id": "24267163-e8c5-4b27-916d-78400a6e8dad"
    },
    {
      "cell_type": "markdown",
      "metadata": {},
      "source": [
        "`-` type"
      ],
      "id": "8097e7e3-ba11-4b5f-8c72-d90d944d7e84"
    },
    {
      "cell_type": "code",
      "execution_count": 46,
      "metadata": {},
      "outputs": [],
      "source": [
        "type(np.nan) "
      ],
      "id": "5ba5c564-9598-489f-8c3c-0638dcbd30e9"
    },
    {
      "cell_type": "code",
      "execution_count": 47,
      "metadata": {},
      "outputs": [],
      "source": [
        "type(arr[-1])"
      ],
      "id": "9f641f80-e03b-4a72-ae0b-7abb17ef54b9"
    },
    {
      "cell_type": "markdown",
      "metadata": {},
      "source": [
        "## B. Pandas\n",
        "\n",
        "`-` 발생: np.nan, pd.NA"
      ],
      "id": "51a1c8ab-e8a4-4a6a-acb3-ebd23935ec3b"
    },
    {
      "cell_type": "code",
      "execution_count": 48,
      "metadata": {},
      "outputs": [],
      "source": [
        "pd.Series([np.nan,1,2,3])"
      ],
      "id": "22593ab7-4952-4475-a0b5-a6416048a1ff"
    },
    {
      "cell_type": "code",
      "execution_count": 49,
      "metadata": {},
      "outputs": [],
      "source": [
        "pd.Series([pd.NA,1,2,3])"
      ],
      "id": "63d77ab8-d818-4ae3-9969-049679bbd773"
    },
    {
      "cell_type": "markdown",
      "metadata": {},
      "source": [
        "`-` pd.Series에 `NaN` 혹은 `<NA>` 가 있다면 연산할때 제외함"
      ],
      "id": "c20e2102-453d-4000-939d-ce1f93a719a9"
    },
    {
      "cell_type": "code",
      "execution_count": 50,
      "metadata": {},
      "outputs": [],
      "source": [
        "pd.Series([np.nan,1,2,3]).mean()"
      ],
      "id": "cf6e3831-43d6-453e-ae60-e3583653948d"
    },
    {
      "cell_type": "code",
      "execution_count": 51,
      "metadata": {},
      "outputs": [],
      "source": [
        "pd.Series([pd.NA,1,2,3]).mean()"
      ],
      "id": "705a74c8-719a-4800-a4d6-4ee46601fe37"
    },
    {
      "cell_type": "markdown",
      "metadata": {},
      "source": [
        "`-` type"
      ],
      "id": "e86abb35-aa44-4137-9259-452faab08bed"
    },
    {
      "cell_type": "code",
      "execution_count": 52,
      "metadata": {},
      "outputs": [],
      "source": [
        "s1 = pd.Series([np.nan,1,2,3])\n",
        "type(s1[0])"
      ],
      "id": "2f913190-63ff-4a3a-8b23-83098715932d"
    },
    {
      "cell_type": "code",
      "execution_count": 53,
      "metadata": {},
      "outputs": [],
      "source": [
        "s2 = pd.Series([pd.NA,1,2,3])\n",
        "type(s2[0])"
      ],
      "id": "17c4ac1e-6548-401d-819f-c4acb3ec0cba"
    },
    {
      "cell_type": "markdown",
      "metadata": {},
      "source": [
        "`-` 검출 ($\\star$)"
      ],
      "id": "11b0e8ec-0817-43a4-a846-663887c602e2"
    },
    {
      "cell_type": "code",
      "execution_count": 54,
      "metadata": {},
      "outputs": [],
      "source": [
        "s1.isna()"
      ],
      "id": "5b8c3dcb-8aaa-4546-a286-2d5a8ea81587"
    },
    {
      "cell_type": "code",
      "execution_count": 55,
      "metadata": {},
      "outputs": [],
      "source": [
        "s2.isna()"
      ],
      "id": "7104e3ea-af8e-4eb2-9980-bc345e2f1bea"
    },
    {
      "cell_type": "code",
      "execution_count": 56,
      "metadata": {},
      "outputs": [],
      "source": [
        "s1[0]"
      ],
      "id": "72293a93-7f2c-4402-89ce-e3719ad3de50"
    },
    {
      "cell_type": "code",
      "execution_count": 57,
      "metadata": {},
      "outputs": [],
      "source": [
        "pd.isna(s1[0]), pd.isnull(s1[0])"
      ],
      "id": "5fac58a4-8d00-471d-9cee-5a4beaaa3909"
    },
    {
      "cell_type": "code",
      "execution_count": 58,
      "metadata": {},
      "outputs": [],
      "source": [
        "pd.isna(s2[0]), pd.isnull(s2[0])"
      ],
      "id": "a75dd81b-13da-46e2-9474-e6a0feef2c7d"
    },
    {
      "cell_type": "code",
      "execution_count": 59,
      "metadata": {},
      "outputs": [],
      "source": [
        "id(pd.isna), id(pd.isnull) # 같은함수"
      ],
      "id": "d8248a7b-b780-4d8b-9ae3-5568477f3869"
    },
    {
      "cell_type": "markdown",
      "metadata": {},
      "source": [
        "# Pandas: query"
      ],
      "id": "d5c00659-01cc-4acc-95db-8429c6d63947"
    },
    {
      "cell_type": "code",
      "execution_count": 60,
      "metadata": {},
      "outputs": [],
      "source": [
        "ts = pd.DataFrame(np.random.normal(size=(20,4)),columns=list('ABCD'),index=pd.date_range('20221226',periods=20)).assign(E=['A']*10+['B']*10)\n",
        "ts"
      ],
      "id": "024c46e8-4361-4c2c-9fa5-4af512339fe6"
    },
    {
      "cell_type": "markdown",
      "metadata": {},
      "source": [
        "## A. 기본 query\n",
        "\n",
        "`-` 예시1: `A>0 and B<0`"
      ],
      "id": "eac98c23-b030-48ad-af7e-8244646d4f40"
    },
    {
      "cell_type": "code",
      "execution_count": 61,
      "metadata": {},
      "outputs": [],
      "source": [
        "ts.query('A>0 and B<0')"
      ],
      "id": "e80c24a1-d182-4623-a800-0ca5ee002e98"
    },
    {
      "cell_type": "markdown",
      "metadata": {},
      "source": [
        "`-` 예시2: `A<B<C`"
      ],
      "id": "ee44e325-6834-489c-bcc1-fe45d03d905c"
    },
    {
      "cell_type": "code",
      "execution_count": 62,
      "metadata": {},
      "outputs": [],
      "source": [
        "ts.query('A<B<C')"
      ],
      "id": "a6ac735a-5228-4572-ad6f-09f73bf4cf28"
    },
    {
      "cell_type": "markdown",
      "metadata": {},
      "source": [
        "`-` 예시3: `(A+B)/2 > 0`"
      ],
      "id": "397afc6d-a5d6-45a7-9ebd-acbe7a19483c"
    },
    {
      "cell_type": "code",
      "execution_count": 63,
      "metadata": {},
      "outputs": [],
      "source": [
        "ts.query('(A+B)/2>0')"
      ],
      "id": "d9626259-1146-4b36-8a14-c8cfb958060c"
    },
    {
      "cell_type": "markdown",
      "metadata": {},
      "source": [
        "`-` 예시4: `(A+B)/2 > 0` and `E=='A'`"
      ],
      "id": "9f7d6130-1d2e-46e8-9aab-657c810896f0"
    },
    {
      "cell_type": "code",
      "execution_count": 64,
      "metadata": {},
      "outputs": [],
      "source": [
        "ts.query('(A+B)/2>0 and E==\"A\"')"
      ],
      "id": "128c337b-7510-4590-b964-869390b71700"
    },
    {
      "cell_type": "code",
      "execution_count": 65,
      "metadata": {},
      "outputs": [],
      "source": [
        "ts.query(\"(A+B)/2>0 and E=='A'\")"
      ],
      "id": "a4ffba6c-0dab-4b41-913a-ef51e43b5441"
    },
    {
      "cell_type": "markdown",
      "metadata": {},
      "source": [
        "## B. 외부변수를 이용\n",
        "\n",
        "`-` 예시: `A > mean(A)`"
      ],
      "id": "deee9840-9694-4f0e-8c55-0157b75a53a4"
    },
    {
      "cell_type": "code",
      "execution_count": 66,
      "metadata": {},
      "outputs": [],
      "source": [
        "value = np.percentile(ts.A,77) # ts.A 에서 77 percentile에 해당하는 숫자\n",
        "ts.query(\"A > @value\")"
      ],
      "id": "5ce05c43-d03c-43a6-b1ce-feb7b91b4141"
    },
    {
      "cell_type": "markdown",
      "metadata": {},
      "source": [
        "> **Note**\n",
        ">\n",
        "> 명확한 전달을 위해서 영상에서 설명한 예제를 조금 바꿨습니다.\n",
        "\n",
        "## C. Index로 query\n",
        "\n",
        "`-` 예시: (2022년 12월30일 보다 이전 날짜) $\\cup$ (2023년 1월10일)"
      ],
      "id": "46ac687e-b934-479b-a81e-9b383fa05445"
    },
    {
      "cell_type": "code",
      "execution_count": 67,
      "metadata": {},
      "outputs": [],
      "source": [
        "ts.query('index < \"2022-12-30\" or index == \"2023-01-10\"')"
      ],
      "id": "66c5dda2-518b-44d8-a540-522c9cf4f8fa"
    },
    {
      "cell_type": "markdown",
      "metadata": {},
      "source": [
        "## D. 열의 이름에 공백이 있을 경우"
      ],
      "id": "81cb2c77-2d1c-44ae-b4d8-002f2670b9ce"
    },
    {
      "cell_type": "code",
      "execution_count": 68,
      "metadata": {},
      "outputs": [],
      "source": [
        "df = pd.read_csv('https://raw.githubusercontent.com/guebin/DV2022/master/posts/FIFA23_official_data.csv')\n",
        "df.head()"
      ],
      "id": "bd05530f-8f86-488c-b7a1-1abd583aad25"
    },
    {
      "cell_type": "markdown",
      "metadata": {},
      "source": [
        "`-` 예시: `Skill Moves > 4`"
      ],
      "id": "147ea247-456e-45cf-88e4-050078e0e7e0"
    },
    {
      "cell_type": "code",
      "execution_count": 69,
      "metadata": {},
      "outputs": [],
      "source": [
        "df.query('`Skill Moves` > 4')"
      ],
      "id": "c3deded6-a50b-439b-99f7-88dc5ed94428"
    },
    {
      "cell_type": "markdown",
      "metadata": {},
      "source": [
        "# Pandas: 할당"
      ],
      "id": "65dd6806-59b0-434c-bbfd-7859f67c4a72"
    },
    {
      "cell_type": "code",
      "execution_count": 70,
      "metadata": {},
      "outputs": [],
      "source": [
        "np.random.seed(43052)\n",
        "att = np.random.choice(np.arange(10,21)*5,20)\n",
        "rep = np.random.choice(np.arange(5,21)*5,20)\n",
        "mid = np.random.choice(np.arange(0,21)*5,20)\n",
        "fin = np.random.choice(np.arange(0,21)*5,20)\n",
        "df = pd.DataFrame({'att':att,'rep':rep,'mid':mid,'fin':fin})\n",
        "df"
      ],
      "id": "812117cf-a902-4298-ac96-4f051818ba05"
    },
    {
      "cell_type": "markdown",
      "metadata": {},
      "source": [
        "## A. `df.assign()`\n",
        "\n",
        "`-` 예시: `total = att*0.1 + rep*0.2 + mid*0.35 + fin*0.35` 를 계산하여\n",
        "할당"
      ],
      "id": "9f60aed9-c6a6-413a-871e-a2c011ee2143"
    },
    {
      "cell_type": "code",
      "execution_count": 71,
      "metadata": {},
      "outputs": [],
      "source": [
        "df.assign(total = df.att*0.1 + df.rep*0.2 + df.mid*0.35 + df.fin*0.35)"
      ],
      "id": "b9a25a68-08a4-43cb-9b77-9315b8d745b1"
    },
    {
      "cell_type": "markdown",
      "metadata": {},
      "source": [
        "> Note: 이 방법은 df를 일시적으로 변화시킴\n",
        "\n",
        "## B. `df.eval()`\n",
        "\n",
        "`-` 예시: `total = att*0.1 + rep*0.2 + mid*0.35 + fin*0.35` 를 계산하여\n",
        "할당"
      ],
      "id": "04a31956-925c-4c03-b3dc-3c0090905098"
    },
    {
      "cell_type": "code",
      "execution_count": 72,
      "metadata": {},
      "outputs": [],
      "source": [
        "df.eval('total = att*0.1 + rep*0.2 + mid*0.35 + fin*0.35')"
      ],
      "id": "c487dfc5-d51a-4b84-a591-0a3e7bbbfc79"
    },
    {
      "cell_type": "markdown",
      "metadata": {},
      "source": [
        "> Note: 이 방법은 df를 일시적으로 변화시킴\n",
        "\n",
        "## C. `df[colname] = xxx`\n",
        "\n",
        "`-` 예시: `total = att*0.1 + rep*0.2 + mid*0.35 + fin*0.35` 를 계산하여\n",
        "할당."
      ],
      "id": "2b9f7585-776d-40bc-83c1-53fb13bcd406"
    },
    {
      "cell_type": "code",
      "execution_count": 73,
      "metadata": {},
      "outputs": [],
      "source": [
        "df['total'] = df.att*0.1 + df.rep*0.2 + df.mid*0.35 + df.fin*0.35\n",
        "df"
      ],
      "id": "72154b00-3852-46b9-bb8a-1e470f69d05a"
    },
    {
      "cell_type": "markdown",
      "metadata": {},
      "source": [
        "> Note: 이 방법은 df를 영구적으로 변화시킴"
      ],
      "id": "a75e5cb2-bfa9-4bae-acc6-3879d0756ccd"
    }
  ],
  "nbformat": 4,
  "nbformat_minor": 5,
  "metadata": {
    "kernelspec": {
      "name": "python3",
      "display_name": "Python 3 (ipykernel)",
      "language": "python"
    },
    "language_info": {
      "name": "python",
      "codemirror_mode": {
        "name": "ipython",
        "version": "3"
      },
      "file_extension": ".py",
      "mimetype": "text/x-python",
      "nbconvert_exporter": "python",
      "pygments_lexer": "ipython3",
      "version": "3.10.13"
    }
  }
}