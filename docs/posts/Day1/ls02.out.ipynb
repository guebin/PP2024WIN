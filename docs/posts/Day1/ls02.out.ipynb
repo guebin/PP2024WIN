{
  "cells": [
    {
      "cell_type": "markdown",
      "metadata": {},
      "source": [
        "# Lesson 02: 파이썬의 자료형 II (list, tuple)\n",
        "\n",
        "최규빈  \n",
        "2023-06-24\n",
        "\n",
        "# list\n",
        "\n",
        "## 선언\n",
        "\n",
        "`-` 리스트의 선언"
      ],
      "id": "3545ad7b-ef30-4943-b51e-75992bf12ee3"
    },
    {
      "cell_type": "code",
      "execution_count": 8,
      "metadata": {
        "vscode": {
          "languageId": "python"
        }
      },
      "outputs": [],
      "source": [
        "a=[11,22]\n",
        "a"
      ],
      "id": "9f3b17b8-4f97-47c0-a2d5-7993409423b8"
    },
    {
      "cell_type": "code",
      "execution_count": 9,
      "metadata": {
        "vscode": {
          "languageId": "python"
        }
      },
      "outputs": [],
      "source": [
        "type(a)"
      ],
      "id": "2ef4c156-aecb-4f0b-a020-7e65113dd0dc"
    },
    {
      "cell_type": "markdown",
      "metadata": {},
      "source": [
        "`-` 비어있는 리스트의 선언"
      ],
      "id": "c516d175-dc6a-423a-8010-8b6f9a5a93de"
    },
    {
      "cell_type": "code",
      "execution_count": 13,
      "metadata": {
        "vscode": {
          "languageId": "python"
        }
      },
      "outputs": [],
      "source": [
        "a=[11] # 방법1\n",
        "a"
      ],
      "id": "a38b1c1a-c9f6-46f6-b8ce-fb48569c72fd"
    },
    {
      "cell_type": "code",
      "execution_count": 14,
      "metadata": {
        "vscode": {
          "languageId": "python"
        }
      },
      "outputs": [],
      "source": [
        "len(a)"
      ],
      "id": "c13f945c-bc35-4de4-abf2-e50dcfa74b2b"
    },
    {
      "cell_type": "code",
      "execution_count": 15,
      "metadata": {
        "vscode": {
          "languageId": "python"
        }
      },
      "outputs": [],
      "source": [
        "a=11"
      ],
      "id": "a2384d5a-75ea-45cd-bd52-0cd28f1c4c0b"
    },
    {
      "cell_type": "code",
      "execution_count": 4,
      "metadata": {
        "vscode": {
          "languageId": "python"
        }
      },
      "outputs": [],
      "source": [
        "a=list() # 방법2\n",
        "a"
      ],
      "id": "e8f5c680-6947-4537-b2f4-6d518418c130"
    },
    {
      "cell_type": "markdown",
      "metadata": {},
      "source": [
        "## 연산\n",
        "\n",
        "`-` 더하기연산"
      ],
      "id": "782ab6dd-a7f3-4857-800e-ebffb5d3339a"
    },
    {
      "cell_type": "code",
      "execution_count": 5,
      "metadata": {
        "vscode": {
          "languageId": "python"
        }
      },
      "outputs": [],
      "source": [
        "a=[11,12]\n",
        "b=[12,13]"
      ],
      "id": "79d6bd44-21d2-4274-b283-a5df2d39db6b"
    },
    {
      "cell_type": "code",
      "execution_count": 6,
      "metadata": {
        "vscode": {
          "languageId": "python"
        }
      },
      "outputs": [],
      "source": [
        "a"
      ],
      "id": "80c3f98b-57e3-462b-a93d-62cf260a9e9d"
    },
    {
      "cell_type": "code",
      "execution_count": 7,
      "metadata": {
        "vscode": {
          "languageId": "python"
        }
      },
      "outputs": [],
      "source": [
        "b"
      ],
      "id": "fd675de2-6ddc-4a4d-bfc3-4455007ae42c"
    },
    {
      "cell_type": "code",
      "execution_count": 8,
      "metadata": {
        "vscode": {
          "languageId": "python"
        }
      },
      "outputs": [],
      "source": [
        "a+b"
      ],
      "id": "5efc9f01-63d4-46ce-a6be-5c31be1891d9"
    },
    {
      "cell_type": "markdown",
      "metadata": {},
      "source": [
        "-   우리의 예상과 다른 결과가 나옴 $\\to$ 파이썬은 R처럼 자체적으로 좋은\n",
        "    계산기능을 내장하고 있지 않음.\n",
        "\n",
        "`-` 브로드캐스팅과 같이 R에서는 당연히 가능했던 기능을 사용할 수 없음."
      ],
      "id": "5acced04-afaa-45e5-9812-29500fd7e652"
    },
    {
      "cell_type": "code",
      "execution_count": 19,
      "metadata": {
        "vscode": {
          "languageId": "python"
        }
      },
      "outputs": [],
      "source": [
        "a=[1,2,3]\n",
        "b=1\n",
        "a+b"
      ],
      "id": "27de908e-8426-4d4a-bead-43702510b0d8"
    },
    {
      "cell_type": "markdown",
      "metadata": {},
      "source": [
        "`-` 뺄셈은 정의되지 않음"
      ],
      "id": "62bd79da-edd0-4ec9-9b46-a948c22bdf7c"
    },
    {
      "cell_type": "code",
      "execution_count": 20,
      "metadata": {
        "vscode": {
          "languageId": "python"
        }
      },
      "outputs": [],
      "source": [
        "a=[1,2]\n",
        "b=[1,2]\n",
        "a-b"
      ],
      "id": "722b5559-7e5c-4636-8e99-359efddf6bba"
    },
    {
      "cell_type": "markdown",
      "metadata": {},
      "source": [
        "`-` 곱하기는 정의가능"
      ],
      "id": "d1b909ac-f34d-431d-aa2e-b79acb2b8f60"
    },
    {
      "cell_type": "code",
      "execution_count": 11,
      "metadata": {
        "vscode": {
          "languageId": "python"
        }
      },
      "outputs": [],
      "source": [
        "a=[1,2]"
      ],
      "id": "e46da257-9da2-4ecc-ae68-10e14e471ce4"
    },
    {
      "cell_type": "code",
      "execution_count": 12,
      "metadata": {
        "vscode": {
          "languageId": "python"
        }
      },
      "outputs": [],
      "source": [
        "2*a # a+a "
      ],
      "id": "00ef7fe8-0f16-4aff-8d92-1b4c565058f9"
    },
    {
      "cell_type": "markdown",
      "metadata": {},
      "source": [
        "`-` 나눗셈은 정의되지 않음"
      ],
      "id": "be23761f-9e8d-45a6-8d01-5bce7a174c15"
    },
    {
      "cell_type": "code",
      "execution_count": 13,
      "metadata": {
        "vscode": {
          "languageId": "python"
        }
      },
      "outputs": [],
      "source": [
        "a=[1,2,1,2]\n",
        "a/2"
      ],
      "id": "f583bdb6-776b-42d5-815e-97a462038547"
    },
    {
      "cell_type": "markdown",
      "metadata": {},
      "source": [
        "`-` 더하기와 곱하기는 원소의 추가와 반복추가를 의미하지만 그렇다고 해서\n",
        "뺄셈과 나눗셈이 원소의 삭제를 의미하는것은 아님"
      ],
      "id": "d7c1ca3c-6ba9-4e56-8059-faf2efdcfb1d"
    },
    {
      "cell_type": "code",
      "execution_count": 14,
      "metadata": {
        "vscode": {
          "languageId": "python"
        }
      },
      "outputs": [],
      "source": [
        "a=[1,2,3]\n",
        "a-[3] # 이런건 없다"
      ],
      "id": "d640d22f-a528-444c-8825-85e95094ec89"
    },
    {
      "cell_type": "code",
      "execution_count": 15,
      "metadata": {
        "vscode": {
          "languageId": "python"
        }
      },
      "outputs": [],
      "source": [
        "a=[1,2,1,2,1,2]\n",
        "a/3 # 이런건 없다"
      ],
      "id": "93d3f645-d153-4dbf-92a1-78d192d0dfa6"
    },
    {
      "cell_type": "markdown",
      "metadata": {},
      "source": [
        "`-` 더하기와 곱하기가 원소의 추가와 반복추가를 의미하여 편리할때도\n",
        "있긴하지만, 우리는 산술적인 `+`, `*` 를 원하는 경우도 있다. 이럴 경우는\n",
        "어떻게 할 수 있을까?\n",
        "\n",
        "(예제)"
      ],
      "id": "4139aac5-ffcb-4501-ac09-c65e2ee3edf2"
    },
    {
      "cell_type": "code",
      "execution_count": 21,
      "metadata": {
        "vscode": {
          "languageId": "python"
        }
      },
      "outputs": [],
      "source": [
        "a=[1,2]\n",
        "b=[3,4]"
      ],
      "id": "899102b7-43bd-47e5-a004-adec448d6bc1"
    },
    {
      "cell_type": "markdown",
      "metadata": {},
      "source": [
        "a+b = \\[4,6\\] 이 되도록 하려면?\n",
        "\n",
        "(풀이1)"
      ],
      "id": "fa3d4dfd-d891-44ec-8f42-c6c9685893a9"
    },
    {
      "cell_type": "code",
      "execution_count": 67,
      "metadata": {
        "vscode": {
          "languageId": "python"
        }
      },
      "outputs": [],
      "source": [
        "a[0]+b[0] # a의 첫번째 원소를 추출, b의 첫번째 원소를 추출, 둘을 더함 "
      ],
      "id": "8c8ca5b6-5b12-4ce9-b8f8-fddb49fc4cb0"
    },
    {
      "cell_type": "code",
      "execution_count": 18,
      "metadata": {
        "vscode": {
          "languageId": "python"
        }
      },
      "outputs": [],
      "source": [
        "a[1]+b[1] # a의 두번째 원소를 추출, b의 두번째 원소를 추출, 둘을 더함 "
      ],
      "id": "4fb152aa-6fb8-4ded-8e7a-7bc1322a9fa6"
    },
    {
      "cell_type": "code",
      "execution_count": 19,
      "metadata": {
        "vscode": {
          "languageId": "python"
        }
      },
      "outputs": [],
      "source": [
        "[a[0]+b[0],a[1]+b[1]]"
      ],
      "id": "4e4295d8-7c85-402f-ada1-3da02d80dc80"
    },
    {
      "cell_type": "markdown",
      "metadata": {},
      "source": [
        "풀이가 가능한 이유? a,b는 리스트이지만 a\\[0\\], a\\[1\\], b\\[0\\], b\\[1\\] 은\n",
        "각각 인트형임. 인트형은 + 연산이 가능했음.\n",
        "\n",
        "(풀이2)\n",
        "\n",
        "-   numpy 를 이용\n",
        "\n",
        "numpy 패키지 (파이썬의 여러 수치연산들을 담당하는 라이브러리)\n",
        "\n",
        "-   이러한 벡터연산은 누구나 필요로 하는 연산임.\n",
        "-   내가 아니더라도 누군가가 프로그램화 해놓았을 것임.\n",
        "-   그 누군가가 자신이 만든 코드를 잘 정리하여 무료로 배포했을 수도\n",
        "    있음. (패키지를 배포한다고 표현)\n",
        "-   그 패키지를 우리는 가져와서 설치한뒤 사용하기만 하면된다.\n",
        "\n",
        "패키지를 설치하는 방법 (코랩은 이미 설치되어 있음)\n",
        "\n",
        "-   `!pip install numpy` \\# 최신버전을 설치함\n",
        "-   `!conda install -c conda-forge numpy -y` \\# 안전한 버전을 설치함\n",
        "\n",
        "설치된 패키지를 사용하는 방법\n",
        "\n",
        "-   `import numpy` 한뒤에 `numpy.??`로 기능을 사용\n",
        "-   `import numpy as np` 한뒤에 `np.??`로 기능을 사용"
      ],
      "id": "ad5a2619-f214-408d-bc44-e7440e876395"
    },
    {
      "cell_type": "code",
      "execution_count": 49,
      "metadata": {
        "vscode": {
          "languageId": "python"
        }
      },
      "outputs": [],
      "source": [
        "import numpy as np ## 설치한 numpy라는 패키지를 쓰겠음. 그런데 numpy말고 np라는 이름으로 쓰겠음"
      ],
      "id": "ba2ac7bc-9326-4065-9afc-037c5c4b1fc4"
    },
    {
      "cell_type": "code",
      "execution_count": 51,
      "metadata": {
        "vscode": {
          "languageId": "python"
        }
      },
      "outputs": [],
      "source": [
        "np.array(a)"
      ],
      "id": "a6f7c498-1459-4223-9f24-962bfceeede8"
    },
    {
      "cell_type": "code",
      "execution_count": 52,
      "metadata": {
        "vscode": {
          "languageId": "python"
        }
      },
      "outputs": [],
      "source": [
        "a=[1,2]\n",
        "b=[3,4]\n",
        "np.array(a)+np.array(b)"
      ],
      "id": "4d0a6c56-c3db-429f-b004-64324ff55119"
    },
    {
      "cell_type": "markdown",
      "metadata": {},
      "source": [
        "## 인덱싱\n",
        "\n",
        "`-` str형과 동일한 방식"
      ],
      "id": "9ec411fb-03e9-4e71-b22b-1441e9df7b4a"
    },
    {
      "cell_type": "code",
      "execution_count": 77,
      "metadata": {
        "vscode": {
          "languageId": "python"
        }
      },
      "outputs": [],
      "source": [
        "a=[11,22,33,44,55] # 0 -4 -3 -2 -1"
      ],
      "id": "cf8a0de8-3802-4d63-84d9-6c4bc341d486"
    },
    {
      "cell_type": "code",
      "execution_count": 76,
      "metadata": {
        "vscode": {
          "languageId": "python"
        }
      },
      "outputs": [],
      "source": [
        "a[-2:] # 끝의 2개의 원소를 뽑음 "
      ],
      "id": "76d0ba13-6dd5-4950-adc7-6df970d3f832"
    },
    {
      "cell_type": "markdown",
      "metadata": {},
      "source": [
        "## 리스트는 컨테이너형 객체이다.\n",
        "\n",
        "`-` 리스트의 원소는 int, float 따위만 가능한 것이 아니다. (리스트는\n",
        "컨테이너형 객체이므로)"
      ],
      "id": "3789ab95-d722-493a-80b5-120020a645a4"
    },
    {
      "cell_type": "code",
      "execution_count": 53,
      "metadata": {
        "vscode": {
          "languageId": "python"
        }
      },
      "outputs": [],
      "source": [
        "lst = [1,3.14,True,'a',[1,2], \n",
        "       (1,2),{'name':'iu','age':27},{1,2,3}]"
      ],
      "id": "5232ac18-5f23-481a-b67d-fe7d07260389"
    },
    {
      "cell_type": "code",
      "execution_count": 55,
      "metadata": {
        "vscode": {
          "languageId": "python"
        }
      },
      "outputs": [],
      "source": [
        "lst"
      ],
      "id": "8876bcad-c1f2-4196-8301-fba060f29d52"
    },
    {
      "cell_type": "markdown",
      "metadata": {},
      "source": [
        "각 원소의 타입을 알아보자."
      ],
      "id": "6274f28b-6ed9-4267-8c3c-536a15e14014"
    },
    {
      "cell_type": "code",
      "execution_count": 80,
      "metadata": {
        "vscode": {
          "languageId": "python"
        }
      },
      "outputs": [],
      "source": [
        "type(lst[0])"
      ],
      "id": "195edf90-bdcc-4056-92c1-a6b0f101b791"
    },
    {
      "cell_type": "code",
      "execution_count": 81,
      "metadata": {
        "vscode": {
          "languageId": "python"
        }
      },
      "outputs": [],
      "source": [
        "type(lst[1])"
      ],
      "id": "f0d21aa3-17d8-4d91-8c6e-4c5be0310886"
    },
    {
      "cell_type": "code",
      "execution_count": 82,
      "metadata": {
        "vscode": {
          "languageId": "python"
        }
      },
      "outputs": [],
      "source": [
        "type(lst[2])"
      ],
      "id": "7f15299c-bc44-425f-9fdb-ba2ea88c57ba"
    },
    {
      "cell_type": "code",
      "execution_count": 83,
      "metadata": {
        "vscode": {
          "languageId": "python"
        }
      },
      "outputs": [],
      "source": [
        "type(lst[3])"
      ],
      "id": "04d1407a-134c-497d-9bff-1f6328463958"
    },
    {
      "cell_type": "code",
      "execution_count": 84,
      "metadata": {
        "vscode": {
          "languageId": "python"
        }
      },
      "outputs": [],
      "source": [
        "type(lst[4])"
      ],
      "id": "251f8901-35e2-49d3-bcc9-8df687c398d6"
    },
    {
      "cell_type": "code",
      "execution_count": 85,
      "metadata": {
        "vscode": {
          "languageId": "python"
        }
      },
      "outputs": [],
      "source": [
        "type(lst[5])"
      ],
      "id": "fc6e51bd-ef7d-4fdf-b83a-b68dbd8e2ca4"
    },
    {
      "cell_type": "code",
      "execution_count": 86,
      "metadata": {
        "vscode": {
          "languageId": "python"
        }
      },
      "outputs": [],
      "source": [
        "type(lst[6])"
      ],
      "id": "7bf25447-277b-4ecd-a0c2-11ca62978eb5"
    },
    {
      "cell_type": "code",
      "execution_count": 87,
      "metadata": {
        "vscode": {
          "languageId": "python"
        }
      },
      "outputs": [],
      "source": [
        "type(lst[7])"
      ],
      "id": "f5de5bed-9f2c-45a3-a999-6c6a6b603751"
    },
    {
      "cell_type": "markdown",
      "metadata": {},
      "source": [
        "`-` str은 컨테이너형이 아니다."
      ],
      "id": "5de81b0a-77e9-4224-80ca-16299b72e8b2"
    },
    {
      "cell_type": "code",
      "execution_count": 57,
      "metadata": {
        "vscode": {
          "languageId": "python"
        }
      },
      "outputs": [],
      "source": [
        "'abcd'[2]"
      ],
      "id": "e4ae066a-74c4-48f9-908b-41e92ac5cdf4"
    },
    {
      "cell_type": "markdown",
      "metadata": {},
      "source": [
        "-   str의 모든 원소는 문자임\n",
        "\n",
        "## 리스트는 가변형 객체이다.\n",
        "\n",
        "**리스트의 원소 수정**\n",
        "\n",
        "`-` 리스트의 원소를 수정할 수 있다. (리스트는 가변객체이므로)"
      ],
      "id": "b8545aa5-c57b-480e-94e5-4324e459b28d"
    },
    {
      "cell_type": "code",
      "execution_count": 58,
      "metadata": {
        "vscode": {
          "languageId": "python"
        }
      },
      "outputs": [],
      "source": [
        "a=[11,22,33]\n",
        "a"
      ],
      "id": "fc9f6aa4-3683-4165-b558-89e26d6fcd77"
    },
    {
      "cell_type": "code",
      "execution_count": 97,
      "metadata": {
        "vscode": {
          "languageId": "python"
        }
      },
      "outputs": [],
      "source": [
        "a[0]"
      ],
      "id": "a77fcc83-b574-47ca-97e0-60d96c5368ba"
    },
    {
      "cell_type": "code",
      "execution_count": 98,
      "metadata": {
        "vscode": {
          "languageId": "python"
        }
      },
      "outputs": [],
      "source": [
        "a[0]=111"
      ],
      "id": "c3d183ad-f215-42e7-8135-985c19cebce6"
    },
    {
      "cell_type": "code",
      "execution_count": 99,
      "metadata": {
        "vscode": {
          "languageId": "python"
        }
      },
      "outputs": [],
      "source": [
        "a"
      ],
      "id": "a11b4638-e8f2-4672-888c-e17ec6ed4c56"
    },
    {
      "cell_type": "markdown",
      "metadata": {},
      "source": [
        "`-` 원소수정은 당연한 기능같은데 이것이 불가능한 경우도 있다.\n",
        "\n",
        "(가능한경우)"
      ],
      "id": "c29c4d16-7f23-4216-88f8-0618e38f21db"
    },
    {
      "cell_type": "code",
      "execution_count": 59,
      "metadata": {
        "vscode": {
          "languageId": "python"
        }
      },
      "outputs": [],
      "source": [
        "a=['g','u','e','b','i','n']\n",
        "a"
      ],
      "id": "4e512f30-0d0e-4521-b7f8-3c3502d8b45d"
    },
    {
      "cell_type": "code",
      "execution_count": 104,
      "metadata": {
        "vscode": {
          "languageId": "python"
        }
      },
      "outputs": [],
      "source": [
        "a[0]"
      ],
      "id": "78913261-4417-4475-a12b-2ecda95a11da"
    },
    {
      "cell_type": "code",
      "execution_count": 105,
      "metadata": {
        "vscode": {
          "languageId": "python"
        }
      },
      "outputs": [],
      "source": [
        "a[0]='G'"
      ],
      "id": "d521469d-6bd5-44a5-824b-2c734690a0bb"
    },
    {
      "cell_type": "code",
      "execution_count": 106,
      "metadata": {
        "vscode": {
          "languageId": "python"
        }
      },
      "outputs": [],
      "source": [
        "a"
      ],
      "id": "f6741217-3566-487b-8389-4b06fb9f7846"
    },
    {
      "cell_type": "markdown",
      "metadata": {},
      "source": [
        "(불가능한경우)"
      ],
      "id": "f396038f-c90d-4f75-b61e-ed88f420b01a"
    },
    {
      "cell_type": "code",
      "execution_count": 65,
      "metadata": {
        "vscode": {
          "languageId": "python"
        }
      },
      "outputs": [],
      "source": [
        "a='guebin'\n",
        "a"
      ],
      "id": "69de5b4b-303f-4fbf-97d2-2ea057efb763"
    },
    {
      "cell_type": "code",
      "execution_count": 66,
      "metadata": {
        "vscode": {
          "languageId": "python"
        }
      },
      "outputs": [],
      "source": [
        "type(a)"
      ],
      "id": "292791ee-bebb-4638-a3d1-91f2534898e7"
    },
    {
      "cell_type": "code",
      "execution_count": 67,
      "metadata": {
        "vscode": {
          "languageId": "python"
        }
      },
      "outputs": [],
      "source": [
        "a[0]"
      ],
      "id": "c89fd5c0-09d1-44df-8fdd-5e30cf7737f9"
    },
    {
      "cell_type": "code",
      "execution_count": 68,
      "metadata": {
        "vscode": {
          "languageId": "python"
        }
      },
      "outputs": [],
      "source": [
        "a[0]='G'"
      ],
      "id": "11047950-3bea-47cd-b4c6-067aea25f90e"
    },
    {
      "cell_type": "markdown",
      "metadata": {},
      "source": [
        "**리스트의 원소 삭제**\n",
        "\n",
        "(예제)\n",
        "\n",
        "아래와 같이 문자로 된 리스트를 선언하자."
      ],
      "id": "fde879ca-b59e-4a10-8476-fef0c90855e9"
    },
    {
      "cell_type": "code",
      "execution_count": 118,
      "metadata": {
        "vscode": {
          "languageId": "python"
        }
      },
      "outputs": [],
      "source": [
        "a=['g','u','e','b','i','n']\n",
        "a"
      ],
      "id": "f9570ff3-37ea-4239-8d19-26da3daf4831"
    },
    {
      "cell_type": "markdown",
      "metadata": {},
      "source": [
        "사실 더 쉽게 선언할 수 있음"
      ],
      "id": "c02face1-be59-4fb5-8579-0c10c0c07a31"
    },
    {
      "cell_type": "code",
      "execution_count": 120,
      "metadata": {
        "vscode": {
          "languageId": "python"
        }
      },
      "outputs": [],
      "source": [
        "a= 'guebin' # string으로 a를 선언\n",
        "a= list(a) # list(a)를 통하여 str을 ㅣist로 변환 -> 그 결과를 a에 다시 저장\n",
        "a"
      ],
      "id": "cccdef08-6317-4a82-9c1f-f87cf59fb8f7"
    },
    {
      "cell_type": "markdown",
      "metadata": {},
      "source": [
        "첫번째 원소를 삭제하고 싶다면?"
      ],
      "id": "ff6d7e61-89e1-476e-b3f8-899dc9063e6f"
    },
    {
      "cell_type": "code",
      "execution_count": 121,
      "metadata": {
        "vscode": {
          "languageId": "python"
        }
      },
      "outputs": [],
      "source": [
        "del a[0]"
      ],
      "id": "486a250d-982a-4b1a-a664-943f2dd0ae02"
    },
    {
      "cell_type": "code",
      "execution_count": 122,
      "metadata": {
        "vscode": {
          "languageId": "python"
        }
      },
      "outputs": [],
      "source": [
        "a"
      ],
      "id": "79a7c837-7322-4c26-b3c7-90a78968ed07"
    },
    {
      "cell_type": "markdown",
      "metadata": {},
      "source": [
        "이 상태에서 다시 첫번쨰 원소를 삭제한다면?"
      ],
      "id": "916d3279-8da4-4a38-a2c7-b087514cb4bc"
    },
    {
      "cell_type": "code",
      "execution_count": 123,
      "metadata": {
        "vscode": {
          "languageId": "python"
        }
      },
      "outputs": [],
      "source": [
        "del a[0]"
      ],
      "id": "a8d6b8e1-7385-4965-b7f4-a534bac13eb4"
    },
    {
      "cell_type": "code",
      "execution_count": 124,
      "metadata": {
        "vscode": {
          "languageId": "python"
        }
      },
      "outputs": [],
      "source": [
        "a"
      ],
      "id": "2f200f80-d5b4-4be2-ae37-724bbffe7128"
    },
    {
      "cell_type": "markdown",
      "metadata": {},
      "source": [
        "**리스트의 원소 추가**\n",
        "\n",
        "(예제) 비어있는 리스트를 만들고 원소 0,1,2를 차례로 추가하여 보자.\n",
        "\n",
        "(풀이1)"
      ],
      "id": "61433f64-8fea-4324-b381-ec1537556c77"
    },
    {
      "cell_type": "code",
      "execution_count": 130,
      "metadata": {
        "vscode": {
          "languageId": "python"
        }
      },
      "outputs": [],
      "source": [
        "a=[]\n",
        "a"
      ],
      "id": "d61cf09a-0f9f-4f94-8a3c-95b173e13442"
    },
    {
      "cell_type": "code",
      "execution_count": 131,
      "metadata": {
        "vscode": {
          "languageId": "python"
        }
      },
      "outputs": [],
      "source": [
        "a= a + [0] \n",
        "a"
      ],
      "id": "831767cc-3efc-42e6-a6da-53c81092d6fc"
    },
    {
      "cell_type": "code",
      "execution_count": 132,
      "metadata": {
        "vscode": {
          "languageId": "python"
        }
      },
      "outputs": [],
      "source": [
        "a= a + [1]\n",
        "a"
      ],
      "id": "594b7449-3906-4937-a2be-72e5543439c0"
    },
    {
      "cell_type": "code",
      "execution_count": 133,
      "metadata": {
        "vscode": {
          "languageId": "python"
        }
      },
      "outputs": [],
      "source": [
        "a= a + [2]\n",
        "a"
      ],
      "id": "85d5cddb-c5cd-40a1-8858-01c38a18f2ff"
    },
    {
      "cell_type": "markdown",
      "metadata": {},
      "source": [
        "(풀이2)"
      ],
      "id": "640e1fd5-928d-48a2-b0f7-61e9562fe1ce"
    },
    {
      "cell_type": "code",
      "execution_count": 74,
      "metadata": {
        "vscode": {
          "languageId": "python"
        }
      },
      "outputs": [],
      "source": [
        "a=[]\n",
        "a"
      ],
      "id": "f7069317-fe32-4d42-a1b5-4b499d8c6fb8"
    },
    {
      "cell_type": "code",
      "execution_count": 75,
      "metadata": {
        "vscode": {
          "languageId": "python"
        }
      },
      "outputs": [],
      "source": [
        "a += [0] \n",
        "a"
      ],
      "id": "d043530b-1f4c-4b5c-8db6-1b1b16073d25"
    },
    {
      "cell_type": "code",
      "execution_count": 76,
      "metadata": {
        "vscode": {
          "languageId": "python"
        }
      },
      "outputs": [],
      "source": [
        "a += [1]\n",
        "a"
      ],
      "id": "66ec8ed6-5319-4bb5-940b-00d728dc5083"
    },
    {
      "cell_type": "code",
      "execution_count": 77,
      "metadata": {
        "vscode": {
          "languageId": "python"
        }
      },
      "outputs": [],
      "source": [
        "a += [2]\n",
        "a"
      ],
      "id": "d40e1a11-2e5b-4a28-ac4e-d529e059b461"
    },
    {
      "cell_type": "markdown",
      "metadata": {},
      "source": [
        "-   암기법: 중복되는 변수를 지우고 연산자의 순서를 바꾼다.\n",
        "\n",
        "(풀이3) 리스트 특화기능(=메소드)를 이용"
      ],
      "id": "b459a643-a974-4c69-a1e6-ade494e3682d"
    },
    {
      "cell_type": "code",
      "execution_count": 78,
      "metadata": {
        "vscode": {
          "languageId": "python"
        }
      },
      "outputs": [],
      "source": [
        "a=[]\n",
        "a"
      ],
      "id": "2f126016-75de-4a6c-9e86-d99b129e44e2"
    },
    {
      "cell_type": "code",
      "execution_count": 146,
      "metadata": {
        "vscode": {
          "languageId": "python"
        }
      },
      "outputs": [],
      "source": [
        "a.append(0)\n",
        "a"
      ],
      "id": "fe3e9657-dd8e-4bba-a3c6-6a584da00f38"
    },
    {
      "cell_type": "code",
      "execution_count": 147,
      "metadata": {
        "vscode": {
          "languageId": "python"
        }
      },
      "outputs": [],
      "source": [
        "a.append(1)\n",
        "a"
      ],
      "id": "0df5b8c5-69bb-42c8-9625-ef6c6ea40381"
    },
    {
      "cell_type": "code",
      "execution_count": 148,
      "metadata": {
        "vscode": {
          "languageId": "python"
        }
      },
      "outputs": [],
      "source": [
        "a.append(2)\n",
        "a"
      ],
      "id": "38c29cd4-a278-4f3d-a364-9f75d04e6380"
    },
    {
      "cell_type": "markdown",
      "metadata": {},
      "source": [
        "`-` `a+[4]`와 `a.append(4)`의 차이점은?\n",
        "\n",
        "(관찰1)"
      ],
      "id": "0fdab553-32a1-456b-9fa5-e6a4cbc1ce3b"
    },
    {
      "cell_type": "code",
      "execution_count": 149,
      "metadata": {
        "vscode": {
          "languageId": "python"
        }
      },
      "outputs": [],
      "source": [
        "a=[1,2,3]\n",
        "a+[4] ## 리스트 a와 리스트 [4]의 연산결과를 알려줘 "
      ],
      "id": "52eb1d51-f837-408d-b37c-cabe0ab90f04"
    },
    {
      "cell_type": "code",
      "execution_count": 151,
      "metadata": {
        "vscode": {
          "languageId": "python"
        }
      },
      "outputs": [],
      "source": [
        "a ## a는 그대로임. 변화없음 "
      ],
      "id": "d837aa40-6737-46c9-8770-c76fa3b6db08"
    },
    {
      "cell_type": "markdown",
      "metadata": {},
      "source": [
        "(관찰2)"
      ],
      "id": "f3a7c542-b966-4956-8971-ca44ca79ae2a"
    },
    {
      "cell_type": "code",
      "execution_count": 152,
      "metadata": {
        "vscode": {
          "languageId": "python"
        }
      },
      "outputs": [],
      "source": [
        "a=[1,2,3]\n",
        "a.append(4)"
      ],
      "id": "aa25fb89-7a7d-4471-9b69-c62c2915f6ae"
    },
    {
      "cell_type": "code",
      "execution_count": 154,
      "metadata": {
        "vscode": {
          "languageId": "python"
        }
      },
      "outputs": [],
      "source": [
        "a ## a자체가 변화함 "
      ],
      "id": "5cc35555-2bd8-4f1e-a079-9ce07c621eb6"
    },
    {
      "cell_type": "markdown",
      "metadata": {},
      "source": [
        "비슷해보이지만 굉장히 미묘한 차이가 있음\n",
        "\n",
        "`a.append(4)`: `a`에 4를 append하라 $\\to$ `a`가 변함\n",
        "\n",
        "`a+[4]`: `a`와 4를 연산하라\n",
        "\n",
        "## list 특수기능\n",
        "\n",
        "**(append)**"
      ],
      "id": "a8868038-3dcc-49bc-92b9-17fb7e99ef1b"
    },
    {
      "cell_type": "code",
      "execution_count": 162,
      "metadata": {
        "vscode": {
          "languageId": "python"
        }
      },
      "outputs": [],
      "source": [
        "a=[1,2,3,4]\n",
        "a.append?"
      ],
      "id": "3851b578-23dd-4755-9b11-e8dfd8065916"
    },
    {
      "cell_type": "code",
      "execution_count": 163,
      "metadata": {
        "vscode": {
          "languageId": "python"
        }
      },
      "outputs": [],
      "source": [
        "a.append(5)\n",
        "a"
      ],
      "id": "8980d784-d929-4226-92fa-8d1db6726996"
    },
    {
      "cell_type": "markdown",
      "metadata": {},
      "source": [
        "**(clear)**"
      ],
      "id": "0b699678-78e4-4a6a-8e72-785a86fb57f9"
    },
    {
      "cell_type": "code",
      "execution_count": 166,
      "metadata": {
        "vscode": {
          "languageId": "python"
        }
      },
      "outputs": [],
      "source": [
        "a=[1,2,3,4]\n",
        "a.clear?"
      ],
      "id": "1bf65ba0-48f8-47bf-b679-4597e656a475"
    },
    {
      "cell_type": "code",
      "execution_count": 168,
      "metadata": {
        "vscode": {
          "languageId": "python"
        }
      },
      "outputs": [],
      "source": [
        "a.clear()\n",
        "a"
      ],
      "id": "e1d8f438-e0c3-4b7c-bb5d-7f114caf68d7"
    },
    {
      "cell_type": "markdown",
      "metadata": {},
      "source": [
        "**(copy)**"
      ],
      "id": "7af4eed9-5809-49ba-9ac5-f18e18424170"
    },
    {
      "cell_type": "code",
      "execution_count": 170,
      "metadata": {
        "vscode": {
          "languageId": "python"
        }
      },
      "outputs": [],
      "source": [
        "a=[1,2,3,4]\n",
        "a.copy?"
      ],
      "id": "8128859f-f56b-41fe-989c-90dc371b3291"
    },
    {
      "cell_type": "code",
      "execution_count": 171,
      "metadata": {
        "vscode": {
          "languageId": "python"
        }
      },
      "outputs": [],
      "source": [
        "b=a.copy()\n",
        "b"
      ],
      "id": "24453be5-f6fb-46ae-b3f7-a580d211bbea"
    },
    {
      "cell_type": "markdown",
      "metadata": {},
      "source": [
        "**(count)**"
      ],
      "id": "aa91094f-8b34-45c3-905b-de9127f29edc"
    },
    {
      "cell_type": "code",
      "execution_count": 179,
      "metadata": {
        "vscode": {
          "languageId": "python"
        }
      },
      "outputs": [],
      "source": [
        "a=[1,1,2,3,3,4,4,4]\n",
        "a.count?"
      ],
      "id": "aaa9ba0a-b161-4bde-9070-ff6915c58407"
    },
    {
      "cell_type": "code",
      "execution_count": 181,
      "metadata": {
        "vscode": {
          "languageId": "python"
        }
      },
      "outputs": [],
      "source": [
        "a.count(1)"
      ],
      "id": "9029bb3b-d51e-4efe-ae53-b0f08a1b818a"
    },
    {
      "cell_type": "code",
      "execution_count": 182,
      "metadata": {
        "vscode": {
          "languageId": "python"
        }
      },
      "outputs": [],
      "source": [
        "a.count(2)"
      ],
      "id": "67124330-87eb-45d3-aae2-800d8c0616a9"
    },
    {
      "cell_type": "code",
      "execution_count": 183,
      "metadata": {
        "vscode": {
          "languageId": "python"
        }
      },
      "outputs": [],
      "source": [
        "a.count(3)"
      ],
      "id": "3573e548-2bea-4499-8272-30be98c9863f"
    },
    {
      "cell_type": "code",
      "execution_count": 184,
      "metadata": {
        "vscode": {
          "languageId": "python"
        }
      },
      "outputs": [],
      "source": [
        "a.count(4)"
      ],
      "id": "826194d3-6949-4d50-98ee-24441272dca7"
    },
    {
      "cell_type": "markdown",
      "metadata": {},
      "source": [
        "**(extend)**"
      ],
      "id": "7f2cdefa-5199-4df3-8cc5-e9a1fbdd76e8"
    },
    {
      "cell_type": "code",
      "execution_count": 198,
      "metadata": {
        "vscode": {
          "languageId": "python"
        }
      },
      "outputs": [],
      "source": [
        "a=[1,2,3,4]\n",
        "b=[-1,-2,-3,-4]"
      ],
      "id": "069f7a74-6913-447d-b8c2-6b51d7951d75"
    },
    {
      "cell_type": "code",
      "execution_count": 199,
      "metadata": {
        "vscode": {
          "languageId": "python"
        }
      },
      "outputs": [],
      "source": [
        "a.extend(b)\n",
        "a"
      ],
      "id": "60708d1e-2097-4f55-a971-56e2438a2190"
    },
    {
      "cell_type": "code",
      "execution_count": 200,
      "metadata": {
        "vscode": {
          "languageId": "python"
        }
      },
      "outputs": [],
      "source": [
        "a=[1,2,3,4]\n",
        "b=[-1,-2,-3,-4]"
      ],
      "id": "46015c7c-ef06-4d14-be57-bb480effe1c8"
    },
    {
      "cell_type": "code",
      "execution_count": 201,
      "metadata": {
        "vscode": {
          "languageId": "python"
        }
      },
      "outputs": [],
      "source": [
        "a.append(b)"
      ],
      "id": "3868229a-46a5-4259-8ded-c4d568561bb2"
    },
    {
      "cell_type": "code",
      "execution_count": 202,
      "metadata": {
        "vscode": {
          "languageId": "python"
        }
      },
      "outputs": [],
      "source": [
        "a"
      ],
      "id": "3d0a4c67-0178-4393-b82a-9b1eb207d990"
    },
    {
      "cell_type": "markdown",
      "metadata": {},
      "source": [
        "**(index)**"
      ],
      "id": "40d0cda0-c091-49ea-b4d6-21f078b909f7"
    },
    {
      "cell_type": "code",
      "execution_count": 236,
      "metadata": {
        "vscode": {
          "languageId": "python"
        }
      },
      "outputs": [],
      "source": [
        "a=[11,22,'a',True, 22,'a']\n",
        "a.index?"
      ],
      "id": "8b890c76-162b-4120-93ac-5966f9a696dc"
    },
    {
      "cell_type": "code",
      "execution_count": 237,
      "metadata": {
        "vscode": {
          "languageId": "python"
        }
      },
      "outputs": [],
      "source": [
        "a.index(11)"
      ],
      "id": "87b97700-b21f-45ee-9505-1a67ad5f09a0"
    },
    {
      "cell_type": "code",
      "execution_count": 238,
      "metadata": {
        "vscode": {
          "languageId": "python"
        }
      },
      "outputs": [],
      "source": [
        "a.index(22)"
      ],
      "id": "b35a2757-358d-4b06-847e-3246e6071b25"
    },
    {
      "cell_type": "code",
      "execution_count": 239,
      "metadata": {
        "vscode": {
          "languageId": "python"
        }
      },
      "outputs": [],
      "source": [
        "a.index('a')"
      ],
      "id": "ef6df1f9-8050-49c9-8173-db246c18f038"
    },
    {
      "cell_type": "code",
      "execution_count": 240,
      "metadata": {
        "vscode": {
          "languageId": "python"
        }
      },
      "outputs": [],
      "source": [
        "a.index(True)"
      ],
      "id": "88688402-8cd2-4860-8b7a-7b76e85e3f76"
    },
    {
      "cell_type": "markdown",
      "metadata": {},
      "source": [
        "**(insert)**"
      ],
      "id": "d8352382-4171-4c55-9048-b59ea3d1dbd3"
    },
    {
      "cell_type": "code",
      "execution_count": 242,
      "metadata": {
        "vscode": {
          "languageId": "python"
        }
      },
      "outputs": [],
      "source": [
        "a=[1,2,3]\n",
        "a.insert?"
      ],
      "id": "e10e36f8-072d-4a05-9d88-8e2492b46507"
    },
    {
      "cell_type": "code",
      "execution_count": 243,
      "metadata": {
        "vscode": {
          "languageId": "python"
        }
      },
      "outputs": [],
      "source": [
        "a.insert(1,88) \n",
        "a"
      ],
      "id": "bdfacd70-6de1-4da4-b970-bbe3d7c9c282"
    },
    {
      "cell_type": "markdown",
      "metadata": {},
      "source": [
        "**(pop)**"
      ],
      "id": "bf781969-2604-4de8-8b90-8f29806ab23a"
    },
    {
      "cell_type": "code",
      "execution_count": 250,
      "metadata": {
        "vscode": {
          "languageId": "python"
        }
      },
      "outputs": [],
      "source": [
        "a=['a',1,2,'d']\n",
        "a.pop?"
      ],
      "id": "3528b269-7de0-4b9c-b2da-876df6b48447"
    },
    {
      "cell_type": "code",
      "execution_count": 251,
      "metadata": {
        "vscode": {
          "languageId": "python"
        }
      },
      "outputs": [],
      "source": [
        "a.pop() # index=-1 이므로 마지막원소가 나타남"
      ],
      "id": "0121e8ea-a7a2-47b5-ad64-4cbf471b0cbe"
    },
    {
      "cell_type": "code",
      "execution_count": 252,
      "metadata": {
        "vscode": {
          "languageId": "python"
        }
      },
      "outputs": [],
      "source": [
        "a # a는 마지막 원소가 사라진 상태"
      ],
      "id": "d9d7be83-5f74-450b-be5c-851849d7f343"
    },
    {
      "cell_type": "code",
      "execution_count": 253,
      "metadata": {
        "vscode": {
          "languageId": "python"
        }
      },
      "outputs": [],
      "source": [
        "a.pop(0) # index=0 이므로 첫번쨰 원소가 나타남"
      ],
      "id": "25aa58d3-1b46-45fe-a6a5-ae60035b0368"
    },
    {
      "cell_type": "code",
      "execution_count": 254,
      "metadata": {
        "vscode": {
          "languageId": "python"
        }
      },
      "outputs": [],
      "source": [
        "a # a에는 첫번째 원소가 사라진 상태"
      ],
      "id": "f2e489cd-856d-4f31-a44b-648729fde9fa"
    },
    {
      "cell_type": "markdown",
      "metadata": {},
      "source": [
        "**(remove)**"
      ],
      "id": "f281d8c7-abd2-48c2-bb1e-80030c5af68a"
    },
    {
      "cell_type": "code",
      "execution_count": 255,
      "metadata": {
        "vscode": {
          "languageId": "python"
        }
      },
      "outputs": [],
      "source": [
        "a=['a',2,3,'d']\n",
        "a.remove?"
      ],
      "id": "96103ab2-113f-4b17-afb6-eda220b8e3e8"
    },
    {
      "cell_type": "code",
      "execution_count": 256,
      "metadata": {
        "vscode": {
          "languageId": "python"
        }
      },
      "outputs": [],
      "source": [
        "a.remove('d')"
      ],
      "id": "0f5bbdbc-7538-4f77-af89-5e0566d64c0c"
    },
    {
      "cell_type": "code",
      "execution_count": 257,
      "metadata": {
        "vscode": {
          "languageId": "python"
        }
      },
      "outputs": [],
      "source": [
        "a"
      ],
      "id": "aa6de459-bb5c-4ac9-b950-133a2ab6914f"
    },
    {
      "cell_type": "code",
      "execution_count": 259,
      "metadata": {
        "vscode": {
          "languageId": "python"
        }
      },
      "outputs": [],
      "source": [
        "a.remove('a')"
      ],
      "id": "5a878a34-e3f4-4cc5-b2ec-56b3fa5b8b9d"
    },
    {
      "cell_type": "code",
      "execution_count": 260,
      "metadata": {
        "vscode": {
          "languageId": "python"
        }
      },
      "outputs": [],
      "source": [
        "a"
      ],
      "id": "1db057c1-8567-427e-8cd0-0a5569cafc52"
    },
    {
      "cell_type": "markdown",
      "metadata": {},
      "source": [
        "**(reverse)**"
      ],
      "id": "0786f811-238f-4722-88c6-0603a76b56c7"
    },
    {
      "cell_type": "code",
      "execution_count": 262,
      "metadata": {
        "vscode": {
          "languageId": "python"
        }
      },
      "outputs": [],
      "source": [
        "a=[1,2,3,4]\n",
        "a.reverse?"
      ],
      "id": "d2845a7d-0ed6-40ef-b377-abd20ec460b2"
    },
    {
      "cell_type": "code",
      "execution_count": 263,
      "metadata": {
        "vscode": {
          "languageId": "python"
        }
      },
      "outputs": [],
      "source": [
        "a.reverse()\n",
        "a"
      ],
      "id": "6c51b8d5-9dc8-435c-a263-a551daaff75e"
    },
    {
      "cell_type": "markdown",
      "metadata": {},
      "source": [
        "**(sort)**"
      ],
      "id": "ba348684-491d-4419-bc86-58228d33c046"
    },
    {
      "cell_type": "code",
      "execution_count": 265,
      "metadata": {
        "vscode": {
          "languageId": "python"
        }
      },
      "outputs": [],
      "source": [
        "a=[1,3,2,4]\n",
        "a.sort?"
      ],
      "id": "c30c02bb-d39b-4da0-8ab7-17044a15acb8"
    },
    {
      "cell_type": "code",
      "execution_count": 266,
      "metadata": {
        "vscode": {
          "languageId": "python"
        }
      },
      "outputs": [],
      "source": [
        "a.sort()\n",
        "a"
      ],
      "id": "753e6d97-7235-4005-9289-4e15cfc428f6"
    },
    {
      "cell_type": "markdown",
      "metadata": {},
      "source": [
        "(다른예제들)"
      ],
      "id": "91266867-9286-454f-bae6-232765e0a7b9"
    },
    {
      "cell_type": "code",
      "execution_count": 271,
      "metadata": {
        "vscode": {
          "languageId": "python"
        }
      },
      "outputs": [],
      "source": [
        "a=list('guebin')\n",
        "a"
      ],
      "id": "1924cbc9-1831-41b3-9f44-70fa19e5ac8f"
    },
    {
      "cell_type": "code",
      "execution_count": 272,
      "metadata": {
        "vscode": {
          "languageId": "python"
        }
      },
      "outputs": [],
      "source": [
        "a.sort()\n",
        "a"
      ],
      "id": "a295fc81-5af0-4b14-8a39-1b59267fce95"
    },
    {
      "cell_type": "code",
      "execution_count": 274,
      "metadata": {
        "vscode": {
          "languageId": "python"
        }
      },
      "outputs": [],
      "source": [
        "a.sort(reverse=True)\n",
        "a"
      ],
      "id": "391d1e90-8b24-4f3d-9730-2fef01fd48c2"
    },
    {
      "cell_type": "markdown",
      "metadata": {},
      "source": [
        "## 중첩 리스트"
      ],
      "id": "a88c2c90-49c6-4999-888d-a874eced831d"
    },
    {
      "cell_type": "code",
      "execution_count": 79,
      "metadata": {
        "vscode": {
          "languageId": "python"
        }
      },
      "outputs": [],
      "source": [
        "A=[[1,2,3],[4,5,6],[7,8,9]]\n",
        "A"
      ],
      "id": "936ecd8b-e124-4e88-9225-18b860b1dfce"
    },
    {
      "cell_type": "code",
      "execution_count": 86,
      "metadata": {
        "vscode": {
          "languageId": "python"
        }
      },
      "outputs": [],
      "source": [
        "A[0][1]"
      ],
      "id": "28fbe186-b866-49c5-bae7-dff285fd184e"
    },
    {
      "cell_type": "markdown",
      "metadata": {},
      "source": [
        "`-` A는 아래와 같은 매트릭스로 이해할 수 있다\n",
        "\n",
        "\\$"
      ],
      "id": "f1c7f35d-11d6-4f6b-8e5e-31fe9077815a"
    },
    {
      "cell_type": "raw",
      "metadata": {
        "raw_mimetype": "tex"
      },
      "source": [
        "\\begin{bmatrix}\n",
        "1 & 2 & 3 \\\\ \n",
        "4 & 5 & 6 \\\\ \n",
        "7 & 8 & 9 \n",
        "\\end{bmatrix}"
      ],
      "id": "ca204abc-26f6-4521-ba7b-688903f8cb39"
    },
    {
      "cell_type": "markdown",
      "metadata": {},
      "source": [
        "\\$\n",
        "\n",
        "`-` A에서 (2,1)의 원소를 뽑고싶다 = 4를 뽑고싶다"
      ],
      "id": "04d3fa31-275f-4314-ac56-654c9201ffbf"
    },
    {
      "cell_type": "code",
      "execution_count": 93,
      "metadata": {
        "vscode": {
          "languageId": "python"
        }
      },
      "outputs": [],
      "source": [
        "A[1,0]"
      ],
      "id": "f62f9541-d4ba-458b-ad53-41afbe2fd51f"
    },
    {
      "cell_type": "markdown",
      "metadata": {},
      "source": [
        "-   실패"
      ],
      "id": "0f555e5d-1a7b-4d56-9e01-af5f6b5a393c"
    },
    {
      "cell_type": "code",
      "execution_count": 278,
      "metadata": {
        "vscode": {
          "languageId": "python"
        }
      },
      "outputs": [],
      "source": [
        "A[1][0]"
      ],
      "id": "105a9512-bab8-41cc-b458-0e855c9cdfd6"
    },
    {
      "cell_type": "markdown",
      "metadata": {},
      "source": [
        "-   성공\n",
        "\n",
        "`-` 성공의 이유를 분석해보자."
      ],
      "id": "3556789a-b176-4f73-b841-a34d5855babc"
    },
    {
      "cell_type": "code",
      "execution_count": 285,
      "metadata": {
        "vscode": {
          "languageId": "python"
        }
      },
      "outputs": [],
      "source": [
        "A"
      ],
      "id": "bc638816-5389-4573-9663-c781d320500f"
    },
    {
      "cell_type": "code",
      "execution_count": 286,
      "metadata": {
        "vscode": {
          "languageId": "python"
        }
      },
      "outputs": [],
      "source": [
        "A[1]"
      ],
      "id": "099eb138-870a-45d3-8c3d-0511ceaa6242"
    },
    {
      "cell_type": "code",
      "execution_count": 287,
      "metadata": {
        "vscode": {
          "languageId": "python"
        }
      },
      "outputs": [],
      "source": [
        "A[1][0]"
      ],
      "id": "48c5563e-9ff8-4cb2-b2e9-839b4fcd7fdb"
    },
    {
      "cell_type": "markdown",
      "metadata": {},
      "source": [
        "`-` 매트릭스는 아니지만 매트릭스 같음! - 1차원 배열을 다차원 배열로\n",
        "확장할 수 있는 기본 아이디어를 제공함\n",
        "\n",
        "# tuple\n",
        "\n",
        "## 리스트 vs 튜플\n",
        "\n",
        "`-` 컨테이너형타입이라는 점, 그리고 연산 및 인덱싱을 하는 방법은\n",
        "리스트와 같음\n",
        "\n",
        "-   차이점1: \\[\\] 대신에 ()를 사용한다.\n",
        "-   차이점2: 불변형이다. (원소의 값을 바꿀 수 없음)\n",
        "-   차이점3: 하나의 원소를 선언할 때는 (1,)와 같이 해야 한다.\n",
        "-   차이점4: 의미가 명확할때는 튜플의 ()를 생략가능하다.\n",
        "\n",
        "`-` 컨테이너형이라는 것이 무슨의미?"
      ],
      "id": "0ed8148d-b81c-47be-a6e2-347072506256"
    },
    {
      "cell_type": "code",
      "execution_count": 183,
      "metadata": {
        "vscode": {
          "languageId": "python"
        }
      },
      "outputs": [],
      "source": [
        "a=(4,6,'pencil', 3.2+4.6j, [3,4]) "
      ],
      "id": "be653adc-efdb-4688-ac73-d7aeb4dc9341"
    },
    {
      "cell_type": "code",
      "execution_count": 184,
      "metadata": {
        "vscode": {
          "languageId": "python"
        }
      },
      "outputs": [],
      "source": [
        "type(a[2])"
      ],
      "id": "8791af85-4a26-4c99-b62c-b94b36ae856e"
    },
    {
      "cell_type": "code",
      "execution_count": 185,
      "metadata": {
        "vscode": {
          "languageId": "python"
        }
      },
      "outputs": [],
      "source": [
        "type(a[3])"
      ],
      "id": "229495fc-6a95-4609-af61-c6357810890e"
    },
    {
      "cell_type": "markdown",
      "metadata": {},
      "source": [
        "`-` 불변형이라는 것은 무슨의미?"
      ],
      "id": "3ff92d5d-4858-47bd-8361-fae442175895"
    },
    {
      "cell_type": "code",
      "execution_count": 189,
      "metadata": {
        "vscode": {
          "languageId": "python"
        }
      },
      "outputs": [],
      "source": [
        "a[2] = 'Pencil'"
      ],
      "id": "32765cd4-20af-4181-a688-49aa1467c046"
    },
    {
      "cell_type": "markdown",
      "metadata": {},
      "source": [
        "참고로 a를 튜플이 아니라 리스트로 선언하면 값이 잘 바뀐다."
      ],
      "id": "c7c9c2a5-c8d5-4359-8876-3091c16baa0b"
    },
    {
      "cell_type": "code",
      "execution_count": 14,
      "metadata": {
        "vscode": {
          "languageId": "python"
        }
      },
      "outputs": [],
      "source": [
        "a=[4,6,'pencil', 3.2+4.6j, [3,4]]"
      ],
      "id": "05e6dca5-0814-462a-923c-879efa9f5491"
    },
    {
      "cell_type": "code",
      "execution_count": 15,
      "metadata": {
        "vscode": {
          "languageId": "python"
        }
      },
      "outputs": [],
      "source": [
        "a[2]"
      ],
      "id": "5c12b691-564a-45de-8ac8-0392930fac2b"
    },
    {
      "cell_type": "code",
      "execution_count": 16,
      "metadata": {
        "vscode": {
          "languageId": "python"
        }
      },
      "outputs": [],
      "source": [
        "a[2]='Pencil'"
      ],
      "id": "e2238787-bebc-4724-938f-6d0ae403d261"
    },
    {
      "cell_type": "code",
      "execution_count": 17,
      "metadata": {
        "vscode": {
          "languageId": "python"
        }
      },
      "outputs": [],
      "source": [
        "a"
      ],
      "id": "98e63720-6bf2-43e6-b3a7-c248a5b3319f"
    },
    {
      "cell_type": "markdown",
      "metadata": {},
      "source": [
        "`-` 하나의 원소로 이루어진 튜플을 만들때는 쉼표를 붙여야 함."
      ],
      "id": "f93a52e7-f7ee-4ec3-a11f-f182d5752b51"
    },
    {
      "cell_type": "code",
      "execution_count": 20,
      "metadata": {
        "vscode": {
          "languageId": "python"
        }
      },
      "outputs": [],
      "source": [
        "[1]+[2,3,4]"
      ],
      "id": "358692de-8c86-492e-baee-eee02251a3f3"
    },
    {
      "cell_type": "code",
      "execution_count": 193,
      "metadata": {
        "vscode": {
          "languageId": "python"
        }
      },
      "outputs": [],
      "source": [
        "(1,)+(2,3,4)"
      ],
      "id": "549648b8-1645-4d60-9d49-a38d3adf6d3e"
    },
    {
      "cell_type": "markdown",
      "metadata": {},
      "source": [
        "`-` 리스트와 중요한 차이점! 의미가 명확할때 튜플의 괄호는 생략가능하다.\n",
        "(이게 중요합니다)"
      ],
      "id": "a74fb53a-6be3-42c7-84b0-9a592e25f79e"
    },
    {
      "cell_type": "code",
      "execution_count": 194,
      "metadata": {
        "vscode": {
          "languageId": "python"
        }
      },
      "outputs": [],
      "source": [
        "a=1,2\n",
        "a"
      ],
      "id": "60ac57f1-a1a8-4ea2-b3f1-9ac30324e7b3"
    },
    {
      "cell_type": "markdown",
      "metadata": {},
      "source": [
        "의미가 명확할때 생략해야함"
      ],
      "id": "b4dc0e7c-29a6-4ff2-9090-e57514a50729"
    },
    {
      "cell_type": "code",
      "execution_count": 196,
      "metadata": {
        "vscode": {
          "languageId": "python"
        }
      },
      "outputs": [],
      "source": [
        "1,2 + 3,4,5 "
      ],
      "id": "ddae135f-5406-4a4c-804a-463ce1116693"
    },
    {
      "cell_type": "code",
      "execution_count": 34,
      "metadata": {
        "vscode": {
          "languageId": "python"
        }
      },
      "outputs": [],
      "source": [
        "(1,2) + (3,4,5) "
      ],
      "id": "0c8736c7-20c5-47ab-86a9-7f5e019762ae"
    },
    {
      "cell_type": "markdown",
      "metadata": {},
      "source": [
        "## 선언\n",
        "\n",
        "`-` 소괄호를 이용"
      ],
      "id": "57372a18-3ba9-4c88-a7ed-16466b27f770"
    },
    {
      "cell_type": "code",
      "execution_count": 35,
      "metadata": {
        "vscode": {
          "languageId": "python"
        }
      },
      "outputs": [],
      "source": [
        "a=(1,2,3)\n",
        "a"
      ],
      "id": "6abf839f-6508-4cdd-b206-81d60a9b7e51"
    },
    {
      "cell_type": "code",
      "execution_count": 36,
      "metadata": {
        "vscode": {
          "languageId": "python"
        }
      },
      "outputs": [],
      "source": [
        "type(a)"
      ],
      "id": "f1e3ef43-ff9b-4d48-9abd-9a32a3282436"
    },
    {
      "cell_type": "markdown",
      "metadata": {},
      "source": [
        "`-` 생략가능하다는 점이 포인트"
      ],
      "id": "bf2d577d-0b2f-4475-b240-4ea4bc8636fa"
    },
    {
      "cell_type": "code",
      "execution_count": 37,
      "metadata": {
        "vscode": {
          "languageId": "python"
        }
      },
      "outputs": [],
      "source": [
        "a=1,2,3\n",
        "a"
      ],
      "id": "0d75df34-45a1-4e7a-aa47-d54140399fb5"
    },
    {
      "cell_type": "code",
      "execution_count": 38,
      "metadata": {
        "vscode": {
          "languageId": "python"
        }
      },
      "outputs": [],
      "source": [
        "type(a)"
      ],
      "id": "7c19b5ab-583b-4bbc-83bb-7fb42ea8f7b3"
    },
    {
      "cell_type": "markdown",
      "metadata": {},
      "source": [
        "`-` 원소가 하나인 튜플을 만들고 싶다면?"
      ],
      "id": "2ff6e7f9-1a81-43c5-a62e-847c9cff74b0"
    },
    {
      "cell_type": "code",
      "execution_count": 39,
      "metadata": {
        "vscode": {
          "languageId": "python"
        }
      },
      "outputs": [],
      "source": [
        "a=(1,)\n",
        "a"
      ],
      "id": "c03564b6-0bbe-4025-91c2-a04ba8b57677"
    },
    {
      "cell_type": "markdown",
      "metadata": {},
      "source": [
        "## 연산\n",
        "\n",
        "`-` 리스트와 동일"
      ],
      "id": "a0eabf89-dcb7-4c2b-b45b-51d2729605da"
    },
    {
      "cell_type": "code",
      "execution_count": 40,
      "metadata": {
        "vscode": {
          "languageId": "python"
        }
      },
      "outputs": [],
      "source": [
        "(1,2)+(3,4,5)"
      ],
      "id": "737f61f9-65e8-4565-a9f9-8c461df799e5"
    },
    {
      "cell_type": "code",
      "execution_count": 41,
      "metadata": {
        "vscode": {
          "languageId": "python"
        }
      },
      "outputs": [],
      "source": [
        "(1,2)*2"
      ],
      "id": "3de368a7-ef39-4236-8fff-cf4b7cc7cc98"
    },
    {
      "cell_type": "markdown",
      "metadata": {},
      "source": [
        "## 인덱싱\n",
        "\n",
        "`-` 리스트와 동일"
      ],
      "id": "a381fb6d-9d28-4570-8cae-82c383c29a65"
    },
    {
      "cell_type": "code",
      "execution_count": 42,
      "metadata": {
        "vscode": {
          "languageId": "python"
        }
      },
      "outputs": [],
      "source": [
        "a=(1,2,3,-4,-5)\n",
        "a"
      ],
      "id": "63725038-b81e-4cb3-b134-f12d8852bd5c"
    },
    {
      "cell_type": "code",
      "execution_count": 43,
      "metadata": {
        "vscode": {
          "languageId": "python"
        }
      },
      "outputs": [],
      "source": [
        "a[-1]"
      ],
      "id": "74feb684-4d23-4703-9ced-64aa66735c76"
    },
    {
      "cell_type": "code",
      "execution_count": 44,
      "metadata": {
        "vscode": {
          "languageId": "python"
        }
      },
      "outputs": [],
      "source": [
        "a[-3:]"
      ],
      "id": "828f829f-d441-488a-bf1d-3b0c4224b0a2"
    },
    {
      "cell_type": "markdown",
      "metadata": {},
      "source": [
        "# Quiz\n",
        "\n",
        "`1`. 길이가 0인 리스트를 만들어라. (비어있는 리스트를 만들어라)\n",
        "\n",
        "`2`. 다음의 실행값 중 가장 큰 숫자가 나오는 보기를 골라라. (에러가 나는\n",
        "코드는 정답에서 제외함)\n",
        "\n",
        "``` python\n",
        "(a) len(3.14) \n",
        "(b) len([3.14]) \n",
        "(c) len('3.14') \n",
        "```\n",
        "\n",
        "`3`. 리스트자료형의 `+`와 `*` 연산을 이용하여 아래와 같은 list를\n",
        "생성하라."
      ],
      "id": "d28c2d45-b0c2-49ae-b199-5836cecc2763"
    },
    {
      "cell_type": "code",
      "execution_count": 30,
      "metadata": {},
      "outputs": [],
      "source": [
        "[1, 2, 2, 3, 3, 3, 4, 4, 4, 4, 5, 5, 5, 5, 5]"
      ],
      "id": "194688b5-bd81-493c-96ad-ef6c122f66fb"
    },
    {
      "cell_type": "markdown",
      "metadata": {},
      "source": [
        "**hint:** 아래의 코드를 관찰해보세요"
      ],
      "id": "a8e08179-a37b-4b03-b282-e752632e738e"
    },
    {
      "cell_type": "code",
      "execution_count": 10,
      "metadata": {},
      "outputs": [],
      "source": [
        "[1]*1+[2]*2 "
      ],
      "id": "ef211e3f-833f-42dd-a64d-5471fd08ab63"
    },
    {
      "cell_type": "markdown",
      "metadata": {},
      "source": [
        "------------------------------------------------------------------------\n",
        "\n",
        "`4`. 아래의 코드를 관찰하고, `sum()`의 기능을 유추하라."
      ],
      "id": "ee0adcea-2fb7-4e98-9843-56731c214b58"
    },
    {
      "cell_type": "code",
      "execution_count": 252,
      "metadata": {},
      "outputs": [],
      "source": [
        "sum([1,0,1,0])"
      ],
      "id": "9eb20961-a36b-40a6-845a-cc443a1cff6a"
    },
    {
      "cell_type": "code",
      "execution_count": 253,
      "metadata": {},
      "outputs": [],
      "source": [
        "sum([True,False,True,False])"
      ],
      "id": "4758b134-787e-43c5-a837-7da6e350ad51"
    },
    {
      "cell_type": "markdown",
      "metadata": {},
      "source": [
        "`5`. 다음과 같은 리스트를 고려하자."
      ],
      "id": "c36b314d-d91a-4fba-90a5-dc7cc8be7e21"
    },
    {
      "cell_type": "code",
      "execution_count": 77,
      "metadata": {},
      "outputs": [],
      "source": [
        "x = [80,60,80,90,55,85,95,100,35,70,75,65,95]\n",
        "x"
      ],
      "id": "adcd5393-fc44-4a27-8d08-a43842609925"
    },
    {
      "cell_type": "markdown",
      "metadata": {},
      "source": [
        "이를 수식으로 표현하면 아래와 같다.\n",
        "\n",
        "${\\bf x} = [x_1,\\dots,x_{13}]=[80,60,80,90,55,85,95,100,35,70,75,65,95]$\n",
        "\n",
        "리스트의 원소중 “$x_i>80$” 의 조건을 만족하는 원소는 모두 몇개인가?\n",
        "\n",
        "**hint:** 리스트컴프리헨션과 `sum()`함수를 이용할 것\n",
        "\n",
        "------------------------------------------------------------------------\n",
        "\n",
        "`6`. 다음과 같은 리스트를 고려하자."
      ],
      "id": "3d81c594-00b0-4f2d-82ad-1060a294771f"
    },
    {
      "cell_type": "code",
      "execution_count": 72,
      "metadata": {},
      "outputs": [],
      "source": [
        "['A','B','C','D','A','A','B','A','F','C','C','C','A']"
      ],
      "id": "a99056e4-5e81-484a-b2cf-24d7a294a25e"
    },
    {
      "cell_type": "markdown",
      "metadata": {},
      "source": [
        "이 리스트에서 ‘A’ 혹은 ’B’의 숫자는 모두 몇개인가?\n",
        "\n",
        "**hint:** 아래를 관찰"
      ],
      "id": "b131a8ad-5d73-499b-a860-14723d893205"
    },
    {
      "cell_type": "code",
      "execution_count": 259,
      "metadata": {},
      "outputs": [],
      "source": [
        "'A' < 'C'"
      ],
      "id": "f9ee06e3-ac32-4198-8b16-9d45c7c74351"
    },
    {
      "cell_type": "code",
      "execution_count": 10,
      "metadata": {},
      "outputs": [],
      "source": [
        "'B' < 'C'"
      ],
      "id": "141f1f7d-707c-4d3e-9cdd-9f27105b08f5"
    },
    {
      "cell_type": "markdown",
      "metadata": {},
      "source": [
        "`7`. 아래와 같은 리스트가 있다고 하자.\n",
        "\n",
        "${\\bf x} = [1,2,1,5,6,2,4,7]$\n",
        "\n",
        "${\\bf y} = [3,2,4,1,2,5,6,7]$\n",
        "\n",
        "이러한 벡터를 파이썬에서 표현하기 위해서 아래와 같은 리스트를 만들었다고\n",
        "하자."
      ],
      "id": "3243a9c6-7fa2-40ea-9991-cf29f98f0449"
    },
    {
      "cell_type": "code",
      "execution_count": 69,
      "metadata": {},
      "outputs": [],
      "source": [
        "x=[1,2,1,5,6,2,4,7]\n",
        "y=[3,2,4,1,2,5,6,7] "
      ],
      "id": "c59afbb4-7ae7-4e88-9dd3-c6a5d0f4f638"
    },
    {
      "cell_type": "markdown",
      "metadata": {},
      "source": [
        "리스트컴프리헨션을 이용하여\n",
        "\n",
        "$${\\bf z}=[x_1^2+y_1^2, \\dots, x_{8}^2+y_{8}^2]=[x_i^2+y_i^2: \\text{for $i = 1,2,3,\\dots,8$}]$$\n",
        "\n",
        "와 같은 리스트를 생성하라.\n",
        "\n",
        "`8`. 아래와 같은 문자열이 있다고 하자."
      ],
      "id": "6499b952-6366-47f8-bc23-e16e649abf32"
    },
    {
      "cell_type": "code",
      "execution_count": 64,
      "metadata": {},
      "outputs": [],
      "source": [
        "test_arr = 'ssh-rsa AAAAB3NzaC1yc2EAAAABIwAAAQEAklOUpkDHrfHY17SbrmTIpNLTGK9Tjom/BWDSUGPl+nafzlHDTYW7hdI4yZ5ew18JH4JW9jbhUFrviQzM7xlELEVf4h9lFX5QVkbPppSwg0cda3Pbv7kOdJ/MTyBlWXFCR+HAo3FXRitBqxiX1nKhXpHAZsMciLq8V6RjsNAQwdsdMFvSlVK/7XAt3FaoJoAsncM1Q9x5+3V0Ww68/eIFmb1zuUFljQJKprrX88XypNDvjYNby6vw/Pb0rwert/EnmZ+AW4OZPnTPI89ZPmVMLuayrD2cE86Z/il8b+gw3r3+1nKatmIkjn2so1d01QraTlMqVSsbxNrRFi9wrf+M7Q== schacon@mylaptop.local'"
      ],
      "id": "feed680f-a484-493c-a0aa-802956b086fb"
    },
    {
      "cell_type": "markdown",
      "metadata": {},
      "source": [
        "이 문자열에서 대문자의 수를 count하라.\n",
        "\n",
        "`9`. 리스트컴프리헨션을 이용하여 아래와 같은 리스트를 생성하라.\n",
        "\n",
        "    ['a',\n",
        "     'aa',\n",
        "     'aaa',\n",
        "     'aaaa',\n",
        "     'aaaaa',\n",
        "     'aaaaaa',\n",
        "     'aaaaaaa',\n",
        "     'aaaaaaaa',\n",
        "     'aaaaaaaaa',\n",
        "     'aaaaaaaaaa'] <- a가 10개있음\n",
        "\n",
        "`10`. 아래와 같은 list가 있다고 하자."
      ],
      "id": "42ad3626-fa7e-44c9-bdb3-b9980b31940a"
    },
    {
      "cell_type": "code",
      "execution_count": 60,
      "metadata": {},
      "outputs": [],
      "source": [
        "test_lst = [['g',1],['u',5],['e',2],['b',8],['i',2],['n',9]]"
      ],
      "id": "22b943d8-5ca4-4b7d-a0bd-60fab8cbb02d"
    },
    {
      "cell_type": "markdown",
      "metadata": {},
      "source": [
        "`test_lst`와 리스트컴프리헨션을 이용하여 아래를 출력하는 코드를\n",
        "구현하라. (2022년 파이썬입문 중간고사 1-(9) 참고)"
      ],
      "id": "37b244a7-3c8d-4776-8407-65e161551b2f"
    },
    {
      "cell_type": "code",
      "execution_count": 7,
      "metadata": {},
      "outputs": [],
      "source": [
        "['g', 'uuuuu', 'ee', 'bbbbbbbb', 'ii', 'nnnnnnnnn']"
      ],
      "id": "18e0d542-8f95-4309-a2f6-5192b31e43d5"
    },
    {
      "cell_type": "markdown",
      "metadata": {},
      "source": [
        "`11`. 아래와 같은 list를 생성하라.\n",
        "\n",
        "``` python\n",
        "[1,2,2,3,3,3]\n",
        "```\n",
        "\n",
        "`12`. 아래와 같은 리스트를 관찰하라."
      ],
      "id": "6fb6557c-782b-48f5-b1ad-7d700527abe0"
    },
    {
      "cell_type": "code",
      "execution_count": 8,
      "metadata": {},
      "outputs": [],
      "source": [
        "lst = ['2022/09/21','2022/10/30','2022/12/25','2023/01/01','2023/01/31','2023/03/20']"
      ],
      "id": "ec4a54c3-c76a-45e5-b1a4-de6d3733f291"
    },
    {
      "cell_type": "markdown",
      "metadata": {},
      "source": [
        "이러한 리스트를 아래와 같은 리스트로 변환하는 코드를 작성하라."
      ],
      "id": "0a12d1c8-1c7f-4bb8-90c6-8b8bddf369e2"
    },
    {
      "cell_type": "code",
      "execution_count": 9,
      "metadata": {},
      "outputs": [],
      "source": [
        "['2022-09-21', '2022-10-30', '2022-12-25', '2023-01-01', '2023-01-31', '2023-03-20']"
      ],
      "id": "f642fb72-eb1d-4727-ac3d-d10afa2c367d"
    },
    {
      "cell_type": "markdown",
      "metadata": {},
      "source": [
        "**hint: string의 `.replace()`기능과 리스트 컴프리헨션의 응용**\n",
        "\n",
        "`13`. 아래와 같은 문자열을 고려하라."
      ],
      "id": "be8fa10f-139f-4662-9247-b1696b47caad"
    },
    {
      "cell_type": "code",
      "execution_count": 165,
      "metadata": {},
      "outputs": [],
      "source": [
        "'2021. 01. 05.'"
      ],
      "id": "688271ac-ac89-4c52-9f09-cb6ddbeafe5f"
    },
    {
      "cell_type": "markdown",
      "metadata": {},
      "source": [
        "띄어쓰기를 제거하는 코드를 구현하라. 즉 출력결과가 아래와 같도록 만드는\n",
        "코드를 구현하라."
      ],
      "id": "aae15ea4-2065-4e07-939c-bd84496bbc59"
    },
    {
      "cell_type": "code",
      "execution_count": 166,
      "metadata": {},
      "outputs": [],
      "source": [
        "'2021.01.05'"
      ],
      "id": "0d787029-986a-47c9-bb16-957cc45aa805"
    },
    {
      "cell_type": "markdown",
      "metadata": {},
      "source": [
        "**hint**: 아래코드 관찰"
      ],
      "id": "09c7657e-f37b-4fbb-a46d-4a87e11d46ed"
    },
    {
      "cell_type": "code",
      "execution_count": 167,
      "metadata": {},
      "outputs": [],
      "source": [
        "'asdf'.replace('a','')"
      ],
      "id": "72269a1f-267d-4161-a66d-4af2f2f9aaba"
    },
    {
      "cell_type": "markdown",
      "metadata": {},
      "source": [
        "------------------------------------------------------------------------\n",
        "\n",
        "`14`. 아래의 코드를 관찰하라."
      ],
      "id": "d8e2a9ec-f48b-4255-becd-5ce8cb3077d5"
    },
    {
      "cell_type": "code",
      "execution_count": 168,
      "metadata": {},
      "outputs": [],
      "source": [
        "'-'.join(['2022','01','05'])"
      ],
      "id": "245a108b-0e78-4f25-b0a4-2b92561d6bd3"
    },
    {
      "cell_type": "code",
      "execution_count": 169,
      "metadata": {},
      "outputs": [],
      "source": [
        "'.'.join(['2022','01','05'])"
      ],
      "id": "1d9c1b2c-9f0d-42bf-86d0-95c00667de2e"
    },
    {
      "cell_type": "markdown",
      "metadata": {},
      "source": [
        "ChatGPT를 이용하여 이 코드가 의미하는 내용을 유추하라.\n",
        "\n",
        "`15`. 아래와 같이 하나의 특수문자로 이루어진 리스트를 고려하자."
      ],
      "id": "d6cdb348-c9af-4f4c-809d-e4554ac78f2e"
    },
    {
      "cell_type": "code",
      "execution_count": 54,
      "metadata": {},
      "outputs": [],
      "source": [
        "block = ['■'] "
      ],
      "id": "5eddf369-f500-4e8d-97e1-fd126dd393cc"
    },
    {
      "cell_type": "markdown",
      "metadata": {},
      "source": [
        "이를 이용하여 아래와 같은 결과를 출력하라."
      ],
      "id": "5197bb8c-c690-4246-9822-96056aa1aa00"
    },
    {
      "cell_type": "code",
      "execution_count": 55,
      "metadata": {},
      "outputs": [],
      "source": [
        "'■-■-■-■-■-■-■-■-■-■' # 여기에서 '■'는 모두 10개 있음"
      ],
      "id": "347489a5-6f75-4854-851f-5f4f3b124491"
    },
    {
      "cell_type": "markdown",
      "metadata": {},
      "source": [
        "**hint:** join을 이용할 것\n",
        "\n",
        "`16`. 아래의 실행결과를 되돌리는 코드를 작성하라."
      ],
      "id": "eb0c4faa-8ed8-40c5-8795-e9b9a1987130"
    },
    {
      "cell_type": "code",
      "execution_count": 15,
      "metadata": {},
      "outputs": [],
      "source": [
        "'2023-03-22'.split('-')"
      ],
      "id": "6d57c8cb-db86-4f1e-b829-3e069d5e4851"
    },
    {
      "cell_type": "markdown",
      "metadata": {},
      "source": [
        "즉 아래와 같은 리스트를"
      ],
      "id": "a4a5ee6f-e91f-457b-bc7b-8e791d54c025"
    },
    {
      "cell_type": "code",
      "execution_count": 12,
      "metadata": {},
      "outputs": [],
      "source": [
        "['2023', '03', '22']"
      ],
      "id": "790a091c-0729-4019-96fa-8798a55aa112"
    },
    {
      "cell_type": "markdown",
      "metadata": {},
      "source": [
        "아래의 string으로 바꾸는 코드를 작성하라."
      ],
      "id": "4325a192-71ae-4c24-b6e9-d68d5f75c1ed"
    },
    {
      "cell_type": "code",
      "execution_count": 14,
      "metadata": {},
      "outputs": [],
      "source": [
        "'2023-03-22'"
      ],
      "id": "8fb6cb34-2af1-4ee6-9318-bf426cfc3ebe"
    },
    {
      "cell_type": "markdown",
      "metadata": {},
      "source": [
        "**hint:** join을 이용할 것\n",
        "\n",
        "------------------------------------------------------------------------\n",
        "\n",
        "`17`. 길이가 1인 튜플을 만들어 자신의 학번을 저장하라. 길이가 1인 튜플을\n",
        "만들어 자신의 영문이름을 저장하라. 두 튜플을 + 연산자로 합쳐아래와 같은\n",
        "출력결과를 얻어라. 최종 결과는 예를들면 아래와 같아야 한다."
      ],
      "id": "a20d661e-93ce-451a-942e-b100386b99d8"
    },
    {
      "cell_type": "code",
      "execution_count": 77,
      "metadata": {},
      "outputs": [],
      "source": [
        "('2021-43052', 'GuebinChoi')"
      ],
      "id": "7e3aea17-ebd3-448c-a97e-dae5f6b93f50"
    },
    {
      "cell_type": "markdown",
      "metadata": {},
      "source": [
        "------------------------------------------------------------------------\n",
        "\n",
        "아래는 파이썬프로그래밍 수강생들의 학번, 이름, 출석점수, 과제점수,\n",
        "중간고사점수, 기말고사점수를 저장한 중첩리스트이다."
      ],
      "id": "e7cd87c3-7073-491c-b238-926f966095a7"
    },
    {
      "cell_type": "code",
      "execution_count": 3,
      "metadata": {},
      "outputs": [],
      "source": [
        "lst = [['2021-43052', 'GuebinChoi', 5, 10, 20, 25],\n",
        "       ['2019-12342', 'Heung-min Son', 10, 15, 30, 15],\n",
        "       ['2018-32234', 'hynn', 7, 20, 30, 15],\n",
        "       ['2022-42323', 'Minji', 8, 20, 20, 35],\n",
        "       ['2023-55342', 'Hanni', 7, 20, 30, 35],\n",
        "       ['2022-46624', 'Danielle', 3, 15, 30, 40],\n",
        "       ['2022-11239', 'Haerin', 10, 20, 30, 40],\n",
        "       ['2022-32114', 'Hyein', 10, 20, 20, 35]]\n",
        "lst "
      ],
      "id": "645b3a31-8581-4b2a-bc91-145f13a78c89"
    },
    {
      "cell_type": "markdown",
      "metadata": {},
      "source": [
        "`18`. 파이썬프로그래밍 수강생의 수는 모두 몇명인가?\n",
        "\n",
        "`19`. 전북대학교 지침에 따라 출석점수가 7보다 작은 학생은 (즉\n",
        "`출석점수 < 7` 일 경우) F학점을 부여하게 되어있다. 이 기준에 따르면 F를\n",
        "받는 학생은 모두 몇명인가?\n",
        "\n",
        "`20`. 파이썬프로그래밍 수업의 경우 `출석+레포트 < 21` 일 경우 F학점을\n",
        "부여한다고 한다. 이 기준에 따르면 F를 받는 학생은 모두 몇명인가?\n",
        "\n",
        "`21`. 리스트의 정렬순서를 \\[학번, 이름, …, 기말고사점수\\] 가 아니라\n",
        "\\[이름, 학번, … , 기말고사점수\\] 와 같이 되도록 변경하는 코드를\n",
        "작성하라.\n",
        "\n",
        "(출력예시)"
      ],
      "id": "9083f642-25e0-4ccc-bd5e-0de18fb905d6"
    },
    {
      "cell_type": "code",
      "execution_count": 22,
      "metadata": {},
      "outputs": [],
      "source": [
        "[[name,studentid,*rest] for studentid, name, *rest in lst]"
      ],
      "id": "04c26c9d-2d21-4248-bc86-bd20948c99d1"
    },
    {
      "cell_type": "markdown",
      "metadata": {},
      "source": [
        "------------------------------------------------------------------------\n",
        "\n",
        "다음은 인터넷에서 긁어온 어떠한 텍스트이다."
      ],
      "id": "e1c2884b-06eb-44c7-af38-058694701140"
    },
    {
      "cell_type": "code",
      "execution_count": 24,
      "metadata": {},
      "outputs": [],
      "source": [
        "text = \"국내뿐 아니라 해외 인기도 심상치 않다. 2023년 1월 18일 'Ditto'가 빌보드 핫 100에 96위로 진입했다. 이는 K-pop 역사상 데뷔후 최단 빌보드 Hot 100 차트 입성 기록이다. 다른 뮤지션들이 보통 데뷔 후 수년간 쌓아온 팬덤을 기반으로 빌보드에 입성한데 비해, 뉴진스의 기록은 이례적인 것으로 평가받고 있다. 또한 'OMG'가 빌보드 핫 100에 91위로 진입한 동시에 'Ditto'는 85위로 순위가 상승, 핫 100 주간차트에 두 곡을 올려놓았다. K-Pop 역사상 이 차트에 두 곡 이상을 진입시킨 아티스트는 방탄소년단과 블랙핑크가 유일하다. 'Ditto'는 1월 셋째주 기준, 빌보드뿐만 아니라 영국 오피셜 싱글 차트 '톱 100'에 2주 연속 진입하기도 했다.\""
      ],
      "id": "7c42b774-6a59-4f6f-9fe9-35806682aca8"
    },
    {
      "cell_type": "markdown",
      "metadata": {},
      "source": [
        "`22`. text는 총 몇개의 문장으로 이루어져 있는가?\n",
        "\n",
        "**hint:** 이 텍스트의 문장은 모두 `.`로 끝난다.\n",
        "\n",
        "`23`. 각 문장은 몇개의 단어로 이루어져 있는가?\n",
        "\n",
        "**hint:** 각 단어는 공백으로 구분된다.\n",
        "\n",
        "`24`. `100`이라는 단어가 포함된 문장은 모두 몇 개 인가?\n",
        "\n",
        "**hint:** 아래의 코드를 관찰"
      ],
      "id": "cbd1c906-a7e9-47bc-bc5c-f05898070630"
    },
    {
      "cell_type": "code",
      "execution_count": 61,
      "metadata": {},
      "outputs": [],
      "source": [
        "'a' in 'abcd'"
      ],
      "id": "0fcadeea-7e76-4c1c-8c21-05fc21ba0c6a"
    }
  ],
  "nbformat": 4,
  "nbformat_minor": 5,
  "metadata": {
    "kernelspec": {
      "name": "python3",
      "display_name": "Python 3 (ipykernel)",
      "language": "python"
    },
    "language_info": {
      "name": "python",
      "codemirror_mode": {
        "name": "ipython",
        "version": "3"
      },
      "file_extension": ".py",
      "mimetype": "text/x-python",
      "nbconvert_exporter": "python",
      "pygments_lexer": "ipython3",
      "version": "3.10.13"
    }
  }
}