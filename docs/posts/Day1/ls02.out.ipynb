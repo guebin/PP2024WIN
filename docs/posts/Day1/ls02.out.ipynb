{
  "cells": [
    {
      "cell_type": "markdown",
      "metadata": {},
      "source": [
        "# Lesson 02: 파이썬의 자료형 II (list, tuple)\n",
        "\n",
        "최규빈  \n",
        "2023-06-24\n",
        "\n",
        "<a href=\"https://colab.research.google.com/github/guebin/PP2024WIN/blob/main/posts/Day1/ls02.ipynb\"><img src=\"https://colab.research.google.com/assets/colab-badge.svg\" style=\"text-align: left\"></a>\n",
        "\n",
        "<https://youtu.be/playlist?list=PLQqh36zP38-ypxlde-A6CVulvzNTU6eiW&si=wkxcazzAAenFBjN2>\n",
        "\n",
        "# list\n",
        "\n",
        "## 선언\n",
        "\n",
        "`-` 리스트의 선언"
      ],
      "id": "64350c6b-4430-4a50-85f1-d82520779862"
    },
    {
      "cell_type": "code",
      "execution_count": 8,
      "metadata": {
        "vscode": {
          "languageId": "python"
        }
      },
      "outputs": [],
      "source": [
        "a=[11,22]\n",
        "a"
      ],
      "id": "9f3b17b8-4f97-47c0-a2d5-7993409423b8"
    },
    {
      "cell_type": "code",
      "execution_count": 9,
      "metadata": {
        "vscode": {
          "languageId": "python"
        }
      },
      "outputs": [],
      "source": [
        "type(a)"
      ],
      "id": "2ef4c156-aecb-4f0b-a020-7e65113dd0dc"
    },
    {
      "cell_type": "markdown",
      "metadata": {},
      "source": [
        "`-` 비어있는 리스트의 선언"
      ],
      "id": "34b327c1-447e-46d7-869d-2a8fcaeaf86b"
    },
    {
      "cell_type": "code",
      "execution_count": 26,
      "metadata": {
        "tags": [],
        "vscode": {
          "languageId": "python"
        }
      },
      "outputs": [],
      "source": [
        "a=[] # 방법1\n",
        "a"
      ],
      "id": "a38b1c1a-c9f6-46f6-b8ce-fb48569c72fd"
    },
    {
      "cell_type": "code",
      "execution_count": 27,
      "metadata": {
        "tags": [],
        "vscode": {
          "languageId": "python"
        }
      },
      "outputs": [],
      "source": [
        "a=list() # 방법2\n",
        "a"
      ],
      "id": "e8f5c680-6947-4537-b2f4-6d518418c130"
    },
    {
      "cell_type": "markdown",
      "metadata": {},
      "source": [
        "## 연산\n",
        "\n",
        "`-` 더하기연산"
      ],
      "id": "fa1ea4af-f357-416b-a30b-2626d56e91b6"
    },
    {
      "cell_type": "code",
      "execution_count": 5,
      "metadata": {
        "vscode": {
          "languageId": "python"
        }
      },
      "outputs": [],
      "source": [
        "a=[11,12]\n",
        "b=[12,13]"
      ],
      "id": "79d6bd44-21d2-4274-b283-a5df2d39db6b"
    },
    {
      "cell_type": "code",
      "execution_count": 6,
      "metadata": {
        "vscode": {
          "languageId": "python"
        }
      },
      "outputs": [],
      "source": [
        "a"
      ],
      "id": "80c3f98b-57e3-462b-a93d-62cf260a9e9d"
    },
    {
      "cell_type": "code",
      "execution_count": 7,
      "metadata": {
        "vscode": {
          "languageId": "python"
        }
      },
      "outputs": [],
      "source": [
        "b"
      ],
      "id": "fd675de2-6ddc-4a4d-bfc3-4455007ae42c"
    },
    {
      "cell_type": "code",
      "execution_count": 8,
      "metadata": {
        "vscode": {
          "languageId": "python"
        }
      },
      "outputs": [],
      "source": [
        "a+b"
      ],
      "id": "5efc9f01-63d4-46ce-a6be-5c31be1891d9"
    },
    {
      "cell_type": "markdown",
      "metadata": {},
      "source": [
        "-   우리의 예상과 다른 결과가 나옴 $\\to$ 파이썬은 R처럼 자체적으로 좋은\n",
        "    계산기능을 내장하고 있지 않음.\n",
        "\n",
        "`-` 브로드캐스팅과 같이 R에서는 당연히 가능했던 기능을 사용할 수 없음."
      ],
      "id": "ae6255dd-19aa-4fee-833a-aae8df5ba393"
    },
    {
      "cell_type": "code",
      "execution_count": 38,
      "metadata": {
        "tags": [],
        "vscode": {
          "languageId": "python"
        }
      },
      "outputs": [],
      "source": [
        "a=[1,2,3]\n",
        "b=1\n",
        "a+b"
      ],
      "id": "27de908e-8426-4d4a-bead-43702510b0d8"
    },
    {
      "cell_type": "markdown",
      "metadata": {},
      "source": [
        "`-` 뺄셈은 정의되지 않음"
      ],
      "id": "9f35555f-db31-4580-97d2-c049d8b708d7"
    },
    {
      "cell_type": "code",
      "execution_count": 39,
      "metadata": {
        "tags": [],
        "vscode": {
          "languageId": "python"
        }
      },
      "outputs": [],
      "source": [
        "a=[1,2]\n",
        "b=[1,2]\n",
        "a-b"
      ],
      "id": "722b5559-7e5c-4636-8e99-359efddf6bba"
    },
    {
      "cell_type": "markdown",
      "metadata": {},
      "source": [
        "`-` 곱하기는 정의가능"
      ],
      "id": "aba68452-e088-414f-84a8-1504d6ac0418"
    },
    {
      "cell_type": "code",
      "execution_count": 11,
      "metadata": {
        "vscode": {
          "languageId": "python"
        }
      },
      "outputs": [],
      "source": [
        "a=[1,2]"
      ],
      "id": "e46da257-9da2-4ecc-ae68-10e14e471ce4"
    },
    {
      "cell_type": "code",
      "execution_count": 12,
      "metadata": {
        "vscode": {
          "languageId": "python"
        }
      },
      "outputs": [],
      "source": [
        "2*a # a+a "
      ],
      "id": "00ef7fe8-0f16-4aff-8d92-1b4c565058f9"
    },
    {
      "cell_type": "markdown",
      "metadata": {},
      "source": [
        "`-` 나눗셈은 정의되지 않음"
      ],
      "id": "0e72e38d-b402-4f41-817d-66f911e30b55"
    },
    {
      "cell_type": "code",
      "execution_count": 13,
      "metadata": {
        "vscode": {
          "languageId": "python"
        }
      },
      "outputs": [],
      "source": [
        "a=[1,2,1,2]\n",
        "a/2"
      ],
      "id": "f583bdb6-776b-42d5-815e-97a462038547"
    },
    {
      "cell_type": "markdown",
      "metadata": {},
      "source": [
        "`-` 더하기와 곱하기는 원소의 추가와 반복추가를 의미하지만 그렇다고 해서\n",
        "뺄셈과 나눗셈이 원소의 삭제를 의미하는것은 아님"
      ],
      "id": "6dc400dd-c023-4472-b998-9805a022dd20"
    },
    {
      "cell_type": "code",
      "execution_count": 49,
      "metadata": {
        "tags": [],
        "vscode": {
          "languageId": "python"
        }
      },
      "outputs": [],
      "source": [
        "a=[1,2,3]\n",
        "a-[3] # 이런건 없다"
      ],
      "id": "d640d22f-a528-444c-8825-85e95094ec89"
    },
    {
      "cell_type": "code",
      "execution_count": 50,
      "metadata": {
        "tags": [],
        "vscode": {
          "languageId": "python"
        }
      },
      "outputs": [],
      "source": [
        "a=[1,2,1,2,1,2]\n",
        "a/3 # 이런건 없다"
      ],
      "id": "93d3f645-d153-4dbf-92a1-78d192d0dfa6"
    },
    {
      "cell_type": "markdown",
      "metadata": {},
      "source": [
        "`-` 더하기와 곱하기가 원소의 추가와 반복추가를 의미하여 편리할때도\n",
        "있긴하지만, 우리는 산술적인 `+`, `*` 를 원하는 경우도 있다. 이럴 경우는\n",
        "어떻게 할 수 있을까?\n",
        "\n",
        "(예제)"
      ],
      "id": "149f2284-60ee-49f8-bca0-2990d962e857"
    },
    {
      "cell_type": "code",
      "execution_count": 52,
      "metadata": {
        "tags": [],
        "vscode": {
          "languageId": "python"
        }
      },
      "outputs": [],
      "source": [
        "a=[1,2]\n",
        "b=[3,4]"
      ],
      "id": "899102b7-43bd-47e5-a004-adec448d6bc1"
    },
    {
      "cell_type": "markdown",
      "metadata": {},
      "source": [
        "a+b = \\[4,6\\] 이 되도록 하려면?\n",
        "\n",
        "(풀이1)"
      ],
      "id": "d004a6fd-7246-4c59-838f-b98111ef34a6"
    },
    {
      "cell_type": "code",
      "execution_count": 67,
      "metadata": {
        "vscode": {
          "languageId": "python"
        }
      },
      "outputs": [],
      "source": [
        "a[0]+b[0] # a의 첫번째 원소를 추출, b의 첫번째 원소를 추출, 둘을 더함 "
      ],
      "id": "8c8ca5b6-5b12-4ce9-b8f8-fddb49fc4cb0"
    },
    {
      "cell_type": "code",
      "execution_count": 18,
      "metadata": {
        "vscode": {
          "languageId": "python"
        }
      },
      "outputs": [],
      "source": [
        "a[1]+b[1] # a의 두번째 원소를 추출, b의 두번째 원소를 추출, 둘을 더함 "
      ],
      "id": "4fb152aa-6fb8-4ded-8e7a-7bc1322a9fa6"
    },
    {
      "cell_type": "code",
      "execution_count": 19,
      "metadata": {
        "vscode": {
          "languageId": "python"
        }
      },
      "outputs": [],
      "source": [
        "[a[0]+b[0],a[1]+b[1]]"
      ],
      "id": "4e4295d8-7c85-402f-ada1-3da02d80dc80"
    },
    {
      "cell_type": "markdown",
      "metadata": {},
      "source": [
        "풀이가 가능한 이유? a,b는 리스트이지만 a\\[0\\], a\\[1\\], b\\[0\\], b\\[1\\] 은\n",
        "각각 인트형임. 인트형은 + 연산이 가능했음.\n",
        "\n",
        "(풀이2)\n",
        "\n",
        "-   numpy 를 이용\n",
        "\n",
        "numpy 패키지 (파이썬의 여러 수치연산들을 담당하는 라이브러리)\n",
        "\n",
        "-   이러한 벡터연산은 누구나 필요로 하는 연산임.\n",
        "-   내가 아니더라도 누군가가 프로그램화 해놓았을 것임.\n",
        "-   그 누군가가 자신이 만든 코드를 잘 정리하여 무료로 배포했을 수도\n",
        "    있음. (패키지를 배포한다고 표현)\n",
        "-   그 패키지를 우리는 가져와서 설치한뒤 사용하기만 하면된다.\n",
        "\n",
        "패키지를 설치하는 방법 (코랩은 이미 설치되어 있음)\n",
        "\n",
        "-   `!pip install numpy` \\# 최신버전을 설치함\n",
        "-   `!conda install -c conda-forge numpy -y` \\# 안전한 버전을 설치함\n",
        "\n",
        "설치된 패키지를 사용하는 방법\n",
        "\n",
        "-   `import numpy` 한뒤에 `numpy.??`로 기능을 사용\n",
        "-   `import numpy as np` 한뒤에 `np.??`로 기능을 사용"
      ],
      "id": "0949f34d-77de-4cbb-8c76-e123aac9ef43"
    },
    {
      "cell_type": "code",
      "execution_count": 49,
      "metadata": {
        "vscode": {
          "languageId": "python"
        }
      },
      "outputs": [],
      "source": [
        "import numpy as np ## 설치한 numpy라는 패키지를 쓰겠음. 그런데 numpy말고 np라는 이름으로 쓰겠음"
      ],
      "id": "ba2ac7bc-9326-4065-9afc-037c5c4b1fc4"
    },
    {
      "cell_type": "code",
      "execution_count": 51,
      "metadata": {
        "vscode": {
          "languageId": "python"
        }
      },
      "outputs": [],
      "source": [
        "np.array(a)"
      ],
      "id": "a6f7c498-1459-4223-9f24-962bfceeede8"
    },
    {
      "cell_type": "code",
      "execution_count": 52,
      "metadata": {
        "vscode": {
          "languageId": "python"
        }
      },
      "outputs": [],
      "source": [
        "a=[1,2]\n",
        "b=[3,4]\n",
        "np.array(a)+np.array(b)"
      ],
      "id": "4d0a6c56-c3db-429f-b004-64324ff55119"
    },
    {
      "cell_type": "markdown",
      "metadata": {},
      "source": [
        "## 인덱싱\n",
        "\n",
        "`-` str형과 동일한 방식"
      ],
      "id": "ac76271c-e747-445b-8e94-9c2a15c9a757"
    },
    {
      "cell_type": "code",
      "execution_count": 75,
      "metadata": {
        "tags": [],
        "vscode": {
          "languageId": "python"
        }
      },
      "outputs": [],
      "source": [
        "a=[11,22,33,44,55] # 0 -4 -3 -2 -1"
      ],
      "id": "cf8a0de8-3802-4d63-84d9-6c4bc341d486"
    },
    {
      "cell_type": "code",
      "execution_count": 76,
      "metadata": {
        "vscode": {
          "languageId": "python"
        }
      },
      "outputs": [],
      "source": [
        "a[-2:] # 끝의 2개의 원소를 뽑음 "
      ],
      "id": "76d0ba13-6dd5-4950-adc7-6df970d3f832"
    },
    {
      "cell_type": "markdown",
      "metadata": {},
      "source": [
        "## 리스트는 컨테이너형 객체이다.\n",
        "\n",
        "`-` 리스트의 원소는 int, float 따위만 가능한 것이 아니다. (리스트는\n",
        "컨테이너형 객체이므로)"
      ],
      "id": "54f7b8f4-a817-4c4e-b860-601bde8a46b8"
    },
    {
      "cell_type": "code",
      "execution_count": 53,
      "metadata": {
        "vscode": {
          "languageId": "python"
        }
      },
      "outputs": [],
      "source": [
        "lst = [1,3.14,True,'a',[1,2], \n",
        "       (1,2),{'name':'iu','age':27},{1,2,3}]"
      ],
      "id": "5232ac18-5f23-481a-b67d-fe7d07260389"
    },
    {
      "cell_type": "code",
      "execution_count": 55,
      "metadata": {
        "vscode": {
          "languageId": "python"
        }
      },
      "outputs": [],
      "source": [
        "lst"
      ],
      "id": "8876bcad-c1f2-4196-8301-fba060f29d52"
    },
    {
      "cell_type": "markdown",
      "metadata": {},
      "source": [
        "각 원소의 타입을 알아보자."
      ],
      "id": "1826ba31-b155-44d7-a6f4-a94692ffaf47"
    },
    {
      "cell_type": "code",
      "execution_count": 80,
      "metadata": {
        "vscode": {
          "languageId": "python"
        }
      },
      "outputs": [],
      "source": [
        "type(lst[0])"
      ],
      "id": "195edf90-bdcc-4056-92c1-a6b0f101b791"
    },
    {
      "cell_type": "code",
      "execution_count": 81,
      "metadata": {
        "vscode": {
          "languageId": "python"
        }
      },
      "outputs": [],
      "source": [
        "type(lst[1])"
      ],
      "id": "f0d21aa3-17d8-4d91-8c6e-4c5be0310886"
    },
    {
      "cell_type": "code",
      "execution_count": 82,
      "metadata": {
        "vscode": {
          "languageId": "python"
        }
      },
      "outputs": [],
      "source": [
        "type(lst[2])"
      ],
      "id": "7f15299c-bc44-425f-9fdb-ba2ea88c57ba"
    },
    {
      "cell_type": "code",
      "execution_count": 83,
      "metadata": {
        "vscode": {
          "languageId": "python"
        }
      },
      "outputs": [],
      "source": [
        "type(lst[3])"
      ],
      "id": "04d1407a-134c-497d-9bff-1f6328463958"
    },
    {
      "cell_type": "code",
      "execution_count": 84,
      "metadata": {
        "vscode": {
          "languageId": "python"
        }
      },
      "outputs": [],
      "source": [
        "type(lst[4])"
      ],
      "id": "251f8901-35e2-49d3-bcc9-8df687c398d6"
    },
    {
      "cell_type": "code",
      "execution_count": 85,
      "metadata": {
        "vscode": {
          "languageId": "python"
        }
      },
      "outputs": [],
      "source": [
        "type(lst[5])"
      ],
      "id": "fc6e51bd-ef7d-4fdf-b83a-b68dbd8e2ca4"
    },
    {
      "cell_type": "code",
      "execution_count": 86,
      "metadata": {
        "vscode": {
          "languageId": "python"
        }
      },
      "outputs": [],
      "source": [
        "type(lst[6])"
      ],
      "id": "7bf25447-277b-4ecd-a0c2-11ca62978eb5"
    },
    {
      "cell_type": "code",
      "execution_count": 87,
      "metadata": {
        "vscode": {
          "languageId": "python"
        }
      },
      "outputs": [],
      "source": [
        "type(lst[7])"
      ],
      "id": "f5de5bed-9f2c-45a3-a999-6c6a6b603751"
    },
    {
      "cell_type": "markdown",
      "metadata": {},
      "source": [
        "`-` str은 컨테이너형이 아니다."
      ],
      "id": "0da7b457-48ef-462c-b8a1-5b9129eca968"
    },
    {
      "cell_type": "code",
      "execution_count": 57,
      "metadata": {
        "vscode": {
          "languageId": "python"
        }
      },
      "outputs": [],
      "source": [
        "'abcd'[2]"
      ],
      "id": "e4ae066a-74c4-48f9-908b-41e92ac5cdf4"
    },
    {
      "cell_type": "markdown",
      "metadata": {},
      "source": [
        "-   str의 모든 원소는 문자임\n",
        "\n",
        "## 리스트는 가변형 객체이다.\n",
        "\n",
        "**리스트의 원소 수정**\n",
        "\n",
        "`-` 리스트의 원소를 수정할 수 있다. (리스트는 가변객체이므로)"
      ],
      "id": "bafea43c-ab87-4366-aa7c-292e56a7ece5"
    },
    {
      "cell_type": "code",
      "execution_count": 58,
      "metadata": {
        "vscode": {
          "languageId": "python"
        }
      },
      "outputs": [],
      "source": [
        "a=[11,22,33]\n",
        "a"
      ],
      "id": "fc9f6aa4-3683-4165-b558-89e26d6fcd77"
    },
    {
      "cell_type": "code",
      "execution_count": 97,
      "metadata": {
        "vscode": {
          "languageId": "python"
        }
      },
      "outputs": [],
      "source": [
        "a[0]"
      ],
      "id": "a77fcc83-b574-47ca-97e0-60d96c5368ba"
    },
    {
      "cell_type": "code",
      "execution_count": 98,
      "metadata": {
        "vscode": {
          "languageId": "python"
        }
      },
      "outputs": [],
      "source": [
        "a[0]=111"
      ],
      "id": "c3d183ad-f215-42e7-8135-985c19cebce6"
    },
    {
      "cell_type": "code",
      "execution_count": 99,
      "metadata": {
        "vscode": {
          "languageId": "python"
        }
      },
      "outputs": [],
      "source": [
        "a"
      ],
      "id": "a11b4638-e8f2-4672-888c-e17ec6ed4c56"
    },
    {
      "cell_type": "markdown",
      "metadata": {},
      "source": [
        "`-` 원소수정은 당연한 기능같은데 이것이 불가능한 경우도 있다.\n",
        "\n",
        "(가능한경우)"
      ],
      "id": "60470280-3751-4bb0-8363-b294fa4e666a"
    },
    {
      "cell_type": "code",
      "execution_count": 108,
      "metadata": {
        "tags": [],
        "vscode": {
          "languageId": "python"
        }
      },
      "outputs": [],
      "source": [
        "a=['g','u','e','b','i','n']\n",
        "a"
      ],
      "id": "4e512f30-0d0e-4521-b7f8-3c3502d8b45d"
    },
    {
      "cell_type": "code",
      "execution_count": 109,
      "metadata": {
        "tags": [],
        "vscode": {
          "languageId": "python"
        }
      },
      "outputs": [],
      "source": [
        "a[0]"
      ],
      "id": "78913261-4417-4475-a12b-2ecda95a11da"
    },
    {
      "cell_type": "code",
      "execution_count": 110,
      "metadata": {
        "tags": [],
        "vscode": {
          "languageId": "python"
        }
      },
      "outputs": [],
      "source": [
        "a[0]='G'"
      ],
      "id": "d521469d-6bd5-44a5-824b-2c734690a0bb"
    },
    {
      "cell_type": "code",
      "execution_count": 111,
      "metadata": {
        "tags": [],
        "vscode": {
          "languageId": "python"
        }
      },
      "outputs": [],
      "source": [
        "a"
      ],
      "id": "f6741217-3566-487b-8389-4b06fb9f7846"
    },
    {
      "cell_type": "markdown",
      "metadata": {},
      "source": [
        "(불가능한경우)"
      ],
      "id": "f5822521-c2fb-4dbf-86a6-9126f4ee2545"
    },
    {
      "cell_type": "code",
      "execution_count": 112,
      "metadata": {
        "tags": [],
        "vscode": {
          "languageId": "python"
        }
      },
      "outputs": [],
      "source": [
        "a='guebin'\n",
        "a"
      ],
      "id": "69de5b4b-303f-4fbf-97d2-2ea057efb763"
    },
    {
      "cell_type": "code",
      "execution_count": 113,
      "metadata": {
        "tags": [],
        "vscode": {
          "languageId": "python"
        }
      },
      "outputs": [],
      "source": [
        "type(a)"
      ],
      "id": "292791ee-bebb-4638-a3d1-91f2534898e7"
    },
    {
      "cell_type": "code",
      "execution_count": 114,
      "metadata": {
        "tags": [],
        "vscode": {
          "languageId": "python"
        }
      },
      "outputs": [],
      "source": [
        "a[0]"
      ],
      "id": "c89fd5c0-09d1-44df-8fdd-5e30cf7737f9"
    },
    {
      "cell_type": "code",
      "execution_count": 115,
      "metadata": {
        "tags": [],
        "vscode": {
          "languageId": "python"
        }
      },
      "outputs": [],
      "source": [
        "a[0]='G'"
      ],
      "id": "11047950-3bea-47cd-b4c6-067aea25f90e"
    },
    {
      "cell_type": "markdown",
      "metadata": {},
      "source": [
        "**리스트의 원소 삭제**\n",
        "\n",
        "(예제)\n",
        "\n",
        "아래와 같이 문자로 된 리스트를 선언하자."
      ],
      "id": "0cdeb9f8-bcdf-481b-bd1a-328b56be42c6"
    },
    {
      "cell_type": "code",
      "execution_count": 118,
      "metadata": {
        "vscode": {
          "languageId": "python"
        }
      },
      "outputs": [],
      "source": [
        "a=['g','u','e','b','i','n']\n",
        "a"
      ],
      "id": "f9570ff3-37ea-4239-8d19-26da3daf4831"
    },
    {
      "cell_type": "markdown",
      "metadata": {},
      "source": [
        "사실 더 쉽게 선언할 수 있음"
      ],
      "id": "7fa08320-145c-46c7-ae3c-57d8b470451b"
    },
    {
      "cell_type": "code",
      "execution_count": 120,
      "metadata": {
        "vscode": {
          "languageId": "python"
        }
      },
      "outputs": [],
      "source": [
        "a= 'guebin' # string으로 a를 선언\n",
        "a= list(a) # list(a)를 통하여 str을 ㅣist로 변환 -> 그 결과를 a에 다시 저장\n",
        "a"
      ],
      "id": "cccdef08-6317-4a82-9c1f-f87cf59fb8f7"
    },
    {
      "cell_type": "markdown",
      "metadata": {},
      "source": [
        "**리스트의 원소 추가**\n",
        "\n",
        "(예제) 비어있는 리스트를 만들고 원소 0,1,2를 차례로 추가하여 보자.\n",
        "\n",
        "(풀이1)"
      ],
      "id": "d44c3844-d611-4e52-84cc-5775edc4714e"
    },
    {
      "cell_type": "code",
      "execution_count": 130,
      "metadata": {
        "vscode": {
          "languageId": "python"
        }
      },
      "outputs": [],
      "source": [
        "a=[]\n",
        "a"
      ],
      "id": "d61cf09a-0f9f-4f94-8a3c-95b173e13442"
    },
    {
      "cell_type": "code",
      "execution_count": 131,
      "metadata": {
        "vscode": {
          "languageId": "python"
        }
      },
      "outputs": [],
      "source": [
        "a= a + [0] \n",
        "a"
      ],
      "id": "831767cc-3efc-42e6-a6da-53c81092d6fc"
    },
    {
      "cell_type": "code",
      "execution_count": 132,
      "metadata": {
        "vscode": {
          "languageId": "python"
        }
      },
      "outputs": [],
      "source": [
        "a= a + [1]\n",
        "a"
      ],
      "id": "594b7449-3906-4937-a2be-72e5543439c0"
    },
    {
      "cell_type": "code",
      "execution_count": 133,
      "metadata": {
        "vscode": {
          "languageId": "python"
        }
      },
      "outputs": [],
      "source": [
        "a= a + [2]\n",
        "a"
      ],
      "id": "85d5cddb-c5cd-40a1-8858-01c38a18f2ff"
    },
    {
      "cell_type": "markdown",
      "metadata": {},
      "source": [
        "(풀이2)"
      ],
      "id": "ac4f584d-f922-40b4-bbd9-2301397de9bf"
    },
    {
      "cell_type": "code",
      "execution_count": 74,
      "metadata": {
        "vscode": {
          "languageId": "python"
        }
      },
      "outputs": [],
      "source": [
        "a=[]\n",
        "a"
      ],
      "id": "f7069317-fe32-4d42-a1b5-4b499d8c6fb8"
    },
    {
      "cell_type": "code",
      "execution_count": 75,
      "metadata": {
        "vscode": {
          "languageId": "python"
        }
      },
      "outputs": [],
      "source": [
        "a += [0] \n",
        "a"
      ],
      "id": "d043530b-1f4c-4b5c-8db6-1b1b16073d25"
    },
    {
      "cell_type": "code",
      "execution_count": 76,
      "metadata": {
        "vscode": {
          "languageId": "python"
        }
      },
      "outputs": [],
      "source": [
        "a += [1]\n",
        "a"
      ],
      "id": "66ec8ed6-5319-4bb5-940b-00d728dc5083"
    },
    {
      "cell_type": "code",
      "execution_count": 77,
      "metadata": {
        "vscode": {
          "languageId": "python"
        }
      },
      "outputs": [],
      "source": [
        "a += [2]\n",
        "a"
      ],
      "id": "d40e1a11-2e5b-4a28-ac4e-d529e059b461"
    },
    {
      "cell_type": "markdown",
      "metadata": {},
      "source": [
        "-   암기법: 중복되는 변수를 지우고 연산자의 순서를 바꾼다.\n",
        "\n",
        "(풀이3) 리스트 특화기능(=메소드)를 이용"
      ],
      "id": "c958e584-1fb3-424b-9057-d79b1bd82851"
    },
    {
      "cell_type": "code",
      "execution_count": 154,
      "metadata": {
        "tags": [],
        "vscode": {
          "languageId": "python"
        }
      },
      "outputs": [],
      "source": [
        "a=[]\n",
        "a"
      ],
      "id": "2f126016-75de-4a6c-9e86-d99b129e44e2"
    },
    {
      "cell_type": "code",
      "execution_count": 155,
      "metadata": {
        "tags": [],
        "vscode": {
          "languageId": "python"
        }
      },
      "outputs": [],
      "source": [
        "a.append(0)\n",
        "a"
      ],
      "id": "fe3e9657-dd8e-4bba-a3c6-6a584da00f38"
    },
    {
      "cell_type": "code",
      "execution_count": 156,
      "metadata": {
        "tags": [],
        "vscode": {
          "languageId": "python"
        }
      },
      "outputs": [],
      "source": [
        "a.append(1)\n",
        "a"
      ],
      "id": "0df5b8c5-69bb-42c8-9625-ef6c6ea40381"
    },
    {
      "cell_type": "code",
      "execution_count": 157,
      "metadata": {
        "tags": [],
        "vscode": {
          "languageId": "python"
        }
      },
      "outputs": [],
      "source": [
        "a.append(2)\n",
        "a"
      ],
      "id": "38c29cd4-a278-4f3d-a364-9f75d04e6380"
    },
    {
      "cell_type": "markdown",
      "metadata": {},
      "source": [
        "`-` `a+[4]`와 `a.append(4)`의 차이점은?\n",
        "\n",
        "(관찰1)"
      ],
      "id": "1eeb2f21-6ad1-484f-baef-d6f0b5511a73"
    },
    {
      "cell_type": "code",
      "execution_count": 149,
      "metadata": {
        "vscode": {
          "languageId": "python"
        }
      },
      "outputs": [],
      "source": [
        "a=[1,2,3]\n",
        "a+[4] ## 리스트 a와 리스트 [4]의 연산결과를 알려줘 "
      ],
      "id": "52eb1d51-f837-408d-b37c-cabe0ab90f04"
    },
    {
      "cell_type": "code",
      "execution_count": 151,
      "metadata": {
        "vscode": {
          "languageId": "python"
        }
      },
      "outputs": [],
      "source": [
        "a ## a는 그대로임. 변화없음 "
      ],
      "id": "d837aa40-6737-46c9-8770-c76fa3b6db08"
    },
    {
      "cell_type": "markdown",
      "metadata": {},
      "source": [
        "(관찰2)"
      ],
      "id": "34d36ec0-02ba-4643-9095-f1728fb9ab36"
    },
    {
      "cell_type": "code",
      "execution_count": 152,
      "metadata": {
        "vscode": {
          "languageId": "python"
        }
      },
      "outputs": [],
      "source": [
        "a=[1,2,3]\n",
        "a.append(4)"
      ],
      "id": "aa25fb89-7a7d-4471-9b69-c62c2915f6ae"
    },
    {
      "cell_type": "code",
      "execution_count": 154,
      "metadata": {
        "vscode": {
          "languageId": "python"
        }
      },
      "outputs": [],
      "source": [
        "a ## a자체가 변화함 "
      ],
      "id": "5cc35555-2bd8-4f1e-a079-9ce07c621eb6"
    },
    {
      "cell_type": "markdown",
      "metadata": {},
      "source": [
        "비슷해보이지만 굉장히 미묘한 차이가 있음\n",
        "\n",
        "`a.append(4)`: `a`에 4를 append하라 $\\to$ `a`가 변함\n",
        "\n",
        "`a+[4]`: `a`와 4를 연산하라\n",
        "\n",
        "## list 특수기능\n",
        "\n",
        "**(append)**"
      ],
      "id": "a5007f91-153a-4919-9327-0c55aaa993e4"
    },
    {
      "cell_type": "code",
      "execution_count": 162,
      "metadata": {
        "vscode": {
          "languageId": "python"
        }
      },
      "outputs": [],
      "source": [
        "a=[1,2,3,4]\n",
        "a.append?"
      ],
      "id": "3851b578-23dd-4755-9b11-e8dfd8065916"
    },
    {
      "cell_type": "code",
      "execution_count": 163,
      "metadata": {
        "vscode": {
          "languageId": "python"
        }
      },
      "outputs": [],
      "source": [
        "a.append(5)\n",
        "a"
      ],
      "id": "8980d784-d929-4226-92fa-8d1db6726996"
    },
    {
      "cell_type": "markdown",
      "metadata": {},
      "source": [
        "**(clear)**"
      ],
      "id": "d01e185b-0f1d-4533-a104-fdc88e107f51"
    },
    {
      "cell_type": "code",
      "execution_count": 166,
      "metadata": {
        "vscode": {
          "languageId": "python"
        }
      },
      "outputs": [],
      "source": [
        "a=[1,2,3,4]\n",
        "a.clear?"
      ],
      "id": "1bf65ba0-48f8-47bf-b679-4597e656a475"
    },
    {
      "cell_type": "code",
      "execution_count": 168,
      "metadata": {
        "vscode": {
          "languageId": "python"
        }
      },
      "outputs": [],
      "source": [
        "a.clear()\n",
        "a"
      ],
      "id": "e1d8f438-e0c3-4b7c-bb5d-7f114caf68d7"
    },
    {
      "cell_type": "markdown",
      "metadata": {},
      "source": [
        "**(copy)**"
      ],
      "id": "71bf1ad3-5694-489c-b7a2-9e94d923ac43"
    },
    {
      "cell_type": "code",
      "execution_count": 170,
      "metadata": {
        "vscode": {
          "languageId": "python"
        }
      },
      "outputs": [],
      "source": [
        "a=[1,2,3,4]\n",
        "a.copy?"
      ],
      "id": "8128859f-f56b-41fe-989c-90dc371b3291"
    },
    {
      "cell_type": "code",
      "execution_count": 171,
      "metadata": {
        "vscode": {
          "languageId": "python"
        }
      },
      "outputs": [],
      "source": [
        "b=a.copy()\n",
        "b"
      ],
      "id": "24453be5-f6fb-46ae-b3f7-a580d211bbea"
    },
    {
      "cell_type": "markdown",
      "metadata": {},
      "source": [
        "**(count)**"
      ],
      "id": "d5c420df-8e42-4633-8340-180da7a6514b"
    },
    {
      "cell_type": "code",
      "execution_count": 179,
      "metadata": {
        "vscode": {
          "languageId": "python"
        }
      },
      "outputs": [],
      "source": [
        "a=[1,1,2,3,3,4,4,4]\n",
        "a.count?"
      ],
      "id": "aaa9ba0a-b161-4bde-9070-ff6915c58407"
    },
    {
      "cell_type": "code",
      "execution_count": 181,
      "metadata": {
        "vscode": {
          "languageId": "python"
        }
      },
      "outputs": [],
      "source": [
        "a.count(1)"
      ],
      "id": "9029bb3b-d51e-4efe-ae53-b0f08a1b818a"
    },
    {
      "cell_type": "code",
      "execution_count": 182,
      "metadata": {
        "vscode": {
          "languageId": "python"
        }
      },
      "outputs": [],
      "source": [
        "a.count(2)"
      ],
      "id": "67124330-87eb-45d3-aae2-800d8c0616a9"
    },
    {
      "cell_type": "code",
      "execution_count": 183,
      "metadata": {
        "vscode": {
          "languageId": "python"
        }
      },
      "outputs": [],
      "source": [
        "a.count(3)"
      ],
      "id": "3573e548-2bea-4499-8272-30be98c9863f"
    },
    {
      "cell_type": "code",
      "execution_count": 184,
      "metadata": {
        "vscode": {
          "languageId": "python"
        }
      },
      "outputs": [],
      "source": [
        "a.count(4)"
      ],
      "id": "826194d3-6949-4d50-98ee-24441272dca7"
    },
    {
      "cell_type": "markdown",
      "metadata": {},
      "source": [
        "**(extend)**"
      ],
      "id": "f79c949f-87f8-4f54-83c0-2357b8382b48"
    },
    {
      "cell_type": "code",
      "execution_count": 198,
      "metadata": {
        "vscode": {
          "languageId": "python"
        }
      },
      "outputs": [],
      "source": [
        "a=[1,2,3,4]\n",
        "b=[-1,-2,-3,-4]"
      ],
      "id": "069f7a74-6913-447d-b8c2-6b51d7951d75"
    },
    {
      "cell_type": "code",
      "execution_count": 199,
      "metadata": {
        "vscode": {
          "languageId": "python"
        }
      },
      "outputs": [],
      "source": [
        "a.extend(b)\n",
        "a"
      ],
      "id": "60708d1e-2097-4f55-a971-56e2438a2190"
    },
    {
      "cell_type": "code",
      "execution_count": 200,
      "metadata": {
        "vscode": {
          "languageId": "python"
        }
      },
      "outputs": [],
      "source": [
        "a=[1,2,3,4]\n",
        "b=[-1,-2,-3,-4]"
      ],
      "id": "46015c7c-ef06-4d14-be57-bb480effe1c8"
    },
    {
      "cell_type": "code",
      "execution_count": 201,
      "metadata": {
        "vscode": {
          "languageId": "python"
        }
      },
      "outputs": [],
      "source": [
        "a.append(b)"
      ],
      "id": "3868229a-46a5-4259-8ded-c4d568561bb2"
    },
    {
      "cell_type": "code",
      "execution_count": 202,
      "metadata": {
        "vscode": {
          "languageId": "python"
        }
      },
      "outputs": [],
      "source": [
        "a"
      ],
      "id": "3d0a4c67-0178-4393-b82a-9b1eb207d990"
    },
    {
      "cell_type": "markdown",
      "metadata": {},
      "source": [
        "**(index)**"
      ],
      "id": "c8e4a147-8b9e-4d48-835d-16f9be026ce4"
    },
    {
      "cell_type": "code",
      "execution_count": 236,
      "metadata": {
        "vscode": {
          "languageId": "python"
        }
      },
      "outputs": [],
      "source": [
        "a=[11,22,'a',True, 22,'a']\n",
        "a.index?"
      ],
      "id": "8b890c76-162b-4120-93ac-5966f9a696dc"
    },
    {
      "cell_type": "code",
      "execution_count": 237,
      "metadata": {
        "vscode": {
          "languageId": "python"
        }
      },
      "outputs": [],
      "source": [
        "a.index(11)"
      ],
      "id": "87b97700-b21f-45ee-9505-1a67ad5f09a0"
    },
    {
      "cell_type": "code",
      "execution_count": 238,
      "metadata": {
        "vscode": {
          "languageId": "python"
        }
      },
      "outputs": [],
      "source": [
        "a.index(22)"
      ],
      "id": "b35a2757-358d-4b06-847e-3246e6071b25"
    },
    {
      "cell_type": "code",
      "execution_count": 239,
      "metadata": {
        "vscode": {
          "languageId": "python"
        }
      },
      "outputs": [],
      "source": [
        "a.index('a')"
      ],
      "id": "ef6df1f9-8050-49c9-8173-db246c18f038"
    },
    {
      "cell_type": "code",
      "execution_count": 240,
      "metadata": {
        "vscode": {
          "languageId": "python"
        }
      },
      "outputs": [],
      "source": [
        "a.index(True)"
      ],
      "id": "88688402-8cd2-4860-8b7a-7b76e85e3f76"
    },
    {
      "cell_type": "markdown",
      "metadata": {},
      "source": [
        "**(insert)**"
      ],
      "id": "8c0be9a4-4597-4ad1-8e83-b9bc19d24e2b"
    },
    {
      "cell_type": "code",
      "execution_count": 242,
      "metadata": {
        "vscode": {
          "languageId": "python"
        }
      },
      "outputs": [],
      "source": [
        "a=[1,2,3]\n",
        "a.insert?"
      ],
      "id": "e10e36f8-072d-4a05-9d88-8e2492b46507"
    },
    {
      "cell_type": "code",
      "execution_count": 243,
      "metadata": {
        "vscode": {
          "languageId": "python"
        }
      },
      "outputs": [],
      "source": [
        "a.insert(1,88) \n",
        "a"
      ],
      "id": "bdfacd70-6de1-4da4-b970-bbe3d7c9c282"
    },
    {
      "cell_type": "markdown",
      "metadata": {},
      "source": [
        "**(pop)**"
      ],
      "id": "2c2a1184-2e63-4312-b556-c2707bb631b7"
    },
    {
      "cell_type": "code",
      "execution_count": 250,
      "metadata": {
        "vscode": {
          "languageId": "python"
        }
      },
      "outputs": [],
      "source": [
        "a=['a',1,2,'d']\n",
        "a.pop?"
      ],
      "id": "3528b269-7de0-4b9c-b2da-876df6b48447"
    },
    {
      "cell_type": "code",
      "execution_count": 251,
      "metadata": {
        "vscode": {
          "languageId": "python"
        }
      },
      "outputs": [],
      "source": [
        "a.pop() # index=-1 이므로 마지막원소가 나타남"
      ],
      "id": "0121e8ea-a7a2-47b5-ad64-4cbf471b0cbe"
    },
    {
      "cell_type": "code",
      "execution_count": 252,
      "metadata": {
        "vscode": {
          "languageId": "python"
        }
      },
      "outputs": [],
      "source": [
        "a # a는 마지막 원소가 사라진 상태"
      ],
      "id": "d9d7be83-5f74-450b-be5c-851849d7f343"
    },
    {
      "cell_type": "code",
      "execution_count": 253,
      "metadata": {
        "vscode": {
          "languageId": "python"
        }
      },
      "outputs": [],
      "source": [
        "a.pop(0) # index=0 이므로 첫번쨰 원소가 나타남"
      ],
      "id": "25aa58d3-1b46-45fe-a6a5-ae60035b0368"
    },
    {
      "cell_type": "code",
      "execution_count": 254,
      "metadata": {
        "vscode": {
          "languageId": "python"
        }
      },
      "outputs": [],
      "source": [
        "a # a에는 첫번째 원소가 사라진 상태"
      ],
      "id": "f2e489cd-856d-4f31-a44b-648729fde9fa"
    },
    {
      "cell_type": "markdown",
      "metadata": {},
      "source": [
        "**(remove)**"
      ],
      "id": "638319f6-206a-4436-b4f2-9312823e1084"
    },
    {
      "cell_type": "code",
      "execution_count": 255,
      "metadata": {
        "vscode": {
          "languageId": "python"
        }
      },
      "outputs": [],
      "source": [
        "a=['a',2,3,'d']\n",
        "a.remove?"
      ],
      "id": "96103ab2-113f-4b17-afb6-eda220b8e3e8"
    },
    {
      "cell_type": "code",
      "execution_count": 256,
      "metadata": {
        "vscode": {
          "languageId": "python"
        }
      },
      "outputs": [],
      "source": [
        "a.remove('d')"
      ],
      "id": "0f5bbdbc-7538-4f77-af89-5e0566d64c0c"
    },
    {
      "cell_type": "code",
      "execution_count": 257,
      "metadata": {
        "vscode": {
          "languageId": "python"
        }
      },
      "outputs": [],
      "source": [
        "a"
      ],
      "id": "aa6de459-bb5c-4ac9-b950-133a2ab6914f"
    },
    {
      "cell_type": "code",
      "execution_count": 259,
      "metadata": {
        "vscode": {
          "languageId": "python"
        }
      },
      "outputs": [],
      "source": [
        "a.remove('a')"
      ],
      "id": "5a878a34-e3f4-4cc5-b2ec-56b3fa5b8b9d"
    },
    {
      "cell_type": "code",
      "execution_count": 260,
      "metadata": {
        "vscode": {
          "languageId": "python"
        }
      },
      "outputs": [],
      "source": [
        "a"
      ],
      "id": "1db057c1-8567-427e-8cd0-0a5569cafc52"
    },
    {
      "cell_type": "markdown",
      "metadata": {},
      "source": [
        "**(reverse)**"
      ],
      "id": "7a80ca46-0338-49ec-ad58-77cf27d96591"
    },
    {
      "cell_type": "code",
      "execution_count": 262,
      "metadata": {
        "vscode": {
          "languageId": "python"
        }
      },
      "outputs": [],
      "source": [
        "a=[1,2,3,4]\n",
        "a.reverse?"
      ],
      "id": "d2845a7d-0ed6-40ef-b377-abd20ec460b2"
    },
    {
      "cell_type": "code",
      "execution_count": 263,
      "metadata": {
        "vscode": {
          "languageId": "python"
        }
      },
      "outputs": [],
      "source": [
        "a.reverse()\n",
        "a"
      ],
      "id": "6c51b8d5-9dc8-435c-a263-a551daaff75e"
    },
    {
      "cell_type": "markdown",
      "metadata": {},
      "source": [
        "**(sort)**"
      ],
      "id": "da122997-1ab5-43cb-8c14-e43e607bb164"
    },
    {
      "cell_type": "code",
      "execution_count": 265,
      "metadata": {
        "vscode": {
          "languageId": "python"
        }
      },
      "outputs": [],
      "source": [
        "a=[1,3,2,4]\n",
        "a.sort?"
      ],
      "id": "c30c02bb-d39b-4da0-8ab7-17044a15acb8"
    },
    {
      "cell_type": "code",
      "execution_count": 266,
      "metadata": {
        "vscode": {
          "languageId": "python"
        }
      },
      "outputs": [],
      "source": [
        "a.sort()\n",
        "a"
      ],
      "id": "753e6d97-7235-4005-9289-4e15cfc428f6"
    },
    {
      "cell_type": "markdown",
      "metadata": {},
      "source": [
        "(다른예제들)"
      ],
      "id": "8e7c87e7-5aca-48f1-8d04-bcb41b93d44b"
    },
    {
      "cell_type": "code",
      "execution_count": 271,
      "metadata": {
        "vscode": {
          "languageId": "python"
        }
      },
      "outputs": [],
      "source": [
        "a=list('guebin')\n",
        "a"
      ],
      "id": "1924cbc9-1831-41b3-9f44-70fa19e5ac8f"
    },
    {
      "cell_type": "code",
      "execution_count": 272,
      "metadata": {
        "vscode": {
          "languageId": "python"
        }
      },
      "outputs": [],
      "source": [
        "a.sort()\n",
        "a"
      ],
      "id": "a295fc81-5af0-4b14-8a39-1b59267fce95"
    },
    {
      "cell_type": "code",
      "execution_count": 274,
      "metadata": {
        "vscode": {
          "languageId": "python"
        }
      },
      "outputs": [],
      "source": [
        "a.sort(reverse=True)\n",
        "a"
      ],
      "id": "391d1e90-8b24-4f3d-9730-2fef01fd48c2"
    },
    {
      "cell_type": "markdown",
      "metadata": {},
      "source": [
        "## 중첩 리스트"
      ],
      "id": "82393260-cfc2-4e1f-9eb2-d3a2998b97a4"
    },
    {
      "cell_type": "code",
      "execution_count": 16,
      "metadata": {
        "tags": [],
        "vscode": {
          "languageId": "python"
        }
      },
      "outputs": [],
      "source": [
        "A=[[1,2,3],[4,5,6],[7,8,9]]\n",
        "A"
      ],
      "id": "936ecd8b-e124-4e88-9225-18b860b1dfce"
    },
    {
      "cell_type": "markdown",
      "metadata": {},
      "source": [
        "`-` A는 아래와 같은 매트릭스로 이해할 수 있다\n",
        "\n",
        "\\$"
      ],
      "id": "a6fc407e-4554-456b-b695-108ae19550a6"
    },
    {
      "cell_type": "raw",
      "metadata": {
        "raw_mimetype": "tex"
      },
      "source": [
        "\\begin{bmatrix}\n",
        "1 & 2 & 3 \\\\ \n",
        "4 & 5 & 6 \\\\ \n",
        "7 & 8 & 9 \n",
        "\\end{bmatrix}"
      ],
      "id": "bf6928b1-5f68-4c17-b085-d202cd25f1e8"
    },
    {
      "cell_type": "markdown",
      "metadata": {},
      "source": [
        "\\$\n",
        "\n",
        "`-` A에서 (2,1)의 원소를 뽑고싶다 = 4를 뽑고싶다"
      ],
      "id": "d8e4ae08-e701-4159-9873-59075832089e"
    },
    {
      "cell_type": "code",
      "execution_count": 93,
      "metadata": {
        "vscode": {
          "languageId": "python"
        }
      },
      "outputs": [],
      "source": [
        "A[1,0]"
      ],
      "id": "f62f9541-d4ba-458b-ad53-41afbe2fd51f"
    },
    {
      "cell_type": "markdown",
      "metadata": {},
      "source": [
        "-   실패"
      ],
      "id": "d67c5cb8-01c3-42ab-88ac-e68e03e696e1"
    },
    {
      "cell_type": "code",
      "execution_count": 278,
      "metadata": {
        "vscode": {
          "languageId": "python"
        }
      },
      "outputs": [],
      "source": [
        "A[1][0]"
      ],
      "id": "105a9512-bab8-41cc-b458-0e855c9cdfd6"
    },
    {
      "cell_type": "markdown",
      "metadata": {},
      "source": [
        "-   성공\n",
        "\n",
        "`-` 성공의 이유를 분석해보자."
      ],
      "id": "f36d8964-cd21-4b5f-82c0-2cf7d06f0d5d"
    },
    {
      "cell_type": "code",
      "execution_count": 285,
      "metadata": {
        "vscode": {
          "languageId": "python"
        }
      },
      "outputs": [],
      "source": [
        "A"
      ],
      "id": "bc638816-5389-4573-9663-c781d320500f"
    },
    {
      "cell_type": "code",
      "execution_count": 286,
      "metadata": {
        "vscode": {
          "languageId": "python"
        }
      },
      "outputs": [],
      "source": [
        "A[1]"
      ],
      "id": "099eb138-870a-45d3-8c3d-0511ceaa6242"
    },
    {
      "cell_type": "code",
      "execution_count": 287,
      "metadata": {
        "vscode": {
          "languageId": "python"
        }
      },
      "outputs": [],
      "source": [
        "A[1][0]"
      ],
      "id": "48c5563e-9ff8-4cb2-b2e9-839b4fcd7fdb"
    },
    {
      "cell_type": "markdown",
      "metadata": {},
      "source": [
        "`-` 매트릭스는 아니지만 매트릭스 같음! - 1차원 배열을 다차원 배열로\n",
        "확장할 수 있는 기본 아이디어를 제공함\n",
        "\n",
        "# tuple\n",
        "\n",
        "## 리스트 vs 튜플\n",
        "\n",
        "`-` 컨테이너형타입이라는 점, 그리고 연산 및 인덱싱을 하는 방법은\n",
        "리스트와 같음\n",
        "\n",
        "-   차이점1: \\[\\] 대신에 ()를 사용한다.\n",
        "-   차이점2: 불변형이다. (원소의 값을 바꿀 수 없음)\n",
        "-   차이점3: 하나의 원소를 선언할 때는 (1,)와 같이 해야 한다.\n",
        "-   차이점4: 의미가 명확할때는 튜플의 ()를 생략가능하다.\n",
        "\n",
        "`-` 컨테이너형이라는 것이 무슨의미?"
      ],
      "id": "752b544a-0839-48e2-b7f1-6480da53fb2a"
    },
    {
      "cell_type": "code",
      "execution_count": 183,
      "metadata": {
        "vscode": {
          "languageId": "python"
        }
      },
      "outputs": [],
      "source": [
        "a=(4,6,'pencil', 3.2+4.6j, [3,4]) "
      ],
      "id": "be653adc-efdb-4688-ac73-d7aeb4dc9341"
    },
    {
      "cell_type": "code",
      "execution_count": 184,
      "metadata": {
        "vscode": {
          "languageId": "python"
        }
      },
      "outputs": [],
      "source": [
        "type(a[2])"
      ],
      "id": "8791af85-4a26-4c99-b62c-b94b36ae856e"
    },
    {
      "cell_type": "code",
      "execution_count": 185,
      "metadata": {
        "vscode": {
          "languageId": "python"
        }
      },
      "outputs": [],
      "source": [
        "type(a[3])"
      ],
      "id": "229495fc-6a95-4609-af61-c6357810890e"
    },
    {
      "cell_type": "markdown",
      "metadata": {},
      "source": [
        "`-` 불변형이라는 것은 무슨의미?"
      ],
      "id": "fec1d72b-b463-43c0-9c12-aef2d6e79447"
    },
    {
      "cell_type": "code",
      "execution_count": 189,
      "metadata": {
        "vscode": {
          "languageId": "python"
        }
      },
      "outputs": [],
      "source": [
        "a[2] = 'Pencil'"
      ],
      "id": "32765cd4-20af-4181-a688-49aa1467c046"
    },
    {
      "cell_type": "markdown",
      "metadata": {},
      "source": [
        "참고로 a를 튜플이 아니라 리스트로 선언하면 값이 잘 바뀐다."
      ],
      "id": "957e497a-2c6b-46d1-842e-0a8400a27853"
    },
    {
      "cell_type": "code",
      "execution_count": 14,
      "metadata": {
        "vscode": {
          "languageId": "python"
        }
      },
      "outputs": [],
      "source": [
        "a=[4,6,'pencil', 3.2+4.6j, [3,4]]"
      ],
      "id": "05e6dca5-0814-462a-923c-879efa9f5491"
    },
    {
      "cell_type": "code",
      "execution_count": 15,
      "metadata": {
        "vscode": {
          "languageId": "python"
        }
      },
      "outputs": [],
      "source": [
        "a[2]"
      ],
      "id": "5c12b691-564a-45de-8ac8-0392930fac2b"
    },
    {
      "cell_type": "code",
      "execution_count": 16,
      "metadata": {
        "vscode": {
          "languageId": "python"
        }
      },
      "outputs": [],
      "source": [
        "a[2]='Pencil'"
      ],
      "id": "e2238787-bebc-4724-938f-6d0ae403d261"
    },
    {
      "cell_type": "code",
      "execution_count": 17,
      "metadata": {
        "vscode": {
          "languageId": "python"
        }
      },
      "outputs": [],
      "source": [
        "a"
      ],
      "id": "98e63720-6bf2-43e6-b3a7-c248a5b3319f"
    },
    {
      "cell_type": "markdown",
      "metadata": {},
      "source": [
        "`-` 하나의 원소로 이루어진 튜플을 만들때는 쉼표를 붙여야 함."
      ],
      "id": "81927745-fe4c-4cdd-8cd5-e99f8424f0a7"
    },
    {
      "cell_type": "code",
      "execution_count": 20,
      "metadata": {
        "vscode": {
          "languageId": "python"
        }
      },
      "outputs": [],
      "source": [
        "[1]+[2,3,4]"
      ],
      "id": "358692de-8c86-492e-baee-eee02251a3f3"
    },
    {
      "cell_type": "code",
      "execution_count": 193,
      "metadata": {
        "vscode": {
          "languageId": "python"
        }
      },
      "outputs": [],
      "source": [
        "(1,)+(2,3,4)"
      ],
      "id": "549648b8-1645-4d60-9d49-a38d3adf6d3e"
    },
    {
      "cell_type": "markdown",
      "metadata": {},
      "source": [
        "`-` 리스트와 중요한 차이점! 의미가 명확할때 튜플의 괄호는 생략가능하다.\n",
        "(이게 중요합니다)"
      ],
      "id": "31c5641b-6749-44fa-9975-366574c7760f"
    },
    {
      "cell_type": "code",
      "execution_count": 194,
      "metadata": {
        "vscode": {
          "languageId": "python"
        }
      },
      "outputs": [],
      "source": [
        "a=1,2\n",
        "a"
      ],
      "id": "60ac57f1-a1a8-4ea2-b3f1-9ac30324e7b3"
    },
    {
      "cell_type": "markdown",
      "metadata": {},
      "source": [
        "의미가 명확할때 생략해야함"
      ],
      "id": "19c311e4-b713-4533-9ac8-7f570ef8f0c5"
    },
    {
      "cell_type": "code",
      "execution_count": 196,
      "metadata": {
        "vscode": {
          "languageId": "python"
        }
      },
      "outputs": [],
      "source": [
        "1,2 + 3,4,5 "
      ],
      "id": "ddae135f-5406-4a4c-804a-463ce1116693"
    },
    {
      "cell_type": "code",
      "execution_count": 34,
      "metadata": {
        "vscode": {
          "languageId": "python"
        }
      },
      "outputs": [],
      "source": [
        "(1,2) + (3,4,5) "
      ],
      "id": "0c8736c7-20c5-47ab-86a9-7f5e019762ae"
    },
    {
      "cell_type": "markdown",
      "metadata": {},
      "source": [
        "## 선언\n",
        "\n",
        "`-` 소괄호를 이용"
      ],
      "id": "38bc5b13-cdef-4b5c-810e-5ac4a164e2bb"
    },
    {
      "cell_type": "code",
      "execution_count": 35,
      "metadata": {
        "vscode": {
          "languageId": "python"
        }
      },
      "outputs": [],
      "source": [
        "a=(1,2,3)\n",
        "a"
      ],
      "id": "6abf839f-6508-4cdd-b206-81d60a9b7e51"
    },
    {
      "cell_type": "code",
      "execution_count": 36,
      "metadata": {
        "vscode": {
          "languageId": "python"
        }
      },
      "outputs": [],
      "source": [
        "type(a)"
      ],
      "id": "f1e3ef43-ff9b-4d48-9abd-9a32a3282436"
    },
    {
      "cell_type": "markdown",
      "metadata": {},
      "source": [
        "`-` 생략가능하다는 점이 포인트"
      ],
      "id": "c5c70925-78f5-48ed-abd7-80cdd109fd6e"
    },
    {
      "cell_type": "code",
      "execution_count": 37,
      "metadata": {
        "vscode": {
          "languageId": "python"
        }
      },
      "outputs": [],
      "source": [
        "a=1,2,3\n",
        "a"
      ],
      "id": "0d75df34-45a1-4e7a-aa47-d54140399fb5"
    },
    {
      "cell_type": "code",
      "execution_count": 38,
      "metadata": {
        "vscode": {
          "languageId": "python"
        }
      },
      "outputs": [],
      "source": [
        "type(a)"
      ],
      "id": "7c19b5ab-583b-4bbc-83bb-7fb42ea8f7b3"
    },
    {
      "cell_type": "markdown",
      "metadata": {},
      "source": [
        "`-` 원소가 하나인 튜플을 만들고 싶다면?"
      ],
      "id": "3779f8ee-e37c-4951-b377-f5a18c1de1ba"
    },
    {
      "cell_type": "code",
      "execution_count": 39,
      "metadata": {
        "vscode": {
          "languageId": "python"
        }
      },
      "outputs": [],
      "source": [
        "a=(1,)\n",
        "a"
      ],
      "id": "c03564b6-0bbe-4025-91c2-a04ba8b57677"
    },
    {
      "cell_type": "markdown",
      "metadata": {},
      "source": [
        "## 연산\n",
        "\n",
        "`-` 리스트와 동일"
      ],
      "id": "1e1721a2-3f24-4c6e-aa41-0c3a3d2dd29b"
    },
    {
      "cell_type": "code",
      "execution_count": 40,
      "metadata": {
        "vscode": {
          "languageId": "python"
        }
      },
      "outputs": [],
      "source": [
        "(1,2)+(3,4,5)"
      ],
      "id": "737f61f9-65e8-4565-a9f9-8c461df799e5"
    },
    {
      "cell_type": "code",
      "execution_count": 41,
      "metadata": {
        "vscode": {
          "languageId": "python"
        }
      },
      "outputs": [],
      "source": [
        "(1,2)*2"
      ],
      "id": "3de368a7-ef39-4236-8fff-cf4b7cc7cc98"
    },
    {
      "cell_type": "markdown",
      "metadata": {},
      "source": [
        "## 인덱싱\n",
        "\n",
        "`-` 리스트와 동일"
      ],
      "id": "6ca2ca90-8236-4a4e-bd29-9eece77c9599"
    },
    {
      "cell_type": "code",
      "execution_count": 42,
      "metadata": {
        "vscode": {
          "languageId": "python"
        }
      },
      "outputs": [],
      "source": [
        "a=(1,2,3,-4,-5)\n",
        "a"
      ],
      "id": "63725038-b81e-4cb3-b134-f12d8852bd5c"
    },
    {
      "cell_type": "code",
      "execution_count": 43,
      "metadata": {
        "vscode": {
          "languageId": "python"
        }
      },
      "outputs": [],
      "source": [
        "a[-1]"
      ],
      "id": "74feb684-4d23-4703-9ced-64aa66735c76"
    },
    {
      "cell_type": "code",
      "execution_count": 44,
      "metadata": {
        "vscode": {
          "languageId": "python"
        }
      },
      "outputs": [],
      "source": [
        "a[-3:]"
      ],
      "id": "828f829f-d441-488a-bf1d-3b0c4224b0a2"
    }
  ],
  "nbformat": 4,
  "nbformat_minor": 5,
  "metadata": {
    "kernelspec": {
      "name": "python3",
      "display_name": "Python 3 (ipykernel)",
      "language": "python"
    },
    "language_info": {
      "name": "python",
      "codemirror_mode": {
        "name": "ipython",
        "version": "3"
      },
      "file_extension": ".py",
      "mimetype": "text/x-python",
      "nbconvert_exporter": "python",
      "pygments_lexer": "ipython3",
      "version": "3.10.13"
    }
  }
}