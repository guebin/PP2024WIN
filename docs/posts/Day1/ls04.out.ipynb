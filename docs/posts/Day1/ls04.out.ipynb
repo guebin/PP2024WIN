{
  "cells": [
    {
      "cell_type": "markdown",
      "metadata": {},
      "source": [
        "# Lesson 04: 파이썬의 자료형 III (dict, set)\n",
        "\n",
        "최규빈  \n",
        "2023-06-24\n",
        "\n",
        "<a href=\"https://colab.research.google.com/github/guebin/PP2024WIN/blob/main/posts/Day1/ls04.ipynb\"><img src=\"https://colab.research.google.com/assets/colab-badge.svg\" style=\"text-align: left\"></a>\n",
        "\n",
        "<https://youtu.be/playlist?list=PLQqh36zP38-xs-bEF7Rsu12nNJub1Y3B3&si=4HepBy3P-4GmMM5E>\n",
        "\n",
        "# 딕셔너리 기본내용\n",
        "\n",
        "## intro: str, list, tuple 정리\n",
        "\n",
        "`-` str, list, tuple은 모두 시퀀스형이라는 공통점이 있다. $\\to$ 원소의\n",
        "위치번호로 인덱싱이 가능"
      ],
      "id": "bb72870a-1cce-499a-9118-caf793d08e27"
    },
    {
      "cell_type": "code",
      "execution_count": null,
      "metadata": {},
      "outputs": [],
      "source": [
        "lst = [1,2,3,4]"
      ],
      "id": "0a004a5c"
    },
    {
      "cell_type": "code",
      "execution_count": null,
      "metadata": {},
      "outputs": [],
      "source": [
        "lst[0] # 위치번호=0"
      ],
      "id": "d573fc0e"
    },
    {
      "cell_type": "code",
      "execution_count": null,
      "metadata": {},
      "outputs": [],
      "source": [
        "lst[-1] # 위치번호=-1"
      ],
      "id": "fc202bcb"
    },
    {
      "cell_type": "markdown",
      "metadata": {},
      "source": [
        "`-` str, list, tuple은 차이점도 존재함. 잠깐 정리해보자.\n",
        "\n",
        "***시퀀스형의 카테고리***\n",
        "\n",
        "-   컨테니어형: list, tuple\n",
        "-   균일형: str\n",
        "-   가변형: list\n",
        "-   불변형: tuple, str\n",
        "\n",
        "***표로 정리하면***\n",
        "\n",
        "|        | 컨테니어형 | 균일형 |\n",
        "|:------:|:----------:|:------:|\n",
        "| 가변형 |    list    |   .    |\n",
        "| 불변형 |   tuple    |  str   |\n",
        "\n",
        "`-` 시퀀스형이 아닌 1차원 자료형도 있을까? 원소의 위치번호로 인덱싱이\n",
        "불가능한 자료형\n",
        "\n",
        "`-` 왜 이런게 필요할까?\n",
        "\n",
        "-   벡터에서 원소를 뽑는것은 정보의 모임에서 정보를 검색하는 것과 같다.\n",
        "-   정보를 `순서`대로 나열한뒤에 그 `순서`를 이용하여 검색하는 방법은\n",
        "    유용하다.\n",
        "-   하지만 경우에 따라서는 `키워드`를 기억해서 그 `키워드`를 바탕으로\n",
        "    정보에 접근하는 방법이 유용할 수 있다.\n",
        "\n",
        "***카카오톡 대화내용검색***\n",
        "\n",
        "(상황1) `오늘아침`에 와이프가 `뭔가`를 카톡으로 부탁했었음. 그런데 그\n",
        "`뭔가`가 기억안남.\n",
        "\n",
        "(상황2) `개강전에` 동료교수와 함께 `저녁약속`을 카톡으로 잡았었음.\n",
        "그런데 그게 언제인지 기억안남.\n",
        "\n",
        "(상황3) `오늘아침` 동료교수와 함께 `점심약속`을 카톡으로 잡았었음.\n",
        "그런데 그 장소가 기억나지 않음.\n",
        "\n",
        "`-` 순서대로 정리된 자료를 검색할때는 시퀀스형이 유리하다. 그런데\n",
        "키워드로 검색하고 싶을 경우는 딕셔너리 타입이 유리하다.\n",
        "\n",
        "## 선언"
      ],
      "id": "589f5303-f7b8-4743-8af4-f608f11c8d4a"
    },
    {
      "cell_type": "code",
      "execution_count": 1,
      "metadata": {
        "tags": []
      },
      "outputs": [],
      "source": [
        "dct = {'guebin': 49, 'hanni': 80}\n",
        "dct "
      ],
      "id": "e8a13377-05c1-4775-8c59-a8f89bda25d9"
    },
    {
      "cell_type": "markdown",
      "metadata": {},
      "source": [
        "## 원소추출\n",
        "\n",
        "`-` 원소의 위치로 추출할 수 없고, key로 추출해야 한다."
      ],
      "id": "1dfce506-8a28-4e30-901e-56bc1bddb4ab"
    },
    {
      "cell_type": "code",
      "execution_count": 2,
      "metadata": {
        "tags": []
      },
      "outputs": [],
      "source": [
        "dct = {'guebin':49, 'hanni':80}\n",
        "dct"
      ],
      "id": "feecfeb1"
    },
    {
      "cell_type": "markdown",
      "metadata": {},
      "source": [
        "guebin의 점수를 추출하고 싶다면?"
      ],
      "id": "9825c631-315a-45d5-8344-a7cfc1ec8662"
    },
    {
      "cell_type": "code",
      "execution_count": 3,
      "metadata": {
        "tags": []
      },
      "outputs": [],
      "source": [
        "dct['guebin']"
      ],
      "id": "1f76b4d8"
    },
    {
      "cell_type": "markdown",
      "metadata": {},
      "source": [
        "`-` 만약에 dict가 아니라 list로 정보를 저장했다면?\n",
        "\n",
        "(예제) 아래와 같은 리스트에서 guebin의 점수를 추출하고 싶다면?"
      ],
      "id": "1fa244bb-f86e-49ee-89a9-6f942a12886b"
    },
    {
      "cell_type": "code",
      "execution_count": 5,
      "metadata": {
        "tags": []
      },
      "outputs": [],
      "source": [
        "lst=[['guebin',49],['hanni',80]]\n",
        "lst"
      ],
      "id": "68eb7130-e1c4-4418-b6ea-91c96d2399e1"
    },
    {
      "cell_type": "markdown",
      "metadata": {},
      "source": [
        "(풀이1)"
      ],
      "id": "bd82114a-85fb-4d90-9f46-62ec4f86b5f4"
    },
    {
      "cell_type": "code",
      "execution_count": 25,
      "metadata": {},
      "outputs": [],
      "source": [
        "lst[0][1] # guebin의 점수를 출력하란 의미"
      ],
      "id": "203261fa"
    },
    {
      "cell_type": "markdown",
      "metadata": {},
      "source": [
        "(풀이2) – 진짜 최악"
      ],
      "id": "329dd47a-e718-444e-8915-4a5ab622ec50"
    },
    {
      "cell_type": "code",
      "execution_count": 40,
      "metadata": {},
      "outputs": [],
      "source": [
        "[lst[i][1] for i in range(len(lst)) if lst[i][0] == 'guebin']"
      ],
      "id": "8c795e13"
    },
    {
      "cell_type": "markdown",
      "metadata": {},
      "source": [
        "(풀이3) – 덜 최악"
      ],
      "id": "2179919a-203c-4d0f-af2e-e12c40224fe0"
    },
    {
      "cell_type": "code",
      "execution_count": null,
      "metadata": {},
      "outputs": [],
      "source": [
        "[score for name,score in lst if name == 'guebin']"
      ],
      "id": "de98cd04"
    },
    {
      "cell_type": "markdown",
      "metadata": {},
      "source": [
        "`-` ’guebin’의 점수를 추출하는 제일 쉬운 코드"
      ],
      "id": "a64aea82-c96a-49c7-b443-f44014640886"
    },
    {
      "cell_type": "code",
      "execution_count": 50,
      "metadata": {},
      "outputs": [],
      "source": [
        "dict(lst)['guebin']"
      ],
      "id": "c8115a87"
    },
    {
      "cell_type": "markdown",
      "metadata": {},
      "source": [
        "## 원소추가, 변경"
      ],
      "id": "a6a433b7-9f28-48e9-bf18-e1c5f870faf1"
    },
    {
      "cell_type": "code",
      "execution_count": 51,
      "metadata": {},
      "outputs": [],
      "source": [
        "dct={'guebin':49, 'hanni':80}\n",
        "dct"
      ],
      "id": "171ce1d9"
    },
    {
      "cell_type": "markdown",
      "metadata": {},
      "source": [
        "`-` 원소에 접근: guebin의 점수 출력"
      ],
      "id": "fee50ed8-b094-4531-b57d-203947ab2fde"
    },
    {
      "cell_type": "code",
      "execution_count": 52,
      "metadata": {},
      "outputs": [],
      "source": [
        "dct['guebin']"
      ],
      "id": "abdfe838"
    },
    {
      "cell_type": "markdown",
      "metadata": {},
      "source": [
        "`-` 추가: hynn학생의 점수를 추가"
      ],
      "id": "ac8760ba-54eb-4edf-8abc-cfe1b157da13"
    },
    {
      "cell_type": "code",
      "execution_count": 54,
      "metadata": {},
      "outputs": [],
      "source": [
        "dct['hynn'] = 99"
      ],
      "id": "84860ec5"
    },
    {
      "cell_type": "code",
      "execution_count": 55,
      "metadata": {},
      "outputs": [],
      "source": [
        "dct"
      ],
      "id": "24aded48"
    },
    {
      "cell_type": "markdown",
      "metadata": {},
      "source": [
        "`-` 변경: hanni의 점수를 변경"
      ],
      "id": "b8f8458b-e468-461e-8f35-c5d0d745cca4"
    },
    {
      "cell_type": "code",
      "execution_count": 56,
      "metadata": {},
      "outputs": [],
      "source": [
        "dct['hanni'] = 100 "
      ],
      "id": "41211859"
    },
    {
      "cell_type": "code",
      "execution_count": 57,
      "metadata": {},
      "outputs": [],
      "source": [
        "dct"
      ],
      "id": "2732e570"
    },
    {
      "cell_type": "markdown",
      "metadata": {},
      "source": [
        "## 연산\n",
        "\n",
        "`-` 하나있어요.."
      ],
      "id": "1dba4022-d15f-48b5-8121-f38d275addb9"
    },
    {
      "cell_type": "code",
      "execution_count": 58,
      "metadata": {},
      "outputs": [],
      "source": [
        "dct = {'guebin':49, 'hanni':80} \n",
        "dct"
      ],
      "id": "c6f4533c"
    },
    {
      "cell_type": "code",
      "execution_count": 59,
      "metadata": {},
      "outputs": [],
      "source": [
        "'guebin' in dct"
      ],
      "id": "31feebc8"
    },
    {
      "cell_type": "code",
      "execution_count": 60,
      "metadata": {},
      "outputs": [],
      "source": [
        "'hanni' in dct"
      ],
      "id": "ef7e8653"
    },
    {
      "cell_type": "code",
      "execution_count": 61,
      "metadata": {},
      "outputs": [],
      "source": [
        "'hynn' in dct"
      ],
      "id": "9a24c8e5"
    },
    {
      "cell_type": "markdown",
      "metadata": {},
      "source": [
        "## 딕셔너리 특수기능\n",
        "\n",
        "**(pop)**"
      ],
      "id": "8b964edf-1c10-43cf-8fe8-dcd7170b4265"
    },
    {
      "cell_type": "code",
      "execution_count": null,
      "metadata": {},
      "outputs": [],
      "source": [
        "dct = {'guebin':49, 'hanni':80} \n",
        "dct.pop('hanni')\n",
        "dct"
      ],
      "id": "b0224b8d"
    },
    {
      "cell_type": "markdown",
      "metadata": {},
      "source": [
        "**(get)**"
      ],
      "id": "7640fa54-ce59-42c1-8dc6-727921f56353"
    },
    {
      "cell_type": "code",
      "execution_count": null,
      "metadata": {},
      "outputs": [],
      "source": [
        "dct = {'guebin':49, 'hanni':80} \n",
        "dct"
      ],
      "id": "e37bec1e"
    },
    {
      "cell_type": "code",
      "execution_count": null,
      "metadata": {},
      "outputs": [],
      "source": [
        "dct.get('guebin') "
      ],
      "id": "29820be9"
    },
    {
      "cell_type": "markdown",
      "metadata": {},
      "source": [
        "아래와 같은 기능"
      ],
      "id": "bfc110c9-a04e-4e64-90e1-eb80cb2e634b"
    },
    {
      "cell_type": "code",
      "execution_count": null,
      "metadata": {},
      "outputs": [],
      "source": [
        "dct['guebin']"
      ],
      "id": "d33791fd"
    },
    {
      "cell_type": "markdown",
      "metadata": {},
      "source": [
        "미묘한 차이점이 존재함"
      ],
      "id": "aa326c18-ac5d-4b94-8150-b1d659080f8e"
    },
    {
      "cell_type": "code",
      "execution_count": null,
      "metadata": {},
      "outputs": [],
      "source": [
        "dct['hynn'] # hynn이 없어서 키에러 출력, 그런 key는 없다.. "
      ],
      "id": "f1b3245e"
    },
    {
      "cell_type": "code",
      "execution_count": null,
      "metadata": {},
      "outputs": [],
      "source": [
        "dct.get('hynn') # hynn이 없으면 아무것도 출력안함 "
      ],
      "id": "d3a6c21b"
    },
    {
      "cell_type": "markdown",
      "metadata": {},
      "source": [
        "**(keys,values,items)**\n",
        "\n",
        "`-` .keys()는 딕셔너리의 키를 리턴한다."
      ],
      "id": "16abf479-6dba-4a32-a01d-b8a2536b3425"
    },
    {
      "cell_type": "code",
      "execution_count": null,
      "metadata": {},
      "outputs": [],
      "source": [
        "dct = {'guebin':49, 'hanni':80} \n",
        "dct"
      ],
      "id": "8c1704ab"
    },
    {
      "cell_type": "code",
      "execution_count": null,
      "metadata": {},
      "outputs": [],
      "source": [
        "_keys=dct.keys()\n",
        "_keys"
      ],
      "id": "9486d194"
    },
    {
      "cell_type": "code",
      "execution_count": null,
      "metadata": {},
      "outputs": [],
      "source": [
        "type(_keys) # 리턴된 자료형은 이상한것임"
      ],
      "id": "f9d4436d"
    },
    {
      "cell_type": "code",
      "execution_count": null,
      "metadata": {},
      "outputs": [],
      "source": [
        "list(_keys) # 아무튼 그 이상한 자료형도 리스트화 가능 "
      ],
      "id": "99fa6146"
    },
    {
      "cell_type": "markdown",
      "metadata": {},
      "source": [
        "`-` .values()는 딕셔너리의 값들을 리턴한다."
      ],
      "id": "060a2a63-9593-4ee5-bff0-31e6e177f076"
    },
    {
      "cell_type": "code",
      "execution_count": null,
      "metadata": {},
      "outputs": [],
      "source": [
        "_values = dct.values()\n",
        "_values "
      ],
      "id": "fc9a7692"
    },
    {
      "cell_type": "code",
      "execution_count": null,
      "metadata": {},
      "outputs": [],
      "source": [
        "type(_values)"
      ],
      "id": "7c26c3f7"
    },
    {
      "cell_type": "code",
      "execution_count": null,
      "metadata": {},
      "outputs": [],
      "source": [
        "list(_values)"
      ],
      "id": "068516fa"
    },
    {
      "cell_type": "markdown",
      "metadata": {},
      "source": [
        "`-` .items()는 딕셔너리의 (키,값)을 리턴한다."
      ],
      "id": "b70b273c-0490-423c-b67e-b15a533a72f6"
    },
    {
      "cell_type": "code",
      "execution_count": null,
      "metadata": {},
      "outputs": [],
      "source": [
        "_items = dct.items()\n",
        "_items "
      ],
      "id": "10b11b90"
    },
    {
      "cell_type": "code",
      "execution_count": null,
      "metadata": {},
      "outputs": [],
      "source": [
        "type(_items)"
      ],
      "id": "f5827635"
    },
    {
      "cell_type": "code",
      "execution_count": null,
      "metadata": {},
      "outputs": [],
      "source": [
        "list(_items)"
      ],
      "id": "da10cc8c"
    },
    {
      "cell_type": "markdown",
      "metadata": {},
      "source": [
        "## for문과 dict ($\\star$)"
      ],
      "id": "b7c5669b-f479-4b69-84da-8856469f0428"
    },
    {
      "cell_type": "code",
      "execution_count": 82,
      "metadata": {},
      "outputs": [],
      "source": [
        "dct = {'guebin': 49, 'hanni': 80}\n",
        "dct"
      ],
      "id": "b8cd6316"
    },
    {
      "cell_type": "markdown",
      "metadata": {},
      "source": [
        "(예시1)"
      ],
      "id": "4b1b7fee-9007-4a6b-a187-c4df7eec88c0"
    },
    {
      "cell_type": "code",
      "execution_count": 83,
      "metadata": {},
      "outputs": [
        {
          "output_type": "stream",
          "name": "stdout",
          "text": [
            "guebin\n",
            "hanni"
          ]
        }
      ],
      "source": [
        "for k in dct.keys():\n",
        "    print(k)"
      ],
      "id": "a77cdba7"
    },
    {
      "cell_type": "code",
      "execution_count": 84,
      "metadata": {},
      "outputs": [
        {
          "output_type": "stream",
          "name": "stdout",
          "text": [
            "guebin\n",
            "hanni"
          ]
        }
      ],
      "source": [
        "for k in dct:\n",
        "    print(k)"
      ],
      "id": "ad24d788"
    },
    {
      "cell_type": "markdown",
      "metadata": {},
      "source": [
        "-   딕셔너리 그자체도 for문에 넣을 수 있다.\n",
        "-   k에는 value가 삭제되어 들어간다. (즉 key만)\n",
        "-   결과를 보면 dct 대신에 dct.keys()와 list(dct)를 넣었을때와 결과가\n",
        "    같다.\n",
        "\n",
        "> Note: list(dct) 하면 key만 리턴된다.\n",
        "\n",
        "(예시2)"
      ],
      "id": "1859ce01-84a1-4d20-b1b4-496ab20c74a5"
    },
    {
      "cell_type": "code",
      "execution_count": 85,
      "metadata": {},
      "outputs": [
        {
          "output_type": "stream",
          "name": "stdout",
          "text": [
            "49\n",
            "80"
          ]
        }
      ],
      "source": [
        "for v in dct.values():\n",
        "    print(v)"
      ],
      "id": "975b8241"
    },
    {
      "cell_type": "markdown",
      "metadata": {},
      "source": [
        "(예시3)"
      ],
      "id": "4698b792-0192-4e6b-9dbe-d07cea068ffc"
    },
    {
      "cell_type": "code",
      "execution_count": 86,
      "metadata": {},
      "outputs": [
        {
          "output_type": "stream",
          "name": "stdout",
          "text": [
            "('guebin', 49)\n",
            "('hanni', 80)"
          ]
        }
      ],
      "source": [
        "for i in dct.items():\n",
        "    print(i)"
      ],
      "id": "94be34c8"
    },
    {
      "cell_type": "markdown",
      "metadata": {},
      "source": [
        "(예시4)"
      ],
      "id": "e07e3997-d74e-4a13-9802-06d46a43d4bf"
    },
    {
      "cell_type": "code",
      "execution_count": 87,
      "metadata": {},
      "outputs": [
        {
          "output_type": "stream",
          "name": "stdout",
          "text": [
            "guebin 49\n",
            "hanni 80"
          ]
        }
      ],
      "source": [
        "for k,v in dct.items():\n",
        "    print(k,v)"
      ],
      "id": "4372add4"
    },
    {
      "cell_type": "markdown",
      "metadata": {},
      "source": [
        "(예시5) – {}의 중간고사 점수는 {}점 입니다."
      ],
      "id": "3a28f54e-9403-418b-a455-7a7a335aebe5"
    },
    {
      "cell_type": "code",
      "execution_count": 95,
      "metadata": {},
      "outputs": [
        {
          "output_type": "stream",
          "name": "stdout",
          "text": [
            "guebin의 중간고사 점수는 49점입니다.\n",
            "hanni의 중간고사 점수는 80점입니다."
          ]
        }
      ],
      "source": [
        "for k,v in dct.items():\n",
        "    print('{}의 중간고사 점수는 {}점입니다.'.format(k,v))"
      ],
      "id": "4bc16bd9"
    },
    {
      "cell_type": "markdown",
      "metadata": {},
      "source": [
        "# 딕셔너리 고급내용 ($\\star$)\n",
        "\n",
        "## dict에서 key혹은 value만 뽑아내기\n",
        "\n",
        "`-` 예제: 아래의 dict에서 key만 뽑아내고 싶다."
      ],
      "id": "4a2819cd-762f-4eb3-86ff-dcf85559adbf"
    },
    {
      "cell_type": "code",
      "execution_count": 96,
      "metadata": {},
      "outputs": [],
      "source": [
        "dct = {'guebin':49, 'hanni':80} "
      ],
      "id": "56cdcfc3"
    },
    {
      "cell_type": "markdown",
      "metadata": {},
      "source": [
        "(풀이1)"
      ],
      "id": "dbb82205-e408-4bd3-9009-12e50c9944df"
    },
    {
      "cell_type": "code",
      "execution_count": null,
      "metadata": {},
      "outputs": [],
      "source": [
        "list(dct.keys())"
      ],
      "id": "12ac1fd1"
    },
    {
      "cell_type": "markdown",
      "metadata": {},
      "source": [
        "(풀이2)"
      ],
      "id": "a5ac7b3e-be2e-48c0-bd12-6e299fc7c92d"
    },
    {
      "cell_type": "code",
      "execution_count": null,
      "metadata": {},
      "outputs": [],
      "source": [
        "[k for k,v in dct.items()]"
      ],
      "id": "8cf4dd9f"
    },
    {
      "cell_type": "markdown",
      "metadata": {},
      "source": [
        "`-` 예제: 아래의 dict에서 value만 뽑아내고 싶다."
      ],
      "id": "e2d82ec2-f9ae-48c8-983e-c2711c8d35b2"
    },
    {
      "cell_type": "code",
      "execution_count": 101,
      "metadata": {},
      "outputs": [],
      "source": [
        "dct = {'guebin':49, 'hanni':80} "
      ],
      "id": "3a3aa56c"
    },
    {
      "cell_type": "markdown",
      "metadata": {},
      "source": [
        "(풀이)"
      ],
      "id": "2acd60c2-1b2a-4ea9-9903-4269451c80e7"
    },
    {
      "cell_type": "code",
      "execution_count": 6,
      "metadata": {
        "tags": []
      },
      "outputs": [],
      "source": [
        "[v for k,v in dct.items()]"
      ],
      "id": "ce57ce22"
    },
    {
      "cell_type": "markdown",
      "metadata": {},
      "source": [
        "## 바꿔치기 (1)\n",
        "\n",
        "`-` 예제1: 아래와 같은 리스트가 있다고 하자."
      ],
      "id": "e389b6ac-555e-450e-b404-e62451ebe757"
    },
    {
      "cell_type": "code",
      "execution_count": 116,
      "metadata": {},
      "outputs": [],
      "source": [
        "lst = list('abcd'*2)\n",
        "lst"
      ],
      "id": "41ffa621"
    },
    {
      "cell_type": "markdown",
      "metadata": {},
      "source": [
        "아래의 규칙에 의하여 lst의 각 원소의 값을 바꾸고 싶다고 하자. 이를\n",
        "구현하는 코드를 작성하라.\n",
        "\n",
        "| 변환전 |   변환후    |\n",
        "|:------:|:-----------:|\n",
        "|  ‘a’   | \\[1,0,0,0\\] |\n",
        "|  ‘b’   | \\[0,1,0,0\\] |\n",
        "|  ‘c’   | \\[0,0,1,0\\] |\n",
        "|  ‘d’   | \\[0,0,0,1\\] |\n",
        "\n",
        "hint: 아래의 dct를 이용할 것"
      ],
      "id": "ae0728e0-4a0a-49fa-a441-6adab0838d3a"
    },
    {
      "cell_type": "code",
      "execution_count": 117,
      "metadata": {},
      "outputs": [],
      "source": [
        "lst = list('abcd'*2)\n",
        "lst"
      ],
      "id": "d3567e5f"
    },
    {
      "cell_type": "code",
      "execution_count": 118,
      "metadata": {},
      "outputs": [],
      "source": [
        "dct = {'a':[1,0,0,0], 'b':[0,1,0,0], 'c':[0,0,1,0], 'd':[0,0,0,1]}\n",
        "dct"
      ],
      "id": "adbd715d"
    },
    {
      "cell_type": "markdown",
      "metadata": {},
      "source": [
        "(풀이)"
      ],
      "id": "6d176de2-917f-4002-afa9-ff7c892b2e90"
    },
    {
      "cell_type": "code",
      "execution_count": 119,
      "metadata": {},
      "outputs": [],
      "source": [
        "[dct[x] for x in lst]"
      ],
      "id": "384b66c9"
    },
    {
      "cell_type": "markdown",
      "metadata": {},
      "source": [
        "`-` 예제2: 예제1을 역변환하라."
      ],
      "id": "0b4fc4bc-f228-44b8-a02c-f1c65aa354b3"
    },
    {
      "cell_type": "code",
      "execution_count": 7,
      "metadata": {
        "tags": []
      },
      "outputs": [],
      "source": [
        "lst= [[1, 0, 0, 0], #a\n",
        "      [0, 1, 0, 0], #b\n",
        "      [0, 0, 1, 0], #c\n",
        "      [0, 0, 0, 1], #d\n",
        "      [1, 0, 0, 0],\n",
        "      [0, 1, 0, 0],\n",
        "      [0, 0, 1, 0],\n",
        "      [0, 0, 0, 1]]\n",
        "lst "
      ],
      "id": "7fe6631e-a16e-4266-9fb4-b2a96de8371d"
    },
    {
      "cell_type": "code",
      "execution_count": 8,
      "metadata": {
        "tags": []
      },
      "outputs": [],
      "source": [
        "dct = {'a':[1,0,0,0], 'b':[0,1,0,0], 'c':[0,0,1,0], 'd':[0,0,0,1]}"
      ],
      "id": "76d5db87"
    },
    {
      "cell_type": "markdown",
      "metadata": {},
      "source": [
        "(풀이)"
      ],
      "id": "b8c28c3a-cb45-413a-bcc4-5be63a32e93f"
    },
    {
      "cell_type": "code",
      "execution_count": 9,
      "metadata": {
        "tags": []
      },
      "outputs": [],
      "source": [
        "[k for l in lst for k,v in dct.items() if l == v]"
      ],
      "id": "36f7966e"
    },
    {
      "cell_type": "markdown",
      "metadata": {},
      "source": [
        "## 바꿔치기 (2)\n",
        "\n",
        "`-` 예제1: 아래와 같은 리스트를 고려하자."
      ],
      "id": "85756dfd-cd1b-436e-9d87-f7bcde16338c"
    },
    {
      "cell_type": "code",
      "execution_count": 154,
      "metadata": {},
      "outputs": [],
      "source": [
        "lst = ['딸기','사과','바나나','딸기','사과','오토바이','자동차','버스','기차','오토바이','자동차']"
      ],
      "id": "018e7986"
    },
    {
      "cell_type": "markdown",
      "metadata": {},
      "source": [
        "다음의 맵핑규칙에 따라서 위의 리스트의 원소를 바꾸어라.\n",
        "\n",
        "|  변환전  | 변환후 |\n",
        "|:--------:|:------:|\n",
        "|   딸기   |  과일  |\n",
        "|   사과   |  과일  |\n",
        "|  바나나  |  과일  |\n",
        "| 오토바이 |  탈것  |\n",
        "|  자동차  |  탈것  |\n",
        "|   버스   |  탈것  |\n",
        "|   기차   |  탈것  |\n",
        "\n",
        "(풀이)"
      ],
      "id": "de9e767a-892d-4fe8-8dcb-3fcd1f29850c"
    },
    {
      "cell_type": "code",
      "execution_count": 174,
      "metadata": {},
      "outputs": [],
      "source": [
        "dct = {'과일':['딸기','사과','바나나'], '탈것':['오토바이','자동차','버스','기차']}\n",
        "dct"
      ],
      "id": "3b1443c0"
    },
    {
      "cell_type": "code",
      "execution_count": 175,
      "metadata": {},
      "outputs": [],
      "source": [
        "[x for l in lst for x,y in dct.items() if l in y]"
      ],
      "id": "166ef1e0"
    },
    {
      "cell_type": "markdown",
      "metadata": {},
      "source": [
        "# 집합 기본내용\n",
        "\n",
        "## 선언"
      ],
      "id": "aea481fd-8706-4c26-a23e-104e7ccb2cf6"
    },
    {
      "cell_type": "code",
      "execution_count": null,
      "metadata": {},
      "outputs": [],
      "source": [
        "wishlist={'notebook','desktop'}\n",
        "wishlist"
      ],
      "id": "2c0d3111"
    },
    {
      "cell_type": "markdown",
      "metadata": {},
      "source": [
        "## 원소추출\n",
        "\n",
        "`-` 일단 인덱스로는 못합니다."
      ],
      "id": "7f185a6d-b61a-4796-8f52-d8cbb6b2affd"
    },
    {
      "cell_type": "code",
      "execution_count": null,
      "metadata": {},
      "outputs": [],
      "source": [
        "wishlist={'notebook','desktop'}\n",
        "wishlist[0]"
      ],
      "id": "6c4f7cc0"
    },
    {
      "cell_type": "markdown",
      "metadata": {},
      "source": [
        "`-` 딱히 하는 방법이 없어요.. 그리고 이걸 하는 의미가 없어요.. (원소에\n",
        "접근해서 뭐하려고??)\n",
        "\n",
        "## 원소추가\n",
        "\n",
        "`-` 이건 의미가 있음"
      ],
      "id": "bd947c53-84b3-425d-aa4b-4a445cf141ec"
    },
    {
      "cell_type": "code",
      "execution_count": null,
      "metadata": {},
      "outputs": [],
      "source": [
        "wishlist={'notebook','desktop'} \n",
        "wishlist"
      ],
      "id": "152b1f83"
    },
    {
      "cell_type": "code",
      "execution_count": null,
      "metadata": {},
      "outputs": [],
      "source": [
        "wishlist.add('ipad')\n",
        "wishlist"
      ],
      "id": "7f47b3a2"
    },
    {
      "cell_type": "code",
      "execution_count": null,
      "metadata": {},
      "outputs": [],
      "source": [
        "wishlist.add('notebook') # 이미 원소로 있는건 추가되지 않음. \n",
        "wishlist"
      ],
      "id": "38f8ba25"
    },
    {
      "cell_type": "markdown",
      "metadata": {},
      "source": [
        "## 원소삭제"
      ],
      "id": "4a75df47-24f6-43e3-8828-e4b2b7c87a97"
    },
    {
      "cell_type": "code",
      "execution_count": null,
      "metadata": {},
      "outputs": [],
      "source": [
        "wishlist={'desktop', 'ipad', 'notebook'}\n",
        "wishlist"
      ],
      "id": "88a4e681"
    },
    {
      "cell_type": "code",
      "execution_count": null,
      "metadata": {},
      "outputs": [],
      "source": [
        "wishlist.remove('notebook')"
      ],
      "id": "ae5e0bbf"
    },
    {
      "cell_type": "code",
      "execution_count": null,
      "metadata": {},
      "outputs": [],
      "source": [
        "wishlist"
      ],
      "id": "768aa659"
    },
    {
      "cell_type": "markdown",
      "metadata": {},
      "source": [
        "## 연산\n",
        "\n",
        "`-` in 연산자"
      ],
      "id": "c9925c47-b2b6-4219-82f7-fc1b8d10ac1d"
    },
    {
      "cell_type": "code",
      "execution_count": null,
      "metadata": {},
      "outputs": [],
      "source": [
        "wishlist={'desktop', 'ipad', 'notebook'}\n",
        "wishlist"
      ],
      "id": "10d1708b"
    },
    {
      "cell_type": "code",
      "execution_count": null,
      "metadata": {},
      "outputs": [],
      "source": [
        "'notebook' in wishlist"
      ],
      "id": "43077b1a"
    },
    {
      "cell_type": "markdown",
      "metadata": {},
      "source": [
        "-   참고로 `in`연산자는 집합에서만 쓰는것은 아님\n",
        "\n",
        "`-` 합집합, 교집합, 차집합"
      ],
      "id": "78ea0fd8-e6e1-410b-a626-e7f301fd661b"
    },
    {
      "cell_type": "code",
      "execution_count": null,
      "metadata": {},
      "outputs": [],
      "source": [
        "day1 = {'notebook','desktop'}\n",
        "day2 = {'notebook','ipad'}"
      ],
      "id": "358ae9e0"
    },
    {
      "cell_type": "code",
      "execution_count": null,
      "metadata": {},
      "outputs": [],
      "source": [
        "day1 | day2 # 합집합"
      ],
      "id": "f23defef"
    },
    {
      "cell_type": "code",
      "execution_count": null,
      "metadata": {},
      "outputs": [],
      "source": [
        "day1 & day2 # 교집합"
      ],
      "id": "788765a5"
    },
    {
      "cell_type": "code",
      "execution_count": null,
      "metadata": {},
      "outputs": [],
      "source": [
        "day1 - day2 # 차집합 "
      ],
      "id": "99361a25"
    },
    {
      "cell_type": "code",
      "execution_count": null,
      "metadata": {},
      "outputs": [],
      "source": [
        "day2 - day1 # 차집합"
      ],
      "id": "5a4e0fa2"
    },
    {
      "cell_type": "markdown",
      "metadata": {},
      "source": [
        "`-` 부분집합"
      ],
      "id": "79ea877b-467a-4329-80f6-28e12141e86f"
    },
    {
      "cell_type": "code",
      "execution_count": null,
      "metadata": {},
      "outputs": [],
      "source": [
        "day1 = {'notebook', 'desktop'}\n",
        "day2 = day1 | {'ipad'} "
      ],
      "id": "e9baf29b"
    },
    {
      "cell_type": "code",
      "execution_count": null,
      "metadata": {},
      "outputs": [],
      "source": [
        "day1 < day2  # day1는 day2의 부분집합인가? "
      ],
      "id": "ee507933"
    },
    {
      "cell_type": "code",
      "execution_count": null,
      "metadata": {},
      "outputs": [],
      "source": [
        "day2 < day1"
      ],
      "id": "c86ab110"
    },
    {
      "cell_type": "markdown",
      "metadata": {},
      "source": [
        "## 집합 특수기능\n",
        "\n",
        "`-` 합집합"
      ],
      "id": "4ff7ac72-1775-4fda-87cf-4441b2350895"
    },
    {
      "cell_type": "code",
      "execution_count": null,
      "metadata": {},
      "outputs": [],
      "source": [
        "day1 = {'notebook', 'desktop'}\n",
        "day2 = {'notebook','ipad'}"
      ],
      "id": "e04edb6f"
    },
    {
      "cell_type": "code",
      "execution_count": null,
      "metadata": {},
      "outputs": [],
      "source": [
        "day1.union(day2)"
      ],
      "id": "71f52e73"
    },
    {
      "cell_type": "markdown",
      "metadata": {},
      "source": [
        "`-` 나머지 메소드는 스스로 찾아보세요\n",
        "\n",
        "## for문과 set"
      ],
      "id": "7ea2fcfc-eb71-4699-9a71-918628581301"
    },
    {
      "cell_type": "code",
      "execution_count": null,
      "metadata": {},
      "outputs": [],
      "source": [
        "day1 = {'notebook', 'desktop'}\n",
        "day2 = {'notebook', 'ipad'}"
      ],
      "id": "1392101f"
    },
    {
      "cell_type": "code",
      "execution_count": null,
      "metadata": {},
      "outputs": [
        {
          "output_type": "stream",
          "name": "stdout",
          "text": [
            "notebook\n",
            "ipad\n",
            "desktop"
          ]
        }
      ],
      "source": [
        "for i in day1|day2: \n",
        "    print(i)"
      ],
      "id": "e7e89236"
    },
    {
      "cell_type": "markdown",
      "metadata": {},
      "source": [
        "# 집합 고급내용\n",
        "\n",
        "## set 컴프리헨션\n",
        "\n",
        "`-` 예시1"
      ],
      "id": "35fcccbe-962e-4ddc-886a-786973ca37e1"
    },
    {
      "cell_type": "code",
      "execution_count": null,
      "metadata": {},
      "outputs": [],
      "source": [
        "lst = [1,2,1,1,3,4,5]\n",
        "{l for l in lst}"
      ],
      "id": "06371846"
    },
    {
      "cell_type": "markdown",
      "metadata": {},
      "source": [
        "## 유니크한 원소\n",
        "\n",
        "`-` 예제1: 아래의 list는 모두 몇 종류의 문자로 이루어져 있는가?"
      ],
      "id": "90bd7fd4-7f5a-4dce-a372-086716931d31"
    },
    {
      "cell_type": "code",
      "execution_count": null,
      "metadata": {},
      "outputs": [],
      "source": [
        "lst=list('asdfasssdfdsasdfasdfasdfasdf')"
      ],
      "id": "874db77e"
    },
    {
      "cell_type": "markdown",
      "metadata": {},
      "source": [
        "(풀이)"
      ],
      "id": "75ed768a-5bca-4cbe-a5b1-7f577cbd3b04"
    },
    {
      "cell_type": "code",
      "execution_count": null,
      "metadata": {},
      "outputs": [],
      "source": [
        "set(lst)"
      ],
      "id": "6dccff65"
    },
    {
      "cell_type": "code",
      "execution_count": null,
      "metadata": {},
      "outputs": [],
      "source": [
        "len(set(lst))"
      ],
      "id": "9c8bd1df"
    },
    {
      "cell_type": "markdown",
      "metadata": {},
      "source": [
        "`-` 예제2: 아래의 txt에서 어떠한 종류의 문자가 각각 몇번씩 사용되었는지\n",
        "빈도를 구하는 코드를 작성하라."
      ],
      "id": "f901bb7a-cef3-4d0d-93a7-864ff4372079"
    },
    {
      "cell_type": "code",
      "execution_count": null,
      "metadata": {},
      "outputs": [],
      "source": [
        "txt = 'asdkflkjahsdlkjfhlaksglkjdhflkgjhlskdfjhglkajhsdlkfjhalsdkf'\n",
        "txt"
      ],
      "id": "45ab58ec"
    },
    {
      "cell_type": "markdown",
      "metadata": {},
      "source": [
        "(풀이)"
      ],
      "id": "998d63af-b28a-4ec1-a0fd-91b723cac05d"
    },
    {
      "cell_type": "code",
      "execution_count": null,
      "metadata": {},
      "outputs": [],
      "source": [
        "{k:list(txt).count(k) for k in set(txt)}"
      ],
      "id": "47493e64"
    },
    {
      "cell_type": "markdown",
      "metadata": {},
      "source": [
        "# Quiz\n",
        "\n",
        "`1`. 아래와 같은 맵핑을 고려하자.\n",
        "\n",
        "| 문자 | 숫자 |\n",
        "|:----:|:----:|\n",
        "|  a   |  1   |\n",
        "|  b   |  0   |\n",
        "\n",
        "이를 딕셔너리로 표현하면 아래와 같다."
      ],
      "id": "23ed76fd-adc1-4f77-8f18-4be8693674ed"
    },
    {
      "cell_type": "code",
      "execution_count": 176,
      "metadata": {},
      "outputs": [],
      "source": [
        "dct = {'a':0, 'b':1} "
      ],
      "id": "1462130a"
    },
    {
      "cell_type": "markdown",
      "metadata": {},
      "source": [
        "위 규칙에 따라서 아래의 리스트의 원소를 문자로 각각 변환하라."
      ],
      "id": "178eefb7-bcab-4797-bb87-21bdae9f1323"
    },
    {
      "cell_type": "code",
      "execution_count": 177,
      "metadata": {},
      "outputs": [],
      "source": [
        "lst = [1, 0, 1, 0, 1, 0, 1, 1, 1, 1, 0, 0, 1, 0, 1]"
      ],
      "id": "707619c1"
    },
    {
      "cell_type": "markdown",
      "metadata": {},
      "source": [
        "``` python\n",
        "# 출력은 아래와 같아야 한다. \n",
        "['b', 'a', 'b', 'a', 'b', 'a', 'b', 'b', 'b', 'b', 'a', 'a', 'b', 'a', 'b']\n",
        "```\n",
        "\n",
        "(풀이)"
      ],
      "id": "27febe4a-b706-4aac-829a-3cca1dae4313"
    },
    {
      "cell_type": "code",
      "execution_count": 182,
      "metadata": {},
      "outputs": [],
      "source": [
        "[(k,v) for k,v in dct.items()]"
      ],
      "id": "3ef28574"
    },
    {
      "cell_type": "code",
      "execution_count": 184,
      "metadata": {},
      "outputs": [],
      "source": [
        "[k for l in lst for k,v in dct.items() if l == v] "
      ],
      "id": "dd053bad"
    },
    {
      "cell_type": "markdown",
      "metadata": {},
      "source": [
        "`2`. 아래와 같은 맵핑을 고려하자.\n",
        "\n",
        "|     월     |   의미   |\n",
        "|:----------:|:--------:|\n",
        "|    1,2     | 겨울방학 |\n",
        "|  3,4,5,6   |  1학기   |\n",
        "|    7,8     | 여름방학 |\n",
        "| 9,10,11,12 |  2학기   |\n",
        "\n",
        "이러한 규칙에 맞게 아래의 리스트를 적절한 문자열로 변환하라."
      ],
      "id": "782768ba-35ec-43bb-8f53-c312b1e94d00"
    },
    {
      "cell_type": "code",
      "execution_count": 12,
      "metadata": {
        "tags": []
      },
      "outputs": [],
      "source": [
        "month = [1,2,2,3,4,5,6,7,8,9,9,10,11,12] "
      ],
      "id": "91404712"
    },
    {
      "cell_type": "markdown",
      "metadata": {},
      "source": [
        "``` python\n",
        "## 출력은 아래와 같아야 한다. \n",
        "['겨울방학', '겨울방학', '겨울방학', '1학기', '1학기', '1학기', '1학기', '여름방학', '여름방학', '2학기', '2학기', '2학기', '2학기', '2학기']\n",
        "```\n",
        "\n",
        "(풀이)"
      ],
      "id": "ac1ee456-ba08-470c-97ed-192def7d900f"
    },
    {
      "cell_type": "code",
      "execution_count": 13,
      "metadata": {
        "tags": []
      },
      "outputs": [],
      "source": [
        "dct = {'겨울방학':list(range(1,3)), \n",
        "       '1학기':list(range(3,7)),\n",
        "       '여름방학':list(range(7,9)),\n",
        "       '2학기':list(range(9,13))}\n",
        "dct"
      ],
      "id": "21a34706"
    },
    {
      "cell_type": "code",
      "execution_count": 14,
      "metadata": {
        "tags": []
      },
      "outputs": [],
      "source": [
        "[k for m in month for k,v in dct.items() if m in v]"
      ],
      "id": "bc3cca0a"
    },
    {
      "cell_type": "markdown",
      "metadata": {},
      "source": [
        "`합성변환` 3-5.\n",
        "\n",
        "아래와 같은 맵핑을 고려하자.\n",
        "\n",
        "(규칙1)\n",
        "\n",
        "|   문자   | 숫자 |\n",
        "|:--------:|:----:|\n",
        "|  바나나  |  0   |\n",
        "|   사과   |  1   |\n",
        "| 오토바이 |  2   |\n",
        "|  자동차  |  3   |\n",
        "|  자전거  |  4   |\n",
        "\n",
        "(규칙2)\n",
        "\n",
        "|  아이템  | 카테고리 |\n",
        "|:--------:|:--------:|\n",
        "|  바나나  |   과일   |\n",
        "|   사과   |   과일   |\n",
        "| 오토바이 |   탈것   |\n",
        "|  자동차  |   탈것   |\n",
        "|  자전거  |   탈것   |\n",
        "\n",
        "각각의 규칙을 나타내는 딕셔너리는 아래와 같이 선언되어있다고 하자."
      ],
      "id": "7a2c0d8d-19fb-4a65-877b-14e988cdaec8"
    },
    {
      "cell_type": "code",
      "execution_count": 210,
      "metadata": {},
      "outputs": [],
      "source": [
        "dct1 = {'바나나':0, '사과':1, '오토바이':2, '자동차':3, '자전거':4} \n",
        "dct2 = {'과일':['바나나','사과'], '탈것':['오토바이','자동차','자전거']} "
      ],
      "id": "5a658452"
    },
    {
      "cell_type": "markdown",
      "metadata": {},
      "source": [
        "`3`. 규칙1를 이용하여 아래와 같은 리스트를 변환하는 함수를 구현하고 그\n",
        "함수를 `f`라 선언하라.\n",
        "\n",
        "``` python\n",
        "# 입력 \n",
        "[0,1,0,1,4]\n",
        "\n",
        "# 출력 \n",
        "['바나나', '사과', '바나나', '사과', '자전거']\n",
        "```\n",
        "\n",
        "(사용예시)"
      ],
      "id": "1e7497b9-03e4-4ce7-a091-c08ad5ca4144"
    },
    {
      "cell_type": "code",
      "execution_count": null,
      "metadata": {},
      "outputs": [],
      "source": [
        "f([0,1,0,1,4])"
      ],
      "id": "1728f060"
    },
    {
      "cell_type": "markdown",
      "metadata": {},
      "source": [
        "(풀이)"
      ],
      "id": "475641cb-37c9-4bdb-9440-031181479798"
    },
    {
      "cell_type": "code",
      "execution_count": 202,
      "metadata": {},
      "outputs": [],
      "source": [
        "lst = [0,1,0,1,4]"
      ],
      "id": "cb59f2cd"
    },
    {
      "cell_type": "code",
      "execution_count": 205,
      "metadata": {},
      "outputs": [],
      "source": [
        "def f(lst):\n",
        "    return [k for l in lst for k,v in dct1.items() if l ==v]"
      ],
      "id": "52229531"
    },
    {
      "cell_type": "code",
      "execution_count": 209,
      "metadata": {},
      "outputs": [],
      "source": [
        "f([0,1,0,1,4])"
      ],
      "id": "5540ad98"
    },
    {
      "cell_type": "markdown",
      "metadata": {},
      "source": [
        "`4`. 규칙2를 이용하여 아래와 같이 리스트를 변환하는 함수를 구현하고 그\n",
        "함수를 `g`라고 선언하라.\n",
        "\n",
        "``` python\n",
        "# 입력 \n",
        "['바나나','바나나','바나나','자동차']\n",
        "\n",
        "# 출력 \n",
        "['과일','과일','과일','탈것']\n",
        "```"
      ],
      "id": "2405246d-c7d2-4223-bc25-05d52a924664"
    },
    {
      "cell_type": "code",
      "execution_count": 214,
      "metadata": {},
      "outputs": [],
      "source": [
        "def g(lst):\n",
        "    return [k for l in lst for k,v in dct2.items() if l in v]"
      ],
      "id": "56b3a4f1"
    },
    {
      "cell_type": "markdown",
      "metadata": {},
      "source": [
        "(사용예시)"
      ],
      "id": "8e6e2987-4edd-462b-a1d5-e9697bd6d17a"
    },
    {
      "cell_type": "code",
      "execution_count": null,
      "metadata": {},
      "outputs": [],
      "source": [
        "g(['바나나','바나나','바나나','자동차'])"
      ],
      "id": "49bb0231"
    },
    {
      "cell_type": "markdown",
      "metadata": {},
      "source": [
        "(풀이)"
      ],
      "id": "3059414c-ba3e-46ac-a2cc-90e0c866bddb"
    },
    {
      "cell_type": "code",
      "execution_count": 218,
      "metadata": {},
      "outputs": [],
      "source": [
        "def g(lst):\n",
        "    return [k for l in lst for k,v in dct2.items() if l in v]"
      ],
      "id": "3e62ccb5"
    },
    {
      "cell_type": "code",
      "execution_count": 219,
      "metadata": {},
      "outputs": [],
      "source": [
        "g(['바나나','바나나','바나나','자동차'])"
      ],
      "id": "673fbca1"
    },
    {
      "cell_type": "markdown",
      "metadata": {},
      "source": [
        "`5`. 규칙1-2를 이용하여 아래와 같은 숫자로 이루어진 입력을 ‘과일’,\n",
        "‘탈것’ 중 하나로 바꾸는 코드를 구현하라.\n",
        "\n",
        "``` python\n",
        "# 입력 \n",
        "[0,1,0,1,3,4,2,2,3,4,1,0]\n",
        "\n",
        "# 출력 \n",
        "['과일', '과일', '과일', '과일', '탈것', '탈것', '탈것', '탈것', '탈것', '탈것', '과일', '과일']\n",
        "```\n",
        "\n",
        "**hint** $g(f(x))$ 를 이용하라.\n",
        "\n",
        "(풀이)"
      ],
      "id": "4f623e1e-9072-4038-a39c-958075d4b35a"
    },
    {
      "cell_type": "code",
      "execution_count": 221,
      "metadata": {},
      "outputs": [],
      "source": [
        "g(f([0,1,0,1,3,4,2,2,3,4,1,0]))"
      ],
      "id": "f5866863"
    },
    {
      "cell_type": "markdown",
      "metadata": {},
      "source": [
        "`Oxford-III`: 6–10 //\n",
        "[reference](https://www.robots.ox.ac.uk/~vgg/data/pets/)\n",
        "\n",
        "아래는 이미지 파일명들이 저장된 string을 불러오는 코드이다."
      ],
      "id": "62a5bd56-298e-487c-9796-01896cac4b90"
    },
    {
      "cell_type": "code",
      "execution_count": 16,
      "metadata": {
        "tags": []
      },
      "outputs": [],
      "source": [
        "import requests\n",
        "url = 'https://raw.githubusercontent.com/guebin/PP2023/main/posts/01_PythonBasic/Oxford-IIIT.txt'\n",
        "txt = requests.get(url).content.decode()"
      ],
      "id": "39624242"
    },
    {
      "cell_type": "markdown",
      "metadata": {},
      "source": [
        "이미지파일이 저장된 형식은 아래와 같다.\n",
        "\n",
        "    Abyssinian_1.jpg\n",
        "    British_Shorthair_129.jpg"
      ],
      "id": "32b776d5-12f1-4659-a0f0-0c584e6de66b"
    },
    {
      "cell_type": "code",
      "execution_count": 223,
      "metadata": {},
      "outputs": [],
      "source": [
        "{1,2,3}"
      ],
      "id": "ca6a4549"
    },
    {
      "cell_type": "markdown",
      "metadata": {},
      "source": [
        "**note**: `British_Shorthair`와 같이 종 이름 사이에 `_`가 들어있는\n",
        "경우도 있음.\n",
        "\n",
        "`6`. txt를 적당히 변환하여 아래와 같은 list를 만들어라."
      ],
      "id": "3a20d83c-8af5-456e-91b8-9e15b9fdad3f"
    },
    {
      "cell_type": "code",
      "execution_count": null,
      "metadata": {},
      "outputs": [],
      "source": [
        "lst[:10],lst[810:820]"
      ],
      "id": "a937c918"
    },
    {
      "cell_type": "markdown",
      "metadata": {},
      "source": [
        "**hint1**"
      ],
      "id": "d6649d65-e83a-4673-bb35-ae24bb8244e6"
    },
    {
      "cell_type": "code",
      "execution_count": 230,
      "metadata": {},
      "outputs": [],
      "source": [
        "'Abyssinian/nAbyssinian'.split('/n')"
      ],
      "id": "5e60fe6d"
    },
    {
      "cell_type": "markdown",
      "metadata": {},
      "source": [
        "**hint2**"
      ],
      "id": "77feacc6-8bf9-4a49-80d8-ab27001b7896"
    },
    {
      "cell_type": "code",
      "execution_count": null,
      "metadata": {},
      "outputs": [],
      "source": [
        "''.join(['British', 'Shorthair'])"
      ],
      "id": "4e232868"
    },
    {
      "cell_type": "code",
      "execution_count": null,
      "metadata": {},
      "outputs": [],
      "source": [
        "''.join(['Abyssinian'])"
      ],
      "id": "338df9e9"
    },
    {
      "cell_type": "markdown",
      "metadata": {},
      "source": [
        "(풀이)"
      ],
      "id": "3c3d3da4-6d4b-4740-8e57-32703aaa2024"
    },
    {
      "cell_type": "code",
      "execution_count": 17,
      "metadata": {
        "tags": []
      },
      "outputs": [],
      "source": [
        "lst = [''.join(l.split('_')[:-1]) for l in txt.split('\\n')]\n",
        "lst[:10],lst[810:820]"
      ],
      "id": "e67eae71"
    },
    {
      "cell_type": "markdown",
      "metadata": {},
      "source": [
        "`7`. 그림파일에는 총 몇가지 종류의 고양이와, 몇가지 종류의 강아지가\n",
        "있는가?\n",
        "\n",
        "**note:** 고양이사진은 대문자로 시작하고, 강아지 사진은 소문자로\n",
        "시작한다.\n",
        "\n",
        "**note**: 12종의 고양이, 25종의 강아지가 있음\n",
        "\n",
        "(풀이)"
      ],
      "id": "96c9d78b-3e81-4167-a3d5-95b2b1d3712e"
    },
    {
      "cell_type": "code",
      "execution_count": 24,
      "metadata": {
        "tags": []
      },
      "outputs": [],
      "source": [
        "sum([l[0].isupper() for l in set(lst)]) # 고양이 12"
      ],
      "id": "33876542"
    },
    {
      "cell_type": "code",
      "execution_count": 25,
      "metadata": {
        "tags": []
      },
      "outputs": [],
      "source": [
        "len(set(lst)) - sum([l[0].isupper() for l in set(lst)]) # 강아지 25"
      ],
      "id": "a6325059-cdd7-4ca1-8b69-af7d5dbe835a"
    },
    {
      "cell_type": "markdown",
      "metadata": {},
      "source": [
        "(풀이2)"
      ],
      "id": "051e8b5d-6a7f-4040-92e3-4886f8a1fdcd"
    },
    {
      "cell_type": "code",
      "execution_count": 26,
      "metadata": {
        "tags": []
      },
      "outputs": [],
      "source": [
        "[s[0].isupper() for s in set(lst)].count(True) # 고양이 12"
      ],
      "id": "e5473d68"
    },
    {
      "cell_type": "code",
      "execution_count": 27,
      "metadata": {
        "tags": []
      },
      "outputs": [],
      "source": [
        "[s[0].isupper() for s in set(lst)].count(False) # 강아지 25 "
      ],
      "id": "12799628"
    },
    {
      "cell_type": "markdown",
      "metadata": {},
      "source": [
        "`8`. 아래는 1번의 결과로 얻어진 lst의 첫 10개의 원소와 마지막 10개의\n",
        "원소이다."
      ],
      "id": "555c194d-4d83-41f9-99c7-a5e91ea285f9"
    },
    {
      "cell_type": "code",
      "execution_count": 284,
      "metadata": {},
      "outputs": [],
      "source": [
        "lst[:10], lst[-10:]"
      ],
      "id": "c0b60fdb"
    },
    {
      "cell_type": "markdown",
      "metadata": {},
      "source": [
        "적당한 변환을 정의하여 lst를 아래와 같이 바꾸어라."
      ],
      "id": "7b32016a-7ed9-42d9-8b98-59548cbac653"
    },
    {
      "cell_type": "code",
      "execution_count": 36,
      "metadata": {
        "tags": []
      },
      "outputs": [],
      "source": [
        "lst2[:10], lst2[-10:] # 바뀐 lst"
      ],
      "id": "dac2ce70-1ff4-4157-9359-d93c13f5d89f"
    },
    {
      "cell_type": "markdown",
      "metadata": {},
      "source": [
        "(풀이)"
      ],
      "id": "548b5166-a99f-4d2a-94ca-c8a7ec1647ce"
    },
    {
      "cell_type": "code",
      "execution_count": 35,
      "metadata": {
        "tags": []
      },
      "outputs": [],
      "source": [
        "lst2= [{True:'cat', False:'dog'}[l[0].isupper()] for l in lst]\n",
        "lst2[:10],lst2[-10:]"
      ],
      "id": "216526a0-7e11-4629-ba3a-4612b3cd7684"
    },
    {
      "cell_type": "markdown",
      "metadata": {},
      "source": [
        "`9`. txt에는 강아지사진과 고양이사진이 모두 몇장씩 들어있는가?\n",
        "\n",
        "(풀이)"
      ],
      "id": "62557767-cf91-4e11-bf62-40c4e6c9e5ee"
    },
    {
      "cell_type": "code",
      "execution_count": 307,
      "metadata": {},
      "outputs": [],
      "source": [
        "sum([l[0].isupper() for l in lst])"
      ],
      "id": "0c64cf11"
    },
    {
      "cell_type": "code",
      "execution_count": 309,
      "metadata": {},
      "outputs": [],
      "source": [
        "len(lst) - sum([l[0].isupper() for l in lst])"
      ],
      "id": "55338199"
    },
    {
      "cell_type": "markdown",
      "metadata": {},
      "source": [
        "`10`. txt에 각 종별로 몇장의 사진이 있는지 조사하라."
      ],
      "id": "02e6ae72-4981-48bf-968b-2dbf3fe610fb"
    },
    {
      "cell_type": "code",
      "execution_count": null,
      "metadata": {},
      "outputs": [],
      "source": [
        "## 출력예시"
      ],
      "id": "8f34758e"
    },
    {
      "cell_type": "markdown",
      "metadata": {},
      "source": [
        "(풀이)"
      ],
      "id": "2c45e456-60fe-4048-bbc5-56dda0c149b3"
    },
    {
      "cell_type": "code",
      "execution_count": 319,
      "metadata": {},
      "outputs": [],
      "source": [
        "{l:lst.count(l) for l in set(lst)}"
      ],
      "id": "1b4ba65b"
    }
  ],
  "nbformat": 4,
  "nbformat_minor": 5,
  "metadata": {
    "kernelspec": {
      "name": "python3",
      "display_name": "Python 3 (ipykernel)",
      "language": "python"
    },
    "language_info": {
      "name": "python",
      "codemirror_mode": {
        "name": "ipython",
        "version": "3"
      },
      "file_extension": ".py",
      "mimetype": "text/x-python",
      "nbconvert_exporter": "python",
      "pygments_lexer": "ipython3",
      "version": "3.10.13"
    }
  }
}