{
  "cells": [
    {
      "cell_type": "markdown",
      "metadata": {},
      "source": [
        "# Lesson 04: 파이썬의 자료형 III (dict, set)\n",
        "\n",
        "최규빈  \n",
        "2023-06-24\n",
        "\n",
        "# 딕셔너리 기본내용\n",
        "\n",
        "## intro: str, list, tuple 정리\n",
        "\n",
        "`-` str, list, tuple은 모두 시퀀스형이라는 공통점이 있다. $\\to$ 원소의\n",
        "위치번호로 인덱싱이 가능"
      ],
      "id": "6e348196-dade-41dd-a371-bdbe59109063"
    },
    {
      "cell_type": "code",
      "execution_count": null,
      "metadata": {},
      "outputs": [],
      "source": [
        "lst = [1,2,3,4]"
      ],
      "id": "0a004a5c"
    },
    {
      "cell_type": "code",
      "execution_count": null,
      "metadata": {},
      "outputs": [],
      "source": [
        "lst[0] # 위치번호=0"
      ],
      "id": "d573fc0e"
    },
    {
      "cell_type": "code",
      "execution_count": null,
      "metadata": {},
      "outputs": [],
      "source": [
        "lst[-1] # 위치번호=-1"
      ],
      "id": "fc202bcb"
    },
    {
      "cell_type": "markdown",
      "metadata": {},
      "source": [
        "`-` str, list, tuple은 차이점도 존재함. 잠깐 정리해보자.\n",
        "\n",
        "***시퀀스형의 카테고리***\n",
        "\n",
        "-   컨테니어형: list, tuple\n",
        "-   균일형: str\n",
        "-   가변형: list\n",
        "-   불변형: tuple, str\n",
        "\n",
        "***표로 정리하면***\n",
        "\n",
        "|        | 컨테니어형 | 균일형 |\n",
        "|:------:|:----------:|:------:|\n",
        "| 가변형 |    list    |   .    |\n",
        "| 불변형 |   tuple    |  str   |\n",
        "\n",
        "`-` 시퀀스형이 아닌 1차원 자료형도 있을까? 원소의 위치번호로 인덱싱이\n",
        "불가능한 자료형\n",
        "\n",
        "`-` 왜 이런게 필요할까?\n",
        "\n",
        "-   벡터에서 원소를 뽑는것은 정보의 모임에서 정보를 검색하는 것과 같다.\n",
        "-   정보를 `순서`대로 나열한뒤에 그 `순서`를 이용하여 검색하는 방법은\n",
        "    유용하다.\n",
        "-   하지만 경우에 따라서는 `키워드`를 기억해서 그 `키워드`를 바탕으로\n",
        "    정보에 접근하는 방법이 유용할 수 있다.\n",
        "\n",
        "***카카오톡 대화내용검색***\n",
        "\n",
        "(상황1) `오늘아침`에 와이프가 `뭔가`를 카톡으로 부탁했었음. 그런데 그\n",
        "`뭔가`가 기억안남.\n",
        "\n",
        "(상황2) `개강전에` 동료교수와 함께 `저녁약속`을 카톡으로 잡았었음.\n",
        "그런데 그게 언제인지 기억안남.\n",
        "\n",
        "(상황3) `오늘아침` 동료교수와 함께 `점심약속`을 카톡으로 잡았었음.\n",
        "그런데 그 장소가 기억나지 않음.\n",
        "\n",
        "`-` 순서대로 정리된 자료를 검색할때는 시퀀스형이 유리하다. 그런데\n",
        "키워드로 검색하고 싶을 경우는 딕셔너리 타입이 유리하다.\n",
        "\n",
        "## 선언\n",
        "\n",
        "`-` 방법1: 가장 일반적"
      ],
      "id": "d0005a5c-0227-4d82-ac24-dc14fd4fcccf"
    },
    {
      "cell_type": "code",
      "execution_count": null,
      "metadata": {},
      "outputs": [],
      "source": [
        "dct = {'guebin':49, 'hanni':80}\n",
        "dct"
      ],
      "id": "82b8c4a1"
    },
    {
      "cell_type": "markdown",
      "metadata": {},
      "source": [
        "`-` 방법2: `dict()` 이용"
      ],
      "id": "a5f3a054-4d8d-4c57-9526-eba8b2a9aff7"
    },
    {
      "cell_type": "code",
      "execution_count": null,
      "metadata": {},
      "outputs": [],
      "source": [
        "dct = dict(guebin=49, hanni=80)\n",
        "dct"
      ],
      "id": "33c920f4"
    },
    {
      "cell_type": "markdown",
      "metadata": {},
      "source": [
        "`-` 방법3: 중첩된 리스트를 만든 뒤에 형태변환"
      ],
      "id": "daa8c690-29a0-4075-bc90-3974e8b065fa"
    },
    {
      "cell_type": "code",
      "execution_count": null,
      "metadata": {},
      "outputs": [],
      "source": [
        "_lst = [['guebin',49],['hanni',80]]\n",
        "_lst "
      ],
      "id": "2249d116"
    },
    {
      "cell_type": "code",
      "execution_count": null,
      "metadata": {},
      "outputs": [],
      "source": [
        "dict(_lst)"
      ],
      "id": "e96f955a"
    },
    {
      "cell_type": "markdown",
      "metadata": {},
      "source": [
        "`-` 방법4: 중첩된 튜플을 만든 뒤에 형태변환"
      ],
      "id": "a3f73404-b44c-4b91-9668-41d99eb6b68b"
    },
    {
      "cell_type": "code",
      "execution_count": null,
      "metadata": {},
      "outputs": [],
      "source": [
        "_tpl = ('guebin',49), ('hanni',80)\n",
        "_tpl"
      ],
      "id": "efd283bf"
    },
    {
      "cell_type": "code",
      "execution_count": null,
      "metadata": {},
      "outputs": [],
      "source": [
        "dict(_tpl)"
      ],
      "id": "d0f6ea74"
    },
    {
      "cell_type": "markdown",
      "metadata": {},
      "source": [
        "## 원소추출\n",
        "\n",
        "`-` 원소의 위치로 추출할 수 없고, key로 추출해야 한다."
      ],
      "id": "86ad1517-d5c5-43cc-af09-75517e02b4c3"
    },
    {
      "cell_type": "code",
      "execution_count": null,
      "metadata": {},
      "outputs": [],
      "source": [
        "dct = {'guebin':49, 'hanni':80}\n",
        "dct"
      ],
      "id": "feecfeb1"
    },
    {
      "cell_type": "markdown",
      "metadata": {},
      "source": [
        "guebin의 점수를 추출하고 싶다면?"
      ],
      "id": "af7dc046-e7cc-4d2a-be7d-74212122390b"
    },
    {
      "cell_type": "code",
      "execution_count": null,
      "metadata": {},
      "outputs": [],
      "source": [
        "dct['guebin']"
      ],
      "id": "1f76b4d8"
    },
    {
      "cell_type": "markdown",
      "metadata": {},
      "source": [
        "`-` 만약에 dict가 아니라 list로 정보를 저장했다면?\n",
        "\n",
        "(예제) 아래와 같은 리스트에서 guebin의 점수를 추출하고 싶다면?"
      ],
      "id": "9b4c2c1b-7084-434f-a7d2-82d3706aa4ad"
    },
    {
      "cell_type": "code",
      "execution_count": null,
      "metadata": {},
      "outputs": [],
      "source": [
        "lst=[['guebin',49],['hanni',80]]\n",
        "lst"
      ],
      "id": "3f1c71dc"
    },
    {
      "cell_type": "markdown",
      "metadata": {},
      "source": [
        "(풀이1)"
      ],
      "id": "f4e9f0f6-d309-42b5-a4c8-a0b46aa3950e"
    },
    {
      "cell_type": "code",
      "execution_count": null,
      "metadata": {},
      "outputs": [],
      "source": [
        "lst[0][1] # guebin의 점수를 출력하란 의미"
      ],
      "id": "203261fa"
    },
    {
      "cell_type": "markdown",
      "metadata": {},
      "source": [
        "(풀이2) – 진짜 최악"
      ],
      "id": "01135ade-2c80-4775-af8f-1321ffc7623a"
    },
    {
      "cell_type": "code",
      "execution_count": null,
      "metadata": {},
      "outputs": [],
      "source": [
        "[lst[i][1] for i in range(len(lst)) if lst[i][0] == 'guebin']"
      ],
      "id": "8c795e13"
    },
    {
      "cell_type": "markdown",
      "metadata": {},
      "source": [
        "(풀이3) – 덜 최악"
      ],
      "id": "4c2688d0-8879-455d-950e-e9af7e9e2ba1"
    },
    {
      "cell_type": "code",
      "execution_count": null,
      "metadata": {},
      "outputs": [],
      "source": [
        "[score for name,score in lst if name == 'guebin']"
      ],
      "id": "de98cd04"
    },
    {
      "cell_type": "markdown",
      "metadata": {},
      "source": [
        "`-` ’guebin’의 점수를 추출하는 코드 비교"
      ],
      "id": "8d885044-942e-4bd9-9d0d-ea3fe5944c4c"
    },
    {
      "cell_type": "code",
      "execution_count": null,
      "metadata": {},
      "outputs": [],
      "source": [
        "dct['guebin'] # 코드1: 단순하고, 가독성있음"
      ],
      "id": "adf59e59"
    },
    {
      "cell_type": "code",
      "execution_count": null,
      "metadata": {},
      "outputs": [],
      "source": [
        "lst[0][1] # 코드2: 단순하지만, 가독성이 있는건 아님"
      ],
      "id": "d7605808"
    },
    {
      "cell_type": "code",
      "execution_count": null,
      "metadata": {},
      "outputs": [],
      "source": [
        "[lst[i][1] for i in range(len(lst)) if lst[i][0] =='guebin'] # 코드3: 단순하지도 않고, 가독성도 없음."
      ],
      "id": "8b08f88e"
    },
    {
      "cell_type": "code",
      "execution_count": null,
      "metadata": {},
      "outputs": [],
      "source": [
        "[score for name,score in lst if name=='guebin' ] # 코드4: 단순하지 않지만, 가독성은 있음"
      ],
      "id": "8e07a60b"
    },
    {
      "cell_type": "markdown",
      "metadata": {},
      "source": [
        "## 원소추가, 변경, 삭제"
      ],
      "id": "2490e83c-162b-4c27-ba1c-592e6f7b6025"
    },
    {
      "cell_type": "code",
      "execution_count": null,
      "metadata": {},
      "outputs": [],
      "source": [
        "dct={'guebin':49, 'hanni':80}\n",
        "dct"
      ],
      "id": "171ce1d9"
    },
    {
      "cell_type": "markdown",
      "metadata": {},
      "source": [
        "`-` 원소에 접근: guebin의 점수 출력"
      ],
      "id": "fae6bb09-fb3b-450b-a682-7c2d51469c5d"
    },
    {
      "cell_type": "code",
      "execution_count": null,
      "metadata": {},
      "outputs": [],
      "source": [
        "dct['guebin']"
      ],
      "id": "abdfe838"
    },
    {
      "cell_type": "markdown",
      "metadata": {},
      "source": [
        "`-` 추가: hynn학생의 점수를 추가"
      ],
      "id": "57d64fc3-a999-4514-a87e-17b96ee1a7fe"
    },
    {
      "cell_type": "code",
      "execution_count": null,
      "metadata": {},
      "outputs": [],
      "source": [
        "dct['hynn'] = 99"
      ],
      "id": "84860ec5"
    },
    {
      "cell_type": "code",
      "execution_count": null,
      "metadata": {},
      "outputs": [],
      "source": [
        "dct"
      ],
      "id": "24aded48"
    },
    {
      "cell_type": "markdown",
      "metadata": {},
      "source": [
        "`-` 변경: hanni의 점수를 변경"
      ],
      "id": "0147538e-1e98-4e97-a3a5-473d1c20e84a"
    },
    {
      "cell_type": "code",
      "execution_count": null,
      "metadata": {},
      "outputs": [],
      "source": [
        "dct['hanni'] = 100 "
      ],
      "id": "41211859"
    },
    {
      "cell_type": "code",
      "execution_count": null,
      "metadata": {},
      "outputs": [],
      "source": [
        "dct"
      ],
      "id": "2732e570"
    },
    {
      "cell_type": "markdown",
      "metadata": {},
      "source": [
        "`-` 삭제\n",
        "\n",
        "(방법1)"
      ],
      "id": "9bee88ec-273e-44d6-8153-6f5668eab7bd"
    },
    {
      "cell_type": "code",
      "execution_count": null,
      "metadata": {},
      "outputs": [],
      "source": [
        "dct={'guebin':49, 'hanni':80, 'hynn':99}\n",
        "del dct['guebin']  \n",
        "dct"
      ],
      "id": "e8686af7"
    },
    {
      "cell_type": "markdown",
      "metadata": {},
      "source": [
        "(방법2)"
      ],
      "id": "8170234b-6dff-4ef6-9352-a846ae10e412"
    },
    {
      "cell_type": "code",
      "execution_count": null,
      "metadata": {},
      "outputs": [],
      "source": [
        "dct={'guebin':49, 'hanni':80, 'hynn':99} \n",
        "dct.pop('guebin')"
      ],
      "id": "b5e9a1c3"
    },
    {
      "cell_type": "code",
      "execution_count": null,
      "metadata": {},
      "outputs": [],
      "source": [
        "dct"
      ],
      "id": "01ed9212"
    },
    {
      "cell_type": "markdown",
      "metadata": {},
      "source": [
        "`-` 참고로 리스트였다면 이러한 삭제작업역시 비효율적이었을 것임"
      ],
      "id": "f2bf78b7-1c4c-4f18-8721-e7968474ea80"
    },
    {
      "cell_type": "code",
      "execution_count": null,
      "metadata": {},
      "outputs": [],
      "source": [
        "lst = [['guebin',49],['hanni',80],['hynn',99]] \n",
        "lst"
      ],
      "id": "a64ede40"
    },
    {
      "cell_type": "markdown",
      "metadata": {},
      "source": [
        "guebin의 점수를 삭제하려면?"
      ],
      "id": "b043fe73-2989-4192-bd2e-c3e48ddf998e"
    },
    {
      "cell_type": "code",
      "execution_count": null,
      "metadata": {},
      "outputs": [],
      "source": [
        "[[name,score] for name,score in lst if name != 'guebin']"
      ],
      "id": "809e9372"
    },
    {
      "cell_type": "markdown",
      "metadata": {},
      "source": [
        "## 연산\n",
        "\n",
        "`-` 하나있어요.."
      ],
      "id": "3692dcac-5e3b-47f3-9c1b-4a436afa61d6"
    },
    {
      "cell_type": "code",
      "execution_count": null,
      "metadata": {},
      "outputs": [],
      "source": [
        "dct = {'guebin':49, 'hanni':80} \n",
        "dct"
      ],
      "id": "c6f4533c"
    },
    {
      "cell_type": "code",
      "execution_count": null,
      "metadata": {},
      "outputs": [],
      "source": [
        "'guebin' in dct"
      ],
      "id": "31feebc8"
    },
    {
      "cell_type": "code",
      "execution_count": null,
      "metadata": {},
      "outputs": [],
      "source": [
        "'hanni' in dct"
      ],
      "id": "ef7e8653"
    },
    {
      "cell_type": "code",
      "execution_count": null,
      "metadata": {},
      "outputs": [],
      "source": [
        "'hynn' in dct"
      ],
      "id": "9a24c8e5"
    },
    {
      "cell_type": "markdown",
      "metadata": {},
      "source": [
        "`-` in은 사실 다른자료형도 가능했음\n",
        "\n",
        "(관찰1)"
      ],
      "id": "edebede3-84c7-482d-8c2e-2379039ffc0b"
    },
    {
      "cell_type": "code",
      "execution_count": null,
      "metadata": {},
      "outputs": [],
      "source": [
        "'a' in 'guebin' "
      ],
      "id": "08545413"
    },
    {
      "cell_type": "code",
      "execution_count": null,
      "metadata": {},
      "outputs": [],
      "source": [
        "'b' in 'guebin' "
      ],
      "id": "d4a0c835"
    },
    {
      "cell_type": "code",
      "execution_count": null,
      "metadata": {},
      "outputs": [],
      "source": [
        "'c' in 'guebin' "
      ],
      "id": "b1d1aed4"
    },
    {
      "cell_type": "markdown",
      "metadata": {},
      "source": [
        "(관찰2)"
      ],
      "id": "f9f31873-4d48-4617-aaec-95b21495ce95"
    },
    {
      "cell_type": "code",
      "execution_count": null,
      "metadata": {},
      "outputs": [],
      "source": [
        "tpl = 1,2,3 \n",
        "tpl"
      ],
      "id": "411a3af6"
    },
    {
      "cell_type": "code",
      "execution_count": null,
      "metadata": {},
      "outputs": [],
      "source": [
        "1 in tpl"
      ],
      "id": "7ac29a71"
    },
    {
      "cell_type": "code",
      "execution_count": null,
      "metadata": {},
      "outputs": [],
      "source": [
        "4 in tpl"
      ],
      "id": "0388d08e"
    },
    {
      "cell_type": "markdown",
      "metadata": {},
      "source": [
        "(관찰3)"
      ],
      "id": "1b36036f-56b6-48fb-bebc-95b0793d1e6a"
    },
    {
      "cell_type": "code",
      "execution_count": null,
      "metadata": {},
      "outputs": [],
      "source": [
        "lst = [['guebin',49],['hanni',80],['hynn',99]] \n",
        "lst"
      ],
      "id": "577d2248"
    },
    {
      "cell_type": "code",
      "execution_count": null,
      "metadata": {},
      "outputs": [],
      "source": [
        "['guebin',49] in lst"
      ],
      "id": "67be7517"
    },
    {
      "cell_type": "markdown",
      "metadata": {},
      "source": [
        "`-` in연산자가 dict형에 사용되면 key를 기준으로 True, False를 판단한다.\n",
        "\n",
        "## 딕셔너리 특수기능\n",
        "\n",
        "**(pop)**"
      ],
      "id": "0b308fe4-0bf8-46ef-85a0-79b21c54cde4"
    },
    {
      "cell_type": "code",
      "execution_count": null,
      "metadata": {},
      "outputs": [],
      "source": [
        "dct = {'guebin':49, 'hanni':80} \n",
        "dct.pop('hanni')\n",
        "dct"
      ],
      "id": "b0224b8d"
    },
    {
      "cell_type": "markdown",
      "metadata": {},
      "source": [
        "**(get)**"
      ],
      "id": "1fcf74cd-fb16-478f-a605-6610516a8e76"
    },
    {
      "cell_type": "code",
      "execution_count": null,
      "metadata": {},
      "outputs": [],
      "source": [
        "dct = {'guebin':49, 'hanni':80} \n",
        "dct"
      ],
      "id": "e37bec1e"
    },
    {
      "cell_type": "code",
      "execution_count": null,
      "metadata": {},
      "outputs": [],
      "source": [
        "dct.get('guebin') "
      ],
      "id": "29820be9"
    },
    {
      "cell_type": "markdown",
      "metadata": {},
      "source": [
        "아래와 같은 기능"
      ],
      "id": "be11f35e-ad24-4a99-aff8-600c19550969"
    },
    {
      "cell_type": "code",
      "execution_count": null,
      "metadata": {},
      "outputs": [],
      "source": [
        "dct['guebin']"
      ],
      "id": "d33791fd"
    },
    {
      "cell_type": "markdown",
      "metadata": {},
      "source": [
        "미묘한 차이점이 존재함"
      ],
      "id": "c7790b59-0ccb-422f-a547-7b00cf65d0fa"
    },
    {
      "cell_type": "code",
      "execution_count": null,
      "metadata": {},
      "outputs": [],
      "source": [
        "dct['hynn'] # hynn이 없어서 키에러 출력, 그런 key는 없다.. "
      ],
      "id": "f1b3245e"
    },
    {
      "cell_type": "code",
      "execution_count": null,
      "metadata": {},
      "outputs": [],
      "source": [
        "dct.get('hynn') # hynn이 없으면 아무것도 출력안함 "
      ],
      "id": "d3a6c21b"
    },
    {
      "cell_type": "markdown",
      "metadata": {},
      "source": [
        "**(keys,values,items)**\n",
        "\n",
        "`-` .keys()는 딕셔너리의 키를 리턴한다."
      ],
      "id": "8313ac66-a60b-49f6-8e35-b642bde95f18"
    },
    {
      "cell_type": "code",
      "execution_count": null,
      "metadata": {},
      "outputs": [],
      "source": [
        "dct = {'guebin':49, 'hanni':80} \n",
        "dct"
      ],
      "id": "8c1704ab"
    },
    {
      "cell_type": "code",
      "execution_count": null,
      "metadata": {},
      "outputs": [],
      "source": [
        "_keys=dct.keys()\n",
        "_keys"
      ],
      "id": "9486d194"
    },
    {
      "cell_type": "code",
      "execution_count": null,
      "metadata": {},
      "outputs": [],
      "source": [
        "type(_keys) # 리턴된 자료형은 이상한것임"
      ],
      "id": "f9d4436d"
    },
    {
      "cell_type": "code",
      "execution_count": null,
      "metadata": {},
      "outputs": [],
      "source": [
        "list(_keys) # 아무튼 그 이상한 자료형도 리스트화 가능 "
      ],
      "id": "99fa6146"
    },
    {
      "cell_type": "markdown",
      "metadata": {},
      "source": [
        "`-` .values()는 딕셔너리의 값들을 리턴한다."
      ],
      "id": "b180ed7c-affd-4031-a305-f9a9a8027b60"
    },
    {
      "cell_type": "code",
      "execution_count": null,
      "metadata": {},
      "outputs": [],
      "source": [
        "_values = dct.values()\n",
        "_values "
      ],
      "id": "fc9a7692"
    },
    {
      "cell_type": "code",
      "execution_count": null,
      "metadata": {},
      "outputs": [],
      "source": [
        "type(_values)"
      ],
      "id": "7c26c3f7"
    },
    {
      "cell_type": "code",
      "execution_count": null,
      "metadata": {},
      "outputs": [],
      "source": [
        "list(_values)"
      ],
      "id": "068516fa"
    },
    {
      "cell_type": "markdown",
      "metadata": {},
      "source": [
        "`-` .items()는 딕셔너리의 (키,값)을 리턴한다."
      ],
      "id": "07f231c4-512d-4e60-b264-648469f7cfc7"
    },
    {
      "cell_type": "code",
      "execution_count": null,
      "metadata": {},
      "outputs": [],
      "source": [
        "_items = dct.items()\n",
        "_items "
      ],
      "id": "10b11b90"
    },
    {
      "cell_type": "code",
      "execution_count": null,
      "metadata": {},
      "outputs": [],
      "source": [
        "type(_items)"
      ],
      "id": "f5827635"
    },
    {
      "cell_type": "code",
      "execution_count": null,
      "metadata": {},
      "outputs": [],
      "source": [
        "list(_items)"
      ],
      "id": "da10cc8c"
    },
    {
      "cell_type": "markdown",
      "metadata": {},
      "source": [
        "## for문과 dict ($\\star$)"
      ],
      "id": "df74dca0-d766-47c7-aa91-18a43484506f"
    },
    {
      "cell_type": "code",
      "execution_count": null,
      "metadata": {},
      "outputs": [],
      "source": [
        "dct = {'guebin': 49, 'hanni': 80}\n",
        "dct"
      ],
      "id": "b8cd6316"
    },
    {
      "cell_type": "markdown",
      "metadata": {},
      "source": [
        "(예시1)"
      ],
      "id": "931128ca-7a76-48aa-897a-74fd4677e1f6"
    },
    {
      "cell_type": "code",
      "execution_count": null,
      "metadata": {},
      "outputs": [
        {
          "output_type": "stream",
          "name": "stdout",
          "text": [
            "guebin\n",
            "hanni"
          ]
        }
      ],
      "source": [
        "for k in dct.keys():\n",
        "    print(k)"
      ],
      "id": "a77cdba7"
    },
    {
      "cell_type": "code",
      "execution_count": null,
      "metadata": {},
      "outputs": [
        {
          "output_type": "stream",
          "name": "stdout",
          "text": [
            "guebin\n",
            "hanni"
          ]
        }
      ],
      "source": [
        "for k in dct:\n",
        "    print(k)"
      ],
      "id": "ad24d788"
    },
    {
      "cell_type": "markdown",
      "metadata": {},
      "source": [
        "-   딕셔너리 그자체도 for문에 넣을 수 있다.\n",
        "-   k에는 value가 삭제되어 들어간다. (즉 key만)\n",
        "-   결과를 보면 dct 대신에 dct.keys()와 list(dct)를 넣었을때와 결과가\n",
        "    같다.\n",
        "\n",
        "> Note: list(dct) 하면 key만 리턴된다.\n",
        "\n",
        "(예시2)"
      ],
      "id": "cfe1ca75-5624-4c35-ac7f-d43023a89a03"
    },
    {
      "cell_type": "code",
      "execution_count": null,
      "metadata": {},
      "outputs": [
        {
          "output_type": "stream",
          "name": "stdout",
          "text": [
            "49\n",
            "80"
          ]
        }
      ],
      "source": [
        "for v in dct.values():\n",
        "    print(v)"
      ],
      "id": "975b8241"
    },
    {
      "cell_type": "markdown",
      "metadata": {},
      "source": [
        "(예시3)"
      ],
      "id": "cad33b47-5fa2-4bb8-8058-51db603f51e5"
    },
    {
      "cell_type": "code",
      "execution_count": null,
      "metadata": {},
      "outputs": [
        {
          "output_type": "stream",
          "name": "stdout",
          "text": [
            "('guebin', 49)\n",
            "('hanni', 80)"
          ]
        }
      ],
      "source": [
        "for i in dct.items():\n",
        "    print(i)"
      ],
      "id": "94be34c8"
    },
    {
      "cell_type": "markdown",
      "metadata": {},
      "source": [
        "(예시4)"
      ],
      "id": "16b65811-1113-41c6-8932-13dd20bbf5b4"
    },
    {
      "cell_type": "code",
      "execution_count": null,
      "metadata": {},
      "outputs": [
        {
          "output_type": "stream",
          "name": "stdout",
          "text": [
            "guebin 49\n",
            "hanni 80"
          ]
        }
      ],
      "source": [
        "for k,v in dct.items():\n",
        "    print(k,v)"
      ],
      "id": "4372add4"
    },
    {
      "cell_type": "markdown",
      "metadata": {},
      "source": [
        "(예시5) – {}의 중간고사 점수는 {}점 입니다."
      ],
      "id": "56a6152a-83a2-4cf2-bf3a-1455ea96229c"
    },
    {
      "cell_type": "code",
      "execution_count": null,
      "metadata": {},
      "outputs": [
        {
          "output_type": "stream",
          "name": "stdout",
          "text": [
            "guebin의 중간고사 점수는 49점 입니다.\n",
            "hanni의 중간고사 점수는 80점 입니다."
          ]
        }
      ],
      "source": [
        "for name,score in dct.items():\n",
        "    print('{}의 중간고사 점수는 {}점 입니다.'.format(name,score))"
      ],
      "id": "7f00bc9c"
    },
    {
      "cell_type": "markdown",
      "metadata": {},
      "source": [
        "# 딕셔너리 고급내용 ($\\star$)\n",
        "\n",
        "## dict에서 key혹은 value만 뽑아내기\n",
        "\n",
        "`-` 예제: 아래의 dict에서 key만 뽑아내고 싶다."
      ],
      "id": "e4e34025-322f-4631-890a-3d3f149f53c8"
    },
    {
      "cell_type": "code",
      "execution_count": null,
      "metadata": {},
      "outputs": [],
      "source": [
        "dct = {'guebin':49, 'hanni':80} "
      ],
      "id": "56cdcfc3"
    },
    {
      "cell_type": "markdown",
      "metadata": {},
      "source": [
        "(풀이1)"
      ],
      "id": "868afd4a-e3a4-4643-a7f2-7d941a83a328"
    },
    {
      "cell_type": "code",
      "execution_count": null,
      "metadata": {},
      "outputs": [],
      "source": [
        "list(dct)"
      ],
      "id": "af42e466"
    },
    {
      "cell_type": "markdown",
      "metadata": {},
      "source": [
        "(풀이2)"
      ],
      "id": "46812060-4033-416b-b7ca-5060592b4a24"
    },
    {
      "cell_type": "code",
      "execution_count": null,
      "metadata": {},
      "outputs": [],
      "source": [
        "list(dct.keys())"
      ],
      "id": "12ac1fd1"
    },
    {
      "cell_type": "markdown",
      "metadata": {},
      "source": [
        "(풀이3)"
      ],
      "id": "52e67288-cf1f-46ff-90c5-436869fc2afe"
    },
    {
      "cell_type": "code",
      "execution_count": null,
      "metadata": {},
      "outputs": [],
      "source": [
        "[k for k in dct]"
      ],
      "id": "238d9b6e"
    },
    {
      "cell_type": "markdown",
      "metadata": {},
      "source": [
        "(풀이4)"
      ],
      "id": "4fafc6a4-d926-4bbf-9902-830f32574e5c"
    },
    {
      "cell_type": "code",
      "execution_count": null,
      "metadata": {},
      "outputs": [],
      "source": [
        "[k for k,v in dct.items()]"
      ],
      "id": "8cf4dd9f"
    },
    {
      "cell_type": "markdown",
      "metadata": {},
      "source": [
        "`-` 예제: 아래의 dict에서 value만 뽑아내고 싶다."
      ],
      "id": "c877f06c-7984-491a-8ff3-972eb1391330"
    },
    {
      "cell_type": "code",
      "execution_count": null,
      "metadata": {},
      "outputs": [],
      "source": [
        "dct = {'guebin':49, 'hanni':80} "
      ],
      "id": "3a3aa56c"
    },
    {
      "cell_type": "markdown",
      "metadata": {},
      "source": [
        "(풀이1)"
      ],
      "id": "86c9c5a0-f7f8-4f64-8125-9626a9ef9176"
    },
    {
      "cell_type": "code",
      "execution_count": null,
      "metadata": {},
      "outputs": [],
      "source": [
        "list(dct.values())"
      ],
      "id": "1a4cb5ac"
    },
    {
      "cell_type": "markdown",
      "metadata": {},
      "source": [
        "(풀이2)"
      ],
      "id": "24772f3c-8369-454a-b961-d6f01f01cfa4"
    },
    {
      "cell_type": "code",
      "execution_count": null,
      "metadata": {},
      "outputs": [],
      "source": [
        "[dct[k] for k in dct]"
      ],
      "id": "75002311"
    },
    {
      "cell_type": "markdown",
      "metadata": {},
      "source": [
        "(풀이3)"
      ],
      "id": "1e4eb321-4c5a-4047-8508-464855e5bf3f"
    },
    {
      "cell_type": "code",
      "execution_count": null,
      "metadata": {},
      "outputs": [],
      "source": [
        "[v for v in dct.values()]"
      ],
      "id": "9ecb534c"
    },
    {
      "cell_type": "markdown",
      "metadata": {},
      "source": [
        "(풀이4)"
      ],
      "id": "d5d18540-fd5a-49d5-9439-8c82b2499e07"
    },
    {
      "cell_type": "code",
      "execution_count": null,
      "metadata": {},
      "outputs": [],
      "source": [
        "[v for k,v in dct.items()]"
      ],
      "id": "ce57ce22"
    },
    {
      "cell_type": "markdown",
      "metadata": {},
      "source": [
        "## 바꿔치기 (1)\n",
        "\n",
        "`-` 예제1: 아래와 같은 리스트가 있다고 하자."
      ],
      "id": "efce1139-804d-4d40-b740-a79c416052e4"
    },
    {
      "cell_type": "code",
      "execution_count": null,
      "metadata": {},
      "outputs": [],
      "source": [
        "lst = list('abcd'*2)\n",
        "lst"
      ],
      "id": "41ffa621"
    },
    {
      "cell_type": "markdown",
      "metadata": {},
      "source": [
        "아래의 규칙에 의하여 lst의 각 원소의 값을 바꾸고 싶다고 하자. 이를\n",
        "구현하는 코드를 작성하라.\n",
        "\n",
        "| 변환전 |   변환후    |\n",
        "|:------:|:-----------:|\n",
        "|  ‘a’   | \\[1,0,0,0\\] |\n",
        "|  ‘b’   | \\[0,1,0,0\\] |\n",
        "|  ‘c’   | \\[0,0,1,0\\] |\n",
        "|  ‘d’   | \\[0,0,0,1\\] |\n",
        "\n",
        "hint: 아래의 dct를 이용할 것"
      ],
      "id": "16a478a3-c758-4f2f-8b1d-fa1be711bef0"
    },
    {
      "cell_type": "code",
      "execution_count": null,
      "metadata": {},
      "outputs": [],
      "source": [
        "lst = list('abcd'*2)\n",
        "lst"
      ],
      "id": "d3567e5f"
    },
    {
      "cell_type": "code",
      "execution_count": null,
      "metadata": {},
      "outputs": [],
      "source": [
        "dct = {'a':[1,0,0,0], 'b':[0,1,0,0], 'c':[0,0,1,0], 'd':[0,0,0,1]}\n",
        "dct"
      ],
      "id": "adbd715d"
    },
    {
      "cell_type": "markdown",
      "metadata": {},
      "source": [
        "(풀이)"
      ],
      "id": "bb1d0ec1-7234-4ee0-9735-333bfb989359"
    },
    {
      "cell_type": "code",
      "execution_count": null,
      "metadata": {},
      "outputs": [],
      "source": [
        "[dct[x] for x in lst]"
      ],
      "id": "384b66c9"
    },
    {
      "cell_type": "markdown",
      "metadata": {},
      "source": [
        "`-` 예제2: 예제1을 역변환하라."
      ],
      "id": "3e3062ff-d2da-4c56-b2fc-db1a17b57733"
    },
    {
      "cell_type": "code",
      "execution_count": null,
      "metadata": {},
      "outputs": [],
      "source": [
        "dct = {'a':[1,0,0,0], 'b':[0,1,0,0], 'c':[0,0,1,0], 'd':[0,0,0,1]}"
      ],
      "id": "76d5db87"
    },
    {
      "cell_type": "code",
      "execution_count": null,
      "metadata": {},
      "outputs": [],
      "source": [
        "lst= [[1, 0, 0, 0],\n",
        "      [0, 1, 0, 0],\n",
        "      [0, 0, 1, 0],\n",
        "      [0, 0, 0, 1],\n",
        "      [1, 0, 0, 0],\n",
        "      [0, 1, 0, 0],\n",
        "      [0, 0, 1, 0],\n",
        "      [0, 0, 0, 1]]\n",
        "lst "
      ],
      "id": "a637e6c9"
    },
    {
      "cell_type": "markdown",
      "metadata": {},
      "source": [
        "(풀이)"
      ],
      "id": "8b0bc802-cdfc-4b98-a5dd-3376597903c7"
    },
    {
      "cell_type": "code",
      "execution_count": null,
      "metadata": {},
      "outputs": [],
      "source": [
        "[x for l in lst for x,y in dct.items() if y == l]"
      ],
      "id": "36f7966e"
    },
    {
      "cell_type": "markdown",
      "metadata": {},
      "source": [
        "## 바꿔치기 (2)\n",
        "\n",
        "`-` 예제1: 아래와 같은 리스트를 고려하자."
      ],
      "id": "066a768a-f597-421a-9e75-04bed60044d7"
    },
    {
      "cell_type": "code",
      "execution_count": null,
      "metadata": {},
      "outputs": [],
      "source": [
        "lst = ['딸기','사과','바나나','딸기','사과','오토바이','자동차','버스','기차','오토바이','자동차']"
      ],
      "id": "018e7986"
    },
    {
      "cell_type": "markdown",
      "metadata": {},
      "source": [
        "다음의 맵핑규칙에 따라서 위의 리스트의 원소를 바꾸어라.\n",
        "\n",
        "|  변환전  | 변환후 |\n",
        "|:--------:|:------:|\n",
        "|   딸기   |  과일  |\n",
        "|   사과   |  과일  |\n",
        "|  바나나  |  과일  |\n",
        "| 오토바이 |  탈것  |\n",
        "|  자동차  |  탈것  |\n",
        "|   버스   |  탈것  |\n",
        "|   기차   |  탈것  |\n",
        "\n",
        "(풀이)"
      ],
      "id": "2b198400-3c75-4dc5-b406-618305a9113a"
    },
    {
      "cell_type": "code",
      "execution_count": null,
      "metadata": {},
      "outputs": [],
      "source": [
        "dct = {'과일':['딸기','사과','바나나'], '탈것':['오토바이','자동차','버스','기차']}\n",
        "dct"
      ],
      "id": "3b1443c0"
    },
    {
      "cell_type": "code",
      "execution_count": null,
      "metadata": {},
      "outputs": [],
      "source": [
        "[x for l in lst for x,y in dct.items() if l in y]"
      ],
      "id": "166ef1e0"
    },
    {
      "cell_type": "markdown",
      "metadata": {},
      "source": [
        "# 집합 기본내용\n",
        "\n",
        "## 선언"
      ],
      "id": "edd29463-1a34-4bec-87c0-022bfb4531cb"
    },
    {
      "cell_type": "code",
      "execution_count": null,
      "metadata": {},
      "outputs": [],
      "source": [
        "wishlist={'notebook','desktop'}\n",
        "wishlist"
      ],
      "id": "2c0d3111"
    },
    {
      "cell_type": "markdown",
      "metadata": {},
      "source": [
        "## 원소추출\n",
        "\n",
        "`-` 일단 인덱스로는 못합니다."
      ],
      "id": "135d100d-cd2a-4152-abea-240cbb722236"
    },
    {
      "cell_type": "code",
      "execution_count": null,
      "metadata": {},
      "outputs": [],
      "source": [
        "wishlist={'notebook','desktop'}\n",
        "wishlist[0]"
      ],
      "id": "6c4f7cc0"
    },
    {
      "cell_type": "markdown",
      "metadata": {},
      "source": [
        "`-` 딱히 하는 방법이 없어요.. 그리고 이걸 하는 의미가 없어요.. (원소에\n",
        "접근해서 뭐하려고??)\n",
        "\n",
        "## 원소추가\n",
        "\n",
        "`-` 이건 의미가 있음"
      ],
      "id": "df2fdb3d-2834-41bb-9cf3-f4e606c7e390"
    },
    {
      "cell_type": "code",
      "execution_count": null,
      "metadata": {},
      "outputs": [],
      "source": [
        "wishlist={'notebook','desktop'} \n",
        "wishlist"
      ],
      "id": "152b1f83"
    },
    {
      "cell_type": "code",
      "execution_count": null,
      "metadata": {},
      "outputs": [],
      "source": [
        "wishlist.add('ipad')\n",
        "wishlist"
      ],
      "id": "7f47b3a2"
    },
    {
      "cell_type": "code",
      "execution_count": null,
      "metadata": {},
      "outputs": [],
      "source": [
        "wishlist.add('notebook') # 이미 원소로 있는건 추가되지 않음. \n",
        "wishlist"
      ],
      "id": "38f8ba25"
    },
    {
      "cell_type": "markdown",
      "metadata": {},
      "source": [
        "## 원소삭제"
      ],
      "id": "e65a34cd-af2f-4059-91a6-71ee846f1abe"
    },
    {
      "cell_type": "code",
      "execution_count": null,
      "metadata": {},
      "outputs": [],
      "source": [
        "wishlist={'desktop', 'ipad', 'notebook'}\n",
        "wishlist"
      ],
      "id": "88a4e681"
    },
    {
      "cell_type": "code",
      "execution_count": null,
      "metadata": {},
      "outputs": [],
      "source": [
        "wishlist.remove('notebook')"
      ],
      "id": "ae5e0bbf"
    },
    {
      "cell_type": "code",
      "execution_count": null,
      "metadata": {},
      "outputs": [],
      "source": [
        "wishlist"
      ],
      "id": "768aa659"
    },
    {
      "cell_type": "markdown",
      "metadata": {},
      "source": [
        "## 연산\n",
        "\n",
        "`-` in 연산자"
      ],
      "id": "eeeac1d4-4814-4df3-92d4-ba4f52ed5ce1"
    },
    {
      "cell_type": "code",
      "execution_count": null,
      "metadata": {},
      "outputs": [],
      "source": [
        "wishlist={'desktop', 'ipad', 'notebook'}\n",
        "wishlist"
      ],
      "id": "10d1708b"
    },
    {
      "cell_type": "code",
      "execution_count": null,
      "metadata": {},
      "outputs": [],
      "source": [
        "'notebook' in wishlist"
      ],
      "id": "43077b1a"
    },
    {
      "cell_type": "markdown",
      "metadata": {},
      "source": [
        "-   참고로 `in`연산자는 집합에서만 쓰는것은 아님\n",
        "\n",
        "`-` 합집합, 교집합, 차집합"
      ],
      "id": "b8c26e4a-30ee-4cf3-aa09-bd93c37a96d0"
    },
    {
      "cell_type": "code",
      "execution_count": null,
      "metadata": {},
      "outputs": [],
      "source": [
        "day1 = {'notebook','desktop'}\n",
        "day2 = {'notebook','ipad'}"
      ],
      "id": "358ae9e0"
    },
    {
      "cell_type": "code",
      "execution_count": null,
      "metadata": {},
      "outputs": [],
      "source": [
        "day1 | day2 # 합집합"
      ],
      "id": "f23defef"
    },
    {
      "cell_type": "code",
      "execution_count": null,
      "metadata": {},
      "outputs": [],
      "source": [
        "day1 & day2 # 교집합"
      ],
      "id": "788765a5"
    },
    {
      "cell_type": "code",
      "execution_count": null,
      "metadata": {},
      "outputs": [],
      "source": [
        "day1 - day2 # 차집합 "
      ],
      "id": "99361a25"
    },
    {
      "cell_type": "code",
      "execution_count": null,
      "metadata": {},
      "outputs": [],
      "source": [
        "day2 - day1 # 차집합"
      ],
      "id": "5a4e0fa2"
    },
    {
      "cell_type": "markdown",
      "metadata": {},
      "source": [
        "`-` 부분집합"
      ],
      "id": "379317c0-b83a-4733-b394-cfeb0d2f1e31"
    },
    {
      "cell_type": "code",
      "execution_count": null,
      "metadata": {},
      "outputs": [],
      "source": [
        "day1 = {'notebook', 'desktop'}\n",
        "day2 = day1 | {'ipad'} "
      ],
      "id": "e9baf29b"
    },
    {
      "cell_type": "code",
      "execution_count": null,
      "metadata": {},
      "outputs": [],
      "source": [
        "day1 < day2  # day1는 day2의 부분집합인가? "
      ],
      "id": "ee507933"
    },
    {
      "cell_type": "code",
      "execution_count": null,
      "metadata": {},
      "outputs": [],
      "source": [
        "day2 < day1"
      ],
      "id": "c86ab110"
    },
    {
      "cell_type": "markdown",
      "metadata": {},
      "source": [
        "## 집합 특수기능\n",
        "\n",
        "`-` 합집합"
      ],
      "id": "2903d490-680d-4058-b4c1-234923d14d4f"
    },
    {
      "cell_type": "code",
      "execution_count": null,
      "metadata": {},
      "outputs": [],
      "source": [
        "day1 = {'notebook', 'desktop'}\n",
        "day2 = {'notebook','ipad'}"
      ],
      "id": "e04edb6f"
    },
    {
      "cell_type": "code",
      "execution_count": null,
      "metadata": {},
      "outputs": [],
      "source": [
        "day1.union(day2)"
      ],
      "id": "71f52e73"
    },
    {
      "cell_type": "markdown",
      "metadata": {},
      "source": [
        "`-` 나머지 메소드는 스스로 찾아보세요\n",
        "\n",
        "## for문과 set"
      ],
      "id": "7bc005a2-7113-4d19-bb83-0e250c42204e"
    },
    {
      "cell_type": "code",
      "execution_count": null,
      "metadata": {},
      "outputs": [],
      "source": [
        "day1 = {'notebook', 'desktop'}\n",
        "day2 = {'notebook', 'ipad'}"
      ],
      "id": "1392101f"
    },
    {
      "cell_type": "code",
      "execution_count": null,
      "metadata": {},
      "outputs": [
        {
          "output_type": "stream",
          "name": "stdout",
          "text": [
            "notebook\n",
            "ipad\n",
            "desktop"
          ]
        }
      ],
      "source": [
        "for i in day1|day2: \n",
        "    print(i)"
      ],
      "id": "e7e89236"
    },
    {
      "cell_type": "markdown",
      "metadata": {},
      "source": [
        "# 집합 고급내용\n",
        "\n",
        "## set 컴프리헨션\n",
        "\n",
        "`-` 예시1"
      ],
      "id": "3d57f9d1-541a-4563-9e61-68cb5046dc2a"
    },
    {
      "cell_type": "code",
      "execution_count": null,
      "metadata": {},
      "outputs": [],
      "source": [
        "lst = [1,2,1,1,3,4,5]\n",
        "{l for l in lst}"
      ],
      "id": "06371846"
    },
    {
      "cell_type": "markdown",
      "metadata": {},
      "source": [
        "## 유니크한 원소\n",
        "\n",
        "`-` 예제1: 아래의 list는 모두 몇 종류의 문자로 이루어져 있는가?"
      ],
      "id": "332f6996-7015-44e0-a07e-18b681c4973f"
    },
    {
      "cell_type": "code",
      "execution_count": null,
      "metadata": {},
      "outputs": [],
      "source": [
        "lst=list('asdfasssdfdsasdfasdfasdfasdf')"
      ],
      "id": "874db77e"
    },
    {
      "cell_type": "markdown",
      "metadata": {},
      "source": [
        "(풀이)"
      ],
      "id": "ffd6dbbb-7344-4e99-9517-9d4de2c8709e"
    },
    {
      "cell_type": "code",
      "execution_count": null,
      "metadata": {},
      "outputs": [],
      "source": [
        "set(lst)"
      ],
      "id": "6dccff65"
    },
    {
      "cell_type": "code",
      "execution_count": null,
      "metadata": {},
      "outputs": [],
      "source": [
        "len(set(lst))"
      ],
      "id": "9c8bd1df"
    },
    {
      "cell_type": "markdown",
      "metadata": {},
      "source": [
        "`-` 예제2: 아래의 txt에서 어떠한 종류의 문자가 각각 몇번씩 사용되었는지\n",
        "빈도를 구하는 코드를 작성하라."
      ],
      "id": "dc55f652-1b97-40f2-b922-e29b5ad89fea"
    },
    {
      "cell_type": "code",
      "execution_count": null,
      "metadata": {},
      "outputs": [],
      "source": [
        "txt = 'asdkflkjahsdlkjfhlaksglkjdhflkgjhlskdfjhglkajhsdlkfjhalsdkf'\n",
        "txt"
      ],
      "id": "45ab58ec"
    },
    {
      "cell_type": "markdown",
      "metadata": {},
      "source": [
        "(풀이)"
      ],
      "id": "361b0edf-d02f-4b0a-88f3-6bb550d01f4c"
    },
    {
      "cell_type": "code",
      "execution_count": null,
      "metadata": {},
      "outputs": [],
      "source": [
        "{k:list(txt).count(k) for k in set(txt)}"
      ],
      "id": "47493e64"
    },
    {
      "cell_type": "markdown",
      "metadata": {},
      "source": [
        "# Quiz\n",
        "\n",
        "`1`. 아래와 같은 맵핑을 고려하자.\n",
        "\n",
        "| 문자 | 숫자 |\n",
        "|:----:|:----:|\n",
        "|  a   |  1   |\n",
        "|  b   |  0   |\n",
        "\n",
        "이를 딕셔너리로 표현하면 아래와 같다."
      ],
      "id": "3dbbaa6b-a6ff-438b-ac48-42de7066a6e9"
    },
    {
      "cell_type": "code",
      "execution_count": null,
      "metadata": {},
      "outputs": [],
      "source": [
        "dct = {'a':0, 'b':1} "
      ],
      "id": "1462130a"
    },
    {
      "cell_type": "markdown",
      "metadata": {},
      "source": [
        "위 규칙에 따라서 아래의 리스트의 원소를 문자로 각각 변환하라."
      ],
      "id": "11b483f6-5271-4198-86de-1a527ff2854e"
    },
    {
      "cell_type": "code",
      "execution_count": null,
      "metadata": {},
      "outputs": [],
      "source": [
        "lst = [1, 0, 1, 0, 1, 0, 1, 1, 1, 1, 0, 0, 1, 0, 1]"
      ],
      "id": "707619c1"
    },
    {
      "cell_type": "markdown",
      "metadata": {},
      "source": [
        "``` python\n",
        "# 출력은 아래와 같아야 한다. \n",
        "['b', 'a', 'b', 'a', 'b', 'a', 'b', 'b', 'b', 'b', 'a', 'a', 'b', 'a', 'b']\n",
        "```\n",
        "\n",
        "`2`. 아래와 같은 맵핑을 고려하자.\n",
        "\n",
        "|     월     |   의미   |\n",
        "|:----------:|:--------:|\n",
        "|    1,2     | 겨울방학 |\n",
        "|  3,4,5,6   |  1학기   |\n",
        "|    7,8     | 여름방학 |\n",
        "| 9,10,11,12 |  2학기   |\n",
        "\n",
        "이러한 규칙에 맞게 아래의 리스트를 적절한 문자열로 변환하라."
      ],
      "id": "63ff2138-1ebc-4918-aebb-2e3b98925c60"
    },
    {
      "cell_type": "code",
      "execution_count": null,
      "metadata": {},
      "outputs": [],
      "source": [
        "month = [1,2,2,3,4,5,6,7,8,9,9,10,11,12] "
      ],
      "id": "91404712"
    },
    {
      "cell_type": "markdown",
      "metadata": {},
      "source": [
        "``` python\n",
        "## 출력은 아래와 같아야 한다. \n",
        "['겨울방학', '겨울방학', '겨울방학', '1학기', '1학기', '1학기', '1학기', '여름방학', '여름방학', '2학기', '2학기', '2학기', '2학기', '2학기']\n",
        "```\n",
        "\n",
        "`합성변환` 3-5.\n",
        "\n",
        "아래와 같은 맵핑을 고려하자.\n",
        "\n",
        "(규칙1)\n",
        "\n",
        "|   문자   | 숫자 |\n",
        "|:--------:|:----:|\n",
        "|  바나나  |  0   |\n",
        "|   사과   |  1   |\n",
        "| 오토바이 |  2   |\n",
        "|  자동차  |  3   |\n",
        "|  자전거  |  4   |\n",
        "\n",
        "(규칙2)\n",
        "\n",
        "|  아이템  | 카테고리 |\n",
        "|:--------:|:--------:|\n",
        "|  바나나  |   과일   |\n",
        "|   사과   |   과일   |\n",
        "| 오토바이 |   탈것   |\n",
        "|  자동차  |   탈것   |\n",
        "|  자전거  |   탈것   |\n",
        "\n",
        "각각의 규칙을 나타내는 딕셔너리는 아래와 같이 선언되어있다고 하자."
      ],
      "id": "f134ec7a-de29-40c0-845e-7e0a13c07342"
    },
    {
      "cell_type": "code",
      "execution_count": null,
      "metadata": {},
      "outputs": [],
      "source": [
        "dct1 = {'바나나':0, '사과':1, '오토바이':2, '자동차':3, '자전거':4} \n",
        "dct2 = {'과일':['바나나','사과'], '탈것':['오토바이','자동차','자전거']} "
      ],
      "id": "5a658452"
    },
    {
      "cell_type": "markdown",
      "metadata": {},
      "source": [
        "`3`. 규칙1를 이용하여 아래와 같은 리스트를 변환하는 함수를 구현하고 그\n",
        "함수를 `f`라 선언하라.\n",
        "\n",
        "``` python\n",
        "# 입력 \n",
        "[0,1,0,1,4]\n",
        "\n",
        "# 출력 \n",
        "['바나나', '사과', '바나나', '사과', '자전거']\n",
        "```\n",
        "\n",
        "(사용예시)"
      ],
      "id": "f4e66bd4-6459-49e2-b3a8-51caaf26d799"
    },
    {
      "cell_type": "code",
      "execution_count": null,
      "metadata": {},
      "outputs": [],
      "source": [
        "f([0,1,0,1,4])"
      ],
      "id": "1728f060"
    },
    {
      "cell_type": "markdown",
      "metadata": {},
      "source": [
        "`4`. 규칙2를 이용하여 아래와 같이 리스트를 변환하는 함수를 구현하고 그\n",
        "함수를 `g`라고 선언하라.\n",
        "\n",
        "``` python\n",
        "# 입력 \n",
        "['바나나','바나나','바나나','자동차']\n",
        "\n",
        "# 출력 \n",
        "['과일','과일','과일','탈것']\n",
        "```\n",
        "\n",
        "(사용예시)"
      ],
      "id": "5eaef3de-a892-4dd1-829d-630e5de4c57b"
    },
    {
      "cell_type": "code",
      "execution_count": null,
      "metadata": {},
      "outputs": [],
      "source": [
        "g(['바나나','바나나','바나나','자동차'])"
      ],
      "id": "49bb0231"
    },
    {
      "cell_type": "markdown",
      "metadata": {},
      "source": [
        "`5`. 규칙1-2를 이용하여 아래와 같은 숫자로 이루어진 입력을 ‘과일’,\n",
        "‘탈것’ 중 하나로 바꾸는 코드를 구현하라.\n",
        "\n",
        "``` python\n",
        "# 입력 \n",
        "[0,1,0,1,3,4,2,2,3,4,1,0]\n",
        "\n",
        "# 출력 \n",
        "['과일', '과일', '과일', '과일', '탈것', '탈것', '탈것', '탈것', '탈것', '탈것', '과일', '과일']\n",
        "```\n",
        "\n",
        "**hint** $g(f(x))$ 를 이용하라.\n",
        "\n",
        "`Oxford-III`: 6–10 //\n",
        "[reference](https://www.robots.ox.ac.uk/~vgg/data/pets/)\n",
        "\n",
        "아래는 이미지 파일명들이 저장된 string을 불러오는 코드이다."
      ],
      "id": "70048cf8-9715-4363-ba1b-5460b0ac4d93"
    },
    {
      "cell_type": "code",
      "execution_count": null,
      "metadata": {},
      "outputs": [],
      "source": [
        "import requests\n",
        "url = 'https://raw.githubusercontent.com/guebin/PP2023/main/posts/01_PythonBasic/Oxford-IIIT.txt'\n",
        "txt = requests.get(url).content.decode()"
      ],
      "id": "39624242"
    },
    {
      "cell_type": "markdown",
      "metadata": {},
      "source": [
        "이미지파일이 저장된 형식은 아래와 같다.\n",
        "\n",
        "    Abyssinian_1.jpg\n",
        "    British_Shorthair_129.jpg\n",
        "\n",
        "**note**: `British_Shorthair`와 같이 종 이름 사이에 `_`가 들어있는\n",
        "경우도 있음.\n",
        "\n",
        "`6`. txt를 적당히 변환하여 아래와 같은 list를 만들어라."
      ],
      "id": "d1352c2c-3bce-47ff-8a8b-7efebb2c6ba1"
    },
    {
      "cell_type": "code",
      "execution_count": null,
      "metadata": {},
      "outputs": [],
      "source": [
        "lst[:10],lst[810:820]"
      ],
      "id": "a937c918"
    },
    {
      "cell_type": "markdown",
      "metadata": {},
      "source": [
        "**hint1**"
      ],
      "id": "a17d5879-0d26-4112-8028-fa7ed35737b0"
    },
    {
      "cell_type": "code",
      "execution_count": null,
      "metadata": {},
      "outputs": [],
      "source": [
        "'Abyssinian_1.jpg\\nAbyssinian_10.jpg'.split('\\n')"
      ],
      "id": "5e60fe6d"
    },
    {
      "cell_type": "markdown",
      "metadata": {},
      "source": [
        "**hint2**"
      ],
      "id": "5b821a91-b80d-40d1-b588-4c4e8f3aecf0"
    },
    {
      "cell_type": "code",
      "execution_count": null,
      "metadata": {},
      "outputs": [],
      "source": [
        "''.join(['British', 'Shorthair'])"
      ],
      "id": "4e232868"
    },
    {
      "cell_type": "code",
      "execution_count": null,
      "metadata": {},
      "outputs": [],
      "source": [
        "''.join(['Abyssinian'])"
      ],
      "id": "338df9e9"
    },
    {
      "cell_type": "markdown",
      "metadata": {},
      "source": [
        "`7`. 그림파일에는 총 몇가지 종류의 고양이와, 몇가지 종류의 강아지가\n",
        "있는가?\n",
        "\n",
        "**note:** 고양이사진은 대문자로 시작하고, 강아지 사진은 소문자로\n",
        "시작한다.\n",
        "\n",
        "**note**: 12종의 고양이, 25종의 강아지가 있음\n",
        "\n",
        "(풀이)"
      ],
      "id": "c5e7ddee-f30d-4ed7-8d79-94c632f11341"
    },
    {
      "cell_type": "code",
      "execution_count": null,
      "metadata": {},
      "outputs": [],
      "source": [
        "[s[0].isupper() for s in set(lst)].count(True) # 고양이 12"
      ],
      "id": "e5473d68"
    },
    {
      "cell_type": "code",
      "execution_count": null,
      "metadata": {},
      "outputs": [],
      "source": [
        "[s[0].isupper() for s in set(lst)].count(False) # 강아지 25 "
      ],
      "id": "12799628"
    },
    {
      "cell_type": "markdown",
      "metadata": {},
      "source": [
        "`8`. 아래는 1번의 결과로 얻어진 lst의 첫 10개의 원소와 마지막 10개의\n",
        "원소이다."
      ],
      "id": "bec17f6a-f10d-4214-9468-3326a3f678e8"
    },
    {
      "cell_type": "code",
      "execution_count": null,
      "metadata": {},
      "outputs": [],
      "source": [
        "lst[:10], lst[-10:]"
      ],
      "id": "c0b60fdb"
    },
    {
      "cell_type": "markdown",
      "metadata": {},
      "source": [
        "적당한 변환을 정의하여 lst를 아래와 같이 바꾸어라."
      ],
      "id": "d86026e6-80a4-4947-a400-7047c031f40c"
    },
    {
      "cell_type": "code",
      "execution_count": null,
      "metadata": {},
      "outputs": [],
      "source": [
        "lst2[:10], lst2[-10:] # 바뀐 lst"
      ],
      "id": "d4940366"
    },
    {
      "cell_type": "markdown",
      "metadata": {},
      "source": [
        "`9`. txt에는 강아지사진과 고양이사진이 모두 몇장씩 들어있는가?"
      ],
      "id": "7f2fd3b8-fe8e-4e93-9834-f7b31f7578cf"
    },
    {
      "cell_type": "code",
      "execution_count": null,
      "metadata": {},
      "outputs": [],
      "source": [
        "## 출력예시 "
      ],
      "id": "146cdb4e"
    },
    {
      "cell_type": "markdown",
      "metadata": {},
      "source": [
        "`10`. txt에 각 종별로 몇장의 사진이 있는지 조사하라."
      ],
      "id": "32f60e1a-9ec7-492b-835d-69829a5c1d76"
    },
    {
      "cell_type": "code",
      "execution_count": null,
      "metadata": {},
      "outputs": [],
      "source": [
        "## 출력예시"
      ],
      "id": "8f34758e"
    }
  ],
  "nbformat": 4,
  "nbformat_minor": 5,
  "metadata": {
    "kernelspec": {
      "name": "python3",
      "display_name": "Python 3 (ipykernel)",
      "language": "python"
    },
    "language_info": {
      "name": "python",
      "codemirror_mode": {
        "name": "ipython",
        "version": "3"
      },
      "file_extension": ".py",
      "mimetype": "text/x-python",
      "nbconvert_exporter": "python",
      "pygments_lexer": "ipython3",
      "version": "3.10.13"
    }
  }
}