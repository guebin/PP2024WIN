{
  "cells": [
    {
      "cell_type": "markdown",
      "metadata": {},
      "source": [
        "# Lesson 11: groupby\n",
        "\n",
        "최규빈  \n",
        "2023-07-25\n",
        "\n",
        "<a href=\"https://colab.research.google.com/github/guebin/PP2023SUM/blob/main/posts/Day2/04_Function, Iteration/ls11.ipynb\"><img src=\"https://colab.research.google.com/assets/colab-badge.svg\" style=\"text-align: left\"></a>\n",
        "\n",
        "# 강의영상\n",
        "\n",
        "<https://youtu.be/XlwSIZPcBpM?list=PLQqh36zP38-y8RXbbZBO1POaMqaZPTPCI>\n",
        "\n",
        "# imports"
      ],
      "id": "7d92b4a3-6bbc-481f-beef-3bbada3d992a"
    },
    {
      "cell_type": "code",
      "execution_count": 24,
      "metadata": {},
      "outputs": [],
      "source": [
        "import numpy as np\n",
        "import pandas as pd"
      ],
      "id": "38fb6f53-1e47-444b-8d0c-22e4e91e8cc3"
    },
    {
      "cell_type": "markdown",
      "metadata": {},
      "source": [
        "# df.groupby\n",
        "\n",
        "`-` 예제1: 아래의 예제에서 그룹별 평균을 구하여라."
      ],
      "id": "309d9d86-33dc-4a37-83af-214f9bda26d6"
    },
    {
      "cell_type": "code",
      "execution_count": 26,
      "metadata": {},
      "outputs": [],
      "source": [
        "_category = ['A']*5+['B']*5\n",
        "_value = np.concatenate([np.random.randn(5), np.random.randn(5)+10])\n",
        "df = pd.DataFrame({'category':_category, 'value':_value})\n",
        "df"
      ],
      "id": "24d9842d-daf0-41db-a660-012f12276e68"
    },
    {
      "cell_type": "markdown",
      "metadata": {},
      "source": [
        "`-` 방법1: groupby를 이용하지 않는 방법들"
      ],
      "id": "47cfde12-1918-4234-8435-29e186fda3cd"
    },
    {
      "cell_type": "code",
      "execution_count": 45,
      "metadata": {},
      "outputs": [],
      "source": [
        "# 이렇게 해도 되고 \n",
        "df[df.category == 'A'].value.mean(), df[df.category == 'B'].value.mean()"
      ],
      "id": "75e94ada-751d-44f8-94ad-98fa985b4ace"
    },
    {
      "cell_type": "code",
      "execution_count": 44,
      "metadata": {},
      "outputs": [],
      "source": [
        "# 이것도 가능\n",
        "{s:df[df.category == s].value.mean() for s in set(df.category)}"
      ],
      "id": "55765c4c-7e4f-4854-9663-64a9587b9d9e"
    },
    {
      "cell_type": "markdown",
      "metadata": {},
      "source": [
        "`-` 방법2: groupby만 사용"
      ],
      "id": "0f76db1f-7ca2-4ff3-9815-bd19e5e7d0e4"
    },
    {
      "cell_type": "code",
      "execution_count": 49,
      "metadata": {},
      "outputs": [],
      "source": [
        "grouped_list = list(df.groupby('category'))\n",
        "grouped_list"
      ],
      "id": "ce3607e0-d567-46c2-9305-c6a7d41ad465"
    },
    {
      "cell_type": "code",
      "execution_count": 55,
      "metadata": {},
      "outputs": [],
      "source": [
        "bundle1, bundle2 = grouped_list"
      ],
      "id": "b2bc80b3-7d5a-4d76-8062-7819291c1109"
    },
    {
      "cell_type": "code",
      "execution_count": 60,
      "metadata": {},
      "outputs": [],
      "source": [
        "group_name1, sub_df1 = bundle1"
      ],
      "id": "5a632ba7-9229-4bb1-8591-7c55e3e4a98f"
    },
    {
      "cell_type": "code",
      "execution_count": 64,
      "metadata": {},
      "outputs": [],
      "source": [
        "display(sub_df1)"
      ],
      "id": "51b7dbff-fa54-4c13-a34f-77716b434fba"
    },
    {
      "cell_type": "code",
      "execution_count": 73,
      "metadata": {},
      "outputs": [
        {
          "output_type": "stream",
          "name": "stdout",
          "text": [
            "A\n",
            "B"
          ]
        }
      ],
      "source": [
        "for group_name, sub_df in df.groupby('category'):\n",
        "    print(group_name)\n",
        "    display(sub_df)"
      ],
      "id": "8d6e1c23-ce2b-4e46-b645-18e1c2e9cc2d"
    },
    {
      "cell_type": "code",
      "execution_count": 77,
      "metadata": {},
      "outputs": [],
      "source": [
        "{group_name:sub_df.value.mean() for group_name, sub_df in df.groupby('category')}"
      ],
      "id": "22be16d3-3251-4b49-91c9-e21dda0a5fc1"
    },
    {
      "cell_type": "markdown",
      "metadata": {},
      "source": [
        "`-` 방법3: groupby().aggregate()"
      ],
      "id": "26274888-07c2-4699-a898-f8275d23dd2f"
    },
    {
      "cell_type": "code",
      "execution_count": 85,
      "metadata": {},
      "outputs": [],
      "source": [
        "grouped = df.groupby('category')\n",
        "grouped.aggregate(np.mean)"
      ],
      "id": "e0e23e46-fc72-49fd-ab8f-199128eb75a2"
    },
    {
      "cell_type": "code",
      "execution_count": 88,
      "metadata": {},
      "outputs": [],
      "source": [
        "df.groupby(['category']).aggregate(np.mean)"
      ],
      "id": "ce591e43-eb30-4b9f-b569-d69bcb89dbbb"
    },
    {
      "cell_type": "markdown",
      "metadata": {},
      "source": [
        "***groupby(?)에서 올 수 있는 구조***\n",
        "\n",
        "-   열의이름\n",
        "-   \\[열의이름,열의이름\\]\n",
        "\n",
        "***aggregate(?)에서 올 수 있는 구조***\n",
        "\n",
        "-   함수: 함수자체[1]가 오거나, 함수를 의미하는 문자열[2] 이 올 수 있음.\n",
        "-   리스트: \\[함수, 함수\\] \\# 여기에서 함수자리에는 함수자체, 혹은\n",
        "    함수문자열 아무것이나 올 수 있음.\n",
        "-   딕셔너리1: {열의이름:함수}\n",
        "-   딕셔너리2: {열의이름:\\[함수,함수\\]}\n",
        "\n",
        "[1] np.mean,sum\n",
        "\n",
        "[2] ‘size’, ‘count’, ‘sum’, ‘mean’, ‘median’, ‘min’, ‘max’, ‘std’, ‘var’"
      ],
      "id": "23d87192-3f94-4c5d-817d-258cb8f2af02"
    },
    {
      "cell_type": "code",
      "execution_count": 122,
      "metadata": {},
      "outputs": [],
      "source": [
        "df.groupby(['category']).aggregate({'value':[np.mean,'size']})"
      ],
      "id": "9ff010f9-0122-4416-97c9-d27a0bb8d322"
    },
    {
      "cell_type": "markdown",
      "metadata": {},
      "source": [
        "# pd.cut + df.groupby\n",
        "\n",
        "`-` 구간별 count"
      ],
      "id": "78675af3-e490-4b60-a2f3-8c1c8928dec9"
    },
    {
      "cell_type": "code",
      "execution_count": 123,
      "metadata": {},
      "outputs": [],
      "source": [
        "arr = np.random.rand(1000)"
      ],
      "id": "e8dc8d6a-ea82-4fe8-8405-10b492002148"
    },
    {
      "cell_type": "code",
      "execution_count": 126,
      "metadata": {},
      "outputs": [],
      "source": [
        "_bin = [0, 0.2, 0.5, 0.9, 1]\n",
        "_bin"
      ],
      "id": "9586603e-b18a-4cea-ae1e-1c0d062d39ef"
    },
    {
      "cell_type": "markdown",
      "metadata": {},
      "source": [
        "`-` \\[0,0.2,0.5,0.9,1\\] 구간에 몇개의 숫자들이 있는지 알고 싶고, 구간별\n",
        "평균도 알고싶다."
      ],
      "id": "377d3fdb-d2da-42d1-922b-0c4d2517b3b4"
    },
    {
      "cell_type": "code",
      "execution_count": 140,
      "metadata": {},
      "outputs": [],
      "source": [
        "pd.DataFrame({'cat':pd.cut(arr,_bin), 'arr':arr}).groupby('cat').aggregate({'arr':['size',np.mean]})"
      ],
      "id": "cc59f1de-9698-4165-9d3d-010a9c3d8ea8"
    },
    {
      "cell_type": "markdown",
      "metadata": {},
      "source": [
        "# flights data"
      ],
      "id": "3fc3424e-6768-4203-87fc-087eb5990460"
    },
    {
      "cell_type": "code",
      "execution_count": 148,
      "metadata": {},
      "outputs": [
        {
          "output_type": "stream",
          "name": "stdout",
          "text": [
            "<class 'pandas.core.frame.DataFrame'>\n",
            "RangeIndex: 58492 entries, 0 to 58491\n",
            "Data columns (total 14 columns):\n",
            " #   Column     Non-Null Count  Dtype  \n",
            "---  ------     --------------  -----  \n",
            " 0   MONTH      58492 non-null  int64  \n",
            " 1   DAY        58492 non-null  int64  \n",
            " 2   WEEKDAY    58492 non-null  int64  \n",
            " 3   AIRLINE    58492 non-null  object \n",
            " 4   ORG_AIR    58492 non-null  object \n",
            " 5   DEST_AIR   58492 non-null  object \n",
            " 6   SCHED_DEP  58492 non-null  int64  \n",
            " 7   DEP_DELAY  57659 non-null  float64\n",
            " 8   AIR_TIME   57474 non-null  float64\n",
            " 9   DIST       58492 non-null  int64  \n",
            " 10  SCHED_ARR  58492 non-null  int64  \n",
            " 11  ARR_DELAY  57474 non-null  float64\n",
            " 12  DIVERTED   58492 non-null  int64  \n",
            " 13  CANCELLED  58492 non-null  int64  \n",
            "dtypes: float64(3), int64(8), object(3)\n",
            "memory usage: 6.2+ MB"
          ]
        }
      ],
      "source": [
        "df=pd.read_csv('https://raw.githubusercontent.com/PacktPublishing/Pandas-Cookbook/master/data/flights.csv')\n",
        "df.info()"
      ],
      "id": "c7c1864a-b6ee-4256-9c7c-876e43334c9c"
    },
    {
      "cell_type": "markdown",
      "metadata": {},
      "source": [
        "`-` 예제1: 항공사(AIRLINE)별로 도착지연시간의(ARR_DELAY)의 평균을\n",
        "구하라."
      ],
      "id": "375ec26e-5800-4736-ac67-5c296b8a2ebd"
    },
    {
      "cell_type": "code",
      "execution_count": 156,
      "metadata": {},
      "outputs": [],
      "source": [
        "df.groupby('AIRLINE').aggregate({'ARR_DELAY':'mean'})"
      ],
      "id": "8a985c40-424e-4996-b5db-cecf278e005f"
    },
    {
      "cell_type": "markdown",
      "metadata": {},
      "source": [
        "`-` 예제2: 항공사(AIRLINE)별로 비행취소건수(CANCELLED)의 합계를 구하라.\n",
        "취소건수가 가장 높은 두개의 항공사는 어디인가?"
      ],
      "id": "01c10954-64fe-44c0-92e7-98113e488596"
    },
    {
      "cell_type": "code",
      "execution_count": 159,
      "metadata": {},
      "outputs": [],
      "source": [
        "df.groupby('AIRLINE').aggregate({'CANCELLED':'sum'})"
      ],
      "id": "20215413-b28b-4c88-a7dc-da348cf6c0cf"
    },
    {
      "cell_type": "markdown",
      "metadata": {},
      "source": [
        "`-` 예제3: 항공사(AIRLINE)별로 비행취소율(CANCELLED)을 구하라.\n",
        "비행취소율이 가장 높은 두개의 항공사는 어디인가?"
      ],
      "id": "96a2be1b-dc54-4e5b-bf79-4fd3e462ecc2"
    },
    {
      "cell_type": "code",
      "execution_count": 162,
      "metadata": {},
      "outputs": [],
      "source": [
        "df.groupby('AIRLINE').aggregate({'CANCELLED':'mean'})\n",
        "# df.groupby('AIRLINE').aggregate({'CANCELLED':lambda x : sum(x)/len(x)})"
      ],
      "id": "6d0b73d3-0fbb-4639-86f9-7757bb0dccf6"
    },
    {
      "cell_type": "markdown",
      "metadata": {},
      "source": [
        "`-` 예제4: 비행취소율이 가장 높은 두개의 항공사(AIRLINE)를 선택하라. 그\n",
        "두 항공사에 대하여 요일별(WEEKDAY) 비행취소율(CANCELLED)을 조사하라."
      ],
      "id": "db8b3257-4cc6-460b-84bd-79c043a4ffcd"
    },
    {
      "cell_type": "code",
      "execution_count": 167,
      "metadata": {},
      "outputs": [],
      "source": [
        "df.groupby('AIRLINE').aggregate({'CANCELLED':'mean'})"
      ],
      "id": "d93f632e-f0d1-400e-b066-003cf5a269c1"
    },
    {
      "cell_type": "markdown",
      "metadata": {},
      "source": [
        "MQ와 EV\n",
        "\n",
        "`-` 예제5: 아래는 운행거리의 요약통계량이다."
      ],
      "id": "76d3b2bb-e2b7-484c-b322-e44bab617c28"
    },
    {
      "cell_type": "code",
      "execution_count": 172,
      "metadata": {},
      "outputs": [],
      "source": [
        "df.DIST.describe()"
      ],
      "id": "fbee8cc5-6bfc-4155-a000-88c22ab91830"
    },
    {
      "cell_type": "markdown",
      "metadata": {},
      "source": [
        "운행거리를 구간별로 `[-np.inf,391,690,1199,np.inf]`와 같이 나눈뒤\n",
        "비행취소건수와 취소율을 구하여라."
      ],
      "id": "8fc230a4-17f4-4c7d-8524-153969690105"
    },
    {
      "cell_type": "code",
      "execution_count": 183,
      "metadata": {},
      "outputs": [],
      "source": [
        "_bin = [-np.inf,391,690,1199,np.inf]\n",
        "df.assign(DIST2 = pd.cut(df.DIST,_bin)).groupby('DIST2').aggregate({'CANCELLED':['mean','sum']})"
      ],
      "id": "d3d63355-d638-4371-967b-b83b705b87bf"
    },
    {
      "cell_type": "markdown",
      "metadata": {},
      "source": [
        "# Quiz: HRDataset_v14 자료분석\n",
        "\n",
        "아래의 코드를 활용하여 Kaggle의\n",
        "[HRdataset](https://www.kaggle.com/datasets/rhuebner/human-resources-data-set)을\n",
        "불러오라."
      ],
      "id": "a7640f1b-456c-4aed-92f1-2da3d933764c"
    },
    {
      "cell_type": "code",
      "execution_count": 8,
      "metadata": {},
      "outputs": [],
      "source": [
        "df = pd.read_csv('https://raw.githubusercontent.com/guebin/DV2022/master/posts/HRDataset_v14.csv')\n",
        "df"
      ],
      "id": "9c904ab1-95d4-4fae-ac52-464de2f638a5"
    },
    {
      "cell_type": "markdown",
      "metadata": {},
      "source": [
        "다음을 읽고 참 거짓을 판단하여라.\n",
        "\n",
        "`1`. 근무인원수가 가장 많은 인종(RaceDesc)은 ’White’이며 이는\n",
        "’Asian’인종과 ’Black or African American’의 합보다 많다.\n",
        "\n",
        "`2`. ’RaceDesc==White’의 성별(Sex)임금차이는 2000이상이다.\n",
        "\n",
        "`3`. 퇴직한사람(Termd==1)은 모두 104명이며 백인여성의 퇴직자수가 가장\n",
        "많다.\n",
        "\n",
        "`4`. 퇴직한사람중 아시아인의 비율은 10%가 넘지 않는다.\n",
        "\n",
        "아래를 조사하라.\n",
        "\n",
        "`5`. \\[성별(Sex), 결혼유무(MarriedID)\\] 별 연봉(Salary)의 평균을\n",
        "조사하라. 어떠한 그룹이 가장 평균연봉이 적은가?\n",
        "\n",
        "`6`. \\[성별(Sex), 인종별(RaceDesc)\\] 별 연봉(Salary)의\n",
        "중앙값(‘median’)을 조사하라. 연봉의 중앙값이 가장 높은 그룹은 무엇인가?\n",
        "\n",
        "`7`. \\[성별(Sex), 인종별(RaceDesc)\\] 별 연봉(Salary)의\n",
        "중앙값(‘median’)과 근무인원수를 함께 조사하라. 연봉의 중앙값이 가장 높은\n",
        "그룹이 혜택을 받는 그룹이라고 느껴지는가?"
      ],
      "id": "3554a7cf-ccde-4216-8c10-fc3787bff635"
    },
    {
      "cell_type": "code",
      "execution_count": 184,
      "metadata": {},
      "outputs": [
        {
          "output_type": "stream",
          "name": "stdout",
          "text": [
            "[main 7780095] .\n",
            " 2 files changed, 1186 insertions(+), 6 deletions(-)\n",
            "Enumerating objects: 13, done.\n",
            "Counting objects: 100% (13/13), done.\n",
            "Delta compression using up to 16 threads\n",
            "Compressing objects: 100% (7/7), done.\n",
            "Writing objects: 100% (7/7), 2.07 KiB | 2.07 MiB/s, done.\n",
            "Total 7 (delta 4), reused 0 (delta 0)\n",
            "remote: Resolving deltas: 100% (4/4), completed with 4 local objects.\n",
            "To https://github.com/guebin/PP2023SUM.git\n",
            "   a8c13c7..7780095  main -> main\n",
            "From https://github.com/guebin/PP2023SUM\n",
            " * branch            gh-pages   -> FETCH_HEAD\n",
            "Rendering for publish:\n",
            "\n",
            "[ 1/27] 1_1.qmd\n",
            "[ 2/27] about.qmd\n",
            "[ 3/27] 1_2.qmd\n",
            "[ 4/27] 2_2.qmd\n",
            "[ 5/27] posts/Day3/08_PandasBackend/ls21.ipynb\n",
            "[ 6/27] posts/Day3/08_PandasBackend/ls20.ipynb\n",
            "[ 7/27] posts/Day3/07_ggplot2/ls16.ipynb\n",
            "[ 8/27] posts/Day3/07_ggplot2/ls19.ipynb\n",
            "[ 9/27] posts/Day3/07_ggplot2/ls18.ipynb\n",
            "[10/27] posts/Day3/07_ggplot2/ls17.ipynb\n",
            "[11/27] posts/Day2/03_Pandas/ls07.ipynb\n",
            "[12/27] posts/Day2/03_Pandas/ls08.ipynb\n",
            "[13/27] posts/Day2/03_Pandas/ls09.ipynb\n",
            "[14/27] posts/Day2/04_Function, Iteration/ls10.ipynb\n",
            "[15/27] posts/Day2/04_Function, Iteration/ls11.ipynb\n",
            "[16/27] posts/Day2/05_Modulesls12.ipynb\n",
            "[17/27] posts/Day1/01_PythonBasicSyntax/ls02.ipynb\n",
            "[18/27] posts/Day1/01_PythonBasicSyntax/ls04.ipynb\n",
            "[19/27] posts/Day1/01_PythonBasicSyntax/ls01.ipynb\n",
            "[20/27] posts/Day1/01_PythonBasicSyntax/ls03.ipynb\n",
            "[21/27] posts/Day1/02_Numpy/ls05.ipynb\n",
            "[22/27] posts/Day1/02_Numpy/ls06.ipynb\n",
            "[23/27] 3_2.qmd\n",
            "[24/27] 3_1.qmd\n",
            "[25/27] index.qmd\n",
            "[26/27] 2_3.qmd\n",
            "[27/27] 2_1.qmd\n",
            "\n",
            "Preparing worktree (resetting branch 'gh-pages'; was at e9a8acb)\n",
            "Branch 'gh-pages' set up to track remote branch 'gh-pages' from 'origin'.\n",
            "HEAD is now at e9a8acb Built site for gh-pages\n",
            "[gh-pages 6edb56e] Built site for gh-pages\n",
            " 24 files changed, 1144 insertions(+), 687 deletions(-)\n",
            "origin  https://github.com/guebin/PP2023SUM.git (fetch)\n",
            "origin  https://github.com/guebin/PP2023SUM.git (push)\n",
            "To https://github.com/guebin/PP2023SUM.git\n",
            "   e9a8acb..6edb56e  HEAD -> gh-pages\n",
            "\n",
            "NOTE: GitHub Pages sites use caching so you might need to click the refresh\n",
            "button within your web browser to see changes after deployment.\n",
            "\n",
            "[✓] Published to https://guebin.github.io/PP2023SUM/\n",
            "\n",
            "NOTE: GitHub Pages deployments normally take a few minutes (your site updates\n",
            "will be visible once the deploy completes)\n"
          ]
        }
      ],
      "source": [
        "!git add . \n",
        "!git commit -m .\n",
        "!git push\n",
        "!quarto publish --no-browser --no-prompt"
      ],
      "id": "1da2e675-1df3-43f0-af50-68560bb5e4c8"
    }
  ],
  "nbformat": 4,
  "nbformat_minor": 5,
  "metadata": {
    "kernelspec": {
      "name": "python3",
      "display_name": "Python 3 (ipykernel)",
      "language": "python"
    },
    "language_info": {
      "name": "python",
      "codemirror_mode": {
        "name": "ipython",
        "version": "3"
      },
      "file_extension": ".py",
      "mimetype": "text/x-python",
      "nbconvert_exporter": "python",
      "pygments_lexer": "ipython3",
      "version": "3.10.12"
    }
  }
}