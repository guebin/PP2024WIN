{
  "cells": [
    {
      "cell_type": "markdown",
      "metadata": {},
      "source": [
        "# Lesson 06: numpy II\n",
        "\n",
        "최규빈  \n",
        "2023-07-24\n",
        "\n",
        "<a href=\"https://colab.research.google.com/github/guebin/PP2024WIN/blob/main/posts/Day2/ls06.ipynb\"><img src=\"https://colab.research.google.com/assets/colab-badge.svg\" style=\"text-align: left\"></a>\n",
        "\n",
        "<https://youtu.be/playlist?list=PLQqh36zP38-y6ji16q-PFYlLKyEt2OwDp&si=a-t5jFK1QBV5GKUT>\n",
        "\n",
        "# Imports"
      ],
      "id": "ced12903-8952-45c4-b299-a9e6060f7ccd"
    },
    {
      "cell_type": "code",
      "execution_count": 2,
      "metadata": {
        "tags": []
      },
      "outputs": [],
      "source": [
        "import numpy as np"
      ],
      "id": "c4a2c671-67bb-4247-93ee-12eaf3e8d3ae"
    },
    {
      "cell_type": "markdown",
      "metadata": {},
      "source": [
        "# Numpy: axis의 이해\n",
        "\n",
        "`-` 목표: 넘파이의 axis를 이해하여 보자.\n",
        "\n",
        "## np.concatenate\n",
        "\n",
        "`-` 기본예제"
      ],
      "id": "ec88d7e0-1c21-42b6-8971-044ba197a96e"
    },
    {
      "cell_type": "code",
      "execution_count": 3,
      "metadata": {
        "tags": []
      },
      "outputs": [],
      "source": [
        "a=np.array([1,2]) \n",
        "b=-a"
      ],
      "id": "7f5c3986-9b1d-4ae3-9b72-905d0077d8f0"
    },
    {
      "cell_type": "code",
      "execution_count": 11,
      "metadata": {
        "tags": []
      },
      "outputs": [],
      "source": [
        "np.array(list(a) +list(b))"
      ],
      "id": "648a83cb-d9d8-4acf-b71a-4fefe2729d2e"
    },
    {
      "cell_type": "code",
      "execution_count": 13,
      "metadata": {
        "tags": []
      },
      "outputs": [],
      "source": [
        "np.concatenate([a,b])"
      ],
      "id": "8c84ee5e-e6a2-45f2-8d23-f58df47edecf"
    },
    {
      "cell_type": "markdown",
      "metadata": {},
      "source": [
        "`-` 응용"
      ],
      "id": "3c0a7b38-5861-46dd-8929-241bda1f677b"
    },
    {
      "cell_type": "code",
      "execution_count": 14,
      "metadata": {
        "tags": []
      },
      "outputs": [],
      "source": [
        "a=np.array([1,2])\n",
        "b=-a \n",
        "c=np.array([3,4,5])"
      ],
      "id": "6ed1e58f-c53a-45f7-bef6-dbff8f7bf8ca"
    },
    {
      "cell_type": "code",
      "execution_count": 58,
      "metadata": {},
      "outputs": [],
      "source": [
        "np.concatenate([a,b,c])"
      ],
      "id": "9c2e6f38-7b5c-4421-867c-56fef1015812"
    },
    {
      "cell_type": "markdown",
      "metadata": {},
      "source": [
        "-   여기까진 딱히 칸캐터네이트의 메리트가 없어보임\n",
        "-   리스트였다면 a+b+c 하면 되는 기능이니까?\n",
        "\n",
        "`-` 2d array에 적용해보자."
      ],
      "id": "1941cc79-ddc1-49d6-9845-5af6779bd2f6"
    },
    {
      "cell_type": "code",
      "execution_count": 31,
      "metadata": {
        "tags": []
      },
      "outputs": [],
      "source": [
        "a=np.arange(4).reshape(2,2) \n",
        "b=-a"
      ],
      "id": "531d1db9-ded8-42cc-aae0-4e024af5bcd4"
    },
    {
      "cell_type": "code",
      "execution_count": 32,
      "metadata": {
        "tags": []
      },
      "outputs": [],
      "source": [
        "np.concatenate([a,b]) "
      ],
      "id": "2d7ec281-20b8-4c48-9665-90ccce842cfe"
    },
    {
      "cell_type": "markdown",
      "metadata": {},
      "source": [
        "`-` 옆으로 붙일려면?"
      ],
      "id": "de983f9e-eaa4-4ec6-b7ff-672a1410b443"
    },
    {
      "cell_type": "code",
      "execution_count": 33,
      "metadata": {
        "tags": []
      },
      "outputs": [],
      "source": [
        "np.concatenate([a,b],axis=1)"
      ],
      "id": "8302a372-c5c6-4861-befb-cc0c40420baa"
    },
    {
      "cell_type": "markdown",
      "metadata": {},
      "source": [
        "`-` 위의 코드에서 axis=1 이 뭐지? axis=0,2 등을 치면 결과가 어떻게 될까?"
      ],
      "id": "c215b764-61fb-48ba-abb0-27a6401ac982"
    },
    {
      "cell_type": "code",
      "execution_count": 39,
      "metadata": {
        "tags": []
      },
      "outputs": [],
      "source": [
        "np.concatenate([a,b],axis=0)"
      ],
      "id": "bc5e516a-dcae-4a27-af2a-9f6a5c25b6fd"
    },
    {
      "cell_type": "markdown",
      "metadata": {},
      "source": [
        "-   이건 그냥 np.concatenate(\\[a,b\\])와 같다.\n",
        "-   np.concatenate(\\[a,b\\])는 np.concatenate(\\[a,b\\],axis=0)의\n",
        "    생략버전이군?"
      ],
      "id": "2c281573-51f1-4ad0-9f41-b19264b3cdf0"
    },
    {
      "cell_type": "code",
      "execution_count": 65,
      "metadata": {},
      "outputs": [],
      "source": [
        "np.concatenate([a,b],axis=2)"
      ],
      "id": "37d10b18-f9b8-4fcc-a7d6-99df849fb1c1"
    },
    {
      "cell_type": "markdown",
      "metadata": {},
      "source": [
        "-   이런건 없다.\n",
        "\n",
        "`-` axis의 의미가 뭔지 궁금함. 좀 더 예제를 살펴보자."
      ],
      "id": "5cd73f23-07ed-4ef0-abb1-f72f18f0ff92"
    },
    {
      "cell_type": "code",
      "execution_count": 40,
      "metadata": {
        "tags": []
      },
      "outputs": [],
      "source": [
        "a=np.array(range(2*3*4)).reshape(2,3,4)\n",
        "a"
      ],
      "id": "edaca1f5-1204-4d46-afd2-989390fb8191"
    },
    {
      "cell_type": "code",
      "execution_count": 41,
      "metadata": {
        "tags": []
      },
      "outputs": [],
      "source": [
        "b=-a\n",
        "b"
      ],
      "id": "4698e4c5-7767-4a18-b873-cc1f343c0b63"
    },
    {
      "cell_type": "code",
      "execution_count": 70,
      "metadata": {},
      "outputs": [],
      "source": [
        "np.concatenate([a,b],axis=0) "
      ],
      "id": "1d95bf56-f92c-4667-9715-7d757434faa6"
    },
    {
      "cell_type": "code",
      "execution_count": 72,
      "metadata": {},
      "outputs": [],
      "source": [
        "np.concatenate([a,b],axis=1) "
      ],
      "id": "623d87d6-3c0c-44b4-b5f3-ce7567cd396a"
    },
    {
      "cell_type": "code",
      "execution_count": 73,
      "metadata": {},
      "outputs": [],
      "source": [
        "np.concatenate([a,b],axis=2) "
      ],
      "id": "7db69480-7d80-4c62-ab4c-908b1e914113"
    },
    {
      "cell_type": "markdown",
      "metadata": {},
      "source": [
        "-   이번에는 axis=2까지 된다?"
      ],
      "id": "bb90559f-050a-4156-bd11-435afb1471d5"
    },
    {
      "cell_type": "code",
      "execution_count": 75,
      "metadata": {},
      "outputs": [],
      "source": [
        "np.concatenate([a,b],axis=3) "
      ],
      "id": "8335898a-ccd3-48ea-b1ac-a9ed1436207f"
    },
    {
      "cell_type": "markdown",
      "metadata": {},
      "source": [
        "-   axis=3까지는 안된다?\n",
        "\n",
        "`-` 뭔가 나름의 방식으로 합쳐지는데 원리가 뭘까?\n",
        "\n",
        "(분석1) np.concatenate(\\[a,b\\],axis=0)"
      ],
      "id": "9361681f-0475-4bc2-bc8b-5b25332701de"
    },
    {
      "cell_type": "code",
      "execution_count": 80,
      "metadata": {},
      "outputs": [],
      "source": [
        "a=np.array(range(2*3*4)).reshape(2,3,4) \n",
        "b=-a "
      ],
      "id": "5c143f84-ec3b-4baa-a586-7d821127ea41"
    },
    {
      "cell_type": "code",
      "execution_count": 86,
      "metadata": {},
      "outputs": [],
      "source": [
        "a.shape, b.shape, np.concatenate([a,b],axis=0).shape"
      ],
      "id": "7bea044d-9f8c-4450-a654-aa230e78c45b"
    },
    {
      "cell_type": "markdown",
      "metadata": {},
      "source": [
        "-   첫번째차원이 바뀌었다 =\\> 첫번째 축이 바뀌었다 =\\> axis=0 (파이썬은\n",
        "    0부터 시작하니까!)\n",
        "\n",
        "(분석2) np.concatenate(\\[a,b\\],axis=1)"
      ],
      "id": "9b5c2ca0-62dc-40a7-afc4-97fbcc7e0215"
    },
    {
      "cell_type": "code",
      "execution_count": 88,
      "metadata": {},
      "outputs": [],
      "source": [
        "a=np.array(range(2*3*4)).reshape(2,3,4) \n",
        "b=-a "
      ],
      "id": "ebdb2a12-7119-4386-bd8f-4009be840c9e"
    },
    {
      "cell_type": "code",
      "execution_count": 89,
      "metadata": {},
      "outputs": [],
      "source": [
        "a.shape, b.shape, np.concatenate([a,b],axis=1).shape"
      ],
      "id": "58d41012-d05e-4812-8206-7bde5d01f764"
    },
    {
      "cell_type": "markdown",
      "metadata": {},
      "source": [
        "-   두번째차원이 바뀌었다 =\\> 두번째 축이 바뀌었다 =\\> axis=1\n",
        "\n",
        "(분석3) np.concatenate(\\[a,b\\],axis=2)"
      ],
      "id": "2d91374d-cc03-44b5-a3d8-b40dea96dcdb"
    },
    {
      "cell_type": "code",
      "execution_count": 90,
      "metadata": {},
      "outputs": [],
      "source": [
        "a=np.array(range(2*3*4)).reshape(2,3,4) \n",
        "b=-a "
      ],
      "id": "225caccb-6140-4943-9c2c-a505b67b0b8b"
    },
    {
      "cell_type": "code",
      "execution_count": 92,
      "metadata": {},
      "outputs": [],
      "source": [
        "a.shape, b.shape, np.concatenate([a,b],axis=2).shape"
      ],
      "id": "e4d12427-11e2-48b7-a2ba-4b00b274ebcf"
    },
    {
      "cell_type": "markdown",
      "metadata": {},
      "source": [
        "-   세번째차원이 바뀌었다 =\\> 세번째 축이 바뀌었다 =\\> axis=2\n",
        "\n",
        "(분석4) np.concatenate(\\[a,b\\],axis=3)"
      ],
      "id": "a618eb62-78d2-4166-b4de-6f49e7e333e7"
    },
    {
      "cell_type": "code",
      "execution_count": 94,
      "metadata": {},
      "outputs": [],
      "source": [
        "a=np.array(range(2*3*4)).reshape(2,3,4) \n",
        "b=-a "
      ],
      "id": "35357cff-31aa-4a22-8e76-32dbf6246788"
    },
    {
      "cell_type": "code",
      "execution_count": 95,
      "metadata": {},
      "outputs": [],
      "source": [
        "a.shape, b.shape, np.concatenate([a,b],axis=3).shape"
      ],
      "id": "b5cecfdb-24ec-4952-928d-7bb4016c747f"
    },
    {
      "cell_type": "markdown",
      "metadata": {},
      "source": [
        "-   네번째차원이 없다 =\\> 네번째 축이 없다 =\\> axis=3으로 하면 에러가\n",
        "    난다.\n",
        "\n",
        "(보너스1)"
      ],
      "id": "8251a5f2-f0ee-44d2-9e4a-b59cf293ac17"
    },
    {
      "cell_type": "code",
      "execution_count": 99,
      "metadata": {},
      "outputs": [],
      "source": [
        "a=np.array(range(2*3*4)).reshape(2,3,4) \n",
        "b=-a "
      ],
      "id": "e1dede62-9671-4980-8d7b-14419d5743b4"
    },
    {
      "cell_type": "code",
      "execution_count": 101,
      "metadata": {},
      "outputs": [],
      "source": [
        "np.concatenate([a,b],axis=-1)"
      ],
      "id": "3bcde92f-4b88-4786-8c71-026dbd7d1fa9"
    },
    {
      "cell_type": "code",
      "execution_count": 100,
      "metadata": {},
      "outputs": [],
      "source": [
        "a.shape, b.shape, np.concatenate([a,b],axis=-1).shape"
      ],
      "id": "1bcd4e0f-46e8-47e4-a614-cc5a3eef5890"
    },
    {
      "cell_type": "markdown",
      "metadata": {},
      "source": [
        "-   마지막 차원이 바뀌었다 =\\> 마지막 축이 바뀌었다 =\\> axis = -1\n",
        "\n",
        "(보너스2)"
      ],
      "id": "3e5fbd68-00d8-44e8-b371-9efae85be906"
    },
    {
      "cell_type": "code",
      "execution_count": 107,
      "metadata": {},
      "outputs": [],
      "source": [
        "a=np.array(range(2*3*4)).reshape(2,3,4) \n",
        "b=-a "
      ],
      "id": "bf8315fd-a7d4-4deb-b516-b50995c46a3b"
    },
    {
      "cell_type": "code",
      "execution_count": 108,
      "metadata": {},
      "outputs": [],
      "source": [
        "np.concatenate([a,b],axis=-2)"
      ],
      "id": "7cf8d7e1-33ae-4756-be14-3ec77dd88cf2"
    },
    {
      "cell_type": "code",
      "execution_count": 109,
      "metadata": {},
      "outputs": [],
      "source": [
        "a.shape, b.shape, np.concatenate([a,b],axis=-2).shape"
      ],
      "id": "9c696517-a26f-4054-8e3c-b6b7991014e5"
    },
    {
      "cell_type": "markdown",
      "metadata": {},
      "source": [
        "-   마지막에서 2번째 차원이 바뀌었다 =\\> 마지막에서 2번째 축이 바뀌었다\n",
        "    =\\> axis = -2\n",
        "\n",
        "(보너스3)"
      ],
      "id": "acb555ee-e946-4bb0-b683-877e0341f36b"
    },
    {
      "cell_type": "code",
      "execution_count": 90,
      "metadata": {
        "tags": []
      },
      "outputs": [],
      "source": [
        "a=np.array(range(2*3*4)).reshape(2,3,4) \n",
        "b=-a "
      ],
      "id": "ca02d56c-fd44-4da2-b080-fcb616a556b9"
    },
    {
      "cell_type": "code",
      "execution_count": 111,
      "metadata": {},
      "outputs": [],
      "source": [
        "np.concatenate([a,b],axis=-3)"
      ],
      "id": "def662c8-4ddc-4ae2-8a6e-c1ce4fd1238a"
    },
    {
      "cell_type": "code",
      "execution_count": 112,
      "metadata": {},
      "outputs": [],
      "source": [
        "a.shape, b.shape, np.concatenate([a,b],axis=-3).shape"
      ],
      "id": "88593722-3496-4799-bf8a-2a9cbb2e096c"
    },
    {
      "cell_type": "markdown",
      "metadata": {},
      "source": [
        "-   마지막에서 3번째 차원이 바뀌었다 =\\> 마지막에서 3번째 축이 바뀌었다\n",
        "    =\\> axis = -3\n",
        "\n",
        "(보너스3)"
      ],
      "id": "9156921f-fc56-456b-bd1f-8aec30fce970"
    },
    {
      "cell_type": "code",
      "execution_count": 114,
      "metadata": {},
      "outputs": [],
      "source": [
        "a=np.array(range(2*3*4)).reshape(2,3,4) \n",
        "b=-a "
      ],
      "id": "f8d9108c-6e3e-418b-a300-3dc59e8aa2a6"
    },
    {
      "cell_type": "code",
      "execution_count": 115,
      "metadata": {},
      "outputs": [],
      "source": [
        "np.concatenate([a,b],axis=-4)"
      ],
      "id": "251abf15-45da-4514-b01a-f2c0b0e17e48"
    },
    {
      "cell_type": "markdown",
      "metadata": {},
      "source": [
        "-   마지막에서 4번째 차원은 없다 =\\> 마지막에서 4번째 축이 없다 =\\> axis\n",
        "    = -4는 에러가 난다.\n",
        "\n",
        "`-` 0차원은 축이 없으므로 concatenate를 쓸 수 없다."
      ],
      "id": "e6c57b60-8260-4bfb-a6b7-0116e8be0198"
    },
    {
      "cell_type": "code",
      "execution_count": 52,
      "metadata": {
        "tags": []
      },
      "outputs": [],
      "source": [
        "a= np.array(1)\n",
        "b= np.array(-1) "
      ],
      "id": "a4f849d2-1898-4028-92a4-d3e7b632d155"
    },
    {
      "cell_type": "code",
      "execution_count": 126,
      "metadata": {},
      "outputs": [],
      "source": [
        "a.shape, b.shape"
      ],
      "id": "1a4b96f4-3d0e-4e15-bacc-1a41c93fb4b9"
    },
    {
      "cell_type": "code",
      "execution_count": 54,
      "metadata": {
        "tags": []
      },
      "outputs": [],
      "source": [
        "np.concatenate([a,b])"
      ],
      "id": "e3b5f961-ca20-4b86-851e-a16fa9aa015e"
    },
    {
      "cell_type": "markdown",
      "metadata": {},
      "source": [
        "`-` 꼭 a,b가 같은 차원일 필요는 없다."
      ],
      "id": "5d327260-1036-4e68-a448-b5bcb34aecc1"
    },
    {
      "cell_type": "code",
      "execution_count": 55,
      "metadata": {
        "tags": []
      },
      "outputs": [],
      "source": [
        "a=np.array(range(4)).reshape(2,2) \n",
        "b=np.array(range(2)).reshape(2,1)  "
      ],
      "id": "3ecea3e0-6599-4b32-9412-9d961025b333"
    },
    {
      "cell_type": "code",
      "execution_count": 66,
      "metadata": {
        "tags": []
      },
      "outputs": [],
      "source": [
        "np.concatenate([a,b.T],axis=0)"
      ],
      "id": "6f861ef1-b2bc-42c3-9bc0-98bf1fd40fff"
    },
    {
      "cell_type": "code",
      "execution_count": 131,
      "metadata": {},
      "outputs": [],
      "source": [
        "np.concatenate([a,b],axis=1)"
      ],
      "id": "1de31e29-c99d-4e59-91e3-407969ba3b23"
    },
    {
      "cell_type": "code",
      "execution_count": 133,
      "metadata": {},
      "outputs": [],
      "source": [
        "a.shape, b.shape, np.concatenate([a,b],axis=1).shape"
      ],
      "id": "82c96966-caa0-4650-9393-6b73a8b08780"
    },
    {
      "cell_type": "markdown",
      "metadata": {},
      "source": [
        "## np.stack\n",
        "\n",
        "`-` 혹시 아래가 가능할까?\n",
        "\n",
        "-   (3,) 결합 (3,) =\\> (3,2)"
      ],
      "id": "d8337ddc-c6b6-457e-969f-4e6b3aa1c511"
    },
    {
      "cell_type": "code",
      "execution_count": 67,
      "metadata": {
        "tags": []
      },
      "outputs": [],
      "source": [
        "a=np.array([1,2,3])\n",
        "b=-a"
      ],
      "id": "1b55334c-43a5-4f21-8a8f-00c1928cd826"
    },
    {
      "cell_type": "code",
      "execution_count": 150,
      "metadata": {},
      "outputs": [],
      "source": [
        "a,b"
      ],
      "id": "2b3e598b-ba83-481e-ac48-d3a78b3f8b66"
    },
    {
      "cell_type": "code",
      "execution_count": 151,
      "metadata": {},
      "outputs": [],
      "source": [
        "np.concatenate([a,b],axis=1)"
      ],
      "id": "738b106b-2d64-4f05-9eeb-26a6875d9bd8"
    },
    {
      "cell_type": "markdown",
      "metadata": {},
      "source": [
        "-   불가능\n",
        "\n",
        "`-` 아래와 같이 하면 해결가능"
      ],
      "id": "76f99f47-41f1-4b07-a8c6-40e230c5fed6"
    },
    {
      "cell_type": "code",
      "execution_count": 152,
      "metadata": {},
      "outputs": [],
      "source": [
        "a=np.array([1,2,3]).reshape(3,1) \n",
        "b=-a"
      ],
      "id": "e803f77b-2970-4955-a87d-d5658f8ec364"
    },
    {
      "cell_type": "code",
      "execution_count": 153,
      "metadata": {},
      "outputs": [],
      "source": [
        "a,b"
      ],
      "id": "afeeb4e3-7660-4d40-ae9b-896f5314b61e"
    },
    {
      "cell_type": "code",
      "execution_count": 154,
      "metadata": {},
      "outputs": [],
      "source": [
        "np.concatenate([a,b],axis=1)"
      ],
      "id": "e1dcb7ba-fc9c-4feb-8b75-068b3181eb2e"
    },
    {
      "cell_type": "markdown",
      "metadata": {},
      "source": [
        "-   분석: (3) (3) =\\> (3,1) (3,1) =\\> (3,1) concat (3,1)\n",
        "\n",
        "`-` 위의 과정을 줄여서 아래와 같이 할 수 있다."
      ],
      "id": "54bf50f3-0a7d-4761-bca5-3cc33727cd3e"
    },
    {
      "cell_type": "code",
      "execution_count": 156,
      "metadata": {},
      "outputs": [],
      "source": [
        "a=np.array([1,2,3])\n",
        "b=-a"
      ],
      "id": "989920f1-1829-4507-ad3a-d5410f5d0e72"
    },
    {
      "cell_type": "code",
      "execution_count": 157,
      "metadata": {},
      "outputs": [],
      "source": [
        "np.stack([a,b],axis=1)"
      ],
      "id": "7cc35aeb-2ee4-4b5b-9328-e800f0d17fb9"
    },
    {
      "cell_type": "markdown",
      "metadata": {},
      "source": [
        "`-` 아래도 가능"
      ],
      "id": "8230cce7-d7b9-4577-a6e1-ebe71740201a"
    },
    {
      "cell_type": "code",
      "execution_count": 158,
      "metadata": {},
      "outputs": [],
      "source": [
        "np.stack([a,b],axis=0)"
      ],
      "id": "5d1a73cc-2a51-4094-98bc-c36e842e9d29"
    },
    {
      "cell_type": "markdown",
      "metadata": {},
      "source": [
        "`-` 분석해보고 외우자\n",
        "\n",
        "(분석1)"
      ],
      "id": "dba5192a-a0c0-43d2-90f3-ad91b9c4b9af"
    },
    {
      "cell_type": "code",
      "execution_count": 159,
      "metadata": {},
      "outputs": [],
      "source": [
        "a=np.array([1,2,3])\n",
        "b=-a"
      ],
      "id": "34e06fb2-431c-43ba-b2d5-77dfab86b6e7"
    },
    {
      "cell_type": "code",
      "execution_count": 162,
      "metadata": {},
      "outputs": [],
      "source": [
        "a.shape, b.shape, np.stack([a,b],axis=0).shape"
      ],
      "id": "80821e3e-5bd9-4e09-8a83-972559116297"
    },
    {
      "cell_type": "markdown",
      "metadata": {},
      "source": [
        "-   1.  1.  =\\> 첫 위치에 축을 추가 (axis=0) =\\> (1,3) (1,3) =\\> (2,3)\n",
        "\n",
        "(분석2)"
      ],
      "id": "bc2ec000-6a16-4bb0-9901-68aef5bb50be"
    },
    {
      "cell_type": "code",
      "execution_count": 163,
      "metadata": {},
      "outputs": [],
      "source": [
        "a=np.array([1,2,3])\n",
        "b=-a"
      ],
      "id": "7723dfa1-10dc-4df7-9eab-b25960cd0509"
    },
    {
      "cell_type": "code",
      "execution_count": 164,
      "metadata": {},
      "outputs": [],
      "source": [
        "a.shape, b.shape, np.stack([a,b],axis=1).shape"
      ],
      "id": "96ade04f-a96d-4a91-bd3d-5937703d8315"
    },
    {
      "cell_type": "markdown",
      "metadata": {},
      "source": [
        "-   1.  1.  =\\> 두 위치에 축을 추가 (axis=1) =\\> (3,1) (3,1) =\\> (3,2)\n",
        "\n",
        "`-` 고차원예제"
      ],
      "id": "3d0d82e6-7f14-4915-8761-5c3efdf91135"
    },
    {
      "cell_type": "code",
      "execution_count": 166,
      "metadata": {},
      "outputs": [],
      "source": [
        "a=np.arange(3*4*5).reshape(3,4,5) \n",
        "b=-a"
      ],
      "id": "c7c6731b-4b9a-4889-9867-1be7cc9e5af0"
    },
    {
      "cell_type": "code",
      "execution_count": 167,
      "metadata": {},
      "outputs": [],
      "source": [
        "a.shape, b.shape"
      ],
      "id": "159d59df-120f-47da-9fc1-7022bed0b91e"
    },
    {
      "cell_type": "code",
      "execution_count": 170,
      "metadata": {},
      "outputs": [],
      "source": [
        "np.stack([a,b],axis=0).shape # (3,4,5) => (1,3,4,5) // 첫 위치에 축이 추가되고 스택 "
      ],
      "id": "f0c1e5af-56eb-4730-a32a-fa0ecfd18e0e"
    },
    {
      "cell_type": "code",
      "execution_count": 174,
      "metadata": {},
      "outputs": [],
      "source": [
        "np.stack([a,b],axis=1).shape # (3,4,5) => (3,1,4,5) // 두번째 위치에 축이 추가되고 스택 "
      ],
      "id": "33579e71-71ae-4a80-872a-4740767142b9"
    },
    {
      "cell_type": "code",
      "execution_count": 175,
      "metadata": {},
      "outputs": [],
      "source": [
        "np.stack([a,b],axis=2).shape # (3,4,5) => (3,4,1,5) // 세번째 위치에 축이 추가되고 스택 "
      ],
      "id": "837cb344-9432-4585-a343-c435c868bd8c"
    },
    {
      "cell_type": "code",
      "execution_count": 179,
      "metadata": {},
      "outputs": [],
      "source": [
        "np.stack([a,b],axis=3).shape # (3,4,5) => (3,4,5,1) // 네번째 위치에 축이 추가되고 스택 "
      ],
      "id": "dd3c5d3a-28c5-4b9f-ad75-6753d9dfce9e"
    },
    {
      "cell_type": "code",
      "execution_count": 181,
      "metadata": {},
      "outputs": [],
      "source": [
        "np.stack([a,b],axis=-1).shape # axis=-1 <=> axis=3 "
      ],
      "id": "338b3cc3-3be8-4895-be29-cc83194f0666"
    },
    {
      "cell_type": "code",
      "execution_count": 182,
      "metadata": {},
      "outputs": [],
      "source": [
        "np.stack([a,b],axis=-2).shape # axis=-2 <=> axis=2"
      ],
      "id": "a2451178-1d8f-4cc3-b449-f71909163bca"
    },
    {
      "cell_type": "markdown",
      "metadata": {},
      "source": [
        "***np.concatenate*** 는 축의 총 갯수를 유지하면서 결합, ***np.stack***은\n",
        "축의 갯수를 하나 증가시키면서 결합\n",
        "\n",
        "## sum\n",
        "\n",
        "`-` 1차원"
      ],
      "id": "98c0e0a7-5b52-4367-b8c8-44716bde4d01"
    },
    {
      "cell_type": "code",
      "execution_count": 121,
      "metadata": {},
      "outputs": [],
      "source": [
        "a = np.array([1,2,3]) \n",
        "a"
      ],
      "id": "83099798-4678-4fa7-882b-15fd9bf548fc"
    },
    {
      "cell_type": "code",
      "execution_count": 122,
      "metadata": {
        "tags": []
      },
      "outputs": [],
      "source": [
        "a.sum()"
      ],
      "id": "013cc74d-bff8-468c-814c-038db4c4e9a5"
    },
    {
      "cell_type": "code",
      "execution_count": 123,
      "metadata": {
        "tags": []
      },
      "outputs": [],
      "source": [
        "a.sum(axis=0)"
      ],
      "id": "7e9c6443-4789-45f7-a3c0-e8e2a684a0b5"
    },
    {
      "cell_type": "markdown",
      "metadata": {},
      "source": [
        "`-` 2차원"
      ],
      "id": "9d75fa63-fbb2-442a-b470-3425d29af078"
    },
    {
      "cell_type": "code",
      "execution_count": 208,
      "metadata": {},
      "outputs": [],
      "source": [
        "a=np.array(range(6)).reshape(2,3)\n",
        "a"
      ],
      "id": "bc77d601-5384-41fd-ae3f-f7977eff0b8a"
    },
    {
      "cell_type": "code",
      "execution_count": 209,
      "metadata": {},
      "outputs": [],
      "source": [
        "a.sum() # 전체합"
      ],
      "id": "ff773f35-a3c9-4a2b-b634-c10677d766aa"
    },
    {
      "cell_type": "code",
      "execution_count": 210,
      "metadata": {},
      "outputs": [],
      "source": [
        "a.sum(axis=0) "
      ],
      "id": "882a94a3-b201-4737-96d6-165fc5b40ef6"
    },
    {
      "cell_type": "code",
      "execution_count": 211,
      "metadata": {},
      "outputs": [],
      "source": [
        "a.sum(axis=1) "
      ],
      "id": "4d12bc83-d5b4-4863-8564-1ea48416ca79"
    },
    {
      "cell_type": "markdown",
      "metadata": {},
      "source": [
        "`-` 2차원 결과 분석"
      ],
      "id": "252b83af-6605-4753-93cd-f36794a03fd1"
    },
    {
      "cell_type": "code",
      "execution_count": 193,
      "metadata": {},
      "outputs": [],
      "source": [
        "a.shape, a.sum(axis=0).shape"
      ],
      "id": "00d0c4e8-1852-48ac-a1aa-995e5a6f0a60"
    },
    {
      "cell_type": "markdown",
      "metadata": {},
      "source": [
        "-   첫번째 축이 삭제됨 =\\> axis=0"
      ],
      "id": "3ddec28b-4fe2-4029-af23-af0f830617d8"
    },
    {
      "cell_type": "code",
      "execution_count": 195,
      "metadata": {},
      "outputs": [],
      "source": [
        "a.shape, a.sum(axis=1).shape"
      ],
      "id": "d88b697e-610f-40a0-88e0-ee6dc78a2af6"
    },
    {
      "cell_type": "markdown",
      "metadata": {},
      "source": [
        "-   두번째 축이 삭제됨 =\\> axis=1\n",
        "\n",
        "`-` 연습"
      ],
      "id": "47bfbc49-24c3-44a0-9d6a-b33999a0f239"
    },
    {
      "cell_type": "code",
      "execution_count": 197,
      "metadata": {},
      "outputs": [],
      "source": [
        "a=np.array(range(10)).reshape(5,2) \n",
        "a"
      ],
      "id": "9557ef8a-a606-41f1-97b7-93f7e1c07ec2"
    },
    {
      "cell_type": "markdown",
      "metadata": {},
      "source": [
        "(문제1) 1열의 합, 2열의 합을 계산하고 싶다면?\n",
        "\n",
        "(풀이) 차원이 (5,2) =\\> (2,) 로 나와야 한다. (그럼 첫번째 축이\n",
        "삭제되어야 하네?)"
      ],
      "id": "e23cf669-8783-4501-b4a0-d1b176662705"
    },
    {
      "cell_type": "code",
      "execution_count": 198,
      "metadata": {},
      "outputs": [],
      "source": [
        "a.sum(axis=0)"
      ],
      "id": "c1104e8d-665d-4765-b1d3-9a882e4aaa34"
    },
    {
      "cell_type": "markdown",
      "metadata": {},
      "source": [
        "(문제2) 1행의 합, 2행의 합, … , 5행의 합을 계산하고 싶다면?\n",
        "\n",
        "(풀이) 차원이 (5,2) =\\> (5,)로 나와야 한다. (그럼 두번째 축이 삭제되어야\n",
        "하네?)"
      ],
      "id": "10ed4888-d3d3-410e-ad3f-cb90a5b9ed87"
    },
    {
      "cell_type": "code",
      "execution_count": 199,
      "metadata": {},
      "outputs": [],
      "source": [
        "a.sum(axis=1)"
      ],
      "id": "ad5aa245-5892-49e0-8fc7-a97dd2b6fed0"
    },
    {
      "cell_type": "markdown",
      "metadata": {},
      "source": [
        "(문제3) a의 모든원소의 합을 계산하고 싶다면?\n",
        "\n",
        "(풀이) 차원이 (5,2) =\\> () 로 나와야 한다. (첫번째축, 두번째축이 모두\n",
        "삭제되어야 하네?)"
      ],
      "id": "18f0bca1-74ee-4787-a9e8-16b8591b9e26"
    },
    {
      "cell_type": "code",
      "execution_count": 201,
      "metadata": {},
      "outputs": [],
      "source": [
        "a.sum(axis=(0,1))"
      ],
      "id": "fa77efad-75f3-45dc-88fb-8649abce8520"
    },
    {
      "cell_type": "code",
      "execution_count": 203,
      "metadata": {},
      "outputs": [],
      "source": [
        "a.sum() # 즉 a.sum(axis=(0,1))이 디폴트값임 "
      ],
      "id": "be5f8f2c-09b6-45ec-ae2f-c15bc3549b96"
    },
    {
      "cell_type": "markdown",
      "metadata": {},
      "source": [
        "## mean, max, min\n",
        "\n",
        "`-` 모두 sum이랑 유사한 논리"
      ],
      "id": "43185811-b55f-451d-9dcd-3839214ce39b"
    },
    {
      "cell_type": "code",
      "execution_count": 136,
      "metadata": {
        "tags": []
      },
      "outputs": [],
      "source": [
        "a=np.array(range(10)).reshape(5,2)\n",
        "a"
      ],
      "id": "e4ae2cb5-85ff-4bf4-9c51-61b0ace3a8b1"
    },
    {
      "cell_type": "code",
      "execution_count": 7,
      "metadata": {
        "tags": []
      },
      "outputs": [],
      "source": [
        "a.mean(axis=0), a.max(axis=0), a.min(axis=0)"
      ],
      "id": "9bfce9a6-83b8-48c9-b941-8fe20dc04f93"
    },
    {
      "cell_type": "code",
      "execution_count": 8,
      "metadata": {
        "tags": []
      },
      "outputs": [],
      "source": [
        "a.mean(axis=1), a.max(axis=1), a.min(axis=1)"
      ],
      "id": "87ca0c91-e3bb-4dc2-a958-8a5c8a4ebda3"
    },
    {
      "cell_type": "markdown",
      "metadata": {},
      "source": [
        "# Quiz\n",
        "\n",
        "`1` – `6`. a,b가 아래와 같이 주어졌다고 하자."
      ],
      "id": "e04557eb-98f3-46fb-89e2-21a79b0ef20f"
    },
    {
      "cell_type": "code",
      "execution_count": null,
      "metadata": {},
      "outputs": [],
      "source": [
        "a=np.array([1]*10)\n",
        "b=np.array([2]*10)"
      ],
      "id": "46b9ca1f"
    },
    {
      "cell_type": "markdown",
      "metadata": {},
      "source": [
        "`1`. a,b와 np.concatenate를 이용하여 아래와 같은 배열을 만들어라.\n",
        "\n",
        "    array([1, 1, 1, 1, 1, 1, 1, 1, 1, 1, 2, 2, 2, 2, 2, 2, 2, 2, 2, 2])\n",
        "\n",
        "`2`. a,b와 np.concatenate를 이용하여 아래와 같은 배열을 만들어라."
      ],
      "id": "4942b186-c1ef-47cf-9b86-13922ea148d2"
    },
    {
      "cell_type": "code",
      "execution_count": null,
      "metadata": {},
      "outputs": [],
      "source": [
        "a=np.array([1]*10)\n",
        "b=np.array([2]*10)"
      ],
      "id": "bc7f8c1a"
    },
    {
      "cell_type": "markdown",
      "metadata": {},
      "source": [
        "    array([[1],\n",
        "           [1],\n",
        "           [1],\n",
        "           [1],\n",
        "           [1],\n",
        "           [1],\n",
        "           [1],\n",
        "           [1],\n",
        "           [1],\n",
        "           [1],\n",
        "           [2],\n",
        "           [2],\n",
        "           [2],\n",
        "           [2],\n",
        "           [2],\n",
        "           [2],\n",
        "           [2],\n",
        "           [2],\n",
        "           [2],\n",
        "           [2]])\n",
        "\n",
        "`3`. a,b와 np.concatenate를 이용하여 아래와 같은 배열을 만들어라.\n",
        "\n",
        "    array([[1, 1, 1, 1, 1, 1, 1, 1, 1, 1],\n",
        "           [2, 2, 2, 2, 2, 2, 2, 2, 2, 2]]\n",
        "\n",
        "`4`. a,b와 np.concatenate를 이용하여 아래와 같은 배열을 만들어라.\n",
        "\n",
        "    array([[1, 2],\n",
        "           [1, 2],\n",
        "           [1, 2],\n",
        "           [1, 2],\n",
        "           [1, 2],\n",
        "           [1, 2],\n",
        "           [1, 2],\n",
        "           [1, 2],\n",
        "           [1, 2],\n",
        "           [1, 2]])\n",
        "\n",
        "`5`. a,b와 np.stack을 이용하여 아래와 같은 배열을 만들어라.\n",
        "\n",
        "    array([[1, 1, 1, 1, 1, 1, 1, 1, 1, 1],\n",
        "           [2, 2, 2, 2, 2, 2, 2, 2, 2, 2]]\n",
        "\n",
        "`6`. a,b와 np.stack을 이용하여 아래와 같은 배열을 만들어라.\n",
        "\n",
        "    array([[1, 2],\n",
        "           [1, 2],\n",
        "           [1, 2],\n",
        "           [1, 2],\n",
        "           [1, 2],\n",
        "           [1, 2],\n",
        "           [1, 2],\n",
        "           [1, 2],\n",
        "           [1, 2],\n",
        "           [1, 2]])\n",
        "\n",
        "**`7`–`8`**\n",
        "\n",
        "아래와 같은 매트릭스를 생성하라."
      ],
      "id": "a85bd5ff-b58e-4eea-8310-cffda5c902e3"
    },
    {
      "cell_type": "code",
      "execution_count": null,
      "metadata": {},
      "outputs": [],
      "source": [
        "np.random.seed(43052)\n",
        "a=np.random.randn(10000).reshape(100,100)\n",
        "a"
      ],
      "id": "732d1860"
    },
    {
      "cell_type": "markdown",
      "metadata": {},
      "source": [
        "`7`. 각 행의 합을 구하라. 즉 1행의 합, 2행의 합, … 100행의 합을\n",
        "계산하라.\n",
        "\n",
        "-   1행의합 = 0.38342049 + 1.0841745 + … + 1.18701443\n",
        "\n",
        "`8`. 각 열의 평균을 구하라. 즉 1열의 평균, 2열의 평균, … , 100열의\n",
        "평균을 계산하라."
      ],
      "id": "7651b06d-7626-432b-a743-60618735efa9"
    }
  ],
  "nbformat": 4,
  "nbformat_minor": 5,
  "metadata": {
    "kernelspec": {
      "name": "python3",
      "display_name": "Python 3 (ipykernel)",
      "language": "python"
    },
    "language_info": {
      "name": "python",
      "codemirror_mode": {
        "name": "ipython",
        "version": "3"
      },
      "file_extension": ".py",
      "mimetype": "text/x-python",
      "nbconvert_exporter": "python",
      "pygments_lexer": "ipython3",
      "version": "3.10.13"
    }
  }
}