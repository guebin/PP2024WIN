{
  "cells": [
    {
      "cell_type": "markdown",
      "metadata": {},
      "source": [
        "# Lesson 07: pandas I\n",
        "\n",
        "최규빈  \n",
        "2023-07-24\n",
        "\n",
        "<a href=\"https://colab.research.google.com/github/guebin/PP2024WIN/blob/main/posts/Day2/ls07.ipynb\"><img src=\"https://colab.research.google.com/assets/colab-badge.svg\" style=\"text-align: left\"></a>\n",
        "\n",
        "# imports"
      ],
      "id": "213cc83f-5178-4cb8-8f51-79046296617f"
    },
    {
      "cell_type": "code",
      "execution_count": 1,
      "metadata": {},
      "outputs": [],
      "source": [
        "import numpy as np\n",
        "import pandas as pd "
      ],
      "id": "720575dc-3bcb-49f2-8550-66f6434d4fa4"
    },
    {
      "cell_type": "markdown",
      "metadata": {},
      "source": [
        "# Pandas: 선언, 열의이름확인\n",
        "\n",
        "# Pandas: 행과 열의 선택\n",
        "\n",
        "`-` 데이터"
      ],
      "id": "a8a43ca9-f968-41b0-83a5-c044c3299ca0"
    },
    {
      "cell_type": "code",
      "execution_count": 26,
      "metadata": {},
      "outputs": [],
      "source": [
        "np.random.seed(43052)\n",
        "att = np.random.choice(np.arange(10,21)*5,20)\n",
        "rep = np.random.choice(np.arange(5,21)*5,20)\n",
        "mid = np.random.choice(np.arange(0,21)*5,20)\n",
        "fin = np.random.choice(np.arange(0,21)*5,20)\n",
        "student_id = ['2022-12'+str(s) for s in np.random.choice(np.arange(300,501),20,replace=False)]"
      ],
      "id": "c0e3cf0f"
    },
    {
      "cell_type": "code",
      "execution_count": 29,
      "metadata": {},
      "outputs": [],
      "source": [
        "df = pd.DataFrame({'att':att,'rep':rep,'mid':mid,'fin':fin})\n",
        "df.head()"
      ],
      "id": "85267e83"
    },
    {
      "cell_type": "code",
      "execution_count": 30,
      "metadata": {},
      "outputs": [],
      "source": [
        "df2 = pd.DataFrame({'id':student_id,'att':att,'rep':rep,'mid':mid,'fin':fin})\n",
        "df2.head()"
      ],
      "id": "9672986f-b39d-47c9-8414-bed85c851c69"
    },
    {
      "cell_type": "markdown",
      "metadata": {},
      "source": [
        "## 열의 선택\n",
        "\n",
        "`-` 방법1: `df.?` + str\n",
        "\n",
        "`-` 방법2: `df[?]` + str, \\[str,str\\]"
      ],
      "id": "85041b5e-e1df-4b8a-bab2-07ca00aaea60"
    },
    {
      "cell_type": "code",
      "execution_count": 349,
      "metadata": {},
      "outputs": [],
      "source": [
        "# df['att'] # str \n",
        "# df[['att']] # [str]\n",
        "# df[['att','rep']] # [str,str]"
      ],
      "id": "b4ce0d43-b31f-461c-b6e1-c0f4ccd4ae83"
    },
    {
      "cell_type": "markdown",
      "metadata": {},
      "source": [
        "`-` 방법3: `df.iloc[:,?]` + int, int:int, \\[int,int\\], \\[bool,bool\\],\n",
        "range"
      ],
      "id": "5c002bc3-e370-41d4-aceb-60a749974435"
    },
    {
      "cell_type": "code",
      "execution_count": 350,
      "metadata": {},
      "outputs": [],
      "source": [
        "# df.iloc[:,0] # int\n",
        "# df.iloc[:,-2:] # int:int - 슬라이싱\n",
        "# df.iloc[:,1::2] # int:int - 스트라이딩\n",
        "# df.iloc[:,[0]] # [int]\n",
        "# df.iloc[:,[0,1]] # [int,int]\n",
        "# df.iloc[:,[True,True,False,False]] # bool의 list \n",
        "# df.iloc[:,range(2)] # range"
      ],
      "id": "ddf35c44"
    },
    {
      "cell_type": "markdown",
      "metadata": {},
      "source": [
        "`-` 방법4: `df.loc[:,?]` + str, ‘str:str’, \\[str,str\\], \\[bool,bool\\]"
      ],
      "id": "2745d44a-2411-4c19-a520-85736f95190f"
    },
    {
      "cell_type": "code",
      "execution_count": 357,
      "metadata": {},
      "outputs": [],
      "source": [
        "# df.loc[:,'att'] # str\n",
        "# df.loc[:,'rep':'mid'] # 'str':'str' -- 칼럼이름으로 슬라이싱 **\n",
        "# df.loc[:,'rep'::2] # 'str':'str' -- 칼럼이름으로 스트라이딩 ** \n",
        "# df.loc[:,['att']] # [str]\n",
        "# df.loc[:,['att','rep']] # [str,str]\n",
        "# df.loc[:,[True,False,False,True]] # bool의 list"
      ],
      "id": "c996519f"
    },
    {
      "cell_type": "markdown",
      "metadata": {},
      "source": [
        "## 행의 선택\n",
        "\n",
        "`-` 방법1: `df[]` + int:int, str:str, \\[bool,bool\\],\n",
        "pd.Series(\\[bool,bool\\]) – $(\\star\\star\\star\\star\\star)$"
      ],
      "id": "afe1f714-06eb-4115-b942-d7c45cdce6c1"
    },
    {
      "cell_type": "code",
      "execution_count": 379,
      "metadata": {},
      "outputs": [],
      "source": [
        "# df[:2] # int:int -- 슬라이싱 // df.iloc[:2,:], df.iloc[:2] 와 같음\n",
        "# df[0:5:2] # int:int -- 스트라이딩 \n",
        "# df[:'2022-12312'] # str:str -- 슬라이싱 // df.loc[:'2022-12312'], df.loc[:'2022-12312',:] 와 같음\n",
        "# df[:'2022-12312':2] # str:str -- 스트라이딩\n",
        "# df[list(df.att < 70)] # [bool,bool]\n",
        "# df[df.att < 70] # pd.Series([bool,bool])"
      ],
      "id": "bfa1db85-d013-4cec-9bd5-201cfc83e3c2"
    },
    {
      "cell_type": "markdown",
      "metadata": {},
      "source": [
        "`-` 방법2: `df.iloc[]`, `df.iloc[,:]` + int, int:int, \\[int,int\\],\n",
        "\\[bool,bool\\], range"
      ],
      "id": "6f8e4a42-91dc-437b-ba66-efe41038a525"
    },
    {
      "cell_type": "code",
      "execution_count": 381,
      "metadata": {},
      "outputs": [],
      "source": [
        "# df.iloc[0] # int \n",
        "# df.iloc[-2:] # int:int -- 슬라이싱\n",
        "# df.iloc[1::2] # int:int -- 스트라이딩\n",
        "# df.iloc[[0]] # [int]\n",
        "# df.iloc[[0,1]] # [int,int]\n",
        "# df.iloc[[True]+[False]*19] # [bool,bool]\n",
        "# df.iloc[range(2)] # range"
      ],
      "id": "17edc896"
    },
    {
      "cell_type": "code",
      "execution_count": 384,
      "metadata": {},
      "outputs": [],
      "source": [
        "# df.iloc[0,:] # int \n",
        "# df.iloc[-2:,:] # int:int -- 슬라이싱\n",
        "# df.iloc[1::2,:] # int:int -- 스트라이딩\n",
        "# df.iloc[[0],:] # [int]\n",
        "# df.iloc[[0,1],:] # [int,int]\n",
        "# df.iloc[[True]+[False]*19,:] # [bool,bool]\n",
        "# df.iloc[range(2),:] # range"
      ],
      "id": "27c47db1"
    },
    {
      "cell_type": "markdown",
      "metadata": {},
      "source": [
        "`-` 방법3: `df.loc[]`, `df.loc[,:]` + int, str, int:int, str:str,\n",
        "\\[int,int\\], \\[str,str\\], \\[bool,bool\\], pd.Series(\\[bool,bool\\])"
      ],
      "id": "a0c0fa49-6a62-4e64-b3ce-5435ddd63c3c"
    },
    {
      "cell_type": "code",
      "execution_count": 415,
      "metadata": {},
      "outputs": [],
      "source": [
        "# df2.loc[0] # int \n",
        "# df.loc['2022-12380'] # str \n",
        "# df2.loc[:2] # int:int \n",
        "# df.loc[:'2022-12363'] # str:str \n",
        "# df2.loc[[0,1]] # [int,int]\n",
        "# df.loc[['2022-12380','2022-12370']] # [str,str]\n",
        "# df.loc[[True]+[False]*19] # [bool,bool]\n",
        "# df.loc[df.att>70] # pd.Series([bool,bool]) "
      ],
      "id": "6c6eec49"
    },
    {
      "cell_type": "code",
      "execution_count": 416,
      "metadata": {},
      "outputs": [],
      "source": [
        "# df2.loc[0,:] # int \n",
        "# df.loc['2022-12380',:] # str \n",
        "# df2.loc[:2,:] # int:int \n",
        "# df.loc[:'2022-12363',:] # str:str \n",
        "# df2.loc[[0,1],:] # [int,int]\n",
        "# df.loc[['2022-12380','2022-12370'],:] # [str,str]\n",
        "# df.loc[[True]+[False]*19,:] # [bool,bool]\n",
        "# df.loc[df.att>70,:] # pd.Series([bool,bool]) "
      ],
      "id": "14c52144-881a-4b4a-929c-99072c559905"
    },
    {
      "cell_type": "markdown",
      "metadata": {},
      "source": [
        "## 요약\n",
        "\n",
        "`-` 알아두면 좋은 규칙\n",
        "\n",
        "-   `.iloc[]` 와 `.iloc[,:]`는 완전히 동등하다.\n",
        "-   `.loc[]` 와 `.loc[,:]`는 완전히 동등하다.\n",
        "\n",
        "`-` 정리\n",
        "\n",
        "|     type of indexer      | target | `.` | `[]` | `.iloc` |  `.loc`  | comment |\n",
        "|:------------------------:|:------:|:---:|:----:|:-------:|:--------:|:-------:|\n",
        "|           int            |  row   |  X  |  X   |    O    | $\\Delta$ |         |\n",
        "|           int            |  col   |  X  |  X   |    O    |    X     |         |\n",
        "|           str            |  row   |  X  |  X   |    X    |    O     |         |\n",
        "|           str            |  col   |  O  |  O   |    X    |    O     |         |\n",
        "|         int:int          |  row   |  X  |  O   |    O    | $\\Delta$ |         |\n",
        "|         int:int          |  col   |  X  |  X   |    O    |    X     |         |\n",
        "|         str:str          |  row   |  X  |  O   |    X    |    O     |         |\n",
        "|         str:str          |  col   |  X  |  X   |    X    |    O     |         |\n",
        "|       \\[int,int\\]        |  row   |  X  |  X   |    O    | $\\Delta$ |         |\n",
        "|       \\[int,int\\]        |  col   |  X  |  X   |    O    |    X     |         |\n",
        "|       \\[str,str\\]        |  row   |  X  |  X   |    X    |    O     |         |\n",
        "|       \\[str,str\\]        |  col   |  X  |  O   |    X    |    O     |         |\n",
        "|      \\[bool,bool\\]       |  row   |  X  |  O   |    O    |    O     |         |\n",
        "|      \\[bool,bool\\]       |  col   |  X  |  X   |    O    |    O     |         |\n",
        "| pd.Series(\\[bool,bool\\]) |  row   |  X  |  O   |    X    |    O     |         |\n",
        "\n",
        "# Pandas: 제가 선호하는 행과 열의 선택\n",
        "\n",
        "## 제 스타일\n",
        "\n",
        "`-` **가장 안전한 코드**"
      ],
      "id": "8e5d5ac1-6081-45b4-afee-c7e7c7067cf1"
    },
    {
      "cell_type": "code",
      "execution_count": 65,
      "metadata": {},
      "outputs": [],
      "source": [
        "# df.loc[:,:]"
      ],
      "id": "ff90e607-a2af-4b4e-86d1-67a51bfb548e"
    },
    {
      "cell_type": "markdown",
      "metadata": {},
      "source": [
        "`-` 상황1: 하나의 col을 뽑으려 할때 좋은 코드"
      ],
      "id": "8946a20f-00cf-4d7d-be40-db4b47f1980e"
    },
    {
      "cell_type": "code",
      "execution_count": 286,
      "metadata": {},
      "outputs": [],
      "source": [
        "# df.att # 최애 \n",
        "# df['att'] # 차애 \n",
        "# df[['att']] # 차애의 대안"
      ],
      "id": "8659f013-12f9-40c3-9d1b-ee2b6a008789"
    },
    {
      "cell_type": "markdown",
      "metadata": {},
      "source": [
        "`-` 상황2: row 슬라이싱을 할때 좋은 코드 $(\\star\\star\\star)$"
      ],
      "id": "77d76518-13a7-40cc-bba9-00180093cd5d"
    },
    {
      "cell_type": "code",
      "execution_count": 73,
      "metadata": {},
      "outputs": [],
      "source": [
        "# df[:5] # 최애, df.iloc[:5]와 같다. \n",
        "# df[:'2022-12312'] # 차애, df.loc[:'2022-12312'] 와 같다"
      ],
      "id": "578579b3-ab7b-4409-bfc2-eac5aeb6125b"
    },
    {
      "cell_type": "markdown",
      "metadata": {},
      "source": [
        "`-` 상황3: 조건에 맞는 row를 뽑을때 좋은 코드"
      ],
      "id": "ddf8f189-9c00-44a8-a886-3b761dc5c9a0"
    },
    {
      "cell_type": "code",
      "execution_count": 304,
      "metadata": {},
      "outputs": [],
      "source": [
        "# df[df.att<60] # 최애\n",
        "# df[[att<60 for att in df.att]] # 차애"
      ],
      "id": "374952df-9c9f-49da-bbe5-ba59fa03c20d"
    },
    {
      "cell_type": "markdown",
      "metadata": {},
      "source": [
        "`-` 상황4: 하나의 row를 뽑으려 할때 좋은 코드"
      ],
      "id": "72f966a4-6972-4aab-9702-7f2bc9d70487"
    },
    {
      "cell_type": "code",
      "execution_count": 305,
      "metadata": {},
      "outputs": [],
      "source": [
        "# df.loc[0] # 최애\n",
        "# df.iloc[0] # 최애 \n",
        "# df.loc[[0]] # 최애의 대안\n",
        "# df.iloc[[0]] # 최애의 대안"
      ],
      "id": "b6c8c863-be85-4e6a-a275-f386df649297"
    },
    {
      "cell_type": "markdown",
      "metadata": {},
      "source": [
        "`-` 상황5: (row,col)을 뽑으려 할때 좋은 코드"
      ],
      "id": "74e9e719-7d2b-4e86-834e-5239fd3dd4ee"
    },
    {
      "cell_type": "code",
      "execution_count": 119,
      "metadata": {},
      "outputs": [],
      "source": [
        "# 방법1: pd.Series를 뽑고 -> 인덱스로접근\n",
        "# df.att[0]\n",
        "# df['att'][0]\n",
        "\n",
        "# 방법2: iloc, loc 으로 한번에 뽑기\n",
        "# df.iloc[0,0]\n",
        "# df.loc[0,'att']"
      ],
      "id": "6a3c5b60-63d7-4d00-8a52-d0bfa00b2cb5"
    },
    {
      "cell_type": "markdown",
      "metadata": {},
      "source": [
        "***위의 상황이외에는 `df.loc[:,:]`를 사용하는것이 유리하다***\n",
        "\n",
        "`-` 상황6: column 슬라이싱을 할때"
      ],
      "id": "d62e37a2-3906-4b14-8db2-322e0f1e4d0a"
    },
    {
      "cell_type": "code",
      "execution_count": 223,
      "metadata": {},
      "outputs": [],
      "source": [
        "# df.loc[:,'att':'mid'] # 끝점포함"
      ],
      "id": "bb01bd9d-a8ca-48ed-8727-5798cc0347bc"
    },
    {
      "cell_type": "markdown",
      "metadata": {},
      "source": [
        "`-` 상황7: row + column 슬라이싱을 하는 가장 좋은 코드"
      ],
      "id": "58bd72ff-2729-4be5-9705-81859c97a01b"
    },
    {
      "cell_type": "code",
      "execution_count": 224,
      "metadata": {},
      "outputs": [],
      "source": [
        "# df.loc[0:5,'att':'mid']"
      ],
      "id": "28b54ecb-9acf-47d3-9a62-c1d8cd3453ff"
    },
    {
      "cell_type": "markdown",
      "metadata": {},
      "source": [
        "`-` 상황8: 조건에 맞는 col을 뽑기에 가장 좋은 코드"
      ],
      "id": "94f21aa7-8c85-4c52-a436-0111de6b461f"
    },
    {
      "cell_type": "code",
      "execution_count": 226,
      "metadata": {},
      "outputs": [],
      "source": [
        "# df.loc[:,[len(col_name)>2 for col_name in df.columns]]"
      ],
      "id": "0bd34bc6-1054-45a2-bcbd-a6872f44b38e"
    },
    {
      "cell_type": "markdown",
      "metadata": {},
      "source": [
        "`-` 상황9: 조건에 맞는 row, col을 뽑기에 가장 좋은 코드"
      ],
      "id": "18e677a7-2700-448b-a05e-7a924d414e02"
    },
    {
      "cell_type": "code",
      "execution_count": 242,
      "metadata": {},
      "outputs": [],
      "source": [
        "# df.loc[df.att<60,[len(col_name)>2 for col_name in df.columns]]"
      ],
      "id": "e4a995cb-340a-4aa4-b286-9b6aff53c14e"
    },
    {
      "cell_type": "markdown",
      "metadata": {},
      "source": [
        "## 제 스타일 X\n",
        "\n",
        "`-` 제가 안쓰는 코드1"
      ],
      "id": "7756886a-86b7-4762-9488-4d68548712a2"
    },
    {
      "cell_type": "code",
      "execution_count": 125,
      "metadata": {},
      "outputs": [],
      "source": [
        "df[:1]"
      ],
      "id": "a6cd5736"
    },
    {
      "cell_type": "markdown",
      "metadata": {},
      "source": [
        "이러면 내 입장에서는 마치 아래가 동작할 것 같잖아.."
      ],
      "id": "62db623f-9496-4ffd-b3a1-2bf7d104060a"
    },
    {
      "cell_type": "code",
      "execution_count": 302,
      "metadata": {},
      "outputs": [],
      "source": [
        "df[0] "
      ],
      "id": "fdf15e20"
    },
    {
      "cell_type": "markdown",
      "metadata": {},
      "source": [
        "`-` 제가 안쓰는 코드2: bool의 list를 사용할때 iloc은 가급적 쓰지마세요"
      ],
      "id": "54ce01d6-29b8-4544-b42b-3a7feb096907"
    },
    {
      "cell_type": "code",
      "execution_count": 128,
      "metadata": {},
      "outputs": [],
      "source": [
        "df.iloc[list(df['att']<80),:]"
      ],
      "id": "6494de36"
    },
    {
      "cell_type": "markdown",
      "metadata": {},
      "source": [
        "이러면 마치 아래도 동작할 것 같잖아.."
      ],
      "id": "432fc167-7795-40a0-b59a-a7f1299e5781"
    },
    {
      "cell_type": "code",
      "execution_count": 419,
      "metadata": {},
      "outputs": [],
      "source": [
        "df.iloc[df['att']<80,:]"
      ],
      "id": "b46298e7"
    },
    {
      "cell_type": "markdown",
      "metadata": {},
      "source": [
        "# Quiz\n",
        "\n",
        "`(1)-(3)` 아래와 같은 자료를 고려하자."
      ],
      "id": "e6d6698c-18f0-4c99-ba58-1bfd199d2853"
    },
    {
      "cell_type": "code",
      "execution_count": 129,
      "metadata": {},
      "outputs": [],
      "source": [
        "df = pd.DataFrame(np.random.normal(size=(100,5)),columns=list('ABCDE'))\n",
        "df"
      ],
      "id": "00c887d0"
    },
    {
      "cell_type": "markdown",
      "metadata": {},
      "source": [
        "`(1)` B,D열을 선택하라.\n",
        "\n",
        "`(2)` 마지막 10개의 row를 출력하라.\n",
        "\n",
        "`(3)` A,B 열의 처음 10개의 row를 출력하라.\n",
        "\n",
        "`(4)-(8)` 아래와 같은 자료를 고려하자."
      ],
      "id": "95a35d9f-bdae-4c46-966d-25532f801f11"
    },
    {
      "cell_type": "code",
      "execution_count": 134,
      "metadata": {},
      "outputs": [],
      "source": [
        "df=pd.read_csv('https://raw.githubusercontent.com/PacktPublishing/Pandas-Cookbook/master/data/movie.csv')\n",
        "df"
      ],
      "id": "b42e10d7"
    },
    {
      "cell_type": "markdown",
      "metadata": {},
      "source": [
        "`(4)` 이 데이터프레임에는 몇개의 컬럼이 있는지 count하라.\n",
        "\n",
        "`(5)` 데이터프레임의 컬럼이름이 c혹은 d로 시작하는 열은 몇개 있는지\n",
        "세어보라.\n",
        "\n",
        "`(6)` c 혹은 d로 시작하는 열을 출력하라.\n",
        "\n",
        "`(7)` 이 데이터프레임에서 ’actor’라는 단어가 포함된 열의 출력하라.\n",
        "\n",
        "`(8)` 이 데이터프레임에서 ’\\_’ 가 포함된 열을 출력하라."
      ],
      "id": "5522a143-f0c0-4f77-8107-25c2f734d2d2"
    }
  ],
  "nbformat": 4,
  "nbformat_minor": 5,
  "metadata": {
    "kernelspec": {
      "name": "python3",
      "display_name": "Python 3 (ipykernel)",
      "language": "python"
    },
    "language_info": {
      "name": "python",
      "codemirror_mode": {
        "name": "ipython",
        "version": "3"
      },
      "file_extension": ".py",
      "mimetype": "text/x-python",
      "nbconvert_exporter": "python",
      "pygments_lexer": "ipython3",
      "version": "3.10.13"
    }
  }
}